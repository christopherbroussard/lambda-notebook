{
 "metadata": {
  "name": ""
 },
 "nbformat": 3,
 "nbformat_minor": 0,
 "worksheets": [
  {
   "cells": [
    {
     "cell_type": "code",
     "collapsed": false,
     "input": [
      "import lamb\n",
      "from lamb import *\n",
      "from lamb.tree_mini import Tree\n",
      "from lamb.utils import *\n",
      "import imp\n",
      "\n",
      "def reload_all():\n",
      "    imp.reload(lamb.utils)\n",
      "    imp.reload(lamb.types)\n",
      "    imp.reload(lamb.meta)\n",
      "    imp.reload(lamb.lang)\n",
      "    imp.reload(lamb.parsing)"
     ],
     "language": "python",
     "metadata": {},
     "outputs": [
      {
       "output_type": "stream",
       "stream": "stdout",
       "text": [
        "warning: coerced guessed type t for 'Cat' into <e,t>, to match argument 'x'\n",
        "warning: coerced guessed type t for 'Gray' into <e,t>, to match argument 'x'\n",
        "warning: coerced guessed type t for 'In' into <e,t>, to match argument 'y'\n",
        "warning: coerced guessed type t for 'In(y)' into <e,t>, to match argument 'x'\n"
       ]
      }
     ],
     "prompt_number": 1
    },
    {
     "cell_type": "code",
     "collapsed": false,
     "input": [
      "reload_all()"
     ],
     "language": "python",
     "metadata": {},
     "outputs": [
      {
       "output_type": "stream",
       "stream": "stdout",
       "text": [
        "warning: coerced guessed type t for 'Cat' into <e,t>, to match argument 'x'\n",
        "warning: coerced guessed type t for 'Gray' into <e,t>, to match argument 'x'\n",
        "warning: coerced guessed type t for 'In' into <e,t>, to match argument 'y'\n",
        "warning: coerced guessed type t for 'In(y)' into <e,t>, to match argument 'x'\n"
       ]
      }
     ],
     "prompt_number": 152
    },
    {
     "cell_type": "code",
     "collapsed": false,
     "input": [
      "composition_system = lang.hk3_system.copy()\n",
      "lang.set_system(composition_system)"
     ],
     "language": "python",
     "metadata": {},
     "outputs": [],
     "prompt_number": 153
    },
    {
     "cell_type": "code",
     "collapsed": false,
     "input": [
      "%%lamb reset\n",
      "||gray|| = lambda x_e : Gray(x)\n",
      "||cat|| = lambda x_e : Cat(x)\n",
      "||bill|| = Bill_e\n",
      "||likes|| = lambda x_e : lambda y_e : Likes(y,x)"
     ],
     "language": "python",
     "metadata": {},
     "outputs": [
      {
       "output_type": "stream",
       "stream": "stdout",
       "text": [
        "warning: coerced guessed type t for 'Gray' into <e,t>, to match argument 'x'\n",
        "warning: coerced guessed type t for 'Cat' into <e,t>, to match argument 'x'\n",
        "warning: coerced guessed type t for 'Likes' into <(e,e),t>, to match argument '(y, x)'\n"
       ]
      },
      {
       "latex": [
        "$|\\!|\\mathbf{\\text{gray}}|\\!|^{}_{\\langle{}e,t\\rangle{}} \\:=\\: \\lambda{} x_{e} \\: . \\: {Gray}({x}_{e})$<br />\n",
        "$|\\!|\\mathbf{\\text{cat}}|\\!|^{}_{\\langle{}e,t\\rangle{}} \\:=\\: \\lambda{} x_{e} \\: . \\: {Cat}({x}_{e})$<br />\n",
        "$|\\!|\\mathbf{\\text{bill}}|\\!|^{}_{e} \\:=\\: {Bill}_{e}$<br />\n",
        "$|\\!|\\mathbf{\\text{likes}}|\\!|^{}_{\\langle{}e,\\langle{}e,t\\rangle{}\\rangle{}} \\:=\\: \\lambda{} x_{e} \\: . \\: \\lambda{} y_{e} \\: . \\: {Likes}({y}_{e}, {x}_{e})$"
       ],
       "metadata": {},
       "output_type": "pyout",
       "prompt_number": 154,
       "text": [
        "$|\\!|\\mathbf{\\text{gray}}|\\!|^{}_{\\langle{}e,t\\rangle{}} \\:=\\: \\lambda{} x_{e} \\: . \\: {Gray}({x}_{e})$<br />\n",
        "$|\\!|\\mathbf{\\text{cat}}|\\!|^{}_{\\langle{}e,t\\rangle{}} \\:=\\: \\lambda{} x_{e} \\: . \\: {Cat}({x}_{e})$<br />\n",
        "$|\\!|\\mathbf{\\text{bill}}|\\!|^{}_{e} \\:=\\: {Bill}_{e}$<br />\n",
        "$|\\!|\\mathbf{\\text{likes}}|\\!|^{}_{\\langle{}e,\\langle{}e,t\\rangle{}\\rangle{}} \\:=\\: \\lambda{} x_{e} \\: . \\: \\lambda{} y_{e} \\: . \\: {Likes}({y}_{e}, {x}_{e})$"
       ]
      }
     ],
     "prompt_number": 154
    },
    {
     "cell_type": "code",
     "collapsed": false,
     "input": [
      "gray * cat"
     ],
     "language": "python",
     "metadata": {},
     "outputs": [
      {
       "latex": [
        "1 composition path.  Result:\n",
        "<br />&nbsp;&nbsp;&nbsp;&nbsp;$|\\!|\\mathbf{\\text{[gray cat]}}|\\!|^{}_{\\langle{}e,t\\rangle{}} \\:=\\: $$\\lambda{} x_{e} \\: . \\: ({Gray}({x}_{e}) \\wedge{} {Cat}({x}_{e}))$"
       ],
       "metadata": {},
       "output_type": "pyout",
       "prompt_number": 155,
       "text": [
        "CompositionTree('[gray cat]', [CompositionTree('gray', []), CompositionTree('cat', [])])"
       ]
      }
     ],
     "prompt_number": 155
    },
    {
     "cell_type": "markdown",
     "metadata": {},
     "source": [
      "Machinery for variable binding.  This takes two parts:\n",
      "\n",
      " * specialized Item classes for the binder and the trace.\n",
      " * code to actually perform predicate abstraction.  This version uses the meta-language assignment function."
     ]
    },
    {
     "cell_type": "code",
     "collapsed": false,
     "input": [
      "class Binder(lang.Item):\n",
      "    def __init__(self, index):\n",
      "        lang.Item.__init__(self, \"%i\" % index, None, index=index)\n",
      "\n",
      "class Trace(lang.Item):\n",
      "    def __init__(self, index, typ=None):\n",
      "        if typ is None:\n",
      "            typ = types.type_e\n",
      "        if index > 0:\n",
      "            name = \"t%i\" % index\n",
      "        else:\n",
      "            name = \"t\"\n",
      "        # Item constructor will set self.index\n",
      "        lang.Item.__init__(self, name, meta.TypedTerm(name, typ), index=index)  "
     ],
     "language": "python",
     "metadata": {},
     "outputs": [],
     "prompt_number": 144
    },
    {
     "cell_type": "code",
     "collapsed": false,
     "input": [
      "def tree_pa_fun(t, assignment=None):\n",
      "    binder = t[0]\n",
      "    if (binder.content is not None) or not binder.name.strip().isnumeric():\n",
      "        raise types.TypeMismatch(t, None, \"Predicate Abstraction\")\n",
      "    index = int(binder.name.strip())\n",
      "    vname = \"t%i\" % index\n",
      "    outer_vname = t[1].content.find_safe_variable()\n",
      "    new_a = lang.Assignment(assignment)\n",
      "    new_a.update({vname: lang.te(\"%s_e\" % outer_vname)})\n",
      "    f = meta.LFun(types.type_e, t[1].content.under_assignment(new_a), var=outer_vname)\n",
      "    return lang.BinaryComposite(t[0], t[1], f)\n",
      "\n",
      "pa_op = lang.TreeCompositionOp(\"PA\", tree_pa_fun, allow_none=True)\n",
      "lang.get_system().add_rule(pa_op)"
     ],
     "language": "python",
     "metadata": {},
     "outputs": [],
     "prompt_number": 145
    },
    {
     "cell_type": "code",
     "collapsed": false,
     "input": [
      "b = Binder(5)\n",
      "t = Trace(5)\n",
      "t"
     ],
     "language": "python",
     "metadata": {},
     "outputs": [
      {
       "latex": [
        "$|\\!|\\mathbf{\\text{t5}}|\\!|^{}_{e} \\:=\\: $${t5}_{e}$"
       ],
       "metadata": {},
       "output_type": "pyout",
       "prompt_number": 146,
       "text": [
        "||t5|| = t5"
       ]
      }
     ],
     "prompt_number": 146
    },
    {
     "cell_type": "code",
     "collapsed": false,
     "input": [
      "b * t"
     ],
     "language": "python",
     "metadata": {},
     "outputs": [
      {
       "latex": [
        "1 composition path.  Result:\n",
        "<br />&nbsp;&nbsp;&nbsp;&nbsp;$|\\!|\\mathbf{\\text{[5 t5]}}|\\!|^{}_{\\langle{}e,e\\rangle{}} \\:=\\: $$\\lambda{} x_{e} \\: . \\: {x}_{e}$"
       ],
       "metadata": {},
       "output_type": "pyout",
       "prompt_number": 147,
       "text": [
        "CompositionTree('[5 t5]', [CompositionTree('5', []), CompositionTree('t5', [])])"
       ]
      }
     ],
     "prompt_number": 147
    },
    {
     "cell_type": "code",
     "collapsed": false,
     "input": [
      "bill * (likes * t)"
     ],
     "language": "python",
     "metadata": {},
     "outputs": [
      {
       "latex": [
        "1 composition path.  Result:\n",
        "<br />&nbsp;&nbsp;&nbsp;&nbsp;$|\\!|\\mathbf{\\text{[bill [likes t5]]}}|\\!|^{}_{t} \\:=\\: $${Likes}({Bill}_{e}, {t5}_{e})$"
       ],
       "metadata": {},
       "output_type": "pyout",
       "prompt_number": 148,
       "text": [
        "CompositionTree('[bill [likes t5]]', [CompositionTree('bill', []), CompositionTree('[likes t5]', [CompositionTree('likes', []), CompositionTree('t5', [])])])"
       ]
      }
     ],
     "prompt_number": 148
    },
    {
     "cell_type": "code",
     "collapsed": false,
     "input": [
      "r = b * (bill * (likes * t))\n",
      "r.latex_step_tree(derivations=True)"
     ],
     "language": "python",
     "metadata": {},
     "outputs": [
      {
       "latex": [
        "1 composition path:<br /><table><tr><td style=\"vertical-align:bottom;padding:0px 10px\" align=\"center\"><table><tr><td style=\"vertical-align:bottom\"><table align=\"center\"><tr><td align=\"center\">$|\\!|\\mathbf{\\text{5}}|\\!|^{}$</td></tr><tr><td align=\"center\"><i>N/A</i></td></tr></table>\n",
        "</td><td style=\"vertical-align:bottom;padding-bottom:5px\">&nbsp;&nbsp;&nbsp;$\\circ$&nbsp;&nbsp;&nbsp;</td><td style=\"vertical-align:bottom\"><table><tr><td style=\"vertical-align:bottom;padding:0px 10px\" align=\"center\"><table><tr><td style=\"vertical-align:bottom\"><table align=\"center\"><tr><td align=\"center\">$|\\!|\\mathbf{\\text{bill}}|\\!|^{}_{e}$</td></tr><tr><td align=\"center\">${Bill}_{e}$</td></tr></table>\n",
        "</td><td style=\"vertical-align:bottom;padding-bottom:5px\">&nbsp;&nbsp;&nbsp;$\\circ$&nbsp;&nbsp;&nbsp;</td><td style=\"vertical-align:bottom\"><table><tr><td style=\"vertical-align:bottom;padding:0px 10px\" align=\"center\"><table><tr><td style=\"vertical-align:bottom\"><table style=\"margin-top:10px\"><tr><td style=\"vertical-align:bottom\" align=\"center\">$|\\!|\\mathbf{\\text{likes}}|\\!|^{}_{\\langle{}e,\\langle{}e,t\\rangle{}\\rangle{}}$</td></tr><tr><td style=\"vertical-align:bottom\" align=\"center\">$ = \\lambda{} x_{e} \\: . \\: \\lambda{} y_{e} \\: . \\: {Likes}({y}_{e}, {x}_{e})$</td></tr></table>\n",
        "</td><td style=\"vertical-align:bottom;padding-bottom:5px\">&nbsp;&nbsp;&nbsp;$\\circ$&nbsp;&nbsp;&nbsp;</td><td style=\"vertical-align:bottom\"><table style=\"margin-top:10px\"><tr><td style=\"vertical-align:bottom\" align=\"center\">$|\\!|\\mathbf{\\text{t5}}|\\!|^{}_{e}$</td></tr><tr><td style=\"vertical-align:bottom\" align=\"center\">$ = {t5}_{e}$</td></tr></table>\n",
        "</td></tr></table></td><td style=\"vertical-align:bottom;padding-bottom:5px;padding-left:10px\"><b>[FA/left]</b></td></tr><tr style=\"border-top: 1px solid #848482\"><td align=\"center\"><table style=\"margin-top:10px\"><tr><td style=\"vertical-align:bottom\" align=\"center\">$|\\!|\\mathbf{\\text{[likes t5]}}|\\!|^{}_{\\langle{}e,t\\rangle{}}$</td></tr><tr><td style=\"vertical-align:bottom\" align=\"center\"><table><tr><td style=\"padding-right:5px\"> $=$ </td><td style=\"align:center\">$[\\lambda{} x_{e} \\: . \\: \\lambda{} y_{e} \\: . \\: {Likes}({y}_{e}, {x}_{e})]({t5}_{e})$</td></tr><tr><td style=\"padding-right:5px\"> $=$ </td><td style=\"align:center\">$\\lambda{} y_{e} \\: . \\: {Likes}({y}_{e}, {t5}_{e})$</td></tr></table></td></tr></table>\n",
        "</td><td></td></tr></table>\n",
        "</td></tr></table></td><td style=\"vertical-align:bottom;padding-bottom:5px;padding-left:10px\"><b>[FA/right]</b></td></tr><tr style=\"border-top: 1px solid #848482\"><td align=\"center\"><table style=\"margin-top:10px\"><tr><td style=\"vertical-align:bottom\" align=\"center\">$|\\!|\\mathbf{\\text{[bill [likes t5]]}}|\\!|^{}_{t}$</td></tr><tr><td style=\"vertical-align:bottom\" align=\"center\"><table><tr><td style=\"padding-right:5px\"> $=$ </td><td style=\"align:center\">$[\\lambda{} y_{e} \\: . \\: {Likes}({y}_{e}, {t5}_{e})]({Bill}_{e})$</td></tr><tr><td style=\"padding-right:5px\"> $=$ </td><td style=\"align:center\">${Likes}({Bill}_{e}, {t5}_{e})$</td></tr></table></td></tr></table>\n",
        "</td><td></td></tr></table>\n",
        "</td></tr></table></td><td style=\"vertical-align:bottom;padding-bottom:5px;padding-left:10px\"><b>[PA]</b></td></tr><tr style=\"border-top: 1px solid #848482\"><td align=\"center\"><table style=\"margin-top:10px\"><tr><td style=\"vertical-align:bottom\" align=\"center\">$|\\!|\\mathbf{\\text{[5 [bill [likes t5]]]}}|\\!|^{}_{\\langle{}e,t\\rangle{}}$</td></tr><tr><td style=\"vertical-align:bottom\" align=\"center\">$ = \\lambda{} x_{e} \\: . \\: {Likes}({Bill}_{e}, {x}_{e})$</td></tr></table>\n",
        "</td><td></td></tr></table>\n",
        "<br /><br />"
       ],
       "metadata": {},
       "output_type": "pyout",
       "prompt_number": 116,
       "text": [
        "1 composition path:<br /><table><tr><td style=\"vertical-align:bottom;padding:0px 10px\" align=\"center\"><table><tr><td style=\"vertical-align:bottom\"><table align=\"center\"><tr><td align=\"center\">$|\\!|\\mathbf{\\text{5}}|\\!|^{}$</td></tr><tr><td align=\"center\"><i>N/A</i></td></tr></table>\n",
        "</td><td style=\"vertical-align:bottom;padding-bottom:5px\">&nbsp;&nbsp;&nbsp;$\\circ$&nbsp;&nbsp;&nbsp;</td><td style=\"vertical-align:bottom\"><table><tr><td style=\"vertical-align:bottom;padding:0px 10px\" align=\"center\"><table><tr><td style=\"vertical-align:bottom\"><table align=\"center\"><tr><td align=\"center\">$|\\!|\\mathbf{\\text{bill}}|\\!|^{}_{e}$</td></tr><tr><td align=\"center\">${Bill}_{e}$</td></tr></table>\n",
        "</td><td style=\"vertical-align:bottom;padding-bottom:5px\">&nbsp;&nbsp;&nbsp;$\\circ$&nbsp;&nbsp;&nbsp;</td><td style=\"vertical-align:bottom\"><table><tr><td style=\"vertical-align:bottom;padding:0px 10px\" align=\"center\"><table><tr><td style=\"vertical-align:bottom\"><table style=\"margin-top:10px\"><tr><td style=\"vertical-align:bottom\" align=\"center\">$|\\!|\\mathbf{\\text{likes}}|\\!|^{}_{\\langle{}e,\\langle{}e,t\\rangle{}\\rangle{}}$</td></tr><tr><td style=\"vertical-align:bottom\" align=\"center\">$ = \\lambda{} x_{e} \\: . \\: \\lambda{} y_{e} \\: . \\: {Likes}({y}_{e}, {x}_{e})$</td></tr></table>\n",
        "</td><td style=\"vertical-align:bottom;padding-bottom:5px\">&nbsp;&nbsp;&nbsp;$\\circ$&nbsp;&nbsp;&nbsp;</td><td style=\"vertical-align:bottom\"><table style=\"margin-top:10px\"><tr><td style=\"vertical-align:bottom\" align=\"center\">$|\\!|\\mathbf{\\text{t5}}|\\!|^{}_{e}$</td></tr><tr><td style=\"vertical-align:bottom\" align=\"center\">$ = {t5}_{e}$</td></tr></table>\n",
        "</td></tr></table></td><td style=\"vertical-align:bottom;padding-bottom:5px;padding-left:10px\"><b>[FA/left]</b></td></tr><tr style=\"border-top: 1px solid #848482\"><td align=\"center\"><table style=\"margin-top:10px\"><tr><td style=\"vertical-align:bottom\" align=\"center\">$|\\!|\\mathbf{\\text{[likes t5]}}|\\!|^{}_{\\langle{}e,t\\rangle{}}$</td></tr><tr><td style=\"vertical-align:bottom\" align=\"center\"><table><tr><td style=\"padding-right:5px\"> $=$ </td><td style=\"align:center\">$[\\lambda{} x_{e} \\: . \\: \\lambda{} y_{e} \\: . \\: {Likes}({y}_{e}, {x}_{e})]({t5}_{e})$</td></tr><tr><td style=\"padding-right:5px\"> $=$ </td><td style=\"align:center\">$\\lambda{} y_{e} \\: . \\: {Likes}({y}_{e}, {t5}_{e})$</td></tr></table></td></tr></table>\n",
        "</td><td></td></tr></table>\n",
        "</td></tr></table></td><td style=\"vertical-align:bottom;padding-bottom:5px;padding-left:10px\"><b>[FA/right]</b></td></tr><tr style=\"border-top: 1px solid #848482\"><td align=\"center\"><table style=\"margin-top:10px\"><tr><td style=\"vertical-align:bottom\" align=\"center\">$|\\!|\\mathbf{\\text{[bill [likes t5]]}}|\\!|^{}_{t}$</td></tr><tr><td style=\"vertical-align:bottom\" align=\"center\"><table><tr><td style=\"padding-right:5px\"> $=$ </td><td style=\"align:center\">$[\\lambda{} y_{e} \\: . \\: {Likes}({y}_{e}, {t5}_{e})]({Bill}_{e})$</td></tr><tr><td style=\"padding-right:5px\"> $=$ </td><td style=\"align:center\">${Likes}({Bill}_{e}, {t5}_{e})$</td></tr></table></td></tr></table>\n",
        "</td><td></td></tr></table>\n",
        "</td></tr></table></td><td style=\"vertical-align:bottom;padding-bottom:5px;padding-left:10px\"><b>[PA]</b></td></tr><tr style=\"border-top: 1px solid #848482\"><td align=\"center\"><table style=\"margin-top:10px\"><tr><td style=\"vertical-align:bottom\" align=\"center\">$|\\!|\\mathbf{\\text{[5 [bill [likes t5]]]}}|\\!|^{}_{\\langle{}e,t\\rangle{}}$</td></tr><tr><td style=\"vertical-align:bottom\" align=\"center\">$ = \\lambda{} x_{e} \\: . \\: {Likes}({Bill}_{e}, {x}_{e})$</td></tr></table>\n",
        "</td><td></td></tr></table>\n",
        "<br /><br />"
       ]
      }
     ],
     "prompt_number": 116
    },
    {
     "cell_type": "code",
     "collapsed": false,
     "input": [
      "r = gray * (cat * (b * (bill * (likes * t))))\n",
      "r"
     ],
     "language": "python",
     "metadata": {},
     "outputs": [
      {
       "latex": [
        "1 composition path.  Result:\n",
        "<br />&nbsp;&nbsp;&nbsp;&nbsp;$|\\!|\\mathbf{\\text{[gray [cat [5 [bill [likes t5]]]]]}}|\\!|^{}_{\\langle{}e,t\\rangle{}} \\:=\\: $$\\lambda{} x_{e} \\: . \\: ({Gray}({x}_{e}) \\wedge{} ({Cat}({x}_{e}) \\wedge{} {Likes}({Bill}_{e}, {x}_{e})))$"
       ],
       "metadata": {},
       "output_type": "pyout",
       "prompt_number": 120,
       "text": [
        "CompositionTree('[gray [cat [5 [bill [likes t5]]]]]', [CompositionTree('gray', []), CompositionTree('[cat [5 [bill [likes t5]]]]', [CompositionTree('cat', []), CompositionTree('[5 [bill [likes t5]]]', [CompositionTree('5', []), CompositionTree('[bill [likes t5]]', [CompositionTree('bill', []), CompositionTree('[likes t5]', [CompositionTree('likes', []), CompositionTree('t5', [])])])])])])"
       ]
      }
     ],
     "prompt_number": 120
    },
    {
     "cell_type": "code",
     "collapsed": false,
     "input": [
      "r.latex_step_tree()"
     ],
     "language": "python",
     "metadata": {},
     "outputs": [
      {
       "latex": [
        "1 composition path:<br /><table><tr><td style=\"vertical-align:bottom;padding:0px 10px\" align=\"center\"><table><tr><td style=\"vertical-align:bottom\"><table style=\"margin-top:10px\"><tr><td style=\"vertical-align:bottom\" align=\"center\">$|\\!|\\mathbf{\\text{gray}}|\\!|^{}_{\\langle{}e,t\\rangle{}}$</td></tr><tr><td style=\"vertical-align:bottom\" align=\"center\">$ = \\lambda{} x_{e} \\: . \\: {Gray}({x}_{e})$</td></tr></table>\n",
        "</td><td style=\"vertical-align:bottom;padding-bottom:5px\">&nbsp;&nbsp;&nbsp;$\\circ$&nbsp;&nbsp;&nbsp;</td><td style=\"vertical-align:bottom\"><table><tr><td style=\"vertical-align:bottom;padding:0px 10px\" align=\"center\"><table><tr><td style=\"vertical-align:bottom\"><table align=\"center\"><tr><td align=\"center\">$|\\!|\\mathbf{\\text{cat}}|\\!|^{}_{\\langle{}e,t\\rangle{}}$</td></tr><tr><td align=\"center\">$\\lambda{} x_{e} \\: . \\: {Cat}({x}_{e})$</td></tr></table>\n",
        "</td><td style=\"vertical-align:bottom;padding-bottom:5px\">&nbsp;&nbsp;&nbsp;$\\circ$&nbsp;&nbsp;&nbsp;</td><td style=\"vertical-align:bottom\"><table><tr><td style=\"vertical-align:bottom;padding:0px 10px\" align=\"center\"><table><tr><td style=\"vertical-align:bottom\"><table align=\"center\"><tr><td align=\"center\">$|\\!|\\mathbf{\\text{5}}|\\!|^{}$</td></tr><tr><td align=\"center\"><i>N/A</i></td></tr></table>\n",
        "</td><td style=\"vertical-align:bottom;padding-bottom:5px\">&nbsp;&nbsp;&nbsp;$\\circ$&nbsp;&nbsp;&nbsp;</td><td style=\"vertical-align:bottom\"><table><tr><td style=\"vertical-align:bottom;padding:0px 10px\" align=\"center\"><table><tr><td style=\"vertical-align:bottom\"><table align=\"center\"><tr><td align=\"center\">$|\\!|\\mathbf{\\text{bill}}|\\!|^{}_{e}$</td></tr><tr><td align=\"center\">${Bill}_{e}$</td></tr></table>\n",
        "</td><td style=\"vertical-align:bottom;padding-bottom:5px\">&nbsp;&nbsp;&nbsp;$\\circ$&nbsp;&nbsp;&nbsp;</td><td style=\"vertical-align:bottom\"><table><tr><td style=\"vertical-align:bottom;padding:0px 10px\" align=\"center\"><table><tr><td style=\"vertical-align:bottom\"><table style=\"margin-top:10px\"><tr><td style=\"vertical-align:bottom\" align=\"center\">$|\\!|\\mathbf{\\text{likes}}|\\!|^{}_{\\langle{}e,\\langle{}e,t\\rangle{}\\rangle{}}$</td></tr><tr><td style=\"vertical-align:bottom\" align=\"center\">$ = \\lambda{} x_{e} \\: . \\: \\lambda{} y_{e} \\: . \\: {Likes}({y}_{e}, {x}_{e})$</td></tr></table>\n",
        "</td><td style=\"vertical-align:bottom;padding-bottom:5px\">&nbsp;&nbsp;&nbsp;$\\circ$&nbsp;&nbsp;&nbsp;</td><td style=\"vertical-align:bottom\"><table style=\"margin-top:10px\"><tr><td style=\"vertical-align:bottom\" align=\"center\">$|\\!|\\mathbf{\\text{t5}}|\\!|^{}_{e}$</td></tr><tr><td style=\"vertical-align:bottom\" align=\"center\">$ = {t5}_{e}$</td></tr></table>\n",
        "</td></tr></table></td><td style=\"vertical-align:bottom;padding-bottom:5px;padding-left:10px\"><b>[FA/left]</b></td></tr><tr style=\"border-top: 1px solid #848482\"><td align=\"center\"><table style=\"margin-top:10px\"><tr><td style=\"vertical-align:bottom\" align=\"center\">$|\\!|\\mathbf{\\text{[likes t5]}}|\\!|^{}_{\\langle{}e,t\\rangle{}}$</td></tr><tr><td style=\"vertical-align:bottom\" align=\"center\">$ = \\lambda{} y_{e} \\: . \\: {Likes}({y}_{e}, {t5}_{e})$</td></tr></table>\n",
        "</td><td></td></tr></table>\n",
        "</td></tr></table></td><td style=\"vertical-align:bottom;padding-bottom:5px;padding-left:10px\"><b>[FA/right]</b></td></tr><tr style=\"border-top: 1px solid #848482\"><td align=\"center\"><table style=\"margin-top:10px\"><tr><td style=\"vertical-align:bottom\" align=\"center\">$|\\!|\\mathbf{\\text{[bill [likes t5]]}}|\\!|^{}_{t}$</td></tr><tr><td style=\"vertical-align:bottom\" align=\"center\">$ = {Likes}({Bill}_{e}, {t5}_{e})$</td></tr></table>\n",
        "</td><td></td></tr></table>\n",
        "</td></tr></table></td><td style=\"vertical-align:bottom;padding-bottom:5px;padding-left:10px\"><b>[PA]</b></td></tr><tr style=\"border-top: 1px solid #848482\"><td align=\"center\"><table style=\"margin-top:10px\"><tr><td style=\"vertical-align:bottom\" align=\"center\">$|\\!|\\mathbf{\\text{[5 [bill [likes t5]]]}}|\\!|^{}_{\\langle{}e,t\\rangle{}}$</td></tr><tr><td style=\"vertical-align:bottom\" align=\"center\">$ = \\lambda{} x_{e} \\: . \\: {Likes}({Bill}_{e}, {x}_{e})$</td></tr></table>\n",
        "</td><td></td></tr></table>\n",
        "</td></tr></table></td><td style=\"vertical-align:bottom;padding-bottom:5px;padding-left:10px\"><b>[PM]</b></td></tr><tr style=\"border-top: 1px solid #848482\"><td align=\"center\"><table style=\"margin-top:10px\"><tr><td style=\"vertical-align:bottom\" align=\"center\">$|\\!|\\mathbf{\\text{[cat [5 [bill [likes t5]]]]}}|\\!|^{}_{\\langle{}e,t\\rangle{}}$</td></tr><tr><td style=\"vertical-align:bottom\" align=\"center\">$ = \\lambda{} x_{e} \\: . \\: ({Cat}({x}_{e}) \\wedge{} {Likes}({Bill}_{e}, {x}_{e}))$</td></tr></table>\n",
        "</td><td></td></tr></table>\n",
        "</td></tr></table></td><td style=\"vertical-align:bottom;padding-bottom:5px;padding-left:10px\"><b>[PM]</b></td></tr><tr style=\"border-top: 1px solid #848482\"><td align=\"center\"><table style=\"margin-top:10px\"><tr><td style=\"vertical-align:bottom\" align=\"center\">$|\\!|\\mathbf{\\text{[gray [cat [5 [bill [likes t5]]]]]}}|\\!|^{}_{\\langle{}e,t\\rangle{}}$</td></tr><tr><td style=\"vertical-align:bottom\" align=\"center\">$ = \\lambda{} x_{e} \\: . \\: ({Gray}({x}_{e}) \\wedge{} ({Cat}({x}_{e}) \\wedge{} {Likes}({Bill}_{e}, {x}_{e})))$</td></tr></table>\n",
        "</td><td></td></tr></table>\n",
        "<br /><br />"
       ],
       "metadata": {},
       "output_type": "pyout",
       "prompt_number": 121,
       "text": [
        "1 composition path:<br /><table><tr><td style=\"vertical-align:bottom;padding:0px 10px\" align=\"center\"><table><tr><td style=\"vertical-align:bottom\"><table style=\"margin-top:10px\"><tr><td style=\"vertical-align:bottom\" align=\"center\">$|\\!|\\mathbf{\\text{gray}}|\\!|^{}_{\\langle{}e,t\\rangle{}}$</td></tr><tr><td style=\"vertical-align:bottom\" align=\"center\">$ = \\lambda{} x_{e} \\: . \\: {Gray}({x}_{e})$</td></tr></table>\n",
        "</td><td style=\"vertical-align:bottom;padding-bottom:5px\">&nbsp;&nbsp;&nbsp;$\\circ$&nbsp;&nbsp;&nbsp;</td><td style=\"vertical-align:bottom\"><table><tr><td style=\"vertical-align:bottom;padding:0px 10px\" align=\"center\"><table><tr><td style=\"vertical-align:bottom\"><table align=\"center\"><tr><td align=\"center\">$|\\!|\\mathbf{\\text{cat}}|\\!|^{}_{\\langle{}e,t\\rangle{}}$</td></tr><tr><td align=\"center\">$\\lambda{} x_{e} \\: . \\: {Cat}({x}_{e})$</td></tr></table>\n",
        "</td><td style=\"vertical-align:bottom;padding-bottom:5px\">&nbsp;&nbsp;&nbsp;$\\circ$&nbsp;&nbsp;&nbsp;</td><td style=\"vertical-align:bottom\"><table><tr><td style=\"vertical-align:bottom;padding:0px 10px\" align=\"center\"><table><tr><td style=\"vertical-align:bottom\"><table align=\"center\"><tr><td align=\"center\">$|\\!|\\mathbf{\\text{5}}|\\!|^{}$</td></tr><tr><td align=\"center\"><i>N/A</i></td></tr></table>\n",
        "</td><td style=\"vertical-align:bottom;padding-bottom:5px\">&nbsp;&nbsp;&nbsp;$\\circ$&nbsp;&nbsp;&nbsp;</td><td style=\"vertical-align:bottom\"><table><tr><td style=\"vertical-align:bottom;padding:0px 10px\" align=\"center\"><table><tr><td style=\"vertical-align:bottom\"><table align=\"center\"><tr><td align=\"center\">$|\\!|\\mathbf{\\text{bill}}|\\!|^{}_{e}$</td></tr><tr><td align=\"center\">${Bill}_{e}$</td></tr></table>\n",
        "</td><td style=\"vertical-align:bottom;padding-bottom:5px\">&nbsp;&nbsp;&nbsp;$\\circ$&nbsp;&nbsp;&nbsp;</td><td style=\"vertical-align:bottom\"><table><tr><td style=\"vertical-align:bottom;padding:0px 10px\" align=\"center\"><table><tr><td style=\"vertical-align:bottom\"><table style=\"margin-top:10px\"><tr><td style=\"vertical-align:bottom\" align=\"center\">$|\\!|\\mathbf{\\text{likes}}|\\!|^{}_{\\langle{}e,\\langle{}e,t\\rangle{}\\rangle{}}$</td></tr><tr><td style=\"vertical-align:bottom\" align=\"center\">$ = \\lambda{} x_{e} \\: . \\: \\lambda{} y_{e} \\: . \\: {Likes}({y}_{e}, {x}_{e})$</td></tr></table>\n",
        "</td><td style=\"vertical-align:bottom;padding-bottom:5px\">&nbsp;&nbsp;&nbsp;$\\circ$&nbsp;&nbsp;&nbsp;</td><td style=\"vertical-align:bottom\"><table style=\"margin-top:10px\"><tr><td style=\"vertical-align:bottom\" align=\"center\">$|\\!|\\mathbf{\\text{t5}}|\\!|^{}_{e}$</td></tr><tr><td style=\"vertical-align:bottom\" align=\"center\">$ = {t5}_{e}$</td></tr></table>\n",
        "</td></tr></table></td><td style=\"vertical-align:bottom;padding-bottom:5px;padding-left:10px\"><b>[FA/left]</b></td></tr><tr style=\"border-top: 1px solid #848482\"><td align=\"center\"><table style=\"margin-top:10px\"><tr><td style=\"vertical-align:bottom\" align=\"center\">$|\\!|\\mathbf{\\text{[likes t5]}}|\\!|^{}_{\\langle{}e,t\\rangle{}}$</td></tr><tr><td style=\"vertical-align:bottom\" align=\"center\">$ = \\lambda{} y_{e} \\: . \\: {Likes}({y}_{e}, {t5}_{e})$</td></tr></table>\n",
        "</td><td></td></tr></table>\n",
        "</td></tr></table></td><td style=\"vertical-align:bottom;padding-bottom:5px;padding-left:10px\"><b>[FA/right]</b></td></tr><tr style=\"border-top: 1px solid #848482\"><td align=\"center\"><table style=\"margin-top:10px\"><tr><td style=\"vertical-align:bottom\" align=\"center\">$|\\!|\\mathbf{\\text{[bill [likes t5]]}}|\\!|^{}_{t}$</td></tr><tr><td style=\"vertical-align:bottom\" align=\"center\">$ = {Likes}({Bill}_{e}, {t5}_{e})$</td></tr></table>\n",
        "</td><td></td></tr></table>\n",
        "</td></tr></table></td><td style=\"vertical-align:bottom;padding-bottom:5px;padding-left:10px\"><b>[PA]</b></td></tr><tr style=\"border-top: 1px solid #848482\"><td align=\"center\"><table style=\"margin-top:10px\"><tr><td style=\"vertical-align:bottom\" align=\"center\">$|\\!|\\mathbf{\\text{[5 [bill [likes t5]]]}}|\\!|^{}_{\\langle{}e,t\\rangle{}}$</td></tr><tr><td style=\"vertical-align:bottom\" align=\"center\">$ = \\lambda{} x_{e} \\: . \\: {Likes}({Bill}_{e}, {x}_{e})$</td></tr></table>\n",
        "</td><td></td></tr></table>\n",
        "</td></tr></table></td><td style=\"vertical-align:bottom;padding-bottom:5px;padding-left:10px\"><b>[PM]</b></td></tr><tr style=\"border-top: 1px solid #848482\"><td align=\"center\"><table style=\"margin-top:10px\"><tr><td style=\"vertical-align:bottom\" align=\"center\">$|\\!|\\mathbf{\\text{[cat [5 [bill [likes t5]]]]}}|\\!|^{}_{\\langle{}e,t\\rangle{}}$</td></tr><tr><td style=\"vertical-align:bottom\" align=\"center\">$ = \\lambda{} x_{e} \\: . \\: ({Cat}({x}_{e}) \\wedge{} {Likes}({Bill}_{e}, {x}_{e}))$</td></tr></table>\n",
        "</td><td></td></tr></table>\n",
        "</td></tr></table></td><td style=\"vertical-align:bottom;padding-bottom:5px;padding-left:10px\"><b>[PM]</b></td></tr><tr style=\"border-top: 1px solid #848482\"><td align=\"center\"><table style=\"margin-top:10px\"><tr><td style=\"vertical-align:bottom\" align=\"center\">$|\\!|\\mathbf{\\text{[gray [cat [5 [bill [likes t5]]]]]}}|\\!|^{}_{\\langle{}e,t\\rangle{}}$</td></tr><tr><td style=\"vertical-align:bottom\" align=\"center\">$ = \\lambda{} x_{e} \\: . \\: ({Gray}({x}_{e}) \\wedge{} ({Cat}({x}_{e}) \\wedge{} {Likes}({Bill}_{e}, {x}_{e})))$</td></tr></table>\n",
        "</td><td></td></tr></table>\n",
        "<br /><br />"
       ]
      }
     ],
     "prompt_number": 121
    },
    {
     "cell_type": "code",
     "collapsed": false,
     "input": [
      "%%lamb\n",
      "||mary|| = Mary_e\n",
      "||man|| = L x_e : Man(x)\n",
      "||book|| = L x_e : Book(x)\n",
      "||wrote|| = L x_e : L y_e : Wrote(y,x)\n",
      "||reviewed|| = L x_e : L y_e : Reviewed(y,x)\n",
      "||that|| = L p_t : p\n",
      "||such|| = L p_t : p\n",
      "||a|| = L f_<e,t> : L g_<e,<e,t>> : L y_e : Exists x_e : f(x) & g(x)(y)"
     ],
     "language": "python",
     "metadata": {},
     "outputs": [
      {
       "output_type": "stream",
       "stream": "stdout",
       "text": [
        "warning: coerced guessed type t for 'Man' into <e,t>, to match argument 'x'\n",
        "warning: coerced guessed type t for 'Book' into <e,t>, to match argument 'x'\n",
        "warning: coerced guessed type t for 'Wrote' into <(e,e),t>, to match argument '(y, x)'\n",
        "warning: coerced guessed type t for 'Reviewed' into <(e,e),t>, to match argument '(y, x)'\n"
       ]
      },
      {
       "latex": [
        "$|\\!|\\mathbf{\\text{mary}}|\\!|^{}_{e} \\:=\\: {Mary}_{e}$<br />\n",
        "$|\\!|\\mathbf{\\text{man}}|\\!|^{}_{\\langle{}e,t\\rangle{}} \\:=\\: \\lambda{} x_{e} \\: . \\: {Man}({x}_{e})$<br />\n",
        "$|\\!|\\mathbf{\\text{book}}|\\!|^{}_{\\langle{}e,t\\rangle{}} \\:=\\: \\lambda{} x_{e} \\: . \\: {Book}({x}_{e})$<br />\n",
        "$|\\!|\\mathbf{\\text{wrote}}|\\!|^{}_{\\langle{}e,\\langle{}e,t\\rangle{}\\rangle{}} \\:=\\: \\lambda{} x_{e} \\: . \\: \\lambda{} y_{e} \\: . \\: {Wrote}({y}_{e}, {x}_{e})$<br />\n",
        "$|\\!|\\mathbf{\\text{reviewed}}|\\!|^{}_{\\langle{}e,\\langle{}e,t\\rangle{}\\rangle{}} \\:=\\: \\lambda{} x_{e} \\: . \\: \\lambda{} y_{e} \\: . \\: {Reviewed}({y}_{e}, {x}_{e})$<br />\n",
        "$|\\!|\\mathbf{\\text{that}}|\\!|^{}_{\\langle{}t,t\\rangle{}} \\:=\\: \\lambda{} p_{t} \\: . \\: {p}_{t}$<br />\n",
        "$|\\!|\\mathbf{\\text{such}}|\\!|^{}_{\\langle{}t,t\\rangle{}} \\:=\\: \\lambda{} p_{t} \\: . \\: {p}_{t}$<br />\n",
        "$|\\!|\\mathbf{\\text{a}}|\\!|^{}_{\\langle{}\\langle{}e,t\\rangle{},\\langle{}\\langle{}e,\\langle{}e,t\\rangle{}\\rangle{},\\langle{}e,t\\rangle{}\\rangle{}\\rangle{}} \\:=\\: \\lambda{} f_{\\langle{}e,t\\rangle{}} \\: . \\: \\lambda{} g_{\\langle{}e,\\langle{}e,t\\rangle{}\\rangle{}} \\: . \\: \\lambda{} y_{e} \\: . \\: \\exists{} x_{e} \\: . \\: ({f}_{\\langle{}e,t\\rangle{}}({x}_{e}) \\wedge{} {g}_{\\langle{}e,\\langle{}e,t\\rangle{}\\rangle{}}({x}_{e})({y}_{e}))$"
       ],
       "metadata": {},
       "output_type": "pyout",
       "prompt_number": 149,
       "text": [
        "$|\\!|\\mathbf{\\text{mary}}|\\!|^{}_{e} \\:=\\: {Mary}_{e}$<br />\n",
        "$|\\!|\\mathbf{\\text{man}}|\\!|^{}_{\\langle{}e,t\\rangle{}} \\:=\\: \\lambda{} x_{e} \\: . \\: {Man}({x}_{e})$<br />\n",
        "$|\\!|\\mathbf{\\text{book}}|\\!|^{}_{\\langle{}e,t\\rangle{}} \\:=\\: \\lambda{} x_{e} \\: . \\: {Book}({x}_{e})$<br />\n",
        "$|\\!|\\mathbf{\\text{wrote}}|\\!|^{}_{\\langle{}e,\\langle{}e,t\\rangle{}\\rangle{}} \\:=\\: \\lambda{} x_{e} \\: . \\: \\lambda{} y_{e} \\: . \\: {Wrote}({y}_{e}, {x}_{e})$<br />\n",
        "$|\\!|\\mathbf{\\text{reviewed}}|\\!|^{}_{\\langle{}e,\\langle{}e,t\\rangle{}\\rangle{}} \\:=\\: \\lambda{} x_{e} \\: . \\: \\lambda{} y_{e} \\: . \\: {Reviewed}({y}_{e}, {x}_{e})$<br />\n",
        "$|\\!|\\mathbf{\\text{that}}|\\!|^{}_{\\langle{}t,t\\rangle{}} \\:=\\: \\lambda{} p_{t} \\: . \\: {p}_{t}$<br />\n",
        "$|\\!|\\mathbf{\\text{such}}|\\!|^{}_{\\langle{}t,t\\rangle{}} \\:=\\: \\lambda{} p_{t} \\: . \\: {p}_{t}$<br />\n",
        "$|\\!|\\mathbf{\\text{a}}|\\!|^{}_{\\langle{}\\langle{}e,t\\rangle{},\\langle{}\\langle{}e,\\langle{}e,t\\rangle{}\\rangle{},\\langle{}e,t\\rangle{}\\rangle{}\\rangle{}} \\:=\\: \\lambda{} f_{\\langle{}e,t\\rangle{}} \\: . \\: \\lambda{} g_{\\langle{}e,\\langle{}e,t\\rangle{}\\rangle{}} \\: . \\: \\lambda{} y_{e} \\: . \\: \\exists{} x_{e} \\: . \\: ({f}_{\\langle{}e,t\\rangle{}}({x}_{e}) \\wedge{} {g}_{\\langle{}e,\\langle{}e,t\\rangle{}\\rangle{}}({x}_{e})({y}_{e}))$"
       ]
      }
     ],
     "prompt_number": 149
    },
    {
     "cell_type": "code",
     "collapsed": false,
     "input": [
      "r = man * (Binder(2) * (such * (that * (mary * (reviewed * (a * (book * (Binder(1) * (Trace(2) * (wrote * Trace(1)))))))))))\n",
      "r"
     ],
     "language": "python",
     "metadata": {},
     "outputs": [
      {
       "latex": [
        "1 composition path.  Result:\n",
        "<br />&nbsp;&nbsp;&nbsp;&nbsp;$|\\!|\\mathbf{\\text{[man [2 [such [that [mary [reviewed [a [book [1 [t2 [wrote t1]]]]]]]]]]]}}|\\!|^{}_{\\langle{}e,t\\rangle{}} \\:=\\: $$\\lambda{} x_{e} \\: . \\: ({Man}({x}_{e}) \\wedge{} \\exists{} x2_{e} \\: . \\: (({Book}({x2}_{e}) \\wedge{} {Wrote}({x}_{e}, {x2}_{e})) \\wedge{} {Reviewed}({Mary}_{e}, {x2}_{e})))$"
       ],
       "metadata": {},
       "output_type": "pyout",
       "prompt_number": 150,
       "text": [
        "CompositionTree('[man [2 [such [that [mary [reviewed [a [book [1 [t2 [wrote t1]]]]]]]]]]]', [CompositionTree('man', []), CompositionTree('[2 [such [that [mary [reviewed [a [book [1 [t2 [wrote t1]]]]]]]]]]', [CompositionTree('2', []), CompositionTree('[such [that [mary [reviewed [a [book [1 [t2 [wrote t1]]]]]]]]]', [CompositionTree('such', []), CompositionTree('[that [mary [reviewed [a [book [1 [t2 [wrote t1]]]]]]]]', [CompositionTree('that', []), CompositionTree('[mary [reviewed [a [book [1 [t2 [wrote t1]]]]]]]', [CompositionTree('mary', []), CompositionTree('[reviewed [a [book [1 [t2 [wrote t1]]]]]]', [CompositionTree('reviewed', []), CompositionTree('[a [book [1 [t2 [wrote t1]]]]]', [CompositionTree('a', []), CompositionTree('[book [1 [t2 [wrote t1]]]]', [CompositionTree('book', []), CompositionTree('[1 [t2 [wrote t1]]]', [CompositionTree('1', []), CompositionTree('[t2 [wrote t1]]', [CompositionTree('t2', []), CompositionTree('[wrote t1]', [CompositionTree('wrote', []), CompositionTree('t1', [])])])])])])])])])])])])"
       ]
      }
     ],
     "prompt_number": 150
    },
    {
     "cell_type": "code",
     "collapsed": false,
     "input": [
      "r.latex_step_tree(derivations=True)"
     ],
     "language": "python",
     "metadata": {},
     "outputs": [
      {
       "latex": [
        "1 composition path:<br /><table><tr><td style=\"vertical-align:bottom;padding:0px 10px\" align=\"center\"><table><tr><td style=\"vertical-align:bottom\"><table style=\"margin-top:10px\"><tr><td style=\"vertical-align:bottom\" align=\"center\">$|\\!|\\mathbf{\\text{man}}|\\!|^{}_{\\langle{}e,t\\rangle{}}$</td></tr><tr><td style=\"vertical-align:bottom\" align=\"center\">$ = \\lambda{} x_{e} \\: . \\: {Man}({x}_{e})$</td></tr></table>\n",
        "</td><td style=\"vertical-align:bottom;padding-bottom:5px\">&nbsp;&nbsp;&nbsp;$\\circ$&nbsp;&nbsp;&nbsp;</td><td style=\"vertical-align:bottom\"><table><tr><td style=\"vertical-align:bottom;padding:0px 10px\" align=\"center\"><table><tr><td style=\"vertical-align:bottom\"><table align=\"center\"><tr><td align=\"center\">$|\\!|\\mathbf{\\text{2}}|\\!|^{}$</td></tr><tr><td align=\"center\"><i>N/A</i></td></tr></table>\n",
        "</td><td style=\"vertical-align:bottom;padding-bottom:5px\">&nbsp;&nbsp;&nbsp;$\\circ$&nbsp;&nbsp;&nbsp;</td><td style=\"vertical-align:bottom\"><table><tr><td style=\"vertical-align:bottom;padding:0px 10px\" align=\"center\"><table><tr><td style=\"vertical-align:bottom\"><table style=\"margin-top:10px\"><tr><td style=\"vertical-align:bottom\" align=\"center\">$|\\!|\\mathbf{\\text{such}}|\\!|^{}_{\\langle{}t,t\\rangle{}}$</td></tr><tr><td style=\"vertical-align:bottom\" align=\"center\">$ = \\lambda{} p_{t} \\: . \\: {p}_{t}$</td></tr></table>\n",
        "</td><td style=\"vertical-align:bottom;padding-bottom:5px\">&nbsp;&nbsp;&nbsp;$\\circ$&nbsp;&nbsp;&nbsp;</td><td style=\"vertical-align:bottom\"><table><tr><td style=\"vertical-align:bottom;padding:0px 10px\" align=\"center\"><table><tr><td style=\"vertical-align:bottom\"><table align=\"center\"><tr><td align=\"center\">$|\\!|\\mathbf{\\text{that}}|\\!|^{}_{\\langle{}t,t\\rangle{}}$</td></tr><tr><td align=\"center\">$\\lambda{} p_{t} \\: . \\: {p}_{t}$</td></tr></table>\n",
        "</td><td style=\"vertical-align:bottom;padding-bottom:5px\">&nbsp;&nbsp;&nbsp;$\\circ$&nbsp;&nbsp;&nbsp;</td><td style=\"vertical-align:bottom\"><table><tr><td style=\"vertical-align:bottom;padding:0px 10px\" align=\"center\"><table><tr><td style=\"vertical-align:bottom\"><table style=\"margin-top:10px\"><tr><td style=\"vertical-align:bottom\" align=\"center\">$|\\!|\\mathbf{\\text{mary}}|\\!|^{}_{e}$</td></tr><tr><td style=\"vertical-align:bottom\" align=\"center\">$ = {Mary}_{e}$</td></tr></table>\n",
        "</td><td style=\"vertical-align:bottom;padding-bottom:5px\">&nbsp;&nbsp;&nbsp;$\\circ$&nbsp;&nbsp;&nbsp;</td><td style=\"vertical-align:bottom\"><table><tr><td style=\"vertical-align:bottom;padding:0px 10px\" align=\"center\"><table><tr><td style=\"vertical-align:bottom\"><table align=\"center\"><tr><td align=\"center\">$|\\!|\\mathbf{\\text{reviewed}}|\\!|^{}_{\\langle{}e,\\langle{}e,t\\rangle{}\\rangle{}}$</td></tr><tr><td align=\"center\">$\\lambda{} x_{e} \\: . \\: \\lambda{} y_{e} \\: . \\: {Reviewed}({y}_{e}, {x}_{e})$</td></tr></table>\n",
        "</td><td style=\"vertical-align:bottom;padding-bottom:5px\">&nbsp;&nbsp;&nbsp;$\\circ$&nbsp;&nbsp;&nbsp;</td><td style=\"vertical-align:bottom\"><table><tr><td style=\"vertical-align:bottom;padding:0px 10px\" align=\"center\"><table><tr><td style=\"vertical-align:bottom\"><table style=\"margin-top:10px\"><tr><td style=\"vertical-align:bottom\" align=\"center\">$|\\!|\\mathbf{\\text{a}}|\\!|^{}_{\\langle{}\\langle{}e,t\\rangle{},\\langle{}\\langle{}e,\\langle{}e,t\\rangle{}\\rangle{},\\langle{}e,t\\rangle{}\\rangle{}\\rangle{}}$</td></tr><tr><td style=\"vertical-align:bottom\" align=\"center\">$ = \\lambda{} f_{\\langle{}e,t\\rangle{}} \\: . \\: \\lambda{} g_{\\langle{}e,\\langle{}e,t\\rangle{}\\rangle{}} \\: . \\: \\lambda{} y_{e} \\: . \\: \\exists{} x_{e} \\: . \\: ({f}_{\\langle{}e,t\\rangle{}}({x}_{e}) \\wedge{} {g}_{\\langle{}e,\\langle{}e,t\\rangle{}\\rangle{}}({x}_{e})({y}_{e}))$</td></tr></table>\n",
        "</td><td style=\"vertical-align:bottom;padding-bottom:5px\">&nbsp;&nbsp;&nbsp;$\\circ$&nbsp;&nbsp;&nbsp;</td><td style=\"vertical-align:bottom\"><table><tr><td style=\"vertical-align:bottom;padding:0px 10px\" align=\"center\"><table><tr><td style=\"vertical-align:bottom\"><table align=\"center\"><tr><td align=\"center\">$|\\!|\\mathbf{\\text{book}}|\\!|^{}_{\\langle{}e,t\\rangle{}}$</td></tr><tr><td align=\"center\">$\\lambda{} x_{e} \\: . \\: {Book}({x}_{e})$</td></tr></table>\n",
        "</td><td style=\"vertical-align:bottom;padding-bottom:5px\">&nbsp;&nbsp;&nbsp;$\\circ$&nbsp;&nbsp;&nbsp;</td><td style=\"vertical-align:bottom\"><table><tr><td style=\"vertical-align:bottom;padding:0px 10px\" align=\"center\"><table><tr><td style=\"vertical-align:bottom\"><table align=\"center\"><tr><td align=\"center\">$|\\!|\\mathbf{\\text{1}}|\\!|^{}$</td></tr><tr><td align=\"center\"><i>N/A</i></td></tr></table>\n",
        "</td><td style=\"vertical-align:bottom;padding-bottom:5px\">&nbsp;&nbsp;&nbsp;$\\circ$&nbsp;&nbsp;&nbsp;</td><td style=\"vertical-align:bottom\"><table><tr><td style=\"vertical-align:bottom;padding:0px 10px\" align=\"center\"><table><tr><td style=\"vertical-align:bottom\"><table align=\"center\"><tr><td align=\"center\">$|\\!|\\mathbf{\\text{t2}}|\\!|^{}_{e}$</td></tr><tr><td align=\"center\">${t2}_{e}$</td></tr></table>\n",
        "</td><td style=\"vertical-align:bottom;padding-bottom:5px\">&nbsp;&nbsp;&nbsp;$\\circ$&nbsp;&nbsp;&nbsp;</td><td style=\"vertical-align:bottom\"><table><tr><td style=\"vertical-align:bottom;padding:0px 10px\" align=\"center\"><table><tr><td style=\"vertical-align:bottom\"><table style=\"margin-top:10px\"><tr><td style=\"vertical-align:bottom\" align=\"center\">$|\\!|\\mathbf{\\text{wrote}}|\\!|^{}_{\\langle{}e,\\langle{}e,t\\rangle{}\\rangle{}}$</td></tr><tr><td style=\"vertical-align:bottom\" align=\"center\">$ = \\lambda{} x_{e} \\: . \\: \\lambda{} y_{e} \\: . \\: {Wrote}({y}_{e}, {x}_{e})$</td></tr></table>\n",
        "</td><td style=\"vertical-align:bottom;padding-bottom:5px\">&nbsp;&nbsp;&nbsp;$\\circ$&nbsp;&nbsp;&nbsp;</td><td style=\"vertical-align:bottom\"><table style=\"margin-top:10px\"><tr><td style=\"vertical-align:bottom\" align=\"center\">$|\\!|\\mathbf{\\text{t1}}|\\!|^{}_{e}$</td></tr><tr><td style=\"vertical-align:bottom\" align=\"center\">$ = {t1}_{e}$</td></tr></table>\n",
        "</td></tr></table></td><td style=\"vertical-align:bottom;padding-bottom:5px;padding-left:10px\"><b>[FA/left]</b></td></tr><tr style=\"border-top: 1px solid #848482\"><td align=\"center\"><table style=\"margin-top:10px\"><tr><td style=\"vertical-align:bottom\" align=\"center\">$|\\!|\\mathbf{\\text{[wrote t1]}}|\\!|^{}_{\\langle{}e,t\\rangle{}}$</td></tr><tr><td style=\"vertical-align:bottom\" align=\"center\"><table><tr><td style=\"padding-right:5px\"> $=$ </td><td style=\"align:center\">$[\\lambda{} x_{e} \\: . \\: \\lambda{} y_{e} \\: . \\: {Wrote}({y}_{e}, {x}_{e})]({t1}_{e})$</td></tr><tr><td style=\"padding-right:5px\"> $=$ </td><td style=\"align:center\">$\\lambda{} y_{e} \\: . \\: {Wrote}({y}_{e}, {t1}_{e})$</td></tr></table></td></tr></table>\n",
        "</td><td></td></tr></table>\n",
        "</td></tr></table></td><td style=\"vertical-align:bottom;padding-bottom:5px;padding-left:10px\"><b>[FA/right]</b></td></tr><tr style=\"border-top: 1px solid #848482\"><td align=\"center\"><table style=\"margin-top:10px\"><tr><td style=\"vertical-align:bottom\" align=\"center\">$|\\!|\\mathbf{\\text{[t2 [wrote t1]]}}|\\!|^{}_{t}$</td></tr><tr><td style=\"vertical-align:bottom\" align=\"center\"><table><tr><td style=\"padding-right:5px\"> $=$ </td><td style=\"align:center\">$[\\lambda{} y_{e} \\: . \\: {Wrote}({y}_{e}, {t1}_{e})]({t2}_{e})$</td></tr><tr><td style=\"padding-right:5px\"> $=$ </td><td style=\"align:center\">${Wrote}({t2}_{e}, {t1}_{e})$</td></tr></table></td></tr></table>\n",
        "</td><td></td></tr></table>\n",
        "</td></tr></table></td><td style=\"vertical-align:bottom;padding-bottom:5px;padding-left:10px\"><b>[PA]</b></td></tr><tr style=\"border-top: 1px solid #848482\"><td align=\"center\"><table style=\"margin-top:10px\"><tr><td style=\"vertical-align:bottom\" align=\"center\">$|\\!|\\mathbf{\\text{[1 [t2 [wrote t1]]]}}|\\!|^{}_{\\langle{}e,t\\rangle{}}$</td></tr><tr><td style=\"vertical-align:bottom\" align=\"center\">$ = \\lambda{} x_{e} \\: . \\: {Wrote}({t2}_{e}, {x}_{e})$</td></tr></table>\n",
        "</td><td></td></tr></table>\n",
        "</td></tr></table></td><td style=\"vertical-align:bottom;padding-bottom:5px;padding-left:10px\"><b>[PM]</b></td></tr><tr style=\"border-top: 1px solid #848482\"><td align=\"center\"><table style=\"margin-top:10px\"><tr><td style=\"vertical-align:bottom\" align=\"center\">$|\\!|\\mathbf{\\text{[book [1 [t2 [wrote t1]]]]}}|\\!|^{}_{\\langle{}e,t\\rangle{}}$</td></tr><tr><td style=\"vertical-align:bottom\" align=\"center\"><table><tr><td style=\"padding-right:5px\"> $=$ </td><td style=\"align:center\">$[\\lambda{} f_{\\langle{}e,t\\rangle{}} \\: . \\: \\lambda{} g_{\\langle{}e,t\\rangle{}} \\: . \\: \\lambda{} x_{e} \\: . \\: ({f}_{\\langle{}e,t\\rangle{}}({x}_{e}) \\wedge{} {g}_{\\langle{}e,t\\rangle{}}({x}_{e}))](\\lambda{} x_{e} \\: . \\: {Book}({x}_{e}))(\\lambda{} x_{e} \\: . \\: {Wrote}({t2}_{e}, {x}_{e}))$</td></tr><tr><td style=\"padding-right:5px\"> $=$ </td><td style=\"align:center\">$[\\lambda{} g_{\\langle{}e,t\\rangle{}} \\: . \\: \\lambda{} x_{e} \\: . \\: ({Book}({x}_{e}) \\wedge{} {g}_{\\langle{}e,t\\rangle{}}({x}_{e}))](\\lambda{} x_{e} \\: . \\: {Wrote}({t2}_{e}, {x}_{e}))$</td></tr><tr><td style=\"padding-right:5px\"> $=$ </td><td style=\"align:center\">$\\lambda{} x_{e} \\: . \\: ({Book}({x}_{e}) \\wedge{} [\\lambda{} x_{e} \\: . \\: {Wrote}({t2}_{e}, {x}_{e})]({x}_{e}))$</td></tr><tr><td style=\"padding-right:5px\"> $=$ </td><td style=\"align:center\">$\\lambda{} x_{e} \\: . \\: ({Book}({x}_{e}) \\wedge{} {Wrote}({t2}_{e}, {x}_{e}))$</td></tr></table></td></tr></table>\n",
        "</td><td></td></tr></table>\n",
        "</td></tr></table></td><td style=\"vertical-align:bottom;padding-bottom:5px;padding-left:10px\"><b>[FA/left]</b></td></tr><tr style=\"border-top: 1px solid #848482\"><td align=\"center\"><table style=\"margin-top:10px\"><tr><td style=\"vertical-align:bottom\" align=\"center\">$|\\!|\\mathbf{\\text{[a [book [1 [t2 [wrote t1]]]]]}}|\\!|^{}_{\\langle{}\\langle{}e,\\langle{}e,t\\rangle{}\\rangle{},\\langle{}e,t\\rangle{}\\rangle{}}$</td></tr><tr><td style=\"vertical-align:bottom\" align=\"center\"><table><tr><td style=\"padding-right:5px\"> $=$ </td><td style=\"align:center\">$[\\lambda{} f_{\\langle{}e,t\\rangle{}} \\: . \\: \\lambda{} g_{\\langle{}e,\\langle{}e,t\\rangle{}\\rangle{}} \\: . \\: \\lambda{} y_{e} \\: . \\: \\exists{} x_{e} \\: . \\: ({f}_{\\langle{}e,t\\rangle{}}({x}_{e}) \\wedge{} {g}_{\\langle{}e,\\langle{}e,t\\rangle{}\\rangle{}}({x}_{e})({y}_{e}))](\\lambda{} x_{e} \\: . \\: ({Book}({x}_{e}) \\wedge{} {Wrote}({t2}_{e}, {x}_{e})))$</td></tr><tr><td style=\"padding-right:5px\"> $=$ </td><td style=\"align:center\">$\\lambda{} g_{\\langle{}e,\\langle{}e,t\\rangle{}\\rangle{}} \\: . \\: \\lambda{} y_{e} \\: . \\: \\exists{} x_{e} \\: . \\: ([\\lambda{} x_{e} \\: . \\: ({Book}({x}_{e}) \\wedge{} {Wrote}({t2}_{e}, {x}_{e}))]({x}_{e}) \\wedge{} {g}_{\\langle{}e,\\langle{}e,t\\rangle{}\\rangle{}}({x}_{e})({y}_{e}))$</td></tr></table></td></tr></table>\n",
        "</td><td></td></tr></table>\n",
        "</td></tr></table></td><td style=\"vertical-align:bottom;padding-bottom:5px;padding-left:10px\"><b>[FA/right]</b></td></tr><tr style=\"border-top: 1px solid #848482\"><td align=\"center\"><table style=\"margin-top:10px\"><tr><td style=\"vertical-align:bottom\" align=\"center\">$|\\!|\\mathbf{\\text{[reviewed [a [book [1 [t2 [wrote t1]]]]]]}}|\\!|^{}_{\\langle{}e,t\\rangle{}}$</td></tr><tr><td style=\"vertical-align:bottom\" align=\"center\"><table><tr><td style=\"padding-right:5px\"> $=$ </td><td style=\"align:center\">$[\\lambda{} g_{\\langle{}e,\\langle{}e,t\\rangle{}\\rangle{}} \\: . \\: \\lambda{} y_{e} \\: . \\: \\exists{} x_{e} \\: . \\: ([\\lambda{} x_{e} \\: . \\: ({Book}({x}_{e}) \\wedge{} {Wrote}({t2}_{e}, {x}_{e}))]({x}_{e}) \\wedge{} {g}_{\\langle{}e,\\langle{}e,t\\rangle{}\\rangle{}}({x}_{e})({y}_{e}))](\\lambda{} x_{e} \\: . \\: \\lambda{} y_{e} \\: . \\: {Reviewed}({y}_{e}, {x}_{e}))$</td></tr><tr><td style=\"padding-right:5px\"> $=$ </td><td style=\"align:center\">$\\lambda{} y_{e} \\: . \\: \\exists{} x_{e} \\: . \\: ([\\lambda{} x_{e} \\: . \\: ({Book}({x}_{e}) \\wedge{} {Wrote}({t2}_{e}, {x}_{e}))]({x}_{e}) \\wedge{} [\\lambda{} x_{e} \\: . \\: \\lambda{} y_{e} \\: . \\: {Reviewed}({y}_{e}, {x}_{e})]({x}_{e})({y}_{e}))$</td></tr></table></td></tr></table>\n",
        "</td><td></td></tr></table>\n",
        "</td></tr></table></td><td style=\"vertical-align:bottom;padding-bottom:5px;padding-left:10px\"><b>[FA/right]</b></td></tr><tr style=\"border-top: 1px solid #848482\"><td align=\"center\"><table style=\"margin-top:10px\"><tr><td style=\"vertical-align:bottom\" align=\"center\">$|\\!|\\mathbf{\\text{[mary [reviewed [a [book [1 [t2 [wrote t1]]]]]]]}}|\\!|^{}_{t}$</td></tr><tr><td style=\"vertical-align:bottom\" align=\"center\"><table><tr><td style=\"padding-right:5px\"> $=$ </td><td style=\"align:center\">$[\\lambda{} y_{e} \\: . \\: \\exists{} x_{e} \\: . \\: ([\\lambda{} x_{e} \\: . \\: ({Book}({x}_{e}) \\wedge{} {Wrote}({t2}_{e}, {x}_{e}))]({x}_{e}) \\wedge{} [\\lambda{} x_{e} \\: . \\: \\lambda{} y_{e} \\: . \\: {Reviewed}({y}_{e}, {x}_{e})]({x}_{e})({y}_{e}))]({Mary}_{e})$</td></tr><tr><td style=\"padding-right:5px\"> $=$ </td><td style=\"align:center\">$\\exists{} x_{e} \\: . \\: ([\\lambda{} x_{e} \\: . \\: ({Book}({x}_{e}) \\wedge{} {Wrote}({t2}_{e}, {x}_{e}))]({x}_{e}) \\wedge{} [\\lambda{} x_{e} \\: . \\: \\lambda{} y_{e} \\: . \\: {Reviewed}({y}_{e}, {x}_{e})]({x}_{e})({Mary}_{e}))$</td></tr></table></td></tr></table>\n",
        "</td><td></td></tr></table>\n",
        "</td></tr></table></td><td style=\"vertical-align:bottom;padding-bottom:5px;padding-left:10px\"><b>[FA/left]</b></td></tr><tr style=\"border-top: 1px solid #848482\"><td align=\"center\"><table style=\"margin-top:10px\"><tr><td style=\"vertical-align:bottom\" align=\"center\">$|\\!|\\mathbf{\\text{[that [mary [reviewed [a [book [1 [t2 [wrote t1]]]]]]]]}}|\\!|^{}_{t}$</td></tr><tr><td style=\"vertical-align:bottom\" align=\"center\"><table><tr><td style=\"padding-right:5px\"> $=$ </td><td style=\"align:center\">$[\\lambda{} p_{t} \\: . \\: {p}_{t}](\\exists{} x_{e} \\: . \\: ([\\lambda{} x_{e} \\: . \\: ({Book}({x}_{e}) \\wedge{} {Wrote}({t2}_{e}, {x}_{e}))]({x}_{e}) \\wedge{} [\\lambda{} x_{e} \\: . \\: \\lambda{} y_{e} \\: . \\: {Reviewed}({y}_{e}, {x}_{e})]({x}_{e})({Mary}_{e})))$</td></tr><tr><td style=\"padding-right:5px\"> $=$ </td><td style=\"align:center\">$\\exists{} x_{e} \\: . \\: ([\\lambda{} x_{e} \\: . \\: ({Book}({x}_{e}) \\wedge{} {Wrote}({t2}_{e}, {x}_{e}))]({x}_{e}) \\wedge{} [\\lambda{} x_{e} \\: . \\: \\lambda{} y_{e} \\: . \\: {Reviewed}({y}_{e}, {x}_{e})]({x}_{e})({Mary}_{e}))$</td></tr></table></td></tr></table>\n",
        "</td><td></td></tr></table>\n",
        "</td></tr></table></td><td style=\"vertical-align:bottom;padding-bottom:5px;padding-left:10px\"><b>[FA/left]</b></td></tr><tr style=\"border-top: 1px solid #848482\"><td align=\"center\"><table style=\"margin-top:10px\"><tr><td style=\"vertical-align:bottom\" align=\"center\">$|\\!|\\mathbf{\\text{[such [that [mary [reviewed [a [book [1 [t2 [wrote t1]]]]]]]]]}}|\\!|^{}_{t}$</td></tr><tr><td style=\"vertical-align:bottom\" align=\"center\"><table><tr><td style=\"padding-right:5px\"> $=$ </td><td style=\"align:center\">$[\\lambda{} p_{t} \\: . \\: {p}_{t}](\\exists{} x_{e} \\: . \\: ([\\lambda{} x_{e} \\: . \\: ({Book}({x}_{e}) \\wedge{} {Wrote}({t2}_{e}, {x}_{e}))]({x}_{e}) \\wedge{} [\\lambda{} x_{e} \\: . \\: \\lambda{} y_{e} \\: . \\: {Reviewed}({y}_{e}, {x}_{e})]({x}_{e})({Mary}_{e})))$</td></tr><tr><td style=\"padding-right:5px\"> $=$ </td><td style=\"align:center\">$\\exists{} x_{e} \\: . \\: ([\\lambda{} x_{e} \\: . \\: ({Book}({x}_{e}) \\wedge{} {Wrote}({t2}_{e}, {x}_{e}))]({x}_{e}) \\wedge{} [\\lambda{} x_{e} \\: . \\: \\lambda{} y_{e} \\: . \\: {Reviewed}({y}_{e}, {x}_{e})]({x}_{e})({Mary}_{e}))$</td></tr></table></td></tr></table>\n",
        "</td><td></td></tr></table>\n",
        "</td></tr></table></td><td style=\"vertical-align:bottom;padding-bottom:5px;padding-left:10px\"><b>[PA]</b></td></tr><tr style=\"border-top: 1px solid #848482\"><td align=\"center\"><table style=\"margin-top:10px\"><tr><td style=\"vertical-align:bottom\" align=\"center\">$|\\!|\\mathbf{\\text{[2 [such [that [mary [reviewed [a [book [1 [t2 [wrote t1]]]]]]]]]]}}|\\!|^{}_{\\langle{}e,t\\rangle{}}$</td></tr><tr><td style=\"vertical-align:bottom\" align=\"center\">$ = \\lambda{} x1_{e} \\: . \\: \\exists{} x_{e} \\: . \\: ([\\lambda{} x_{e} \\: . \\: ({Book}({x}_{e}) \\wedge{} {Wrote}({x1}_{e}, {x}_{e}))]({x}_{e}) \\wedge{} [\\lambda{} x_{e} \\: . \\: \\lambda{} y_{e} \\: . \\: {Reviewed}({y}_{e}, {x}_{e})]({x}_{e})({Mary}_{e}))$</td></tr></table>\n",
        "</td><td></td></tr></table>\n",
        "</td></tr></table></td><td style=\"vertical-align:bottom;padding-bottom:5px;padding-left:10px\"><b>[PM]</b></td></tr><tr style=\"border-top: 1px solid #848482\"><td align=\"center\"><table style=\"margin-top:10px\"><tr><td style=\"vertical-align:bottom\" align=\"center\">$|\\!|\\mathbf{\\text{[man [2 [such [that [mary [reviewed [a [book [1 [t2 [wrote t1]]]]]]]]]]]}}|\\!|^{}_{\\langle{}e,t\\rangle{}}$</td></tr><tr><td style=\"vertical-align:bottom\" align=\"center\"><table><tr><td style=\"padding-right:5px\"> $=$ </td><td style=\"align:center\">$[\\lambda{} f_{\\langle{}e,t\\rangle{}} \\: . \\: \\lambda{} g_{\\langle{}e,t\\rangle{}} \\: . \\: \\lambda{} x_{e} \\: . \\: ({f}_{\\langle{}e,t\\rangle{}}({x}_{e}) \\wedge{} {g}_{\\langle{}e,t\\rangle{}}({x}_{e}))](\\lambda{} x_{e} \\: . \\: {Man}({x}_{e}))(\\lambda{} x1_{e} \\: . \\: \\exists{} x_{e} \\: . \\: ([\\lambda{} x_{e} \\: . \\: ({Book}({x}_{e}) \\wedge{} {Wrote}({x1}_{e}, {x}_{e}))]({x}_{e}) \\wedge{} [\\lambda{} x_{e} \\: . \\: \\lambda{} y_{e} \\: . \\: {Reviewed}({y}_{e}, {x}_{e})]({x}_{e})({Mary}_{e})))$</td></tr><tr><td style=\"padding-right:5px\"> $=$ </td><td style=\"align:center\">$[\\lambda{} g_{\\langle{}e,t\\rangle{}} \\: . \\: \\lambda{} x_{e} \\: . \\: ({Man}({x}_{e}) \\wedge{} {g}_{\\langle{}e,t\\rangle{}}({x}_{e}))](\\lambda{} x1_{e} \\: . \\: \\exists{} x_{e} \\: . \\: ([\\lambda{} x_{e} \\: . \\: ({Book}({x}_{e}) \\wedge{} {Wrote}({x1}_{e}, {x}_{e}))]({x}_{e}) \\wedge{} [\\lambda{} x_{e} \\: . \\: \\lambda{} y_{e} \\: . \\: {Reviewed}({y}_{e}, {x}_{e})]({x}_{e})({Mary}_{e})))$</td></tr><tr><td style=\"padding-right:5px\"> $=$ </td><td style=\"align:center\">$\\lambda{} x_{e} \\: . \\: ({Man}({x}_{e}) \\wedge{} [\\lambda{} x1_{e} \\: . \\: \\exists{} x_{e} \\: . \\: ([\\lambda{} x_{e} \\: . \\: ({Book}({x}_{e}) \\wedge{} {Wrote}({x1}_{e}, {x}_{e}))]({x}_{e}) \\wedge{} [\\lambda{} x_{e} \\: . \\: \\lambda{} y_{e} \\: . \\: {Reviewed}({y}_{e}, {x}_{e})]({x}_{e})({Mary}_{e}))]({x}_{e}))$</td></tr><tr><td style=\"padding-right:5px\"> $=$ </td><td style=\"align:center\">$\\lambda{} x_{e} \\: . \\: ({Man}({x}_{e}) \\wedge{} \\exists{} x2_{e} \\: . \\: (({Book}({x2}_{e}) \\wedge{} {Wrote}({x}_{e}, {x2}_{e})) \\wedge{} {Reviewed}({Mary}_{e}, {x2}_{e})))$</td></tr></table></td></tr></table>\n",
        "</td><td></td></tr></table>\n",
        "<br /><br />"
       ],
       "metadata": {},
       "output_type": "pyout",
       "prompt_number": 151,
       "text": [
        "1 composition path:<br /><table><tr><td style=\"vertical-align:bottom;padding:0px 10px\" align=\"center\"><table><tr><td style=\"vertical-align:bottom\"><table style=\"margin-top:10px\"><tr><td style=\"vertical-align:bottom\" align=\"center\">$|\\!|\\mathbf{\\text{man}}|\\!|^{}_{\\langle{}e,t\\rangle{}}$</td></tr><tr><td style=\"vertical-align:bottom\" align=\"center\">$ = \\lambda{} x_{e} \\: . \\: {Man}({x}_{e})$</td></tr></table>\n",
        "</td><td style=\"vertical-align:bottom;padding-bottom:5px\">&nbsp;&nbsp;&nbsp;$\\circ$&nbsp;&nbsp;&nbsp;</td><td style=\"vertical-align:bottom\"><table><tr><td style=\"vertical-align:bottom;padding:0px 10px\" align=\"center\"><table><tr><td style=\"vertical-align:bottom\"><table align=\"center\"><tr><td align=\"center\">$|\\!|\\mathbf{\\text{2}}|\\!|^{}$</td></tr><tr><td align=\"center\"><i>N/A</i></td></tr></table>\n",
        "</td><td style=\"vertical-align:bottom;padding-bottom:5px\">&nbsp;&nbsp;&nbsp;$\\circ$&nbsp;&nbsp;&nbsp;</td><td style=\"vertical-align:bottom\"><table><tr><td style=\"vertical-align:bottom;padding:0px 10px\" align=\"center\"><table><tr><td style=\"vertical-align:bottom\"><table style=\"margin-top:10px\"><tr><td style=\"vertical-align:bottom\" align=\"center\">$|\\!|\\mathbf{\\text{such}}|\\!|^{}_{\\langle{}t,t\\rangle{}}$</td></tr><tr><td style=\"vertical-align:bottom\" align=\"center\">$ = \\lambda{} p_{t} \\: . \\: {p}_{t}$</td></tr></table>\n",
        "</td><td style=\"vertical-align:bottom;padding-bottom:5px\">&nbsp;&nbsp;&nbsp;$\\circ$&nbsp;&nbsp;&nbsp;</td><td style=\"vertical-align:bottom\"><table><tr><td style=\"vertical-align:bottom;padding:0px 10px\" align=\"center\"><table><tr><td style=\"vertical-align:bottom\"><table align=\"center\"><tr><td align=\"center\">$|\\!|\\mathbf{\\text{that}}|\\!|^{}_{\\langle{}t,t\\rangle{}}$</td></tr><tr><td align=\"center\">$\\lambda{} p_{t} \\: . \\: {p}_{t}$</td></tr></table>\n",
        "</td><td style=\"vertical-align:bottom;padding-bottom:5px\">&nbsp;&nbsp;&nbsp;$\\circ$&nbsp;&nbsp;&nbsp;</td><td style=\"vertical-align:bottom\"><table><tr><td style=\"vertical-align:bottom;padding:0px 10px\" align=\"center\"><table><tr><td style=\"vertical-align:bottom\"><table style=\"margin-top:10px\"><tr><td style=\"vertical-align:bottom\" align=\"center\">$|\\!|\\mathbf{\\text{mary}}|\\!|^{}_{e}$</td></tr><tr><td style=\"vertical-align:bottom\" align=\"center\">$ = {Mary}_{e}$</td></tr></table>\n",
        "</td><td style=\"vertical-align:bottom;padding-bottom:5px\">&nbsp;&nbsp;&nbsp;$\\circ$&nbsp;&nbsp;&nbsp;</td><td style=\"vertical-align:bottom\"><table><tr><td style=\"vertical-align:bottom;padding:0px 10px\" align=\"center\"><table><tr><td style=\"vertical-align:bottom\"><table align=\"center\"><tr><td align=\"center\">$|\\!|\\mathbf{\\text{reviewed}}|\\!|^{}_{\\langle{}e,\\langle{}e,t\\rangle{}\\rangle{}}$</td></tr><tr><td align=\"center\">$\\lambda{} x_{e} \\: . \\: \\lambda{} y_{e} \\: . \\: {Reviewed}({y}_{e}, {x}_{e})$</td></tr></table>\n",
        "</td><td style=\"vertical-align:bottom;padding-bottom:5px\">&nbsp;&nbsp;&nbsp;$\\circ$&nbsp;&nbsp;&nbsp;</td><td style=\"vertical-align:bottom\"><table><tr><td style=\"vertical-align:bottom;padding:0px 10px\" align=\"center\"><table><tr><td style=\"vertical-align:bottom\"><table style=\"margin-top:10px\"><tr><td style=\"vertical-align:bottom\" align=\"center\">$|\\!|\\mathbf{\\text{a}}|\\!|^{}_{\\langle{}\\langle{}e,t\\rangle{},\\langle{}\\langle{}e,\\langle{}e,t\\rangle{}\\rangle{},\\langle{}e,t\\rangle{}\\rangle{}\\rangle{}}$</td></tr><tr><td style=\"vertical-align:bottom\" align=\"center\">$ = \\lambda{} f_{\\langle{}e,t\\rangle{}} \\: . \\: \\lambda{} g_{\\langle{}e,\\langle{}e,t\\rangle{}\\rangle{}} \\: . \\: \\lambda{} y_{e} \\: . \\: \\exists{} x_{e} \\: . \\: ({f}_{\\langle{}e,t\\rangle{}}({x}_{e}) \\wedge{} {g}_{\\langle{}e,\\langle{}e,t\\rangle{}\\rangle{}}({x}_{e})({y}_{e}))$</td></tr></table>\n",
        "</td><td style=\"vertical-align:bottom;padding-bottom:5px\">&nbsp;&nbsp;&nbsp;$\\circ$&nbsp;&nbsp;&nbsp;</td><td style=\"vertical-align:bottom\"><table><tr><td style=\"vertical-align:bottom;padding:0px 10px\" align=\"center\"><table><tr><td style=\"vertical-align:bottom\"><table align=\"center\"><tr><td align=\"center\">$|\\!|\\mathbf{\\text{book}}|\\!|^{}_{\\langle{}e,t\\rangle{}}$</td></tr><tr><td align=\"center\">$\\lambda{} x_{e} \\: . \\: {Book}({x}_{e})$</td></tr></table>\n",
        "</td><td style=\"vertical-align:bottom;padding-bottom:5px\">&nbsp;&nbsp;&nbsp;$\\circ$&nbsp;&nbsp;&nbsp;</td><td style=\"vertical-align:bottom\"><table><tr><td style=\"vertical-align:bottom;padding:0px 10px\" align=\"center\"><table><tr><td style=\"vertical-align:bottom\"><table align=\"center\"><tr><td align=\"center\">$|\\!|\\mathbf{\\text{1}}|\\!|^{}$</td></tr><tr><td align=\"center\"><i>N/A</i></td></tr></table>\n",
        "</td><td style=\"vertical-align:bottom;padding-bottom:5px\">&nbsp;&nbsp;&nbsp;$\\circ$&nbsp;&nbsp;&nbsp;</td><td style=\"vertical-align:bottom\"><table><tr><td style=\"vertical-align:bottom;padding:0px 10px\" align=\"center\"><table><tr><td style=\"vertical-align:bottom\"><table align=\"center\"><tr><td align=\"center\">$|\\!|\\mathbf{\\text{t2}}|\\!|^{}_{e}$</td></tr><tr><td align=\"center\">${t2}_{e}$</td></tr></table>\n",
        "</td><td style=\"vertical-align:bottom;padding-bottom:5px\">&nbsp;&nbsp;&nbsp;$\\circ$&nbsp;&nbsp;&nbsp;</td><td style=\"vertical-align:bottom\"><table><tr><td style=\"vertical-align:bottom;padding:0px 10px\" align=\"center\"><table><tr><td style=\"vertical-align:bottom\"><table style=\"margin-top:10px\"><tr><td style=\"vertical-align:bottom\" align=\"center\">$|\\!|\\mathbf{\\text{wrote}}|\\!|^{}_{\\langle{}e,\\langle{}e,t\\rangle{}\\rangle{}}$</td></tr><tr><td style=\"vertical-align:bottom\" align=\"center\">$ = \\lambda{} x_{e} \\: . \\: \\lambda{} y_{e} \\: . \\: {Wrote}({y}_{e}, {x}_{e})$</td></tr></table>\n",
        "</td><td style=\"vertical-align:bottom;padding-bottom:5px\">&nbsp;&nbsp;&nbsp;$\\circ$&nbsp;&nbsp;&nbsp;</td><td style=\"vertical-align:bottom\"><table style=\"margin-top:10px\"><tr><td style=\"vertical-align:bottom\" align=\"center\">$|\\!|\\mathbf{\\text{t1}}|\\!|^{}_{e}$</td></tr><tr><td style=\"vertical-align:bottom\" align=\"center\">$ = {t1}_{e}$</td></tr></table>\n",
        "</td></tr></table></td><td style=\"vertical-align:bottom;padding-bottom:5px;padding-left:10px\"><b>[FA/left]</b></td></tr><tr style=\"border-top: 1px solid #848482\"><td align=\"center\"><table style=\"margin-top:10px\"><tr><td style=\"vertical-align:bottom\" align=\"center\">$|\\!|\\mathbf{\\text{[wrote t1]}}|\\!|^{}_{\\langle{}e,t\\rangle{}}$</td></tr><tr><td style=\"vertical-align:bottom\" align=\"center\"><table><tr><td style=\"padding-right:5px\"> $=$ </td><td style=\"align:center\">$[\\lambda{} x_{e} \\: . \\: \\lambda{} y_{e} \\: . \\: {Wrote}({y}_{e}, {x}_{e})]({t1}_{e})$</td></tr><tr><td style=\"padding-right:5px\"> $=$ </td><td style=\"align:center\">$\\lambda{} y_{e} \\: . \\: {Wrote}({y}_{e}, {t1}_{e})$</td></tr></table></td></tr></table>\n",
        "</td><td></td></tr></table>\n",
        "</td></tr></table></td><td style=\"vertical-align:bottom;padding-bottom:5px;padding-left:10px\"><b>[FA/right]</b></td></tr><tr style=\"border-top: 1px solid #848482\"><td align=\"center\"><table style=\"margin-top:10px\"><tr><td style=\"vertical-align:bottom\" align=\"center\">$|\\!|\\mathbf{\\text{[t2 [wrote t1]]}}|\\!|^{}_{t}$</td></tr><tr><td style=\"vertical-align:bottom\" align=\"center\"><table><tr><td style=\"padding-right:5px\"> $=$ </td><td style=\"align:center\">$[\\lambda{} y_{e} \\: . \\: {Wrote}({y}_{e}, {t1}_{e})]({t2}_{e})$</td></tr><tr><td style=\"padding-right:5px\"> $=$ </td><td style=\"align:center\">${Wrote}({t2}_{e}, {t1}_{e})$</td></tr></table></td></tr></table>\n",
        "</td><td></td></tr></table>\n",
        "</td></tr></table></td><td style=\"vertical-align:bottom;padding-bottom:5px;padding-left:10px\"><b>[PA]</b></td></tr><tr style=\"border-top: 1px solid #848482\"><td align=\"center\"><table style=\"margin-top:10px\"><tr><td style=\"vertical-align:bottom\" align=\"center\">$|\\!|\\mathbf{\\text{[1 [t2 [wrote t1]]]}}|\\!|^{}_{\\langle{}e,t\\rangle{}}$</td></tr><tr><td style=\"vertical-align:bottom\" align=\"center\">$ = \\lambda{} x_{e} \\: . \\: {Wrote}({t2}_{e}, {x}_{e})$</td></tr></table>\n",
        "</td><td></td></tr></table>\n",
        "</td></tr></table></td><td style=\"vertical-align:bottom;padding-bottom:5px;padding-left:10px\"><b>[PM]</b></td></tr><tr style=\"border-top: 1px solid #848482\"><td align=\"center\"><table style=\"margin-top:10px\"><tr><td style=\"vertical-align:bottom\" align=\"center\">$|\\!|\\mathbf{\\text{[book [1 [t2 [wrote t1]]]]}}|\\!|^{}_{\\langle{}e,t\\rangle{}}$</td></tr><tr><td style=\"vertical-align:bottom\" align=\"center\"><table><tr><td style=\"padding-right:5px\"> $=$ </td><td style=\"align:center\">$[\\lambda{} f_{\\langle{}e,t\\rangle{}} \\: . \\: \\lambda{} g_{\\langle{}e,t\\rangle{}} \\: . \\: \\lambda{} x_{e} \\: . \\: ({f}_{\\langle{}e,t\\rangle{}}({x}_{e}) \\wedge{} {g}_{\\langle{}e,t\\rangle{}}({x}_{e}))](\\lambda{} x_{e} \\: . \\: {Book}({x}_{e}))(\\lambda{} x_{e} \\: . \\: {Wrote}({t2}_{e}, {x}_{e}))$</td></tr><tr><td style=\"padding-right:5px\"> $=$ </td><td style=\"align:center\">$[\\lambda{} g_{\\langle{}e,t\\rangle{}} \\: . \\: \\lambda{} x_{e} \\: . \\: ({Book}({x}_{e}) \\wedge{} {g}_{\\langle{}e,t\\rangle{}}({x}_{e}))](\\lambda{} x_{e} \\: . \\: {Wrote}({t2}_{e}, {x}_{e}))$</td></tr><tr><td style=\"padding-right:5px\"> $=$ </td><td style=\"align:center\">$\\lambda{} x_{e} \\: . \\: ({Book}({x}_{e}) \\wedge{} [\\lambda{} x_{e} \\: . \\: {Wrote}({t2}_{e}, {x}_{e})]({x}_{e}))$</td></tr><tr><td style=\"padding-right:5px\"> $=$ </td><td style=\"align:center\">$\\lambda{} x_{e} \\: . \\: ({Book}({x}_{e}) \\wedge{} {Wrote}({t2}_{e}, {x}_{e}))$</td></tr></table></td></tr></table>\n",
        "</td><td></td></tr></table>\n",
        "</td></tr></table></td><td style=\"vertical-align:bottom;padding-bottom:5px;padding-left:10px\"><b>[FA/left]</b></td></tr><tr style=\"border-top: 1px solid #848482\"><td align=\"center\"><table style=\"margin-top:10px\"><tr><td style=\"vertical-align:bottom\" align=\"center\">$|\\!|\\mathbf{\\text{[a [book [1 [t2 [wrote t1]]]]]}}|\\!|^{}_{\\langle{}\\langle{}e,\\langle{}e,t\\rangle{}\\rangle{},\\langle{}e,t\\rangle{}\\rangle{}}$</td></tr><tr><td style=\"vertical-align:bottom\" align=\"center\"><table><tr><td style=\"padding-right:5px\"> $=$ </td><td style=\"align:center\">$[\\lambda{} f_{\\langle{}e,t\\rangle{}} \\: . \\: \\lambda{} g_{\\langle{}e,\\langle{}e,t\\rangle{}\\rangle{}} \\: . \\: \\lambda{} y_{e} \\: . \\: \\exists{} x_{e} \\: . \\: ({f}_{\\langle{}e,t\\rangle{}}({x}_{e}) \\wedge{} {g}_{\\langle{}e,\\langle{}e,t\\rangle{}\\rangle{}}({x}_{e})({y}_{e}))](\\lambda{} x_{e} \\: . \\: ({Book}({x}_{e}) \\wedge{} {Wrote}({t2}_{e}, {x}_{e})))$</td></tr><tr><td style=\"padding-right:5px\"> $=$ </td><td style=\"align:center\">$\\lambda{} g_{\\langle{}e,\\langle{}e,t\\rangle{}\\rangle{}} \\: . \\: \\lambda{} y_{e} \\: . \\: \\exists{} x_{e} \\: . \\: ([\\lambda{} x_{e} \\: . \\: ({Book}({x}_{e}) \\wedge{} {Wrote}({t2}_{e}, {x}_{e}))]({x}_{e}) \\wedge{} {g}_{\\langle{}e,\\langle{}e,t\\rangle{}\\rangle{}}({x}_{e})({y}_{e}))$</td></tr></table></td></tr></table>\n",
        "</td><td></td></tr></table>\n",
        "</td></tr></table></td><td style=\"vertical-align:bottom;padding-bottom:5px;padding-left:10px\"><b>[FA/right]</b></td></tr><tr style=\"border-top: 1px solid #848482\"><td align=\"center\"><table style=\"margin-top:10px\"><tr><td style=\"vertical-align:bottom\" align=\"center\">$|\\!|\\mathbf{\\text{[reviewed [a [book [1 [t2 [wrote t1]]]]]]}}|\\!|^{}_{\\langle{}e,t\\rangle{}}$</td></tr><tr><td style=\"vertical-align:bottom\" align=\"center\"><table><tr><td style=\"padding-right:5px\"> $=$ </td><td style=\"align:center\">$[\\lambda{} g_{\\langle{}e,\\langle{}e,t\\rangle{}\\rangle{}} \\: . \\: \\lambda{} y_{e} \\: . \\: \\exists{} x_{e} \\: . \\: ([\\lambda{} x_{e} \\: . \\: ({Book}({x}_{e}) \\wedge{} {Wrote}({t2}_{e}, {x}_{e}))]({x}_{e}) \\wedge{} {g}_{\\langle{}e,\\langle{}e,t\\rangle{}\\rangle{}}({x}_{e})({y}_{e}))](\\lambda{} x_{e} \\: . \\: \\lambda{} y_{e} \\: . \\: {Reviewed}({y}_{e}, {x}_{e}))$</td></tr><tr><td style=\"padding-right:5px\"> $=$ </td><td style=\"align:center\">$\\lambda{} y_{e} \\: . \\: \\exists{} x_{e} \\: . \\: ([\\lambda{} x_{e} \\: . \\: ({Book}({x}_{e}) \\wedge{} {Wrote}({t2}_{e}, {x}_{e}))]({x}_{e}) \\wedge{} [\\lambda{} x_{e} \\: . \\: \\lambda{} y_{e} \\: . \\: {Reviewed}({y}_{e}, {x}_{e})]({x}_{e})({y}_{e}))$</td></tr></table></td></tr></table>\n",
        "</td><td></td></tr></table>\n",
        "</td></tr></table></td><td style=\"vertical-align:bottom;padding-bottom:5px;padding-left:10px\"><b>[FA/right]</b></td></tr><tr style=\"border-top: 1px solid #848482\"><td align=\"center\"><table style=\"margin-top:10px\"><tr><td style=\"vertical-align:bottom\" align=\"center\">$|\\!|\\mathbf{\\text{[mary [reviewed [a [book [1 [t2 [wrote t1]]]]]]]}}|\\!|^{}_{t}$</td></tr><tr><td style=\"vertical-align:bottom\" align=\"center\"><table><tr><td style=\"padding-right:5px\"> $=$ </td><td style=\"align:center\">$[\\lambda{} y_{e} \\: . \\: \\exists{} x_{e} \\: . \\: ([\\lambda{} x_{e} \\: . \\: ({Book}({x}_{e}) \\wedge{} {Wrote}({t2}_{e}, {x}_{e}))]({x}_{e}) \\wedge{} [\\lambda{} x_{e} \\: . \\: \\lambda{} y_{e} \\: . \\: {Reviewed}({y}_{e}, {x}_{e})]({x}_{e})({y}_{e}))]({Mary}_{e})$</td></tr><tr><td style=\"padding-right:5px\"> $=$ </td><td style=\"align:center\">$\\exists{} x_{e} \\: . \\: ([\\lambda{} x_{e} \\: . \\: ({Book}({x}_{e}) \\wedge{} {Wrote}({t2}_{e}, {x}_{e}))]({x}_{e}) \\wedge{} [\\lambda{} x_{e} \\: . \\: \\lambda{} y_{e} \\: . \\: {Reviewed}({y}_{e}, {x}_{e})]({x}_{e})({Mary}_{e}))$</td></tr></table></td></tr></table>\n",
        "</td><td></td></tr></table>\n",
        "</td></tr></table></td><td style=\"vertical-align:bottom;padding-bottom:5px;padding-left:10px\"><b>[FA/left]</b></td></tr><tr style=\"border-top: 1px solid #848482\"><td align=\"center\"><table style=\"margin-top:10px\"><tr><td style=\"vertical-align:bottom\" align=\"center\">$|\\!|\\mathbf{\\text{[that [mary [reviewed [a [book [1 [t2 [wrote t1]]]]]]]]}}|\\!|^{}_{t}$</td></tr><tr><td style=\"vertical-align:bottom\" align=\"center\"><table><tr><td style=\"padding-right:5px\"> $=$ </td><td style=\"align:center\">$[\\lambda{} p_{t} \\: . \\: {p}_{t}](\\exists{} x_{e} \\: . \\: ([\\lambda{} x_{e} \\: . \\: ({Book}({x}_{e}) \\wedge{} {Wrote}({t2}_{e}, {x}_{e}))]({x}_{e}) \\wedge{} [\\lambda{} x_{e} \\: . \\: \\lambda{} y_{e} \\: . \\: {Reviewed}({y}_{e}, {x}_{e})]({x}_{e})({Mary}_{e})))$</td></tr><tr><td style=\"padding-right:5px\"> $=$ </td><td style=\"align:center\">$\\exists{} x_{e} \\: . \\: ([\\lambda{} x_{e} \\: . \\: ({Book}({x}_{e}) \\wedge{} {Wrote}({t2}_{e}, {x}_{e}))]({x}_{e}) \\wedge{} [\\lambda{} x_{e} \\: . \\: \\lambda{} y_{e} \\: . \\: {Reviewed}({y}_{e}, {x}_{e})]({x}_{e})({Mary}_{e}))$</td></tr></table></td></tr></table>\n",
        "</td><td></td></tr></table>\n",
        "</td></tr></table></td><td style=\"vertical-align:bottom;padding-bottom:5px;padding-left:10px\"><b>[FA/left]</b></td></tr><tr style=\"border-top: 1px solid #848482\"><td align=\"center\"><table style=\"margin-top:10px\"><tr><td style=\"vertical-align:bottom\" align=\"center\">$|\\!|\\mathbf{\\text{[such [that [mary [reviewed [a [book [1 [t2 [wrote t1]]]]]]]]]}}|\\!|^{}_{t}$</td></tr><tr><td style=\"vertical-align:bottom\" align=\"center\"><table><tr><td style=\"padding-right:5px\"> $=$ </td><td style=\"align:center\">$[\\lambda{} p_{t} \\: . \\: {p}_{t}](\\exists{} x_{e} \\: . \\: ([\\lambda{} x_{e} \\: . \\: ({Book}({x}_{e}) \\wedge{} {Wrote}({t2}_{e}, {x}_{e}))]({x}_{e}) \\wedge{} [\\lambda{} x_{e} \\: . \\: \\lambda{} y_{e} \\: . \\: {Reviewed}({y}_{e}, {x}_{e})]({x}_{e})({Mary}_{e})))$</td></tr><tr><td style=\"padding-right:5px\"> $=$ </td><td style=\"align:center\">$\\exists{} x_{e} \\: . \\: ([\\lambda{} x_{e} \\: . \\: ({Book}({x}_{e}) \\wedge{} {Wrote}({t2}_{e}, {x}_{e}))]({x}_{e}) \\wedge{} [\\lambda{} x_{e} \\: . \\: \\lambda{} y_{e} \\: . \\: {Reviewed}({y}_{e}, {x}_{e})]({x}_{e})({Mary}_{e}))$</td></tr></table></td></tr></table>\n",
        "</td><td></td></tr></table>\n",
        "</td></tr></table></td><td style=\"vertical-align:bottom;padding-bottom:5px;padding-left:10px\"><b>[PA]</b></td></tr><tr style=\"border-top: 1px solid #848482\"><td align=\"center\"><table style=\"margin-top:10px\"><tr><td style=\"vertical-align:bottom\" align=\"center\">$|\\!|\\mathbf{\\text{[2 [such [that [mary [reviewed [a [book [1 [t2 [wrote t1]]]]]]]]]]}}|\\!|^{}_{\\langle{}e,t\\rangle{}}$</td></tr><tr><td style=\"vertical-align:bottom\" align=\"center\">$ = \\lambda{} x1_{e} \\: . \\: \\exists{} x_{e} \\: . \\: ([\\lambda{} x_{e} \\: . \\: ({Book}({x}_{e}) \\wedge{} {Wrote}({x1}_{e}, {x}_{e}))]({x}_{e}) \\wedge{} [\\lambda{} x_{e} \\: . \\: \\lambda{} y_{e} \\: . \\: {Reviewed}({y}_{e}, {x}_{e})]({x}_{e})({Mary}_{e}))$</td></tr></table>\n",
        "</td><td></td></tr></table>\n",
        "</td></tr></table></td><td style=\"vertical-align:bottom;padding-bottom:5px;padding-left:10px\"><b>[PM]</b></td></tr><tr style=\"border-top: 1px solid #848482\"><td align=\"center\"><table style=\"margin-top:10px\"><tr><td style=\"vertical-align:bottom\" align=\"center\">$|\\!|\\mathbf{\\text{[man [2 [such [that [mary [reviewed [a [book [1 [t2 [wrote t1]]]]]]]]]]]}}|\\!|^{}_{\\langle{}e,t\\rangle{}}$</td></tr><tr><td style=\"vertical-align:bottom\" align=\"center\"><table><tr><td style=\"padding-right:5px\"> $=$ </td><td style=\"align:center\">$[\\lambda{} f_{\\langle{}e,t\\rangle{}} \\: . \\: \\lambda{} g_{\\langle{}e,t\\rangle{}} \\: . \\: \\lambda{} x_{e} \\: . \\: ({f}_{\\langle{}e,t\\rangle{}}({x}_{e}) \\wedge{} {g}_{\\langle{}e,t\\rangle{}}({x}_{e}))](\\lambda{} x_{e} \\: . \\: {Man}({x}_{e}))(\\lambda{} x1_{e} \\: . \\: \\exists{} x_{e} \\: . \\: ([\\lambda{} x_{e} \\: . \\: ({Book}({x}_{e}) \\wedge{} {Wrote}({x1}_{e}, {x}_{e}))]({x}_{e}) \\wedge{} [\\lambda{} x_{e} \\: . \\: \\lambda{} y_{e} \\: . \\: {Reviewed}({y}_{e}, {x}_{e})]({x}_{e})({Mary}_{e})))$</td></tr><tr><td style=\"padding-right:5px\"> $=$ </td><td style=\"align:center\">$[\\lambda{} g_{\\langle{}e,t\\rangle{}} \\: . \\: \\lambda{} x_{e} \\: . \\: ({Man}({x}_{e}) \\wedge{} {g}_{\\langle{}e,t\\rangle{}}({x}_{e}))](\\lambda{} x1_{e} \\: . \\: \\exists{} x_{e} \\: . \\: ([\\lambda{} x_{e} \\: . \\: ({Book}({x}_{e}) \\wedge{} {Wrote}({x1}_{e}, {x}_{e}))]({x}_{e}) \\wedge{} [\\lambda{} x_{e} \\: . \\: \\lambda{} y_{e} \\: . \\: {Reviewed}({y}_{e}, {x}_{e})]({x}_{e})({Mary}_{e})))$</td></tr><tr><td style=\"padding-right:5px\"> $=$ </td><td style=\"align:center\">$\\lambda{} x_{e} \\: . \\: ({Man}({x}_{e}) \\wedge{} [\\lambda{} x1_{e} \\: . \\: \\exists{} x_{e} \\: . \\: ([\\lambda{} x_{e} \\: . \\: ({Book}({x}_{e}) \\wedge{} {Wrote}({x1}_{e}, {x}_{e}))]({x}_{e}) \\wedge{} [\\lambda{} x_{e} \\: . \\: \\lambda{} y_{e} \\: . \\: {Reviewed}({y}_{e}, {x}_{e})]({x}_{e})({Mary}_{e}))]({x}_{e}))$</td></tr><tr><td style=\"padding-right:5px\"> $=$ </td><td style=\"align:center\">$\\lambda{} x_{e} \\: . \\: ({Man}({x}_{e}) \\wedge{} \\exists{} x2_{e} \\: . \\: (({Book}({x2}_{e}) \\wedge{} {Wrote}({x}_{e}, {x2}_{e})) \\wedge{} {Reviewed}({Mary}_{e}, {x2}_{e})))$</td></tr></table></td></tr></table>\n",
        "</td><td></td></tr></table>\n",
        "<br /><br />"
       ]
      }
     ],
     "prompt_number": 151
    },
    {
     "cell_type": "code",
     "collapsed": false,
     "input": [],
     "language": "python",
     "metadata": {},
     "outputs": [],
     "prompt_number": 129
    },
    {
     "cell_type": "code",
     "collapsed": false,
     "input": [],
     "language": "python",
     "metadata": {},
     "outputs": []
    }
   ],
   "metadata": {}
  }
 ]
}