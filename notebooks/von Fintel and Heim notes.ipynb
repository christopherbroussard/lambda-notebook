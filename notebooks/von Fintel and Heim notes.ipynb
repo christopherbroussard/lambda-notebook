{
 "metadata": {
  "name": ""
 },
 "nbformat": 3,
 "nbformat_minor": 0,
 "worksheets": [
  {
   "cells": [
    {
     "cell_type": "markdown",
     "metadata": {},
     "source": [
      "This notebook implements the very beginning of the von Fintel and Heim lecture notes on intensional semantics.  Lots more to do here!"
     ]
    },
    {
     "cell_type": "code",
     "collapsed": true,
     "input": [
      "reload_lamb()\n",
      "lamb.meta.constants_use_custom(False)"
     ],
     "language": "python",
     "metadata": {},
     "outputs": []
    },
    {
     "cell_type": "code",
     "collapsed": false,
     "input": [],
     "language": "python",
     "metadata": {},
     "outputs": []
    },
    {
     "cell_type": "code",
     "collapsed": false,
     "input": [
      "type_e = types.type_e\n",
      "type_t = types.type_t\n",
      "type_n = types.type_n\n",
      "type_s = types.OntoType(\"s\", types.SimpleInfiniteSet(\"c\"))\n",
      "intensional_types = types.UnderTypeSystem(atomics={type_e, type_t, type_n, type_s, types.undetermined_type}, nonatomics={types.FunType, types.TupleType, types.SetType, types.UndeterminedType})\n",
      "meta.set_type_system(intensional_types)"
     ],
     "language": "python",
     "metadata": {},
     "outputs": []
    },
    {
     "cell_type": "code",
     "collapsed": false,
     "input": [
      "# set up basic composition operations\n",
      "pm = lang.BinaryCompositionOp(\"PM\", lang.pm_fun, commutative=True)\n",
      "fa = lang.BinaryCompositionOp(\"FA\", lang.fa_fun)\n",
      "pa = lang.BinaryCompositionOp(\"PA\", lang.pa_fun, allow_none=True)\n",
      "simple_system = lang.CompositionSystem(rules=[fa, pm, pa], basictypes={type_e, type_t, type_s}, name=\"simple bottom-up composition\")\n",
      "lang.set_system(simple_system)\n",
      "simple_system"
     ],
     "language": "python",
     "metadata": {},
     "outputs": []
    },
    {
     "cell_type": "code",
     "collapsed": false,
     "input": [],
     "language": "python",
     "metadata": {},
     "outputs": []
    },
    {
     "cell_type": "code",
     "collapsed": false,
     "input": [
      "%%lamb\n",
      "# some standard extensional entries\n",
      "||cat|| = L x_e: Cat_<e,t>(x)\n",
      "||gray|| = L x_e: Gray_<e,t>(x)\n",
      "||john|| = John_e\n",
      "||julius|| = Julius_e\n",
      "||inP|| = L x_e: L y: In(y, x)\n",
      "||texas|| = Texas_e\n",
      "||isV|| = L f_<e,t> : f\n",
      "||dance|| = L x_e: Dance_<e,t>(x)\n",
      "||see|| = L x_e : L y_e : See(y, x)\n",
      "||Alfonso|| = Alfonso_e"
     ],
     "language": "python",
     "metadata": {},
     "outputs": []
    },
    {
     "cell_type": "code",
     "collapsed": false,
     "input": [
      "(inP * texas) * julius"
     ],
     "language": "python",
     "metadata": {},
     "outputs": []
    },
    {
     "cell_type": "markdown",
     "metadata": {},
     "source": [
      "How could an item like `must` be accounted for in this sort of extensional system?  Let's see what type inference gets us:"
     ]
    },
    {
     "cell_type": "code",
     "collapsed": false,
     "input": [
      "%%lamb\n",
      "||must|| = L x_? : Must_<?,t>(x)"
     ],
     "language": "python",
     "metadata": {},
     "outputs": []
    },
    {
     "cell_type": "code",
     "collapsed": false,
     "input": [
      "must_test_result = must * (julius * dance)\n",
      "must_test_result"
     ],
     "language": "python",
     "metadata": {},
     "outputs": []
    },
    {
     "cell_type": "code",
     "collapsed": false,
     "input": [],
     "language": "python",
     "metadata": {},
     "outputs": []
    },
    {
     "cell_type": "code",
     "collapsed": false,
     "input": [
      "must_test_result.latex_step_tree(derivations=True)"
     ],
     "language": "python",
     "metadata": {},
     "outputs": []
    },
    {
     "cell_type": "code",
     "collapsed": false,
     "input": [
      "# Zoom in on what's happening in the final step\n",
      "must_test_result[0].content.derivation"
     ],
     "language": "python",
     "metadata": {},
     "outputs": []
    },
    {
     "cell_type": "markdown",
     "metadata": {},
     "source": [
      "Type &lt;t,t&gt; is the only inferrable option.  This is not really satisfactory, as &lt;t,t&gt; describes a very small set.  In fact, there are just four functions:\n",
      "\n",
      " * 1 $\\rightarrow$ 1, 0 $\\rightarrow$ 0\n",
      " * 1 $\\rightarrow$ 0, 0 $\\rightarrow$ 1\n",
      " * 1 $\\rightarrow$ 0, 0 $\\rightarrow$ 0\n",
      " * 1 $\\rightarrow$ 1, 0 $\\rightarrow$ 1\n",
      "\n",
      "Hence, some richer (\"intensional\") representation is needed.  Possible worlds are involved in one kind of analysis of intensionality."
     ]
    },
    {
     "cell_type": "code",
     "collapsed": false,
     "input": [
      "intensional_types"
     ],
     "language": "python",
     "metadata": {},
     "outputs": []
    },
    {
     "cell_type": "code",
     "collapsed": false,
     "input": [],
     "language": "python",
     "metadata": {},
     "outputs": []
    },
    {
     "cell_type": "code",
     "collapsed": false,
     "input": [
      "# set up evaluation world as a parameter to the interpretation function\n",
      "system = lang.get_system().copy()\n",
      "eval_w = lang.te(\"w_s\")\n",
      "system.assign_controller = lang.AssignmentController(specials=[eval_w])\n",
      "lang.set_system(system)"
     ],
     "language": "python",
     "metadata": {},
     "outputs": []
    },
    {
     "cell_type": "code",
     "collapsed": false,
     "input": [
      "%%lamb \n",
      "||dance|| = L x_e: Dance(w, x)\n",
      "||Alfonso|| = Alfonso_e"
     ],
     "language": "python",
     "metadata": {},
     "outputs": []
    },
    {
     "cell_type": "code",
     "collapsed": false,
     "input": [
      "(Alfonso * dance)"
     ],
     "language": "python",
     "metadata": {},
     "outputs": []
    },
    {
     "cell_type": "code",
     "collapsed": false,
     "input": [
      "(Alfonso * dance).latex_step_tree()"
     ],
     "language": "python",
     "metadata": {},
     "outputs": []
    },
    {
     "cell_type": "code",
     "collapsed": false,
     "input": [],
     "language": "python",
     "metadata": {},
     "outputs": []
    },
    {
     "cell_type": "code",
     "collapsed": false,
     "input": [
      "def intension_fun(f, assignment=None):\n",
      "    new_a = lang.Assignment(assignment)\n",
      "    new_a.update({\"w\": lang.te(\"w_s\")})\n",
      "    result = meta.LFun(\"w_s\", f.content.under_assignment(new_a))\n",
      "    return lang.UnaryComposite(f, result, source=\"INT(%s)\" % (f.name))\n",
      "\n",
      "intension_fun(dance)"
     ],
     "language": "python",
     "metadata": {},
     "outputs": []
    },
    {
     "cell_type": "code",
     "collapsed": false,
     "input": [
      "intension_fun(julius)"
     ],
     "language": "python",
     "metadata": {},
     "outputs": []
    },
    {
     "cell_type": "code",
     "collapsed": false,
     "input": [
      "system.add_rule(lang.UnaryCompositionOp(\"INT\", intension_fun))"
     ],
     "language": "python",
     "metadata": {},
     "outputs": []
    },
    {
     "cell_type": "code",
     "collapsed": false,
     "input": [],
     "language": "python",
     "metadata": {},
     "outputs": []
    },
    {
     "cell_type": "code",
     "collapsed": false,
     "input": [
      "%%lamb\n",
      "||a|| = L f_<e,t> : L g_<e,t> : Exists x_e : f(x) & g(x)"
     ],
     "language": "python",
     "metadata": {},
     "outputs": []
    },
    {
     "cell_type": "code",
     "collapsed": false,
     "input": [
      "%%lamb\n",
      "||famous|| = L x_e : Famous(w,x)\n",
      "||detective|| = L x_e : Detective(w,x)\n",
      "||bakerst|| = BakerSt221B_e\n",
      "||lives|| = L y_e : L x_e : LivesAt(w,x,y)"
     ],
     "language": "python",
     "metadata": {},
     "outputs": []
    },
    {
     "cell_type": "code",
     "collapsed": false,
     "input": [],
     "language": "python",
     "metadata": {},
     "outputs": []
    },
    {
     "cell_type": "code",
     "collapsed": false,
     "input": [
      "simple = (a * detective) * (lives * bakerst)\n",
      "simple"
     ],
     "language": "python",
     "metadata": {},
     "outputs": []
    },
    {
     "cell_type": "code",
     "collapsed": false,
     "input": [
      "simple.reduce_all()\n",
      "simple"
     ],
     "language": "python",
     "metadata": {},
     "outputs": []
    },
    {
     "cell_type": "code",
     "collapsed": false,
     "input": [
      "simple.results[0].latex_step_tree(derivations=True)"
     ],
     "language": "python",
     "metadata": {},
     "outputs": []
    },
    {
     "cell_type": "code",
     "collapsed": false,
     "input": [
      "simple.compose()"
     ],
     "language": "python",
     "metadata": {},
     "outputs": []
    },
    {
     "cell_type": "code",
     "collapsed": false,
     "input": [
      "itw = lang.Item(\"In the world of S.H.\", lang.te(\"L p_<s,t> : Forall w2_s : CompatibleWithSHStories(w_s, w2_s) >> p_<s,t>(w2_s)\"))\n",
      "itw"
     ],
     "language": "python",
     "metadata": {},
     "outputs": []
    },
    {
     "cell_type": "code",
     "collapsed": false,
     "input": [],
     "language": "python",
     "metadata": {},
     "outputs": []
    },
    {
     "cell_type": "code",
     "collapsed": false,
     "input": [
      "itw * simple"
     ],
     "language": "python",
     "metadata": {},
     "outputs": []
    },
    {
     "cell_type": "code",
     "collapsed": false,
     "input": [
      "result = itw * (simple.compose())\n",
      "result.reduce_all()\n",
      "result"
     ],
     "language": "python",
     "metadata": {},
     "outputs": []
    },
    {
     "cell_type": "code",
     "collapsed": false,
     "input": [
      "result.results[0].latex_step_tree(derivations=True)"
     ],
     "language": "python",
     "metadata": {},
     "outputs": []
    },
    {
     "cell_type": "code",
     "collapsed": false,
     "input": [],
     "language": "python",
     "metadata": {},
     "outputs": []
    },
    {
     "cell_type": "markdown",
     "metadata": {},
     "source": [
      "Beginnings of attitude verbs, still needs work:"
     ]
    },
    {
     "cell_type": "code",
     "collapsed": false,
     "input": [
      "%%lamb \n",
      "dox = Dox_<(e,s,s),t>\n",
      "||believe|| = L p_<s,t> : L x_e : Forall w2_s : dox(x, w, w2) >> p(w2)"
     ],
     "language": "python",
     "metadata": {},
     "outputs": []
    },
    {
     "cell_type": "code",
     "collapsed": false,
     "input": [
      "lang.tp(\"<(e,s,s),t>\")"
     ],
     "language": "python",
     "metadata": {},
     "outputs": []
    },
    {
     "cell_type": "code",
     "collapsed": false,
     "input": [
      "lang.te(\"f_<s,{<s,t>}>\")"
     ],
     "language": "python",
     "metadata": {},
     "outputs": []
    },
    {
     "cell_type": "code",
     "collapsed": false,
     "input": [
      "%%lamb\n",
      "dox = Dox_<(e,s),<s,t>>\n",
      "||believe|| = L p_<s,t> : L x_e : Forall w2_s : dox(x, w)(w2) >> p(w2)"
     ],
     "language": "python",
     "metadata": {},
     "outputs": []
    },
    {
     "cell_type": "code",
     "collapsed": false,
     "input": [
      "%%lamb\n",
      "dox = Dox_<(e,s),{<s,t>}>\n",
      "bigcap = L a_{<s,t>} : Set w_s : Forall p_<s,t> : p(w) & (p << a)\n",
      "||believe|| = L p_<s,t> : L x_e : Forall w2_s : w2 << bigcap(dox(x, w_s)) >> p(w2)"
     ],
     "language": "python",
     "metadata": {},
     "outputs": []
    },
    {
     "cell_type": "code",
     "collapsed": false,
     "input": [
      "believe.reduce_all()"
     ],
     "language": "python",
     "metadata": {},
     "outputs": []
    },
    {
     "cell_type": "code",
     "collapsed": false,
     "input": [
      "bigcap"
     ],
     "language": "python",
     "metadata": {},
     "outputs": []
    },
    {
     "cell_type": "code",
     "collapsed": false,
     "input": [],
     "language": "python",
     "metadata": {},
     "outputs": []
    }
   ],
   "metadata": {}
  }
 ]
}