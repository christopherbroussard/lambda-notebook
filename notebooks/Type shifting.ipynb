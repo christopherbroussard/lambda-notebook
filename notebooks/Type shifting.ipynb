{
 "metadata": {
  "name": "",
  "signature": "sha256:6c96aef5ccb06fb9e6d9438ffaf31347dcfc363702e14261c760c5770a208bbf"
 },
 "nbformat": 3,
 "nbformat_minor": 0,
 "worksheets": [
  {
   "cells": [
    {
     "cell_type": "code",
     "collapsed": false,
     "input": [
      "reload_lamb()"
     ],
     "language": "python",
     "metadata": {},
     "outputs": [],
     "prompt_number": 128
    },
    {
     "cell_type": "markdown",
     "metadata": {},
     "source": [
      "# Introduction to type shifting in ILNB\n",
      "### Notebook author: Kyle Rawlins\n",
      "\n",
      "This notebook goes through the basics of how to do type-shifting in the lambda notebook.  Basically, you add a unary rule to the composition system, designate it as a typeshift, and enable type-shifting.  Currently, type-shifting is purely as a last resort.  (If you need to simulate other cases, it is best right now just to use unary rules or extra lexical entries.)\n",
      "\n",
      "In general, I highly recommend that type-shifting be implemented via *combinators*.  A combinator is simply any function that has no free variables.  To build a typeshifting combinator, simply take the typeshift and use the shifted type as a further lambda term.  This strategy will make your life much easier, as it relies only on functional application to do its work.  The alternative, which may be helpful in certain special cases (not documented here) would be to write python code that performs the shift.\n",
      "\n",
      "For example, here is a standard way of defining a type-lifting rule from Partee:\n",
      "\n",
      " * lift: $x \\rightarrow \\lambda f_{<e,t>} : f(x)$\n",
      " \n",
      "The combinator for this typeshift is:"
     ]
    },
    {
     "cell_type": "code",
     "collapsed": false,
     "input": [
      "%%lamb\n",
      "gqlift = L x_e : L f_<e,t> : f(x)"
     ],
     "language": "python",
     "metadata": {},
     "outputs": [
      {
       "latex": [
        "${gqlift}_{\\langle{}e,\\langle{}\\langle{}e,t\\rangle{},t\\rangle{}\\rangle{}}\\:=\\:\\lambda{} x_{e} \\: . \\: \\lambda{} f_{\\langle{}e,t\\rangle{}} \\: . \\: {f}_{\\langle{}e,t\\rangle{}}({x}_{e})$"
       ],
       "metadata": {},
       "output_type": "pyout",
       "prompt_number": 139,
       "text": [
        "${gqlift}_{\\langle{}e,\\langle{}\\langle{}e,t\\rangle{},t\\rangle{}\\rangle{}}\\:=\\:\\lambda{} x_{e} \\: . \\: \\lambda{} f_{\\langle{}e,t\\rangle{}} \\: . \\: {f}_{\\langle{}e,t\\rangle{}}({x}_{e})$"
       ]
      }
     ],
     "prompt_number": 139
    },
    {
     "cell_type": "markdown",
     "metadata": {},
     "source": [
      "A combinator like this can be defined as a ILNB meta-language expression, and conveniently also can be called to perform the type-shift, like any python callable."
     ]
    },
    {
     "cell_type": "code",
     "collapsed": false,
     "input": [
      "%lamb thecat = Iota x_e : Cat_<e,t>(x)\n",
      "gqlift(thecat).reduce_all()"
     ],
     "language": "python",
     "metadata": {},
     "outputs": [
      {
       "latex": [
        "$\\lambda{} f_{\\langle{}e,t\\rangle{}} \\: . \\: {f}_{\\langle{}e,t\\rangle{}}(\\iota{} x_{e} \\: . \\: {Cat}({x}_{e}))$"
       ],
       "metadata": {},
       "output_type": "pyout",
       "prompt_number": 140,
       "text": [
        "(\u03bb f_<e,t>: f_<e,t>((\u03b9 x_e: Cat_<e,t>(x_e))))"
       ]
      }
     ],
     "prompt_number": 140
    },
    {
     "cell_type": "markdown",
     "metadata": {},
     "source": [
      "(All of the combinators I discuss here are of fixed type.  For flexibly typed combinators, see the examples in the \"Variable free binding\" notebook.)"
     ]
    },
    {
     "cell_type": "markdown",
     "metadata": {},
     "source": [
      "### PM via type-shifting\n",
      "\n",
      "The normal PM rule is already implemented via a combinator.  This means it is a good candidate for a type-shift."
     ]
    },
    {
     "cell_type": "code",
     "collapsed": false,
     "input": [
      "%%lamb\n",
      "||gray|| = L x_e : Gray(x)\n",
      "||cat|| = L x_e : Cat(x)"
     ],
     "language": "python",
     "metadata": {},
     "outputs": [
      {
       "output_type": "stream",
       "stream": "stderr",
       "text": [
        "INFO (meta): Coerced guessed type t for 'Gray_t' into <e,t>, to match argument 'x_e'\n"
       ]
      },
      {
       "output_type": "stream",
       "stream": "stderr",
       "text": [
        "INFO (meta): Coerced guessed type t for 'Cat_t' into <e,t>, to match argument 'x_e'\n"
       ]
      },
      {
       "latex": [
        "$||\\mathbf{\\text{gray}}||^{}_{\\langle{}e,t\\rangle{}} \\:=\\: \\lambda{} x_{e} \\: . \\: {Gray}({x}_{e})$<br />\n",
        "$||\\mathbf{\\text{cat}}||^{}_{\\langle{}e,t\\rangle{}} \\:=\\: \\lambda{} x_{e} \\: . \\: {Cat}({x}_{e})$"
       ],
       "metadata": {},
       "output_type": "pyout",
       "prompt_number": 129,
       "text": [
        "$||\\mathbf{\\text{gray}}||^{}_{\\langle{}e,t\\rangle{}} \\:=\\: \\lambda{} x_{e} \\: . \\: {Gray}({x}_{e})$<br />\n",
        "$||\\mathbf{\\text{cat}}||^{}_{\\langle{}e,t\\rangle{}} \\:=\\: \\lambda{} x_{e} \\: . \\: {Cat}({x}_{e})$"
       ]
      }
     ],
     "prompt_number": 129
    },
    {
     "cell_type": "code",
     "collapsed": false,
     "input": [
      "(gray * cat).latex_step_tree()"
     ],
     "language": "python",
     "metadata": {},
     "outputs": [
      {
       "latex": [
        "1 composition path:<br /><table><tr><td style=\"vertical-align:bottom;padding:0px 10px\" align=\"center\"><table><tr><td style=\"vertical-align:bottom\"><table align=\"center\"><tr><td align=\"center\">$||\\mathbf{\\text{gray}}||^{}_{\\langle{}e,t\\rangle{}}$</td></tr><tr><td align=\"center\">$\\lambda{} x_{e} \\: . \\: {Gray}({x}_{e})$</td></tr></table>\n",
        "</td><td style=\"vertical-align:bottom;padding-bottom:5px\">&nbsp;&nbsp;&nbsp;$\\circ$&nbsp;&nbsp;&nbsp;</td><td style=\"vertical-align:bottom\"><table align=\"center\"><tr><td align=\"center\">$||\\mathbf{\\text{cat}}||^{}_{\\langle{}e,t\\rangle{}}$</td></tr><tr><td align=\"center\">$\\lambda{} x_{e} \\: . \\: {Cat}({x}_{e})$</td></tr></table>\n",
        "</td></tr></table></td><td style=\"vertical-align:bottom;padding-bottom:5px;padding-left:10px\"><b>[PM]</b></td></tr><tr style=\"border-top: 1px solid #848482\"><td align=\"center\"><table style=\"margin-top:10px\"><tr><td style=\"vertical-align:bottom\" align=\"center\">$||\\mathbf{\\text{[gray cat]}}||^{}_{\\langle{}e,t\\rangle{}}$</td></tr><tr><td style=\"vertical-align:bottom\" align=\"center\">$ = \\lambda{} x_{e} \\: . \\: ({Gray}({x}_{e}) \\wedge{} {Cat}({x}_{e}))$</td></tr></table>\n",
        "</td><td></td></tr></table>\n",
        "<br /><br />"
       ],
       "metadata": {},
       "output_type": "pyout",
       "prompt_number": 130,
       "text": [
        "1 composition path:<br /><table><tr><td style=\"vertical-align:bottom;padding:0px 10px\" align=\"center\"><table><tr><td style=\"vertical-align:bottom\"><table align=\"center\"><tr><td align=\"center\">$||\\mathbf{\\text{gray}}||^{}_{\\langle{}e,t\\rangle{}}$</td></tr><tr><td align=\"center\">$\\lambda{} x_{e} \\: . \\: {Gray}({x}_{e})$</td></tr></table>\n",
        "</td><td style=\"vertical-align:bottom;padding-bottom:5px\">&nbsp;&nbsp;&nbsp;$\\circ$&nbsp;&nbsp;&nbsp;</td><td style=\"vertical-align:bottom\"><table align=\"center\"><tr><td align=\"center\">$||\\mathbf{\\text{cat}}||^{}_{\\langle{}e,t\\rangle{}}$</td></tr><tr><td align=\"center\">$\\lambda{} x_{e} \\: . \\: {Cat}({x}_{e})$</td></tr></table>\n",
        "</td></tr></table></td><td style=\"vertical-align:bottom;padding-bottom:5px;padding-left:10px\"><b>[PM]</b></td></tr><tr style=\"border-top: 1px solid #848482\"><td align=\"center\"><table style=\"margin-top:10px\"><tr><td style=\"vertical-align:bottom\" align=\"center\">$||\\mathbf{\\text{[gray cat]}}||^{}_{\\langle{}e,t\\rangle{}}$</td></tr><tr><td style=\"vertical-align:bottom\" align=\"center\">$ = \\lambda{} x_{e} \\: . \\: ({Gray}({x}_{e}) \\wedge{} {Cat}({x}_{e}))$</td></tr></table>\n",
        "</td><td></td></tr></table>\n",
        "<br /><br />"
       ]
      }
     ],
     "prompt_number": 130
    },
    {
     "cell_type": "code",
     "collapsed": false,
     "input": [
      "pm_combinator = te(\"L f_<e,t> : L g_<e,t> : L x_e : f(x) & g(x)\")\n",
      "pm_combinator"
     ],
     "language": "python",
     "metadata": {},
     "outputs": [
      {
       "latex": [
        "$\\lambda{} f_{\\langle{}e,t\\rangle{}} \\: . \\: \\lambda{} g_{\\langle{}e,t\\rangle{}} \\: . \\: \\lambda{} x_{e} \\: . \\: ({f}_{\\langle{}e,t\\rangle{}}({x}_{e}) \\wedge{} {g}_{\\langle{}e,t\\rangle{}}({x}_{e}))$"
       ],
       "metadata": {},
       "output_type": "pyout",
       "prompt_number": 131,
       "text": [
        "(\u03bb f_<e,t>: (\u03bb g_<e,t>: (\u03bb x_e: (f_<e,t>(x_e) & g_<e,t>(x_e)))))"
       ]
      }
     ],
     "prompt_number": 131
    },
    {
     "cell_type": "markdown",
     "metadata": {},
     "source": [
      "The following code creates a composition system with the PM-shift instead of the regular PM operation.\n",
      "\n",
      "Note the neat trick whereby the combinator can be used directly as the typeshift function.  You won't always want to do this, but it is very clean when it works.  It works because though the combinator is a TypedExpr, `__call__` is defined and so it can be treated like any other python function with one argument (exactly what the factory is looking for).  The reduction step is applied by the object constructed from this factory, and can be disabled with a keyword argument."
     ]
    },
    {
     "cell_type": "code",
     "collapsed": false,
     "input": [
      "system = lang.td_system.copy()\n",
      "system.add_rule(lang.unary_factory(pm_combinator, \"PM-shift\", typeshift=True)) # add this as a typeshift\n",
      "system.remove_rule(\"PM\") # remove ordinary PM\n",
      "system.typeshift = True # enable typeshifts in the composition system\n",
      "lang.set_system(system) # set the new system as the default\n",
      "system"
     ],
     "language": "python",
     "metadata": {},
     "outputs": [
      {
       "latex": [
        "Composition system 'H&K simple (copy)'<br />Operations: FA, PA, PM-shift"
       ],
       "metadata": {},
       "output_type": "pyout",
       "prompt_number": 132,
       "text": [
        "Composition system: H&K simple (copy)"
       ]
      }
     ],
     "prompt_number": 132
    },
    {
     "cell_type": "code",
     "collapsed": false,
     "input": [
      "r = (gray * cat)\n",
      "r"
     ],
     "language": "python",
     "metadata": {},
     "outputs": [
      {
       "latex": [
        "2 composition paths. Results:\n",
        "<br />&nbsp;&nbsp;&nbsp;&nbsp;[0]: $||\\mathbf{\\text{[[gray] cat]}}||^{}_{\\langle{}e,t\\rangle{}} \\:=\\: $$\\lambda{} x_{e} \\: . \\: ({Gray}({x}_{e}) \\wedge{} {Cat}({x}_{e}))$\n",
        "<br />&nbsp;&nbsp;&nbsp;&nbsp;[1]: $||\\mathbf{\\text{[[cat] gray]}}||^{}_{\\langle{}e,t\\rangle{}} \\:=\\: $$\\lambda{} x_{e} \\: . \\: ({Cat}({x}_{e}) \\wedge{} {Gray}({x}_{e}))$"
       ],
       "metadata": {},
       "output_type": "pyout",
       "prompt_number": 133,
       "text": [
        "CompositionResult(results=[||[[gray] cat]|| = (\u03bb x_e: (Gray_<e,t>(x_e) & Cat_<e,t>(x_e))), ||[[cat] gray]|| = (\u03bb x_e: (Cat_<e,t>(x_e) & Gray_<e,t>(x_e)))], failures=[||[[gray] [cat]]|| = Type mismatch: '||[gray]|| = (\u03bb g_<e,t>: (\u03bb x_e: (Gray_<e,t>(x_e) & g_<e,t>(x_e))))'/<<e,t>,<e,t>> and '||[cat]|| = (\u03bb g_<e,t>: (\u03bb x_e: (Cat_<e,t>(x_e) & g_<e,t>(x_e))))'/<<e,t>,<e,t>> conflict (mode: Function Application), ||[[cat] [gray]]|| = Type mismatch: '||[cat]|| = (\u03bb g_<e,t>: (\u03bb x_e: (Cat_<e,t>(x_e) & g_<e,t>(x_e))))'/<<e,t>,<e,t>> and '||[gray]|| = (\u03bb g_<e,t>: (\u03bb x_e: (Gray_<e,t>(x_e) & g_<e,t>(x_e))))'/<<e,t>,<e,t>> conflict (mode: Function Application), ||[[gray] [cat]]|| = Type mismatch: '||[gray]|| = (\u03bb g_<e,t>: (\u03bb x_e: (Gray_<e,t>(x_e) & g_<e,t>(x_e))))'/<<e,t>,<e,t>> and '||[cat]|| = (\u03bb g_<e,t>: (\u03bb x_e: (Cat_<e,t>(x_e) & g_<e,t>(x_e))))'/<<e,t>,<e,t>> conflict (mode: Predicate Abstraction), ||[[cat] [gray]]|| = Type mismatch: '||[cat]|| = (\u03bb g_<e,t>: (\u03bb x_e: (Cat_<e,t>(x_e) & g_<e,t>(x_e))))'/<<e,t>,<e,t>> and '||[gray]|| = (\u03bb g_<e,t>: (\u03bb x_e: (Gray_<e,t>(x_e) & g_<e,t>(x_e))))'/<<e,t>,<e,t>> conflict (mode: Predicate Abstraction), ||[cat [gray]]|| = Type mismatch: '||cat|| = (\u03bb x_e: Cat_<e,t>(x_e))'/<e,t> and '||[gray]|| = (\u03bb g_<e,t>: (\u03bb x_e: (Gray_<e,t>(x_e) & g_<e,t>(x_e))))'/<<e,t>,<e,t>> conflict (mode: Function Application), ||[[gray] cat]|| = Type mismatch: '||[gray]|| = (\u03bb g_<e,t>: (\u03bb x_e: (Gray_<e,t>(x_e) & g_<e,t>(x_e))))'/<<e,t>,<e,t>> and '||cat|| = (\u03bb x_e: Cat_<e,t>(x_e))'/<e,t> conflict (mode: Predicate Abstraction), ||[cat [gray]]|| = Type mismatch: '||cat|| = (\u03bb x_e: Cat_<e,t>(x_e))'/<e,t> and '||[gray]|| = (\u03bb g_<e,t>: (\u03bb x_e: (Gray_<e,t>(x_e) & g_<e,t>(x_e))))'/<<e,t>,<e,t>> conflict (mode: Predicate Abstraction), ||[gray [cat]]|| = Type mismatch: '||gray|| = (\u03bb x_e: Gray_<e,t>(x_e))'/<e,t> and '||[cat]|| = (\u03bb g_<e,t>: (\u03bb x_e: (Cat_<e,t>(x_e) & g_<e,t>(x_e))))'/<<e,t>,<e,t>> conflict (mode: Function Application), ||[gray [cat]]|| = Type mismatch: '||gray|| = (\u03bb x_e: Gray_<e,t>(x_e))'/<e,t> and '||[cat]|| = (\u03bb g_<e,t>: (\u03bb x_e: (Cat_<e,t>(x_e) & g_<e,t>(x_e))))'/<<e,t>,<e,t>> conflict (mode: Predicate Abstraction), ||[[cat] gray]|| = Type mismatch: '||[cat]|| = (\u03bb g_<e,t>: (\u03bb x_e: (Cat_<e,t>(x_e) & g_<e,t>(x_e))))'/<<e,t>,<e,t>> and '||gray|| = (\u03bb x_e: Gray_<e,t>(x_e))'/<e,t> conflict (mode: Predicate Abstraction), ||[gray cat]|| = Type mismatch: '||gray|| = (\u03bb x_e: Gray_<e,t>(x_e))'/<e,t> and '||cat|| = (\u03bb x_e: Cat_<e,t>(x_e))'/<e,t> conflict (mode: Function Application), ||[cat gray]|| = Type mismatch: '||cat|| = (\u03bb x_e: Cat_<e,t>(x_e))'/<e,t> and '||gray|| = (\u03bb x_e: Gray_<e,t>(x_e))'/<e,t> conflict (mode: Function Application), ||[gray cat]|| = Type mismatch: '||gray|| = (\u03bb x_e: Gray_<e,t>(x_e))'/<e,t> and '||cat|| = (\u03bb x_e: Cat_<e,t>(x_e))'/<e,t> conflict (mode: Predicate Abstraction), ||[cat gray]|| = Type mismatch: '||cat|| = (\u03bb x_e: Cat_<e,t>(x_e))'/<e,t> and '||gray|| = (\u03bb x_e: Gray_<e,t>(x_e))'/<e,t> conflict (mode: Predicate Abstraction)])"
       ]
      }
     ],
     "prompt_number": 133
    },
    {
     "cell_type": "code",
     "collapsed": false,
     "input": [
      "r.latex_step_tree(derivations=True)"
     ],
     "language": "python",
     "metadata": {},
     "outputs": [
      {
       "latex": [
        "2 composition paths:<br />\n",
        "Path [0]:<br />\n",
        "<table><tr><td style=\"vertical-align:bottom;padding:0px 10px\" align=\"center\"><table><tr><td style=\"vertical-align:bottom\"><table><tr><td style=\"vertical-align:bottom;padding:0px 10px\" align=\"center\"><table><tr><td style=\"vertical-align:bottom\"><table align=\"center\"><tr><td align=\"center\">$||\\mathbf{\\text{gray}}||^{}_{\\langle{}e,t\\rangle{}}$</td></tr><tr><td align=\"center\">$\\lambda{} x_{e} \\: . \\: {Gray}({x}_{e})$</td></tr></table>\n",
        "</td></tr></table></td><td style=\"vertical-align:bottom;padding-bottom:5px;padding-left:10px\"><b>[PM-shift]</b></td></tr><tr style=\"border-top: 1px solid #848482\"><td align=\"center\"><table style=\"margin-top:10px\"><tr><td style=\"vertical-align:bottom\" align=\"center\">$||\\mathbf{\\text{[gray]}}||^{}_{\\langle{}\\langle{}e,t\\rangle{},\\langle{}e,t\\rangle{}\\rangle{}}$</td></tr><tr><td style=\"vertical-align:bottom\" align=\"center\"><table><tr><td style=\"padding-right:5px\"> $=$ </td><td style=\"align:center\">$[\\lambda{} f_{\\langle{}e,t\\rangle{}} \\: . \\: \\lambda{} g_{\\langle{}e,t\\rangle{}} \\: . \\: \\lambda{} x_{e} \\: . \\: ({f}_{\\langle{}e,t\\rangle{}}({x}_{e}) \\wedge{} {g}_{\\langle{}e,t\\rangle{}}({x}_{e}))](\\lambda{} x_{e} \\: . \\: {Gray}({x}_{e}))$</td></tr><tr><td style=\"padding-right:5px\"> $=$ </td><td style=\"align:center\">$\\lambda{} g_{\\langle{}e,t\\rangle{}} \\: . \\: \\lambda{} x_{e} \\: . \\: ([\\lambda{} x_{e} \\: . \\: {Gray}({x}_{e})]({x}_{e}) \\wedge{} {g}_{\\langle{}e,t\\rangle{}}({x}_{e}))$</td></tr><tr><td style=\"padding-right:5px\"> $=$ </td><td style=\"align:center\">$\\lambda{} g_{\\langle{}e,t\\rangle{}} \\: . \\: \\lambda{} x_{e} \\: . \\: ({Gray}({x}_{e}) \\wedge{} {g}_{\\langle{}e,t\\rangle{}}({x}_{e}))$</td></tr></table></td></tr></table>\n",
        "</td><td></td></tr></table>\n",
        "</td><td style=\"vertical-align:bottom;padding-bottom:5px\">&nbsp;&nbsp;&nbsp;$\\circ$&nbsp;&nbsp;&nbsp;</td><td style=\"vertical-align:bottom\"><table align=\"center\"><tr><td align=\"center\">$||\\mathbf{\\text{cat}}||^{}_{\\langle{}e,t\\rangle{}}$</td></tr><tr><td align=\"center\">$\\lambda{} x_{e} \\: . \\: {Cat}({x}_{e})$</td></tr></table>\n",
        "</td></tr></table></td><td style=\"vertical-align:bottom;padding-bottom:5px;padding-left:10px\"><b>[FA]</b></td></tr><tr style=\"border-top: 1px solid #848482\"><td align=\"center\"><table style=\"margin-top:10px\"><tr><td style=\"vertical-align:bottom\" align=\"center\">$||\\mathbf{\\text{[[gray] cat]}}||^{}_{\\langle{}e,t\\rangle{}}$</td></tr><tr><td style=\"vertical-align:bottom\" align=\"center\"><table><tr><td style=\"padding-right:5px\"> $=$ </td><td style=\"align:center\">$[\\lambda{} g_{\\langle{}e,t\\rangle{}} \\: . \\: \\lambda{} x_{e} \\: . \\: ({Gray}({x}_{e}) \\wedge{} {g}_{\\langle{}e,t\\rangle{}}({x}_{e}))](\\lambda{} x_{e} \\: . \\: {Cat}({x}_{e}))$</td></tr><tr><td style=\"padding-right:5px\"> $=$ </td><td style=\"align:center\">$\\lambda{} x_{e} \\: . \\: ({Gray}({x}_{e}) \\wedge{} [\\lambda{} x_{e} \\: . \\: {Cat}({x}_{e})]({x}_{e}))$</td></tr><tr><td style=\"padding-right:5px\"> $=$ </td><td style=\"align:center\">$\\lambda{} x_{e} \\: . \\: ({Gray}({x}_{e}) \\wedge{} {Cat}({x}_{e}))$</td></tr></table></td></tr></table>\n",
        "</td><td></td></tr></table>\n",
        "<br /><br />Path [1]:<br />\n",
        "<table><tr><td style=\"vertical-align:bottom;padding:0px 10px\" align=\"center\"><table><tr><td style=\"vertical-align:bottom\"><table><tr><td style=\"vertical-align:bottom;padding:0px 10px\" align=\"center\"><table><tr><td style=\"vertical-align:bottom\"><table align=\"center\"><tr><td align=\"center\">$||\\mathbf{\\text{cat}}||^{}_{\\langle{}e,t\\rangle{}}$</td></tr><tr><td align=\"center\">$\\lambda{} x_{e} \\: . \\: {Cat}({x}_{e})$</td></tr></table>\n",
        "</td></tr></table></td><td style=\"vertical-align:bottom;padding-bottom:5px;padding-left:10px\"><b>[PM-shift]</b></td></tr><tr style=\"border-top: 1px solid #848482\"><td align=\"center\"><table style=\"margin-top:10px\"><tr><td style=\"vertical-align:bottom\" align=\"center\">$||\\mathbf{\\text{[cat]}}||^{}_{\\langle{}\\langle{}e,t\\rangle{},\\langle{}e,t\\rangle{}\\rangle{}}$</td></tr><tr><td style=\"vertical-align:bottom\" align=\"center\"><table><tr><td style=\"padding-right:5px\"> $=$ </td><td style=\"align:center\">$[\\lambda{} f_{\\langle{}e,t\\rangle{}} \\: . \\: \\lambda{} g_{\\langle{}e,t\\rangle{}} \\: . \\: \\lambda{} x_{e} \\: . \\: ({f}_{\\langle{}e,t\\rangle{}}({x}_{e}) \\wedge{} {g}_{\\langle{}e,t\\rangle{}}({x}_{e}))](\\lambda{} x_{e} \\: . \\: {Cat}({x}_{e}))$</td></tr><tr><td style=\"padding-right:5px\"> $=$ </td><td style=\"align:center\">$\\lambda{} g_{\\langle{}e,t\\rangle{}} \\: . \\: \\lambda{} x_{e} \\: . \\: ([\\lambda{} x_{e} \\: . \\: {Cat}({x}_{e})]({x}_{e}) \\wedge{} {g}_{\\langle{}e,t\\rangle{}}({x}_{e}))$</td></tr><tr><td style=\"padding-right:5px\"> $=$ </td><td style=\"align:center\">$\\lambda{} g_{\\langle{}e,t\\rangle{}} \\: . \\: \\lambda{} x_{e} \\: . \\: ({Cat}({x}_{e}) \\wedge{} {g}_{\\langle{}e,t\\rangle{}}({x}_{e}))$</td></tr></table></td></tr></table>\n",
        "</td><td></td></tr></table>\n",
        "</td><td style=\"vertical-align:bottom;padding-bottom:5px\">&nbsp;&nbsp;&nbsp;$\\circ$&nbsp;&nbsp;&nbsp;</td><td style=\"vertical-align:bottom\"><table align=\"center\"><tr><td align=\"center\">$||\\mathbf{\\text{gray}}||^{}_{\\langle{}e,t\\rangle{}}$</td></tr><tr><td align=\"center\">$\\lambda{} x_{e} \\: . \\: {Gray}({x}_{e})$</td></tr></table>\n",
        "</td></tr></table></td><td style=\"vertical-align:bottom;padding-bottom:5px;padding-left:10px\"><b>[FA]</b></td></tr><tr style=\"border-top: 1px solid #848482\"><td align=\"center\"><table style=\"margin-top:10px\"><tr><td style=\"vertical-align:bottom\" align=\"center\">$||\\mathbf{\\text{[[cat] gray]}}||^{}_{\\langle{}e,t\\rangle{}}$</td></tr><tr><td style=\"vertical-align:bottom\" align=\"center\"><table><tr><td style=\"padding-right:5px\"> $=$ </td><td style=\"align:center\">$[\\lambda{} g_{\\langle{}e,t\\rangle{}} \\: . \\: \\lambda{} x_{e} \\: . \\: ({Cat}({x}_{e}) \\wedge{} {g}_{\\langle{}e,t\\rangle{}}({x}_{e}))](\\lambda{} x_{e} \\: . \\: {Gray}({x}_{e}))$</td></tr><tr><td style=\"padding-right:5px\"> $=$ </td><td style=\"align:center\">$\\lambda{} x_{e} \\: . \\: ({Cat}({x}_{e}) \\wedge{} [\\lambda{} x_{e} \\: . \\: {Gray}({x}_{e})]({x}_{e}))$</td></tr><tr><td style=\"padding-right:5px\"> $=$ </td><td style=\"align:center\">$\\lambda{} x_{e} \\: . \\: ({Cat}({x}_{e}) \\wedge{} {Gray}({x}_{e}))$</td></tr></table></td></tr></table>\n",
        "</td><td></td></tr></table>\n",
        "<br /><br />"
       ],
       "metadata": {},
       "output_type": "pyout",
       "prompt_number": 97,
       "text": [
        "2 composition paths:<br />\n",
        "Path [0]:<br />\n",
        "<table><tr><td style=\"vertical-align:bottom;padding:0px 10px\" align=\"center\"><table><tr><td style=\"vertical-align:bottom\"><table><tr><td style=\"vertical-align:bottom;padding:0px 10px\" align=\"center\"><table><tr><td style=\"vertical-align:bottom\"><table align=\"center\"><tr><td align=\"center\">$||\\mathbf{\\text{gray}}||^{}_{\\langle{}e,t\\rangle{}}$</td></tr><tr><td align=\"center\">$\\lambda{} x_{e} \\: . \\: {Gray}({x}_{e})$</td></tr></table>\n",
        "</td></tr></table></td><td style=\"vertical-align:bottom;padding-bottom:5px;padding-left:10px\"><b>[PM-shift]</b></td></tr><tr style=\"border-top: 1px solid #848482\"><td align=\"center\"><table style=\"margin-top:10px\"><tr><td style=\"vertical-align:bottom\" align=\"center\">$||\\mathbf{\\text{[gray]}}||^{}_{\\langle{}\\langle{}e,t\\rangle{},\\langle{}e,t\\rangle{}\\rangle{}}$</td></tr><tr><td style=\"vertical-align:bottom\" align=\"center\"><table><tr><td style=\"padding-right:5px\"> $=$ </td><td style=\"align:center\">$[\\lambda{} f_{\\langle{}e,t\\rangle{}} \\: . \\: \\lambda{} g_{\\langle{}e,t\\rangle{}} \\: . \\: \\lambda{} x_{e} \\: . \\: ({f}_{\\langle{}e,t\\rangle{}}({x}_{e}) \\wedge{} {g}_{\\langle{}e,t\\rangle{}}({x}_{e}))](\\lambda{} x_{e} \\: . \\: {Gray}({x}_{e}))$</td></tr><tr><td style=\"padding-right:5px\"> $=$ </td><td style=\"align:center\">$\\lambda{} g_{\\langle{}e,t\\rangle{}} \\: . \\: \\lambda{} x_{e} \\: . \\: ([\\lambda{} x_{e} \\: . \\: {Gray}({x}_{e})]({x}_{e}) \\wedge{} {g}_{\\langle{}e,t\\rangle{}}({x}_{e}))$</td></tr><tr><td style=\"padding-right:5px\"> $=$ </td><td style=\"align:center\">$\\lambda{} g_{\\langle{}e,t\\rangle{}} \\: . \\: \\lambda{} x_{e} \\: . \\: ({Gray}({x}_{e}) \\wedge{} {g}_{\\langle{}e,t\\rangle{}}({x}_{e}))$</td></tr></table></td></tr></table>\n",
        "</td><td></td></tr></table>\n",
        "</td><td style=\"vertical-align:bottom;padding-bottom:5px\">&nbsp;&nbsp;&nbsp;$\\circ$&nbsp;&nbsp;&nbsp;</td><td style=\"vertical-align:bottom\"><table align=\"center\"><tr><td align=\"center\">$||\\mathbf{\\text{cat}}||^{}_{\\langle{}e,t\\rangle{}}$</td></tr><tr><td align=\"center\">$\\lambda{} x_{e} \\: . \\: {Cat}({x}_{e})$</td></tr></table>\n",
        "</td></tr></table></td><td style=\"vertical-align:bottom;padding-bottom:5px;padding-left:10px\"><b>[FA]</b></td></tr><tr style=\"border-top: 1px solid #848482\"><td align=\"center\"><table style=\"margin-top:10px\"><tr><td style=\"vertical-align:bottom\" align=\"center\">$||\\mathbf{\\text{[[gray] cat]}}||^{}_{\\langle{}e,t\\rangle{}}$</td></tr><tr><td style=\"vertical-align:bottom\" align=\"center\"><table><tr><td style=\"padding-right:5px\"> $=$ </td><td style=\"align:center\">$[\\lambda{} g_{\\langle{}e,t\\rangle{}} \\: . \\: \\lambda{} x_{e} \\: . \\: ({Gray}({x}_{e}) \\wedge{} {g}_{\\langle{}e,t\\rangle{}}({x}_{e}))](\\lambda{} x_{e} \\: . \\: {Cat}({x}_{e}))$</td></tr><tr><td style=\"padding-right:5px\"> $=$ </td><td style=\"align:center\">$\\lambda{} x_{e} \\: . \\: ({Gray}({x}_{e}) \\wedge{} [\\lambda{} x_{e} \\: . \\: {Cat}({x}_{e})]({x}_{e}))$</td></tr><tr><td style=\"padding-right:5px\"> $=$ </td><td style=\"align:center\">$\\lambda{} x_{e} \\: . \\: ({Gray}({x}_{e}) \\wedge{} {Cat}({x}_{e}))$</td></tr></table></td></tr></table>\n",
        "</td><td></td></tr></table>\n",
        "<br /><br />Path [1]:<br />\n",
        "<table><tr><td style=\"vertical-align:bottom;padding:0px 10px\" align=\"center\"><table><tr><td style=\"vertical-align:bottom\"><table><tr><td style=\"vertical-align:bottom;padding:0px 10px\" align=\"center\"><table><tr><td style=\"vertical-align:bottom\"><table align=\"center\"><tr><td align=\"center\">$||\\mathbf{\\text{cat}}||^{}_{\\langle{}e,t\\rangle{}}$</td></tr><tr><td align=\"center\">$\\lambda{} x_{e} \\: . \\: {Cat}({x}_{e})$</td></tr></table>\n",
        "</td></tr></table></td><td style=\"vertical-align:bottom;padding-bottom:5px;padding-left:10px\"><b>[PM-shift]</b></td></tr><tr style=\"border-top: 1px solid #848482\"><td align=\"center\"><table style=\"margin-top:10px\"><tr><td style=\"vertical-align:bottom\" align=\"center\">$||\\mathbf{\\text{[cat]}}||^{}_{\\langle{}\\langle{}e,t\\rangle{},\\langle{}e,t\\rangle{}\\rangle{}}$</td></tr><tr><td style=\"vertical-align:bottom\" align=\"center\"><table><tr><td style=\"padding-right:5px\"> $=$ </td><td style=\"align:center\">$[\\lambda{} f_{\\langle{}e,t\\rangle{}} \\: . \\: \\lambda{} g_{\\langle{}e,t\\rangle{}} \\: . \\: \\lambda{} x_{e} \\: . \\: ({f}_{\\langle{}e,t\\rangle{}}({x}_{e}) \\wedge{} {g}_{\\langle{}e,t\\rangle{}}({x}_{e}))](\\lambda{} x_{e} \\: . \\: {Cat}({x}_{e}))$</td></tr><tr><td style=\"padding-right:5px\"> $=$ </td><td style=\"align:center\">$\\lambda{} g_{\\langle{}e,t\\rangle{}} \\: . \\: \\lambda{} x_{e} \\: . \\: ([\\lambda{} x_{e} \\: . \\: {Cat}({x}_{e})]({x}_{e}) \\wedge{} {g}_{\\langle{}e,t\\rangle{}}({x}_{e}))$</td></tr><tr><td style=\"padding-right:5px\"> $=$ </td><td style=\"align:center\">$\\lambda{} g_{\\langle{}e,t\\rangle{}} \\: . \\: \\lambda{} x_{e} \\: . \\: ({Cat}({x}_{e}) \\wedge{} {g}_{\\langle{}e,t\\rangle{}}({x}_{e}))$</td></tr></table></td></tr></table>\n",
        "</td><td></td></tr></table>\n",
        "</td><td style=\"vertical-align:bottom;padding-bottom:5px\">&nbsp;&nbsp;&nbsp;$\\circ$&nbsp;&nbsp;&nbsp;</td><td style=\"vertical-align:bottom\"><table align=\"center\"><tr><td align=\"center\">$||\\mathbf{\\text{gray}}||^{}_{\\langle{}e,t\\rangle{}}$</td></tr><tr><td align=\"center\">$\\lambda{} x_{e} \\: . \\: {Gray}({x}_{e})$</td></tr></table>\n",
        "</td></tr></table></td><td style=\"vertical-align:bottom;padding-bottom:5px;padding-left:10px\"><b>[FA]</b></td></tr><tr style=\"border-top: 1px solid #848482\"><td align=\"center\"><table style=\"margin-top:10px\"><tr><td style=\"vertical-align:bottom\" align=\"center\">$||\\mathbf{\\text{[[cat] gray]}}||^{}_{\\langle{}e,t\\rangle{}}$</td></tr><tr><td style=\"vertical-align:bottom\" align=\"center\"><table><tr><td style=\"padding-right:5px\"> $=$ </td><td style=\"align:center\">$[\\lambda{} g_{\\langle{}e,t\\rangle{}} \\: . \\: \\lambda{} x_{e} \\: . \\: ({Cat}({x}_{e}) \\wedge{} {g}_{\\langle{}e,t\\rangle{}}({x}_{e}))](\\lambda{} x_{e} \\: . \\: {Gray}({x}_{e}))$</td></tr><tr><td style=\"padding-right:5px\"> $=$ </td><td style=\"align:center\">$\\lambda{} x_{e} \\: . \\: ({Cat}({x}_{e}) \\wedge{} [\\lambda{} x_{e} \\: . \\: {Gray}({x}_{e})]({x}_{e}))$</td></tr><tr><td style=\"padding-right:5px\"> $=$ </td><td style=\"align:center\">$\\lambda{} x_{e} \\: . \\: ({Cat}({x}_{e}) \\wedge{} {Gray}({x}_{e}))$</td></tr></table></td></tr></table>\n",
        "</td><td></td></tr></table>\n",
        "<br /><br />"
       ]
      }
     ],
     "prompt_number": 97
    },
    {
     "cell_type": "markdown",
     "metadata": {},
     "source": [
      "### Quantifiers in object position\n",
      "\n",
      "The \"standard\" approach to quantifiers in object position is to assume that a type mismatch can trigger QR.  However, an alternative is to type-shift the DP to a type where it can take a transitive predicate and ignore the external argument position.\n",
      "\n",
      "This would need to be generalized for n-ary predicates."
     ]
    },
    {
     "cell_type": "code",
     "collapsed": false,
     "input": [
      "%%lamb\n",
      "||every|| = L f_<e,t> : L g_<e,t> : Forall x_e : f(x) >> g(x)\n",
      "||doctor|| = L x_e : Doctor(x)\n",
      "||someone|| = L f_<e,t> : Exists x_e : Human(x) & f(x)\n",
      "||saw|| = L x_e : L y_e : Saw(y,x)\n",
      "||alfonso|| = Alfonso_e"
     ],
     "language": "python",
     "metadata": {},
     "outputs": [
      {
       "output_type": "stream",
       "stream": "stderr",
       "text": [
        "INFO (meta): Coerced guessed type t for 'Doctor_t' into <e,t>, to match argument 'x_e'\n"
       ]
      },
      {
       "output_type": "stream",
       "stream": "stderr",
       "text": [
        "INFO (meta): Coerced guessed type t for 'Human_t' into <e,t>, to match argument 'x_e'\n"
       ]
      },
      {
       "output_type": "stream",
       "stream": "stderr",
       "text": [
        "INFO (meta): Coerced guessed type t for 'Saw_t' into <(e,e),t>, to match argument '(y_e, x_e)'\n"
       ]
      },
      {
       "latex": [
        "$||\\mathbf{\\text{every}}||^{}_{\\langle{}\\langle{}e,t\\rangle{},\\langle{}\\langle{}e,t\\rangle{},t\\rangle{}\\rangle{}} \\:=\\: \\lambda{} f_{\\langle{}e,t\\rangle{}} \\: . \\: \\lambda{} g_{\\langle{}e,t\\rangle{}} \\: . \\: \\forall{} x_{e} \\: . \\: ({f}_{\\langle{}e,t\\rangle{}}({x}_{e}) \\rightarrow{} {g}_{\\langle{}e,t\\rangle{}}({x}_{e}))$<br />\n",
        "$||\\mathbf{\\text{doctor}}||^{}_{\\langle{}e,t\\rangle{}} \\:=\\: \\lambda{} x_{e} \\: . \\: {Doctor}({x}_{e})$<br />\n",
        "$||\\mathbf{\\text{someone}}||^{}_{\\langle{}\\langle{}e,t\\rangle{},t\\rangle{}} \\:=\\: \\lambda{} f_{\\langle{}e,t\\rangle{}} \\: . \\: \\exists{} x_{e} \\: . \\: ({Human}({x}_{e}) \\wedge{} {f}_{\\langle{}e,t\\rangle{}}({x}_{e}))$<br />\n",
        "$||\\mathbf{\\text{saw}}||^{}_{\\langle{}e,\\langle{}e,t\\rangle{}\\rangle{}} \\:=\\: \\lambda{} x_{e} \\: . \\: \\lambda{} y_{e} \\: . \\: {Saw}({y}_{e}, {x}_{e})$<br />\n",
        "$||\\mathbf{\\text{alfonso}}||^{}_{e} \\:=\\: {Alfonso}_{e}$"
       ],
       "metadata": {},
       "output_type": "pyout",
       "prompt_number": 1,
       "text": [
        "$||\\mathbf{\\text{every}}||^{}_{\\langle{}\\langle{}e,t\\rangle{},\\langle{}\\langle{}e,t\\rangle{},t\\rangle{}\\rangle{}} \\:=\\: \\lambda{} f_{\\langle{}e,t\\rangle{}} \\: . \\: \\lambda{} g_{\\langle{}e,t\\rangle{}} \\: . \\: \\forall{} x_{e} \\: . \\: ({f}_{\\langle{}e,t\\rangle{}}({x}_{e}) \\rightarrow{} {g}_{\\langle{}e,t\\rangle{}}({x}_{e}))$<br />\n",
        "$||\\mathbf{\\text{doctor}}||^{}_{\\langle{}e,t\\rangle{}} \\:=\\: \\lambda{} x_{e} \\: . \\: {Doctor}({x}_{e})$<br />\n",
        "$||\\mathbf{\\text{someone}}||^{}_{\\langle{}\\langle{}e,t\\rangle{},t\\rangle{}} \\:=\\: \\lambda{} f_{\\langle{}e,t\\rangle{}} \\: . \\: \\exists{} x_{e} \\: . \\: ({Human}({x}_{e}) \\wedge{} {f}_{\\langle{}e,t\\rangle{}}({x}_{e}))$<br />\n",
        "$||\\mathbf{\\text{saw}}||^{}_{\\langle{}e,\\langle{}e,t\\rangle{}\\rangle{}} \\:=\\: \\lambda{} x_{e} \\: . \\: \\lambda{} y_{e} \\: . \\: {Saw}({y}_{e}, {x}_{e})$<br />\n",
        "$||\\mathbf{\\text{alfonso}}||^{}_{e} \\:=\\: {Alfonso}_{e}$"
       ]
      }
     ],
     "prompt_number": 1
    },
    {
     "cell_type": "code",
     "collapsed": false,
     "input": [
      "((every * doctor) * (saw * alfonso)).latex_step_tree()"
     ],
     "language": "python",
     "metadata": {},
     "outputs": [
      {
       "latex": [
        "1 composition path:<br /><table><tr><td style=\"vertical-align:bottom;padding:0px 10px\" align=\"center\"><table><tr><td style=\"vertical-align:bottom\"><table><tr><td style=\"vertical-align:bottom;padding:0px 10px\" align=\"center\"><table><tr><td style=\"vertical-align:bottom\"><table align=\"center\"><tr><td align=\"center\">$||\\mathbf{\\text{every}}||^{}_{\\langle{}\\langle{}e,t\\rangle{},\\langle{}\\langle{}e,t\\rangle{},t\\rangle{}\\rangle{}}$</td></tr><tr><td align=\"center\">$\\lambda{} f_{\\langle{}e,t\\rangle{}} \\: . \\: \\lambda{} g_{\\langle{}e,t\\rangle{}} \\: . \\: \\forall{} x_{e} \\: . \\: ({f}_{\\langle{}e,t\\rangle{}}({x}_{e}) \\rightarrow{} {g}_{\\langle{}e,t\\rangle{}}({x}_{e}))$</td></tr></table>\n",
        "</td><td style=\"vertical-align:bottom;padding-bottom:5px\">&nbsp;&nbsp;&nbsp;$\\circ$&nbsp;&nbsp;&nbsp;</td><td style=\"vertical-align:bottom\"><table align=\"center\"><tr><td align=\"center\">$||\\mathbf{\\text{doctor}}||^{}_{\\langle{}e,t\\rangle{}}$</td></tr><tr><td align=\"center\">$\\lambda{} x_{e} \\: . \\: {Doctor}({x}_{e})$</td></tr></table>\n",
        "</td></tr></table></td><td style=\"vertical-align:bottom;padding-bottom:5px;padding-left:10px\"><b>[FA]</b></td></tr><tr style=\"border-top: 1px solid #848482\"><td align=\"center\"><table style=\"margin-top:10px\"><tr><td style=\"vertical-align:bottom\" align=\"center\">$||\\mathbf{\\text{[every doctor]}}||^{}_{\\langle{}\\langle{}e,t\\rangle{},t\\rangle{}}$</td></tr><tr><td style=\"vertical-align:bottom\" align=\"center\">$ = \\lambda{} g_{\\langle{}e,t\\rangle{}} \\: . \\: \\forall{} x_{e} \\: . \\: ({Doctor}({x}_{e}) \\rightarrow{} {g}_{\\langle{}e,t\\rangle{}}({x}_{e}))$</td></tr></table>\n",
        "</td><td></td></tr></table>\n",
        "</td><td style=\"vertical-align:bottom;padding-bottom:5px\">&nbsp;&nbsp;&nbsp;$\\circ$&nbsp;&nbsp;&nbsp;</td><td style=\"vertical-align:bottom\"><table><tr><td style=\"vertical-align:bottom;padding:0px 10px\" align=\"center\"><table><tr><td style=\"vertical-align:bottom\"><table align=\"center\"><tr><td align=\"center\">$||\\mathbf{\\text{saw}}||^{}_{\\langle{}e,\\langle{}e,t\\rangle{}\\rangle{}}$</td></tr><tr><td align=\"center\">$\\lambda{} x_{e} \\: . \\: \\lambda{} y_{e} \\: . \\: {Saw}({y}_{e}, {x}_{e})$</td></tr></table>\n",
        "</td><td style=\"vertical-align:bottom;padding-bottom:5px\">&nbsp;&nbsp;&nbsp;$\\circ$&nbsp;&nbsp;&nbsp;</td><td style=\"vertical-align:bottom\"><table align=\"center\"><tr><td align=\"center\">$||\\mathbf{\\text{alfonso}}||^{}_{e}$</td></tr><tr><td align=\"center\">${Alfonso}_{e}$</td></tr></table>\n",
        "</td></tr></table></td><td style=\"vertical-align:bottom;padding-bottom:5px;padding-left:10px\"><b>[FA]</b></td></tr><tr style=\"border-top: 1px solid #848482\"><td align=\"center\"><table style=\"margin-top:10px\"><tr><td style=\"vertical-align:bottom\" align=\"center\">$||\\mathbf{\\text{[saw alfonso]}}||^{}_{\\langle{}e,t\\rangle{}}$</td></tr><tr><td style=\"vertical-align:bottom\" align=\"center\">$ = \\lambda{} y_{e} \\: . \\: {Saw}({y}_{e}, {Alfonso}_{e})$</td></tr></table>\n",
        "</td><td></td></tr></table>\n",
        "</td></tr></table></td><td style=\"vertical-align:bottom;padding-bottom:5px;padding-left:10px\"><b>[FA]</b></td></tr><tr style=\"border-top: 1px solid #848482\"><td align=\"center\"><table style=\"margin-top:10px\"><tr><td style=\"vertical-align:bottom\" align=\"center\">$||\\mathbf{\\text{[[every doctor] [saw alfonso]]}}||^{}_{t}$</td></tr><tr><td style=\"vertical-align:bottom\" align=\"center\">$ = \\forall{} x_{e} \\: . \\: ({Doctor}({x}_{e}) \\rightarrow{} {Saw}({x}_{e}, {Alfonso}_{e}))$</td></tr></table>\n",
        "</td><td></td></tr></table>\n",
        "<br /><br />"
       ],
       "metadata": {},
       "output_type": "pyout",
       "prompt_number": 2,
       "text": [
        "1 composition path:<br /><table><tr><td style=\"vertical-align:bottom;padding:0px 10px\" align=\"center\"><table><tr><td style=\"vertical-align:bottom\"><table><tr><td style=\"vertical-align:bottom;padding:0px 10px\" align=\"center\"><table><tr><td style=\"vertical-align:bottom\"><table align=\"center\"><tr><td align=\"center\">$||\\mathbf{\\text{every}}||^{}_{\\langle{}\\langle{}e,t\\rangle{},\\langle{}\\langle{}e,t\\rangle{},t\\rangle{}\\rangle{}}$</td></tr><tr><td align=\"center\">$\\lambda{} f_{\\langle{}e,t\\rangle{}} \\: . \\: \\lambda{} g_{\\langle{}e,t\\rangle{}} \\: . \\: \\forall{} x_{e} \\: . \\: ({f}_{\\langle{}e,t\\rangle{}}({x}_{e}) \\rightarrow{} {g}_{\\langle{}e,t\\rangle{}}({x}_{e}))$</td></tr></table>\n",
        "</td><td style=\"vertical-align:bottom;padding-bottom:5px\">&nbsp;&nbsp;&nbsp;$\\circ$&nbsp;&nbsp;&nbsp;</td><td style=\"vertical-align:bottom\"><table align=\"center\"><tr><td align=\"center\">$||\\mathbf{\\text{doctor}}||^{}_{\\langle{}e,t\\rangle{}}$</td></tr><tr><td align=\"center\">$\\lambda{} x_{e} \\: . \\: {Doctor}({x}_{e})$</td></tr></table>\n",
        "</td></tr></table></td><td style=\"vertical-align:bottom;padding-bottom:5px;padding-left:10px\"><b>[FA]</b></td></tr><tr style=\"border-top: 1px solid #848482\"><td align=\"center\"><table style=\"margin-top:10px\"><tr><td style=\"vertical-align:bottom\" align=\"center\">$||\\mathbf{\\text{[every doctor]}}||^{}_{\\langle{}\\langle{}e,t\\rangle{},t\\rangle{}}$</td></tr><tr><td style=\"vertical-align:bottom\" align=\"center\">$ = \\lambda{} g_{\\langle{}e,t\\rangle{}} \\: . \\: \\forall{} x_{e} \\: . \\: ({Doctor}({x}_{e}) \\rightarrow{} {g}_{\\langle{}e,t\\rangle{}}({x}_{e}))$</td></tr></table>\n",
        "</td><td></td></tr></table>\n",
        "</td><td style=\"vertical-align:bottom;padding-bottom:5px\">&nbsp;&nbsp;&nbsp;$\\circ$&nbsp;&nbsp;&nbsp;</td><td style=\"vertical-align:bottom\"><table><tr><td style=\"vertical-align:bottom;padding:0px 10px\" align=\"center\"><table><tr><td style=\"vertical-align:bottom\"><table align=\"center\"><tr><td align=\"center\">$||\\mathbf{\\text{saw}}||^{}_{\\langle{}e,\\langle{}e,t\\rangle{}\\rangle{}}$</td></tr><tr><td align=\"center\">$\\lambda{} x_{e} \\: . \\: \\lambda{} y_{e} \\: . \\: {Saw}({y}_{e}, {x}_{e})$</td></tr></table>\n",
        "</td><td style=\"vertical-align:bottom;padding-bottom:5px\">&nbsp;&nbsp;&nbsp;$\\circ$&nbsp;&nbsp;&nbsp;</td><td style=\"vertical-align:bottom\"><table align=\"center\"><tr><td align=\"center\">$||\\mathbf{\\text{alfonso}}||^{}_{e}$</td></tr><tr><td align=\"center\">${Alfonso}_{e}$</td></tr></table>\n",
        "</td></tr></table></td><td style=\"vertical-align:bottom;padding-bottom:5px;padding-left:10px\"><b>[FA]</b></td></tr><tr style=\"border-top: 1px solid #848482\"><td align=\"center\"><table style=\"margin-top:10px\"><tr><td style=\"vertical-align:bottom\" align=\"center\">$||\\mathbf{\\text{[saw alfonso]}}||^{}_{\\langle{}e,t\\rangle{}}$</td></tr><tr><td style=\"vertical-align:bottom\" align=\"center\">$ = \\lambda{} y_{e} \\: . \\: {Saw}({y}_{e}, {Alfonso}_{e})$</td></tr></table>\n",
        "</td><td></td></tr></table>\n",
        "</td></tr></table></td><td style=\"vertical-align:bottom;padding-bottom:5px;padding-left:10px\"><b>[FA]</b></td></tr><tr style=\"border-top: 1px solid #848482\"><td align=\"center\"><table style=\"margin-top:10px\"><tr><td style=\"vertical-align:bottom\" align=\"center\">$||\\mathbf{\\text{[[every doctor] [saw alfonso]]}}||^{}_{t}$</td></tr><tr><td style=\"vertical-align:bottom\" align=\"center\">$ = \\forall{} x_{e} \\: . \\: ({Doctor}({x}_{e}) \\rightarrow{} {Saw}({x}_{e}, {Alfonso}_{e}))$</td></tr></table>\n",
        "</td><td></td></tr></table>\n",
        "<br /><br />"
       ]
      }
     ],
     "prompt_number": 2
    },
    {
     "cell_type": "code",
     "collapsed": false,
     "input": [
      "(saw * (every * doctor))"
     ],
     "language": "python",
     "metadata": {},
     "outputs": [
      {
       "latex": [
        "Composition failed.  Attempts:<br />\n",
        "&nbsp;&nbsp;&nbsp;&nbsp;Type mismatch: '$||\\mathbf{\\text{saw}}||^{}_{\\langle{}e,\\langle{}e,t\\rangle{}\\rangle{}} \\:=\\: $$\\lambda{} x_{e} \\: . \\: \\lambda{} y_{e} \\: . \\: {Saw}({y}_{e}, {x}_{e})$'/$\\langle{}e,\\langle{}e,t\\rangle{}\\rangle{}$ and '$||\\mathbf{\\text{[every doctor]}}||^{}_{\\langle{}\\langle{}e,t\\rangle{},t\\rangle{}} \\:=\\: $$\\lambda{} g_{\\langle{}e,t\\rangle{}} \\: . \\: \\forall{} x_{e} \\: . \\: ({Doctor}({x}_{e}) \\rightarrow{} {g}_{\\langle{}e,t\\rangle{}}({x}_{e}))$'/$\\langle{}\\langle{}e,t\\rangle{},t\\rangle{}$ conflict (mode: Function Application)<br />\n",
        "&nbsp;&nbsp;&nbsp;&nbsp;Type mismatch: '$||\\mathbf{\\text{[every doctor]}}||^{}_{\\langle{}\\langle{}e,t\\rangle{},t\\rangle{}} \\:=\\: $$\\lambda{} g_{\\langle{}e,t\\rangle{}} \\: . \\: \\forall{} x_{e} \\: . \\: ({Doctor}({x}_{e}) \\rightarrow{} {g}_{\\langle{}e,t\\rangle{}}({x}_{e}))$'/$\\langle{}\\langle{}e,t\\rangle{},t\\rangle{}$ and '$||\\mathbf{\\text{saw}}||^{}_{\\langle{}e,\\langle{}e,t\\rangle{}\\rangle{}} \\:=\\: $$\\lambda{} x_{e} \\: . \\: \\lambda{} y_{e} \\: . \\: {Saw}({y}_{e}, {x}_{e})$'/$\\langle{}e,\\langle{}e,t\\rangle{}\\rangle{}$ conflict (mode: Function Application)<br />\n",
        "&nbsp;&nbsp;&nbsp;&nbsp;Type mismatch: '$||\\mathbf{\\text{saw}}||^{}_{\\langle{}e,\\langle{}e,t\\rangle{}\\rangle{}} \\:=\\: $$\\lambda{} x_{e} \\: . \\: \\lambda{} y_{e} \\: . \\: {Saw}({y}_{e}, {x}_{e})$'/$\\langle{}e,\\langle{}e,t\\rangle{}\\rangle{}$ and '$||\\mathbf{\\text{[every doctor]}}||^{}_{\\langle{}\\langle{}e,t\\rangle{},t\\rangle{}} \\:=\\: $$\\lambda{} g_{\\langle{}e,t\\rangle{}} \\: . \\: \\forall{} x_{e} \\: . \\: ({Doctor}({x}_{e}) \\rightarrow{} {g}_{\\langle{}e,t\\rangle{}}({x}_{e}))$'/$\\langle{}\\langle{}e,t\\rangle{},t\\rangle{}$ conflict (mode: Predicate Modification)<br />\n",
        "&nbsp;&nbsp;&nbsp;&nbsp;Type mismatch: '$||\\mathbf{\\text{saw}}||^{}_{\\langle{}e,\\langle{}e,t\\rangle{}\\rangle{}} \\:=\\: $$\\lambda{} x_{e} \\: . \\: \\lambda{} y_{e} \\: . \\: {Saw}({y}_{e}, {x}_{e})$'/$\\langle{}e,\\langle{}e,t\\rangle{}\\rangle{}$ and '$||\\mathbf{\\text{[every doctor]}}||^{}_{\\langle{}\\langle{}e,t\\rangle{},t\\rangle{}} \\:=\\: $$\\lambda{} g_{\\langle{}e,t\\rangle{}} \\: . \\: \\forall{} x_{e} \\: . \\: ({Doctor}({x}_{e}) \\rightarrow{} {g}_{\\langle{}e,t\\rangle{}}({x}_{e}))$'/$\\langle{}\\langle{}e,t\\rangle{},t\\rangle{}$ conflict (mode: Predicate Abstraction)<br />\n",
        "&nbsp;&nbsp;&nbsp;&nbsp;Type mismatch: '$||\\mathbf{\\text{[every doctor]}}||^{}_{\\langle{}\\langle{}e,t\\rangle{},t\\rangle{}} \\:=\\: $$\\lambda{} g_{\\langle{}e,t\\rangle{}} \\: . \\: \\forall{} x_{e} \\: . \\: ({Doctor}({x}_{e}) \\rightarrow{} {g}_{\\langle{}e,t\\rangle{}}({x}_{e}))$'/$\\langle{}\\langle{}e,t\\rangle{},t\\rangle{}$ and '$||\\mathbf{\\text{saw}}||^{}_{\\langle{}e,\\langle{}e,t\\rangle{}\\rangle{}} \\:=\\: $$\\lambda{} x_{e} \\: . \\: \\lambda{} y_{e} \\: . \\: {Saw}({y}_{e}, {x}_{e})$'/$\\langle{}e,\\langle{}e,t\\rangle{}\\rangle{}$ conflict (mode: Predicate Abstraction)<br />\n"
       ],
       "metadata": {},
       "output_type": "pyout",
       "prompt_number": 3,
       "text": [
        "CompositionResult(results=[], failures=[||[saw [every doctor]]|| = Type mismatch: '||saw|| = (\u03bb x_e: (\u03bb y_e: Saw_<(e,e),t>(y_e, x_e)))'/<e,<e,t>> and '||[every doctor]|| = (\u03bb g_<e,t>: (Forall x_e: (Doctor_<e,t>(x_e) >> g_<e,t>(x_e))))'/<<e,t>,t> conflict (mode: Function Application), ||[[every doctor] saw]|| = Type mismatch: '||[every doctor]|| = (\u03bb g_<e,t>: (Forall x_e: (Doctor_<e,t>(x_e) >> g_<e,t>(x_e))))'/<<e,t>,t> and '||saw|| = (\u03bb x_e: (\u03bb y_e: Saw_<(e,e),t>(y_e, x_e)))'/<e,<e,t>> conflict (mode: Function Application), ||[saw [every doctor]]|| = Type mismatch: '||saw|| = (\u03bb x_e: (\u03bb y_e: Saw_<(e,e),t>(y_e, x_e)))'/<e,<e,t>> and '||[every doctor]|| = (\u03bb g_<e,t>: (Forall x_e: (Doctor_<e,t>(x_e) >> g_<e,t>(x_e))))'/<<e,t>,t> conflict (mode: Predicate Modification), ||[saw [every doctor]]|| = Type mismatch: '||saw|| = (\u03bb x_e: (\u03bb y_e: Saw_<(e,e),t>(y_e, x_e)))'/<e,<e,t>> and '||[every doctor]|| = (\u03bb g_<e,t>: (Forall x_e: (Doctor_<e,t>(x_e) >> g_<e,t>(x_e))))'/<<e,t>,t> conflict (mode: Predicate Abstraction), ||[[every doctor] saw]|| = Type mismatch: '||[every doctor]|| = (\u03bb g_<e,t>: (Forall x_e: (Doctor_<e,t>(x_e) >> g_<e,t>(x_e))))'/<<e,t>,t> and '||saw|| = (\u03bb x_e: (\u03bb y_e: Saw_<(e,e),t>(y_e, x_e)))'/<e,<e,t>> conflict (mode: Predicate Abstraction)])"
       ]
      }
     ],
     "prompt_number": 3
    },
    {
     "cell_type": "code",
     "collapsed": false,
     "input": [
      "gq_lift_combinator = te(\"L f_<<e,t>,t> : L g_<e,<e,t>> : L x_e : f(L y_e : g(y)(x))\")"
     ],
     "language": "python",
     "metadata": {},
     "outputs": [],
     "prompt_number": 24
    },
    {
     "cell_type": "code",
     "collapsed": true,
     "input": [
      "obj_gq_shift(someone.content).reduce_all()"
     ],
     "language": "python",
     "metadata": {},
     "outputs": [
      {
       "latex": [
        "$\\lambda{} g_{\\langle{}e,\\langle{}e,t\\rangle{}\\rangle{}} \\: . \\: \\lambda{} x_{e} \\: . \\: \\exists{} x1_{e} \\: . \\: ({Human}({x1}_{e}) \\wedge{} {g}_{\\langle{}e,\\langle{}e,t\\rangle{}\\rangle{}}({x1}_{e})({x}_{e}))$"
       ],
       "metadata": {},
       "output_type": "pyout",
       "prompt_number": 25,
       "text": [
        "(\u03bb g_<e,<e,t>>: (\u03bb x_e: (Exists x1_e: (Human_<e,t>(x1_e) & g_<e,<e,t>>(x1_e)(x_e)))))"
       ]
      }
     ],
     "prompt_number": 25
    },
    {
     "cell_type": "code",
     "collapsed": false,
     "input": [],
     "language": "python",
     "metadata": {},
     "outputs": [],
     "prompt_number": 25
    },
    {
     "cell_type": "code",
     "collapsed": false,
     "input": [
      "system = lang.td_system.copy()\n",
      "system.add_rule(lang.unary_factory(gq_lift_combinator, \"gq-lift-trans\", typeshift=True))\n",
      "system.typeshift = True\n",
      "lang.set_system(system)\n",
      "system"
     ],
     "language": "python",
     "metadata": {},
     "outputs": [
      {
       "latex": [
        "Composition system 'H&K simple (copy)'<br />Operations: FA, PM, PA, gq-lift-trans"
       ],
       "metadata": {},
       "output_type": "pyout",
       "prompt_number": 26,
       "text": [
        "Composition system: H&K simple (copy)"
       ]
      }
     ],
     "prompt_number": 26
    },
    {
     "cell_type": "code",
     "collapsed": false,
     "input": [
      "(alfonso * (saw * someone)).reduce_all()"
     ],
     "language": "python",
     "metadata": {},
     "outputs": [
      {
       "latex": [
        "1 composition path.  Result:\n",
        "<br />&nbsp;&nbsp;&nbsp;&nbsp;[0]: $||\\mathbf{\\text{[[[someone] saw] alfonso]}}||^{}_{t} \\:=\\: $$\\exists{} x1_{e} \\: . \\: ({Human}({x1}_{e}) \\wedge{} {Saw}({Alfonso}_{e}, {x1}_{e}))$"
       ],
       "metadata": {},
       "output_type": "pyout",
       "prompt_number": 27,
       "text": [
        "CompositionResult(results=[||[[[someone] saw] alfonso]|| = (Exists x1_e: (Human_<e,t>(x1_e) & Saw_<(e,e),t>(Alfonso_e, x1_e)))], failures=[||[alfonso [[someone] saw]]|| = Type mismatch: '||alfonso|| = Alfonso_e'/e and '||[[someone] saw]|| = (\u03bb x_e: (Exists x1_e: (Human_<e,t>(x1_e) & Saw_<(e,e),t>(x_e, x1_e))))'/<e,t> conflict (mode: Function Application), ||[alfonso [[someone] saw]]|| = Type mismatch: '||alfonso|| = Alfonso_e'/e and '||[[someone] saw]|| = (\u03bb x_e: (Exists x1_e: (Human_<e,t>(x1_e) & Saw_<(e,e),t>(x_e, x1_e))))'/<e,t> conflict (mode: Predicate Modification), ||[alfonso [[someone] saw]]|| = Type mismatch: '||alfonso|| = Alfonso_e'/e and '||[[someone] saw]|| = (\u03bb x_e: (Exists x1_e: (Human_<e,t>(x1_e) & Saw_<(e,e),t>(x_e, x1_e))))'/<e,t> conflict (mode: Predicate Abstraction), ||[[[someone] saw] alfonso]|| = Type mismatch: '||[[someone] saw]|| = (\u03bb x_e: (Exists x1_e: (Human_<e,t>(x1_e) & Saw_<(e,e),t>(x_e, x1_e))))'/<e,t> and '||alfonso|| = Alfonso_e'/e conflict (mode: Predicate Abstraction)])"
       ]
      }
     ],
     "prompt_number": 27
    },
    {
     "cell_type": "code",
     "collapsed": false,
     "input": [
      "(someone * (saw * (every * doctor))).reduce_all()"
     ],
     "language": "python",
     "metadata": {},
     "outputs": [
      {
       "latex": [
        "1 composition path.  Result:\n",
        "<br />&nbsp;&nbsp;&nbsp;&nbsp;[0]: $||\\mathbf{\\text{[someone [[[every doctor]] saw]]}}||^{}_{t} \\:=\\: $$\\exists{} x_{e} \\: . \\: ({Human}({x}_{e}) \\wedge{} \\forall{} x1_{e} \\: . \\: ({Doctor}({x1}_{e}) \\rightarrow{} {Saw}({x}_{e}, {x1}_{e})))$"
       ],
       "metadata": {},
       "output_type": "pyout",
       "prompt_number": 8,
       "text": [
        "CompositionResult(results=[||[someone [[[every doctor]] saw]]|| = (Exists x_e: (Human_<e,t>(x_e) & (Forall x1_e: (Doctor_<e,t>(x1_e) >> Saw_<(e,e),t>(x_e, x1_e)))))], failures=[||[[[[every doctor]] saw] someone]|| = Type mismatch: '||[[[every doctor]] saw]|| = (\u03bb x_e: (Forall x1_e: (Doctor_<e,t>(x1_e) >> Saw_<(e,e),t>(x_e, x1_e))))'/<e,t> and '||someone|| = (\u03bb f_<e,t>: (Exists x_e: (Human_<e,t>(x_e) & f_<e,t>(x_e))))'/<<e,t>,t> conflict (mode: Function Application), ||[someone [[[every doctor]] saw]]|| = Type mismatch: '||someone|| = (\u03bb f_<e,t>: (Exists x_e: (Human_<e,t>(x_e) & f_<e,t>(x_e))))'/<<e,t>,t> and '||[[[every doctor]] saw]|| = (\u03bb x_e: (Forall x1_e: (Doctor_<e,t>(x1_e) >> Saw_<(e,e),t>(x_e, x1_e))))'/<e,t> conflict (mode: Predicate Modification), ||[someone [[[every doctor]] saw]]|| = Type mismatch: '||someone|| = (\u03bb f_<e,t>: (Exists x_e: (Human_<e,t>(x_e) & f_<e,t>(x_e))))'/<<e,t>,t> and '||[[[every doctor]] saw]|| = (\u03bb x_e: (Forall x1_e: (Doctor_<e,t>(x1_e) >> Saw_<(e,e),t>(x_e, x1_e))))'/<e,t> conflict (mode: Predicate Abstraction), ||[[[[every doctor]] saw] someone]|| = Type mismatch: '||[[[every doctor]] saw]|| = (\u03bb x_e: (Forall x1_e: (Doctor_<e,t>(x1_e) >> Saw_<(e,e),t>(x_e, x1_e))))'/<e,t> and '||someone|| = (\u03bb f_<e,t>: (Exists x_e: (Human_<e,t>(x_e) & f_<e,t>(x_e))))'/<<e,t>,t> conflict (mode: Predicate Abstraction)])"
       ]
      }
     ],
     "prompt_number": 8
    },
    {
     "cell_type": "code",
     "collapsed": false,
     "input": [
      "r = ((every * doctor) * (saw * someone)).reduce_all()\n",
      "r"
     ],
     "language": "python",
     "metadata": {},
     "outputs": [
      {
       "latex": [
        "1 composition path.  Result:\n",
        "<br />&nbsp;&nbsp;&nbsp;&nbsp;[0]: $||\\mathbf{\\text{[[every doctor] [[someone] saw]]}}||^{}_{t} \\:=\\: $$\\forall{} x_{e} \\: . \\: ({Doctor}({x}_{e}) \\rightarrow{} \\exists{} x1_{e} \\: . \\: ({Human}({x1}_{e}) \\wedge{} {Saw}({x}_{e}, {x1}_{e})))$"
       ],
       "metadata": {},
       "output_type": "pyout",
       "prompt_number": 9,
       "text": [
        "CompositionResult(results=[||[[every doctor] [[someone] saw]]|| = (Forall x_e: (Doctor_<e,t>(x_e) >> (Exists x1_e: (Human_<e,t>(x1_e) & Saw_<(e,e),t>(x_e, x1_e)))))], failures=[||[[[someone] saw] [every doctor]]|| = Type mismatch: '||[[someone] saw]|| = (\u03bb x_e: (Exists x1_e: (Human_<e,t>(x1_e) & Saw_<(e,e),t>(x_e, x1_e))))'/<e,t> and '||[every doctor]|| = (\u03bb g_<e,t>: (Forall x_e: (Doctor_<e,t>(x_e) >> g_<e,t>(x_e))))'/<<e,t>,t> conflict (mode: Function Application), ||[[every doctor] [[someone] saw]]|| = Type mismatch: '||[every doctor]|| = (\u03bb g_<e,t>: (Forall x_e: (Doctor_<e,t>(x_e) >> g_<e,t>(x_e))))'/<<e,t>,t> and '||[[someone] saw]|| = (\u03bb x_e: (Exists x1_e: (Human_<e,t>(x1_e) & Saw_<(e,e),t>(x_e, x1_e))))'/<e,t> conflict (mode: Predicate Modification), ||[[every doctor] [[someone] saw]]|| = Type mismatch: '||[every doctor]|| = (\u03bb g_<e,t>: (Forall x_e: (Doctor_<e,t>(x_e) >> g_<e,t>(x_e))))'/<<e,t>,t> and '||[[someone] saw]|| = (\u03bb x_e: (Exists x1_e: (Human_<e,t>(x1_e) & Saw_<(e,e),t>(x_e, x1_e))))'/<e,t> conflict (mode: Predicate Abstraction), ||[[[someone] saw] [every doctor]]|| = Type mismatch: '||[[someone] saw]|| = (\u03bb x_e: (Exists x1_e: (Human_<e,t>(x1_e) & Saw_<(e,e),t>(x_e, x1_e))))'/<e,t> and '||[every doctor]|| = (\u03bb g_<e,t>: (Forall x_e: (Doctor_<e,t>(x_e) >> g_<e,t>(x_e))))'/<<e,t>,t> conflict (mode: Predicate Abstraction)])"
       ]
      }
     ],
     "prompt_number": 9
    },
    {
     "cell_type": "code",
     "collapsed": false,
     "input": [
      "r.latex_step_tree()"
     ],
     "language": "python",
     "metadata": {},
     "outputs": [
      {
       "latex": [
        "1 composition path:<br /><table><tr><td style=\"vertical-align:bottom;padding:0px 10px\" align=\"center\"><table><tr><td style=\"vertical-align:bottom\"><table><tr><td style=\"vertical-align:bottom;padding:0px 10px\" align=\"center\"><table><tr><td style=\"vertical-align:bottom\"><table align=\"center\"><tr><td align=\"center\">$||\\mathbf{\\text{every}}||^{}_{\\langle{}\\langle{}e,t\\rangle{},\\langle{}\\langle{}e,t\\rangle{},t\\rangle{}\\rangle{}}$</td></tr><tr><td align=\"center\">$\\lambda{} f_{\\langle{}e,t\\rangle{}} \\: . \\: \\lambda{} g_{\\langle{}e,t\\rangle{}} \\: . \\: \\forall{} x_{e} \\: . \\: ({f}_{\\langle{}e,t\\rangle{}}({x}_{e}) \\rightarrow{} {g}_{\\langle{}e,t\\rangle{}}({x}_{e}))$</td></tr></table>\n",
        "</td><td style=\"vertical-align:bottom;padding-bottom:5px\">&nbsp;&nbsp;&nbsp;$\\circ$&nbsp;&nbsp;&nbsp;</td><td style=\"vertical-align:bottom\"><table align=\"center\"><tr><td align=\"center\">$||\\mathbf{\\text{doctor}}||^{}_{\\langle{}e,t\\rangle{}}$</td></tr><tr><td align=\"center\">$\\lambda{} x_{e} \\: . \\: {Doctor}({x}_{e})$</td></tr></table>\n",
        "</td></tr></table></td><td style=\"vertical-align:bottom;padding-bottom:5px;padding-left:10px\"><b>[FA]</b></td></tr><tr style=\"border-top: 1px solid #848482\"><td align=\"center\"><table style=\"margin-top:10px\"><tr><td style=\"vertical-align:bottom\" align=\"center\">$||\\mathbf{\\text{[every doctor]}}||^{}_{\\langle{}\\langle{}e,t\\rangle{},t\\rangle{}}$</td></tr><tr><td style=\"vertical-align:bottom\" align=\"center\">$ = \\lambda{} g_{\\langle{}e,t\\rangle{}} \\: . \\: \\forall{} x_{e} \\: . \\: ({Doctor}({x}_{e}) \\rightarrow{} {g}_{\\langle{}e,t\\rangle{}}({x}_{e}))$</td></tr></table>\n",
        "</td><td></td></tr></table>\n",
        "</td><td style=\"vertical-align:bottom;padding-bottom:5px\">&nbsp;&nbsp;&nbsp;$\\circ$&nbsp;&nbsp;&nbsp;</td><td style=\"vertical-align:bottom\"><table><tr><td style=\"vertical-align:bottom;padding:0px 10px\" align=\"center\"><table><tr><td style=\"vertical-align:bottom\"><table><tr><td style=\"vertical-align:bottom;padding:0px 10px\" align=\"center\"><table><tr><td style=\"vertical-align:bottom\"><table align=\"center\"><tr><td align=\"center\">$||\\mathbf{\\text{someone}}||^{}_{\\langle{}\\langle{}e,t\\rangle{},t\\rangle{}}$</td></tr><tr><td align=\"center\">$\\lambda{} f_{\\langle{}e,t\\rangle{}} \\: . \\: \\exists{} x_{e} \\: . \\: ({Human}({x}_{e}) \\wedge{} {f}_{\\langle{}e,t\\rangle{}}({x}_{e}))$</td></tr></table>\n",
        "</td></tr></table></td><td style=\"vertical-align:bottom;padding-bottom:5px;padding-left:10px\"><b>[gq-lift-trans]</b></td></tr><tr style=\"border-top: 1px solid #848482\"><td align=\"center\"><table style=\"margin-top:10px\"><tr><td style=\"vertical-align:bottom\" align=\"center\">$||\\mathbf{\\text{[someone]}}||^{}_{\\langle{}\\langle{}e,\\langle{}e,t\\rangle{}\\rangle{},\\langle{}e,t\\rangle{}\\rangle{}}$</td></tr><tr><td style=\"vertical-align:bottom\" align=\"center\">$ = \\lambda{} g_{\\langle{}e,\\langle{}e,t\\rangle{}\\rangle{}} \\: . \\: \\lambda{} x_{e} \\: . \\: \\exists{} x1_{e} \\: . \\: ({Human}({x1}_{e}) \\wedge{} {g}_{\\langle{}e,\\langle{}e,t\\rangle{}\\rangle{}}({x1}_{e})({x}_{e}))$</td></tr></table>\n",
        "</td><td></td></tr></table>\n",
        "</td><td style=\"vertical-align:bottom;padding-bottom:5px\">&nbsp;&nbsp;&nbsp;$\\circ$&nbsp;&nbsp;&nbsp;</td><td style=\"vertical-align:bottom\"><table align=\"center\"><tr><td align=\"center\">$||\\mathbf{\\text{saw}}||^{}_{\\langle{}e,\\langle{}e,t\\rangle{}\\rangle{}}$</td></tr><tr><td align=\"center\">$\\lambda{} x_{e} \\: . \\: \\lambda{} y_{e} \\: . \\: {Saw}({y}_{e}, {x}_{e})$</td></tr></table>\n",
        "</td></tr></table></td><td style=\"vertical-align:bottom;padding-bottom:5px;padding-left:10px\"><b>[FA]</b></td></tr><tr style=\"border-top: 1px solid #848482\"><td align=\"center\"><table style=\"margin-top:10px\"><tr><td style=\"vertical-align:bottom\" align=\"center\">$||\\mathbf{\\text{[[someone] saw]}}||^{}_{\\langle{}e,t\\rangle{}}$</td></tr><tr><td style=\"vertical-align:bottom\" align=\"center\">$ = \\lambda{} x_{e} \\: . \\: \\exists{} x1_{e} \\: . \\: ({Human}({x1}_{e}) \\wedge{} {Saw}({x}_{e}, {x1}_{e}))$</td></tr></table>\n",
        "</td><td></td></tr></table>\n",
        "</td></tr></table></td><td style=\"vertical-align:bottom;padding-bottom:5px;padding-left:10px\"><b>[FA]</b></td></tr><tr style=\"border-top: 1px solid #848482\"><td align=\"center\"><table style=\"margin-top:10px\"><tr><td style=\"vertical-align:bottom\" align=\"center\">$||\\mathbf{\\text{[[every doctor] [[someone] saw]]}}||^{}_{t}$</td></tr><tr><td style=\"vertical-align:bottom\" align=\"center\">$ = \\forall{} x_{e} \\: . \\: ({Doctor}({x}_{e}) \\rightarrow{} \\exists{} x1_{e} \\: . \\: ({Human}({x1}_{e}) \\wedge{} {Saw}({x}_{e}, {x1}_{e})))$</td></tr></table>\n",
        "</td><td></td></tr></table>\n",
        "<br /><br />"
       ],
       "metadata": {},
       "output_type": "pyout",
       "prompt_number": 10,
       "text": [
        "1 composition path:<br /><table><tr><td style=\"vertical-align:bottom;padding:0px 10px\" align=\"center\"><table><tr><td style=\"vertical-align:bottom\"><table><tr><td style=\"vertical-align:bottom;padding:0px 10px\" align=\"center\"><table><tr><td style=\"vertical-align:bottom\"><table align=\"center\"><tr><td align=\"center\">$||\\mathbf{\\text{every}}||^{}_{\\langle{}\\langle{}e,t\\rangle{},\\langle{}\\langle{}e,t\\rangle{},t\\rangle{}\\rangle{}}$</td></tr><tr><td align=\"center\">$\\lambda{} f_{\\langle{}e,t\\rangle{}} \\: . \\: \\lambda{} g_{\\langle{}e,t\\rangle{}} \\: . \\: \\forall{} x_{e} \\: . \\: ({f}_{\\langle{}e,t\\rangle{}}({x}_{e}) \\rightarrow{} {g}_{\\langle{}e,t\\rangle{}}({x}_{e}))$</td></tr></table>\n",
        "</td><td style=\"vertical-align:bottom;padding-bottom:5px\">&nbsp;&nbsp;&nbsp;$\\circ$&nbsp;&nbsp;&nbsp;</td><td style=\"vertical-align:bottom\"><table align=\"center\"><tr><td align=\"center\">$||\\mathbf{\\text{doctor}}||^{}_{\\langle{}e,t\\rangle{}}$</td></tr><tr><td align=\"center\">$\\lambda{} x_{e} \\: . \\: {Doctor}({x}_{e})$</td></tr></table>\n",
        "</td></tr></table></td><td style=\"vertical-align:bottom;padding-bottom:5px;padding-left:10px\"><b>[FA]</b></td></tr><tr style=\"border-top: 1px solid #848482\"><td align=\"center\"><table style=\"margin-top:10px\"><tr><td style=\"vertical-align:bottom\" align=\"center\">$||\\mathbf{\\text{[every doctor]}}||^{}_{\\langle{}\\langle{}e,t\\rangle{},t\\rangle{}}$</td></tr><tr><td style=\"vertical-align:bottom\" align=\"center\">$ = \\lambda{} g_{\\langle{}e,t\\rangle{}} \\: . \\: \\forall{} x_{e} \\: . \\: ({Doctor}({x}_{e}) \\rightarrow{} {g}_{\\langle{}e,t\\rangle{}}({x}_{e}))$</td></tr></table>\n",
        "</td><td></td></tr></table>\n",
        "</td><td style=\"vertical-align:bottom;padding-bottom:5px\">&nbsp;&nbsp;&nbsp;$\\circ$&nbsp;&nbsp;&nbsp;</td><td style=\"vertical-align:bottom\"><table><tr><td style=\"vertical-align:bottom;padding:0px 10px\" align=\"center\"><table><tr><td style=\"vertical-align:bottom\"><table><tr><td style=\"vertical-align:bottom;padding:0px 10px\" align=\"center\"><table><tr><td style=\"vertical-align:bottom\"><table align=\"center\"><tr><td align=\"center\">$||\\mathbf{\\text{someone}}||^{}_{\\langle{}\\langle{}e,t\\rangle{},t\\rangle{}}$</td></tr><tr><td align=\"center\">$\\lambda{} f_{\\langle{}e,t\\rangle{}} \\: . \\: \\exists{} x_{e} \\: . \\: ({Human}({x}_{e}) \\wedge{} {f}_{\\langle{}e,t\\rangle{}}({x}_{e}))$</td></tr></table>\n",
        "</td></tr></table></td><td style=\"vertical-align:bottom;padding-bottom:5px;padding-left:10px\"><b>[gq-lift-trans]</b></td></tr><tr style=\"border-top: 1px solid #848482\"><td align=\"center\"><table style=\"margin-top:10px\"><tr><td style=\"vertical-align:bottom\" align=\"center\">$||\\mathbf{\\text{[someone]}}||^{}_{\\langle{}\\langle{}e,\\langle{}e,t\\rangle{}\\rangle{},\\langle{}e,t\\rangle{}\\rangle{}}$</td></tr><tr><td style=\"vertical-align:bottom\" align=\"center\">$ = \\lambda{} g_{\\langle{}e,\\langle{}e,t\\rangle{}\\rangle{}} \\: . \\: \\lambda{} x_{e} \\: . \\: \\exists{} x1_{e} \\: . \\: ({Human}({x1}_{e}) \\wedge{} {g}_{\\langle{}e,\\langle{}e,t\\rangle{}\\rangle{}}({x1}_{e})({x}_{e}))$</td></tr></table>\n",
        "</td><td></td></tr></table>\n",
        "</td><td style=\"vertical-align:bottom;padding-bottom:5px\">&nbsp;&nbsp;&nbsp;$\\circ$&nbsp;&nbsp;&nbsp;</td><td style=\"vertical-align:bottom\"><table align=\"center\"><tr><td align=\"center\">$||\\mathbf{\\text{saw}}||^{}_{\\langle{}e,\\langle{}e,t\\rangle{}\\rangle{}}$</td></tr><tr><td align=\"center\">$\\lambda{} x_{e} \\: . \\: \\lambda{} y_{e} \\: . \\: {Saw}({y}_{e}, {x}_{e})$</td></tr></table>\n",
        "</td></tr></table></td><td style=\"vertical-align:bottom;padding-bottom:5px;padding-left:10px\"><b>[FA]</b></td></tr><tr style=\"border-top: 1px solid #848482\"><td align=\"center\"><table style=\"margin-top:10px\"><tr><td style=\"vertical-align:bottom\" align=\"center\">$||\\mathbf{\\text{[[someone] saw]}}||^{}_{\\langle{}e,t\\rangle{}}$</td></tr><tr><td style=\"vertical-align:bottom\" align=\"center\">$ = \\lambda{} x_{e} \\: . \\: \\exists{} x1_{e} \\: . \\: ({Human}({x1}_{e}) \\wedge{} {Saw}({x}_{e}, {x1}_{e}))$</td></tr></table>\n",
        "</td><td></td></tr></table>\n",
        "</td></tr></table></td><td style=\"vertical-align:bottom;padding-bottom:5px;padding-left:10px\"><b>[FA]</b></td></tr><tr style=\"border-top: 1px solid #848482\"><td align=\"center\"><table style=\"margin-top:10px\"><tr><td style=\"vertical-align:bottom\" align=\"center\">$||\\mathbf{\\text{[[every doctor] [[someone] saw]]}}||^{}_{t}$</td></tr><tr><td style=\"vertical-align:bottom\" align=\"center\">$ = \\forall{} x_{e} \\: . \\: ({Doctor}({x}_{e}) \\rightarrow{} \\exists{} x1_{e} \\: . \\: ({Human}({x1}_{e}) \\wedge{} {Saw}({x}_{e}, {x1}_{e})))$</td></tr></table>\n",
        "</td><td></td></tr></table>\n",
        "<br /><br />"
       ]
      }
     ],
     "prompt_number": 10
    },
    {
     "cell_type": "markdown",
     "metadata": {},
     "source": [
      "This so far produces only surface scope readings when there are multiple quantifiers.\n",
      "\n",
      "Following work in CCQ, one might imagine that composition needn't match constituency; if the subject shifts and composes with the verb before the object we can get the other scoping.  (In CCG this is implemented using a function composition operation, not a type-shift.)"
     ]
    },
    {
     "cell_type": "code",
     "collapsed": false,
     "input": [
      "r = (someone * (saw * (every * doctor)))\n",
      "r"
     ],
     "language": "python",
     "metadata": {},
     "outputs": [
      {
       "latex": [
        "2 composition paths. Results:\n",
        "<br />&nbsp;&nbsp;&nbsp;&nbsp;[0]: $||\\mathbf{\\text{[[[saw] [every doctor]] someone]}}||^{}_{t} \\:=\\: $$\\exists{} x_{e} \\: . \\: ({Human}({x}_{e}) \\wedge{} \\forall{} x1_{e} \\: . \\: ({Doctor}({x1}_{e}) \\rightarrow{} {Saw}({x}_{e}, {x1}_{e})))$\n",
        "<br />&nbsp;&nbsp;&nbsp;&nbsp;[1]: $||\\mathbf{\\text{[[[saw] [every doctor]] someone]}}||^{}_{t} \\:=\\: $$\\forall{} x_{e} \\: . \\: ({Doctor}({x}_{e}) \\rightarrow{} \\exists{} x1_{e} \\: . \\: ({Human}({x1}_{e}) \\wedge{} {Saw}({x1}_{e}, {x}_{e})))$"
       ],
       "metadata": {},
       "output_type": "pyout",
       "prompt_number": 19,
       "text": [
        "CompositionResult(results=[||[[[saw] [every doctor]] someone]|| = (Exists x_e: (Human_<e,t>(x_e) & (Forall x1_e: (Doctor_<e,t>(x1_e) >> Saw_<(e,e),t>(x_e, x1_e))))), ||[[[saw] [every doctor]] someone]|| = (Forall x_e: (Doctor_<e,t>(x_e) >> (Exists x1_e: (Human_<e,t>(x1_e) & Saw_<(e,e),t>(x1_e, x_e)))))], failures=[||[someone [[saw] [every doctor]]]|| = Type mismatch: '||someone|| = (\u03bb f_<e,t>: (Exists x_e: (Human_<e,t>(x_e) & f_<e,t>(x_e))))'/<<e,t>,t> and '||[[saw] [every doctor]]|| = (\u03bb g_<<e,t>,t>: g_<<e,t>,t>((\u03bb y_e: (Forall x_e: (Doctor_<e,t>(x_e) >> Saw_<(e,e),t>(y_e, x_e))))))'/<<<e,t>,t>,t> conflict (mode: Function Application), ||[someone [[saw] [every doctor]]]|| = Type mismatch: '||someone|| = (\u03bb f_<e,t>: (Exists x_e: (Human_<e,t>(x_e) & f_<e,t>(x_e))))'/<<e,t>,t> and '||[[saw] [every doctor]]|| = (\u03bb g_<<e,t>,t>: g_<<e,t>,t>((\u03bb y_e: (Forall x_e: (Doctor_<e,t>(x_e) >> Saw_<(e,e),t>(y_e, x_e))))))'/<<<e,t>,t>,t> conflict (mode: Predicate Modification), ||[someone [[saw] [every doctor]]]|| = Type mismatch: '||someone|| = (\u03bb f_<e,t>: (Exists x_e: (Human_<e,t>(x_e) & f_<e,t>(x_e))))'/<<e,t>,t> and '||[[saw] [every doctor]]|| = (\u03bb g_<<e,t>,t>: g_<<e,t>,t>((\u03bb y_e: (Forall x_e: (Doctor_<e,t>(x_e) >> Saw_<(e,e),t>(y_e, x_e))))))'/<<<e,t>,t>,t> conflict (mode: Predicate Abstraction), ||[[[saw] [every doctor]] someone]|| = Type mismatch: '||[[saw] [every doctor]]|| = (\u03bb g_<<e,t>,t>: g_<<e,t>,t>((\u03bb y_e: (Forall x_e: (Doctor_<e,t>(x_e) >> Saw_<(e,e),t>(y_e, x_e))))))'/<<<e,t>,t>,t> and '||someone|| = (\u03bb f_<e,t>: (Exists x_e: (Human_<e,t>(x_e) & f_<e,t>(x_e))))'/<<e,t>,t> conflict (mode: Predicate Abstraction), ||[someone [[saw] [every doctor]]]|| = Type mismatch: '||someone|| = (\u03bb f_<e,t>: (Exists x_e: (Human_<e,t>(x_e) & f_<e,t>(x_e))))'/<<e,t>,t> and '||[[saw] [every doctor]]|| = (\u03bb g_<<e,t>,t>: (Forall x_e: (Doctor_<e,t>(x_e) >> g_<<e,t>,t>((\u03bb y_e: Saw_<(e,e),t>(y_e, x_e))))))'/<<<e,t>,t>,t> conflict (mode: Function Application), ||[someone [[saw] [every doctor]]]|| = Type mismatch: '||someone|| = (\u03bb f_<e,t>: (Exists x_e: (Human_<e,t>(x_e) & f_<e,t>(x_e))))'/<<e,t>,t> and '||[[saw] [every doctor]]|| = (\u03bb g_<<e,t>,t>: (Forall x_e: (Doctor_<e,t>(x_e) >> g_<<e,t>,t>((\u03bb y_e: Saw_<(e,e),t>(y_e, x_e))))))'/<<<e,t>,t>,t> conflict (mode: Predicate Modification), ||[someone [[saw] [every doctor]]]|| = Type mismatch: '||someone|| = (\u03bb f_<e,t>: (Exists x_e: (Human_<e,t>(x_e) & f_<e,t>(x_e))))'/<<e,t>,t> and '||[[saw] [every doctor]]|| = (\u03bb g_<<e,t>,t>: (Forall x_e: (Doctor_<e,t>(x_e) >> g_<<e,t>,t>((\u03bb y_e: Saw_<(e,e),t>(y_e, x_e))))))'/<<<e,t>,t>,t> conflict (mode: Predicate Abstraction), ||[[[saw] [every doctor]] someone]|| = Type mismatch: '||[[saw] [every doctor]]|| = (\u03bb g_<<e,t>,t>: (Forall x_e: (Doctor_<e,t>(x_e) >> g_<<e,t>,t>((\u03bb y_e: Saw_<(e,e),t>(y_e, x_e))))))'/<<<e,t>,t>,t> and '||someone|| = (\u03bb f_<e,t>: (Exists x_e: (Human_<e,t>(x_e) & f_<e,t>(x_e))))'/<<e,t>,t> conflict (mode: Predicate Abstraction)])"
       ]
      }
     ],
     "prompt_number": 19
    },
    {
     "cell_type": "markdown",
     "metadata": {},
     "source": [
      "Someone interested in constituency might find this unsatisfying.  How could this be resolved using a type-shift?  One idea (due to Hendriks) is to build scope-taking shifts that operate on verb meanings.  This is not necessarily more satisfying.."
     ]
    },
    {
     "cell_type": "code",
     "collapsed": false,
     "input": [
      "surface_shift_comb = te(\"L v_<e,<e,t>> : L f_<<e,t>,t> : L g_<<e,t>,t> : g(L y_e : f(L x_e : (v(x)(y))))\")\n",
      "inverse_shift_comb = te(\"L v_<e,<e,t>> : L f_<<e,t>,t> : L g_<<e,t>,t> : f(L x_e : g(L y_e : (v(x)(y))))\")\n",
      "\n",
      "inverse_shift_comb(saw.content).reduce_all()"
     ],
     "language": "python",
     "metadata": {},
     "outputs": [
      {
       "latex": [
        "$\\lambda{} f_{\\langle{}\\langle{}e,t\\rangle{},t\\rangle{}} \\: . \\: \\lambda{} g_{\\langle{}\\langle{}e,t\\rangle{},t\\rangle{}} \\: . \\: {f}_{\\langle{}\\langle{}e,t\\rangle{},t\\rangle{}}(\\lambda{} x_{e} \\: . \\: {g}_{\\langle{}\\langle{}e,t\\rangle{},t\\rangle{}}(\\lambda{} y_{e} \\: . \\: {Saw}({y}_{e}, {x}_{e})))$"
       ],
       "metadata": {},
       "output_type": "pyout",
       "prompt_number": 20,
       "text": [
        "(\u03bb f_<<e,t>,t>: (\u03bb g_<<e,t>,t>: f_<<e,t>,t>((\u03bb x_e: g_<<e,t>,t>((\u03bb y_e: Saw_<(e,e),t>(y_e, x_e)))))))"
       ]
      }
     ],
     "prompt_number": 20
    },
    {
     "cell_type": "code",
     "collapsed": false,
     "input": [
      "system = lang.td_system.copy()\n",
      "system.add_rule(lang.unary_factory(surface_shift_comb, \"surface\", typeshift=True))\n",
      "system.add_rule(lang.unary_factory(inverse_shift_comb, \"inverse\", typeshift=True))\n",
      "system.typeshift = True\n",
      "lang.set_system(system)\n",
      "system"
     ],
     "language": "python",
     "metadata": {},
     "outputs": [
      {
       "latex": [
        "Composition system 'H&K simple (copy)'<br />Operations: FA, PM, PA, surface, inverse"
       ],
       "metadata": {},
       "output_type": "pyout",
       "prompt_number": 21,
       "text": [
        "Composition system: H&K simple (copy)"
       ]
      }
     ],
     "prompt_number": 21
    },
    {
     "cell_type": "code",
     "collapsed": false,
     "input": [
      "r = (someone * ((every * doctor) * saw))\n",
      "r"
     ],
     "language": "python",
     "metadata": {},
     "outputs": [
      {
       "latex": [
        "2 composition paths. Results:\n",
        "<br />&nbsp;&nbsp;&nbsp;&nbsp;[0]: $||\\mathbf{\\text{[[[saw] [every doctor]] someone]}}||^{}_{t} \\:=\\: $$\\exists{} x_{e} \\: . \\: ({Human}({x}_{e}) \\wedge{} \\forall{} x1_{e} \\: . \\: ({Doctor}({x1}_{e}) \\rightarrow{} {Saw}({x}_{e}, {x1}_{e})))$\n",
        "<br />&nbsp;&nbsp;&nbsp;&nbsp;[1]: $||\\mathbf{\\text{[[[saw] [every doctor]] someone]}}||^{}_{t} \\:=\\: $$\\forall{} x_{e} \\: . \\: ({Doctor}({x}_{e}) \\rightarrow{} \\exists{} x1_{e} \\: . \\: ({Human}({x1}_{e}) \\wedge{} {Saw}({x1}_{e}, {x}_{e})))$"
       ],
       "metadata": {},
       "output_type": "pyout",
       "prompt_number": 22,
       "text": [
        "CompositionResult(results=[||[[[saw] [every doctor]] someone]|| = (Exists x_e: (Human_<e,t>(x_e) & (Forall x1_e: (Doctor_<e,t>(x1_e) >> Saw_<(e,e),t>(x_e, x1_e))))), ||[[[saw] [every doctor]] someone]|| = (Forall x_e: (Doctor_<e,t>(x_e) >> (Exists x1_e: (Human_<e,t>(x1_e) & Saw_<(e,e),t>(x1_e, x_e)))))], failures=[||[someone [[saw] [every doctor]]]|| = Type mismatch: '||someone|| = (\u03bb f_<e,t>: (Exists x_e: (Human_<e,t>(x_e) & f_<e,t>(x_e))))'/<<e,t>,t> and '||[[saw] [every doctor]]|| = (\u03bb g_<<e,t>,t>: g_<<e,t>,t>((\u03bb y_e: (Forall x_e: (Doctor_<e,t>(x_e) >> Saw_<(e,e),t>(y_e, x_e))))))'/<<<e,t>,t>,t> conflict (mode: Function Application), ||[someone [[saw] [every doctor]]]|| = Type mismatch: '||someone|| = (\u03bb f_<e,t>: (Exists x_e: (Human_<e,t>(x_e) & f_<e,t>(x_e))))'/<<e,t>,t> and '||[[saw] [every doctor]]|| = (\u03bb g_<<e,t>,t>: g_<<e,t>,t>((\u03bb y_e: (Forall x_e: (Doctor_<e,t>(x_e) >> Saw_<(e,e),t>(y_e, x_e))))))'/<<<e,t>,t>,t> conflict (mode: Predicate Modification), ||[someone [[saw] [every doctor]]]|| = Type mismatch: '||someone|| = (\u03bb f_<e,t>: (Exists x_e: (Human_<e,t>(x_e) & f_<e,t>(x_e))))'/<<e,t>,t> and '||[[saw] [every doctor]]|| = (\u03bb g_<<e,t>,t>: g_<<e,t>,t>((\u03bb y_e: (Forall x_e: (Doctor_<e,t>(x_e) >> Saw_<(e,e),t>(y_e, x_e))))))'/<<<e,t>,t>,t> conflict (mode: Predicate Abstraction), ||[[[saw] [every doctor]] someone]|| = Type mismatch: '||[[saw] [every doctor]]|| = (\u03bb g_<<e,t>,t>: g_<<e,t>,t>((\u03bb y_e: (Forall x_e: (Doctor_<e,t>(x_e) >> Saw_<(e,e),t>(y_e, x_e))))))'/<<<e,t>,t>,t> and '||someone|| = (\u03bb f_<e,t>: (Exists x_e: (Human_<e,t>(x_e) & f_<e,t>(x_e))))'/<<e,t>,t> conflict (mode: Predicate Abstraction), ||[someone [[saw] [every doctor]]]|| = Type mismatch: '||someone|| = (\u03bb f_<e,t>: (Exists x_e: (Human_<e,t>(x_e) & f_<e,t>(x_e))))'/<<e,t>,t> and '||[[saw] [every doctor]]|| = (\u03bb g_<<e,t>,t>: (Forall x_e: (Doctor_<e,t>(x_e) >> g_<<e,t>,t>((\u03bb y_e: Saw_<(e,e),t>(y_e, x_e))))))'/<<<e,t>,t>,t> conflict (mode: Function Application), ||[someone [[saw] [every doctor]]]|| = Type mismatch: '||someone|| = (\u03bb f_<e,t>: (Exists x_e: (Human_<e,t>(x_e) & f_<e,t>(x_e))))'/<<e,t>,t> and '||[[saw] [every doctor]]|| = (\u03bb g_<<e,t>,t>: (Forall x_e: (Doctor_<e,t>(x_e) >> g_<<e,t>,t>((\u03bb y_e: Saw_<(e,e),t>(y_e, x_e))))))'/<<<e,t>,t>,t> conflict (mode: Predicate Modification), ||[someone [[saw] [every doctor]]]|| = Type mismatch: '||someone|| = (\u03bb f_<e,t>: (Exists x_e: (Human_<e,t>(x_e) & f_<e,t>(x_e))))'/<<e,t>,t> and '||[[saw] [every doctor]]|| = (\u03bb g_<<e,t>,t>: (Forall x_e: (Doctor_<e,t>(x_e) >> g_<<e,t>,t>((\u03bb y_e: Saw_<(e,e),t>(y_e, x_e))))))'/<<<e,t>,t>,t> conflict (mode: Predicate Abstraction), ||[[[saw] [every doctor]] someone]|| = Type mismatch: '||[[saw] [every doctor]]|| = (\u03bb g_<<e,t>,t>: (Forall x_e: (Doctor_<e,t>(x_e) >> g_<<e,t>,t>((\u03bb y_e: Saw_<(e,e),t>(y_e, x_e))))))'/<<<e,t>,t>,t> and '||someone|| = (\u03bb f_<e,t>: (Exists x_e: (Human_<e,t>(x_e) & f_<e,t>(x_e))))'/<<e,t>,t> conflict (mode: Predicate Abstraction)])"
       ]
      }
     ],
     "prompt_number": 22
    },
    {
     "cell_type": "code",
     "collapsed": false,
     "input": [
      "r[1].latex_step_tree()"
     ],
     "language": "python",
     "metadata": {},
     "outputs": [
      {
       "latex": [
        "<table><tr><td style=\"vertical-align:bottom;padding:0px 10px\" align=\"center\"><table><tr><td style=\"vertical-align:bottom\"><table><tr><td style=\"vertical-align:bottom;padding:0px 10px\" align=\"center\"><table><tr><td style=\"vertical-align:bottom\"><table><tr><td style=\"vertical-align:bottom;padding:0px 10px\" align=\"center\"><table><tr><td style=\"vertical-align:bottom\"><table align=\"center\"><tr><td align=\"center\">$||\\mathbf{\\text{saw}}||^{}_{\\langle{}e,\\langle{}e,t\\rangle{}\\rangle{}}$</td></tr><tr><td align=\"center\">$\\lambda{} x_{e} \\: . \\: \\lambda{} y_{e} \\: . \\: {Saw}({y}_{e}, {x}_{e})$</td></tr></table>\n",
        "</td></tr></table></td><td style=\"vertical-align:bottom;padding-bottom:5px;padding-left:10px\"><b>[inverse]</b></td></tr><tr style=\"border-top: 1px solid #848482\"><td align=\"center\"><table style=\"margin-top:10px\"><tr><td style=\"vertical-align:bottom\" align=\"center\">$||\\mathbf{\\text{[saw]}}||^{}_{\\langle{}\\langle{}\\langle{}e,t\\rangle{},t\\rangle{},\\langle{}\\langle{}\\langle{}e,t\\rangle{},t\\rangle{},t\\rangle{}\\rangle{}}$</td></tr><tr><td style=\"vertical-align:bottom\" align=\"center\">$ = \\lambda{} f_{\\langle{}\\langle{}e,t\\rangle{},t\\rangle{}} \\: . \\: \\lambda{} g_{\\langle{}\\langle{}e,t\\rangle{},t\\rangle{}} \\: . \\: {f}_{\\langle{}\\langle{}e,t\\rangle{},t\\rangle{}}(\\lambda{} x_{e} \\: . \\: {g}_{\\langle{}\\langle{}e,t\\rangle{},t\\rangle{}}(\\lambda{} y_{e} \\: . \\: {Saw}({y}_{e}, {x}_{e})))$</td></tr></table>\n",
        "</td><td></td></tr></table>\n",
        "</td><td style=\"vertical-align:bottom;padding-bottom:5px\">&nbsp;&nbsp;&nbsp;$\\circ$&nbsp;&nbsp;&nbsp;</td><td style=\"vertical-align:bottom\"><table><tr><td style=\"vertical-align:bottom;padding:0px 10px\" align=\"center\"><table><tr><td style=\"vertical-align:bottom\"><table align=\"center\"><tr><td align=\"center\">$||\\mathbf{\\text{every}}||^{}_{\\langle{}\\langle{}e,t\\rangle{},\\langle{}\\langle{}e,t\\rangle{},t\\rangle{}\\rangle{}}$</td></tr><tr><td align=\"center\">$\\lambda{} f_{\\langle{}e,t\\rangle{}} \\: . \\: \\lambda{} g_{\\langle{}e,t\\rangle{}} \\: . \\: \\forall{} x_{e} \\: . \\: ({f}_{\\langle{}e,t\\rangle{}}({x}_{e}) \\rightarrow{} {g}_{\\langle{}e,t\\rangle{}}({x}_{e}))$</td></tr></table>\n",
        "</td><td style=\"vertical-align:bottom;padding-bottom:5px\">&nbsp;&nbsp;&nbsp;$\\circ$&nbsp;&nbsp;&nbsp;</td><td style=\"vertical-align:bottom\"><table align=\"center\"><tr><td align=\"center\">$||\\mathbf{\\text{doctor}}||^{}_{\\langle{}e,t\\rangle{}}$</td></tr><tr><td align=\"center\">$\\lambda{} x_{e} \\: . \\: {Doctor}({x}_{e})$</td></tr></table>\n",
        "</td></tr></table></td><td style=\"vertical-align:bottom;padding-bottom:5px;padding-left:10px\"><b>[FA]</b></td></tr><tr style=\"border-top: 1px solid #848482\"><td align=\"center\"><table style=\"margin-top:10px\"><tr><td style=\"vertical-align:bottom\" align=\"center\">$||\\mathbf{\\text{[every doctor]}}||^{}_{\\langle{}\\langle{}e,t\\rangle{},t\\rangle{}}$</td></tr><tr><td style=\"vertical-align:bottom\" align=\"center\">$ = \\lambda{} g_{\\langle{}e,t\\rangle{}} \\: . \\: \\forall{} x_{e} \\: . \\: ({Doctor}({x}_{e}) \\rightarrow{} {g}_{\\langle{}e,t\\rangle{}}({x}_{e}))$</td></tr></table>\n",
        "</td><td></td></tr></table>\n",
        "</td></tr></table></td><td style=\"vertical-align:bottom;padding-bottom:5px;padding-left:10px\"><b>[FA]</b></td></tr><tr style=\"border-top: 1px solid #848482\"><td align=\"center\"><table style=\"margin-top:10px\"><tr><td style=\"vertical-align:bottom\" align=\"center\">$||\\mathbf{\\text{[[saw] [every doctor]]}}||^{}_{\\langle{}\\langle{}\\langle{}e,t\\rangle{},t\\rangle{},t\\rangle{}}$</td></tr><tr><td style=\"vertical-align:bottom\" align=\"center\">$ = \\lambda{} g_{\\langle{}\\langle{}e,t\\rangle{},t\\rangle{}} \\: . \\: \\forall{} x_{e} \\: . \\: ({Doctor}({x}_{e}) \\rightarrow{} {g}_{\\langle{}\\langle{}e,t\\rangle{},t\\rangle{}}(\\lambda{} y_{e} \\: . \\: {Saw}({y}_{e}, {x}_{e})))$</td></tr></table>\n",
        "</td><td></td></tr></table>\n",
        "</td><td style=\"vertical-align:bottom;padding-bottom:5px\">&nbsp;&nbsp;&nbsp;$\\circ$&nbsp;&nbsp;&nbsp;</td><td style=\"vertical-align:bottom\"><table align=\"center\"><tr><td align=\"center\">$||\\mathbf{\\text{someone}}||^{}_{\\langle{}\\langle{}e,t\\rangle{},t\\rangle{}}$</td></tr><tr><td align=\"center\">$\\lambda{} f_{\\langle{}e,t\\rangle{}} \\: . \\: \\exists{} x_{e} \\: . \\: ({Human}({x}_{e}) \\wedge{} {f}_{\\langle{}e,t\\rangle{}}({x}_{e}))$</td></tr></table>\n",
        "</td></tr></table></td><td style=\"vertical-align:bottom;padding-bottom:5px;padding-left:10px\"><b>[FA]</b></td></tr><tr style=\"border-top: 1px solid #848482\"><td align=\"center\"><table style=\"margin-top:10px\"><tr><td style=\"vertical-align:bottom\" align=\"center\">$||\\mathbf{\\text{[[[saw] [every doctor]] someone]}}||^{}_{t}$</td></tr><tr><td style=\"vertical-align:bottom\" align=\"center\">$ = \\forall{} x_{e} \\: . \\: ({Doctor}({x}_{e}) \\rightarrow{} \\exists{} x1_{e} \\: . \\: ({Human}({x1}_{e}) \\wedge{} {Saw}({x1}_{e}, {x}_{e})))$</td></tr></table>\n",
        "</td><td></td></tr></table>\n"
       ],
       "metadata": {},
       "output_type": "pyout",
       "prompt_number": 23,
       "text": [
        "<table><tr><td style=\"vertical-align:bottom;padding:0px 10px\" align=\"center\"><table><tr><td style=\"vertical-align:bottom\"><table><tr><td style=\"vertical-align:bottom;padding:0px 10px\" align=\"center\"><table><tr><td style=\"vertical-align:bottom\"><table><tr><td style=\"vertical-align:bottom;padding:0px 10px\" align=\"center\"><table><tr><td style=\"vertical-align:bottom\"><table align=\"center\"><tr><td align=\"center\">$||\\mathbf{\\text{saw}}||^{}_{\\langle{}e,\\langle{}e,t\\rangle{}\\rangle{}}$</td></tr><tr><td align=\"center\">$\\lambda{} x_{e} \\: . \\: \\lambda{} y_{e} \\: . \\: {Saw}({y}_{e}, {x}_{e})$</td></tr></table>\n",
        "</td></tr></table></td><td style=\"vertical-align:bottom;padding-bottom:5px;padding-left:10px\"><b>[inverse]</b></td></tr><tr style=\"border-top: 1px solid #848482\"><td align=\"center\"><table style=\"margin-top:10px\"><tr><td style=\"vertical-align:bottom\" align=\"center\">$||\\mathbf{\\text{[saw]}}||^{}_{\\langle{}\\langle{}\\langle{}e,t\\rangle{},t\\rangle{},\\langle{}\\langle{}\\langle{}e,t\\rangle{},t\\rangle{},t\\rangle{}\\rangle{}}$</td></tr><tr><td style=\"vertical-align:bottom\" align=\"center\">$ = \\lambda{} f_{\\langle{}\\langle{}e,t\\rangle{},t\\rangle{}} \\: . \\: \\lambda{} g_{\\langle{}\\langle{}e,t\\rangle{},t\\rangle{}} \\: . \\: {f}_{\\langle{}\\langle{}e,t\\rangle{},t\\rangle{}}(\\lambda{} x_{e} \\: . \\: {g}_{\\langle{}\\langle{}e,t\\rangle{},t\\rangle{}}(\\lambda{} y_{e} \\: . \\: {Saw}({y}_{e}, {x}_{e})))$</td></tr></table>\n",
        "</td><td></td></tr></table>\n",
        "</td><td style=\"vertical-align:bottom;padding-bottom:5px\">&nbsp;&nbsp;&nbsp;$\\circ$&nbsp;&nbsp;&nbsp;</td><td style=\"vertical-align:bottom\"><table><tr><td style=\"vertical-align:bottom;padding:0px 10px\" align=\"center\"><table><tr><td style=\"vertical-align:bottom\"><table align=\"center\"><tr><td align=\"center\">$||\\mathbf{\\text{every}}||^{}_{\\langle{}\\langle{}e,t\\rangle{},\\langle{}\\langle{}e,t\\rangle{},t\\rangle{}\\rangle{}}$</td></tr><tr><td align=\"center\">$\\lambda{} f_{\\langle{}e,t\\rangle{}} \\: . \\: \\lambda{} g_{\\langle{}e,t\\rangle{}} \\: . \\: \\forall{} x_{e} \\: . \\: ({f}_{\\langle{}e,t\\rangle{}}({x}_{e}) \\rightarrow{} {g}_{\\langle{}e,t\\rangle{}}({x}_{e}))$</td></tr></table>\n",
        "</td><td style=\"vertical-align:bottom;padding-bottom:5px\">&nbsp;&nbsp;&nbsp;$\\circ$&nbsp;&nbsp;&nbsp;</td><td style=\"vertical-align:bottom\"><table align=\"center\"><tr><td align=\"center\">$||\\mathbf{\\text{doctor}}||^{}_{\\langle{}e,t\\rangle{}}$</td></tr><tr><td align=\"center\">$\\lambda{} x_{e} \\: . \\: {Doctor}({x}_{e})$</td></tr></table>\n",
        "</td></tr></table></td><td style=\"vertical-align:bottom;padding-bottom:5px;padding-left:10px\"><b>[FA]</b></td></tr><tr style=\"border-top: 1px solid #848482\"><td align=\"center\"><table style=\"margin-top:10px\"><tr><td style=\"vertical-align:bottom\" align=\"center\">$||\\mathbf{\\text{[every doctor]}}||^{}_{\\langle{}\\langle{}e,t\\rangle{},t\\rangle{}}$</td></tr><tr><td style=\"vertical-align:bottom\" align=\"center\">$ = \\lambda{} g_{\\langle{}e,t\\rangle{}} \\: . \\: \\forall{} x_{e} \\: . \\: ({Doctor}({x}_{e}) \\rightarrow{} {g}_{\\langle{}e,t\\rangle{}}({x}_{e}))$</td></tr></table>\n",
        "</td><td></td></tr></table>\n",
        "</td></tr></table></td><td style=\"vertical-align:bottom;padding-bottom:5px;padding-left:10px\"><b>[FA]</b></td></tr><tr style=\"border-top: 1px solid #848482\"><td align=\"center\"><table style=\"margin-top:10px\"><tr><td style=\"vertical-align:bottom\" align=\"center\">$||\\mathbf{\\text{[[saw] [every doctor]]}}||^{}_{\\langle{}\\langle{}\\langle{}e,t\\rangle{},t\\rangle{},t\\rangle{}}$</td></tr><tr><td style=\"vertical-align:bottom\" align=\"center\">$ = \\lambda{} g_{\\langle{}\\langle{}e,t\\rangle{},t\\rangle{}} \\: . \\: \\forall{} x_{e} \\: . \\: ({Doctor}({x}_{e}) \\rightarrow{} {g}_{\\langle{}\\langle{}e,t\\rangle{},t\\rangle{}}(\\lambda{} y_{e} \\: . \\: {Saw}({y}_{e}, {x}_{e})))$</td></tr></table>\n",
        "</td><td></td></tr></table>\n",
        "</td><td style=\"vertical-align:bottom;padding-bottom:5px\">&nbsp;&nbsp;&nbsp;$\\circ$&nbsp;&nbsp;&nbsp;</td><td style=\"vertical-align:bottom\"><table align=\"center\"><tr><td align=\"center\">$||\\mathbf{\\text{someone}}||^{}_{\\langle{}\\langle{}e,t\\rangle{},t\\rangle{}}$</td></tr><tr><td align=\"center\">$\\lambda{} f_{\\langle{}e,t\\rangle{}} \\: . \\: \\exists{} x_{e} \\: . \\: ({Human}({x}_{e}) \\wedge{} {f}_{\\langle{}e,t\\rangle{}}({x}_{e}))$</td></tr></table>\n",
        "</td></tr></table></td><td style=\"vertical-align:bottom;padding-bottom:5px;padding-left:10px\"><b>[FA]</b></td></tr><tr style=\"border-top: 1px solid #848482\"><td align=\"center\"><table style=\"margin-top:10px\"><tr><td style=\"vertical-align:bottom\" align=\"center\">$||\\mathbf{\\text{[[[saw] [every doctor]] someone]}}||^{}_{t}$</td></tr><tr><td style=\"vertical-align:bottom\" align=\"center\">$ = \\forall{} x_{e} \\: . \\: ({Doctor}({x}_{e}) \\rightarrow{} \\exists{} x1_{e} \\: . \\: ({Human}({x1}_{e}) \\wedge{} {Saw}({x1}_{e}, {x}_{e})))$</td></tr></table>\n",
        "</td><td></td></tr></table>"
       ]
      }
     ],
     "prompt_number": 23
    },
    {
     "cell_type": "markdown",
     "metadata": {},
     "source": [
      "A final strategy would be to provide an even higher object type-lift that implements inverse scope.  This is effectively the combinator for Hendriks' inverse scope shifter with the order of arguments reversed."
     ]
    },
    {
     "cell_type": "code",
     "collapsed": false,
     "input": [
      "gq_lift_combinator = te(\"L f_<<e,t>,t> : L g_<e,<e,t>> : L x_e : f(L y_e : g(y)(x))\")\n",
      "gq_lift_combinator2 = te(\"L f_<<e,t>,t> : L g_<e,<e,t>> : L h_<<e,t>,t> : f(L y_e : h(L x_e : g(y)(x)))\")\n",
      "\n",
      "gq_lift_combinator2.type"
     ],
     "language": "python",
     "metadata": {},
     "outputs": [
      {
       "latex": [
        "$\\langle{}\\langle{}\\langle{}e,t\\rangle{},t\\rangle{},\\langle{}\\langle{}e,\\langle{}e,t\\rangle{}\\rangle{},\\langle{}\\langle{}\\langle{}e,t\\rangle{},t\\rangle{},t\\rangle{}\\rangle{}\\rangle{}$"
       ],
       "metadata": {},
       "output_type": "pyout",
       "prompt_number": 40,
       "text": [
        "<<<e,t>,t>,<<e,<e,t>>,<<<e,t>,t>,t>>>"
       ]
      }
     ],
     "prompt_number": 40
    },
    {
     "cell_type": "code",
     "collapsed": false,
     "input": [
      "system = lang.td_system.copy()\n",
      "system.add_rule(lang.unary_factory(gq_lift_combinator, \"gq-lift-trans\", typeshift=True))\n",
      "system.add_rule(lang.unary_factory(gq_lift_combinator2, \"gq-lift2-trans\", typeshift=True))\n",
      "system.typeshift = True\n",
      "lang.set_system(system)\n",
      "system"
     ],
     "language": "python",
     "metadata": {},
     "outputs": [
      {
       "latex": [
        "Composition system 'H&K simple (copy)'<br />Operations: FA, PM, PA, gq-lift-trans, gq-lift2-trans"
       ],
       "metadata": {},
       "output_type": "pyout",
       "prompt_number": 41,
       "text": [
        "Composition system: H&K simple (copy)"
       ]
      }
     ],
     "prompt_number": 41
    },
    {
     "cell_type": "code",
     "collapsed": false,
     "input": [
      "r = (someone * ((every * doctor) * saw))\n",
      "r"
     ],
     "language": "python",
     "metadata": {},
     "outputs": [
      {
       "latex": [
        "2 composition paths. Results:\n",
        "<br />&nbsp;&nbsp;&nbsp;&nbsp;[0]: $||\\mathbf{\\text{[someone [[[every doctor]] saw]]}}||^{}_{t} \\:=\\: $$\\exists{} x_{e} \\: . \\: ({Human}({x}_{e}) \\wedge{} \\forall{} x1_{e} \\: . \\: ({Doctor}({x1}_{e}) \\rightarrow{} {Saw}({x}_{e}, {x1}_{e})))$\n",
        "<br />&nbsp;&nbsp;&nbsp;&nbsp;[1]: $||\\mathbf{\\text{[[[[every doctor]] saw] someone]}}||^{}_{t} \\:=\\: $$\\forall{} x_{e} \\: . \\: ({Doctor}({x}_{e}) \\rightarrow{} \\exists{} x1_{e} \\: . \\: ({Human}({x1}_{e}) \\wedge{} {Saw}({x1}_{e}, {x}_{e})))$"
       ],
       "metadata": {},
       "output_type": "pyout",
       "prompt_number": 42,
       "text": [
        "CompositionResult(results=[||[someone [[[every doctor]] saw]]|| = (Exists x_e: (Human_<e,t>(x_e) & (Forall x1_e: (Doctor_<e,t>(x1_e) >> Saw_<(e,e),t>(x_e, x1_e))))), ||[[[[every doctor]] saw] someone]|| = (Forall x_e: (Doctor_<e,t>(x_e) >> (Exists x1_e: (Human_<e,t>(x1_e) & Saw_<(e,e),t>(x1_e, x_e)))))], failures=[||[[[[every doctor]] saw] someone]|| = Type mismatch: '||[[[every doctor]] saw]|| = (\u03bb x_e: (Forall x1_e: (Doctor_<e,t>(x1_e) >> Saw_<(e,e),t>(x_e, x1_e))))'/<e,t> and '||someone|| = (\u03bb f_<e,t>: (Exists x_e: (Human_<e,t>(x_e) & f_<e,t>(x_e))))'/<<e,t>,t> conflict (mode: Function Application), ||[someone [[[every doctor]] saw]]|| = Type mismatch: '||someone|| = (\u03bb f_<e,t>: (Exists x_e: (Human_<e,t>(x_e) & f_<e,t>(x_e))))'/<<e,t>,t> and '||[[[every doctor]] saw]|| = (\u03bb x_e: (Forall x1_e: (Doctor_<e,t>(x1_e) >> Saw_<(e,e),t>(x_e, x1_e))))'/<e,t> conflict (mode: Predicate Modification), ||[someone [[[every doctor]] saw]]|| = Type mismatch: '||someone|| = (\u03bb f_<e,t>: (Exists x_e: (Human_<e,t>(x_e) & f_<e,t>(x_e))))'/<<e,t>,t> and '||[[[every doctor]] saw]|| = (\u03bb x_e: (Forall x1_e: (Doctor_<e,t>(x1_e) >> Saw_<(e,e),t>(x_e, x1_e))))'/<e,t> conflict (mode: Predicate Abstraction), ||[[[[every doctor]] saw] someone]|| = Type mismatch: '||[[[every doctor]] saw]|| = (\u03bb x_e: (Forall x1_e: (Doctor_<e,t>(x1_e) >> Saw_<(e,e),t>(x_e, x1_e))))'/<e,t> and '||someone|| = (\u03bb f_<e,t>: (Exists x_e: (Human_<e,t>(x_e) & f_<e,t>(x_e))))'/<<e,t>,t> conflict (mode: Predicate Abstraction), ||[someone [[[every doctor]] saw]]|| = Type mismatch: '||someone|| = (\u03bb f_<e,t>: (Exists x_e: (Human_<e,t>(x_e) & f_<e,t>(x_e))))'/<<e,t>,t> and '||[[[every doctor]] saw]|| = (\u03bb h_<<e,t>,t>: (Forall x_e: (Doctor_<e,t>(x_e) >> h_<<e,t>,t>((\u03bb x1_e: Saw_<(e,e),t>(x1_e, x_e))))))'/<<<e,t>,t>,t> conflict (mode: Function Application), ||[someone [[[every doctor]] saw]]|| = Type mismatch: '||someone|| = (\u03bb f_<e,t>: (Exists x_e: (Human_<e,t>(x_e) & f_<e,t>(x_e))))'/<<e,t>,t> and '||[[[every doctor]] saw]|| = (\u03bb h_<<e,t>,t>: (Forall x_e: (Doctor_<e,t>(x_e) >> h_<<e,t>,t>((\u03bb x1_e: Saw_<(e,e),t>(x1_e, x_e))))))'/<<<e,t>,t>,t> conflict (mode: Predicate Modification), ||[someone [[[every doctor]] saw]]|| = Type mismatch: '||someone|| = (\u03bb f_<e,t>: (Exists x_e: (Human_<e,t>(x_e) & f_<e,t>(x_e))))'/<<e,t>,t> and '||[[[every doctor]] saw]|| = (\u03bb h_<<e,t>,t>: (Forall x_e: (Doctor_<e,t>(x_e) >> h_<<e,t>,t>((\u03bb x1_e: Saw_<(e,e),t>(x1_e, x_e))))))'/<<<e,t>,t>,t> conflict (mode: Predicate Abstraction), ||[[[[every doctor]] saw] someone]|| = Type mismatch: '||[[[every doctor]] saw]|| = (\u03bb h_<<e,t>,t>: (Forall x_e: (Doctor_<e,t>(x_e) >> h_<<e,t>,t>((\u03bb x1_e: Saw_<(e,e),t>(x1_e, x_e))))))'/<<<e,t>,t>,t> and '||someone|| = (\u03bb f_<e,t>: (Exists x_e: (Human_<e,t>(x_e) & f_<e,t>(x_e))))'/<<e,t>,t> conflict (mode: Predicate Abstraction)])"
       ]
      }
     ],
     "prompt_number": 42
    },
    {
     "cell_type": "code",
     "collapsed": false,
     "input": [
      "r[1].latex_step_tree()"
     ],
     "language": "python",
     "metadata": {},
     "outputs": [
      {
       "latex": [
        "<table><tr><td style=\"vertical-align:bottom;padding:0px 10px\" align=\"center\"><table><tr><td style=\"vertical-align:bottom\"><table><tr><td style=\"vertical-align:bottom;padding:0px 10px\" align=\"center\"><table><tr><td style=\"vertical-align:bottom\"><table><tr><td style=\"vertical-align:bottom;padding:0px 10px\" align=\"center\"><table><tr><td style=\"vertical-align:bottom\"><table><tr><td style=\"vertical-align:bottom;padding:0px 10px\" align=\"center\"><table><tr><td style=\"vertical-align:bottom\"><table align=\"center\"><tr><td align=\"center\">$||\\mathbf{\\text{every}}||^{}_{\\langle{}\\langle{}e,t\\rangle{},\\langle{}\\langle{}e,t\\rangle{},t\\rangle{}\\rangle{}}$</td></tr><tr><td align=\"center\">$\\lambda{} f_{\\langle{}e,t\\rangle{}} \\: . \\: \\lambda{} g_{\\langle{}e,t\\rangle{}} \\: . \\: \\forall{} x_{e} \\: . \\: ({f}_{\\langle{}e,t\\rangle{}}({x}_{e}) \\rightarrow{} {g}_{\\langle{}e,t\\rangle{}}({x}_{e}))$</td></tr></table>\n",
        "</td><td style=\"vertical-align:bottom;padding-bottom:5px\">&nbsp;&nbsp;&nbsp;$\\circ$&nbsp;&nbsp;&nbsp;</td><td style=\"vertical-align:bottom\"><table align=\"center\"><tr><td align=\"center\">$||\\mathbf{\\text{doctor}}||^{}_{\\langle{}e,t\\rangle{}}$</td></tr><tr><td align=\"center\">$\\lambda{} x_{e} \\: . \\: {Doctor}({x}_{e})$</td></tr></table>\n",
        "</td></tr></table></td><td style=\"vertical-align:bottom;padding-bottom:5px;padding-left:10px\"><b>[FA]</b></td></tr><tr style=\"border-top: 1px solid #848482\"><td align=\"center\"><table style=\"margin-top:10px\"><tr><td style=\"vertical-align:bottom\" align=\"center\">$||\\mathbf{\\text{[every doctor]}}||^{}_{\\langle{}\\langle{}e,t\\rangle{},t\\rangle{}}$</td></tr><tr><td style=\"vertical-align:bottom\" align=\"center\">$ = \\lambda{} g_{\\langle{}e,t\\rangle{}} \\: . \\: \\forall{} x_{e} \\: . \\: ({Doctor}({x}_{e}) \\rightarrow{} {g}_{\\langle{}e,t\\rangle{}}({x}_{e}))$</td></tr></table>\n",
        "</td><td></td></tr></table>\n",
        "</td></tr></table></td><td style=\"vertical-align:bottom;padding-bottom:5px;padding-left:10px\"><b>[gq-lift2-trans]</b></td></tr><tr style=\"border-top: 1px solid #848482\"><td align=\"center\"><table style=\"margin-top:10px\"><tr><td style=\"vertical-align:bottom\" align=\"center\">$||\\mathbf{\\text{[[every doctor]]}}||^{}_{\\langle{}\\langle{}e,\\langle{}e,t\\rangle{}\\rangle{},\\langle{}\\langle{}\\langle{}e,t\\rangle{},t\\rangle{},t\\rangle{}\\rangle{}}$</td></tr><tr><td style=\"vertical-align:bottom\" align=\"center\">$ = \\lambda{} g_{\\langle{}e,\\langle{}e,t\\rangle{}\\rangle{}} \\: . \\: \\lambda{} h_{\\langle{}\\langle{}e,t\\rangle{},t\\rangle{}} \\: . \\: \\forall{} x_{e} \\: . \\: ({Doctor}({x}_{e}) \\rightarrow{} {h}_{\\langle{}\\langle{}e,t\\rangle{},t\\rangle{}}(\\lambda{} x1_{e} \\: . \\: {g}_{\\langle{}e,\\langle{}e,t\\rangle{}\\rangle{}}({x}_{e})({x1}_{e})))$</td></tr></table>\n",
        "</td><td></td></tr></table>\n",
        "</td><td style=\"vertical-align:bottom;padding-bottom:5px\">&nbsp;&nbsp;&nbsp;$\\circ$&nbsp;&nbsp;&nbsp;</td><td style=\"vertical-align:bottom\"><table align=\"center\"><tr><td align=\"center\">$||\\mathbf{\\text{saw}}||^{}_{\\langle{}e,\\langle{}e,t\\rangle{}\\rangle{}}$</td></tr><tr><td align=\"center\">$\\lambda{} x_{e} \\: . \\: \\lambda{} y_{e} \\: . \\: {Saw}({y}_{e}, {x}_{e})$</td></tr></table>\n",
        "</td></tr></table></td><td style=\"vertical-align:bottom;padding-bottom:5px;padding-left:10px\"><b>[FA]</b></td></tr><tr style=\"border-top: 1px solid #848482\"><td align=\"center\"><table style=\"margin-top:10px\"><tr><td style=\"vertical-align:bottom\" align=\"center\">$||\\mathbf{\\text{[[[every doctor]] saw]}}||^{}_{\\langle{}\\langle{}\\langle{}e,t\\rangle{},t\\rangle{},t\\rangle{}}$</td></tr><tr><td style=\"vertical-align:bottom\" align=\"center\">$ = \\lambda{} h_{\\langle{}\\langle{}e,t\\rangle{},t\\rangle{}} \\: . \\: \\forall{} x_{e} \\: . \\: ({Doctor}({x}_{e}) \\rightarrow{} {h}_{\\langle{}\\langle{}e,t\\rangle{},t\\rangle{}}(\\lambda{} x1_{e} \\: . \\: {Saw}({x1}_{e}, {x}_{e})))$</td></tr></table>\n",
        "</td><td></td></tr></table>\n",
        "</td><td style=\"vertical-align:bottom;padding-bottom:5px\">&nbsp;&nbsp;&nbsp;$\\circ$&nbsp;&nbsp;&nbsp;</td><td style=\"vertical-align:bottom\"><table align=\"center\"><tr><td align=\"center\">$||\\mathbf{\\text{someone}}||^{}_{\\langle{}\\langle{}e,t\\rangle{},t\\rangle{}}$</td></tr><tr><td align=\"center\">$\\lambda{} f_{\\langle{}e,t\\rangle{}} \\: . \\: \\exists{} x_{e} \\: . \\: ({Human}({x}_{e}) \\wedge{} {f}_{\\langle{}e,t\\rangle{}}({x}_{e}))$</td></tr></table>\n",
        "</td></tr></table></td><td style=\"vertical-align:bottom;padding-bottom:5px;padding-left:10px\"><b>[FA]</b></td></tr><tr style=\"border-top: 1px solid #848482\"><td align=\"center\"><table style=\"margin-top:10px\"><tr><td style=\"vertical-align:bottom\" align=\"center\">$||\\mathbf{\\text{[[[[every doctor]] saw] someone]}}||^{}_{t}$</td></tr><tr><td style=\"vertical-align:bottom\" align=\"center\">$ = \\forall{} x_{e} \\: . \\: ({Doctor}({x}_{e}) \\rightarrow{} \\exists{} x1_{e} \\: . \\: ({Human}({x1}_{e}) \\wedge{} {Saw}({x1}_{e}, {x}_{e})))$</td></tr></table>\n",
        "</td><td></td></tr></table>\n"
       ],
       "metadata": {},
       "output_type": "pyout",
       "prompt_number": 35,
       "text": [
        "<table><tr><td style=\"vertical-align:bottom;padding:0px 10px\" align=\"center\"><table><tr><td style=\"vertical-align:bottom\"><table><tr><td style=\"vertical-align:bottom;padding:0px 10px\" align=\"center\"><table><tr><td style=\"vertical-align:bottom\"><table><tr><td style=\"vertical-align:bottom;padding:0px 10px\" align=\"center\"><table><tr><td style=\"vertical-align:bottom\"><table><tr><td style=\"vertical-align:bottom;padding:0px 10px\" align=\"center\"><table><tr><td style=\"vertical-align:bottom\"><table align=\"center\"><tr><td align=\"center\">$||\\mathbf{\\text{every}}||^{}_{\\langle{}\\langle{}e,t\\rangle{},\\langle{}\\langle{}e,t\\rangle{},t\\rangle{}\\rangle{}}$</td></tr><tr><td align=\"center\">$\\lambda{} f_{\\langle{}e,t\\rangle{}} \\: . \\: \\lambda{} g_{\\langle{}e,t\\rangle{}} \\: . \\: \\forall{} x_{e} \\: . \\: ({f}_{\\langle{}e,t\\rangle{}}({x}_{e}) \\rightarrow{} {g}_{\\langle{}e,t\\rangle{}}({x}_{e}))$</td></tr></table>\n",
        "</td><td style=\"vertical-align:bottom;padding-bottom:5px\">&nbsp;&nbsp;&nbsp;$\\circ$&nbsp;&nbsp;&nbsp;</td><td style=\"vertical-align:bottom\"><table align=\"center\"><tr><td align=\"center\">$||\\mathbf{\\text{doctor}}||^{}_{\\langle{}e,t\\rangle{}}$</td></tr><tr><td align=\"center\">$\\lambda{} x_{e} \\: . \\: {Doctor}({x}_{e})$</td></tr></table>\n",
        "</td></tr></table></td><td style=\"vertical-align:bottom;padding-bottom:5px;padding-left:10px\"><b>[FA]</b></td></tr><tr style=\"border-top: 1px solid #848482\"><td align=\"center\"><table style=\"margin-top:10px\"><tr><td style=\"vertical-align:bottom\" align=\"center\">$||\\mathbf{\\text{[every doctor]}}||^{}_{\\langle{}\\langle{}e,t\\rangle{},t\\rangle{}}$</td></tr><tr><td style=\"vertical-align:bottom\" align=\"center\">$ = \\lambda{} g_{\\langle{}e,t\\rangle{}} \\: . \\: \\forall{} x_{e} \\: . \\: ({Doctor}({x}_{e}) \\rightarrow{} {g}_{\\langle{}e,t\\rangle{}}({x}_{e}))$</td></tr></table>\n",
        "</td><td></td></tr></table>\n",
        "</td></tr></table></td><td style=\"vertical-align:bottom;padding-bottom:5px;padding-left:10px\"><b>[gq-lift2-trans]</b></td></tr><tr style=\"border-top: 1px solid #848482\"><td align=\"center\"><table style=\"margin-top:10px\"><tr><td style=\"vertical-align:bottom\" align=\"center\">$||\\mathbf{\\text{[[every doctor]]}}||^{}_{\\langle{}\\langle{}e,\\langle{}e,t\\rangle{}\\rangle{},\\langle{}\\langle{}\\langle{}e,t\\rangle{},t\\rangle{},t\\rangle{}\\rangle{}}$</td></tr><tr><td style=\"vertical-align:bottom\" align=\"center\">$ = \\lambda{} g_{\\langle{}e,\\langle{}e,t\\rangle{}\\rangle{}} \\: . \\: \\lambda{} h_{\\langle{}\\langle{}e,t\\rangle{},t\\rangle{}} \\: . \\: \\forall{} x_{e} \\: . \\: ({Doctor}({x}_{e}) \\rightarrow{} {h}_{\\langle{}\\langle{}e,t\\rangle{},t\\rangle{}}(\\lambda{} x1_{e} \\: . \\: {g}_{\\langle{}e,\\langle{}e,t\\rangle{}\\rangle{}}({x}_{e})({x1}_{e})))$</td></tr></table>\n",
        "</td><td></td></tr></table>\n",
        "</td><td style=\"vertical-align:bottom;padding-bottom:5px\">&nbsp;&nbsp;&nbsp;$\\circ$&nbsp;&nbsp;&nbsp;</td><td style=\"vertical-align:bottom\"><table align=\"center\"><tr><td align=\"center\">$||\\mathbf{\\text{saw}}||^{}_{\\langle{}e,\\langle{}e,t\\rangle{}\\rangle{}}$</td></tr><tr><td align=\"center\">$\\lambda{} x_{e} \\: . \\: \\lambda{} y_{e} \\: . \\: {Saw}({y}_{e}, {x}_{e})$</td></tr></table>\n",
        "</td></tr></table></td><td style=\"vertical-align:bottom;padding-bottom:5px;padding-left:10px\"><b>[FA]</b></td></tr><tr style=\"border-top: 1px solid #848482\"><td align=\"center\"><table style=\"margin-top:10px\"><tr><td style=\"vertical-align:bottom\" align=\"center\">$||\\mathbf{\\text{[[[every doctor]] saw]}}||^{}_{\\langle{}\\langle{}\\langle{}e,t\\rangle{},t\\rangle{},t\\rangle{}}$</td></tr><tr><td style=\"vertical-align:bottom\" align=\"center\">$ = \\lambda{} h_{\\langle{}\\langle{}e,t\\rangle{},t\\rangle{}} \\: . \\: \\forall{} x_{e} \\: . \\: ({Doctor}({x}_{e}) \\rightarrow{} {h}_{\\langle{}\\langle{}e,t\\rangle{},t\\rangle{}}(\\lambda{} x1_{e} \\: . \\: {Saw}({x1}_{e}, {x}_{e})))$</td></tr></table>\n",
        "</td><td></td></tr></table>\n",
        "</td><td style=\"vertical-align:bottom;padding-bottom:5px\">&nbsp;&nbsp;&nbsp;$\\circ$&nbsp;&nbsp;&nbsp;</td><td style=\"vertical-align:bottom\"><table align=\"center\"><tr><td align=\"center\">$||\\mathbf{\\text{someone}}||^{}_{\\langle{}\\langle{}e,t\\rangle{},t\\rangle{}}$</td></tr><tr><td align=\"center\">$\\lambda{} f_{\\langle{}e,t\\rangle{}} \\: . \\: \\exists{} x_{e} \\: . \\: ({Human}({x}_{e}) \\wedge{} {f}_{\\langle{}e,t\\rangle{}}({x}_{e}))$</td></tr></table>\n",
        "</td></tr></table></td><td style=\"vertical-align:bottom;padding-bottom:5px;padding-left:10px\"><b>[FA]</b></td></tr><tr style=\"border-top: 1px solid #848482\"><td align=\"center\"><table style=\"margin-top:10px\"><tr><td style=\"vertical-align:bottom\" align=\"center\">$||\\mathbf{\\text{[[[[every doctor]] saw] someone]}}||^{}_{t}$</td></tr><tr><td style=\"vertical-align:bottom\" align=\"center\">$ = \\forall{} x_{e} \\: . \\: ({Doctor}({x}_{e}) \\rightarrow{} \\exists{} x1_{e} \\: . \\: ({Human}({x1}_{e}) \\wedge{} {Saw}({x1}_{e}, {x}_{e})))$</td></tr></table>\n",
        "</td><td></td></tr></table>"
       ]
      }
     ],
     "prompt_number": 35
    },
    {
     "cell_type": "markdown",
     "metadata": {},
     "source": [
      "### Partee's type-shifts\n",
      "\n",
      "(needs to be added)"
     ]
    },
    {
     "cell_type": "code",
     "collapsed": false,
     "input": [],
     "language": "python",
     "metadata": {},
     "outputs": []
    }
   ],
   "metadata": {}
  }
 ]
}