{
 "cells": [
  {
   "cell_type": "markdown",
   "metadata": {},
   "source": [
    "# Relative clauses\n",
    "## Author: Kyle Rawlins\n",
    "\n",
    "This notebook goes through the analysis of relative clauses in Heim & Kratzer (1998), \"Semantics in generative grammar\"."
   ]
  },
  {
   "cell_type": "code",
   "execution_count": null,
   "metadata": {
    "collapsed": false
   },
   "outputs": [],
   "source": [
    "reload_lamb()"
   ]
  },
  {
   "cell_type": "code",
   "execution_count": null,
   "metadata": {
    "collapsed": false
   },
   "outputs": [],
   "source": [
    "composition_system = lang.hk3_system.copy()\n",
    "lang.set_system(composition_system)"
   ]
  },
  {
   "cell_type": "code",
   "execution_count": null,
   "metadata": {
    "collapsed": false
   },
   "outputs": [],
   "source": [
    "%%lamb reset\n",
    "||gray|| = lambda x_e : Gray(x)\n",
    "||cat|| = lambda x_e : Cat(x)\n",
    "||bill|| = Bill_e\n",
    "||likes|| = lambda x_e : lambda y_e : Likes(y,x)"
   ]
  },
  {
   "cell_type": "code",
   "execution_count": null,
   "metadata": {
    "collapsed": false
   },
   "outputs": [],
   "source": [
    "gray * cat"
   ]
  },
  {
   "cell_type": "markdown",
   "metadata": {},
   "source": [
    "Machinery for variable binding.  This takes two parts:\n",
    "\n",
    " * specialized Item classes for the binder and the trace.\n",
    " * code to actually perform predicate abstraction.  This version uses the meta-language assignment function."
   ]
  },
  {
   "cell_type": "code",
   "execution_count": null,
   "metadata": {
    "collapsed": false
   },
   "outputs": [],
   "source": [
    "class Binder(lang.Item):\n",
    "    def __init__(self, index):\n",
    "        lang.Item.__init__(self, \"%i\" % index, None, index=index)\n",
    "\n",
    "class Trace(lang.Item):\n",
    "    def __init__(self, index, typ=None):\n",
    "        if typ is None:\n",
    "            typ = types.type_e\n",
    "        if index > 0:\n",
    "            name = \"t%i\" % index\n",
    "        else:\n",
    "            name = \"t\"\n",
    "        # Item constructor will set self.index\n",
    "        lang.Item.__init__(self, name, meta.TypedTerm(name, typ), index=index)  "
   ]
  },
  {
   "cell_type": "code",
   "execution_count": null,
   "metadata": {
    "collapsed": false
   },
   "outputs": [],
   "source": [
    "def tree_pa_fun(t, assignment=None):\n",
    "    binder = t[0]\n",
    "    if (binder.content is not None) or not binder.name.strip().isnumeric():\n",
    "        raise types.TypeMismatch(t, None, \"Predicate Abstraction\")\n",
    "    index = int(binder.name.strip())\n",
    "    vname = \"t%i\" % index\n",
    "    outer_vname = t[1].content.find_safe_variable()\n",
    "    new_a = lang.Assignment(assignment)\n",
    "    new_a.update({vname: lang.te(\"%s_e\" % outer_vname)})\n",
    "    f = meta.LFun(types.type_e, t[1].content.under_assignment(new_a), varname=outer_vname)\n",
    "    return lang.BinaryComposite(t[0], t[1], f)\n",
    "\n",
    "pa_op = lang.TreeCompositionOp(\"PA\", tree_pa_fun, allow_none=True)\n",
    "lang.get_system().add_rule(pa_op)"
   ]
  },
  {
   "cell_type": "markdown",
   "metadata": {},
   "source": [
    "Now let's use these things.  Binders and traces can easily be constructed around numeric indices, and used anywhere you would use a regular lexical item:"
   ]
  },
  {
   "cell_type": "code",
   "execution_count": null,
   "metadata": {
    "collapsed": false
   },
   "outputs": [],
   "source": [
    "b = Binder(5)\n",
    "t = Trace(5)\n",
    "t"
   ]
  },
  {
   "cell_type": "code",
   "execution_count": null,
   "metadata": {
    "collapsed": false
   },
   "outputs": [],
   "source": [
    "b * t"
   ]
  },
  {
   "cell_type": "code",
   "execution_count": null,
   "metadata": {
    "collapsed": false
   },
   "outputs": [],
   "source": [
    "bill * (likes * t)"
   ]
  },
  {
   "cell_type": "markdown",
   "metadata": {},
   "source": [
    "A simple relative clause like \"that Bill likes\" can be represented as follows:"
   ]
  },
  {
   "cell_type": "code",
   "execution_count": null,
   "metadata": {
    "collapsed": false
   },
   "outputs": [],
   "source": [
    "r = b * (bill * (likes * t))\n",
    "r.paths(derivations=True)"
   ]
  },
  {
   "cell_type": "markdown",
   "metadata": {},
   "source": [
    "This would compose with a NP via Predicate Modification."
   ]
  },
  {
   "cell_type": "code",
   "execution_count": null,
   "metadata": {
    "collapsed": false
   },
   "outputs": [],
   "source": [
    "r = gray * (cat * (b * (bill * (likes * t))))\n",
    "r"
   ]
  },
  {
   "cell_type": "code",
   "execution_count": null,
   "metadata": {
    "collapsed": false
   },
   "outputs": [],
   "source": [
    "r.paths()"
   ]
  },
  {
   "cell_type": "markdown",
   "metadata": {},
   "source": [
    "Now for a very complicated example.  This is one of the more challenging examples from Heim and Kratzer, the such-that relative \"the man such that Mary reviewed a book that he wrote\"."
   ]
  },
  {
   "cell_type": "code",
   "execution_count": null,
   "metadata": {
    "collapsed": false
   },
   "outputs": [],
   "source": [
    "%%lamb\n",
    "||mary|| = Mary_e\n",
    "||man|| = L x_e : Man(x)\n",
    "||book|| = L x_e : Book(x)\n",
    "||wrote|| = L x_e : L y_e : Wrote(y,x)\n",
    "||reviewed|| = L x_e : L y_e : Reviewed(y,x)\n",
    "||that|| = L p_t : p\n",
    "||such|| = L p_t : p\n",
    "||a|| = L f_<e,t> : L g_<e,<e,t>> : L y_e : Exists x_e : f(x) & g(x)(y)"
   ]
  },
  {
   "cell_type": "code",
   "execution_count": null,
   "metadata": {
    "collapsed": false
   },
   "outputs": [],
   "source": [
    "r = man * (Binder(2) * (such * (that * (mary * (reviewed * (a * (book * (Binder(1) * (Trace(2) * (wrote * Trace(1)))))))))))\n",
    "r"
   ]
  },
  {
   "cell_type": "code",
   "execution_count": null,
   "metadata": {
    "collapsed": true
   },
   "outputs": [],
   "source": [
    "r.paths()"
   ]
  },
  {
   "cell_type": "code",
   "execution_count": null,
   "metadata": {
    "collapsed": false
   },
   "outputs": [],
   "source": []
  }
 ],
 "metadata": {
  "kernelspec": {
   "display_name": "Lambda Notebook (Python 3)",
   "language": "python",
   "name": "lambda-notebook"
  },
  "language_info": {
   "codemirror_mode": {
    "name": "ipython",
    "version": 3
   },
   "file_extension": ".py",
   "mimetype": "text/x-python",
   "name": "python",
   "nbconvert_exporter": "python",
   "pygments_lexer": "ipython3",
   "version": "3.3.4"
  }
 },
 "nbformat": 4,
 "nbformat_minor": 0
}
