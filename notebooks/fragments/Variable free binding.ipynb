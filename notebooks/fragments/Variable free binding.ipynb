{
 "cells": [
  {
   "cell_type": "code",
   "execution_count": 1,
   "metadata": {
    "collapsed": false
   },
   "outputs": [],
   "source": [
    "reload_lamb()"
   ]
  },
  {
   "cell_type": "markdown",
   "metadata": {},
   "source": [
    "# Variable free binding a la Jacobson\n",
    "\n",
    "### Notebook author: Kyle Rawlins\n",
    "\n",
    "This notebook implements (a bit of) the semantic side of Jacobson's account of binding and pronouns.  In so doing, we can get a better idea of how it works, as well as what work is carried by the pure type theory, and what work is carried by the syntactic side of things.  (I don't implement the syntax here.)\n",
    "\n",
    ">Jacobson, Pauline. \"[Towards a Variable-Free Semantics](http://link.springer.com/article/10.1023%2FA%3A1005464228727)\", Linguistics and Philosophy 22, 1999. pp. 117-184.\n",
    "\n",
    "The basic idea (in the end) is that rather than representing binding via indices, we can use type-shifts to hold out an argument slot where a pronoun appeared for later saturation.  I follow the development of the proposal in the article, by first using function composition.\n",
    "\n",
    "(Warning: Because of the lack of syntax, this notebook is far from being a complete version of Jacobson's account!)"
   ]
  },
  {
   "cell_type": "markdown",
   "metadata": {},
   "source": [
    "**Step 1**: define a function composition operation on meta-language functions (LFun objects)\n",
    "\n",
    "* There are multiple ways of doing this.  I have chosen to construct a combinator of the correct type.  The function `geach_combinator` does this (see below for the output)\n",
    "* This is effectively an implementation of the geach rule."
   ]
  },
  {
   "cell_type": "code",
   "execution_count": 2,
   "metadata": {
    "collapsed": false
   },
   "outputs": [],
   "source": [
    "geach = %te L g_<Y,Z> : L f_<X,Y> : L x_X : g(f(x))\n",
    "\n",
    "# use the Geach rule to implement function composition as a python function.\n",
    "def fc_meta(g, f):\n",
    "    return geach(g)(f).reduce_all()"
   ]
  },
  {
   "cell_type": "markdown",
   "metadata": {},
   "source": [
    "Just as an example,here's what this combinator looks like for `X=e`, `Y=e`, `Z=t`, a case that will be common in the variable-free analysis of binding."
   ]
  },
  {
   "cell_type": "code",
   "execution_count": 3,
   "metadata": {
    "collapsed": false
   },
   "outputs": [
    {
     "data": {
      "text/latex": [
       "$\\lambda{} g_{\\langle{}e,t\\rangle{}} \\: . \\: \\lambda{} f_{\\langle{}e,e\\rangle{}} \\: . \\: \\lambda{} x_{e} \\: . \\: {g}_{\\langle{}e,t\\rangle{}}({f}_{\\langle{}e,e\\rangle{}}({x}_{e}))$"
      ],
      "text/plain": [
       "(λ g_<e,t>: (λ f_<e,e>: (λ x_e: g_<e,t>(f_<e,e>(x_e)))))"
      ]
     },
     "execution_count": 3,
     "metadata": {},
     "output_type": "execute_result"
    }
   ],
   "source": [
    "geach.try_adjust_type(tp(\"<<e,t>,<<e,e>,?>>\"))"
   ]
  },
  {
   "cell_type": "code",
   "execution_count": 4,
   "metadata": {
    "collapsed": false
   },
   "outputs": [
    {
     "name": "stderr",
     "output_type": "stream",
     "text": [
      "INFO (meta): Coerced guessed type t for 'Cat_t' into <e,t>, to match argument 'x_e'\n"
     ]
    },
    {
     "data": {
      "text/latex": [
       "${f1}_{\\langle{}e,t\\rangle{}}\\:=\\:\\lambda{} x_{e} \\: . \\: {Cat}({x}_{e})$<br />\n",
       "${f2}_{\\langle{}e,e\\rangle{}}\\:=\\:\\lambda{} x_{e} \\: . \\: {x}_{e}$"
      ],
      "text/plain": [
       "${f1}_{\\langle{}e,t\\rangle{}}\\:=\\:\\lambda{} x_{e} \\: . \\: {Cat}({x}_{e})$<br />\n",
       "${f2}_{\\langle{}e,e\\rangle{}}\\:=\\:\\lambda{} x_{e} \\: . \\: {x}_{e}$"
      ]
     },
     "execution_count": 4,
     "metadata": {},
     "output_type": "execute_result"
    }
   ],
   "source": [
    "%%lamb \n",
    "f1 = L x_e : Cat(x)\n",
    "f2 = L x_e : x_e"
   ]
  },
  {
   "cell_type": "code",
   "execution_count": 5,
   "metadata": {
    "collapsed": false
   },
   "outputs": [
    {
     "name": "stdout",
     "output_type": "stream",
     "text": [
      " "
     ]
    }
   ],
   "source": [
    "%prun -s cumtime geach(f1)"
   ]
  },
  {
   "cell_type": "code",
   "execution_count": 6,
   "metadata": {
    "collapsed": false
   },
   "outputs": [
    {
     "name": "stdout",
     "output_type": "stream",
     "text": [
      " "
     ]
    },
    {
     "data": {
      "text/latex": [
       "$\\lambda{} g_{\\langle{}e,t\\rangle{}} \\: . \\: \\lambda{} f_{\\langle{}X,e\\rangle{}} \\: . \\: \\lambda{} x_{X} \\: . \\: {g}_{\\langle{}e,t\\rangle{}}({f}_{\\langle{}X,e\\rangle{}}({x}_{X}))$"
      ],
      "text/plain": [
       "(λ g_<e,t>: (λ f_<X,e>: (λ x_X: g_<e,t>(f_<X,e>(x_X)))))"
      ]
     },
     "execution_count": 6,
     "metadata": {},
     "output_type": "execute_result"
    }
   ],
   "source": [
    "t = tp(\"<<e,t>,X10>\")\n",
    "%prun -s cumtime r = geach.try_adjust_type(t)\n",
    "r"
   ]
  },
  {
   "cell_type": "code",
   "execution_count": 7,
   "metadata": {
    "collapsed": false
   },
   "outputs": [
    {
     "data": {
      "text/latex": [
       "<table><tr><td style=\"border-left:1px solid #848482\"><div><table style=\"padding-bottom:5px\"><tr style=\"border-bottom:1px solid #848482;padding-bottom:5px\"><td style=\"padding-right:5px;vertical-align:bottom\"> 1. </td><td style=\"vertical-align:bottom;padding-right:10px\">$[\\lambda{} g_{\\langle{}e,t\\rangle{}} \\: . \\: \\lambda{} f_{\\langle{}X,e\\rangle{}} \\: . \\: \\lambda{} x_{X} \\: . \\: {g}_{\\langle{}e,t\\rangle{}}({f}_{\\langle{}X,e\\rangle{}}({x}_{X}))](\\lambda{} x_{e} \\: . \\: {Cat}({x}_{e}))(\\lambda{} x_{e} \\: . \\: {x}_{e})$</td></tr><tr style=\"border-bottom:1px solid #848482;padding-bottom:5px\"><td style=\"padding-right:5px;vertical-align:bottom\"> 2. </td><td style=\"vertical-align:bottom;padding-right:10px\">$[\\lambda{} g_{\\langle{}e,t\\rangle{}} \\: . \\: \\lambda{} f_{\\langle{}e,e\\rangle{}} \\: . \\: \\lambda{} x_{e} \\: . \\: {g}_{\\langle{}e,t\\rangle{}}({f}_{\\langle{}e,e\\rangle{}}({x}_{e}))](\\lambda{} x_{e} \\: . \\: {Cat}({x}_{e}))(\\lambda{} x_{e} \\: . \\: {x}_{e})$</td><td style=\"border-left:1px solid #848482\"><span style=\"color:blue\">Type inference</span></td></tr><tr style=\"border-bottom:1px solid #848482;padding-bottom:5px\"><td style=\"padding-right:5px;vertical-align:bottom\"> 3. </td><td style=\"vertical-align:bottom;padding-right:10px\">$[\\lambda{} f_{\\langle{}e,e\\rangle{}} \\: . \\: \\lambda{} x_{e} \\: . \\: {Cat}({f}_{\\langle{}e,e\\rangle{}}({x}_{e}))](\\lambda{} x_{e} \\: . \\: {x}_{e})$</td><td style=\"border-left:1px solid #848482\"><span style=\"color:blue\">Recursive reduction of operator</span></td></tr><tr style=\"border-bottom:1px solid #848482;padding-bottom:5px\"><td style=\"padding-right:5px;vertical-align:bottom\"> 4. </td><td style=\"vertical-align:bottom;padding-right:10px\">$\\lambda{} x_{e} \\: . \\: {Cat}([\\lambda{} x_{e} \\: . \\: {x}_{e}]({x}_{e}))$</td><td style=\"border-left:1px solid #848482\"><span style=\"color:blue\">Beta reduction</span></td></tr><tr style=\"padding-bottom:5px\"><td style=\"padding-right:5px;vertical-align:bottom\"> 5. </td><td style=\"vertical-align:bottom;padding-right:10px\">$\\lambda{} x_{e} \\: . \\: {Cat}({x}_{e})$</td><td style=\"border-left:1px solid #848482\"><span style=\"color:blue\">Recursive reduction of body</span></td></tr></table></div></td></tr></table>"
      ],
      "text/plain": [
       "<lamb.meta.Derivation at 0x11197c490>"
      ]
     },
     "execution_count": 7,
     "metadata": {},
     "output_type": "execute_result"
    }
   ],
   "source": [
    "fc_meta(f1,f2).derivation"
   ]
  },
  {
   "cell_type": "code",
   "execution_count": 8,
   "metadata": {
    "collapsed": false
   },
   "outputs": [],
   "source": [
    "# this trick is called \"monkey patching\".  It lets us use * for function composition in the metalanguage.\n",
    "# note that it isn't really necessary here as function composition is now implemented as a part of the built in LFun class\n",
    "\n",
    "# meta.LFun.__mul__ = fc_meta"
   ]
  },
  {
   "cell_type": "code",
   "execution_count": 9,
   "metadata": {
    "collapsed": false
   },
   "outputs": [
    {
     "data": {
      "text/latex": [
       "$\\lambda{} x_{e} \\: . \\: {Cat}({x}_{e})$"
      ],
      "text/plain": [
       "(λ x_e: Cat_<e,t>(x_e))"
      ]
     },
     "execution_count": 9,
     "metadata": {},
     "output_type": "execute_result"
    }
   ],
   "source": [
    "f1 * f2"
   ]
  },
  {
   "cell_type": "code",
   "execution_count": 10,
   "metadata": {
    "collapsed": false
   },
   "outputs": [
    {
     "data": {
      "text/latex": [
       "<span style=\"color:red\">Type mismatch</span>: '$\\lambda{} x_{e} \\: . \\: {x}_{e}$'/$\\langle{}e,e\\rangle{}$ and '$\\lambda{} x_{e} \\: . \\: {Cat}({x}_{e})$'/$\\langle{}e,t\\rangle{}$ conflict (mode: Function composition)"
      ],
      "text/plain": [
       "lamb.types.TypeMismatch((λ x_e: x_e),\n",
       "                        (λ x_e: Cat_<e,t>(x_e)),\n",
       "                        'Function composition')"
      ]
     },
     "execution_count": 10,
     "metadata": {},
     "output_type": "execute_result"
    }
   ],
   "source": [
    "result = None\n",
    "try:\n",
    "    result = f2 * f1 # should generate a type mismatch\n",
    "except types.TypeMismatch as e:\n",
    "    result = e\n",
    "result"
   ]
  },
  {
   "cell_type": "markdown",
   "metadata": {},
   "source": [
    "Next, we can use the Geach combinator to add a function composition operation to the composition system.  Internally, this does something like the above `fc_meta` function, but it is more straightforward to let the wrapper function `add_binary_rule` construct a composition rule from the combinator."
   ]
  },
  {
   "cell_type": "code",
   "execution_count": 11,
   "metadata": {
    "collapsed": false
   },
   "outputs": [
    {
     "data": {
      "text/latex": [
       "Composition system 'H&K simple (copy)'<br />Operations: {<br />&nbsp;&nbsp;&nbsp;&nbsp;Binary composition rule <i>FA</i>, built on python function 'lamb.lang.fa_fun'<br />&nbsp;&nbsp;&nbsp;&nbsp;Binary composition rule <i>PM</i>, built on python function 'lamb.lang.pm_fun'<br />&nbsp;&nbsp;&nbsp;&nbsp;Binary composition rule <i>PA</i>, built on python function 'lamb.lang.pa_fun'<br />&nbsp;&nbsp;&nbsp;&nbsp;Binary composition rule <i>FC</i>, built on combinator '$\\lambda{} g_{\\langle{}Y,Z\\rangle{}} \\: . \\: \\lambda{} f_{\\langle{}X,Y\\rangle{}} \\: . \\: \\lambda{} x_{X} \\: . \\: {g}_{\\langle{}Y,Z\\rangle{}}({f}_{\\langle{}X,Y\\rangle{}}({x}_{X}))$'<br />}"
      ],
      "text/plain": [
       "Composition system: H&K simple (copy)"
      ]
     },
     "execution_count": 11,
     "metadata": {},
     "output_type": "execute_result"
    }
   ],
   "source": [
    "# add the FC rule to the composition system.  Note that we don't even need to use `fc_meta` here; can just pass the geach combinator in\n",
    "system = lang.td_system.copy()\n",
    "system.add_binary_rule(geach, \"FC\")\n",
    "lang.set_system(system)\n",
    "system"
   ]
  },
  {
   "cell_type": "markdown",
   "metadata": {},
   "source": [
    "**Step 2**: treat pronouns as identity functions, and allow type lifting for names.\n",
    "\n",
    "(I have simply given the regular and type-lifted version of `Mary` under different names below.)"
   ]
  },
  {
   "cell_type": "code",
   "execution_count": 12,
   "metadata": {
    "collapsed": false
   },
   "outputs": [
    {
     "name": "stderr",
     "output_type": "stream",
     "text": [
      "INFO (meta): Coerced guessed type t for 'Saw_t' into <(e,e),t>, to match argument '(y_e, x_e)'\n"
     ]
    },
    {
     "data": {
      "text/latex": [
       "$[\\![\\mathbf{\\text{him}}]\\!]^{}_{\\langle{}e,e\\rangle{}} \\:=\\: \\lambda{} x_{e} \\: . \\: {x}_{e}$<br />\n",
       "$[\\![\\mathbf{\\text{mary1}}]\\!]^{}_{e} \\:=\\: {Mary}_{e}$<br />\n",
       "$[\\![\\mathbf{\\text{mary2}}]\\!]^{}_{\\langle{}\\langle{}e,t\\rangle{},t\\rangle{}} \\:=\\: \\lambda{} f_{\\langle{}e,t\\rangle{}} \\: . \\: {f}_{\\langle{}e,t\\rangle{}}({Mary}_{e})$<br />\n",
       "$[\\![\\mathbf{\\text{saw}}]\\!]^{}_{\\langle{}e,\\langle{}e,t\\rangle{}\\rangle{}} \\:=\\: \\lambda{} x_{e} \\: . \\: \\lambda{} y_{e} \\: . \\: {Saw}({y}_{e}, {x}_{e})$"
      ],
      "text/plain": [
       "$[\\![\\mathbf{\\text{him}}]\\!]^{}_{\\langle{}e,e\\rangle{}} \\:=\\: \\lambda{} x_{e} \\: . \\: {x}_{e}$<br />\n",
       "$[\\![\\mathbf{\\text{mary1}}]\\!]^{}_{e} \\:=\\: {Mary}_{e}$<br />\n",
       "$[\\![\\mathbf{\\text{mary2}}]\\!]^{}_{\\langle{}\\langle{}e,t\\rangle{},t\\rangle{}} \\:=\\: \\lambda{} f_{\\langle{}e,t\\rangle{}} \\: . \\: {f}_{\\langle{}e,t\\rangle{}}({Mary}_{e})$<br />\n",
       "$[\\![\\mathbf{\\text{saw}}]\\!]^{}_{\\langle{}e,\\langle{}e,t\\rangle{}\\rangle{}} \\:=\\: \\lambda{} x_{e} \\: . \\: \\lambda{} y_{e} \\: . \\: {Saw}({y}_{e}, {x}_{e})$"
      ]
     },
     "execution_count": 12,
     "metadata": {},
     "output_type": "execute_result"
    }
   ],
   "source": [
    "%%lamb\n",
    "||him|| = L x_e  : x\n",
    "||mary1|| = Mary_e\n",
    "||mary2|| = L f_<e,t>: f(Mary_e)\n",
    "||saw|| = L x_e : L y_e : Saw(y,x)"
   ]
  },
  {
   "cell_type": "code",
   "execution_count": 13,
   "metadata": {
    "collapsed": false
   },
   "outputs": [
    {
     "data": {
      "text/latex": [
       "1 composition path.  Result:\n",
       "<br />&nbsp;&nbsp;&nbsp;&nbsp;[0]: $[\\![\\mathbf{\\text{[mary2 [saw him]]}}]\\!]^{}_{\\langle{}e,t\\rangle{}} \\:=\\: $$\\lambda{} x_{e} \\: . \\: {Saw}({Mary}_{e}, {x}_{e})$"
      ],
      "text/plain": [
       "CompositionResult(results=[⟦[mary2 [saw him]]⟧ = (λ x_e: Saw_<(e,e),t>(Mary_e, x_e))], failures=[⟦[mary2 [saw him]]⟧ = Type mismatch: '⟦mary2⟧ = (λ f_<e,t>: f_<e,t>(Mary_e))'/<<e,t>,t> and '⟦[saw him]⟧ = (λ x_e: (λ y_e: Saw_<(e,e),t>(y_e, x_e)))'/<e,<e,t>> conflict (mode: Function Application), ⟦[[saw him] mary2]⟧ = Type mismatch: '⟦[saw him]⟧ = (λ x_e: (λ y_e: Saw_<(e,e),t>(y_e, x_e)))'/<e,<e,t>> and '⟦mary2⟧ = (λ f_<e,t>: f_<e,t>(Mary_e))'/<<e,t>,t> conflict (mode: Function Application), ⟦[mary2 [saw him]]⟧ = Type mismatch: '⟦mary2⟧ = (λ f_<e,t>: f_<e,t>(Mary_e))'/<<e,t>,t> and '⟦[saw him]⟧ = (λ x_e: (λ y_e: Saw_<(e,e),t>(y_e, x_e)))'/<e,<e,t>> conflict (mode: Predicate Modification), ⟦[mary2 [saw him]]⟧ = Type mismatch: '⟦mary2⟧ = (λ f_<e,t>: f_<e,t>(Mary_e))'/<<e,t>,t> and '⟦[saw him]⟧ = (λ x_e: (λ y_e: Saw_<(e,e),t>(y_e, x_e)))'/<e,<e,t>> conflict (mode: Predicate Abstraction), ⟦[[saw him] mary2]⟧ = Type mismatch: '⟦[saw him]⟧ = (λ x_e: (λ y_e: Saw_<(e,e),t>(y_e, x_e)))'/<e,<e,t>> and '⟦mary2⟧ = (λ f_<e,t>: f_<e,t>(Mary_e))'/<<e,t>,t> conflict (mode: Predicate Abstraction), ⟦[[saw him] mary2]⟧ = Type mismatch: '((λ g_<e,<e,t>>: (λ f_<X,e>: (λ x_X: g_<e,<e,t>>(f_<X,e>(x_X))))))((λ x_e: (λ y_e: Saw_<(e,e),t>(y_e, x_e))))'/<<X,e>,<X,<e,t>>> and '(λ f_<e,t>: f_<e,t>(Mary_e))'/<<e,t>,t> conflict (mode: Function argument combination (unification failed))])"
      ]
     },
     "execution_count": 13,
     "metadata": {},
     "output_type": "execute_result"
    }
   ],
   "source": [
    "mary2 * (saw * him)"
   ]
  },
  {
   "cell_type": "code",
   "execution_count": 14,
   "metadata": {
    "collapsed": false
   },
   "outputs": [
    {
     "data": {
      "text/latex": [
       "1 composition path:<br /><table><tr style=\"border:1px solid #848482\"><td style=\"vertical-align:bottom;padding:0px 10px\" align=\"center\"><table><tr><td style=\"vertical-align:bottom;padding:5px\"><div style=\"margin-top:10px;border-style:solid;border-color:#848482;border-width:0px\"><div style=\"vertical-align:bottom;text-align:center\">$[\\![\\mathbf{\\text{mary2}}]\\!]^{}_{\\langle{}\\langle{}e,t\\rangle{},t\\rangle{}}$</div><div style=\"vertical-align:bottom;text-align:center\">$\\lambda{} f_{\\langle{}e,t\\rangle{}} \\: . \\: {f}_{\\langle{}e,t\\rangle{}}({Mary}_{e})$</div></div></td><td style=\"vertical-align:bottom;padding:10px\">$\\circ$</td><td style=\"vertical-align:bottom;padding:5px\"><table><tr style=\"border:1px solid #848482\"><td style=\"vertical-align:bottom;padding:0px 10px\" align=\"center\"><table><tr><td style=\"vertical-align:bottom;padding:5px\"><div style=\"margin-top:10px;border-style:solid;border-color:#848482;border-width:0px\"><div style=\"vertical-align:bottom;text-align:center\">$[\\![\\mathbf{\\text{saw}}]\\!]^{}_{\\langle{}e,\\langle{}e,t\\rangle{}\\rangle{}}$</div><div style=\"vertical-align:bottom;text-align:center\">$\\lambda{} x_{e} \\: . \\: \\lambda{} y_{e} \\: . \\: {Saw}({y}_{e}, {x}_{e})$</div></div></td><td style=\"vertical-align:bottom;padding:10px\">$\\circ$</td><td style=\"vertical-align:bottom;padding:5px\"><div style=\"margin-top:10px;border-style:solid;border-color:#848482;border-width:0px\"><div style=\"vertical-align:bottom;text-align:center\">$[\\![\\mathbf{\\text{him}}]\\!]^{}_{\\langle{}e,e\\rangle{}}$</div><div style=\"vertical-align:bottom;text-align:center\">$\\lambda{} x_{e} \\: . \\: {x}_{e}$</div></div></td></tr></table></td><td style=\"border-left:1px solid #848482;vertical-align:center;padding:10px\"><span style=\"color:blue\"><b>[FC]</b></span></td></tr><tr style=\"border-style:solid;border-color:#848482;border-width:0px 1px 1px 1px\"><td style=\"padding:5px\" align=\"center\"><div style=\"margin-top:10px;border-style:solid;border-color:#848482;border-width:0px\"><div style=\"vertical-align:bottom;text-align:center\">$[\\![\\mathbf{\\text{[saw him]}}]\\!]^{}_{\\langle{}e,\\langle{}e,t\\rangle{}\\rangle{}}$</div><div style=\"vertical-align:bottom;text-align:center\">$\\lambda{} x_{e} \\: . \\: \\lambda{} y_{e} \\: . \\: {Saw}({y}_{e}, {x}_{e})$</div></div></td><td></td></tr></table></td></tr></table></td><td style=\"border-left:1px solid #848482;vertical-align:center;padding:10px\"><span style=\"color:blue\"><b>[FC]</b></span></td></tr><tr style=\"border-style:solid;border-color:#848482;border-width:0px 1px 1px 1px\"><td style=\"padding:5px\" align=\"center\"><div style=\"margin-top:10px;border-style:solid;border-color:#848482;border-width:0px\"><div style=\"vertical-align:bottom;text-align:center\">$[\\![\\mathbf{\\text{[mary2 [saw him]]}}]\\!]^{}_{\\langle{}e,t\\rangle{}}$</div><div style=\"vertical-align:bottom;text-align:center\">$\\lambda{} x_{e} \\: . \\: {Saw}({Mary}_{e}, {x}_{e})$</div></div></td><td></td></tr></table><br /><br />"
      ],
      "text/plain": [
       "1 composition path:<br /><table><tr style=\"border:1px solid #848482\"><td style=\"vertical-align:bottom;padding:0px 10px\" align=\"center\"><table><tr><td style=\"vertical-align:bottom;padding:5px\"><div style=\"margin-top:10px;border-style:solid;border-color:#848482;border-width:0px\"><div style=\"vertical-align:bottom;text-align:center\">$[\\![\\mathbf{\\text{mary2}}]\\!]^{}_{\\langle{}\\langle{}e,t\\rangle{},t\\rangle{}}$</div><div style=\"vertical-align:bottom;text-align:center\">$\\lambda{} f_{\\langle{}e,t\\rangle{}} \\: . \\: {f}_{\\langle{}e,t\\rangle{}}({Mary}_{e})$</div></div></td><td style=\"vertical-align:bottom;padding:10px\">$\\circ$</td><td style=\"vertical-align:bottom;padding:5px\"><table><tr style=\"border:1px solid #848482\"><td style=\"vertical-align:bottom;padding:0px 10px\" align=\"center\"><table><tr><td style=\"vertical-align:bottom;padding:5px\"><div style=\"margin-top:10px;border-style:solid;border-color:#848482;border-width:0px\"><div style=\"vertical-align:bottom;text-align:center\">$[\\![\\mathbf{\\text{saw}}]\\!]^{}_{\\langle{}e,\\langle{}e,t\\rangle{}\\rangle{}}$</div><div style=\"vertical-align:bottom;text-align:center\">$\\lambda{} x_{e} \\: . \\: \\lambda{} y_{e} \\: . \\: {Saw}({y}_{e}, {x}_{e})$</div></div></td><td style=\"vertical-align:bottom;padding:10px\">$\\circ$</td><td style=\"vertical-align:bottom;padding:5px\"><div style=\"margin-top:10px;border-style:solid;border-color:#848482;border-width:0px\"><div style=\"vertical-align:bottom;text-align:center\">$[\\![\\mathbf{\\text{him}}]\\!]^{}_{\\langle{}e,e\\rangle{}}$</div><div style=\"vertical-align:bottom;text-align:center\">$\\lambda{} x_{e} \\: . \\: {x}_{e}$</div></div></td></tr></table></td><td style=\"border-left:1px solid #848482;vertical-align:center;padding:10px\"><span style=\"color:blue\"><b>[FC]</b></span></td></tr><tr style=\"border-style:solid;border-color:#848482;border-width:0px 1px 1px 1px\"><td style=\"padding:5px\" align=\"center\"><div style=\"margin-top:10px;border-style:solid;border-color:#848482;border-width:0px\"><div style=\"vertical-align:bottom;text-align:center\">$[\\![\\mathbf{\\text{[saw him]}}]\\!]^{}_{\\langle{}e,\\langle{}e,t\\rangle{}\\rangle{}}$</div><div style=\"vertical-align:bottom;text-align:center\">$\\lambda{} x_{e} \\: . \\: \\lambda{} y_{e} \\: . \\: {Saw}({y}_{e}, {x}_{e})$</div></div></td><td></td></tr></table></td></tr></table></td><td style=\"border-left:1px solid #848482;vertical-align:center;padding:10px\"><span style=\"color:blue\"><b>[FC]</b></span></td></tr><tr style=\"border-style:solid;border-color:#848482;border-width:0px 1px 1px 1px\"><td style=\"padding:5px\" align=\"center\"><div style=\"margin-top:10px;border-style:solid;border-color:#848482;border-width:0px\"><div style=\"vertical-align:bottom;text-align:center\">$[\\![\\mathbf{\\text{[mary2 [saw him]]}}]\\!]^{}_{\\langle{}e,t\\rangle{}}$</div><div style=\"vertical-align:bottom;text-align:center\">$\\lambda{} x_{e} \\: . \\: {Saw}({Mary}_{e}, {x}_{e})$</div></div></td><td></td></tr></table><br /><br />"
      ]
     },
     "execution_count": 14,
     "metadata": {},
     "output_type": "execute_result"
    }
   ],
   "source": [
    "(mary2 * (saw * him)).tree()"
   ]
  },
  {
   "cell_type": "markdown",
   "metadata": {},
   "source": [
    "This seems exactly right, with the abstraction over `x` corresponding to the intuition that `him` is free in this clause.\n",
    "\n",
    "However, Jacobson points out the following problem with this account: what if the type of the name is not lifted?"
   ]
  },
  {
   "cell_type": "code",
   "execution_count": 15,
   "metadata": {
    "collapsed": false
   },
   "outputs": [
    {
     "data": {
      "text/latex": [
       "1 composition path.  Result:\n",
       "<br />&nbsp;&nbsp;&nbsp;&nbsp;[0]: $[\\![\\mathbf{\\text{[[saw him] mary1]}}]\\!]^{}_{\\langle{}e,t\\rangle{}} \\:=\\: $$\\lambda{} y_{e} \\: . \\: {Saw}({y}_{e}, {Mary}_{e})$"
      ],
      "text/plain": [
       "CompositionResult(results=[⟦[[saw him] mary1]⟧ = (λ y_e: Saw_<(e,e),t>(y_e, Mary_e))], failures=[⟦[mary1 [saw him]]⟧ = Type mismatch: '⟦mary1⟧ = Mary_e'/e and '⟦[saw him]⟧ = (λ x_e: (λ y_e: Saw_<(e,e),t>(y_e, x_e)))'/<e,<e,t>> conflict (mode: Function Application), ⟦[mary1 [saw him]]⟧ = Type mismatch: '⟦mary1⟧ = Mary_e'/e and '⟦[saw him]⟧ = (λ x_e: (λ y_e: Saw_<(e,e),t>(y_e, x_e)))'/<e,<e,t>> conflict (mode: Predicate Modification), ⟦[mary1 [saw him]]⟧ = Type mismatch: '⟦mary1⟧ = Mary_e'/e and '⟦[saw him]⟧ = (λ x_e: (λ y_e: Saw_<(e,e),t>(y_e, x_e)))'/<e,<e,t>> conflict (mode: Predicate Abstraction), ⟦[[saw him] mary1]⟧ = Type mismatch: '⟦[saw him]⟧ = (λ x_e: (λ y_e: Saw_<(e,e),t>(y_e, x_e)))'/<e,<e,t>> and '⟦mary1⟧ = Mary_e'/e conflict (mode: Predicate Abstraction), ⟦[mary1 [saw him]]⟧ = Type mismatch: '(λ g_<I292,I291>: (λ f_<X,I292>: (λ x_X: g_<I292,I291>(f_<X,I292>(x_X)))))'/<<I292,I291>,<<X,I292>,<X,I291>>> and 'Mary_e'/e conflict (mode: Function argument combination (unification failed)), ⟦[[saw him] mary1]⟧ = Type mismatch: '((λ g_<e,<e,t>>: (λ f_<X,e>: (λ x_X: g_<e,<e,t>>(f_<X,e>(x_X))))))((λ x_e: (λ y_e: Saw_<(e,e),t>(y_e, x_e))))'/<<X,e>,<X,<e,t>>> and 'Mary_e'/e conflict (mode: Function argument combination (unification failed))])"
      ]
     },
     "execution_count": 15,
     "metadata": {},
     "output_type": "execute_result"
    }
   ],
   "source": [
    "mary1 * (saw * him)"
   ]
  },
  {
   "cell_type": "markdown",
   "metadata": {},
   "source": [
    "**Step 3**: rather than using a binary operation of function composition, use a unary type-shift that directly involves the geach combinator.\n",
    "\n",
    "For a really general treatment of this we'd need a bunch more syntactic work (that Jacobson does), and a family of geach combinators.  I will just assume two geach combinators, and one lifting operation."
   ]
  },
  {
   "cell_type": "code",
   "execution_count": 16,
   "metadata": {
    "collapsed": false
   },
   "outputs": [
    {
     "data": {
      "text/latex": [
       "$\\lambda{} f_{X} \\: . \\: \\lambda{} g_{\\langle{}X,t\\rangle{}} \\: . \\: {g}_{\\langle{}X,t\\rangle{}}({f}_{X})$"
      ],
      "text/plain": [
       "(λ f_X: (λ g_<X,t>: g_<X,t>(f_X)))"
      ]
     },
     "execution_count": 16,
     "metadata": {},
     "output_type": "execute_result"
    }
   ],
   "source": [
    "lift_combinator_t = %te L f_X : L g_<X,t> : g(f)\n",
    "lift_combinator_t"
   ]
  },
  {
   "cell_type": "code",
   "execution_count": 17,
   "metadata": {
    "collapsed": false
   },
   "outputs": [
    {
     "data": {
      "text/latex": [
       "$\\lambda{} g_{\\langle{}e,t\\rangle{}} \\: . \\: {g}_{\\langle{}e,t\\rangle{}}({Mary}_{e})$"
      ],
      "text/plain": [
       "(λ g_<e,t>: g_<e,t>(Mary_e))"
      ]
     },
     "execution_count": 17,
     "metadata": {},
     "output_type": "execute_result"
    }
   ],
   "source": [
    "lift_combinator_t(mary1.content).reduce()"
   ]
  },
  {
   "cell_type": "code",
   "execution_count": 18,
   "metadata": {
    "collapsed": false
   },
   "outputs": [
    {
     "data": {
      "text/latex": [
       "$\\lambda{} g_{\\langle{}?,Z\\rangle{}} \\: . \\: \\lambda{} f_{\\langle{}e,?\\rangle{}} \\: . \\: \\lambda{} x_{e} \\: . \\: {g}_{\\langle{}?,Z\\rangle{}}({f}_{\\langle{}e,?\\rangle{}}({x}_{e}))$"
      ],
      "text/plain": [
       "(λ g_<?,Z>: (λ f_<e,?>: (λ x_e: g_<?,Z>(f_<e,?>(x_e)))))"
      ]
     },
     "execution_count": 18,
     "metadata": {},
     "output_type": "execute_result"
    }
   ],
   "source": [
    "g_e_combinator = geach.try_adjust_type(tp(\"<?,<<e,?>,?>>\"))\n",
    "g_e_combinator"
   ]
  },
  {
   "cell_type": "code",
   "execution_count": 19,
   "metadata": {
    "collapsed": false
   },
   "outputs": [
    {
     "data": {
      "text/latex": [
       "$\\lambda{} g_{\\langle{}?,Z\\rangle{}} \\: . \\: \\lambda{} f_{\\langle{}\\langle{}e,t\\rangle{},?\\rangle{}} \\: . \\: \\lambda{} x_{\\langle{}e,t\\rangle{}} \\: . \\: {g}_{\\langle{}?,Z\\rangle{}}({f}_{\\langle{}\\langle{}e,t\\rangle{},?\\rangle{}}({x}_{\\langle{}e,t\\rangle{}}))$"
      ],
      "text/plain": [
       "(λ g_<?,Z>: (λ f_<<e,t>,?>: (λ x_<e,t>: g_<?,Z>(f_<<e,t>,?>(x_<e,t>)))))"
      ]
     },
     "execution_count": 19,
     "metadata": {},
     "output_type": "execute_result"
    }
   ],
   "source": [
    "g_et_combinator = geach.try_adjust_type(tp(\"<?,<<<e,t>,?>,?>>\"))\n",
    "g_et_combinator"
   ]
  },
  {
   "cell_type": "code",
   "execution_count": 20,
   "metadata": {
    "collapsed": false
   },
   "outputs": [],
   "source": [
    "def geach_shift(fun, f_type_left):\n",
    "    combinator = geach_combinator(fun.type, types.FunType(f_type_left, fun.type.left))\n",
    "    return combinator(fun).reduce_all()"
   ]
  },
  {
   "cell_type": "code",
   "execution_count": 21,
   "metadata": {
    "collapsed": false
   },
   "outputs": [
    {
     "ename": "NameError",
     "evalue": "global name 'geach_combinator' is not defined",
     "output_type": "error",
     "traceback": [
      "\u001b[0;31m---------------------------------------------------------------------------\u001b[0m",
      "\u001b[0;31mNameError\u001b[0m                                 Traceback (most recent call last)",
      "\u001b[0;32m<ipython-input-21-ce19acec3a4d>\u001b[0m in \u001b[0;36m<module>\u001b[0;34m()\u001b[0m\n\u001b[0;32m----> 1\u001b[0;31m \u001b[0mgeach_shift\u001b[0m\u001b[0;34m(\u001b[0m\u001b[0mf1\u001b[0m\u001b[0;34m,\u001b[0m \u001b[0mtypes\u001b[0m\u001b[0;34m.\u001b[0m\u001b[0mtype_e\u001b[0m\u001b[0;34m)\u001b[0m\u001b[0;34m\u001b[0m\u001b[0m\n\u001b[0m",
      "\u001b[0;32m<ipython-input-20-17c02a84a0d3>\u001b[0m in \u001b[0;36mgeach_shift\u001b[0;34m(fun, f_type_left)\u001b[0m\n\u001b[1;32m      1\u001b[0m \u001b[0;32mdef\u001b[0m \u001b[0mgeach_shift\u001b[0m\u001b[0;34m(\u001b[0m\u001b[0mfun\u001b[0m\u001b[0;34m,\u001b[0m \u001b[0mf_type_left\u001b[0m\u001b[0;34m)\u001b[0m\u001b[0;34m:\u001b[0m\u001b[0;34m\u001b[0m\u001b[0m\n\u001b[0;32m----> 2\u001b[0;31m     \u001b[0mcombinator\u001b[0m \u001b[0;34m=\u001b[0m \u001b[0mgeach_combinator\u001b[0m\u001b[0;34m(\u001b[0m\u001b[0mfun\u001b[0m\u001b[0;34m.\u001b[0m\u001b[0mtype\u001b[0m\u001b[0;34m,\u001b[0m \u001b[0mtypes\u001b[0m\u001b[0;34m.\u001b[0m\u001b[0mFunType\u001b[0m\u001b[0;34m(\u001b[0m\u001b[0mf_type_left\u001b[0m\u001b[0;34m,\u001b[0m \u001b[0mfun\u001b[0m\u001b[0;34m.\u001b[0m\u001b[0mtype\u001b[0m\u001b[0;34m.\u001b[0m\u001b[0mleft\u001b[0m\u001b[0;34m)\u001b[0m\u001b[0;34m)\u001b[0m\u001b[0;34m\u001b[0m\u001b[0m\n\u001b[0m\u001b[1;32m      3\u001b[0m     \u001b[0;32mreturn\u001b[0m \u001b[0mcombinator\u001b[0m\u001b[0;34m(\u001b[0m\u001b[0mfun\u001b[0m\u001b[0;34m)\u001b[0m\u001b[0;34m.\u001b[0m\u001b[0mreduce_all\u001b[0m\u001b[0;34m(\u001b[0m\u001b[0;34m)\u001b[0m\u001b[0;34m\u001b[0m\u001b[0m\n",
      "\u001b[0;31mNameError\u001b[0m: global name 'geach_combinator' is not defined"
     ]
    }
   ],
   "source": [
    "geach_shift(f1, types.type_e)"
   ]
  },
  {
   "cell_type": "code",
   "execution_count": 22,
   "metadata": {
    "collapsed": false
   },
   "outputs": [
    {
     "data": {
      "text/latex": [
       "Composition system 'H&K simple (copy)'<br />Operations: {<br />&nbsp;&nbsp;&nbsp;&nbsp;Binary composition rule <i>FA</i>, built on python function 'lamb.lang.fa_fun'<br />&nbsp;&nbsp;&nbsp;&nbsp;Binary composition rule <i>PM</i>, built on python function 'lamb.lang.pm_fun'<br />&nbsp;&nbsp;&nbsp;&nbsp;Binary composition rule <i>PA</i>, built on python function 'lamb.lang.pa_fun'<br />&nbsp;&nbsp;&nbsp;&nbsp;Unary composition rule <i>lift_t-shift</i>, built on combinator '$\\lambda{} f_{X} \\: . \\: \\lambda{} g_{\\langle{}X,t\\rangle{}} \\: . \\: {g}_{\\langle{}X,t\\rangle{}}({f}_{X})$'<br />&nbsp;&nbsp;&nbsp;&nbsp;Unary composition rule <i>g_e-shift</i>, built on combinator '$\\lambda{} g_{\\langle{}?,Z\\rangle{}} \\: . \\: \\lambda{} f_{\\langle{}e,?\\rangle{}} \\: . \\: \\lambda{} x_{e} \\: . \\: {g}_{\\langle{}?,Z\\rangle{}}({f}_{\\langle{}e,?\\rangle{}}({x}_{e}))$'<br />&nbsp;&nbsp;&nbsp;&nbsp;Unary composition rule <i>g_et-shift</i>, built on combinator '$\\lambda{} g_{\\langle{}?,Z\\rangle{}} \\: . \\: \\lambda{} f_{\\langle{}\\langle{}e,t\\rangle{},?\\rangle{}} \\: . \\: \\lambda{} x_{\\langle{}e,t\\rangle{}} \\: . \\: {g}_{\\langle{}?,Z\\rangle{}}({f}_{\\langle{}\\langle{}e,t\\rangle{},?\\rangle{}}({x}_{\\langle{}e,t\\rangle{}}))$'<br />}"
      ],
      "text/plain": [
       "Composition system: H&K simple (copy)"
      ]
     },
     "execution_count": 22,
     "metadata": {},
     "output_type": "execute_result"
    }
   ],
   "source": [
    "system = lang.td_system.copy()\n",
    "system.add_unary_rule(lift_combinator_t, \"lift_t-shift\")\n",
    "system.add_unary_rule(g_e_combinator, \"g_e-shift\")\n",
    "system.add_unary_rule(g_et_combinator, \"g_et-shift\")\n",
    "lang.set_system(system)\n",
    "system"
   ]
  },
  {
   "cell_type": "markdown",
   "metadata": {},
   "source": [
    "The brute-force way to trigger a unary type-shift is to multiply it by None (`x * None`).  The following examples use that idiom to show that, with the g-shift and type-lifted DP, there is no way to get the wrong result.\n",
    "\n",
    "Though in principle the non-lifted subject can compose with the g-shifted verb, this is ruled out syntactically (not implemented here); abstracting function composition to the g-rule enables this."
   ]
  },
  {
   "cell_type": "code",
   "execution_count": 23,
   "metadata": {
    "collapsed": false
   },
   "outputs": [
    {
     "data": {
      "text/latex": [
       "1 composition path:<br /><table><tr style=\"border:1px solid #848482\"><td style=\"vertical-align:bottom;padding:0px 10px\" align=\"center\"><table><tr><td style=\"vertical-align:bottom;padding:5px\"><table><tr style=\"border:1px solid #848482\"><td style=\"vertical-align:bottom;padding:0px 10px\" align=\"center\"><table><tr><td style=\"vertical-align:bottom;padding:5px\"><div style=\"margin-top:10px;border-style:solid;border-color:#848482;border-width:0px\"><div style=\"vertical-align:bottom;text-align:center\">$[\\![\\mathbf{\\text{mary2}}]\\!]^{}_{\\langle{}\\langle{}e,t\\rangle{},t\\rangle{}}$</div><div style=\"vertical-align:bottom;text-align:center\">$\\lambda{} f_{\\langle{}e,t\\rangle{}} \\: . \\: {f}_{\\langle{}e,t\\rangle{}}({Mary}_{e})$</div></div></td></tr></table></td><td style=\"border-left:1px solid #848482;vertical-align:center;padding:10px\"><span style=\"color:blue\"><b>[g_e-shift]</b></span></td></tr><tr style=\"border-style:solid;border-color:#848482;border-width:0px 1px 1px 1px\"><td style=\"padding:5px\" align=\"center\"><div style=\"margin-top:10px;border-style:solid;border-color:#848482;border-width:0px\"><div style=\"vertical-align:bottom;text-align:center\">$[\\![\\mathbf{\\text{[mary2]}}]\\!]^{}_{\\langle{}\\langle{}e,\\langle{}e,t\\rangle{}\\rangle{},\\langle{}e,t\\rangle{}\\rangle{}}$</div><div style=\"vertical-align:bottom;text-align:center\">$\\lambda{} f_{\\langle{}e,\\langle{}e,t\\rangle{}\\rangle{}} \\: . \\: \\lambda{} x_{e} \\: . \\: {f}_{\\langle{}e,\\langle{}e,t\\rangle{}\\rangle{}}({x}_{e})({Mary}_{e})$</div></div></td><td></td></tr></table></td><td style=\"vertical-align:bottom;padding:10px\">$\\circ$</td><td style=\"vertical-align:bottom;padding:5px\"><table><tr style=\"border:1px solid #848482\"><td style=\"vertical-align:bottom;padding:0px 10px\" align=\"center\"><table><tr><td style=\"vertical-align:bottom;padding:5px\"><table><tr style=\"border:1px solid #848482\"><td style=\"vertical-align:bottom;padding:0px 10px\" align=\"center\"><table><tr><td style=\"vertical-align:bottom;padding:5px\"><div style=\"margin-top:10px;border-style:solid;border-color:#848482;border-width:0px\"><div style=\"vertical-align:bottom;text-align:center\">$[\\![\\mathbf{\\text{saw}}]\\!]^{}_{\\langle{}e,\\langle{}e,t\\rangle{}\\rangle{}}$</div><div style=\"vertical-align:bottom;text-align:center\">$\\lambda{} x_{e} \\: . \\: \\lambda{} y_{e} \\: . \\: {Saw}({y}_{e}, {x}_{e})$</div></div></td></tr></table></td><td style=\"border-left:1px solid #848482;vertical-align:center;padding:10px\"><span style=\"color:blue\"><b>[g_e-shift]</b></span></td></tr><tr style=\"border-style:solid;border-color:#848482;border-width:0px 1px 1px 1px\"><td style=\"padding:5px\" align=\"center\"><div style=\"margin-top:10px;border-style:solid;border-color:#848482;border-width:0px\"><div style=\"vertical-align:bottom;text-align:center\">$[\\![\\mathbf{\\text{[saw]}}]\\!]^{}_{\\langle{}\\langle{}e,e\\rangle{},\\langle{}e,\\langle{}e,t\\rangle{}\\rangle{}\\rangle{}}$</div><div style=\"vertical-align:bottom;text-align:center\">$\\lambda{} f_{\\langle{}e,e\\rangle{}} \\: . \\: \\lambda{} x_{e} \\: . \\: \\lambda{} y_{e} \\: . \\: {Saw}({y}_{e}, {f}_{\\langle{}e,e\\rangle{}}({x}_{e}))$</div></div></td><td></td></tr></table></td><td style=\"vertical-align:bottom;padding:10px\">$\\circ$</td><td style=\"vertical-align:bottom;padding:5px\"><div style=\"margin-top:10px;border-style:solid;border-color:#848482;border-width:0px\"><div style=\"vertical-align:bottom;text-align:center\">$[\\![\\mathbf{\\text{him}}]\\!]^{}_{\\langle{}e,e\\rangle{}}$</div><div style=\"vertical-align:bottom;text-align:center\">$\\lambda{} x_{e} \\: . \\: {x}_{e}$</div></div></td></tr></table></td><td style=\"border-left:1px solid #848482;vertical-align:center;padding:10px\"><span style=\"color:blue\"><b>[FA]</b></span></td></tr><tr style=\"border-style:solid;border-color:#848482;border-width:0px 1px 1px 1px\"><td style=\"padding:5px\" align=\"center\"><div style=\"margin-top:10px;border-style:solid;border-color:#848482;border-width:0px\"><div style=\"vertical-align:bottom;text-align:center\">$[\\![\\mathbf{\\text{[[saw] him]}}]\\!]^{}_{\\langle{}e,\\langle{}e,t\\rangle{}\\rangle{}}$</div><div style=\"vertical-align:bottom;text-align:center\">$\\lambda{} x_{e} \\: . \\: \\lambda{} y_{e} \\: . \\: {Saw}({y}_{e}, {x}_{e})$</div></div></td><td></td></tr></table></td></tr></table></td><td style=\"border-left:1px solid #848482;vertical-align:center;padding:10px\"><span style=\"color:blue\"><b>[FA]</b></span></td></tr><tr style=\"border-style:solid;border-color:#848482;border-width:0px 1px 1px 1px\"><td style=\"padding:5px\" align=\"center\"><div style=\"margin-top:10px;border-style:solid;border-color:#848482;border-width:0px\"><div style=\"vertical-align:bottom;text-align:center\">$[\\![\\mathbf{\\text{[[mary2] [[saw] him]]}}]\\!]^{}_{\\langle{}e,t\\rangle{}}$</div><div style=\"vertical-align:bottom;text-align:center\">$\\lambda{} x_{e} \\: . \\: {Saw}({Mary}_{e}, {x}_{e})$</div></div></td><td></td></tr></table><br /><br />"
      ],
      "text/plain": [
       "1 composition path:<br /><table><tr style=\"border:1px solid #848482\"><td style=\"vertical-align:bottom;padding:0px 10px\" align=\"center\"><table><tr><td style=\"vertical-align:bottom;padding:5px\"><table><tr style=\"border:1px solid #848482\"><td style=\"vertical-align:bottom;padding:0px 10px\" align=\"center\"><table><tr><td style=\"vertical-align:bottom;padding:5px\"><div style=\"margin-top:10px;border-style:solid;border-color:#848482;border-width:0px\"><div style=\"vertical-align:bottom;text-align:center\">$[\\![\\mathbf{\\text{mary2}}]\\!]^{}_{\\langle{}\\langle{}e,t\\rangle{},t\\rangle{}}$</div><div style=\"vertical-align:bottom;text-align:center\">$\\lambda{} f_{\\langle{}e,t\\rangle{}} \\: . \\: {f}_{\\langle{}e,t\\rangle{}}({Mary}_{e})$</div></div></td></tr></table></td><td style=\"border-left:1px solid #848482;vertical-align:center;padding:10px\"><span style=\"color:blue\"><b>[g_e-shift]</b></span></td></tr><tr style=\"border-style:solid;border-color:#848482;border-width:0px 1px 1px 1px\"><td style=\"padding:5px\" align=\"center\"><div style=\"margin-top:10px;border-style:solid;border-color:#848482;border-width:0px\"><div style=\"vertical-align:bottom;text-align:center\">$[\\![\\mathbf{\\text{[mary2]}}]\\!]^{}_{\\langle{}\\langle{}e,\\langle{}e,t\\rangle{}\\rangle{},\\langle{}e,t\\rangle{}\\rangle{}}$</div><div style=\"vertical-align:bottom;text-align:center\">$\\lambda{} f_{\\langle{}e,\\langle{}e,t\\rangle{}\\rangle{}} \\: . \\: \\lambda{} x_{e} \\: . \\: {f}_{\\langle{}e,\\langle{}e,t\\rangle{}\\rangle{}}({x}_{e})({Mary}_{e})$</div></div></td><td></td></tr></table></td><td style=\"vertical-align:bottom;padding:10px\">$\\circ$</td><td style=\"vertical-align:bottom;padding:5px\"><table><tr style=\"border:1px solid #848482\"><td style=\"vertical-align:bottom;padding:0px 10px\" align=\"center\"><table><tr><td style=\"vertical-align:bottom;padding:5px\"><table><tr style=\"border:1px solid #848482\"><td style=\"vertical-align:bottom;padding:0px 10px\" align=\"center\"><table><tr><td style=\"vertical-align:bottom;padding:5px\"><div style=\"margin-top:10px;border-style:solid;border-color:#848482;border-width:0px\"><div style=\"vertical-align:bottom;text-align:center\">$[\\![\\mathbf{\\text{saw}}]\\!]^{}_{\\langle{}e,\\langle{}e,t\\rangle{}\\rangle{}}$</div><div style=\"vertical-align:bottom;text-align:center\">$\\lambda{} x_{e} \\: . \\: \\lambda{} y_{e} \\: . \\: {Saw}({y}_{e}, {x}_{e})$</div></div></td></tr></table></td><td style=\"border-left:1px solid #848482;vertical-align:center;padding:10px\"><span style=\"color:blue\"><b>[g_e-shift]</b></span></td></tr><tr style=\"border-style:solid;border-color:#848482;border-width:0px 1px 1px 1px\"><td style=\"padding:5px\" align=\"center\"><div style=\"margin-top:10px;border-style:solid;border-color:#848482;border-width:0px\"><div style=\"vertical-align:bottom;text-align:center\">$[\\![\\mathbf{\\text{[saw]}}]\\!]^{}_{\\langle{}\\langle{}e,e\\rangle{},\\langle{}e,\\langle{}e,t\\rangle{}\\rangle{}\\rangle{}}$</div><div style=\"vertical-align:bottom;text-align:center\">$\\lambda{} f_{\\langle{}e,e\\rangle{}} \\: . \\: \\lambda{} x_{e} \\: . \\: \\lambda{} y_{e} \\: . \\: {Saw}({y}_{e}, {f}_{\\langle{}e,e\\rangle{}}({x}_{e}))$</div></div></td><td></td></tr></table></td><td style=\"vertical-align:bottom;padding:10px\">$\\circ$</td><td style=\"vertical-align:bottom;padding:5px\"><div style=\"margin-top:10px;border-style:solid;border-color:#848482;border-width:0px\"><div style=\"vertical-align:bottom;text-align:center\">$[\\![\\mathbf{\\text{him}}]\\!]^{}_{\\langle{}e,e\\rangle{}}$</div><div style=\"vertical-align:bottom;text-align:center\">$\\lambda{} x_{e} \\: . \\: {x}_{e}$</div></div></td></tr></table></td><td style=\"border-left:1px solid #848482;vertical-align:center;padding:10px\"><span style=\"color:blue\"><b>[FA]</b></span></td></tr><tr style=\"border-style:solid;border-color:#848482;border-width:0px 1px 1px 1px\"><td style=\"padding:5px\" align=\"center\"><div style=\"margin-top:10px;border-style:solid;border-color:#848482;border-width:0px\"><div style=\"vertical-align:bottom;text-align:center\">$[\\![\\mathbf{\\text{[[saw] him]}}]\\!]^{}_{\\langle{}e,\\langle{}e,t\\rangle{}\\rangle{}}$</div><div style=\"vertical-align:bottom;text-align:center\">$\\lambda{} x_{e} \\: . \\: \\lambda{} y_{e} \\: . \\: {Saw}({y}_{e}, {x}_{e})$</div></div></td><td></td></tr></table></td></tr></table></td><td style=\"border-left:1px solid #848482;vertical-align:center;padding:10px\"><span style=\"color:blue\"><b>[FA]</b></span></td></tr><tr style=\"border-style:solid;border-color:#848482;border-width:0px 1px 1px 1px\"><td style=\"padding:5px\" align=\"center\"><div style=\"margin-top:10px;border-style:solid;border-color:#848482;border-width:0px\"><div style=\"vertical-align:bottom;text-align:center\">$[\\![\\mathbf{\\text{[[mary2] [[saw] him]]}}]\\!]^{}_{\\langle{}e,t\\rangle{}}$</div><div style=\"vertical-align:bottom;text-align:center\">$\\lambda{} x_{e} \\: . \\: {Saw}({Mary}_{e}, {x}_{e})$</div></div></td><td></td></tr></table><br /><br />"
      ]
     },
     "execution_count": 23,
     "metadata": {},
     "output_type": "execute_result"
    }
   ],
   "source": [
    "(((mary2 * None) * ((saw * None) * him))).reduce_all().tree()"
   ]
  },
  {
   "cell_type": "markdown",
   "metadata": {},
   "source": [
    "To handle binding of pronouns, we add a new typeshift, the z-rule.  Again I will implement this using a combinator."
   ]
  },
  {
   "cell_type": "code",
   "execution_count": null,
   "metadata": {
    "collapsed": false
   },
   "outputs": [],
   "source": []
  },
  {
   "cell_type": "code",
   "execution_count": 24,
   "metadata": {
    "collapsed": false
   },
   "outputs": [
    {
     "data": {
      "text/latex": [
       "$\\lambda{} f_{\\langle{}X,\\langle{}e,Z\\rangle{}\\rangle{}} \\: . \\: \\lambda{} g_{\\langle{}e,X\\rangle{}} \\: . \\: \\lambda{} x_{e} \\: . \\: {f}_{\\langle{}X,\\langle{}e,Z\\rangle{}\\rangle{}}({g}_{\\langle{}e,X\\rangle{}}({x}_{e}))({x}_{e})$"
      ],
      "text/plain": [
       "(λ f_<X,<e,Z>>: (λ g_<e,X>: (λ x_e: f_<X,<e,Z>>(g_<e,X>(x_e))(x_e))))"
      ]
     },
     "execution_count": 24,
     "metadata": {},
     "output_type": "execute_result"
    }
   ],
   "source": [
    "z_combinator = %te (λ f_<X,<e,Z>>: (λ g_<e,X>: (λ x_e: f(g(x))(x))))\n",
    "z_combinator"
   ]
  },
  {
   "cell_type": "code",
   "execution_count": 25,
   "metadata": {
    "collapsed": false
   },
   "outputs": [
    {
     "data": {
      "text/latex": [
       "$\\lambda{} f_{\\langle{}e,\\langle{}e,t\\rangle{}\\rangle{}} \\: . \\: \\lambda{} g_{\\langle{}e,e\\rangle{}} \\: . \\: \\lambda{} x_{e} \\: . \\: {f}_{\\langle{}e,\\langle{}e,t\\rangle{}\\rangle{}}({g}_{\\langle{}e,e\\rangle{}}({x}_{e}))({x}_{e})$"
      ],
      "text/plain": [
       "(λ f_<e,<e,t>>: (λ g_<e,e>: (λ x_e: f_<e,<e,t>>(g_<e,e>(x_e))(x_e))))"
      ]
     },
     "execution_count": 25,
     "metadata": {},
     "output_type": "execute_result"
    }
   ],
   "source": [
    "z_combinator.try_adjust_type(tp(\"<<e,<e,t>>,?>\"))"
   ]
  },
  {
   "cell_type": "code",
   "execution_count": 26,
   "metadata": {
    "collapsed": false
   },
   "outputs": [
    {
     "data": {
      "text/latex": [
       "$\\lambda{} g_{\\langle{}e,e\\rangle{}} \\: . \\: \\lambda{} x_{e} \\: . \\: {Saw}({x}_{e}, {g}_{\\langle{}e,e\\rangle{}}({x}_{e}))$"
      ],
      "text/plain": [
       "(λ g_<e,e>: (λ x_e: Saw_<(e,e),t>(x_e, g_<e,e>(x_e))))"
      ]
     },
     "execution_count": 26,
     "metadata": {},
     "output_type": "execute_result"
    }
   ],
   "source": [
    "z_combinator(saw.content).reduce_all()"
   ]
  },
  {
   "cell_type": "code",
   "execution_count": 27,
   "metadata": {
    "collapsed": false
   },
   "outputs": [
    {
     "data": {
      "text/latex": [
       "Composition system 'H&K simple (copy)'<br />Operations: {<br />&nbsp;&nbsp;&nbsp;&nbsp;Binary composition rule <i>FA</i>, built on python function 'lamb.lang.fa_fun'<br />&nbsp;&nbsp;&nbsp;&nbsp;Binary composition rule <i>PM</i>, built on python function 'lamb.lang.pm_fun'<br />&nbsp;&nbsp;&nbsp;&nbsp;Binary composition rule <i>PA</i>, built on python function 'lamb.lang.pa_fun'<br />&nbsp;&nbsp;&nbsp;&nbsp;Unary composition rule <i>lift_t-shift</i>, built on combinator '$\\lambda{} f_{X} \\: . \\: \\lambda{} g_{\\langle{}X,t\\rangle{}} \\: . \\: {g}_{\\langle{}X,t\\rangle{}}({f}_{X})$'<br />&nbsp;&nbsp;&nbsp;&nbsp;Typeshift <i>g_e-shift</i>, built on combinator '$\\lambda{} g_{\\langle{}?,Z\\rangle{}} \\: . \\: \\lambda{} f_{\\langle{}e,?\\rangle{}} \\: . \\: \\lambda{} x_{e} \\: . \\: {g}_{\\langle{}?,Z\\rangle{}}({f}_{\\langle{}e,?\\rangle{}}({x}_{e}))$'<br />&nbsp;&nbsp;&nbsp;&nbsp;Typeshift <i>g_et-shift</i>, built on combinator '$\\lambda{} g_{\\langle{}?,Z\\rangle{}} \\: . \\: \\lambda{} f_{\\langle{}\\langle{}e,t\\rangle{},?\\rangle{}} \\: . \\: \\lambda{} x_{\\langle{}e,t\\rangle{}} \\: . \\: {g}_{\\langle{}?,Z\\rangle{}}({f}_{\\langle{}\\langle{}e,t\\rangle{},?\\rangle{}}({x}_{\\langle{}e,t\\rangle{}}))$'<br />&nbsp;&nbsp;&nbsp;&nbsp;Typeshift <i>z-shift</i>, built on combinator '$\\lambda{} f_{\\langle{}X,\\langle{}e,Z\\rangle{}\\rangle{}} \\: . \\: \\lambda{} g_{\\langle{}e,X\\rangle{}} \\: . \\: \\lambda{} x_{e} \\: . \\: {f}_{\\langle{}X,\\langle{}e,Z\\rangle{}\\rangle{}}({g}_{\\langle{}e,X\\rangle{}}({x}_{e}))({x}_{e})$'<br />}"
      ],
      "text/plain": [
       "Composition system: H&K simple (copy)"
      ]
     },
     "execution_count": 27,
     "metadata": {},
     "output_type": "execute_result"
    }
   ],
   "source": [
    "system = lang.td_system.copy()\n",
    "system.add_unary_rule(lift_combinator_t, \"lift_t-shift\")\n",
    "system.add_typeshift(g_e_combinator, \"g_e-shift\")\n",
    "system.add_typeshift(g_et_combinator, \"g_et-shift\")\n",
    "system.add_typeshift(z_combinator, \"z-shift\")\n",
    "system.typeshift=True\n",
    "lang.set_system(system)\n",
    "system\n"
   ]
  },
  {
   "cell_type": "code",
   "execution_count": 28,
   "metadata": {
    "collapsed": false
   },
   "outputs": [
    {
     "name": "stdout",
     "output_type": "stream",
     "text": [
      "Type-shifting: found 2 new items to try: [CompositionResult(results=[⟦[saw]⟧ = (λ f_<e,e>: (λ x_e: (λ y_e: Saw_<(e,e),t>(y_e, f_<e,e>(x_e))))), ⟦[saw]⟧ = (λ f_<<e,t>,e>: (λ x_<e,t>: (λ y_e: Saw_<(e,e),t>(y_e, f_<<e,t>,e>(x_<e,t>))))), ⟦[saw]⟧ = (λ g_<e,e>: (λ x_e: Saw_<(e,e),t>(x_e, g_<e,e>(x_e)))), ⟦saw⟧ = (λ x_e: (λ y_e: Saw_<(e,e),t>(y_e, x_e)))], failures=[]), CompositionResult(results=[⟦[him]⟧ = (λ f_<e,e>: (λ x_e: f_<e,e>(x_e))), ⟦[him]⟧ = (λ f_<<e,t>,e>: (λ x_<e,t>: f_<<e,t>,e>(x_<e,t>))), ⟦him⟧ = (λ x_e: x_e)], failures=[])]\n",
      "Type-shifting: found 2 new items to try: [CompositionResult(results=[⟦[mary2]⟧ = (λ f_<e,<e,t>>: (λ x_e: f_<e,<e,t>>(x_e)(Mary_e))), ⟦[mary2]⟧ = (λ f_<<e,t>,<e,t>>: (λ x_<e,t>: f_<<e,t>,<e,t>>(x_<e,t>)(Mary_e))), ⟦mary2⟧ = (λ f_<e,t>: f_<e,t>(Mary_e))], failures=[]), CompositionResult(results=[⟦[[[saw] him]]⟧ = (λ f_<e,e>: (λ x_e: (λ y_e: Saw_<(e,e),t>(y_e, f_<e,e>(x_e))))), ⟦[[[saw] him]]⟧ = (λ f_<<e,t>,e>: (λ x_<e,t>: (λ y_e: Saw_<(e,e),t>(y_e, f_<<e,t>,e>(x_<e,t>))))), ⟦[[[saw] him]]⟧ = (λ g_<e,e>: (λ x_e: Saw_<(e,e),t>(x_e, g_<e,e>(x_e)))), ⟦[[saw] him]⟧ = (λ x_e: (λ y_e: Saw_<(e,e),t>(y_e, x_e)))], failures=[])]\n"
     ]
    },
    {
     "data": {
      "text/latex": [
       "2 composition paths. Results:\n",
       "<br />&nbsp;&nbsp;&nbsp;&nbsp;[0]: $[\\![\\mathbf{\\text{[[mary2] [[saw] him]]}}]\\!]^{}_{\\langle{}e,t\\rangle{}} \\:=\\: $$\\lambda{} x_{e} \\: . \\: {Saw}({Mary}_{e}, {x}_{e})$\n",
       "<br />&nbsp;&nbsp;&nbsp;&nbsp;[1]: $[\\![\\mathbf{\\text{[mary2 [[saw] him]]}}]\\!]^{}_{t} \\:=\\: $${Saw}({Mary}_{e}, {Mary}_{e})$"
      ],
      "text/plain": [
       "CompositionResult(results=[⟦[[mary2] [[saw] him]]⟧ = (λ x_e: Saw_<(e,e),t>(Mary_e, x_e)), ⟦[mary2 [[saw] him]]⟧ = Saw_<(e,e),t>(Mary_e, Mary_e)], failures=[⟦[[mary2] [[[saw] him]]]⟧ = Type mismatch: '⟦[mary2]⟧ = (λ f_<e,<e,t>>: (λ x_e: f_<e,<e,t>>(x_e)(Mary_e)))'/<<e,<e,t>>,<e,t>> and '⟦[[[saw] him]]⟧ = (λ f_<e,e>: (λ x_e: (λ y_e: Saw_<(e,e),t>(y_e, f_<e,e>(x_e)))))'/<<e,e>,<e,<e,t>>> conflict (mode: Function Application), ⟦[[[[saw] him]] [mary2]]⟧ = Type mismatch: '⟦[[[saw] him]]⟧ = (λ f_<e,e>: (λ x_e: (λ y_e: Saw_<(e,e),t>(y_e, f_<e,e>(x_e)))))'/<<e,e>,<e,<e,t>>> and '⟦[mary2]⟧ = (λ f_<e,<e,t>>: (λ x_e: f_<e,<e,t>>(x_e)(Mary_e)))'/<<e,<e,t>>,<e,t>> conflict (mode: Function Application), ⟦[[mary2] [[[saw] him]]]⟧ = Type mismatch: '⟦[mary2]⟧ = (λ f_<e,<e,t>>: (λ x_e: f_<e,<e,t>>(x_e)(Mary_e)))'/<<e,<e,t>>,<e,t>> and '⟦[[[saw] him]]⟧ = (λ f_<e,e>: (λ x_e: (λ y_e: Saw_<(e,e),t>(y_e, f_<e,e>(x_e)))))'/<<e,e>,<e,<e,t>>> conflict (mode: Predicate Modification), ⟦[[mary2] [[[saw] him]]]⟧ = Type mismatch: '⟦[mary2]⟧ = (λ f_<e,<e,t>>: (λ x_e: f_<e,<e,t>>(x_e)(Mary_e)))'/<<e,<e,t>>,<e,t>> and '⟦[[[saw] him]]⟧ = (λ f_<e,e>: (λ x_e: (λ y_e: Saw_<(e,e),t>(y_e, f_<e,e>(x_e)))))'/<<e,e>,<e,<e,t>>> conflict (mode: Predicate Abstraction), ⟦[[[[saw] him]] [mary2]]⟧ = Type mismatch: '⟦[[[saw] him]]⟧ = (λ f_<e,e>: (λ x_e: (λ y_e: Saw_<(e,e),t>(y_e, f_<e,e>(x_e)))))'/<<e,e>,<e,<e,t>>> and '⟦[mary2]⟧ = (λ f_<e,<e,t>>: (λ x_e: f_<e,<e,t>>(x_e)(Mary_e)))'/<<e,<e,t>>,<e,t>> conflict (mode: Predicate Abstraction), ⟦[[mary2] [[[saw] him]]]⟧ = Type mismatch: '⟦[mary2]⟧ = (λ f_<e,<e,t>>: (λ x_e: f_<e,<e,t>>(x_e)(Mary_e)))'/<<e,<e,t>>,<e,t>> and '⟦[[[saw] him]]⟧ = (λ f_<<e,t>,e>: (λ x_<e,t>: (λ y_e: Saw_<(e,e),t>(y_e, f_<<e,t>,e>(x_<e,t>)))))'/<<<e,t>,e>,<<e,t>,<e,t>>> conflict (mode: Function Application), ⟦[[[[saw] him]] [mary2]]⟧ = Type mismatch: '⟦[[[saw] him]]⟧ = (λ f_<<e,t>,e>: (λ x_<e,t>: (λ y_e: Saw_<(e,e),t>(y_e, f_<<e,t>,e>(x_<e,t>)))))'/<<<e,t>,e>,<<e,t>,<e,t>>> and '⟦[mary2]⟧ = (λ f_<e,<e,t>>: (λ x_e: f_<e,<e,t>>(x_e)(Mary_e)))'/<<e,<e,t>>,<e,t>> conflict (mode: Function Application), ⟦[[mary2] [[[saw] him]]]⟧ = Type mismatch: '⟦[mary2]⟧ = (λ f_<e,<e,t>>: (λ x_e: f_<e,<e,t>>(x_e)(Mary_e)))'/<<e,<e,t>>,<e,t>> and '⟦[[[saw] him]]⟧ = (λ f_<<e,t>,e>: (λ x_<e,t>: (λ y_e: Saw_<(e,e),t>(y_e, f_<<e,t>,e>(x_<e,t>)))))'/<<<e,t>,e>,<<e,t>,<e,t>>> conflict (mode: Predicate Modification), ⟦[[mary2] [[[saw] him]]]⟧ = Type mismatch: '⟦[mary2]⟧ = (λ f_<e,<e,t>>: (λ x_e: f_<e,<e,t>>(x_e)(Mary_e)))'/<<e,<e,t>>,<e,t>> and '⟦[[[saw] him]]⟧ = (λ f_<<e,t>,e>: (λ x_<e,t>: (λ y_e: Saw_<(e,e),t>(y_e, f_<<e,t>,e>(x_<e,t>)))))'/<<<e,t>,e>,<<e,t>,<e,t>>> conflict (mode: Predicate Abstraction), ⟦[[[[saw] him]] [mary2]]⟧ = Type mismatch: '⟦[[[saw] him]]⟧ = (λ f_<<e,t>,e>: (λ x_<e,t>: (λ y_e: Saw_<(e,e),t>(y_e, f_<<e,t>,e>(x_<e,t>)))))'/<<<e,t>,e>,<<e,t>,<e,t>>> and '⟦[mary2]⟧ = (λ f_<e,<e,t>>: (λ x_e: f_<e,<e,t>>(x_e)(Mary_e)))'/<<e,<e,t>>,<e,t>> conflict (mode: Predicate Abstraction), ⟦[[mary2] [[[saw] him]]]⟧ = Type mismatch: '⟦[mary2]⟧ = (λ f_<e,<e,t>>: (λ x_e: f_<e,<e,t>>(x_e)(Mary_e)))'/<<e,<e,t>>,<e,t>> and '⟦[[[saw] him]]⟧ = (λ g_<e,e>: (λ x_e: Saw_<(e,e),t>(x_e, g_<e,e>(x_e))))'/<<e,e>,<e,t>> conflict (mode: Function Application), ⟦[[[[saw] him]] [mary2]]⟧ = Type mismatch: '⟦[[[saw] him]]⟧ = (λ g_<e,e>: (λ x_e: Saw_<(e,e),t>(x_e, g_<e,e>(x_e))))'/<<e,e>,<e,t>> and '⟦[mary2]⟧ = (λ f_<e,<e,t>>: (λ x_e: f_<e,<e,t>>(x_e)(Mary_e)))'/<<e,<e,t>>,<e,t>> conflict (mode: Function Application), ⟦[[mary2] [[[saw] him]]]⟧ = Type mismatch: '⟦[mary2]⟧ = (λ f_<e,<e,t>>: (λ x_e: f_<e,<e,t>>(x_e)(Mary_e)))'/<<e,<e,t>>,<e,t>> and '⟦[[[saw] him]]⟧ = (λ g_<e,e>: (λ x_e: Saw_<(e,e),t>(x_e, g_<e,e>(x_e))))'/<<e,e>,<e,t>> conflict (mode: Predicate Modification), ⟦[[mary2] [[[saw] him]]]⟧ = Type mismatch: '⟦[mary2]⟧ = (λ f_<e,<e,t>>: (λ x_e: f_<e,<e,t>>(x_e)(Mary_e)))'/<<e,<e,t>>,<e,t>> and '⟦[[[saw] him]]⟧ = (λ g_<e,e>: (λ x_e: Saw_<(e,e),t>(x_e, g_<e,e>(x_e))))'/<<e,e>,<e,t>> conflict (mode: Predicate Abstraction), ⟦[[[[saw] him]] [mary2]]⟧ = Type mismatch: '⟦[[[saw] him]]⟧ = (λ g_<e,e>: (λ x_e: Saw_<(e,e),t>(x_e, g_<e,e>(x_e))))'/<<e,e>,<e,t>> and '⟦[mary2]⟧ = (λ f_<e,<e,t>>: (λ x_e: f_<e,<e,t>>(x_e)(Mary_e)))'/<<e,<e,t>>,<e,t>> conflict (mode: Predicate Abstraction), ⟦[[[saw] him] [mary2]]⟧ = Type mismatch: '⟦[[saw] him]⟧ = (λ x_e: (λ y_e: Saw_<(e,e),t>(y_e, x_e)))'/<e,<e,t>> and '⟦[mary2]⟧ = (λ f_<e,<e,t>>: (λ x_e: f_<e,<e,t>>(x_e)(Mary_e)))'/<<e,<e,t>>,<e,t>> conflict (mode: Function Application), ⟦[[mary2] [[saw] him]]⟧ = Type mismatch: '⟦[mary2]⟧ = (λ f_<e,<e,t>>: (λ x_e: f_<e,<e,t>>(x_e)(Mary_e)))'/<<e,<e,t>>,<e,t>> and '⟦[[saw] him]⟧ = (λ x_e: (λ y_e: Saw_<(e,e),t>(y_e, x_e)))'/<e,<e,t>> conflict (mode: Predicate Modification), ⟦[[mary2] [[saw] him]]⟧ = Type mismatch: '⟦[mary2]⟧ = (λ f_<e,<e,t>>: (λ x_e: f_<e,<e,t>>(x_e)(Mary_e)))'/<<e,<e,t>>,<e,t>> and '⟦[[saw] him]⟧ = (λ x_e: (λ y_e: Saw_<(e,e),t>(y_e, x_e)))'/<e,<e,t>> conflict (mode: Predicate Abstraction), ⟦[[[saw] him] [mary2]]⟧ = Type mismatch: '⟦[[saw] him]⟧ = (λ x_e: (λ y_e: Saw_<(e,e),t>(y_e, x_e)))'/<e,<e,t>> and '⟦[mary2]⟧ = (λ f_<e,<e,t>>: (λ x_e: f_<e,<e,t>>(x_e)(Mary_e)))'/<<e,<e,t>>,<e,t>> conflict (mode: Predicate Abstraction), ⟦[[mary2] [[[saw] him]]]⟧ = Type mismatch: '⟦[mary2]⟧ = (λ f_<<e,t>,<e,t>>: (λ x_<e,t>: f_<<e,t>,<e,t>>(x_<e,t>)(Mary_e)))'/<<<e,t>,<e,t>>,<<e,t>,t>> and '⟦[[[saw] him]]⟧ = (λ f_<e,e>: (λ x_e: (λ y_e: Saw_<(e,e),t>(y_e, f_<e,e>(x_e)))))'/<<e,e>,<e,<e,t>>> conflict (mode: Function Application), ⟦[[[[saw] him]] [mary2]]⟧ = Type mismatch: '⟦[[[saw] him]]⟧ = (λ f_<e,e>: (λ x_e: (λ y_e: Saw_<(e,e),t>(y_e, f_<e,e>(x_e)))))'/<<e,e>,<e,<e,t>>> and '⟦[mary2]⟧ = (λ f_<<e,t>,<e,t>>: (λ x_<e,t>: f_<<e,t>,<e,t>>(x_<e,t>)(Mary_e)))'/<<<e,t>,<e,t>>,<<e,t>,t>> conflict (mode: Function Application), ⟦[[mary2] [[[saw] him]]]⟧ = Type mismatch: '⟦[mary2]⟧ = (λ f_<<e,t>,<e,t>>: (λ x_<e,t>: f_<<e,t>,<e,t>>(x_<e,t>)(Mary_e)))'/<<<e,t>,<e,t>>,<<e,t>,t>> and '⟦[[[saw] him]]⟧ = (λ f_<e,e>: (λ x_e: (λ y_e: Saw_<(e,e),t>(y_e, f_<e,e>(x_e)))))'/<<e,e>,<e,<e,t>>> conflict (mode: Predicate Modification), ⟦[[mary2] [[[saw] him]]]⟧ = Type mismatch: '⟦[mary2]⟧ = (λ f_<<e,t>,<e,t>>: (λ x_<e,t>: f_<<e,t>,<e,t>>(x_<e,t>)(Mary_e)))'/<<<e,t>,<e,t>>,<<e,t>,t>> and '⟦[[[saw] him]]⟧ = (λ f_<e,e>: (λ x_e: (λ y_e: Saw_<(e,e),t>(y_e, f_<e,e>(x_e)))))'/<<e,e>,<e,<e,t>>> conflict (mode: Predicate Abstraction), ⟦[[[[saw] him]] [mary2]]⟧ = Type mismatch: '⟦[[[saw] him]]⟧ = (λ f_<e,e>: (λ x_e: (λ y_e: Saw_<(e,e),t>(y_e, f_<e,e>(x_e)))))'/<<e,e>,<e,<e,t>>> and '⟦[mary2]⟧ = (λ f_<<e,t>,<e,t>>: (λ x_<e,t>: f_<<e,t>,<e,t>>(x_<e,t>)(Mary_e)))'/<<<e,t>,<e,t>>,<<e,t>,t>> conflict (mode: Predicate Abstraction), ⟦[[mary2] [[[saw] him]]]⟧ = Type mismatch: '⟦[mary2]⟧ = (λ f_<<e,t>,<e,t>>: (λ x_<e,t>: f_<<e,t>,<e,t>>(x_<e,t>)(Mary_e)))'/<<<e,t>,<e,t>>,<<e,t>,t>> and '⟦[[[saw] him]]⟧ = (λ f_<<e,t>,e>: (λ x_<e,t>: (λ y_e: Saw_<(e,e),t>(y_e, f_<<e,t>,e>(x_<e,t>)))))'/<<<e,t>,e>,<<e,t>,<e,t>>> conflict (mode: Function Application), ⟦[[[[saw] him]] [mary2]]⟧ = Type mismatch: '⟦[[[saw] him]]⟧ = (λ f_<<e,t>,e>: (λ x_<e,t>: (λ y_e: Saw_<(e,e),t>(y_e, f_<<e,t>,e>(x_<e,t>)))))'/<<<e,t>,e>,<<e,t>,<e,t>>> and '⟦[mary2]⟧ = (λ f_<<e,t>,<e,t>>: (λ x_<e,t>: f_<<e,t>,<e,t>>(x_<e,t>)(Mary_e)))'/<<<e,t>,<e,t>>,<<e,t>,t>> conflict (mode: Function Application), ⟦[[mary2] [[[saw] him]]]⟧ = Type mismatch: '⟦[mary2]⟧ = (λ f_<<e,t>,<e,t>>: (λ x_<e,t>: f_<<e,t>,<e,t>>(x_<e,t>)(Mary_e)))'/<<<e,t>,<e,t>>,<<e,t>,t>> and '⟦[[[saw] him]]⟧ = (λ f_<<e,t>,e>: (λ x_<e,t>: (λ y_e: Saw_<(e,e),t>(y_e, f_<<e,t>,e>(x_<e,t>)))))'/<<<e,t>,e>,<<e,t>,<e,t>>> conflict (mode: Predicate Modification), ⟦[[mary2] [[[saw] him]]]⟧ = Type mismatch: '⟦[mary2]⟧ = (λ f_<<e,t>,<e,t>>: (λ x_<e,t>: f_<<e,t>,<e,t>>(x_<e,t>)(Mary_e)))'/<<<e,t>,<e,t>>,<<e,t>,t>> and '⟦[[[saw] him]]⟧ = (λ f_<<e,t>,e>: (λ x_<e,t>: (λ y_e: Saw_<(e,e),t>(y_e, f_<<e,t>,e>(x_<e,t>)))))'/<<<e,t>,e>,<<e,t>,<e,t>>> conflict (mode: Predicate Abstraction), ⟦[[[[saw] him]] [mary2]]⟧ = Type mismatch: '⟦[[[saw] him]]⟧ = (λ f_<<e,t>,e>: (λ x_<e,t>: (λ y_e: Saw_<(e,e),t>(y_e, f_<<e,t>,e>(x_<e,t>)))))'/<<<e,t>,e>,<<e,t>,<e,t>>> and '⟦[mary2]⟧ = (λ f_<<e,t>,<e,t>>: (λ x_<e,t>: f_<<e,t>,<e,t>>(x_<e,t>)(Mary_e)))'/<<<e,t>,<e,t>>,<<e,t>,t>> conflict (mode: Predicate Abstraction), ⟦[[mary2] [[[saw] him]]]⟧ = Type mismatch: '⟦[mary2]⟧ = (λ f_<<e,t>,<e,t>>: (λ x_<e,t>: f_<<e,t>,<e,t>>(x_<e,t>)(Mary_e)))'/<<<e,t>,<e,t>>,<<e,t>,t>> and '⟦[[[saw] him]]⟧ = (λ g_<e,e>: (λ x_e: Saw_<(e,e),t>(x_e, g_<e,e>(x_e))))'/<<e,e>,<e,t>> conflict (mode: Function Application), ⟦[[[[saw] him]] [mary2]]⟧ = Type mismatch: '⟦[[[saw] him]]⟧ = (λ g_<e,e>: (λ x_e: Saw_<(e,e),t>(x_e, g_<e,e>(x_e))))'/<<e,e>,<e,t>> and '⟦[mary2]⟧ = (λ f_<<e,t>,<e,t>>: (λ x_<e,t>: f_<<e,t>,<e,t>>(x_<e,t>)(Mary_e)))'/<<<e,t>,<e,t>>,<<e,t>,t>> conflict (mode: Function Application), ⟦[[mary2] [[[saw] him]]]⟧ = Type mismatch: '⟦[mary2]⟧ = (λ f_<<e,t>,<e,t>>: (λ x_<e,t>: f_<<e,t>,<e,t>>(x_<e,t>)(Mary_e)))'/<<<e,t>,<e,t>>,<<e,t>,t>> and '⟦[[[saw] him]]⟧ = (λ g_<e,e>: (λ x_e: Saw_<(e,e),t>(x_e, g_<e,e>(x_e))))'/<<e,e>,<e,t>> conflict (mode: Predicate Modification), ⟦[[mary2] [[[saw] him]]]⟧ = Type mismatch: '⟦[mary2]⟧ = (λ f_<<e,t>,<e,t>>: (λ x_<e,t>: f_<<e,t>,<e,t>>(x_<e,t>)(Mary_e)))'/<<<e,t>,<e,t>>,<<e,t>,t>> and '⟦[[[saw] him]]⟧ = (λ g_<e,e>: (λ x_e: Saw_<(e,e),t>(x_e, g_<e,e>(x_e))))'/<<e,e>,<e,t>> conflict (mode: Predicate Abstraction), ⟦[[[[saw] him]] [mary2]]⟧ = Type mismatch: '⟦[[[saw] him]]⟧ = (λ g_<e,e>: (λ x_e: Saw_<(e,e),t>(x_e, g_<e,e>(x_e))))'/<<e,e>,<e,t>> and '⟦[mary2]⟧ = (λ f_<<e,t>,<e,t>>: (λ x_<e,t>: f_<<e,t>,<e,t>>(x_<e,t>)(Mary_e)))'/<<<e,t>,<e,t>>,<<e,t>,t>> conflict (mode: Predicate Abstraction), ⟦[[mary2] [[saw] him]]⟧ = Type mismatch: '⟦[mary2]⟧ = (λ f_<<e,t>,<e,t>>: (λ x_<e,t>: f_<<e,t>,<e,t>>(x_<e,t>)(Mary_e)))'/<<<e,t>,<e,t>>,<<e,t>,t>> and '⟦[[saw] him]⟧ = (λ x_e: (λ y_e: Saw_<(e,e),t>(y_e, x_e)))'/<e,<e,t>> conflict (mode: Function Application), ⟦[[[saw] him] [mary2]]⟧ = Type mismatch: '⟦[[saw] him]⟧ = (λ x_e: (λ y_e: Saw_<(e,e),t>(y_e, x_e)))'/<e,<e,t>> and '⟦[mary2]⟧ = (λ f_<<e,t>,<e,t>>: (λ x_<e,t>: f_<<e,t>,<e,t>>(x_<e,t>)(Mary_e)))'/<<<e,t>,<e,t>>,<<e,t>,t>> conflict (mode: Function Application), ⟦[[mary2] [[saw] him]]⟧ = Type mismatch: '⟦[mary2]⟧ = (λ f_<<e,t>,<e,t>>: (λ x_<e,t>: f_<<e,t>,<e,t>>(x_<e,t>)(Mary_e)))'/<<<e,t>,<e,t>>,<<e,t>,t>> and '⟦[[saw] him]⟧ = (λ x_e: (λ y_e: Saw_<(e,e),t>(y_e, x_e)))'/<e,<e,t>> conflict (mode: Predicate Modification), ⟦[[mary2] [[saw] him]]⟧ = Type mismatch: '⟦[mary2]⟧ = (λ f_<<e,t>,<e,t>>: (λ x_<e,t>: f_<<e,t>,<e,t>>(x_<e,t>)(Mary_e)))'/<<<e,t>,<e,t>>,<<e,t>,t>> and '⟦[[saw] him]⟧ = (λ x_e: (λ y_e: Saw_<(e,e),t>(y_e, x_e)))'/<e,<e,t>> conflict (mode: Predicate Abstraction), ⟦[[[saw] him] [mary2]]⟧ = Type mismatch: '⟦[[saw] him]⟧ = (λ x_e: (λ y_e: Saw_<(e,e),t>(y_e, x_e)))'/<e,<e,t>> and '⟦[mary2]⟧ = (λ f_<<e,t>,<e,t>>: (λ x_<e,t>: f_<<e,t>,<e,t>>(x_<e,t>)(Mary_e)))'/<<<e,t>,<e,t>>,<<e,t>,t>> conflict (mode: Predicate Abstraction), ⟦[mary2 [[[saw] him]]]⟧ = Type mismatch: '⟦mary2⟧ = (λ f_<e,t>: f_<e,t>(Mary_e))'/<<e,t>,t> and '⟦[[[saw] him]]⟧ = (λ f_<e,e>: (λ x_e: (λ y_e: Saw_<(e,e),t>(y_e, f_<e,e>(x_e)))))'/<<e,e>,<e,<e,t>>> conflict (mode: Function Application), ⟦[[[[saw] him]] mary2]⟧ = Type mismatch: '⟦[[[saw] him]]⟧ = (λ f_<e,e>: (λ x_e: (λ y_e: Saw_<(e,e),t>(y_e, f_<e,e>(x_e)))))'/<<e,e>,<e,<e,t>>> and '⟦mary2⟧ = (λ f_<e,t>: f_<e,t>(Mary_e))'/<<e,t>,t> conflict (mode: Function Application), ⟦[mary2 [[[saw] him]]]⟧ = Type mismatch: '⟦mary2⟧ = (λ f_<e,t>: f_<e,t>(Mary_e))'/<<e,t>,t> and '⟦[[[saw] him]]⟧ = (λ f_<e,e>: (λ x_e: (λ y_e: Saw_<(e,e),t>(y_e, f_<e,e>(x_e)))))'/<<e,e>,<e,<e,t>>> conflict (mode: Predicate Modification), ⟦[mary2 [[[saw] him]]]⟧ = Type mismatch: '⟦mary2⟧ = (λ f_<e,t>: f_<e,t>(Mary_e))'/<<e,t>,t> and '⟦[[[saw] him]]⟧ = (λ f_<e,e>: (λ x_e: (λ y_e: Saw_<(e,e),t>(y_e, f_<e,e>(x_e)))))'/<<e,e>,<e,<e,t>>> conflict (mode: Predicate Abstraction), ⟦[[[[saw] him]] mary2]⟧ = Type mismatch: '⟦[[[saw] him]]⟧ = (λ f_<e,e>: (λ x_e: (λ y_e: Saw_<(e,e),t>(y_e, f_<e,e>(x_e)))))'/<<e,e>,<e,<e,t>>> and '⟦mary2⟧ = (λ f_<e,t>: f_<e,t>(Mary_e))'/<<e,t>,t> conflict (mode: Predicate Abstraction), ⟦[mary2 [[[saw] him]]]⟧ = Type mismatch: '⟦mary2⟧ = (λ f_<e,t>: f_<e,t>(Mary_e))'/<<e,t>,t> and '⟦[[[saw] him]]⟧ = (λ f_<<e,t>,e>: (λ x_<e,t>: (λ y_e: Saw_<(e,e),t>(y_e, f_<<e,t>,e>(x_<e,t>)))))'/<<<e,t>,e>,<<e,t>,<e,t>>> conflict (mode: Function Application), ⟦[[[[saw] him]] mary2]⟧ = Type mismatch: '⟦[[[saw] him]]⟧ = (λ f_<<e,t>,e>: (λ x_<e,t>: (λ y_e: Saw_<(e,e),t>(y_e, f_<<e,t>,e>(x_<e,t>)))))'/<<<e,t>,e>,<<e,t>,<e,t>>> and '⟦mary2⟧ = (λ f_<e,t>: f_<e,t>(Mary_e))'/<<e,t>,t> conflict (mode: Function Application), ⟦[mary2 [[[saw] him]]]⟧ = Type mismatch: '⟦mary2⟧ = (λ f_<e,t>: f_<e,t>(Mary_e))'/<<e,t>,t> and '⟦[[[saw] him]]⟧ = (λ f_<<e,t>,e>: (λ x_<e,t>: (λ y_e: Saw_<(e,e),t>(y_e, f_<<e,t>,e>(x_<e,t>)))))'/<<<e,t>,e>,<<e,t>,<e,t>>> conflict (mode: Predicate Modification), ⟦[mary2 [[[saw] him]]]⟧ = Type mismatch: '⟦mary2⟧ = (λ f_<e,t>: f_<e,t>(Mary_e))'/<<e,t>,t> and '⟦[[[saw] him]]⟧ = (λ f_<<e,t>,e>: (λ x_<e,t>: (λ y_e: Saw_<(e,e),t>(y_e, f_<<e,t>,e>(x_<e,t>)))))'/<<<e,t>,e>,<<e,t>,<e,t>>> conflict (mode: Predicate Abstraction), ⟦[[[[saw] him]] mary2]⟧ = Type mismatch: '⟦[[[saw] him]]⟧ = (λ f_<<e,t>,e>: (λ x_<e,t>: (λ y_e: Saw_<(e,e),t>(y_e, f_<<e,t>,e>(x_<e,t>)))))'/<<<e,t>,e>,<<e,t>,<e,t>>> and '⟦mary2⟧ = (λ f_<e,t>: f_<e,t>(Mary_e))'/<<e,t>,t> conflict (mode: Predicate Abstraction), ⟦[mary2 [[[saw] him]]]⟧ = Type mismatch: '⟦mary2⟧ = (λ f_<e,t>: f_<e,t>(Mary_e))'/<<e,t>,t> and '⟦[[[saw] him]]⟧ = (λ g_<e,e>: (λ x_e: Saw_<(e,e),t>(x_e, g_<e,e>(x_e))))'/<<e,e>,<e,t>> conflict (mode: Function Application), ⟦[[[[saw] him]] mary2]⟧ = Type mismatch: '⟦[[[saw] him]]⟧ = (λ g_<e,e>: (λ x_e: Saw_<(e,e),t>(x_e, g_<e,e>(x_e))))'/<<e,e>,<e,t>> and '⟦mary2⟧ = (λ f_<e,t>: f_<e,t>(Mary_e))'/<<e,t>,t> conflict (mode: Function Application), ⟦[mary2 [[[saw] him]]]⟧ = Type mismatch: '⟦mary2⟧ = (λ f_<e,t>: f_<e,t>(Mary_e))'/<<e,t>,t> and '⟦[[[saw] him]]⟧ = (λ g_<e,e>: (λ x_e: Saw_<(e,e),t>(x_e, g_<e,e>(x_e))))'/<<e,e>,<e,t>> conflict (mode: Predicate Modification), ⟦[mary2 [[[saw] him]]]⟧ = Type mismatch: '⟦mary2⟧ = (λ f_<e,t>: f_<e,t>(Mary_e))'/<<e,t>,t> and '⟦[[[saw] him]]⟧ = (λ g_<e,e>: (λ x_e: Saw_<(e,e),t>(x_e, g_<e,e>(x_e))))'/<<e,e>,<e,t>> conflict (mode: Predicate Abstraction), ⟦[[[[saw] him]] mary2]⟧ = Type mismatch: '⟦[[[saw] him]]⟧ = (λ g_<e,e>: (λ x_e: Saw_<(e,e),t>(x_e, g_<e,e>(x_e))))'/<<e,e>,<e,t>> and '⟦mary2⟧ = (λ f_<e,t>: f_<e,t>(Mary_e))'/<<e,t>,t> conflict (mode: Predicate Abstraction), ⟦[mary2 [[saw] him]]⟧ = Type mismatch: '⟦mary2⟧ = (λ f_<e,t>: f_<e,t>(Mary_e))'/<<e,t>,t> and '⟦[[saw] him]⟧ = (λ x_e: (λ y_e: Saw_<(e,e),t>(y_e, x_e)))'/<e,<e,t>> conflict (mode: Function Application), ⟦[[[saw] him] mary2]⟧ = Type mismatch: '⟦[[saw] him]⟧ = (λ x_e: (λ y_e: Saw_<(e,e),t>(y_e, x_e)))'/<e,<e,t>> and '⟦mary2⟧ = (λ f_<e,t>: f_<e,t>(Mary_e))'/<<e,t>,t> conflict (mode: Function Application), ⟦[mary2 [[saw] him]]⟧ = Type mismatch: '⟦mary2⟧ = (λ f_<e,t>: f_<e,t>(Mary_e))'/<<e,t>,t> and '⟦[[saw] him]⟧ = (λ x_e: (λ y_e: Saw_<(e,e),t>(y_e, x_e)))'/<e,<e,t>> conflict (mode: Predicate Modification), ⟦[mary2 [[saw] him]]⟧ = Type mismatch: '⟦mary2⟧ = (λ f_<e,t>: f_<e,t>(Mary_e))'/<<e,t>,t> and '⟦[[saw] him]⟧ = (λ x_e: (λ y_e: Saw_<(e,e),t>(y_e, x_e)))'/<e,<e,t>> conflict (mode: Predicate Abstraction), ⟦[[[saw] him] mary2]⟧ = Type mismatch: '⟦[[saw] him]⟧ = (λ x_e: (λ y_e: Saw_<(e,e),t>(y_e, x_e)))'/<e,<e,t>> and '⟦mary2⟧ = (λ f_<e,t>: f_<e,t>(Mary_e))'/<<e,t>,t> conflict (mode: Predicate Abstraction), ⟦[[[saw] him] mary2]⟧ = Type mismatch: '⟦[[saw] him]⟧ = (λ x_e: Saw_<(e,e),t>(x_e, x_e))'/<e,t> and '⟦mary2⟧ = (λ f_<e,t>: f_<e,t>(Mary_e))'/<<e,t>,t> conflict (mode: Function Application), ⟦[mary2 [[saw] him]]⟧ = Type mismatch: '⟦mary2⟧ = (λ f_<e,t>: f_<e,t>(Mary_e))'/<<e,t>,t> and '⟦[[saw] him]⟧ = (λ x_e: Saw_<(e,e),t>(x_e, x_e))'/<e,t> conflict (mode: Predicate Modification), ⟦[mary2 [[saw] him]]⟧ = Type mismatch: '⟦mary2⟧ = (λ f_<e,t>: f_<e,t>(Mary_e))'/<<e,t>,t> and '⟦[[saw] him]⟧ = (λ x_e: Saw_<(e,e),t>(x_e, x_e))'/<e,t> conflict (mode: Predicate Abstraction), ⟦[[[saw] him] mary2]⟧ = Type mismatch: '⟦[[saw] him]⟧ = (λ x_e: Saw_<(e,e),t>(x_e, x_e))'/<e,t> and '⟦mary2⟧ = (λ f_<e,t>: f_<e,t>(Mary_e))'/<<e,t>,t> conflict (mode: Predicate Abstraction)])"
      ]
     },
     "execution_count": 28,
     "metadata": {},
     "output_type": "execute_result"
    }
   ],
   "source": [
    "r = mary2 * (saw * him)\n",
    "r"
   ]
  },
  {
   "cell_type": "markdown",
   "metadata": {},
   "source": [
    "Note that `r[1]` is effectively a reflexive reading, which is a condition B violation for the pronoun *him*.  That is, this reading is generated by having the subject bind the direct object (via the z-rule).  Nothing in the system at the moment rules this out, and so these typeshifts alone will overgenerate reflexive readings.\n",
    "\n",
    "`r[0]` is of course the reading we hoped to generate, where `him` is free."
   ]
  },
  {
   "cell_type": "code",
   "execution_count": 29,
   "metadata": {
    "collapsed": false
   },
   "outputs": [
    {
     "data": {
      "text/latex": [
       "<table><tr style=\"border:1px solid #848482\"><td style=\"vertical-align:bottom;padding:0px 10px\" align=\"center\"><table><tr><td style=\"vertical-align:bottom;padding:5px\"><table><tr style=\"border:1px solid #848482\"><td style=\"vertical-align:bottom;padding:0px 10px\" align=\"center\"><table><tr><td style=\"vertical-align:bottom;padding:5px\"><div style=\"margin-top:10px;border-style:solid;border-color:#848482;border-width:0px\"><div style=\"vertical-align:bottom;text-align:center\">$[\\![\\mathbf{\\text{mary2}}]\\!]^{}_{\\langle{}\\langle{}e,t\\rangle{},t\\rangle{}}$</div><div style=\"vertical-align:bottom;text-align:center\">$\\lambda{} f_{\\langle{}e,t\\rangle{}} \\: . \\: {f}_{\\langle{}e,t\\rangle{}}({Mary}_{e})$</div></div></td></tr></table></td><td style=\"border-left:1px solid #848482;vertical-align:center;padding:10px\"><span style=\"color:blue\"><b>[g_e-shift]</b></span></td></tr><tr style=\"border-style:solid;border-color:#848482;border-width:0px 1px 1px 1px\"><td style=\"padding:5px\" align=\"center\"><div style=\"margin-top:10px;border-style:solid;border-color:#848482;border-width:0px\"><div style=\"vertical-align:bottom;text-align:center\">$[\\![\\mathbf{\\text{[mary2]}}]\\!]^{}_{\\langle{}\\langle{}e,\\langle{}e,t\\rangle{}\\rangle{},\\langle{}e,t\\rangle{}\\rangle{}}$</div><div style=\"vertical-align:bottom;text-align:center\">$\\lambda{} f_{\\langle{}e,\\langle{}e,t\\rangle{}\\rangle{}} \\: . \\: \\lambda{} x_{e} \\: . \\: {f}_{\\langle{}e,\\langle{}e,t\\rangle{}\\rangle{}}({x}_{e})({Mary}_{e})$</div></div></td><td></td></tr></table></td><td style=\"vertical-align:bottom;padding:10px\">$\\circ$</td><td style=\"vertical-align:bottom;padding:5px\"><table><tr style=\"border:1px solid #848482\"><td style=\"vertical-align:bottom;padding:0px 10px\" align=\"center\"><table><tr><td style=\"vertical-align:bottom;padding:5px\"><table><tr style=\"border:1px solid #848482\"><td style=\"vertical-align:bottom;padding:0px 10px\" align=\"center\"><table><tr><td style=\"vertical-align:bottom;padding:5px\"><div style=\"margin-top:10px;border-style:solid;border-color:#848482;border-width:0px\"><div style=\"vertical-align:bottom;text-align:center\">$[\\![\\mathbf{\\text{saw}}]\\!]^{}_{\\langle{}e,\\langle{}e,t\\rangle{}\\rangle{}}$</div><div style=\"vertical-align:bottom;text-align:center\">$\\lambda{} x_{e} \\: . \\: \\lambda{} y_{e} \\: . \\: {Saw}({y}_{e}, {x}_{e})$</div></div></td></tr></table></td><td style=\"border-left:1px solid #848482;vertical-align:center;padding:10px\"><span style=\"color:blue\"><b>[g_e-shift]</b></span></td></tr><tr style=\"border-style:solid;border-color:#848482;border-width:0px 1px 1px 1px\"><td style=\"padding:5px\" align=\"center\"><div style=\"margin-top:10px;border-style:solid;border-color:#848482;border-width:0px\"><div style=\"vertical-align:bottom;text-align:center\">$[\\![\\mathbf{\\text{[saw]}}]\\!]^{}_{\\langle{}\\langle{}e,e\\rangle{},\\langle{}e,\\langle{}e,t\\rangle{}\\rangle{}\\rangle{}}$</div><div style=\"vertical-align:bottom;text-align:center\">$\\lambda{} f_{\\langle{}e,e\\rangle{}} \\: . \\: \\lambda{} x_{e} \\: . \\: \\lambda{} y_{e} \\: . \\: {Saw}({y}_{e}, {f}_{\\langle{}e,e\\rangle{}}({x}_{e}))$</div></div></td><td></td></tr></table></td><td style=\"vertical-align:bottom;padding:10px\">$\\circ$</td><td style=\"vertical-align:bottom;padding:5px\"><div style=\"margin-top:10px;border-style:solid;border-color:#848482;border-width:0px\"><div style=\"vertical-align:bottom;text-align:center\">$[\\![\\mathbf{\\text{him}}]\\!]^{}_{\\langle{}e,e\\rangle{}}$</div><div style=\"vertical-align:bottom;text-align:center\">$\\lambda{} x_{e} \\: . \\: {x}_{e}$</div></div></td></tr></table></td><td style=\"border-left:1px solid #848482;vertical-align:center;padding:10px\"><span style=\"color:blue\"><b>[FA]</b></span></td></tr><tr style=\"border-style:solid;border-color:#848482;border-width:0px 1px 1px 1px\"><td style=\"padding:5px\" align=\"center\"><div style=\"margin-top:10px;border-style:solid;border-color:#848482;border-width:0px\"><div style=\"vertical-align:bottom;text-align:center\">$[\\![\\mathbf{\\text{[[saw] him]}}]\\!]^{}_{\\langle{}e,\\langle{}e,t\\rangle{}\\rangle{}}$</div><div style=\"vertical-align:bottom;text-align:center\">$\\lambda{} x_{e} \\: . \\: \\lambda{} y_{e} \\: . \\: {Saw}({y}_{e}, {x}_{e})$</div></div></td><td></td></tr></table></td></tr></table></td><td style=\"border-left:1px solid #848482;vertical-align:center;padding:10px\"><span style=\"color:blue\"><b>[FA]</b></span></td></tr><tr style=\"border-style:solid;border-color:#848482;border-width:0px 1px 1px 1px\"><td style=\"padding:5px\" align=\"center\"><div style=\"margin-top:10px;border-style:solid;border-color:#848482;border-width:0px\"><div style=\"vertical-align:bottom;text-align:center\">$[\\![\\mathbf{\\text{[[mary2] [[saw] him]]}}]\\!]^{}_{\\langle{}e,t\\rangle{}}$</div><div style=\"vertical-align:bottom;text-align:center\">$\\lambda{} x_{e} \\: . \\: {Saw}({Mary}_{e}, {x}_{e})$</div></div></td><td></td></tr></table>"
      ],
      "text/plain": [
       "<lamb.display.RecursiveDerivationDisplay at 0x112179b10>"
      ]
     },
     "execution_count": 29,
     "metadata": {},
     "output_type": "execute_result"
    }
   ],
   "source": [
    "r[0].tree()"
   ]
  },
  {
   "cell_type": "code",
   "execution_count": 30,
   "metadata": {
    "collapsed": false
   },
   "outputs": [
    {
     "data": {
      "text/latex": [
       "<table><tr style=\"border:1px solid #848482\"><td style=\"vertical-align:bottom;padding:0px 10px\" align=\"center\"><table><tr><td style=\"vertical-align:bottom;padding:5px\"><div style=\"margin-top:10px;border-style:solid;border-color:#848482;border-width:0px\"><div style=\"vertical-align:bottom;text-align:center\">$[\\![\\mathbf{\\text{mary2}}]\\!]^{}_{\\langle{}\\langle{}e,t\\rangle{},t\\rangle{}}$</div><div style=\"vertical-align:bottom;text-align:center\">$\\lambda{} f_{\\langle{}e,t\\rangle{}} \\: . \\: {f}_{\\langle{}e,t\\rangle{}}({Mary}_{e})$</div></div></td><td style=\"vertical-align:bottom;padding:10px\">$\\circ$</td><td style=\"vertical-align:bottom;padding:5px\"><table><tr style=\"border:1px solid #848482\"><td style=\"vertical-align:bottom;padding:0px 10px\" align=\"center\"><table><tr><td style=\"vertical-align:bottom;padding:5px\"><table><tr style=\"border:1px solid #848482\"><td style=\"vertical-align:bottom;padding:0px 10px\" align=\"center\"><table><tr><td style=\"vertical-align:bottom;padding:5px\"><div style=\"margin-top:10px;border-style:solid;border-color:#848482;border-width:0px\"><div style=\"vertical-align:bottom;text-align:center\">$[\\![\\mathbf{\\text{saw}}]\\!]^{}_{\\langle{}e,\\langle{}e,t\\rangle{}\\rangle{}}$</div><div style=\"vertical-align:bottom;text-align:center\">$\\lambda{} x_{e} \\: . \\: \\lambda{} y_{e} \\: . \\: {Saw}({y}_{e}, {x}_{e})$</div></div></td></tr></table></td><td style=\"border-left:1px solid #848482;vertical-align:center;padding:10px\"><span style=\"color:blue\"><b>[z-shift]</b></span></td></tr><tr style=\"border-style:solid;border-color:#848482;border-width:0px 1px 1px 1px\"><td style=\"padding:5px\" align=\"center\"><div style=\"margin-top:10px;border-style:solid;border-color:#848482;border-width:0px\"><div style=\"vertical-align:bottom;text-align:center\">$[\\![\\mathbf{\\text{[saw]}}]\\!]^{}_{\\langle{}\\langle{}e,e\\rangle{},\\langle{}e,t\\rangle{}\\rangle{}}$</div><div style=\"vertical-align:bottom;text-align:center\">$\\lambda{} g_{\\langle{}e,e\\rangle{}} \\: . \\: \\lambda{} x_{e} \\: . \\: {Saw}({x}_{e}, {g}_{\\langle{}e,e\\rangle{}}({x}_{e}))$</div></div></td><td></td></tr></table></td><td style=\"vertical-align:bottom;padding:10px\">$\\circ$</td><td style=\"vertical-align:bottom;padding:5px\"><div style=\"margin-top:10px;border-style:solid;border-color:#848482;border-width:0px\"><div style=\"vertical-align:bottom;text-align:center\">$[\\![\\mathbf{\\text{him}}]\\!]^{}_{\\langle{}e,e\\rangle{}}$</div><div style=\"vertical-align:bottom;text-align:center\">$\\lambda{} x_{e} \\: . \\: {x}_{e}$</div></div></td></tr></table></td><td style=\"border-left:1px solid #848482;vertical-align:center;padding:10px\"><span style=\"color:blue\"><b>[FA]</b></span></td></tr><tr style=\"border-style:solid;border-color:#848482;border-width:0px 1px 1px 1px\"><td style=\"padding:5px\" align=\"center\"><div style=\"margin-top:10px;border-style:solid;border-color:#848482;border-width:0px\"><div style=\"vertical-align:bottom;text-align:center\">$[\\![\\mathbf{\\text{[[saw] him]}}]\\!]^{}_{\\langle{}e,t\\rangle{}}$</div><div style=\"vertical-align:bottom;text-align:center\">$\\lambda{} x_{e} \\: . \\: {Saw}({x}_{e}, {x}_{e})$</div></div></td><td></td></tr></table></td></tr></table></td><td style=\"border-left:1px solid #848482;vertical-align:center;padding:10px\"><span style=\"color:blue\"><b>[FA]</b></span></td></tr><tr style=\"border-style:solid;border-color:#848482;border-width:0px 1px 1px 1px\"><td style=\"padding:5px\" align=\"center\"><div style=\"margin-top:10px;border-style:solid;border-color:#848482;border-width:0px\"><div style=\"vertical-align:bottom;text-align:center\">$[\\![\\mathbf{\\text{[mary2 [[saw] him]]}}]\\!]^{}_{t}$</div><div style=\"vertical-align:bottom;text-align:center\">${Saw}({Mary}_{e}, {Mary}_{e})$</div></div></td><td></td></tr></table>"
      ],
      "text/plain": [
       "<lamb.display.RecursiveDerivationDisplay at 0x112179ed0>"
      ]
     },
     "execution_count": 30,
     "metadata": {},
     "output_type": "execute_result"
    }
   ],
   "source": [
    "r[1].tree()"
   ]
  },
  {
   "cell_type": "code",
   "execution_count": null,
   "metadata": {
    "collapsed": false
   },
   "outputs": [],
   "source": []
  },
  {
   "cell_type": "code",
   "execution_count": 31,
   "metadata": {
    "collapsed": false
   },
   "outputs": [
    {
     "name": "stderr",
     "output_type": "stream",
     "text": [
      "INFO (meta): Coerced guessed type t for 'Man_t' into <e,t>, to match argument 'x_e'\n"
     ]
    },
    {
     "data": {
      "text/latex": [
       "$[\\![\\mathbf{\\text{every}}]\\!]^{}_{\\langle{}\\langle{}e,t\\rangle{},\\langle{}\\langle{}e,t\\rangle{},t\\rangle{}\\rangle{}} \\:=\\: \\lambda{} f_{\\langle{}e,t\\rangle{}} \\: . \\: \\lambda{} g_{\\langle{}e,t\\rangle{}} \\: . \\: \\forall{} x_{e} \\: . \\: ({f}_{\\langle{}e,t\\rangle{}}({x}_{e}) \\rightarrow{} {g}_{\\langle{}e,t\\rangle{}}({x}_{e}))$<br />\n",
       "$[\\![\\mathbf{\\text{man}}]\\!]^{}_{\\langle{}e,t\\rangle{}} \\:=\\: \\lambda{} x_{e} \\: . \\: {Man}({x}_{e})$"
      ],
      "text/plain": [
       "$[\\![\\mathbf{\\text{every}}]\\!]^{}_{\\langle{}\\langle{}e,t\\rangle{},\\langle{}\\langle{}e,t\\rangle{},t\\rangle{}\\rangle{}} \\:=\\: \\lambda{} f_{\\langle{}e,t\\rangle{}} \\: . \\: \\lambda{} g_{\\langle{}e,t\\rangle{}} \\: . \\: \\forall{} x_{e} \\: . \\: ({f}_{\\langle{}e,t\\rangle{}}({x}_{e}) \\rightarrow{} {g}_{\\langle{}e,t\\rangle{}}({x}_{e}))$<br />\n",
       "$[\\![\\mathbf{\\text{man}}]\\!]^{}_{\\langle{}e,t\\rangle{}} \\:=\\: \\lambda{} x_{e} \\: . \\: {Man}({x}_{e})$"
      ]
     },
     "execution_count": 31,
     "metadata": {},
     "output_type": "execute_result"
    }
   ],
   "source": [
    "%%lamb\n",
    "||every|| = L f_<e,t> : L g_<e,t> : Forall x_e : f(x) >> g(x)\n",
    "||man|| = L x_e : Man(x)"
   ]
  },
  {
   "cell_type": "code",
   "execution_count": 32,
   "metadata": {
    "collapsed": false
   },
   "outputs": [
    {
     "data": {
      "text/latex": [
       "1 composition path.  Result:\n",
       "<br />&nbsp;&nbsp;&nbsp;&nbsp;[0]: $[\\![\\mathbf{\\text{[every man]}}]\\!]^{}_{\\langle{}\\langle{}e,t\\rangle{},t\\rangle{}} \\:=\\: $$\\lambda{} g_{\\langle{}e,t\\rangle{}} \\: . \\: \\forall{} x_{e} \\: . \\: ({Man}({x}_{e}) \\rightarrow{} {g}_{\\langle{}e,t\\rangle{}}({x}_{e}))$"
      ],
      "text/plain": [
       "CompositionResult(results=[⟦[every man]⟧ = (λ g_<e,t>: (Forall x_e: (Man_<e,t>(x_e) >> g_<e,t>(x_e))))], failures=[⟦[man every]⟧ = Type mismatch: '⟦man⟧ = (λ x_e: Man_<e,t>(x_e))'/<e,t> and '⟦every⟧ = (λ f_<e,t>: (λ g_<e,t>: (Forall x_e: (f_<e,t>(x_e) >> g_<e,t>(x_e)))))'/<<e,t>,<<e,t>,t>> conflict (mode: Function Application), ⟦[every man]⟧ = Type mismatch: '⟦every⟧ = (λ f_<e,t>: (λ g_<e,t>: (Forall x_e: (f_<e,t>(x_e) >> g_<e,t>(x_e)))))'/<<e,t>,<<e,t>,t>> and '⟦man⟧ = (λ x_e: Man_<e,t>(x_e))'/<e,t> conflict (mode: Predicate Modification), ⟦[every man]⟧ = Type mismatch: '⟦every⟧ = (λ f_<e,t>: (λ g_<e,t>: (Forall x_e: (f_<e,t>(x_e) >> g_<e,t>(x_e)))))'/<<e,t>,<<e,t>,t>> and '⟦man⟧ = (λ x_e: Man_<e,t>(x_e))'/<e,t> conflict (mode: Predicate Abstraction), ⟦[man every]⟧ = Type mismatch: '⟦man⟧ = (λ x_e: Man_<e,t>(x_e))'/<e,t> and '⟦every⟧ = (λ f_<e,t>: (λ g_<e,t>: (Forall x_e: (f_<e,t>(x_e) >> g_<e,t>(x_e)))))'/<<e,t>,<<e,t>,t>> conflict (mode: Predicate Abstraction)])"
      ]
     },
     "execution_count": 32,
     "metadata": {},
     "output_type": "execute_result"
    }
   ],
   "source": [
    "dp = every * man\n",
    "dp"
   ]
  },
  {
   "cell_type": "code",
   "execution_count": 33,
   "metadata": {
    "collapsed": false
   },
   "outputs": [
    {
     "name": "stdout",
     "output_type": "stream",
     "text": [
      "Type-shifting: found 2 new items to try: [CompositionResult(results=[⟦[saw]⟧ = (λ f_<e,e>: (λ x_e: (λ y_e: Saw_<(e,e),t>(y_e, f_<e,e>(x_e))))), ⟦[saw]⟧ = (λ f_<<e,t>,e>: (λ x_<e,t>: (λ y_e: Saw_<(e,e),t>(y_e, f_<<e,t>,e>(x_<e,t>))))), ⟦[saw]⟧ = (λ g_<e,e>: (λ x_e: Saw_<(e,e),t>(x_e, g_<e,e>(x_e)))), ⟦saw⟧ = (λ x_e: (λ y_e: Saw_<(e,e),t>(y_e, x_e)))], failures=[]), CompositionResult(results=[⟦[him]⟧ = (λ f_<e,e>: (λ x_e: f_<e,e>(x_e))), ⟦[him]⟧ = (λ f_<<e,t>,e>: (λ x_<e,t>: f_<<e,t>,e>(x_<e,t>))), ⟦him⟧ = (λ x_e: x_e)], failures=[])]\n",
      "Type-shifting: found 2 new items to try: [CompositionResult(results=[⟦[[every man]]⟧ = (λ f_<e,<e,t>>: (λ x_e: (Forall x1_e: (Man_<e,t>(x1_e) >> f_<e,<e,t>>(x_e)(x1_e))))), ⟦[[every man]]⟧ = (λ f_<<e,t>,<e,t>>: (λ x_<e,t>: (Forall x1_e: (Man_<e,t>(x1_e) >> f_<<e,t>,<e,t>>(x_<e,t>)(x1_e))))), ⟦[every man]⟧ = (λ g_<e,t>: (Forall x_e: (Man_<e,t>(x_e) >> g_<e,t>(x_e))))], failures=[]), CompositionResult(results=[⟦[[[saw] him]]⟧ = (λ f_<e,e>: (λ x_e: (λ y_e: Saw_<(e,e),t>(y_e, f_<e,e>(x_e))))), ⟦[[[saw] him]]⟧ = (λ f_<<e,t>,e>: (λ x_<e,t>: (λ y_e: Saw_<(e,e),t>(y_e, f_<<e,t>,e>(x_<e,t>))))), ⟦[[[saw] him]]⟧ = (λ g_<e,e>: (λ x_e: Saw_<(e,e),t>(x_e, g_<e,e>(x_e)))), ⟦[[saw] him]⟧ = (λ x_e: (λ y_e: Saw_<(e,e),t>(y_e, x_e)))], failures=[])]\n"
     ]
    },
    {
     "data": {
      "text/latex": [
       "2 composition paths. Results:\n",
       "<br />&nbsp;&nbsp;&nbsp;&nbsp;[0]: $[\\![\\mathbf{\\text{[[[every man]] [[saw] him]]}}]\\!]^{}_{\\langle{}e,t\\rangle{}} \\:=\\: $$\\lambda{} x_{e} \\: . \\: \\forall{} x1_{e} \\: . \\: ({Man}({x1}_{e}) \\rightarrow{} {Saw}({x1}_{e}, {x}_{e}))$\n",
       "<br />&nbsp;&nbsp;&nbsp;&nbsp;[1]: $[\\![\\mathbf{\\text{[[every man] [[saw] him]]}}]\\!]^{}_{t} \\:=\\: $$\\forall{} x_{e} \\: . \\: ({Man}({x}_{e}) \\rightarrow{} {Saw}({x}_{e}, {x}_{e}))$"
      ],
      "text/plain": [
       "CompositionResult(results=[⟦[[[every man]] [[saw] him]]⟧ = (λ x_e: (Forall x1_e: (Man_<e,t>(x1_e) >> Saw_<(e,e),t>(x1_e, x_e)))), ⟦[[every man] [[saw] him]]⟧ = (Forall x_e: (Man_<e,t>(x_e) >> Saw_<(e,e),t>(x_e, x_e)))], failures=[⟦[[[every man]] [[[saw] him]]]⟧ = Type mismatch: '⟦[[every man]]⟧ = (λ f_<e,<e,t>>: (λ x_e: (Forall x1_e: (Man_<e,t>(x1_e) >> f_<e,<e,t>>(x_e)(x1_e)))))'/<<e,<e,t>>,<e,t>> and '⟦[[[saw] him]]⟧ = (λ f_<e,e>: (λ x_e: (λ y_e: Saw_<(e,e),t>(y_e, f_<e,e>(x_e)))))'/<<e,e>,<e,<e,t>>> conflict (mode: Function Application), ⟦[[[[saw] him]] [[every man]]]⟧ = Type mismatch: '⟦[[[saw] him]]⟧ = (λ f_<e,e>: (λ x_e: (λ y_e: Saw_<(e,e),t>(y_e, f_<e,e>(x_e)))))'/<<e,e>,<e,<e,t>>> and '⟦[[every man]]⟧ = (λ f_<e,<e,t>>: (λ x_e: (Forall x1_e: (Man_<e,t>(x1_e) >> f_<e,<e,t>>(x_e)(x1_e)))))'/<<e,<e,t>>,<e,t>> conflict (mode: Function Application), ⟦[[[every man]] [[[saw] him]]]⟧ = Type mismatch: '⟦[[every man]]⟧ = (λ f_<e,<e,t>>: (λ x_e: (Forall x1_e: (Man_<e,t>(x1_e) >> f_<e,<e,t>>(x_e)(x1_e)))))'/<<e,<e,t>>,<e,t>> and '⟦[[[saw] him]]⟧ = (λ f_<e,e>: (λ x_e: (λ y_e: Saw_<(e,e),t>(y_e, f_<e,e>(x_e)))))'/<<e,e>,<e,<e,t>>> conflict (mode: Predicate Modification), ⟦[[[every man]] [[[saw] him]]]⟧ = Type mismatch: '⟦[[every man]]⟧ = (λ f_<e,<e,t>>: (λ x_e: (Forall x1_e: (Man_<e,t>(x1_e) >> f_<e,<e,t>>(x_e)(x1_e)))))'/<<e,<e,t>>,<e,t>> and '⟦[[[saw] him]]⟧ = (λ f_<e,e>: (λ x_e: (λ y_e: Saw_<(e,e),t>(y_e, f_<e,e>(x_e)))))'/<<e,e>,<e,<e,t>>> conflict (mode: Predicate Abstraction), ⟦[[[[saw] him]] [[every man]]]⟧ = Type mismatch: '⟦[[[saw] him]]⟧ = (λ f_<e,e>: (λ x_e: (λ y_e: Saw_<(e,e),t>(y_e, f_<e,e>(x_e)))))'/<<e,e>,<e,<e,t>>> and '⟦[[every man]]⟧ = (λ f_<e,<e,t>>: (λ x_e: (Forall x1_e: (Man_<e,t>(x1_e) >> f_<e,<e,t>>(x_e)(x1_e)))))'/<<e,<e,t>>,<e,t>> conflict (mode: Predicate Abstraction), ⟦[[[every man]] [[[saw] him]]]⟧ = Type mismatch: '⟦[[every man]]⟧ = (λ f_<e,<e,t>>: (λ x_e: (Forall x1_e: (Man_<e,t>(x1_e) >> f_<e,<e,t>>(x_e)(x1_e)))))'/<<e,<e,t>>,<e,t>> and '⟦[[[saw] him]]⟧ = (λ f_<<e,t>,e>: (λ x_<e,t>: (λ y_e: Saw_<(e,e),t>(y_e, f_<<e,t>,e>(x_<e,t>)))))'/<<<e,t>,e>,<<e,t>,<e,t>>> conflict (mode: Function Application), ⟦[[[[saw] him]] [[every man]]]⟧ = Type mismatch: '⟦[[[saw] him]]⟧ = (λ f_<<e,t>,e>: (λ x_<e,t>: (λ y_e: Saw_<(e,e),t>(y_e, f_<<e,t>,e>(x_<e,t>)))))'/<<<e,t>,e>,<<e,t>,<e,t>>> and '⟦[[every man]]⟧ = (λ f_<e,<e,t>>: (λ x_e: (Forall x1_e: (Man_<e,t>(x1_e) >> f_<e,<e,t>>(x_e)(x1_e)))))'/<<e,<e,t>>,<e,t>> conflict (mode: Function Application), ⟦[[[every man]] [[[saw] him]]]⟧ = Type mismatch: '⟦[[every man]]⟧ = (λ f_<e,<e,t>>: (λ x_e: (Forall x1_e: (Man_<e,t>(x1_e) >> f_<e,<e,t>>(x_e)(x1_e)))))'/<<e,<e,t>>,<e,t>> and '⟦[[[saw] him]]⟧ = (λ f_<<e,t>,e>: (λ x_<e,t>: (λ y_e: Saw_<(e,e),t>(y_e, f_<<e,t>,e>(x_<e,t>)))))'/<<<e,t>,e>,<<e,t>,<e,t>>> conflict (mode: Predicate Modification), ⟦[[[every man]] [[[saw] him]]]⟧ = Type mismatch: '⟦[[every man]]⟧ = (λ f_<e,<e,t>>: (λ x_e: (Forall x1_e: (Man_<e,t>(x1_e) >> f_<e,<e,t>>(x_e)(x1_e)))))'/<<e,<e,t>>,<e,t>> and '⟦[[[saw] him]]⟧ = (λ f_<<e,t>,e>: (λ x_<e,t>: (λ y_e: Saw_<(e,e),t>(y_e, f_<<e,t>,e>(x_<e,t>)))))'/<<<e,t>,e>,<<e,t>,<e,t>>> conflict (mode: Predicate Abstraction), ⟦[[[[saw] him]] [[every man]]]⟧ = Type mismatch: '⟦[[[saw] him]]⟧ = (λ f_<<e,t>,e>: (λ x_<e,t>: (λ y_e: Saw_<(e,e),t>(y_e, f_<<e,t>,e>(x_<e,t>)))))'/<<<e,t>,e>,<<e,t>,<e,t>>> and '⟦[[every man]]⟧ = (λ f_<e,<e,t>>: (λ x_e: (Forall x1_e: (Man_<e,t>(x1_e) >> f_<e,<e,t>>(x_e)(x1_e)))))'/<<e,<e,t>>,<e,t>> conflict (mode: Predicate Abstraction), ⟦[[[every man]] [[[saw] him]]]⟧ = Type mismatch: '⟦[[every man]]⟧ = (λ f_<e,<e,t>>: (λ x_e: (Forall x1_e: (Man_<e,t>(x1_e) >> f_<e,<e,t>>(x_e)(x1_e)))))'/<<e,<e,t>>,<e,t>> and '⟦[[[saw] him]]⟧ = (λ g_<e,e>: (λ x_e: Saw_<(e,e),t>(x_e, g_<e,e>(x_e))))'/<<e,e>,<e,t>> conflict (mode: Function Application), ⟦[[[[saw] him]] [[every man]]]⟧ = Type mismatch: '⟦[[[saw] him]]⟧ = (λ g_<e,e>: (λ x_e: Saw_<(e,e),t>(x_e, g_<e,e>(x_e))))'/<<e,e>,<e,t>> and '⟦[[every man]]⟧ = (λ f_<e,<e,t>>: (λ x_e: (Forall x1_e: (Man_<e,t>(x1_e) >> f_<e,<e,t>>(x_e)(x1_e)))))'/<<e,<e,t>>,<e,t>> conflict (mode: Function Application), ⟦[[[every man]] [[[saw] him]]]⟧ = Type mismatch: '⟦[[every man]]⟧ = (λ f_<e,<e,t>>: (λ x_e: (Forall x1_e: (Man_<e,t>(x1_e) >> f_<e,<e,t>>(x_e)(x1_e)))))'/<<e,<e,t>>,<e,t>> and '⟦[[[saw] him]]⟧ = (λ g_<e,e>: (λ x_e: Saw_<(e,e),t>(x_e, g_<e,e>(x_e))))'/<<e,e>,<e,t>> conflict (mode: Predicate Modification), ⟦[[[every man]] [[[saw] him]]]⟧ = Type mismatch: '⟦[[every man]]⟧ = (λ f_<e,<e,t>>: (λ x_e: (Forall x1_e: (Man_<e,t>(x1_e) >> f_<e,<e,t>>(x_e)(x1_e)))))'/<<e,<e,t>>,<e,t>> and '⟦[[[saw] him]]⟧ = (λ g_<e,e>: (λ x_e: Saw_<(e,e),t>(x_e, g_<e,e>(x_e))))'/<<e,e>,<e,t>> conflict (mode: Predicate Abstraction), ⟦[[[[saw] him]] [[every man]]]⟧ = Type mismatch: '⟦[[[saw] him]]⟧ = (λ g_<e,e>: (λ x_e: Saw_<(e,e),t>(x_e, g_<e,e>(x_e))))'/<<e,e>,<e,t>> and '⟦[[every man]]⟧ = (λ f_<e,<e,t>>: (λ x_e: (Forall x1_e: (Man_<e,t>(x1_e) >> f_<e,<e,t>>(x_e)(x1_e)))))'/<<e,<e,t>>,<e,t>> conflict (mode: Predicate Abstraction), ⟦[[[saw] him] [[every man]]]⟧ = Type mismatch: '⟦[[saw] him]⟧ = (λ x_e: (λ y_e: Saw_<(e,e),t>(y_e, x_e)))'/<e,<e,t>> and '⟦[[every man]]⟧ = (λ f_<e,<e,t>>: (λ x_e: (Forall x1_e: (Man_<e,t>(x1_e) >> f_<e,<e,t>>(x_e)(x1_e)))))'/<<e,<e,t>>,<e,t>> conflict (mode: Function Application), ⟦[[[every man]] [[saw] him]]⟧ = Type mismatch: '⟦[[every man]]⟧ = (λ f_<e,<e,t>>: (λ x_e: (Forall x1_e: (Man_<e,t>(x1_e) >> f_<e,<e,t>>(x_e)(x1_e)))))'/<<e,<e,t>>,<e,t>> and '⟦[[saw] him]⟧ = (λ x_e: (λ y_e: Saw_<(e,e),t>(y_e, x_e)))'/<e,<e,t>> conflict (mode: Predicate Modification), ⟦[[[every man]] [[saw] him]]⟧ = Type mismatch: '⟦[[every man]]⟧ = (λ f_<e,<e,t>>: (λ x_e: (Forall x1_e: (Man_<e,t>(x1_e) >> f_<e,<e,t>>(x_e)(x1_e)))))'/<<e,<e,t>>,<e,t>> and '⟦[[saw] him]⟧ = (λ x_e: (λ y_e: Saw_<(e,e),t>(y_e, x_e)))'/<e,<e,t>> conflict (mode: Predicate Abstraction), ⟦[[[saw] him] [[every man]]]⟧ = Type mismatch: '⟦[[saw] him]⟧ = (λ x_e: (λ y_e: Saw_<(e,e),t>(y_e, x_e)))'/<e,<e,t>> and '⟦[[every man]]⟧ = (λ f_<e,<e,t>>: (λ x_e: (Forall x1_e: (Man_<e,t>(x1_e) >> f_<e,<e,t>>(x_e)(x1_e)))))'/<<e,<e,t>>,<e,t>> conflict (mode: Predicate Abstraction), ⟦[[[every man]] [[[saw] him]]]⟧ = Type mismatch: '⟦[[every man]]⟧ = (λ f_<<e,t>,<e,t>>: (λ x_<e,t>: (Forall x1_e: (Man_<e,t>(x1_e) >> f_<<e,t>,<e,t>>(x_<e,t>)(x1_e)))))'/<<<e,t>,<e,t>>,<<e,t>,t>> and '⟦[[[saw] him]]⟧ = (λ f_<e,e>: (λ x_e: (λ y_e: Saw_<(e,e),t>(y_e, f_<e,e>(x_e)))))'/<<e,e>,<e,<e,t>>> conflict (mode: Function Application), ⟦[[[[saw] him]] [[every man]]]⟧ = Type mismatch: '⟦[[[saw] him]]⟧ = (λ f_<e,e>: (λ x_e: (λ y_e: Saw_<(e,e),t>(y_e, f_<e,e>(x_e)))))'/<<e,e>,<e,<e,t>>> and '⟦[[every man]]⟧ = (λ f_<<e,t>,<e,t>>: (λ x_<e,t>: (Forall x1_e: (Man_<e,t>(x1_e) >> f_<<e,t>,<e,t>>(x_<e,t>)(x1_e)))))'/<<<e,t>,<e,t>>,<<e,t>,t>> conflict (mode: Function Application), ⟦[[[every man]] [[[saw] him]]]⟧ = Type mismatch: '⟦[[every man]]⟧ = (λ f_<<e,t>,<e,t>>: (λ x_<e,t>: (Forall x1_e: (Man_<e,t>(x1_e) >> f_<<e,t>,<e,t>>(x_<e,t>)(x1_e)))))'/<<<e,t>,<e,t>>,<<e,t>,t>> and '⟦[[[saw] him]]⟧ = (λ f_<e,e>: (λ x_e: (λ y_e: Saw_<(e,e),t>(y_e, f_<e,e>(x_e)))))'/<<e,e>,<e,<e,t>>> conflict (mode: Predicate Modification), ⟦[[[every man]] [[[saw] him]]]⟧ = Type mismatch: '⟦[[every man]]⟧ = (λ f_<<e,t>,<e,t>>: (λ x_<e,t>: (Forall x1_e: (Man_<e,t>(x1_e) >> f_<<e,t>,<e,t>>(x_<e,t>)(x1_e)))))'/<<<e,t>,<e,t>>,<<e,t>,t>> and '⟦[[[saw] him]]⟧ = (λ f_<e,e>: (λ x_e: (λ y_e: Saw_<(e,e),t>(y_e, f_<e,e>(x_e)))))'/<<e,e>,<e,<e,t>>> conflict (mode: Predicate Abstraction), ⟦[[[[saw] him]] [[every man]]]⟧ = Type mismatch: '⟦[[[saw] him]]⟧ = (λ f_<e,e>: (λ x_e: (λ y_e: Saw_<(e,e),t>(y_e, f_<e,e>(x_e)))))'/<<e,e>,<e,<e,t>>> and '⟦[[every man]]⟧ = (λ f_<<e,t>,<e,t>>: (λ x_<e,t>: (Forall x1_e: (Man_<e,t>(x1_e) >> f_<<e,t>,<e,t>>(x_<e,t>)(x1_e)))))'/<<<e,t>,<e,t>>,<<e,t>,t>> conflict (mode: Predicate Abstraction), ⟦[[[every man]] [[[saw] him]]]⟧ = Type mismatch: '⟦[[every man]]⟧ = (λ f_<<e,t>,<e,t>>: (λ x_<e,t>: (Forall x1_e: (Man_<e,t>(x1_e) >> f_<<e,t>,<e,t>>(x_<e,t>)(x1_e)))))'/<<<e,t>,<e,t>>,<<e,t>,t>> and '⟦[[[saw] him]]⟧ = (λ f_<<e,t>,e>: (λ x_<e,t>: (λ y_e: Saw_<(e,e),t>(y_e, f_<<e,t>,e>(x_<e,t>)))))'/<<<e,t>,e>,<<e,t>,<e,t>>> conflict (mode: Function Application), ⟦[[[[saw] him]] [[every man]]]⟧ = Type mismatch: '⟦[[[saw] him]]⟧ = (λ f_<<e,t>,e>: (λ x_<e,t>: (λ y_e: Saw_<(e,e),t>(y_e, f_<<e,t>,e>(x_<e,t>)))))'/<<<e,t>,e>,<<e,t>,<e,t>>> and '⟦[[every man]]⟧ = (λ f_<<e,t>,<e,t>>: (λ x_<e,t>: (Forall x1_e: (Man_<e,t>(x1_e) >> f_<<e,t>,<e,t>>(x_<e,t>)(x1_e)))))'/<<<e,t>,<e,t>>,<<e,t>,t>> conflict (mode: Function Application), ⟦[[[every man]] [[[saw] him]]]⟧ = Type mismatch: '⟦[[every man]]⟧ = (λ f_<<e,t>,<e,t>>: (λ x_<e,t>: (Forall x1_e: (Man_<e,t>(x1_e) >> f_<<e,t>,<e,t>>(x_<e,t>)(x1_e)))))'/<<<e,t>,<e,t>>,<<e,t>,t>> and '⟦[[[saw] him]]⟧ = (λ f_<<e,t>,e>: (λ x_<e,t>: (λ y_e: Saw_<(e,e),t>(y_e, f_<<e,t>,e>(x_<e,t>)))))'/<<<e,t>,e>,<<e,t>,<e,t>>> conflict (mode: Predicate Modification), ⟦[[[every man]] [[[saw] him]]]⟧ = Type mismatch: '⟦[[every man]]⟧ = (λ f_<<e,t>,<e,t>>: (λ x_<e,t>: (Forall x1_e: (Man_<e,t>(x1_e) >> f_<<e,t>,<e,t>>(x_<e,t>)(x1_e)))))'/<<<e,t>,<e,t>>,<<e,t>,t>> and '⟦[[[saw] him]]⟧ = (λ f_<<e,t>,e>: (λ x_<e,t>: (λ y_e: Saw_<(e,e),t>(y_e, f_<<e,t>,e>(x_<e,t>)))))'/<<<e,t>,e>,<<e,t>,<e,t>>> conflict (mode: Predicate Abstraction), ⟦[[[[saw] him]] [[every man]]]⟧ = Type mismatch: '⟦[[[saw] him]]⟧ = (λ f_<<e,t>,e>: (λ x_<e,t>: (λ y_e: Saw_<(e,e),t>(y_e, f_<<e,t>,e>(x_<e,t>)))))'/<<<e,t>,e>,<<e,t>,<e,t>>> and '⟦[[every man]]⟧ = (λ f_<<e,t>,<e,t>>: (λ x_<e,t>: (Forall x1_e: (Man_<e,t>(x1_e) >> f_<<e,t>,<e,t>>(x_<e,t>)(x1_e)))))'/<<<e,t>,<e,t>>,<<e,t>,t>> conflict (mode: Predicate Abstraction), ⟦[[[every man]] [[[saw] him]]]⟧ = Type mismatch: '⟦[[every man]]⟧ = (λ f_<<e,t>,<e,t>>: (λ x_<e,t>: (Forall x1_e: (Man_<e,t>(x1_e) >> f_<<e,t>,<e,t>>(x_<e,t>)(x1_e)))))'/<<<e,t>,<e,t>>,<<e,t>,t>> and '⟦[[[saw] him]]⟧ = (λ g_<e,e>: (λ x_e: Saw_<(e,e),t>(x_e, g_<e,e>(x_e))))'/<<e,e>,<e,t>> conflict (mode: Function Application), ⟦[[[[saw] him]] [[every man]]]⟧ = Type mismatch: '⟦[[[saw] him]]⟧ = (λ g_<e,e>: (λ x_e: Saw_<(e,e),t>(x_e, g_<e,e>(x_e))))'/<<e,e>,<e,t>> and '⟦[[every man]]⟧ = (λ f_<<e,t>,<e,t>>: (λ x_<e,t>: (Forall x1_e: (Man_<e,t>(x1_e) >> f_<<e,t>,<e,t>>(x_<e,t>)(x1_e)))))'/<<<e,t>,<e,t>>,<<e,t>,t>> conflict (mode: Function Application), ⟦[[[every man]] [[[saw] him]]]⟧ = Type mismatch: '⟦[[every man]]⟧ = (λ f_<<e,t>,<e,t>>: (λ x_<e,t>: (Forall x1_e: (Man_<e,t>(x1_e) >> f_<<e,t>,<e,t>>(x_<e,t>)(x1_e)))))'/<<<e,t>,<e,t>>,<<e,t>,t>> and '⟦[[[saw] him]]⟧ = (λ g_<e,e>: (λ x_e: Saw_<(e,e),t>(x_e, g_<e,e>(x_e))))'/<<e,e>,<e,t>> conflict (mode: Predicate Modification), ⟦[[[every man]] [[[saw] him]]]⟧ = Type mismatch: '⟦[[every man]]⟧ = (λ f_<<e,t>,<e,t>>: (λ x_<e,t>: (Forall x1_e: (Man_<e,t>(x1_e) >> f_<<e,t>,<e,t>>(x_<e,t>)(x1_e)))))'/<<<e,t>,<e,t>>,<<e,t>,t>> and '⟦[[[saw] him]]⟧ = (λ g_<e,e>: (λ x_e: Saw_<(e,e),t>(x_e, g_<e,e>(x_e))))'/<<e,e>,<e,t>> conflict (mode: Predicate Abstraction), ⟦[[[[saw] him]] [[every man]]]⟧ = Type mismatch: '⟦[[[saw] him]]⟧ = (λ g_<e,e>: (λ x_e: Saw_<(e,e),t>(x_e, g_<e,e>(x_e))))'/<<e,e>,<e,t>> and '⟦[[every man]]⟧ = (λ f_<<e,t>,<e,t>>: (λ x_<e,t>: (Forall x1_e: (Man_<e,t>(x1_e) >> f_<<e,t>,<e,t>>(x_<e,t>)(x1_e)))))'/<<<e,t>,<e,t>>,<<e,t>,t>> conflict (mode: Predicate Abstraction), ⟦[[[every man]] [[saw] him]]⟧ = Type mismatch: '⟦[[every man]]⟧ = (λ f_<<e,t>,<e,t>>: (λ x_<e,t>: (Forall x1_e: (Man_<e,t>(x1_e) >> f_<<e,t>,<e,t>>(x_<e,t>)(x1_e)))))'/<<<e,t>,<e,t>>,<<e,t>,t>> and '⟦[[saw] him]⟧ = (λ x_e: (λ y_e: Saw_<(e,e),t>(y_e, x_e)))'/<e,<e,t>> conflict (mode: Function Application), ⟦[[[saw] him] [[every man]]]⟧ = Type mismatch: '⟦[[saw] him]⟧ = (λ x_e: (λ y_e: Saw_<(e,e),t>(y_e, x_e)))'/<e,<e,t>> and '⟦[[every man]]⟧ = (λ f_<<e,t>,<e,t>>: (λ x_<e,t>: (Forall x1_e: (Man_<e,t>(x1_e) >> f_<<e,t>,<e,t>>(x_<e,t>)(x1_e)))))'/<<<e,t>,<e,t>>,<<e,t>,t>> conflict (mode: Function Application), ⟦[[[every man]] [[saw] him]]⟧ = Type mismatch: '⟦[[every man]]⟧ = (λ f_<<e,t>,<e,t>>: (λ x_<e,t>: (Forall x1_e: (Man_<e,t>(x1_e) >> f_<<e,t>,<e,t>>(x_<e,t>)(x1_e)))))'/<<<e,t>,<e,t>>,<<e,t>,t>> and '⟦[[saw] him]⟧ = (λ x_e: (λ y_e: Saw_<(e,e),t>(y_e, x_e)))'/<e,<e,t>> conflict (mode: Predicate Modification), ⟦[[[every man]] [[saw] him]]⟧ = Type mismatch: '⟦[[every man]]⟧ = (λ f_<<e,t>,<e,t>>: (λ x_<e,t>: (Forall x1_e: (Man_<e,t>(x1_e) >> f_<<e,t>,<e,t>>(x_<e,t>)(x1_e)))))'/<<<e,t>,<e,t>>,<<e,t>,t>> and '⟦[[saw] him]⟧ = (λ x_e: (λ y_e: Saw_<(e,e),t>(y_e, x_e)))'/<e,<e,t>> conflict (mode: Predicate Abstraction), ⟦[[[saw] him] [[every man]]]⟧ = Type mismatch: '⟦[[saw] him]⟧ = (λ x_e: (λ y_e: Saw_<(e,e),t>(y_e, x_e)))'/<e,<e,t>> and '⟦[[every man]]⟧ = (λ f_<<e,t>,<e,t>>: (λ x_<e,t>: (Forall x1_e: (Man_<e,t>(x1_e) >> f_<<e,t>,<e,t>>(x_<e,t>)(x1_e)))))'/<<<e,t>,<e,t>>,<<e,t>,t>> conflict (mode: Predicate Abstraction), ⟦[[every man] [[[saw] him]]]⟧ = Type mismatch: '⟦[every man]⟧ = (λ g_<e,t>: (Forall x_e: (Man_<e,t>(x_e) >> g_<e,t>(x_e))))'/<<e,t>,t> and '⟦[[[saw] him]]⟧ = (λ f_<e,e>: (λ x_e: (λ y_e: Saw_<(e,e),t>(y_e, f_<e,e>(x_e)))))'/<<e,e>,<e,<e,t>>> conflict (mode: Function Application), ⟦[[[[saw] him]] [every man]]⟧ = Type mismatch: '⟦[[[saw] him]]⟧ = (λ f_<e,e>: (λ x_e: (λ y_e: Saw_<(e,e),t>(y_e, f_<e,e>(x_e)))))'/<<e,e>,<e,<e,t>>> and '⟦[every man]⟧ = (λ g_<e,t>: (Forall x_e: (Man_<e,t>(x_e) >> g_<e,t>(x_e))))'/<<e,t>,t> conflict (mode: Function Application), ⟦[[every man] [[[saw] him]]]⟧ = Type mismatch: '⟦[every man]⟧ = (λ g_<e,t>: (Forall x_e: (Man_<e,t>(x_e) >> g_<e,t>(x_e))))'/<<e,t>,t> and '⟦[[[saw] him]]⟧ = (λ f_<e,e>: (λ x_e: (λ y_e: Saw_<(e,e),t>(y_e, f_<e,e>(x_e)))))'/<<e,e>,<e,<e,t>>> conflict (mode: Predicate Modification), ⟦[[every man] [[[saw] him]]]⟧ = Type mismatch: '⟦[every man]⟧ = (λ g_<e,t>: (Forall x_e: (Man_<e,t>(x_e) >> g_<e,t>(x_e))))'/<<e,t>,t> and '⟦[[[saw] him]]⟧ = (λ f_<e,e>: (λ x_e: (λ y_e: Saw_<(e,e),t>(y_e, f_<e,e>(x_e)))))'/<<e,e>,<e,<e,t>>> conflict (mode: Predicate Abstraction), ⟦[[[[saw] him]] [every man]]⟧ = Type mismatch: '⟦[[[saw] him]]⟧ = (λ f_<e,e>: (λ x_e: (λ y_e: Saw_<(e,e),t>(y_e, f_<e,e>(x_e)))))'/<<e,e>,<e,<e,t>>> and '⟦[every man]⟧ = (λ g_<e,t>: (Forall x_e: (Man_<e,t>(x_e) >> g_<e,t>(x_e))))'/<<e,t>,t> conflict (mode: Predicate Abstraction), ⟦[[every man] [[[saw] him]]]⟧ = Type mismatch: '⟦[every man]⟧ = (λ g_<e,t>: (Forall x_e: (Man_<e,t>(x_e) >> g_<e,t>(x_e))))'/<<e,t>,t> and '⟦[[[saw] him]]⟧ = (λ f_<<e,t>,e>: (λ x_<e,t>: (λ y_e: Saw_<(e,e),t>(y_e, f_<<e,t>,e>(x_<e,t>)))))'/<<<e,t>,e>,<<e,t>,<e,t>>> conflict (mode: Function Application), ⟦[[[[saw] him]] [every man]]⟧ = Type mismatch: '⟦[[[saw] him]]⟧ = (λ f_<<e,t>,e>: (λ x_<e,t>: (λ y_e: Saw_<(e,e),t>(y_e, f_<<e,t>,e>(x_<e,t>)))))'/<<<e,t>,e>,<<e,t>,<e,t>>> and '⟦[every man]⟧ = (λ g_<e,t>: (Forall x_e: (Man_<e,t>(x_e) >> g_<e,t>(x_e))))'/<<e,t>,t> conflict (mode: Function Application), ⟦[[every man] [[[saw] him]]]⟧ = Type mismatch: '⟦[every man]⟧ = (λ g_<e,t>: (Forall x_e: (Man_<e,t>(x_e) >> g_<e,t>(x_e))))'/<<e,t>,t> and '⟦[[[saw] him]]⟧ = (λ f_<<e,t>,e>: (λ x_<e,t>: (λ y_e: Saw_<(e,e),t>(y_e, f_<<e,t>,e>(x_<e,t>)))))'/<<<e,t>,e>,<<e,t>,<e,t>>> conflict (mode: Predicate Modification), ⟦[[every man] [[[saw] him]]]⟧ = Type mismatch: '⟦[every man]⟧ = (λ g_<e,t>: (Forall x_e: (Man_<e,t>(x_e) >> g_<e,t>(x_e))))'/<<e,t>,t> and '⟦[[[saw] him]]⟧ = (λ f_<<e,t>,e>: (λ x_<e,t>: (λ y_e: Saw_<(e,e),t>(y_e, f_<<e,t>,e>(x_<e,t>)))))'/<<<e,t>,e>,<<e,t>,<e,t>>> conflict (mode: Predicate Abstraction), ⟦[[[[saw] him]] [every man]]⟧ = Type mismatch: '⟦[[[saw] him]]⟧ = (λ f_<<e,t>,e>: (λ x_<e,t>: (λ y_e: Saw_<(e,e),t>(y_e, f_<<e,t>,e>(x_<e,t>)))))'/<<<e,t>,e>,<<e,t>,<e,t>>> and '⟦[every man]⟧ = (λ g_<e,t>: (Forall x_e: (Man_<e,t>(x_e) >> g_<e,t>(x_e))))'/<<e,t>,t> conflict (mode: Predicate Abstraction), ⟦[[every man] [[[saw] him]]]⟧ = Type mismatch: '⟦[every man]⟧ = (λ g_<e,t>: (Forall x_e: (Man_<e,t>(x_e) >> g_<e,t>(x_e))))'/<<e,t>,t> and '⟦[[[saw] him]]⟧ = (λ g_<e,e>: (λ x_e: Saw_<(e,e),t>(x_e, g_<e,e>(x_e))))'/<<e,e>,<e,t>> conflict (mode: Function Application), ⟦[[[[saw] him]] [every man]]⟧ = Type mismatch: '⟦[[[saw] him]]⟧ = (λ g_<e,e>: (λ x_e: Saw_<(e,e),t>(x_e, g_<e,e>(x_e))))'/<<e,e>,<e,t>> and '⟦[every man]⟧ = (λ g_<e,t>: (Forall x_e: (Man_<e,t>(x_e) >> g_<e,t>(x_e))))'/<<e,t>,t> conflict (mode: Function Application), ⟦[[every man] [[[saw] him]]]⟧ = Type mismatch: '⟦[every man]⟧ = (λ g_<e,t>: (Forall x_e: (Man_<e,t>(x_e) >> g_<e,t>(x_e))))'/<<e,t>,t> and '⟦[[[saw] him]]⟧ = (λ g_<e,e>: (λ x_e: Saw_<(e,e),t>(x_e, g_<e,e>(x_e))))'/<<e,e>,<e,t>> conflict (mode: Predicate Modification), ⟦[[every man] [[[saw] him]]]⟧ = Type mismatch: '⟦[every man]⟧ = (λ g_<e,t>: (Forall x_e: (Man_<e,t>(x_e) >> g_<e,t>(x_e))))'/<<e,t>,t> and '⟦[[[saw] him]]⟧ = (λ g_<e,e>: (λ x_e: Saw_<(e,e),t>(x_e, g_<e,e>(x_e))))'/<<e,e>,<e,t>> conflict (mode: Predicate Abstraction), ⟦[[[[saw] him]] [every man]]⟧ = Type mismatch: '⟦[[[saw] him]]⟧ = (λ g_<e,e>: (λ x_e: Saw_<(e,e),t>(x_e, g_<e,e>(x_e))))'/<<e,e>,<e,t>> and '⟦[every man]⟧ = (λ g_<e,t>: (Forall x_e: (Man_<e,t>(x_e) >> g_<e,t>(x_e))))'/<<e,t>,t> conflict (mode: Predicate Abstraction), ⟦[[every man] [[saw] him]]⟧ = Type mismatch: '⟦[every man]⟧ = (λ g_<e,t>: (Forall x_e: (Man_<e,t>(x_e) >> g_<e,t>(x_e))))'/<<e,t>,t> and '⟦[[saw] him]⟧ = (λ x_e: (λ y_e: Saw_<(e,e),t>(y_e, x_e)))'/<e,<e,t>> conflict (mode: Function Application), ⟦[[[saw] him] [every man]]⟧ = Type mismatch: '⟦[[saw] him]⟧ = (λ x_e: (λ y_e: Saw_<(e,e),t>(y_e, x_e)))'/<e,<e,t>> and '⟦[every man]⟧ = (λ g_<e,t>: (Forall x_e: (Man_<e,t>(x_e) >> g_<e,t>(x_e))))'/<<e,t>,t> conflict (mode: Function Application), ⟦[[every man] [[saw] him]]⟧ = Type mismatch: '⟦[every man]⟧ = (λ g_<e,t>: (Forall x_e: (Man_<e,t>(x_e) >> g_<e,t>(x_e))))'/<<e,t>,t> and '⟦[[saw] him]⟧ = (λ x_e: (λ y_e: Saw_<(e,e),t>(y_e, x_e)))'/<e,<e,t>> conflict (mode: Predicate Modification), ⟦[[every man] [[saw] him]]⟧ = Type mismatch: '⟦[every man]⟧ = (λ g_<e,t>: (Forall x_e: (Man_<e,t>(x_e) >> g_<e,t>(x_e))))'/<<e,t>,t> and '⟦[[saw] him]⟧ = (λ x_e: (λ y_e: Saw_<(e,e),t>(y_e, x_e)))'/<e,<e,t>> conflict (mode: Predicate Abstraction), ⟦[[[saw] him] [every man]]⟧ = Type mismatch: '⟦[[saw] him]⟧ = (λ x_e: (λ y_e: Saw_<(e,e),t>(y_e, x_e)))'/<e,<e,t>> and '⟦[every man]⟧ = (λ g_<e,t>: (Forall x_e: (Man_<e,t>(x_e) >> g_<e,t>(x_e))))'/<<e,t>,t> conflict (mode: Predicate Abstraction), ⟦[[[saw] him] [every man]]⟧ = Type mismatch: '⟦[[saw] him]⟧ = (λ x_e: Saw_<(e,e),t>(x_e, x_e))'/<e,t> and '⟦[every man]⟧ = (λ g_<e,t>: (Forall x_e: (Man_<e,t>(x_e) >> g_<e,t>(x_e))))'/<<e,t>,t> conflict (mode: Function Application), ⟦[[every man] [[saw] him]]⟧ = Type mismatch: '⟦[every man]⟧ = (λ g_<e,t>: (Forall x_e: (Man_<e,t>(x_e) >> g_<e,t>(x_e))))'/<<e,t>,t> and '⟦[[saw] him]⟧ = (λ x_e: Saw_<(e,e),t>(x_e, x_e))'/<e,t> conflict (mode: Predicate Modification), ⟦[[every man] [[saw] him]]⟧ = Type mismatch: '⟦[every man]⟧ = (λ g_<e,t>: (Forall x_e: (Man_<e,t>(x_e) >> g_<e,t>(x_e))))'/<<e,t>,t> and '⟦[[saw] him]⟧ = (λ x_e: Saw_<(e,e),t>(x_e, x_e))'/<e,t> conflict (mode: Predicate Abstraction), ⟦[[[saw] him] [every man]]⟧ = Type mismatch: '⟦[[saw] him]⟧ = (λ x_e: Saw_<(e,e),t>(x_e, x_e))'/<e,t> and '⟦[every man]⟧ = (λ g_<e,t>: (Forall x_e: (Man_<e,t>(x_e) >> g_<e,t>(x_e))))'/<<e,t>,t> conflict (mode: Predicate Abstraction)])"
      ]
     },
     "execution_count": 33,
     "metadata": {},
     "output_type": "execute_result"
    }
   ],
   "source": [
    "(dp * (saw * him))"
   ]
  },
  {
   "cell_type": "markdown",
   "metadata": {},
   "source": [
    "Once again, we overgenerate a condition B violation reading.  However, this process generates exactly the right readings for bound pronouns not in the local domain of the binder, as Jacobson shows:"
   ]
  },
  {
   "cell_type": "code",
   "execution_count": 34,
   "metadata": {
    "collapsed": false
   },
   "outputs": [
    {
     "name": "stderr",
     "output_type": "stream",
     "text": [
      "INFO (meta): Coerced guessed type t for 'Mother_t' into <(e,e),t>, to match argument '(y_e, x_e)'\n"
     ]
    },
    {
     "data": {
      "text/latex": [
       "$[\\![\\mathbf{\\text{poss}}]\\!]^{}_{\\langle{}\\langle{}e,t\\rangle{},e\\rangle{}} \\:=\\: \\lambda{} f_{\\langle{}e,t\\rangle{}} \\: . \\: \\iota{} x_{e} \\: . \\: {f}_{\\langle{}e,t\\rangle{}}({x}_{e})$<br />\n",
       "$[\\![\\mathbf{\\text{mother}}]\\!]^{}_{\\langle{}e,\\langle{}e,t\\rangle{}\\rangle{}} \\:=\\: \\lambda{} x_{e} \\: . \\: \\lambda{} y_{e} \\: . \\: {Mother}({y}_{e}, {x}_{e})$"
      ],
      "text/plain": [
       "$[\\![\\mathbf{\\text{poss}}]\\!]^{}_{\\langle{}\\langle{}e,t\\rangle{},e\\rangle{}} \\:=\\: \\lambda{} f_{\\langle{}e,t\\rangle{}} \\: . \\: \\iota{} x_{e} \\: . \\: {f}_{\\langle{}e,t\\rangle{}}({x}_{e})$<br />\n",
       "$[\\![\\mathbf{\\text{mother}}]\\!]^{}_{\\langle{}e,\\langle{}e,t\\rangle{}\\rangle{}} \\:=\\: \\lambda{} x_{e} \\: . \\: \\lambda{} y_{e} \\: . \\: {Mother}({y}_{e}, {x}_{e})$"
      ]
     },
     "execution_count": 34,
     "metadata": {},
     "output_type": "execute_result"
    }
   ],
   "source": [
    "%%lamb\n",
    "||poss|| = L f_<e,t> : Iota x_e : f(x) # just definite article\n",
    "||mother|| = L x_e : L y_e : Mother(y,x)"
   ]
  },
  {
   "cell_type": "code",
   "execution_count": 44,
   "metadata": {
    "collapsed": false
   },
   "outputs": [
    {
     "name": "stdout",
     "output_type": "stream",
     "text": [
      "Type-shifting: found 2 new items to try: [CompositionResult(results=[⟦[mother]⟧ = (λ f_<e,e>: (λ x_e: (λ y_e: Mother_<(e,e),t>(y_e, f_<e,e>(x_e))))), ⟦[mother]⟧ = (λ f_<<e,t>,e>: (λ x_<e,t>: (λ y_e: Mother_<(e,e),t>(y_e, f_<<e,t>,e>(x_<e,t>))))), ⟦[mother]⟧ = (λ g_<e,e>: (λ x_e: Mother_<(e,e),t>(x_e, g_<e,e>(x_e)))), ⟦mother⟧ = (λ x_e: (λ y_e: Mother_<(e,e),t>(y_e, x_e)))], failures=[]), CompositionResult(results=[⟦[him]⟧ = (λ f_<e,e>: (λ x_e: f_<e,e>(x_e))), ⟦[him]⟧ = (λ f_<<e,t>,e>: (λ x_<e,t>: f_<<e,t>,e>(x_<e,t>))), ⟦him⟧ = (λ x_e: x_e)], failures=[])]\n",
      "Type-shifting: found 2 new items to try: [CompositionResult(results=[⟦[poss]⟧ = (λ f_<e,<e,t>>: (λ x_e: (ι x1_e: f_<e,<e,t>>(x_e)(x1_e)))), ⟦[poss]⟧ = (λ f_<<e,t>,<e,t>>: (λ x_<e,t>: (ι x1_e: f_<<e,t>,<e,t>>(x_<e,t>)(x1_e)))), ⟦poss⟧ = (λ f_<e,t>: (ι x_e: f_<e,t>(x_e)))], failures=[]), CompositionResult(results=[⟦[[[mother] him]]⟧ = (λ f_<e,e>: (λ x_e: (λ y_e: Mother_<(e,e),t>(y_e, f_<e,e>(x_e))))), ⟦[[[mother] him]]⟧ = (λ f_<<e,t>,e>: (λ x_<e,t>: (λ y_e: Mother_<(e,e),t>(y_e, f_<<e,t>,e>(x_<e,t>))))), ⟦[[[mother] him]]⟧ = (λ g_<e,e>: (λ x_e: Mother_<(e,e),t>(x_e, g_<e,e>(x_e)))), ⟦[[mother] him]⟧ = (λ x_e: (λ y_e: Mother_<(e,e),t>(y_e, x_e)))], failures=[])]\n",
      "Type-shifting: found 2 new items to try: [CompositionResult(results=[⟦[saw]⟧ = (λ f_<e,e>: (λ x_e: (λ y_e: Saw_<(e,e),t>(y_e, f_<e,e>(x_e))))), ⟦[saw]⟧ = (λ f_<<e,t>,e>: (λ x_<e,t>: (λ y_e: Saw_<(e,e),t>(y_e, f_<<e,t>,e>(x_<e,t>))))), ⟦[saw]⟧ = (λ g_<e,e>: (λ x_e: Saw_<(e,e),t>(x_e, g_<e,e>(x_e)))), ⟦saw⟧ = (λ x_e: (λ y_e: Saw_<(e,e),t>(y_e, x_e)))], failures=[]), CompositionResult(results=[⟦[[[poss] [[mother] him]]]⟧ = (λ f_<e,e>: (λ x_e: (ι x1_e: Mother_<(e,e),t>(x1_e, f_<e,e>(x_e))))), ⟦[[[poss] [[mother] him]]]⟧ = (λ f_<<e,t>,e>: (λ x_<e,t>: (ι x1_e: Mother_<(e,e),t>(x1_e, f_<<e,t>,e>(x_<e,t>))))), ⟦[[poss] [[mother] him]]⟧ = (λ x_e: (ι x1_e: Mother_<(e,e),t>(x1_e, x_e)))], failures=[])]\n",
      "Type-shifting: found 2 new items to try: [CompositionResult(results=[⟦[saw]⟧ = (λ f_<e,e>: (λ x_e: (λ y_e: Saw_<(e,e),t>(y_e, f_<e,e>(x_e))))), ⟦[saw]⟧ = (λ f_<<e,t>,e>: (λ x_<e,t>: (λ y_e: Saw_<(e,e),t>(y_e, f_<<e,t>,e>(x_<e,t>))))), ⟦[saw]⟧ = (λ g_<e,e>: (λ x_e: Saw_<(e,e),t>(x_e, g_<e,e>(x_e)))), ⟦saw⟧ = (λ x_e: (λ y_e: Saw_<(e,e),t>(y_e, x_e)))], failures=[]), CompositionResult(results=[⟦[[[[[mother] him]] poss]]⟧ = (λ f_<e,<e,t>>: (λ x_e: (λ y_e: Mother_<(e,e),t>(y_e, (ι x1_e: f_<e,<e,t>>(x_e)(x1_e)))))), ⟦[[[[[mother] him]] poss]]⟧ = (λ f_<<e,t>,<e,t>>: (λ x_<e,t>: (λ y_e: Mother_<(e,e),t>(y_e, (ι x1_e: f_<<e,t>,<e,t>>(x_<e,t>)(x1_e)))))), ⟦[[[[[mother] him]] poss]]⟧ = (λ g_<e,<e,t>>: (λ x_e: Mother_<(e,e),t>(x_e, (ι x1_e: g_<e,<e,t>>(x_e)(x1_e))))), ⟦[[[[mother] him]] poss]⟧ = (λ x_<e,t>: (λ y_e: Mother_<(e,e),t>(y_e, (ι x1_e: x_<e,t>(x1_e)))))], failures=[])]\n",
      "Type-shifting: found 2 new items to try: [CompositionResult(results=[⟦[[every man]]⟧ = (λ f_<e,<e,t>>: (λ x_e: (Forall x1_e: (Man_<e,t>(x1_e) >> f_<e,<e,t>>(x_e)(x1_e))))), ⟦[[every man]]⟧ = (λ f_<<e,t>,<e,t>>: (λ x_<e,t>: (Forall x1_e: (Man_<e,t>(x1_e) >> f_<<e,t>,<e,t>>(x_<e,t>)(x1_e))))), ⟦[every man]⟧ = (λ g_<e,t>: (Forall x_e: (Man_<e,t>(x_e) >> g_<e,t>(x_e))))], failures=[]), CompositionResult(results=[⟦[[[saw] [[poss] [[mother] him]]]]⟧ = (λ f_<e,e>: (λ x_e: (λ y_e: Saw_<(e,e),t>(y_e, (ι x1_e: Mother_<(e,e),t>(x1_e, f_<e,e>(x_e))))))), ⟦[[[saw] [[poss] [[mother] him]]]]⟧ = (λ f_<<e,t>,e>: (λ x_<e,t>: (λ y_e: Saw_<(e,e),t>(y_e, (ι x1_e: Mother_<(e,e),t>(x1_e, f_<<e,t>,e>(x_<e,t>))))))), ⟦[[[saw] [[poss] [[mother] him]]]]⟧ = (λ g_<e,e>: (λ x_e: Saw_<(e,e),t>(x_e, (ι x1_e: Mother_<(e,e),t>(x1_e, g_<e,e>(x_e)))))), ⟦[[saw] [[poss] [[mother] him]]]⟧ = (λ x_e: (λ y_e: Saw_<(e,e),t>(y_e, (ι x1_e: Mother_<(e,e),t>(x1_e, x_e)))))], failures=[])]\n",
      "Type-shifting: found 2 new items to try: [CompositionResult(results=[⟦[[every man]]⟧ = (λ f_<e,<e,t>>: (λ x_e: (Forall x1_e: (Man_<e,t>(x1_e) >> f_<e,<e,t>>(x_e)(x1_e))))), ⟦[[every man]]⟧ = (λ f_<<e,t>,<e,t>>: (λ x_<e,t>: (Forall x1_e: (Man_<e,t>(x1_e) >> f_<<e,t>,<e,t>>(x_<e,t>)(x1_e))))), ⟦[every man]⟧ = (λ g_<e,t>: (Forall x_e: (Man_<e,t>(x_e) >> g_<e,t>(x_e))))], failures=[]), CompositionResult(results=[⟦[[[[[[[mother] him]] poss]] saw]]⟧ = (λ f_<e,e>: (λ x_e: (λ y_e: Mother_<(e,e),t>(y_e, (ι x1_e: Saw_<(e,e),t>(x1_e, f_<e,e>(x_e))))))), ⟦[[[[[[[mother] him]] poss]] saw]]⟧ = (λ f_<<e,t>,e>: (λ x_<e,t>: (λ y_e: Mother_<(e,e),t>(y_e, (ι x1_e: Saw_<(e,e),t>(x1_e, f_<<e,t>,e>(x_<e,t>))))))), ⟦[[[[[[[mother] him]] poss]] saw]]⟧ = (λ g_<e,e>: (λ x_e: Mother_<(e,e),t>(x_e, (ι x1_e: Saw_<(e,e),t>(x1_e, g_<e,e>(x_e)))))), ⟦[[[[[[mother] him]] poss]] saw]⟧ = (λ x_e: (λ y_e: Mother_<(e,e),t>(y_e, (ι x1_e: Saw_<(e,e),t>(x1_e, x_e)))))], failures=[])]\n",
      " "
     ]
    },
    {
     "data": {
      "text/latex": [
       "5 composition paths. Results:\n",
       "<br />&nbsp;&nbsp;&nbsp;&nbsp;[0]: $[\\![\\mathbf{\\text{[[[every man]] [[saw] [[poss] [[mother] him]]]]}}]\\!]^{}_{\\langle{}e,t\\rangle{}} \\:=\\: $$\\lambda{} x_{e} \\: . \\: \\forall{} x1_{e} \\: . \\: ({Man}({x1}_{e}) \\rightarrow{} {Saw}({x1}_{e}, \\iota{} x2_{e} \\: . \\: {Mother}({x2}_{e}, {x}_{e})))$\n",
       "<br />&nbsp;&nbsp;&nbsp;&nbsp;[1]: $[\\![\\mathbf{\\text{[[every man] [[saw] [[poss] [[mother] him]]]]}}]\\!]^{}_{t} \\:=\\: $$\\forall{} x_{e} \\: . \\: ({Man}({x}_{e}) \\rightarrow{} {Saw}({x}_{e}, \\iota{} x1_{e} \\: . \\: {Mother}({x1}_{e}, {x}_{e})))$\n",
       "<br />&nbsp;&nbsp;&nbsp;&nbsp;[2]: $[\\![\\mathbf{\\text{[[[every man]] [[[[[[mother] him]] poss]] saw]]}}]\\!]^{}_{\\langle{}e,t\\rangle{}} \\:=\\: $$\\lambda{} x_{e} \\: . \\: \\forall{} x1_{e} \\: . \\: ({Man}({x1}_{e}) \\rightarrow{} {Mother}({x1}_{e}, \\iota{} x2_{e} \\: . \\: {Saw}({x2}_{e}, {x}_{e})))$\n",
       "<br />&nbsp;&nbsp;&nbsp;&nbsp;[3]: $[\\![\\mathbf{\\text{[[every man] [[[[[[mother] him]] poss]] saw]]}}]\\!]^{}_{t} \\:=\\: $$\\forall{} x_{e} \\: . \\: ({Man}({x}_{e}) \\rightarrow{} {Mother}({x}_{e}, \\iota{} x1_{e} \\: . \\: {Saw}({x1}_{e}, {x}_{e})))$\n",
       "<br />&nbsp;&nbsp;&nbsp;&nbsp;[4]: $[\\![\\mathbf{\\text{[[every man] [saw [poss [[mother] him]]]]}}]\\!]^{}_{t} \\:=\\: $$\\forall{} x_{e} \\: . \\: ({Man}({x}_{e}) \\rightarrow{} {Saw}({x}_{e}, \\iota{} x1_{e} \\: . \\: {Mother}({x1}_{e}, {x1}_{e})))$"
      ],
      "text/plain": [
       "CompositionResult(results=[⟦[[[every man]] [[saw] [[poss] [[mother] him]]]]⟧ = (λ x_e: (Forall x1_e: (Man_<e,t>(x1_e) >> Saw_<(e,e),t>(x1_e, (ι x2_e: Mother_<(e,e),t>(x2_e, x_e)))))), ⟦[[every man] [[saw] [[poss] [[mother] him]]]]⟧ = (Forall x_e: (Man_<e,t>(x_e) >> Saw_<(e,e),t>(x_e, (ι x1_e: Mother_<(e,e),t>(x1_e, x_e))))), ⟦[[[every man]] [[[[[[mother] him]] poss]] saw]]⟧ = (λ x_e: (Forall x1_e: (Man_<e,t>(x1_e) >> Mother_<(e,e),t>(x1_e, (ι x2_e: Saw_<(e,e),t>(x2_e, x_e)))))), ⟦[[every man] [[[[[[mother] him]] poss]] saw]]⟧ = (Forall x_e: (Man_<e,t>(x_e) >> Mother_<(e,e),t>(x_e, (ι x1_e: Saw_<(e,e),t>(x1_e, x_e))))), ⟦[[every man] [saw [poss [[mother] him]]]]⟧ = (Forall x_e: (Man_<e,t>(x_e) >> Saw_<(e,e),t>(x_e, (ι x1_e: Mother_<(e,e),t>(x1_e, x1_e)))))], failures=[⟦[[[every man]] [[[saw] [[poss] [[mother] him]]]]]⟧ = Type mismatch: '⟦[[every man]]⟧ = (λ f_<e,<e,t>>: (λ x_e: (Forall x1_e: (Man_<e,t>(x1_e) >> f_<e,<e,t>>(x_e)(x1_e)))))'/<<e,<e,t>>,<e,t>> and '⟦[[[saw] [[poss] [[mother] him]]]]⟧ = (λ f_<e,e>: (λ x_e: (λ y_e: Saw_<(e,e),t>(y_e, (ι x1_e: Mother_<(e,e),t>(x1_e, f_<e,e>(x_e)))))))'/<<e,e>,<e,<e,t>>> conflict (mode: Function Application), ⟦[[[[saw] [[poss] [[mother] him]]]] [[every man]]]⟧ = Type mismatch: '⟦[[[saw] [[poss] [[mother] him]]]]⟧ = (λ f_<e,e>: (λ x_e: (λ y_e: Saw_<(e,e),t>(y_e, (ι x1_e: Mother_<(e,e),t>(x1_e, f_<e,e>(x_e)))))))'/<<e,e>,<e,<e,t>>> and '⟦[[every man]]⟧ = (λ f_<e,<e,t>>: (λ x_e: (Forall x1_e: (Man_<e,t>(x1_e) >> f_<e,<e,t>>(x_e)(x1_e)))))'/<<e,<e,t>>,<e,t>> conflict (mode: Function Application), ⟦[[[every man]] [[[saw] [[poss] [[mother] him]]]]]⟧ = Type mismatch: '⟦[[every man]]⟧ = (λ f_<e,<e,t>>: (λ x_e: (Forall x1_e: (Man_<e,t>(x1_e) >> f_<e,<e,t>>(x_e)(x1_e)))))'/<<e,<e,t>>,<e,t>> and '⟦[[[saw] [[poss] [[mother] him]]]]⟧ = (λ f_<e,e>: (λ x_e: (λ y_e: Saw_<(e,e),t>(y_e, (ι x1_e: Mother_<(e,e),t>(x1_e, f_<e,e>(x_e)))))))'/<<e,e>,<e,<e,t>>> conflict (mode: Predicate Modification), ⟦[[[every man]] [[[saw] [[poss] [[mother] him]]]]]⟧ = Type mismatch: '⟦[[every man]]⟧ = (λ f_<e,<e,t>>: (λ x_e: (Forall x1_e: (Man_<e,t>(x1_e) >> f_<e,<e,t>>(x_e)(x1_e)))))'/<<e,<e,t>>,<e,t>> and '⟦[[[saw] [[poss] [[mother] him]]]]⟧ = (λ f_<e,e>: (λ x_e: (λ y_e: Saw_<(e,e),t>(y_e, (ι x1_e: Mother_<(e,e),t>(x1_e, f_<e,e>(x_e)))))))'/<<e,e>,<e,<e,t>>> conflict (mode: Predicate Abstraction), ⟦[[[[saw] [[poss] [[mother] him]]]] [[every man]]]⟧ = Type mismatch: '⟦[[[saw] [[poss] [[mother] him]]]]⟧ = (λ f_<e,e>: (λ x_e: (λ y_e: Saw_<(e,e),t>(y_e, (ι x1_e: Mother_<(e,e),t>(x1_e, f_<e,e>(x_e)))))))'/<<e,e>,<e,<e,t>>> and '⟦[[every man]]⟧ = (λ f_<e,<e,t>>: (λ x_e: (Forall x1_e: (Man_<e,t>(x1_e) >> f_<e,<e,t>>(x_e)(x1_e)))))'/<<e,<e,t>>,<e,t>> conflict (mode: Predicate Abstraction), ⟦[[[every man]] [[[saw] [[poss] [[mother] him]]]]]⟧ = Type mismatch: '⟦[[every man]]⟧ = (λ f_<e,<e,t>>: (λ x_e: (Forall x1_e: (Man_<e,t>(x1_e) >> f_<e,<e,t>>(x_e)(x1_e)))))'/<<e,<e,t>>,<e,t>> and '⟦[[[saw] [[poss] [[mother] him]]]]⟧ = (λ f_<<e,t>,e>: (λ x_<e,t>: (λ y_e: Saw_<(e,e),t>(y_e, (ι x1_e: Mother_<(e,e),t>(x1_e, f_<<e,t>,e>(x_<e,t>)))))))'/<<<e,t>,e>,<<e,t>,<e,t>>> conflict (mode: Function Application), ⟦[[[[saw] [[poss] [[mother] him]]]] [[every man]]]⟧ = Type mismatch: '⟦[[[saw] [[poss] [[mother] him]]]]⟧ = (λ f_<<e,t>,e>: (λ x_<e,t>: (λ y_e: Saw_<(e,e),t>(y_e, (ι x1_e: Mother_<(e,e),t>(x1_e, f_<<e,t>,e>(x_<e,t>)))))))'/<<<e,t>,e>,<<e,t>,<e,t>>> and '⟦[[every man]]⟧ = (λ f_<e,<e,t>>: (λ x_e: (Forall x1_e: (Man_<e,t>(x1_e) >> f_<e,<e,t>>(x_e)(x1_e)))))'/<<e,<e,t>>,<e,t>> conflict (mode: Function Application), ⟦[[[every man]] [[[saw] [[poss] [[mother] him]]]]]⟧ = Type mismatch: '⟦[[every man]]⟧ = (λ f_<e,<e,t>>: (λ x_e: (Forall x1_e: (Man_<e,t>(x1_e) >> f_<e,<e,t>>(x_e)(x1_e)))))'/<<e,<e,t>>,<e,t>> and '⟦[[[saw] [[poss] [[mother] him]]]]⟧ = (λ f_<<e,t>,e>: (λ x_<e,t>: (λ y_e: Saw_<(e,e),t>(y_e, (ι x1_e: Mother_<(e,e),t>(x1_e, f_<<e,t>,e>(x_<e,t>)))))))'/<<<e,t>,e>,<<e,t>,<e,t>>> conflict (mode: Predicate Modification), ⟦[[[every man]] [[[saw] [[poss] [[mother] him]]]]]⟧ = Type mismatch: '⟦[[every man]]⟧ = (λ f_<e,<e,t>>: (λ x_e: (Forall x1_e: (Man_<e,t>(x1_e) >> f_<e,<e,t>>(x_e)(x1_e)))))'/<<e,<e,t>>,<e,t>> and '⟦[[[saw] [[poss] [[mother] him]]]]⟧ = (λ f_<<e,t>,e>: (λ x_<e,t>: (λ y_e: Saw_<(e,e),t>(y_e, (ι x1_e: Mother_<(e,e),t>(x1_e, f_<<e,t>,e>(x_<e,t>)))))))'/<<<e,t>,e>,<<e,t>,<e,t>>> conflict (mode: Predicate Abstraction), ⟦[[[[saw] [[poss] [[mother] him]]]] [[every man]]]⟧ = Type mismatch: '⟦[[[saw] [[poss] [[mother] him]]]]⟧ = (λ f_<<e,t>,e>: (λ x_<e,t>: (λ y_e: Saw_<(e,e),t>(y_e, (ι x1_e: Mother_<(e,e),t>(x1_e, f_<<e,t>,e>(x_<e,t>)))))))'/<<<e,t>,e>,<<e,t>,<e,t>>> and '⟦[[every man]]⟧ = (λ f_<e,<e,t>>: (λ x_e: (Forall x1_e: (Man_<e,t>(x1_e) >> f_<e,<e,t>>(x_e)(x1_e)))))'/<<e,<e,t>>,<e,t>> conflict (mode: Predicate Abstraction), ⟦[[[every man]] [[[saw] [[poss] [[mother] him]]]]]⟧ = Type mismatch: '⟦[[every man]]⟧ = (λ f_<e,<e,t>>: (λ x_e: (Forall x1_e: (Man_<e,t>(x1_e) >> f_<e,<e,t>>(x_e)(x1_e)))))'/<<e,<e,t>>,<e,t>> and '⟦[[[saw] [[poss] [[mother] him]]]]⟧ = (λ g_<e,e>: (λ x_e: Saw_<(e,e),t>(x_e, (ι x1_e: Mother_<(e,e),t>(x1_e, g_<e,e>(x_e))))))'/<<e,e>,<e,t>> conflict (mode: Function Application), ⟦[[[[saw] [[poss] [[mother] him]]]] [[every man]]]⟧ = Type mismatch: '⟦[[[saw] [[poss] [[mother] him]]]]⟧ = (λ g_<e,e>: (λ x_e: Saw_<(e,e),t>(x_e, (ι x1_e: Mother_<(e,e),t>(x1_e, g_<e,e>(x_e))))))'/<<e,e>,<e,t>> and '⟦[[every man]]⟧ = (λ f_<e,<e,t>>: (λ x_e: (Forall x1_e: (Man_<e,t>(x1_e) >> f_<e,<e,t>>(x_e)(x1_e)))))'/<<e,<e,t>>,<e,t>> conflict (mode: Function Application), ⟦[[[every man]] [[[saw] [[poss] [[mother] him]]]]]⟧ = Type mismatch: '⟦[[every man]]⟧ = (λ f_<e,<e,t>>: (λ x_e: (Forall x1_e: (Man_<e,t>(x1_e) >> f_<e,<e,t>>(x_e)(x1_e)))))'/<<e,<e,t>>,<e,t>> and '⟦[[[saw] [[poss] [[mother] him]]]]⟧ = (λ g_<e,e>: (λ x_e: Saw_<(e,e),t>(x_e, (ι x1_e: Mother_<(e,e),t>(x1_e, g_<e,e>(x_e))))))'/<<e,e>,<e,t>> conflict (mode: Predicate Modification), ⟦[[[every man]] [[[saw] [[poss] [[mother] him]]]]]⟧ = Type mismatch: '⟦[[every man]]⟧ = (λ f_<e,<e,t>>: (λ x_e: (Forall x1_e: (Man_<e,t>(x1_e) >> f_<e,<e,t>>(x_e)(x1_e)))))'/<<e,<e,t>>,<e,t>> and '⟦[[[saw] [[poss] [[mother] him]]]]⟧ = (λ g_<e,e>: (λ x_e: Saw_<(e,e),t>(x_e, (ι x1_e: Mother_<(e,e),t>(x1_e, g_<e,e>(x_e))))))'/<<e,e>,<e,t>> conflict (mode: Predicate Abstraction), ⟦[[[[saw] [[poss] [[mother] him]]]] [[every man]]]⟧ = Type mismatch: '⟦[[[saw] [[poss] [[mother] him]]]]⟧ = (λ g_<e,e>: (λ x_e: Saw_<(e,e),t>(x_e, (ι x1_e: Mother_<(e,e),t>(x1_e, g_<e,e>(x_e))))))'/<<e,e>,<e,t>> and '⟦[[every man]]⟧ = (λ f_<e,<e,t>>: (λ x_e: (Forall x1_e: (Man_<e,t>(x1_e) >> f_<e,<e,t>>(x_e)(x1_e)))))'/<<e,<e,t>>,<e,t>> conflict (mode: Predicate Abstraction), ⟦[[[saw] [[poss] [[mother] him]]] [[every man]]]⟧ = Type mismatch: '⟦[[saw] [[poss] [[mother] him]]]⟧ = (λ x_e: (λ y_e: Saw_<(e,e),t>(y_e, (ι x1_e: Mother_<(e,e),t>(x1_e, x_e)))))'/<e,<e,t>> and '⟦[[every man]]⟧ = (λ f_<e,<e,t>>: (λ x_e: (Forall x1_e: (Man_<e,t>(x1_e) >> f_<e,<e,t>>(x_e)(x1_e)))))'/<<e,<e,t>>,<e,t>> conflict (mode: Function Application), ⟦[[[every man]] [[saw] [[poss] [[mother] him]]]]⟧ = Type mismatch: '⟦[[every man]]⟧ = (λ f_<e,<e,t>>: (λ x_e: (Forall x1_e: (Man_<e,t>(x1_e) >> f_<e,<e,t>>(x_e)(x1_e)))))'/<<e,<e,t>>,<e,t>> and '⟦[[saw] [[poss] [[mother] him]]]⟧ = (λ x_e: (λ y_e: Saw_<(e,e),t>(y_e, (ι x1_e: Mother_<(e,e),t>(x1_e, x_e)))))'/<e,<e,t>> conflict (mode: Predicate Modification), ⟦[[[every man]] [[saw] [[poss] [[mother] him]]]]⟧ = Type mismatch: '⟦[[every man]]⟧ = (λ f_<e,<e,t>>: (λ x_e: (Forall x1_e: (Man_<e,t>(x1_e) >> f_<e,<e,t>>(x_e)(x1_e)))))'/<<e,<e,t>>,<e,t>> and '⟦[[saw] [[poss] [[mother] him]]]⟧ = (λ x_e: (λ y_e: Saw_<(e,e),t>(y_e, (ι x1_e: Mother_<(e,e),t>(x1_e, x_e)))))'/<e,<e,t>> conflict (mode: Predicate Abstraction), ⟦[[[saw] [[poss] [[mother] him]]] [[every man]]]⟧ = Type mismatch: '⟦[[saw] [[poss] [[mother] him]]]⟧ = (λ x_e: (λ y_e: Saw_<(e,e),t>(y_e, (ι x1_e: Mother_<(e,e),t>(x1_e, x_e)))))'/<e,<e,t>> and '⟦[[every man]]⟧ = (λ f_<e,<e,t>>: (λ x_e: (Forall x1_e: (Man_<e,t>(x1_e) >> f_<e,<e,t>>(x_e)(x1_e)))))'/<<e,<e,t>>,<e,t>> conflict (mode: Predicate Abstraction), ⟦[[[every man]] [[[saw] [[poss] [[mother] him]]]]]⟧ = Type mismatch: '⟦[[every man]]⟧ = (λ f_<<e,t>,<e,t>>: (λ x_<e,t>: (Forall x1_e: (Man_<e,t>(x1_e) >> f_<<e,t>,<e,t>>(x_<e,t>)(x1_e)))))'/<<<e,t>,<e,t>>,<<e,t>,t>> and '⟦[[[saw] [[poss] [[mother] him]]]]⟧ = (λ f_<e,e>: (λ x_e: (λ y_e: Saw_<(e,e),t>(y_e, (ι x1_e: Mother_<(e,e),t>(x1_e, f_<e,e>(x_e)))))))'/<<e,e>,<e,<e,t>>> conflict (mode: Function Application), ⟦[[[[saw] [[poss] [[mother] him]]]] [[every man]]]⟧ = Type mismatch: '⟦[[[saw] [[poss] [[mother] him]]]]⟧ = (λ f_<e,e>: (λ x_e: (λ y_e: Saw_<(e,e),t>(y_e, (ι x1_e: Mother_<(e,e),t>(x1_e, f_<e,e>(x_e)))))))'/<<e,e>,<e,<e,t>>> and '⟦[[every man]]⟧ = (λ f_<<e,t>,<e,t>>: (λ x_<e,t>: (Forall x1_e: (Man_<e,t>(x1_e) >> f_<<e,t>,<e,t>>(x_<e,t>)(x1_e)))))'/<<<e,t>,<e,t>>,<<e,t>,t>> conflict (mode: Function Application), ⟦[[[every man]] [[[saw] [[poss] [[mother] him]]]]]⟧ = Type mismatch: '⟦[[every man]]⟧ = (λ f_<<e,t>,<e,t>>: (λ x_<e,t>: (Forall x1_e: (Man_<e,t>(x1_e) >> f_<<e,t>,<e,t>>(x_<e,t>)(x1_e)))))'/<<<e,t>,<e,t>>,<<e,t>,t>> and '⟦[[[saw] [[poss] [[mother] him]]]]⟧ = (λ f_<e,e>: (λ x_e: (λ y_e: Saw_<(e,e),t>(y_e, (ι x1_e: Mother_<(e,e),t>(x1_e, f_<e,e>(x_e)))))))'/<<e,e>,<e,<e,t>>> conflict (mode: Predicate Modification), ⟦[[[every man]] [[[saw] [[poss] [[mother] him]]]]]⟧ = Type mismatch: '⟦[[every man]]⟧ = (λ f_<<e,t>,<e,t>>: (λ x_<e,t>: (Forall x1_e: (Man_<e,t>(x1_e) >> f_<<e,t>,<e,t>>(x_<e,t>)(x1_e)))))'/<<<e,t>,<e,t>>,<<e,t>,t>> and '⟦[[[saw] [[poss] [[mother] him]]]]⟧ = (λ f_<e,e>: (λ x_e: (λ y_e: Saw_<(e,e),t>(y_e, (ι x1_e: Mother_<(e,e),t>(x1_e, f_<e,e>(x_e)))))))'/<<e,e>,<e,<e,t>>> conflict (mode: Predicate Abstraction), ⟦[[[[saw] [[poss] [[mother] him]]]] [[every man]]]⟧ = Type mismatch: '⟦[[[saw] [[poss] [[mother] him]]]]⟧ = (λ f_<e,e>: (λ x_e: (λ y_e: Saw_<(e,e),t>(y_e, (ι x1_e: Mother_<(e,e),t>(x1_e, f_<e,e>(x_e)))))))'/<<e,e>,<e,<e,t>>> and '⟦[[every man]]⟧ = (λ f_<<e,t>,<e,t>>: (λ x_<e,t>: (Forall x1_e: (Man_<e,t>(x1_e) >> f_<<e,t>,<e,t>>(x_<e,t>)(x1_e)))))'/<<<e,t>,<e,t>>,<<e,t>,t>> conflict (mode: Predicate Abstraction), ⟦[[[every man]] [[[saw] [[poss] [[mother] him]]]]]⟧ = Type mismatch: '⟦[[every man]]⟧ = (λ f_<<e,t>,<e,t>>: (λ x_<e,t>: (Forall x1_e: (Man_<e,t>(x1_e) >> f_<<e,t>,<e,t>>(x_<e,t>)(x1_e)))))'/<<<e,t>,<e,t>>,<<e,t>,t>> and '⟦[[[saw] [[poss] [[mother] him]]]]⟧ = (λ f_<<e,t>,e>: (λ x_<e,t>: (λ y_e: Saw_<(e,e),t>(y_e, (ι x1_e: Mother_<(e,e),t>(x1_e, f_<<e,t>,e>(x_<e,t>)))))))'/<<<e,t>,e>,<<e,t>,<e,t>>> conflict (mode: Function Application), ⟦[[[[saw] [[poss] [[mother] him]]]] [[every man]]]⟧ = Type mismatch: '⟦[[[saw] [[poss] [[mother] him]]]]⟧ = (λ f_<<e,t>,e>: (λ x_<e,t>: (λ y_e: Saw_<(e,e),t>(y_e, (ι x1_e: Mother_<(e,e),t>(x1_e, f_<<e,t>,e>(x_<e,t>)))))))'/<<<e,t>,e>,<<e,t>,<e,t>>> and '⟦[[every man]]⟧ = (λ f_<<e,t>,<e,t>>: (λ x_<e,t>: (Forall x1_e: (Man_<e,t>(x1_e) >> f_<<e,t>,<e,t>>(x_<e,t>)(x1_e)))))'/<<<e,t>,<e,t>>,<<e,t>,t>> conflict (mode: Function Application), ⟦[[[every man]] [[[saw] [[poss] [[mother] him]]]]]⟧ = Type mismatch: '⟦[[every man]]⟧ = (λ f_<<e,t>,<e,t>>: (λ x_<e,t>: (Forall x1_e: (Man_<e,t>(x1_e) >> f_<<e,t>,<e,t>>(x_<e,t>)(x1_e)))))'/<<<e,t>,<e,t>>,<<e,t>,t>> and '⟦[[[saw] [[poss] [[mother] him]]]]⟧ = (λ f_<<e,t>,e>: (λ x_<e,t>: (λ y_e: Saw_<(e,e),t>(y_e, (ι x1_e: Mother_<(e,e),t>(x1_e, f_<<e,t>,e>(x_<e,t>)))))))'/<<<e,t>,e>,<<e,t>,<e,t>>> conflict (mode: Predicate Modification), ⟦[[[every man]] [[[saw] [[poss] [[mother] him]]]]]⟧ = Type mismatch: '⟦[[every man]]⟧ = (λ f_<<e,t>,<e,t>>: (λ x_<e,t>: (Forall x1_e: (Man_<e,t>(x1_e) >> f_<<e,t>,<e,t>>(x_<e,t>)(x1_e)))))'/<<<e,t>,<e,t>>,<<e,t>,t>> and '⟦[[[saw] [[poss] [[mother] him]]]]⟧ = (λ f_<<e,t>,e>: (λ x_<e,t>: (λ y_e: Saw_<(e,e),t>(y_e, (ι x1_e: Mother_<(e,e),t>(x1_e, f_<<e,t>,e>(x_<e,t>)))))))'/<<<e,t>,e>,<<e,t>,<e,t>>> conflict (mode: Predicate Abstraction), ⟦[[[[saw] [[poss] [[mother] him]]]] [[every man]]]⟧ = Type mismatch: '⟦[[[saw] [[poss] [[mother] him]]]]⟧ = (λ f_<<e,t>,e>: (λ x_<e,t>: (λ y_e: Saw_<(e,e),t>(y_e, (ι x1_e: Mother_<(e,e),t>(x1_e, f_<<e,t>,e>(x_<e,t>)))))))'/<<<e,t>,e>,<<e,t>,<e,t>>> and '⟦[[every man]]⟧ = (λ f_<<e,t>,<e,t>>: (λ x_<e,t>: (Forall x1_e: (Man_<e,t>(x1_e) >> f_<<e,t>,<e,t>>(x_<e,t>)(x1_e)))))'/<<<e,t>,<e,t>>,<<e,t>,t>> conflict (mode: Predicate Abstraction), ⟦[[[every man]] [[[saw] [[poss] [[mother] him]]]]]⟧ = Type mismatch: '⟦[[every man]]⟧ = (λ f_<<e,t>,<e,t>>: (λ x_<e,t>: (Forall x1_e: (Man_<e,t>(x1_e) >> f_<<e,t>,<e,t>>(x_<e,t>)(x1_e)))))'/<<<e,t>,<e,t>>,<<e,t>,t>> and '⟦[[[saw] [[poss] [[mother] him]]]]⟧ = (λ g_<e,e>: (λ x_e: Saw_<(e,e),t>(x_e, (ι x1_e: Mother_<(e,e),t>(x1_e, g_<e,e>(x_e))))))'/<<e,e>,<e,t>> conflict (mode: Function Application), ⟦[[[[saw] [[poss] [[mother] him]]]] [[every man]]]⟧ = Type mismatch: '⟦[[[saw] [[poss] [[mother] him]]]]⟧ = (λ g_<e,e>: (λ x_e: Saw_<(e,e),t>(x_e, (ι x1_e: Mother_<(e,e),t>(x1_e, g_<e,e>(x_e))))))'/<<e,e>,<e,t>> and '⟦[[every man]]⟧ = (λ f_<<e,t>,<e,t>>: (λ x_<e,t>: (Forall x1_e: (Man_<e,t>(x1_e) >> f_<<e,t>,<e,t>>(x_<e,t>)(x1_e)))))'/<<<e,t>,<e,t>>,<<e,t>,t>> conflict (mode: Function Application), ⟦[[[every man]] [[[saw] [[poss] [[mother] him]]]]]⟧ = Type mismatch: '⟦[[every man]]⟧ = (λ f_<<e,t>,<e,t>>: (λ x_<e,t>: (Forall x1_e: (Man_<e,t>(x1_e) >> f_<<e,t>,<e,t>>(x_<e,t>)(x1_e)))))'/<<<e,t>,<e,t>>,<<e,t>,t>> and '⟦[[[saw] [[poss] [[mother] him]]]]⟧ = (λ g_<e,e>: (λ x_e: Saw_<(e,e),t>(x_e, (ι x1_e: Mother_<(e,e),t>(x1_e, g_<e,e>(x_e))))))'/<<e,e>,<e,t>> conflict (mode: Predicate Modification), ⟦[[[every man]] [[[saw] [[poss] [[mother] him]]]]]⟧ = Type mismatch: '⟦[[every man]]⟧ = (λ f_<<e,t>,<e,t>>: (λ x_<e,t>: (Forall x1_e: (Man_<e,t>(x1_e) >> f_<<e,t>,<e,t>>(x_<e,t>)(x1_e)))))'/<<<e,t>,<e,t>>,<<e,t>,t>> and '⟦[[[saw] [[poss] [[mother] him]]]]⟧ = (λ g_<e,e>: (λ x_e: Saw_<(e,e),t>(x_e, (ι x1_e: Mother_<(e,e),t>(x1_e, g_<e,e>(x_e))))))'/<<e,e>,<e,t>> conflict (mode: Predicate Abstraction), ⟦[[[[saw] [[poss] [[mother] him]]]] [[every man]]]⟧ = Type mismatch: '⟦[[[saw] [[poss] [[mother] him]]]]⟧ = (λ g_<e,e>: (λ x_e: Saw_<(e,e),t>(x_e, (ι x1_e: Mother_<(e,e),t>(x1_e, g_<e,e>(x_e))))))'/<<e,e>,<e,t>> and '⟦[[every man]]⟧ = (λ f_<<e,t>,<e,t>>: (λ x_<e,t>: (Forall x1_e: (Man_<e,t>(x1_e) >> f_<<e,t>,<e,t>>(x_<e,t>)(x1_e)))))'/<<<e,t>,<e,t>>,<<e,t>,t>> conflict (mode: Predicate Abstraction), ⟦[[[every man]] [[saw] [[poss] [[mother] him]]]]⟧ = Type mismatch: '⟦[[every man]]⟧ = (λ f_<<e,t>,<e,t>>: (λ x_<e,t>: (Forall x1_e: (Man_<e,t>(x1_e) >> f_<<e,t>,<e,t>>(x_<e,t>)(x1_e)))))'/<<<e,t>,<e,t>>,<<e,t>,t>> and '⟦[[saw] [[poss] [[mother] him]]]⟧ = (λ x_e: (λ y_e: Saw_<(e,e),t>(y_e, (ι x1_e: Mother_<(e,e),t>(x1_e, x_e)))))'/<e,<e,t>> conflict (mode: Function Application), ⟦[[[saw] [[poss] [[mother] him]]] [[every man]]]⟧ = Type mismatch: '⟦[[saw] [[poss] [[mother] him]]]⟧ = (λ x_e: (λ y_e: Saw_<(e,e),t>(y_e, (ι x1_e: Mother_<(e,e),t>(x1_e, x_e)))))'/<e,<e,t>> and '⟦[[every man]]⟧ = (λ f_<<e,t>,<e,t>>: (λ x_<e,t>: (Forall x1_e: (Man_<e,t>(x1_e) >> f_<<e,t>,<e,t>>(x_<e,t>)(x1_e)))))'/<<<e,t>,<e,t>>,<<e,t>,t>> conflict (mode: Function Application), ⟦[[[every man]] [[saw] [[poss] [[mother] him]]]]⟧ = Type mismatch: '⟦[[every man]]⟧ = (λ f_<<e,t>,<e,t>>: (λ x_<e,t>: (Forall x1_e: (Man_<e,t>(x1_e) >> f_<<e,t>,<e,t>>(x_<e,t>)(x1_e)))))'/<<<e,t>,<e,t>>,<<e,t>,t>> and '⟦[[saw] [[poss] [[mother] him]]]⟧ = (λ x_e: (λ y_e: Saw_<(e,e),t>(y_e, (ι x1_e: Mother_<(e,e),t>(x1_e, x_e)))))'/<e,<e,t>> conflict (mode: Predicate Modification), ⟦[[[every man]] [[saw] [[poss] [[mother] him]]]]⟧ = Type mismatch: '⟦[[every man]]⟧ = (λ f_<<e,t>,<e,t>>: (λ x_<e,t>: (Forall x1_e: (Man_<e,t>(x1_e) >> f_<<e,t>,<e,t>>(x_<e,t>)(x1_e)))))'/<<<e,t>,<e,t>>,<<e,t>,t>> and '⟦[[saw] [[poss] [[mother] him]]]⟧ = (λ x_e: (λ y_e: Saw_<(e,e),t>(y_e, (ι x1_e: Mother_<(e,e),t>(x1_e, x_e)))))'/<e,<e,t>> conflict (mode: Predicate Abstraction), ⟦[[[saw] [[poss] [[mother] him]]] [[every man]]]⟧ = Type mismatch: '⟦[[saw] [[poss] [[mother] him]]]⟧ = (λ x_e: (λ y_e: Saw_<(e,e),t>(y_e, (ι x1_e: Mother_<(e,e),t>(x1_e, x_e)))))'/<e,<e,t>> and '⟦[[every man]]⟧ = (λ f_<<e,t>,<e,t>>: (λ x_<e,t>: (Forall x1_e: (Man_<e,t>(x1_e) >> f_<<e,t>,<e,t>>(x_<e,t>)(x1_e)))))'/<<<e,t>,<e,t>>,<<e,t>,t>> conflict (mode: Predicate Abstraction), ⟦[[every man] [[[saw] [[poss] [[mother] him]]]]]⟧ = Type mismatch: '⟦[every man]⟧ = (λ g_<e,t>: (Forall x_e: (Man_<e,t>(x_e) >> g_<e,t>(x_e))))'/<<e,t>,t> and '⟦[[[saw] [[poss] [[mother] him]]]]⟧ = (λ f_<e,e>: (λ x_e: (λ y_e: Saw_<(e,e),t>(y_e, (ι x1_e: Mother_<(e,e),t>(x1_e, f_<e,e>(x_e)))))))'/<<e,e>,<e,<e,t>>> conflict (mode: Function Application), ⟦[[[[saw] [[poss] [[mother] him]]]] [every man]]⟧ = Type mismatch: '⟦[[[saw] [[poss] [[mother] him]]]]⟧ = (λ f_<e,e>: (λ x_e: (λ y_e: Saw_<(e,e),t>(y_e, (ι x1_e: Mother_<(e,e),t>(x1_e, f_<e,e>(x_e)))))))'/<<e,e>,<e,<e,t>>> and '⟦[every man]⟧ = (λ g_<e,t>: (Forall x_e: (Man_<e,t>(x_e) >> g_<e,t>(x_e))))'/<<e,t>,t> conflict (mode: Function Application), ⟦[[every man] [[[saw] [[poss] [[mother] him]]]]]⟧ = Type mismatch: '⟦[every man]⟧ = (λ g_<e,t>: (Forall x_e: (Man_<e,t>(x_e) >> g_<e,t>(x_e))))'/<<e,t>,t> and '⟦[[[saw] [[poss] [[mother] him]]]]⟧ = (λ f_<e,e>: (λ x_e: (λ y_e: Saw_<(e,e),t>(y_e, (ι x1_e: Mother_<(e,e),t>(x1_e, f_<e,e>(x_e)))))))'/<<e,e>,<e,<e,t>>> conflict (mode: Predicate Modification), ⟦[[every man] [[[saw] [[poss] [[mother] him]]]]]⟧ = Type mismatch: '⟦[every man]⟧ = (λ g_<e,t>: (Forall x_e: (Man_<e,t>(x_e) >> g_<e,t>(x_e))))'/<<e,t>,t> and '⟦[[[saw] [[poss] [[mother] him]]]]⟧ = (λ f_<e,e>: (λ x_e: (λ y_e: Saw_<(e,e),t>(y_e, (ι x1_e: Mother_<(e,e),t>(x1_e, f_<e,e>(x_e)))))))'/<<e,e>,<e,<e,t>>> conflict (mode: Predicate Abstraction), ⟦[[[[saw] [[poss] [[mother] him]]]] [every man]]⟧ = Type mismatch: '⟦[[[saw] [[poss] [[mother] him]]]]⟧ = (λ f_<e,e>: (λ x_e: (λ y_e: Saw_<(e,e),t>(y_e, (ι x1_e: Mother_<(e,e),t>(x1_e, f_<e,e>(x_e)))))))'/<<e,e>,<e,<e,t>>> and '⟦[every man]⟧ = (λ g_<e,t>: (Forall x_e: (Man_<e,t>(x_e) >> g_<e,t>(x_e))))'/<<e,t>,t> conflict (mode: Predicate Abstraction), ⟦[[every man] [[[saw] [[poss] [[mother] him]]]]]⟧ = Type mismatch: '⟦[every man]⟧ = (λ g_<e,t>: (Forall x_e: (Man_<e,t>(x_e) >> g_<e,t>(x_e))))'/<<e,t>,t> and '⟦[[[saw] [[poss] [[mother] him]]]]⟧ = (λ f_<<e,t>,e>: (λ x_<e,t>: (λ y_e: Saw_<(e,e),t>(y_e, (ι x1_e: Mother_<(e,e),t>(x1_e, f_<<e,t>,e>(x_<e,t>)))))))'/<<<e,t>,e>,<<e,t>,<e,t>>> conflict (mode: Function Application), ⟦[[[[saw] [[poss] [[mother] him]]]] [every man]]⟧ = Type mismatch: '⟦[[[saw] [[poss] [[mother] him]]]]⟧ = (λ f_<<e,t>,e>: (λ x_<e,t>: (λ y_e: Saw_<(e,e),t>(y_e, (ι x1_e: Mother_<(e,e),t>(x1_e, f_<<e,t>,e>(x_<e,t>)))))))'/<<<e,t>,e>,<<e,t>,<e,t>>> and '⟦[every man]⟧ = (λ g_<e,t>: (Forall x_e: (Man_<e,t>(x_e) >> g_<e,t>(x_e))))'/<<e,t>,t> conflict (mode: Function Application), ⟦[[every man] [[[saw] [[poss] [[mother] him]]]]]⟧ = Type mismatch: '⟦[every man]⟧ = (λ g_<e,t>: (Forall x_e: (Man_<e,t>(x_e) >> g_<e,t>(x_e))))'/<<e,t>,t> and '⟦[[[saw] [[poss] [[mother] him]]]]⟧ = (λ f_<<e,t>,e>: (λ x_<e,t>: (λ y_e: Saw_<(e,e),t>(y_e, (ι x1_e: Mother_<(e,e),t>(x1_e, f_<<e,t>,e>(x_<e,t>)))))))'/<<<e,t>,e>,<<e,t>,<e,t>>> conflict (mode: Predicate Modification), ⟦[[every man] [[[saw] [[poss] [[mother] him]]]]]⟧ = Type mismatch: '⟦[every man]⟧ = (λ g_<e,t>: (Forall x_e: (Man_<e,t>(x_e) >> g_<e,t>(x_e))))'/<<e,t>,t> and '⟦[[[saw] [[poss] [[mother] him]]]]⟧ = (λ f_<<e,t>,e>: (λ x_<e,t>: (λ y_e: Saw_<(e,e),t>(y_e, (ι x1_e: Mother_<(e,e),t>(x1_e, f_<<e,t>,e>(x_<e,t>)))))))'/<<<e,t>,e>,<<e,t>,<e,t>>> conflict (mode: Predicate Abstraction), ⟦[[[[saw] [[poss] [[mother] him]]]] [every man]]⟧ = Type mismatch: '⟦[[[saw] [[poss] [[mother] him]]]]⟧ = (λ f_<<e,t>,e>: (λ x_<e,t>: (λ y_e: Saw_<(e,e),t>(y_e, (ι x1_e: Mother_<(e,e),t>(x1_e, f_<<e,t>,e>(x_<e,t>)))))))'/<<<e,t>,e>,<<e,t>,<e,t>>> and '⟦[every man]⟧ = (λ g_<e,t>: (Forall x_e: (Man_<e,t>(x_e) >> g_<e,t>(x_e))))'/<<e,t>,t> conflict (mode: Predicate Abstraction), ⟦[[every man] [[[saw] [[poss] [[mother] him]]]]]⟧ = Type mismatch: '⟦[every man]⟧ = (λ g_<e,t>: (Forall x_e: (Man_<e,t>(x_e) >> g_<e,t>(x_e))))'/<<e,t>,t> and '⟦[[[saw] [[poss] [[mother] him]]]]⟧ = (λ g_<e,e>: (λ x_e: Saw_<(e,e),t>(x_e, (ι x1_e: Mother_<(e,e),t>(x1_e, g_<e,e>(x_e))))))'/<<e,e>,<e,t>> conflict (mode: Function Application), ⟦[[[[saw] [[poss] [[mother] him]]]] [every man]]⟧ = Type mismatch: '⟦[[[saw] [[poss] [[mother] him]]]]⟧ = (λ g_<e,e>: (λ x_e: Saw_<(e,e),t>(x_e, (ι x1_e: Mother_<(e,e),t>(x1_e, g_<e,e>(x_e))))))'/<<e,e>,<e,t>> and '⟦[every man]⟧ = (λ g_<e,t>: (Forall x_e: (Man_<e,t>(x_e) >> g_<e,t>(x_e))))'/<<e,t>,t> conflict (mode: Function Application), ⟦[[every man] [[[saw] [[poss] [[mother] him]]]]]⟧ = Type mismatch: '⟦[every man]⟧ = (λ g_<e,t>: (Forall x_e: (Man_<e,t>(x_e) >> g_<e,t>(x_e))))'/<<e,t>,t> and '⟦[[[saw] [[poss] [[mother] him]]]]⟧ = (λ g_<e,e>: (λ x_e: Saw_<(e,e),t>(x_e, (ι x1_e: Mother_<(e,e),t>(x1_e, g_<e,e>(x_e))))))'/<<e,e>,<e,t>> conflict (mode: Predicate Modification), ⟦[[every man] [[[saw] [[poss] [[mother] him]]]]]⟧ = Type mismatch: '⟦[every man]⟧ = (λ g_<e,t>: (Forall x_e: (Man_<e,t>(x_e) >> g_<e,t>(x_e))))'/<<e,t>,t> and '⟦[[[saw] [[poss] [[mother] him]]]]⟧ = (λ g_<e,e>: (λ x_e: Saw_<(e,e),t>(x_e, (ι x1_e: Mother_<(e,e),t>(x1_e, g_<e,e>(x_e))))))'/<<e,e>,<e,t>> conflict (mode: Predicate Abstraction), ⟦[[[[saw] [[poss] [[mother] him]]]] [every man]]⟧ = Type mismatch: '⟦[[[saw] [[poss] [[mother] him]]]]⟧ = (λ g_<e,e>: (λ x_e: Saw_<(e,e),t>(x_e, (ι x1_e: Mother_<(e,e),t>(x1_e, g_<e,e>(x_e))))))'/<<e,e>,<e,t>> and '⟦[every man]⟧ = (λ g_<e,t>: (Forall x_e: (Man_<e,t>(x_e) >> g_<e,t>(x_e))))'/<<e,t>,t> conflict (mode: Predicate Abstraction), ⟦[[every man] [[saw] [[poss] [[mother] him]]]]⟧ = Type mismatch: '⟦[every man]⟧ = (λ g_<e,t>: (Forall x_e: (Man_<e,t>(x_e) >> g_<e,t>(x_e))))'/<<e,t>,t> and '⟦[[saw] [[poss] [[mother] him]]]⟧ = (λ x_e: (λ y_e: Saw_<(e,e),t>(y_e, (ι x1_e: Mother_<(e,e),t>(x1_e, x_e)))))'/<e,<e,t>> conflict (mode: Function Application), ⟦[[[saw] [[poss] [[mother] him]]] [every man]]⟧ = Type mismatch: '⟦[[saw] [[poss] [[mother] him]]]⟧ = (λ x_e: (λ y_e: Saw_<(e,e),t>(y_e, (ι x1_e: Mother_<(e,e),t>(x1_e, x_e)))))'/<e,<e,t>> and '⟦[every man]⟧ = (λ g_<e,t>: (Forall x_e: (Man_<e,t>(x_e) >> g_<e,t>(x_e))))'/<<e,t>,t> conflict (mode: Function Application), ⟦[[every man] [[saw] [[poss] [[mother] him]]]]⟧ = Type mismatch: '⟦[every man]⟧ = (λ g_<e,t>: (Forall x_e: (Man_<e,t>(x_e) >> g_<e,t>(x_e))))'/<<e,t>,t> and '⟦[[saw] [[poss] [[mother] him]]]⟧ = (λ x_e: (λ y_e: Saw_<(e,e),t>(y_e, (ι x1_e: Mother_<(e,e),t>(x1_e, x_e)))))'/<e,<e,t>> conflict (mode: Predicate Modification), ⟦[[every man] [[saw] [[poss] [[mother] him]]]]⟧ = Type mismatch: '⟦[every man]⟧ = (λ g_<e,t>: (Forall x_e: (Man_<e,t>(x_e) >> g_<e,t>(x_e))))'/<<e,t>,t> and '⟦[[saw] [[poss] [[mother] him]]]⟧ = (λ x_e: (λ y_e: Saw_<(e,e),t>(y_e, (ι x1_e: Mother_<(e,e),t>(x1_e, x_e)))))'/<e,<e,t>> conflict (mode: Predicate Abstraction), ⟦[[[saw] [[poss] [[mother] him]]] [every man]]⟧ = Type mismatch: '⟦[[saw] [[poss] [[mother] him]]]⟧ = (λ x_e: (λ y_e: Saw_<(e,e),t>(y_e, (ι x1_e: Mother_<(e,e),t>(x1_e, x_e)))))'/<e,<e,t>> and '⟦[every man]⟧ = (λ g_<e,t>: (Forall x_e: (Man_<e,t>(x_e) >> g_<e,t>(x_e))))'/<<e,t>,t> conflict (mode: Predicate Abstraction), ⟦[[[saw] [[poss] [[mother] him]]] [every man]]⟧ = Type mismatch: '⟦[[saw] [[poss] [[mother] him]]]⟧ = (λ x_e: Saw_<(e,e),t>(x_e, (ι x1_e: Mother_<(e,e),t>(x1_e, x_e))))'/<e,t> and '⟦[every man]⟧ = (λ g_<e,t>: (Forall x_e: (Man_<e,t>(x_e) >> g_<e,t>(x_e))))'/<<e,t>,t> conflict (mode: Function Application), ⟦[[every man] [[saw] [[poss] [[mother] him]]]]⟧ = Type mismatch: '⟦[every man]⟧ = (λ g_<e,t>: (Forall x_e: (Man_<e,t>(x_e) >> g_<e,t>(x_e))))'/<<e,t>,t> and '⟦[[saw] [[poss] [[mother] him]]]⟧ = (λ x_e: Saw_<(e,e),t>(x_e, (ι x1_e: Mother_<(e,e),t>(x1_e, x_e))))'/<e,t> conflict (mode: Predicate Modification), ⟦[[every man] [[saw] [[poss] [[mother] him]]]]⟧ = Type mismatch: '⟦[every man]⟧ = (λ g_<e,t>: (Forall x_e: (Man_<e,t>(x_e) >> g_<e,t>(x_e))))'/<<e,t>,t> and '⟦[[saw] [[poss] [[mother] him]]]⟧ = (λ x_e: Saw_<(e,e),t>(x_e, (ι x1_e: Mother_<(e,e),t>(x1_e, x_e))))'/<e,t> conflict (mode: Predicate Abstraction), ⟦[[[saw] [[poss] [[mother] him]]] [every man]]⟧ = Type mismatch: '⟦[[saw] [[poss] [[mother] him]]]⟧ = (λ x_e: Saw_<(e,e),t>(x_e, (ι x1_e: Mother_<(e,e),t>(x1_e, x_e))))'/<e,t> and '⟦[every man]⟧ = (λ g_<e,t>: (Forall x_e: (Man_<e,t>(x_e) >> g_<e,t>(x_e))))'/<<e,t>,t> conflict (mode: Predicate Abstraction), ⟦[[[every man]] [[[[[[[mother] him]] poss]] saw]]]⟧ = Type mismatch: '⟦[[every man]]⟧ = (λ f_<e,<e,t>>: (λ x_e: (Forall x1_e: (Man_<e,t>(x1_e) >> f_<e,<e,t>>(x_e)(x1_e)))))'/<<e,<e,t>>,<e,t>> and '⟦[[[[[[[mother] him]] poss]] saw]]⟧ = (λ f_<e,e>: (λ x_e: (λ y_e: Mother_<(e,e),t>(y_e, (ι x1_e: Saw_<(e,e),t>(x1_e, f_<e,e>(x_e)))))))'/<<e,e>,<e,<e,t>>> conflict (mode: Function Application), ⟦[[[[[[[[mother] him]] poss]] saw]] [[every man]]]⟧ = Type mismatch: '⟦[[[[[[[mother] him]] poss]] saw]]⟧ = (λ f_<e,e>: (λ x_e: (λ y_e: Mother_<(e,e),t>(y_e, (ι x1_e: Saw_<(e,e),t>(x1_e, f_<e,e>(x_e)))))))'/<<e,e>,<e,<e,t>>> and '⟦[[every man]]⟧ = (λ f_<e,<e,t>>: (λ x_e: (Forall x1_e: (Man_<e,t>(x1_e) >> f_<e,<e,t>>(x_e)(x1_e)))))'/<<e,<e,t>>,<e,t>> conflict (mode: Function Application), ⟦[[[every man]] [[[[[[[mother] him]] poss]] saw]]]⟧ = Type mismatch: '⟦[[every man]]⟧ = (λ f_<e,<e,t>>: (λ x_e: (Forall x1_e: (Man_<e,t>(x1_e) >> f_<e,<e,t>>(x_e)(x1_e)))))'/<<e,<e,t>>,<e,t>> and '⟦[[[[[[[mother] him]] poss]] saw]]⟧ = (λ f_<e,e>: (λ x_e: (λ y_e: Mother_<(e,e),t>(y_e, (ι x1_e: Saw_<(e,e),t>(x1_e, f_<e,e>(x_e)))))))'/<<e,e>,<e,<e,t>>> conflict (mode: Predicate Modification), ⟦[[[every man]] [[[[[[[mother] him]] poss]] saw]]]⟧ = Type mismatch: '⟦[[every man]]⟧ = (λ f_<e,<e,t>>: (λ x_e: (Forall x1_e: (Man_<e,t>(x1_e) >> f_<e,<e,t>>(x_e)(x1_e)))))'/<<e,<e,t>>,<e,t>> and '⟦[[[[[[[mother] him]] poss]] saw]]⟧ = (λ f_<e,e>: (λ x_e: (λ y_e: Mother_<(e,e),t>(y_e, (ι x1_e: Saw_<(e,e),t>(x1_e, f_<e,e>(x_e)))))))'/<<e,e>,<e,<e,t>>> conflict (mode: Predicate Abstraction), ⟦[[[[[[[[mother] him]] poss]] saw]] [[every man]]]⟧ = Type mismatch: '⟦[[[[[[[mother] him]] poss]] saw]]⟧ = (λ f_<e,e>: (λ x_e: (λ y_e: Mother_<(e,e),t>(y_e, (ι x1_e: Saw_<(e,e),t>(x1_e, f_<e,e>(x_e)))))))'/<<e,e>,<e,<e,t>>> and '⟦[[every man]]⟧ = (λ f_<e,<e,t>>: (λ x_e: (Forall x1_e: (Man_<e,t>(x1_e) >> f_<e,<e,t>>(x_e)(x1_e)))))'/<<e,<e,t>>,<e,t>> conflict (mode: Predicate Abstraction), ⟦[[[every man]] [[[[[[[mother] him]] poss]] saw]]]⟧ = Type mismatch: '⟦[[every man]]⟧ = (λ f_<e,<e,t>>: (λ x_e: (Forall x1_e: (Man_<e,t>(x1_e) >> f_<e,<e,t>>(x_e)(x1_e)))))'/<<e,<e,t>>,<e,t>> and '⟦[[[[[[[mother] him]] poss]] saw]]⟧ = (λ f_<<e,t>,e>: (λ x_<e,t>: (λ y_e: Mother_<(e,e),t>(y_e, (ι x1_e: Saw_<(e,e),t>(x1_e, f_<<e,t>,e>(x_<e,t>)))))))'/<<<e,t>,e>,<<e,t>,<e,t>>> conflict (mode: Function Application), ⟦[[[[[[[[mother] him]] poss]] saw]] [[every man]]]⟧ = Type mismatch: '⟦[[[[[[[mother] him]] poss]] saw]]⟧ = (λ f_<<e,t>,e>: (λ x_<e,t>: (λ y_e: Mother_<(e,e),t>(y_e, (ι x1_e: Saw_<(e,e),t>(x1_e, f_<<e,t>,e>(x_<e,t>)))))))'/<<<e,t>,e>,<<e,t>,<e,t>>> and '⟦[[every man]]⟧ = (λ f_<e,<e,t>>: (λ x_e: (Forall x1_e: (Man_<e,t>(x1_e) >> f_<e,<e,t>>(x_e)(x1_e)))))'/<<e,<e,t>>,<e,t>> conflict (mode: Function Application), ⟦[[[every man]] [[[[[[[mother] him]] poss]] saw]]]⟧ = Type mismatch: '⟦[[every man]]⟧ = (λ f_<e,<e,t>>: (λ x_e: (Forall x1_e: (Man_<e,t>(x1_e) >> f_<e,<e,t>>(x_e)(x1_e)))))'/<<e,<e,t>>,<e,t>> and '⟦[[[[[[[mother] him]] poss]] saw]]⟧ = (λ f_<<e,t>,e>: (λ x_<e,t>: (λ y_e: Mother_<(e,e),t>(y_e, (ι x1_e: Saw_<(e,e),t>(x1_e, f_<<e,t>,e>(x_<e,t>)))))))'/<<<e,t>,e>,<<e,t>,<e,t>>> conflict (mode: Predicate Modification), ⟦[[[every man]] [[[[[[[mother] him]] poss]] saw]]]⟧ = Type mismatch: '⟦[[every man]]⟧ = (λ f_<e,<e,t>>: (λ x_e: (Forall x1_e: (Man_<e,t>(x1_e) >> f_<e,<e,t>>(x_e)(x1_e)))))'/<<e,<e,t>>,<e,t>> and '⟦[[[[[[[mother] him]] poss]] saw]]⟧ = (λ f_<<e,t>,e>: (λ x_<e,t>: (λ y_e: Mother_<(e,e),t>(y_e, (ι x1_e: Saw_<(e,e),t>(x1_e, f_<<e,t>,e>(x_<e,t>)))))))'/<<<e,t>,e>,<<e,t>,<e,t>>> conflict (mode: Predicate Abstraction), ⟦[[[[[[[[mother] him]] poss]] saw]] [[every man]]]⟧ = Type mismatch: '⟦[[[[[[[mother] him]] poss]] saw]]⟧ = (λ f_<<e,t>,e>: (λ x_<e,t>: (λ y_e: Mother_<(e,e),t>(y_e, (ι x1_e: Saw_<(e,e),t>(x1_e, f_<<e,t>,e>(x_<e,t>)))))))'/<<<e,t>,e>,<<e,t>,<e,t>>> and '⟦[[every man]]⟧ = (λ f_<e,<e,t>>: (λ x_e: (Forall x1_e: (Man_<e,t>(x1_e) >> f_<e,<e,t>>(x_e)(x1_e)))))'/<<e,<e,t>>,<e,t>> conflict (mode: Predicate Abstraction), ⟦[[[every man]] [[[[[[[mother] him]] poss]] saw]]]⟧ = Type mismatch: '⟦[[every man]]⟧ = (λ f_<e,<e,t>>: (λ x_e: (Forall x1_e: (Man_<e,t>(x1_e) >> f_<e,<e,t>>(x_e)(x1_e)))))'/<<e,<e,t>>,<e,t>> and '⟦[[[[[[[mother] him]] poss]] saw]]⟧ = (λ g_<e,e>: (λ x_e: Mother_<(e,e),t>(x_e, (ι x1_e: Saw_<(e,e),t>(x1_e, g_<e,e>(x_e))))))'/<<e,e>,<e,t>> conflict (mode: Function Application), ⟦[[[[[[[[mother] him]] poss]] saw]] [[every man]]]⟧ = Type mismatch: '⟦[[[[[[[mother] him]] poss]] saw]]⟧ = (λ g_<e,e>: (λ x_e: Mother_<(e,e),t>(x_e, (ι x1_e: Saw_<(e,e),t>(x1_e, g_<e,e>(x_e))))))'/<<e,e>,<e,t>> and '⟦[[every man]]⟧ = (λ f_<e,<e,t>>: (λ x_e: (Forall x1_e: (Man_<e,t>(x1_e) >> f_<e,<e,t>>(x_e)(x1_e)))))'/<<e,<e,t>>,<e,t>> conflict (mode: Function Application), ⟦[[[every man]] [[[[[[[mother] him]] poss]] saw]]]⟧ = Type mismatch: '⟦[[every man]]⟧ = (λ f_<e,<e,t>>: (λ x_e: (Forall x1_e: (Man_<e,t>(x1_e) >> f_<e,<e,t>>(x_e)(x1_e)))))'/<<e,<e,t>>,<e,t>> and '⟦[[[[[[[mother] him]] poss]] saw]]⟧ = (λ g_<e,e>: (λ x_e: Mother_<(e,e),t>(x_e, (ι x1_e: Saw_<(e,e),t>(x1_e, g_<e,e>(x_e))))))'/<<e,e>,<e,t>> conflict (mode: Predicate Modification), ⟦[[[every man]] [[[[[[[mother] him]] poss]] saw]]]⟧ = Type mismatch: '⟦[[every man]]⟧ = (λ f_<e,<e,t>>: (λ x_e: (Forall x1_e: (Man_<e,t>(x1_e) >> f_<e,<e,t>>(x_e)(x1_e)))))'/<<e,<e,t>>,<e,t>> and '⟦[[[[[[[mother] him]] poss]] saw]]⟧ = (λ g_<e,e>: (λ x_e: Mother_<(e,e),t>(x_e, (ι x1_e: Saw_<(e,e),t>(x1_e, g_<e,e>(x_e))))))'/<<e,e>,<e,t>> conflict (mode: Predicate Abstraction), ⟦[[[[[[[[mother] him]] poss]] saw]] [[every man]]]⟧ = Type mismatch: '⟦[[[[[[[mother] him]] poss]] saw]]⟧ = (λ g_<e,e>: (λ x_e: Mother_<(e,e),t>(x_e, (ι x1_e: Saw_<(e,e),t>(x1_e, g_<e,e>(x_e))))))'/<<e,e>,<e,t>> and '⟦[[every man]]⟧ = (λ f_<e,<e,t>>: (λ x_e: (Forall x1_e: (Man_<e,t>(x1_e) >> f_<e,<e,t>>(x_e)(x1_e)))))'/<<e,<e,t>>,<e,t>> conflict (mode: Predicate Abstraction), ⟦[[[[[[[mother] him]] poss]] saw] [[every man]]]⟧ = Type mismatch: '⟦[[[[[[mother] him]] poss]] saw]⟧ = (λ x_e: (λ y_e: Mother_<(e,e),t>(y_e, (ι x1_e: Saw_<(e,e),t>(x1_e, x_e)))))'/<e,<e,t>> and '⟦[[every man]]⟧ = (λ f_<e,<e,t>>: (λ x_e: (Forall x1_e: (Man_<e,t>(x1_e) >> f_<e,<e,t>>(x_e)(x1_e)))))'/<<e,<e,t>>,<e,t>> conflict (mode: Function Application), ⟦[[[every man]] [[[[[[mother] him]] poss]] saw]]⟧ = Type mismatch: '⟦[[every man]]⟧ = (λ f_<e,<e,t>>: (λ x_e: (Forall x1_e: (Man_<e,t>(x1_e) >> f_<e,<e,t>>(x_e)(x1_e)))))'/<<e,<e,t>>,<e,t>> and '⟦[[[[[[mother] him]] poss]] saw]⟧ = (λ x_e: (λ y_e: Mother_<(e,e),t>(y_e, (ι x1_e: Saw_<(e,e),t>(x1_e, x_e)))))'/<e,<e,t>> conflict (mode: Predicate Modification), ⟦[[[every man]] [[[[[[mother] him]] poss]] saw]]⟧ = Type mismatch: '⟦[[every man]]⟧ = (λ f_<e,<e,t>>: (λ x_e: (Forall x1_e: (Man_<e,t>(x1_e) >> f_<e,<e,t>>(x_e)(x1_e)))))'/<<e,<e,t>>,<e,t>> and '⟦[[[[[[mother] him]] poss]] saw]⟧ = (λ x_e: (λ y_e: Mother_<(e,e),t>(y_e, (ι x1_e: Saw_<(e,e),t>(x1_e, x_e)))))'/<e,<e,t>> conflict (mode: Predicate Abstraction), ⟦[[[[[[[mother] him]] poss]] saw] [[every man]]]⟧ = Type mismatch: '⟦[[[[[[mother] him]] poss]] saw]⟧ = (λ x_e: (λ y_e: Mother_<(e,e),t>(y_e, (ι x1_e: Saw_<(e,e),t>(x1_e, x_e)))))'/<e,<e,t>> and '⟦[[every man]]⟧ = (λ f_<e,<e,t>>: (λ x_e: (Forall x1_e: (Man_<e,t>(x1_e) >> f_<e,<e,t>>(x_e)(x1_e)))))'/<<e,<e,t>>,<e,t>> conflict (mode: Predicate Abstraction), ⟦[[[every man]] [[[[[[[mother] him]] poss]] saw]]]⟧ = Type mismatch: '⟦[[every man]]⟧ = (λ f_<<e,t>,<e,t>>: (λ x_<e,t>: (Forall x1_e: (Man_<e,t>(x1_e) >> f_<<e,t>,<e,t>>(x_<e,t>)(x1_e)))))'/<<<e,t>,<e,t>>,<<e,t>,t>> and '⟦[[[[[[[mother] him]] poss]] saw]]⟧ = (λ f_<e,e>: (λ x_e: (λ y_e: Mother_<(e,e),t>(y_e, (ι x1_e: Saw_<(e,e),t>(x1_e, f_<e,e>(x_e)))))))'/<<e,e>,<e,<e,t>>> conflict (mode: Function Application), ⟦[[[[[[[[mother] him]] poss]] saw]] [[every man]]]⟧ = Type mismatch: '⟦[[[[[[[mother] him]] poss]] saw]]⟧ = (λ f_<e,e>: (λ x_e: (λ y_e: Mother_<(e,e),t>(y_e, (ι x1_e: Saw_<(e,e),t>(x1_e, f_<e,e>(x_e)))))))'/<<e,e>,<e,<e,t>>> and '⟦[[every man]]⟧ = (λ f_<<e,t>,<e,t>>: (λ x_<e,t>: (Forall x1_e: (Man_<e,t>(x1_e) >> f_<<e,t>,<e,t>>(x_<e,t>)(x1_e)))))'/<<<e,t>,<e,t>>,<<e,t>,t>> conflict (mode: Function Application), ⟦[[[every man]] [[[[[[[mother] him]] poss]] saw]]]⟧ = Type mismatch: '⟦[[every man]]⟧ = (λ f_<<e,t>,<e,t>>: (λ x_<e,t>: (Forall x1_e: (Man_<e,t>(x1_e) >> f_<<e,t>,<e,t>>(x_<e,t>)(x1_e)))))'/<<<e,t>,<e,t>>,<<e,t>,t>> and '⟦[[[[[[[mother] him]] poss]] saw]]⟧ = (λ f_<e,e>: (λ x_e: (λ y_e: Mother_<(e,e),t>(y_e, (ι x1_e: Saw_<(e,e),t>(x1_e, f_<e,e>(x_e)))))))'/<<e,e>,<e,<e,t>>> conflict (mode: Predicate Modification), ⟦[[[every man]] [[[[[[[mother] him]] poss]] saw]]]⟧ = Type mismatch: '⟦[[every man]]⟧ = (λ f_<<e,t>,<e,t>>: (λ x_<e,t>: (Forall x1_e: (Man_<e,t>(x1_e) >> f_<<e,t>,<e,t>>(x_<e,t>)(x1_e)))))'/<<<e,t>,<e,t>>,<<e,t>,t>> and '⟦[[[[[[[mother] him]] poss]] saw]]⟧ = (λ f_<e,e>: (λ x_e: (λ y_e: Mother_<(e,e),t>(y_e, (ι x1_e: Saw_<(e,e),t>(x1_e, f_<e,e>(x_e)))))))'/<<e,e>,<e,<e,t>>> conflict (mode: Predicate Abstraction), ⟦[[[[[[[[mother] him]] poss]] saw]] [[every man]]]⟧ = Type mismatch: '⟦[[[[[[[mother] him]] poss]] saw]]⟧ = (λ f_<e,e>: (λ x_e: (λ y_e: Mother_<(e,e),t>(y_e, (ι x1_e: Saw_<(e,e),t>(x1_e, f_<e,e>(x_e)))))))'/<<e,e>,<e,<e,t>>> and '⟦[[every man]]⟧ = (λ f_<<e,t>,<e,t>>: (λ x_<e,t>: (Forall x1_e: (Man_<e,t>(x1_e) >> f_<<e,t>,<e,t>>(x_<e,t>)(x1_e)))))'/<<<e,t>,<e,t>>,<<e,t>,t>> conflict (mode: Predicate Abstraction), ⟦[[[every man]] [[[[[[[mother] him]] poss]] saw]]]⟧ = Type mismatch: '⟦[[every man]]⟧ = (λ f_<<e,t>,<e,t>>: (λ x_<e,t>: (Forall x1_e: (Man_<e,t>(x1_e) >> f_<<e,t>,<e,t>>(x_<e,t>)(x1_e)))))'/<<<e,t>,<e,t>>,<<e,t>,t>> and '⟦[[[[[[[mother] him]] poss]] saw]]⟧ = (λ f_<<e,t>,e>: (λ x_<e,t>: (λ y_e: Mother_<(e,e),t>(y_e, (ι x1_e: Saw_<(e,e),t>(x1_e, f_<<e,t>,e>(x_<e,t>)))))))'/<<<e,t>,e>,<<e,t>,<e,t>>> conflict (mode: Function Application), ⟦[[[[[[[[mother] him]] poss]] saw]] [[every man]]]⟧ = Type mismatch: '⟦[[[[[[[mother] him]] poss]] saw]]⟧ = (λ f_<<e,t>,e>: (λ x_<e,t>: (λ y_e: Mother_<(e,e),t>(y_e, (ι x1_e: Saw_<(e,e),t>(x1_e, f_<<e,t>,e>(x_<e,t>)))))))'/<<<e,t>,e>,<<e,t>,<e,t>>> and '⟦[[every man]]⟧ = (λ f_<<e,t>,<e,t>>: (λ x_<e,t>: (Forall x1_e: (Man_<e,t>(x1_e) >> f_<<e,t>,<e,t>>(x_<e,t>)(x1_e)))))'/<<<e,t>,<e,t>>,<<e,t>,t>> conflict (mode: Function Application), ⟦[[[every man]] [[[[[[[mother] him]] poss]] saw]]]⟧ = Type mismatch: '⟦[[every man]]⟧ = (λ f_<<e,t>,<e,t>>: (λ x_<e,t>: (Forall x1_e: (Man_<e,t>(x1_e) >> f_<<e,t>,<e,t>>(x_<e,t>)(x1_e)))))'/<<<e,t>,<e,t>>,<<e,t>,t>> and '⟦[[[[[[[mother] him]] poss]] saw]]⟧ = (λ f_<<e,t>,e>: (λ x_<e,t>: (λ y_e: Mother_<(e,e),t>(y_e, (ι x1_e: Saw_<(e,e),t>(x1_e, f_<<e,t>,e>(x_<e,t>)))))))'/<<<e,t>,e>,<<e,t>,<e,t>>> conflict (mode: Predicate Modification), ⟦[[[every man]] [[[[[[[mother] him]] poss]] saw]]]⟧ = Type mismatch: '⟦[[every man]]⟧ = (λ f_<<e,t>,<e,t>>: (λ x_<e,t>: (Forall x1_e: (Man_<e,t>(x1_e) >> f_<<e,t>,<e,t>>(x_<e,t>)(x1_e)))))'/<<<e,t>,<e,t>>,<<e,t>,t>> and '⟦[[[[[[[mother] him]] poss]] saw]]⟧ = (λ f_<<e,t>,e>: (λ x_<e,t>: (λ y_e: Mother_<(e,e),t>(y_e, (ι x1_e: Saw_<(e,e),t>(x1_e, f_<<e,t>,e>(x_<e,t>)))))))'/<<<e,t>,e>,<<e,t>,<e,t>>> conflict (mode: Predicate Abstraction), ⟦[[[[[[[[mother] him]] poss]] saw]] [[every man]]]⟧ = Type mismatch: '⟦[[[[[[[mother] him]] poss]] saw]]⟧ = (λ f_<<e,t>,e>: (λ x_<e,t>: (λ y_e: Mother_<(e,e),t>(y_e, (ι x1_e: Saw_<(e,e),t>(x1_e, f_<<e,t>,e>(x_<e,t>)))))))'/<<<e,t>,e>,<<e,t>,<e,t>>> and '⟦[[every man]]⟧ = (λ f_<<e,t>,<e,t>>: (λ x_<e,t>: (Forall x1_e: (Man_<e,t>(x1_e) >> f_<<e,t>,<e,t>>(x_<e,t>)(x1_e)))))'/<<<e,t>,<e,t>>,<<e,t>,t>> conflict (mode: Predicate Abstraction), ⟦[[[every man]] [[[[[[[mother] him]] poss]] saw]]]⟧ = Type mismatch: '⟦[[every man]]⟧ = (λ f_<<e,t>,<e,t>>: (λ x_<e,t>: (Forall x1_e: (Man_<e,t>(x1_e) >> f_<<e,t>,<e,t>>(x_<e,t>)(x1_e)))))'/<<<e,t>,<e,t>>,<<e,t>,t>> and '⟦[[[[[[[mother] him]] poss]] saw]]⟧ = (λ g_<e,e>: (λ x_e: Mother_<(e,e),t>(x_e, (ι x1_e: Saw_<(e,e),t>(x1_e, g_<e,e>(x_e))))))'/<<e,e>,<e,t>> conflict (mode: Function Application), ⟦[[[[[[[[mother] him]] poss]] saw]] [[every man]]]⟧ = Type mismatch: '⟦[[[[[[[mother] him]] poss]] saw]]⟧ = (λ g_<e,e>: (λ x_e: Mother_<(e,e),t>(x_e, (ι x1_e: Saw_<(e,e),t>(x1_e, g_<e,e>(x_e))))))'/<<e,e>,<e,t>> and '⟦[[every man]]⟧ = (λ f_<<e,t>,<e,t>>: (λ x_<e,t>: (Forall x1_e: (Man_<e,t>(x1_e) >> f_<<e,t>,<e,t>>(x_<e,t>)(x1_e)))))'/<<<e,t>,<e,t>>,<<e,t>,t>> conflict (mode: Function Application), ⟦[[[every man]] [[[[[[[mother] him]] poss]] saw]]]⟧ = Type mismatch: '⟦[[every man]]⟧ = (λ f_<<e,t>,<e,t>>: (λ x_<e,t>: (Forall x1_e: (Man_<e,t>(x1_e) >> f_<<e,t>,<e,t>>(x_<e,t>)(x1_e)))))'/<<<e,t>,<e,t>>,<<e,t>,t>> and '⟦[[[[[[[mother] him]] poss]] saw]]⟧ = (λ g_<e,e>: (λ x_e: Mother_<(e,e),t>(x_e, (ι x1_e: Saw_<(e,e),t>(x1_e, g_<e,e>(x_e))))))'/<<e,e>,<e,t>> conflict (mode: Predicate Modification), ⟦[[[every man]] [[[[[[[mother] him]] poss]] saw]]]⟧ = Type mismatch: '⟦[[every man]]⟧ = (λ f_<<e,t>,<e,t>>: (λ x_<e,t>: (Forall x1_e: (Man_<e,t>(x1_e) >> f_<<e,t>,<e,t>>(x_<e,t>)(x1_e)))))'/<<<e,t>,<e,t>>,<<e,t>,t>> and '⟦[[[[[[[mother] him]] poss]] saw]]⟧ = (λ g_<e,e>: (λ x_e: Mother_<(e,e),t>(x_e, (ι x1_e: Saw_<(e,e),t>(x1_e, g_<e,e>(x_e))))))'/<<e,e>,<e,t>> conflict (mode: Predicate Abstraction), ⟦[[[[[[[[mother] him]] poss]] saw]] [[every man]]]⟧ = Type mismatch: '⟦[[[[[[[mother] him]] poss]] saw]]⟧ = (λ g_<e,e>: (λ x_e: Mother_<(e,e),t>(x_e, (ι x1_e: Saw_<(e,e),t>(x1_e, g_<e,e>(x_e))))))'/<<e,e>,<e,t>> and '⟦[[every man]]⟧ = (λ f_<<e,t>,<e,t>>: (λ x_<e,t>: (Forall x1_e: (Man_<e,t>(x1_e) >> f_<<e,t>,<e,t>>(x_<e,t>)(x1_e)))))'/<<<e,t>,<e,t>>,<<e,t>,t>> conflict (mode: Predicate Abstraction), ⟦[[[every man]] [[[[[[mother] him]] poss]] saw]]⟧ = Type mismatch: '⟦[[every man]]⟧ = (λ f_<<e,t>,<e,t>>: (λ x_<e,t>: (Forall x1_e: (Man_<e,t>(x1_e) >> f_<<e,t>,<e,t>>(x_<e,t>)(x1_e)))))'/<<<e,t>,<e,t>>,<<e,t>,t>> and '⟦[[[[[[mother] him]] poss]] saw]⟧ = (λ x_e: (λ y_e: Mother_<(e,e),t>(y_e, (ι x1_e: Saw_<(e,e),t>(x1_e, x_e)))))'/<e,<e,t>> conflict (mode: Function Application), ⟦[[[[[[[mother] him]] poss]] saw] [[every man]]]⟧ = Type mismatch: '⟦[[[[[[mother] him]] poss]] saw]⟧ = (λ x_e: (λ y_e: Mother_<(e,e),t>(y_e, (ι x1_e: Saw_<(e,e),t>(x1_e, x_e)))))'/<e,<e,t>> and '⟦[[every man]]⟧ = (λ f_<<e,t>,<e,t>>: (λ x_<e,t>: (Forall x1_e: (Man_<e,t>(x1_e) >> f_<<e,t>,<e,t>>(x_<e,t>)(x1_e)))))'/<<<e,t>,<e,t>>,<<e,t>,t>> conflict (mode: Function Application), ⟦[[[every man]] [[[[[[mother] him]] poss]] saw]]⟧ = Type mismatch: '⟦[[every man]]⟧ = (λ f_<<e,t>,<e,t>>: (λ x_<e,t>: (Forall x1_e: (Man_<e,t>(x1_e) >> f_<<e,t>,<e,t>>(x_<e,t>)(x1_e)))))'/<<<e,t>,<e,t>>,<<e,t>,t>> and '⟦[[[[[[mother] him]] poss]] saw]⟧ = (λ x_e: (λ y_e: Mother_<(e,e),t>(y_e, (ι x1_e: Saw_<(e,e),t>(x1_e, x_e)))))'/<e,<e,t>> conflict (mode: Predicate Modification), ⟦[[[every man]] [[[[[[mother] him]] poss]] saw]]⟧ = Type mismatch: '⟦[[every man]]⟧ = (λ f_<<e,t>,<e,t>>: (λ x_<e,t>: (Forall x1_e: (Man_<e,t>(x1_e) >> f_<<e,t>,<e,t>>(x_<e,t>)(x1_e)))))'/<<<e,t>,<e,t>>,<<e,t>,t>> and '⟦[[[[[[mother] him]] poss]] saw]⟧ = (λ x_e: (λ y_e: Mother_<(e,e),t>(y_e, (ι x1_e: Saw_<(e,e),t>(x1_e, x_e)))))'/<e,<e,t>> conflict (mode: Predicate Abstraction), ⟦[[[[[[[mother] him]] poss]] saw] [[every man]]]⟧ = Type mismatch: '⟦[[[[[[mother] him]] poss]] saw]⟧ = (λ x_e: (λ y_e: Mother_<(e,e),t>(y_e, (ι x1_e: Saw_<(e,e),t>(x1_e, x_e)))))'/<e,<e,t>> and '⟦[[every man]]⟧ = (λ f_<<e,t>,<e,t>>: (λ x_<e,t>: (Forall x1_e: (Man_<e,t>(x1_e) >> f_<<e,t>,<e,t>>(x_<e,t>)(x1_e)))))'/<<<e,t>,<e,t>>,<<e,t>,t>> conflict (mode: Predicate Abstraction), ⟦[[every man] [[[[[[[mother] him]] poss]] saw]]]⟧ = Type mismatch: '⟦[every man]⟧ = (λ g_<e,t>: (Forall x_e: (Man_<e,t>(x_e) >> g_<e,t>(x_e))))'/<<e,t>,t> and '⟦[[[[[[[mother] him]] poss]] saw]]⟧ = (λ f_<e,e>: (λ x_e: (λ y_e: Mother_<(e,e),t>(y_e, (ι x1_e: Saw_<(e,e),t>(x1_e, f_<e,e>(x_e)))))))'/<<e,e>,<e,<e,t>>> conflict (mode: Function Application), ⟦[[[[[[[[mother] him]] poss]] saw]] [every man]]⟧ = Type mismatch: '⟦[[[[[[[mother] him]] poss]] saw]]⟧ = (λ f_<e,e>: (λ x_e: (λ y_e: Mother_<(e,e),t>(y_e, (ι x1_e: Saw_<(e,e),t>(x1_e, f_<e,e>(x_e)))))))'/<<e,e>,<e,<e,t>>> and '⟦[every man]⟧ = (λ g_<e,t>: (Forall x_e: (Man_<e,t>(x_e) >> g_<e,t>(x_e))))'/<<e,t>,t> conflict (mode: Function Application), ⟦[[every man] [[[[[[[mother] him]] poss]] saw]]]⟧ = Type mismatch: '⟦[every man]⟧ = (λ g_<e,t>: (Forall x_e: (Man_<e,t>(x_e) >> g_<e,t>(x_e))))'/<<e,t>,t> and '⟦[[[[[[[mother] him]] poss]] saw]]⟧ = (λ f_<e,e>: (λ x_e: (λ y_e: Mother_<(e,e),t>(y_e, (ι x1_e: Saw_<(e,e),t>(x1_e, f_<e,e>(x_e)))))))'/<<e,e>,<e,<e,t>>> conflict (mode: Predicate Modification), ⟦[[every man] [[[[[[[mother] him]] poss]] saw]]]⟧ = Type mismatch: '⟦[every man]⟧ = (λ g_<e,t>: (Forall x_e: (Man_<e,t>(x_e) >> g_<e,t>(x_e))))'/<<e,t>,t> and '⟦[[[[[[[mother] him]] poss]] saw]]⟧ = (λ f_<e,e>: (λ x_e: (λ y_e: Mother_<(e,e),t>(y_e, (ι x1_e: Saw_<(e,e),t>(x1_e, f_<e,e>(x_e)))))))'/<<e,e>,<e,<e,t>>> conflict (mode: Predicate Abstraction), ⟦[[[[[[[[mother] him]] poss]] saw]] [every man]]⟧ = Type mismatch: '⟦[[[[[[[mother] him]] poss]] saw]]⟧ = (λ f_<e,e>: (λ x_e: (λ y_e: Mother_<(e,e),t>(y_e, (ι x1_e: Saw_<(e,e),t>(x1_e, f_<e,e>(x_e)))))))'/<<e,e>,<e,<e,t>>> and '⟦[every man]⟧ = (λ g_<e,t>: (Forall x_e: (Man_<e,t>(x_e) >> g_<e,t>(x_e))))'/<<e,t>,t> conflict (mode: Predicate Abstraction), ⟦[[every man] [[[[[[[mother] him]] poss]] saw]]]⟧ = Type mismatch: '⟦[every man]⟧ = (λ g_<e,t>: (Forall x_e: (Man_<e,t>(x_e) >> g_<e,t>(x_e))))'/<<e,t>,t> and '⟦[[[[[[[mother] him]] poss]] saw]]⟧ = (λ f_<<e,t>,e>: (λ x_<e,t>: (λ y_e: Mother_<(e,e),t>(y_e, (ι x1_e: Saw_<(e,e),t>(x1_e, f_<<e,t>,e>(x_<e,t>)))))))'/<<<e,t>,e>,<<e,t>,<e,t>>> conflict (mode: Function Application), ⟦[[[[[[[[mother] him]] poss]] saw]] [every man]]⟧ = Type mismatch: '⟦[[[[[[[mother] him]] poss]] saw]]⟧ = (λ f_<<e,t>,e>: (λ x_<e,t>: (λ y_e: Mother_<(e,e),t>(y_e, (ι x1_e: Saw_<(e,e),t>(x1_e, f_<<e,t>,e>(x_<e,t>)))))))'/<<<e,t>,e>,<<e,t>,<e,t>>> and '⟦[every man]⟧ = (λ g_<e,t>: (Forall x_e: (Man_<e,t>(x_e) >> g_<e,t>(x_e))))'/<<e,t>,t> conflict (mode: Function Application), ⟦[[every man] [[[[[[[mother] him]] poss]] saw]]]⟧ = Type mismatch: '⟦[every man]⟧ = (λ g_<e,t>: (Forall x_e: (Man_<e,t>(x_e) >> g_<e,t>(x_e))))'/<<e,t>,t> and '⟦[[[[[[[mother] him]] poss]] saw]]⟧ = (λ f_<<e,t>,e>: (λ x_<e,t>: (λ y_e: Mother_<(e,e),t>(y_e, (ι x1_e: Saw_<(e,e),t>(x1_e, f_<<e,t>,e>(x_<e,t>)))))))'/<<<e,t>,e>,<<e,t>,<e,t>>> conflict (mode: Predicate Modification), ⟦[[every man] [[[[[[[mother] him]] poss]] saw]]]⟧ = Type mismatch: '⟦[every man]⟧ = (λ g_<e,t>: (Forall x_e: (Man_<e,t>(x_e) >> g_<e,t>(x_e))))'/<<e,t>,t> and '⟦[[[[[[[mother] him]] poss]] saw]]⟧ = (λ f_<<e,t>,e>: (λ x_<e,t>: (λ y_e: Mother_<(e,e),t>(y_e, (ι x1_e: Saw_<(e,e),t>(x1_e, f_<<e,t>,e>(x_<e,t>)))))))'/<<<e,t>,e>,<<e,t>,<e,t>>> conflict (mode: Predicate Abstraction), ⟦[[[[[[[[mother] him]] poss]] saw]] [every man]]⟧ = Type mismatch: '⟦[[[[[[[mother] him]] poss]] saw]]⟧ = (λ f_<<e,t>,e>: (λ x_<e,t>: (λ y_e: Mother_<(e,e),t>(y_e, (ι x1_e: Saw_<(e,e),t>(x1_e, f_<<e,t>,e>(x_<e,t>)))))))'/<<<e,t>,e>,<<e,t>,<e,t>>> and '⟦[every man]⟧ = (λ g_<e,t>: (Forall x_e: (Man_<e,t>(x_e) >> g_<e,t>(x_e))))'/<<e,t>,t> conflict (mode: Predicate Abstraction), ⟦[[every man] [[[[[[[mother] him]] poss]] saw]]]⟧ = Type mismatch: '⟦[every man]⟧ = (λ g_<e,t>: (Forall x_e: (Man_<e,t>(x_e) >> g_<e,t>(x_e))))'/<<e,t>,t> and '⟦[[[[[[[mother] him]] poss]] saw]]⟧ = (λ g_<e,e>: (λ x_e: Mother_<(e,e),t>(x_e, (ι x1_e: Saw_<(e,e),t>(x1_e, g_<e,e>(x_e))))))'/<<e,e>,<e,t>> conflict (mode: Function Application), ⟦[[[[[[[[mother] him]] poss]] saw]] [every man]]⟧ = Type mismatch: '⟦[[[[[[[mother] him]] poss]] saw]]⟧ = (λ g_<e,e>: (λ x_e: Mother_<(e,e),t>(x_e, (ι x1_e: Saw_<(e,e),t>(x1_e, g_<e,e>(x_e))))))'/<<e,e>,<e,t>> and '⟦[every man]⟧ = (λ g_<e,t>: (Forall x_e: (Man_<e,t>(x_e) >> g_<e,t>(x_e))))'/<<e,t>,t> conflict (mode: Function Application), ⟦[[every man] [[[[[[[mother] him]] poss]] saw]]]⟧ = Type mismatch: '⟦[every man]⟧ = (λ g_<e,t>: (Forall x_e: (Man_<e,t>(x_e) >> g_<e,t>(x_e))))'/<<e,t>,t> and '⟦[[[[[[[mother] him]] poss]] saw]]⟧ = (λ g_<e,e>: (λ x_e: Mother_<(e,e),t>(x_e, (ι x1_e: Saw_<(e,e),t>(x1_e, g_<e,e>(x_e))))))'/<<e,e>,<e,t>> conflict (mode: Predicate Modification), ⟦[[every man] [[[[[[[mother] him]] poss]] saw]]]⟧ = Type mismatch: '⟦[every man]⟧ = (λ g_<e,t>: (Forall x_e: (Man_<e,t>(x_e) >> g_<e,t>(x_e))))'/<<e,t>,t> and '⟦[[[[[[[mother] him]] poss]] saw]]⟧ = (λ g_<e,e>: (λ x_e: Mother_<(e,e),t>(x_e, (ι x1_e: Saw_<(e,e),t>(x1_e, g_<e,e>(x_e))))))'/<<e,e>,<e,t>> conflict (mode: Predicate Abstraction), ⟦[[[[[[[[mother] him]] poss]] saw]] [every man]]⟧ = Type mismatch: '⟦[[[[[[[mother] him]] poss]] saw]]⟧ = (λ g_<e,e>: (λ x_e: Mother_<(e,e),t>(x_e, (ι x1_e: Saw_<(e,e),t>(x1_e, g_<e,e>(x_e))))))'/<<e,e>,<e,t>> and '⟦[every man]⟧ = (λ g_<e,t>: (Forall x_e: (Man_<e,t>(x_e) >> g_<e,t>(x_e))))'/<<e,t>,t> conflict (mode: Predicate Abstraction), ⟦[[every man] [[[[[[mother] him]] poss]] saw]]⟧ = Type mismatch: '⟦[every man]⟧ = (λ g_<e,t>: (Forall x_e: (Man_<e,t>(x_e) >> g_<e,t>(x_e))))'/<<e,t>,t> and '⟦[[[[[[mother] him]] poss]] saw]⟧ = (λ x_e: (λ y_e: Mother_<(e,e),t>(y_e, (ι x1_e: Saw_<(e,e),t>(x1_e, x_e)))))'/<e,<e,t>> conflict (mode: Function Application), ⟦[[[[[[[mother] him]] poss]] saw] [every man]]⟧ = Type mismatch: '⟦[[[[[[mother] him]] poss]] saw]⟧ = (λ x_e: (λ y_e: Mother_<(e,e),t>(y_e, (ι x1_e: Saw_<(e,e),t>(x1_e, x_e)))))'/<e,<e,t>> and '⟦[every man]⟧ = (λ g_<e,t>: (Forall x_e: (Man_<e,t>(x_e) >> g_<e,t>(x_e))))'/<<e,t>,t> conflict (mode: Function Application), ⟦[[every man] [[[[[[mother] him]] poss]] saw]]⟧ = Type mismatch: '⟦[every man]⟧ = (λ g_<e,t>: (Forall x_e: (Man_<e,t>(x_e) >> g_<e,t>(x_e))))'/<<e,t>,t> and '⟦[[[[[[mother] him]] poss]] saw]⟧ = (λ x_e: (λ y_e: Mother_<(e,e),t>(y_e, (ι x1_e: Saw_<(e,e),t>(x1_e, x_e)))))'/<e,<e,t>> conflict (mode: Predicate Modification), ⟦[[every man] [[[[[[mother] him]] poss]] saw]]⟧ = Type mismatch: '⟦[every man]⟧ = (λ g_<e,t>: (Forall x_e: (Man_<e,t>(x_e) >> g_<e,t>(x_e))))'/<<e,t>,t> and '⟦[[[[[[mother] him]] poss]] saw]⟧ = (λ x_e: (λ y_e: Mother_<(e,e),t>(y_e, (ι x1_e: Saw_<(e,e),t>(x1_e, x_e)))))'/<e,<e,t>> conflict (mode: Predicate Abstraction), ⟦[[[[[[[mother] him]] poss]] saw] [every man]]⟧ = Type mismatch: '⟦[[[[[[mother] him]] poss]] saw]⟧ = (λ x_e: (λ y_e: Mother_<(e,e),t>(y_e, (ι x1_e: Saw_<(e,e),t>(x1_e, x_e)))))'/<e,<e,t>> and '⟦[every man]⟧ = (λ g_<e,t>: (Forall x_e: (Man_<e,t>(x_e) >> g_<e,t>(x_e))))'/<<e,t>,t> conflict (mode: Predicate Abstraction), ⟦[[[[[[[mother] him]] poss]] saw] [every man]]⟧ = Type mismatch: '⟦[[[[[[mother] him]] poss]] saw]⟧ = (λ x_e: Mother_<(e,e),t>(x_e, (ι x1_e: Saw_<(e,e),t>(x1_e, x_e))))'/<e,t> and '⟦[every man]⟧ = (λ g_<e,t>: (Forall x_e: (Man_<e,t>(x_e) >> g_<e,t>(x_e))))'/<<e,t>,t> conflict (mode: Function Application), ⟦[[every man] [[[[[[mother] him]] poss]] saw]]⟧ = Type mismatch: '⟦[every man]⟧ = (λ g_<e,t>: (Forall x_e: (Man_<e,t>(x_e) >> g_<e,t>(x_e))))'/<<e,t>,t> and '⟦[[[[[[mother] him]] poss]] saw]⟧ = (λ x_e: Mother_<(e,e),t>(x_e, (ι x1_e: Saw_<(e,e),t>(x1_e, x_e))))'/<e,t> conflict (mode: Predicate Modification), ⟦[[every man] [[[[[[mother] him]] poss]] saw]]⟧ = Type mismatch: '⟦[every man]⟧ = (λ g_<e,t>: (Forall x_e: (Man_<e,t>(x_e) >> g_<e,t>(x_e))))'/<<e,t>,t> and '⟦[[[[[[mother] him]] poss]] saw]⟧ = (λ x_e: Mother_<(e,e),t>(x_e, (ι x1_e: Saw_<(e,e),t>(x1_e, x_e))))'/<e,t> conflict (mode: Predicate Abstraction), ⟦[[[[[[[mother] him]] poss]] saw] [every man]]⟧ = Type mismatch: '⟦[[[[[[mother] him]] poss]] saw]⟧ = (λ x_e: Mother_<(e,e),t>(x_e, (ι x1_e: Saw_<(e,e),t>(x1_e, x_e))))'/<e,t> and '⟦[every man]⟧ = (λ g_<e,t>: (Forall x_e: (Man_<e,t>(x_e) >> g_<e,t>(x_e))))'/<<e,t>,t> conflict (mode: Predicate Abstraction), ⟦[[saw [poss [[mother] him]]] [every man]]⟧ = Type mismatch: '⟦[saw [poss [[mother] him]]]⟧ = (λ y_e: Saw_<(e,e),t>(y_e, (ι x_e: Mother_<(e,e),t>(x_e, x_e))))'/<e,t> and '⟦[every man]⟧ = (λ g_<e,t>: (Forall x_e: (Man_<e,t>(x_e) >> g_<e,t>(x_e))))'/<<e,t>,t> conflict (mode: Function Application), ⟦[[every man] [saw [poss [[mother] him]]]]⟧ = Type mismatch: '⟦[every man]⟧ = (λ g_<e,t>: (Forall x_e: (Man_<e,t>(x_e) >> g_<e,t>(x_e))))'/<<e,t>,t> and '⟦[saw [poss [[mother] him]]]⟧ = (λ y_e: Saw_<(e,e),t>(y_e, (ι x_e: Mother_<(e,e),t>(x_e, x_e))))'/<e,t> conflict (mode: Predicate Modification), ⟦[[every man] [saw [poss [[mother] him]]]]⟧ = Type mismatch: '⟦[every man]⟧ = (λ g_<e,t>: (Forall x_e: (Man_<e,t>(x_e) >> g_<e,t>(x_e))))'/<<e,t>,t> and '⟦[saw [poss [[mother] him]]]⟧ = (λ y_e: Saw_<(e,e),t>(y_e, (ι x_e: Mother_<(e,e),t>(x_e, x_e))))'/<e,t> conflict (mode: Predicate Abstraction), ⟦[[saw [poss [[mother] him]]] [every man]]⟧ = Type mismatch: '⟦[saw [poss [[mother] him]]]⟧ = (λ y_e: Saw_<(e,e),t>(y_e, (ι x_e: Mother_<(e,e),t>(x_e, x_e))))'/<e,t> and '⟦[every man]⟧ = (λ g_<e,t>: (Forall x_e: (Man_<e,t>(x_e) >> g_<e,t>(x_e))))'/<<e,t>,t> conflict (mode: Predicate Abstraction)])"
      ]
     },
     "execution_count": 44,
     "metadata": {},
     "output_type": "execute_result"
    }
   ],
   "source": [
    "%prun -s cumulative result = (dp * (saw * (poss * (mother * him))))\n",
    "result"
   ]
  },
  {
   "cell_type": "code",
   "execution_count": 43,
   "metadata": {
    "collapsed": false
   },
   "outputs": [
    {
     "name": "stdout",
     "output_type": "stream",
     "text": [
      "Type-shifting: found 2 new items to try: [CompositionResult(results=[⟦[mother]⟧ = (λ f_<e,e>: (λ x_e: (λ y_e: Mother_<(e,e),t>(y_e, f_<e,e>(x_e))))), ⟦[mother]⟧ = (λ f_<<e,t>,e>: (λ x_<e,t>: (λ y_e: Mother_<(e,e),t>(y_e, f_<<e,t>,e>(x_<e,t>))))), ⟦[mother]⟧ = (λ g_<e,e>: (λ x_e: Mother_<(e,e),t>(x_e, g_<e,e>(x_e)))), ⟦mother⟧ = (λ x_e: (λ y_e: Mother_<(e,e),t>(y_e, x_e)))], failures=[]), CompositionResult(results=[⟦[him]⟧ = (λ f_<e,e>: (λ x_e: f_<e,e>(x_e))), ⟦[him]⟧ = (λ f_<<e,t>,e>: (λ x_<e,t>: f_<<e,t>,e>(x_<e,t>))), ⟦him⟧ = (λ x_e: x_e)], failures=[])]\n",
      " "
     ]
    }
   ],
   "source": [
    "%prun -s cumtime (mother * him)"
   ]
  },
  {
   "cell_type": "code",
   "execution_count": null,
   "metadata": {
    "collapsed": false
   },
   "outputs": [],
   "source": []
  },
  {
   "cell_type": "markdown",
   "metadata": {},
   "source": [
    "This account generates 3 readings, 2 of them redundant (but generated via different sequences of typeshifts).  (*note, numbers may not be stable across ILNB version changes*) \n",
    "\n",
    " * `result[1]` and `result[3]` are the (same) bound variable reading that is exactly what we are looking for.\n",
    " * `result[0]` and `result[2]` are the (same) free reading that we also want.\n",
    " * `result[4]` is an overgenerated, and pathological, reflexive reading where `x1` is `x1`'s own mother.  (*TODO: treatment of possessive is slightly different than Jacobson's...*)"
   ]
  },
  {
   "cell_type": "code",
   "execution_count": 37,
   "metadata": {
    "collapsed": false
   },
   "outputs": [
    {
     "data": {
      "text/latex": [
       "<table><tr style=\"border:1px solid #848482\"><td style=\"vertical-align:bottom;padding:0px 10px\" align=\"center\"><table><tr><td style=\"vertical-align:bottom;padding:5px\"><table><tr style=\"border:1px solid #848482\"><td style=\"vertical-align:bottom;padding:0px 10px\" align=\"center\"><table><tr><td style=\"vertical-align:bottom;padding:5px\"><div style=\"margin-top:10px;border-style:solid;border-color:#848482;border-width:0px\"><div style=\"vertical-align:bottom;text-align:center\">$[\\![\\mathbf{\\text{every}}]\\!]^{}_{\\langle{}\\langle{}e,t\\rangle{},\\langle{}\\langle{}e,t\\rangle{},t\\rangle{}\\rangle{}}$</div><div style=\"vertical-align:bottom;text-align:center\">$\\lambda{} f_{\\langle{}e,t\\rangle{}} \\: . \\: \\lambda{} g_{\\langle{}e,t\\rangle{}} \\: . \\: \\forall{} x_{e} \\: . \\: ({f}_{\\langle{}e,t\\rangle{}}({x}_{e}) \\rightarrow{} {g}_{\\langle{}e,t\\rangle{}}({x}_{e}))$</div></div></td><td style=\"vertical-align:bottom;padding:10px\">$\\circ$</td><td style=\"vertical-align:bottom;padding:5px\"><div style=\"margin-top:10px;border-style:solid;border-color:#848482;border-width:0px\"><div style=\"vertical-align:bottom;text-align:center\">$[\\![\\mathbf{\\text{man}}]\\!]^{}_{\\langle{}e,t\\rangle{}}$</div><div style=\"vertical-align:bottom;text-align:center\">$\\lambda{} x_{e} \\: . \\: {Man}({x}_{e})$</div></div></td></tr></table></td><td style=\"border-left:1px solid #848482;vertical-align:center;padding:10px\"><span style=\"color:blue\"><b>[FA]</b></span></td></tr><tr style=\"border-style:solid;border-color:#848482;border-width:0px 1px 1px 1px\"><td style=\"padding:5px\" align=\"center\"><div style=\"margin-top:10px;border-style:solid;border-color:#848482;border-width:0px\"><div style=\"vertical-align:bottom;text-align:center\">$[\\![\\mathbf{\\text{[every man]}}]\\!]^{}_{\\langle{}\\langle{}e,t\\rangle{},t\\rangle{}}$</div><div style=\"vertical-align:bottom;text-align:center\">$\\lambda{} g_{\\langle{}e,t\\rangle{}} \\: . \\: \\forall{} x_{e} \\: . \\: ({Man}({x}_{e}) \\rightarrow{} {g}_{\\langle{}e,t\\rangle{}}({x}_{e}))$</div></div></td><td></td></tr></table></td><td style=\"vertical-align:bottom;padding:10px\">$\\circ$</td><td style=\"vertical-align:bottom;padding:5px\"><table><tr style=\"border:1px solid #848482\"><td style=\"vertical-align:bottom;padding:0px 10px\" align=\"center\"><table><tr><td style=\"vertical-align:bottom;padding:5px\"><table><tr style=\"border:1px solid #848482\"><td style=\"vertical-align:bottom;padding:0px 10px\" align=\"center\"><table><tr><td style=\"vertical-align:bottom;padding:5px\"><div style=\"margin-top:10px;border-style:solid;border-color:#848482;border-width:0px\"><div style=\"vertical-align:bottom;text-align:center\">$[\\![\\mathbf{\\text{saw}}]\\!]^{}_{\\langle{}e,\\langle{}e,t\\rangle{}\\rangle{}}$</div><div style=\"vertical-align:bottom;text-align:center\">$\\lambda{} x_{e} \\: . \\: \\lambda{} y_{e} \\: . \\: {Saw}({y}_{e}, {x}_{e})$</div></div></td></tr></table></td><td style=\"border-left:1px solid #848482;vertical-align:center;padding:10px\"><span style=\"color:blue\"><b>[z-shift]</b></span></td></tr><tr style=\"border-style:solid;border-color:#848482;border-width:0px 1px 1px 1px\"><td style=\"padding:5px\" align=\"center\"><div style=\"margin-top:10px;border-style:solid;border-color:#848482;border-width:0px\"><div style=\"vertical-align:bottom;text-align:center\">$[\\![\\mathbf{\\text{[saw]}}]\\!]^{}_{\\langle{}\\langle{}e,e\\rangle{},\\langle{}e,t\\rangle{}\\rangle{}}$</div><div style=\"vertical-align:bottom;text-align:center\">$\\lambda{} g_{\\langle{}e,e\\rangle{}} \\: . \\: \\lambda{} x_{e} \\: . \\: {Saw}({x}_{e}, {g}_{\\langle{}e,e\\rangle{}}({x}_{e}))$</div></div></td><td></td></tr></table></td><td style=\"vertical-align:bottom;padding:10px\">$\\circ$</td><td style=\"vertical-align:bottom;padding:5px\"><table><tr style=\"border:1px solid #848482\"><td style=\"vertical-align:bottom;padding:0px 10px\" align=\"center\"><table><tr><td style=\"vertical-align:bottom;padding:5px\"><table><tr style=\"border:1px solid #848482\"><td style=\"vertical-align:bottom;padding:0px 10px\" align=\"center\"><table><tr><td style=\"vertical-align:bottom;padding:5px\"><div style=\"margin-top:10px;border-style:solid;border-color:#848482;border-width:0px\"><div style=\"vertical-align:bottom;text-align:center\">$[\\![\\mathbf{\\text{poss}}]\\!]^{}_{\\langle{}\\langle{}e,t\\rangle{},e\\rangle{}}$</div><div style=\"vertical-align:bottom;text-align:center\">$\\lambda{} f_{\\langle{}e,t\\rangle{}} \\: . \\: \\iota{} x_{e} \\: . \\: {f}_{\\langle{}e,t\\rangle{}}({x}_{e})$</div></div></td></tr></table></td><td style=\"border-left:1px solid #848482;vertical-align:center;padding:10px\"><span style=\"color:blue\"><b>[g_e-shift]</b></span></td></tr><tr style=\"border-style:solid;border-color:#848482;border-width:0px 1px 1px 1px\"><td style=\"padding:5px\" align=\"center\"><div style=\"margin-top:10px;border-style:solid;border-color:#848482;border-width:0px\"><div style=\"vertical-align:bottom;text-align:center\">$[\\![\\mathbf{\\text{[poss]}}]\\!]^{}_{\\langle{}\\langle{}e,\\langle{}e,t\\rangle{}\\rangle{},\\langle{}e,e\\rangle{}\\rangle{}}$</div><div style=\"vertical-align:bottom;text-align:center\">$\\lambda{} f_{\\langle{}e,\\langle{}e,t\\rangle{}\\rangle{}} \\: . \\: \\lambda{} x_{e} \\: . \\: \\iota{} x1_{e} \\: . \\: {f}_{\\langle{}e,\\langle{}e,t\\rangle{}\\rangle{}}({x}_{e})({x1}_{e})$</div></div></td><td></td></tr></table></td><td style=\"vertical-align:bottom;padding:10px\">$\\circ$</td><td style=\"vertical-align:bottom;padding:5px\"><table><tr style=\"border:1px solid #848482\"><td style=\"vertical-align:bottom;padding:0px 10px\" align=\"center\"><table><tr><td style=\"vertical-align:bottom;padding:5px\"><table><tr style=\"border:1px solid #848482\"><td style=\"vertical-align:bottom;padding:0px 10px\" align=\"center\"><table><tr><td style=\"vertical-align:bottom;padding:5px\"><div style=\"margin-top:10px;border-style:solid;border-color:#848482;border-width:0px\"><div style=\"vertical-align:bottom;text-align:center\">$[\\![\\mathbf{\\text{mother}}]\\!]^{}_{\\langle{}e,\\langle{}e,t\\rangle{}\\rangle{}}$</div><div style=\"vertical-align:bottom;text-align:center\">$\\lambda{} x_{e} \\: . \\: \\lambda{} y_{e} \\: . \\: {Mother}({y}_{e}, {x}_{e})$</div></div></td></tr></table></td><td style=\"border-left:1px solid #848482;vertical-align:center;padding:10px\"><span style=\"color:blue\"><b>[g_e-shift]</b></span></td></tr><tr style=\"border-style:solid;border-color:#848482;border-width:0px 1px 1px 1px\"><td style=\"padding:5px\" align=\"center\"><div style=\"margin-top:10px;border-style:solid;border-color:#848482;border-width:0px\"><div style=\"vertical-align:bottom;text-align:center\">$[\\![\\mathbf{\\text{[mother]}}]\\!]^{}_{\\langle{}\\langle{}e,e\\rangle{},\\langle{}e,\\langle{}e,t\\rangle{}\\rangle{}\\rangle{}}$</div><div style=\"vertical-align:bottom;text-align:center\">$\\lambda{} f_{\\langle{}e,e\\rangle{}} \\: . \\: \\lambda{} x_{e} \\: . \\: \\lambda{} y_{e} \\: . \\: {Mother}({y}_{e}, {f}_{\\langle{}e,e\\rangle{}}({x}_{e}))$</div></div></td><td></td></tr></table></td><td style=\"vertical-align:bottom;padding:10px\">$\\circ$</td><td style=\"vertical-align:bottom;padding:5px\"><div style=\"margin-top:10px;border-style:solid;border-color:#848482;border-width:0px\"><div style=\"vertical-align:bottom;text-align:center\">$[\\![\\mathbf{\\text{him}}]\\!]^{}_{\\langle{}e,e\\rangle{}}$</div><div style=\"vertical-align:bottom;text-align:center\">$\\lambda{} x_{e} \\: . \\: {x}_{e}$</div></div></td></tr></table></td><td style=\"border-left:1px solid #848482;vertical-align:center;padding:10px\"><span style=\"color:blue\"><b>[FA]</b></span></td></tr><tr style=\"border-style:solid;border-color:#848482;border-width:0px 1px 1px 1px\"><td style=\"padding:5px\" align=\"center\"><div style=\"margin-top:10px;border-style:solid;border-color:#848482;border-width:0px\"><div style=\"vertical-align:bottom;text-align:center\">$[\\![\\mathbf{\\text{[[mother] him]}}]\\!]^{}_{\\langle{}e,\\langle{}e,t\\rangle{}\\rangle{}}$</div><div style=\"vertical-align:bottom;text-align:center\">$\\lambda{} x_{e} \\: . \\: \\lambda{} y_{e} \\: . \\: {Mother}({y}_{e}, {x}_{e})$</div></div></td><td></td></tr></table></td></tr></table></td><td style=\"border-left:1px solid #848482;vertical-align:center;padding:10px\"><span style=\"color:blue\"><b>[FA]</b></span></td></tr><tr style=\"border-style:solid;border-color:#848482;border-width:0px 1px 1px 1px\"><td style=\"padding:5px\" align=\"center\"><div style=\"margin-top:10px;border-style:solid;border-color:#848482;border-width:0px\"><div style=\"vertical-align:bottom;text-align:center\">$[\\![\\mathbf{\\text{[[poss] [[mother] him]]}}]\\!]^{}_{\\langle{}e,e\\rangle{}}$</div><div style=\"vertical-align:bottom;text-align:center\">$\\lambda{} x_{e} \\: . \\: \\iota{} x1_{e} \\: . \\: {Mother}({x1}_{e}, {x}_{e})$</div></div></td><td></td></tr></table></td></tr></table></td><td style=\"border-left:1px solid #848482;vertical-align:center;padding:10px\"><span style=\"color:blue\"><b>[FA]</b></span></td></tr><tr style=\"border-style:solid;border-color:#848482;border-width:0px 1px 1px 1px\"><td style=\"padding:5px\" align=\"center\"><div style=\"margin-top:10px;border-style:solid;border-color:#848482;border-width:0px\"><div style=\"vertical-align:bottom;text-align:center\">$[\\![\\mathbf{\\text{[[saw] [[poss] [[mother] him]]]}}]\\!]^{}_{\\langle{}e,t\\rangle{}}$</div><div style=\"vertical-align:bottom;text-align:center\">$\\lambda{} x_{e} \\: . \\: {Saw}({x}_{e}, \\iota{} x1_{e} \\: . \\: {Mother}({x1}_{e}, {x}_{e}))$</div></div></td><td></td></tr></table></td></tr></table></td><td style=\"border-left:1px solid #848482;vertical-align:center;padding:10px\"><span style=\"color:blue\"><b>[FA]</b></span></td></tr><tr style=\"border-style:solid;border-color:#848482;border-width:0px 1px 1px 1px\"><td style=\"padding:5px\" align=\"center\"><div style=\"margin-top:10px;border-style:solid;border-color:#848482;border-width:0px\"><div style=\"vertical-align:bottom;text-align:center\">$[\\![\\mathbf{\\text{[[every man] [[saw] [[poss] [[mother] him]]]]}}]\\!]^{}_{t}$</div><div style=\"vertical-align:bottom;text-align:center\">$\\forall{} x_{e} \\: . \\: ({Man}({x}_{e}) \\rightarrow{} {Saw}({x}_{e}, \\iota{} x1_{e} \\: . \\: {Mother}({x1}_{e}, {x}_{e})))$</div></div></td><td></td></tr></table>"
      ],
      "text/plain": [
       "<lamb.display.RecursiveDerivationDisplay at 0x112433450>"
      ]
     },
     "execution_count": 37,
     "metadata": {},
     "output_type": "execute_result"
    }
   ],
   "source": [
    "result[1].tree()"
   ]
  },
  {
   "cell_type": "code",
   "execution_count": 38,
   "metadata": {
    "collapsed": false
   },
   "outputs": [
    {
     "data": {
      "text/latex": [
       "Composition system 'H&K simple (copy)'<br />Operations: {<br />&nbsp;&nbsp;&nbsp;&nbsp;Binary composition rule <i>FA</i>, built on python function 'lamb.lang.fa_fun'<br />&nbsp;&nbsp;&nbsp;&nbsp;Binary composition rule <i>PM</i>, built on python function 'lamb.lang.pm_fun'<br />&nbsp;&nbsp;&nbsp;&nbsp;Binary composition rule <i>PA</i>, built on python function 'lamb.lang.pa_fun'<br />&nbsp;&nbsp;&nbsp;&nbsp;Unary composition rule <i>lift_t-shift</i>, built on combinator '$\\lambda{} f_{X} \\: . \\: \\lambda{} g_{\\langle{}X,t\\rangle{}} \\: . \\: {g}_{\\langle{}X,t\\rangle{}}({f}_{X})$'<br />&nbsp;&nbsp;&nbsp;&nbsp;Typeshift <i>g_e-shift</i>, built on combinator '$\\lambda{} g_{\\langle{}?,Z\\rangle{}} \\: . \\: \\lambda{} f_{\\langle{}e,?\\rangle{}} \\: . \\: \\lambda{} x_{e} \\: . \\: {g}_{\\langle{}?,Z\\rangle{}}({f}_{\\langle{}e,?\\rangle{}}({x}_{e}))$'<br />&nbsp;&nbsp;&nbsp;&nbsp;Typeshift <i>g_et-shift</i>, built on combinator '$\\lambda{} g_{\\langle{}?,Z\\rangle{}} \\: . \\: \\lambda{} f_{\\langle{}\\langle{}e,t\\rangle{},?\\rangle{}} \\: . \\: \\lambda{} x_{\\langle{}e,t\\rangle{}} \\: . \\: {g}_{\\langle{}?,Z\\rangle{}}({f}_{\\langle{}\\langle{}e,t\\rangle{},?\\rangle{}}({x}_{\\langle{}e,t\\rangle{}}))$'<br />&nbsp;&nbsp;&nbsp;&nbsp;Typeshift <i>z-shift</i>, built on combinator '$\\lambda{} f_{\\langle{}X,\\langle{}e,Z\\rangle{}\\rangle{}} \\: . \\: \\lambda{} g_{\\langle{}e,X\\rangle{}} \\: . \\: \\lambda{} x_{e} \\: . \\: {f}_{\\langle{}X,\\langle{}e,Z\\rangle{}\\rangle{}}({g}_{\\langle{}e,X\\rangle{}}({x}_{e}))({x}_{e})$'<br />}"
      ],
      "text/plain": [
       "Composition system: H&K simple (copy)"
      ]
     },
     "execution_count": 38,
     "metadata": {},
     "output_type": "execute_result"
    }
   ],
   "source": [
    "system"
   ]
  },
  {
   "cell_type": "code",
   "execution_count": 39,
   "metadata": {
    "collapsed": false
   },
   "outputs": [
    {
     "data": {
      "text/plain": [
       "<function lamb.lang.unary_factory.<locals>.op_fun>"
      ]
     },
     "execution_count": 39,
     "metadata": {},
     "output_type": "execute_result"
    }
   ],
   "source": [
    "system.rules[5].operation"
   ]
  },
  {
   "cell_type": "code",
   "execution_count": 40,
   "metadata": {
    "collapsed": false
   },
   "outputs": [
    {
     "data": {
      "text/plain": [
       "{<<<e,t>,t>,<<e,<e,t>>,<e,t>>>: (λ g_<<e,t>,t>: (λ f_<e,<e,t>>: (λ x_e: g_<<e,t>,t>(f_<e,<e,t>>(x_e))))),\n",
       " <<e,<e,t>>,<<e,e>,<e,<e,t>>>>: (λ g_<e,<e,t>>: (λ f_<e,e>: (λ x_e: g_<e,<e,t>>(f_<e,e>(x_e))))),\n",
       " <<<e,t>,<e,t>>,<<e,<e,t>>,<e,<e,t>>>>: (λ g_<<e,t>,<e,t>>: (λ f_<e,<e,t>>: (λ x_e: g_<<e,t>,<e,t>>(f_<e,<e,t>>(x_e))))),\n",
       " <<e,e>,<<e,e>,<e,e>>>: (λ g_<e,e>: (λ f_<e,e>: (λ x_e: g_<e,e>(f_<e,e>(x_e))))),\n",
       " <<<e,t>,e>,<<e,<e,t>>,<e,e>>>: (λ g_<<e,t>,e>: (λ f_<e,<e,t>>: (λ x_e: g_<<e,t>,e>(f_<e,<e,t>>(x_e)))))}"
      ]
     },
     "execution_count": 40,
     "metadata": {},
     "output_type": "execute_result"
    }
   ],
   "source": [
    "g_e_combinator._type_adjust_cache"
   ]
  },
  {
   "cell_type": "code",
   "execution_count": 41,
   "metadata": {
    "collapsed": false
   },
   "outputs": [
    {
     "name": "stdout",
     "output_type": "stream",
     "text": [
      " "
     ]
    }
   ],
   "source": [
    "%prun geach(poss.content)"
   ]
  },
  {
   "cell_type": "code",
   "execution_count": 49,
   "metadata": {
    "collapsed": false
   },
   "outputs": [
    {
     "name": "stdout",
     "output_type": "stream",
     "text": [
      "CPU times: user 2.39 ms, sys: 32 µs, total: 2.43 ms\n",
      "Wall time: 2.42 ms\n"
     ]
    },
    {
     "data": {
      "text/latex": [
       "$\\lambda{} g_{\\langle{}\\langle{}e,t\\rangle{},t\\rangle{}} \\: . \\: {g}_{\\langle{}\\langle{}e,t\\rangle{},t\\rangle{}}(\\lambda{} x_{e} \\: . \\: {Man}({x}_{e}))$"
      ],
      "text/plain": [
       "(λ g_<<e,t>,t>: g_<<e,t>,t>((λ x_e: Man_<e,t>(x_e))))"
      ]
     },
     "execution_count": 49,
     "metadata": {},
     "output_type": "execute_result"
    }
   ],
   "source": [
    "%time lamb.combinators.lift(man.content, types.type_t)"
   ]
  },
  {
   "cell_type": "code",
   "execution_count": 55,
   "metadata": {
    "collapsed": false
   },
   "outputs": [
    {
     "name": "stdout",
     "output_type": "stream",
     "text": [
      "CPU times: user 7.06 ms, sys: 300 µs, total: 7.36 ms\n",
      "Wall time: 7.1 ms\n"
     ]
    },
    {
     "data": {
      "text/latex": [
       "$\\lambda{} g_{\\langle{}\\langle{}e,t\\rangle{},t\\rangle{}} \\: . \\: {g}_{\\langle{}\\langle{}e,t\\rangle{},t\\rangle{}}(\\lambda{} x_{e} \\: . \\: {Man}({x}_{e}))$"
      ],
      "text/plain": [
       "(λ g_<<e,t>,t>: g_<<e,t>,t>((λ x_e: Man_<e,t>(x_e))))"
      ]
     },
     "execution_count": 55,
     "metadata": {},
     "output_type": "execute_result"
    }
   ],
   "source": [
    "%time lamb.combinators.lift_combinator_t(man.content).reduce_all()"
   ]
  },
  {
   "cell_type": "code",
   "execution_count": 59,
   "metadata": {
    "collapsed": false
   },
   "outputs": [
    {
     "name": "stdout",
     "output_type": "stream",
     "text": [
      "CPU times: user 4.41 ms, sys: 135 µs, total: 4.54 ms\n",
      "Wall time: 4.48 ms\n"
     ]
    },
    {
     "data": {
      "text/latex": [
       "$\\lambda{} f_{\\langle{}e,e\\rangle{}} \\: . \\: \\lambda{} x_{e} \\: . \\: {Man}({f}_{\\langle{}e,e\\rangle{}}({x}_{e}))$"
      ],
      "text/plain": [
       "(λ f_<e,e>: (λ x_e: Man_<e,t>(f_<e,e>(x_e))))"
      ]
     },
     "execution_count": 59,
     "metadata": {},
     "output_type": "execute_result"
    }
   ],
   "source": [
    "%time combinators.build_geach_combinator(tp(\"<e,t>\"), tp(\"<e,e>\"))(man.content).reduce_all()"
   ]
  },
  {
   "cell_type": "code",
   "execution_count": 62,
   "metadata": {
    "collapsed": false
   },
   "outputs": [
    {
     "name": "stdout",
     "output_type": "stream",
     "text": [
      "CPU times: user 11 ms, sys: 370 µs, total: 11.4 ms\n",
      "Wall time: 11.1 ms\n"
     ]
    },
    {
     "data": {
      "text/latex": [
       "$[\\lambda{} g_{\\langle{}e,t\\rangle{}} \\: . \\: \\lambda{} f_{\\langle{}X,e\\rangle{}} \\: . \\: \\lambda{} x_{X} \\: . \\: {g}_{\\langle{}e,t\\rangle{}}({f}_{\\langle{}X,e\\rangle{}}({x}_{X}))](\\lambda{} x_{e} \\: . \\: {Man}({x}_{e}))$"
      ],
      "text/plain": [
       "((λ g_<e,t>: (λ f_<X,e>: (λ x_X: g_<e,t>(f_<X,e>(x_X))))))((λ x_e: Man_<e,t>(x_e)))"
      ]
     },
     "execution_count": 62,
     "metadata": {},
     "output_type": "execute_result"
    }
   ],
   "source": [
    "%time geach(man.content) #.reduce_all()"
   ]
  },
  {
   "cell_type": "code",
   "execution_count": null,
   "metadata": {
    "collapsed": true
   },
   "outputs": [],
   "source": []
  }
 ],
 "metadata": {
  "kernelspec": {
   "display_name": "Lambda Notebook (Python 3)",
   "language": "python",
   "name": "lambda-notebook"
  },
  "language_info": {
   "codemirror_mode": {
    "name": "ipython",
    "version": 3
   },
   "file_extension": ".py",
   "mimetype": "text/x-python",
   "name": "python",
   "nbconvert_exporter": "python",
   "pygments_lexer": "ipython3",
   "version": "3.3.5"
  }
 },
 "nbformat": 4,
 "nbformat_minor": 0
}
