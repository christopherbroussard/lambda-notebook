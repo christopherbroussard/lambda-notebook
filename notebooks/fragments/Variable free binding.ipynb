{
 "metadata": {
  "name": "",
  "signature": "sha256:d75090f7525de9cf865d23573e1cd5cecd019704f493564a455192400759a391"
 },
 "nbformat": 3,
 "nbformat_minor": 0,
 "worksheets": [
  {
   "cells": [
    {
     "cell_type": "code",
     "collapsed": false,
     "input": [
      "reload_lamb()"
     ],
     "language": "python",
     "metadata": {},
     "outputs": []
    },
    {
     "cell_type": "markdown",
     "metadata": {},
     "source": [
      "# Variable free binding a la Jacobson\n",
      "\n",
      "### Notebook author: Kyle Rawlins\n",
      "\n",
      "This notebook implements (a bit of) the semantic side of Jacobson's account of binding and pronouns.  In so doing, we can get a better idea of how it works, as well as what work is carried by the pure type theory, and what work is carried by the syntactic side of things.  (I don't implement the syntax here.)\n",
      "\n",
      ">Jacobson, Pauline. \"[Towards a Variable-Free Semantics](http://link.springer.com/article/10.1023%2FA%3A1005464228727)\", Linguistics and Philosophy 22, 1999. pp. 117-184.\n",
      "\n",
      "The basic idea (in the end) is that rather than representing binding via indices, we can use type-shifts to hold out an argument slot where a pronoun appeared for later saturation.  I follow the development of the proposal in the article, by first using function composition.\n",
      "\n",
      "(Warning: Because of the lack of syntax, this notebook is far from being a complete version of Jacobson's account!)"
     ]
    },
    {
     "cell_type": "markdown",
     "metadata": {},
     "source": [
      "**Step 1**: define a function composition operation on meta-language functions (LFun objects)\n",
      "\n",
      "* There are multiple ways of doing this.  I have chosen to construct a combinator of the correct type.  The function `geach_combinator` does this (see below for the output)\n",
      "* This is effectively an implementation of the geach rule."
     ]
    },
    {
     "cell_type": "code",
     "collapsed": false,
     "input": [
      "def geach_combinator(gtype, ftype):\n",
      "    body = meta.term(\"g\", gtype)(meta.term(\"f\", ftype)(meta.term(\"x\", ftype.left)))\n",
      "    combinator = meta.LFun(gtype, meta.LFun(ftype, meta.LFun(ftype.left, body,varname=\"x\"),varname=\"f\"), varname=\"g\")\n",
      "    return combinator\n",
      "\n",
      "def fc_meta(g, f):\n",
      "    if (not (g.type.functional() and f.type.functional()\n",
      "             and g.type.left == f.type.right)):\n",
      "        raise types.TypeMismatch(g, f, \"Function composition\")\n",
      "    combinator = geach_combinator(g.type, f.type)\n",
      "    result = (combinator(g)(f)).reduce_all()\n",
      "    return result"
     ],
     "language": "python",
     "metadata": {},
     "outputs": []
    },
    {
     "cell_type": "code",
     "collapsed": false,
     "input": [
      "geach_combinator(tp(\"<e,t>\"), tp(\"<e,e>\"))"
     ],
     "language": "python",
     "metadata": {},
     "outputs": []
    },
    {
     "cell_type": "code",
     "collapsed": false,
     "input": [
      "%%lamb \n",
      "f1 = L x_e : Cat(x)\n",
      "f2 = L x_e : x_e"
     ],
     "language": "python",
     "metadata": {},
     "outputs": []
    },
    {
     "cell_type": "code",
     "collapsed": false,
     "input": [
      "fc_meta(f1,f2)"
     ],
     "language": "python",
     "metadata": {},
     "outputs": []
    },
    {
     "cell_type": "code",
     "collapsed": false,
     "input": [
      "fc_meta(f1,f2).derivation"
     ],
     "language": "python",
     "metadata": {},
     "outputs": []
    },
    {
     "cell_type": "code",
     "collapsed": false,
     "input": [
      "# this trick is called \"monkey patching\".  It lets us use * for function composition in the metalanguage.\n",
      "# note that it isn't really necessary here as function composition is now implemented as a part of the built in LFun class\n",
      "\n",
      "# meta.LFun.__mul__ = fc_meta"
     ],
     "language": "python",
     "metadata": {},
     "outputs": []
    },
    {
     "cell_type": "code",
     "collapsed": false,
     "input": [
      "f1 * f2"
     ],
     "language": "python",
     "metadata": {},
     "outputs": []
    },
    {
     "cell_type": "code",
     "collapsed": false,
     "input": [
      "result = None\n",
      "try:\n",
      "    result = f2 * f1 # should generate a type mismatch\n",
      "except types.TypeMismatch as e:\n",
      "    result = e\n",
      "result"
     ],
     "language": "python",
     "metadata": {},
     "outputs": []
    },
    {
     "cell_type": "markdown",
     "metadata": {},
     "source": [
      "Add the FC rule to the composition system:"
     ]
    },
    {
     "cell_type": "code",
     "collapsed": false,
     "input": [
      "# add the FC rule to the composition system\n",
      "def fc_fun(g, f, assignment=None):\n",
      "    result = fc_meta(g.content.under_assignment(assignment), f.content.under_assignment(assignment))\n",
      "    return lang.BinaryComposite(g, f, result)\n",
      "\n",
      "system = lang.td_system.copy()\n",
      "system.add_rule(lang.BinaryCompositionOp(\"FC\", fc_fun))\n",
      "lang.set_system(system)\n",
      "system"
     ],
     "language": "python",
     "metadata": {},
     "outputs": []
    },
    {
     "cell_type": "markdown",
     "metadata": {},
     "source": [
      "**Step 2**: treat pronouns as identity functions, and allow type lifting for names.\n",
      "\n",
      "(I have simply given the regular and type-lifted version of `Mary` under different names below.)"
     ]
    },
    {
     "cell_type": "code",
     "collapsed": false,
     "input": [
      "%%lamb\n",
      "||him|| = L x_e  : x\n",
      "||mary1|| = Mary_e\n",
      "||mary2|| = L f_<e,t>: f(Mary_e)\n",
      "||saw|| = L x_e : L y_e : Saw(y,x)"
     ],
     "language": "python",
     "metadata": {},
     "outputs": []
    },
    {
     "cell_type": "code",
     "collapsed": false,
     "input": [
      "mary2 * (saw * him)"
     ],
     "language": "python",
     "metadata": {},
     "outputs": []
    },
    {
     "cell_type": "code",
     "collapsed": false,
     "input": [
      "(mary2 * (saw * him)).results[0].content.derivation"
     ],
     "language": "python",
     "metadata": {},
     "outputs": []
    },
    {
     "cell_type": "markdown",
     "metadata": {},
     "source": [
      "This seems exactly right, with the abstraction over `x` corresponding to the intuition that `him` is free in this clause.\n",
      "\n",
      "However, Jacobson points out the following problem with this account: what if the type of the name is not lifted?"
     ]
    },
    {
     "cell_type": "code",
     "collapsed": false,
     "input": [
      "mary1 * (saw * him)"
     ],
     "language": "python",
     "metadata": {},
     "outputs": []
    },
    {
     "cell_type": "markdown",
     "metadata": {},
     "source": [
      "**Step 3**: rather than using a binary operation of function composition, use a unary type-shift that directly involves the geach combinator.\n",
      "\n",
      "For a really general treatment of this we'd need a bunch more syntactic work (that Jacobson does), and a family of geach combinators.  I will just assume two geach combinators, and one lifting operation."
     ]
    },
    {
     "cell_type": "code",
     "collapsed": false,
     "input": [
      "def lift(arg, ltype):\n",
      "    larg_type = types.FunType(arg.type, ltype)\n",
      "    combinator = meta.LFun(arg.type, meta.LFun(larg_type, meta.term(\"g\", larg_type)(meta.term(\"f\", arg.type)), \"g\"), \"f\")\n",
      "    result = combinator(arg).reduce_all()\n",
      "    return result                           "
     ],
     "language": "python",
     "metadata": {},
     "outputs": []
    },
    {
     "cell_type": "code",
     "collapsed": false,
     "input": [
      "lift(mary1.content, types.type_t)"
     ],
     "language": "python",
     "metadata": {},
     "outputs": []
    },
    {
     "cell_type": "code",
     "collapsed": false,
     "input": [
      "def lift_t_shift(arg, assignment=None):\n",
      "    result = lift(arg.content.under_assignment(assignment), types.type_t)\n",
      "    return lang.UnaryComposite(arg, result)"
     ],
     "language": "python",
     "metadata": {},
     "outputs": []
    },
    {
     "cell_type": "code",
     "collapsed": false,
     "input": [
      "def geach_shift(fun, f_type_left):\n",
      "    combinator = geach_combinator(fun.type, types.FunType(f_type_left, fun.type.left))\n",
      "    return combinator(fun).reduce_all()"
     ],
     "language": "python",
     "metadata": {},
     "outputs": []
    },
    {
     "cell_type": "code",
     "collapsed": false,
     "input": [
      "geach_shift(f1, types.type_e)"
     ],
     "language": "python",
     "metadata": {},
     "outputs": []
    },
    {
     "cell_type": "code",
     "collapsed": false,
     "input": [
      "def g_e_shift(fun, assignment=None):\n",
      "    if not fun.type.functional():\n",
      "        raise types.TypeMismatch(fun, None, \"g-shift for type e\")\n",
      "    result = geach_shift(fun.content.under_assignment(assignment), types.type_e)\n",
      "    return lang.UnaryComposite(fun, result)\n",
      "\n",
      "def g_et_shift(fun, assignment=None):\n",
      "    if not fun.type.functional():\n",
      "        raise types.TypeMismatch(fun, None, \"g-shift for type <e,t>\")\n",
      "    result = geach_shift(fun.content.under_assignment(assignment), types.type_property)\n",
      "    return lang.UnaryComposite(fun, result)\n",
      "\n",
      "system = lang.td_system.copy()\n",
      "system.add_rule(lang.UnaryCompositionOp(\"g_e-shift\", g_e_shift))\n",
      "system.add_rule(lang.UnaryCompositionOp(\"g_<e,t>-shift\", g_et_shift))\n",
      "system.add_rule(lang.UnaryCompositionOp(\"lift_t-shift\", lift_t_shift))\n",
      "lang.set_system(system)\n",
      "system"
     ],
     "language": "python",
     "metadata": {},
     "outputs": []
    },
    {
     "cell_type": "markdown",
     "metadata": {},
     "source": [
      "The brute-force way to trigger a unary type-shift is to multiply it by None (`x * None`).  The following examples use that idiom to show that, with the g-shift and type-lifted DP, there is no way to get the wrong result.\n",
      "\n",
      "Though in principle the non-lifted subject can compose with the g-shifted verb, this is ruled out syntactically (not implemented here); abstracting function composition to the g-rule enables this."
     ]
    },
    {
     "cell_type": "code",
     "collapsed": false,
     "input": [
      "(((mary2 * None) * ((saw * None) * him))).reduce_all().tree()"
     ],
     "language": "python",
     "metadata": {},
     "outputs": []
    },
    {
     "cell_type": "markdown",
     "metadata": {},
     "source": [
      "To handle binding of pronouns, we add a new typeshift, the z-rule.  Again I will implement this using a combinator."
     ]
    },
    {
     "cell_type": "code",
     "collapsed": false,
     "input": [],
     "language": "python",
     "metadata": {},
     "outputs": []
    },
    {
     "cell_type": "code",
     "collapsed": false,
     "input": [
      "def z_combinator(ftype):\n",
      "    # does not check types...\n",
      "    left_type = ftype.left\n",
      "    g_type = types.FunType(types.type_e, left_type)\n",
      "    body = meta.term(\"f\", ftype)(meta.term(\"g\", g_type)(meta.term(\"x\", types.type_e)))(meta.term(\"x\", types.type_e))\n",
      "    comb = meta.LFun(ftype, meta.LFun(g_type, meta.LFun(types.type_e, body, varname=\"x\"),varname=\"g\"),varname=\"f\")\n",
      "    return comb"
     ],
     "language": "python",
     "metadata": {},
     "outputs": []
    },
    {
     "cell_type": "code",
     "collapsed": false,
     "input": [
      "z_combinator(tp(\"<e,<e,t>>\"))"
     ],
     "language": "python",
     "metadata": {},
     "outputs": []
    },
    {
     "cell_type": "code",
     "collapsed": false,
     "input": [
      "z_combinator(tp(\"<e,<e,t>>\"))(saw.content).reduce_all()"
     ],
     "language": "python",
     "metadata": {},
     "outputs": []
    },
    {
     "cell_type": "code",
     "collapsed": false,
     "input": [
      "def z_shift(fun, assignment=None):\n",
      "    if not (fun.type.functional() and fun.type.right.functional() and fun.type.right.left == types.type_e):\n",
      "        raise types.TypeMismatch(fun, None, \"z-shift\")\n",
      "    result = z_combinator(fun.type)(fun.content.under_assignment(assignment)).reduce_all()\n",
      "    return lang.UnaryComposite(fun, result)\n",
      "\n",
      "system = lang.td_system.copy()\n",
      "system.add_rule(lang.UnaryCompositionOp(\"g_e-shift\", g_e_shift, typeshift=True))\n",
      "system.add_rule(lang.UnaryCompositionOp(\"z-shift\", z_shift, typeshift=True))\n",
      "system.add_rule(lang.UnaryCompositionOp(\"g_et-shift\", g_et_shift, typeshift=True))\n",
      "system.add_rule(lang.UnaryCompositionOp(\"lift_t-shift\", lift_t_shift))\n",
      "system.typeshift=True\n",
      "lang.set_system(system)\n",
      "system\n"
     ],
     "language": "python",
     "metadata": {},
     "outputs": []
    },
    {
     "cell_type": "code",
     "collapsed": false,
     "input": [
      "r = mary2 * (saw * him)\n",
      "r.reduce_all()"
     ],
     "language": "python",
     "metadata": {},
     "outputs": []
    },
    {
     "cell_type": "markdown",
     "metadata": {},
     "source": [
      "Note that `r[1]` is effectively a reflexive reading, which is a condition B violation for the pronoun *him*.  That is, this reading is generated by having the subject bind the direct object (via the z-rule).  Nothing in the system at the moment rules this out, and so these typeshifts alone will overgenerate reflexive readings.\n",
      "\n",
      "`r[0]` is of course the reading we hoped to generate, where `him` is free."
     ]
    },
    {
     "cell_type": "code",
     "collapsed": false,
     "input": [
      "r[0].tree()"
     ],
     "language": "python",
     "metadata": {},
     "outputs": []
    },
    {
     "cell_type": "code",
     "collapsed": false,
     "input": [
      "r[1].tree()"
     ],
     "language": "python",
     "metadata": {},
     "outputs": []
    },
    {
     "cell_type": "code",
     "collapsed": false,
     "input": [],
     "language": "python",
     "metadata": {},
     "outputs": []
    },
    {
     "cell_type": "code",
     "collapsed": false,
     "input": [
      "%%lamb\n",
      "||every|| = L f_<e,t> : L g_<e,t> : Forall x_e : f(x) >> g(x)\n",
      "||man|| = L x_e : Man(x)"
     ],
     "language": "python",
     "metadata": {},
     "outputs": []
    },
    {
     "cell_type": "code",
     "collapsed": false,
     "input": [
      "dp = every * man\n",
      "dp.reduce_all()"
     ],
     "language": "python",
     "metadata": {},
     "outputs": []
    },
    {
     "cell_type": "code",
     "collapsed": false,
     "input": [
      "(dp * (saw * him)).reduce_all()"
     ],
     "language": "python",
     "metadata": {},
     "outputs": []
    },
    {
     "cell_type": "markdown",
     "metadata": {},
     "source": [
      "Once again, we overgenerate a condition B violation reading.  However, this process generates exactly the right readings for bound pronouns not in the local domain of the binder, as Jacobson shows:"
     ]
    },
    {
     "cell_type": "code",
     "collapsed": false,
     "input": [
      "%%lamb\n",
      "||poss|| = L f_<e,t> : Iota x_e : f(x) # just definite article\n",
      "||mother|| = L x_e : L y_e : Mother(y,x)"
     ],
     "language": "python",
     "metadata": {},
     "outputs": []
    },
    {
     "cell_type": "code",
     "collapsed": false,
     "input": [
      "result = (dp * (saw * (poss * (mother * him)))).reduce_all()\n",
      "result"
     ],
     "language": "python",
     "metadata": {},
     "outputs": []
    },
    {
     "cell_type": "code",
     "collapsed": false,
     "input": [],
     "language": "python",
     "metadata": {},
     "outputs": []
    },
    {
     "cell_type": "code",
     "collapsed": false,
     "input": [],
     "language": "python",
     "metadata": {},
     "outputs": []
    },
    {
     "cell_type": "markdown",
     "metadata": {},
     "source": [
      "This account generates 3 readings, 2 of them redundant (but generated via different sequences of typeshifts).  (*note, numbers may not be stable across ILNB version changes*) \n",
      "\n",
      " * `result[1]` and `result[3]` are the (same) bound variable reading that is exactly what we are looking for.\n",
      " * `result[0]` and `result[2]` are the (same) free reading that we also want.\n",
      " * `result[4]` is an overgenerated, and pathological, reflexive reading where `x1` is `x1`'s own mother.  (*TODO: treatment of possessive is slightly different than Jacobson's...*)"
     ]
    },
    {
     "cell_type": "code",
     "collapsed": false,
     "input": [
      "result[1].tree()"
     ],
     "language": "python",
     "metadata": {},
     "outputs": []
    },
    {
     "cell_type": "code",
     "collapsed": false,
     "input": [],
     "language": "python",
     "metadata": {},
     "outputs": []
    }
   ],
   "metadata": {}
  }
 ]
}