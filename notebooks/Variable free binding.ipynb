{
 "metadata": {
  "name": "",
  "signature": "sha256:813adc601f0d12b3bdb339fdb4ef200c3c9e085fcf77712f2632fbe0b7b440b9"
 },
 "nbformat": 3,
 "nbformat_minor": 0,
 "worksheets": [
  {
   "cells": [
    {
     "cell_type": "code",
     "collapsed": false,
     "input": [
      "reload_lamb()"
     ],
     "language": "python",
     "metadata": {},
     "outputs": [],
     "prompt_number": 1
    },
    {
     "cell_type": "markdown",
     "metadata": {},
     "source": [
      "# Variable free binding a la Jacobson\n",
      "\n",
      "### Notebook author: Kyle Rawlins\n",
      "\n",
      "This notebook implements (a bit of) the semantic side of Jacobson's account of binding and pronouns.  In so doing, we can get a better idea of how it works, as well as what work is carried by the pure type theory, and what work is carried by the syntactic side of things.  (I don't implement the syntax here.)\n",
      "\n",
      ">Jacobson, Pauline. \"[Towards a Variable-Free Semantics](http://link.springer.com/article/10.1023%2FA%3A1005464228727)\", Linguistics and Philosophy 22, 1999. pp. 117-184.\n",
      "\n",
      "The basic idea (in the end) is that rather than representing binding via indices, we can use type-shifts to hold out an argument slot where a pronoun appeared for later saturation.  I follow the development of the proposal in the article, by first using function composition.\n",
      "\n",
      "(Warning: Because of the lack of syntax, this notebook is far from being a complete version of Jacobson's account!)"
     ]
    },
    {
     "cell_type": "markdown",
     "metadata": {},
     "source": [
      "**Step 1**: define a function composition operation on meta-language functions (LFun objects)\n",
      "\n",
      "* There are multiple ways of doing this.  I have chosen to construct a combinator of the correct type.  The function `geach_combinator` does this (see below for the output)\n",
      "* This is effectively an implementation of the geach rule."
     ]
    },
    {
     "cell_type": "code",
     "collapsed": false,
     "input": [
      "def geach_combinator(gtype, ftype):\n",
      "    body = meta.term(\"g\", gtype)(meta.term(\"f\", ftype)(meta.term(\"x\", ftype.left)))\n",
      "    combinator = meta.LFun(gtype, meta.LFun(ftype, meta.LFun(ftype.left, body,varname=\"x\"),varname=\"f\"), varname=\"g\")\n",
      "    return combinator\n",
      "\n",
      "def fc_meta(g, f):\n",
      "    if (not (g.type.functional() and f.type.functional()\n",
      "             and g.type.left == f.type.right)):\n",
      "        raise types.TypeMismatch(g, f, \"Function composition\")\n",
      "    combinator = geach_combinator(g.type, f.type)\n",
      "    result = (combinator(g)(f)).reduce_all()\n",
      "    return result"
     ],
     "language": "python",
     "metadata": {},
     "outputs": [],
     "prompt_number": 2
    },
    {
     "cell_type": "code",
     "collapsed": false,
     "input": [
      "geach_combinator(tp(\"<e,t>\"), tp(\"<e,e>\"))"
     ],
     "language": "python",
     "metadata": {},
     "outputs": [
      {
       "latex": [
        "$\\lambda{} g_{\\langle{}e,t\\rangle{}} \\: . \\: \\lambda{} f_{\\langle{}e,e\\rangle{}} \\: . \\: \\lambda{} x_{e} \\: . \\: {g}_{\\langle{}e,t\\rangle{}}({f}_{\\langle{}e,e\\rangle{}}({x}_{e}))$"
       ],
       "metadata": {},
       "output_type": "pyout",
       "prompt_number": 3,
       "text": [
        "(\u03bb g_<e,t>: (\u03bb f_<e,e>: (\u03bb x_e: g_<e,t>(f_<e,e>(x_e)))))"
       ]
      }
     ],
     "prompt_number": 3
    },
    {
     "cell_type": "code",
     "collapsed": false,
     "input": [
      "%%lamb \n",
      "f1 = L x_e : Cat(x)\n",
      "f2 = L x_e : x_e"
     ],
     "language": "python",
     "metadata": {},
     "outputs": [
      {
       "output_type": "stream",
       "stream": "stderr",
       "text": [
        "INFO (meta): Coerced guessed type t for 'Cat_t' into <e,t>, to match argument 'x_e'\n"
       ]
      },
      {
       "latex": [
        "${f1}_{\\langle{}e,t\\rangle{}}\\:=\\:\\lambda{} x_{e} \\: . \\: {Cat}({x}_{e})$<br />\n",
        "${f2}_{\\langle{}e,e\\rangle{}}\\:=\\:\\lambda{} x_{e} \\: . \\: {x}_{e}$"
       ],
       "metadata": {},
       "output_type": "pyout",
       "prompt_number": 4,
       "text": [
        "${f1}_{\\langle{}e,t\\rangle{}}\\:=\\:\\lambda{} x_{e} \\: . \\: {Cat}({x}_{e})$<br />\n",
        "${f2}_{\\langle{}e,e\\rangle{}}\\:=\\:\\lambda{} x_{e} \\: . \\: {x}_{e}$"
       ]
      }
     ],
     "prompt_number": 4
    },
    {
     "cell_type": "code",
     "collapsed": false,
     "input": [
      "fc_meta(f1,f2)"
     ],
     "language": "python",
     "metadata": {},
     "outputs": [
      {
       "latex": [
        "$\\lambda{} x_{e} \\: . \\: {Cat}({x}_{e})$"
       ],
       "metadata": {},
       "output_type": "pyout",
       "prompt_number": 5,
       "text": [
        "(\u03bb x_e: Cat_<e,t>(x_e))"
       ]
      }
     ],
     "prompt_number": 5
    },
    {
     "cell_type": "code",
     "collapsed": false,
     "input": [
      "fc_meta(f1,f2).derivation"
     ],
     "language": "python",
     "metadata": {},
     "outputs": [
      {
       "latex": [
        "<table><tr><td style=\"padding-right:5px\"> 1. </td><td style=\"padding-right:5px\">$[\\lambda{} g_{\\langle{}e,t\\rangle{}} \\: . \\: \\lambda{} f_{\\langle{}e,e\\rangle{}} \\: . \\: \\lambda{} x_{e} \\: . \\: {g}_{\\langle{}e,t\\rangle{}}({f}_{\\langle{}e,e\\rangle{}}({x}_{e}))](\\lambda{} x_{e} \\: . \\: {Cat}({x}_{e}))(\\lambda{} x_{e} \\: . \\: {x}_{e})$</td><td style=\"padding-left:10px;border-left:1px solid #848482\"></td></tr><tr><td style=\"padding-right:5px\"> 2. </td><td style=\"padding-right:5px\">$[\\lambda{} f_{\\langle{}e,e\\rangle{}} \\: . \\: \\lambda{} x_{e} \\: . \\: {Cat}({f}_{\\langle{}e,e\\rangle{}}({x}_{e}))](\\lambda{} x_{e} \\: . \\: {x}_{e})$</td><td style=\"padding-left:10px;border-left:1px solid #848482\">Recursive reduction of op</td></tr><tr><td style=\"padding-right:5px\"> 3. </td><td style=\"padding-right:5px\">$\\lambda{} x_{e} \\: . \\: {Cat}([\\lambda{} x_{e} \\: . \\: {x}_{e}]({x}_{e}))$</td><td style=\"padding-left:10px;border-left:1px solid #848482\">F-A reduction</td></tr><tr><td style=\"padding-right:5px\"> 4. </td><td style=\"padding-right:5px\">$\\lambda{} x_{e} \\: . \\: {Cat}({x}_{e})$</td><td style=\"padding-left:10px;border-left:1px solid #848482\">Recursive reduction of body</td></tr></table>"
       ],
       "metadata": {},
       "output_type": "pyout",
       "prompt_number": 6,
       "text": [
        "<lamb.meta.Derivation at 0x103f51d90>"
       ]
      }
     ],
     "prompt_number": 6
    },
    {
     "cell_type": "code",
     "collapsed": false,
     "input": [
      "# this trick is called \"monkey patching\".  It lets us use * for function composition in the metalanguage.\n",
      "# note that it isn't really necessary here as function composition is now implemented as a part of the built in LFun class\n",
      "\n",
      "# meta.LFun.__mul__ = fc_meta"
     ],
     "language": "python",
     "metadata": {},
     "outputs": [],
     "prompt_number": 7
    },
    {
     "cell_type": "code",
     "collapsed": false,
     "input": [
      "f1 * f2"
     ],
     "language": "python",
     "metadata": {},
     "outputs": [
      {
       "latex": [
        "$\\lambda{} x_{e} \\: . \\: {Cat}({x}_{e})$"
       ],
       "metadata": {},
       "output_type": "pyout",
       "prompt_number": 8,
       "text": [
        "(\u03bb x_e: Cat_<e,t>(x_e))"
       ]
      }
     ],
     "prompt_number": 8
    },
    {
     "cell_type": "code",
     "collapsed": false,
     "input": [
      "f2 * f1 # should generate a type mismatch"
     ],
     "language": "python",
     "metadata": {},
     "outputs": [
      {
       "ename": "TypeMismatch",
       "evalue": "Type mismatch: '(\u03bb x_e: x_e)'/<e,e> and '(\u03bb x_e: Cat_<e,t>(x_e))'/<e,t> conflict (mode: Function composition)",
       "output_type": "pyerr",
       "traceback": [
        "\u001b[0;31m---------------------------------------------------------------------------\u001b[0m\n\u001b[0;31mTypeMismatch\u001b[0m                              Traceback (most recent call last)",
        "\u001b[0;32m<ipython-input-9-11b0d62d2954>\u001b[0m in \u001b[0;36m<module>\u001b[0;34m()\u001b[0m\n\u001b[0;32m----> 1\u001b[0;31m \u001b[0mf2\u001b[0m \u001b[0;34m*\u001b[0m \u001b[0mf1\u001b[0m \u001b[0;31m# should generate a type mismatch\u001b[0m\u001b[0;34m\u001b[0m\u001b[0m\n\u001b[0m",
        "\u001b[0;32m/Users/advil/repos/lambda-notebook/lamb/meta.py\u001b[0m in \u001b[0;36m__mul__\u001b[0;34m(self, other)\u001b[0m\n\u001b[1;32m   2116\u001b[0m \u001b[0;34m\u001b[0m\u001b[0m\n\u001b[1;32m   2117\u001b[0m     \u001b[0;32mdef\u001b[0m \u001b[0m__mul__\u001b[0m\u001b[0;34m(\u001b[0m\u001b[0mself\u001b[0m\u001b[0;34m,\u001b[0m \u001b[0mother\u001b[0m\u001b[0;34m)\u001b[0m\u001b[0;34m:\u001b[0m\u001b[0;34m\u001b[0m\u001b[0m\n\u001b[0;32m-> 2118\u001b[0;31m         \u001b[0;32mreturn\u001b[0m \u001b[0mself\u001b[0m\u001b[0;34m.\u001b[0m\u001b[0mcompose\u001b[0m\u001b[0;34m(\u001b[0m\u001b[0mother\u001b[0m\u001b[0;34m)\u001b[0m\u001b[0;34m\u001b[0m\u001b[0m\n\u001b[0m\u001b[1;32m   2119\u001b[0m \u001b[0;34m\u001b[0m\u001b[0m\n\u001b[1;32m   2120\u001b[0m \u001b[0;32mdef\u001b[0m \u001b[0mgeach_combinator\u001b[0m\u001b[0;34m(\u001b[0m\u001b[0mgtype\u001b[0m\u001b[0;34m,\u001b[0m \u001b[0mftype\u001b[0m\u001b[0;34m)\u001b[0m\u001b[0;34m:\u001b[0m\u001b[0;34m\u001b[0m\u001b[0m\n",
        "\u001b[0;32m/Users/advil/repos/lambda-notebook/lamb/meta.py\u001b[0m in \u001b[0;36mcompose\u001b[0;34m(self, other)\u001b[0m\n\u001b[1;32m   2113\u001b[0m \u001b[0;34m\u001b[0m\u001b[0m\n\u001b[1;32m   2114\u001b[0m     \u001b[0;32mdef\u001b[0m \u001b[0mcompose\u001b[0m\u001b[0;34m(\u001b[0m\u001b[0mself\u001b[0m\u001b[0;34m,\u001b[0m \u001b[0mother\u001b[0m\u001b[0;34m)\u001b[0m\u001b[0;34m:\u001b[0m\u001b[0;34m\u001b[0m\u001b[0m\n\u001b[0;32m-> 2115\u001b[0;31m         \u001b[0;32mreturn\u001b[0m \u001b[0mfun_compose\u001b[0m\u001b[0;34m(\u001b[0m\u001b[0mself\u001b[0m\u001b[0;34m,\u001b[0m \u001b[0mother\u001b[0m\u001b[0;34m)\u001b[0m\u001b[0;34m\u001b[0m\u001b[0m\n\u001b[0m\u001b[1;32m   2116\u001b[0m \u001b[0;34m\u001b[0m\u001b[0m\n\u001b[1;32m   2117\u001b[0m     \u001b[0;32mdef\u001b[0m \u001b[0m__mul__\u001b[0m\u001b[0;34m(\u001b[0m\u001b[0mself\u001b[0m\u001b[0;34m,\u001b[0m \u001b[0mother\u001b[0m\u001b[0;34m)\u001b[0m\u001b[0;34m:\u001b[0m\u001b[0;34m\u001b[0m\u001b[0m\n",
        "\u001b[0;32m/Users/advil/repos/lambda-notebook/lamb/meta.py\u001b[0m in \u001b[0;36mfun_compose\u001b[0;34m(g, f)\u001b[0m\n\u001b[1;32m   2126\u001b[0m     if (not (g.type.functional() and f.type.functional()\n\u001b[1;32m   2127\u001b[0m              and g.type.left == f.type.right)):\n\u001b[0;32m-> 2128\u001b[0;31m         \u001b[0;32mraise\u001b[0m \u001b[0mtypes\u001b[0m\u001b[0;34m.\u001b[0m\u001b[0mTypeMismatch\u001b[0m\u001b[0;34m(\u001b[0m\u001b[0mg\u001b[0m\u001b[0;34m,\u001b[0m \u001b[0mf\u001b[0m\u001b[0;34m,\u001b[0m \u001b[0;34m\"Function composition\"\u001b[0m\u001b[0;34m)\u001b[0m\u001b[0;34m\u001b[0m\u001b[0m\n\u001b[0m\u001b[1;32m   2129\u001b[0m     \u001b[0mcombinator\u001b[0m \u001b[0;34m=\u001b[0m \u001b[0mgeach_combinator\u001b[0m\u001b[0;34m(\u001b[0m\u001b[0mg\u001b[0m\u001b[0;34m.\u001b[0m\u001b[0mtype\u001b[0m\u001b[0;34m,\u001b[0m \u001b[0mf\u001b[0m\u001b[0;34m.\u001b[0m\u001b[0mtype\u001b[0m\u001b[0;34m)\u001b[0m\u001b[0;34m\u001b[0m\u001b[0m\n\u001b[1;32m   2130\u001b[0m     \u001b[0mresult\u001b[0m \u001b[0;34m=\u001b[0m \u001b[0;34m(\u001b[0m\u001b[0mcombinator\u001b[0m\u001b[0;34m(\u001b[0m\u001b[0mg\u001b[0m\u001b[0;34m)\u001b[0m\u001b[0;34m(\u001b[0m\u001b[0mf\u001b[0m\u001b[0;34m)\u001b[0m\u001b[0;34m)\u001b[0m\u001b[0;34m.\u001b[0m\u001b[0mreduce_all\u001b[0m\u001b[0;34m(\u001b[0m\u001b[0;34m)\u001b[0m\u001b[0;34m\u001b[0m\u001b[0m\n",
        "\u001b[0;31mTypeMismatch\u001b[0m: Type mismatch: '(\u03bb x_e: x_e)'/<e,e> and '(\u03bb x_e: Cat_<e,t>(x_e))'/<e,t> conflict (mode: Function composition)"
       ]
      }
     ],
     "prompt_number": 9
    },
    {
     "cell_type": "markdown",
     "metadata": {},
     "source": [
      "Add the FC rule to the composition system:"
     ]
    },
    {
     "cell_type": "code",
     "collapsed": false,
     "input": [
      "# add the FC rule to the composition system\n",
      "def fc_fun(g, f, assignment=None):\n",
      "    result = fc_meta(g.content.under_assignment(assignment), f.content.under_assignment(assignment))\n",
      "    return lang.BinaryComposite(g, f, result)\n",
      "\n",
      "system = lang.td_system.copy()\n",
      "system.add_rule(lang.BinaryCompositionOp(\"FC\", fc_fun))\n",
      "lang.set_system(system)\n",
      "system"
     ],
     "language": "python",
     "metadata": {},
     "outputs": [
      {
       "latex": [
        "Composition system 'H&K simple (copy)'<br />Operations: FA, PM, PA, FC"
       ],
       "metadata": {},
       "output_type": "pyout",
       "prompt_number": 11,
       "text": [
        "Composition system: H&K simple (copy)"
       ]
      }
     ],
     "prompt_number": 11
    },
    {
     "cell_type": "markdown",
     "metadata": {},
     "source": [
      "**Step 2**: treat pronouns as identity functions, and allow type lifting for names.\n",
      "\n",
      "(I have simply given the regular and type-lifted version of `Mary` under different names below.)"
     ]
    },
    {
     "cell_type": "code",
     "collapsed": false,
     "input": [
      "%%lamb\n",
      "||him|| = L x_e  : x\n",
      "||mary1|| = Mary_e\n",
      "||mary2|| = L f_<e,t>: f(Mary_e)\n",
      "||saw|| = L x_e : L y_e : Saw(y,x)"
     ],
     "language": "python",
     "metadata": {},
     "outputs": [
      {
       "output_type": "stream",
       "stream": "stderr",
       "text": [
        "INFO (meta): Coerced guessed type t for 'Saw_t' into <(e,e),t>, to match argument '(y_e, x_e)'\n"
       ]
      },
      {
       "latex": [
        "$||\\mathbf{\\text{him}}||^{}_{\\langle{}e,e\\rangle{}} \\:=\\: \\lambda{} x_{e} \\: . \\: {x}_{e}$<br />\n",
        "$||\\mathbf{\\text{mary1}}||^{}_{e} \\:=\\: {Mary}_{e}$<br />\n",
        "$||\\mathbf{\\text{mary2}}||^{}_{\\langle{}\\langle{}e,t\\rangle{},t\\rangle{}} \\:=\\: \\lambda{} f_{\\langle{}e,t\\rangle{}} \\: . \\: {f}_{\\langle{}e,t\\rangle{}}({Mary}_{e})$<br />\n",
        "$||\\mathbf{\\text{saw}}||^{}_{\\langle{}e,\\langle{}e,t\\rangle{}\\rangle{}} \\:=\\: \\lambda{} x_{e} \\: . \\: \\lambda{} y_{e} \\: . \\: {Saw}({y}_{e}, {x}_{e})$"
       ],
       "metadata": {},
       "output_type": "pyout",
       "prompt_number": 12,
       "text": [
        "$||\\mathbf{\\text{him}}||^{}_{\\langle{}e,e\\rangle{}} \\:=\\: \\lambda{} x_{e} \\: . \\: {x}_{e}$<br />\n",
        "$||\\mathbf{\\text{mary1}}||^{}_{e} \\:=\\: {Mary}_{e}$<br />\n",
        "$||\\mathbf{\\text{mary2}}||^{}_{\\langle{}\\langle{}e,t\\rangle{},t\\rangle{}} \\:=\\: \\lambda{} f_{\\langle{}e,t\\rangle{}} \\: . \\: {f}_{\\langle{}e,t\\rangle{}}({Mary}_{e})$<br />\n",
        "$||\\mathbf{\\text{saw}}||^{}_{\\langle{}e,\\langle{}e,t\\rangle{}\\rangle{}} \\:=\\: \\lambda{} x_{e} \\: . \\: \\lambda{} y_{e} \\: . \\: {Saw}({y}_{e}, {x}_{e})$"
       ]
      }
     ],
     "prompt_number": 12
    },
    {
     "cell_type": "code",
     "collapsed": false,
     "input": [
      "mary2 * (saw * him)"
     ],
     "language": "python",
     "metadata": {},
     "outputs": [
      {
       "latex": [
        "1 composition path.  Result:\n",
        "<br />&nbsp;&nbsp;&nbsp;&nbsp;[0]: $||\\mathbf{\\text{[mary2 [saw him]]}}||^{}_{\\langle{}e,t\\rangle{}} \\:=\\: $$\\lambda{} x_{e} \\: . \\: {Saw}({Mary}_{e}, {x}_{e})$"
       ],
       "metadata": {},
       "output_type": "pyout",
       "prompt_number": 13,
       "text": [
        "CompositionResult(results=[||[mary2 [saw him]]|| = (\u03bb x_e: Saw_<(e,e),t>(Mary_e, x_e))], failures=[||[mary2 [saw him]]|| = Type mismatch: '||mary2|| = (\u03bb f_<e,t>: f_<e,t>(Mary_e))'/<<e,t>,t> and '||[saw him]|| = (\u03bb x_e: (\u03bb y_e: Saw_<(e,e),t>(y_e, x_e)))'/<e,<e,t>> conflict (mode: Function Application), ||[[saw him] mary2]|| = Type mismatch: '||[saw him]|| = (\u03bb x_e: (\u03bb y_e: Saw_<(e,e),t>(y_e, x_e)))'/<e,<e,t>> and '||mary2|| = (\u03bb f_<e,t>: f_<e,t>(Mary_e))'/<<e,t>,t> conflict (mode: Function Application), ||[mary2 [saw him]]|| = Type mismatch: '||mary2|| = (\u03bb f_<e,t>: f_<e,t>(Mary_e))'/<<e,t>,t> and '||[saw him]|| = (\u03bb x_e: (\u03bb y_e: Saw_<(e,e),t>(y_e, x_e)))'/<e,<e,t>> conflict (mode: Predicate Modification), ||[mary2 [saw him]]|| = Type mismatch: '||mary2|| = (\u03bb f_<e,t>: f_<e,t>(Mary_e))'/<<e,t>,t> and '||[saw him]|| = (\u03bb x_e: (\u03bb y_e: Saw_<(e,e),t>(y_e, x_e)))'/<e,<e,t>> conflict (mode: Predicate Abstraction), ||[[saw him] mary2]|| = Type mismatch: '||[saw him]|| = (\u03bb x_e: (\u03bb y_e: Saw_<(e,e),t>(y_e, x_e)))'/<e,<e,t>> and '||mary2|| = (\u03bb f_<e,t>: f_<e,t>(Mary_e))'/<<e,t>,t> conflict (mode: Predicate Abstraction), ||[[saw him] mary2]|| = Type mismatch: '(\u03bb x_e: (\u03bb y_e: Saw_<(e,e),t>(y_e, x_e)))'/<e,<e,t>> and '(\u03bb f_<e,t>: f_<e,t>(Mary_e))'/<<e,t>,t> conflict (mode: Function composition)])"
       ]
      }
     ],
     "prompt_number": 13
    },
    {
     "cell_type": "code",
     "collapsed": false,
     "input": [
      "(mary2 * (saw * him)).results[0].content.derivation"
     ],
     "language": "python",
     "metadata": {},
     "outputs": [
      {
       "latex": [
        "<table><tr><td style=\"padding-right:5px\"> 1. </td><td style=\"padding-right:5px\">$[\\lambda{} g_{\\langle{}\\langle{}e,t\\rangle{},t\\rangle{}} \\: . \\: \\lambda{} f_{\\langle{}e,\\langle{}e,t\\rangle{}\\rangle{}} \\: . \\: \\lambda{} x_{e} \\: . \\: {g}_{\\langle{}\\langle{}e,t\\rangle{},t\\rangle{}}({f}_{\\langle{}e,\\langle{}e,t\\rangle{}\\rangle{}}({x}_{e}))](\\lambda{} f_{\\langle{}e,t\\rangle{}} \\: . \\: {f}_{\\langle{}e,t\\rangle{}}({Mary}_{e}))(\\lambda{} x_{e} \\: . \\: \\lambda{} y_{e} \\: . \\: {Saw}({y}_{e}, {x}_{e}))$</td><td style=\"padding-left:10px;border-left:1px solid #848482\"></td></tr><tr><td style=\"padding-right:5px\"> 2. </td><td style=\"padding-right:5px\">$[\\lambda{} f_{\\langle{}e,\\langle{}e,t\\rangle{}\\rangle{}} \\: . \\: \\lambda{} x_{e} \\: . \\: {f}_{\\langle{}e,\\langle{}e,t\\rangle{}\\rangle{}}({x}_{e})({Mary}_{e})](\\lambda{} x_{e} \\: . \\: \\lambda{} y_{e} \\: . \\: {Saw}({y}_{e}, {x}_{e}))$</td><td style=\"padding-left:10px;border-left:1px solid #848482\">Recursive reduction of op</td></tr><tr><td style=\"padding-right:5px\"> 3. </td><td style=\"padding-right:5px\">$\\lambda{} x_{e} \\: . \\: [\\lambda{} x_{e} \\: . \\: \\lambda{} y_{e} \\: . \\: {Saw}({y}_{e}, {x}_{e})]({x}_{e})({Mary}_{e})$</td><td style=\"padding-left:10px;border-left:1px solid #848482\">F-A reduction</td></tr><tr><td style=\"padding-right:5px\"> 4. </td><td style=\"padding-right:5px\">$\\lambda{} x_{e} \\: . \\: {Saw}({Mary}_{e}, {x}_{e})$</td><td style=\"padding-left:10px;border-left:1px solid #848482\">Recursive reduction of body</td></tr></table>"
       ],
       "metadata": {},
       "output_type": "pyout",
       "prompt_number": 14,
       "text": [
        "<lamb.meta.Derivation at 0x10405a4d0>"
       ]
      }
     ],
     "prompt_number": 14
    },
    {
     "cell_type": "markdown",
     "metadata": {},
     "source": [
      "This seems exactly right, with the abstraction over `x` corresponding to the intuition that `him` is free in this clause.\n",
      "\n",
      "However, Jacobson points out the following problem with this account: what if the type of the name is not lifted?"
     ]
    },
    {
     "cell_type": "code",
     "collapsed": false,
     "input": [
      "mary1 * (saw * him)"
     ],
     "language": "python",
     "metadata": {},
     "outputs": [
      {
       "latex": [
        "1 composition path.  Result:\n",
        "<br />&nbsp;&nbsp;&nbsp;&nbsp;[0]: $||\\mathbf{\\text{[[saw him] mary1]}}||^{}_{\\langle{}e,t\\rangle{}} \\:=\\: $$\\lambda{} y_{e} \\: . \\: {Saw}({y}_{e}, {Mary}_{e})$"
       ],
       "metadata": {},
       "output_type": "pyout",
       "prompt_number": 15,
       "text": [
        "CompositionResult(results=[||[[saw him] mary1]|| = (\u03bb y_e: Saw_<(e,e),t>(y_e, Mary_e))], failures=[||[mary1 [saw him]]|| = Type mismatch: '||mary1|| = Mary_e'/e and '||[saw him]|| = (\u03bb x_e: (\u03bb y_e: Saw_<(e,e),t>(y_e, x_e)))'/<e,<e,t>> conflict (mode: Function Application), ||[mary1 [saw him]]|| = Type mismatch: '||mary1|| = Mary_e'/e and '||[saw him]|| = (\u03bb x_e: (\u03bb y_e: Saw_<(e,e),t>(y_e, x_e)))'/<e,<e,t>> conflict (mode: Predicate Modification), ||[mary1 [saw him]]|| = Type mismatch: '||mary1|| = Mary_e'/e and '||[saw him]|| = (\u03bb x_e: (\u03bb y_e: Saw_<(e,e),t>(y_e, x_e)))'/<e,<e,t>> conflict (mode: Predicate Abstraction), ||[[saw him] mary1]|| = Type mismatch: '||[saw him]|| = (\u03bb x_e: (\u03bb y_e: Saw_<(e,e),t>(y_e, x_e)))'/<e,<e,t>> and '||mary1|| = Mary_e'/e conflict (mode: Predicate Abstraction), ||[mary1 [saw him]]|| = Type mismatch: 'Mary_e'/e and '(\u03bb x_e: (\u03bb y_e: Saw_<(e,e),t>(y_e, x_e)))'/<e,<e,t>> conflict (mode: Function composition), ||[[saw him] mary1]|| = Type mismatch: '(\u03bb x_e: (\u03bb y_e: Saw_<(e,e),t>(y_e, x_e)))'/<e,<e,t>> and 'Mary_e'/e conflict (mode: Function composition)])"
       ]
      }
     ],
     "prompt_number": 15
    },
    {
     "cell_type": "markdown",
     "metadata": {},
     "source": [
      "**Step 3**: rather than using a binary operation of function composition, use a unary type-shift that directly involves the geach combinator.\n",
      "\n",
      "For a really general treatment of this we'd need a bunch more syntactic work (that Jacobson does), and a family of geach combinators.  I will just assume two geach combinators, and one lifting operation."
     ]
    },
    {
     "cell_type": "code",
     "collapsed": false,
     "input": [
      "def lift(arg, ltype):\n",
      "    larg_type = types.FunType(arg.type, ltype)\n",
      "    combinator = meta.LFun(arg.type, meta.LFun(larg_type, meta.term(\"g\", larg_type)(meta.term(\"f\", arg.type)), \"g\"), \"f\")\n",
      "    result = combinator(arg).reduce_all()\n",
      "    return result                           "
     ],
     "language": "python",
     "metadata": {},
     "outputs": [],
     "prompt_number": 16
    },
    {
     "cell_type": "code",
     "collapsed": false,
     "input": [
      "lift(mary1.content, types.type_t)"
     ],
     "language": "python",
     "metadata": {},
     "outputs": [
      {
       "latex": [
        "$\\lambda{} g_{\\langle{}e,t\\rangle{}} \\: . \\: {g}_{\\langle{}e,t\\rangle{}}({Mary}_{e})$"
       ],
       "metadata": {},
       "output_type": "pyout",
       "prompt_number": 17,
       "text": [
        "(\u03bb g_<e,t>: g_<e,t>(Mary_e))"
       ]
      }
     ],
     "prompt_number": 17
    },
    {
     "cell_type": "code",
     "collapsed": false,
     "input": [
      "def lift_t_shift(arg, assignment=None):\n",
      "    result = lift(arg.content.under_assignment(assignment), types.type_t)\n",
      "    return lang.UnaryComposite(arg, result)"
     ],
     "language": "python",
     "metadata": {},
     "outputs": [],
     "prompt_number": 18
    },
    {
     "cell_type": "code",
     "collapsed": false,
     "input": [
      "def geach_shift(fun, f_type_left):\n",
      "    combinator = geach_combinator(fun.type, types.FunType(f_type_left, fun.type.left))\n",
      "    return combinator(fun).reduce_all()"
     ],
     "language": "python",
     "metadata": {},
     "outputs": [],
     "prompt_number": 19
    },
    {
     "cell_type": "code",
     "collapsed": false,
     "input": [
      "geach_shift(f1, types.type_e)"
     ],
     "language": "python",
     "metadata": {},
     "outputs": [
      {
       "latex": [
        "$\\lambda{} f_{\\langle{}e,e\\rangle{}} \\: . \\: \\lambda{} x_{e} \\: . \\: {Cat}({f}_{\\langle{}e,e\\rangle{}}({x}_{e}))$"
       ],
       "metadata": {},
       "output_type": "pyout",
       "prompt_number": 20,
       "text": [
        "(\u03bb f_<e,e>: (\u03bb x_e: Cat_<e,t>(f_<e,e>(x_e))))"
       ]
      }
     ],
     "prompt_number": 20
    },
    {
     "cell_type": "code",
     "collapsed": false,
     "input": [
      "def g_e_shift(fun, assignment=None):\n",
      "    if not fun.type.functional():\n",
      "        raise types.TypeMismatch(fun, None, \"g-shift for type e\")\n",
      "    result = geach_shift(fun.content.under_assignment(assignment), types.type_e)\n",
      "    return lang.UnaryComposite(fun, result)\n",
      "\n",
      "def g_et_shift(fun, assignment=None):\n",
      "    if not fun.type.functional():\n",
      "        raise types.TypeMismatch(fun, None, \"g-shift for type <e,t>\")\n",
      "    result = geach_shift(fun.content.under_assignment(assignment), types.type_property)\n",
      "    return lang.UnaryComposite(fun, result)\n",
      "\n",
      "system = lang.td_system.copy()\n",
      "system.add_rule(lang.UnaryCompositionOp(\"g_e-shift\", g_e_shift))\n",
      "system.add_rule(lang.UnaryCompositionOp(\"g_<e,t>-shift\", g_et_shift))\n",
      "system.add_rule(lang.UnaryCompositionOp(\"lift_t-shift\", lift_t_shift))\n",
      "lang.set_system(system)\n",
      "system"
     ],
     "language": "python",
     "metadata": {},
     "outputs": [
      {
       "latex": [
        "Composition system 'H&K simple (copy)'<br />Operations: FA, PM, PA, g_e-shift, g_<e,t>-shift, lift_t-shift"
       ],
       "metadata": {},
       "output_type": "pyout",
       "prompt_number": 21,
       "text": [
        "Composition system: H&K simple (copy)"
       ]
      }
     ],
     "prompt_number": 21
    },
    {
     "cell_type": "markdown",
     "metadata": {},
     "source": [
      "The brute-force way to trigger a unary type-shift is to multiply it by None (`x * None`).  The following examples use that idiom to show that, with the g-shift and type-lifted DP, there is no way to get the wrong result.\n",
      "\n",
      "Though in principle the non-lifted subject can compose with the g-shifted verb, this is ruled out syntactically (not implemented here); abstracting function composition to the g-rule enables this."
     ]
    },
    {
     "cell_type": "code",
     "collapsed": false,
     "input": [
      "(((mary2 * None) * ((saw * None) * him))).reduce_all().latex_step_tree()"
     ],
     "language": "python",
     "metadata": {},
     "outputs": [
      {
       "latex": [
        "1 composition path:<br /><table><tr><td style=\"vertical-align:bottom;padding:0px 10px\" align=\"center\"><table><tr><td style=\"vertical-align:bottom\"><table><tr><td style=\"vertical-align:bottom;padding:0px 10px\" align=\"center\"><table><tr><td style=\"vertical-align:bottom\"><table align=\"center\"><tr><td align=\"center\">$||\\mathbf{\\text{mary2}}||^{}_{\\langle{}\\langle{}e,t\\rangle{},t\\rangle{}}$</td></tr><tr><td align=\"center\">$\\lambda{} f_{\\langle{}e,t\\rangle{}} \\: . \\: {f}_{\\langle{}e,t\\rangle{}}({Mary}_{e})$</td></tr></table>\n",
        "</td></tr></table></td><td style=\"vertical-align:bottom;padding-bottom:5px;padding-left:10px\"><b>[g_e-shift]</b></td></tr><tr style=\"border-top: 1px solid #848482\"><td align=\"center\"><table style=\"margin-top:10px\"><tr><td style=\"vertical-align:bottom\" align=\"center\">$||\\mathbf{\\text{[mary2]}}||^{}_{\\langle{}\\langle{}e,\\langle{}e,t\\rangle{}\\rangle{},\\langle{}e,t\\rangle{}\\rangle{}}$</td></tr><tr><td style=\"vertical-align:bottom\" align=\"center\">$ = \\lambda{} f_{\\langle{}e,\\langle{}e,t\\rangle{}\\rangle{}} \\: . \\: \\lambda{} x_{e} \\: . \\: {f}_{\\langle{}e,\\langle{}e,t\\rangle{}\\rangle{}}({x}_{e})({Mary}_{e})$</td></tr></table>\n",
        "</td><td></td></tr></table>\n",
        "</td><td style=\"vertical-align:bottom;padding-bottom:5px\">&nbsp;&nbsp;&nbsp;$\\circ$&nbsp;&nbsp;&nbsp;</td><td style=\"vertical-align:bottom\"><table><tr><td style=\"vertical-align:bottom;padding:0px 10px\" align=\"center\"><table><tr><td style=\"vertical-align:bottom\"><table><tr><td style=\"vertical-align:bottom;padding:0px 10px\" align=\"center\"><table><tr><td style=\"vertical-align:bottom\"><table align=\"center\"><tr><td align=\"center\">$||\\mathbf{\\text{saw}}||^{}_{\\langle{}e,\\langle{}e,t\\rangle{}\\rangle{}}$</td></tr><tr><td align=\"center\">$\\lambda{} x_{e} \\: . \\: \\lambda{} y_{e} \\: . \\: {Saw}({y}_{e}, {x}_{e})$</td></tr></table>\n",
        "</td></tr></table></td><td style=\"vertical-align:bottom;padding-bottom:5px;padding-left:10px\"><b>[g_e-shift]</b></td></tr><tr style=\"border-top: 1px solid #848482\"><td align=\"center\"><table style=\"margin-top:10px\"><tr><td style=\"vertical-align:bottom\" align=\"center\">$||\\mathbf{\\text{[saw]}}||^{}_{\\langle{}\\langle{}e,e\\rangle{},\\langle{}e,\\langle{}e,t\\rangle{}\\rangle{}\\rangle{}}$</td></tr><tr><td style=\"vertical-align:bottom\" align=\"center\">$ = \\lambda{} f_{\\langle{}e,e\\rangle{}} \\: . \\: \\lambda{} x_{e} \\: . \\: \\lambda{} y_{e} \\: . \\: {Saw}({y}_{e}, {f}_{\\langle{}e,e\\rangle{}}({x}_{e}))$</td></tr></table>\n",
        "</td><td></td></tr></table>\n",
        "</td><td style=\"vertical-align:bottom;padding-bottom:5px\">&nbsp;&nbsp;&nbsp;$\\circ$&nbsp;&nbsp;&nbsp;</td><td style=\"vertical-align:bottom\"><table align=\"center\"><tr><td align=\"center\">$||\\mathbf{\\text{him}}||^{}_{\\langle{}e,e\\rangle{}}$</td></tr><tr><td align=\"center\">$\\lambda{} x_{e} \\: . \\: {x}_{e}$</td></tr></table>\n",
        "</td></tr></table></td><td style=\"vertical-align:bottom;padding-bottom:5px;padding-left:10px\"><b>[FA]</b></td></tr><tr style=\"border-top: 1px solid #848482\"><td align=\"center\"><table style=\"margin-top:10px\"><tr><td style=\"vertical-align:bottom\" align=\"center\">$||\\mathbf{\\text{[[saw] him]}}||^{}_{\\langle{}e,\\langle{}e,t\\rangle{}\\rangle{}}$</td></tr><tr><td style=\"vertical-align:bottom\" align=\"center\">$ = \\lambda{} x_{e} \\: . \\: \\lambda{} y_{e} \\: . \\: {Saw}({y}_{e}, {x}_{e})$</td></tr></table>\n",
        "</td><td></td></tr></table>\n",
        "</td></tr></table></td><td style=\"vertical-align:bottom;padding-bottom:5px;padding-left:10px\"><b>[FA]</b></td></tr><tr style=\"border-top: 1px solid #848482\"><td align=\"center\"><table style=\"margin-top:10px\"><tr><td style=\"vertical-align:bottom\" align=\"center\">$||\\mathbf{\\text{[[mary2] [[saw] him]]}}||^{}_{\\langle{}e,t\\rangle{}}$</td></tr><tr><td style=\"vertical-align:bottom\" align=\"center\">$ = \\lambda{} x_{e} \\: . \\: {Saw}({Mary}_{e}, {x}_{e})$</td></tr></table>\n",
        "</td><td></td></tr></table>\n",
        "<br /><br />"
       ],
       "metadata": {},
       "output_type": "pyout",
       "prompt_number": 22,
       "text": [
        "1 composition path:<br /><table><tr><td style=\"vertical-align:bottom;padding:0px 10px\" align=\"center\"><table><tr><td style=\"vertical-align:bottom\"><table><tr><td style=\"vertical-align:bottom;padding:0px 10px\" align=\"center\"><table><tr><td style=\"vertical-align:bottom\"><table align=\"center\"><tr><td align=\"center\">$||\\mathbf{\\text{mary2}}||^{}_{\\langle{}\\langle{}e,t\\rangle{},t\\rangle{}}$</td></tr><tr><td align=\"center\">$\\lambda{} f_{\\langle{}e,t\\rangle{}} \\: . \\: {f}_{\\langle{}e,t\\rangle{}}({Mary}_{e})$</td></tr></table>\n",
        "</td></tr></table></td><td style=\"vertical-align:bottom;padding-bottom:5px;padding-left:10px\"><b>[g_e-shift]</b></td></tr><tr style=\"border-top: 1px solid #848482\"><td align=\"center\"><table style=\"margin-top:10px\"><tr><td style=\"vertical-align:bottom\" align=\"center\">$||\\mathbf{\\text{[mary2]}}||^{}_{\\langle{}\\langle{}e,\\langle{}e,t\\rangle{}\\rangle{},\\langle{}e,t\\rangle{}\\rangle{}}$</td></tr><tr><td style=\"vertical-align:bottom\" align=\"center\">$ = \\lambda{} f_{\\langle{}e,\\langle{}e,t\\rangle{}\\rangle{}} \\: . \\: \\lambda{} x_{e} \\: . \\: {f}_{\\langle{}e,\\langle{}e,t\\rangle{}\\rangle{}}({x}_{e})({Mary}_{e})$</td></tr></table>\n",
        "</td><td></td></tr></table>\n",
        "</td><td style=\"vertical-align:bottom;padding-bottom:5px\">&nbsp;&nbsp;&nbsp;$\\circ$&nbsp;&nbsp;&nbsp;</td><td style=\"vertical-align:bottom\"><table><tr><td style=\"vertical-align:bottom;padding:0px 10px\" align=\"center\"><table><tr><td style=\"vertical-align:bottom\"><table><tr><td style=\"vertical-align:bottom;padding:0px 10px\" align=\"center\"><table><tr><td style=\"vertical-align:bottom\"><table align=\"center\"><tr><td align=\"center\">$||\\mathbf{\\text{saw}}||^{}_{\\langle{}e,\\langle{}e,t\\rangle{}\\rangle{}}$</td></tr><tr><td align=\"center\">$\\lambda{} x_{e} \\: . \\: \\lambda{} y_{e} \\: . \\: {Saw}({y}_{e}, {x}_{e})$</td></tr></table>\n",
        "</td></tr></table></td><td style=\"vertical-align:bottom;padding-bottom:5px;padding-left:10px\"><b>[g_e-shift]</b></td></tr><tr style=\"border-top: 1px solid #848482\"><td align=\"center\"><table style=\"margin-top:10px\"><tr><td style=\"vertical-align:bottom\" align=\"center\">$||\\mathbf{\\text{[saw]}}||^{}_{\\langle{}\\langle{}e,e\\rangle{},\\langle{}e,\\langle{}e,t\\rangle{}\\rangle{}\\rangle{}}$</td></tr><tr><td style=\"vertical-align:bottom\" align=\"center\">$ = \\lambda{} f_{\\langle{}e,e\\rangle{}} \\: . \\: \\lambda{} x_{e} \\: . \\: \\lambda{} y_{e} \\: . \\: {Saw}({y}_{e}, {f}_{\\langle{}e,e\\rangle{}}({x}_{e}))$</td></tr></table>\n",
        "</td><td></td></tr></table>\n",
        "</td><td style=\"vertical-align:bottom;padding-bottom:5px\">&nbsp;&nbsp;&nbsp;$\\circ$&nbsp;&nbsp;&nbsp;</td><td style=\"vertical-align:bottom\"><table align=\"center\"><tr><td align=\"center\">$||\\mathbf{\\text{him}}||^{}_{\\langle{}e,e\\rangle{}}$</td></tr><tr><td align=\"center\">$\\lambda{} x_{e} \\: . \\: {x}_{e}$</td></tr></table>\n",
        "</td></tr></table></td><td style=\"vertical-align:bottom;padding-bottom:5px;padding-left:10px\"><b>[FA]</b></td></tr><tr style=\"border-top: 1px solid #848482\"><td align=\"center\"><table style=\"margin-top:10px\"><tr><td style=\"vertical-align:bottom\" align=\"center\">$||\\mathbf{\\text{[[saw] him]}}||^{}_{\\langle{}e,\\langle{}e,t\\rangle{}\\rangle{}}$</td></tr><tr><td style=\"vertical-align:bottom\" align=\"center\">$ = \\lambda{} x_{e} \\: . \\: \\lambda{} y_{e} \\: . \\: {Saw}({y}_{e}, {x}_{e})$</td></tr></table>\n",
        "</td><td></td></tr></table>\n",
        "</td></tr></table></td><td style=\"vertical-align:bottom;padding-bottom:5px;padding-left:10px\"><b>[FA]</b></td></tr><tr style=\"border-top: 1px solid #848482\"><td align=\"center\"><table style=\"margin-top:10px\"><tr><td style=\"vertical-align:bottom\" align=\"center\">$||\\mathbf{\\text{[[mary2] [[saw] him]]}}||^{}_{\\langle{}e,t\\rangle{}}$</td></tr><tr><td style=\"vertical-align:bottom\" align=\"center\">$ = \\lambda{} x_{e} \\: . \\: {Saw}({Mary}_{e}, {x}_{e})$</td></tr></table>\n",
        "</td><td></td></tr></table>\n",
        "<br /><br />"
       ]
      }
     ],
     "prompt_number": 22
    },
    {
     "cell_type": "markdown",
     "metadata": {},
     "source": [
      "To handle binding of pronouns, we add a new typeshift, the z-rule.  Again I will implement this using a combinator."
     ]
    },
    {
     "cell_type": "code",
     "collapsed": false,
     "input": [],
     "language": "python",
     "metadata": {},
     "outputs": [],
     "prompt_number": 22
    },
    {
     "cell_type": "code",
     "collapsed": false,
     "input": [
      "def z_combinator(ftype):\n",
      "    # does not check types...\n",
      "    left_type = ftype.left\n",
      "    g_type = types.FunType(types.type_e, left_type)\n",
      "    body = meta.term(\"f\", ftype)(meta.term(\"g\", g_type)(meta.term(\"x\", types.type_e)))(meta.term(\"x\", types.type_e))\n",
      "    comb = meta.LFun(ftype, meta.LFun(g_type, meta.LFun(types.type_e, body, varname=\"x\"),varname=\"g\"),varname=\"f\")\n",
      "    return comb"
     ],
     "language": "python",
     "metadata": {},
     "outputs": [],
     "prompt_number": 23
    },
    {
     "cell_type": "code",
     "collapsed": false,
     "input": [
      "z_combinator(tp(\"<e,<e,t>>\"))"
     ],
     "language": "python",
     "metadata": {},
     "outputs": [
      {
       "latex": [
        "$\\lambda{} f_{\\langle{}e,\\langle{}e,t\\rangle{}\\rangle{}} \\: . \\: \\lambda{} g_{\\langle{}e,e\\rangle{}} \\: . \\: \\lambda{} x_{e} \\: . \\: {f}_{\\langle{}e,\\langle{}e,t\\rangle{}\\rangle{}}({g}_{\\langle{}e,e\\rangle{}}({x}_{e}))({x}_{e})$"
       ],
       "metadata": {},
       "output_type": "pyout",
       "prompt_number": 24,
       "text": [
        "(\u03bb f_<e,<e,t>>: (\u03bb g_<e,e>: (\u03bb x_e: f_<e,<e,t>>(g_<e,e>(x_e))(x_e))))"
       ]
      }
     ],
     "prompt_number": 24
    },
    {
     "cell_type": "code",
     "collapsed": false,
     "input": [
      "z_combinator(tp(\"<e,<e,t>>\"))(saw.content).reduce_all()"
     ],
     "language": "python",
     "metadata": {},
     "outputs": [
      {
       "latex": [
        "$\\lambda{} g_{\\langle{}e,e\\rangle{}} \\: . \\: \\lambda{} x_{e} \\: . \\: {Saw}({x}_{e}, {g}_{\\langle{}e,e\\rangle{}}({x}_{e}))$"
       ],
       "metadata": {},
       "output_type": "pyout",
       "prompt_number": 25,
       "text": [
        "(\u03bb g_<e,e>: (\u03bb x_e: Saw_<(e,e),t>(x_e, g_<e,e>(x_e))))"
       ]
      }
     ],
     "prompt_number": 25
    },
    {
     "cell_type": "code",
     "collapsed": false,
     "input": [
      "def z_shift(fun, assignment=None):\n",
      "    if not (fun.type.functional() and fun.type.right.functional() and fun.type.right.left == types.type_e):\n",
      "        raise types.TypeMismatch(fun, None, \"z-shift\")\n",
      "    result = z_combinator(fun.type)(fun.content.under_assignment(assignment)).reduce_all()\n",
      "    return lang.UnaryComposite(fun, result)\n",
      "\n",
      "system = lang.td_system.copy()\n",
      "system.add_rule(lang.UnaryCompositionOp(\"g_e-shift\", g_e_shift, typeshift=True))\n",
      "system.add_rule(lang.UnaryCompositionOp(\"z-shift\", z_shift, typeshift=True))\n",
      "system.add_rule(lang.UnaryCompositionOp(\"g_et-shift\", g_et_shift, typeshift=True))\n",
      "system.add_rule(lang.UnaryCompositionOp(\"lift_t-shift\", lift_t_shift))\n",
      "system.typeshift=True\n",
      "lang.set_system(system)\n",
      "system\n"
     ],
     "language": "python",
     "metadata": {},
     "outputs": [
      {
       "latex": [
        "Composition system 'H&K simple (copy)'<br />Operations: FA, PM, PA, g_e-shift, z-shift, g_et-shift, lift_t-shift"
       ],
       "metadata": {},
       "output_type": "pyout",
       "prompt_number": 26,
       "text": [
        "Composition system: H&K simple (copy)"
       ]
      }
     ],
     "prompt_number": 26
    },
    {
     "cell_type": "code",
     "collapsed": false,
     "input": [
      "r = mary2 * (saw * him)\n",
      "r.reduce_all()"
     ],
     "language": "python",
     "metadata": {},
     "outputs": [
      {
       "latex": [
        "2 composition paths. Results:\n",
        "<br />&nbsp;&nbsp;&nbsp;&nbsp;[0]: $||\\mathbf{\\text{[[mary2] [[saw] him]]}}||^{}_{\\langle{}e,t\\rangle{}} \\:=\\: $$\\lambda{} x_{e} \\: . \\: {Saw}({Mary}_{e}, {x}_{e})$\n",
        "<br />&nbsp;&nbsp;&nbsp;&nbsp;[1]: $||\\mathbf{\\text{[mary2 [[saw] him]]}}||^{}_{t} \\:=\\: $${Saw}({Mary}_{e}, {Mary}_{e})$"
       ],
       "metadata": {},
       "output_type": "pyout",
       "prompt_number": 27,
       "text": [
        "CompositionResult(results=[||[[mary2] [[saw] him]]|| = (\u03bb x_e: Saw_<(e,e),t>(Mary_e, x_e)), ||[mary2 [[saw] him]]|| = Saw_<(e,e),t>(Mary_e, Mary_e)], failures=[||[[mary2] [[[saw] him]]]|| = Type mismatch: '||[mary2]|| = (\u03bb f_<e,<e,t>>: (\u03bb x_e: f_<e,<e,t>>(x_e)(Mary_e)))'/<<e,<e,t>>,<e,t>> and '||[[[saw] him]]|| = (\u03bb f_<e,e>: (\u03bb x_e: (\u03bb y_e: Saw_<(e,e),t>(y_e, f_<e,e>(x_e)))))'/<<e,e>,<e,<e,t>>> conflict (mode: Function Application), ||[[[[saw] him]] [mary2]]|| = Type mismatch: '||[[[saw] him]]|| = (\u03bb f_<e,e>: (\u03bb x_e: (\u03bb y_e: Saw_<(e,e),t>(y_e, f_<e,e>(x_e)))))'/<<e,e>,<e,<e,t>>> and '||[mary2]|| = (\u03bb f_<e,<e,t>>: (\u03bb x_e: f_<e,<e,t>>(x_e)(Mary_e)))'/<<e,<e,t>>,<e,t>> conflict (mode: Function Application), ||[[mary2] [[[saw] him]]]|| = Type mismatch: '||[mary2]|| = (\u03bb f_<e,<e,t>>: (\u03bb x_e: f_<e,<e,t>>(x_e)(Mary_e)))'/<<e,<e,t>>,<e,t>> and '||[[[saw] him]]|| = (\u03bb f_<e,e>: (\u03bb x_e: (\u03bb y_e: Saw_<(e,e),t>(y_e, f_<e,e>(x_e)))))'/<<e,e>,<e,<e,t>>> conflict (mode: Predicate Modification), ||[[mary2] [[[saw] him]]]|| = Type mismatch: '||[mary2]|| = (\u03bb f_<e,<e,t>>: (\u03bb x_e: f_<e,<e,t>>(x_e)(Mary_e)))'/<<e,<e,t>>,<e,t>> and '||[[[saw] him]]|| = (\u03bb f_<e,e>: (\u03bb x_e: (\u03bb y_e: Saw_<(e,e),t>(y_e, f_<e,e>(x_e)))))'/<<e,e>,<e,<e,t>>> conflict (mode: Predicate Abstraction), ||[[[[saw] him]] [mary2]]|| = Type mismatch: '||[[[saw] him]]|| = (\u03bb f_<e,e>: (\u03bb x_e: (\u03bb y_e: Saw_<(e,e),t>(y_e, f_<e,e>(x_e)))))'/<<e,e>,<e,<e,t>>> and '||[mary2]|| = (\u03bb f_<e,<e,t>>: (\u03bb x_e: f_<e,<e,t>>(x_e)(Mary_e)))'/<<e,<e,t>>,<e,t>> conflict (mode: Predicate Abstraction), ||[[mary2] [[[saw] him]]]|| = Type mismatch: '||[mary2]|| = (\u03bb f_<e,<e,t>>: (\u03bb x_e: f_<e,<e,t>>(x_e)(Mary_e)))'/<<e,<e,t>>,<e,t>> and '||[[[saw] him]]|| = (\u03bb g_<e,e>: (\u03bb x_e: Saw_<(e,e),t>(x_e, g_<e,e>(x_e))))'/<<e,e>,<e,t>> conflict (mode: Function Application), ||[[[[saw] him]] [mary2]]|| = Type mismatch: '||[[[saw] him]]|| = (\u03bb g_<e,e>: (\u03bb x_e: Saw_<(e,e),t>(x_e, g_<e,e>(x_e))))'/<<e,e>,<e,t>> and '||[mary2]|| = (\u03bb f_<e,<e,t>>: (\u03bb x_e: f_<e,<e,t>>(x_e)(Mary_e)))'/<<e,<e,t>>,<e,t>> conflict (mode: Function Application), ||[[mary2] [[[saw] him]]]|| = Type mismatch: '||[mary2]|| = (\u03bb f_<e,<e,t>>: (\u03bb x_e: f_<e,<e,t>>(x_e)(Mary_e)))'/<<e,<e,t>>,<e,t>> and '||[[[saw] him]]|| = (\u03bb g_<e,e>: (\u03bb x_e: Saw_<(e,e),t>(x_e, g_<e,e>(x_e))))'/<<e,e>,<e,t>> conflict (mode: Predicate Modification), ||[[mary2] [[[saw] him]]]|| = Type mismatch: '||[mary2]|| = (\u03bb f_<e,<e,t>>: (\u03bb x_e: f_<e,<e,t>>(x_e)(Mary_e)))'/<<e,<e,t>>,<e,t>> and '||[[[saw] him]]|| = (\u03bb g_<e,e>: (\u03bb x_e: Saw_<(e,e),t>(x_e, g_<e,e>(x_e))))'/<<e,e>,<e,t>> conflict (mode: Predicate Abstraction), ||[[[[saw] him]] [mary2]]|| = Type mismatch: '||[[[saw] him]]|| = (\u03bb g_<e,e>: (\u03bb x_e: Saw_<(e,e),t>(x_e, g_<e,e>(x_e))))'/<<e,e>,<e,t>> and '||[mary2]|| = (\u03bb f_<e,<e,t>>: (\u03bb x_e: f_<e,<e,t>>(x_e)(Mary_e)))'/<<e,<e,t>>,<e,t>> conflict (mode: Predicate Abstraction), ||[[mary2] [[[saw] him]]]|| = Type mismatch: '||[mary2]|| = (\u03bb f_<e,<e,t>>: (\u03bb x_e: f_<e,<e,t>>(x_e)(Mary_e)))'/<<e,<e,t>>,<e,t>> and '||[[[saw] him]]|| = (\u03bb f_<<e,t>,e>: (\u03bb x_<e,t>: (\u03bb y_e: Saw_<(e,e),t>(y_e, f_<<e,t>,e>(x_<e,t>)))))'/<<<e,t>,e>,<<e,t>,<e,t>>> conflict (mode: Function Application), ||[[[[saw] him]] [mary2]]|| = Type mismatch: '||[[[saw] him]]|| = (\u03bb f_<<e,t>,e>: (\u03bb x_<e,t>: (\u03bb y_e: Saw_<(e,e),t>(y_e, f_<<e,t>,e>(x_<e,t>)))))'/<<<e,t>,e>,<<e,t>,<e,t>>> and '||[mary2]|| = (\u03bb f_<e,<e,t>>: (\u03bb x_e: f_<e,<e,t>>(x_e)(Mary_e)))'/<<e,<e,t>>,<e,t>> conflict (mode: Function Application), ||[[mary2] [[[saw] him]]]|| = Type mismatch: '||[mary2]|| = (\u03bb f_<e,<e,t>>: (\u03bb x_e: f_<e,<e,t>>(x_e)(Mary_e)))'/<<e,<e,t>>,<e,t>> and '||[[[saw] him]]|| = (\u03bb f_<<e,t>,e>: (\u03bb x_<e,t>: (\u03bb y_e: Saw_<(e,e),t>(y_e, f_<<e,t>,e>(x_<e,t>)))))'/<<<e,t>,e>,<<e,t>,<e,t>>> conflict (mode: Predicate Modification), ||[[mary2] [[[saw] him]]]|| = Type mismatch: '||[mary2]|| = (\u03bb f_<e,<e,t>>: (\u03bb x_e: f_<e,<e,t>>(x_e)(Mary_e)))'/<<e,<e,t>>,<e,t>> and '||[[[saw] him]]|| = (\u03bb f_<<e,t>,e>: (\u03bb x_<e,t>: (\u03bb y_e: Saw_<(e,e),t>(y_e, f_<<e,t>,e>(x_<e,t>)))))'/<<<e,t>,e>,<<e,t>,<e,t>>> conflict (mode: Predicate Abstraction), ||[[[[saw] him]] [mary2]]|| = Type mismatch: '||[[[saw] him]]|| = (\u03bb f_<<e,t>,e>: (\u03bb x_<e,t>: (\u03bb y_e: Saw_<(e,e),t>(y_e, f_<<e,t>,e>(x_<e,t>)))))'/<<<e,t>,e>,<<e,t>,<e,t>>> and '||[mary2]|| = (\u03bb f_<e,<e,t>>: (\u03bb x_e: f_<e,<e,t>>(x_e)(Mary_e)))'/<<e,<e,t>>,<e,t>> conflict (mode: Predicate Abstraction), ||[[[saw] him] [mary2]]|| = Type mismatch: '||[[saw] him]|| = (\u03bb x_e: (\u03bb y_e: Saw_<(e,e),t>(y_e, x_e)))'/<e,<e,t>> and '||[mary2]|| = (\u03bb f_<e,<e,t>>: (\u03bb x_e: f_<e,<e,t>>(x_e)(Mary_e)))'/<<e,<e,t>>,<e,t>> conflict (mode: Function Application), ||[[mary2] [[saw] him]]|| = Type mismatch: '||[mary2]|| = (\u03bb f_<e,<e,t>>: (\u03bb x_e: f_<e,<e,t>>(x_e)(Mary_e)))'/<<e,<e,t>>,<e,t>> and '||[[saw] him]|| = (\u03bb x_e: (\u03bb y_e: Saw_<(e,e),t>(y_e, x_e)))'/<e,<e,t>> conflict (mode: Predicate Modification), ||[[mary2] [[saw] him]]|| = Type mismatch: '||[mary2]|| = (\u03bb f_<e,<e,t>>: (\u03bb x_e: f_<e,<e,t>>(x_e)(Mary_e)))'/<<e,<e,t>>,<e,t>> and '||[[saw] him]|| = (\u03bb x_e: (\u03bb y_e: Saw_<(e,e),t>(y_e, x_e)))'/<e,<e,t>> conflict (mode: Predicate Abstraction), ||[[[saw] him] [mary2]]|| = Type mismatch: '||[[saw] him]|| = (\u03bb x_e: (\u03bb y_e: Saw_<(e,e),t>(y_e, x_e)))'/<e,<e,t>> and '||[mary2]|| = (\u03bb f_<e,<e,t>>: (\u03bb x_e: f_<e,<e,t>>(x_e)(Mary_e)))'/<<e,<e,t>>,<e,t>> conflict (mode: Predicate Abstraction), ||[[mary2] [[[saw] him]]]|| = Type mismatch: '||[mary2]|| = (\u03bb f_<<e,t>,<e,t>>: (\u03bb x_<e,t>: f_<<e,t>,<e,t>>(x_<e,t>)(Mary_e)))'/<<<e,t>,<e,t>>,<<e,t>,t>> and '||[[[saw] him]]|| = (\u03bb f_<e,e>: (\u03bb x_e: (\u03bb y_e: Saw_<(e,e),t>(y_e, f_<e,e>(x_e)))))'/<<e,e>,<e,<e,t>>> conflict (mode: Function Application), ||[[[[saw] him]] [mary2]]|| = Type mismatch: '||[[[saw] him]]|| = (\u03bb f_<e,e>: (\u03bb x_e: (\u03bb y_e: Saw_<(e,e),t>(y_e, f_<e,e>(x_e)))))'/<<e,e>,<e,<e,t>>> and '||[mary2]|| = (\u03bb f_<<e,t>,<e,t>>: (\u03bb x_<e,t>: f_<<e,t>,<e,t>>(x_<e,t>)(Mary_e)))'/<<<e,t>,<e,t>>,<<e,t>,t>> conflict (mode: Function Application), ||[[mary2] [[[saw] him]]]|| = Type mismatch: '||[mary2]|| = (\u03bb f_<<e,t>,<e,t>>: (\u03bb x_<e,t>: f_<<e,t>,<e,t>>(x_<e,t>)(Mary_e)))'/<<<e,t>,<e,t>>,<<e,t>,t>> and '||[[[saw] him]]|| = (\u03bb f_<e,e>: (\u03bb x_e: (\u03bb y_e: Saw_<(e,e),t>(y_e, f_<e,e>(x_e)))))'/<<e,e>,<e,<e,t>>> conflict (mode: Predicate Modification), ||[[mary2] [[[saw] him]]]|| = Type mismatch: '||[mary2]|| = (\u03bb f_<<e,t>,<e,t>>: (\u03bb x_<e,t>: f_<<e,t>,<e,t>>(x_<e,t>)(Mary_e)))'/<<<e,t>,<e,t>>,<<e,t>,t>> and '||[[[saw] him]]|| = (\u03bb f_<e,e>: (\u03bb x_e: (\u03bb y_e: Saw_<(e,e),t>(y_e, f_<e,e>(x_e)))))'/<<e,e>,<e,<e,t>>> conflict (mode: Predicate Abstraction), ||[[[[saw] him]] [mary2]]|| = Type mismatch: '||[[[saw] him]]|| = (\u03bb f_<e,e>: (\u03bb x_e: (\u03bb y_e: Saw_<(e,e),t>(y_e, f_<e,e>(x_e)))))'/<<e,e>,<e,<e,t>>> and '||[mary2]|| = (\u03bb f_<<e,t>,<e,t>>: (\u03bb x_<e,t>: f_<<e,t>,<e,t>>(x_<e,t>)(Mary_e)))'/<<<e,t>,<e,t>>,<<e,t>,t>> conflict (mode: Predicate Abstraction), ||[[mary2] [[[saw] him]]]|| = Type mismatch: '||[mary2]|| = (\u03bb f_<<e,t>,<e,t>>: (\u03bb x_<e,t>: f_<<e,t>,<e,t>>(x_<e,t>)(Mary_e)))'/<<<e,t>,<e,t>>,<<e,t>,t>> and '||[[[saw] him]]|| = (\u03bb g_<e,e>: (\u03bb x_e: Saw_<(e,e),t>(x_e, g_<e,e>(x_e))))'/<<e,e>,<e,t>> conflict (mode: Function Application), ||[[[[saw] him]] [mary2]]|| = Type mismatch: '||[[[saw] him]]|| = (\u03bb g_<e,e>: (\u03bb x_e: Saw_<(e,e),t>(x_e, g_<e,e>(x_e))))'/<<e,e>,<e,t>> and '||[mary2]|| = (\u03bb f_<<e,t>,<e,t>>: (\u03bb x_<e,t>: f_<<e,t>,<e,t>>(x_<e,t>)(Mary_e)))'/<<<e,t>,<e,t>>,<<e,t>,t>> conflict (mode: Function Application), ||[[mary2] [[[saw] him]]]|| = Type mismatch: '||[mary2]|| = (\u03bb f_<<e,t>,<e,t>>: (\u03bb x_<e,t>: f_<<e,t>,<e,t>>(x_<e,t>)(Mary_e)))'/<<<e,t>,<e,t>>,<<e,t>,t>> and '||[[[saw] him]]|| = (\u03bb g_<e,e>: (\u03bb x_e: Saw_<(e,e),t>(x_e, g_<e,e>(x_e))))'/<<e,e>,<e,t>> conflict (mode: Predicate Modification), ||[[mary2] [[[saw] him]]]|| = Type mismatch: '||[mary2]|| = (\u03bb f_<<e,t>,<e,t>>: (\u03bb x_<e,t>: f_<<e,t>,<e,t>>(x_<e,t>)(Mary_e)))'/<<<e,t>,<e,t>>,<<e,t>,t>> and '||[[[saw] him]]|| = (\u03bb g_<e,e>: (\u03bb x_e: Saw_<(e,e),t>(x_e, g_<e,e>(x_e))))'/<<e,e>,<e,t>> conflict (mode: Predicate Abstraction), ||[[[[saw] him]] [mary2]]|| = Type mismatch: '||[[[saw] him]]|| = (\u03bb g_<e,e>: (\u03bb x_e: Saw_<(e,e),t>(x_e, g_<e,e>(x_e))))'/<<e,e>,<e,t>> and '||[mary2]|| = (\u03bb f_<<e,t>,<e,t>>: (\u03bb x_<e,t>: f_<<e,t>,<e,t>>(x_<e,t>)(Mary_e)))'/<<<e,t>,<e,t>>,<<e,t>,t>> conflict (mode: Predicate Abstraction), ||[[mary2] [[[saw] him]]]|| = Type mismatch: '||[mary2]|| = (\u03bb f_<<e,t>,<e,t>>: (\u03bb x_<e,t>: f_<<e,t>,<e,t>>(x_<e,t>)(Mary_e)))'/<<<e,t>,<e,t>>,<<e,t>,t>> and '||[[[saw] him]]|| = (\u03bb f_<<e,t>,e>: (\u03bb x_<e,t>: (\u03bb y_e: Saw_<(e,e),t>(y_e, f_<<e,t>,e>(x_<e,t>)))))'/<<<e,t>,e>,<<e,t>,<e,t>>> conflict (mode: Function Application), ||[[[[saw] him]] [mary2]]|| = Type mismatch: '||[[[saw] him]]|| = (\u03bb f_<<e,t>,e>: (\u03bb x_<e,t>: (\u03bb y_e: Saw_<(e,e),t>(y_e, f_<<e,t>,e>(x_<e,t>)))))'/<<<e,t>,e>,<<e,t>,<e,t>>> and '||[mary2]|| = (\u03bb f_<<e,t>,<e,t>>: (\u03bb x_<e,t>: f_<<e,t>,<e,t>>(x_<e,t>)(Mary_e)))'/<<<e,t>,<e,t>>,<<e,t>,t>> conflict (mode: Function Application), ||[[mary2] [[[saw] him]]]|| = Type mismatch: '||[mary2]|| = (\u03bb f_<<e,t>,<e,t>>: (\u03bb x_<e,t>: f_<<e,t>,<e,t>>(x_<e,t>)(Mary_e)))'/<<<e,t>,<e,t>>,<<e,t>,t>> and '||[[[saw] him]]|| = (\u03bb f_<<e,t>,e>: (\u03bb x_<e,t>: (\u03bb y_e: Saw_<(e,e),t>(y_e, f_<<e,t>,e>(x_<e,t>)))))'/<<<e,t>,e>,<<e,t>,<e,t>>> conflict (mode: Predicate Modification), ||[[mary2] [[[saw] him]]]|| = Type mismatch: '||[mary2]|| = (\u03bb f_<<e,t>,<e,t>>: (\u03bb x_<e,t>: f_<<e,t>,<e,t>>(x_<e,t>)(Mary_e)))'/<<<e,t>,<e,t>>,<<e,t>,t>> and '||[[[saw] him]]|| = (\u03bb f_<<e,t>,e>: (\u03bb x_<e,t>: (\u03bb y_e: Saw_<(e,e),t>(y_e, f_<<e,t>,e>(x_<e,t>)))))'/<<<e,t>,e>,<<e,t>,<e,t>>> conflict (mode: Predicate Abstraction), ||[[[[saw] him]] [mary2]]|| = Type mismatch: '||[[[saw] him]]|| = (\u03bb f_<<e,t>,e>: (\u03bb x_<e,t>: (\u03bb y_e: Saw_<(e,e),t>(y_e, f_<<e,t>,e>(x_<e,t>)))))'/<<<e,t>,e>,<<e,t>,<e,t>>> and '||[mary2]|| = (\u03bb f_<<e,t>,<e,t>>: (\u03bb x_<e,t>: f_<<e,t>,<e,t>>(x_<e,t>)(Mary_e)))'/<<<e,t>,<e,t>>,<<e,t>,t>> conflict (mode: Predicate Abstraction), ||[[mary2] [[saw] him]]|| = Type mismatch: '||[mary2]|| = (\u03bb f_<<e,t>,<e,t>>: (\u03bb x_<e,t>: f_<<e,t>,<e,t>>(x_<e,t>)(Mary_e)))'/<<<e,t>,<e,t>>,<<e,t>,t>> and '||[[saw] him]|| = (\u03bb x_e: (\u03bb y_e: Saw_<(e,e),t>(y_e, x_e)))'/<e,<e,t>> conflict (mode: Function Application), ||[[[saw] him] [mary2]]|| = Type mismatch: '||[[saw] him]|| = (\u03bb x_e: (\u03bb y_e: Saw_<(e,e),t>(y_e, x_e)))'/<e,<e,t>> and '||[mary2]|| = (\u03bb f_<<e,t>,<e,t>>: (\u03bb x_<e,t>: f_<<e,t>,<e,t>>(x_<e,t>)(Mary_e)))'/<<<e,t>,<e,t>>,<<e,t>,t>> conflict (mode: Function Application), ||[[mary2] [[saw] him]]|| = Type mismatch: '||[mary2]|| = (\u03bb f_<<e,t>,<e,t>>: (\u03bb x_<e,t>: f_<<e,t>,<e,t>>(x_<e,t>)(Mary_e)))'/<<<e,t>,<e,t>>,<<e,t>,t>> and '||[[saw] him]|| = (\u03bb x_e: (\u03bb y_e: Saw_<(e,e),t>(y_e, x_e)))'/<e,<e,t>> conflict (mode: Predicate Modification), ||[[mary2] [[saw] him]]|| = Type mismatch: '||[mary2]|| = (\u03bb f_<<e,t>,<e,t>>: (\u03bb x_<e,t>: f_<<e,t>,<e,t>>(x_<e,t>)(Mary_e)))'/<<<e,t>,<e,t>>,<<e,t>,t>> and '||[[saw] him]|| = (\u03bb x_e: (\u03bb y_e: Saw_<(e,e),t>(y_e, x_e)))'/<e,<e,t>> conflict (mode: Predicate Abstraction), ||[[[saw] him] [mary2]]|| = Type mismatch: '||[[saw] him]|| = (\u03bb x_e: (\u03bb y_e: Saw_<(e,e),t>(y_e, x_e)))'/<e,<e,t>> and '||[mary2]|| = (\u03bb f_<<e,t>,<e,t>>: (\u03bb x_<e,t>: f_<<e,t>,<e,t>>(x_<e,t>)(Mary_e)))'/<<<e,t>,<e,t>>,<<e,t>,t>> conflict (mode: Predicate Abstraction), ||[mary2 [[[saw] him]]]|| = Type mismatch: '||mary2|| = (\u03bb f_<e,t>: f_<e,t>(Mary_e))'/<<e,t>,t> and '||[[[saw] him]]|| = (\u03bb f_<e,e>: (\u03bb x_e: (\u03bb y_e: Saw_<(e,e),t>(y_e, f_<e,e>(x_e)))))'/<<e,e>,<e,<e,t>>> conflict (mode: Function Application), ||[[[[saw] him]] mary2]|| = Type mismatch: '||[[[saw] him]]|| = (\u03bb f_<e,e>: (\u03bb x_e: (\u03bb y_e: Saw_<(e,e),t>(y_e, f_<e,e>(x_e)))))'/<<e,e>,<e,<e,t>>> and '||mary2|| = (\u03bb f_<e,t>: f_<e,t>(Mary_e))'/<<e,t>,t> conflict (mode: Function Application), ||[mary2 [[[saw] him]]]|| = Type mismatch: '||mary2|| = (\u03bb f_<e,t>: f_<e,t>(Mary_e))'/<<e,t>,t> and '||[[[saw] him]]|| = (\u03bb f_<e,e>: (\u03bb x_e: (\u03bb y_e: Saw_<(e,e),t>(y_e, f_<e,e>(x_e)))))'/<<e,e>,<e,<e,t>>> conflict (mode: Predicate Modification), ||[mary2 [[[saw] him]]]|| = Type mismatch: '||mary2|| = (\u03bb f_<e,t>: f_<e,t>(Mary_e))'/<<e,t>,t> and '||[[[saw] him]]|| = (\u03bb f_<e,e>: (\u03bb x_e: (\u03bb y_e: Saw_<(e,e),t>(y_e, f_<e,e>(x_e)))))'/<<e,e>,<e,<e,t>>> conflict (mode: Predicate Abstraction), ||[[[[saw] him]] mary2]|| = Type mismatch: '||[[[saw] him]]|| = (\u03bb f_<e,e>: (\u03bb x_e: (\u03bb y_e: Saw_<(e,e),t>(y_e, f_<e,e>(x_e)))))'/<<e,e>,<e,<e,t>>> and '||mary2|| = (\u03bb f_<e,t>: f_<e,t>(Mary_e))'/<<e,t>,t> conflict (mode: Predicate Abstraction), ||[mary2 [[[saw] him]]]|| = Type mismatch: '||mary2|| = (\u03bb f_<e,t>: f_<e,t>(Mary_e))'/<<e,t>,t> and '||[[[saw] him]]|| = (\u03bb g_<e,e>: (\u03bb x_e: Saw_<(e,e),t>(x_e, g_<e,e>(x_e))))'/<<e,e>,<e,t>> conflict (mode: Function Application), ||[[[[saw] him]] mary2]|| = Type mismatch: '||[[[saw] him]]|| = (\u03bb g_<e,e>: (\u03bb x_e: Saw_<(e,e),t>(x_e, g_<e,e>(x_e))))'/<<e,e>,<e,t>> and '||mary2|| = (\u03bb f_<e,t>: f_<e,t>(Mary_e))'/<<e,t>,t> conflict (mode: Function Application), ||[mary2 [[[saw] him]]]|| = Type mismatch: '||mary2|| = (\u03bb f_<e,t>: f_<e,t>(Mary_e))'/<<e,t>,t> and '||[[[saw] him]]|| = (\u03bb g_<e,e>: (\u03bb x_e: Saw_<(e,e),t>(x_e, g_<e,e>(x_e))))'/<<e,e>,<e,t>> conflict (mode: Predicate Modification), ||[mary2 [[[saw] him]]]|| = Type mismatch: '||mary2|| = (\u03bb f_<e,t>: f_<e,t>(Mary_e))'/<<e,t>,t> and '||[[[saw] him]]|| = (\u03bb g_<e,e>: (\u03bb x_e: Saw_<(e,e),t>(x_e, g_<e,e>(x_e))))'/<<e,e>,<e,t>> conflict (mode: Predicate Abstraction), ||[[[[saw] him]] mary2]|| = Type mismatch: '||[[[saw] him]]|| = (\u03bb g_<e,e>: (\u03bb x_e: Saw_<(e,e),t>(x_e, g_<e,e>(x_e))))'/<<e,e>,<e,t>> and '||mary2|| = (\u03bb f_<e,t>: f_<e,t>(Mary_e))'/<<e,t>,t> conflict (mode: Predicate Abstraction), ||[mary2 [[[saw] him]]]|| = Type mismatch: '||mary2|| = (\u03bb f_<e,t>: f_<e,t>(Mary_e))'/<<e,t>,t> and '||[[[saw] him]]|| = (\u03bb f_<<e,t>,e>: (\u03bb x_<e,t>: (\u03bb y_e: Saw_<(e,e),t>(y_e, f_<<e,t>,e>(x_<e,t>)))))'/<<<e,t>,e>,<<e,t>,<e,t>>> conflict (mode: Function Application), ||[[[[saw] him]] mary2]|| = Type mismatch: '||[[[saw] him]]|| = (\u03bb f_<<e,t>,e>: (\u03bb x_<e,t>: (\u03bb y_e: Saw_<(e,e),t>(y_e, f_<<e,t>,e>(x_<e,t>)))))'/<<<e,t>,e>,<<e,t>,<e,t>>> and '||mary2|| = (\u03bb f_<e,t>: f_<e,t>(Mary_e))'/<<e,t>,t> conflict (mode: Function Application), ||[mary2 [[[saw] him]]]|| = Type mismatch: '||mary2|| = (\u03bb f_<e,t>: f_<e,t>(Mary_e))'/<<e,t>,t> and '||[[[saw] him]]|| = (\u03bb f_<<e,t>,e>: (\u03bb x_<e,t>: (\u03bb y_e: Saw_<(e,e),t>(y_e, f_<<e,t>,e>(x_<e,t>)))))'/<<<e,t>,e>,<<e,t>,<e,t>>> conflict (mode: Predicate Modification), ||[mary2 [[[saw] him]]]|| = Type mismatch: '||mary2|| = (\u03bb f_<e,t>: f_<e,t>(Mary_e))'/<<e,t>,t> and '||[[[saw] him]]|| = (\u03bb f_<<e,t>,e>: (\u03bb x_<e,t>: (\u03bb y_e: Saw_<(e,e),t>(y_e, f_<<e,t>,e>(x_<e,t>)))))'/<<<e,t>,e>,<<e,t>,<e,t>>> conflict (mode: Predicate Abstraction), ||[[[[saw] him]] mary2]|| = Type mismatch: '||[[[saw] him]]|| = (\u03bb f_<<e,t>,e>: (\u03bb x_<e,t>: (\u03bb y_e: Saw_<(e,e),t>(y_e, f_<<e,t>,e>(x_<e,t>)))))'/<<<e,t>,e>,<<e,t>,<e,t>>> and '||mary2|| = (\u03bb f_<e,t>: f_<e,t>(Mary_e))'/<<e,t>,t> conflict (mode: Predicate Abstraction), ||[mary2 [[saw] him]]|| = Type mismatch: '||mary2|| = (\u03bb f_<e,t>: f_<e,t>(Mary_e))'/<<e,t>,t> and '||[[saw] him]|| = (\u03bb x_e: (\u03bb y_e: Saw_<(e,e),t>(y_e, x_e)))'/<e,<e,t>> conflict (mode: Function Application), ||[[[saw] him] mary2]|| = Type mismatch: '||[[saw] him]|| = (\u03bb x_e: (\u03bb y_e: Saw_<(e,e),t>(y_e, x_e)))'/<e,<e,t>> and '||mary2|| = (\u03bb f_<e,t>: f_<e,t>(Mary_e))'/<<e,t>,t> conflict (mode: Function Application), ||[mary2 [[saw] him]]|| = Type mismatch: '||mary2|| = (\u03bb f_<e,t>: f_<e,t>(Mary_e))'/<<e,t>,t> and '||[[saw] him]|| = (\u03bb x_e: (\u03bb y_e: Saw_<(e,e),t>(y_e, x_e)))'/<e,<e,t>> conflict (mode: Predicate Modification), ||[mary2 [[saw] him]]|| = Type mismatch: '||mary2|| = (\u03bb f_<e,t>: f_<e,t>(Mary_e))'/<<e,t>,t> and '||[[saw] him]|| = (\u03bb x_e: (\u03bb y_e: Saw_<(e,e),t>(y_e, x_e)))'/<e,<e,t>> conflict (mode: Predicate Abstraction), ||[[[saw] him] mary2]|| = Type mismatch: '||[[saw] him]|| = (\u03bb x_e: (\u03bb y_e: Saw_<(e,e),t>(y_e, x_e)))'/<e,<e,t>> and '||mary2|| = (\u03bb f_<e,t>: f_<e,t>(Mary_e))'/<<e,t>,t> conflict (mode: Predicate Abstraction), ||[[[saw] him] mary2]|| = Type mismatch: '||[[saw] him]|| = (\u03bb x_e: Saw_<(e,e),t>(x_e, x_e))'/<e,t> and '||mary2|| = (\u03bb f_<e,t>: f_<e,t>(Mary_e))'/<<e,t>,t> conflict (mode: Function Application), ||[mary2 [[saw] him]]|| = Type mismatch: '||mary2|| = (\u03bb f_<e,t>: f_<e,t>(Mary_e))'/<<e,t>,t> and '||[[saw] him]|| = (\u03bb x_e: Saw_<(e,e),t>(x_e, x_e))'/<e,t> conflict (mode: Predicate Modification), ||[mary2 [[saw] him]]|| = Type mismatch: '||mary2|| = (\u03bb f_<e,t>: f_<e,t>(Mary_e))'/<<e,t>,t> and '||[[saw] him]|| = (\u03bb x_e: Saw_<(e,e),t>(x_e, x_e))'/<e,t> conflict (mode: Predicate Abstraction), ||[[[saw] him] mary2]|| = Type mismatch: '||[[saw] him]|| = (\u03bb x_e: Saw_<(e,e),t>(x_e, x_e))'/<e,t> and '||mary2|| = (\u03bb f_<e,t>: f_<e,t>(Mary_e))'/<<e,t>,t> conflict (mode: Predicate Abstraction)])"
       ]
      }
     ],
     "prompt_number": 27
    },
    {
     "cell_type": "markdown",
     "metadata": {},
     "source": [
      "Note that `r[1]` is effectively a reflexive reading, which is a condition B violation for the pronoun *him*.  That is, this reading is generated by having the subject bind the direct object (via the z-rule).  Nothing in the system at the moment rules this out, and so these typeshifts alone will overgenerate reflexive readings.\n",
      "\n",
      "`r[0]` is of course the reading we hoped to generate, where `him` is free."
     ]
    },
    {
     "cell_type": "code",
     "collapsed": false,
     "input": [
      "r[0].latex_step_tree()"
     ],
     "language": "python",
     "metadata": {},
     "outputs": [
      {
       "latex": [
        "<table><tr><td style=\"vertical-align:bottom;padding:0px 10px\" align=\"center\"><table><tr><td style=\"vertical-align:bottom\"><table><tr><td style=\"vertical-align:bottom;padding:0px 10px\" align=\"center\"><table><tr><td style=\"vertical-align:bottom\"><table align=\"center\"><tr><td align=\"center\">$||\\mathbf{\\text{mary2}}||^{}_{\\langle{}\\langle{}e,t\\rangle{},t\\rangle{}}$</td></tr><tr><td align=\"center\">$\\lambda{} f_{\\langle{}e,t\\rangle{}} \\: . \\: {f}_{\\langle{}e,t\\rangle{}}({Mary}_{e})$</td></tr></table>\n",
        "</td></tr></table></td><td style=\"vertical-align:bottom;padding-bottom:5px;padding-left:10px\"><b>[g_e-shift]</b></td></tr><tr style=\"border-top: 1px solid #848482\"><td align=\"center\"><table style=\"margin-top:10px\"><tr><td style=\"vertical-align:bottom\" align=\"center\">$||\\mathbf{\\text{[mary2]}}||^{}_{\\langle{}\\langle{}e,\\langle{}e,t\\rangle{}\\rangle{},\\langle{}e,t\\rangle{}\\rangle{}}$</td></tr><tr><td style=\"vertical-align:bottom\" align=\"center\">$ = \\lambda{} f_{\\langle{}e,\\langle{}e,t\\rangle{}\\rangle{}} \\: . \\: \\lambda{} x_{e} \\: . \\: {f}_{\\langle{}e,\\langle{}e,t\\rangle{}\\rangle{}}({x}_{e})({Mary}_{e})$</td></tr></table>\n",
        "</td><td></td></tr></table>\n",
        "</td><td style=\"vertical-align:bottom;padding-bottom:5px\">&nbsp;&nbsp;&nbsp;$\\circ$&nbsp;&nbsp;&nbsp;</td><td style=\"vertical-align:bottom\"><table><tr><td style=\"vertical-align:bottom;padding:0px 10px\" align=\"center\"><table><tr><td style=\"vertical-align:bottom\"><table><tr><td style=\"vertical-align:bottom;padding:0px 10px\" align=\"center\"><table><tr><td style=\"vertical-align:bottom\"><table align=\"center\"><tr><td align=\"center\">$||\\mathbf{\\text{saw}}||^{}_{\\langle{}e,\\langle{}e,t\\rangle{}\\rangle{}}$</td></tr><tr><td align=\"center\">$\\lambda{} x_{e} \\: . \\: \\lambda{} y_{e} \\: . \\: {Saw}({y}_{e}, {x}_{e})$</td></tr></table>\n",
        "</td></tr></table></td><td style=\"vertical-align:bottom;padding-bottom:5px;padding-left:10px\"><b>[g_e-shift]</b></td></tr><tr style=\"border-top: 1px solid #848482\"><td align=\"center\"><table style=\"margin-top:10px\"><tr><td style=\"vertical-align:bottom\" align=\"center\">$||\\mathbf{\\text{[saw]}}||^{}_{\\langle{}\\langle{}e,e\\rangle{},\\langle{}e,\\langle{}e,t\\rangle{}\\rangle{}\\rangle{}}$</td></tr><tr><td style=\"vertical-align:bottom\" align=\"center\">$ = \\lambda{} f_{\\langle{}e,e\\rangle{}} \\: . \\: \\lambda{} x_{e} \\: . \\: \\lambda{} y_{e} \\: . \\: {Saw}({y}_{e}, {f}_{\\langle{}e,e\\rangle{}}({x}_{e}))$</td></tr></table>\n",
        "</td><td></td></tr></table>\n",
        "</td><td style=\"vertical-align:bottom;padding-bottom:5px\">&nbsp;&nbsp;&nbsp;$\\circ$&nbsp;&nbsp;&nbsp;</td><td style=\"vertical-align:bottom\"><table align=\"center\"><tr><td align=\"center\">$||\\mathbf{\\text{him}}||^{}_{\\langle{}e,e\\rangle{}}$</td></tr><tr><td align=\"center\">$\\lambda{} x_{e} \\: . \\: {x}_{e}$</td></tr></table>\n",
        "</td></tr></table></td><td style=\"vertical-align:bottom;padding-bottom:5px;padding-left:10px\"><b>[FA]</b></td></tr><tr style=\"border-top: 1px solid #848482\"><td align=\"center\"><table style=\"margin-top:10px\"><tr><td style=\"vertical-align:bottom\" align=\"center\">$||\\mathbf{\\text{[[saw] him]}}||^{}_{\\langle{}e,\\langle{}e,t\\rangle{}\\rangle{}}$</td></tr><tr><td style=\"vertical-align:bottom\" align=\"center\">$ = \\lambda{} x_{e} \\: . \\: \\lambda{} y_{e} \\: . \\: {Saw}({y}_{e}, {x}_{e})$</td></tr></table>\n",
        "</td><td></td></tr></table>\n",
        "</td></tr></table></td><td style=\"vertical-align:bottom;padding-bottom:5px;padding-left:10px\"><b>[FA]</b></td></tr><tr style=\"border-top: 1px solid #848482\"><td align=\"center\"><table style=\"margin-top:10px\"><tr><td style=\"vertical-align:bottom\" align=\"center\">$||\\mathbf{\\text{[[mary2] [[saw] him]]}}||^{}_{\\langle{}e,t\\rangle{}}$</td></tr><tr><td style=\"vertical-align:bottom\" align=\"center\">$ = \\lambda{} x_{e} \\: . \\: {Saw}({Mary}_{e}, {x}_{e})$</td></tr></table>\n",
        "</td><td></td></tr></table>\n"
       ],
       "metadata": {},
       "output_type": "pyout",
       "prompt_number": 28,
       "text": [
        "<table><tr><td style=\"vertical-align:bottom;padding:0px 10px\" align=\"center\"><table><tr><td style=\"vertical-align:bottom\"><table><tr><td style=\"vertical-align:bottom;padding:0px 10px\" align=\"center\"><table><tr><td style=\"vertical-align:bottom\"><table align=\"center\"><tr><td align=\"center\">$||\\mathbf{\\text{mary2}}||^{}_{\\langle{}\\langle{}e,t\\rangle{},t\\rangle{}}$</td></tr><tr><td align=\"center\">$\\lambda{} f_{\\langle{}e,t\\rangle{}} \\: . \\: {f}_{\\langle{}e,t\\rangle{}}({Mary}_{e})$</td></tr></table>\n",
        "</td></tr></table></td><td style=\"vertical-align:bottom;padding-bottom:5px;padding-left:10px\"><b>[g_e-shift]</b></td></tr><tr style=\"border-top: 1px solid #848482\"><td align=\"center\"><table style=\"margin-top:10px\"><tr><td style=\"vertical-align:bottom\" align=\"center\">$||\\mathbf{\\text{[mary2]}}||^{}_{\\langle{}\\langle{}e,\\langle{}e,t\\rangle{}\\rangle{},\\langle{}e,t\\rangle{}\\rangle{}}$</td></tr><tr><td style=\"vertical-align:bottom\" align=\"center\">$ = \\lambda{} f_{\\langle{}e,\\langle{}e,t\\rangle{}\\rangle{}} \\: . \\: \\lambda{} x_{e} \\: . \\: {f}_{\\langle{}e,\\langle{}e,t\\rangle{}\\rangle{}}({x}_{e})({Mary}_{e})$</td></tr></table>\n",
        "</td><td></td></tr></table>\n",
        "</td><td style=\"vertical-align:bottom;padding-bottom:5px\">&nbsp;&nbsp;&nbsp;$\\circ$&nbsp;&nbsp;&nbsp;</td><td style=\"vertical-align:bottom\"><table><tr><td style=\"vertical-align:bottom;padding:0px 10px\" align=\"center\"><table><tr><td style=\"vertical-align:bottom\"><table><tr><td style=\"vertical-align:bottom;padding:0px 10px\" align=\"center\"><table><tr><td style=\"vertical-align:bottom\"><table align=\"center\"><tr><td align=\"center\">$||\\mathbf{\\text{saw}}||^{}_{\\langle{}e,\\langle{}e,t\\rangle{}\\rangle{}}$</td></tr><tr><td align=\"center\">$\\lambda{} x_{e} \\: . \\: \\lambda{} y_{e} \\: . \\: {Saw}({y}_{e}, {x}_{e})$</td></tr></table>\n",
        "</td></tr></table></td><td style=\"vertical-align:bottom;padding-bottom:5px;padding-left:10px\"><b>[g_e-shift]</b></td></tr><tr style=\"border-top: 1px solid #848482\"><td align=\"center\"><table style=\"margin-top:10px\"><tr><td style=\"vertical-align:bottom\" align=\"center\">$||\\mathbf{\\text{[saw]}}||^{}_{\\langle{}\\langle{}e,e\\rangle{},\\langle{}e,\\langle{}e,t\\rangle{}\\rangle{}\\rangle{}}$</td></tr><tr><td style=\"vertical-align:bottom\" align=\"center\">$ = \\lambda{} f_{\\langle{}e,e\\rangle{}} \\: . \\: \\lambda{} x_{e} \\: . \\: \\lambda{} y_{e} \\: . \\: {Saw}({y}_{e}, {f}_{\\langle{}e,e\\rangle{}}({x}_{e}))$</td></tr></table>\n",
        "</td><td></td></tr></table>\n",
        "</td><td style=\"vertical-align:bottom;padding-bottom:5px\">&nbsp;&nbsp;&nbsp;$\\circ$&nbsp;&nbsp;&nbsp;</td><td style=\"vertical-align:bottom\"><table align=\"center\"><tr><td align=\"center\">$||\\mathbf{\\text{him}}||^{}_{\\langle{}e,e\\rangle{}}$</td></tr><tr><td align=\"center\">$\\lambda{} x_{e} \\: . \\: {x}_{e}$</td></tr></table>\n",
        "</td></tr></table></td><td style=\"vertical-align:bottom;padding-bottom:5px;padding-left:10px\"><b>[FA]</b></td></tr><tr style=\"border-top: 1px solid #848482\"><td align=\"center\"><table style=\"margin-top:10px\"><tr><td style=\"vertical-align:bottom\" align=\"center\">$||\\mathbf{\\text{[[saw] him]}}||^{}_{\\langle{}e,\\langle{}e,t\\rangle{}\\rangle{}}$</td></tr><tr><td style=\"vertical-align:bottom\" align=\"center\">$ = \\lambda{} x_{e} \\: . \\: \\lambda{} y_{e} \\: . \\: {Saw}({y}_{e}, {x}_{e})$</td></tr></table>\n",
        "</td><td></td></tr></table>\n",
        "</td></tr></table></td><td style=\"vertical-align:bottom;padding-bottom:5px;padding-left:10px\"><b>[FA]</b></td></tr><tr style=\"border-top: 1px solid #848482\"><td align=\"center\"><table style=\"margin-top:10px\"><tr><td style=\"vertical-align:bottom\" align=\"center\">$||\\mathbf{\\text{[[mary2] [[saw] him]]}}||^{}_{\\langle{}e,t\\rangle{}}$</td></tr><tr><td style=\"vertical-align:bottom\" align=\"center\">$ = \\lambda{} x_{e} \\: . \\: {Saw}({Mary}_{e}, {x}_{e})$</td></tr></table>\n",
        "</td><td></td></tr></table>"
       ]
      }
     ],
     "prompt_number": 28
    },
    {
     "cell_type": "code",
     "collapsed": false,
     "input": [
      "r[1].latex_step_tree()"
     ],
     "language": "python",
     "metadata": {},
     "outputs": [
      {
       "latex": [
        "<table><tr><td style=\"vertical-align:bottom;padding:0px 10px\" align=\"center\"><table><tr><td style=\"vertical-align:bottom\"><table align=\"center\"><tr><td align=\"center\">$||\\mathbf{\\text{mary2}}||^{}_{\\langle{}\\langle{}e,t\\rangle{},t\\rangle{}}$</td></tr><tr><td align=\"center\">$\\lambda{} f_{\\langle{}e,t\\rangle{}} \\: . \\: {f}_{\\langle{}e,t\\rangle{}}({Mary}_{e})$</td></tr></table>\n",
        "</td><td style=\"vertical-align:bottom;padding-bottom:5px\">&nbsp;&nbsp;&nbsp;$\\circ$&nbsp;&nbsp;&nbsp;</td><td style=\"vertical-align:bottom\"><table><tr><td style=\"vertical-align:bottom;padding:0px 10px\" align=\"center\"><table><tr><td style=\"vertical-align:bottom\"><table><tr><td style=\"vertical-align:bottom;padding:0px 10px\" align=\"center\"><table><tr><td style=\"vertical-align:bottom\"><table align=\"center\"><tr><td align=\"center\">$||\\mathbf{\\text{saw}}||^{}_{\\langle{}e,\\langle{}e,t\\rangle{}\\rangle{}}$</td></tr><tr><td align=\"center\">$\\lambda{} x_{e} \\: . \\: \\lambda{} y_{e} \\: . \\: {Saw}({y}_{e}, {x}_{e})$</td></tr></table>\n",
        "</td></tr></table></td><td style=\"vertical-align:bottom;padding-bottom:5px;padding-left:10px\"><b>[z-shift]</b></td></tr><tr style=\"border-top: 1px solid #848482\"><td align=\"center\"><table style=\"margin-top:10px\"><tr><td style=\"vertical-align:bottom\" align=\"center\">$||\\mathbf{\\text{[saw]}}||^{}_{\\langle{}\\langle{}e,e\\rangle{},\\langle{}e,t\\rangle{}\\rangle{}}$</td></tr><tr><td style=\"vertical-align:bottom\" align=\"center\">$ = \\lambda{} g_{\\langle{}e,e\\rangle{}} \\: . \\: \\lambda{} x_{e} \\: . \\: {Saw}({x}_{e}, {g}_{\\langle{}e,e\\rangle{}}({x}_{e}))$</td></tr></table>\n",
        "</td><td></td></tr></table>\n",
        "</td><td style=\"vertical-align:bottom;padding-bottom:5px\">&nbsp;&nbsp;&nbsp;$\\circ$&nbsp;&nbsp;&nbsp;</td><td style=\"vertical-align:bottom\"><table align=\"center\"><tr><td align=\"center\">$||\\mathbf{\\text{him}}||^{}_{\\langle{}e,e\\rangle{}}$</td></tr><tr><td align=\"center\">$\\lambda{} x_{e} \\: . \\: {x}_{e}$</td></tr></table>\n",
        "</td></tr></table></td><td style=\"vertical-align:bottom;padding-bottom:5px;padding-left:10px\"><b>[FA]</b></td></tr><tr style=\"border-top: 1px solid #848482\"><td align=\"center\"><table style=\"margin-top:10px\"><tr><td style=\"vertical-align:bottom\" align=\"center\">$||\\mathbf{\\text{[[saw] him]}}||^{}_{\\langle{}e,t\\rangle{}}$</td></tr><tr><td style=\"vertical-align:bottom\" align=\"center\">$ = \\lambda{} x_{e} \\: . \\: {Saw}({x}_{e}, {x}_{e})$</td></tr></table>\n",
        "</td><td></td></tr></table>\n",
        "</td></tr></table></td><td style=\"vertical-align:bottom;padding-bottom:5px;padding-left:10px\"><b>[FA]</b></td></tr><tr style=\"border-top: 1px solid #848482\"><td align=\"center\"><table style=\"margin-top:10px\"><tr><td style=\"vertical-align:bottom\" align=\"center\">$||\\mathbf{\\text{[mary2 [[saw] him]]}}||^{}_{t}$</td></tr><tr><td style=\"vertical-align:bottom\" align=\"center\">$ = {Saw}({Mary}_{e}, {Mary}_{e})$</td></tr></table>\n",
        "</td><td></td></tr></table>\n"
       ],
       "metadata": {},
       "output_type": "pyout",
       "prompt_number": 29,
       "text": [
        "<table><tr><td style=\"vertical-align:bottom;padding:0px 10px\" align=\"center\"><table><tr><td style=\"vertical-align:bottom\"><table align=\"center\"><tr><td align=\"center\">$||\\mathbf{\\text{mary2}}||^{}_{\\langle{}\\langle{}e,t\\rangle{},t\\rangle{}}$</td></tr><tr><td align=\"center\">$\\lambda{} f_{\\langle{}e,t\\rangle{}} \\: . \\: {f}_{\\langle{}e,t\\rangle{}}({Mary}_{e})$</td></tr></table>\n",
        "</td><td style=\"vertical-align:bottom;padding-bottom:5px\">&nbsp;&nbsp;&nbsp;$\\circ$&nbsp;&nbsp;&nbsp;</td><td style=\"vertical-align:bottom\"><table><tr><td style=\"vertical-align:bottom;padding:0px 10px\" align=\"center\"><table><tr><td style=\"vertical-align:bottom\"><table><tr><td style=\"vertical-align:bottom;padding:0px 10px\" align=\"center\"><table><tr><td style=\"vertical-align:bottom\"><table align=\"center\"><tr><td align=\"center\">$||\\mathbf{\\text{saw}}||^{}_{\\langle{}e,\\langle{}e,t\\rangle{}\\rangle{}}$</td></tr><tr><td align=\"center\">$\\lambda{} x_{e} \\: . \\: \\lambda{} y_{e} \\: . \\: {Saw}({y}_{e}, {x}_{e})$</td></tr></table>\n",
        "</td></tr></table></td><td style=\"vertical-align:bottom;padding-bottom:5px;padding-left:10px\"><b>[z-shift]</b></td></tr><tr style=\"border-top: 1px solid #848482\"><td align=\"center\"><table style=\"margin-top:10px\"><tr><td style=\"vertical-align:bottom\" align=\"center\">$||\\mathbf{\\text{[saw]}}||^{}_{\\langle{}\\langle{}e,e\\rangle{},\\langle{}e,t\\rangle{}\\rangle{}}$</td></tr><tr><td style=\"vertical-align:bottom\" align=\"center\">$ = \\lambda{} g_{\\langle{}e,e\\rangle{}} \\: . \\: \\lambda{} x_{e} \\: . \\: {Saw}({x}_{e}, {g}_{\\langle{}e,e\\rangle{}}({x}_{e}))$</td></tr></table>\n",
        "</td><td></td></tr></table>\n",
        "</td><td style=\"vertical-align:bottom;padding-bottom:5px\">&nbsp;&nbsp;&nbsp;$\\circ$&nbsp;&nbsp;&nbsp;</td><td style=\"vertical-align:bottom\"><table align=\"center\"><tr><td align=\"center\">$||\\mathbf{\\text{him}}||^{}_{\\langle{}e,e\\rangle{}}$</td></tr><tr><td align=\"center\">$\\lambda{} x_{e} \\: . \\: {x}_{e}$</td></tr></table>\n",
        "</td></tr></table></td><td style=\"vertical-align:bottom;padding-bottom:5px;padding-left:10px\"><b>[FA]</b></td></tr><tr style=\"border-top: 1px solid #848482\"><td align=\"center\"><table style=\"margin-top:10px\"><tr><td style=\"vertical-align:bottom\" align=\"center\">$||\\mathbf{\\text{[[saw] him]}}||^{}_{\\langle{}e,t\\rangle{}}$</td></tr><tr><td style=\"vertical-align:bottom\" align=\"center\">$ = \\lambda{} x_{e} \\: . \\: {Saw}({x}_{e}, {x}_{e})$</td></tr></table>\n",
        "</td><td></td></tr></table>\n",
        "</td></tr></table></td><td style=\"vertical-align:bottom;padding-bottom:5px;padding-left:10px\"><b>[FA]</b></td></tr><tr style=\"border-top: 1px solid #848482\"><td align=\"center\"><table style=\"margin-top:10px\"><tr><td style=\"vertical-align:bottom\" align=\"center\">$||\\mathbf{\\text{[mary2 [[saw] him]]}}||^{}_{t}$</td></tr><tr><td style=\"vertical-align:bottom\" align=\"center\">$ = {Saw}({Mary}_{e}, {Mary}_{e})$</td></tr></table>\n",
        "</td><td></td></tr></table>"
       ]
      }
     ],
     "prompt_number": 29
    },
    {
     "cell_type": "code",
     "collapsed": false,
     "input": [],
     "language": "python",
     "metadata": {},
     "outputs": [],
     "prompt_number": 29
    },
    {
     "cell_type": "code",
     "collapsed": false,
     "input": [
      "%%lamb\n",
      "||every|| = L f_<e,t> : L g_<e,t> : Forall x_e : f(x) >> g(x)\n",
      "||man|| = L x_e : Man(x)"
     ],
     "language": "python",
     "metadata": {},
     "outputs": [
      {
       "output_type": "stream",
       "stream": "stderr",
       "text": [
        "INFO (meta): Coerced guessed type t for 'Man_t' into <e,t>, to match argument 'x_e'\n"
       ]
      },
      {
       "latex": [
        "$||\\mathbf{\\text{every}}||^{}_{\\langle{}\\langle{}e,t\\rangle{},\\langle{}\\langle{}e,t\\rangle{},t\\rangle{}\\rangle{}} \\:=\\: \\lambda{} f_{\\langle{}e,t\\rangle{}} \\: . \\: \\lambda{} g_{\\langle{}e,t\\rangle{}} \\: . \\: \\forall{} x_{e} \\: . \\: ({f}_{\\langle{}e,t\\rangle{}}({x}_{e}) \\rightarrow{} {g}_{\\langle{}e,t\\rangle{}}({x}_{e}))$<br />\n",
        "$||\\mathbf{\\text{man}}||^{}_{\\langle{}e,t\\rangle{}} \\:=\\: \\lambda{} x_{e} \\: . \\: {Man}({x}_{e})$"
       ],
       "metadata": {},
       "output_type": "pyout",
       "prompt_number": 30,
       "text": [
        "$||\\mathbf{\\text{every}}||^{}_{\\langle{}\\langle{}e,t\\rangle{},\\langle{}\\langle{}e,t\\rangle{},t\\rangle{}\\rangle{}} \\:=\\: \\lambda{} f_{\\langle{}e,t\\rangle{}} \\: . \\: \\lambda{} g_{\\langle{}e,t\\rangle{}} \\: . \\: \\forall{} x_{e} \\: . \\: ({f}_{\\langle{}e,t\\rangle{}}({x}_{e}) \\rightarrow{} {g}_{\\langle{}e,t\\rangle{}}({x}_{e}))$<br />\n",
        "$||\\mathbf{\\text{man}}||^{}_{\\langle{}e,t\\rangle{}} \\:=\\: \\lambda{} x_{e} \\: . \\: {Man}({x}_{e})$"
       ]
      }
     ],
     "prompt_number": 30
    },
    {
     "cell_type": "code",
     "collapsed": false,
     "input": [
      "dp = every * man\n",
      "dp.reduce_all()"
     ],
     "language": "python",
     "metadata": {},
     "outputs": [
      {
       "latex": [
        "1 composition path.  Result:\n",
        "<br />&nbsp;&nbsp;&nbsp;&nbsp;[0]: $||\\mathbf{\\text{[every man]}}||^{}_{\\langle{}\\langle{}e,t\\rangle{},t\\rangle{}} \\:=\\: $$\\lambda{} g_{\\langle{}e,t\\rangle{}} \\: . \\: \\forall{} x_{e} \\: . \\: ({Man}({x}_{e}) \\rightarrow{} {g}_{\\langle{}e,t\\rangle{}}({x}_{e}))$"
       ],
       "metadata": {},
       "output_type": "pyout",
       "prompt_number": 31,
       "text": [
        "CompositionResult(results=[||[every man]|| = (\u03bb g_<e,t>: (Forall x_e: (Man_<e,t>(x_e) >> g_<e,t>(x_e))))], failures=[||[man every]|| = Type mismatch: '||man|| = (\u03bb x_e: Man_<e,t>(x_e))'/<e,t> and '||every|| = (\u03bb f_<e,t>: (\u03bb g_<e,t>: (Forall x_e: (f_<e,t>(x_e) >> g_<e,t>(x_e)))))'/<<e,t>,<<e,t>,t>> conflict (mode: Function Application), ||[every man]|| = Type mismatch: '||every|| = (\u03bb f_<e,t>: (\u03bb g_<e,t>: (Forall x_e: (f_<e,t>(x_e) >> g_<e,t>(x_e)))))'/<<e,t>,<<e,t>,t>> and '||man|| = (\u03bb x_e: Man_<e,t>(x_e))'/<e,t> conflict (mode: Predicate Modification), ||[every man]|| = Type mismatch: '||every|| = (\u03bb f_<e,t>: (\u03bb g_<e,t>: (Forall x_e: (f_<e,t>(x_e) >> g_<e,t>(x_e)))))'/<<e,t>,<<e,t>,t>> and '||man|| = (\u03bb x_e: Man_<e,t>(x_e))'/<e,t> conflict (mode: Predicate Abstraction), ||[man every]|| = Type mismatch: '||man|| = (\u03bb x_e: Man_<e,t>(x_e))'/<e,t> and '||every|| = (\u03bb f_<e,t>: (\u03bb g_<e,t>: (Forall x_e: (f_<e,t>(x_e) >> g_<e,t>(x_e)))))'/<<e,t>,<<e,t>,t>> conflict (mode: Predicate Abstraction)])"
       ]
      }
     ],
     "prompt_number": 31
    },
    {
     "cell_type": "code",
     "collapsed": false,
     "input": [
      "(dp * (saw * him)).reduce_all()"
     ],
     "language": "python",
     "metadata": {},
     "outputs": [
      {
       "latex": [
        "2 composition paths. Results:\n",
        "<br />&nbsp;&nbsp;&nbsp;&nbsp;[0]: $||\\mathbf{\\text{[[[every man]] [[saw] him]]}}||^{}_{\\langle{}e,t\\rangle{}} \\:=\\: $$\\lambda{} x_{e} \\: . \\: \\forall{} x1_{e} \\: . \\: ({Man}({x1}_{e}) \\rightarrow{} {Saw}({x1}_{e}, {x}_{e}))$\n",
        "<br />&nbsp;&nbsp;&nbsp;&nbsp;[1]: $||\\mathbf{\\text{[[every man] [[saw] him]]}}||^{}_{t} \\:=\\: $$\\forall{} x_{e} \\: . \\: ({Man}({x}_{e}) \\rightarrow{} {Saw}({x}_{e}, {x}_{e}))$"
       ],
       "metadata": {},
       "output_type": "pyout",
       "prompt_number": 32,
       "text": [
        "CompositionResult(results=[||[[[every man]] [[saw] him]]|| = (\u03bb x_e: (Forall x1_e: (Man_<e,t>(x1_e) >> Saw_<(e,e),t>(x1_e, x_e)))), ||[[every man] [[saw] him]]|| = (Forall x_e: (Man_<e,t>(x_e) >> Saw_<(e,e),t>(x_e, x_e)))], failures=[||[[[every man]] [[[saw] him]]]|| = Type mismatch: '||[[every man]]|| = (\u03bb f_<e,<e,t>>: (\u03bb x_e: (Forall x1_e: (Man_<e,t>(x1_e) >> f_<e,<e,t>>(x_e)(x1_e)))))'/<<e,<e,t>>,<e,t>> and '||[[[saw] him]]|| = (\u03bb f_<e,e>: (\u03bb x_e: (\u03bb y_e: Saw_<(e,e),t>(y_e, f_<e,e>(x_e)))))'/<<e,e>,<e,<e,t>>> conflict (mode: Function Application), ||[[[[saw] him]] [[every man]]]|| = Type mismatch: '||[[[saw] him]]|| = (\u03bb f_<e,e>: (\u03bb x_e: (\u03bb y_e: Saw_<(e,e),t>(y_e, f_<e,e>(x_e)))))'/<<e,e>,<e,<e,t>>> and '||[[every man]]|| = (\u03bb f_<e,<e,t>>: (\u03bb x_e: (Forall x1_e: (Man_<e,t>(x1_e) >> f_<e,<e,t>>(x_e)(x1_e)))))'/<<e,<e,t>>,<e,t>> conflict (mode: Function Application), ||[[[every man]] [[[saw] him]]]|| = Type mismatch: '||[[every man]]|| = (\u03bb f_<e,<e,t>>: (\u03bb x_e: (Forall x1_e: (Man_<e,t>(x1_e) >> f_<e,<e,t>>(x_e)(x1_e)))))'/<<e,<e,t>>,<e,t>> and '||[[[saw] him]]|| = (\u03bb f_<e,e>: (\u03bb x_e: (\u03bb y_e: Saw_<(e,e),t>(y_e, f_<e,e>(x_e)))))'/<<e,e>,<e,<e,t>>> conflict (mode: Predicate Modification), ||[[[every man]] [[[saw] him]]]|| = Type mismatch: '||[[every man]]|| = (\u03bb f_<e,<e,t>>: (\u03bb x_e: (Forall x1_e: (Man_<e,t>(x1_e) >> f_<e,<e,t>>(x_e)(x1_e)))))'/<<e,<e,t>>,<e,t>> and '||[[[saw] him]]|| = (\u03bb f_<e,e>: (\u03bb x_e: (\u03bb y_e: Saw_<(e,e),t>(y_e, f_<e,e>(x_e)))))'/<<e,e>,<e,<e,t>>> conflict (mode: Predicate Abstraction), ||[[[[saw] him]] [[every man]]]|| = Type mismatch: '||[[[saw] him]]|| = (\u03bb f_<e,e>: (\u03bb x_e: (\u03bb y_e: Saw_<(e,e),t>(y_e, f_<e,e>(x_e)))))'/<<e,e>,<e,<e,t>>> and '||[[every man]]|| = (\u03bb f_<e,<e,t>>: (\u03bb x_e: (Forall x1_e: (Man_<e,t>(x1_e) >> f_<e,<e,t>>(x_e)(x1_e)))))'/<<e,<e,t>>,<e,t>> conflict (mode: Predicate Abstraction), ||[[[every man]] [[[saw] him]]]|| = Type mismatch: '||[[every man]]|| = (\u03bb f_<e,<e,t>>: (\u03bb x_e: (Forall x1_e: (Man_<e,t>(x1_e) >> f_<e,<e,t>>(x_e)(x1_e)))))'/<<e,<e,t>>,<e,t>> and '||[[[saw] him]]|| = (\u03bb g_<e,e>: (\u03bb x_e: Saw_<(e,e),t>(x_e, g_<e,e>(x_e))))'/<<e,e>,<e,t>> conflict (mode: Function Application), ||[[[[saw] him]] [[every man]]]|| = Type mismatch: '||[[[saw] him]]|| = (\u03bb g_<e,e>: (\u03bb x_e: Saw_<(e,e),t>(x_e, g_<e,e>(x_e))))'/<<e,e>,<e,t>> and '||[[every man]]|| = (\u03bb f_<e,<e,t>>: (\u03bb x_e: (Forall x1_e: (Man_<e,t>(x1_e) >> f_<e,<e,t>>(x_e)(x1_e)))))'/<<e,<e,t>>,<e,t>> conflict (mode: Function Application), ||[[[every man]] [[[saw] him]]]|| = Type mismatch: '||[[every man]]|| = (\u03bb f_<e,<e,t>>: (\u03bb x_e: (Forall x1_e: (Man_<e,t>(x1_e) >> f_<e,<e,t>>(x_e)(x1_e)))))'/<<e,<e,t>>,<e,t>> and '||[[[saw] him]]|| = (\u03bb g_<e,e>: (\u03bb x_e: Saw_<(e,e),t>(x_e, g_<e,e>(x_e))))'/<<e,e>,<e,t>> conflict (mode: Predicate Modification), ||[[[every man]] [[[saw] him]]]|| = Type mismatch: '||[[every man]]|| = (\u03bb f_<e,<e,t>>: (\u03bb x_e: (Forall x1_e: (Man_<e,t>(x1_e) >> f_<e,<e,t>>(x_e)(x1_e)))))'/<<e,<e,t>>,<e,t>> and '||[[[saw] him]]|| = (\u03bb g_<e,e>: (\u03bb x_e: Saw_<(e,e),t>(x_e, g_<e,e>(x_e))))'/<<e,e>,<e,t>> conflict (mode: Predicate Abstraction), ||[[[[saw] him]] [[every man]]]|| = Type mismatch: '||[[[saw] him]]|| = (\u03bb g_<e,e>: (\u03bb x_e: Saw_<(e,e),t>(x_e, g_<e,e>(x_e))))'/<<e,e>,<e,t>> and '||[[every man]]|| = (\u03bb f_<e,<e,t>>: (\u03bb x_e: (Forall x1_e: (Man_<e,t>(x1_e) >> f_<e,<e,t>>(x_e)(x1_e)))))'/<<e,<e,t>>,<e,t>> conflict (mode: Predicate Abstraction), ||[[[every man]] [[[saw] him]]]|| = Type mismatch: '||[[every man]]|| = (\u03bb f_<e,<e,t>>: (\u03bb x_e: (Forall x1_e: (Man_<e,t>(x1_e) >> f_<e,<e,t>>(x_e)(x1_e)))))'/<<e,<e,t>>,<e,t>> and '||[[[saw] him]]|| = (\u03bb f_<<e,t>,e>: (\u03bb x_<e,t>: (\u03bb y_e: Saw_<(e,e),t>(y_e, f_<<e,t>,e>(x_<e,t>)))))'/<<<e,t>,e>,<<e,t>,<e,t>>> conflict (mode: Function Application), ||[[[[saw] him]] [[every man]]]|| = Type mismatch: '||[[[saw] him]]|| = (\u03bb f_<<e,t>,e>: (\u03bb x_<e,t>: (\u03bb y_e: Saw_<(e,e),t>(y_e, f_<<e,t>,e>(x_<e,t>)))))'/<<<e,t>,e>,<<e,t>,<e,t>>> and '||[[every man]]|| = (\u03bb f_<e,<e,t>>: (\u03bb x_e: (Forall x1_e: (Man_<e,t>(x1_e) >> f_<e,<e,t>>(x_e)(x1_e)))))'/<<e,<e,t>>,<e,t>> conflict (mode: Function Application), ||[[[every man]] [[[saw] him]]]|| = Type mismatch: '||[[every man]]|| = (\u03bb f_<e,<e,t>>: (\u03bb x_e: (Forall x1_e: (Man_<e,t>(x1_e) >> f_<e,<e,t>>(x_e)(x1_e)))))'/<<e,<e,t>>,<e,t>> and '||[[[saw] him]]|| = (\u03bb f_<<e,t>,e>: (\u03bb x_<e,t>: (\u03bb y_e: Saw_<(e,e),t>(y_e, f_<<e,t>,e>(x_<e,t>)))))'/<<<e,t>,e>,<<e,t>,<e,t>>> conflict (mode: Predicate Modification), ||[[[every man]] [[[saw] him]]]|| = Type mismatch: '||[[every man]]|| = (\u03bb f_<e,<e,t>>: (\u03bb x_e: (Forall x1_e: (Man_<e,t>(x1_e) >> f_<e,<e,t>>(x_e)(x1_e)))))'/<<e,<e,t>>,<e,t>> and '||[[[saw] him]]|| = (\u03bb f_<<e,t>,e>: (\u03bb x_<e,t>: (\u03bb y_e: Saw_<(e,e),t>(y_e, f_<<e,t>,e>(x_<e,t>)))))'/<<<e,t>,e>,<<e,t>,<e,t>>> conflict (mode: Predicate Abstraction), ||[[[[saw] him]] [[every man]]]|| = Type mismatch: '||[[[saw] him]]|| = (\u03bb f_<<e,t>,e>: (\u03bb x_<e,t>: (\u03bb y_e: Saw_<(e,e),t>(y_e, f_<<e,t>,e>(x_<e,t>)))))'/<<<e,t>,e>,<<e,t>,<e,t>>> and '||[[every man]]|| = (\u03bb f_<e,<e,t>>: (\u03bb x_e: (Forall x1_e: (Man_<e,t>(x1_e) >> f_<e,<e,t>>(x_e)(x1_e)))))'/<<e,<e,t>>,<e,t>> conflict (mode: Predicate Abstraction), ||[[[saw] him] [[every man]]]|| = Type mismatch: '||[[saw] him]|| = (\u03bb x_e: (\u03bb y_e: Saw_<(e,e),t>(y_e, x_e)))'/<e,<e,t>> and '||[[every man]]|| = (\u03bb f_<e,<e,t>>: (\u03bb x_e: (Forall x1_e: (Man_<e,t>(x1_e) >> f_<e,<e,t>>(x_e)(x1_e)))))'/<<e,<e,t>>,<e,t>> conflict (mode: Function Application), ||[[[every man]] [[saw] him]]|| = Type mismatch: '||[[every man]]|| = (\u03bb f_<e,<e,t>>: (\u03bb x_e: (Forall x1_e: (Man_<e,t>(x1_e) >> f_<e,<e,t>>(x_e)(x1_e)))))'/<<e,<e,t>>,<e,t>> and '||[[saw] him]|| = (\u03bb x_e: (\u03bb y_e: Saw_<(e,e),t>(y_e, x_e)))'/<e,<e,t>> conflict (mode: Predicate Modification), ||[[[every man]] [[saw] him]]|| = Type mismatch: '||[[every man]]|| = (\u03bb f_<e,<e,t>>: (\u03bb x_e: (Forall x1_e: (Man_<e,t>(x1_e) >> f_<e,<e,t>>(x_e)(x1_e)))))'/<<e,<e,t>>,<e,t>> and '||[[saw] him]|| = (\u03bb x_e: (\u03bb y_e: Saw_<(e,e),t>(y_e, x_e)))'/<e,<e,t>> conflict (mode: Predicate Abstraction), ||[[[saw] him] [[every man]]]|| = Type mismatch: '||[[saw] him]|| = (\u03bb x_e: (\u03bb y_e: Saw_<(e,e),t>(y_e, x_e)))'/<e,<e,t>> and '||[[every man]]|| = (\u03bb f_<e,<e,t>>: (\u03bb x_e: (Forall x1_e: (Man_<e,t>(x1_e) >> f_<e,<e,t>>(x_e)(x1_e)))))'/<<e,<e,t>>,<e,t>> conflict (mode: Predicate Abstraction), ||[[[every man]] [[[saw] him]]]|| = Type mismatch: '||[[every man]]|| = (\u03bb f_<<e,t>,<e,t>>: (\u03bb x_<e,t>: (Forall x1_e: (Man_<e,t>(x1_e) >> f_<<e,t>,<e,t>>(x_<e,t>)(x1_e)))))'/<<<e,t>,<e,t>>,<<e,t>,t>> and '||[[[saw] him]]|| = (\u03bb f_<e,e>: (\u03bb x_e: (\u03bb y_e: Saw_<(e,e),t>(y_e, f_<e,e>(x_e)))))'/<<e,e>,<e,<e,t>>> conflict (mode: Function Application), ||[[[[saw] him]] [[every man]]]|| = Type mismatch: '||[[[saw] him]]|| = (\u03bb f_<e,e>: (\u03bb x_e: (\u03bb y_e: Saw_<(e,e),t>(y_e, f_<e,e>(x_e)))))'/<<e,e>,<e,<e,t>>> and '||[[every man]]|| = (\u03bb f_<<e,t>,<e,t>>: (\u03bb x_<e,t>: (Forall x1_e: (Man_<e,t>(x1_e) >> f_<<e,t>,<e,t>>(x_<e,t>)(x1_e)))))'/<<<e,t>,<e,t>>,<<e,t>,t>> conflict (mode: Function Application), ||[[[every man]] [[[saw] him]]]|| = Type mismatch: '||[[every man]]|| = (\u03bb f_<<e,t>,<e,t>>: (\u03bb x_<e,t>: (Forall x1_e: (Man_<e,t>(x1_e) >> f_<<e,t>,<e,t>>(x_<e,t>)(x1_e)))))'/<<<e,t>,<e,t>>,<<e,t>,t>> and '||[[[saw] him]]|| = (\u03bb f_<e,e>: (\u03bb x_e: (\u03bb y_e: Saw_<(e,e),t>(y_e, f_<e,e>(x_e)))))'/<<e,e>,<e,<e,t>>> conflict (mode: Predicate Modification), ||[[[every man]] [[[saw] him]]]|| = Type mismatch: '||[[every man]]|| = (\u03bb f_<<e,t>,<e,t>>: (\u03bb x_<e,t>: (Forall x1_e: (Man_<e,t>(x1_e) >> f_<<e,t>,<e,t>>(x_<e,t>)(x1_e)))))'/<<<e,t>,<e,t>>,<<e,t>,t>> and '||[[[saw] him]]|| = (\u03bb f_<e,e>: (\u03bb x_e: (\u03bb y_e: Saw_<(e,e),t>(y_e, f_<e,e>(x_e)))))'/<<e,e>,<e,<e,t>>> conflict (mode: Predicate Abstraction), ||[[[[saw] him]] [[every man]]]|| = Type mismatch: '||[[[saw] him]]|| = (\u03bb f_<e,e>: (\u03bb x_e: (\u03bb y_e: Saw_<(e,e),t>(y_e, f_<e,e>(x_e)))))'/<<e,e>,<e,<e,t>>> and '||[[every man]]|| = (\u03bb f_<<e,t>,<e,t>>: (\u03bb x_<e,t>: (Forall x1_e: (Man_<e,t>(x1_e) >> f_<<e,t>,<e,t>>(x_<e,t>)(x1_e)))))'/<<<e,t>,<e,t>>,<<e,t>,t>> conflict (mode: Predicate Abstraction), ||[[[every man]] [[[saw] him]]]|| = Type mismatch: '||[[every man]]|| = (\u03bb f_<<e,t>,<e,t>>: (\u03bb x_<e,t>: (Forall x1_e: (Man_<e,t>(x1_e) >> f_<<e,t>,<e,t>>(x_<e,t>)(x1_e)))))'/<<<e,t>,<e,t>>,<<e,t>,t>> and '||[[[saw] him]]|| = (\u03bb g_<e,e>: (\u03bb x_e: Saw_<(e,e),t>(x_e, g_<e,e>(x_e))))'/<<e,e>,<e,t>> conflict (mode: Function Application), ||[[[[saw] him]] [[every man]]]|| = Type mismatch: '||[[[saw] him]]|| = (\u03bb g_<e,e>: (\u03bb x_e: Saw_<(e,e),t>(x_e, g_<e,e>(x_e))))'/<<e,e>,<e,t>> and '||[[every man]]|| = (\u03bb f_<<e,t>,<e,t>>: (\u03bb x_<e,t>: (Forall x1_e: (Man_<e,t>(x1_e) >> f_<<e,t>,<e,t>>(x_<e,t>)(x1_e)))))'/<<<e,t>,<e,t>>,<<e,t>,t>> conflict (mode: Function Application), ||[[[every man]] [[[saw] him]]]|| = Type mismatch: '||[[every man]]|| = (\u03bb f_<<e,t>,<e,t>>: (\u03bb x_<e,t>: (Forall x1_e: (Man_<e,t>(x1_e) >> f_<<e,t>,<e,t>>(x_<e,t>)(x1_e)))))'/<<<e,t>,<e,t>>,<<e,t>,t>> and '||[[[saw] him]]|| = (\u03bb g_<e,e>: (\u03bb x_e: Saw_<(e,e),t>(x_e, g_<e,e>(x_e))))'/<<e,e>,<e,t>> conflict (mode: Predicate Modification), ||[[[every man]] [[[saw] him]]]|| = Type mismatch: '||[[every man]]|| = (\u03bb f_<<e,t>,<e,t>>: (\u03bb x_<e,t>: (Forall x1_e: (Man_<e,t>(x1_e) >> f_<<e,t>,<e,t>>(x_<e,t>)(x1_e)))))'/<<<e,t>,<e,t>>,<<e,t>,t>> and '||[[[saw] him]]|| = (\u03bb g_<e,e>: (\u03bb x_e: Saw_<(e,e),t>(x_e, g_<e,e>(x_e))))'/<<e,e>,<e,t>> conflict (mode: Predicate Abstraction), ||[[[[saw] him]] [[every man]]]|| = Type mismatch: '||[[[saw] him]]|| = (\u03bb g_<e,e>: (\u03bb x_e: Saw_<(e,e),t>(x_e, g_<e,e>(x_e))))'/<<e,e>,<e,t>> and '||[[every man]]|| = (\u03bb f_<<e,t>,<e,t>>: (\u03bb x_<e,t>: (Forall x1_e: (Man_<e,t>(x1_e) >> f_<<e,t>,<e,t>>(x_<e,t>)(x1_e)))))'/<<<e,t>,<e,t>>,<<e,t>,t>> conflict (mode: Predicate Abstraction), ||[[[every man]] [[[saw] him]]]|| = Type mismatch: '||[[every man]]|| = (\u03bb f_<<e,t>,<e,t>>: (\u03bb x_<e,t>: (Forall x1_e: (Man_<e,t>(x1_e) >> f_<<e,t>,<e,t>>(x_<e,t>)(x1_e)))))'/<<<e,t>,<e,t>>,<<e,t>,t>> and '||[[[saw] him]]|| = (\u03bb f_<<e,t>,e>: (\u03bb x_<e,t>: (\u03bb y_e: Saw_<(e,e),t>(y_e, f_<<e,t>,e>(x_<e,t>)))))'/<<<e,t>,e>,<<e,t>,<e,t>>> conflict (mode: Function Application), ||[[[[saw] him]] [[every man]]]|| = Type mismatch: '||[[[saw] him]]|| = (\u03bb f_<<e,t>,e>: (\u03bb x_<e,t>: (\u03bb y_e: Saw_<(e,e),t>(y_e, f_<<e,t>,e>(x_<e,t>)))))'/<<<e,t>,e>,<<e,t>,<e,t>>> and '||[[every man]]|| = (\u03bb f_<<e,t>,<e,t>>: (\u03bb x_<e,t>: (Forall x1_e: (Man_<e,t>(x1_e) >> f_<<e,t>,<e,t>>(x_<e,t>)(x1_e)))))'/<<<e,t>,<e,t>>,<<e,t>,t>> conflict (mode: Function Application), ||[[[every man]] [[[saw] him]]]|| = Type mismatch: '||[[every man]]|| = (\u03bb f_<<e,t>,<e,t>>: (\u03bb x_<e,t>: (Forall x1_e: (Man_<e,t>(x1_e) >> f_<<e,t>,<e,t>>(x_<e,t>)(x1_e)))))'/<<<e,t>,<e,t>>,<<e,t>,t>> and '||[[[saw] him]]|| = (\u03bb f_<<e,t>,e>: (\u03bb x_<e,t>: (\u03bb y_e: Saw_<(e,e),t>(y_e, f_<<e,t>,e>(x_<e,t>)))))'/<<<e,t>,e>,<<e,t>,<e,t>>> conflict (mode: Predicate Modification), ||[[[every man]] [[[saw] him]]]|| = Type mismatch: '||[[every man]]|| = (\u03bb f_<<e,t>,<e,t>>: (\u03bb x_<e,t>: (Forall x1_e: (Man_<e,t>(x1_e) >> f_<<e,t>,<e,t>>(x_<e,t>)(x1_e)))))'/<<<e,t>,<e,t>>,<<e,t>,t>> and '||[[[saw] him]]|| = (\u03bb f_<<e,t>,e>: (\u03bb x_<e,t>: (\u03bb y_e: Saw_<(e,e),t>(y_e, f_<<e,t>,e>(x_<e,t>)))))'/<<<e,t>,e>,<<e,t>,<e,t>>> conflict (mode: Predicate Abstraction), ||[[[[saw] him]] [[every man]]]|| = Type mismatch: '||[[[saw] him]]|| = (\u03bb f_<<e,t>,e>: (\u03bb x_<e,t>: (\u03bb y_e: Saw_<(e,e),t>(y_e, f_<<e,t>,e>(x_<e,t>)))))'/<<<e,t>,e>,<<e,t>,<e,t>>> and '||[[every man]]|| = (\u03bb f_<<e,t>,<e,t>>: (\u03bb x_<e,t>: (Forall x1_e: (Man_<e,t>(x1_e) >> f_<<e,t>,<e,t>>(x_<e,t>)(x1_e)))))'/<<<e,t>,<e,t>>,<<e,t>,t>> conflict (mode: Predicate Abstraction), ||[[[every man]] [[saw] him]]|| = Type mismatch: '||[[every man]]|| = (\u03bb f_<<e,t>,<e,t>>: (\u03bb x_<e,t>: (Forall x1_e: (Man_<e,t>(x1_e) >> f_<<e,t>,<e,t>>(x_<e,t>)(x1_e)))))'/<<<e,t>,<e,t>>,<<e,t>,t>> and '||[[saw] him]|| = (\u03bb x_e: (\u03bb y_e: Saw_<(e,e),t>(y_e, x_e)))'/<e,<e,t>> conflict (mode: Function Application), ||[[[saw] him] [[every man]]]|| = Type mismatch: '||[[saw] him]|| = (\u03bb x_e: (\u03bb y_e: Saw_<(e,e),t>(y_e, x_e)))'/<e,<e,t>> and '||[[every man]]|| = (\u03bb f_<<e,t>,<e,t>>: (\u03bb x_<e,t>: (Forall x1_e: (Man_<e,t>(x1_e) >> f_<<e,t>,<e,t>>(x_<e,t>)(x1_e)))))'/<<<e,t>,<e,t>>,<<e,t>,t>> conflict (mode: Function Application), ||[[[every man]] [[saw] him]]|| = Type mismatch: '||[[every man]]|| = (\u03bb f_<<e,t>,<e,t>>: (\u03bb x_<e,t>: (Forall x1_e: (Man_<e,t>(x1_e) >> f_<<e,t>,<e,t>>(x_<e,t>)(x1_e)))))'/<<<e,t>,<e,t>>,<<e,t>,t>> and '||[[saw] him]|| = (\u03bb x_e: (\u03bb y_e: Saw_<(e,e),t>(y_e, x_e)))'/<e,<e,t>> conflict (mode: Predicate Modification), ||[[[every man]] [[saw] him]]|| = Type mismatch: '||[[every man]]|| = (\u03bb f_<<e,t>,<e,t>>: (\u03bb x_<e,t>: (Forall x1_e: (Man_<e,t>(x1_e) >> f_<<e,t>,<e,t>>(x_<e,t>)(x1_e)))))'/<<<e,t>,<e,t>>,<<e,t>,t>> and '||[[saw] him]|| = (\u03bb x_e: (\u03bb y_e: Saw_<(e,e),t>(y_e, x_e)))'/<e,<e,t>> conflict (mode: Predicate Abstraction), ||[[[saw] him] [[every man]]]|| = Type mismatch: '||[[saw] him]|| = (\u03bb x_e: (\u03bb y_e: Saw_<(e,e),t>(y_e, x_e)))'/<e,<e,t>> and '||[[every man]]|| = (\u03bb f_<<e,t>,<e,t>>: (\u03bb x_<e,t>: (Forall x1_e: (Man_<e,t>(x1_e) >> f_<<e,t>,<e,t>>(x_<e,t>)(x1_e)))))'/<<<e,t>,<e,t>>,<<e,t>,t>> conflict (mode: Predicate Abstraction), ||[[every man] [[[saw] him]]]|| = Type mismatch: '||[every man]|| = (\u03bb g_<e,t>: (Forall x_e: (Man_<e,t>(x_e) >> g_<e,t>(x_e))))'/<<e,t>,t> and '||[[[saw] him]]|| = (\u03bb f_<e,e>: (\u03bb x_e: (\u03bb y_e: Saw_<(e,e),t>(y_e, f_<e,e>(x_e)))))'/<<e,e>,<e,<e,t>>> conflict (mode: Function Application), ||[[[[saw] him]] [every man]]|| = Type mismatch: '||[[[saw] him]]|| = (\u03bb f_<e,e>: (\u03bb x_e: (\u03bb y_e: Saw_<(e,e),t>(y_e, f_<e,e>(x_e)))))'/<<e,e>,<e,<e,t>>> and '||[every man]|| = (\u03bb g_<e,t>: (Forall x_e: (Man_<e,t>(x_e) >> g_<e,t>(x_e))))'/<<e,t>,t> conflict (mode: Function Application), ||[[every man] [[[saw] him]]]|| = Type mismatch: '||[every man]|| = (\u03bb g_<e,t>: (Forall x_e: (Man_<e,t>(x_e) >> g_<e,t>(x_e))))'/<<e,t>,t> and '||[[[saw] him]]|| = (\u03bb f_<e,e>: (\u03bb x_e: (\u03bb y_e: Saw_<(e,e),t>(y_e, f_<e,e>(x_e)))))'/<<e,e>,<e,<e,t>>> conflict (mode: Predicate Modification), ||[[every man] [[[saw] him]]]|| = Type mismatch: '||[every man]|| = (\u03bb g_<e,t>: (Forall x_e: (Man_<e,t>(x_e) >> g_<e,t>(x_e))))'/<<e,t>,t> and '||[[[saw] him]]|| = (\u03bb f_<e,e>: (\u03bb x_e: (\u03bb y_e: Saw_<(e,e),t>(y_e, f_<e,e>(x_e)))))'/<<e,e>,<e,<e,t>>> conflict (mode: Predicate Abstraction), ||[[[[saw] him]] [every man]]|| = Type mismatch: '||[[[saw] him]]|| = (\u03bb f_<e,e>: (\u03bb x_e: (\u03bb y_e: Saw_<(e,e),t>(y_e, f_<e,e>(x_e)))))'/<<e,e>,<e,<e,t>>> and '||[every man]|| = (\u03bb g_<e,t>: (Forall x_e: (Man_<e,t>(x_e) >> g_<e,t>(x_e))))'/<<e,t>,t> conflict (mode: Predicate Abstraction), ||[[every man] [[[saw] him]]]|| = Type mismatch: '||[every man]|| = (\u03bb g_<e,t>: (Forall x_e: (Man_<e,t>(x_e) >> g_<e,t>(x_e))))'/<<e,t>,t> and '||[[[saw] him]]|| = (\u03bb g_<e,e>: (\u03bb x_e: Saw_<(e,e),t>(x_e, g_<e,e>(x_e))))'/<<e,e>,<e,t>> conflict (mode: Function Application), ||[[[[saw] him]] [every man]]|| = Type mismatch: '||[[[saw] him]]|| = (\u03bb g_<e,e>: (\u03bb x_e: Saw_<(e,e),t>(x_e, g_<e,e>(x_e))))'/<<e,e>,<e,t>> and '||[every man]|| = (\u03bb g_<e,t>: (Forall x_e: (Man_<e,t>(x_e) >> g_<e,t>(x_e))))'/<<e,t>,t> conflict (mode: Function Application), ||[[every man] [[[saw] him]]]|| = Type mismatch: '||[every man]|| = (\u03bb g_<e,t>: (Forall x_e: (Man_<e,t>(x_e) >> g_<e,t>(x_e))))'/<<e,t>,t> and '||[[[saw] him]]|| = (\u03bb g_<e,e>: (\u03bb x_e: Saw_<(e,e),t>(x_e, g_<e,e>(x_e))))'/<<e,e>,<e,t>> conflict (mode: Predicate Modification), ||[[every man] [[[saw] him]]]|| = Type mismatch: '||[every man]|| = (\u03bb g_<e,t>: (Forall x_e: (Man_<e,t>(x_e) >> g_<e,t>(x_e))))'/<<e,t>,t> and '||[[[saw] him]]|| = (\u03bb g_<e,e>: (\u03bb x_e: Saw_<(e,e),t>(x_e, g_<e,e>(x_e))))'/<<e,e>,<e,t>> conflict (mode: Predicate Abstraction), ||[[[[saw] him]] [every man]]|| = Type mismatch: '||[[[saw] him]]|| = (\u03bb g_<e,e>: (\u03bb x_e: Saw_<(e,e),t>(x_e, g_<e,e>(x_e))))'/<<e,e>,<e,t>> and '||[every man]|| = (\u03bb g_<e,t>: (Forall x_e: (Man_<e,t>(x_e) >> g_<e,t>(x_e))))'/<<e,t>,t> conflict (mode: Predicate Abstraction), ||[[every man] [[[saw] him]]]|| = Type mismatch: '||[every man]|| = (\u03bb g_<e,t>: (Forall x_e: (Man_<e,t>(x_e) >> g_<e,t>(x_e))))'/<<e,t>,t> and '||[[[saw] him]]|| = (\u03bb f_<<e,t>,e>: (\u03bb x_<e,t>: (\u03bb y_e: Saw_<(e,e),t>(y_e, f_<<e,t>,e>(x_<e,t>)))))'/<<<e,t>,e>,<<e,t>,<e,t>>> conflict (mode: Function Application), ||[[[[saw] him]] [every man]]|| = Type mismatch: '||[[[saw] him]]|| = (\u03bb f_<<e,t>,e>: (\u03bb x_<e,t>: (\u03bb y_e: Saw_<(e,e),t>(y_e, f_<<e,t>,e>(x_<e,t>)))))'/<<<e,t>,e>,<<e,t>,<e,t>>> and '||[every man]|| = (\u03bb g_<e,t>: (Forall x_e: (Man_<e,t>(x_e) >> g_<e,t>(x_e))))'/<<e,t>,t> conflict (mode: Function Application), ||[[every man] [[[saw] him]]]|| = Type mismatch: '||[every man]|| = (\u03bb g_<e,t>: (Forall x_e: (Man_<e,t>(x_e) >> g_<e,t>(x_e))))'/<<e,t>,t> and '||[[[saw] him]]|| = (\u03bb f_<<e,t>,e>: (\u03bb x_<e,t>: (\u03bb y_e: Saw_<(e,e),t>(y_e, f_<<e,t>,e>(x_<e,t>)))))'/<<<e,t>,e>,<<e,t>,<e,t>>> conflict (mode: Predicate Modification), ||[[every man] [[[saw] him]]]|| = Type mismatch: '||[every man]|| = (\u03bb g_<e,t>: (Forall x_e: (Man_<e,t>(x_e) >> g_<e,t>(x_e))))'/<<e,t>,t> and '||[[[saw] him]]|| = (\u03bb f_<<e,t>,e>: (\u03bb x_<e,t>: (\u03bb y_e: Saw_<(e,e),t>(y_e, f_<<e,t>,e>(x_<e,t>)))))'/<<<e,t>,e>,<<e,t>,<e,t>>> conflict (mode: Predicate Abstraction), ||[[[[saw] him]] [every man]]|| = Type mismatch: '||[[[saw] him]]|| = (\u03bb f_<<e,t>,e>: (\u03bb x_<e,t>: (\u03bb y_e: Saw_<(e,e),t>(y_e, f_<<e,t>,e>(x_<e,t>)))))'/<<<e,t>,e>,<<e,t>,<e,t>>> and '||[every man]|| = (\u03bb g_<e,t>: (Forall x_e: (Man_<e,t>(x_e) >> g_<e,t>(x_e))))'/<<e,t>,t> conflict (mode: Predicate Abstraction), ||[[every man] [[saw] him]]|| = Type mismatch: '||[every man]|| = (\u03bb g_<e,t>: (Forall x_e: (Man_<e,t>(x_e) >> g_<e,t>(x_e))))'/<<e,t>,t> and '||[[saw] him]|| = (\u03bb x_e: (\u03bb y_e: Saw_<(e,e),t>(y_e, x_e)))'/<e,<e,t>> conflict (mode: Function Application), ||[[[saw] him] [every man]]|| = Type mismatch: '||[[saw] him]|| = (\u03bb x_e: (\u03bb y_e: Saw_<(e,e),t>(y_e, x_e)))'/<e,<e,t>> and '||[every man]|| = (\u03bb g_<e,t>: (Forall x_e: (Man_<e,t>(x_e) >> g_<e,t>(x_e))))'/<<e,t>,t> conflict (mode: Function Application), ||[[every man] [[saw] him]]|| = Type mismatch: '||[every man]|| = (\u03bb g_<e,t>: (Forall x_e: (Man_<e,t>(x_e) >> g_<e,t>(x_e))))'/<<e,t>,t> and '||[[saw] him]|| = (\u03bb x_e: (\u03bb y_e: Saw_<(e,e),t>(y_e, x_e)))'/<e,<e,t>> conflict (mode: Predicate Modification), ||[[every man] [[saw] him]]|| = Type mismatch: '||[every man]|| = (\u03bb g_<e,t>: (Forall x_e: (Man_<e,t>(x_e) >> g_<e,t>(x_e))))'/<<e,t>,t> and '||[[saw] him]|| = (\u03bb x_e: (\u03bb y_e: Saw_<(e,e),t>(y_e, x_e)))'/<e,<e,t>> conflict (mode: Predicate Abstraction), ||[[[saw] him] [every man]]|| = Type mismatch: '||[[saw] him]|| = (\u03bb x_e: (\u03bb y_e: Saw_<(e,e),t>(y_e, x_e)))'/<e,<e,t>> and '||[every man]|| = (\u03bb g_<e,t>: (Forall x_e: (Man_<e,t>(x_e) >> g_<e,t>(x_e))))'/<<e,t>,t> conflict (mode: Predicate Abstraction), ||[[[saw] him] [every man]]|| = Type mismatch: '||[[saw] him]|| = (\u03bb x_e: Saw_<(e,e),t>(x_e, x_e))'/<e,t> and '||[every man]|| = (\u03bb g_<e,t>: (Forall x_e: (Man_<e,t>(x_e) >> g_<e,t>(x_e))))'/<<e,t>,t> conflict (mode: Function Application), ||[[every man] [[saw] him]]|| = Type mismatch: '||[every man]|| = (\u03bb g_<e,t>: (Forall x_e: (Man_<e,t>(x_e) >> g_<e,t>(x_e))))'/<<e,t>,t> and '||[[saw] him]|| = (\u03bb x_e: Saw_<(e,e),t>(x_e, x_e))'/<e,t> conflict (mode: Predicate Modification), ||[[every man] [[saw] him]]|| = Type mismatch: '||[every man]|| = (\u03bb g_<e,t>: (Forall x_e: (Man_<e,t>(x_e) >> g_<e,t>(x_e))))'/<<e,t>,t> and '||[[saw] him]|| = (\u03bb x_e: Saw_<(e,e),t>(x_e, x_e))'/<e,t> conflict (mode: Predicate Abstraction), ||[[[saw] him] [every man]]|| = Type mismatch: '||[[saw] him]|| = (\u03bb x_e: Saw_<(e,e),t>(x_e, x_e))'/<e,t> and '||[every man]|| = (\u03bb g_<e,t>: (Forall x_e: (Man_<e,t>(x_e) >> g_<e,t>(x_e))))'/<<e,t>,t> conflict (mode: Predicate Abstraction)])"
       ]
      }
     ],
     "prompt_number": 32
    },
    {
     "cell_type": "markdown",
     "metadata": {},
     "source": [
      "Once again, we overgenerate a condition B violation reading.  However, this process generates exactly the right readings for bound pronouns not in the local domain of the binder, as Jacobson shows:"
     ]
    },
    {
     "cell_type": "code",
     "collapsed": false,
     "input": [
      "%%lamb\n",
      "||poss|| = L f_<e,t> : Iota x_e : f(x) # just definite article\n",
      "||mother|| = L x_e : L y_e : Mother(y,x)"
     ],
     "language": "python",
     "metadata": {},
     "outputs": [
      {
       "output_type": "stream",
       "stream": "stderr",
       "text": [
        "INFO (meta): Coerced guessed type t for 'Mother_t' into <(e,e),t>, to match argument '(y_e, x_e)'\n"
       ]
      },
      {
       "latex": [
        "$||\\mathbf{\\text{poss}}||^{}_{\\langle{}\\langle{}e,t\\rangle{},e\\rangle{}} \\:=\\: \\lambda{} f_{\\langle{}e,t\\rangle{}} \\: . \\: \\iota{} x_{e} \\: . \\: {f}_{\\langle{}e,t\\rangle{}}({x}_{e})$<br />\n",
        "$||\\mathbf{\\text{mother}}||^{}_{\\langle{}e,\\langle{}e,t\\rangle{}\\rangle{}} \\:=\\: \\lambda{} x_{e} \\: . \\: \\lambda{} y_{e} \\: . \\: {Mother}({y}_{e}, {x}_{e})$"
       ],
       "metadata": {},
       "output_type": "pyout",
       "prompt_number": 33,
       "text": [
        "$||\\mathbf{\\text{poss}}||^{}_{\\langle{}\\langle{}e,t\\rangle{},e\\rangle{}} \\:=\\: \\lambda{} f_{\\langle{}e,t\\rangle{}} \\: . \\: \\iota{} x_{e} \\: . \\: {f}_{\\langle{}e,t\\rangle{}}({x}_{e})$<br />\n",
        "$||\\mathbf{\\text{mother}}||^{}_{\\langle{}e,\\langle{}e,t\\rangle{}\\rangle{}} \\:=\\: \\lambda{} x_{e} \\: . \\: \\lambda{} y_{e} \\: . \\: {Mother}({y}_{e}, {x}_{e})$"
       ]
      }
     ],
     "prompt_number": 33
    },
    {
     "cell_type": "code",
     "collapsed": false,
     "input": [
      "result = (dp * (saw * (poss * (mother * him)))).reduce_all()\n",
      "result"
     ],
     "language": "python",
     "metadata": {},
     "outputs": [
      {
       "latex": [
        "5 composition paths. Results:\n",
        "<br />&nbsp;&nbsp;&nbsp;&nbsp;[0]: $||\\mathbf{\\text{[[[every man]] [[saw] [[poss] [[mother] him]]]]}}||^{}_{\\langle{}e,t\\rangle{}} \\:=\\: $$\\lambda{} x_{e} \\: . \\: \\forall{} x1_{e} \\: . \\: ({Man}({x1}_{e}) \\rightarrow{} {Saw}({x1}_{e}, \\iota{} x2_{e} \\: . \\: {Mother}({x2}_{e}, {x}_{e})))$\n",
        "<br />&nbsp;&nbsp;&nbsp;&nbsp;[1]: $||\\mathbf{\\text{[[every man] [[saw] [[poss] [[mother] him]]]]}}||^{}_{t} \\:=\\: $$\\forall{} x_{e} \\: . \\: ({Man}({x}_{e}) \\rightarrow{} {Saw}({x}_{e}, \\iota{} x1_{e} \\: . \\: {Mother}({x1}_{e}, {x}_{e})))$\n",
        "<br />&nbsp;&nbsp;&nbsp;&nbsp;[2]: $||\\mathbf{\\text{[[[every man]] [[[[[[mother] him]] poss]] saw]]}}||^{}_{\\langle{}e,t\\rangle{}} \\:=\\: $$\\lambda{} x_{e} \\: . \\: \\forall{} x1_{e} \\: . \\: ({Man}({x1}_{e}) \\rightarrow{} {Mother}({x1}_{e}, \\iota{} x2_{e} \\: . \\: {Saw}({x2}_{e}, {x}_{e})))$\n",
        "<br />&nbsp;&nbsp;&nbsp;&nbsp;[3]: $||\\mathbf{\\text{[[every man] [[[[[[mother] him]] poss]] saw]]}}||^{}_{t} \\:=\\: $$\\forall{} x_{e} \\: . \\: ({Man}({x}_{e}) \\rightarrow{} {Mother}({x}_{e}, \\iota{} x1_{e} \\: . \\: {Saw}({x1}_{e}, {x}_{e})))$\n",
        "<br />&nbsp;&nbsp;&nbsp;&nbsp;[4]: $||\\mathbf{\\text{[[every man] [saw [poss [[mother] him]]]]}}||^{}_{t} \\:=\\: $$\\forall{} x_{e} \\: . \\: ({Man}({x}_{e}) \\rightarrow{} {Saw}({x}_{e}, \\iota{} x1_{e} \\: . \\: {Mother}({x1}_{e}, {x1}_{e})))$"
       ],
       "metadata": {},
       "output_type": "pyout",
       "prompt_number": 34,
       "text": [
        "CompositionResult(results=[||[[[every man]] [[saw] [[poss] [[mother] him]]]]|| = (\u03bb x_e: (Forall x1_e: (Man_<e,t>(x1_e) >> Saw_<(e,e),t>(x1_e, (\u03b9 x1_e: Mother_<(e,e),t>(x2_e, x_e)))))), ||[[every man] [[saw] [[poss] [[mother] him]]]]|| = (Forall x_e: (Man_<e,t>(x_e) >> Saw_<(e,e),t>(x_e, (\u03b9 x1_e: Mother_<(e,e),t>(x1_e, x_e))))), ||[[[every man]] [[[[[[mother] him]] poss]] saw]]|| = (\u03bb x_e: (Forall x1_e: (Man_<e,t>(x1_e) >> Mother_<(e,e),t>(x1_e, (\u03b9 x1_e: Saw_<(e,e),t>(x2_e, x_e)))))), ||[[every man] [[[[[[mother] him]] poss]] saw]]|| = (Forall x_e: (Man_<e,t>(x_e) >> Mother_<(e,e),t>(x_e, (\u03b9 x1_e: Saw_<(e,e),t>(x1_e, x_e))))), ||[[every man] [saw [poss [[mother] him]]]]|| = (Forall x_e: (Man_<e,t>(x_e) >> Saw_<(e,e),t>(x_e, (\u03b9 x_e: Mother_<(e,e),t>(x1_e, x1_e)))))], failures=[||[[[every man]] [[[saw] [[poss] [[mother] him]]]]]|| = Type mismatch: '||[[every man]]|| = (\u03bb f_<e,<e,t>>: (\u03bb x_e: (Forall x1_e: (Man_<e,t>(x1_e) >> f_<e,<e,t>>(x_e)(x1_e)))))'/<<e,<e,t>>,<e,t>> and '||[[[saw] [[poss] [[mother] him]]]]|| = (\u03bb f_<e,e>: (\u03bb x_e: (\u03bb y_e: Saw_<(e,e),t>(y_e, (\u03b9 x1_e: Mother_<(e,e),t>(x1_e, f_<e,e>(x_e)))))))'/<<e,e>,<e,<e,t>>> conflict (mode: Function Application), ||[[[[saw] [[poss] [[mother] him]]]] [[every man]]]|| = Type mismatch: '||[[[saw] [[poss] [[mother] him]]]]|| = (\u03bb f_<e,e>: (\u03bb x_e: (\u03bb y_e: Saw_<(e,e),t>(y_e, (\u03b9 x1_e: Mother_<(e,e),t>(x1_e, f_<e,e>(x_e)))))))'/<<e,e>,<e,<e,t>>> and '||[[every man]]|| = (\u03bb f_<e,<e,t>>: (\u03bb x_e: (Forall x1_e: (Man_<e,t>(x1_e) >> f_<e,<e,t>>(x_e)(x1_e)))))'/<<e,<e,t>>,<e,t>> conflict (mode: Function Application), ||[[[every man]] [[[saw] [[poss] [[mother] him]]]]]|| = Type mismatch: '||[[every man]]|| = (\u03bb f_<e,<e,t>>: (\u03bb x_e: (Forall x1_e: (Man_<e,t>(x1_e) >> f_<e,<e,t>>(x_e)(x1_e)))))'/<<e,<e,t>>,<e,t>> and '||[[[saw] [[poss] [[mother] him]]]]|| = (\u03bb f_<e,e>: (\u03bb x_e: (\u03bb y_e: Saw_<(e,e),t>(y_e, (\u03b9 x1_e: Mother_<(e,e),t>(x1_e, f_<e,e>(x_e)))))))'/<<e,e>,<e,<e,t>>> conflict (mode: Predicate Modification), ||[[[every man]] [[[saw] [[poss] [[mother] him]]]]]|| = Type mismatch: '||[[every man]]|| = (\u03bb f_<e,<e,t>>: (\u03bb x_e: (Forall x1_e: (Man_<e,t>(x1_e) >> f_<e,<e,t>>(x_e)(x1_e)))))'/<<e,<e,t>>,<e,t>> and '||[[[saw] [[poss] [[mother] him]]]]|| = (\u03bb f_<e,e>: (\u03bb x_e: (\u03bb y_e: Saw_<(e,e),t>(y_e, (\u03b9 x1_e: Mother_<(e,e),t>(x1_e, f_<e,e>(x_e)))))))'/<<e,e>,<e,<e,t>>> conflict (mode: Predicate Abstraction), ||[[[[saw] [[poss] [[mother] him]]]] [[every man]]]|| = Type mismatch: '||[[[saw] [[poss] [[mother] him]]]]|| = (\u03bb f_<e,e>: (\u03bb x_e: (\u03bb y_e: Saw_<(e,e),t>(y_e, (\u03b9 x1_e: Mother_<(e,e),t>(x1_e, f_<e,e>(x_e)))))))'/<<e,e>,<e,<e,t>>> and '||[[every man]]|| = (\u03bb f_<e,<e,t>>: (\u03bb x_e: (Forall x1_e: (Man_<e,t>(x1_e) >> f_<e,<e,t>>(x_e)(x1_e)))))'/<<e,<e,t>>,<e,t>> conflict (mode: Predicate Abstraction), ||[[[every man]] [[[saw] [[poss] [[mother] him]]]]]|| = Type mismatch: '||[[every man]]|| = (\u03bb f_<e,<e,t>>: (\u03bb x_e: (Forall x1_e: (Man_<e,t>(x1_e) >> f_<e,<e,t>>(x_e)(x1_e)))))'/<<e,<e,t>>,<e,t>> and '||[[[saw] [[poss] [[mother] him]]]]|| = (\u03bb g_<e,e>: (\u03bb x_e: Saw_<(e,e),t>(x_e, (\u03b9 x1_e: Mother_<(e,e),t>(x1_e, g_<e,e>(x_e))))))'/<<e,e>,<e,t>> conflict (mode: Function Application), ||[[[[saw] [[poss] [[mother] him]]]] [[every man]]]|| = Type mismatch: '||[[[saw] [[poss] [[mother] him]]]]|| = (\u03bb g_<e,e>: (\u03bb x_e: Saw_<(e,e),t>(x_e, (\u03b9 x1_e: Mother_<(e,e),t>(x1_e, g_<e,e>(x_e))))))'/<<e,e>,<e,t>> and '||[[every man]]|| = (\u03bb f_<e,<e,t>>: (\u03bb x_e: (Forall x1_e: (Man_<e,t>(x1_e) >> f_<e,<e,t>>(x_e)(x1_e)))))'/<<e,<e,t>>,<e,t>> conflict (mode: Function Application), ||[[[every man]] [[[saw] [[poss] [[mother] him]]]]]|| = Type mismatch: '||[[every man]]|| = (\u03bb f_<e,<e,t>>: (\u03bb x_e: (Forall x1_e: (Man_<e,t>(x1_e) >> f_<e,<e,t>>(x_e)(x1_e)))))'/<<e,<e,t>>,<e,t>> and '||[[[saw] [[poss] [[mother] him]]]]|| = (\u03bb g_<e,e>: (\u03bb x_e: Saw_<(e,e),t>(x_e, (\u03b9 x1_e: Mother_<(e,e),t>(x1_e, g_<e,e>(x_e))))))'/<<e,e>,<e,t>> conflict (mode: Predicate Modification), ||[[[every man]] [[[saw] [[poss] [[mother] him]]]]]|| = Type mismatch: '||[[every man]]|| = (\u03bb f_<e,<e,t>>: (\u03bb x_e: (Forall x1_e: (Man_<e,t>(x1_e) >> f_<e,<e,t>>(x_e)(x1_e)))))'/<<e,<e,t>>,<e,t>> and '||[[[saw] [[poss] [[mother] him]]]]|| = (\u03bb g_<e,e>: (\u03bb x_e: Saw_<(e,e),t>(x_e, (\u03b9 x1_e: Mother_<(e,e),t>(x1_e, g_<e,e>(x_e))))))'/<<e,e>,<e,t>> conflict (mode: Predicate Abstraction), ||[[[[saw] [[poss] [[mother] him]]]] [[every man]]]|| = Type mismatch: '||[[[saw] [[poss] [[mother] him]]]]|| = (\u03bb g_<e,e>: (\u03bb x_e: Saw_<(e,e),t>(x_e, (\u03b9 x1_e: Mother_<(e,e),t>(x1_e, g_<e,e>(x_e))))))'/<<e,e>,<e,t>> and '||[[every man]]|| = (\u03bb f_<e,<e,t>>: (\u03bb x_e: (Forall x1_e: (Man_<e,t>(x1_e) >> f_<e,<e,t>>(x_e)(x1_e)))))'/<<e,<e,t>>,<e,t>> conflict (mode: Predicate Abstraction), ||[[[every man]] [[[saw] [[poss] [[mother] him]]]]]|| = Type mismatch: '||[[every man]]|| = (\u03bb f_<e,<e,t>>: (\u03bb x_e: (Forall x1_e: (Man_<e,t>(x1_e) >> f_<e,<e,t>>(x_e)(x1_e)))))'/<<e,<e,t>>,<e,t>> and '||[[[saw] [[poss] [[mother] him]]]]|| = (\u03bb f_<<e,t>,e>: (\u03bb x_<e,t>: (\u03bb y_e: Saw_<(e,e),t>(y_e, (\u03b9 x1_e: Mother_<(e,e),t>(x1_e, f_<<e,t>,e>(x_<e,t>)))))))'/<<<e,t>,e>,<<e,t>,<e,t>>> conflict (mode: Function Application), ||[[[[saw] [[poss] [[mother] him]]]] [[every man]]]|| = Type mismatch: '||[[[saw] [[poss] [[mother] him]]]]|| = (\u03bb f_<<e,t>,e>: (\u03bb x_<e,t>: (\u03bb y_e: Saw_<(e,e),t>(y_e, (\u03b9 x1_e: Mother_<(e,e),t>(x1_e, f_<<e,t>,e>(x_<e,t>)))))))'/<<<e,t>,e>,<<e,t>,<e,t>>> and '||[[every man]]|| = (\u03bb f_<e,<e,t>>: (\u03bb x_e: (Forall x1_e: (Man_<e,t>(x1_e) >> f_<e,<e,t>>(x_e)(x1_e)))))'/<<e,<e,t>>,<e,t>> conflict (mode: Function Application), ||[[[every man]] [[[saw] [[poss] [[mother] him]]]]]|| = Type mismatch: '||[[every man]]|| = (\u03bb f_<e,<e,t>>: (\u03bb x_e: (Forall x1_e: (Man_<e,t>(x1_e) >> f_<e,<e,t>>(x_e)(x1_e)))))'/<<e,<e,t>>,<e,t>> and '||[[[saw] [[poss] [[mother] him]]]]|| = (\u03bb f_<<e,t>,e>: (\u03bb x_<e,t>: (\u03bb y_e: Saw_<(e,e),t>(y_e, (\u03b9 x1_e: Mother_<(e,e),t>(x1_e, f_<<e,t>,e>(x_<e,t>)))))))'/<<<e,t>,e>,<<e,t>,<e,t>>> conflict (mode: Predicate Modification), ||[[[every man]] [[[saw] [[poss] [[mother] him]]]]]|| = Type mismatch: '||[[every man]]|| = (\u03bb f_<e,<e,t>>: (\u03bb x_e: (Forall x1_e: (Man_<e,t>(x1_e) >> f_<e,<e,t>>(x_e)(x1_e)))))'/<<e,<e,t>>,<e,t>> and '||[[[saw] [[poss] [[mother] him]]]]|| = (\u03bb f_<<e,t>,e>: (\u03bb x_<e,t>: (\u03bb y_e: Saw_<(e,e),t>(y_e, (\u03b9 x1_e: Mother_<(e,e),t>(x1_e, f_<<e,t>,e>(x_<e,t>)))))))'/<<<e,t>,e>,<<e,t>,<e,t>>> conflict (mode: Predicate Abstraction), ||[[[[saw] [[poss] [[mother] him]]]] [[every man]]]|| = Type mismatch: '||[[[saw] [[poss] [[mother] him]]]]|| = (\u03bb f_<<e,t>,e>: (\u03bb x_<e,t>: (\u03bb y_e: Saw_<(e,e),t>(y_e, (\u03b9 x1_e: Mother_<(e,e),t>(x1_e, f_<<e,t>,e>(x_<e,t>)))))))'/<<<e,t>,e>,<<e,t>,<e,t>>> and '||[[every man]]|| = (\u03bb f_<e,<e,t>>: (\u03bb x_e: (Forall x1_e: (Man_<e,t>(x1_e) >> f_<e,<e,t>>(x_e)(x1_e)))))'/<<e,<e,t>>,<e,t>> conflict (mode: Predicate Abstraction), ||[[[saw] [[poss] [[mother] him]]] [[every man]]]|| = Type mismatch: '||[[saw] [[poss] [[mother] him]]]|| = (\u03bb x_e: (\u03bb y_e: Saw_<(e,e),t>(y_e, (\u03b9 x1_e: Mother_<(e,e),t>(x1_e, x_e)))))'/<e,<e,t>> and '||[[every man]]|| = (\u03bb f_<e,<e,t>>: (\u03bb x_e: (Forall x1_e: (Man_<e,t>(x1_e) >> f_<e,<e,t>>(x_e)(x1_e)))))'/<<e,<e,t>>,<e,t>> conflict (mode: Function Application), ||[[[every man]] [[saw] [[poss] [[mother] him]]]]|| = Type mismatch: '||[[every man]]|| = (\u03bb f_<e,<e,t>>: (\u03bb x_e: (Forall x1_e: (Man_<e,t>(x1_e) >> f_<e,<e,t>>(x_e)(x1_e)))))'/<<e,<e,t>>,<e,t>> and '||[[saw] [[poss] [[mother] him]]]|| = (\u03bb x_e: (\u03bb y_e: Saw_<(e,e),t>(y_e, (\u03b9 x1_e: Mother_<(e,e),t>(x1_e, x_e)))))'/<e,<e,t>> conflict (mode: Predicate Modification), ||[[[every man]] [[saw] [[poss] [[mother] him]]]]|| = Type mismatch: '||[[every man]]|| = (\u03bb f_<e,<e,t>>: (\u03bb x_e: (Forall x1_e: (Man_<e,t>(x1_e) >> f_<e,<e,t>>(x_e)(x1_e)))))'/<<e,<e,t>>,<e,t>> and '||[[saw] [[poss] [[mother] him]]]|| = (\u03bb x_e: (\u03bb y_e: Saw_<(e,e),t>(y_e, (\u03b9 x1_e: Mother_<(e,e),t>(x1_e, x_e)))))'/<e,<e,t>> conflict (mode: Predicate Abstraction), ||[[[saw] [[poss] [[mother] him]]] [[every man]]]|| = Type mismatch: '||[[saw] [[poss] [[mother] him]]]|| = (\u03bb x_e: (\u03bb y_e: Saw_<(e,e),t>(y_e, (\u03b9 x1_e: Mother_<(e,e),t>(x1_e, x_e)))))'/<e,<e,t>> and '||[[every man]]|| = (\u03bb f_<e,<e,t>>: (\u03bb x_e: (Forall x1_e: (Man_<e,t>(x1_e) >> f_<e,<e,t>>(x_e)(x1_e)))))'/<<e,<e,t>>,<e,t>> conflict (mode: Predicate Abstraction), ||[[[every man]] [[[saw] [[poss] [[mother] him]]]]]|| = Type mismatch: '||[[every man]]|| = (\u03bb f_<<e,t>,<e,t>>: (\u03bb x_<e,t>: (Forall x1_e: (Man_<e,t>(x1_e) >> f_<<e,t>,<e,t>>(x_<e,t>)(x1_e)))))'/<<<e,t>,<e,t>>,<<e,t>,t>> and '||[[[saw] [[poss] [[mother] him]]]]|| = (\u03bb f_<e,e>: (\u03bb x_e: (\u03bb y_e: Saw_<(e,e),t>(y_e, (\u03b9 x1_e: Mother_<(e,e),t>(x1_e, f_<e,e>(x_e)))))))'/<<e,e>,<e,<e,t>>> conflict (mode: Function Application), ||[[[[saw] [[poss] [[mother] him]]]] [[every man]]]|| = Type mismatch: '||[[[saw] [[poss] [[mother] him]]]]|| = (\u03bb f_<e,e>: (\u03bb x_e: (\u03bb y_e: Saw_<(e,e),t>(y_e, (\u03b9 x1_e: Mother_<(e,e),t>(x1_e, f_<e,e>(x_e)))))))'/<<e,e>,<e,<e,t>>> and '||[[every man]]|| = (\u03bb f_<<e,t>,<e,t>>: (\u03bb x_<e,t>: (Forall x1_e: (Man_<e,t>(x1_e) >> f_<<e,t>,<e,t>>(x_<e,t>)(x1_e)))))'/<<<e,t>,<e,t>>,<<e,t>,t>> conflict (mode: Function Application), ||[[[every man]] [[[saw] [[poss] [[mother] him]]]]]|| = Type mismatch: '||[[every man]]|| = (\u03bb f_<<e,t>,<e,t>>: (\u03bb x_<e,t>: (Forall x1_e: (Man_<e,t>(x1_e) >> f_<<e,t>,<e,t>>(x_<e,t>)(x1_e)))))'/<<<e,t>,<e,t>>,<<e,t>,t>> and '||[[[saw] [[poss] [[mother] him]]]]|| = (\u03bb f_<e,e>: (\u03bb x_e: (\u03bb y_e: Saw_<(e,e),t>(y_e, (\u03b9 x1_e: Mother_<(e,e),t>(x1_e, f_<e,e>(x_e)))))))'/<<e,e>,<e,<e,t>>> conflict (mode: Predicate Modification), ||[[[every man]] [[[saw] [[poss] [[mother] him]]]]]|| = Type mismatch: '||[[every man]]|| = (\u03bb f_<<e,t>,<e,t>>: (\u03bb x_<e,t>: (Forall x1_e: (Man_<e,t>(x1_e) >> f_<<e,t>,<e,t>>(x_<e,t>)(x1_e)))))'/<<<e,t>,<e,t>>,<<e,t>,t>> and '||[[[saw] [[poss] [[mother] him]]]]|| = (\u03bb f_<e,e>: (\u03bb x_e: (\u03bb y_e: Saw_<(e,e),t>(y_e, (\u03b9 x1_e: Mother_<(e,e),t>(x1_e, f_<e,e>(x_e)))))))'/<<e,e>,<e,<e,t>>> conflict (mode: Predicate Abstraction), ||[[[[saw] [[poss] [[mother] him]]]] [[every man]]]|| = Type mismatch: '||[[[saw] [[poss] [[mother] him]]]]|| = (\u03bb f_<e,e>: (\u03bb x_e: (\u03bb y_e: Saw_<(e,e),t>(y_e, (\u03b9 x1_e: Mother_<(e,e),t>(x1_e, f_<e,e>(x_e)))))))'/<<e,e>,<e,<e,t>>> and '||[[every man]]|| = (\u03bb f_<<e,t>,<e,t>>: (\u03bb x_<e,t>: (Forall x1_e: (Man_<e,t>(x1_e) >> f_<<e,t>,<e,t>>(x_<e,t>)(x1_e)))))'/<<<e,t>,<e,t>>,<<e,t>,t>> conflict (mode: Predicate Abstraction), ||[[[every man]] [[[saw] [[poss] [[mother] him]]]]]|| = Type mismatch: '||[[every man]]|| = (\u03bb f_<<e,t>,<e,t>>: (\u03bb x_<e,t>: (Forall x1_e: (Man_<e,t>(x1_e) >> f_<<e,t>,<e,t>>(x_<e,t>)(x1_e)))))'/<<<e,t>,<e,t>>,<<e,t>,t>> and '||[[[saw] [[poss] [[mother] him]]]]|| = (\u03bb g_<e,e>: (\u03bb x_e: Saw_<(e,e),t>(x_e, (\u03b9 x1_e: Mother_<(e,e),t>(x1_e, g_<e,e>(x_e))))))'/<<e,e>,<e,t>> conflict (mode: Function Application), ||[[[[saw] [[poss] [[mother] him]]]] [[every man]]]|| = Type mismatch: '||[[[saw] [[poss] [[mother] him]]]]|| = (\u03bb g_<e,e>: (\u03bb x_e: Saw_<(e,e),t>(x_e, (\u03b9 x1_e: Mother_<(e,e),t>(x1_e, g_<e,e>(x_e))))))'/<<e,e>,<e,t>> and '||[[every man]]|| = (\u03bb f_<<e,t>,<e,t>>: (\u03bb x_<e,t>: (Forall x1_e: (Man_<e,t>(x1_e) >> f_<<e,t>,<e,t>>(x_<e,t>)(x1_e)))))'/<<<e,t>,<e,t>>,<<e,t>,t>> conflict (mode: Function Application), ||[[[every man]] [[[saw] [[poss] [[mother] him]]]]]|| = Type mismatch: '||[[every man]]|| = (\u03bb f_<<e,t>,<e,t>>: (\u03bb x_<e,t>: (Forall x1_e: (Man_<e,t>(x1_e) >> f_<<e,t>,<e,t>>(x_<e,t>)(x1_e)))))'/<<<e,t>,<e,t>>,<<e,t>,t>> and '||[[[saw] [[poss] [[mother] him]]]]|| = (\u03bb g_<e,e>: (\u03bb x_e: Saw_<(e,e),t>(x_e, (\u03b9 x1_e: Mother_<(e,e),t>(x1_e, g_<e,e>(x_e))))))'/<<e,e>,<e,t>> conflict (mode: Predicate Modification), ||[[[every man]] [[[saw] [[poss] [[mother] him]]]]]|| = Type mismatch: '||[[every man]]|| = (\u03bb f_<<e,t>,<e,t>>: (\u03bb x_<e,t>: (Forall x1_e: (Man_<e,t>(x1_e) >> f_<<e,t>,<e,t>>(x_<e,t>)(x1_e)))))'/<<<e,t>,<e,t>>,<<e,t>,t>> and '||[[[saw] [[poss] [[mother] him]]]]|| = (\u03bb g_<e,e>: (\u03bb x_e: Saw_<(e,e),t>(x_e, (\u03b9 x1_e: Mother_<(e,e),t>(x1_e, g_<e,e>(x_e))))))'/<<e,e>,<e,t>> conflict (mode: Predicate Abstraction), ||[[[[saw] [[poss] [[mother] him]]]] [[every man]]]|| = Type mismatch: '||[[[saw] [[poss] [[mother] him]]]]|| = (\u03bb g_<e,e>: (\u03bb x_e: Saw_<(e,e),t>(x_e, (\u03b9 x1_e: Mother_<(e,e),t>(x1_e, g_<e,e>(x_e))))))'/<<e,e>,<e,t>> and '||[[every man]]|| = (\u03bb f_<<e,t>,<e,t>>: (\u03bb x_<e,t>: (Forall x1_e: (Man_<e,t>(x1_e) >> f_<<e,t>,<e,t>>(x_<e,t>)(x1_e)))))'/<<<e,t>,<e,t>>,<<e,t>,t>> conflict (mode: Predicate Abstraction), ||[[[every man]] [[[saw] [[poss] [[mother] him]]]]]|| = Type mismatch: '||[[every man]]|| = (\u03bb f_<<e,t>,<e,t>>: (\u03bb x_<e,t>: (Forall x1_e: (Man_<e,t>(x1_e) >> f_<<e,t>,<e,t>>(x_<e,t>)(x1_e)))))'/<<<e,t>,<e,t>>,<<e,t>,t>> and '||[[[saw] [[poss] [[mother] him]]]]|| = (\u03bb f_<<e,t>,e>: (\u03bb x_<e,t>: (\u03bb y_e: Saw_<(e,e),t>(y_e, (\u03b9 x1_e: Mother_<(e,e),t>(x1_e, f_<<e,t>,e>(x_<e,t>)))))))'/<<<e,t>,e>,<<e,t>,<e,t>>> conflict (mode: Function Application), ||[[[[saw] [[poss] [[mother] him]]]] [[every man]]]|| = Type mismatch: '||[[[saw] [[poss] [[mother] him]]]]|| = (\u03bb f_<<e,t>,e>: (\u03bb x_<e,t>: (\u03bb y_e: Saw_<(e,e),t>(y_e, (\u03b9 x1_e: Mother_<(e,e),t>(x1_e, f_<<e,t>,e>(x_<e,t>)))))))'/<<<e,t>,e>,<<e,t>,<e,t>>> and '||[[every man]]|| = (\u03bb f_<<e,t>,<e,t>>: (\u03bb x_<e,t>: (Forall x1_e: (Man_<e,t>(x1_e) >> f_<<e,t>,<e,t>>(x_<e,t>)(x1_e)))))'/<<<e,t>,<e,t>>,<<e,t>,t>> conflict (mode: Function Application), ||[[[every man]] [[[saw] [[poss] [[mother] him]]]]]|| = Type mismatch: '||[[every man]]|| = (\u03bb f_<<e,t>,<e,t>>: (\u03bb x_<e,t>: (Forall x1_e: (Man_<e,t>(x1_e) >> f_<<e,t>,<e,t>>(x_<e,t>)(x1_e)))))'/<<<e,t>,<e,t>>,<<e,t>,t>> and '||[[[saw] [[poss] [[mother] him]]]]|| = (\u03bb f_<<e,t>,e>: (\u03bb x_<e,t>: (\u03bb y_e: Saw_<(e,e),t>(y_e, (\u03b9 x1_e: Mother_<(e,e),t>(x1_e, f_<<e,t>,e>(x_<e,t>)))))))'/<<<e,t>,e>,<<e,t>,<e,t>>> conflict (mode: Predicate Modification), ||[[[every man]] [[[saw] [[poss] [[mother] him]]]]]|| = Type mismatch: '||[[every man]]|| = (\u03bb f_<<e,t>,<e,t>>: (\u03bb x_<e,t>: (Forall x1_e: (Man_<e,t>(x1_e) >> f_<<e,t>,<e,t>>(x_<e,t>)(x1_e)))))'/<<<e,t>,<e,t>>,<<e,t>,t>> and '||[[[saw] [[poss] [[mother] him]]]]|| = (\u03bb f_<<e,t>,e>: (\u03bb x_<e,t>: (\u03bb y_e: Saw_<(e,e),t>(y_e, (\u03b9 x1_e: Mother_<(e,e),t>(x1_e, f_<<e,t>,e>(x_<e,t>)))))))'/<<<e,t>,e>,<<e,t>,<e,t>>> conflict (mode: Predicate Abstraction), ||[[[[saw] [[poss] [[mother] him]]]] [[every man]]]|| = Type mismatch: '||[[[saw] [[poss] [[mother] him]]]]|| = (\u03bb f_<<e,t>,e>: (\u03bb x_<e,t>: (\u03bb y_e: Saw_<(e,e),t>(y_e, (\u03b9 x1_e: Mother_<(e,e),t>(x1_e, f_<<e,t>,e>(x_<e,t>)))))))'/<<<e,t>,e>,<<e,t>,<e,t>>> and '||[[every man]]|| = (\u03bb f_<<e,t>,<e,t>>: (\u03bb x_<e,t>: (Forall x1_e: (Man_<e,t>(x1_e) >> f_<<e,t>,<e,t>>(x_<e,t>)(x1_e)))))'/<<<e,t>,<e,t>>,<<e,t>,t>> conflict (mode: Predicate Abstraction), ||[[[every man]] [[saw] [[poss] [[mother] him]]]]|| = Type mismatch: '||[[every man]]|| = (\u03bb f_<<e,t>,<e,t>>: (\u03bb x_<e,t>: (Forall x1_e: (Man_<e,t>(x1_e) >> f_<<e,t>,<e,t>>(x_<e,t>)(x1_e)))))'/<<<e,t>,<e,t>>,<<e,t>,t>> and '||[[saw] [[poss] [[mother] him]]]|| = (\u03bb x_e: (\u03bb y_e: Saw_<(e,e),t>(y_e, (\u03b9 x1_e: Mother_<(e,e),t>(x1_e, x_e)))))'/<e,<e,t>> conflict (mode: Function Application), ||[[[saw] [[poss] [[mother] him]]] [[every man]]]|| = Type mismatch: '||[[saw] [[poss] [[mother] him]]]|| = (\u03bb x_e: (\u03bb y_e: Saw_<(e,e),t>(y_e, (\u03b9 x1_e: Mother_<(e,e),t>(x1_e, x_e)))))'/<e,<e,t>> and '||[[every man]]|| = (\u03bb f_<<e,t>,<e,t>>: (\u03bb x_<e,t>: (Forall x1_e: (Man_<e,t>(x1_e) >> f_<<e,t>,<e,t>>(x_<e,t>)(x1_e)))))'/<<<e,t>,<e,t>>,<<e,t>,t>> conflict (mode: Function Application), ||[[[every man]] [[saw] [[poss] [[mother] him]]]]|| = Type mismatch: '||[[every man]]|| = (\u03bb f_<<e,t>,<e,t>>: (\u03bb x_<e,t>: (Forall x1_e: (Man_<e,t>(x1_e) >> f_<<e,t>,<e,t>>(x_<e,t>)(x1_e)))))'/<<<e,t>,<e,t>>,<<e,t>,t>> and '||[[saw] [[poss] [[mother] him]]]|| = (\u03bb x_e: (\u03bb y_e: Saw_<(e,e),t>(y_e, (\u03b9 x1_e: Mother_<(e,e),t>(x1_e, x_e)))))'/<e,<e,t>> conflict (mode: Predicate Modification), ||[[[every man]] [[saw] [[poss] [[mother] him]]]]|| = Type mismatch: '||[[every man]]|| = (\u03bb f_<<e,t>,<e,t>>: (\u03bb x_<e,t>: (Forall x1_e: (Man_<e,t>(x1_e) >> f_<<e,t>,<e,t>>(x_<e,t>)(x1_e)))))'/<<<e,t>,<e,t>>,<<e,t>,t>> and '||[[saw] [[poss] [[mother] him]]]|| = (\u03bb x_e: (\u03bb y_e: Saw_<(e,e),t>(y_e, (\u03b9 x1_e: Mother_<(e,e),t>(x1_e, x_e)))))'/<e,<e,t>> conflict (mode: Predicate Abstraction), ||[[[saw] [[poss] [[mother] him]]] [[every man]]]|| = Type mismatch: '||[[saw] [[poss] [[mother] him]]]|| = (\u03bb x_e: (\u03bb y_e: Saw_<(e,e),t>(y_e, (\u03b9 x1_e: Mother_<(e,e),t>(x1_e, x_e)))))'/<e,<e,t>> and '||[[every man]]|| = (\u03bb f_<<e,t>,<e,t>>: (\u03bb x_<e,t>: (Forall x1_e: (Man_<e,t>(x1_e) >> f_<<e,t>,<e,t>>(x_<e,t>)(x1_e)))))'/<<<e,t>,<e,t>>,<<e,t>,t>> conflict (mode: Predicate Abstraction), ||[[every man] [[[saw] [[poss] [[mother] him]]]]]|| = Type mismatch: '||[every man]|| = (\u03bb g_<e,t>: (Forall x_e: (Man_<e,t>(x_e) >> g_<e,t>(x_e))))'/<<e,t>,t> and '||[[[saw] [[poss] [[mother] him]]]]|| = (\u03bb f_<e,e>: (\u03bb x_e: (\u03bb y_e: Saw_<(e,e),t>(y_e, (\u03b9 x1_e: Mother_<(e,e),t>(x1_e, f_<e,e>(x_e)))))))'/<<e,e>,<e,<e,t>>> conflict (mode: Function Application), ||[[[[saw] [[poss] [[mother] him]]]] [every man]]|| = Type mismatch: '||[[[saw] [[poss] [[mother] him]]]]|| = (\u03bb f_<e,e>: (\u03bb x_e: (\u03bb y_e: Saw_<(e,e),t>(y_e, (\u03b9 x1_e: Mother_<(e,e),t>(x1_e, f_<e,e>(x_e)))))))'/<<e,e>,<e,<e,t>>> and '||[every man]|| = (\u03bb g_<e,t>: (Forall x_e: (Man_<e,t>(x_e) >> g_<e,t>(x_e))))'/<<e,t>,t> conflict (mode: Function Application), ||[[every man] [[[saw] [[poss] [[mother] him]]]]]|| = Type mismatch: '||[every man]|| = (\u03bb g_<e,t>: (Forall x_e: (Man_<e,t>(x_e) >> g_<e,t>(x_e))))'/<<e,t>,t> and '||[[[saw] [[poss] [[mother] him]]]]|| = (\u03bb f_<e,e>: (\u03bb x_e: (\u03bb y_e: Saw_<(e,e),t>(y_e, (\u03b9 x1_e: Mother_<(e,e),t>(x1_e, f_<e,e>(x_e)))))))'/<<e,e>,<e,<e,t>>> conflict (mode: Predicate Modification), ||[[every man] [[[saw] [[poss] [[mother] him]]]]]|| = Type mismatch: '||[every man]|| = (\u03bb g_<e,t>: (Forall x_e: (Man_<e,t>(x_e) >> g_<e,t>(x_e))))'/<<e,t>,t> and '||[[[saw] [[poss] [[mother] him]]]]|| = (\u03bb f_<e,e>: (\u03bb x_e: (\u03bb y_e: Saw_<(e,e),t>(y_e, (\u03b9 x1_e: Mother_<(e,e),t>(x1_e, f_<e,e>(x_e)))))))'/<<e,e>,<e,<e,t>>> conflict (mode: Predicate Abstraction), ||[[[[saw] [[poss] [[mother] him]]]] [every man]]|| = Type mismatch: '||[[[saw] [[poss] [[mother] him]]]]|| = (\u03bb f_<e,e>: (\u03bb x_e: (\u03bb y_e: Saw_<(e,e),t>(y_e, (\u03b9 x1_e: Mother_<(e,e),t>(x1_e, f_<e,e>(x_e)))))))'/<<e,e>,<e,<e,t>>> and '||[every man]|| = (\u03bb g_<e,t>: (Forall x_e: (Man_<e,t>(x_e) >> g_<e,t>(x_e))))'/<<e,t>,t> conflict (mode: Predicate Abstraction), ||[[every man] [[[saw] [[poss] [[mother] him]]]]]|| = Type mismatch: '||[every man]|| = (\u03bb g_<e,t>: (Forall x_e: (Man_<e,t>(x_e) >> g_<e,t>(x_e))))'/<<e,t>,t> and '||[[[saw] [[poss] [[mother] him]]]]|| = (\u03bb g_<e,e>: (\u03bb x_e: Saw_<(e,e),t>(x_e, (\u03b9 x1_e: Mother_<(e,e),t>(x1_e, g_<e,e>(x_e))))))'/<<e,e>,<e,t>> conflict (mode: Function Application), ||[[[[saw] [[poss] [[mother] him]]]] [every man]]|| = Type mismatch: '||[[[saw] [[poss] [[mother] him]]]]|| = (\u03bb g_<e,e>: (\u03bb x_e: Saw_<(e,e),t>(x_e, (\u03b9 x1_e: Mother_<(e,e),t>(x1_e, g_<e,e>(x_e))))))'/<<e,e>,<e,t>> and '||[every man]|| = (\u03bb g_<e,t>: (Forall x_e: (Man_<e,t>(x_e) >> g_<e,t>(x_e))))'/<<e,t>,t> conflict (mode: Function Application), ||[[every man] [[[saw] [[poss] [[mother] him]]]]]|| = Type mismatch: '||[every man]|| = (\u03bb g_<e,t>: (Forall x_e: (Man_<e,t>(x_e) >> g_<e,t>(x_e))))'/<<e,t>,t> and '||[[[saw] [[poss] [[mother] him]]]]|| = (\u03bb g_<e,e>: (\u03bb x_e: Saw_<(e,e),t>(x_e, (\u03b9 x1_e: Mother_<(e,e),t>(x1_e, g_<e,e>(x_e))))))'/<<e,e>,<e,t>> conflict (mode: Predicate Modification), ||[[every man] [[[saw] [[poss] [[mother] him]]]]]|| = Type mismatch: '||[every man]|| = (\u03bb g_<e,t>: (Forall x_e: (Man_<e,t>(x_e) >> g_<e,t>(x_e))))'/<<e,t>,t> and '||[[[saw] [[poss] [[mother] him]]]]|| = (\u03bb g_<e,e>: (\u03bb x_e: Saw_<(e,e),t>(x_e, (\u03b9 x1_e: Mother_<(e,e),t>(x1_e, g_<e,e>(x_e))))))'/<<e,e>,<e,t>> conflict (mode: Predicate Abstraction), ||[[[[saw] [[poss] [[mother] him]]]] [every man]]|| = Type mismatch: '||[[[saw] [[poss] [[mother] him]]]]|| = (\u03bb g_<e,e>: (\u03bb x_e: Saw_<(e,e),t>(x_e, (\u03b9 x1_e: Mother_<(e,e),t>(x1_e, g_<e,e>(x_e))))))'/<<e,e>,<e,t>> and '||[every man]|| = (\u03bb g_<e,t>: (Forall x_e: (Man_<e,t>(x_e) >> g_<e,t>(x_e))))'/<<e,t>,t> conflict (mode: Predicate Abstraction), ||[[every man] [[[saw] [[poss] [[mother] him]]]]]|| = Type mismatch: '||[every man]|| = (\u03bb g_<e,t>: (Forall x_e: (Man_<e,t>(x_e) >> g_<e,t>(x_e))))'/<<e,t>,t> and '||[[[saw] [[poss] [[mother] him]]]]|| = (\u03bb f_<<e,t>,e>: (\u03bb x_<e,t>: (\u03bb y_e: Saw_<(e,e),t>(y_e, (\u03b9 x1_e: Mother_<(e,e),t>(x1_e, f_<<e,t>,e>(x_<e,t>)))))))'/<<<e,t>,e>,<<e,t>,<e,t>>> conflict (mode: Function Application), ||[[[[saw] [[poss] [[mother] him]]]] [every man]]|| = Type mismatch: '||[[[saw] [[poss] [[mother] him]]]]|| = (\u03bb f_<<e,t>,e>: (\u03bb x_<e,t>: (\u03bb y_e: Saw_<(e,e),t>(y_e, (\u03b9 x1_e: Mother_<(e,e),t>(x1_e, f_<<e,t>,e>(x_<e,t>)))))))'/<<<e,t>,e>,<<e,t>,<e,t>>> and '||[every man]|| = (\u03bb g_<e,t>: (Forall x_e: (Man_<e,t>(x_e) >> g_<e,t>(x_e))))'/<<e,t>,t> conflict (mode: Function Application), ||[[every man] [[[saw] [[poss] [[mother] him]]]]]|| = Type mismatch: '||[every man]|| = (\u03bb g_<e,t>: (Forall x_e: (Man_<e,t>(x_e) >> g_<e,t>(x_e))))'/<<e,t>,t> and '||[[[saw] [[poss] [[mother] him]]]]|| = (\u03bb f_<<e,t>,e>: (\u03bb x_<e,t>: (\u03bb y_e: Saw_<(e,e),t>(y_e, (\u03b9 x1_e: Mother_<(e,e),t>(x1_e, f_<<e,t>,e>(x_<e,t>)))))))'/<<<e,t>,e>,<<e,t>,<e,t>>> conflict (mode: Predicate Modification), ||[[every man] [[[saw] [[poss] [[mother] him]]]]]|| = Type mismatch: '||[every man]|| = (\u03bb g_<e,t>: (Forall x_e: (Man_<e,t>(x_e) >> g_<e,t>(x_e))))'/<<e,t>,t> and '||[[[saw] [[poss] [[mother] him]]]]|| = (\u03bb f_<<e,t>,e>: (\u03bb x_<e,t>: (\u03bb y_e: Saw_<(e,e),t>(y_e, (\u03b9 x1_e: Mother_<(e,e),t>(x1_e, f_<<e,t>,e>(x_<e,t>)))))))'/<<<e,t>,e>,<<e,t>,<e,t>>> conflict (mode: Predicate Abstraction), ||[[[[saw] [[poss] [[mother] him]]]] [every man]]|| = Type mismatch: '||[[[saw] [[poss] [[mother] him]]]]|| = (\u03bb f_<<e,t>,e>: (\u03bb x_<e,t>: (\u03bb y_e: Saw_<(e,e),t>(y_e, (\u03b9 x1_e: Mother_<(e,e),t>(x1_e, f_<<e,t>,e>(x_<e,t>)))))))'/<<<e,t>,e>,<<e,t>,<e,t>>> and '||[every man]|| = (\u03bb g_<e,t>: (Forall x_e: (Man_<e,t>(x_e) >> g_<e,t>(x_e))))'/<<e,t>,t> conflict (mode: Predicate Abstraction), ||[[every man] [[saw] [[poss] [[mother] him]]]]|| = Type mismatch: '||[every man]|| = (\u03bb g_<e,t>: (Forall x_e: (Man_<e,t>(x_e) >> g_<e,t>(x_e))))'/<<e,t>,t> and '||[[saw] [[poss] [[mother] him]]]|| = (\u03bb x_e: (\u03bb y_e: Saw_<(e,e),t>(y_e, (\u03b9 x1_e: Mother_<(e,e),t>(x1_e, x_e)))))'/<e,<e,t>> conflict (mode: Function Application), ||[[[saw] [[poss] [[mother] him]]] [every man]]|| = Type mismatch: '||[[saw] [[poss] [[mother] him]]]|| = (\u03bb x_e: (\u03bb y_e: Saw_<(e,e),t>(y_e, (\u03b9 x1_e: Mother_<(e,e),t>(x1_e, x_e)))))'/<e,<e,t>> and '||[every man]|| = (\u03bb g_<e,t>: (Forall x_e: (Man_<e,t>(x_e) >> g_<e,t>(x_e))))'/<<e,t>,t> conflict (mode: Function Application), ||[[every man] [[saw] [[poss] [[mother] him]]]]|| = Type mismatch: '||[every man]|| = (\u03bb g_<e,t>: (Forall x_e: (Man_<e,t>(x_e) >> g_<e,t>(x_e))))'/<<e,t>,t> and '||[[saw] [[poss] [[mother] him]]]|| = (\u03bb x_e: (\u03bb y_e: Saw_<(e,e),t>(y_e, (\u03b9 x1_e: Mother_<(e,e),t>(x1_e, x_e)))))'/<e,<e,t>> conflict (mode: Predicate Modification), ||[[every man] [[saw] [[poss] [[mother] him]]]]|| = Type mismatch: '||[every man]|| = (\u03bb g_<e,t>: (Forall x_e: (Man_<e,t>(x_e) >> g_<e,t>(x_e))))'/<<e,t>,t> and '||[[saw] [[poss] [[mother] him]]]|| = (\u03bb x_e: (\u03bb y_e: Saw_<(e,e),t>(y_e, (\u03b9 x1_e: Mother_<(e,e),t>(x1_e, x_e)))))'/<e,<e,t>> conflict (mode: Predicate Abstraction), ||[[[saw] [[poss] [[mother] him]]] [every man]]|| = Type mismatch: '||[[saw] [[poss] [[mother] him]]]|| = (\u03bb x_e: (\u03bb y_e: Saw_<(e,e),t>(y_e, (\u03b9 x1_e: Mother_<(e,e),t>(x1_e, x_e)))))'/<e,<e,t>> and '||[every man]|| = (\u03bb g_<e,t>: (Forall x_e: (Man_<e,t>(x_e) >> g_<e,t>(x_e))))'/<<e,t>,t> conflict (mode: Predicate Abstraction), ||[[[saw] [[poss] [[mother] him]]] [every man]]|| = Type mismatch: '||[[saw] [[poss] [[mother] him]]]|| = (\u03bb x_e: Saw_<(e,e),t>(x_e, (\u03b9 x1_e: Mother_<(e,e),t>(x1_e, x_e))))'/<e,t> and '||[every man]|| = (\u03bb g_<e,t>: (Forall x_e: (Man_<e,t>(x_e) >> g_<e,t>(x_e))))'/<<e,t>,t> conflict (mode: Function Application), ||[[every man] [[saw] [[poss] [[mother] him]]]]|| = Type mismatch: '||[every man]|| = (\u03bb g_<e,t>: (Forall x_e: (Man_<e,t>(x_e) >> g_<e,t>(x_e))))'/<<e,t>,t> and '||[[saw] [[poss] [[mother] him]]]|| = (\u03bb x_e: Saw_<(e,e),t>(x_e, (\u03b9 x1_e: Mother_<(e,e),t>(x1_e, x_e))))'/<e,t> conflict (mode: Predicate Modification), ||[[every man] [[saw] [[poss] [[mother] him]]]]|| = Type mismatch: '||[every man]|| = (\u03bb g_<e,t>: (Forall x_e: (Man_<e,t>(x_e) >> g_<e,t>(x_e))))'/<<e,t>,t> and '||[[saw] [[poss] [[mother] him]]]|| = (\u03bb x_e: Saw_<(e,e),t>(x_e, (\u03b9 x1_e: Mother_<(e,e),t>(x1_e, x_e))))'/<e,t> conflict (mode: Predicate Abstraction), ||[[[saw] [[poss] [[mother] him]]] [every man]]|| = Type mismatch: '||[[saw] [[poss] [[mother] him]]]|| = (\u03bb x_e: Saw_<(e,e),t>(x_e, (\u03b9 x1_e: Mother_<(e,e),t>(x1_e, x_e))))'/<e,t> and '||[every man]|| = (\u03bb g_<e,t>: (Forall x_e: (Man_<e,t>(x_e) >> g_<e,t>(x_e))))'/<<e,t>,t> conflict (mode: Predicate Abstraction), ||[[[every man]] [[[[[[[mother] him]] poss]] saw]]]|| = Type mismatch: '||[[every man]]|| = (\u03bb f_<e,<e,t>>: (\u03bb x_e: (Forall x1_e: (Man_<e,t>(x1_e) >> f_<e,<e,t>>(x_e)(x1_e)))))'/<<e,<e,t>>,<e,t>> and '||[[[[[[[mother] him]] poss]] saw]]|| = (\u03bb f_<e,e>: (\u03bb x_e: (\u03bb y_e: Mother_<(e,e),t>(y_e, (\u03b9 x1_e: Saw_<(e,e),t>(x1_e, f_<e,e>(x_e)))))))'/<<e,e>,<e,<e,t>>> conflict (mode: Function Application), ||[[[[[[[[mother] him]] poss]] saw]] [[every man]]]|| = Type mismatch: '||[[[[[[[mother] him]] poss]] saw]]|| = (\u03bb f_<e,e>: (\u03bb x_e: (\u03bb y_e: Mother_<(e,e),t>(y_e, (\u03b9 x1_e: Saw_<(e,e),t>(x1_e, f_<e,e>(x_e)))))))'/<<e,e>,<e,<e,t>>> and '||[[every man]]|| = (\u03bb f_<e,<e,t>>: (\u03bb x_e: (Forall x1_e: (Man_<e,t>(x1_e) >> f_<e,<e,t>>(x_e)(x1_e)))))'/<<e,<e,t>>,<e,t>> conflict (mode: Function Application), ||[[[every man]] [[[[[[[mother] him]] poss]] saw]]]|| = Type mismatch: '||[[every man]]|| = (\u03bb f_<e,<e,t>>: (\u03bb x_e: (Forall x1_e: (Man_<e,t>(x1_e) >> f_<e,<e,t>>(x_e)(x1_e)))))'/<<e,<e,t>>,<e,t>> and '||[[[[[[[mother] him]] poss]] saw]]|| = (\u03bb f_<e,e>: (\u03bb x_e: (\u03bb y_e: Mother_<(e,e),t>(y_e, (\u03b9 x1_e: Saw_<(e,e),t>(x1_e, f_<e,e>(x_e)))))))'/<<e,e>,<e,<e,t>>> conflict (mode: Predicate Modification), ||[[[every man]] [[[[[[[mother] him]] poss]] saw]]]|| = Type mismatch: '||[[every man]]|| = (\u03bb f_<e,<e,t>>: (\u03bb x_e: (Forall x1_e: (Man_<e,t>(x1_e) >> f_<e,<e,t>>(x_e)(x1_e)))))'/<<e,<e,t>>,<e,t>> and '||[[[[[[[mother] him]] poss]] saw]]|| = (\u03bb f_<e,e>: (\u03bb x_e: (\u03bb y_e: Mother_<(e,e),t>(y_e, (\u03b9 x1_e: Saw_<(e,e),t>(x1_e, f_<e,e>(x_e)))))))'/<<e,e>,<e,<e,t>>> conflict (mode: Predicate Abstraction), ||[[[[[[[[mother] him]] poss]] saw]] [[every man]]]|| = Type mismatch: '||[[[[[[[mother] him]] poss]] saw]]|| = (\u03bb f_<e,e>: (\u03bb x_e: (\u03bb y_e: Mother_<(e,e),t>(y_e, (\u03b9 x1_e: Saw_<(e,e),t>(x1_e, f_<e,e>(x_e)))))))'/<<e,e>,<e,<e,t>>> and '||[[every man]]|| = (\u03bb f_<e,<e,t>>: (\u03bb x_e: (Forall x1_e: (Man_<e,t>(x1_e) >> f_<e,<e,t>>(x_e)(x1_e)))))'/<<e,<e,t>>,<e,t>> conflict (mode: Predicate Abstraction), ||[[[every man]] [[[[[[[mother] him]] poss]] saw]]]|| = Type mismatch: '||[[every man]]|| = (\u03bb f_<e,<e,t>>: (\u03bb x_e: (Forall x1_e: (Man_<e,t>(x1_e) >> f_<e,<e,t>>(x_e)(x1_e)))))'/<<e,<e,t>>,<e,t>> and '||[[[[[[[mother] him]] poss]] saw]]|| = (\u03bb g_<e,e>: (\u03bb x_e: Mother_<(e,e),t>(x_e, (\u03b9 x1_e: Saw_<(e,e),t>(x1_e, g_<e,e>(x_e))))))'/<<e,e>,<e,t>> conflict (mode: Function Application), ||[[[[[[[[mother] him]] poss]] saw]] [[every man]]]|| = Type mismatch: '||[[[[[[[mother] him]] poss]] saw]]|| = (\u03bb g_<e,e>: (\u03bb x_e: Mother_<(e,e),t>(x_e, (\u03b9 x1_e: Saw_<(e,e),t>(x1_e, g_<e,e>(x_e))))))'/<<e,e>,<e,t>> and '||[[every man]]|| = (\u03bb f_<e,<e,t>>: (\u03bb x_e: (Forall x1_e: (Man_<e,t>(x1_e) >> f_<e,<e,t>>(x_e)(x1_e)))))'/<<e,<e,t>>,<e,t>> conflict (mode: Function Application), ||[[[every man]] [[[[[[[mother] him]] poss]] saw]]]|| = Type mismatch: '||[[every man]]|| = (\u03bb f_<e,<e,t>>: (\u03bb x_e: (Forall x1_e: (Man_<e,t>(x1_e) >> f_<e,<e,t>>(x_e)(x1_e)))))'/<<e,<e,t>>,<e,t>> and '||[[[[[[[mother] him]] poss]] saw]]|| = (\u03bb g_<e,e>: (\u03bb x_e: Mother_<(e,e),t>(x_e, (\u03b9 x1_e: Saw_<(e,e),t>(x1_e, g_<e,e>(x_e))))))'/<<e,e>,<e,t>> conflict (mode: Predicate Modification), ||[[[every man]] [[[[[[[mother] him]] poss]] saw]]]|| = Type mismatch: '||[[every man]]|| = (\u03bb f_<e,<e,t>>: (\u03bb x_e: (Forall x1_e: (Man_<e,t>(x1_e) >> f_<e,<e,t>>(x_e)(x1_e)))))'/<<e,<e,t>>,<e,t>> and '||[[[[[[[mother] him]] poss]] saw]]|| = (\u03bb g_<e,e>: (\u03bb x_e: Mother_<(e,e),t>(x_e, (\u03b9 x1_e: Saw_<(e,e),t>(x1_e, g_<e,e>(x_e))))))'/<<e,e>,<e,t>> conflict (mode: Predicate Abstraction), ||[[[[[[[[mother] him]] poss]] saw]] [[every man]]]|| = Type mismatch: '||[[[[[[[mother] him]] poss]] saw]]|| = (\u03bb g_<e,e>: (\u03bb x_e: Mother_<(e,e),t>(x_e, (\u03b9 x1_e: Saw_<(e,e),t>(x1_e, g_<e,e>(x_e))))))'/<<e,e>,<e,t>> and '||[[every man]]|| = (\u03bb f_<e,<e,t>>: (\u03bb x_e: (Forall x1_e: (Man_<e,t>(x1_e) >> f_<e,<e,t>>(x_e)(x1_e)))))'/<<e,<e,t>>,<e,t>> conflict (mode: Predicate Abstraction), ||[[[every man]] [[[[[[[mother] him]] poss]] saw]]]|| = Type mismatch: '||[[every man]]|| = (\u03bb f_<e,<e,t>>: (\u03bb x_e: (Forall x1_e: (Man_<e,t>(x1_e) >> f_<e,<e,t>>(x_e)(x1_e)))))'/<<e,<e,t>>,<e,t>> and '||[[[[[[[mother] him]] poss]] saw]]|| = (\u03bb f_<<e,t>,e>: (\u03bb x_<e,t>: (\u03bb y_e: Mother_<(e,e),t>(y_e, (\u03b9 x1_e: Saw_<(e,e),t>(x1_e, f_<<e,t>,e>(x_<e,t>)))))))'/<<<e,t>,e>,<<e,t>,<e,t>>> conflict (mode: Function Application), ||[[[[[[[[mother] him]] poss]] saw]] [[every man]]]|| = Type mismatch: '||[[[[[[[mother] him]] poss]] saw]]|| = (\u03bb f_<<e,t>,e>: (\u03bb x_<e,t>: (\u03bb y_e: Mother_<(e,e),t>(y_e, (\u03b9 x1_e: Saw_<(e,e),t>(x1_e, f_<<e,t>,e>(x_<e,t>)))))))'/<<<e,t>,e>,<<e,t>,<e,t>>> and '||[[every man]]|| = (\u03bb f_<e,<e,t>>: (\u03bb x_e: (Forall x1_e: (Man_<e,t>(x1_e) >> f_<e,<e,t>>(x_e)(x1_e)))))'/<<e,<e,t>>,<e,t>> conflict (mode: Function Application), ||[[[every man]] [[[[[[[mother] him]] poss]] saw]]]|| = Type mismatch: '||[[every man]]|| = (\u03bb f_<e,<e,t>>: (\u03bb x_e: (Forall x1_e: (Man_<e,t>(x1_e) >> f_<e,<e,t>>(x_e)(x1_e)))))'/<<e,<e,t>>,<e,t>> and '||[[[[[[[mother] him]] poss]] saw]]|| = (\u03bb f_<<e,t>,e>: (\u03bb x_<e,t>: (\u03bb y_e: Mother_<(e,e),t>(y_e, (\u03b9 x1_e: Saw_<(e,e),t>(x1_e, f_<<e,t>,e>(x_<e,t>)))))))'/<<<e,t>,e>,<<e,t>,<e,t>>> conflict (mode: Predicate Modification), ||[[[every man]] [[[[[[[mother] him]] poss]] saw]]]|| = Type mismatch: '||[[every man]]|| = (\u03bb f_<e,<e,t>>: (\u03bb x_e: (Forall x1_e: (Man_<e,t>(x1_e) >> f_<e,<e,t>>(x_e)(x1_e)))))'/<<e,<e,t>>,<e,t>> and '||[[[[[[[mother] him]] poss]] saw]]|| = (\u03bb f_<<e,t>,e>: (\u03bb x_<e,t>: (\u03bb y_e: Mother_<(e,e),t>(y_e, (\u03b9 x1_e: Saw_<(e,e),t>(x1_e, f_<<e,t>,e>(x_<e,t>)))))))'/<<<e,t>,e>,<<e,t>,<e,t>>> conflict (mode: Predicate Abstraction), ||[[[[[[[[mother] him]] poss]] saw]] [[every man]]]|| = Type mismatch: '||[[[[[[[mother] him]] poss]] saw]]|| = (\u03bb f_<<e,t>,e>: (\u03bb x_<e,t>: (\u03bb y_e: Mother_<(e,e),t>(y_e, (\u03b9 x1_e: Saw_<(e,e),t>(x1_e, f_<<e,t>,e>(x_<e,t>)))))))'/<<<e,t>,e>,<<e,t>,<e,t>>> and '||[[every man]]|| = (\u03bb f_<e,<e,t>>: (\u03bb x_e: (Forall x1_e: (Man_<e,t>(x1_e) >> f_<e,<e,t>>(x_e)(x1_e)))))'/<<e,<e,t>>,<e,t>> conflict (mode: Predicate Abstraction), ||[[[[[[[mother] him]] poss]] saw] [[every man]]]|| = Type mismatch: '||[[[[[[mother] him]] poss]] saw]|| = (\u03bb x_e: (\u03bb y_e: Mother_<(e,e),t>(y_e, (\u03b9 x1_e: Saw_<(e,e),t>(x1_e, x_e)))))'/<e,<e,t>> and '||[[every man]]|| = (\u03bb f_<e,<e,t>>: (\u03bb x_e: (Forall x1_e: (Man_<e,t>(x1_e) >> f_<e,<e,t>>(x_e)(x1_e)))))'/<<e,<e,t>>,<e,t>> conflict (mode: Function Application), ||[[[every man]] [[[[[[mother] him]] poss]] saw]]|| = Type mismatch: '||[[every man]]|| = (\u03bb f_<e,<e,t>>: (\u03bb x_e: (Forall x1_e: (Man_<e,t>(x1_e) >> f_<e,<e,t>>(x_e)(x1_e)))))'/<<e,<e,t>>,<e,t>> and '||[[[[[[mother] him]] poss]] saw]|| = (\u03bb x_e: (\u03bb y_e: Mother_<(e,e),t>(y_e, (\u03b9 x1_e: Saw_<(e,e),t>(x1_e, x_e)))))'/<e,<e,t>> conflict (mode: Predicate Modification), ||[[[every man]] [[[[[[mother] him]] poss]] saw]]|| = Type mismatch: '||[[every man]]|| = (\u03bb f_<e,<e,t>>: (\u03bb x_e: (Forall x1_e: (Man_<e,t>(x1_e) >> f_<e,<e,t>>(x_e)(x1_e)))))'/<<e,<e,t>>,<e,t>> and '||[[[[[[mother] him]] poss]] saw]|| = (\u03bb x_e: (\u03bb y_e: Mother_<(e,e),t>(y_e, (\u03b9 x1_e: Saw_<(e,e),t>(x1_e, x_e)))))'/<e,<e,t>> conflict (mode: Predicate Abstraction), ||[[[[[[[mother] him]] poss]] saw] [[every man]]]|| = Type mismatch: '||[[[[[[mother] him]] poss]] saw]|| = (\u03bb x_e: (\u03bb y_e: Mother_<(e,e),t>(y_e, (\u03b9 x1_e: Saw_<(e,e),t>(x1_e, x_e)))))'/<e,<e,t>> and '||[[every man]]|| = (\u03bb f_<e,<e,t>>: (\u03bb x_e: (Forall x1_e: (Man_<e,t>(x1_e) >> f_<e,<e,t>>(x_e)(x1_e)))))'/<<e,<e,t>>,<e,t>> conflict (mode: Predicate Abstraction), ||[[[every man]] [[[[[[[mother] him]] poss]] saw]]]|| = Type mismatch: '||[[every man]]|| = (\u03bb f_<<e,t>,<e,t>>: (\u03bb x_<e,t>: (Forall x1_e: (Man_<e,t>(x1_e) >> f_<<e,t>,<e,t>>(x_<e,t>)(x1_e)))))'/<<<e,t>,<e,t>>,<<e,t>,t>> and '||[[[[[[[mother] him]] poss]] saw]]|| = (\u03bb f_<e,e>: (\u03bb x_e: (\u03bb y_e: Mother_<(e,e),t>(y_e, (\u03b9 x1_e: Saw_<(e,e),t>(x1_e, f_<e,e>(x_e)))))))'/<<e,e>,<e,<e,t>>> conflict (mode: Function Application), ||[[[[[[[[mother] him]] poss]] saw]] [[every man]]]|| = Type mismatch: '||[[[[[[[mother] him]] poss]] saw]]|| = (\u03bb f_<e,e>: (\u03bb x_e: (\u03bb y_e: Mother_<(e,e),t>(y_e, (\u03b9 x1_e: Saw_<(e,e),t>(x1_e, f_<e,e>(x_e)))))))'/<<e,e>,<e,<e,t>>> and '||[[every man]]|| = (\u03bb f_<<e,t>,<e,t>>: (\u03bb x_<e,t>: (Forall x1_e: (Man_<e,t>(x1_e) >> f_<<e,t>,<e,t>>(x_<e,t>)(x1_e)))))'/<<<e,t>,<e,t>>,<<e,t>,t>> conflict (mode: Function Application), ||[[[every man]] [[[[[[[mother] him]] poss]] saw]]]|| = Type mismatch: '||[[every man]]|| = (\u03bb f_<<e,t>,<e,t>>: (\u03bb x_<e,t>: (Forall x1_e: (Man_<e,t>(x1_e) >> f_<<e,t>,<e,t>>(x_<e,t>)(x1_e)))))'/<<<e,t>,<e,t>>,<<e,t>,t>> and '||[[[[[[[mother] him]] poss]] saw]]|| = (\u03bb f_<e,e>: (\u03bb x_e: (\u03bb y_e: Mother_<(e,e),t>(y_e, (\u03b9 x1_e: Saw_<(e,e),t>(x1_e, f_<e,e>(x_e)))))))'/<<e,e>,<e,<e,t>>> conflict (mode: Predicate Modification), ||[[[every man]] [[[[[[[mother] him]] poss]] saw]]]|| = Type mismatch: '||[[every man]]|| = (\u03bb f_<<e,t>,<e,t>>: (\u03bb x_<e,t>: (Forall x1_e: (Man_<e,t>(x1_e) >> f_<<e,t>,<e,t>>(x_<e,t>)(x1_e)))))'/<<<e,t>,<e,t>>,<<e,t>,t>> and '||[[[[[[[mother] him]] poss]] saw]]|| = (\u03bb f_<e,e>: (\u03bb x_e: (\u03bb y_e: Mother_<(e,e),t>(y_e, (\u03b9 x1_e: Saw_<(e,e),t>(x1_e, f_<e,e>(x_e)))))))'/<<e,e>,<e,<e,t>>> conflict (mode: Predicate Abstraction), ||[[[[[[[[mother] him]] poss]] saw]] [[every man]]]|| = Type mismatch: '||[[[[[[[mother] him]] poss]] saw]]|| = (\u03bb f_<e,e>: (\u03bb x_e: (\u03bb y_e: Mother_<(e,e),t>(y_e, (\u03b9 x1_e: Saw_<(e,e),t>(x1_e, f_<e,e>(x_e)))))))'/<<e,e>,<e,<e,t>>> and '||[[every man]]|| = (\u03bb f_<<e,t>,<e,t>>: (\u03bb x_<e,t>: (Forall x1_e: (Man_<e,t>(x1_e) >> f_<<e,t>,<e,t>>(x_<e,t>)(x1_e)))))'/<<<e,t>,<e,t>>,<<e,t>,t>> conflict (mode: Predicate Abstraction), ||[[[every man]] [[[[[[[mother] him]] poss]] saw]]]|| = Type mismatch: '||[[every man]]|| = (\u03bb f_<<e,t>,<e,t>>: (\u03bb x_<e,t>: (Forall x1_e: (Man_<e,t>(x1_e) >> f_<<e,t>,<e,t>>(x_<e,t>)(x1_e)))))'/<<<e,t>,<e,t>>,<<e,t>,t>> and '||[[[[[[[mother] him]] poss]] saw]]|| = (\u03bb g_<e,e>: (\u03bb x_e: Mother_<(e,e),t>(x_e, (\u03b9 x1_e: Saw_<(e,e),t>(x1_e, g_<e,e>(x_e))))))'/<<e,e>,<e,t>> conflict (mode: Function Application), ||[[[[[[[[mother] him]] poss]] saw]] [[every man]]]|| = Type mismatch: '||[[[[[[[mother] him]] poss]] saw]]|| = (\u03bb g_<e,e>: (\u03bb x_e: Mother_<(e,e),t>(x_e, (\u03b9 x1_e: Saw_<(e,e),t>(x1_e, g_<e,e>(x_e))))))'/<<e,e>,<e,t>> and '||[[every man]]|| = (\u03bb f_<<e,t>,<e,t>>: (\u03bb x_<e,t>: (Forall x1_e: (Man_<e,t>(x1_e) >> f_<<e,t>,<e,t>>(x_<e,t>)(x1_e)))))'/<<<e,t>,<e,t>>,<<e,t>,t>> conflict (mode: Function Application), ||[[[every man]] [[[[[[[mother] him]] poss]] saw]]]|| = Type mismatch: '||[[every man]]|| = (\u03bb f_<<e,t>,<e,t>>: (\u03bb x_<e,t>: (Forall x1_e: (Man_<e,t>(x1_e) >> f_<<e,t>,<e,t>>(x_<e,t>)(x1_e)))))'/<<<e,t>,<e,t>>,<<e,t>,t>> and '||[[[[[[[mother] him]] poss]] saw]]|| = (\u03bb g_<e,e>: (\u03bb x_e: Mother_<(e,e),t>(x_e, (\u03b9 x1_e: Saw_<(e,e),t>(x1_e, g_<e,e>(x_e))))))'/<<e,e>,<e,t>> conflict (mode: Predicate Modification), ||[[[every man]] [[[[[[[mother] him]] poss]] saw]]]|| = Type mismatch: '||[[every man]]|| = (\u03bb f_<<e,t>,<e,t>>: (\u03bb x_<e,t>: (Forall x1_e: (Man_<e,t>(x1_e) >> f_<<e,t>,<e,t>>(x_<e,t>)(x1_e)))))'/<<<e,t>,<e,t>>,<<e,t>,t>> and '||[[[[[[[mother] him]] poss]] saw]]|| = (\u03bb g_<e,e>: (\u03bb x_e: Mother_<(e,e),t>(x_e, (\u03b9 x1_e: Saw_<(e,e),t>(x1_e, g_<e,e>(x_e))))))'/<<e,e>,<e,t>> conflict (mode: Predicate Abstraction), ||[[[[[[[[mother] him]] poss]] saw]] [[every man]]]|| = Type mismatch: '||[[[[[[[mother] him]] poss]] saw]]|| = (\u03bb g_<e,e>: (\u03bb x_e: Mother_<(e,e),t>(x_e, (\u03b9 x1_e: Saw_<(e,e),t>(x1_e, g_<e,e>(x_e))))))'/<<e,e>,<e,t>> and '||[[every man]]|| = (\u03bb f_<<e,t>,<e,t>>: (\u03bb x_<e,t>: (Forall x1_e: (Man_<e,t>(x1_e) >> f_<<e,t>,<e,t>>(x_<e,t>)(x1_e)))))'/<<<e,t>,<e,t>>,<<e,t>,t>> conflict (mode: Predicate Abstraction), ||[[[every man]] [[[[[[[mother] him]] poss]] saw]]]|| = Type mismatch: '||[[every man]]|| = (\u03bb f_<<e,t>,<e,t>>: (\u03bb x_<e,t>: (Forall x1_e: (Man_<e,t>(x1_e) >> f_<<e,t>,<e,t>>(x_<e,t>)(x1_e)))))'/<<<e,t>,<e,t>>,<<e,t>,t>> and '||[[[[[[[mother] him]] poss]] saw]]|| = (\u03bb f_<<e,t>,e>: (\u03bb x_<e,t>: (\u03bb y_e: Mother_<(e,e),t>(y_e, (\u03b9 x1_e: Saw_<(e,e),t>(x1_e, f_<<e,t>,e>(x_<e,t>)))))))'/<<<e,t>,e>,<<e,t>,<e,t>>> conflict (mode: Function Application), ||[[[[[[[[mother] him]] poss]] saw]] [[every man]]]|| = Type mismatch: '||[[[[[[[mother] him]] poss]] saw]]|| = (\u03bb f_<<e,t>,e>: (\u03bb x_<e,t>: (\u03bb y_e: Mother_<(e,e),t>(y_e, (\u03b9 x1_e: Saw_<(e,e),t>(x1_e, f_<<e,t>,e>(x_<e,t>)))))))'/<<<e,t>,e>,<<e,t>,<e,t>>> and '||[[every man]]|| = (\u03bb f_<<e,t>,<e,t>>: (\u03bb x_<e,t>: (Forall x1_e: (Man_<e,t>(x1_e) >> f_<<e,t>,<e,t>>(x_<e,t>)(x1_e)))))'/<<<e,t>,<e,t>>,<<e,t>,t>> conflict (mode: Function Application), ||[[[every man]] [[[[[[[mother] him]] poss]] saw]]]|| = Type mismatch: '||[[every man]]|| = (\u03bb f_<<e,t>,<e,t>>: (\u03bb x_<e,t>: (Forall x1_e: (Man_<e,t>(x1_e) >> f_<<e,t>,<e,t>>(x_<e,t>)(x1_e)))))'/<<<e,t>,<e,t>>,<<e,t>,t>> and '||[[[[[[[mother] him]] poss]] saw]]|| = (\u03bb f_<<e,t>,e>: (\u03bb x_<e,t>: (\u03bb y_e: Mother_<(e,e),t>(y_e, (\u03b9 x1_e: Saw_<(e,e),t>(x1_e, f_<<e,t>,e>(x_<e,t>)))))))'/<<<e,t>,e>,<<e,t>,<e,t>>> conflict (mode: Predicate Modification), ||[[[every man]] [[[[[[[mother] him]] poss]] saw]]]|| = Type mismatch: '||[[every man]]|| = (\u03bb f_<<e,t>,<e,t>>: (\u03bb x_<e,t>: (Forall x1_e: (Man_<e,t>(x1_e) >> f_<<e,t>,<e,t>>(x_<e,t>)(x1_e)))))'/<<<e,t>,<e,t>>,<<e,t>,t>> and '||[[[[[[[mother] him]] poss]] saw]]|| = (\u03bb f_<<e,t>,e>: (\u03bb x_<e,t>: (\u03bb y_e: Mother_<(e,e),t>(y_e, (\u03b9 x1_e: Saw_<(e,e),t>(x1_e, f_<<e,t>,e>(x_<e,t>)))))))'/<<<e,t>,e>,<<e,t>,<e,t>>> conflict (mode: Predicate Abstraction), ||[[[[[[[[mother] him]] poss]] saw]] [[every man]]]|| = Type mismatch: '||[[[[[[[mother] him]] poss]] saw]]|| = (\u03bb f_<<e,t>,e>: (\u03bb x_<e,t>: (\u03bb y_e: Mother_<(e,e),t>(y_e, (\u03b9 x1_e: Saw_<(e,e),t>(x1_e, f_<<e,t>,e>(x_<e,t>)))))))'/<<<e,t>,e>,<<e,t>,<e,t>>> and '||[[every man]]|| = (\u03bb f_<<e,t>,<e,t>>: (\u03bb x_<e,t>: (Forall x1_e: (Man_<e,t>(x1_e) >> f_<<e,t>,<e,t>>(x_<e,t>)(x1_e)))))'/<<<e,t>,<e,t>>,<<e,t>,t>> conflict (mode: Predicate Abstraction), ||[[[every man]] [[[[[[mother] him]] poss]] saw]]|| = Type mismatch: '||[[every man]]|| = (\u03bb f_<<e,t>,<e,t>>: (\u03bb x_<e,t>: (Forall x1_e: (Man_<e,t>(x1_e) >> f_<<e,t>,<e,t>>(x_<e,t>)(x1_e)))))'/<<<e,t>,<e,t>>,<<e,t>,t>> and '||[[[[[[mother] him]] poss]] saw]|| = (\u03bb x_e: (\u03bb y_e: Mother_<(e,e),t>(y_e, (\u03b9 x1_e: Saw_<(e,e),t>(x1_e, x_e)))))'/<e,<e,t>> conflict (mode: Function Application), ||[[[[[[[mother] him]] poss]] saw] [[every man]]]|| = Type mismatch: '||[[[[[[mother] him]] poss]] saw]|| = (\u03bb x_e: (\u03bb y_e: Mother_<(e,e),t>(y_e, (\u03b9 x1_e: Saw_<(e,e),t>(x1_e, x_e)))))'/<e,<e,t>> and '||[[every man]]|| = (\u03bb f_<<e,t>,<e,t>>: (\u03bb x_<e,t>: (Forall x1_e: (Man_<e,t>(x1_e) >> f_<<e,t>,<e,t>>(x_<e,t>)(x1_e)))))'/<<<e,t>,<e,t>>,<<e,t>,t>> conflict (mode: Function Application), ||[[[every man]] [[[[[[mother] him]] poss]] saw]]|| = Type mismatch: '||[[every man]]|| = (\u03bb f_<<e,t>,<e,t>>: (\u03bb x_<e,t>: (Forall x1_e: (Man_<e,t>(x1_e) >> f_<<e,t>,<e,t>>(x_<e,t>)(x1_e)))))'/<<<e,t>,<e,t>>,<<e,t>,t>> and '||[[[[[[mother] him]] poss]] saw]|| = (\u03bb x_e: (\u03bb y_e: Mother_<(e,e),t>(y_e, (\u03b9 x1_e: Saw_<(e,e),t>(x1_e, x_e)))))'/<e,<e,t>> conflict (mode: Predicate Modification), ||[[[every man]] [[[[[[mother] him]] poss]] saw]]|| = Type mismatch: '||[[every man]]|| = (\u03bb f_<<e,t>,<e,t>>: (\u03bb x_<e,t>: (Forall x1_e: (Man_<e,t>(x1_e) >> f_<<e,t>,<e,t>>(x_<e,t>)(x1_e)))))'/<<<e,t>,<e,t>>,<<e,t>,t>> and '||[[[[[[mother] him]] poss]] saw]|| = (\u03bb x_e: (\u03bb y_e: Mother_<(e,e),t>(y_e, (\u03b9 x1_e: Saw_<(e,e),t>(x1_e, x_e)))))'/<e,<e,t>> conflict (mode: Predicate Abstraction), ||[[[[[[[mother] him]] poss]] saw] [[every man]]]|| = Type mismatch: '||[[[[[[mother] him]] poss]] saw]|| = (\u03bb x_e: (\u03bb y_e: Mother_<(e,e),t>(y_e, (\u03b9 x1_e: Saw_<(e,e),t>(x1_e, x_e)))))'/<e,<e,t>> and '||[[every man]]|| = (\u03bb f_<<e,t>,<e,t>>: (\u03bb x_<e,t>: (Forall x1_e: (Man_<e,t>(x1_e) >> f_<<e,t>,<e,t>>(x_<e,t>)(x1_e)))))'/<<<e,t>,<e,t>>,<<e,t>,t>> conflict (mode: Predicate Abstraction), ||[[every man] [[[[[[[mother] him]] poss]] saw]]]|| = Type mismatch: '||[every man]|| = (\u03bb g_<e,t>: (Forall x_e: (Man_<e,t>(x_e) >> g_<e,t>(x_e))))'/<<e,t>,t> and '||[[[[[[[mother] him]] poss]] saw]]|| = (\u03bb f_<e,e>: (\u03bb x_e: (\u03bb y_e: Mother_<(e,e),t>(y_e, (\u03b9 x1_e: Saw_<(e,e),t>(x1_e, f_<e,e>(x_e)))))))'/<<e,e>,<e,<e,t>>> conflict (mode: Function Application), ||[[[[[[[[mother] him]] poss]] saw]] [every man]]|| = Type mismatch: '||[[[[[[[mother] him]] poss]] saw]]|| = (\u03bb f_<e,e>: (\u03bb x_e: (\u03bb y_e: Mother_<(e,e),t>(y_e, (\u03b9 x1_e: Saw_<(e,e),t>(x1_e, f_<e,e>(x_e)))))))'/<<e,e>,<e,<e,t>>> and '||[every man]|| = (\u03bb g_<e,t>: (Forall x_e: (Man_<e,t>(x_e) >> g_<e,t>(x_e))))'/<<e,t>,t> conflict (mode: Function Application), ||[[every man] [[[[[[[mother] him]] poss]] saw]]]|| = Type mismatch: '||[every man]|| = (\u03bb g_<e,t>: (Forall x_e: (Man_<e,t>(x_e) >> g_<e,t>(x_e))))'/<<e,t>,t> and '||[[[[[[[mother] him]] poss]] saw]]|| = (\u03bb f_<e,e>: (\u03bb x_e: (\u03bb y_e: Mother_<(e,e),t>(y_e, (\u03b9 x1_e: Saw_<(e,e),t>(x1_e, f_<e,e>(x_e)))))))'/<<e,e>,<e,<e,t>>> conflict (mode: Predicate Modification), ||[[every man] [[[[[[[mother] him]] poss]] saw]]]|| = Type mismatch: '||[every man]|| = (\u03bb g_<e,t>: (Forall x_e: (Man_<e,t>(x_e) >> g_<e,t>(x_e))))'/<<e,t>,t> and '||[[[[[[[mother] him]] poss]] saw]]|| = (\u03bb f_<e,e>: (\u03bb x_e: (\u03bb y_e: Mother_<(e,e),t>(y_e, (\u03b9 x1_e: Saw_<(e,e),t>(x1_e, f_<e,e>(x_e)))))))'/<<e,e>,<e,<e,t>>> conflict (mode: Predicate Abstraction), ||[[[[[[[[mother] him]] poss]] saw]] [every man]]|| = Type mismatch: '||[[[[[[[mother] him]] poss]] saw]]|| = (\u03bb f_<e,e>: (\u03bb x_e: (\u03bb y_e: Mother_<(e,e),t>(y_e, (\u03b9 x1_e: Saw_<(e,e),t>(x1_e, f_<e,e>(x_e)))))))'/<<e,e>,<e,<e,t>>> and '||[every man]|| = (\u03bb g_<e,t>: (Forall x_e: (Man_<e,t>(x_e) >> g_<e,t>(x_e))))'/<<e,t>,t> conflict (mode: Predicate Abstraction), ||[[every man] [[[[[[[mother] him]] poss]] saw]]]|| = Type mismatch: '||[every man]|| = (\u03bb g_<e,t>: (Forall x_e: (Man_<e,t>(x_e) >> g_<e,t>(x_e))))'/<<e,t>,t> and '||[[[[[[[mother] him]] poss]] saw]]|| = (\u03bb g_<e,e>: (\u03bb x_e: Mother_<(e,e),t>(x_e, (\u03b9 x1_e: Saw_<(e,e),t>(x1_e, g_<e,e>(x_e))))))'/<<e,e>,<e,t>> conflict (mode: Function Application), ||[[[[[[[[mother] him]] poss]] saw]] [every man]]|| = Type mismatch: '||[[[[[[[mother] him]] poss]] saw]]|| = (\u03bb g_<e,e>: (\u03bb x_e: Mother_<(e,e),t>(x_e, (\u03b9 x1_e: Saw_<(e,e),t>(x1_e, g_<e,e>(x_e))))))'/<<e,e>,<e,t>> and '||[every man]|| = (\u03bb g_<e,t>: (Forall x_e: (Man_<e,t>(x_e) >> g_<e,t>(x_e))))'/<<e,t>,t> conflict (mode: Function Application), ||[[every man] [[[[[[[mother] him]] poss]] saw]]]|| = Type mismatch: '||[every man]|| = (\u03bb g_<e,t>: (Forall x_e: (Man_<e,t>(x_e) >> g_<e,t>(x_e))))'/<<e,t>,t> and '||[[[[[[[mother] him]] poss]] saw]]|| = (\u03bb g_<e,e>: (\u03bb x_e: Mother_<(e,e),t>(x_e, (\u03b9 x1_e: Saw_<(e,e),t>(x1_e, g_<e,e>(x_e))))))'/<<e,e>,<e,t>> conflict (mode: Predicate Modification), ||[[every man] [[[[[[[mother] him]] poss]] saw]]]|| = Type mismatch: '||[every man]|| = (\u03bb g_<e,t>: (Forall x_e: (Man_<e,t>(x_e) >> g_<e,t>(x_e))))'/<<e,t>,t> and '||[[[[[[[mother] him]] poss]] saw]]|| = (\u03bb g_<e,e>: (\u03bb x_e: Mother_<(e,e),t>(x_e, (\u03b9 x1_e: Saw_<(e,e),t>(x1_e, g_<e,e>(x_e))))))'/<<e,e>,<e,t>> conflict (mode: Predicate Abstraction), ||[[[[[[[[mother] him]] poss]] saw]] [every man]]|| = Type mismatch: '||[[[[[[[mother] him]] poss]] saw]]|| = (\u03bb g_<e,e>: (\u03bb x_e: Mother_<(e,e),t>(x_e, (\u03b9 x1_e: Saw_<(e,e),t>(x1_e, g_<e,e>(x_e))))))'/<<e,e>,<e,t>> and '||[every man]|| = (\u03bb g_<e,t>: (Forall x_e: (Man_<e,t>(x_e) >> g_<e,t>(x_e))))'/<<e,t>,t> conflict (mode: Predicate Abstraction), ||[[every man] [[[[[[[mother] him]] poss]] saw]]]|| = Type mismatch: '||[every man]|| = (\u03bb g_<e,t>: (Forall x_e: (Man_<e,t>(x_e) >> g_<e,t>(x_e))))'/<<e,t>,t> and '||[[[[[[[mother] him]] poss]] saw]]|| = (\u03bb f_<<e,t>,e>: (\u03bb x_<e,t>: (\u03bb y_e: Mother_<(e,e),t>(y_e, (\u03b9 x1_e: Saw_<(e,e),t>(x1_e, f_<<e,t>,e>(x_<e,t>)))))))'/<<<e,t>,e>,<<e,t>,<e,t>>> conflict (mode: Function Application), ||[[[[[[[[mother] him]] poss]] saw]] [every man]]|| = Type mismatch: '||[[[[[[[mother] him]] poss]] saw]]|| = (\u03bb f_<<e,t>,e>: (\u03bb x_<e,t>: (\u03bb y_e: Mother_<(e,e),t>(y_e, (\u03b9 x1_e: Saw_<(e,e),t>(x1_e, f_<<e,t>,e>(x_<e,t>)))))))'/<<<e,t>,e>,<<e,t>,<e,t>>> and '||[every man]|| = (\u03bb g_<e,t>: (Forall x_e: (Man_<e,t>(x_e) >> g_<e,t>(x_e))))'/<<e,t>,t> conflict (mode: Function Application), ||[[every man] [[[[[[[mother] him]] poss]] saw]]]|| = Type mismatch: '||[every man]|| = (\u03bb g_<e,t>: (Forall x_e: (Man_<e,t>(x_e) >> g_<e,t>(x_e))))'/<<e,t>,t> and '||[[[[[[[mother] him]] poss]] saw]]|| = (\u03bb f_<<e,t>,e>: (\u03bb x_<e,t>: (\u03bb y_e: Mother_<(e,e),t>(y_e, (\u03b9 x1_e: Saw_<(e,e),t>(x1_e, f_<<e,t>,e>(x_<e,t>)))))))'/<<<e,t>,e>,<<e,t>,<e,t>>> conflict (mode: Predicate Modification), ||[[every man] [[[[[[[mother] him]] poss]] saw]]]|| = Type mismatch: '||[every man]|| = (\u03bb g_<e,t>: (Forall x_e: (Man_<e,t>(x_e) >> g_<e,t>(x_e))))'/<<e,t>,t> and '||[[[[[[[mother] him]] poss]] saw]]|| = (\u03bb f_<<e,t>,e>: (\u03bb x_<e,t>: (\u03bb y_e: Mother_<(e,e),t>(y_e, (\u03b9 x1_e: Saw_<(e,e),t>(x1_e, f_<<e,t>,e>(x_<e,t>)))))))'/<<<e,t>,e>,<<e,t>,<e,t>>> conflict (mode: Predicate Abstraction), ||[[[[[[[[mother] him]] poss]] saw]] [every man]]|| = Type mismatch: '||[[[[[[[mother] him]] poss]] saw]]|| = (\u03bb f_<<e,t>,e>: (\u03bb x_<e,t>: (\u03bb y_e: Mother_<(e,e),t>(y_e, (\u03b9 x1_e: Saw_<(e,e),t>(x1_e, f_<<e,t>,e>(x_<e,t>)))))))'/<<<e,t>,e>,<<e,t>,<e,t>>> and '||[every man]|| = (\u03bb g_<e,t>: (Forall x_e: (Man_<e,t>(x_e) >> g_<e,t>(x_e))))'/<<e,t>,t> conflict (mode: Predicate Abstraction), ||[[every man] [[[[[[mother] him]] poss]] saw]]|| = Type mismatch: '||[every man]|| = (\u03bb g_<e,t>: (Forall x_e: (Man_<e,t>(x_e) >> g_<e,t>(x_e))))'/<<e,t>,t> and '||[[[[[[mother] him]] poss]] saw]|| = (\u03bb x_e: (\u03bb y_e: Mother_<(e,e),t>(y_e, (\u03b9 x1_e: Saw_<(e,e),t>(x1_e, x_e)))))'/<e,<e,t>> conflict (mode: Function Application), ||[[[[[[[mother] him]] poss]] saw] [every man]]|| = Type mismatch: '||[[[[[[mother] him]] poss]] saw]|| = (\u03bb x_e: (\u03bb y_e: Mother_<(e,e),t>(y_e, (\u03b9 x1_e: Saw_<(e,e),t>(x1_e, x_e)))))'/<e,<e,t>> and '||[every man]|| = (\u03bb g_<e,t>: (Forall x_e: (Man_<e,t>(x_e) >> g_<e,t>(x_e))))'/<<e,t>,t> conflict (mode: Function Application), ||[[every man] [[[[[[mother] him]] poss]] saw]]|| = Type mismatch: '||[every man]|| = (\u03bb g_<e,t>: (Forall x_e: (Man_<e,t>(x_e) >> g_<e,t>(x_e))))'/<<e,t>,t> and '||[[[[[[mother] him]] poss]] saw]|| = (\u03bb x_e: (\u03bb y_e: Mother_<(e,e),t>(y_e, (\u03b9 x1_e: Saw_<(e,e),t>(x1_e, x_e)))))'/<e,<e,t>> conflict (mode: Predicate Modification), ||[[every man] [[[[[[mother] him]] poss]] saw]]|| = Type mismatch: '||[every man]|| = (\u03bb g_<e,t>: (Forall x_e: (Man_<e,t>(x_e) >> g_<e,t>(x_e))))'/<<e,t>,t> and '||[[[[[[mother] him]] poss]] saw]|| = (\u03bb x_e: (\u03bb y_e: Mother_<(e,e),t>(y_e, (\u03b9 x1_e: Saw_<(e,e),t>(x1_e, x_e)))))'/<e,<e,t>> conflict (mode: Predicate Abstraction), ||[[[[[[[mother] him]] poss]] saw] [every man]]|| = Type mismatch: '||[[[[[[mother] him]] poss]] saw]|| = (\u03bb x_e: (\u03bb y_e: Mother_<(e,e),t>(y_e, (\u03b9 x1_e: Saw_<(e,e),t>(x1_e, x_e)))))'/<e,<e,t>> and '||[every man]|| = (\u03bb g_<e,t>: (Forall x_e: (Man_<e,t>(x_e) >> g_<e,t>(x_e))))'/<<e,t>,t> conflict (mode: Predicate Abstraction), ||[[[[[[[mother] him]] poss]] saw] [every man]]|| = Type mismatch: '||[[[[[[mother] him]] poss]] saw]|| = (\u03bb x_e: Mother_<(e,e),t>(x_e, (\u03b9 x1_e: Saw_<(e,e),t>(x1_e, x_e))))'/<e,t> and '||[every man]|| = (\u03bb g_<e,t>: (Forall x_e: (Man_<e,t>(x_e) >> g_<e,t>(x_e))))'/<<e,t>,t> conflict (mode: Function Application), ||[[every man] [[[[[[mother] him]] poss]] saw]]|| = Type mismatch: '||[every man]|| = (\u03bb g_<e,t>: (Forall x_e: (Man_<e,t>(x_e) >> g_<e,t>(x_e))))'/<<e,t>,t> and '||[[[[[[mother] him]] poss]] saw]|| = (\u03bb x_e: Mother_<(e,e),t>(x_e, (\u03b9 x1_e: Saw_<(e,e),t>(x1_e, x_e))))'/<e,t> conflict (mode: Predicate Modification), ||[[every man] [[[[[[mother] him]] poss]] saw]]|| = Type mismatch: '||[every man]|| = (\u03bb g_<e,t>: (Forall x_e: (Man_<e,t>(x_e) >> g_<e,t>(x_e))))'/<<e,t>,t> and '||[[[[[[mother] him]] poss]] saw]|| = (\u03bb x_e: Mother_<(e,e),t>(x_e, (\u03b9 x1_e: Saw_<(e,e),t>(x1_e, x_e))))'/<e,t> conflict (mode: Predicate Abstraction), ||[[[[[[[mother] him]] poss]] saw] [every man]]|| = Type mismatch: '||[[[[[[mother] him]] poss]] saw]|| = (\u03bb x_e: Mother_<(e,e),t>(x_e, (\u03b9 x1_e: Saw_<(e,e),t>(x1_e, x_e))))'/<e,t> and '||[every man]|| = (\u03bb g_<e,t>: (Forall x_e: (Man_<e,t>(x_e) >> g_<e,t>(x_e))))'/<<e,t>,t> conflict (mode: Predicate Abstraction), ||[[saw [poss [[mother] him]]] [every man]]|| = Type mismatch: '||[saw [poss [[mother] him]]]|| = (\u03bb y_e: Saw_<(e,e),t>(y_e, (\u03b9 x_e: Mother_<(e,e),t>(x_e, x_e))))'/<e,t> and '||[every man]|| = (\u03bb g_<e,t>: (Forall x_e: (Man_<e,t>(x_e) >> g_<e,t>(x_e))))'/<<e,t>,t> conflict (mode: Function Application), ||[[every man] [saw [poss [[mother] him]]]]|| = Type mismatch: '||[every man]|| = (\u03bb g_<e,t>: (Forall x_e: (Man_<e,t>(x_e) >> g_<e,t>(x_e))))'/<<e,t>,t> and '||[saw [poss [[mother] him]]]|| = (\u03bb y_e: Saw_<(e,e),t>(y_e, (\u03b9 x_e: Mother_<(e,e),t>(x_e, x_e))))'/<e,t> conflict (mode: Predicate Modification), ||[[every man] [saw [poss [[mother] him]]]]|| = Type mismatch: '||[every man]|| = (\u03bb g_<e,t>: (Forall x_e: (Man_<e,t>(x_e) >> g_<e,t>(x_e))))'/<<e,t>,t> and '||[saw [poss [[mother] him]]]|| = (\u03bb y_e: Saw_<(e,e),t>(y_e, (\u03b9 x_e: Mother_<(e,e),t>(x_e, x_e))))'/<e,t> conflict (mode: Predicate Abstraction), ||[[saw [poss [[mother] him]]] [every man]]|| = Type mismatch: '||[saw [poss [[mother] him]]]|| = (\u03bb y_e: Saw_<(e,e),t>(y_e, (\u03b9 x_e: Mother_<(e,e),t>(x_e, x_e))))'/<e,t> and '||[every man]|| = (\u03bb g_<e,t>: (Forall x_e: (Man_<e,t>(x_e) >> g_<e,t>(x_e))))'/<<e,t>,t> conflict (mode: Predicate Abstraction)])"
       ]
      }
     ],
     "prompt_number": 34
    },
    {
     "cell_type": "code",
     "collapsed": false,
     "input": [],
     "language": "python",
     "metadata": {},
     "outputs": [],
     "prompt_number": 50
    },
    {
     "cell_type": "code",
     "collapsed": false,
     "input": [],
     "language": "python",
     "metadata": {},
     "outputs": [],
     "prompt_number": 50
    },
    {
     "cell_type": "markdown",
     "metadata": {},
     "source": [
      "This account generates 3 readings, 2 of them redundant (but generated via different sequences of typeshifts).  (*note, numbers may not be stable across ILNB version changes*) \n",
      "\n",
      " * `result[1]` and `result[3]` are the (same) bound variable reading that is exactly what we are looking for.\n",
      " * `result[0]` and `result[2]` are the (same) free reading that we also want.\n",
      " * `result[4]` is an overgenerated, and pathological, reflexive reading where `x1` is `x1`'s own mother.  (*TODO: treatment of possessive is slightly different than Jacobson's...*)"
     ]
    },
    {
     "cell_type": "code",
     "collapsed": false,
     "input": [
      "result[1].latex_step_tree()"
     ],
     "language": "python",
     "metadata": {},
     "outputs": [
      {
       "latex": [
        "<table><tr><td style=\"vertical-align:bottom;padding:0px 10px\" align=\"center\"><table><tr><td style=\"vertical-align:bottom\"><table><tr><td style=\"vertical-align:bottom;padding:0px 10px\" align=\"center\"><table><tr><td style=\"vertical-align:bottom\"><table align=\"center\"><tr><td align=\"center\">$||\\mathbf{\\text{every}}||^{}_{\\langle{}\\langle{}e,t\\rangle{},\\langle{}\\langle{}e,t\\rangle{},t\\rangle{}\\rangle{}}$</td></tr><tr><td align=\"center\">$\\lambda{} f_{\\langle{}e,t\\rangle{}} \\: . \\: \\lambda{} g_{\\langle{}e,t\\rangle{}} \\: . \\: \\forall{} x_{e} \\: . \\: ({f}_{\\langle{}e,t\\rangle{}}({x}_{e}) \\rightarrow{} {g}_{\\langle{}e,t\\rangle{}}({x}_{e}))$</td></tr></table>\n",
        "</td><td style=\"vertical-align:bottom;padding-bottom:5px\">&nbsp;&nbsp;&nbsp;$\\circ$&nbsp;&nbsp;&nbsp;</td><td style=\"vertical-align:bottom\"><table align=\"center\"><tr><td align=\"center\">$||\\mathbf{\\text{man}}||^{}_{\\langle{}e,t\\rangle{}}$</td></tr><tr><td align=\"center\">$\\lambda{} x_{e} \\: . \\: {Man}({x}_{e})$</td></tr></table>\n",
        "</td></tr></table></td><td style=\"vertical-align:bottom;padding-bottom:5px;padding-left:10px\"><b>[FA]</b></td></tr><tr style=\"border-top: 1px solid #848482\"><td align=\"center\"><table style=\"margin-top:10px\"><tr><td style=\"vertical-align:bottom\" align=\"center\">$||\\mathbf{\\text{[every man]}}||^{}_{\\langle{}\\langle{}e,t\\rangle{},t\\rangle{}}$</td></tr><tr><td style=\"vertical-align:bottom\" align=\"center\">$ = \\lambda{} g_{\\langle{}e,t\\rangle{}} \\: . \\: \\forall{} x_{e} \\: . \\: ({Man}({x}_{e}) \\rightarrow{} {g}_{\\langle{}e,t\\rangle{}}({x}_{e}))$</td></tr></table>\n",
        "</td><td></td></tr></table>\n",
        "</td><td style=\"vertical-align:bottom;padding-bottom:5px\">&nbsp;&nbsp;&nbsp;$\\circ$&nbsp;&nbsp;&nbsp;</td><td style=\"vertical-align:bottom\"><table><tr><td style=\"vertical-align:bottom;padding:0px 10px\" align=\"center\"><table><tr><td style=\"vertical-align:bottom\"><table><tr><td style=\"vertical-align:bottom;padding:0px 10px\" align=\"center\"><table><tr><td style=\"vertical-align:bottom\"><table align=\"center\"><tr><td align=\"center\">$||\\mathbf{\\text{saw}}||^{}_{\\langle{}e,\\langle{}e,t\\rangle{}\\rangle{}}$</td></tr><tr><td align=\"center\">$\\lambda{} x_{e} \\: . \\: \\lambda{} y_{e} \\: . \\: {Saw}({y}_{e}, {x}_{e})$</td></tr></table>\n",
        "</td></tr></table></td><td style=\"vertical-align:bottom;padding-bottom:5px;padding-left:10px\"><b>[z-shift]</b></td></tr><tr style=\"border-top: 1px solid #848482\"><td align=\"center\"><table style=\"margin-top:10px\"><tr><td style=\"vertical-align:bottom\" align=\"center\">$||\\mathbf{\\text{[saw]}}||^{}_{\\langle{}\\langle{}e,e\\rangle{},\\langle{}e,t\\rangle{}\\rangle{}}$</td></tr><tr><td style=\"vertical-align:bottom\" align=\"center\">$ = \\lambda{} g_{\\langle{}e,e\\rangle{}} \\: . \\: \\lambda{} x_{e} \\: . \\: {Saw}({x}_{e}, {g}_{\\langle{}e,e\\rangle{}}({x}_{e}))$</td></tr></table>\n",
        "</td><td></td></tr></table>\n",
        "</td><td style=\"vertical-align:bottom;padding-bottom:5px\">&nbsp;&nbsp;&nbsp;$\\circ$&nbsp;&nbsp;&nbsp;</td><td style=\"vertical-align:bottom\"><table><tr><td style=\"vertical-align:bottom;padding:0px 10px\" align=\"center\"><table><tr><td style=\"vertical-align:bottom\"><table><tr><td style=\"vertical-align:bottom;padding:0px 10px\" align=\"center\"><table><tr><td style=\"vertical-align:bottom\"><table align=\"center\"><tr><td align=\"center\">$||\\mathbf{\\text{poss}}||^{}_{\\langle{}\\langle{}e,t\\rangle{},e\\rangle{}}$</td></tr><tr><td align=\"center\">$\\lambda{} f_{\\langle{}e,t\\rangle{}} \\: . \\: \\iota{} x_{e} \\: . \\: {f}_{\\langle{}e,t\\rangle{}}({x}_{e})$</td></tr></table>\n",
        "</td></tr></table></td><td style=\"vertical-align:bottom;padding-bottom:5px;padding-left:10px\"><b>[g_e-shift]</b></td></tr><tr style=\"border-top: 1px solid #848482\"><td align=\"center\"><table style=\"margin-top:10px\"><tr><td style=\"vertical-align:bottom\" align=\"center\">$||\\mathbf{\\text{[poss]}}||^{}_{\\langle{}\\langle{}e,\\langle{}e,t\\rangle{}\\rangle{},\\langle{}e,e\\rangle{}\\rangle{}}$</td></tr><tr><td style=\"vertical-align:bottom\" align=\"center\">$ = \\lambda{} f_{\\langle{}e,\\langle{}e,t\\rangle{}\\rangle{}} \\: . \\: \\lambda{} x_{e} \\: . \\: \\iota{} x1_{e} \\: . \\: {f}_{\\langle{}e,\\langle{}e,t\\rangle{}\\rangle{}}({x}_{e})({x1}_{e})$</td></tr></table>\n",
        "</td><td></td></tr></table>\n",
        "</td><td style=\"vertical-align:bottom;padding-bottom:5px\">&nbsp;&nbsp;&nbsp;$\\circ$&nbsp;&nbsp;&nbsp;</td><td style=\"vertical-align:bottom\"><table><tr><td style=\"vertical-align:bottom;padding:0px 10px\" align=\"center\"><table><tr><td style=\"vertical-align:bottom\"><table><tr><td style=\"vertical-align:bottom;padding:0px 10px\" align=\"center\"><table><tr><td style=\"vertical-align:bottom\"><table align=\"center\"><tr><td align=\"center\">$||\\mathbf{\\text{mother}}||^{}_{\\langle{}e,\\langle{}e,t\\rangle{}\\rangle{}}$</td></tr><tr><td align=\"center\">$\\lambda{} x_{e} \\: . \\: \\lambda{} y_{e} \\: . \\: {Mother}({y}_{e}, {x}_{e})$</td></tr></table>\n",
        "</td></tr></table></td><td style=\"vertical-align:bottom;padding-bottom:5px;padding-left:10px\"><b>[g_e-shift]</b></td></tr><tr style=\"border-top: 1px solid #848482\"><td align=\"center\"><table style=\"margin-top:10px\"><tr><td style=\"vertical-align:bottom\" align=\"center\">$||\\mathbf{\\text{[mother]}}||^{}_{\\langle{}\\langle{}e,e\\rangle{},\\langle{}e,\\langle{}e,t\\rangle{}\\rangle{}\\rangle{}}$</td></tr><tr><td style=\"vertical-align:bottom\" align=\"center\">$ = \\lambda{} f_{\\langle{}e,e\\rangle{}} \\: . \\: \\lambda{} x_{e} \\: . \\: \\lambda{} y_{e} \\: . \\: {Mother}({y}_{e}, {f}_{\\langle{}e,e\\rangle{}}({x}_{e}))$</td></tr></table>\n",
        "</td><td></td></tr></table>\n",
        "</td><td style=\"vertical-align:bottom;padding-bottom:5px\">&nbsp;&nbsp;&nbsp;$\\circ$&nbsp;&nbsp;&nbsp;</td><td style=\"vertical-align:bottom\"><table align=\"center\"><tr><td align=\"center\">$||\\mathbf{\\text{him}}||^{}_{\\langle{}e,e\\rangle{}}$</td></tr><tr><td align=\"center\">$\\lambda{} x_{e} \\: . \\: {x}_{e}$</td></tr></table>\n",
        "</td></tr></table></td><td style=\"vertical-align:bottom;padding-bottom:5px;padding-left:10px\"><b>[FA]</b></td></tr><tr style=\"border-top: 1px solid #848482\"><td align=\"center\"><table style=\"margin-top:10px\"><tr><td style=\"vertical-align:bottom\" align=\"center\">$||\\mathbf{\\text{[[mother] him]}}||^{}_{\\langle{}e,\\langle{}e,t\\rangle{}\\rangle{}}$</td></tr><tr><td style=\"vertical-align:bottom\" align=\"center\">$ = \\lambda{} x_{e} \\: . \\: \\lambda{} y_{e} \\: . \\: {Mother}({y}_{e}, [\\lambda{} x_{e} \\: . \\: {x}_{e}]({x}_{e}))$</td></tr></table>\n",
        "</td><td></td></tr></table>\n",
        "</td></tr></table></td><td style=\"vertical-align:bottom;padding-bottom:5px;padding-left:10px\"><b>[FA]</b></td></tr><tr style=\"border-top: 1px solid #848482\"><td align=\"center\"><table style=\"margin-top:10px\"><tr><td style=\"vertical-align:bottom\" align=\"center\">$||\\mathbf{\\text{[[poss] [[mother] him]]}}||^{}_{\\langle{}e,e\\rangle{}}$</td></tr><tr><td style=\"vertical-align:bottom\" align=\"center\">$ = \\lambda{} x_{e} \\: . \\: \\iota{} x1_{e} \\: . \\: [\\lambda{} x_{e} \\: . \\: \\lambda{} y_{e} \\: . \\: {Mother}({y}_{e}, [\\lambda{} x_{e} \\: . \\: {x}_{e}]({x}_{e}))]({x}_{e})({x1}_{e})$</td></tr></table>\n",
        "</td><td></td></tr></table>\n",
        "</td></tr></table></td><td style=\"vertical-align:bottom;padding-bottom:5px;padding-left:10px\"><b>[FA]</b></td></tr><tr style=\"border-top: 1px solid #848482\"><td align=\"center\"><table style=\"margin-top:10px\"><tr><td style=\"vertical-align:bottom\" align=\"center\">$||\\mathbf{\\text{[[saw] [[poss] [[mother] him]]]}}||^{}_{\\langle{}e,t\\rangle{}}$</td></tr><tr><td style=\"vertical-align:bottom\" align=\"center\">$ = \\lambda{} x_{e} \\: . \\: {Saw}({x}_{e}, [\\lambda{} x_{e} \\: . \\: \\iota{} x1_{e} \\: . \\: [\\lambda{} x_{e} \\: . \\: \\lambda{} y_{e} \\: . \\: {Mother}({y}_{e}, [\\lambda{} x_{e} \\: . \\: {x}_{e}]({x}_{e}))]({x}_{e})({x1}_{e})]({x}_{e}))$</td></tr></table>\n",
        "</td><td></td></tr></table>\n",
        "</td></tr></table></td><td style=\"vertical-align:bottom;padding-bottom:5px;padding-left:10px\"><b>[FA]</b></td></tr><tr style=\"border-top: 1px solid #848482\"><td align=\"center\"><table style=\"margin-top:10px\"><tr><td style=\"vertical-align:bottom\" align=\"center\">$||\\mathbf{\\text{[[every man] [[saw] [[poss] [[mother] him]]]]}}||^{}_{t}$</td></tr><tr><td style=\"vertical-align:bottom\" align=\"center\">$ = \\forall{} x_{e} \\: . \\: ({Man}({x}_{e}) \\rightarrow{} {Saw}({x}_{e}, \\iota{} x1_{e} \\: . \\: {Mother}({x1}_{e}, {x}_{e})))$</td></tr></table>\n",
        "</td><td></td></tr></table>\n"
       ],
       "metadata": {},
       "output_type": "pyout",
       "prompt_number": 102,
       "text": [
        "<table><tr><td style=\"vertical-align:bottom;padding:0px 10px\" align=\"center\"><table><tr><td style=\"vertical-align:bottom\"><table><tr><td style=\"vertical-align:bottom;padding:0px 10px\" align=\"center\"><table><tr><td style=\"vertical-align:bottom\"><table align=\"center\"><tr><td align=\"center\">$||\\mathbf{\\text{every}}||^{}_{\\langle{}\\langle{}e,t\\rangle{},\\langle{}\\langle{}e,t\\rangle{},t\\rangle{}\\rangle{}}$</td></tr><tr><td align=\"center\">$\\lambda{} f_{\\langle{}e,t\\rangle{}} \\: . \\: \\lambda{} g_{\\langle{}e,t\\rangle{}} \\: . \\: \\forall{} x_{e} \\: . \\: ({f}_{\\langle{}e,t\\rangle{}}({x}_{e}) \\rightarrow{} {g}_{\\langle{}e,t\\rangle{}}({x}_{e}))$</td></tr></table>\n",
        "</td><td style=\"vertical-align:bottom;padding-bottom:5px\">&nbsp;&nbsp;&nbsp;$\\circ$&nbsp;&nbsp;&nbsp;</td><td style=\"vertical-align:bottom\"><table align=\"center\"><tr><td align=\"center\">$||\\mathbf{\\text{man}}||^{}_{\\langle{}e,t\\rangle{}}$</td></tr><tr><td align=\"center\">$\\lambda{} x_{e} \\: . \\: {Man}({x}_{e})$</td></tr></table>\n",
        "</td></tr></table></td><td style=\"vertical-align:bottom;padding-bottom:5px;padding-left:10px\"><b>[FA]</b></td></tr><tr style=\"border-top: 1px solid #848482\"><td align=\"center\"><table style=\"margin-top:10px\"><tr><td style=\"vertical-align:bottom\" align=\"center\">$||\\mathbf{\\text{[every man]}}||^{}_{\\langle{}\\langle{}e,t\\rangle{},t\\rangle{}}$</td></tr><tr><td style=\"vertical-align:bottom\" align=\"center\">$ = \\lambda{} g_{\\langle{}e,t\\rangle{}} \\: . \\: \\forall{} x_{e} \\: . \\: ({Man}({x}_{e}) \\rightarrow{} {g}_{\\langle{}e,t\\rangle{}}({x}_{e}))$</td></tr></table>\n",
        "</td><td></td></tr></table>\n",
        "</td><td style=\"vertical-align:bottom;padding-bottom:5px\">&nbsp;&nbsp;&nbsp;$\\circ$&nbsp;&nbsp;&nbsp;</td><td style=\"vertical-align:bottom\"><table><tr><td style=\"vertical-align:bottom;padding:0px 10px\" align=\"center\"><table><tr><td style=\"vertical-align:bottom\"><table><tr><td style=\"vertical-align:bottom;padding:0px 10px\" align=\"center\"><table><tr><td style=\"vertical-align:bottom\"><table align=\"center\"><tr><td align=\"center\">$||\\mathbf{\\text{saw}}||^{}_{\\langle{}e,\\langle{}e,t\\rangle{}\\rangle{}}$</td></tr><tr><td align=\"center\">$\\lambda{} x_{e} \\: . \\: \\lambda{} y_{e} \\: . \\: {Saw}({y}_{e}, {x}_{e})$</td></tr></table>\n",
        "</td></tr></table></td><td style=\"vertical-align:bottom;padding-bottom:5px;padding-left:10px\"><b>[z-shift]</b></td></tr><tr style=\"border-top: 1px solid #848482\"><td align=\"center\"><table style=\"margin-top:10px\"><tr><td style=\"vertical-align:bottom\" align=\"center\">$||\\mathbf{\\text{[saw]}}||^{}_{\\langle{}\\langle{}e,e\\rangle{},\\langle{}e,t\\rangle{}\\rangle{}}$</td></tr><tr><td style=\"vertical-align:bottom\" align=\"center\">$ = \\lambda{} g_{\\langle{}e,e\\rangle{}} \\: . \\: \\lambda{} x_{e} \\: . \\: {Saw}({x}_{e}, {g}_{\\langle{}e,e\\rangle{}}({x}_{e}))$</td></tr></table>\n",
        "</td><td></td></tr></table>\n",
        "</td><td style=\"vertical-align:bottom;padding-bottom:5px\">&nbsp;&nbsp;&nbsp;$\\circ$&nbsp;&nbsp;&nbsp;</td><td style=\"vertical-align:bottom\"><table><tr><td style=\"vertical-align:bottom;padding:0px 10px\" align=\"center\"><table><tr><td style=\"vertical-align:bottom\"><table><tr><td style=\"vertical-align:bottom;padding:0px 10px\" align=\"center\"><table><tr><td style=\"vertical-align:bottom\"><table align=\"center\"><tr><td align=\"center\">$||\\mathbf{\\text{poss}}||^{}_{\\langle{}\\langle{}e,t\\rangle{},e\\rangle{}}$</td></tr><tr><td align=\"center\">$\\lambda{} f_{\\langle{}e,t\\rangle{}} \\: . \\: \\iota{} x_{e} \\: . \\: {f}_{\\langle{}e,t\\rangle{}}({x}_{e})$</td></tr></table>\n",
        "</td></tr></table></td><td style=\"vertical-align:bottom;padding-bottom:5px;padding-left:10px\"><b>[g_e-shift]</b></td></tr><tr style=\"border-top: 1px solid #848482\"><td align=\"center\"><table style=\"margin-top:10px\"><tr><td style=\"vertical-align:bottom\" align=\"center\">$||\\mathbf{\\text{[poss]}}||^{}_{\\langle{}\\langle{}e,\\langle{}e,t\\rangle{}\\rangle{},\\langle{}e,e\\rangle{}\\rangle{}}$</td></tr><tr><td style=\"vertical-align:bottom\" align=\"center\">$ = \\lambda{} f_{\\langle{}e,\\langle{}e,t\\rangle{}\\rangle{}} \\: . \\: \\lambda{} x_{e} \\: . \\: \\iota{} x1_{e} \\: . \\: {f}_{\\langle{}e,\\langle{}e,t\\rangle{}\\rangle{}}({x}_{e})({x1}_{e})$</td></tr></table>\n",
        "</td><td></td></tr></table>\n",
        "</td><td style=\"vertical-align:bottom;padding-bottom:5px\">&nbsp;&nbsp;&nbsp;$\\circ$&nbsp;&nbsp;&nbsp;</td><td style=\"vertical-align:bottom\"><table><tr><td style=\"vertical-align:bottom;padding:0px 10px\" align=\"center\"><table><tr><td style=\"vertical-align:bottom\"><table><tr><td style=\"vertical-align:bottom;padding:0px 10px\" align=\"center\"><table><tr><td style=\"vertical-align:bottom\"><table align=\"center\"><tr><td align=\"center\">$||\\mathbf{\\text{mother}}||^{}_{\\langle{}e,\\langle{}e,t\\rangle{}\\rangle{}}$</td></tr><tr><td align=\"center\">$\\lambda{} x_{e} \\: . \\: \\lambda{} y_{e} \\: . \\: {Mother}({y}_{e}, {x}_{e})$</td></tr></table>\n",
        "</td></tr></table></td><td style=\"vertical-align:bottom;padding-bottom:5px;padding-left:10px\"><b>[g_e-shift]</b></td></tr><tr style=\"border-top: 1px solid #848482\"><td align=\"center\"><table style=\"margin-top:10px\"><tr><td style=\"vertical-align:bottom\" align=\"center\">$||\\mathbf{\\text{[mother]}}||^{}_{\\langle{}\\langle{}e,e\\rangle{},\\langle{}e,\\langle{}e,t\\rangle{}\\rangle{}\\rangle{}}$</td></tr><tr><td style=\"vertical-align:bottom\" align=\"center\">$ = \\lambda{} f_{\\langle{}e,e\\rangle{}} \\: . \\: \\lambda{} x_{e} \\: . \\: \\lambda{} y_{e} \\: . \\: {Mother}({y}_{e}, {f}_{\\langle{}e,e\\rangle{}}({x}_{e}))$</td></tr></table>\n",
        "</td><td></td></tr></table>\n",
        "</td><td style=\"vertical-align:bottom;padding-bottom:5px\">&nbsp;&nbsp;&nbsp;$\\circ$&nbsp;&nbsp;&nbsp;</td><td style=\"vertical-align:bottom\"><table align=\"center\"><tr><td align=\"center\">$||\\mathbf{\\text{him}}||^{}_{\\langle{}e,e\\rangle{}}$</td></tr><tr><td align=\"center\">$\\lambda{} x_{e} \\: . \\: {x}_{e}$</td></tr></table>\n",
        "</td></tr></table></td><td style=\"vertical-align:bottom;padding-bottom:5px;padding-left:10px\"><b>[FA]</b></td></tr><tr style=\"border-top: 1px solid #848482\"><td align=\"center\"><table style=\"margin-top:10px\"><tr><td style=\"vertical-align:bottom\" align=\"center\">$||\\mathbf{\\text{[[mother] him]}}||^{}_{\\langle{}e,\\langle{}e,t\\rangle{}\\rangle{}}$</td></tr><tr><td style=\"vertical-align:bottom\" align=\"center\">$ = \\lambda{} x_{e} \\: . \\: \\lambda{} y_{e} \\: . \\: {Mother}({y}_{e}, [\\lambda{} x_{e} \\: . \\: {x}_{e}]({x}_{e}))$</td></tr></table>\n",
        "</td><td></td></tr></table>\n",
        "</td></tr></table></td><td style=\"vertical-align:bottom;padding-bottom:5px;padding-left:10px\"><b>[FA]</b></td></tr><tr style=\"border-top: 1px solid #848482\"><td align=\"center\"><table style=\"margin-top:10px\"><tr><td style=\"vertical-align:bottom\" align=\"center\">$||\\mathbf{\\text{[[poss] [[mother] him]]}}||^{}_{\\langle{}e,e\\rangle{}}$</td></tr><tr><td style=\"vertical-align:bottom\" align=\"center\">$ = \\lambda{} x_{e} \\: . \\: \\iota{} x1_{e} \\: . \\: [\\lambda{} x_{e} \\: . \\: \\lambda{} y_{e} \\: . \\: {Mother}({y}_{e}, [\\lambda{} x_{e} \\: . \\: {x}_{e}]({x}_{e}))]({x}_{e})({x1}_{e})$</td></tr></table>\n",
        "</td><td></td></tr></table>\n",
        "</td></tr></table></td><td style=\"vertical-align:bottom;padding-bottom:5px;padding-left:10px\"><b>[FA]</b></td></tr><tr style=\"border-top: 1px solid #848482\"><td align=\"center\"><table style=\"margin-top:10px\"><tr><td style=\"vertical-align:bottom\" align=\"center\">$||\\mathbf{\\text{[[saw] [[poss] [[mother] him]]]}}||^{}_{\\langle{}e,t\\rangle{}}$</td></tr><tr><td style=\"vertical-align:bottom\" align=\"center\">$ = \\lambda{} x_{e} \\: . \\: {Saw}({x}_{e}, [\\lambda{} x_{e} \\: . \\: \\iota{} x1_{e} \\: . \\: [\\lambda{} x_{e} \\: . \\: \\lambda{} y_{e} \\: . \\: {Mother}({y}_{e}, [\\lambda{} x_{e} \\: . \\: {x}_{e}]({x}_{e}))]({x}_{e})({x1}_{e})]({x}_{e}))$</td></tr></table>\n",
        "</td><td></td></tr></table>\n",
        "</td></tr></table></td><td style=\"vertical-align:bottom;padding-bottom:5px;padding-left:10px\"><b>[FA]</b></td></tr><tr style=\"border-top: 1px solid #848482\"><td align=\"center\"><table style=\"margin-top:10px\"><tr><td style=\"vertical-align:bottom\" align=\"center\">$||\\mathbf{\\text{[[every man] [[saw] [[poss] [[mother] him]]]]}}||^{}_{t}$</td></tr><tr><td style=\"vertical-align:bottom\" align=\"center\">$ = \\forall{} x_{e} \\: . \\: ({Man}({x}_{e}) \\rightarrow{} {Saw}({x}_{e}, \\iota{} x1_{e} \\: . \\: {Mother}({x1}_{e}, {x}_{e})))$</td></tr></table>\n",
        "</td><td></td></tr></table>"
       ]
      }
     ],
     "prompt_number": 102
    },
    {
     "cell_type": "code",
     "collapsed": false,
     "input": [],
     "language": "python",
     "metadata": {},
     "outputs": []
    }
   ],
   "metadata": {}
  }
 ]
}