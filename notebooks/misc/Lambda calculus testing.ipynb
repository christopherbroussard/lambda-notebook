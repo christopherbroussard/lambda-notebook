{
 "cells": [
  {
   "cell_type": "markdown",
   "metadata": {},
   "source": [
    "# Lambda calculus testing\n",
    "## Author: Kyle Rawlins\n",
    "\n",
    "This notebook contains various examples that can be useful for testing that beta reduction is working correctly (among other things).  They also may be helpful for understanding how variable renaming works in the lambda notebook."
   ]
  },
  {
   "cell_type": "code",
   "execution_count": 162,
   "metadata": {
    "collapsed": false
   },
   "outputs": [],
   "source": [
    "lamb.reload_all()"
   ]
  },
  {
   "cell_type": "code",
   "execution_count": 163,
   "metadata": {
    "collapsed": false
   },
   "outputs": [],
   "source": [
    "x = lang.te(\"x_e\")\n",
    "y = lang.te(\"y_e\")\n",
    "z = lang.te(\"z_e\")"
   ]
  },
  {
   "cell_type": "code",
   "execution_count": 164,
   "metadata": {
    "collapsed": false
   },
   "outputs": [
    {
     "data": {
      "text/latex": [
       "$[\\lambda{} y_{e} \\: . \\: \\lambda{} x_{e} \\: . \\: {y}_{e}]({x}_{e})$"
      ],
      "text/plain": [
       "((λ y_e: (λ x_e: y_e)))(x_e)"
      ]
     },
     "execution_count": 164,
     "metadata": {},
     "output_type": "execute_result"
    }
   ],
   "source": [
    "test2 = lang.te(\"L y_e : L x_e : y_e\")\n",
    "test2(x)"
   ]
  },
  {
   "cell_type": "code",
   "execution_count": 165,
   "metadata": {
    "collapsed": false
   },
   "outputs": [
    {
     "data": {
      "text/latex": [
       "$\\lambda{} x1_{e} \\: . \\: {x}_{e}$"
      ],
      "text/plain": [
       "(λ x1_e: x_e)"
      ]
     },
     "execution_count": 165,
     "metadata": {},
     "output_type": "execute_result"
    }
   ],
   "source": [
    "test2.apply(x)"
   ]
  },
  {
   "cell_type": "code",
   "execution_count": 166,
   "metadata": {
    "collapsed": false
   },
   "outputs": [
    {
     "data": {
      "text/latex": [
       "$\\lambda{} y1_{e} \\: . \\: \\lambda{} x_{e} \\: . \\: {y1}_{e}$"
      ],
      "text/plain": [
       "(λ y_e: (λ x_e: y1_e))"
      ]
     },
     "execution_count": 166,
     "metadata": {},
     "output_type": "execute_result"
    }
   ],
   "source": [
    "meta.alpha_convert_new(test2, {\"y\"})"
   ]
  },
  {
   "cell_type": "code",
   "execution_count": 167,
   "metadata": {
    "collapsed": false
   },
   "outputs": [
    {
     "name": "stderr",
     "output_type": "stream",
     "text": [
      "INFO (meta): Coerced guessed type t for 'P_t' into <e,t>, to match argument 'y_e'\n"
     ]
    },
    {
     "data": {
      "text/latex": [
       "$\\lambda{} y_{e} \\: . \\: \\lambda{} y1_{e} \\: . \\: ({P}({y}_{e}) \\wedge{} {q}_{t})$"
      ],
      "text/plain": [
       "(λ y_e: (λ y1_e: (P_<e,t>(y_e) & q_t)))"
      ]
     },
     "execution_count": 167,
     "metadata": {},
     "output_type": "execute_result"
    }
   ],
   "source": [
    "test3 = lang.te(\"L y_e : L y1_e : P(y_e) & q_t\")\n",
    "test3"
   ]
  },
  {
   "cell_type": "code",
   "execution_count": 168,
   "metadata": {
    "collapsed": false
   },
   "outputs": [
    {
     "data": {
      "text/latex": [
       "$\\lambda{} y2_{e} \\: . \\: \\lambda{} y1_{e} \\: . \\: ({P}({y2}_{e}) \\wedge{} {q}_{t})$"
      ],
      "text/plain": [
       "(λ y_e: (λ y1_e: (P_<e,t>(y2_e) & q_t)))"
      ]
     },
     "execution_count": 168,
     "metadata": {},
     "output_type": "execute_result"
    }
   ],
   "source": [
    "meta.alpha_convert_new(test3, {\"x\", \"y\", \"q\"})"
   ]
  },
  {
   "cell_type": "code",
   "execution_count": 169,
   "metadata": {
    "collapsed": false
   },
   "outputs": [
    {
     "data": {
      "text/latex": [
       "$\\lambda{} p_{t} \\: . \\: \\lambda{} x_{e} \\: . \\: ({P}({x}_{e}) \\wedge{} {p}_{t})$"
      ],
      "text/plain": [
       "(λ p_t: (λ x_e: (P_<e,t>(x_e) & p_t)))"
      ]
     },
     "execution_count": 169,
     "metadata": {},
     "output_type": "execute_result"
    }
   ],
   "source": [
    "meta.pmw_test1"
   ]
  },
  {
   "cell_type": "code",
   "execution_count": 170,
   "metadata": {
    "collapsed": false
   },
   "outputs": [
    {
     "data": {
      "text/latex": [
       "$\\lambda{} x_{e} \\: . \\: ({P}({x}_{e}) \\wedge{} {Q}({x}_{e}))$"
      ],
      "text/plain": [
       "(λ x_e: (P_<e,t>(x_e) & Q_<e,t>(x_e)))"
      ]
     },
     "execution_count": 170,
     "metadata": {},
     "output_type": "execute_result"
    }
   ],
   "source": [
    "meta.pmw_test1b"
   ]
  },
  {
   "cell_type": "code",
   "execution_count": 171,
   "metadata": {
    "collapsed": false
   },
   "outputs": [
    {
     "data": {
      "text/latex": [
       "$[\\lambda{} p_{t} \\: . \\: \\lambda{} x_{e} \\: . \\: ({P}({x}_{e}) \\wedge{} {p}_{t})]({Q}({x}_{e}))$"
      ],
      "text/plain": [
       "((λ p_t: (λ x_e: (P_<e,t>(x_e) & p_t))))(Q_<e,t>(x_e))"
      ]
     },
     "execution_count": 171,
     "metadata": {},
     "output_type": "execute_result"
    }
   ],
   "source": [
    "meta.pmw_test1(meta.t2)"
   ]
  },
  {
   "cell_type": "code",
   "execution_count": 172,
   "metadata": {
    "collapsed": false
   },
   "outputs": [
    {
     "data": {
      "text/latex": [
       "<table><tr style=\"border-bottom:1px solid #848482\"><td style=\"padding-right:5px;vertical-align:bottom\"> 1. </td><td style=\"padding-right:5px;vertical-align:bottom\">$[\\lambda{} p_{t} \\: . \\: \\lambda{} x_{e} \\: . \\: ({P}({x}_{e}) \\wedge{} {p}_{t})]({Q}({x}_{e}))$</td><td style=\"padding-left:10px;border-left:1px solid #848482\"></td></tr><tr style=\"border-bottom:1px solid #848482\"><td style=\"padding-right:5px;vertical-align:bottom\"> 2. </td><td style=\"padding-right:5px;vertical-align:bottom\">$\\lambda{} x1_{e} \\: . \\: ({P}({x1}_{e}) \\wedge{} {Q}({x}_{e}))$</td><td style=\"padding-left:10px;border-left:1px solid #848482\"><span style=\"color:blue\">F-A reduction</span></td></tr></table>"
      ],
      "text/plain": [
       "<lamb.meta.Derivation at 0x105dd6e90>"
      ]
     },
     "execution_count": 172,
     "metadata": {},
     "output_type": "execute_result"
    }
   ],
   "source": [
    "meta.pmw_test1(meta.t2).reduce().derivation"
   ]
  },
  {
   "cell_type": "code",
   "execution_count": 173,
   "metadata": {
    "collapsed": false
   },
   "outputs": [
    {
     "data": {
      "text/latex": [
       "$\\lambda{} x_{e} \\: . \\: {x}_{e}$"
      ],
      "text/plain": [
       "(λ x_e: x_e)"
      ]
     },
     "execution_count": 173,
     "metadata": {},
     "output_type": "execute_result"
    }
   ],
   "source": [
    "test4 = lang.te(\"L x_e : x\")\n",
    "test4"
   ]
  },
  {
   "cell_type": "code",
   "execution_count": 174,
   "metadata": {
    "collapsed": false
   },
   "outputs": [
    {
     "data": {
      "text/latex": [
       "$[\\lambda{} x_{e} \\: . \\: {x}_{e}]({x}_{e})$"
      ],
      "text/plain": [
       "((λ x_e: x_e))(x_e)"
      ]
     },
     "execution_count": 174,
     "metadata": {},
     "output_type": "execute_result"
    }
   ],
   "source": [
    "test4(x)"
   ]
  },
  {
   "cell_type": "code",
   "execution_count": 175,
   "metadata": {
    "collapsed": false
   },
   "outputs": [
    {
     "data": {
      "text/latex": [
       "<table><tr style=\"border-bottom:1px solid #848482\"><td style=\"padding-right:5px;vertical-align:bottom\"> 1. </td><td style=\"padding-right:5px;vertical-align:bottom\">$[\\lambda{} p_{t} \\: . \\: \\lambda{} x_{e} \\: . \\: ({P}({x}_{e}) \\wedge{} {p}_{t})]({Q}({x}_{e}))$</td><td style=\"padding-left:10px;border-left:1px solid #848482\"></td></tr><tr style=\"border-bottom:1px solid #848482\"><td style=\"padding-right:5px;vertical-align:bottom\"> 2. </td><td style=\"padding-right:5px;vertical-align:bottom\">$\\lambda{} x1_{e} \\: . \\: ({P}({x1}_{e}) \\wedge{} {Q}({x}_{e}))$</td><td style=\"padding-left:10px;border-left:1px solid #848482\"><span style=\"color:blue\">F-A reduction</span></td></tr></table>"
      ],
      "text/plain": [
       "<lamb.meta.Derivation at 0x105fc51d0>"
      ]
     },
     "execution_count": 175,
     "metadata": {},
     "output_type": "execute_result"
    }
   ],
   "source": [
    "r = meta.pmw_test1(meta.t2).reduce()\n",
    "r.derivation"
   ]
  },
  {
   "cell_type": "code",
   "execution_count": 176,
   "metadata": {
    "collapsed": false
   },
   "outputs": [
    {
     "data": {
      "text/latex": [
       "${collision}_{\\langle{}e,\\langle{}e,t\\rangle{}\\rangle{}}\\:=\\:\\lambda{} x_{e} \\: . \\: [\\lambda{} f_{\\langle{}e,t\\rangle{}} \\: . \\: \\lambda{} x_{e} \\: . \\: {f}_{\\langle{}e,t\\rangle{}}({x}_{e})](\\lambda{} y_{e} \\: . \\: ({y}_{e} = {x}_{e}))$"
      ],
      "text/plain": [
       "${collision}_{\\langle{}e,\\langle{}e,t\\rangle{}\\rangle{}}\\:=\\:\\lambda{} x_{e} \\: . \\: [\\lambda{} f_{\\langle{}e,t\\rangle{}} \\: . \\: \\lambda{} x_{e} \\: . \\: {f}_{\\langle{}e,t\\rangle{}}({x}_{e})](\\lambda{} y_{e} \\: . \\: ({y}_{e} = {x}_{e}))$"
      ]
     },
     "execution_count": 176,
     "metadata": {},
     "output_type": "execute_result"
    }
   ],
   "source": [
    "%%lamb\n",
    "collision = lambda x_e : (lambda f_<e,t> : lambda x_e : f(x))(lambda y_e : y <=> x)"
   ]
  },
  {
   "cell_type": "code",
   "execution_count": 177,
   "metadata": {
    "collapsed": false
   },
   "outputs": [
    {
     "data": {
      "text/latex": [
       "<table><tr style=\"border-bottom:1px solid #848482\"><td style=\"padding-right:5px;vertical-align:bottom\"> 1. </td><td style=\"padding-right:5px;vertical-align:bottom\">$\\lambda{} x_{e} \\: . \\: [\\lambda{} f_{\\langle{}e,t\\rangle{}} \\: . \\: \\lambda{} x_{e} \\: . \\: {f}_{\\langle{}e,t\\rangle{}}({x}_{e})](\\lambda{} y_{e} \\: . \\: ({y}_{e} = {x}_{e}))$</td><td style=\"padding-left:10px;border-left:1px solid #848482\"></td></tr><tr style=\"border-bottom:1px solid #848482\"><td style=\"padding-right:5px;vertical-align:bottom\"> 2. </td><td style=\"padding-right:5px;vertical-align:bottom\">$\\lambda{} x_{e} \\: . \\: \\lambda{} x1_{e} \\: . \\: ({x1}_{e} = {x}_{e})$</td><td style=\"padding-left:10px;border-left:1px solid #848482\"><span style=\"color:blue\">Recursive reduction of body</span></td></tr></table>"
      ],
      "text/plain": [
       "<lamb.meta.Derivation at 0x1016a98d0>"
      ]
     },
     "execution_count": 177,
     "metadata": {},
     "output_type": "execute_result"
    }
   ],
   "source": [
    "collision.reduce_all().derivation"
   ]
  },
  {
   "cell_type": "code",
   "execution_count": 178,
   "metadata": {
    "collapsed": false
   },
   "outputs": [
    {
     "data": {
      "text/latex": [
       "<table><tr style=\"border-bottom:1px solid #848482\"><td style=\"padding-right:5px;vertical-align:bottom\"> 1. </td><td style=\"padding-right:5px;vertical-align:bottom\">$\\lambda{} x_{e} \\: . \\: [\\lambda{} f_{\\langle{}e,t\\rangle{}} \\: . \\: \\lambda{} x_{e} \\: . \\: {f}_{\\langle{}e,t\\rangle{}}({x}_{e})](\\lambda{} y_{e} \\: . \\: ({y}_{e} = {x}_{e}))$</td><td style=\"padding-left:10px;border-left:1px solid #848482\"></td></tr><tr><td style=\"padding-right:5px;vertical-align:bottom\"></td><td style=\"padding-right:5px;vertical-align:bottom\"></td><td style=\"padding-left:10px;border-left:1px solid #848482\"><span style=\"color:blue\">Recursive reduction of body</span></td></tr><tr style=\"border-bottom:1px solid #848482\"><td style=\"padding-right:5px;vertical-align:bottom\"> 2. </td><td style=\"padding-right:5px;vertical-align:bottom\">$\\lambda{} x_{e} \\: . \\: \\lambda{} x1_{e} \\: . \\: ({x1}_{e} = {x}_{e})$</td><td style=\"padding-left:10px;border-left:1px solid #848482;padding-bottom:3px\"><table><tr style=\"border-bottom:1px solid #848482\"><td style=\"padding-right:5px;vertical-align:bottom\"> 1. </td><td style=\"padding-right:5px;vertical-align:bottom\">$[\\lambda{} f_{\\langle{}e,t\\rangle{}} \\: . \\: \\lambda{} x_{e} \\: . \\: {f}_{\\langle{}e,t\\rangle{}}({x}_{e})](\\lambda{} y_{e} \\: . \\: ({y}_{e} = {x}_{e}))$</td><td style=\"padding-left:10px;border-left:1px solid #848482\"></td></tr><tr style=\"border-bottom:1px solid #848482\"><td style=\"padding-right:5px;vertical-align:bottom\"> 2. </td><td style=\"padding-right:5px;vertical-align:bottom\">$\\lambda{} x1_{e} \\: . \\: [\\lambda{} y_{e} \\: . \\: ({y}_{e} = {x}_{e})]({x1}_{e})$</td><td style=\"padding-left:10px;border-left:1px solid #848482\"><span style=\"color:blue\">F-A reduction</span></td></tr><tr><td style=\"padding-right:5px;vertical-align:bottom\"></td><td style=\"padding-right:5px;vertical-align:bottom\"></td><td style=\"padding-left:10px;border-left:1px solid #848482\"><span style=\"color:blue\">Recursive reduction of body</span></td></tr><tr style=\"border-bottom:1px solid #848482\"><td style=\"padding-right:5px;vertical-align:bottom\"> 3. </td><td style=\"padding-right:5px;vertical-align:bottom\">$\\lambda{} x1_{e} \\: . \\: ({x1}_{e} = {x}_{e})$</td><td style=\"padding-left:10px;border-left:1px solid #848482;padding-bottom:3px\"><table><tr style=\"border-bottom:1px solid #848482\"><td style=\"padding-right:5px;vertical-align:bottom\"> 1. </td><td style=\"padding-right:5px;vertical-align:bottom\">$[\\lambda{} y_{e} \\: . \\: ({y}_{e} = {x}_{e})]({x1}_{e})$</td><td style=\"padding-left:10px;border-left:1px solid #848482\"></td></tr><tr style=\"border-bottom:1px solid #848482\"><td style=\"padding-right:5px;vertical-align:bottom\"> 2. </td><td style=\"padding-right:5px;vertical-align:bottom\">$({x1}_{e} = {x}_{e})$</td><td style=\"padding-left:10px;border-left:1px solid #848482\"><span style=\"color:blue\">F-A reduction</span></td></tr></table></td></tr></table></td></tr></table>"
      ],
      "text/plain": [
       "<table><tr style=\"border-bottom:1px solid #848482\"><td style=\"padding-right:5px;vertical-align:bottom\"> 1. </td><td style=\"padding-right:5px;vertical-align:bottom\">$\\lambda{} x_{e} \\: . \\: [\\lambda{} f_{\\langle{}e,t\\rangle{}} \\: . \\: \\lambda{} x_{e} \\: . \\: {f}_{\\langle{}e,t\\rangle{}}({x}_{e})](\\lambda{} y_{e} \\: . \\: ({y}_{e} = {x}_{e}))$</td><td style=\"padding-left:10px;border-left:1px solid #848482\"></td></tr><tr><td style=\"padding-right:5px;vertical-align:bottom\"></td><td style=\"padding-right:5px;vertical-align:bottom\"></td><td style=\"padding-left:10px;border-left:1px solid #848482\"><span style=\"color:blue\">Recursive reduction of body</span></td></tr><tr style=\"border-bottom:1px solid #848482\"><td style=\"padding-right:5px;vertical-align:bottom\"> 2. </td><td style=\"padding-right:5px;vertical-align:bottom\">$\\lambda{} x_{e} \\: . \\: \\lambda{} x1_{e} \\: . \\: ({x1}_{e} = {x}_{e})$</td><td style=\"padding-left:10px;border-left:1px solid #848482;padding-bottom:3px\"><table><tr style=\"border-bottom:1px solid #848482\"><td style=\"padding-right:5px;vertical-align:bottom\"> 1. </td><td style=\"padding-right:5px;vertical-align:bottom\">$[\\lambda{} f_{\\langle{}e,t\\rangle{}} \\: . \\: \\lambda{} x_{e} \\: . \\: {f}_{\\langle{}e,t\\rangle{}}({x}_{e})](\\lambda{} y_{e} \\: . \\: ({y}_{e} = {x}_{e}))$</td><td style=\"padding-left:10px;border-left:1px solid #848482\"></td></tr><tr style=\"border-bottom:1px solid #848482\"><td style=\"padding-right:5px;vertical-align:bottom\"> 2. </td><td style=\"padding-right:5px;vertical-align:bottom\">$\\lambda{} x1_{e} \\: . \\: [\\lambda{} y_{e} \\: . \\: ({y}_{e} = {x}_{e})]({x1}_{e})$</td><td style=\"padding-left:10px;border-left:1px solid #848482\"><span style=\"color:blue\">F-A reduction</span></td></tr><tr><td style=\"padding-right:5px;vertical-align:bottom\"></td><td style=\"padding-right:5px;vertical-align:bottom\"></td><td style=\"padding-left:10px;border-left:1px solid #848482\"><span style=\"color:blue\">Recursive reduction of body</span></td></tr><tr style=\"border-bottom:1px solid #848482\"><td style=\"padding-right:5px;vertical-align:bottom\"> 3. </td><td style=\"padding-right:5px;vertical-align:bottom\">$\\lambda{} x1_{e} \\: . \\: ({x1}_{e} = {x}_{e})$</td><td style=\"padding-left:10px;border-left:1px solid #848482;padding-bottom:3px\"><table><tr style=\"border-bottom:1px solid #848482\"><td style=\"padding-right:5px;vertical-align:bottom\"> 1. </td><td style=\"padding-right:5px;vertical-align:bottom\">$[\\lambda{} y_{e} \\: . \\: ({y}_{e} = {x}_{e})]({x1}_{e})$</td><td style=\"padding-left:10px;border-left:1px solid #848482\"></td></tr><tr style=\"border-bottom:1px solid #848482\"><td style=\"padding-right:5px;vertical-align:bottom\"> 2. </td><td style=\"padding-right:5px;vertical-align:bottom\">$({x1}_{e} = {x}_{e})$</td><td style=\"padding-left:10px;border-left:1px solid #848482\"><span style=\"color:blue\">F-A reduction</span></td></tr></table></td></tr></table></td></tr></table>"
      ]
     },
     "execution_count": 178,
     "metadata": {},
     "output_type": "execute_result"
    }
   ],
   "source": [
    "collision.reduce_all().derivation.trace()"
   ]
  },
  {
   "cell_type": "code",
   "execution_count": 179,
   "metadata": {
    "collapsed": false
   },
   "outputs": [
    {
     "data": {
      "text/latex": [
       "$\\lambda{} x_{e} \\: . \\: {P}({x}_{e})$"
      ],
      "text/plain": [
       "(λ x_e: P_<e,t>(x_e))"
      ]
     },
     "execution_count": 179,
     "metadata": {},
     "output_type": "execute_result"
    }
   ],
   "source": [
    "reload_lamb()\n",
    "meta.TypedExpr.try_parse_op_expr(\"lambda x_e:P_<e,t>(x)\")"
   ]
  },
  {
   "cell_type": "code",
   "execution_count": 180,
   "metadata": {
    "collapsed": false
   },
   "outputs": [
    {
     "name": "stderr",
     "output_type": "stream",
     "text": [
      "INFO (meta): Coerced guessed type t for 'P_t' into <e,t>, to match argument 'x_e'\n",
      "INFO (meta): Coerced guessed type t for 'P_<e,t>(x_e)' into <e,t>, to match argument 'y_e'\n"
     ]
    },
    {
     "data": {
      "text/latex": [
       "<table><tr style=\"border-bottom:1px solid #848482\"><td style=\"padding-right:5px;vertical-align:bottom\"> 1. </td><td style=\"padding-right:5px;vertical-align:bottom\">$[\\lambda{} y_{e} \\: . \\: \\exists{} x_{e} \\: . \\: {P}_{\\langle{}e,\\langle{}e,t\\rangle{}\\rangle{}}({x}_{e})({y}_{e})]({x}_{e})$</td><td style=\"padding-left:10px;border-left:1px solid #848482\"></td></tr><tr style=\"border-bottom:1px solid #848482\"><td style=\"padding-right:5px;vertical-align:bottom\"> 2. </td><td style=\"padding-right:5px;vertical-align:bottom\">$\\exists{} x1_{e} \\: . \\: {P}_{\\langle{}e,\\langle{}e,t\\rangle{}\\rangle{}}({x1}_{e})({x}_{e})$</td><td style=\"padding-left:10px;border-left:1px solid #848482\"><span style=\"color:blue\">F-A reduction</span></td></tr></table>"
      ],
      "text/plain": [
       "<lamb.meta.Derivation at 0x1063b05d0>"
      ]
     },
     "execution_count": 180,
     "metadata": {},
     "output_type": "execute_result"
    }
   ],
   "source": [
    "lang.te(\"L y_e : Exists x_e : P(x_e)(y)\")(lang.te(\"x_e\")).reduce().derivation"
   ]
  },
  {
   "cell_type": "code",
   "execution_count": 181,
   "metadata": {
    "collapsed": false
   },
   "outputs": [
    {
     "data": {
      "text/latex": [
       "${test}_{\\langle{}n,t\\rangle{}}\\:=\\:\\lambda{} w_{n} \\: . \\: \\exists{} q_{\\langle{}n,t\\rangle{}} \\: . \\: {q}_{\\langle{}n,t\\rangle{}}({w}_{n})$"
      ],
      "text/plain": [
       "${test}_{\\langle{}n,t\\rangle{}}\\:=\\:\\lambda{} w_{n} \\: . \\: \\exists{} q_{\\langle{}n,t\\rangle{}} \\: . \\: {q}_{\\langle{}n,t\\rangle{}}({w}_{n})$"
      ]
     },
     "execution_count": 181,
     "metadata": {},
     "output_type": "execute_result"
    }
   ],
   "source": [
    "%lamb test = (lambda w_n  : Exists q_<n,t> : q(w))"
   ]
  },
  {
   "cell_type": "code",
   "execution_count": 182,
   "metadata": {
    "collapsed": false
   },
   "outputs": [
    {
     "data": {
      "text/latex": [
       "${test}_{\\langle{}n,n\\rangle{}}\\:=\\:\\lambda{} w_{n} \\: . \\: {w}_{n}$"
      ],
      "text/plain": [
       "${test}_{\\langle{}n,n\\rangle{}}\\:=\\:\\lambda{} w_{n} \\: . \\: {w}_{n}$"
      ]
     },
     "execution_count": 182,
     "metadata": {},
     "output_type": "execute_result"
    }
   ],
   "source": [
    "%lamb test = (Lambda w_n  : w)"
   ]
  },
  {
   "cell_type": "code",
   "execution_count": 183,
   "metadata": {
    "collapsed": false
   },
   "outputs": [
    {
     "data": {
      "text/latex": [
       "${id}_{\\langle{}e,e\\rangle{}}\\:=\\:[\\lambda{} f_{\\langle{}\\langle{}e,e\\rangle{},\\langle{}e,e\\rangle{}\\rangle{}} \\: . \\: \\lambda{} g_{\\langle{}e,e\\rangle{}} \\: . \\: \\lambda{} x_{e} \\: . \\: {f}_{\\langle{}\\langle{}e,e\\rangle{},\\langle{}e,e\\rangle{}\\rangle{}}({g}_{\\langle{}e,e\\rangle{}})({x}_{e})](\\lambda{} h_{\\langle{}e,e\\rangle{}} \\: . \\: {h}_{\\langle{}e,e\\rangle{}})(\\lambda{} i_{e} \\: . \\: {i}_{e})$"
      ],
      "text/plain": [
       "${id}_{\\langle{}e,e\\rangle{}}\\:=\\:[\\lambda{} f_{\\langle{}\\langle{}e,e\\rangle{},\\langle{}e,e\\rangle{}\\rangle{}} \\: . \\: \\lambda{} g_{\\langle{}e,e\\rangle{}} \\: . \\: \\lambda{} x_{e} \\: . \\: {f}_{\\langle{}\\langle{}e,e\\rangle{},\\langle{}e,e\\rangle{}\\rangle{}}({g}_{\\langle{}e,e\\rangle{}})({x}_{e})](\\lambda{} h_{\\langle{}e,e\\rangle{}} \\: . \\: {h}_{\\langle{}e,e\\rangle{}})(\\lambda{} i_{e} \\: . \\: {i}_{e})$"
      ]
     },
     "execution_count": 183,
     "metadata": {},
     "output_type": "execute_result"
    }
   ],
   "source": [
    "%%lamb\n",
    "id = ((lambda f_<<e,e>,<e,e>> : lambda g_<e,e> : lambda x_e : (f(g))(x))(lambda h_<e,e> : h))(lambda i_e : i)"
   ]
  },
  {
   "cell_type": "code",
   "execution_count": 184,
   "metadata": {
    "collapsed": false
   },
   "outputs": [
    {
     "data": {
      "text/latex": [
       "$\\lambda{} x_{e} \\: . \\: {x}_{e}$"
      ],
      "text/plain": [
       "(λ x_e: x_e)"
      ]
     },
     "execution_count": 184,
     "metadata": {},
     "output_type": "execute_result"
    }
   ],
   "source": [
    "id.reduce_all()"
   ]
  },
  {
   "cell_type": "code",
   "execution_count": 185,
   "metadata": {
    "collapsed": false
   },
   "outputs": [
    {
     "data": {
      "text/latex": [
       "<table><tr style=\"border-bottom:1px solid #848482\"><td style=\"padding-right:5px;vertical-align:bottom\"> 1. </td><td style=\"padding-right:5px;vertical-align:bottom\">$[\\lambda{} f_{\\langle{}\\langle{}e,e\\rangle{},\\langle{}e,e\\rangle{}\\rangle{}} \\: . \\: \\lambda{} g_{\\langle{}e,e\\rangle{}} \\: . \\: \\lambda{} x_{e} \\: . \\: {f}_{\\langle{}\\langle{}e,e\\rangle{},\\langle{}e,e\\rangle{}\\rangle{}}({g}_{\\langle{}e,e\\rangle{}})({x}_{e})](\\lambda{} h_{\\langle{}e,e\\rangle{}} \\: . \\: {h}_{\\langle{}e,e\\rangle{}})(\\lambda{} i_{e} \\: . \\: {i}_{e})$</td><td style=\"padding-left:10px;border-left:1px solid #848482\"></td></tr><tr style=\"border-bottom:1px solid #848482\"><td style=\"padding-right:5px;vertical-align:bottom\"> 2. </td><td style=\"padding-right:5px;vertical-align:bottom\">$[\\lambda{} g_{\\langle{}e,e\\rangle{}} \\: . \\: \\lambda{} x_{e} \\: . \\: {g}_{\\langle{}e,e\\rangle{}}({x}_{e})](\\lambda{} i_{e} \\: . \\: {i}_{e})$</td><td style=\"padding-left:10px;border-left:1px solid #848482\"><span style=\"color:blue\">Recursive reduction of operator</span></td></tr><tr style=\"border-bottom:1px solid #848482\"><td style=\"padding-right:5px;vertical-align:bottom\"> 3. </td><td style=\"padding-right:5px;vertical-align:bottom\">$\\lambda{} x_{e} \\: . \\: [\\lambda{} i_{e} \\: . \\: {i}_{e}]({x}_{e})$</td><td style=\"padding-left:10px;border-left:1px solid #848482\"><span style=\"color:blue\">F-A reduction</span></td></tr><tr style=\"border-bottom:1px solid #848482\"><td style=\"padding-right:5px;vertical-align:bottom\"> 4. </td><td style=\"padding-right:5px;vertical-align:bottom\">$\\lambda{} x_{e} \\: . \\: {x}_{e}$</td><td style=\"padding-left:10px;border-left:1px solid #848482\"><span style=\"color:blue\">Recursive reduction of body</span></td></tr></table>"
      ],
      "text/plain": [
       "<lamb.meta.Derivation at 0x105da0a90>"
      ]
     },
     "execution_count": 185,
     "metadata": {},
     "output_type": "execute_result"
    }
   ],
   "source": [
    "id.reduce_all().derivation"
   ]
  },
  {
   "cell_type": "code",
   "execution_count": 186,
   "metadata": {
    "collapsed": false
   },
   "outputs": [
    {
     "data": {
      "text/latex": [
       "<table><tr style=\"border-bottom:1px solid #848482\"><td style=\"padding-right:5px;vertical-align:bottom\"> 1. </td><td style=\"padding-right:5px;vertical-align:bottom\">$[\\lambda{} f_{\\langle{}\\langle{}e,e\\rangle{},\\langle{}e,e\\rangle{}\\rangle{}} \\: . \\: \\lambda{} g_{\\langle{}e,e\\rangle{}} \\: . \\: \\lambda{} x_{e} \\: . \\: {f}_{\\langle{}\\langle{}e,e\\rangle{},\\langle{}e,e\\rangle{}\\rangle{}}({g}_{\\langle{}e,e\\rangle{}})({x}_{e})](\\lambda{} h_{\\langle{}e,e\\rangle{}} \\: . \\: {h}_{\\langle{}e,e\\rangle{}})(\\lambda{} i_{e} \\: . \\: {i}_{e})$</td><td style=\"padding-left:10px;border-left:1px solid #848482\"></td></tr><tr><td style=\"padding-right:5px;vertical-align:bottom\"></td><td style=\"padding-right:5px;vertical-align:bottom\"></td><td style=\"padding-left:10px;border-left:1px solid #848482\"><span style=\"color:blue\">Recursive reduction of operator</span></td></tr><tr style=\"border-bottom:1px solid #848482\"><td style=\"padding-right:5px;vertical-align:bottom\"> 2. </td><td style=\"padding-right:5px;vertical-align:bottom\">$[\\lambda{} g_{\\langle{}e,e\\rangle{}} \\: . \\: \\lambda{} x_{e} \\: . \\: {g}_{\\langle{}e,e\\rangle{}}({x}_{e})](\\lambda{} i_{e} \\: . \\: {i}_{e})$</td><td style=\"padding-left:10px;border-left:1px solid #848482;padding-bottom:3px\"><table><tr style=\"border-bottom:1px solid #848482\"><td style=\"padding-right:5px;vertical-align:bottom\"> 1. </td><td style=\"padding-right:5px;vertical-align:bottom\">$[\\lambda{} f_{\\langle{}\\langle{}e,e\\rangle{},\\langle{}e,e\\rangle{}\\rangle{}} \\: . \\: \\lambda{} g_{\\langle{}e,e\\rangle{}} \\: . \\: \\lambda{} x_{e} \\: . \\: {f}_{\\langle{}\\langle{}e,e\\rangle{},\\langle{}e,e\\rangle{}\\rangle{}}({g}_{\\langle{}e,e\\rangle{}})({x}_{e})](\\lambda{} h_{\\langle{}e,e\\rangle{}} \\: . \\: {h}_{\\langle{}e,e\\rangle{}})$</td><td style=\"padding-left:10px;border-left:1px solid #848482\"></td></tr><tr style=\"border-bottom:1px solid #848482\"><td style=\"padding-right:5px;vertical-align:bottom\"> 2. </td><td style=\"padding-right:5px;vertical-align:bottom\">$\\lambda{} g_{\\langle{}e,e\\rangle{}} \\: . \\: \\lambda{} x_{e} \\: . \\: [\\lambda{} h_{\\langle{}e,e\\rangle{}} \\: . \\: {h}_{\\langle{}e,e\\rangle{}}]({g}_{\\langle{}e,e\\rangle{}})({x}_{e})$</td><td style=\"padding-left:10px;border-left:1px solid #848482\"><span style=\"color:blue\">F-A reduction</span></td></tr><tr><td style=\"padding-right:5px;vertical-align:bottom\"></td><td style=\"padding-right:5px;vertical-align:bottom\"></td><td style=\"padding-left:10px;border-left:1px solid #848482\"><span style=\"color:blue\">Recursive reduction of body</span></td></tr><tr style=\"border-bottom:1px solid #848482\"><td style=\"padding-right:5px;vertical-align:bottom\"> 3. </td><td style=\"padding-right:5px;vertical-align:bottom\">$\\lambda{} g_{\\langle{}e,e\\rangle{}} \\: . \\: \\lambda{} x_{e} \\: . \\: {g}_{\\langle{}e,e\\rangle{}}({x}_{e})$</td><td style=\"padding-left:10px;border-left:1px solid #848482;padding-bottom:3px\"><table><tr style=\"border-bottom:1px solid #848482\"><td style=\"padding-right:5px;vertical-align:bottom\"> 1. </td><td style=\"padding-right:5px;vertical-align:bottom\">$\\lambda{} x_{e} \\: . \\: [\\lambda{} h_{\\langle{}e,e\\rangle{}} \\: . \\: {h}_{\\langle{}e,e\\rangle{}}]({g}_{\\langle{}e,e\\rangle{}})({x}_{e})$</td><td style=\"padding-left:10px;border-left:1px solid #848482\"></td></tr><tr><td style=\"padding-right:5px;vertical-align:bottom\"></td><td style=\"padding-right:5px;vertical-align:bottom\"></td><td style=\"padding-left:10px;border-left:1px solid #848482\"><span style=\"color:blue\">Recursive reduction of body</span></td></tr><tr style=\"border-bottom:1px solid #848482\"><td style=\"padding-right:5px;vertical-align:bottom\"> 2. </td><td style=\"padding-right:5px;vertical-align:bottom\">$\\lambda{} x_{e} \\: . \\: {g}_{\\langle{}e,e\\rangle{}}({x}_{e})$</td><td style=\"padding-left:10px;border-left:1px solid #848482;padding-bottom:3px\"><table><tr style=\"border-bottom:1px solid #848482\"><td style=\"padding-right:5px;vertical-align:bottom\"> 1. </td><td style=\"padding-right:5px;vertical-align:bottom\">$[\\lambda{} h_{\\langle{}e,e\\rangle{}} \\: . \\: {h}_{\\langle{}e,e\\rangle{}}]({g}_{\\langle{}e,e\\rangle{}})({x}_{e})$</td><td style=\"padding-left:10px;border-left:1px solid #848482\"></td></tr><tr><td style=\"padding-right:5px;vertical-align:bottom\"></td><td style=\"padding-right:5px;vertical-align:bottom\"></td><td style=\"padding-left:10px;border-left:1px solid #848482\"><span style=\"color:blue\">Recursive reduction of operator</span></td></tr><tr style=\"border-bottom:1px solid #848482\"><td style=\"padding-right:5px;vertical-align:bottom\"> 2. </td><td style=\"padding-right:5px;vertical-align:bottom\">${g}_{\\langle{}e,e\\rangle{}}({x}_{e})$</td><td style=\"padding-left:10px;border-left:1px solid #848482;padding-bottom:3px\"><table><tr style=\"border-bottom:1px solid #848482\"><td style=\"padding-right:5px;vertical-align:bottom\"> 1. </td><td style=\"padding-right:5px;vertical-align:bottom\">$[\\lambda{} h_{\\langle{}e,e\\rangle{}} \\: . \\: {h}_{\\langle{}e,e\\rangle{}}]({g}_{\\langle{}e,e\\rangle{}})$</td><td style=\"padding-left:10px;border-left:1px solid #848482\"></td></tr><tr style=\"border-bottom:1px solid #848482\"><td style=\"padding-right:5px;vertical-align:bottom\"> 2. </td><td style=\"padding-right:5px;vertical-align:bottom\">${g}_{\\langle{}e,e\\rangle{}}$</td><td style=\"padding-left:10px;border-left:1px solid #848482\"><span style=\"color:blue\">F-A reduction</span></td></tr></table></td></tr></table></td></tr></table></td></tr></table></td></tr><tr style=\"border-bottom:1px solid #848482\"><td style=\"padding-right:5px;vertical-align:bottom\"> 3. </td><td style=\"padding-right:5px;vertical-align:bottom\">$\\lambda{} x_{e} \\: . \\: [\\lambda{} i_{e} \\: . \\: {i}_{e}]({x}_{e})$</td><td style=\"padding-left:10px;border-left:1px solid #848482\"><span style=\"color:blue\">F-A reduction</span></td></tr><tr><td style=\"padding-right:5px;vertical-align:bottom\"></td><td style=\"padding-right:5px;vertical-align:bottom\"></td><td style=\"padding-left:10px;border-left:1px solid #848482\"><span style=\"color:blue\">Recursive reduction of body</span></td></tr><tr style=\"border-bottom:1px solid #848482\"><td style=\"padding-right:5px;vertical-align:bottom\"> 4. </td><td style=\"padding-right:5px;vertical-align:bottom\">$\\lambda{} x_{e} \\: . \\: {x}_{e}$</td><td style=\"padding-left:10px;border-left:1px solid #848482;padding-bottom:3px\"><table><tr style=\"border-bottom:1px solid #848482\"><td style=\"padding-right:5px;vertical-align:bottom\"> 1. </td><td style=\"padding-right:5px;vertical-align:bottom\">$[\\lambda{} i_{e} \\: . \\: {i}_{e}]({x}_{e})$</td><td style=\"padding-left:10px;border-left:1px solid #848482\"></td></tr><tr style=\"border-bottom:1px solid #848482\"><td style=\"padding-right:5px;vertical-align:bottom\"> 2. </td><td style=\"padding-right:5px;vertical-align:bottom\">${x}_{e}$</td><td style=\"padding-left:10px;border-left:1px solid #848482\"><span style=\"color:blue\">F-A reduction</span></td></tr></table></td></tr></table>"
      ],
      "text/plain": [
       "<table><tr style=\"border-bottom:1px solid #848482\"><td style=\"padding-right:5px;vertical-align:bottom\"> 1. </td><td style=\"padding-right:5px;vertical-align:bottom\">$[\\lambda{} f_{\\langle{}\\langle{}e,e\\rangle{},\\langle{}e,e\\rangle{}\\rangle{}} \\: . \\: \\lambda{} g_{\\langle{}e,e\\rangle{}} \\: . \\: \\lambda{} x_{e} \\: . \\: {f}_{\\langle{}\\langle{}e,e\\rangle{},\\langle{}e,e\\rangle{}\\rangle{}}({g}_{\\langle{}e,e\\rangle{}})({x}_{e})](\\lambda{} h_{\\langle{}e,e\\rangle{}} \\: . \\: {h}_{\\langle{}e,e\\rangle{}})(\\lambda{} i_{e} \\: . \\: {i}_{e})$</td><td style=\"padding-left:10px;border-left:1px solid #848482\"></td></tr><tr><td style=\"padding-right:5px;vertical-align:bottom\"></td><td style=\"padding-right:5px;vertical-align:bottom\"></td><td style=\"padding-left:10px;border-left:1px solid #848482\"><span style=\"color:blue\">Recursive reduction of operator</span></td></tr><tr style=\"border-bottom:1px solid #848482\"><td style=\"padding-right:5px;vertical-align:bottom\"> 2. </td><td style=\"padding-right:5px;vertical-align:bottom\">$[\\lambda{} g_{\\langle{}e,e\\rangle{}} \\: . \\: \\lambda{} x_{e} \\: . \\: {g}_{\\langle{}e,e\\rangle{}}({x}_{e})](\\lambda{} i_{e} \\: . \\: {i}_{e})$</td><td style=\"padding-left:10px;border-left:1px solid #848482;padding-bottom:3px\"><table><tr style=\"border-bottom:1px solid #848482\"><td style=\"padding-right:5px;vertical-align:bottom\"> 1. </td><td style=\"padding-right:5px;vertical-align:bottom\">$[\\lambda{} f_{\\langle{}\\langle{}e,e\\rangle{},\\langle{}e,e\\rangle{}\\rangle{}} \\: . \\: \\lambda{} g_{\\langle{}e,e\\rangle{}} \\: . \\: \\lambda{} x_{e} \\: . \\: {f}_{\\langle{}\\langle{}e,e\\rangle{},\\langle{}e,e\\rangle{}\\rangle{}}({g}_{\\langle{}e,e\\rangle{}})({x}_{e})](\\lambda{} h_{\\langle{}e,e\\rangle{}} \\: . \\: {h}_{\\langle{}e,e\\rangle{}})$</td><td style=\"padding-left:10px;border-left:1px solid #848482\"></td></tr><tr style=\"border-bottom:1px solid #848482\"><td style=\"padding-right:5px;vertical-align:bottom\"> 2. </td><td style=\"padding-right:5px;vertical-align:bottom\">$\\lambda{} g_{\\langle{}e,e\\rangle{}} \\: . \\: \\lambda{} x_{e} \\: . \\: [\\lambda{} h_{\\langle{}e,e\\rangle{}} \\: . \\: {h}_{\\langle{}e,e\\rangle{}}]({g}_{\\langle{}e,e\\rangle{}})({x}_{e})$</td><td style=\"padding-left:10px;border-left:1px solid #848482\"><span style=\"color:blue\">F-A reduction</span></td></tr><tr><td style=\"padding-right:5px;vertical-align:bottom\"></td><td style=\"padding-right:5px;vertical-align:bottom\"></td><td style=\"padding-left:10px;border-left:1px solid #848482\"><span style=\"color:blue\">Recursive reduction of body</span></td></tr><tr style=\"border-bottom:1px solid #848482\"><td style=\"padding-right:5px;vertical-align:bottom\"> 3. </td><td style=\"padding-right:5px;vertical-align:bottom\">$\\lambda{} g_{\\langle{}e,e\\rangle{}} \\: . \\: \\lambda{} x_{e} \\: . \\: {g}_{\\langle{}e,e\\rangle{}}({x}_{e})$</td><td style=\"padding-left:10px;border-left:1px solid #848482;padding-bottom:3px\"><table><tr style=\"border-bottom:1px solid #848482\"><td style=\"padding-right:5px;vertical-align:bottom\"> 1. </td><td style=\"padding-right:5px;vertical-align:bottom\">$\\lambda{} x_{e} \\: . \\: [\\lambda{} h_{\\langle{}e,e\\rangle{}} \\: . \\: {h}_{\\langle{}e,e\\rangle{}}]({g}_{\\langle{}e,e\\rangle{}})({x}_{e})$</td><td style=\"padding-left:10px;border-left:1px solid #848482\"></td></tr><tr><td style=\"padding-right:5px;vertical-align:bottom\"></td><td style=\"padding-right:5px;vertical-align:bottom\"></td><td style=\"padding-left:10px;border-left:1px solid #848482\"><span style=\"color:blue\">Recursive reduction of body</span></td></tr><tr style=\"border-bottom:1px solid #848482\"><td style=\"padding-right:5px;vertical-align:bottom\"> 2. </td><td style=\"padding-right:5px;vertical-align:bottom\">$\\lambda{} x_{e} \\: . \\: {g}_{\\langle{}e,e\\rangle{}}({x}_{e})$</td><td style=\"padding-left:10px;border-left:1px solid #848482;padding-bottom:3px\"><table><tr style=\"border-bottom:1px solid #848482\"><td style=\"padding-right:5px;vertical-align:bottom\"> 1. </td><td style=\"padding-right:5px;vertical-align:bottom\">$[\\lambda{} h_{\\langle{}e,e\\rangle{}} \\: . \\: {h}_{\\langle{}e,e\\rangle{}}]({g}_{\\langle{}e,e\\rangle{}})({x}_{e})$</td><td style=\"padding-left:10px;border-left:1px solid #848482\"></td></tr><tr><td style=\"padding-right:5px;vertical-align:bottom\"></td><td style=\"padding-right:5px;vertical-align:bottom\"></td><td style=\"padding-left:10px;border-left:1px solid #848482\"><span style=\"color:blue\">Recursive reduction of operator</span></td></tr><tr style=\"border-bottom:1px solid #848482\"><td style=\"padding-right:5px;vertical-align:bottom\"> 2. </td><td style=\"padding-right:5px;vertical-align:bottom\">${g}_{\\langle{}e,e\\rangle{}}({x}_{e})$</td><td style=\"padding-left:10px;border-left:1px solid #848482;padding-bottom:3px\"><table><tr style=\"border-bottom:1px solid #848482\"><td style=\"padding-right:5px;vertical-align:bottom\"> 1. </td><td style=\"padding-right:5px;vertical-align:bottom\">$[\\lambda{} h_{\\langle{}e,e\\rangle{}} \\: . \\: {h}_{\\langle{}e,e\\rangle{}}]({g}_{\\langle{}e,e\\rangle{}})$</td><td style=\"padding-left:10px;border-left:1px solid #848482\"></td></tr><tr style=\"border-bottom:1px solid #848482\"><td style=\"padding-right:5px;vertical-align:bottom\"> 2. </td><td style=\"padding-right:5px;vertical-align:bottom\">${g}_{\\langle{}e,e\\rangle{}}$</td><td style=\"padding-left:10px;border-left:1px solid #848482\"><span style=\"color:blue\">F-A reduction</span></td></tr></table></td></tr></table></td></tr></table></td></tr></table></td></tr><tr style=\"border-bottom:1px solid #848482\"><td style=\"padding-right:5px;vertical-align:bottom\"> 3. </td><td style=\"padding-right:5px;vertical-align:bottom\">$\\lambda{} x_{e} \\: . \\: [\\lambda{} i_{e} \\: . \\: {i}_{e}]({x}_{e})$</td><td style=\"padding-left:10px;border-left:1px solid #848482\"><span style=\"color:blue\">F-A reduction</span></td></tr><tr><td style=\"padding-right:5px;vertical-align:bottom\"></td><td style=\"padding-right:5px;vertical-align:bottom\"></td><td style=\"padding-left:10px;border-left:1px solid #848482\"><span style=\"color:blue\">Recursive reduction of body</span></td></tr><tr style=\"border-bottom:1px solid #848482\"><td style=\"padding-right:5px;vertical-align:bottom\"> 4. </td><td style=\"padding-right:5px;vertical-align:bottom\">$\\lambda{} x_{e} \\: . \\: {x}_{e}$</td><td style=\"padding-left:10px;border-left:1px solid #848482;padding-bottom:3px\"><table><tr style=\"border-bottom:1px solid #848482\"><td style=\"padding-right:5px;vertical-align:bottom\"> 1. </td><td style=\"padding-right:5px;vertical-align:bottom\">$[\\lambda{} i_{e} \\: . \\: {i}_{e}]({x}_{e})$</td><td style=\"padding-left:10px;border-left:1px solid #848482\"></td></tr><tr style=\"border-bottom:1px solid #848482\"><td style=\"padding-right:5px;vertical-align:bottom\"> 2. </td><td style=\"padding-right:5px;vertical-align:bottom\">${x}_{e}$</td><td style=\"padding-left:10px;border-left:1px solid #848482\"><span style=\"color:blue\">F-A reduction</span></td></tr></table></td></tr></table>"
      ]
     },
     "execution_count": 186,
     "metadata": {},
     "output_type": "execute_result"
    }
   ],
   "source": [
    "id.reduce_all().derivation.trace()"
   ]
  },
  {
   "cell_type": "code",
   "execution_count": null,
   "metadata": {
    "collapsed": false
   },
   "outputs": [],
   "source": []
  }
 ],
 "metadata": {
  "kernelspec": {
   "display_name": "Lambda Notebook (Python 3)",
   "language": "python",
   "name": "lambda-notebook"
  },
  "language_info": {
   "codemirror_mode": {
    "name": "ipython",
    "version": 3
   },
   "file_extension": ".py",
   "mimetype": "text/x-python",
   "name": "python",
   "nbconvert_exporter": "python",
   "pygments_lexer": "ipython3",
   "version": "3.3.4"
  }
 },
 "nbformat": 4,
 "nbformat_minor": 0
}
