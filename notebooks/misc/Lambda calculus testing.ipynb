{
 "metadata": {
  "name": "",
  "signature": "sha256:25ed18583bf8d9d74ca5e57d4a50ad04dac8acf11ffd2df221791d6585e04baf"
 },
 "nbformat": 3,
 "nbformat_minor": 0,
 "worksheets": [
  {
   "cells": [
    {
     "cell_type": "markdown",
     "metadata": {},
     "source": [
      "# Lambda calculus testing\n",
      "## Author: Kyle Rawlins\n",
      "\n",
      "This notebook contains various examples that can be useful for testing that beta reduction is working correctly (among other things).  They also may be helpful for understanding how variable renaming works in the lambda notebook."
     ]
    },
    {
     "cell_type": "code",
     "collapsed": false,
     "input": [
      "lamb.reload_all()"
     ],
     "language": "python",
     "metadata": {},
     "outputs": [],
     "prompt_number": 162
    },
    {
     "cell_type": "code",
     "collapsed": false,
     "input": [
      "x = lang.te(\"x_e\")\n",
      "y = lang.te(\"y_e\")\n",
      "z = lang.te(\"z_e\")"
     ],
     "language": "python",
     "metadata": {},
     "outputs": [],
     "prompt_number": 163
    },
    {
     "cell_type": "code",
     "collapsed": false,
     "input": [
      "test2 = lang.te(\"L y_e : L x_e : y_e\")\n",
      "test2(x)"
     ],
     "language": "python",
     "metadata": {},
     "outputs": [
      {
       "latex": [
        "$[\\lambda{} y_{e} \\: . \\: \\lambda{} x_{e} \\: . \\: {y}_{e}]({x}_{e})$"
       ],
       "metadata": {},
       "output_type": "pyout",
       "prompt_number": 164,
       "text": [
        "((\u03bb y_e: (\u03bb x_e: y_e)))(x_e)"
       ]
      }
     ],
     "prompt_number": 164
    },
    {
     "cell_type": "code",
     "collapsed": false,
     "input": [
      "test2.apply(x)"
     ],
     "language": "python",
     "metadata": {},
     "outputs": [
      {
       "latex": [
        "$\\lambda{} x1_{e} \\: . \\: {x}_{e}$"
       ],
       "metadata": {},
       "output_type": "pyout",
       "prompt_number": 165,
       "text": [
        "(\u03bb x1_e: x_e)"
       ]
      }
     ],
     "prompt_number": 165
    },
    {
     "cell_type": "code",
     "collapsed": false,
     "input": [
      "meta.alpha_convert_new(test2, {\"y\"})"
     ],
     "language": "python",
     "metadata": {},
     "outputs": [
      {
       "latex": [
        "$\\lambda{} y1_{e} \\: . \\: \\lambda{} x_{e} \\: . \\: {y1}_{e}$"
       ],
       "metadata": {},
       "output_type": "pyout",
       "prompt_number": 166,
       "text": [
        "(\u03bb y_e: (\u03bb x_e: y1_e))"
       ]
      }
     ],
     "prompt_number": 166
    },
    {
     "cell_type": "code",
     "collapsed": false,
     "input": [
      "test3 = lang.te(\"L y_e : L y1_e : P(y_e) & q_t\")\n",
      "test3"
     ],
     "language": "python",
     "metadata": {},
     "outputs": [
      {
       "output_type": "stream",
       "stream": "stderr",
       "text": [
        "INFO (meta): Coerced guessed type t for 'P_t' into <e,t>, to match argument 'y_e'\n"
       ]
      },
      {
       "latex": [
        "$\\lambda{} y_{e} \\: . \\: \\lambda{} y1_{e} \\: . \\: ({P}({y}_{e}) \\wedge{} {q}_{t})$"
       ],
       "metadata": {},
       "output_type": "pyout",
       "prompt_number": 167,
       "text": [
        "(\u03bb y_e: (\u03bb y1_e: (P_<e,t>(y_e) & q_t)))"
       ]
      }
     ],
     "prompt_number": 167
    },
    {
     "cell_type": "code",
     "collapsed": false,
     "input": [
      "meta.alpha_convert_new(test3, {\"x\", \"y\", \"q\"})"
     ],
     "language": "python",
     "metadata": {},
     "outputs": [
      {
       "latex": [
        "$\\lambda{} y2_{e} \\: . \\: \\lambda{} y1_{e} \\: . \\: ({P}({y2}_{e}) \\wedge{} {q}_{t})$"
       ],
       "metadata": {},
       "output_type": "pyout",
       "prompt_number": 168,
       "text": [
        "(\u03bb y_e: (\u03bb y1_e: (P_<e,t>(y2_e) & q_t)))"
       ]
      }
     ],
     "prompt_number": 168
    },
    {
     "cell_type": "code",
     "collapsed": false,
     "input": [
      "meta.pmw_test1"
     ],
     "language": "python",
     "metadata": {},
     "outputs": [
      {
       "latex": [
        "$\\lambda{} p_{t} \\: . \\: \\lambda{} x_{e} \\: . \\: ({P}({x}_{e}) \\wedge{} {p}_{t})$"
       ],
       "metadata": {},
       "output_type": "pyout",
       "prompt_number": 169,
       "text": [
        "(\u03bb p_t: (\u03bb x_e: (P_<e,t>(x_e) & p_t)))"
       ]
      }
     ],
     "prompt_number": 169
    },
    {
     "cell_type": "code",
     "collapsed": false,
     "input": [
      "meta.pmw_test1b"
     ],
     "language": "python",
     "metadata": {},
     "outputs": [
      {
       "latex": [
        "$\\lambda{} x_{e} \\: . \\: ({P}({x}_{e}) \\wedge{} {Q}({x}_{e}))$"
       ],
       "metadata": {},
       "output_type": "pyout",
       "prompt_number": 170,
       "text": [
        "(\u03bb x_e: (P_<e,t>(x_e) & Q_<e,t>(x_e)))"
       ]
      }
     ],
     "prompt_number": 170
    },
    {
     "cell_type": "code",
     "collapsed": false,
     "input": [
      "meta.pmw_test1(meta.t2)"
     ],
     "language": "python",
     "metadata": {},
     "outputs": [
      {
       "latex": [
        "$[\\lambda{} p_{t} \\: . \\: \\lambda{} x_{e} \\: . \\: ({P}({x}_{e}) \\wedge{} {p}_{t})]({Q}({x}_{e}))$"
       ],
       "metadata": {},
       "output_type": "pyout",
       "prompt_number": 171,
       "text": [
        "((\u03bb p_t: (\u03bb x_e: (P_<e,t>(x_e) & p_t))))(Q_<e,t>(x_e))"
       ]
      }
     ],
     "prompt_number": 171
    },
    {
     "cell_type": "code",
     "collapsed": false,
     "input": [
      "meta.pmw_test1(meta.t2).reduce().derivation"
     ],
     "language": "python",
     "metadata": {},
     "outputs": [
      {
       "latex": [
        "<table><tr style=\"border-bottom:1px solid #848482\"><td style=\"padding-right:5px;vertical-align:bottom\"> 1. </td><td style=\"padding-right:5px;vertical-align:bottom\">$[\\lambda{} p_{t} \\: . \\: \\lambda{} x_{e} \\: . \\: ({P}({x}_{e}) \\wedge{} {p}_{t})]({Q}({x}_{e}))$</td><td style=\"padding-left:10px;border-left:1px solid #848482\"></td></tr><tr style=\"border-bottom:1px solid #848482\"><td style=\"padding-right:5px;vertical-align:bottom\"> 2. </td><td style=\"padding-right:5px;vertical-align:bottom\">$\\lambda{} x1_{e} \\: . \\: ({P}({x1}_{e}) \\wedge{} {Q}({x}_{e}))$</td><td style=\"padding-left:10px;border-left:1px solid #848482\"><span style=\"color:blue\">F-A reduction</span></td></tr></table>"
       ],
       "metadata": {},
       "output_type": "pyout",
       "prompt_number": 172,
       "text": [
        "<lamb.meta.Derivation at 0x105dd6e90>"
       ]
      }
     ],
     "prompt_number": 172
    },
    {
     "cell_type": "code",
     "collapsed": false,
     "input": [
      "test4 = lang.te(\"L x_e : x\")\n",
      "test4"
     ],
     "language": "python",
     "metadata": {},
     "outputs": [
      {
       "latex": [
        "$\\lambda{} x_{e} \\: . \\: {x}_{e}$"
       ],
       "metadata": {},
       "output_type": "pyout",
       "prompt_number": 173,
       "text": [
        "(\u03bb x_e: x_e)"
       ]
      }
     ],
     "prompt_number": 173
    },
    {
     "cell_type": "code",
     "collapsed": false,
     "input": [
      "test4(x)"
     ],
     "language": "python",
     "metadata": {},
     "outputs": [
      {
       "latex": [
        "$[\\lambda{} x_{e} \\: . \\: {x}_{e}]({x}_{e})$"
       ],
       "metadata": {},
       "output_type": "pyout",
       "prompt_number": 174,
       "text": [
        "((\u03bb x_e: x_e))(x_e)"
       ]
      }
     ],
     "prompt_number": 174
    },
    {
     "cell_type": "code",
     "collapsed": false,
     "input": [
      "r = meta.pmw_test1(meta.t2).reduce()\n",
      "r.derivation"
     ],
     "language": "python",
     "metadata": {},
     "outputs": [
      {
       "latex": [
        "<table><tr style=\"border-bottom:1px solid #848482\"><td style=\"padding-right:5px;vertical-align:bottom\"> 1. </td><td style=\"padding-right:5px;vertical-align:bottom\">$[\\lambda{} p_{t} \\: . \\: \\lambda{} x_{e} \\: . \\: ({P}({x}_{e}) \\wedge{} {p}_{t})]({Q}({x}_{e}))$</td><td style=\"padding-left:10px;border-left:1px solid #848482\"></td></tr><tr style=\"border-bottom:1px solid #848482\"><td style=\"padding-right:5px;vertical-align:bottom\"> 2. </td><td style=\"padding-right:5px;vertical-align:bottom\">$\\lambda{} x1_{e} \\: . \\: ({P}({x1}_{e}) \\wedge{} {Q}({x}_{e}))$</td><td style=\"padding-left:10px;border-left:1px solid #848482\"><span style=\"color:blue\">F-A reduction</span></td></tr></table>"
       ],
       "metadata": {},
       "output_type": "pyout",
       "prompt_number": 175,
       "text": [
        "<lamb.meta.Derivation at 0x105fc51d0>"
       ]
      }
     ],
     "prompt_number": 175
    },
    {
     "cell_type": "code",
     "collapsed": false,
     "input": [
      "%%lamb\n",
      "collision = lambda x_e : (lambda f_<e,t> : lambda x_e : f(x))(lambda y_e : y <=> x)"
     ],
     "language": "python",
     "metadata": {},
     "outputs": [
      {
       "latex": [
        "${collision}_{\\langle{}e,\\langle{}e,t\\rangle{}\\rangle{}}\\:=\\:\\lambda{} x_{e} \\: . \\: [\\lambda{} f_{\\langle{}e,t\\rangle{}} \\: . \\: \\lambda{} x_{e} \\: . \\: {f}_{\\langle{}e,t\\rangle{}}({x}_{e})](\\lambda{} y_{e} \\: . \\: ({y}_{e} = {x}_{e}))$"
       ],
       "metadata": {},
       "output_type": "pyout",
       "prompt_number": 176,
       "text": [
        "${collision}_{\\langle{}e,\\langle{}e,t\\rangle{}\\rangle{}}\\:=\\:\\lambda{} x_{e} \\: . \\: [\\lambda{} f_{\\langle{}e,t\\rangle{}} \\: . \\: \\lambda{} x_{e} \\: . \\: {f}_{\\langle{}e,t\\rangle{}}({x}_{e})](\\lambda{} y_{e} \\: . \\: ({y}_{e} = {x}_{e}))$"
       ]
      }
     ],
     "prompt_number": 176
    },
    {
     "cell_type": "code",
     "collapsed": false,
     "input": [
      "collision.reduce_all().derivation"
     ],
     "language": "python",
     "metadata": {},
     "outputs": [
      {
       "latex": [
        "<table><tr style=\"border-bottom:1px solid #848482\"><td style=\"padding-right:5px;vertical-align:bottom\"> 1. </td><td style=\"padding-right:5px;vertical-align:bottom\">$\\lambda{} x_{e} \\: . \\: [\\lambda{} f_{\\langle{}e,t\\rangle{}} \\: . \\: \\lambda{} x_{e} \\: . \\: {f}_{\\langle{}e,t\\rangle{}}({x}_{e})](\\lambda{} y_{e} \\: . \\: ({y}_{e} = {x}_{e}))$</td><td style=\"padding-left:10px;border-left:1px solid #848482\"></td></tr><tr style=\"border-bottom:1px solid #848482\"><td style=\"padding-right:5px;vertical-align:bottom\"> 2. </td><td style=\"padding-right:5px;vertical-align:bottom\">$\\lambda{} x_{e} \\: . \\: \\lambda{} x1_{e} \\: . \\: ({x1}_{e} = {x}_{e})$</td><td style=\"padding-left:10px;border-left:1px solid #848482\"><span style=\"color:blue\">Recursive reduction of body</span></td></tr></table>"
       ],
       "metadata": {},
       "output_type": "pyout",
       "prompt_number": 177,
       "text": [
        "<lamb.meta.Derivation at 0x1016a98d0>"
       ]
      }
     ],
     "prompt_number": 177
    },
    {
     "cell_type": "code",
     "collapsed": false,
     "input": [
      "collision.reduce_all().derivation.trace()"
     ],
     "language": "python",
     "metadata": {},
     "outputs": [
      {
       "latex": [
        "<table><tr style=\"border-bottom:1px solid #848482\"><td style=\"padding-right:5px;vertical-align:bottom\"> 1. </td><td style=\"padding-right:5px;vertical-align:bottom\">$\\lambda{} x_{e} \\: . \\: [\\lambda{} f_{\\langle{}e,t\\rangle{}} \\: . \\: \\lambda{} x_{e} \\: . \\: {f}_{\\langle{}e,t\\rangle{}}({x}_{e})](\\lambda{} y_{e} \\: . \\: ({y}_{e} = {x}_{e}))$</td><td style=\"padding-left:10px;border-left:1px solid #848482\"></td></tr><tr><td style=\"padding-right:5px;vertical-align:bottom\"></td><td style=\"padding-right:5px;vertical-align:bottom\"></td><td style=\"padding-left:10px;border-left:1px solid #848482\"><span style=\"color:blue\">Recursive reduction of body</span></td></tr><tr style=\"border-bottom:1px solid #848482\"><td style=\"padding-right:5px;vertical-align:bottom\"> 2. </td><td style=\"padding-right:5px;vertical-align:bottom\">$\\lambda{} x_{e} \\: . \\: \\lambda{} x1_{e} \\: . \\: ({x1}_{e} = {x}_{e})$</td><td style=\"padding-left:10px;border-left:1px solid #848482;padding-bottom:3px\"><table><tr style=\"border-bottom:1px solid #848482\"><td style=\"padding-right:5px;vertical-align:bottom\"> 1. </td><td style=\"padding-right:5px;vertical-align:bottom\">$[\\lambda{} f_{\\langle{}e,t\\rangle{}} \\: . \\: \\lambda{} x_{e} \\: . \\: {f}_{\\langle{}e,t\\rangle{}}({x}_{e})](\\lambda{} y_{e} \\: . \\: ({y}_{e} = {x}_{e}))$</td><td style=\"padding-left:10px;border-left:1px solid #848482\"></td></tr><tr style=\"border-bottom:1px solid #848482\"><td style=\"padding-right:5px;vertical-align:bottom\"> 2. </td><td style=\"padding-right:5px;vertical-align:bottom\">$\\lambda{} x1_{e} \\: . \\: [\\lambda{} y_{e} \\: . \\: ({y}_{e} = {x}_{e})]({x1}_{e})$</td><td style=\"padding-left:10px;border-left:1px solid #848482\"><span style=\"color:blue\">F-A reduction</span></td></tr><tr><td style=\"padding-right:5px;vertical-align:bottom\"></td><td style=\"padding-right:5px;vertical-align:bottom\"></td><td style=\"padding-left:10px;border-left:1px solid #848482\"><span style=\"color:blue\">Recursive reduction of body</span></td></tr><tr style=\"border-bottom:1px solid #848482\"><td style=\"padding-right:5px;vertical-align:bottom\"> 3. </td><td style=\"padding-right:5px;vertical-align:bottom\">$\\lambda{} x1_{e} \\: . \\: ({x1}_{e} = {x}_{e})$</td><td style=\"padding-left:10px;border-left:1px solid #848482;padding-bottom:3px\"><table><tr style=\"border-bottom:1px solid #848482\"><td style=\"padding-right:5px;vertical-align:bottom\"> 1. </td><td style=\"padding-right:5px;vertical-align:bottom\">$[\\lambda{} y_{e} \\: . \\: ({y}_{e} = {x}_{e})]({x1}_{e})$</td><td style=\"padding-left:10px;border-left:1px solid #848482\"></td></tr><tr style=\"border-bottom:1px solid #848482\"><td style=\"padding-right:5px;vertical-align:bottom\"> 2. </td><td style=\"padding-right:5px;vertical-align:bottom\">$({x1}_{e} = {x}_{e})$</td><td style=\"padding-left:10px;border-left:1px solid #848482\"><span style=\"color:blue\">F-A reduction</span></td></tr></table></td></tr></table></td></tr></table>"
       ],
       "metadata": {},
       "output_type": "pyout",
       "prompt_number": 178,
       "text": [
        "<table><tr style=\"border-bottom:1px solid #848482\"><td style=\"padding-right:5px;vertical-align:bottom\"> 1. </td><td style=\"padding-right:5px;vertical-align:bottom\">$\\lambda{} x_{e} \\: . \\: [\\lambda{} f_{\\langle{}e,t\\rangle{}} \\: . \\: \\lambda{} x_{e} \\: . \\: {f}_{\\langle{}e,t\\rangle{}}({x}_{e})](\\lambda{} y_{e} \\: . \\: ({y}_{e} = {x}_{e}))$</td><td style=\"padding-left:10px;border-left:1px solid #848482\"></td></tr><tr><td style=\"padding-right:5px;vertical-align:bottom\"></td><td style=\"padding-right:5px;vertical-align:bottom\"></td><td style=\"padding-left:10px;border-left:1px solid #848482\"><span style=\"color:blue\">Recursive reduction of body</span></td></tr><tr style=\"border-bottom:1px solid #848482\"><td style=\"padding-right:5px;vertical-align:bottom\"> 2. </td><td style=\"padding-right:5px;vertical-align:bottom\">$\\lambda{} x_{e} \\: . \\: \\lambda{} x1_{e} \\: . \\: ({x1}_{e} = {x}_{e})$</td><td style=\"padding-left:10px;border-left:1px solid #848482;padding-bottom:3px\"><table><tr style=\"border-bottom:1px solid #848482\"><td style=\"padding-right:5px;vertical-align:bottom\"> 1. </td><td style=\"padding-right:5px;vertical-align:bottom\">$[\\lambda{} f_{\\langle{}e,t\\rangle{}} \\: . \\: \\lambda{} x_{e} \\: . \\: {f}_{\\langle{}e,t\\rangle{}}({x}_{e})](\\lambda{} y_{e} \\: . \\: ({y}_{e} = {x}_{e}))$</td><td style=\"padding-left:10px;border-left:1px solid #848482\"></td></tr><tr style=\"border-bottom:1px solid #848482\"><td style=\"padding-right:5px;vertical-align:bottom\"> 2. </td><td style=\"padding-right:5px;vertical-align:bottom\">$\\lambda{} x1_{e} \\: . \\: [\\lambda{} y_{e} \\: . \\: ({y}_{e} = {x}_{e})]({x1}_{e})$</td><td style=\"padding-left:10px;border-left:1px solid #848482\"><span style=\"color:blue\">F-A reduction</span></td></tr><tr><td style=\"padding-right:5px;vertical-align:bottom\"></td><td style=\"padding-right:5px;vertical-align:bottom\"></td><td style=\"padding-left:10px;border-left:1px solid #848482\"><span style=\"color:blue\">Recursive reduction of body</span></td></tr><tr style=\"border-bottom:1px solid #848482\"><td style=\"padding-right:5px;vertical-align:bottom\"> 3. </td><td style=\"padding-right:5px;vertical-align:bottom\">$\\lambda{} x1_{e} \\: . \\: ({x1}_{e} = {x}_{e})$</td><td style=\"padding-left:10px;border-left:1px solid #848482;padding-bottom:3px\"><table><tr style=\"border-bottom:1px solid #848482\"><td style=\"padding-right:5px;vertical-align:bottom\"> 1. </td><td style=\"padding-right:5px;vertical-align:bottom\">$[\\lambda{} y_{e} \\: . \\: ({y}_{e} = {x}_{e})]({x1}_{e})$</td><td style=\"padding-left:10px;border-left:1px solid #848482\"></td></tr><tr style=\"border-bottom:1px solid #848482\"><td style=\"padding-right:5px;vertical-align:bottom\"> 2. </td><td style=\"padding-right:5px;vertical-align:bottom\">$({x1}_{e} = {x}_{e})$</td><td style=\"padding-left:10px;border-left:1px solid #848482\"><span style=\"color:blue\">F-A reduction</span></td></tr></table></td></tr></table></td></tr></table>"
       ]
      }
     ],
     "prompt_number": 178
    },
    {
     "cell_type": "code",
     "collapsed": false,
     "input": [
      "reload_lamb()\n",
      "meta.TypedExpr.try_parse_op_expr(\"lambda x_e:P_<e,t>(x)\")"
     ],
     "language": "python",
     "metadata": {},
     "outputs": [
      {
       "latex": [
        "$\\lambda{} x_{e} \\: . \\: {P}({x}_{e})$"
       ],
       "metadata": {},
       "output_type": "pyout",
       "prompt_number": 179,
       "text": [
        "(\u03bb x_e: P_<e,t>(x_e))"
       ]
      }
     ],
     "prompt_number": 179
    },
    {
     "cell_type": "code",
     "collapsed": false,
     "input": [
      "lang.te(\"L y_e : Exists x_e : P(x_e)(y)\")(lang.te(\"x_e\")).reduce().derivation"
     ],
     "language": "python",
     "metadata": {},
     "outputs": [
      {
       "output_type": "stream",
       "stream": "stderr",
       "text": [
        "INFO (meta): Coerced guessed type t for 'P_t' into <e,t>, to match argument 'x_e'\n"
       ]
      },
      {
       "output_type": "stream",
       "stream": "stderr",
       "text": [
        "INFO (meta): Coerced guessed type t for 'P_<e,t>(x_e)' into <e,t>, to match argument 'y_e'\n"
       ]
      },
      {
       "latex": [
        "<table><tr style=\"border-bottom:1px solid #848482\"><td style=\"padding-right:5px;vertical-align:bottom\"> 1. </td><td style=\"padding-right:5px;vertical-align:bottom\">$[\\lambda{} y_{e} \\: . \\: \\exists{} x_{e} \\: . \\: {P}_{\\langle{}e,\\langle{}e,t\\rangle{}\\rangle{}}({x}_{e})({y}_{e})]({x}_{e})$</td><td style=\"padding-left:10px;border-left:1px solid #848482\"></td></tr><tr style=\"border-bottom:1px solid #848482\"><td style=\"padding-right:5px;vertical-align:bottom\"> 2. </td><td style=\"padding-right:5px;vertical-align:bottom\">$\\exists{} x1_{e} \\: . \\: {P}_{\\langle{}e,\\langle{}e,t\\rangle{}\\rangle{}}({x1}_{e})({x}_{e})$</td><td style=\"padding-left:10px;border-left:1px solid #848482\"><span style=\"color:blue\">F-A reduction</span></td></tr></table>"
       ],
       "metadata": {},
       "output_type": "pyout",
       "prompt_number": 180,
       "text": [
        "<lamb.meta.Derivation at 0x1063b05d0>"
       ]
      }
     ],
     "prompt_number": 180
    },
    {
     "cell_type": "code",
     "collapsed": false,
     "input": [
      "%lamb test = (lambda w_n  : Exists q_<n,t> : q(w))"
     ],
     "language": "python",
     "metadata": {},
     "outputs": [
      {
       "latex": [
        "${test}_{\\langle{}n,t\\rangle{}}\\:=\\:\\lambda{} w_{n} \\: . \\: \\exists{} q_{\\langle{}n,t\\rangle{}} \\: . \\: {q}_{\\langle{}n,t\\rangle{}}({w}_{n})$"
       ],
       "metadata": {},
       "output_type": "pyout",
       "prompt_number": 181,
       "text": [
        "${test}_{\\langle{}n,t\\rangle{}}\\:=\\:\\lambda{} w_{n} \\: . \\: \\exists{} q_{\\langle{}n,t\\rangle{}} \\: . \\: {q}_{\\langle{}n,t\\rangle{}}({w}_{n})$"
       ]
      }
     ],
     "prompt_number": 181
    },
    {
     "cell_type": "code",
     "collapsed": false,
     "input": [
      "%lamb test = (Lambda w_n  : w)"
     ],
     "language": "python",
     "metadata": {},
     "outputs": [
      {
       "latex": [
        "${test}_{\\langle{}n,n\\rangle{}}\\:=\\:\\lambda{} w_{n} \\: . \\: {w}_{n}$"
       ],
       "metadata": {},
       "output_type": "pyout",
       "prompt_number": 182,
       "text": [
        "${test}_{\\langle{}n,n\\rangle{}}\\:=\\:\\lambda{} w_{n} \\: . \\: {w}_{n}$"
       ]
      }
     ],
     "prompt_number": 182
    },
    {
     "cell_type": "code",
     "collapsed": false,
     "input": [
      "%%lamb\n",
      "id = ((lambda f_<<e,e>,<e,e>> : lambda g_<e,e> : lambda x_e : (f(g))(x))(lambda h_<e,e> : h))(lambda i_e : i)"
     ],
     "language": "python",
     "metadata": {},
     "outputs": [
      {
       "latex": [
        "${id}_{\\langle{}e,e\\rangle{}}\\:=\\:[\\lambda{} f_{\\langle{}\\langle{}e,e\\rangle{},\\langle{}e,e\\rangle{}\\rangle{}} \\: . \\: \\lambda{} g_{\\langle{}e,e\\rangle{}} \\: . \\: \\lambda{} x_{e} \\: . \\: {f}_{\\langle{}\\langle{}e,e\\rangle{},\\langle{}e,e\\rangle{}\\rangle{}}({g}_{\\langle{}e,e\\rangle{}})({x}_{e})](\\lambda{} h_{\\langle{}e,e\\rangle{}} \\: . \\: {h}_{\\langle{}e,e\\rangle{}})(\\lambda{} i_{e} \\: . \\: {i}_{e})$"
       ],
       "metadata": {},
       "output_type": "pyout",
       "prompt_number": 183,
       "text": [
        "${id}_{\\langle{}e,e\\rangle{}}\\:=\\:[\\lambda{} f_{\\langle{}\\langle{}e,e\\rangle{},\\langle{}e,e\\rangle{}\\rangle{}} \\: . \\: \\lambda{} g_{\\langle{}e,e\\rangle{}} \\: . \\: \\lambda{} x_{e} \\: . \\: {f}_{\\langle{}\\langle{}e,e\\rangle{},\\langle{}e,e\\rangle{}\\rangle{}}({g}_{\\langle{}e,e\\rangle{}})({x}_{e})](\\lambda{} h_{\\langle{}e,e\\rangle{}} \\: . \\: {h}_{\\langle{}e,e\\rangle{}})(\\lambda{} i_{e} \\: . \\: {i}_{e})$"
       ]
      }
     ],
     "prompt_number": 183
    },
    {
     "cell_type": "code",
     "collapsed": false,
     "input": [
      "id.reduce_all()"
     ],
     "language": "python",
     "metadata": {},
     "outputs": [
      {
       "latex": [
        "$\\lambda{} x_{e} \\: . \\: {x}_{e}$"
       ],
       "metadata": {},
       "output_type": "pyout",
       "prompt_number": 184,
       "text": [
        "(\u03bb x_e: x_e)"
       ]
      }
     ],
     "prompt_number": 184
    },
    {
     "cell_type": "code",
     "collapsed": false,
     "input": [
      "id.reduce_all().derivation"
     ],
     "language": "python",
     "metadata": {},
     "outputs": [
      {
       "latex": [
        "<table><tr style=\"border-bottom:1px solid #848482\"><td style=\"padding-right:5px;vertical-align:bottom\"> 1. </td><td style=\"padding-right:5px;vertical-align:bottom\">$[\\lambda{} f_{\\langle{}\\langle{}e,e\\rangle{},\\langle{}e,e\\rangle{}\\rangle{}} \\: . \\: \\lambda{} g_{\\langle{}e,e\\rangle{}} \\: . \\: \\lambda{} x_{e} \\: . \\: {f}_{\\langle{}\\langle{}e,e\\rangle{},\\langle{}e,e\\rangle{}\\rangle{}}({g}_{\\langle{}e,e\\rangle{}})({x}_{e})](\\lambda{} h_{\\langle{}e,e\\rangle{}} \\: . \\: {h}_{\\langle{}e,e\\rangle{}})(\\lambda{} i_{e} \\: . \\: {i}_{e})$</td><td style=\"padding-left:10px;border-left:1px solid #848482\"></td></tr><tr style=\"border-bottom:1px solid #848482\"><td style=\"padding-right:5px;vertical-align:bottom\"> 2. </td><td style=\"padding-right:5px;vertical-align:bottom\">$[\\lambda{} g_{\\langle{}e,e\\rangle{}} \\: . \\: \\lambda{} x_{e} \\: . \\: {g}_{\\langle{}e,e\\rangle{}}({x}_{e})](\\lambda{} i_{e} \\: . \\: {i}_{e})$</td><td style=\"padding-left:10px;border-left:1px solid #848482\"><span style=\"color:blue\">Recursive reduction of operator</span></td></tr><tr style=\"border-bottom:1px solid #848482\"><td style=\"padding-right:5px;vertical-align:bottom\"> 3. </td><td style=\"padding-right:5px;vertical-align:bottom\">$\\lambda{} x_{e} \\: . \\: [\\lambda{} i_{e} \\: . \\: {i}_{e}]({x}_{e})$</td><td style=\"padding-left:10px;border-left:1px solid #848482\"><span style=\"color:blue\">F-A reduction</span></td></tr><tr style=\"border-bottom:1px solid #848482\"><td style=\"padding-right:5px;vertical-align:bottom\"> 4. </td><td style=\"padding-right:5px;vertical-align:bottom\">$\\lambda{} x_{e} \\: . \\: {x}_{e}$</td><td style=\"padding-left:10px;border-left:1px solid #848482\"><span style=\"color:blue\">Recursive reduction of body</span></td></tr></table>"
       ],
       "metadata": {},
       "output_type": "pyout",
       "prompt_number": 185,
       "text": [
        "<lamb.meta.Derivation at 0x105da0a90>"
       ]
      }
     ],
     "prompt_number": 185
    },
    {
     "cell_type": "code",
     "collapsed": false,
     "input": [
      "id.reduce_all().derivation.trace()"
     ],
     "language": "python",
     "metadata": {},
     "outputs": [
      {
       "latex": [
        "<table><tr style=\"border-bottom:1px solid #848482\"><td style=\"padding-right:5px;vertical-align:bottom\"> 1. </td><td style=\"padding-right:5px;vertical-align:bottom\">$[\\lambda{} f_{\\langle{}\\langle{}e,e\\rangle{},\\langle{}e,e\\rangle{}\\rangle{}} \\: . \\: \\lambda{} g_{\\langle{}e,e\\rangle{}} \\: . \\: \\lambda{} x_{e} \\: . \\: {f}_{\\langle{}\\langle{}e,e\\rangle{},\\langle{}e,e\\rangle{}\\rangle{}}({g}_{\\langle{}e,e\\rangle{}})({x}_{e})](\\lambda{} h_{\\langle{}e,e\\rangle{}} \\: . \\: {h}_{\\langle{}e,e\\rangle{}})(\\lambda{} i_{e} \\: . \\: {i}_{e})$</td><td style=\"padding-left:10px;border-left:1px solid #848482\"></td></tr><tr><td style=\"padding-right:5px;vertical-align:bottom\"></td><td style=\"padding-right:5px;vertical-align:bottom\"></td><td style=\"padding-left:10px;border-left:1px solid #848482\"><span style=\"color:blue\">Recursive reduction of operator</span></td></tr><tr style=\"border-bottom:1px solid #848482\"><td style=\"padding-right:5px;vertical-align:bottom\"> 2. </td><td style=\"padding-right:5px;vertical-align:bottom\">$[\\lambda{} g_{\\langle{}e,e\\rangle{}} \\: . \\: \\lambda{} x_{e} \\: . \\: {g}_{\\langle{}e,e\\rangle{}}({x}_{e})](\\lambda{} i_{e} \\: . \\: {i}_{e})$</td><td style=\"padding-left:10px;border-left:1px solid #848482;padding-bottom:3px\"><table><tr style=\"border-bottom:1px solid #848482\"><td style=\"padding-right:5px;vertical-align:bottom\"> 1. </td><td style=\"padding-right:5px;vertical-align:bottom\">$[\\lambda{} f_{\\langle{}\\langle{}e,e\\rangle{},\\langle{}e,e\\rangle{}\\rangle{}} \\: . \\: \\lambda{} g_{\\langle{}e,e\\rangle{}} \\: . \\: \\lambda{} x_{e} \\: . \\: {f}_{\\langle{}\\langle{}e,e\\rangle{},\\langle{}e,e\\rangle{}\\rangle{}}({g}_{\\langle{}e,e\\rangle{}})({x}_{e})](\\lambda{} h_{\\langle{}e,e\\rangle{}} \\: . \\: {h}_{\\langle{}e,e\\rangle{}})$</td><td style=\"padding-left:10px;border-left:1px solid #848482\"></td></tr><tr style=\"border-bottom:1px solid #848482\"><td style=\"padding-right:5px;vertical-align:bottom\"> 2. </td><td style=\"padding-right:5px;vertical-align:bottom\">$\\lambda{} g_{\\langle{}e,e\\rangle{}} \\: . \\: \\lambda{} x_{e} \\: . \\: [\\lambda{} h_{\\langle{}e,e\\rangle{}} \\: . \\: {h}_{\\langle{}e,e\\rangle{}}]({g}_{\\langle{}e,e\\rangle{}})({x}_{e})$</td><td style=\"padding-left:10px;border-left:1px solid #848482\"><span style=\"color:blue\">F-A reduction</span></td></tr><tr><td style=\"padding-right:5px;vertical-align:bottom\"></td><td style=\"padding-right:5px;vertical-align:bottom\"></td><td style=\"padding-left:10px;border-left:1px solid #848482\"><span style=\"color:blue\">Recursive reduction of body</span></td></tr><tr style=\"border-bottom:1px solid #848482\"><td style=\"padding-right:5px;vertical-align:bottom\"> 3. </td><td style=\"padding-right:5px;vertical-align:bottom\">$\\lambda{} g_{\\langle{}e,e\\rangle{}} \\: . \\: \\lambda{} x_{e} \\: . \\: {g}_{\\langle{}e,e\\rangle{}}({x}_{e})$</td><td style=\"padding-left:10px;border-left:1px solid #848482;padding-bottom:3px\"><table><tr style=\"border-bottom:1px solid #848482\"><td style=\"padding-right:5px;vertical-align:bottom\"> 1. </td><td style=\"padding-right:5px;vertical-align:bottom\">$\\lambda{} x_{e} \\: . \\: [\\lambda{} h_{\\langle{}e,e\\rangle{}} \\: . \\: {h}_{\\langle{}e,e\\rangle{}}]({g}_{\\langle{}e,e\\rangle{}})({x}_{e})$</td><td style=\"padding-left:10px;border-left:1px solid #848482\"></td></tr><tr><td style=\"padding-right:5px;vertical-align:bottom\"></td><td style=\"padding-right:5px;vertical-align:bottom\"></td><td style=\"padding-left:10px;border-left:1px solid #848482\"><span style=\"color:blue\">Recursive reduction of body</span></td></tr><tr style=\"border-bottom:1px solid #848482\"><td style=\"padding-right:5px;vertical-align:bottom\"> 2. </td><td style=\"padding-right:5px;vertical-align:bottom\">$\\lambda{} x_{e} \\: . \\: {g}_{\\langle{}e,e\\rangle{}}({x}_{e})$</td><td style=\"padding-left:10px;border-left:1px solid #848482;padding-bottom:3px\"><table><tr style=\"border-bottom:1px solid #848482\"><td style=\"padding-right:5px;vertical-align:bottom\"> 1. </td><td style=\"padding-right:5px;vertical-align:bottom\">$[\\lambda{} h_{\\langle{}e,e\\rangle{}} \\: . \\: {h}_{\\langle{}e,e\\rangle{}}]({g}_{\\langle{}e,e\\rangle{}})({x}_{e})$</td><td style=\"padding-left:10px;border-left:1px solid #848482\"></td></tr><tr><td style=\"padding-right:5px;vertical-align:bottom\"></td><td style=\"padding-right:5px;vertical-align:bottom\"></td><td style=\"padding-left:10px;border-left:1px solid #848482\"><span style=\"color:blue\">Recursive reduction of operator</span></td></tr><tr style=\"border-bottom:1px solid #848482\"><td style=\"padding-right:5px;vertical-align:bottom\"> 2. </td><td style=\"padding-right:5px;vertical-align:bottom\">${g}_{\\langle{}e,e\\rangle{}}({x}_{e})$</td><td style=\"padding-left:10px;border-left:1px solid #848482;padding-bottom:3px\"><table><tr style=\"border-bottom:1px solid #848482\"><td style=\"padding-right:5px;vertical-align:bottom\"> 1. </td><td style=\"padding-right:5px;vertical-align:bottom\">$[\\lambda{} h_{\\langle{}e,e\\rangle{}} \\: . \\: {h}_{\\langle{}e,e\\rangle{}}]({g}_{\\langle{}e,e\\rangle{}})$</td><td style=\"padding-left:10px;border-left:1px solid #848482\"></td></tr><tr style=\"border-bottom:1px solid #848482\"><td style=\"padding-right:5px;vertical-align:bottom\"> 2. </td><td style=\"padding-right:5px;vertical-align:bottom\">${g}_{\\langle{}e,e\\rangle{}}$</td><td style=\"padding-left:10px;border-left:1px solid #848482\"><span style=\"color:blue\">F-A reduction</span></td></tr></table></td></tr></table></td></tr></table></td></tr></table></td></tr><tr style=\"border-bottom:1px solid #848482\"><td style=\"padding-right:5px;vertical-align:bottom\"> 3. </td><td style=\"padding-right:5px;vertical-align:bottom\">$\\lambda{} x_{e} \\: . \\: [\\lambda{} i_{e} \\: . \\: {i}_{e}]({x}_{e})$</td><td style=\"padding-left:10px;border-left:1px solid #848482\"><span style=\"color:blue\">F-A reduction</span></td></tr><tr><td style=\"padding-right:5px;vertical-align:bottom\"></td><td style=\"padding-right:5px;vertical-align:bottom\"></td><td style=\"padding-left:10px;border-left:1px solid #848482\"><span style=\"color:blue\">Recursive reduction of body</span></td></tr><tr style=\"border-bottom:1px solid #848482\"><td style=\"padding-right:5px;vertical-align:bottom\"> 4. </td><td style=\"padding-right:5px;vertical-align:bottom\">$\\lambda{} x_{e} \\: . \\: {x}_{e}$</td><td style=\"padding-left:10px;border-left:1px solid #848482;padding-bottom:3px\"><table><tr style=\"border-bottom:1px solid #848482\"><td style=\"padding-right:5px;vertical-align:bottom\"> 1. </td><td style=\"padding-right:5px;vertical-align:bottom\">$[\\lambda{} i_{e} \\: . \\: {i}_{e}]({x}_{e})$</td><td style=\"padding-left:10px;border-left:1px solid #848482\"></td></tr><tr style=\"border-bottom:1px solid #848482\"><td style=\"padding-right:5px;vertical-align:bottom\"> 2. </td><td style=\"padding-right:5px;vertical-align:bottom\">${x}_{e}$</td><td style=\"padding-left:10px;border-left:1px solid #848482\"><span style=\"color:blue\">F-A reduction</span></td></tr></table></td></tr></table>"
       ],
       "metadata": {},
       "output_type": "pyout",
       "prompt_number": 186,
       "text": [
        "<table><tr style=\"border-bottom:1px solid #848482\"><td style=\"padding-right:5px;vertical-align:bottom\"> 1. </td><td style=\"padding-right:5px;vertical-align:bottom\">$[\\lambda{} f_{\\langle{}\\langle{}e,e\\rangle{},\\langle{}e,e\\rangle{}\\rangle{}} \\: . \\: \\lambda{} g_{\\langle{}e,e\\rangle{}} \\: . \\: \\lambda{} x_{e} \\: . \\: {f}_{\\langle{}\\langle{}e,e\\rangle{},\\langle{}e,e\\rangle{}\\rangle{}}({g}_{\\langle{}e,e\\rangle{}})({x}_{e})](\\lambda{} h_{\\langle{}e,e\\rangle{}} \\: . \\: {h}_{\\langle{}e,e\\rangle{}})(\\lambda{} i_{e} \\: . \\: {i}_{e})$</td><td style=\"padding-left:10px;border-left:1px solid #848482\"></td></tr><tr><td style=\"padding-right:5px;vertical-align:bottom\"></td><td style=\"padding-right:5px;vertical-align:bottom\"></td><td style=\"padding-left:10px;border-left:1px solid #848482\"><span style=\"color:blue\">Recursive reduction of operator</span></td></tr><tr style=\"border-bottom:1px solid #848482\"><td style=\"padding-right:5px;vertical-align:bottom\"> 2. </td><td style=\"padding-right:5px;vertical-align:bottom\">$[\\lambda{} g_{\\langle{}e,e\\rangle{}} \\: . \\: \\lambda{} x_{e} \\: . \\: {g}_{\\langle{}e,e\\rangle{}}({x}_{e})](\\lambda{} i_{e} \\: . \\: {i}_{e})$</td><td style=\"padding-left:10px;border-left:1px solid #848482;padding-bottom:3px\"><table><tr style=\"border-bottom:1px solid #848482\"><td style=\"padding-right:5px;vertical-align:bottom\"> 1. </td><td style=\"padding-right:5px;vertical-align:bottom\">$[\\lambda{} f_{\\langle{}\\langle{}e,e\\rangle{},\\langle{}e,e\\rangle{}\\rangle{}} \\: . \\: \\lambda{} g_{\\langle{}e,e\\rangle{}} \\: . \\: \\lambda{} x_{e} \\: . \\: {f}_{\\langle{}\\langle{}e,e\\rangle{},\\langle{}e,e\\rangle{}\\rangle{}}({g}_{\\langle{}e,e\\rangle{}})({x}_{e})](\\lambda{} h_{\\langle{}e,e\\rangle{}} \\: . \\: {h}_{\\langle{}e,e\\rangle{}})$</td><td style=\"padding-left:10px;border-left:1px solid #848482\"></td></tr><tr style=\"border-bottom:1px solid #848482\"><td style=\"padding-right:5px;vertical-align:bottom\"> 2. </td><td style=\"padding-right:5px;vertical-align:bottom\">$\\lambda{} g_{\\langle{}e,e\\rangle{}} \\: . \\: \\lambda{} x_{e} \\: . \\: [\\lambda{} h_{\\langle{}e,e\\rangle{}} \\: . \\: {h}_{\\langle{}e,e\\rangle{}}]({g}_{\\langle{}e,e\\rangle{}})({x}_{e})$</td><td style=\"padding-left:10px;border-left:1px solid #848482\"><span style=\"color:blue\">F-A reduction</span></td></tr><tr><td style=\"padding-right:5px;vertical-align:bottom\"></td><td style=\"padding-right:5px;vertical-align:bottom\"></td><td style=\"padding-left:10px;border-left:1px solid #848482\"><span style=\"color:blue\">Recursive reduction of body</span></td></tr><tr style=\"border-bottom:1px solid #848482\"><td style=\"padding-right:5px;vertical-align:bottom\"> 3. </td><td style=\"padding-right:5px;vertical-align:bottom\">$\\lambda{} g_{\\langle{}e,e\\rangle{}} \\: . \\: \\lambda{} x_{e} \\: . \\: {g}_{\\langle{}e,e\\rangle{}}({x}_{e})$</td><td style=\"padding-left:10px;border-left:1px solid #848482;padding-bottom:3px\"><table><tr style=\"border-bottom:1px solid #848482\"><td style=\"padding-right:5px;vertical-align:bottom\"> 1. </td><td style=\"padding-right:5px;vertical-align:bottom\">$\\lambda{} x_{e} \\: . \\: [\\lambda{} h_{\\langle{}e,e\\rangle{}} \\: . \\: {h}_{\\langle{}e,e\\rangle{}}]({g}_{\\langle{}e,e\\rangle{}})({x}_{e})$</td><td style=\"padding-left:10px;border-left:1px solid #848482\"></td></tr><tr><td style=\"padding-right:5px;vertical-align:bottom\"></td><td style=\"padding-right:5px;vertical-align:bottom\"></td><td style=\"padding-left:10px;border-left:1px solid #848482\"><span style=\"color:blue\">Recursive reduction of body</span></td></tr><tr style=\"border-bottom:1px solid #848482\"><td style=\"padding-right:5px;vertical-align:bottom\"> 2. </td><td style=\"padding-right:5px;vertical-align:bottom\">$\\lambda{} x_{e} \\: . \\: {g}_{\\langle{}e,e\\rangle{}}({x}_{e})$</td><td style=\"padding-left:10px;border-left:1px solid #848482;padding-bottom:3px\"><table><tr style=\"border-bottom:1px solid #848482\"><td style=\"padding-right:5px;vertical-align:bottom\"> 1. </td><td style=\"padding-right:5px;vertical-align:bottom\">$[\\lambda{} h_{\\langle{}e,e\\rangle{}} \\: . \\: {h}_{\\langle{}e,e\\rangle{}}]({g}_{\\langle{}e,e\\rangle{}})({x}_{e})$</td><td style=\"padding-left:10px;border-left:1px solid #848482\"></td></tr><tr><td style=\"padding-right:5px;vertical-align:bottom\"></td><td style=\"padding-right:5px;vertical-align:bottom\"></td><td style=\"padding-left:10px;border-left:1px solid #848482\"><span style=\"color:blue\">Recursive reduction of operator</span></td></tr><tr style=\"border-bottom:1px solid #848482\"><td style=\"padding-right:5px;vertical-align:bottom\"> 2. </td><td style=\"padding-right:5px;vertical-align:bottom\">${g}_{\\langle{}e,e\\rangle{}}({x}_{e})$</td><td style=\"padding-left:10px;border-left:1px solid #848482;padding-bottom:3px\"><table><tr style=\"border-bottom:1px solid #848482\"><td style=\"padding-right:5px;vertical-align:bottom\"> 1. </td><td style=\"padding-right:5px;vertical-align:bottom\">$[\\lambda{} h_{\\langle{}e,e\\rangle{}} \\: . \\: {h}_{\\langle{}e,e\\rangle{}}]({g}_{\\langle{}e,e\\rangle{}})$</td><td style=\"padding-left:10px;border-left:1px solid #848482\"></td></tr><tr style=\"border-bottom:1px solid #848482\"><td style=\"padding-right:5px;vertical-align:bottom\"> 2. </td><td style=\"padding-right:5px;vertical-align:bottom\">${g}_{\\langle{}e,e\\rangle{}}$</td><td style=\"padding-left:10px;border-left:1px solid #848482\"><span style=\"color:blue\">F-A reduction</span></td></tr></table></td></tr></table></td></tr></table></td></tr></table></td></tr><tr style=\"border-bottom:1px solid #848482\"><td style=\"padding-right:5px;vertical-align:bottom\"> 3. </td><td style=\"padding-right:5px;vertical-align:bottom\">$\\lambda{} x_{e} \\: . \\: [\\lambda{} i_{e} \\: . \\: {i}_{e}]({x}_{e})$</td><td style=\"padding-left:10px;border-left:1px solid #848482\"><span style=\"color:blue\">F-A reduction</span></td></tr><tr><td style=\"padding-right:5px;vertical-align:bottom\"></td><td style=\"padding-right:5px;vertical-align:bottom\"></td><td style=\"padding-left:10px;border-left:1px solid #848482\"><span style=\"color:blue\">Recursive reduction of body</span></td></tr><tr style=\"border-bottom:1px solid #848482\"><td style=\"padding-right:5px;vertical-align:bottom\"> 4. </td><td style=\"padding-right:5px;vertical-align:bottom\">$\\lambda{} x_{e} \\: . \\: {x}_{e}$</td><td style=\"padding-left:10px;border-left:1px solid #848482;padding-bottom:3px\"><table><tr style=\"border-bottom:1px solid #848482\"><td style=\"padding-right:5px;vertical-align:bottom\"> 1. </td><td style=\"padding-right:5px;vertical-align:bottom\">$[\\lambda{} i_{e} \\: . \\: {i}_{e}]({x}_{e})$</td><td style=\"padding-left:10px;border-left:1px solid #848482\"></td></tr><tr style=\"border-bottom:1px solid #848482\"><td style=\"padding-right:5px;vertical-align:bottom\"> 2. </td><td style=\"padding-right:5px;vertical-align:bottom\">${x}_{e}$</td><td style=\"padding-left:10px;border-left:1px solid #848482\"><span style=\"color:blue\">F-A reduction</span></td></tr></table></td></tr></table>"
       ]
      }
     ],
     "prompt_number": 186
    },
    {
     "cell_type": "code",
     "collapsed": false,
     "input": [],
     "language": "python",
     "metadata": {},
     "outputs": []
    }
   ],
   "metadata": {}
  }
 ]
}