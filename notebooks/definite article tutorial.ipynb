{
 "metadata": {
  "name": ""
 },
 "nbformat": 3,
 "nbformat_minor": 0,
 "worksheets": [
  {
   "cells": [
    {
     "cell_type": "markdown",
     "metadata": {},
     "source": [
      "# Definite article tutorial\n",
      "### Authors: Liz Coppock, Kyle Rawlins\n",
      "\n",
      "This notebook goes through what is involved in adding a new variable-binding operator to the metalanguage and instantiating it in a lexical entry, by working through iota."
     ]
    },
    {
     "cell_type": "code",
     "collapsed": false,
     "input": [
      "#reload_lamb() # can be uncommented for debugging purposes (this will reload any changes made to the source files)"
     ],
     "language": "python",
     "metadata": {},
     "outputs": [],
     "prompt_number": 1
    },
    {
     "cell_type": "markdown",
     "metadata": {},
     "source": [
      "This notebook walks through the process of adding a new operator, iota, to the lambda notebook.\n",
      "\n",
      "The notebook has two main parts: the metalanguage, and the object language.  To add iota, we need to modify the meta-language, and then using it in the object language is straightforward.\n",
      "\n",
      "Every expression in the metalanguage is represented by an object that inherits from the class _TypedExpr_.  Operators that bind a single variable and have a nuclear scope inherit from the subclass _BindingOp_, for example _ExistsUnary_ and _ForallUnary_.  To add Iota, we also subclass from _BindingOp_.  This basically involves specifying type constraints for the variable, the body, and the entire expression.  The default is that the body type and overal type are the same, but this is wrong for iota.  For iota, the body type is type t, and the variable / output type are equal.  A stricter version of this might enforce that both are type e.\n",
      "\n",
      "To add this to the parser, I also added a hook in the function _TypedExpr.try_parse_op_expr_ in meta.py.  (In the future this should happen more automatically.)"
     ]
    },
    {
     "cell_type": "code",
     "collapsed": false,
     "input": [
      "# note: IotaUnary has been added to meta.py, parallel code here for exemplification.\n",
      "class DemoIotaUnary(meta.BindingOp):\n",
      "    canonical_name = \"Iota\" # set the token for parsing this operator\n",
      "    def __init__(self, vtype, body, var=\"x\"):\n",
      "        body = self.ensure_typed_expr(body)\n",
      "        #if body.type != types.type_t:\n",
      "        #    raise TypeMismatch\n",
      "        super().__init__(vartype=vtype, typ=vtype, op=(\"i%s. \" % var), var=var, body=body, op_name_uni=\"i\", op_name_latex=\"\\\\iota{}\", body_type=types.type_t)\n",
      "        self.latex_op_str = self.latex_op_str_short\n",
      "\n",
      "    def copy(self):\n",
      "        return DemoIotaUnary(self.vartype, self.body, self.varname)\n",
      "\n",
      "meta.BindingOp.add_op(DemoIotaUnary) # add to the registry of binding operators so that it will be parsed.  This will trigger a warning as it overrides the existing IotaUnary class."
     ],
     "language": "python",
     "metadata": {},
     "outputs": [
      {
       "output_type": "stream",
       "stream": "stderr",
       "text": [
        "WARNING (meta): Overriding existing binding operator 'Iota' in registry\n"
       ]
      }
     ],
     "prompt_number": 2
    },
    {
     "cell_type": "markdown",
     "metadata": {},
     "source": [
      "The following examples demonstrate instantiating this class through python class constructions.  (Recall that _lang.te_ calls the metalanguage parser, and _lang.tp_ calls the type parser.)"
     ]
    },
    {
     "cell_type": "code",
     "collapsed": false,
     "input": [
      "test = DemoIotaUnary(types.type_e, lang.te(\"P(y_e)\"))\n",
      "test"
     ],
     "language": "python",
     "metadata": {},
     "outputs": [
      {
       "output_type": "stream",
       "stream": "stderr",
       "text": [
        "INFO (meta): Coerced guessed type t for 'P' into <e,t>, to match argument 'y'\n"
       ]
      },
      {
       "latex": [
        "$\\iota{} x_{e} \\: . \\: {P}({y}_{e})$"
       ],
       "metadata": {},
       "output_type": "pyout",
       "prompt_number": 3,
       "text": [
        "(i x). P(y)"
       ]
      }
     ],
     "prompt_number": 3
    },
    {
     "cell_type": "code",
     "collapsed": false,
     "input": [
      "test2 = meta.LFun(lang.tp(\"<e,t>\"), DemoIotaUnary(types.type_e, lang.te(\"f_<e,t>(x_e)\"), var=\"x\"), var=\"f\")\n",
      "test2"
     ],
     "language": "python",
     "metadata": {},
     "outputs": [
      {
       "latex": [
        "$\\lambda{} f_{\\langle{}e,t\\rangle{}} \\: . \\: \\iota{} x_{e} \\: . \\: {f}_{\\langle{}e,t\\rangle{}}({x}_{e})$"
       ],
       "metadata": {},
       "output_type": "pyout",
       "prompt_number": 4,
       "text": [
        "(\u03bb f). (i x). f(x)"
       ]
      }
     ],
     "prompt_number": 4
    },
    {
     "cell_type": "markdown",
     "metadata": {},
     "source": [
      "The following cells demonstrate instatiating iota via the metalanguage parser, and test out combining it with a property."
     ]
    },
    {
     "cell_type": "code",
     "collapsed": false,
     "input": [
      "the = lang.te(\"L f_<e,t> : Iota x_e : f(x)\")\n",
      "the"
     ],
     "language": "python",
     "metadata": {},
     "outputs": [
      {
       "latex": [
        "$\\lambda{} f_{\\langle{}e,t\\rangle{}} \\: . \\: \\iota{} x_{e} \\: . \\: {f}_{\\langle{}e,t\\rangle{}}({x}_{e})$"
       ],
       "metadata": {},
       "output_type": "pyout",
       "prompt_number": 5,
       "text": [
        "(\u03bb f). (i x). f(x)"
       ]
      }
     ],
     "prompt_number": 5
    },
    {
     "cell_type": "code",
     "collapsed": false,
     "input": [
      "%%lamb\n",
      "catexpr = L x_e : Cat(x) # build a property 'catexpr'"
     ],
     "language": "python",
     "metadata": {},
     "outputs": [
      {
       "output_type": "stream",
       "stream": "stderr",
       "text": [
        "INFO (meta): Coerced guessed type t for 'Cat' into <e,t>, to match argument 'x'\n"
       ]
      },
      {
       "latex": [
        "${catexpr}_{\\langle{}e,t\\rangle{}}\\:=\\:\\lambda{} x_{e} \\: . \\: {Cat}({x}_{e})$"
       ],
       "metadata": {},
       "output_type": "pyout",
       "prompt_number": 6,
       "text": [
        "${catexpr}_{\\langle{}e,t\\rangle{}}\\:=\\:\\lambda{} x_{e} \\: . \\: {Cat}({x}_{e})$"
       ]
      }
     ],
     "prompt_number": 6
    },
    {
     "cell_type": "code",
     "collapsed": false,
     "input": [
      "dp = the(catexpr)\n",
      "dp"
     ],
     "language": "python",
     "metadata": {},
     "outputs": [
      {
       "latex": [
        "$[\\lambda{} f_{\\langle{}e,t\\rangle{}} \\: . \\: \\iota{} x_{e} \\: . \\: {f}_{\\langle{}e,t\\rangle{}}({x}_{e})](\\lambda{} x_{e} \\: . \\: {Cat}({x}_{e}))$"
       ],
       "metadata": {},
       "output_type": "pyout",
       "prompt_number": 7,
       "text": [
        "[(\u03bb f). (i x). f(x)]((\u03bb x). Cat(x))"
       ]
      }
     ],
     "prompt_number": 7
    },
    {
     "cell_type": "code",
     "collapsed": false,
     "input": [
      "dp.reduce()"
     ],
     "language": "python",
     "metadata": {},
     "outputs": [
      {
       "latex": [
        "$\\iota{} x_{e} \\: . \\: [\\lambda{} x_{e} \\: . \\: {Cat}({x}_{e})]({x}_{e})$"
       ],
       "metadata": {},
       "output_type": "pyout",
       "prompt_number": 8,
       "text": [
        "(i x). [(\u03bb x). Cat(x)](x)"
       ]
      }
     ],
     "prompt_number": 8
    },
    {
     "cell_type": "code",
     "collapsed": false,
     "input": [
      "dp.reduce_all()"
     ],
     "language": "python",
     "metadata": {},
     "outputs": [
      {
       "latex": [
        "$\\iota{} x_{e} \\: . \\: {Cat}({x}_{e})$"
       ],
       "metadata": {},
       "output_type": "pyout",
       "prompt_number": 9,
       "text": [
        "(i x). Cat(x)"
       ]
      }
     ],
     "prompt_number": 9
    },
    {
     "cell_type": "code",
     "collapsed": false,
     "input": [
      "dp.reduce_all().derivation"
     ],
     "language": "python",
     "metadata": {},
     "outputs": [
      {
       "latex": [
        "<table><tr><td style=\"padding-right:5px\"> 1. </td><td style=\"padding-right:5px\">$[\\lambda{} f_{\\langle{}e,t\\rangle{}} \\: . \\: \\iota{} x_{e} \\: . \\: {f}_{\\langle{}e,t\\rangle{}}({x}_{e})](\\lambda{} x_{e} \\: . \\: {Cat}({x}_{e}))$</td><td style=\"padding-left:10px;border-left:1px solid #848482\"></td></tr><tr><td style=\"padding-right:5px\"> 2. </td><td style=\"padding-right:5px\">$\\iota{} x_{e} \\: . \\: [\\lambda{} x_{e} \\: . \\: {Cat}({x}_{e})]({x}_{e})$</td><td style=\"padding-left:10px;border-left:1px solid #848482\">F-A reduction</td></tr><tr><td style=\"padding-right:5px\"> 3. </td><td style=\"padding-right:5px\">$\\iota{} x_{e} \\: . \\: {Cat}({x}_{e})$</td><td style=\"padding-left:10px;border-left:1px solid #848482\">Recursive reduction of body</td></tr></table>"
       ],
       "metadata": {},
       "output_type": "pyout",
       "prompt_number": 10,
       "text": [
        "<lamb.meta.Derivation at 0x10202a2d0>"
       ]
      }
     ],
     "prompt_number": 10
    },
    {
     "cell_type": "markdown",
     "metadata": {},
     "source": [
      "It's worth checking that the type inference is working correctly.  What happens when something not of type t is supplied as the body?  Is the output type right?\n",
      "\n",
      "If you are unused to looking at python exception traces, look at the end for the error message."
     ]
    },
    {
     "cell_type": "code",
     "collapsed": false,
     "input": [
      "lang.te(\"Iota x_e : x\")"
     ],
     "language": "python",
     "metadata": {},
     "outputs": [
      {
       "ename": "TypeMismatch",
       "evalue": "Type mismatch: 'x'/e and type t conflict (mode: type adjustment)",
       "output_type": "pyerr",
       "traceback": [
        "\u001b[0;31m---------------------------------------------------------------------------\u001b[0m\n\u001b[0;31mTypeMismatch\u001b[0m                              Traceback (most recent call last)",
        "\u001b[0;32m<ipython-input-11-86b40d7b3761>\u001b[0m in \u001b[0;36m<module>\u001b[0;34m()\u001b[0m\n\u001b[0;32m----> 1\u001b[0;31m \u001b[0mlang\u001b[0m\u001b[0;34m.\u001b[0m\u001b[0mte\u001b[0m\u001b[0;34m(\u001b[0m\u001b[0;34m\"Iota x_e : x\"\u001b[0m\u001b[0;34m)\u001b[0m\u001b[0;34m\u001b[0m\u001b[0m\n\u001b[0m",
        "\u001b[0;32m/Users/advil/repos/lambda-notebook/lamb/lang.py\u001b[0m in \u001b[0;36mte\u001b[0;34m(s, assignment)\u001b[0m\n\u001b[1;32m   1585\u001b[0m \u001b[0;34m\u001b[0m\u001b[0m\n\u001b[1;32m   1586\u001b[0m \u001b[0;32mdef\u001b[0m \u001b[0mte\u001b[0m\u001b[0;34m(\u001b[0m\u001b[0ms\u001b[0m\u001b[0;34m,\u001b[0m \u001b[0massignment\u001b[0m\u001b[0;34m=\u001b[0m\u001b[0;32mNone\u001b[0m\u001b[0;34m)\u001b[0m\u001b[0;34m:\u001b[0m\u001b[0;34m\u001b[0m\u001b[0m\n\u001b[0;32m-> 1587\u001b[0;31m     \u001b[0;32mreturn\u001b[0m \u001b[0mmeta\u001b[0m\u001b[0;34m.\u001b[0m\u001b[0mTypedExpr\u001b[0m\u001b[0;34m.\u001b[0m\u001b[0mfactory\u001b[0m\u001b[0;34m(\u001b[0m\u001b[0ms\u001b[0m\u001b[0;34m,\u001b[0m \u001b[0massignment\u001b[0m\u001b[0;34m=\u001b[0m\u001b[0massignment\u001b[0m\u001b[0;34m)\u001b[0m\u001b[0;34m\u001b[0m\u001b[0m\n\u001b[0m\u001b[1;32m   1588\u001b[0m \u001b[0;34m\u001b[0m\u001b[0m\n\u001b[1;32m   1589\u001b[0m \u001b[0;32mdef\u001b[0m \u001b[0mtp\u001b[0m\u001b[0;34m(\u001b[0m\u001b[0ms\u001b[0m\u001b[0;34m)\u001b[0m\u001b[0;34m:\u001b[0m\u001b[0;34m\u001b[0m\u001b[0m\n",
        "\u001b[0;32m/Users/advil/repos/lambda-notebook/lamb/meta.py\u001b[0m in \u001b[0;36mfactory\u001b[0;34m(cls, assignment, *args)\u001b[0m\n\u001b[1;32m    752\u001b[0m                 \u001b[0;32mreturn\u001b[0m \u001b[0mfalse_term\u001b[0m\u001b[0;34m\u001b[0m\u001b[0m\n\u001b[1;32m    753\u001b[0m             \u001b[0;32melif\u001b[0m \u001b[0misinstance\u001b[0m\u001b[0;34m(\u001b[0m\u001b[0ms\u001b[0m\u001b[0;34m,\u001b[0m \u001b[0mstr\u001b[0m\u001b[0;34m)\u001b[0m\u001b[0;34m:\u001b[0m\u001b[0;34m\u001b[0m\u001b[0m\n\u001b[0;32m--> 754\u001b[0;31m                 \u001b[0;32mreturn\u001b[0m \u001b[0mcls\u001b[0m\u001b[0;34m.\u001b[0m\u001b[0mparse_expr_string\u001b[0m\u001b[0;34m(\u001b[0m\u001b[0ms\u001b[0m\u001b[0;34m,\u001b[0m \u001b[0massignment\u001b[0m\u001b[0;34m)\u001b[0m\u001b[0;34m\u001b[0m\u001b[0m\n\u001b[0m\u001b[1;32m    755\u001b[0m             \u001b[0;32melse\u001b[0m\u001b[0;34m:\u001b[0m\u001b[0;34m\u001b[0m\u001b[0m\n\u001b[1;32m    756\u001b[0m                 \u001b[0;32mraise\u001b[0m \u001b[0mNotImplementedError\u001b[0m\u001b[0;34m\u001b[0m\u001b[0m\n",
        "\u001b[0;32m/Users/advil/repos/lambda-notebook/lamb/meta.py\u001b[0m in \u001b[0;36mparse_expr_string\u001b[0;34m(cls, s, assignment, locals)\u001b[0m\n\u001b[1;32m    379\u001b[0m         \u001b[0;32mif\u001b[0m \u001b[0mlocals\u001b[0m \u001b[0;32mis\u001b[0m \u001b[0;32mNone\u001b[0m\u001b[0;34m:\u001b[0m\u001b[0;34m\u001b[0m\u001b[0m\n\u001b[1;32m    380\u001b[0m             \u001b[0mlocals\u001b[0m \u001b[0;34m=\u001b[0m \u001b[0mdict\u001b[0m\u001b[0;34m(\u001b[0m\u001b[0;34m)\u001b[0m\u001b[0;34m\u001b[0m\u001b[0m\n\u001b[0;32m--> 381\u001b[0;31m         \u001b[0mtest\u001b[0m \u001b[0;34m=\u001b[0m \u001b[0mcls\u001b[0m\u001b[0;34m.\u001b[0m\u001b[0mtry_parse_op_expr\u001b[0m\u001b[0;34m(\u001b[0m\u001b[0ms\u001b[0m\u001b[0;34m,\u001b[0m \u001b[0massignment\u001b[0m\u001b[0;34m=\u001b[0m\u001b[0massignment\u001b[0m\u001b[0;34m,\u001b[0m \u001b[0mlocals\u001b[0m\u001b[0;34m=\u001b[0m\u001b[0mlocals\u001b[0m\u001b[0;34m)\u001b[0m\u001b[0;34m\u001b[0m\u001b[0m\n\u001b[0m\u001b[1;32m    382\u001b[0m         \u001b[0;32mif\u001b[0m \u001b[0mtest\u001b[0m \u001b[0;34m!=\u001b[0m \u001b[0;32mNone\u001b[0m\u001b[0;34m:\u001b[0m\u001b[0;34m\u001b[0m\u001b[0m\n\u001b[1;32m    383\u001b[0m             \u001b[0;32mreturn\u001b[0m \u001b[0mtest\u001b[0m\u001b[0;34m\u001b[0m\u001b[0m\n",
        "\u001b[0;32m/Users/advil/repos/lambda-notebook/lamb/meta.py\u001b[0m in \u001b[0;36mtry_parse_op_expr\u001b[0;34m(cls, s, assignment, locals)\u001b[0m\n\u001b[1;32m    467\u001b[0m     \u001b[0;32mdef\u001b[0m \u001b[0mtry_parse_op_expr\u001b[0m\u001b[0;34m(\u001b[0m\u001b[0mcls\u001b[0m\u001b[0;34m,\u001b[0m \u001b[0ms\u001b[0m\u001b[0;34m,\u001b[0m \u001b[0massignment\u001b[0m\u001b[0;34m=\u001b[0m\u001b[0;32mNone\u001b[0m\u001b[0;34m,\u001b[0m \u001b[0mlocals\u001b[0m\u001b[0;34m=\u001b[0m\u001b[0;32mNone\u001b[0m\u001b[0;34m)\u001b[0m\u001b[0;34m:\u001b[0m\u001b[0;34m\u001b[0m\u001b[0m\n\u001b[1;32m    468\u001b[0m         \u001b[0;32mtry\u001b[0m\u001b[0;34m:\u001b[0m\u001b[0;34m\u001b[0m\u001b[0m\n\u001b[0;32m--> 469\u001b[0;31m             \u001b[0;32mreturn\u001b[0m \u001b[0mBindingOp\u001b[0m\u001b[0;34m.\u001b[0m\u001b[0mtry_parse_binding_expr\u001b[0m\u001b[0;34m(\u001b[0m\u001b[0ms\u001b[0m\u001b[0;34m,\u001b[0m \u001b[0massignment\u001b[0m\u001b[0;34m=\u001b[0m\u001b[0massignment\u001b[0m\u001b[0;34m,\u001b[0m \u001b[0mlocals\u001b[0m\u001b[0;34m=\u001b[0m\u001b[0mlocals\u001b[0m\u001b[0;34m)\u001b[0m\u001b[0;34m\u001b[0m\u001b[0m\n\u001b[0m\u001b[1;32m    470\u001b[0m         \u001b[0;32mexcept\u001b[0m \u001b[0mparsing\u001b[0m\u001b[0;34m.\u001b[0m\u001b[0mParseError\u001b[0m \u001b[0;32mas\u001b[0m \u001b[0me\u001b[0m\u001b[0;34m:\u001b[0m\u001b[0;34m\u001b[0m\u001b[0m\n\u001b[1;32m    471\u001b[0m             \u001b[0;32mif\u001b[0m \u001b[0;32mnot\u001b[0m \u001b[0me\u001b[0m\u001b[0;34m.\u001b[0m\u001b[0mmet_preconditions\u001b[0m\u001b[0;34m:\u001b[0m\u001b[0;34m\u001b[0m\u001b[0m\n",
        "\u001b[0;32m/Users/advil/repos/lambda-notebook/lamb/meta.py\u001b[0m in \u001b[0;36mtry_parse_binding_expr\u001b[0;34m(cls, s, assignment, locals)\u001b[0m\n\u001b[1;32m   1800\u001b[0m         \u001b[0;32mif\u001b[0m \u001b[0mbody\u001b[0m \u001b[0;32mis\u001b[0m \u001b[0;32mNone\u001b[0m\u001b[0;34m:\u001b[0m\u001b[0;34m\u001b[0m\u001b[0m\n\u001b[1;32m   1801\u001b[0m             \u001b[0;32mraise\u001b[0m \u001b[0mparsing\u001b[0m\u001b[0;34m.\u001b[0m\u001b[0mParseError\u001b[0m\u001b[0;34m(\u001b[0m\u001b[0;34m\"Can't create body-less binding operator expression\"\u001b[0m\u001b[0;34m,\u001b[0m \u001b[0ms\u001b[0m\u001b[0;34m,\u001b[0m \u001b[0;32mNone\u001b[0m\u001b[0;34m)\u001b[0m\u001b[0;34m\u001b[0m\u001b[0m\n\u001b[0;32m-> 1802\u001b[0;31m         \u001b[0;32mreturn\u001b[0m \u001b[0mop_class\u001b[0m\u001b[0;34m(\u001b[0m\u001b[0mvar\u001b[0m\u001b[0;34m=\u001b[0m\u001b[0mv\u001b[0m\u001b[0;34m,\u001b[0m \u001b[0mvtype\u001b[0m\u001b[0;34m=\u001b[0m\u001b[0mt\u001b[0m\u001b[0;34m,\u001b[0m \u001b[0mbody\u001b[0m\u001b[0;34m=\u001b[0m\u001b[0mbody\u001b[0m\u001b[0;34m)\u001b[0m\u001b[0;34m\u001b[0m\u001b[0m\n\u001b[0m\u001b[1;32m   1803\u001b[0m \u001b[0;34m\u001b[0m\u001b[0m\n\u001b[1;32m   1804\u001b[0m     \u001b[0;34m@\u001b[0m\u001b[0mclassmethod\u001b[0m\u001b[0;34m\u001b[0m\u001b[0m\n",
        "\u001b[0;32m<ipython-input-2-db12253bc9ec>\u001b[0m in \u001b[0;36m__init__\u001b[0;34m(self, vtype, body, var)\u001b[0m\n\u001b[1;32m      6\u001b[0m         \u001b[0;31m#if body.type != types.type_t:\u001b[0m\u001b[0;34m\u001b[0m\u001b[0;34m\u001b[0m\u001b[0m\n\u001b[1;32m      7\u001b[0m         \u001b[0;31m#    raise TypeMismatch\u001b[0m\u001b[0;34m\u001b[0m\u001b[0;34m\u001b[0m\u001b[0m\n\u001b[0;32m----> 8\u001b[0;31m         \u001b[0msuper\u001b[0m\u001b[0;34m(\u001b[0m\u001b[0;34m)\u001b[0m\u001b[0;34m.\u001b[0m\u001b[0m__init__\u001b[0m\u001b[0;34m(\u001b[0m\u001b[0mvartype\u001b[0m\u001b[0;34m=\u001b[0m\u001b[0mvtype\u001b[0m\u001b[0;34m,\u001b[0m \u001b[0mtyp\u001b[0m\u001b[0;34m=\u001b[0m\u001b[0mvtype\u001b[0m\u001b[0;34m,\u001b[0m \u001b[0mop\u001b[0m\u001b[0;34m=\u001b[0m\u001b[0;34m(\u001b[0m\u001b[0;34m\"i%s. \"\u001b[0m \u001b[0;34m%\u001b[0m \u001b[0mvar\u001b[0m\u001b[0;34m)\u001b[0m\u001b[0;34m,\u001b[0m \u001b[0mvar\u001b[0m\u001b[0;34m=\u001b[0m\u001b[0mvar\u001b[0m\u001b[0;34m,\u001b[0m \u001b[0mbody\u001b[0m\u001b[0;34m=\u001b[0m\u001b[0mbody\u001b[0m\u001b[0;34m,\u001b[0m \u001b[0mop_name_uni\u001b[0m\u001b[0;34m=\u001b[0m\u001b[0;34m\"i\"\u001b[0m\u001b[0;34m,\u001b[0m \u001b[0mop_name_latex\u001b[0m\u001b[0;34m=\u001b[0m\u001b[0;34m\"\\\\iota{}\"\u001b[0m\u001b[0;34m,\u001b[0m \u001b[0mbody_type\u001b[0m\u001b[0;34m=\u001b[0m\u001b[0mtypes\u001b[0m\u001b[0;34m.\u001b[0m\u001b[0mtype_t\u001b[0m\u001b[0;34m)\u001b[0m\u001b[0;34m\u001b[0m\u001b[0m\n\u001b[0m\u001b[1;32m      9\u001b[0m         \u001b[0mself\u001b[0m\u001b[0;34m.\u001b[0m\u001b[0mlatex_op_str\u001b[0m \u001b[0;34m=\u001b[0m \u001b[0mself\u001b[0m\u001b[0;34m.\u001b[0m\u001b[0mlatex_op_str_short\u001b[0m\u001b[0;34m\u001b[0m\u001b[0m\n\u001b[1;32m     10\u001b[0m \u001b[0;34m\u001b[0m\u001b[0m\n",
        "\u001b[0;32m/Users/advil/repos/lambda-notebook/lamb/meta.py\u001b[0m in \u001b[0;36m__init__\u001b[0;34m(self, vartype, typ, op, var, body, op_name_uni, op_name_latex, body_type)\u001b[0m\n\u001b[1;32m   1633\u001b[0m         \u001b[0mself\u001b[0m\u001b[0;34m.\u001b[0m\u001b[0mvar_instance\u001b[0m \u001b[0;34m=\u001b[0m \u001b[0mTypedTerm\u001b[0m\u001b[0;34m(\u001b[0m\u001b[0mself\u001b[0m\u001b[0;34m.\u001b[0m\u001b[0mvarname\u001b[0m\u001b[0;34m,\u001b[0m \u001b[0mself\u001b[0m\u001b[0;34m.\u001b[0m\u001b[0mvartype\u001b[0m\u001b[0;34m)\u001b[0m\u001b[0;34m\u001b[0m\u001b[0m\n\u001b[1;32m   1634\u001b[0m         \u001b[0;31m#self.body = typed_expr(body)\u001b[0m\u001b[0;34m\u001b[0m\u001b[0;34m\u001b[0m\u001b[0m\n\u001b[0;32m-> 1635\u001b[0;31m         \u001b[0mself\u001b[0m\u001b[0;34m.\u001b[0m\u001b[0margs\u001b[0m \u001b[0;34m=\u001b[0m \u001b[0;34m[\u001b[0m\u001b[0mself\u001b[0m\u001b[0;34m.\u001b[0m\u001b[0mensure_typed_expr\u001b[0m\u001b[0;34m(\u001b[0m\u001b[0mbody\u001b[0m\u001b[0;34m,\u001b[0m \u001b[0mbody_type\u001b[0m\u001b[0;34m,\u001b[0m \u001b[0massignment\u001b[0m\u001b[0;34m=\u001b[0m\u001b[0;34m{\u001b[0m\u001b[0mself\u001b[0m\u001b[0;34m.\u001b[0m\u001b[0mvarname\u001b[0m\u001b[0;34m:\u001b[0m \u001b[0mself\u001b[0m\u001b[0;34m.\u001b[0m\u001b[0mvar_instance\u001b[0m\u001b[0;34m}\u001b[0m\u001b[0;34m)\u001b[0m\u001b[0;34m]\u001b[0m\u001b[0;34m\u001b[0m\u001b[0m\n\u001b[0m\u001b[1;32m   1636\u001b[0m \u001b[0;34m\u001b[0m\u001b[0m\n\u001b[1;32m   1637\u001b[0m     \u001b[0;34m@\u001b[0m\u001b[0mclassmethod\u001b[0m\u001b[0;34m\u001b[0m\u001b[0m\n",
        "\u001b[0;32m/Users/advil/repos/lambda-notebook/lamb/meta.py\u001b[0m in \u001b[0;36mensure_typed_expr\u001b[0;34m(cls, s, typ, assignment)\u001b[0m\n\u001b[1;32m    822\u001b[0m             \u001b[0mr_adjusted\u001b[0m \u001b[0;34m=\u001b[0m \u001b[0mresult\u001b[0m\u001b[0;34m.\u001b[0m\u001b[0mtry_adjust_type\u001b[0m\u001b[0;34m(\u001b[0m\u001b[0mtyp\u001b[0m\u001b[0;34m)\u001b[0m\u001b[0;34m\u001b[0m\u001b[0m\n\u001b[1;32m    823\u001b[0m             \u001b[0;32mif\u001b[0m \u001b[0mr_adjusted\u001b[0m \u001b[0;32mis\u001b[0m \u001b[0;32mNone\u001b[0m\u001b[0;34m:\u001b[0m\u001b[0;34m\u001b[0m\u001b[0m\n\u001b[0;32m--> 824\u001b[0;31m                 \u001b[0;32mraise\u001b[0m \u001b[0mTypeMismatch\u001b[0m\u001b[0;34m(\u001b[0m\u001b[0mresult\u001b[0m\u001b[0;34m,\u001b[0m \u001b[0mtyp\u001b[0m\u001b[0;34m,\u001b[0m \u001b[0mmode\u001b[0m\u001b[0;34m=\u001b[0m\u001b[0;34m\"type adjustment\"\u001b[0m\u001b[0;34m)\u001b[0m\u001b[0;34m\u001b[0m\u001b[0m\n\u001b[0m\u001b[1;32m    825\u001b[0m             \u001b[0;32melse\u001b[0m\u001b[0;34m:\u001b[0m\u001b[0;34m\u001b[0m\u001b[0m\n\u001b[1;32m    826\u001b[0m                 \u001b[0;32mreturn\u001b[0m \u001b[0mr_adjusted\u001b[0m\u001b[0;34m\u001b[0m\u001b[0m\n",
        "\u001b[0;31mTypeMismatch\u001b[0m: Type mismatch: 'x'/e and type t conflict (mode: type adjustment)"
       ]
      }
     ],
     "prompt_number": 11
    },
    {
     "cell_type": "code",
     "collapsed": false,
     "input": [
      "lang.te(\"Iota x_e : P(x)\").type"
     ],
     "language": "python",
     "metadata": {},
     "outputs": [
      {
       "output_type": "stream",
       "stream": "stderr",
       "text": [
        "INFO (meta): Coerced guessed type t for 'P' into <e,t>, to match argument 'x'\n"
       ]
      },
      {
       "latex": [
        "$e$"
       ],
       "metadata": {},
       "output_type": "pyout",
       "prompt_number": 12,
       "text": [
        "e"
       ]
      }
     ],
     "prompt_number": 12
    },
    {
     "cell_type": "code",
     "collapsed": false,
     "input": [
      "lang.te(\"Iota x_e : P(x)\").__class__"
     ],
     "language": "python",
     "metadata": {},
     "outputs": [
      {
       "output_type": "stream",
       "stream": "stderr",
       "text": [
        "INFO (meta): Coerced guessed type t for 'P' into <e,t>, to match argument 'x'\n"
       ]
      },
      {
       "metadata": {},
       "output_type": "pyout",
       "prompt_number": 13,
       "text": [
        "__main__.DemoIotaUnary"
       ]
      }
     ],
     "prompt_number": 13
    },
    {
     "cell_type": "code",
     "collapsed": false,
     "input": [
      "# NOTE: there is currently a parser bug that prevents using embedded operator syntax like this, leaving it commented for now.\n",
      "#lang.te(\"P_<e,t>(Iota x_e : Q(x))\")\n",
      "# In the meantime, such expressions can be constructed using python calls.\n",
      "\n",
      "test3 = lang.te(\"P_<e,t>\")(lang.te(\"Iota x_e : Q(x)\"))\n",
      "test3"
     ],
     "language": "python",
     "metadata": {},
     "outputs": [
      {
       "output_type": "stream",
       "stream": "stderr",
       "text": [
        "INFO (meta): Coerced guessed type t for 'Q' into <e,t>, to match argument 'x'\n"
       ]
      },
      {
       "latex": [
        "${P}(\\iota{} x_{e} \\: . \\: {Q}({x}_{e}))$"
       ],
       "metadata": {},
       "output_type": "pyout",
       "prompt_number": 14,
       "text": [
        "P((i x). Q(x))"
       ]
      }
     ],
     "prompt_number": 14
    },
    {
     "cell_type": "code",
     "collapsed": false,
     "input": [
      "test3.type"
     ],
     "language": "python",
     "metadata": {},
     "outputs": [
      {
       "latex": [
        "$t$"
       ],
       "metadata": {},
       "output_type": "pyout",
       "prompt_number": 15,
       "text": [
        "t"
       ]
      }
     ],
     "prompt_number": 15
    },
    {
     "cell_type": "markdown",
     "metadata": {},
     "source": [
      "Now let's use this in a lexical item.  With the metalanguage modifications in place, this is straightforward."
     ]
    },
    {
     "cell_type": "code",
     "collapsed": false,
     "input": [
      "%%lamb\n",
      "||the|| = L f_<e,t> : Iota x_e : f(x)\n",
      "||cat|| = L x_e : Cat(x)"
     ],
     "language": "python",
     "metadata": {},
     "outputs": [
      {
       "output_type": "stream",
       "stream": "stderr",
       "text": [
        "INFO (meta): Coerced guessed type t for 'Cat' into <e,t>, to match argument 'x'\n"
       ]
      },
      {
       "latex": [
        "$|\\!|\\mathbf{\\text{the}}|\\!|^{}_{\\langle{}\\langle{}e,t\\rangle{},e\\rangle{}} \\:=\\: \\lambda{} f_{\\langle{}e,t\\rangle{}} \\: . \\: \\iota{} x_{e} \\: . \\: {f}_{\\langle{}e,t\\rangle{}}({x}_{e})$<br />\n",
        "$|\\!|\\mathbf{\\text{cat}}|\\!|^{}_{\\langle{}e,t\\rangle{}} \\:=\\: \\lambda{} x_{e} \\: . \\: {Cat}({x}_{e})$"
       ],
       "metadata": {},
       "output_type": "pyout",
       "prompt_number": 16,
       "text": [
        "$|\\!|\\mathbf{\\text{the}}|\\!|^{}_{\\langle{}\\langle{}e,t\\rangle{},e\\rangle{}} \\:=\\: \\lambda{} f_{\\langle{}e,t\\rangle{}} \\: . \\: \\iota{} x_{e} \\: . \\: {f}_{\\langle{}e,t\\rangle{}}({x}_{e})$<br />\n",
        "$|\\!|\\mathbf{\\text{cat}}|\\!|^{}_{\\langle{}e,t\\rangle{}} \\:=\\: \\lambda{} x_{e} \\: . \\: {Cat}({x}_{e})$"
       ]
      }
     ],
     "prompt_number": 16
    },
    {
     "cell_type": "code",
     "collapsed": false,
     "input": [
      "r = the * cat\n",
      "r.reduce_all()\n",
      "r"
     ],
     "language": "python",
     "metadata": {},
     "outputs": [
      {
       "latex": [
        "1 composition path.  Result:\n",
        "<br />&nbsp;&nbsp;&nbsp;&nbsp;$|\\!|\\mathbf{\\text{[the cat]}}|\\!|^{}_{e} \\:=\\: $$\\iota{} x_{e} \\: . \\: {Cat}({x}_{e})$"
       ],
       "metadata": {},
       "output_type": "pyout",
       "prompt_number": 17,
       "text": [
        "CompositionResult(results=[||[the cat]|| = (i x). Cat(x)], failures=[||[cat the]|| = Type mismatch: '||cat|| = (\u03bb x). Cat(x)'/<e,t> and '||the|| = (\u03bb f). (i x). f(x)'/<<e,t>,e> conflict (mode: Function Application), ||[the cat]|| = Type mismatch: '||the|| = (\u03bb f). (i x). f(x)'/<<e,t>,e> and '||cat|| = (\u03bb x). Cat(x)'/<e,t> conflict (mode: Predicate Modification), ||[cat the]|| = Type mismatch: '||cat|| = (\u03bb x). Cat(x)'/<e,t> and '||the|| = (\u03bb f). (i x). f(x)'/<<e,t>,e> conflict (mode: Predicate Modification), ||[the cat]|| = Type mismatch: '||the|| = (\u03bb f). (i x). f(x)'/<<e,t>,e> and '||cat|| = (\u03bb x). Cat(x)'/<e,t> conflict (mode: Predicate Abstraction), ||[cat the]|| = Type mismatch: '||cat|| = (\u03bb x). Cat(x)'/<e,t> and '||the|| = (\u03bb f). (i x). f(x)'/<<e,t>,e> conflict (mode: Predicate Abstraction)])"
       ]
      }
     ],
     "prompt_number": 17
    },
    {
     "cell_type": "code",
     "collapsed": false,
     "input": [
      "r.latex_step_tree(derivations=True)"
     ],
     "language": "python",
     "metadata": {},
     "outputs": [
      {
       "latex": [
        "1 composition path:<br /><table><tr><td style=\"vertical-align:bottom;padding:0px 10px\" align=\"center\"><table><tr><td style=\"vertical-align:bottom\"><table align=\"center\"><tr><td align=\"center\">$|\\!|\\mathbf{\\text{the}}|\\!|^{}_{\\langle{}\\langle{}e,t\\rangle{},e\\rangle{}}$</td></tr><tr><td align=\"center\">$\\lambda{} f_{\\langle{}e,t\\rangle{}} \\: . \\: \\iota{} x_{e} \\: . \\: {f}_{\\langle{}e,t\\rangle{}}({x}_{e})$</td></tr></table>\n",
        "</td><td style=\"vertical-align:bottom;padding-bottom:5px\">&nbsp;&nbsp;&nbsp;$\\circ$&nbsp;&nbsp;&nbsp;</td><td style=\"vertical-align:bottom\"><table align=\"center\"><tr><td align=\"center\">$|\\!|\\mathbf{\\text{cat}}|\\!|^{}_{\\langle{}e,t\\rangle{}}$</td></tr><tr><td align=\"center\">$\\lambda{} x_{e} \\: . \\: {Cat}({x}_{e})$</td></tr></table>\n",
        "</td></tr></table></td><td style=\"vertical-align:bottom;padding-bottom:5px;padding-left:10px\"><b>[FA]</b></td></tr><tr style=\"border-top: 1px solid #848482\"><td align=\"center\"><table style=\"margin-top:10px\"><tr><td style=\"vertical-align:bottom\" align=\"center\">$|\\!|\\mathbf{\\text{[the cat]}}|\\!|^{}_{e}$</td></tr><tr><td style=\"vertical-align:bottom\" align=\"center\"><table><tr><td style=\"padding-right:5px\"> $=$ </td><td style=\"align:center\">$[\\lambda{} f_{\\langle{}e,t\\rangle{}} \\: . \\: \\iota{} x_{e} \\: . \\: {f}_{\\langle{}e,t\\rangle{}}({x}_{e})](\\lambda{} x_{e} \\: . \\: {Cat}({x}_{e}))$</td></tr><tr><td style=\"padding-right:5px\"> $=$ </td><td style=\"align:center\">$\\iota{} x_{e} \\: . \\: [\\lambda{} x_{e} \\: . \\: {Cat}({x}_{e})]({x}_{e})$</td></tr><tr><td style=\"padding-right:5px\"> $=$ </td><td style=\"align:center\">$\\iota{} x_{e} \\: . \\: {Cat}({x}_{e})$</td></tr></table></td></tr></table>\n",
        "</td><td></td></tr></table>\n",
        "<br /><br />"
       ],
       "metadata": {},
       "output_type": "pyout",
       "prompt_number": 18,
       "text": [
        "1 composition path:<br /><table><tr><td style=\"vertical-align:bottom;padding:0px 10px\" align=\"center\"><table><tr><td style=\"vertical-align:bottom\"><table align=\"center\"><tr><td align=\"center\">$|\\!|\\mathbf{\\text{the}}|\\!|^{}_{\\langle{}\\langle{}e,t\\rangle{},e\\rangle{}}$</td></tr><tr><td align=\"center\">$\\lambda{} f_{\\langle{}e,t\\rangle{}} \\: . \\: \\iota{} x_{e} \\: . \\: {f}_{\\langle{}e,t\\rangle{}}({x}_{e})$</td></tr></table>\n",
        "</td><td style=\"vertical-align:bottom;padding-bottom:5px\">&nbsp;&nbsp;&nbsp;$\\circ$&nbsp;&nbsp;&nbsp;</td><td style=\"vertical-align:bottom\"><table align=\"center\"><tr><td align=\"center\">$|\\!|\\mathbf{\\text{cat}}|\\!|^{}_{\\langle{}e,t\\rangle{}}$</td></tr><tr><td align=\"center\">$\\lambda{} x_{e} \\: . \\: {Cat}({x}_{e})$</td></tr></table>\n",
        "</td></tr></table></td><td style=\"vertical-align:bottom;padding-bottom:5px;padding-left:10px\"><b>[FA]</b></td></tr><tr style=\"border-top: 1px solid #848482\"><td align=\"center\"><table style=\"margin-top:10px\"><tr><td style=\"vertical-align:bottom\" align=\"center\">$|\\!|\\mathbf{\\text{[the cat]}}|\\!|^{}_{e}$</td></tr><tr><td style=\"vertical-align:bottom\" align=\"center\"><table><tr><td style=\"padding-right:5px\"> $=$ </td><td style=\"align:center\">$[\\lambda{} f_{\\langle{}e,t\\rangle{}} \\: . \\: \\iota{} x_{e} \\: . \\: {f}_{\\langle{}e,t\\rangle{}}({x}_{e})](\\lambda{} x_{e} \\: . \\: {Cat}({x}_{e}))$</td></tr><tr><td style=\"padding-right:5px\"> $=$ </td><td style=\"align:center\">$\\iota{} x_{e} \\: . \\: [\\lambda{} x_{e} \\: . \\: {Cat}({x}_{e})]({x}_{e})$</td></tr><tr><td style=\"padding-right:5px\"> $=$ </td><td style=\"align:center\">$\\iota{} x_{e} \\: . \\: {Cat}({x}_{e})$</td></tr></table></td></tr></table>\n",
        "</td><td></td></tr></table>\n",
        "<br /><br />"
       ]
      }
     ],
     "prompt_number": 18
    },
    {
     "cell_type": "markdown",
     "metadata": {},
     "source": [
      "What is missing here?  The biggest thing is presuppositions, but in the long run, interpretation of iota relative to a model would be helpful.  This isn't trivial to add, yet."
     ]
    },
    {
     "cell_type": "code",
     "collapsed": false,
     "input": [],
     "language": "python",
     "metadata": {},
     "outputs": []
    }
   ],
   "metadata": {}
  }
 ]
}