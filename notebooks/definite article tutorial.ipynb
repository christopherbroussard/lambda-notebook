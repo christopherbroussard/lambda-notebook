{
 "metadata": {
  "name": "",
  "signature": "sha256:c88d452fa6e484ccdc83a5cd8c74769130fce046a4acbf5b513ccefc2dc0c1ed"
 },
 "nbformat": 3,
 "nbformat_minor": 0,
 "worksheets": [
  {
   "cells": [
    {
     "cell_type": "markdown",
     "metadata": {},
     "source": [
      "# Definite article tutorial\n",
      "### Authors: Liz Coppock, Kyle Rawlins\n",
      "\n",
      "This notebook goes through what is involved in adding a new variable-binding operator to the metalanguage and instantiating it in a lexical entry, by working through iota."
     ]
    },
    {
     "cell_type": "code",
     "collapsed": false,
     "input": [
      "#reload_lamb() # can be uncommented for debugging purposes (this will reload any changes made to the source files)"
     ],
     "language": "python",
     "metadata": {},
     "outputs": []
    },
    {
     "cell_type": "markdown",
     "metadata": {},
     "source": [
      "This notebook walks through the process of adding a new operator, iota, to the lambda notebook.\n",
      "\n",
      "The notebook has two main parts: the metalanguage, and the object language.  To add iota, we need to modify the meta-language, and then using it in the object language is straightforward.\n",
      "\n",
      "Every expression in the metalanguage is represented by an object that inherits from the class _TypedExpr_.  Operators that bind a single variable and have a nuclear scope inherit from the subclass _BindingOp_, for example _ExistsUnary_ and _ForallUnary_.  To add Iota, we also subclass from _BindingOp_.  This basically involves specifying type constraints for the variable, the body, and the entire expression.  The default is that the body type and overal type are the same, but this is wrong for iota.  For iota, the body type is type t, and the variable / output type are equal.  A stricter version of this might enforce that both are type e.\n",
      "\n",
      "To add this to the parser, I also added a hook in the function _TypedExpr.try_parse_op_expr_ in meta.py.  (In the future this should happen more automatically.)"
     ]
    },
    {
     "cell_type": "code",
     "collapsed": false,
     "input": [
      "# note: IotaUnary has been added to meta.py, parallel code here for exemplification.\n",
      "class DemoIotaUnary(meta.BindingOp):\n",
      "    canonical_name = \"Iota\" # set the token for parsing this operator\n",
      "    op_name_uni = \"\u03b9\"\n",
      "    op_name_latex = \"\\\\iota{}\"\n",
      "    secondary_names = {\"\u03b9\"}\n",
      "    \n",
      "    def __init__(self, var_or_vtype, body, varname=None):\n",
      "        body = self.ensure_typed_expr(body)\n",
      "        #if body.type != types.type_t:\n",
      "        #    raise TypeMismatch\n",
      "        super().__init__(var_or_vtype=var_or_vtype, typ=None, varname=varname, body=body, body_type=types.type_t)\n",
      "        self.type = self.vartype # output type is the bound variable's type\n",
      "\n",
      "    def copy(self):\n",
      "        return DemoIotaUnary(self.vartype, self.body, varname=self.varname)\n",
      "\n",
      "meta.BindingOp.add_op(DemoIotaUnary) # add to the registry of binding operators so that it will be parsed.  This will trigger a warning as it overrides the existing IotaUnary class."
     ],
     "language": "python",
     "metadata": {},
     "outputs": []
    },
    {
     "cell_type": "markdown",
     "metadata": {},
     "source": [
      "The following examples demonstrate instantiating this class through python class constructions.  (Recall that _lang.te_ calls the metalanguage parser.)"
     ]
    },
    {
     "cell_type": "code",
     "collapsed": false,
     "input": [
      "test = DemoIotaUnary(\"x_e\", lang.te(\"P(x)\"))\n",
      "test"
     ],
     "language": "python",
     "metadata": {},
     "outputs": []
    },
    {
     "cell_type": "code",
     "collapsed": false,
     "input": [
      "test2 = meta.LFun(\"f_<e,t>\", DemoIotaUnary(\"x_e\", lang.te(\"f_<e,t>(x_e)\")))\n",
      "test2"
     ],
     "language": "python",
     "metadata": {},
     "outputs": []
    },
    {
     "cell_type": "markdown",
     "metadata": {},
     "source": [
      "The following cells demonstrate instatiating iota via the metalanguage parser, and test out combining it with a property."
     ]
    },
    {
     "cell_type": "code",
     "collapsed": false,
     "input": [
      "the = lang.te(\"L f_<e,t> : Iota x_e : f(x)\")\n",
      "the"
     ],
     "language": "python",
     "metadata": {},
     "outputs": []
    },
    {
     "cell_type": "code",
     "collapsed": false,
     "input": [
      "%%lamb\n",
      "catexpr = L x_e : Cat(x) # build a property 'catexpr'"
     ],
     "language": "python",
     "metadata": {},
     "outputs": []
    },
    {
     "cell_type": "code",
     "collapsed": false,
     "input": [
      "dp = the(catexpr)\n",
      "dp"
     ],
     "language": "python",
     "metadata": {},
     "outputs": []
    },
    {
     "cell_type": "code",
     "collapsed": false,
     "input": [
      "dp.reduce()"
     ],
     "language": "python",
     "metadata": {},
     "outputs": []
    },
    {
     "cell_type": "code",
     "collapsed": false,
     "input": [
      "dp.reduce_all()"
     ],
     "language": "python",
     "metadata": {},
     "outputs": []
    },
    {
     "cell_type": "code",
     "collapsed": false,
     "input": [
      "dp.reduce_all().derivation"
     ],
     "language": "python",
     "metadata": {},
     "outputs": []
    },
    {
     "cell_type": "markdown",
     "metadata": {},
     "source": [
      "It's worth checking that the type inference is working correctly.  What happens when something not of type t is supplied as the body?  Is the output type right?\n",
      "\n",
      "The following code catches and displays a TypeMismatch if any.  (To see the full stack trace, you can remove the `try...except` part.)"
     ]
    },
    {
     "cell_type": "code",
     "collapsed": false,
     "input": [
      "result = None\n",
      "try:\n",
      "    lang.te(\"Iota x_e : x\")\n",
      "except types.TypeMismatch as e:\n",
      "    result = e\n",
      "result"
     ],
     "language": "python",
     "metadata": {},
     "outputs": []
    },
    {
     "cell_type": "code",
     "collapsed": false,
     "input": [
      "lang.te(\"Iota x_e : P(x)\").type"
     ],
     "language": "python",
     "metadata": {},
     "outputs": []
    },
    {
     "cell_type": "code",
     "collapsed": false,
     "input": [
      "lang.te(\"Iota x_e : P(x)\").__class__"
     ],
     "language": "python",
     "metadata": {},
     "outputs": []
    },
    {
     "cell_type": "code",
     "collapsed": false,
     "input": [
      "# another way of constructing this:\n",
      "#test3 = lang.te(\"P_<e,t>\")(lang.te(\"Iota x_e : Q(x)\"))\n",
      "test3 = lang.te(\"P_<e,t>(Iota x_e : Q(x))\")\n",
      "test3"
     ],
     "language": "python",
     "metadata": {},
     "outputs": []
    },
    {
     "cell_type": "code",
     "collapsed": false,
     "input": [
      "test3.type"
     ],
     "language": "python",
     "metadata": {},
     "outputs": []
    },
    {
     "cell_type": "markdown",
     "metadata": {},
     "source": [
      "Now let's use this in a lexical item.  With the metalanguage modifications in place, this is straightforward."
     ]
    },
    {
     "cell_type": "code",
     "collapsed": false,
     "input": [
      "%%lamb\n",
      "||the|| = L f_<e,t> : Iota x_e : f(x)\n",
      "||cat|| = L x_e : Cat(x)"
     ],
     "language": "python",
     "metadata": {},
     "outputs": []
    },
    {
     "cell_type": "code",
     "collapsed": false,
     "input": [
      "r = the * cat\n",
      "r.reduce_all()\n",
      "r"
     ],
     "language": "python",
     "metadata": {},
     "outputs": []
    },
    {
     "cell_type": "code",
     "collapsed": false,
     "input": [
      "r.tree(derivations=True)"
     ],
     "language": "python",
     "metadata": {},
     "outputs": []
    },
    {
     "cell_type": "markdown",
     "metadata": {},
     "source": [
      "What is missing here?  The biggest thing is presuppositions, but in the long run, interpretation of iota relative to a model would be helpful.  This isn't trivial to add, yet."
     ]
    },
    {
     "cell_type": "code",
     "collapsed": false,
     "input": [],
     "language": "python",
     "metadata": {},
     "outputs": []
    }
   ],
   "metadata": {}
  }
 ]
}