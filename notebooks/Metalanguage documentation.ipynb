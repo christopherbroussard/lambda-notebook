{
 "metadata": {
  "name": ""
 },
 "nbformat": 3,
 "nbformat_minor": 0,
 "worksheets": [
  {
   "cells": [
    {
     "cell_type": "markdown",
     "metadata": {},
     "source": [
      "# Lambda notebook metalanguage documentation\n",
      "### Author: Kyle Rawlins\n",
      "\n",
      "__Last updated__: 12/24/14\n",
      "\n",
      "The core of the lambda notebook is a flexible and extensible typed logical metalanguage implemented in python -- the __Lambda Notebook Metalanguage (LNM)__.  The metalanguage is python-like, and can be interacted with either by cell magics, or by a python API.  Expressions of the metalanguage are parsed into python representations that can be interacted with programmatically.  There are three main aspects of the metalanguage to document: (i) the type system, (ii) the class hierarchy that supports this implementation, and (iii) the parser for writing metalanguage expressions directly.\n",
      "\n",
      "At the technical level, the core unit of the implementation of LNM is the TypedExpr class.  Every expression is an instance of this class or one of its subclasses.  A TypedExpr has a type, and consists of an 'operator' slot, and 0 or more argument slots.  The operator slot is, in most cases, filled by a logical operator or a function.  In a few special cases (terms), it is used to store a variable or constant name.  All `TypedExpr` objects implement routines to be printed in an ipython notebook.  Also, `repr` returns a string that is guaranteed to be a parseable LNM expression that will lead to the same object."
     ]
    },
    {
     "cell_type": "markdown",
     "metadata": {},
     "source": [
      "# Interacting with the metalanguage\n",
      "\n",
      "The metalanguage has two units: statements and expressions.  Expressions evaluate to metalanguage objects (of class _TypedExpr_ or a subclass), and are the main unit of the metalanguage.  For example, the following lines are each expressions.  The first one is a variable of type _e_, the second applies a variable to a constant property, and the third applies a constant of type _e_ to a lambda expression.\n",
      "\n",
      "    x_e\n",
      "    P_<e,t>(x_e)\n",
      "    (L x_e : Cat(x))(Josie_e)\n",
      "\n",
      "__Statements__ (currently) are only equality statements, and do not have a value -- they update the lexicon, variable namespace, and python namespace with an expression.  The thing to the right of `=` is a LNM expression.  Two things can be assigned values: variables names, and lexical items.  A lexical item is notated by surround the expression with `||` on each side.  Each of the following is a statement that assigns one of the above examples to a variable:\n",
      "\n",
      "    x = x_e\n",
      "    tmp = P_<e,t>(x_e)\n",
      "    c = (L x_e : Cat(x))(Josie_e)\n",
      "    \n",
      "The following example illustrates a lexical item assignment:\n",
      "\n",
      "    ||cat|| = L x_e : Cat(x)"
     ]
    },
    {
     "cell_type": "markdown",
     "metadata": {},
     "source": [
      "There are two ways to process metalanguage: via ipython magics, and via python functions.  To process a statement, there is an ipython 'magic' named __lamb__.  This magic works in both cell and inline mode.  In cell mode, the first line of an ipython cell should be `%%lamb`, and any following lines will be treated as metalanguage statements.  The following cell interprets the above 4 examples of LNM statements."
     ]
    },
    {
     "cell_type": "code",
     "collapsed": false,
     "input": [
      "%%lamb\n",
      "x = x_e\n",
      "tmp = P_<e,t>(x_e)\n",
      "c = (L x_e : Cat(x))(Josie_e)\n",
      "||cat|| = L x_e : Cat(x)"
     ],
     "language": "python",
     "metadata": {},
     "outputs": [
      {
       "output_type": "stream",
       "stream": "stderr",
       "text": [
        "INFO (meta): Coerced guessed type t for 'Cat_t' into <e,t>, to match argument 'x_e'\n"
       ]
      },
      {
       "output_type": "stream",
       "stream": "stderr",
       "text": [
        "INFO (meta): Coerced guessed type t for 'Cat_t' into <e,t>, to match argument 'x_e'\n"
       ]
      },
      {
       "latex": [
        "${x}_{e}\\:=\\:{x}_{e}$<br />\n",
        "${tmp}_{t}\\:=\\:{P}({x}_{e})$<br />\n",
        "${c}_{t}\\:=\\:[\\lambda{} x_{e} \\: . \\: {Cat}({x}_{e})]({Josie}_{e})$<br />\n",
        "$[\\![\\mathbf{\\text{cat}}]\\!]^{}_{\\langle{}e,t\\rangle{}} \\:=\\: \\lambda{} x_{e} \\: . \\: {Cat}({x}_{e})$"
       ],
       "metadata": {},
       "output_type": "pyout",
       "prompt_number": 1,
       "text": [
        "${x}_{e}\\:=\\:{x}_{e}$<br />\n",
        "${tmp}_{t}\\:=\\:{P}({x}_{e})$<br />\n",
        "${c}_{t}\\:=\\:[\\lambda{} x_{e} \\: . \\: {Cat}({x}_{e})]({Josie}_{e})$<br />\n",
        "$[\\![\\mathbf{\\text{cat}}]\\!]^{}_{\\langle{}e,t\\rangle{}} \\:=\\: \\lambda{} x_{e} \\: . \\: {Cat}({x}_{e})$"
       ]
      }
     ],
     "prompt_number": 1
    },
    {
     "cell_type": "markdown",
     "metadata": {},
     "source": [
      "Each statement interpreted by the __lamb__ magic has four effects: (i) the expression to the right of the equals sign is interpreted by the LNM parser and converted to a python object of class `TypedExpr`; (ii) the resulting object is printed; (iii) if the expression is a lexical item, an item with that name is added to the lexicon, and (iv) a variable with the name to the left of `=` is exported to the python namespace if possible.\n",
      "\n",
      "  * _Technical note_: if the variable name is shadowed by something in the namespace, exporting (currently) fails.  (TODO: how to access?)\n",
      "  \n",
      "In inline mode, a single line of a cell is prefaced with `%lamb`; the line is interpreted as a statement in the same way described above, with one caveat: the result is only printed if the inline magic is the last line in the cell."
     ]
    },
    {
     "cell_type": "code",
     "collapsed": false,
     "input": [
      "print(\"This is normal python code here\")\n",
      "print(repr(tmp)) # this accesses the variable defined above via python code\n",
      "%lamb ||dog|| = L x_e : Dog(x)\n",
      "print(\"This is still python code\")"
     ],
     "language": "python",
     "metadata": {},
     "outputs": [
      {
       "output_type": "stream",
       "stream": "stderr",
       "text": [
        "INFO (meta): Coerced guessed type t for 'Dog_t' into <e,t>, to match argument 'x_e'\n"
       ]
      },
      {
       "output_type": "stream",
       "stream": "stdout",
       "text": [
        "This is normal python code here\n",
        "P_<e,t>(x_e)\n",
        "This is still python code\n"
       ]
      }
     ],
     "prompt_number": 16
    },
    {
     "cell_type": "code",
     "collapsed": false,
     "input": [
      "dog # let's print this just to make sure.  As a reminder, this cell is ordinary python code."
     ],
     "language": "python",
     "metadata": {},
     "outputs": [
      {
       "latex": [
        "$[\\![\\mathbf{\\text{dog}}]\\!]^{}_{\\langle{}e,t\\rangle{}} \\:=\\: $$\\lambda{} x_{e} \\: . \\: {Dog}({x}_{e})$"
       ],
       "metadata": {},
       "output_type": "pyout",
       "prompt_number": 24,
       "text": [
        "\u27e6dog\u27e7 = (\u03bb x_e: Dog_<e,t>(x_e))"
       ]
      }
     ],
     "prompt_number": 24
    },
    {
     "cell_type": "markdown",
     "metadata": {},
     "source": [
      "__Expressions__ can be input using statements as above, evaluated using the `%te` line magic, or directly evaluated in python using the function `te` (automatically imported from `lamb.lang`).  "
     ]
    },
    {
     "cell_type": "markdown",
     "metadata": {},
     "source": [
      "The `te` line magic evaluates a single expression.  This has the main effect, if used as the last line of a cell, of just printing the output.\n",
      "\n",
      "  * As a side effect, this magic stores the result of each evaluation to the python variable `_llast`.\n",
      "\n",
      "This can be mixed with python to a very limited extent, in order to do variable assignment.  Note that this command completely bypasses the lexicon, no matter how it is used."
     ]
    },
    {
     "cell_type": "code",
     "collapsed": false,
     "input": [
      "%te L x_e : Dog(x)"
     ],
     "language": "python",
     "metadata": {},
     "outputs": [
      {
       "output_type": "stream",
       "stream": "stderr",
       "text": [
        "INFO (meta): Coerced guessed type t for 'Dog_t' into <e,t>, to match argument 'x_e'\n"
       ]
      },
      {
       "latex": [
        "$\\lambda{} x_{e} \\: . \\: {Dog}_{\\langle{}e,t\\rangle{}}({x}_{e})$"
       ],
       "metadata": {},
       "output_type": "pyout",
       "prompt_number": 76,
       "text": [
        "(\u03bb x_e: Dog_<e,t>(x_e))"
       ]
      }
     ],
     "prompt_number": 76
    },
    {
     "cell_type": "code",
     "collapsed": false,
     "input": [
      "_llast"
     ],
     "language": "python",
     "metadata": {},
     "outputs": [
      {
       "latex": [
        "$\\lambda{} x_{e} \\: . \\: {Dog}_{\\langle{}e,t\\rangle{}}({x}_{e})$"
       ],
       "metadata": {},
       "output_type": "pyout",
       "prompt_number": 77,
       "text": [
        "(\u03bb x_e: Dog_<e,t>(x_e))"
       ]
      }
     ],
     "prompt_number": 77
    },
    {
     "cell_type": "code",
     "collapsed": false,
     "input": [
      "d = %te L x_e : Dog(x)\n",
      "d"
     ],
     "language": "python",
     "metadata": {},
     "outputs": [
      {
       "output_type": "stream",
       "stream": "stderr",
       "text": [
        "INFO (meta): Coerced guessed type t for 'Dog_t' into <e,t>, to match argument 'x_e'\n"
       ]
      },
      {
       "latex": [
        "$\\lambda{} x_{e} \\: . \\: {Dog}({x}_{e})$"
       ],
       "metadata": {},
       "output_type": "pyout",
       "prompt_number": 22,
       "text": [
        "(\u03bb x_e: Dog_<e,t>(x_e))"
       ]
      }
     ],
     "prompt_number": 22
    },
    {
     "cell_type": "markdown",
     "metadata": {},
     "source": [
      "The `te` python function behaves similarly: it parses an LNM expression provided as a string, and returns an appropriate `TypedExpr`.  The result can be manipulated just like any python object."
     ]
    },
    {
     "cell_type": "code",
     "collapsed": false,
     "input": [
      "d = te(\"L x_e : Dog(x)\") # directly assign a python variable this LNM expression.  This bypasses the lexicon.\n",
      "d"
     ],
     "language": "python",
     "metadata": {},
     "outputs": [
      {
       "output_type": "stream",
       "stream": "stderr",
       "text": [
        "INFO (meta): Coerced guessed type t for 'Dog_t' into <e,t>, to match argument 'x_e'\n"
       ]
      },
      {
       "latex": [
        "$\\lambda{} x_{e} \\: . \\: {Dog}({x}_{e})$"
       ],
       "metadata": {},
       "output_type": "pyout",
       "prompt_number": 18,
       "text": [
        "(\u03bb x_e: Dog_<e,t>(x_e))"
       ]
      }
     ],
     "prompt_number": 18
    },
    {
     "cell_type": "code",
     "collapsed": false,
     "input": [
      "d(te(\"Joe_e\"))"
     ],
     "language": "python",
     "metadata": {},
     "outputs": [
      {
       "latex": [
        "$[\\lambda{} x_{e} \\: . \\: {Dog}({x}_{e})]({Joe}_{e})$"
       ],
       "metadata": {},
       "output_type": "pyout",
       "prompt_number": 19,
       "text": [
        "((\u03bb x_e: Dog_<e,t>(x_e)))(Joe_e)"
       ]
      }
     ],
     "prompt_number": 19
    },
    {
     "cell_type": "code",
     "collapsed": false,
     "input": [
      "d(te(\"Joe_e\")).reduce_all() # this performs beta reduction on any lambda expressions"
     ],
     "language": "python",
     "metadata": {},
     "outputs": [
      {
       "latex": [
        "${Dog}({Joe}_{e})$"
       ],
       "metadata": {},
       "output_type": "pyout",
       "prompt_number": 20,
       "text": [
        "Dog_<e,t>(Joe_e)"
       ]
      }
     ],
     "prompt_number": 20
    },
    {
     "cell_type": "markdown",
     "metadata": {},
     "source": [
      "# Types\n",
      "\n",
      "The type system will be familiar to anyone who has used a typed lambda calculus or logical system such as Ty2, and this documentation assumes some basic familiarity with typed lambda calculi.  The standard definition of this sort of type hierarchy looks something like this, where rule 2 defines functional types:\n",
      "\n",
      " 1. $e$ and $t$ are types.  (_atomic types_)\n",
      " 2. If $\\alpha$ and $\\beta$ are types, so is $\\langle\\alpha,\\beta\\rangle$. (_non-atomic types_)\n",
      " 3. Nothing else is a type.\n",
      "\n",
      "The type system here is extensible and designed for practical use, so it isn't useful to consider such a strict definition, but the basic ideas hold.  A type system in the lambda notebook consists of a set of atomic types and non-atomic types.  The library provides three atomic types: \n",
      "\n",
      " * $t$ (truth-values)\n",
      " * $e$ (entities)\n",
      " * $n$ (numbers)\n",
      "\n",
      "Adding new atomic types is easy; see e.g. the neo-Davidsonian notebook.  The library also provides several non-atomic types:\n",
      "\n",
      " * $\\langle\\alpha,\\beta\\rangle$: functional types, where the left is the input type and the right the output type.\n",
      " * $(\\alpha_0,...\\alpha_n)$: tuple types, for building tuples from atomic (or non-atomic) types.  In practice, what are often treated in logic as n-ary constants are treated here as functions from n-ary tuples to truth-values.\n",
      " * $\\{\\alpha\\}$: set types, for sets of elements of type $\\alpha$.\n",
      " \n",
      "The library also provides a mechanism for limited type uncertainty and inference in the form of undetermined types, notated with '?'.  (_TODO_: more detail)\n",
      "\n",
      "All types are interpreted and parsed relative to a type system, and in `meta` a current type system is defined; this can be accessed with `meta.get_type_system()`.  A convenience function `meta.tp` (imported into the notebook's namespace) calls the type system's parser.  By default, the type system is `types.under_system`."
     ]
    },
    {
     "cell_type": "code",
     "collapsed": false,
     "input": [
      "t = tp(\"<<e,t>,t>\")\n",
      "t"
     ],
     "language": "python",
     "metadata": {},
     "outputs": [
      {
       "latex": [
        "$\\langle{}\\langle{}e,t\\rangle{},t\\rangle{}$"
       ],
       "metadata": {},
       "output_type": "pyout",
       "prompt_number": 3,
       "text": [
        "<<e,t>,t>"
       ]
      }
     ],
     "prompt_number": 3
    },
    {
     "cell_type": "code",
     "collapsed": false,
     "input": [
      "t.functional()"
     ],
     "language": "python",
     "metadata": {},
     "outputs": [
      {
       "metadata": {},
       "output_type": "pyout",
       "prompt_number": 4,
       "text": [
        "1"
       ]
      }
     ],
     "prompt_number": 4
    },
    {
     "cell_type": "code",
     "collapsed": false,
     "input": [
      "t.left"
     ],
     "language": "python",
     "metadata": {},
     "outputs": [
      {
       "latex": [
        "$\\langle{}e,t\\rangle{}$"
       ],
       "metadata": {},
       "output_type": "pyout",
       "prompt_number": 5,
       "text": [
        "<e,t>"
       ]
      }
     ],
     "prompt_number": 5
    },
    {
     "cell_type": "code",
     "collapsed": false,
     "input": [
      "t.right"
     ],
     "language": "python",
     "metadata": {},
     "outputs": [
      {
       "latex": [
        "$t$"
       ],
       "metadata": {},
       "output_type": "pyout",
       "prompt_number": 6,
       "text": [
        "t"
       ]
      }
     ],
     "prompt_number": 6
    },
    {
     "cell_type": "code",
     "collapsed": false,
     "input": [
      "t.right.functional()"
     ],
     "language": "python",
     "metadata": {},
     "outputs": [
      {
       "metadata": {},
       "output_type": "pyout",
       "prompt_number": 7,
       "text": [
        "False"
       ]
      }
     ],
     "prompt_number": 7
    },
    {
     "cell_type": "code",
     "collapsed": false,
     "input": [
      "tp(\"<(e,e),t>\")"
     ],
     "language": "python",
     "metadata": {},
     "outputs": [
      {
       "latex": [
        "$\\langle{}(e, e),t\\rangle{}$"
       ],
       "metadata": {},
       "output_type": "pyout",
       "prompt_number": 8,
       "text": [
        "<(e,e),t>"
       ]
      }
     ],
     "prompt_number": 8
    },
    {
     "cell_type": "markdown",
     "metadata": {},
     "source": [
      "(_TODO_: document unification, equality testing)"
     ]
    },
    {
     "cell_type": "markdown",
     "metadata": {},
     "source": [
      "# Metalanguage\n",
      "\n",
      "There are four key kinds of TypedExprs to worry about: terms (variables and constants), lambda expressions, operators, and binding operators.  (Actually lambda expressions are a special case of the latter, but are important enough to separate out.)"
     ]
    },
    {
     "cell_type": "code",
     "collapsed": false,
     "input": [
      "meta.suppress_constant_predicate_type = False # normally, predicate types are hidden for prettier output.  But it is helpful here to be able to see them"
     ],
     "language": "python",
     "metadata": {},
     "outputs": [],
     "prompt_number": 19
    },
    {
     "cell_type": "markdown",
     "metadata": {},
     "source": [
      "### Terms\n",
      "\n",
      "A term consists simply of a name and optionally a type.  Capitalized names are constants, and lower-case names are variables.  If no type is specified, it will guess."
     ]
    },
    {
     "cell_type": "code",
     "collapsed": false,
     "input": [
      "%te P(x)"
     ],
     "language": "python",
     "metadata": {},
     "outputs": [
      {
       "output_type": "stream",
       "stream": "stderr",
       "text": [
        "INFO (meta): Coerced guessed type t for 'P_t' into <e,t>, to match argument 'x_e'\n"
       ]
      },
      {
       "latex": [
        "${P}_{\\langle{}e,t\\rangle{}}({x}_{e})$"
       ],
       "metadata": {},
       "output_type": "pyout",
       "prompt_number": 72,
       "text": [
        "P_<e,t>(x_e)"
       ]
      }
     ],
     "prompt_number": 72
    },
    {
     "cell_type": "markdown",
     "metadata": {},
     "source": [
      "The code below demonstrates an example expression consisting of a function and argument; the function is the constant `P` and the argument the variable `x`.  Note that no types are specified; everything in the metalanguage has a type so various shortcut inference processes come into play.  Variables default to type $e$ and constants to type $t$, but it guesses because of the argument that $P$ should be a higher type."
     ]
    },
    {
     "cell_type": "code",
     "collapsed": false,
     "input": [
      "e = %te P(x)\n",
      "ltx_print(e, e.type) # function for printing multiple ipython latex display objects"
     ],
     "language": "python",
     "metadata": {},
     "outputs": [
      {
       "output_type": "stream",
       "stream": "stderr",
       "text": [
        "INFO (meta): Coerced guessed type t for 'P_t' into <e,t>, to match argument 'x_e'\n"
       ]
      },
      {
       "latex": [
        "${P}_{\\langle{}e,t\\rangle{}}({x}_{e})$<br />$t$<br />"
       ],
       "metadata": {},
       "output_type": "pyout",
       "prompt_number": 73,
       "text": [
        "${P}_{\\langle{}e,t\\rangle{}}({x}_{e})$<br />$t$<br />"
       ]
      }
     ],
     "prompt_number": 73
    },
    {
     "cell_type": "markdown",
     "metadata": {},
     "source": [
      "Types can be explicitly specified by putting a `_` after a term."
     ]
    },
    {
     "cell_type": "code",
     "collapsed": false,
     "input": [
      "%te P_<e,t>(x_e)"
     ],
     "language": "python",
     "metadata": {},
     "outputs": [
      {
       "latex": [
        "${P}_{\\langle{}e,t\\rangle{}}({x}_{e})$"
       ],
       "metadata": {},
       "output_type": "pyout",
       "prompt_number": 74,
       "text": [
        "P_<e,t>(x_e)"
       ]
      }
     ],
     "prompt_number": 74
    },
    {
     "cell_type": "code",
     "collapsed": false,
     "input": [
      "e == te(\"P_<e,t>(x_e)\") # is e equivalent to the explicitly typed form?"
     ],
     "language": "python",
     "metadata": {},
     "outputs": [
      {
       "metadata": {},
       "output_type": "pyout",
       "prompt_number": 23,
       "text": [
        "True"
       ]
      }
     ],
     "prompt_number": 23
    },
    {
     "cell_type": "markdown",
     "metadata": {},
     "source": [
      "The objects generated by parsing have an API, which is not comprehensively documented here.  The following cells briefly demonstrate the part of the API for accessing sub-expressions.  Every complex TypedExpr is structured into an operator (`op`) and 0 or more arguments (`args`)."
     ]
    },
    {
     "cell_type": "code",
     "collapsed": false,
     "input": [
      "print(\"The operator's python type is: \" + str(e.op.__class__))\n",
      "ltx_print(\"The operator's LNM representation and type is: \", e.op, e.op.type)"
     ],
     "language": "python",
     "metadata": {},
     "outputs": [
      {
       "output_type": "stream",
       "stream": "stdout",
       "text": [
        "The operator's python type is: <class 'lamb.meta.TypedTerm'>\n"
       ]
      },
      {
       "latex": [
        "The operator's LNM representation and type is: <br />${P}_{\\langle{}e,t\\rangle{}}$<br />$\\langle{}e,t\\rangle{}$<br />"
       ],
       "metadata": {},
       "output_type": "pyout",
       "prompt_number": 24,
       "text": [
        "The operator's LNM representation and type is: <br />${P}_{\\langle{}e,t\\rangle{}}$<br />$\\langle{}e,t\\rangle{}$<br />"
       ]
      }
     ],
     "prompt_number": 24
    },
    {
     "cell_type": "code",
     "collapsed": false,
     "input": [
      "print(\"The (only) argument's python type is: \" + str(e.args[0].__class__))\n",
      "ltx_print(\"The argument's LNM representation and type is: \", e.args[0], e.args[0].type)"
     ],
     "language": "python",
     "metadata": {},
     "outputs": [
      {
       "output_type": "stream",
       "stream": "stdout",
       "text": [
        "The (only) argument's python type is: <class 'lamb.meta.TypedTerm'>\n"
       ]
      },
      {
       "latex": [
        "The argument's LNM representation and type is: <br />${x}_{e}$<br />$e$<br />"
       ],
       "metadata": {},
       "output_type": "pyout",
       "prompt_number": 25,
       "text": [
        "The argument's LNM representation and type is: <br />${x}_{e}$<br />$e$<br />"
       ]
      }
     ],
     "prompt_number": 25
    },
    {
     "cell_type": "code",
     "collapsed": false,
     "input": [
      "# the .op and .args notation can be simplified just to indices, where [0] is the op.\n",
      "ltx_print(e[0], e[1])"
     ],
     "language": "python",
     "metadata": {},
     "outputs": [
      {
       "latex": [
        "${P}_{\\langle{}e,t\\rangle{}}$<br />${x}_{e}$<br />"
       ],
       "metadata": {},
       "output_type": "pyout",
       "prompt_number": 26,
       "text": [
        "${P}_{\\langle{}e,t\\rangle{}}$<br />${x}_{e}$<br />"
       ]
      }
     ],
     "prompt_number": 26
    },
    {
     "cell_type": "markdown",
     "metadata": {},
     "source": [
      "When commas are used in the argument to a function, the argument is treated as an n-ary tuple.  This is the standard way to construct n-ary 'predicates' in LNM."
     ]
    },
    {
     "cell_type": "code",
     "collapsed": false,
     "input": [
      "%te P(x,y)"
     ],
     "language": "python",
     "metadata": {},
     "outputs": [
      {
       "output_type": "stream",
       "stream": "stderr",
       "text": [
        "INFO (meta): Coerced guessed type t for 'P_t' into <(e,e),t>, to match argument '(x_e, y_e)'\n"
       ]
      },
      {
       "latex": [
        "${P}_{\\langle{}(e, e),t\\rangle{}}({x}_{e}, {y}_{e})$"
       ],
       "metadata": {},
       "output_type": "pyout",
       "prompt_number": 27,
       "text": [
        "P_<(e,e),t>(x_e, y_e)"
       ]
      }
     ],
     "prompt_number": 27
    },
    {
     "cell_type": "markdown",
     "metadata": {},
     "source": [
      "There is an API for constructing expressions in python, without using LNM syntax.  The following cells provide some examples (but not comprehensive documentation).\n",
      "\n",
      "To construct terms programmatically, use the term factory function instead of instantiating classes directly, which can be shortened to `meta.term`.  It is also often convenient to use the type parser here, though the factory function is fairly flexible."
     ]
    },
    {
     "cell_type": "code",
     "collapsed": false,
     "input": [
      "e3 = meta.term(\"P\", tp(\"<(e,e),t>\"))\n",
      "e3"
     ],
     "language": "python",
     "metadata": {},
     "outputs": [
      {
       "latex": [
        "${P}_{\\langle{}(e, e),t\\rangle{}}$"
       ],
       "metadata": {},
       "output_type": "pyout",
       "prompt_number": 28,
       "text": [
        "P_<(e,e),t>"
       ]
      }
     ],
     "prompt_number": 28
    },
    {
     "cell_type": "code",
     "collapsed": false,
     "input": [
      "meta.term(\"P_<(e,e),t>\")"
     ],
     "language": "python",
     "metadata": {},
     "outputs": [
      {
       "latex": [
        "${P}_{\\langle{}(e, e),t\\rangle{}}$"
       ],
       "metadata": {},
       "output_type": "pyout",
       "prompt_number": 29,
       "text": [
        "P_<(e,e),t>"
       ]
      }
     ],
     "prompt_number": 29
    },
    {
     "cell_type": "markdown",
     "metadata": {},
     "source": [
      "Many python operators are overloaded to properly handle TypedExprs, most importantly function calling."
     ]
    },
    {
     "cell_type": "code",
     "collapsed": false,
     "input": [
      "meta.term(\"P_<(e,e),t>\")(meta.term(\"x_e\"), meta.term(\"y_e\"))"
     ],
     "language": "python",
     "metadata": {},
     "outputs": [
      {
       "latex": [
        "${P}_{\\langle{}(e, e),t\\rangle{}}({x}_{e}, {y}_{e})$"
       ],
       "metadata": {},
       "output_type": "pyout",
       "prompt_number": 30,
       "text": [
        "P_<(e,e),t>(x_e, y_e)"
       ]
      }
     ],
     "prompt_number": 30
    },
    {
     "cell_type": "code",
     "collapsed": false,
     "input": [
      "meta.term(\"P_<e,<e,t>>\")(meta.term(\"x_e\"))(meta.term(\"y_e\"))"
     ],
     "language": "python",
     "metadata": {},
     "outputs": [
      {
       "latex": [
        "${P}_{\\langle{}e,\\langle{}e,t\\rangle{}\\rangle{}}({x}_{e})({y}_{e})$"
       ],
       "metadata": {},
       "output_type": "pyout",
       "prompt_number": 31,
       "text": [
        "P_<e,<e,t>>(x_e)(y_e)"
       ]
      }
     ],
     "prompt_number": 31
    },
    {
     "cell_type": "markdown",
     "metadata": {},
     "source": [
      "### Lambda expressions\n",
      "\n",
      "Lambda expressions (class: `LFun`) consist of a typed variable (i.e. lower-case TypedTerm) and a body, which is a TypedExpr.  Instances of that variable name in the body (and not under the scope of some lower binder) are interpreted as bound by that lambda operator, and the types must much (or a TypeMismatch exception will result).  The type of the whole is the type of a function from the variable's type to the body's type.  They are notated as `L var_type : body`.  The parser will except several alternatives for `L`, including the more pythonic `lambda`."
     ]
    },
    {
     "cell_type": "code",
     "collapsed": false,
     "input": [
      "e3 = %te L y_e : P(y)\n",
      "ltx_print(e3, e3.type)"
     ],
     "language": "python",
     "metadata": {},
     "outputs": [
      {
       "output_type": "stream",
       "stream": "stderr",
       "text": [
        "INFO (meta): Coerced guessed type t for 'P_t' into <e,t>, to match argument 'y_e'\n"
       ]
      },
      {
       "latex": [
        "$\\lambda{} y_{e} \\: . \\: {P}_{\\langle{}e,t\\rangle{}}({y}_{e})$<br />$\\langle{}e,t\\rangle{}$<br />"
       ],
       "metadata": {},
       "output_type": "pyout",
       "prompt_number": 32,
       "text": [
        "$\\lambda{} y_{e} \\: . \\: {P}_{\\langle{}e,t\\rangle{}}({y}_{e})$<br />$\\langle{}e,t\\rangle{}$<br />"
       ]
      }
     ],
     "prompt_number": 32
    },
    {
     "cell_type": "markdown",
     "metadata": {},
     "source": [
      "Function-argument expressions can be easily written in the expected way using parenthesis:  (parenthesis around the function are obligatory)"
     ]
    },
    {
     "cell_type": "code",
     "collapsed": false,
     "input": [
      "%te (L y_e : P(y))(x_e)"
     ],
     "language": "python",
     "metadata": {},
     "outputs": [
      {
       "output_type": "stream",
       "stream": "stderr",
       "text": [
        "INFO (meta): Coerced guessed type t for 'P_t' into <e,t>, to match argument 'y_e'\n"
       ]
      },
      {
       "latex": [
        "$[\\lambda{} y_{e} \\: . \\: {P}_{\\langle{}e,t\\rangle{}}({y}_{e})]({x}_{e})$"
       ],
       "metadata": {},
       "output_type": "pyout",
       "prompt_number": 33,
       "text": [
        "((\u03bb y_e: P_<e,t>(y_e)))(x_e)"
       ]
      }
     ],
     "prompt_number": 33
    },
    {
     "cell_type": "markdown",
     "metadata": {},
     "source": [
      "Note that beta-reduction does not happen automatically (although type-checking does).  There are a number of ways to force beta-reduction.  The simplest for displaying a reduction is to add `reduce` preceded and followed by a space to a `%te` magic.  The others are via python calls, and are explained below.\n",
      "\n",
      "  * technical note: if you are using a variable named `reduce`, just ensure there is no space following it."
     ]
    },
    {
     "cell_type": "code",
     "collapsed": false,
     "input": [
      "%te reduce (L y_e : P(y))(x_e)"
     ],
     "language": "python",
     "metadata": {},
     "outputs": [
      {
       "output_type": "stream",
       "stream": "stderr",
       "text": [
        "INFO (meta): Coerced guessed type t for 'P_t' into <e,t>, to match argument 'y_e'\n"
       ]
      },
      {
       "latex": [
        "${P}_{\\langle{}e,t\\rangle{}}({x}_{e})$"
       ],
       "metadata": {},
       "output_type": "pyout",
       "prompt_number": 34,
       "text": [
        "P_<e,t>(x_e)"
       ]
      }
     ],
     "prompt_number": 34
    },
    {
     "cell_type": "markdown",
     "metadata": {},
     "source": [
      "As with terms, the python function call notation works correctly.  'Correct' in this case, though, means that it will construct a composite TypedExpr with the lambda expression as the operator, and the argument as the operand."
     ]
    },
    {
     "cell_type": "code",
     "collapsed": false,
     "input": [
      "e3(te(\"x_e\"))"
     ],
     "language": "python",
     "metadata": {},
     "outputs": [
      {
       "latex": [
        "$[\\lambda{} y_{e} \\: . \\: {P}_{\\langle{}e,t\\rangle{}}({y}_{e})]({x}_{e})$"
       ],
       "metadata": {},
       "output_type": "pyout",
       "prompt_number": 35,
       "text": [
        "((\u03bb y_e: P_<e,t>(y_e)))(x_e)"
       ]
      }
     ],
     "prompt_number": 35
    },
    {
     "cell_type": "markdown",
     "metadata": {},
     "source": [
      "To actually apply the argument to the function (and force beta reduction), there are two ways.  You can construct the expression using `apply`, or call the `reduce_all()` function on any `TypedExpr`."
     ]
    },
    {
     "cell_type": "code",
     "collapsed": false,
     "input": [
      "e3.apply(te(\"x_e\"))"
     ],
     "language": "python",
     "metadata": {},
     "outputs": [
      {
       "latex": [
        "${P}_{\\langle{}e,t\\rangle{}}({x}_{e})$"
       ],
       "metadata": {},
       "output_type": "pyout",
       "prompt_number": 36,
       "text": [
        "P_<e,t>(x_e)"
       ]
      }
     ],
     "prompt_number": 36
    },
    {
     "cell_type": "code",
     "collapsed": false,
     "input": [
      "e4 = e3(te(\"x_e\")).reduce_all()\n",
      "e4"
     ],
     "language": "python",
     "metadata": {},
     "outputs": [
      {
       "latex": [
        "${P}_{\\langle{}e,t\\rangle{}}({x}_{e})$"
       ],
       "metadata": {},
       "output_type": "pyout",
       "prompt_number": 37,
       "text": [
        "P_<e,t>(x_e)"
       ]
      }
     ],
     "prompt_number": 37
    },
    {
     "cell_type": "markdown",
     "metadata": {},
     "source": [
      "Quick sanity check: this should be equal to the first example `e` defined in the term section."
     ]
    },
    {
     "cell_type": "code",
     "collapsed": false,
     "input": [
      "e4 == e"
     ],
     "language": "python",
     "metadata": {},
     "outputs": [
      {
       "metadata": {},
       "output_type": "pyout",
       "prompt_number": 38,
       "text": [
        "True"
       ]
      }
     ],
     "prompt_number": 38
    },
    {
     "cell_type": "markdown",
     "metadata": {},
     "source": [
      "There is one important difference between the original `e` and `e4`; some aspects of the derivational history are saved."
     ]
    },
    {
     "cell_type": "code",
     "collapsed": false,
     "input": [
      "e4.derivation"
     ],
     "language": "python",
     "metadata": {},
     "outputs": [
      {
       "latex": [
        "<table><tr><td style=\"border-left:1px solid #848482\"><div><table style=\"padding-bottom:5px\"><tr style=\"border-bottom:1px solid #848482;padding-bottom:5px\"><td style=\"padding-right:5px;vertical-align:bottom\"> 1. </td><td style=\"vertical-align:bottom;padding-right:10px\">$[\\lambda{} y_{e} \\: . \\: {P}_{\\langle{}e,t\\rangle{}}({y}_{e})]({x}_{e})$</td></tr><tr style=\"padding-bottom:5px\"><td style=\"padding-right:5px;vertical-align:bottom\"> 2. </td><td style=\"vertical-align:bottom;padding-right:10px\">${P}_{\\langle{}e,t\\rangle{}}({x}_{e})$</td><td style=\"border-left:1px solid #848482\"><span style=\"color:blue\">F-A reduction</span></td></tr></table></div></td></tr></table>"
       ],
       "metadata": {},
       "output_type": "pyout",
       "prompt_number": 39,
       "text": [
        "<lamb.meta.Derivation at 0x1044a3810>"
       ]
      }
     ],
     "prompt_number": 39
    },
    {
     "cell_type": "code",
     "collapsed": false,
     "input": [
      "e.derivation"
     ],
     "language": "python",
     "metadata": {},
     "outputs": [],
     "prompt_number": 40
    },
    {
     "cell_type": "markdown",
     "metadata": {},
     "source": [
      "A somewhat more complicated example:"
     ]
    },
    {
     "cell_type": "code",
     "collapsed": false,
     "input": [
      "e5 = %te L y_e : L x_e : P(x,y)\n",
      "e5"
     ],
     "language": "python",
     "metadata": {},
     "outputs": [
      {
       "output_type": "stream",
       "stream": "stderr",
       "text": [
        "INFO (meta): Coerced guessed type t for 'P_t' into <(e,e),t>, to match argument '(x_e, y_e)'\n"
       ]
      },
      {
       "latex": [
        "$\\lambda{} y_{e} \\: . \\: \\lambda{} x_{e} \\: . \\: {P}_{\\langle{}(e, e),t\\rangle{}}({x}_{e}, {y}_{e})$"
       ],
       "metadata": {},
       "output_type": "pyout",
       "prompt_number": 41,
       "text": [
        "(\u03bb y_e: (\u03bb x_e: P_<(e,e),t>(x_e, y_e)))"
       ]
      }
     ],
     "prompt_number": 41
    },
    {
     "cell_type": "code",
     "collapsed": false,
     "input": [
      "e6 = e5(te(\"A_e\"))(te(\"B_e\"))\n",
      "e6"
     ],
     "language": "python",
     "metadata": {},
     "outputs": [
      {
       "latex": [
        "$[\\lambda{} y_{e} \\: . \\: \\lambda{} x_{e} \\: . \\: {P}_{\\langle{}(e, e),t\\rangle{}}({x}_{e}, {y}_{e})]({A}_{e})({B}_{e})$"
       ],
       "metadata": {},
       "output_type": "pyout",
       "prompt_number": 42,
       "text": [
        "((\u03bb y_e: (\u03bb x_e: P_<(e,e),t>(x_e, y_e))))(A_e)(B_e)"
       ]
      }
     ],
     "prompt_number": 42
    },
    {
     "cell_type": "code",
     "collapsed": false,
     "input": [
      "e6.reduce_all()"
     ],
     "language": "python",
     "metadata": {},
     "outputs": [
      {
       "latex": [
        "${P}_{\\langle{}(e, e),t\\rangle{}}({B}_{e}, {A}_{e})$"
       ],
       "metadata": {},
       "output_type": "pyout",
       "prompt_number": 43,
       "text": [
        "P_<(e,e),t>(B_e, A_e)"
       ]
      }
     ],
     "prompt_number": 43
    },
    {
     "cell_type": "markdown",
     "metadata": {},
     "source": [
      "Note that (as you'd expect), variable names of bound variables are not guaranteed to stay the same on lambda application.  Variable names of free variables are safe.  In the following example, `x` is free in the main argument in the definition of `e7`.  On application, the bound `x` must be renamed to avoid collision with the free `x`."
     ]
    },
    {
     "cell_type": "code",
     "collapsed": false,
     "input": [
      "%te reduce (L p_t : L x_e : p & P(x))(P(x))"
     ],
     "language": "python",
     "metadata": {},
     "outputs": [
      {
       "output_type": "stream",
       "stream": "stderr",
       "text": [
        "INFO (meta): Coerced guessed type t for 'P_t' into <e,t>, to match argument 'x_e'\n"
       ]
      },
      {
       "output_type": "stream",
       "stream": "stderr",
       "text": [
        "INFO (meta): Coerced guessed type t for 'P_t' into <e,t>, to match argument 'x_e'\n"
       ]
      },
      {
       "latex": [
        "$\\lambda{} x1_{e} \\: . \\: ({P}_{\\langle{}e,t\\rangle{}}({x}_{e}) \\wedge{} {P}_{\\langle{}e,t\\rangle{}}({x1}_{e}))$"
       ],
       "metadata": {},
       "output_type": "pyout",
       "prompt_number": 47,
       "text": [
        "(\u03bb x1_e: (P_<e,t>(x_e) & P_<e,t>(x1_e)))"
       ]
      }
     ],
     "prompt_number": 47
    },
    {
     "cell_type": "code",
     "collapsed": false,
     "input": [
      "# another example of a collision where both variables are bound.  The one that is locally bound gets renamed.\n",
      "%te reduce L x_e : (L p_t : L x_e : p & P(x))(P(x))"
     ],
     "language": "python",
     "metadata": {},
     "outputs": [
      {
       "output_type": "stream",
       "stream": "stderr",
       "text": [
        "INFO (meta): Coerced guessed type t for 'P_t' into <e,t>, to match argument 'x_e'\n"
       ]
      },
      {
       "output_type": "stream",
       "stream": "stderr",
       "text": [
        "INFO (meta): Coerced guessed type t for 'P_t' into <e,t>, to match argument 'x_e'\n"
       ]
      },
      {
       "latex": [
        "$\\lambda{} x_{e} \\: . \\: \\lambda{} x1_{e} \\: . \\: ({P}_{\\langle{}e,t\\rangle{}}({x}_{e}) \\wedge{} {P}_{\\langle{}e,t\\rangle{}}({x1}_{e}))$"
       ],
       "metadata": {},
       "output_type": "pyout",
       "prompt_number": 50,
       "text": [
        "(\u03bb x_e: (\u03bb x1_e: (P_<e,t>(x_e) & P_<e,t>(x1_e))))"
       ]
      }
     ],
     "prompt_number": 50
    },
    {
     "cell_type": "markdown",
     "metadata": {},
     "source": [
      "### Operator expressions\n",
      "\n",
      "Logical operators (and numeric operators) are supported using python syntax.  This should be mostly straightforward for anyone familiar with classical logic.  As you might expect, types are enforced.  The parsed syntax is (with a few exceptions) the same as the python syntax.\n",
      "\n",
      "Representations are always bracketed unambiguously, and python operator precedence defines bracketing.  This is mostly straightforward with a few caveats:\n",
      "\n",
      " * __equality__: the operators `==` and `!=` will not behave as expected in the metalanguage.  Instead use '`<=>`' and '`=/=`' in LNM expressions.\n",
      " * __logical operators__: similarly, python's logical operators (`&&` etc) do not work on LNM.  Use the python bitwise operator symbols instead.\n",
      " * __precedence__: the operators currently all use python precedence, even in LNM, which can lead to counterintuitive results.  Parenthesis should be used to disambiguate, rather than relying on precedence.\n",
      "\n",
      "The material implication operator uses `>>`.  In the metalanguage (but not python), `==>` will also work."
     ]
    },
    {
     "cell_type": "code",
     "collapsed": false,
     "input": [
      "%te p_t & (q_t | r_t)"
     ],
     "language": "python",
     "metadata": {},
     "outputs": [
      {
       "latex": [
        "$({p}_{t} \\wedge{} ({q}_{t} \\vee{} {r}_{t}))$"
       ],
       "metadata": {},
       "output_type": "pyout",
       "prompt_number": 71,
       "text": [
        "(p_t & (q_t | r_t))"
       ]
      }
     ],
     "prompt_number": 71
    },
    {
     "cell_type": "code",
     "collapsed": false,
     "input": [
      "%te p_t >> ~q_t"
     ],
     "language": "python",
     "metadata": {},
     "outputs": [
      {
       "latex": [
        "$({p}_{t} \\rightarrow{} \\neg{} {q}_{t})$"
       ],
       "metadata": {},
       "output_type": "pyout",
       "prompt_number": 69,
       "text": [
        "(p_t >> ~q_t)"
       ]
      }
     ],
     "prompt_number": 69
    },
    {
     "cell_type": "markdown",
     "metadata": {},
     "source": [
      "Many operators are overloaded to work in python as well; the following instances of `&`, `|`, `>>`, and `~` are python."
     ]
    },
    {
     "cell_type": "code",
     "collapsed": false,
     "input": [
      "te(\"p_t\") & (te(\"q_t\") | te(\"r_t\"))"
     ],
     "language": "python",
     "metadata": {},
     "outputs": [
      {
       "latex": [
        "$({p}_{t} \\wedge{} ({q}_{t} \\vee{} {r}_{t}))$"
       ],
       "metadata": {},
       "output_type": "pyout",
       "prompt_number": 53,
       "text": [
        "(p_t & (q_t | r_t))"
       ]
      }
     ],
     "prompt_number": 53
    },
    {
     "cell_type": "code",
     "collapsed": false,
     "input": [
      "te(\"~p_t\") >> ~te(\"q_t\")"
     ],
     "language": "python",
     "metadata": {},
     "outputs": [
      {
       "latex": [
        "$(\\neg{} {p}_{t} \\rightarrow{} \\neg{} {q}_{t})$"
       ],
       "metadata": {},
       "output_type": "pyout",
       "prompt_number": 67,
       "text": [
        "(~p_t >> ~q_t)"
       ]
      }
     ],
     "prompt_number": 67
    },
    {
     "cell_type": "markdown",
     "metadata": {},
     "source": [
      "### Binding expressions\n",
      "\n",
      "A number of operators use a similar syntax to lambda expressions, though with different type structures.  Existential and universal quantification are expressions of type $t$, that bind a variable of some type and whose body is type $t$.  Sets can also be defined using a similar notation, but their overall type is the type of a set whose elements are the variable's type.\n",
      "\n",
      "It is relatively easy to add operators like this; see the demo notebook on the definite article/iota operator for how."
     ]
    },
    {
     "cell_type": "code",
     "collapsed": false,
     "input": [
      "%te Exists x_e : P(x)"
     ],
     "language": "python",
     "metadata": {},
     "outputs": [
      {
       "output_type": "stream",
       "stream": "stderr",
       "text": [
        "INFO (meta): Coerced guessed type t for 'P_t' into <e,t>, to match argument 'x_e'\n"
       ]
      },
      {
       "latex": [
        "$\\exists{} x_{e} \\: . \\: {P}_{\\langle{}e,t\\rangle{}}({x}_{e})$"
       ],
       "metadata": {},
       "output_type": "pyout",
       "prompt_number": 54,
       "text": [
        "(Exists x_e: P_<e,t>(x_e))"
       ]
      }
     ],
     "prompt_number": 54
    },
    {
     "cell_type": "code",
     "collapsed": false,
     "input": [
      "%te Forall x_e : P(x)"
     ],
     "language": "python",
     "metadata": {},
     "outputs": [
      {
       "output_type": "stream",
       "stream": "stderr",
       "text": [
        "INFO (meta): Coerced guessed type t for 'P_t' into <e,t>, to match argument 'x_e'\n"
       ]
      },
      {
       "latex": [
        "$\\forall{} x_{e} \\: . \\: {P}_{\\langle{}e,t\\rangle{}}({x}_{e})$"
       ],
       "metadata": {},
       "output_type": "pyout",
       "prompt_number": 55,
       "text": [
        "(Forall x_e: P_<e,t>(x_e))"
       ]
      }
     ],
     "prompt_number": 55
    },
    {
     "cell_type": "code",
     "collapsed": false,
     "input": [
      "%te Set f_<e,t> : Exists x_e : f(x)"
     ],
     "language": "python",
     "metadata": {},
     "outputs": [
      {
       "latex": [
        "$\\{f_{\\langle{}e,t\\rangle{}}\\:|\\: \\exists{} x_{e} \\: . \\: {f}_{\\langle{}e,t\\rangle{}}({x}_{e})\\}$"
       ],
       "metadata": {},
       "output_type": "pyout",
       "prompt_number": 56,
       "text": [
        "(Set f_<e,t>: (Exists x_e: f_<e,t>(x_e)))"
       ]
      }
     ],
     "prompt_number": 56
    },
    {
     "cell_type": "markdown",
     "metadata": {},
     "source": [
      "# Appendix: metalanguage class hierarchy\n",
      "\n",
      "TypedExpr: base class for all typed expressions.\n",
      "\n",
      " * BinaryOpExpr: wrapper classes for logical operators.\n",
      "    - BinaryAndExpr (python / LNM: '`&`')\n",
      "    - BinaryOrExpr (python / LNM: '`|`')\n",
      "    - BinaryArrowExpr (python / LNM: '`>>`'.  __Warning__: this takes very high precedence, parens are recommended.  LNM only: '`==>`')\n",
      "    - BinaryBiarrowExpr (LNM: '`<=>`' at type t)\n",
      "    - BinaryNeqExpr (python/LNM: '`^`' or '`%`'  LNM only: '`=/=`')\n",
      "    - BinaryGenericEqExpr (LNM: '`<=>`' at types other than t. __Warning__: '`==`' does not work.)\n",
      "    - SetContains (python/LNM: '`<<`'.  __Warning__: precedence is tricky, always use parens.)\n",
      "    - numeric expressions: BinaryLExpr, BinaryLeqExpr, BinaryGeqExpr, BinaryGExpr, BinaryPlusExpr, BinaryMinusExpr, Binary DivExpr, BinaryTimesExpr, BinaryExpExpr\n",
      " * UnaryOpExpr: Unary operator expressions.\n",
      "    - UnaryNegExpr: negation. (Python/LNM: '`~`')\n",
      "    - UnaryNegativeExpr: numeric unary negative operator.  (Python/LNM: '`-`')\n",
      " * BindingOp: class for operators that bind a variable (notated `v` below) in their scope.  For many of these, there are shorthand expressions not documented here, and the unicode will also work.\n",
      "    - ConditionSet: set defined in terms of a condition on some variable.  (LNM: '`Set v : `'\n",
      "    - ForallUnary: $\\forall$ operator. (LNM: '`Forall v :`')\n",
      "    - ExistsUnary: $\\exists$ operator. (LNM: '`Exists v :`')\n",
      "    - IotaUnary: $\\iota$ operator (e.g. for definite descriptions).  (LNM: '`Iota v :`')\n",
      "    - LFun: $\\lambda$ expression, describing a function. (LNM: '`L v :`')\n",
      " * ListedSet: set defined by listing elements.\n",
      " * Tuple: a typed tuple.  (Elements can be of arbitrary type, and needn't be uniform.)\n",
      " * TypedTerm: a typed term (variable or constant).\n",
      "    - CustomTerm: class for dealing with some special ways of printing terms, common in the linguistics literature.\n",
      " "
     ]
    },
    {
     "cell_type": "code",
     "collapsed": false,
     "input": [],
     "language": "python",
     "metadata": {},
     "outputs": []
    },
    {
     "cell_type": "code",
     "collapsed": false,
     "input": [],
     "language": "python",
     "metadata": {},
     "outputs": []
    }
   ],
   "metadata": {}
  }
 ]
}