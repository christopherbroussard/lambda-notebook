{
 "metadata": {
  "name": "",
  "signature": "sha256:074f6534b3d7195da738019a1c26f3c05ce58532ebc1d4b14535ed411cb2706d"
 },
 "nbformat": 3,
 "nbformat_minor": 0,
 "worksheets": [
  {
   "cells": [
    {
     "cell_type": "markdown",
     "metadata": {},
     "source": [
      "# LSA Poster examples\n",
      "## Author: Kyle Rawlins\n",
      "\n",
      "This are examples I used in the poster on the lambda notebook at the LSA annual meeting, Jan 2014."
     ]
    },
    {
     "cell_type": "code",
     "collapsed": false,
     "input": [
      "reload_lamb()\n",
      "#lang.set_system(lang.hk3_system)"
     ],
     "language": "python",
     "metadata": {},
     "outputs": []
    },
    {
     "cell_type": "code",
     "collapsed": false,
     "input": [
      "%%lamb reset\n",
      "||gray|| = lambda x_e : Gray(x)\n",
      "||cat|| = lambda x_e : Cat(x)\n",
      "||joanna|| = Joanna_e\n",
      "||isV|| = lambda f_<e,t> : f # 'is' is a python reserved word\n",
      "||a|| = lambda f_<e,t> : f"
     ],
     "language": "python",
     "metadata": {},
     "outputs": []
    },
    {
     "cell_type": "code",
     "collapsed": false,
     "input": [],
     "language": "python",
     "metadata": {},
     "outputs": []
    },
    {
     "cell_type": "markdown",
     "metadata": {},
     "source": [
      "Note that the system does not currently know that PM is symmetric."
     ]
    },
    {
     "cell_type": "code",
     "collapsed": false,
     "input": [
      "r = gray * cat\n",
      "r"
     ],
     "language": "python",
     "metadata": {},
     "outputs": []
    },
    {
     "cell_type": "code",
     "collapsed": false,
     "input": [
      "r.tree()"
     ],
     "language": "python",
     "metadata": {},
     "outputs": []
    },
    {
     "cell_type": "code",
     "collapsed": false,
     "input": [
      "r = joanna * (isV * (a * (gray * cat)))\n",
      "r.tree()"
     ],
     "language": "python",
     "metadata": {},
     "outputs": []
    },
    {
     "cell_type": "code",
     "collapsed": false,
     "input": [
      "%%lamb\n",
      "||inP|| = L x: L y: In(y,x)\n",
      "||fond|| = L x_e : L y_e : Fond(y,x)\n",
      "||of|| = L x_e : x\n",
      "||joe|| = Joe_e\n",
      "||texas|| = Texas_e"
     ],
     "language": "python",
     "metadata": {},
     "outputs": []
    },
    {
     "cell_type": "code",
     "collapsed": false,
     "input": [
      "r = joanna * (isV * (a * ((gray * cat) * (inP * texas))))\n",
      "r"
     ],
     "language": "python",
     "metadata": {},
     "outputs": []
    },
    {
     "cell_type": "code",
     "collapsed": false,
     "input": [
      "r = joanna * (isV * (a * (((gray * cat) * (inP * texas)) * (fond * (of * joe)))))\n",
      "r"
     ],
     "language": "python",
     "metadata": {},
     "outputs": []
    },
    {
     "cell_type": "code",
     "collapsed": false,
     "input": [
      "# show all the steps of each composition.  PM is currently implemented using function application underlyingly.\n",
      "r[0].tree(derivations=True)"
     ],
     "language": "python",
     "metadata": {},
     "outputs": []
    },
    {
     "cell_type": "code",
     "collapsed": false,
     "input": [],
     "language": "python",
     "metadata": {},
     "outputs": []
    },
    {
     "cell_type": "code",
     "collapsed": false,
     "input": [],
     "language": "python",
     "metadata": {},
     "outputs": []
    },
    {
     "cell_type": "code",
     "collapsed": false,
     "input": [
      "x = lang.te(\"L f_<e,t> : f\")\n",
      "y = lang.te(\"L x_e : Test(x)\")"
     ],
     "language": "python",
     "metadata": {},
     "outputs": []
    },
    {
     "cell_type": "code",
     "collapsed": false,
     "input": [
      "(x(y))"
     ],
     "language": "python",
     "metadata": {},
     "outputs": []
    },
    {
     "cell_type": "code",
     "collapsed": false,
     "input": [],
     "language": "python",
     "metadata": {},
     "outputs": []
    },
    {
     "cell_type": "code",
     "collapsed": false,
     "input": [
      "z = (x(y)).reduce()\n",
      "z.derivation"
     ],
     "language": "python",
     "metadata": {},
     "outputs": []
    },
    {
     "cell_type": "code",
     "collapsed": false,
     "input": [],
     "language": "python",
     "metadata": {},
     "outputs": []
    },
    {
     "cell_type": "code",
     "collapsed": false,
     "input": [
      "reload_lamb()\n",
      "lang.set_system(lang.hk3_system)"
     ],
     "language": "python",
     "metadata": {},
     "outputs": []
    },
    {
     "cell_type": "code",
     "collapsed": false,
     "input": [
      "%%lamb reset\n",
      "||gray|| = L x_e : Gray_<e,t>(x)\n",
      "||cat|| = L x_e : Cat_<e,t>(x)"
     ],
     "language": "python",
     "metadata": {},
     "outputs": []
    },
    {
     "cell_type": "code",
     "collapsed": false,
     "input": [
      "t = Tree(\"NP\", [\"gray\", \"cat\"])\n",
      "r = lang.hk3_system.compose(t)\n",
      "#lang.hk3_system.expand_next(r)\n",
      "#lang.hk3_system.expand_all(r)\n",
      "r.tree()"
     ],
     "language": "python",
     "metadata": {},
     "outputs": []
    },
    {
     "cell_type": "code",
     "collapsed": false,
     "input": [
      "lang.hk3_system.expand_next(r)\n",
      "r.tree()"
     ],
     "language": "python",
     "metadata": {},
     "outputs": []
    },
    {
     "cell_type": "code",
     "collapsed": false,
     "input": [
      "lang.hk3_system.expand_next(r)\n",
      "r.tree()"
     ],
     "language": "python",
     "metadata": {},
     "outputs": []
    },
    {
     "cell_type": "code",
     "collapsed": false,
     "input": [],
     "language": "python",
     "metadata": {},
     "outputs": []
    }
   ],
   "metadata": {}
  }
 ]
}