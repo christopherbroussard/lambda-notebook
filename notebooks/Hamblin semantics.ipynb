{
 "metadata": {
  "name": "",
  "signature": "sha256:8c41bc5711a59911709c1cc602b91fdfbb9c6ff916c6e0a47e8f3286ab1e04fa"
 },
 "nbformat": 3,
 "nbformat_minor": 0,
 "worksheets": [
  {
   "cells": [
    {
     "cell_type": "markdown",
     "metadata": {},
     "source": [
      "# Hamblin semantics\n",
      "## Author: Kyle Rawlins\n",
      "\n",
      "This is an implementation of Hamblin semantics.  It is currently quite incomplete."
     ]
    },
    {
     "cell_type": "code",
     "collapsed": false,
     "input": [
      "reload_lamb()\n",
      "%lambctl reset"
     ],
     "language": "python",
     "metadata": {},
     "outputs": [],
     "prompt_number": 63
    },
    {
     "cell_type": "code",
     "collapsed": false,
     "input": [
      "type_e = types.type_e\n",
      "type_t = types.type_t\n",
      "type_n = types.type_n\n",
      "type_s = types.OntoType(\"s\", types.SimpleInfiniteSet(\"c\"))\n",
      "intensional_types = types.UnderTypeSystem(atomics={type_e, type_t, type_n, type_s, types.undetermined_type}, nonatomics={types.FunType, types.TupleType, types.SetType, types.UndeterminedType})\n",
      "meta.set_type_system(intensional_types)"
     ],
     "language": "python",
     "metadata": {},
     "outputs": [],
     "prompt_number": 64
    },
    {
     "cell_type": "markdown",
     "metadata": {},
     "source": [
      "The first thing to do is to 'hamblinize' the lexicon.  This amounts to converting ordinary meanings to singleton sets with there contents.\n",
      "\n",
      "There are a number of options for how to implement this in a typed lambda calculus.  Here, we will exploit the fact that the Lambda Notebook has a type for sets.  If $\\alpha$ is a type, then $\\{\\alpha\\}$ is the type of sets containing elements of type $\\alpha$.  This is someone backwards from how most textbooks define types vs. sets, and more consistent with a programmer's way of thinking about the issue.\n",
      "\n",
      "The next bit of code defines a special operation `hamblinize` to simplify the process a bit; it can be safely ignored."
     ]
    },
    {
     "cell_type": "code",
     "collapsed": false,
     "input": [
      "def hamblinize_te(te):\n",
      "    \"\"\"Hamblinize a single lexical item.  Do so by building a singleton set out of it.\"\"\"\n",
      "    if meta.ts_compatible(te.type, meta.tp(\"{?}\")): #isinstance(item.type, types.SetType):\n",
      "        # assume this item is already hamblinized\n",
      "        return te\n",
      "    elif meta.ts_compatible(te.type, meta.tp(\"<{?},?>\")): #item.type.functional() and isinstance(item.type.left, types.SetType):\n",
      "        # heuristic: if function whose domain is a set of some sort, assume that this is a Hamblin operator.\n",
      "        # may miss cases.  Better to just run this on content items...\n",
      "        return te\n",
      "    # wrap the content of the lexical item as a singleton set.\n",
      "    return meta.ListedSet([te])    \n",
      "\n",
      "#continuize_lex(cat1.content)\n",
      "lamb.parsing.eq_transforms[\"hamblin\"] = hamblinize_te"
     ],
     "language": "python",
     "metadata": {},
     "outputs": [],
     "prompt_number": 65
    },
    {
     "cell_type": "code",
     "collapsed": false,
     "input": [],
     "language": "python",
     "metadata": {},
     "outputs": [],
     "prompt_number": 65
    },
    {
     "cell_type": "markdown",
     "metadata": {},
     "source": [
      "Let's see this in operation:"
     ]
    },
    {
     "cell_type": "code",
     "collapsed": false,
     "input": [
      "%%lamb\n",
      "||cat|| =<hamblin> L x_e : L w_s : Cat(w,x)\n",
      "||gray|| =<hamblin> L x_e : L w_s : Gray(w,x)\n",
      "||john|| =<hamblin> J_e\n",
      "x =<hamblin> L y_e : y\n",
      "||test|| = L x_e : Test(x) # don't hamblinize this"
     ],
     "language": "python",
     "metadata": {},
     "outputs": [
      {
       "output_type": "stream",
       "stream": "stderr",
       "text": [
        "INFO (meta): Coerced guessed type t for 'Cat_t' into <(s,e),t>, to match argument '(w_s, x_e)'\n"
       ]
      },
      {
       "output_type": "stream",
       "stream": "stderr",
       "text": [
        "INFO (meta): Coerced guessed type t for 'Gray_t' into <(s,e),t>, to match argument '(w_s, x_e)'\n"
       ]
      },
      {
       "output_type": "stream",
       "stream": "stderr",
       "text": [
        "INFO (meta): Coerced guessed type t for 'Test_t' into <e,t>, to match argument 'x_e'\n"
       ]
      },
      {
       "latex": [
        "$||\\mathbf{\\text{cat}}||^{}_{\\{\\langle{}e,\\langle{}s,t\\rangle{}\\rangle{}\\}} \\:=\\: \\{\\lambda{} x_{e} \\: . \\: \\lambda{} w_{s} \\: . \\: {Cat}({w}_{s}, {x}_{e})\\}$<br />\n",
        "$||\\mathbf{\\text{gray}}||^{}_{\\{\\langle{}e,\\langle{}s,t\\rangle{}\\rangle{}\\}} \\:=\\: \\{\\lambda{} x_{e} \\: . \\: \\lambda{} w_{s} \\: . \\: {Gray}({w}_{s}, {x}_{e})\\}$<br />\n",
        "$||\\mathbf{\\text{john}}||^{}_{\\{e\\}} \\:=\\: \\{{J}_{e}\\}$<br />\n",
        "${x}_{\\{\\langle{}e,e\\rangle{}\\}}\\:=\\:\\{\\lambda{} y_{e} \\: . \\: {y}_{e}\\}$<br />\n",
        "$||\\mathbf{\\text{test}}||^{}_{\\langle{}e,t\\rangle{}} \\:=\\: \\lambda{} x_{e} \\: . \\: {Test}({x}_{e})$"
       ],
       "metadata": {},
       "output_type": "pyout",
       "prompt_number": 66,
       "text": [
        "$||\\mathbf{\\text{cat}}||^{}_{\\{\\langle{}e,\\langle{}s,t\\rangle{}\\rangle{}\\}} \\:=\\: \\{\\lambda{} x_{e} \\: . \\: \\lambda{} w_{s} \\: . \\: {Cat}({w}_{s}, {x}_{e})\\}$<br />\n",
        "$||\\mathbf{\\text{gray}}||^{}_{\\{\\langle{}e,\\langle{}s,t\\rangle{}\\rangle{}\\}} \\:=\\: \\{\\lambda{} x_{e} \\: . \\: \\lambda{} w_{s} \\: . \\: {Gray}({w}_{s}, {x}_{e})\\}$<br />\n",
        "$||\\mathbf{\\text{john}}||^{}_{\\{e\\}} \\:=\\: \\{{J}_{e}\\}$<br />\n",
        "${x}_{\\{\\langle{}e,e\\rangle{}\\}}\\:=\\:\\{\\lambda{} y_{e} \\: . \\: {y}_{e}\\}$<br />\n",
        "$||\\mathbf{\\text{test}}||^{}_{\\langle{}e,t\\rangle{}} \\:=\\: \\lambda{} x_{e} \\: . \\: {Test}({x}_{e})$"
       ]
      }
     ],
     "prompt_number": 66
    },
    {
     "cell_type": "code",
     "collapsed": false,
     "input": [],
     "language": "python",
     "metadata": {},
     "outputs": [],
     "prompt_number": 66
    },
    {
     "cell_type": "markdown",
     "metadata": {},
     "source": [
      "Next, we need to add a way of composing entries *pointwise*.  The following code implements the most general case of Pointwise FA.\n",
      "\n",
      "In the long run, one would want to automatically simplify these expressions; this is easy to do by hand, but it is a hard problem in the general case, so things are left mostly unsimplified."
     ]
    },
    {
     "cell_type": "code",
     "collapsed": false,
     "input": [
      "def pfa_combinator(funtype, argtype):\n",
      "    return te(\"L f_{%s} : L a_{%s} : Set x_%s : Exists f1_%s : (Exists a1_%s : (f1 << f & a1 << a) & x <=> f1(a1))\" % (repr(funtype), repr(argtype), repr(funtype.right), repr(funtype), repr(argtype)))\n",
      "\n",
      "pfa_combinator(tp(\"<e,<s,t>>\"), types.type_e)"
     ],
     "language": "python",
     "metadata": {},
     "outputs": [
      {
       "latex": [
        "$\\lambda{} f_{\\{\\langle{}e,\\langle{}s,t\\rangle{}\\rangle{}\\}} \\: . \\: \\lambda{} a_{\\{e\\}} \\: . \\: \\{x_{\\langle{}s,t\\rangle{}}\\:|\\: \\exists{} f1_{\\langle{}e,\\langle{}s,t\\rangle{}\\rangle{}} \\: . \\: \\exists{} a1_{e} \\: . \\: ((({f1}_{\\langle{}e,\\langle{}s,t\\rangle{}\\rangle{}} \\in{} {f}_{\\{\\langle{}e,\\langle{}s,t\\rangle{}\\rangle{}\\}}) \\wedge{} ({a1}_{e} \\in{} {a}_{\\{e\\}})) \\wedge{} ({x}_{\\langle{}s,t\\rangle{}} = {f1}_{\\langle{}e,\\langle{}s,t\\rangle{}\\rangle{}}({a1}_{e})))\\}$"
       ],
       "metadata": {},
       "output_type": "pyout",
       "prompt_number": 67,
       "text": [
        "(\u03bb f_{<e,<s,t>>}: (\u03bb a_{e}: (Set x_<s,t>: (Exists f1_<e,<s,t>>: (Exists a1_e: (((f1_<e,<s,t>> \u2208 f_{<e,<s,t>>}) & (a1_e \u2208 a_{e})) & (x_<s,t> == f1_<e,<s,t>>(a1_e))))))))"
       ]
      }
     ],
     "prompt_number": 67
    },
    {
     "cell_type": "code",
     "collapsed": false,
     "input": [
      "def pfa_worstcase(fun, arg):\n",
      "    ts = meta.get_type_system()\n",
      "    if not (isinstance(fun.type, types.SetType) \n",
      "            and isinstance(arg.type, types.SetType)):\n",
      "        raise types.TypeMismatch(fun, arg, \"Pointwise Function Application\")\n",
      "    if not (ts.fun_arg_check_types_bool(fun.type.content_type, arg.type.content_type)):\n",
      "        raise types.TypeMismatch(fun, arg, \"Pointwise Function Application\")\n",
      "    return pfa_combinator(fun.type.content_type, arg.type.content_type)(fun)(arg)\n",
      "\n",
      "system = lang.td_system.copy()\n",
      "system.add_rule(lang.binary_factory(pfa_worstcase, \"PFA\"))\n",
      "lang.set_system(system)\n",
      "system"
     ],
     "language": "python",
     "metadata": {},
     "outputs": [
      {
       "latex": [
        "Composition system 'H&K simple (copy)'<br />Operations: FA, PM, PA, PFA"
       ],
       "metadata": {},
       "output_type": "pyout",
       "prompt_number": 68,
       "text": [
        "Composition system: H&K simple (copy)"
       ]
      }
     ],
     "prompt_number": 68
    },
    {
     "cell_type": "code",
     "collapsed": false,
     "input": [
      "john * cat"
     ],
     "language": "python",
     "metadata": {},
     "outputs": [
      {
       "latex": [
        "1 composition path.  Result:\n",
        "<br />&nbsp;&nbsp;&nbsp;&nbsp;[0]: $||\\mathbf{\\text{[cat john]}}||^{}_{\\{\\langle{}s,t\\rangle{}\\}} \\:=\\: $$\\{x_{\\langle{}s,t\\rangle{}}\\:|\\: \\exists{} f1_{\\langle{}e,\\langle{}s,t\\rangle{}\\rangle{}} \\: . \\: \\exists{} a1_{e} \\: . \\: ((({f1}_{\\langle{}e,\\langle{}s,t\\rangle{}\\rangle{}} \\in{} \\{\\lambda{} x_{e} \\: . \\: \\lambda{} w_{s} \\: . \\: {Cat}({w}_{s}, {x}_{e})\\}) \\wedge{} ({a1}_{e} \\in{} \\{{J}_{e}\\})) \\wedge{} ({x}_{\\langle{}s,t\\rangle{}} = {f1}_{\\langle{}e,\\langle{}s,t\\rangle{}\\rangle{}}({a1}_{e})))\\}$"
       ],
       "metadata": {},
       "output_type": "pyout",
       "prompt_number": 69,
       "text": [
        "CompositionResult(results=[||[cat john]|| = (Set x_<s,t>: (Exists f1_<e,<s,t>>: (Exists a1_e: (((f1_<e,<s,t>> \u2208 ListedSet : ((\u03bb x_e: (\u03bb w_s: Cat_<(s,e),t>(w_s, x_e))),)) & (a1_e \u2208 ListedSet : (J_e,))) & (x_<s,t> == f1_<e,<s,t>>(a1_e))))))], failures=[||[john cat]|| = Type mismatch: '||john|| = ListedSet : (J_e,)'/{e} and '||cat|| = ListedSet : ((\u03bb x_e: (\u03bb w_s: Cat_<(s,e),t>(w_s, x_e))),)'/{<e,<s,t>>} conflict (mode: Function Application), ||[cat john]|| = Type mismatch: '||cat|| = ListedSet : ((\u03bb x_e: (\u03bb w_s: Cat_<(s,e),t>(w_s, x_e))),)'/{<e,<s,t>>} and '||john|| = ListedSet : (J_e,)'/{e} conflict (mode: Function Application), ||[john cat]|| = Type mismatch: '||john|| = ListedSet : (J_e,)'/{e} and '||cat|| = ListedSet : ((\u03bb x_e: (\u03bb w_s: Cat_<(s,e),t>(w_s, x_e))),)'/{<e,<s,t>>} conflict (mode: Predicate Modification), ||[john cat]|| = Type mismatch: '||john|| = ListedSet : (J_e,)'/{e} and '||cat|| = ListedSet : ((\u03bb x_e: (\u03bb w_s: Cat_<(s,e),t>(w_s, x_e))),)'/{<e,<s,t>>} conflict (mode: Predicate Abstraction), ||[cat john]|| = Type mismatch: '||cat|| = ListedSet : ((\u03bb x_e: (\u03bb w_s: Cat_<(s,e),t>(w_s, x_e))),)'/{<e,<s,t>>} and '||john|| = ListedSet : (J_e,)'/{e} conflict (mode: Predicate Abstraction), ||[john cat]|| = Type mismatch: 'ListedSet : (J_e,)'/{e} and 'ListedSet : ((\u03bb x_e: (\u03bb w_s: Cat_<(s,e),t>(w_s, x_e))),)'/{<e,<s,t>>} conflict (mode: Pointwise Function Application)])"
       ]
      }
     ],
     "prompt_number": 69
    },
    {
     "cell_type": "markdown",
     "metadata": {},
     "source": [
      "Instead of automatically simplifying things, I'll exploit the fact that sets are represented differently (as a list) if they are finite, so we can special-case PFA for ListedSets, and fall back on the combinator for the general case.\n",
      "\n",
      "Note that some limited reduction does occur with the $\\in$ operator; $x \\in \\{y \\:|\\: \\phi\\}$ gets converted to $(\\lambda y : \\phi)(x)$ and reduced, illustrated in the next cell."
     ]
    },
    {
     "cell_type": "code",
     "collapsed": false,
     "input": [
      "r = te(\"x_e << (Set y_e : Test_<e,t>(y))\")\n",
      "r.reduce_all().derivation"
     ],
     "language": "python",
     "metadata": {},
     "outputs": [
      {
       "latex": [
        "<table><tr><td style=\"padding-right:5px\"> 1. </td><td style=\"padding-right:5px\">$({x}_{e} \\in{} \\{y_{e}\\:|\\: {Test}({y}_{e})\\})$</td><td style=\"padding-left:10px;border-left:1px solid #848482\"></td></tr><tr><td style=\"padding-right:5px\"> 2. </td><td style=\"padding-right:5px\">${Test}({x}_{e})$</td><td style=\"padding-left:10px;border-left:1px solid #848482\">\u2208 reduction</td></tr></table>"
       ],
       "metadata": {},
       "output_type": "pyout",
       "prompt_number": 75,
       "text": [
        "<lamb.meta.Derivation at 0x107cae050>"
       ]
      }
     ],
     "prompt_number": 75
    },
    {
     "cell_type": "code",
     "collapsed": false,
     "input": [
      "def pfa_listed(fun, arg):\n",
      "    result = list()\n",
      "    for felem in fun.args:\n",
      "        for aelem in arg.args:\n",
      "            result.append(felem(aelem))\n",
      "    return meta.ListedSet(result)\n",
      "\n",
      "def pfa_general(fun, arg):\n",
      "    ts = meta.get_type_system()\n",
      "    if not (isinstance(fun.type, types.SetType) \n",
      "            and isinstance(arg.type, types.SetType)):\n",
      "        raise types.TypeMismatch(fun, arg, \"Pointwise Function Application\")\n",
      "    if not (ts.fun_arg_check_types_bool(fun.type.content_type, arg.type.content_type)):\n",
      "        raise types.TypeMismatch(fun, arg, \"Pointwise Function Application\")\n",
      "    if isinstance(fun, meta.ListedSet) and isinstance(arg, meta.ListedSet):\n",
      "        return pfa_listed(fun, arg)\n",
      "    else:\n",
      "        return pfa_combinator(fun.type.content_type, arg.type.content_type)(fun)(arg)\n",
      "    \n",
      "system = lang.td_system.copy()\n",
      "system.add_rule(lang.binary_factory(pfa_general, \"PFA\", reduce=True))\n",
      "lang.set_system(system)\n",
      "system"
     ],
     "language": "python",
     "metadata": {},
     "outputs": [
      {
       "latex": [
        "Composition system 'H&K simple (copy)'<br />Operations: FA, PM, PA, PFA"
       ],
       "metadata": {},
       "output_type": "pyout",
       "prompt_number": 76,
       "text": [
        "Composition system: H&K simple (copy)"
       ]
      }
     ],
     "prompt_number": 76
    },
    {
     "cell_type": "code",
     "collapsed": false,
     "input": [
      "john * cat"
     ],
     "language": "python",
     "metadata": {},
     "outputs": [
      {
       "latex": [
        "1 composition path.  Result:\n",
        "<br />&nbsp;&nbsp;&nbsp;&nbsp;[0]: $||\\mathbf{\\text{[cat john]}}||^{}_{\\{\\langle{}s,t\\rangle{}\\}} \\:=\\: $$\\{\\lambda{} w_{s} \\: . \\: {Cat}({w}_{s}, {J}_{e})\\}$"
       ],
       "metadata": {},
       "output_type": "pyout",
       "prompt_number": 77,
       "text": [
        "CompositionResult(results=[||[cat john]|| = ListedSet : ((\u03bb w_s: Cat_<(s,e),t>(w_s, J_e)),)], failures=[||[john cat]|| = Type mismatch: '||john|| = ListedSet : (J_e,)'/{e} and '||cat|| = ListedSet : ((\u03bb x_e: (\u03bb w_s: Cat_<(s,e),t>(w_s, x_e))),)'/{<e,<s,t>>} conflict (mode: Function Application), ||[cat john]|| = Type mismatch: '||cat|| = ListedSet : ((\u03bb x_e: (\u03bb w_s: Cat_<(s,e),t>(w_s, x_e))),)'/{<e,<s,t>>} and '||john|| = ListedSet : (J_e,)'/{e} conflict (mode: Function Application), ||[john cat]|| = Type mismatch: '||john|| = ListedSet : (J_e,)'/{e} and '||cat|| = ListedSet : ((\u03bb x_e: (\u03bb w_s: Cat_<(s,e),t>(w_s, x_e))),)'/{<e,<s,t>>} conflict (mode: Predicate Modification), ||[john cat]|| = Type mismatch: '||john|| = ListedSet : (J_e,)'/{e} and '||cat|| = ListedSet : ((\u03bb x_e: (\u03bb w_s: Cat_<(s,e),t>(w_s, x_e))),)'/{<e,<s,t>>} conflict (mode: Predicate Abstraction), ||[cat john]|| = Type mismatch: '||cat|| = ListedSet : ((\u03bb x_e: (\u03bb w_s: Cat_<(s,e),t>(w_s, x_e))),)'/{<e,<s,t>>} and '||john|| = ListedSet : (J_e,)'/{e} conflict (mode: Predicate Abstraction), ||[john cat]|| = Type mismatch: 'ListedSet : (J_e,)'/{e} and 'ListedSet : ((\u03bb x_e: (\u03bb w_s: Cat_<(s,e),t>(w_s, x_e))),)'/{<e,<s,t>>} conflict (mode: Pointwise Function Application)])"
       ]
      }
     ],
     "prompt_number": 77
    },
    {
     "cell_type": "code",
     "collapsed": false,
     "input": [
      "%%lamb\n",
      "||who|| = Set x_e : Human(x)"
     ],
     "language": "python",
     "metadata": {},
     "outputs": [
      {
       "output_type": "stream",
       "stream": "stderr",
       "text": [
        "INFO (meta): Coerced guessed type t for 'Human_t' into <e,t>, to match argument 'x_e'\n"
       ]
      },
      {
       "latex": [
        "$||\\mathbf{\\text{who}}||^{}_{\\{e\\}} \\:=\\: \\{x_{e}\\:|\\: {Human}({x}_{e})\\}$"
       ],
       "metadata": {},
       "output_type": "pyout",
       "prompt_number": 78,
       "text": [
        "$||\\mathbf{\\text{who}}||^{}_{\\{e\\}} \\:=\\: \\{x_{e}\\:|\\: {Human}({x}_{e})\\}$"
       ]
      }
     ],
     "prompt_number": 78
    },
    {
     "cell_type": "code",
     "collapsed": false,
     "input": [
      "(cat * who).latex_step_tree()"
     ],
     "language": "python",
     "metadata": {},
     "outputs": [
      {
       "latex": [
        "1 composition path:<br /><table><tr><td style=\"vertical-align:bottom;padding:0px 10px\" align=\"center\"><table><tr><td style=\"vertical-align:bottom\"><table align=\"center\"><tr><td align=\"center\">$||\\mathbf{\\text{cat}}||^{}_{\\{\\langle{}e,\\langle{}s,t\\rangle{}\\rangle{}\\}}$</td></tr><tr><td align=\"center\">$\\{\\lambda{} x_{e} \\: . \\: \\lambda{} w_{s} \\: . \\: {Cat}({w}_{s}, {x}_{e})\\}$</td></tr></table>\n",
        "</td><td style=\"vertical-align:bottom;padding-bottom:5px\">&nbsp;&nbsp;&nbsp;$\\circ$&nbsp;&nbsp;&nbsp;</td><td style=\"vertical-align:bottom\"><table align=\"center\"><tr><td align=\"center\">$||\\mathbf{\\text{who}}||^{}_{\\{e\\}}$</td></tr><tr><td align=\"center\">$\\{x_{e}\\:|\\: {Human}({x}_{e})\\}$</td></tr></table>\n",
        "</td></tr></table></td><td style=\"vertical-align:bottom;padding-bottom:5px;padding-left:10px\"><b>[PFA]</b></td></tr><tr style=\"border-top: 1px solid #848482\"><td align=\"center\"><table style=\"margin-top:10px\"><tr><td style=\"vertical-align:bottom\" align=\"center\">$||\\mathbf{\\text{[cat who]}}||^{}_{\\{\\langle{}s,t\\rangle{}\\}}$</td></tr><tr><td style=\"vertical-align:bottom\" align=\"center\">$ = \\{x_{\\langle{}s,t\\rangle{}}\\:|\\: \\exists{} f1_{\\langle{}e,\\langle{}s,t\\rangle{}\\rangle{}} \\: . \\: \\exists{} a1_{e} \\: . \\: ((({f1}_{\\langle{}e,\\langle{}s,t\\rangle{}\\rangle{}} \\in{} \\{\\lambda{} x_{e} \\: . \\: \\lambda{} w_{s} \\: . \\: {Cat}({w}_{s}, {x}_{e})\\}) \\wedge{} {Human}({a1}_{e})) \\wedge{} ({x}_{\\langle{}s,t\\rangle{}} = {f1}_{\\langle{}e,\\langle{}s,t\\rangle{}\\rangle{}}({a1}_{e})))\\}$</td></tr></table>\n",
        "</td><td></td></tr></table>\n",
        "<br /><br />"
       ],
       "metadata": {},
       "output_type": "pyout",
       "prompt_number": 79,
       "text": [
        "1 composition path:<br /><table><tr><td style=\"vertical-align:bottom;padding:0px 10px\" align=\"center\"><table><tr><td style=\"vertical-align:bottom\"><table align=\"center\"><tr><td align=\"center\">$||\\mathbf{\\text{cat}}||^{}_{\\{\\langle{}e,\\langle{}s,t\\rangle{}\\rangle{}\\}}$</td></tr><tr><td align=\"center\">$\\{\\lambda{} x_{e} \\: . \\: \\lambda{} w_{s} \\: . \\: {Cat}({w}_{s}, {x}_{e})\\}$</td></tr></table>\n",
        "</td><td style=\"vertical-align:bottom;padding-bottom:5px\">&nbsp;&nbsp;&nbsp;$\\circ$&nbsp;&nbsp;&nbsp;</td><td style=\"vertical-align:bottom\"><table align=\"center\"><tr><td align=\"center\">$||\\mathbf{\\text{who}}||^{}_{\\{e\\}}$</td></tr><tr><td align=\"center\">$\\{x_{e}\\:|\\: {Human}({x}_{e})\\}$</td></tr></table>\n",
        "</td></tr></table></td><td style=\"vertical-align:bottom;padding-bottom:5px;padding-left:10px\"><b>[PFA]</b></td></tr><tr style=\"border-top: 1px solid #848482\"><td align=\"center\"><table style=\"margin-top:10px\"><tr><td style=\"vertical-align:bottom\" align=\"center\">$||\\mathbf{\\text{[cat who]}}||^{}_{\\{\\langle{}s,t\\rangle{}\\}}$</td></tr><tr><td style=\"vertical-align:bottom\" align=\"center\">$ = \\{x_{\\langle{}s,t\\rangle{}}\\:|\\: \\exists{} f1_{\\langle{}e,\\langle{}s,t\\rangle{}\\rangle{}} \\: . \\: \\exists{} a1_{e} \\: . \\: ((({f1}_{\\langle{}e,\\langle{}s,t\\rangle{}\\rangle{}} \\in{} \\{\\lambda{} x_{e} \\: . \\: \\lambda{} w_{s} \\: . \\: {Cat}({w}_{s}, {x}_{e})\\}) \\wedge{} {Human}({a1}_{e})) \\wedge{} ({x}_{\\langle{}s,t\\rangle{}} = {f1}_{\\langle{}e,\\langle{}s,t\\rangle{}\\rangle{}}({a1}_{e})))\\}$</td></tr></table>\n",
        "</td><td></td></tr></table>\n",
        "<br /><br />"
       ]
      }
     ],
     "prompt_number": 79
    },
    {
     "cell_type": "code",
     "collapsed": false,
     "input": [
      "%%lamb\n",
      "||saw|| =<hamblin> L x_e : L y_e : L w_s : Saw(w,y,x)"
     ],
     "language": "python",
     "metadata": {},
     "outputs": [
      {
       "output_type": "stream",
       "stream": "stderr",
       "text": [
        "INFO (meta): Coerced guessed type t for 'Saw_t' into <(s,e,e),t>, to match argument '(w_s, y_e, x_e)'\n"
       ]
      },
      {
       "latex": [
        "$||\\mathbf{\\text{saw}}||^{}_{\\{\\langle{}e,\\langle{}e,\\langle{}s,t\\rangle{}\\rangle{}\\rangle{}\\}} \\:=\\: \\{\\lambda{} x_{e} \\: . \\: \\lambda{} y_{e} \\: . \\: \\lambda{} w_{s} \\: . \\: {Saw}({w}_{s}, {y}_{e}, {x}_{e})\\}$"
       ],
       "metadata": {},
       "output_type": "pyout",
       "prompt_number": 80,
       "text": [
        "$||\\mathbf{\\text{saw}}||^{}_{\\{\\langle{}e,\\langle{}e,\\langle{}s,t\\rangle{}\\rangle{}\\rangle{}\\}} \\:=\\: \\{\\lambda{} x_{e} \\: . \\: \\lambda{} y_{e} \\: . \\: \\lambda{} w_{s} \\: . \\: {Saw}({w}_{s}, {y}_{e}, {x}_{e})\\}$"
       ]
      }
     ],
     "prompt_number": 80
    },
    {
     "cell_type": "code",
     "collapsed": false,
     "input": [
      "john * (saw * who)"
     ],
     "language": "python",
     "metadata": {},
     "outputs": [
      {
       "latex": [
        "1 composition path.  Result:\n",
        "<br />&nbsp;&nbsp;&nbsp;&nbsp;[0]: $||\\mathbf{\\text{[[saw who] john]}}||^{}_{\\{\\langle{}s,t\\rangle{}\\}} \\:=\\: $$\\{x_{\\langle{}s,t\\rangle{}}\\:|\\: \\exists{} f1_{\\langle{}e,\\langle{}s,t\\rangle{}\\rangle{}} \\: . \\: \\exists{} a1_{e} \\: . \\: ((\\exists{} f2_{\\langle{}e,\\langle{}e,\\langle{}s,t\\rangle{}\\rangle{}\\rangle{}} \\: . \\: \\exists{} a1_{e} \\: . \\: ((({f2}_{\\langle{}e,\\langle{}e,\\langle{}s,t\\rangle{}\\rangle{}\\rangle{}} \\in{} \\{\\lambda{} x_{e} \\: . \\: \\lambda{} y_{e} \\: . \\: \\lambda{} w_{s} \\: . \\: {Saw}({w}_{s}, {y}_{e}, {x}_{e})\\}) \\wedge{} {Human}({a1}_{e})) \\wedge{} ({f1}_{\\langle{}e,\\langle{}s,t\\rangle{}\\rangle{}} = {f2}_{\\langle{}e,\\langle{}e,\\langle{}s,t\\rangle{}\\rangle{}\\rangle{}}({a1}_{e}))) \\wedge{} ({a1}_{e} \\in{} \\{{J}_{e}\\})) \\wedge{} ({x}_{\\langle{}s,t\\rangle{}} = {f1}_{\\langle{}e,\\langle{}s,t\\rangle{}\\rangle{}}({a1}_{e})))\\}$"
       ],
       "metadata": {},
       "output_type": "pyout",
       "prompt_number": 81,
       "text": [
        "CompositionResult(results=[||[[saw who] john]|| = (Set x_<s,t>: (Exists f1_<e,<s,t>>: (Exists a1_e: (((Exists f2_<e,<e,<s,t>>>: (Exists a1_e: (((f2_<e,<e,<s,t>>> \u2208 ListedSet : ((\u03bb x_e: (\u03bb y_e: (\u03bb w_s: Saw_<(s,e,e),t>(w_s, y_e, x_e)))),)) & Human_<e,t>(a1_e)) & (f1_<e,<s,t>> == f2_<e,<e,<s,t>>>(a1_e))))) & (a1_e \u2208 ListedSet : (J_e,))) & (x_<s,t> == f1_<e,<s,t>>(a1_e))))))], failures=[||[john [saw who]]|| = Type mismatch: '||john|| = ListedSet : (J_e,)'/{e} and '||[saw who]|| = (Set x_<e,<s,t>>: (Exists f1_<e,<e,<s,t>>>: (Exists a1_e: (((f1_<e,<e,<s,t>>> \u2208 ListedSet : ((\u03bb x_e: (\u03bb y_e: (\u03bb w_s: Saw_<(s,e,e),t>(w_s, y_e, x_e)))),)) & Human_<e,t>(a1_e)) & (x_<e,<s,t>> == f1_<e,<e,<s,t>>>(a1_e))))))'/{<e,<s,t>>} conflict (mode: Function Application), ||[[saw who] john]|| = Type mismatch: '||[saw who]|| = (Set x_<e,<s,t>>: (Exists f1_<e,<e,<s,t>>>: (Exists a1_e: (((f1_<e,<e,<s,t>>> \u2208 ListedSet : ((\u03bb x_e: (\u03bb y_e: (\u03bb w_s: Saw_<(s,e,e),t>(w_s, y_e, x_e)))),)) & Human_<e,t>(a1_e)) & (x_<e,<s,t>> == f1_<e,<e,<s,t>>>(a1_e))))))'/{<e,<s,t>>} and '||john|| = ListedSet : (J_e,)'/{e} conflict (mode: Function Application), ||[john [saw who]]|| = Type mismatch: '||john|| = ListedSet : (J_e,)'/{e} and '||[saw who]|| = (Set x_<e,<s,t>>: (Exists f1_<e,<e,<s,t>>>: (Exists a1_e: (((f1_<e,<e,<s,t>>> \u2208 ListedSet : ((\u03bb x_e: (\u03bb y_e: (\u03bb w_s: Saw_<(s,e,e),t>(w_s, y_e, x_e)))),)) & Human_<e,t>(a1_e)) & (x_<e,<s,t>> == f1_<e,<e,<s,t>>>(a1_e))))))'/{<e,<s,t>>} conflict (mode: Predicate Modification), ||[john [saw who]]|| = Type mismatch: '||john|| = ListedSet : (J_e,)'/{e} and '||[saw who]|| = (Set x_<e,<s,t>>: (Exists f1_<e,<e,<s,t>>>: (Exists a1_e: (((f1_<e,<e,<s,t>>> \u2208 ListedSet : ((\u03bb x_e: (\u03bb y_e: (\u03bb w_s: Saw_<(s,e,e),t>(w_s, y_e, x_e)))),)) & Human_<e,t>(a1_e)) & (x_<e,<s,t>> == f1_<e,<e,<s,t>>>(a1_e))))))'/{<e,<s,t>>} conflict (mode: Predicate Abstraction), ||[[saw who] john]|| = Type mismatch: '||[saw who]|| = (Set x_<e,<s,t>>: (Exists f1_<e,<e,<s,t>>>: (Exists a1_e: (((f1_<e,<e,<s,t>>> \u2208 ListedSet : ((\u03bb x_e: (\u03bb y_e: (\u03bb w_s: Saw_<(s,e,e),t>(w_s, y_e, x_e)))),)) & Human_<e,t>(a1_e)) & (x_<e,<s,t>> == f1_<e,<e,<s,t>>>(a1_e))))))'/{<e,<s,t>>} and '||john|| = ListedSet : (J_e,)'/{e} conflict (mode: Predicate Abstraction), ||[john [saw who]]|| = Type mismatch: 'ListedSet : (J_e,)'/{e} and '(Set x_<e,<s,t>>: (Exists f1_<e,<e,<s,t>>>: (Exists a1_e: (((f1_<e,<e,<s,t>>> \u2208 ListedSet : ((\u03bb x_e: (\u03bb y_e: (\u03bb w_s: Saw_<(s,e,e),t>(w_s, y_e, x_e)))),)) & Human_<e,t>(a1_e)) & (x_<e,<s,t>> == f1_<e,<e,<s,t>>>(a1_e))))))'/{<e,<s,t>>} conflict (mode: Pointwise Function Application)])"
       ]
      }
     ],
     "prompt_number": 81
    },
    {
     "cell_type": "code",
     "collapsed": false,
     "input": [
      "who * (saw * john)"
     ],
     "language": "python",
     "metadata": {},
     "outputs": [
      {
       "latex": [
        "1 composition path.  Result:\n",
        "<br />&nbsp;&nbsp;&nbsp;&nbsp;[0]: $||\\mathbf{\\text{[[saw john] who]}}||^{}_{\\{\\langle{}s,t\\rangle{}\\}} \\:=\\: $$\\{x_{\\langle{}s,t\\rangle{}}\\:|\\: \\exists{} f1_{\\langle{}e,\\langle{}s,t\\rangle{}\\rangle{}} \\: . \\: \\exists{} a1_{e} \\: . \\: ((({f1}_{\\langle{}e,\\langle{}s,t\\rangle{}\\rangle{}} \\in{} \\{\\lambda{} y_{e} \\: . \\: \\lambda{} w_{s} \\: . \\: {Saw}({w}_{s}, {y}_{e}, {J}_{e})\\}) \\wedge{} {Human}({a1}_{e})) \\wedge{} ({x}_{\\langle{}s,t\\rangle{}} = {f1}_{\\langle{}e,\\langle{}s,t\\rangle{}\\rangle{}}({a1}_{e})))\\}$"
       ],
       "metadata": {},
       "output_type": "pyout",
       "prompt_number": 82,
       "text": [
        "CompositionResult(results=[||[[saw john] who]|| = (Set x_<s,t>: (Exists f1_<e,<s,t>>: (Exists a1_e: (((f1_<e,<s,t>> \u2208 ListedSet : ((\u03bb y_e: (\u03bb w_s: Saw_<(s,e,e),t>(w_s, y_e, J_e))),)) & Human_<e,t>(a1_e)) & (x_<s,t> == f1_<e,<s,t>>(a1_e))))))], failures=[||[who [saw john]]|| = Type mismatch: '||who|| = (Set x_e: Human_<e,t>(x_e))'/{e} and '||[saw john]|| = ListedSet : ((\u03bb y_e: (\u03bb w_s: Saw_<(s,e,e),t>(w_s, y_e, J_e))),)'/{<e,<s,t>>} conflict (mode: Function Application), ||[[saw john] who]|| = Type mismatch: '||[saw john]|| = ListedSet : ((\u03bb y_e: (\u03bb w_s: Saw_<(s,e,e),t>(w_s, y_e, J_e))),)'/{<e,<s,t>>} and '||who|| = (Set x_e: Human_<e,t>(x_e))'/{e} conflict (mode: Function Application), ||[who [saw john]]|| = Type mismatch: '||who|| = (Set x_e: Human_<e,t>(x_e))'/{e} and '||[saw john]|| = ListedSet : ((\u03bb y_e: (\u03bb w_s: Saw_<(s,e,e),t>(w_s, y_e, J_e))),)'/{<e,<s,t>>} conflict (mode: Predicate Modification), ||[who [saw john]]|| = Type mismatch: '||who|| = (Set x_e: Human_<e,t>(x_e))'/{e} and '||[saw john]|| = ListedSet : ((\u03bb y_e: (\u03bb w_s: Saw_<(s,e,e),t>(w_s, y_e, J_e))),)'/{<e,<s,t>>} conflict (mode: Predicate Abstraction), ||[[saw john] who]|| = Type mismatch: '||[saw john]|| = ListedSet : ((\u03bb y_e: (\u03bb w_s: Saw_<(s,e,e),t>(w_s, y_e, J_e))),)'/{<e,<s,t>>} and '||who|| = (Set x_e: Human_<e,t>(x_e))'/{e} conflict (mode: Predicate Abstraction), ||[who [saw john]]|| = Type mismatch: '(Set x_e: Human_<e,t>(x_e))'/{e} and 'ListedSet : ((\u03bb y_e: (\u03bb w_s: Saw_<(s,e,e),t>(w_s, y_e, J_e))),)'/{<e,<s,t>>} conflict (mode: Pointwise Function Application)])"
       ]
      }
     ],
     "prompt_number": 82
    },
    {
     "cell_type": "code",
     "collapsed": false,
     "input": [
      "%%lamb\n",
      "||HExists|| = L p_{<s,t>} : {(Lambda w_s  : Exists q_<s,t> : q(w) & (q << p))}\n",
      "||HForall|| = L p_{<s,t>} : {(Lambda w_s  : Forall q_<s,t> : q(w) >> (q << p))}"
     ],
     "language": "python",
     "metadata": {},
     "outputs": [
      {
       "latex": [
        "$||\\mathbf{\\text{HExists}}||^{}_{\\langle{}\\{\\langle{}s,t\\rangle{}\\},\\{\\langle{}s,t\\rangle{}\\}\\rangle{}} \\:=\\: \\lambda{} p_{\\{\\langle{}s,t\\rangle{}\\}} \\: . \\: \\{\\lambda{} w_{s} \\: . \\: \\exists{} q_{\\langle{}s,t\\rangle{}} \\: . \\: ({q}_{\\langle{}s,t\\rangle{}}({w}_{s}) \\wedge{} ({q}_{\\langle{}s,t\\rangle{}} \\in{} {p}_{\\{\\langle{}s,t\\rangle{}\\}}))\\}$<br />\n",
        "$||\\mathbf{\\text{HForall}}||^{}_{\\langle{}\\{\\langle{}s,t\\rangle{}\\},\\{\\langle{}s,t\\rangle{}\\}\\rangle{}} \\:=\\: \\lambda{} p_{\\{\\langle{}s,t\\rangle{}\\}} \\: . \\: \\{\\lambda{} w_{s} \\: . \\: \\forall{} q_{\\langle{}s,t\\rangle{}} \\: . \\: ({q}_{\\langle{}s,t\\rangle{}}({w}_{s}) \\rightarrow{} ({q}_{\\langle{}s,t\\rangle{}} \\in{} {p}_{\\{\\langle{}s,t\\rangle{}\\}}))\\}$"
       ],
       "metadata": {},
       "output_type": "pyout",
       "prompt_number": 83,
       "text": [
        "$||\\mathbf{\\text{HExists}}||^{}_{\\langle{}\\{\\langle{}s,t\\rangle{}\\},\\{\\langle{}s,t\\rangle{}\\}\\rangle{}} \\:=\\: \\lambda{} p_{\\{\\langle{}s,t\\rangle{}\\}} \\: . \\: \\{\\lambda{} w_{s} \\: . \\: \\exists{} q_{\\langle{}s,t\\rangle{}} \\: . \\: ({q}_{\\langle{}s,t\\rangle{}}({w}_{s}) \\wedge{} ({q}_{\\langle{}s,t\\rangle{}} \\in{} {p}_{\\{\\langle{}s,t\\rangle{}\\}}))\\}$<br />\n",
        "$||\\mathbf{\\text{HForall}}||^{}_{\\langle{}\\{\\langle{}s,t\\rangle{}\\},\\{\\langle{}s,t\\rangle{}\\}\\rangle{}} \\:=\\: \\lambda{} p_{\\{\\langle{}s,t\\rangle{}\\}} \\: . \\: \\{\\lambda{} w_{s} \\: . \\: \\forall{} q_{\\langle{}s,t\\rangle{}} \\: . \\: ({q}_{\\langle{}s,t\\rangle{}}({w}_{s}) \\rightarrow{} ({q}_{\\langle{}s,t\\rangle{}} \\in{} {p}_{\\{\\langle{}s,t\\rangle{}\\}}))\\}$"
       ]
      }
     ],
     "prompt_number": 83
    },
    {
     "cell_type": "code",
     "collapsed": false,
     "input": [
      "HExists * (who * (saw * john))"
     ],
     "language": "python",
     "metadata": {},
     "outputs": [
      {
       "latex": [
        "1 composition path.  Result:\n",
        "<br />&nbsp;&nbsp;&nbsp;&nbsp;[0]: $||\\mathbf{\\text{[HExists [[saw john] who]]}}||^{}_{\\{\\langle{}s,t\\rangle{}\\}} \\:=\\: $$\\{\\lambda{} w_{s} \\: . \\: \\exists{} q_{\\langle{}s,t\\rangle{}} \\: . \\: ({q}_{\\langle{}s,t\\rangle{}}({w}_{s}) \\wedge{} \\exists{} f1_{\\langle{}e,\\langle{}s,t\\rangle{}\\rangle{}} \\: . \\: \\exists{} a1_{e} \\: . \\: ((({f1}_{\\langle{}e,\\langle{}s,t\\rangle{}\\rangle{}} \\in{} \\{\\lambda{} y_{e} \\: . \\: \\lambda{} w_{s} \\: . \\: {Saw}({w}_{s}, {y}_{e}, {J}_{e})\\}) \\wedge{} {Human}({a1}_{e})) \\wedge{} ({q}_{\\langle{}s,t\\rangle{}} = {f1}_{\\langle{}e,\\langle{}s,t\\rangle{}\\rangle{}}({a1}_{e}))))\\}$"
       ],
       "metadata": {},
       "output_type": "pyout",
       "prompt_number": 84,
       "text": [
        "CompositionResult(results=[||[HExists [[saw john] who]]|| = ListedSet : ((\u03bb w_s: (Exists q_<s,t>: (q_<s,t>(w_s) & (Exists f1_<e,<s,t>>: (Exists a1_e: (((f1_<e,<s,t>> \u2208 ListedSet : ((\u03bb y_e: (\u03bb w_s: Saw_<(s,e,e),t>(w_s, y_e, J_e))),)) & Human_<e,t>(a1_e)) & (q_<s,t> == f1_<e,<s,t>>(a1_e)))))))),)], failures=[||[[[saw john] who] HExists]|| = Type mismatch: '||[[saw john] who]|| = (Set x_<s,t>: (Exists f1_<e,<s,t>>: (Exists a1_e: (((f1_<e,<s,t>> \u2208 ListedSet : ((\u03bb y_e: (\u03bb w_s: Saw_<(s,e,e),t>(w_s, y_e, J_e))),)) & Human_<e,t>(a1_e)) & (x_<s,t> == f1_<e,<s,t>>(a1_e))))))'/{<s,t>} and '||HExists|| = (\u03bb p_{<s,t>}: ListedSet : ((\u03bb w_s: (Exists q_<s,t>: (q_<s,t>(w_s) & (q_<s,t> \u2208 p_{<s,t>})))),))'/<{<s,t>},{<s,t>}> conflict (mode: Function Application), ||[HExists [[saw john] who]]|| = Type mismatch: '||HExists|| = (\u03bb p_{<s,t>}: ListedSet : ((\u03bb w_s: (Exists q_<s,t>: (q_<s,t>(w_s) & (q_<s,t> \u2208 p_{<s,t>})))),))'/<{<s,t>},{<s,t>}> and '||[[saw john] who]|| = (Set x_<s,t>: (Exists f1_<e,<s,t>>: (Exists a1_e: (((f1_<e,<s,t>> \u2208 ListedSet : ((\u03bb y_e: (\u03bb w_s: Saw_<(s,e,e),t>(w_s, y_e, J_e))),)) & Human_<e,t>(a1_e)) & (x_<s,t> == f1_<e,<s,t>>(a1_e))))))'/{<s,t>} conflict (mode: Predicate Modification), ||[HExists [[saw john] who]]|| = Type mismatch: '||HExists|| = (\u03bb p_{<s,t>}: ListedSet : ((\u03bb w_s: (Exists q_<s,t>: (q_<s,t>(w_s) & (q_<s,t> \u2208 p_{<s,t>})))),))'/<{<s,t>},{<s,t>}> and '||[[saw john] who]|| = (Set x_<s,t>: (Exists f1_<e,<s,t>>: (Exists a1_e: (((f1_<e,<s,t>> \u2208 ListedSet : ((\u03bb y_e: (\u03bb w_s: Saw_<(s,e,e),t>(w_s, y_e, J_e))),)) & Human_<e,t>(a1_e)) & (x_<s,t> == f1_<e,<s,t>>(a1_e))))))'/{<s,t>} conflict (mode: Predicate Abstraction), ||[[[saw john] who] HExists]|| = Type mismatch: '||[[saw john] who]|| = (Set x_<s,t>: (Exists f1_<e,<s,t>>: (Exists a1_e: (((f1_<e,<s,t>> \u2208 ListedSet : ((\u03bb y_e: (\u03bb w_s: Saw_<(s,e,e),t>(w_s, y_e, J_e))),)) & Human_<e,t>(a1_e)) & (x_<s,t> == f1_<e,<s,t>>(a1_e))))))'/{<s,t>} and '||HExists|| = (\u03bb p_{<s,t>}: ListedSet : ((\u03bb w_s: (Exists q_<s,t>: (q_<s,t>(w_s) & (q_<s,t> \u2208 p_{<s,t>})))),))'/<{<s,t>},{<s,t>}> conflict (mode: Predicate Abstraction), ||[HExists [[saw john] who]]|| = Type mismatch: '(\u03bb p_{<s,t>}: ListedSet : ((\u03bb w_s: (Exists q_<s,t>: (q_<s,t>(w_s) & (q_<s,t> \u2208 p_{<s,t>})))),))'/<{<s,t>},{<s,t>}> and '(Set x_<s,t>: (Exists f1_<e,<s,t>>: (Exists a1_e: (((f1_<e,<s,t>> \u2208 ListedSet : ((\u03bb y_e: (\u03bb w_s: Saw_<(s,e,e),t>(w_s, y_e, J_e))),)) & Human_<e,t>(a1_e)) & (x_<s,t> == f1_<e,<s,t>>(a1_e))))))'/{<s,t>} conflict (mode: Pointwise Function Application), ||[[[saw john] who] HExists]|| = Type mismatch: '(Set x_<s,t>: (Exists f1_<e,<s,t>>: (Exists a1_e: (((f1_<e,<s,t>> \u2208 ListedSet : ((\u03bb y_e: (\u03bb w_s: Saw_<(s,e,e),t>(w_s, y_e, J_e))),)) & Human_<e,t>(a1_e)) & (x_<s,t> == f1_<e,<s,t>>(a1_e))))))'/{<s,t>} and '(\u03bb p_{<s,t>}: ListedSet : ((\u03bb w_s: (Exists q_<s,t>: (q_<s,t>(w_s) & (q_<s,t> \u2208 p_{<s,t>})))),))'/<{<s,t>},{<s,t>}> conflict (mode: Pointwise Function Application)])"
       ]
      }
     ],
     "prompt_number": 84
    },
    {
     "cell_type": "markdown",
     "metadata": {},
     "source": [
      "The above formulas are somewhat involved, so it is slightly more convenient to simply define a toy example with a finite set of individuals:"
     ]
    },
    {
     "cell_type": "code",
     "collapsed": false,
     "input": [
      "%%lamb\n",
      "||who2|| = {John_e, Mary_e, Sue_e}"
     ],
     "language": "python",
     "metadata": {},
     "outputs": [
      {
       "latex": [
        "$||\\mathbf{\\text{who2}}||^{}_{\\{e\\}} \\:=\\: \\{{John}_{e}, {Sue}_{e}, {Mary}_{e}\\}$"
       ],
       "metadata": {},
       "output_type": "pyout",
       "prompt_number": 85,
       "text": [
        "$||\\mathbf{\\text{who2}}||^{}_{\\{e\\}} \\:=\\: \\{{John}_{e}, {Sue}_{e}, {Mary}_{e}\\}$"
       ]
      }
     ],
     "prompt_number": 85
    },
    {
     "cell_type": "code",
     "collapsed": false,
     "input": [
      "HExists * (who2 * (saw * john))"
     ],
     "language": "python",
     "metadata": {},
     "outputs": [
      {
       "latex": [
        "1 composition path.  Result:\n",
        "<br />&nbsp;&nbsp;&nbsp;&nbsp;[0]: $||\\mathbf{\\text{[HExists [[saw john] who2]]}}||^{}_{\\{\\langle{}s,t\\rangle{}\\}} \\:=\\: $$\\{\\lambda{} w_{s} \\: . \\: \\exists{} q_{\\langle{}s,t\\rangle{}} \\: . \\: ({q}_{\\langle{}s,t\\rangle{}}({w}_{s}) \\wedge{} ({q}_{\\langle{}s,t\\rangle{}} \\in{} \\{\\lambda{} w_{s} \\: . \\: {Saw}({w}_{s}, {John}_{e}, {J}_{e}), \\lambda{} w_{s} \\: . \\: {Saw}({w}_{s}, {Sue}_{e}, {J}_{e}), \\lambda{} w_{s} \\: . \\: {Saw}({w}_{s}, {Mary}_{e}, {J}_{e})\\}))\\}$"
       ],
       "metadata": {},
       "output_type": "pyout",
       "prompt_number": 86,
       "text": [
        "CompositionResult(results=[||[HExists [[saw john] who2]]|| = ListedSet : ((\u03bb w_s: (Exists q_<s,t>: (q_<s,t>(w_s) & (q_<s,t> \u2208 ListedSet : ((\u03bb w_s: Saw_<(s,e,e),t>(w_s, John_e, J_e)), (\u03bb w_s: Saw_<(s,e,e),t>(w_s, Sue_e, J_e)), (\u03bb w_s: Saw_<(s,e,e),t>(w_s, Mary_e, J_e))))))),)], failures=[||[[[saw john] who2] HExists]|| = Type mismatch: '||[[saw john] who2]|| = ListedSet : ((\u03bb w_s: Saw_<(s,e,e),t>(w_s, John_e, J_e)), (\u03bb w_s: Saw_<(s,e,e),t>(w_s, Sue_e, J_e)), (\u03bb w_s: Saw_<(s,e,e),t>(w_s, Mary_e, J_e)))'/{<s,t>} and '||HExists|| = (\u03bb p_{<s,t>}: ListedSet : ((\u03bb w_s: (Exists q_<s,t>: (q_<s,t>(w_s) & (q_<s,t> \u2208 p_{<s,t>})))),))'/<{<s,t>},{<s,t>}> conflict (mode: Function Application), ||[HExists [[saw john] who2]]|| = Type mismatch: '||HExists|| = (\u03bb p_{<s,t>}: ListedSet : ((\u03bb w_s: (Exists q_<s,t>: (q_<s,t>(w_s) & (q_<s,t> \u2208 p_{<s,t>})))),))'/<{<s,t>},{<s,t>}> and '||[[saw john] who2]|| = ListedSet : ((\u03bb w_s: Saw_<(s,e,e),t>(w_s, John_e, J_e)), (\u03bb w_s: Saw_<(s,e,e),t>(w_s, Sue_e, J_e)), (\u03bb w_s: Saw_<(s,e,e),t>(w_s, Mary_e, J_e)))'/{<s,t>} conflict (mode: Predicate Modification), ||[HExists [[saw john] who2]]|| = Type mismatch: '||HExists|| = (\u03bb p_{<s,t>}: ListedSet : ((\u03bb w_s: (Exists q_<s,t>: (q_<s,t>(w_s) & (q_<s,t> \u2208 p_{<s,t>})))),))'/<{<s,t>},{<s,t>}> and '||[[saw john] who2]|| = ListedSet : ((\u03bb w_s: Saw_<(s,e,e),t>(w_s, John_e, J_e)), (\u03bb w_s: Saw_<(s,e,e),t>(w_s, Sue_e, J_e)), (\u03bb w_s: Saw_<(s,e,e),t>(w_s, Mary_e, J_e)))'/{<s,t>} conflict (mode: Predicate Abstraction), ||[[[saw john] who2] HExists]|| = Type mismatch: '||[[saw john] who2]|| = ListedSet : ((\u03bb w_s: Saw_<(s,e,e),t>(w_s, John_e, J_e)), (\u03bb w_s: Saw_<(s,e,e),t>(w_s, Sue_e, J_e)), (\u03bb w_s: Saw_<(s,e,e),t>(w_s, Mary_e, J_e)))'/{<s,t>} and '||HExists|| = (\u03bb p_{<s,t>}: ListedSet : ((\u03bb w_s: (Exists q_<s,t>: (q_<s,t>(w_s) & (q_<s,t> \u2208 p_{<s,t>})))),))'/<{<s,t>},{<s,t>}> conflict (mode: Predicate Abstraction), ||[HExists [[saw john] who2]]|| = Type mismatch: '(\u03bb p_{<s,t>}: ListedSet : ((\u03bb w_s: (Exists q_<s,t>: (q_<s,t>(w_s) & (q_<s,t> \u2208 p_{<s,t>})))),))'/<{<s,t>},{<s,t>}> and 'ListedSet : ((\u03bb w_s: Saw_<(s,e,e),t>(w_s, John_e, J_e)), (\u03bb w_s: Saw_<(s,e,e),t>(w_s, Sue_e, J_e)), (\u03bb w_s: Saw_<(s,e,e),t>(w_s, Mary_e, J_e)))'/{<s,t>} conflict (mode: Pointwise Function Application), ||[[[saw john] who2] HExists]|| = Type mismatch: 'ListedSet : ((\u03bb w_s: Saw_<(s,e,e),t>(w_s, John_e, J_e)), (\u03bb w_s: Saw_<(s,e,e),t>(w_s, Sue_e, J_e)), (\u03bb w_s: Saw_<(s,e,e),t>(w_s, Mary_e, J_e)))'/{<s,t>} and '(\u03bb p_{<s,t>}: ListedSet : ((\u03bb w_s: (Exists q_<s,t>: (q_<s,t>(w_s) & (q_<s,t> \u2208 p_{<s,t>})))),))'/<{<s,t>},{<s,t>}> conflict (mode: Pointwise Function Application)])"
       ]
      }
     ],
     "prompt_number": 86
    },
    {
     "cell_type": "code",
     "collapsed": false,
     "input": [
      "HExists * (john * (saw * who2))"
     ],
     "language": "python",
     "metadata": {},
     "outputs": [
      {
       "latex": [
        "1 composition path.  Result:\n",
        "<br />&nbsp;&nbsp;&nbsp;&nbsp;[0]: $||\\mathbf{\\text{[HExists [[saw who2] john]]}}||^{}_{\\{\\langle{}s,t\\rangle{}\\}} \\:=\\: $$\\{\\lambda{} w_{s} \\: . \\: \\exists{} q_{\\langle{}s,t\\rangle{}} \\: . \\: ({q}_{\\langle{}s,t\\rangle{}}({w}_{s}) \\wedge{} ({q}_{\\langle{}s,t\\rangle{}} \\in{} \\{\\lambda{} w_{s} \\: . \\: {Saw}({w}_{s}, {J}_{e}, {John}_{e}), \\lambda{} w_{s} \\: . \\: {Saw}({w}_{s}, {J}_{e}, {John}_{e}), \\lambda{} w_{s} \\: . \\: {Saw}({w}_{s}, {J}_{e}, {Mary}_{e})\\}))\\}$"
       ],
       "metadata": {},
       "output_type": "pyout",
       "prompt_number": 87,
       "text": [
        "CompositionResult(results=[||[HExists [[saw who2] john]]|| = ListedSet : ((\u03bb w_s: (Exists q_<s,t>: (q_<s,t>(w_s) & (q_<s,t> \u2208 ListedSet : ((\u03bb w_s: Saw_<(s,e,e),t>(w_s, J_e, John_e)), (\u03bb w_s: Saw_<(s,e,e),t>(w_s, J_e, John_e)), (\u03bb w_s: Saw_<(s,e,e),t>(w_s, J_e, Mary_e))))))),)], failures=[||[[[saw who2] john] HExists]|| = Type mismatch: '||[[saw who2] john]|| = ListedSet : (((\u03bb y_e: (\u03bb w_s: Saw_<(s,e,e),t>(w_s, y_e, John_e))))(J_e), (\u03bb w_s: Saw_<(s,e,e),t>(w_s, J_e, John_e)), (\u03bb w_s: Saw_<(s,e,e),t>(w_s, J_e, Mary_e)))'/{<s,t>} and '||HExists|| = (\u03bb p_{<s,t>}: ListedSet : ((\u03bb w_s: (Exists q_<s,t>: (q_<s,t>(w_s) & (q_<s,t> \u2208 p_{<s,t>})))),))'/<{<s,t>},{<s,t>}> conflict (mode: Function Application), ||[HExists [[saw who2] john]]|| = Type mismatch: '||HExists|| = (\u03bb p_{<s,t>}: ListedSet : ((\u03bb w_s: (Exists q_<s,t>: (q_<s,t>(w_s) & (q_<s,t> \u2208 p_{<s,t>})))),))'/<{<s,t>},{<s,t>}> and '||[[saw who2] john]|| = ListedSet : (((\u03bb y_e: (\u03bb w_s: Saw_<(s,e,e),t>(w_s, y_e, John_e))))(J_e), (\u03bb w_s: Saw_<(s,e,e),t>(w_s, J_e, John_e)), (\u03bb w_s: Saw_<(s,e,e),t>(w_s, J_e, Mary_e)))'/{<s,t>} conflict (mode: Predicate Modification), ||[HExists [[saw who2] john]]|| = Type mismatch: '||HExists|| = (\u03bb p_{<s,t>}: ListedSet : ((\u03bb w_s: (Exists q_<s,t>: (q_<s,t>(w_s) & (q_<s,t> \u2208 p_{<s,t>})))),))'/<{<s,t>},{<s,t>}> and '||[[saw who2] john]|| = ListedSet : (((\u03bb y_e: (\u03bb w_s: Saw_<(s,e,e),t>(w_s, y_e, John_e))))(J_e), (\u03bb w_s: Saw_<(s,e,e),t>(w_s, J_e, John_e)), (\u03bb w_s: Saw_<(s,e,e),t>(w_s, J_e, Mary_e)))'/{<s,t>} conflict (mode: Predicate Abstraction), ||[[[saw who2] john] HExists]|| = Type mismatch: '||[[saw who2] john]|| = ListedSet : (((\u03bb y_e: (\u03bb w_s: Saw_<(s,e,e),t>(w_s, y_e, John_e))))(J_e), (\u03bb w_s: Saw_<(s,e,e),t>(w_s, J_e, John_e)), (\u03bb w_s: Saw_<(s,e,e),t>(w_s, J_e, Mary_e)))'/{<s,t>} and '||HExists|| = (\u03bb p_{<s,t>}: ListedSet : ((\u03bb w_s: (Exists q_<s,t>: (q_<s,t>(w_s) & (q_<s,t> \u2208 p_{<s,t>})))),))'/<{<s,t>},{<s,t>}> conflict (mode: Predicate Abstraction), ||[HExists [[saw who2] john]]|| = Type mismatch: '(\u03bb p_{<s,t>}: ListedSet : ((\u03bb w_s: (Exists q_<s,t>: (q_<s,t>(w_s) & (q_<s,t> \u2208 p_{<s,t>})))),))'/<{<s,t>},{<s,t>}> and 'ListedSet : (((\u03bb y_e: (\u03bb w_s: Saw_<(s,e,e),t>(w_s, y_e, John_e))))(J_e), (\u03bb w_s: Saw_<(s,e,e),t>(w_s, J_e, John_e)), (\u03bb w_s: Saw_<(s,e,e),t>(w_s, J_e, Mary_e)))'/{<s,t>} conflict (mode: Pointwise Function Application), ||[[[saw who2] john] HExists]|| = Type mismatch: 'ListedSet : (((\u03bb y_e: (\u03bb w_s: Saw_<(s,e,e),t>(w_s, y_e, John_e))))(J_e), (\u03bb w_s: Saw_<(s,e,e),t>(w_s, J_e, John_e)), (\u03bb w_s: Saw_<(s,e,e),t>(w_s, J_e, Mary_e)))'/{<s,t>} and '(\u03bb p_{<s,t>}: ListedSet : ((\u03bb w_s: (Exists q_<s,t>: (q_<s,t>(w_s) & (q_<s,t> \u2208 p_{<s,t>})))),))'/<{<s,t>},{<s,t>}> conflict (mode: Pointwise Function Application)])"
       ]
      }
     ],
     "prompt_number": 87
    },
    {
     "cell_type": "code",
     "collapsed": false,
     "input": [],
     "language": "python",
     "metadata": {},
     "outputs": []
    },
    {
     "cell_type": "markdown",
     "metadata": {},
     "source": [
      "###Appendix: another technique for Hamblinization\n",
      "\n",
      "Another way of Hamblinizing a lexicon would be to write extra magics for converting whole lexicons at once.  Here's a sketch of how to do this."
     ]
    },
    {
     "cell_type": "code",
     "collapsed": false,
     "input": [],
     "language": "python",
     "metadata": {},
     "outputs": []
    },
    {
     "cell_type": "code",
     "collapsed": false,
     "input": [
      "def hamblinize_item(item):\n",
      "    \"\"\"Hamblinize a single lexical item.  Do so by building a singleton set out of it.\"\"\"\n",
      "    if meta.ts_compatible(item.type, meta.tp(\"{?}\")): #isinstance(item.type, types.SetType):\n",
      "        # assume this item is already hamblinized\n",
      "        return item\n",
      "    elif meta.ts_compatible(item.type, meta.tp(\"<{?},?>\")): #item.type.functional() and isinstance(item.type.left, types.SetType):\n",
      "        # heuristic: if function whose domain is a set of some sort, assume that this is a Hamblin operator.\n",
      "        # may miss cases.  Better to just run this on content items...\n",
      "        return item\n",
      "    new_i = item.copy()\n",
      "    # wrap the content of the lexical item as a singleton set.\n",
      "    new_i.content = meta.ListedSet([item.content])\n",
      "    return new_i\n",
      "\n",
      "# in the following two magics, variables that are not lexical items are ignored.  To change this, modify the else case above.\n",
      "def h_magic(self, accum):\n",
      "    \"\"\"Hamblinize the accumulated definitions from a single cell, as a post-processing step\"\"\"\n",
      "    new_accum = lamb.magics.process_items(hamblinize_item, accum)[0]\n",
      "    for k in new_accum.keys():\n",
      "        self.env[k] = new_accum[k]\n",
      "    return new_accum\n",
      "\n",
      "def h_magic_env(self):\n",
      "    \"\"\"Hamblinize the entire env\"\"\"\n",
      "    self.env = lamb.magics.process_items(hamblinize_item, self.env)[0] # hamblinize every variable\n",
      "    self.shell.push(self.env) # export the new variables to the interactive shell\n",
      "    return parsing.latex_output(self.env, self.env)\n",
      "\n",
      "lamb.magics.LambMagics.specials_post[\"hamblinize\"] = h_magic\n",
      "lamb.magics.LambMagics.specials[\"hamblinize_all\"] = h_magic_env"
     ],
     "language": "python",
     "metadata": {},
     "outputs": [],
     "prompt_number": 207
    },
    {
     "cell_type": "code",
     "collapsed": false,
     "input": [
      "%%lamb hamblinize\n",
      "||cat|| = L x_e : L w_s : Cat(w,x)\n",
      "||gray|| = L x_e : L w_s : Gray(w,x)\n",
      "||john|| = J_e\n",
      "x = L y_e : y"
     ],
     "language": "python",
     "metadata": {},
     "outputs": [
      {
       "output_type": "stream",
       "stream": "stderr",
       "text": [
        "INFO (meta): Coerced guessed type t for 'Cat_t' into <(s,e),t>, to match argument '(w_s, x_e)'\n"
       ]
      },
      {
       "output_type": "stream",
       "stream": "stderr",
       "text": [
        "INFO (meta): Coerced guessed type t for 'Gray_t' into <(s,e),t>, to match argument '(w_s, x_e)'\n"
       ]
      },
      {
       "latex": [
        "$||\\mathbf{\\text{cat}}||^{}_{\\{\\langle{}e,\\langle{}s,t\\rangle{}\\rangle{}\\}} \\:=\\: \\{\\lambda{} x_{e} \\: . \\: \\lambda{} w_{s} \\: . \\: {Cat}({w}_{s}, {x}_{e})\\}$<br />\n",
        "$||\\mathbf{\\text{gray}}||^{}_{\\{\\langle{}e,\\langle{}s,t\\rangle{}\\rangle{}\\}} \\:=\\: \\{\\lambda{} x_{e} \\: . \\: \\lambda{} w_{s} \\: . \\: {Gray}({w}_{s}, {x}_{e})\\}$<br />\n",
        "$||\\mathbf{\\text{john}}||^{}_{\\{e\\}} \\:=\\: \\{{J}_{e}\\}$<br />\n",
        "${x}_{\\langle{}e,e\\rangle{}}\\:=\\:\\lambda{} y_{e} \\: . \\: {y}_{e}$"
       ],
       "metadata": {},
       "output_type": "pyout",
       "prompt_number": 208,
       "text": [
        "$||\\mathbf{\\text{cat}}||^{}_{\\{\\langle{}e,\\langle{}s,t\\rangle{}\\rangle{}\\}} \\:=\\: \\{\\lambda{} x_{e} \\: . \\: \\lambda{} w_{s} \\: . \\: {Cat}({w}_{s}, {x}_{e})\\}$<br />\n",
        "$||\\mathbf{\\text{gray}}||^{}_{\\{\\langle{}e,\\langle{}s,t\\rangle{}\\rangle{}\\}} \\:=\\: \\{\\lambda{} x_{e} \\: . \\: \\lambda{} w_{s} \\: . \\: {Gray}({w}_{s}, {x}_{e})\\}$<br />\n",
        "$||\\mathbf{\\text{john}}||^{}_{\\{e\\}} \\:=\\: \\{{J}_{e}\\}$<br />\n",
        "${x}_{\\langle{}e,e\\rangle{}}\\:=\\:\\lambda{} y_{e} \\: . \\: {y}_{e}$"
       ]
      }
     ],
     "prompt_number": 208
    },
    {
     "cell_type": "code",
     "collapsed": false,
     "input": [
      "%%lamb\n",
      "||test|| = L x_e : Test(x)"
     ],
     "language": "python",
     "metadata": {},
     "outputs": [
      {
       "output_type": "stream",
       "stream": "stderr",
       "text": [
        "INFO (meta): Coerced guessed type t for 'Test_t' into <e,t>, to match argument 'x_e'\n"
       ]
      },
      {
       "latex": [
        "$||\\mathbf{\\text{test}}||^{}_{\\langle{}e,t\\rangle{}} \\:=\\: \\lambda{} x_{e} \\: . \\: {Test}({x}_{e})$"
       ],
       "metadata": {},
       "output_type": "pyout",
       "prompt_number": 209,
       "text": [
        "$||\\mathbf{\\text{test}}||^{}_{\\langle{}e,t\\rangle{}} \\:=\\: \\lambda{} x_{e} \\: . \\: {Test}({x}_{e})$"
       ]
      }
     ],
     "prompt_number": 209
    },
    {
     "cell_type": "code",
     "collapsed": false,
     "input": [
      "%lambctl hamblinize_all"
     ],
     "language": "python",
     "metadata": {},
     "outputs": [
      {
       "latex": [
        "${x}_{\\langle{}e,e\\rangle{}}\\:=\\:\\lambda{} y_{e} \\: . \\: {y}_{e}$<br />\n",
        "$||\\mathbf{\\text{cat}}||^{}_{\\{\\langle{}e,\\langle{}s,t\\rangle{}\\rangle{}\\}} \\:=\\: \\{\\lambda{} x_{e} \\: . \\: \\lambda{} w_{s} \\: . \\: {Cat}({w}_{s}, {x}_{e})\\}$<br />\n",
        "$||\\mathbf{\\text{john}}||^{}_{\\{e\\}} \\:=\\: \\{{J}_{e}\\}$<br />\n",
        "$||\\mathbf{\\text{test}}||^{}_{\\{\\langle{}e,t\\rangle{}\\}} \\:=\\: \\{\\lambda{} x_{e} \\: . \\: {Test}({x}_{e})\\}$<br />\n",
        "$||\\mathbf{\\text{gray}}||^{}_{\\{\\langle{}e,\\langle{}s,t\\rangle{}\\rangle{}\\}} \\:=\\: \\{\\lambda{} x_{e} \\: . \\: \\lambda{} w_{s} \\: . \\: {Gray}({w}_{s}, {x}_{e})\\}$"
       ],
       "metadata": {},
       "output_type": "pyout",
       "prompt_number": 210,
       "text": [
        "${x}_{\\langle{}e,e\\rangle{}}\\:=\\:\\lambda{} y_{e} \\: . \\: {y}_{e}$<br />\n",
        "$||\\mathbf{\\text{cat}}||^{}_{\\{\\langle{}e,\\langle{}s,t\\rangle{}\\rangle{}\\}} \\:=\\: \\{\\lambda{} x_{e} \\: . \\: \\lambda{} w_{s} \\: . \\: {Cat}({w}_{s}, {x}_{e})\\}$<br />\n",
        "$||\\mathbf{\\text{john}}||^{}_{\\{e\\}} \\:=\\: \\{{J}_{e}\\}$<br />\n",
        "$||\\mathbf{\\text{test}}||^{}_{\\{\\langle{}e,t\\rangle{}\\}} \\:=\\: \\{\\lambda{} x_{e} \\: . \\: {Test}({x}_{e})\\}$<br />\n",
        "$||\\mathbf{\\text{gray}}||^{}_{\\{\\langle{}e,\\langle{}s,t\\rangle{}\\rangle{}\\}} \\:=\\: \\{\\lambda{} x_{e} \\: . \\: \\lambda{} w_{s} \\: . \\: {Gray}({w}_{s}, {x}_{e})\\}$"
       ]
      }
     ],
     "prompt_number": 210
    }
   ],
   "metadata": {}
  }
 ]
}