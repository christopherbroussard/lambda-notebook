{
 "cells": [
  {
   "cell_type": "markdown",
   "metadata": {},
   "source": [
    "#Lamb demo v. 0.9 (pre-executed version, for nbviewer)\n",
    "##Author: Kyle Rawlins\n",
    "\n",
    "Last updated April, 2014. History:\n",
    "\n",
    " * 0.5: first version\n",
    " * 0.6: updated to work with refactored class hierarchy (Apr 2013)\n",
    " * 0.6.1: small fixes to adapt to changes in various places (Sep 2013)\n",
    " * 0.7: various fixes to work with alpha release (Jan 2014)\n",
    " * 0.9: substantial updates, merge content from LSA poster (Apr 2014)\n",
    " * 0.95: substantial updates for a series of demos in Apr-May 2014\n",
    " \n",
    "To run through this demo, use shift-enter (runs and moves to next cell).  If you run things out of order, you may encounter problems (missing variables etc.)\n",
    "\n",
    "Note: this should always be saved in the repository without output."
   ]
  },
  {
   "cell_type": "code",
   "execution_count": 15,
   "metadata": {
    "collapsed": false
   },
   "outputs": [],
   "source": [
    "reload_lamb()\n",
    "from lamb.types import TypeMismatch, type_e, type_t, type_property\n",
    "from lamb.meta import TypedTerm, TypedExpr, LFun, CustomTerm"
   ]
  },
  {
   "cell_type": "code",
   "execution_count": 16,
   "metadata": {
    "collapsed": false
   },
   "outputs": [],
   "source": [
    "# Just some basic configuration\n",
    "meta.constants_use_custom(False)\n",
    "lang.bracket_setting = lang.BRACKET_FANCY"
   ]
  },
  {
   "cell_type": "markdown",
   "metadata": {},
   "source": [
    "# First pitch\n",
    "\n",
    "Have you ever wanted to type something like this in, and have it actually do something?"
   ]
  },
  {
   "cell_type": "code",
   "execution_count": 17,
   "metadata": {
    "collapsed": false
   },
   "outputs": [
    {
     "name": "stderr",
     "output_type": "stream",
     "text": [
      "INFO (meta): Coerced guessed type t for 'Student_t' into <e,t>, to match argument 'x_e'\n",
      "INFO (meta): Coerced guessed type t for 'Danced_t' into <e,t>, to match argument 'x_e'\n"
     ]
    },
    {
     "data": {
      "text/latex": [
       "$[\\![\\mathbf{\\text{every}}]\\!]^{}_{\\langle{}\\langle{}e,t\\rangle{},\\langle{}\\langle{}e,t\\rangle{},t\\rangle{}\\rangle{}} \\:=\\: \\lambda{} f_{\\langle{}e,t\\rangle{}} \\: . \\: \\lambda{} g_{\\langle{}e,t\\rangle{}} \\: . \\: \\forall{} x_{e} \\: . \\: ({f}_{\\langle{}e,t\\rangle{}}({x}_{e}) \\rightarrow{} {g}_{\\langle{}e,t\\rangle{}}({x}_{e}))$<br />\n",
       "$[\\![\\mathbf{\\text{student}}]\\!]^{}_{\\langle{}e,t\\rangle{}} \\:=\\: \\lambda{} x_{e} \\: . \\: {Student}({x}_{e})$<br />\n",
       "$[\\![\\mathbf{\\text{danced}}]\\!]^{}_{\\langle{}e,t\\rangle{}} \\:=\\: \\lambda{} x_{e} \\: . \\: {Danced}({x}_{e})$"
      ],
      "text/plain": [
       "$[\\![\\mathbf{\\text{every}}]\\!]^{}_{\\langle{}\\langle{}e,t\\rangle{},\\langle{}\\langle{}e,t\\rangle{},t\\rangle{}\\rangle{}} \\:=\\: \\lambda{} f_{\\langle{}e,t\\rangle{}} \\: . \\: \\lambda{} g_{\\langle{}e,t\\rangle{}} \\: . \\: \\forall{} x_{e} \\: . \\: ({f}_{\\langle{}e,t\\rangle{}}({x}_{e}) \\rightarrow{} {g}_{\\langle{}e,t\\rangle{}}({x}_{e}))$<br />\n",
       "$[\\![\\mathbf{\\text{student}}]\\!]^{}_{\\langle{}e,t\\rangle{}} \\:=\\: \\lambda{} x_{e} \\: . \\: {Student}({x}_{e})$<br />\n",
       "$[\\![\\mathbf{\\text{danced}}]\\!]^{}_{\\langle{}e,t\\rangle{}} \\:=\\: \\lambda{} x_{e} \\: . \\: {Danced}({x}_{e})$"
      ]
     },
     "execution_count": 17,
     "metadata": {},
     "output_type": "execute_result"
    }
   ],
   "source": [
    "%%lamb\n",
    "||every|| = λ f_<e,t> : λ g_<e,t> : Forall x_e : f(x) >> g(x)\n",
    "||student|| = L x_e : Student(x)\n",
    "||danced|| = L x_e : Danced(x)"
   ]
  },
  {
   "cell_type": "code",
   "execution_count": 18,
   "metadata": {
    "collapsed": false
   },
   "outputs": [
    {
     "data": {
      "text/latex": [
       "1 composition path.  Result:\n",
       "<br />&nbsp;&nbsp;&nbsp;&nbsp;[0]: $[\\![\\mathbf{\\text{[[every student] danced]}}]\\!]^{}_{t} \\:=\\: $$\\forall{} x_{e} \\: . \\: ({Student}({x}_{e}) \\rightarrow{} {Danced}({x}_{e}))$"
      ],
      "text/plain": [
       "CompositionResult(results=[⟦[[every student] danced]⟧ = (Forall x_e: (Student_<e,t>(x_e) >> Danced_<e,t>(x_e)))], failures=[⟦[danced [every student]]⟧ = Type mismatch: '⟦danced⟧ = (λ x_e: Danced_<e,t>(x_e))'/<e,t> and '⟦[every student]⟧ = (λ g_<e,t>: (Forall x_e: (Student_<e,t>(x_e) >> g_<e,t>(x_e))))'/<<e,t>,t> conflict (mode: Function Application), ⟦[[every student] danced]⟧ = Type mismatch: '⟦[every student]⟧ = (λ g_<e,t>: (Forall x_e: (Student_<e,t>(x_e) >> g_<e,t>(x_e))))'/<<e,t>,t> and '⟦danced⟧ = (λ x_e: Danced_<e,t>(x_e))'/<e,t> conflict (mode: Predicate Modification), ⟦[[every student] danced]⟧ = Type mismatch: '⟦[every student]⟧ = (λ g_<e,t>: (Forall x_e: (Student_<e,t>(x_e) >> g_<e,t>(x_e))))'/<<e,t>,t> and '⟦danced⟧ = (λ x_e: Danced_<e,t>(x_e))'/<e,t> conflict (mode: Predicate Abstraction), ⟦[danced [every student]]⟧ = Type mismatch: '⟦danced⟧ = (λ x_e: Danced_<e,t>(x_e))'/<e,t> and '⟦[every student]⟧ = (λ g_<e,t>: (Forall x_e: (Student_<e,t>(x_e) >> g_<e,t>(x_e))))'/<<e,t>,t> conflict (mode: Predicate Abstraction)])"
      ]
     },
     "execution_count": 18,
     "metadata": {},
     "output_type": "execute_result"
    }
   ],
   "source": [
    "r = ((every * student) * danced)\n",
    "r"
   ]
  },
  {
   "cell_type": "code",
   "execution_count": 19,
   "metadata": {
    "collapsed": false
   },
   "outputs": [
    {
     "data": {
      "text/latex": [
       "1 composition path:<br /><table><tr style=\"border:1px solid #848482\"><td style=\"vertical-align:bottom;padding:0px 10px\" align=\"center\"><table><tr><td style=\"vertical-align:bottom;padding:5px\"><table><tr style=\"border:1px solid #848482\"><td style=\"vertical-align:bottom;padding:0px 10px\" align=\"center\"><table><tr><td style=\"vertical-align:bottom;padding:5px\"><div style=\"margin-top:10px;border-style:solid;border-color:#848482;border-width:0px\"><div style=\"vertical-align:bottom;text-align:center\">$[\\![\\mathbf{\\text{every}}]\\!]^{}_{\\langle{}\\langle{}e,t\\rangle{},\\langle{}\\langle{}e,t\\rangle{},t\\rangle{}\\rangle{}}$</div><div style=\"vertical-align:bottom;text-align:center\">$\\lambda{} f_{\\langle{}e,t\\rangle{}} \\: . \\: \\lambda{} g_{\\langle{}e,t\\rangle{}} \\: . \\: \\forall{} x_{e} \\: . \\: ({f}_{\\langle{}e,t\\rangle{}}({x}_{e}) \\rightarrow{} {g}_{\\langle{}e,t\\rangle{}}({x}_{e}))$</div></div></td><td style=\"vertical-align:bottom;padding:10px\">$\\circ$</td><td style=\"vertical-align:bottom;padding:5px\"><div style=\"margin-top:10px;border-style:solid;border-color:#848482;border-width:0px\"><div style=\"vertical-align:bottom;text-align:center\">$[\\![\\mathbf{\\text{student}}]\\!]^{}_{\\langle{}e,t\\rangle{}}$</div><div style=\"vertical-align:bottom;text-align:center\">$\\lambda{} x_{e} \\: . \\: {Student}({x}_{e})$</div></div></td></tr></table></td><td style=\"border-left:1px solid #848482;vertical-align:center;padding:10px\"><span style=\"color:blue\"><b>[FA]</b></span></td></tr><tr style=\"border-style:solid;border-color:#848482;border-width:0px 1px 1px 1px\"><td style=\"padding:5px\" align=\"center\"><div style=\"margin-top:10px;border-style:solid;border-color:#848482;border-width:0px\"><div style=\"vertical-align:bottom;text-align:center\">$[\\![\\mathbf{\\text{[every student]}}]\\!]^{}_{\\langle{}\\langle{}e,t\\rangle{},t\\rangle{}}$</div><div style=\"vertical-align:bottom;text-align:center\">$\\lambda{} g_{\\langle{}e,t\\rangle{}} \\: . \\: \\forall{} x_{e} \\: . \\: ({Student}({x}_{e}) \\rightarrow{} {g}_{\\langle{}e,t\\rangle{}}({x}_{e}))$</div></div></td><td></td></tr></table></td><td style=\"vertical-align:bottom;padding:10px\">$\\circ$</td><td style=\"vertical-align:bottom;padding:5px\"><div style=\"margin-top:10px;border-style:solid;border-color:#848482;border-width:0px\"><div style=\"vertical-align:bottom;text-align:center\">$[\\![\\mathbf{\\text{danced}}]\\!]^{}_{\\langle{}e,t\\rangle{}}$</div><div style=\"vertical-align:bottom;text-align:center\">$\\lambda{} x_{e} \\: . \\: {Danced}({x}_{e})$</div></div></td></tr></table></td><td style=\"border-left:1px solid #848482;vertical-align:center;padding:10px\"><span style=\"color:blue\"><b>[FA]</b></span></td></tr><tr style=\"border-style:solid;border-color:#848482;border-width:0px 1px 1px 1px\"><td style=\"padding:5px\" align=\"center\"><div style=\"margin-top:10px;border-style:solid;border-color:#848482;border-width:0px\"><div style=\"vertical-align:bottom;text-align:center\">$[\\![\\mathbf{\\text{[[every student] danced]}}]\\!]^{}_{t}$</div><div style=\"vertical-align:bottom;text-align:center\">$\\forall{} x_{e} \\: . \\: ({Student}({x}_{e}) \\rightarrow{} {Danced}({x}_{e}))$</div></div></td><td></td></tr></table><br /><br />"
      ],
      "text/plain": [
       "1 composition path:<br /><table><tr style=\"border:1px solid #848482\"><td style=\"vertical-align:bottom;padding:0px 10px\" align=\"center\"><table><tr><td style=\"vertical-align:bottom;padding:5px\"><table><tr style=\"border:1px solid #848482\"><td style=\"vertical-align:bottom;padding:0px 10px\" align=\"center\"><table><tr><td style=\"vertical-align:bottom;padding:5px\"><div style=\"margin-top:10px;border-style:solid;border-color:#848482;border-width:0px\"><div style=\"vertical-align:bottom;text-align:center\">$[\\![\\mathbf{\\text{every}}]\\!]^{}_{\\langle{}\\langle{}e,t\\rangle{},\\langle{}\\langle{}e,t\\rangle{},t\\rangle{}\\rangle{}}$</div><div style=\"vertical-align:bottom;text-align:center\">$\\lambda{} f_{\\langle{}e,t\\rangle{}} \\: . \\: \\lambda{} g_{\\langle{}e,t\\rangle{}} \\: . \\: \\forall{} x_{e} \\: . \\: ({f}_{\\langle{}e,t\\rangle{}}({x}_{e}) \\rightarrow{} {g}_{\\langle{}e,t\\rangle{}}({x}_{e}))$</div></div></td><td style=\"vertical-align:bottom;padding:10px\">$\\circ$</td><td style=\"vertical-align:bottom;padding:5px\"><div style=\"margin-top:10px;border-style:solid;border-color:#848482;border-width:0px\"><div style=\"vertical-align:bottom;text-align:center\">$[\\![\\mathbf{\\text{student}}]\\!]^{}_{\\langle{}e,t\\rangle{}}$</div><div style=\"vertical-align:bottom;text-align:center\">$\\lambda{} x_{e} \\: . \\: {Student}({x}_{e})$</div></div></td></tr></table></td><td style=\"border-left:1px solid #848482;vertical-align:center;padding:10px\"><span style=\"color:blue\"><b>[FA]</b></span></td></tr><tr style=\"border-style:solid;border-color:#848482;border-width:0px 1px 1px 1px\"><td style=\"padding:5px\" align=\"center\"><div style=\"margin-top:10px;border-style:solid;border-color:#848482;border-width:0px\"><div style=\"vertical-align:bottom;text-align:center\">$[\\![\\mathbf{\\text{[every student]}}]\\!]^{}_{\\langle{}\\langle{}e,t\\rangle{},t\\rangle{}}$</div><div style=\"vertical-align:bottom;text-align:center\">$\\lambda{} g_{\\langle{}e,t\\rangle{}} \\: . \\: \\forall{} x_{e} \\: . \\: ({Student}({x}_{e}) \\rightarrow{} {g}_{\\langle{}e,t\\rangle{}}({x}_{e}))$</div></div></td><td></td></tr></table></td><td style=\"vertical-align:bottom;padding:10px\">$\\circ$</td><td style=\"vertical-align:bottom;padding:5px\"><div style=\"margin-top:10px;border-style:solid;border-color:#848482;border-width:0px\"><div style=\"vertical-align:bottom;text-align:center\">$[\\![\\mathbf{\\text{danced}}]\\!]^{}_{\\langle{}e,t\\rangle{}}$</div><div style=\"vertical-align:bottom;text-align:center\">$\\lambda{} x_{e} \\: . \\: {Danced}({x}_{e})$</div></div></td></tr></table></td><td style=\"border-left:1px solid #848482;vertical-align:center;padding:10px\"><span style=\"color:blue\"><b>[FA]</b></span></td></tr><tr style=\"border-style:solid;border-color:#848482;border-width:0px 1px 1px 1px\"><td style=\"padding:5px\" align=\"center\"><div style=\"margin-top:10px;border-style:solid;border-color:#848482;border-width:0px\"><div style=\"vertical-align:bottom;text-align:center\">$[\\![\\mathbf{\\text{[[every student] danced]}}]\\!]^{}_{t}$</div><div style=\"vertical-align:bottom;text-align:center\">$\\forall{} x_{e} \\: . \\: ({Student}({x}_{e}) \\rightarrow{} {Danced}({x}_{e}))$</div></div></td><td></td></tr></table><br /><br />"
      ]
     },
     "execution_count": 19,
     "metadata": {},
     "output_type": "execute_result"
    }
   ],
   "source": [
    "r.tree()"
   ]
  },
  {
   "cell_type": "markdown",
   "metadata": {},
   "source": [
    "# Two problems in formal semantics #\n",
    "\n",
    "1. Type-driven computation could be a lot easier to visualize and check.  (Q: could it be made too easy?)\n",
    "\n",
    "2. Grammar fragments as in Montague Grammar: good idea in principle, hard to use in practice.\n",
    "\n",
    "  * A **fragment** is a *complete* formalization of *sublanguage* consisting of the *key relevant phenomena* for the problem at hand.  (Potential problem-points italicized.)\n",
    "\n",
    "Solution: a system for developing interactive fragments: \"*IPython Lambda Notebook*\"\n",
    "\n",
    "* Creator can work interactively with analysis -- accelerate development, limit time spent on tedious details.\n",
    "* Reader can explore derivations in ways that are not typically possible in typical paper format.\n",
    "* Creator and reader can be certain that derivations work, verified by the system.\n",
    "* Bring closer together formal semantics and computational modeling.\n",
    "\n",
    "Inspired by:\n",
    "\n",
    " * Von Eijck and Unger (2013): implementation of compositional semantics in Haskell.  No interface (beyond standard Haskell terminal); great if you like Haskell.  Introduced the idea of a fragment in digital form.\n",
    " * UPenn Lambda calculator (Champollion, Tauberer, and Romero 2007): teaching oriented.  (Now under development again.)\n",
    " * `nltk.sem`: implementation of the lambda calculus with a typed metalanguage, interface with theorem provers.  No interactive interface.\n",
    " * Jealousy of R studio, Matlab, Mathematica, etc.\n",
    "\n",
    "### The role of formalism & fragments ###\n",
    "\n",
    "What does *formal* mean in semantics?  What properties should a theory have?\n",
    "\n",
    " 1. Mathematically precise (lambda calculus, type theory, logic, model theory(?), ...)\n",
    " 2. Complete (covers \"all\" the relevant data).\n",
    " 3. Predictive (like any scientific theory).\n",
    " 4. Consistent, or at least compatible (with itself, analyses of other phenomena, some unifying conception of the grammar).\n",
    " \n",
    "The *method of fragments* (Partee 1979, Partee and Hendriks 1997) provides a structure for meeting these criteria.\n",
    "\n",
    " * Paper with a fragment provides a working system.  (Probably.)\n",
    " * Explicit outer bound for empirical coverage.\n",
    " * Integration with a particular theory of grammar.  (To some extent.)\n",
    " * Explicit answer to many detailed questions not necessarily dealt with in the text.\n",
    " \n",
    "**Claim**: fragments are a method of replicability, similar to a computational modeller providing their model.\n",
    "\n",
    " * To be clear, a fragment is neither necessary nor sufficient for having a good theory / analysis / paper...\n",
    "\n",
    "Additional benefit: useful internal check for researcher.\n",
    "\n",
    ">\"...But I feel strongly that it is important to try to [work with fully explicit fragments] periodically, because otherwise it is extremely easy to think that you have a solution to a problem when in fact you don't.\" (Partee 1979, p. 41)\n",
    "\n",
    "### The challenges of fragments\n",
    "\n",
    "Part 1 of the above quote:\n",
    "\n",
    ">\"It can be very frustrating to try to specify frameworks and fragments explicitly; this project has not been entirely rewarding.  I would not recommend that one always work with the constraint of full explicitness.\" (Ibid.)\n",
    "\n",
    " * Fragments can be tedious and time-consuming to write (not to mention hard).\n",
    " * Fragments as traditionally written are in practice not easy for a reader to use.\n",
    " \n",
    "   - Dense/unapproachable.  With exactness can come a huge chunk of hard-to-digest formalism.  E.g. Partee (1979), about 10% of the paper.\n",
    "   - Monolithic/non-modular.  For the specified sublanguage, everything specified.  Outside the bounds of the sublanguage, nothing specified.  How does the theory fit in with others?\n",
    "   - Exact opposite of the modern method -- researchers typically hold most aspects of the grammar constant (implicitly) while changing a few key points.  (*Portner and Partee intro*)\n",
    "\n",
    "**Summary:** In practice, the typical payoff for neither the reader nor the writer of a fragment exceeded the effort.\n"
   ]
  },
  {
   "cell_type": "markdown",
   "metadata": {},
   "source": [
    "# A solution: digital fragments\n",
    "\n",
    "Von Eijck and Unger 2010: specify a fragment in digital form.\n",
    "\n",
    "* They use Haskell.  Type system of Haskell extremely well-suited to natural language semantics.\n",
    "* (Provocative statement) Interface, learning curve of Haskell not well suited to semanticists (or most people)?\n",
    "\n",
    "### Benefits of digital fragments (in principle)\n",
    "\n",
    "* Interactive.\n",
    "* Easy to distribute, adapt, modify.\n",
    "* Possibility of modularity.  (E.g. abstract a 'library' for compositional systems away from the analysis of a particular phenomenon.)\n",
    "* Bring closer together the CogSci idea of a 'computational model' to the project of natural language semantics.\n",
    "* Connections to computational semantics. (weak..)\n",
    "\n",
    "### What sorts of things might we want in a fragment / system for fragments?\n",
    "\n",
    "* Typed lambda calculus.\n",
    "* Logic / logical metalanguage.\n",
    "* Framework for semantic composition.  (Broad...)\n",
    "* Model theory? (x)\n",
    "* Interface with theorem provers? (x)\n",
    "\n",
    "IPython Lambda Notebook aims to provide these tools in a usable, interactive, format.\n",
    "\n",
    "* Choose Python, rather than Haskell/Java.  Easy learning curve, rapid prototyping, existence of IPython.\n",
    "\n",
    "**Layer 1**: interface using IPython Notebook.\n",
    "\n",
    "**Layer 2**: flexible typed metalanguage.\n",
    "\n",
    "**Layer 3**: composition system for object language, building on layer 2."
   ]
  },
  {
   "cell_type": "markdown",
   "metadata": {},
   "source": [
    "## Layer 1: an interface using IPython Notebook (Perez and Granger 2007) ##\n",
    "\n",
    " * Client-server system where an IPython \"kernel\" is running in the background.\n",
    " * Page broken down into cells in which can be entered python code, markdown code, raw text, other formats.\n",
    " * IPython: supports display of graphical representations of python objects.  (*Just-released IPython 2.0*: Javascript widgets!)\n",
    " * Most importantly, notebook uses the \"MathJax\" framework to enable it to render most math-mode latex.  Can have python objects automatically generate decent-looking formulas.  Can use latex math mode in documentation as well (e.g. $\\lambda x \\in D_e : \\mathit{CAT}(x)$)\n",
    "\n",
    "This all basically worked off-the-shelf.\n",
    "\n",
    "* Bulk of interface work so far: rendering code for logical and compositional representations.\n",
    "* Future: interactive widgets, packaging as an app.  Branding."
   ]
  },
  {
   "cell_type": "code",
   "execution_count": 20,
   "metadata": {
    "collapsed": false
   },
   "outputs": [
    {
     "data": {
      "text/latex": [
       "$\\lambda{} p_{t} \\: . \\: \\lambda{} x_{e} \\: . \\: ({P}({x}_{e}) \\wedge{} {p}_{t})$"
      ],
      "text/plain": [
       "(λ p_t: (λ x_e: (P_<e,t>(x_e) & p_t)))"
      ]
     },
     "execution_count": 20,
     "metadata": {},
     "output_type": "execute_result"
    }
   ],
   "source": [
    "meta.pmw_test1"
   ]
  },
  {
   "cell_type": "code",
   "execution_count": 21,
   "metadata": {
    "collapsed": false
   },
   "outputs": [
    {
     "data": {
      "text/plain": [
       "'$\\\\lambda{} p_{t} \\\\: . \\\\: \\\\lambda{} x_{e} \\\\: . \\\\: ({P}({x}_{e}) \\\\wedge{} {p}_{t})$'"
      ]
     },
     "execution_count": 21,
     "metadata": {},
     "output_type": "execute_result"
    }
   ],
   "source": [
    "meta.pmw_test1._repr_latex_()"
   ]
  },
  {
   "cell_type": "markdown",
   "metadata": {},
   "source": [
    "&nbsp;\n",
    "\n",
    "## Part 2: a typed metalanguage ##"
   ]
  },
  {
   "cell_type": "markdown",
   "metadata": {},
   "source": [
    "Starting point (2012): a few implementations of things like predicate logic do exist, this is an intro AI exercise sometimes.  I started with the [AIMA python](http://code.google.com/p/aima-python/) _Expr_ class, based on the standard Russell and Norvig AI text.  But, had to scrap most of it.  Another starting point would have been `nltk.sem` (I was unaware of its existence at the time.) \n",
    "\n",
    "Preface cell with `%%lamb` to enter metalanguage formulas directly."
   ]
  },
  {
   "cell_type": "code",
   "execution_count": 22,
   "metadata": {
    "collapsed": false
   },
   "outputs": [
    {
     "data": {
      "text/latex": [
       "${x}_{e}\\:=\\:{x}_{e}$"
      ],
      "text/plain": [
       "${x}_{e}\\:=\\:{x}_{e}$"
      ]
     },
     "execution_count": 22,
     "metadata": {},
     "output_type": "execute_result"
    }
   ],
   "source": [
    "%%lamb reset\n",
    "x = x_e # define x to have this type"
   ]
  },
  {
   "cell_type": "code",
   "execution_count": 23,
   "metadata": {
    "collapsed": false
   },
   "outputs": [
    {
     "data": {
      "text/latex": [
       "$e$"
      ],
      "text/plain": [
       "e"
      ]
     },
     "execution_count": 23,
     "metadata": {},
     "output_type": "execute_result"
    }
   ],
   "source": [
    "x.type"
   ]
  },
  {
   "cell_type": "code",
   "execution_count": 24,
   "metadata": {
    "collapsed": false
   },
   "outputs": [
    {
     "name": "stderr",
     "output_type": "stream",
     "text": [
      "INFO (meta): Coerced guessed type t for 'P_t' into <e,t>, to match argument 'x_e'\n",
      "INFO (meta): Coerced guessed type t for 'P_t' into <e,t>, to match argument 'x_e'\n",
      "INFO (meta): Coerced guessed type t for 'Q_t' into <e,t>, to match argument 'x_e'\n",
      "INFO (meta): Coerced guessed type t for 'Q_t' into <e,t>, to match argument 'x_e'\n"
     ]
    },
    {
     "data": {
      "text/latex": [
       "${test1}_{\\langle{}t,\\langle{}e,t\\rangle{}\\rangle{}}\\:=\\:\\lambda{} p_{t} \\: . \\: \\lambda{} x_{e} \\: . \\: ({P}({x}_{e}) \\wedge{} {p}_{t})$<br />\n",
       "${test1b}_{\\langle{}e,t\\rangle{}}\\:=\\:\\lambda{} x_{e} \\: . \\: ({P}({x}_{e}) \\wedge{} {Q}({x}_{e}))$<br />\n",
       "${t2}_{t}\\:=\\:{Q}({x}_{e})$"
      ],
      "text/plain": [
       "${test1}_{\\langle{}t,\\langle{}e,t\\rangle{}\\rangle{}}\\:=\\:\\lambda{} p_{t} \\: . \\: \\lambda{} x_{e} \\: . \\: ({P}({x}_{e}) \\wedge{} {p}_{t})$<br />\n",
       "${test1b}_{\\langle{}e,t\\rangle{}}\\:=\\:\\lambda{} x_{e} \\: . \\: ({P}({x}_{e}) \\wedge{} {Q}({x}_{e}))$<br />\n",
       "${t2}_{t}\\:=\\:{Q}({x}_{e})$"
      ]
     },
     "execution_count": 24,
     "metadata": {},
     "output_type": "execute_result"
    }
   ],
   "source": [
    "%%lamb\n",
    "test1 = L p_t : L x_e : P(x) & p # based on a Partee et al example\n",
    "test1b = L x_e : P(x) & Q(x)\n",
    "t2 = Q(x_e)"
   ]
  },
  {
   "cell_type": "markdown",
   "metadata": {},
   "source": [
    "These are now registered as variables in the python namespace and can be manipulated directly.  A typed lambda calculus is fully implemented with all that that entails.\n",
    "\n",
    "(Notice that beta reduction works properly, i.e. bound $x$ in the function is renamed.)"
   ]
  },
  {
   "cell_type": "code",
   "execution_count": 25,
   "metadata": {
    "collapsed": false
   },
   "outputs": [
    {
     "data": {
      "text/latex": [
       "$[\\lambda{} p_{t} \\: . \\: \\lambda{} x_{e} \\: . \\: ({P}({x}_{e}) \\wedge{} {p}_{t})]({Q}({x}_{e}))$"
      ],
      "text/plain": [
       "((λ p_t: (λ x_e: (P_<e,t>(x_e) & p_t))))(Q_<e,t>(x_e))"
      ]
     },
     "execution_count": 25,
     "metadata": {},
     "output_type": "execute_result"
    }
   ],
   "source": [
    "test1(t2)"
   ]
  },
  {
   "cell_type": "code",
   "execution_count": 26,
   "metadata": {
    "collapsed": false
   },
   "outputs": [
    {
     "data": {
      "text/latex": [
       "$\\lambda{} x1_{e} \\: . \\: ({P}({x1}_{e}) \\wedge{} {Q}({x}_{e}))$"
      ],
      "text/plain": [
       "(λ x1_e: (P_<e,t>(x1_e) & Q_<e,t>(x_e)))"
      ]
     },
     "execution_count": 26,
     "metadata": {},
     "output_type": "execute_result"
    }
   ],
   "source": [
    "test1(t2).reduce()"
   ]
  },
  {
   "cell_type": "code",
   "execution_count": 27,
   "metadata": {
    "collapsed": false
   },
   "outputs": [
    {
     "name": "stderr",
     "output_type": "stream",
     "text": [
      "INFO (meta): Coerced guessed type t for 'Cat_t' into <e,t>, to match argument 'x_e'\n",
      "INFO (meta): Coerced guessed type t for 'Dog_t' into <e,t>, to match argument 'x_e'\n"
     ]
    },
    {
     "data": {
      "text/latex": [
       "${catf}_{\\langle{}e,t\\rangle{}}\\:=\\:\\lambda{} x_{e} \\: . \\: {Cat}({x}_{e})$<br />\n",
       "${dogf}_{\\langle{}e,t\\rangle{}}\\:=\\:\\lambda{} x_{e} \\: . \\: {Dog}({x}_{e})$"
      ],
      "text/plain": [
       "${catf}_{\\langle{}e,t\\rangle{}}\\:=\\:\\lambda{} x_{e} \\: . \\: {Cat}({x}_{e})$<br />\n",
       "${dogf}_{\\langle{}e,t\\rangle{}}\\:=\\:\\lambda{} x_{e} \\: . \\: {Dog}({x}_{e})$"
      ]
     },
     "execution_count": 27,
     "metadata": {},
     "output_type": "execute_result"
    }
   ],
   "source": [
    "%%lamb\n",
    "catf = L x_e: Cat(x)\n",
    "dogf = λx: Dog(x_e)"
   ]
  },
  {
   "cell_type": "code",
   "execution_count": 28,
   "metadata": {
    "collapsed": false
   },
   "outputs": [
    {
     "data": {
      "text/latex": [
       "$t$"
      ],
      "text/plain": [
       "t"
      ]
     },
     "execution_count": 28,
     "metadata": {},
     "output_type": "execute_result"
    }
   ],
   "source": [
    "(catf(x)).type"
   ]
  },
  {
   "cell_type": "code",
   "execution_count": 29,
   "metadata": {
    "collapsed": false
   },
   "outputs": [
    {
     "data": {
      "text/latex": [
       "$\\langle{}e,t\\rangle{}$"
      ],
      "text/plain": [
       "<e,t>"
      ]
     },
     "execution_count": 29,
     "metadata": {},
     "output_type": "execute_result"
    }
   ],
   "source": [
    "catf.type"
   ]
  },
  {
   "cell_type": "markdown",
   "metadata": {},
   "source": [
    "Type checking of course is a part of all this:"
   ]
  },
  {
   "cell_type": "code",
   "execution_count": 30,
   "metadata": {
    "collapsed": false
   },
   "outputs": [
    {
     "data": {
      "text/latex": [
       "<span style=\"color:red\">Type mismatch</span>: '$\\lambda{} p_{t} \\: . \\: \\lambda{} x_{e} \\: . \\: ({P}({x}_{e}) \\wedge{} {p}_{t})$'/$\\langle{}t,\\langle{}e,t\\rangle{}\\rangle{}$ and '${x}_{e}$'/$e$ conflict (mode: Function argument combination (unification failed))"
      ],
      "text/plain": [
       "lamb.types.TypeMismatch((λ p_t: (λ x_e: (P_<e,t>(x_e) & p_t))),\n",
       "                        x_e,\n",
       "                        'Function argument combination (unification failed)')"
      ]
     },
     "execution_count": 30,
     "metadata": {},
     "output_type": "execute_result"
    }
   ],
   "source": [
    "result = None\n",
    "try:\n",
    "    result = test1(x) # function is type <t<et>> so will trigger a type mismatch.  This is a python exception so adds all sorts of extraneous stuff, but look to the bottom\n",
    "except TypeMismatch as e:\n",
    "    result = e\n",
    "result"
   ]
  },
  {
   "cell_type": "markdown",
   "metadata": {},
   "source": [
    "A more complex expression:"
   ]
  },
  {
   "cell_type": "code",
   "execution_count": 31,
   "metadata": {
    "collapsed": false
   },
   "outputs": [
    {
     "data": {
      "text/latex": [
       "${p2}_{t}\\:=\\:(({Cat}({x}_{e}) \\wedge{} {p}_{t}) \\rightarrow{} \\exists{} y_{e} \\: . \\: {Dog}({y}_{e}))$"
      ],
      "text/plain": [
       "${p2}_{t}\\:=\\:(({Cat}({x}_{e}) \\wedge{} {p}_{t}) \\rightarrow{} \\exists{} y_{e} \\: . \\: {Dog}({y}_{e}))$"
      ]
     },
     "execution_count": 31,
     "metadata": {},
     "output_type": "execute_result"
    }
   ],
   "source": [
    "%%lamb\n",
    "p2 = (Cat_<e,t>(x_e) & p_t) >> (Exists y: Dog_<e,t>(y_e))"
   ]
  },
  {
   "cell_type": "markdown",
   "metadata": {},
   "source": [
    "What is going on behind the scenes?  The objects manipulated are recursively structured python objects of class TypedExpr.\n",
    "\n",
    "Class _TypedExpr_: parent class for typed expressions.  Key subclasses:\n",
    "\n",
    "* BinaryOpExpr: parent class for things like conjunction.\n",
    "* TypedTerm: variables, constants of arbitrary type\n",
    "* BindingOp: operators that bind a single variable\n",
    "  * LFun: lambda expression\n",
    "\n",
    "Many straightforward expressions can be parsed.  Most expressions are created using a call to TypedExpr.factory, which is abbreviated as \"te\" in the following examples.  The `%%lamb` magic is calling this behind the scenes.\n",
    "\n",
    "Three ways of instantiating a variable `x` of type `e`:"
   ]
  },
  {
   "cell_type": "code",
   "execution_count": 32,
   "metadata": {
    "collapsed": false
   },
   "outputs": [
    {
     "data": {
      "text/latex": [
       "${x}_{e}\\:=\\:{x}_{e}$"
      ],
      "text/plain": [
       "${x}_{e}\\:=\\:{x}_{e}$"
      ]
     },
     "execution_count": 32,
     "metadata": {},
     "output_type": "execute_result"
    }
   ],
   "source": [
    "%%lamb \n",
    "x = x_e # use cell magic"
   ]
  },
  {
   "cell_type": "code",
   "execution_count": 33,
   "metadata": {
    "collapsed": false
   },
   "outputs": [
    {
     "data": {
      "text/latex": [
       "${x}_{e}$"
      ],
      "text/plain": [
       "x_e"
      ]
     },
     "execution_count": 33,
     "metadata": {},
     "output_type": "execute_result"
    }
   ],
   "source": [
    "x = te(\"x_e\") # use factory function to parse string\n",
    "x"
   ]
  },
  {
   "cell_type": "code",
   "execution_count": 34,
   "metadata": {
    "collapsed": false
   },
   "outputs": [
    {
     "data": {
      "text/latex": [
       "${x}_{e}$"
      ],
      "text/plain": [
       "x_e"
      ]
     },
     "execution_count": 34,
     "metadata": {},
     "output_type": "execute_result"
    }
   ],
   "source": [
    "x = meta.TypedTerm(\"x\", types.type_e) # use object constructer\n",
    "x"
   ]
  },
  {
   "cell_type": "markdown",
   "metadata": {},
   "source": [
    "Various convenience python operators are overloaded, including functional calls.  Here is an example repeated from earlier in two forms:"
   ]
  },
  {
   "cell_type": "code",
   "execution_count": 35,
   "metadata": {
    "collapsed": false
   },
   "outputs": [
    {
     "data": {
      "text/latex": [
       "${p2}_{t}\\:=\\:(({Cat}({x}_{e}) \\wedge{} {p}_{t}) \\rightarrow{} \\exists{} y_{e} \\: . \\: {Dog}({y}_{e}))$"
      ],
      "text/plain": [
       "${p2}_{t}\\:=\\:(({Cat}({x}_{e}) \\wedge{} {p}_{t}) \\rightarrow{} \\exists{} y_{e} \\: . \\: {Dog}({y}_{e}))$"
      ]
     },
     "execution_count": 35,
     "metadata": {},
     "output_type": "execute_result"
    }
   ],
   "source": [
    "%%lamb\n",
    "p2 = (Cat_<e,t>(x_e) & p_t) >> (Exists y: Dog_<e,t>(y_e))"
   ]
  },
  {
   "cell_type": "code",
   "execution_count": 36,
   "metadata": {
    "collapsed": false
   },
   "outputs": [
    {
     "data": {
      "text/latex": [
       "$(({Cat}({x}_{e}) \\wedge{} {p}_{t}) \\rightarrow{} \\exists{} y_{e} \\: . \\: {Dog}({y}_{e}))$"
      ],
      "text/plain": [
       "((Cat_<e,t>(x_e) & p_t) >> (Exists y_e: Dog_<e,t>(y_e)))"
      ]
     },
     "execution_count": 36,
     "metadata": {},
     "output_type": "execute_result"
    }
   ],
   "source": [
    "p2 = (te(\"Cat_<e,t>(x)\") & te(\"p_t\")) >> te(\"(Exists y: Dog_<e,t>(y_e))\")\n",
    "p2"
   ]
  },
  {
   "cell_type": "markdown",
   "metadata": {},
   "source": [
    "Let's examine in detail what happens when a function and argument combine."
   ]
  },
  {
   "cell_type": "code",
   "execution_count": 37,
   "metadata": {
    "collapsed": false
   },
   "outputs": [
    {
     "name": "stderr",
     "output_type": "stream",
     "text": [
      "INFO (meta): Coerced guessed type t for 'Cat_t' into <e,t>, to match argument 'x_e'\n"
     ]
    },
    {
     "data": {
      "text/latex": [
       "$\\lambda{} x_{e} \\: . \\: {Cat}({x}_{e})$"
      ],
      "text/plain": [
       "(λ x_e: Cat_<e,t>(x_e))"
      ]
     },
     "execution_count": 37,
     "metadata": {},
     "output_type": "execute_result"
    }
   ],
   "source": [
    "catf = meta.LFun(types.type_e, te(\"Cat(x_e)\"), \"x\")\n",
    "catf"
   ]
  },
  {
   "cell_type": "code",
   "execution_count": 38,
   "metadata": {
    "collapsed": false
   },
   "outputs": [
    {
     "data": {
      "text/latex": [
       "$[\\lambda{} x_{e} \\: . \\: {Cat}({x}_{e})]({y}_{e})$"
      ],
      "text/plain": [
       "((λ x_e: Cat_<e,t>(x_e)))(y_e)"
      ]
     },
     "execution_count": 38,
     "metadata": {},
     "output_type": "execute_result"
    }
   ],
   "source": [
    "catf(te(\"y_e\"))"
   ]
  },
  {
   "cell_type": "markdown",
   "metadata": {},
   "source": [
    "Building a function-argument expression builds a complex, unreduced expression.  This can be explicitly reduced (note that the _reduce_all_ function applies this recursively):"
   ]
  },
  {
   "cell_type": "code",
   "execution_count": 39,
   "metadata": {
    "collapsed": false
   },
   "outputs": [
    {
     "data": {
      "text/latex": [
       "${Cat}({y}_{e})$"
      ],
      "text/plain": [
       "Cat_<e,t>(y_e)"
      ]
     },
     "execution_count": 39,
     "metadata": {},
     "output_type": "execute_result"
    }
   ],
   "source": [
    "catf(te(\"y_e\")).reduce()"
   ]
  },
  {
   "cell_type": "code",
   "execution_count": 40,
   "metadata": {
    "collapsed": false
   },
   "outputs": [
    {
     "data": {
      "text/latex": [
       "<table><tr><td style=\"border-left:1px solid #848482\"><div><table style=\"padding-bottom:5px\"><tr style=\"border-bottom:1px solid #848482;padding-bottom:5px\"><td style=\"padding-right:5px;vertical-align:bottom\"> 1. </td><td style=\"vertical-align:bottom;padding-right:10px\">$[\\lambda{} x_{e} \\: . \\: {Cat}({x}_{e})]({y}_{e})$</td></tr><tr style=\"padding-bottom:5px\"><td style=\"padding-right:5px;vertical-align:bottom\"> 2. </td><td style=\"vertical-align:bottom;padding-right:10px\">${Cat}({y}_{e})$</td><td style=\"border-left:1px solid #848482\"><span style=\"color:blue\">Beta reduction</span></td></tr></table></div></td></tr></table>"
      ],
      "text/plain": [
       "<lamb.meta.Derivation at 0x10481db90>"
      ]
     },
     "execution_count": 40,
     "metadata": {},
     "output_type": "execute_result"
    }
   ],
   "source": [
    "(catf(te(\"y_e\")).reduce()).derivation"
   ]
  },
  {
   "cell_type": "markdown",
   "metadata": {},
   "source": [
    "The metalanguage supports some basic type inference.  Not that this happens already on combination of a function and argument into an unreduced expression, not on beta-reduction."
   ]
  },
  {
   "cell_type": "code",
   "execution_count": 41,
   "metadata": {
    "collapsed": false
   },
   "outputs": [
    {
     "data": {
      "text/latex": [
       "$[\\lambda{} x_{t_{?}} \\: . \\: {P}_{\\langle{}t_{?},t\\rangle{}}({x}_{t_{?}})]({y}_{t})$<br /><br />&lt;b&gt;Derivation:&lt;/b&gt;<br /><table><tr><td style=\"border-left:1px solid #848482\"><div><table style=\"padding-bottom:5px\"><tr style=\"border-bottom:1px solid #848482;padding-bottom:5px\"><td style=\"padding-right:5px;vertical-align:bottom\"> 1. </td><td style=\"vertical-align:bottom;padding-right:10px\">$[\\lambda{} x_{?} \\: . \\: {P}_{\\langle{}?,t\\rangle{}}({x}_{?})]({y}_{t})$</td></tr><tr style=\"padding-bottom:5px\"><td style=\"padding-right:5px;vertical-align:bottom\"> 2. </td><td style=\"vertical-align:bottom;padding-right:10px\">$[\\lambda{} x_{t_{?}} \\: . \\: {P}_{\\langle{}t_{?},t\\rangle{}}({x}_{t_{?}})]({y}_{t})$</td><td style=\"border-left:1px solid #848482\"><span style=\"color:blue\">Type inference</span></td></tr></table></div></td></tr></table><br />$t_{?}$<br />"
      ],
      "text/plain": [
       "$[\\lambda{} x_{t_{?}} \\: . \\: {P}_{\\langle{}t_{?},t\\rangle{}}({x}_{t_{?}})]({y}_{t})$<br /><br />&lt;b&gt;Derivation:&lt;/b&gt;<br /><table><tr><td style=\"border-left:1px solid #848482\"><div><table style=\"padding-bottom:5px\"><tr style=\"border-bottom:1px solid #848482;padding-bottom:5px\"><td style=\"padding-right:5px;vertical-align:bottom\"> 1. </td><td style=\"vertical-align:bottom;padding-right:10px\">$[\\lambda{} x_{?} \\: . \\: {P}_{\\langle{}?,t\\rangle{}}({x}_{?})]({y}_{t})$</td></tr><tr style=\"padding-bottom:5px\"><td style=\"padding-right:5px;vertical-align:bottom\"> 2. </td><td style=\"vertical-align:bottom;padding-right:10px\">$[\\lambda{} x_{t_{?}} \\: . \\: {P}_{\\langle{}t_{?},t\\rangle{}}({x}_{t_{?}})]({y}_{t})$</td><td style=\"border-left:1px solid #848482\"><span style=\"color:blue\">Type inference</span></td></tr></table></div></td></tr></table><br />$t_{?}$<br />"
      ]
     },
     "execution_count": 41,
     "metadata": {},
     "output_type": "execute_result"
    }
   ],
   "source": [
    "%lamb ttest = L x_? : P_<?,t>(x) # type <?,t>\n",
    "%lamb tvar = y_t\n",
    "r = ttest(tvar)\n",
    "ltx_print(r, \"\", \"<b>Derivation:</b>\", r.derivation, r.type)"
   ]
  },
  {
   "cell_type": "code",
   "execution_count": 42,
   "metadata": {
    "collapsed": false
   },
   "outputs": [
    {
     "data": {
      "text/latex": [
       "${P}_{\\langle{}t_{?},t\\rangle{}}({y}_{t})$<br /><br />&lt;b&gt;Derivation:&lt;/b&gt;<br /><table><tr><td style=\"border-left:1px solid #848482\"><div><table style=\"padding-bottom:5px\"><tr style=\"border-bottom:1px solid #848482;padding-bottom:5px\"><td style=\"padding-right:5px;vertical-align:bottom\"> 1. </td><td style=\"vertical-align:bottom;padding-right:10px\">$[\\lambda{} x_{?} \\: . \\: {P}_{\\langle{}?,t\\rangle{}}({x}_{?})]({y}_{t})$</td></tr><tr style=\"border-bottom:1px solid #848482;padding-bottom:5px\"><td style=\"padding-right:5px;vertical-align:bottom\"> 2. </td><td style=\"vertical-align:bottom;padding-right:10px\">$[\\lambda{} x_{t_{?}} \\: . \\: {P}_{\\langle{}t_{?},t\\rangle{}}({x}_{t_{?}})]({y}_{t})$</td><td style=\"border-left:1px solid #848482\"><span style=\"color:blue\">Type inference</span></td></tr><tr style=\"padding-bottom:5px\"><td style=\"padding-right:5px;vertical-align:bottom\"> 3. </td><td style=\"vertical-align:bottom;padding-right:10px\">${P}_{\\langle{}t_{?},t\\rangle{}}({y}_{t})$</td><td style=\"border-left:1px solid #848482\"><span style=\"color:blue\">Beta reduction</span></td></tr></table></div></td></tr></table><br />"
      ],
      "text/plain": [
       "${P}_{\\langle{}t_{?},t\\rangle{}}({y}_{t})$<br /><br />&lt;b&gt;Derivation:&lt;/b&gt;<br /><table><tr><td style=\"border-left:1px solid #848482\"><div><table style=\"padding-bottom:5px\"><tr style=\"border-bottom:1px solid #848482;padding-bottom:5px\"><td style=\"padding-right:5px;vertical-align:bottom\"> 1. </td><td style=\"vertical-align:bottom;padding-right:10px\">$[\\lambda{} x_{?} \\: . \\: {P}_{\\langle{}?,t\\rangle{}}({x}_{?})]({y}_{t})$</td></tr><tr style=\"border-bottom:1px solid #848482;padding-bottom:5px\"><td style=\"padding-right:5px;vertical-align:bottom\"> 2. </td><td style=\"vertical-align:bottom;padding-right:10px\">$[\\lambda{} x_{t_{?}} \\: . \\: {P}_{\\langle{}t_{?},t\\rangle{}}({x}_{t_{?}})]({y}_{t})$</td><td style=\"border-left:1px solid #848482\"><span style=\"color:blue\">Type inference</span></td></tr><tr style=\"padding-bottom:5px\"><td style=\"padding-right:5px;vertical-align:bottom\"> 3. </td><td style=\"vertical-align:bottom;padding-right:10px\">${P}_{\\langle{}t_{?},t\\rangle{}}({y}_{t})$</td><td style=\"border-left:1px solid #848482\"><span style=\"color:blue\">Beta reduction</span></td></tr></table></div></td></tr></table><br />"
      ]
     },
     "execution_count": 42,
     "metadata": {},
     "output_type": "execute_result"
    }
   ],
   "source": [
    "ltx_print(r.reduce(), \"\", \"<b>Derivation:</b>\", r.reduce().derivation)"
   ]
  },
  {
   "cell_type": "markdown",
   "metadata": {},
   "source": [
    "Just to unpack this, (some) steps internal to a derivation are stored as a property on a TypedExpr:"
   ]
  },
  {
   "cell_type": "code",
   "execution_count": 43,
   "metadata": {
    "collapsed": false
   },
   "outputs": [
    {
     "data": {
      "text/latex": [
       "<table><tr><td style=\"border-left:1px solid #848482\"><div><table style=\"padding-bottom:5px\"><tr style=\"border-bottom:1px solid #848482;padding-bottom:5px\"><td style=\"padding-right:5px;vertical-align:bottom\"> 1. </td><td style=\"vertical-align:bottom;padding-right:10px\">$[\\lambda{} x_{?} \\: . \\: {P}_{\\langle{}?,t\\rangle{}}({x}_{?})]({y}_{t})$</td></tr><tr style=\"border-bottom:1px solid #848482;padding-bottom:5px\"><td style=\"padding-right:5px;vertical-align:bottom\"> 2. </td><td style=\"vertical-align:bottom;padding-right:10px\">$[\\lambda{} x_{t_{?}} \\: . \\: {P}_{\\langle{}t_{?},t\\rangle{}}({x}_{t_{?}})]({y}_{t})$</td><td style=\"border-left:1px solid #848482\"><span style=\"color:blue\">Type inference</span></td></tr><tr style=\"padding-bottom:5px\"><td style=\"padding-right:5px;vertical-align:bottom\"> 3. </td><td style=\"vertical-align:bottom;padding-right:10px\">${P}_{\\langle{}t_{?},t\\rangle{}}({y}_{t})$</td><td style=\"border-left:1px solid #848482\"><span style=\"color:blue\">Beta reduction</span></td></tr></table></div></td></tr></table>"
      ],
      "text/plain": [
       "<lamb.meta.Derivation at 0x10474efd0>"
      ]
     },
     "execution_count": 43,
     "metadata": {},
     "output_type": "execute_result"
    }
   ],
   "source": [
    "r.reduce().derivation"
   ]
  },
  {
   "cell_type": "markdown",
   "metadata": {},
   "source": [
    "&nbsp;\n",
    "\n",
    "## Part 3: composition systems for an object language ##\n",
    "\n",
    " * Focus on type-driven composition, current syntactic implementation fairly minimal\n",
    " * No shortage of ways to extend this.\n",
    "\n",
    "Key class(/mixin): _Composable_.  Some key subclasses:\n",
    "\n",
    " * _Item_: representation of a lexical item\n",
    " * _BinaryComposite_: result of composing any two _Composables_ using a single composition method.  Inherits from _nltk.Tree_!\n",
    " * _CompositionResult_: result of composing any two _Composables_ -- may represent multiple possible composition paths\n",
    "\n",
    "Key class: _CompositionSystem_.  Describes a set of composition operations."
   ]
  },
  {
   "cell_type": "code",
   "execution_count": 44,
   "metadata": {
    "collapsed": false
   },
   "outputs": [
    {
     "data": {
      "text/latex": [
       "Composition system 'demo system'<br />Operations: FA, PM, PA"
      ],
      "text/plain": [
       "Composition system: demo system"
      ]
     },
     "execution_count": 44,
     "metadata": {},
     "output_type": "execute_result"
    }
   ],
   "source": [
    "# none of this is strictly necessary, the built-in library already provides effectively this system.\n",
    "pm = lang.BinaryCompositionOp(\"PM\", lang.pm_fun, commutative=False, reduce=True)\n",
    "fa = lang.BinaryCompositionOp(\"FA\", lang.fa_fun, reduce=True)\n",
    "pa = lang.BinaryCompositionOp(\"PA\", lang.pa_fun, allow_none=True)\n",
    "demo_hk_system = lang.CompositionSystem(name=\"demo system\", rules=[fa, pm, pa])\n",
    "lang.set_system(demo_hk_system)\n",
    "demo_hk_system"
   ]
  },
  {
   "cell_type": "code",
   "execution_count": null,
   "metadata": {
    "collapsed": false
   },
   "outputs": [],
   "source": []
  },
  {
   "cell_type": "code",
   "execution_count": 45,
   "metadata": {
    "collapsed": false
   },
   "outputs": [
    {
     "name": "stderr",
     "output_type": "stream",
     "text": [
      "INFO (meta): Coerced guessed type t for 'Cat_t' into <e,t>, to match argument 'x_e'\n",
      "INFO (meta): Coerced guessed type t for 'Gray_t' into <e,t>, to match argument 'x_e'\n",
      "INFO (meta): Coerced guessed type t for 'In_t' into <(e,e),t>, to match argument '(y_e, x_e)'\n"
     ]
    },
    {
     "data": {
      "text/latex": [
       "$[\\![\\mathbf{\\text{cat}}]\\!]^{}_{\\langle{}e,t\\rangle{}} \\:=\\: \\lambda{} x_{e} \\: . \\: {Cat}({x}_{e})$<br />\n",
       "$[\\![\\mathbf{\\text{gray}}]\\!]^{}_{\\langle{}e,t\\rangle{}} \\:=\\: \\lambda{} x_{e} \\: . \\: {Gray}({x}_{e})$<br />\n",
       "$[\\![\\mathbf{\\text{john}}]\\!]^{}_{e} \\:=\\: {John}_{e}$<br />\n",
       "$[\\![\\mathbf{\\text{julius}}]\\!]^{}_{e} \\:=\\: {Julius}_{e}$<br />\n",
       "$[\\![\\mathbf{\\text{inP}}]\\!]^{}_{\\langle{}e,\\langle{}e,t\\rangle{}\\rangle{}} \\:=\\: \\lambda{} x_{e} \\: . \\: \\lambda{} y_{e} \\: . \\: {In}({y}_{e}, {x}_{e})$<br />\n",
       "$[\\![\\mathbf{\\text{texas}}]\\!]^{}_{e} \\:=\\: {Texas}_{e}$<br />\n",
       "$[\\![\\mathbf{\\text{isV}}]\\!]^{}_{\\langle{}\\langle{}e,t\\rangle{},\\langle{}e,t\\rangle{}\\rangle{}} \\:=\\: \\lambda{} p_{\\langle{}e,t\\rangle{}} \\: . \\: {p}_{\\langle{}e,t\\rangle{}}$"
      ],
      "text/plain": [
       "$[\\![\\mathbf{\\text{cat}}]\\!]^{}_{\\langle{}e,t\\rangle{}} \\:=\\: \\lambda{} x_{e} \\: . \\: {Cat}({x}_{e})$<br />\n",
       "$[\\![\\mathbf{\\text{gray}}]\\!]^{}_{\\langle{}e,t\\rangle{}} \\:=\\: \\lambda{} x_{e} \\: . \\: {Gray}({x}_{e})$<br />\n",
       "$[\\![\\mathbf{\\text{john}}]\\!]^{}_{e} \\:=\\: {John}_{e}$<br />\n",
       "$[\\![\\mathbf{\\text{julius}}]\\!]^{}_{e} \\:=\\: {Julius}_{e}$<br />\n",
       "$[\\![\\mathbf{\\text{inP}}]\\!]^{}_{\\langle{}e,\\langle{}e,t\\rangle{}\\rangle{}} \\:=\\: \\lambda{} x_{e} \\: . \\: \\lambda{} y_{e} \\: . \\: {In}({y}_{e}, {x}_{e})$<br />\n",
       "$[\\![\\mathbf{\\text{texas}}]\\!]^{}_{e} \\:=\\: {Texas}_{e}$<br />\n",
       "$[\\![\\mathbf{\\text{isV}}]\\!]^{}_{\\langle{}\\langle{}e,t\\rangle{},\\langle{}e,t\\rangle{}\\rangle{}} \\:=\\: \\lambda{} p_{\\langle{}e,t\\rangle{}} \\: . \\: {p}_{\\langle{}e,t\\rangle{}}$"
      ]
     },
     "execution_count": 45,
     "metadata": {},
     "output_type": "execute_result"
    }
   ],
   "source": [
    "%%lamb\n",
    "||cat|| = L x_e: Cat(x)\n",
    "||gray|| = L x_e: Gray(x)\n",
    "||john|| = John_e\n",
    "||julius|| = Julius_e\n",
    "||inP|| = L x_e : L y_e : In(y, x)\n",
    "||texas|| = Texas_e\n",
    "||isV|| = L p_<e,t> : p"
   ]
  },
  {
   "cell_type": "code",
   "execution_count": null,
   "metadata": {
    "collapsed": false
   },
   "outputs": [],
   "source": []
  },
  {
   "cell_type": "markdown",
   "metadata": {},
   "source": [
    "In the purely type-driven mode, composition is triggered by using the '*' operator on a composable."
   ]
  },
  {
   "cell_type": "code",
   "execution_count": 46,
   "metadata": {
    "collapsed": false
   },
   "outputs": [
    {
     "data": {
      "text/latex": [
       "1 composition path.  Result:\n",
       "<br />&nbsp;&nbsp;&nbsp;&nbsp;[0]: $[\\![\\mathbf{\\text{[inP texas]}}]\\!]^{}_{\\langle{}e,t\\rangle{}} \\:=\\: $$\\lambda{} y_{e} \\: . \\: {In}({y}_{e}, {Texas}_{e})$"
      ],
      "text/plain": [
       "CompositionResult(results=[⟦[inP texas]⟧ = (λ y_e: In_<(e,e),t>(y_e, Texas_e))], failures=[⟦[texas inP]⟧ = Type mismatch: '⟦texas⟧ = Texas_e'/e and '⟦inP⟧ = (λ x_e: (λ y_e: In_<(e,e),t>(y_e, x_e)))'/<e,<e,t>> conflict (mode: Function Application), ⟦[inP texas]⟧ = Type mismatch: '⟦inP⟧ = (λ x_e: (λ y_e: In_<(e,e),t>(y_e, x_e)))'/<e,<e,t>> and '⟦texas⟧ = Texas_e'/e conflict (mode: Predicate Modification), ⟦[texas inP]⟧ = Type mismatch: '⟦texas⟧ = Texas_e'/e and '⟦inP⟧ = (λ x_e: (λ y_e: In_<(e,e),t>(y_e, x_e)))'/<e,<e,t>> conflict (mode: Predicate Modification), ⟦[inP texas]⟧ = Type mismatch: '⟦inP⟧ = (λ x_e: (λ y_e: In_<(e,e),t>(y_e, x_e)))'/<e,<e,t>> and '⟦texas⟧ = Texas_e'/e conflict (mode: Predicate Abstraction), ⟦[texas inP]⟧ = Type mismatch: '⟦texas⟧ = Texas_e'/e and '⟦inP⟧ = (λ x_e: (λ y_e: In_<(e,e),t>(y_e, x_e)))'/<e,<e,t>> conflict (mode: Predicate Abstraction)])"
      ]
     },
     "execution_count": 46,
     "metadata": {},
     "output_type": "execute_result"
    }
   ],
   "source": [
    "inP * texas"
   ]
  },
  {
   "cell_type": "code",
   "execution_count": 47,
   "metadata": {
    "collapsed": false
   },
   "outputs": [
    {
     "data": {
      "text/latex": [
       "1 composition path.  Result:\n",
       "<br />&nbsp;&nbsp;&nbsp;&nbsp;[0]: $[\\![\\mathbf{\\text{[[isV [inP texas]] julius]}}]\\!]^{}_{t} \\:=\\: $${In}({Julius}_{e}, {Texas}_{e})$"
      ],
      "text/plain": [
       "CompositionResult(results=[⟦[[isV [inP texas]] julius]⟧ = In_<(e,e),t>(Julius_e, Texas_e)], failures=[⟦[julius [isV [inP texas]]]⟧ = Type mismatch: '⟦julius⟧ = Julius_e'/e and '⟦[isV [inP texas]]⟧ = (λ y_e: In_<(e,e),t>(y_e, Texas_e))'/<e,t> conflict (mode: Function Application), ⟦[julius [isV [inP texas]]]⟧ = Type mismatch: '⟦julius⟧ = Julius_e'/e and '⟦[isV [inP texas]]⟧ = (λ y_e: In_<(e,e),t>(y_e, Texas_e))'/<e,t> conflict (mode: Predicate Modification), ⟦[[isV [inP texas]] julius]⟧ = Type mismatch: '⟦[isV [inP texas]]⟧ = (λ y_e: In_<(e,e),t>(y_e, Texas_e))'/<e,t> and '⟦julius⟧ = Julius_e'/e conflict (mode: Predicate Modification), ⟦[julius [isV [inP texas]]]⟧ = Type mismatch: '⟦julius⟧ = Julius_e'/e and '⟦[isV [inP texas]]⟧ = (λ y_e: In_<(e,e),t>(y_e, Texas_e))'/<e,t> conflict (mode: Predicate Abstraction), ⟦[[isV [inP texas]] julius]⟧ = Type mismatch: '⟦[isV [inP texas]]⟧ = (λ y_e: In_<(e,e),t>(y_e, Texas_e))'/<e,t> and '⟦julius⟧ = Julius_e'/e conflict (mode: Predicate Abstraction)])"
      ]
     },
     "execution_count": 47,
     "metadata": {},
     "output_type": "execute_result"
    }
   ],
   "source": [
    "sentence1 = julius * (isV * (inP * texas))\n",
    "sentence1"
   ]
  },
  {
   "cell_type": "code",
   "execution_count": 48,
   "metadata": {
    "collapsed": false
   },
   "outputs": [
    {
     "data": {
      "text/latex": [
       "Full composition trace.  1 path:<br />\n",
       "&nbsp;&nbsp;&nbsp;&nbsp;Step 1: $[\\![\\mathbf{\\text{isV}}]\\!]^{}_{\\langle{}\\langle{}e,t\\rangle{},\\langle{}e,t\\rangle{}\\rangle{}} \\:=\\: $$\\lambda{} p_{\\langle{}e,t\\rangle{}} \\: . \\: {p}_{\\langle{}e,t\\rangle{}}$<br />\n",
       "&nbsp;&nbsp;&nbsp;&nbsp;Step 2: $[\\![\\mathbf{\\text{inP}}]\\!]^{}_{\\langle{}e,\\langle{}e,t\\rangle{}\\rangle{}} \\:=\\: $$\\lambda{} x_{e} \\: . \\: \\lambda{} y_{e} \\: . \\: {In}({y}_{e}, {x}_{e})$<br />\n",
       "&nbsp;&nbsp;&nbsp;&nbsp;Step 3: $[\\![\\mathbf{\\text{texas}}]\\!]^{}_{e} \\:=\\: $${Texas}_{e}$<br />\n",
       "&nbsp;&nbsp;&nbsp;&nbsp;Step 4: $[\\![\\mathbf{\\text{inP}}]\\!]^{}_{\\langle{}e,\\langle{}e,t\\rangle{}\\rangle{}}$ * $[\\![\\mathbf{\\text{texas}}]\\!]^{}_{e}$ leads to: $[\\![\\mathbf{\\text{[inP texas]}}]\\!]^{}_{\\langle{}e,t\\rangle{}} \\:=\\: $$\\lambda{} y_{e} \\: . \\: {In}({y}_{e}, {Texas}_{e})$ <b>[by FA]</b><br />\n",
       "&nbsp;&nbsp;&nbsp;&nbsp;Step 5: $[\\![\\mathbf{\\text{isV}}]\\!]^{}_{\\langle{}\\langle{}e,t\\rangle{},\\langle{}e,t\\rangle{}\\rangle{}}$ * $[\\![\\mathbf{\\text{[inP texas]}}]\\!]^{}_{\\langle{}e,t\\rangle{}}$ leads to: $[\\![\\mathbf{\\text{[isV [inP texas]]}}]\\!]^{}_{\\langle{}e,t\\rangle{}} \\:=\\: $$\\lambda{} y_{e} \\: . \\: {In}({y}_{e}, {Texas}_{e})$ <b>[by FA]</b><br />\n",
       "&nbsp;&nbsp;&nbsp;&nbsp;Step 6: $[\\![\\mathbf{\\text{julius}}]\\!]^{}_{e} \\:=\\: $${Julius}_{e}$<br />\n",
       "&nbsp;&nbsp;&nbsp;&nbsp;Step 7: $[\\![\\mathbf{\\text{[isV [inP texas]]}}]\\!]^{}_{\\langle{}e,t\\rangle{}}$ * $[\\![\\mathbf{\\text{julius}}]\\!]^{}_{e}$ leads to: $[\\![\\mathbf{\\text{[[isV [inP texas]] julius]}}]\\!]^{}_{t} \\:=\\: $${In}({Julius}_{e}, {Texas}_{e})$ <b>[by FA]</b><br />\n"
      ],
      "text/plain": [
       "Full composition trace.  1 path:<br />\n",
       "&nbsp;&nbsp;&nbsp;&nbsp;Step 1: $[\\![\\mathbf{\\text{isV}}]\\!]^{}_{\\langle{}\\langle{}e,t\\rangle{},\\langle{}e,t\\rangle{}\\rangle{}} \\:=\\: $$\\lambda{} p_{\\langle{}e,t\\rangle{}} \\: . \\: {p}_{\\langle{}e,t\\rangle{}}$<br />\n",
       "&nbsp;&nbsp;&nbsp;&nbsp;Step 2: $[\\![\\mathbf{\\text{inP}}]\\!]^{}_{\\langle{}e,\\langle{}e,t\\rangle{}\\rangle{}} \\:=\\: $$\\lambda{} x_{e} \\: . \\: \\lambda{} y_{e} \\: . \\: {In}({y}_{e}, {x}_{e})$<br />\n",
       "&nbsp;&nbsp;&nbsp;&nbsp;Step 3: $[\\![\\mathbf{\\text{texas}}]\\!]^{}_{e} \\:=\\: $${Texas}_{e}$<br />\n",
       "&nbsp;&nbsp;&nbsp;&nbsp;Step 4: $[\\![\\mathbf{\\text{inP}}]\\!]^{}_{\\langle{}e,\\langle{}e,t\\rangle{}\\rangle{}}$ * $[\\![\\mathbf{\\text{texas}}]\\!]^{}_{e}$ leads to: $[\\![\\mathbf{\\text{[inP texas]}}]\\!]^{}_{\\langle{}e,t\\rangle{}} \\:=\\: $$\\lambda{} y_{e} \\: . \\: {In}({y}_{e}, {Texas}_{e})$ <b>[by FA]</b><br />\n",
       "&nbsp;&nbsp;&nbsp;&nbsp;Step 5: $[\\![\\mathbf{\\text{isV}}]\\!]^{}_{\\langle{}\\langle{}e,t\\rangle{},\\langle{}e,t\\rangle{}\\rangle{}}$ * $[\\![\\mathbf{\\text{[inP texas]}}]\\!]^{}_{\\langle{}e,t\\rangle{}}$ leads to: $[\\![\\mathbf{\\text{[isV [inP texas]]}}]\\!]^{}_{\\langle{}e,t\\rangle{}} \\:=\\: $$\\lambda{} y_{e} \\: . \\: {In}({y}_{e}, {Texas}_{e})$ <b>[by FA]</b><br />\n",
       "&nbsp;&nbsp;&nbsp;&nbsp;Step 6: $[\\![\\mathbf{\\text{julius}}]\\!]^{}_{e} \\:=\\: $${Julius}_{e}$<br />\n",
       "&nbsp;&nbsp;&nbsp;&nbsp;Step 7: $[\\![\\mathbf{\\text{[isV [inP texas]]}}]\\!]^{}_{\\langle{}e,t\\rangle{}}$ * $[\\![\\mathbf{\\text{julius}}]\\!]^{}_{e}$ leads to: $[\\![\\mathbf{\\text{[[isV [inP texas]] julius]}}]\\!]^{}_{t} \\:=\\: $${In}({Julius}_{e}, {Texas}_{e})$ <b>[by FA]</b><br />"
      ]
     },
     "execution_count": 48,
     "metadata": {},
     "output_type": "execute_result"
    }
   ],
   "source": [
    "sentence1.trace()"
   ]
  },
  {
   "cell_type": "markdown",
   "metadata": {},
   "source": [
    "I have temporarily disabled the fact that standard PM is symmetric/commutative (because of conjunction), to illustrated multiple composition paths:"
   ]
  },
  {
   "cell_type": "code",
   "execution_count": 49,
   "metadata": {
    "collapsed": false
   },
   "outputs": [
    {
     "data": {
      "text/latex": [
       "2 composition paths. Results:\n",
       "<br />&nbsp;&nbsp;&nbsp;&nbsp;[0]: $[\\![\\mathbf{\\text{[gray cat]}}]\\!]^{}_{\\langle{}e,t\\rangle{}} \\:=\\: $$\\lambda{} x_{e} \\: . \\: ({Gray}({x}_{e}) \\wedge{} {Cat}({x}_{e}))$\n",
       "<br />&nbsp;&nbsp;&nbsp;&nbsp;[1]: $[\\![\\mathbf{\\text{[cat gray]}}]\\!]^{}_{\\langle{}e,t\\rangle{}} \\:=\\: $$\\lambda{} x_{e} \\: . \\: ({Cat}({x}_{e}) \\wedge{} {Gray}({x}_{e}))$"
      ],
      "text/plain": [
       "CompositionResult(results=[⟦[gray cat]⟧ = (λ x_e: (Gray_<e,t>(x_e) & Cat_<e,t>(x_e))), ⟦[cat gray]⟧ = (λ x_e: (Cat_<e,t>(x_e) & Gray_<e,t>(x_e)))], failures=[⟦[gray cat]⟧ = Type mismatch: '⟦gray⟧ = (λ x_e: Gray_<e,t>(x_e))'/<e,t> and '⟦cat⟧ = (λ x_e: Cat_<e,t>(x_e))'/<e,t> conflict (mode: Function Application), ⟦[cat gray]⟧ = Type mismatch: '⟦cat⟧ = (λ x_e: Cat_<e,t>(x_e))'/<e,t> and '⟦gray⟧ = (λ x_e: Gray_<e,t>(x_e))'/<e,t> conflict (mode: Function Application), ⟦[gray cat]⟧ = Type mismatch: '⟦gray⟧ = (λ x_e: Gray_<e,t>(x_e))'/<e,t> and '⟦cat⟧ = (λ x_e: Cat_<e,t>(x_e))'/<e,t> conflict (mode: Predicate Abstraction), ⟦[cat gray]⟧ = Type mismatch: '⟦cat⟧ = (λ x_e: Cat_<e,t>(x_e))'/<e,t> and '⟦gray⟧ = (λ x_e: Gray_<e,t>(x_e))'/<e,t> conflict (mode: Predicate Abstraction)])"
      ]
     },
     "execution_count": 49,
     "metadata": {},
     "output_type": "execute_result"
    }
   ],
   "source": [
    "gray * cat"
   ]
  },
  {
   "cell_type": "code",
   "execution_count": 50,
   "metadata": {
    "collapsed": false
   },
   "outputs": [
    {
     "data": {
      "text/latex": [
       "4 composition paths. Results:\n",
       "<br />&nbsp;&nbsp;&nbsp;&nbsp;[0]: $[\\![\\mathbf{\\text{[gray [cat [inP texas]]]}}]\\!]^{}_{\\langle{}e,t\\rangle{}} \\:=\\: $$\\lambda{} x_{e} \\: . \\: ({Gray}({x}_{e}) \\wedge{} ({Cat}({x}_{e}) \\wedge{} {In}({x}_{e}, {Texas}_{e})))$\n",
       "<br />&nbsp;&nbsp;&nbsp;&nbsp;[1]: $[\\![\\mathbf{\\text{[[cat [inP texas]] gray]}}]\\!]^{}_{\\langle{}e,t\\rangle{}} \\:=\\: $$\\lambda{} x_{e} \\: . \\: (({Cat}({x}_{e}) \\wedge{} {In}({x}_{e}, {Texas}_{e})) \\wedge{} {Gray}({x}_{e}))$\n",
       "<br />&nbsp;&nbsp;&nbsp;&nbsp;[2]: $[\\![\\mathbf{\\text{[gray [[inP texas] cat]]}}]\\!]^{}_{\\langle{}e,t\\rangle{}} \\:=\\: $$\\lambda{} x_{e} \\: . \\: ({Gray}({x}_{e}) \\wedge{} ({In}({x}_{e}, {Texas}_{e}) \\wedge{} {Cat}({x}_{e})))$\n",
       "<br />&nbsp;&nbsp;&nbsp;&nbsp;[3]: $[\\![\\mathbf{\\text{[[[inP texas] cat] gray]}}]\\!]^{}_{\\langle{}e,t\\rangle{}} \\:=\\: $$\\lambda{} x_{e} \\: . \\: (({In}({x}_{e}, {Texas}_{e}) \\wedge{} {Cat}({x}_{e})) \\wedge{} {Gray}({x}_{e}))$"
      ],
      "text/plain": [
       "CompositionResult(results=[⟦[gray [cat [inP texas]]]⟧ = (λ x_e: (Gray_<e,t>(x_e) & (Cat_<e,t>(x_e) & In_<(e,e),t>(x_e, Texas_e)))), ⟦[[cat [inP texas]] gray]⟧ = (λ x_e: ((Cat_<e,t>(x_e) & In_<(e,e),t>(x_e, Texas_e)) & Gray_<e,t>(x_e))), ⟦[gray [[inP texas] cat]]⟧ = (λ x_e: (Gray_<e,t>(x_e) & (In_<(e,e),t>(x_e, Texas_e) & Cat_<e,t>(x_e)))), ⟦[[[inP texas] cat] gray]⟧ = (λ x_e: ((In_<(e,e),t>(x_e, Texas_e) & Cat_<e,t>(x_e)) & Gray_<e,t>(x_e)))], failures=[⟦[gray [cat [inP texas]]]⟧ = Type mismatch: '⟦gray⟧ = (λ x_e: Gray_<e,t>(x_e))'/<e,t> and '⟦[cat [inP texas]]⟧ = (λ x_e: (Cat_<e,t>(x_e) & In_<(e,e),t>(x_e, Texas_e)))'/<e,t> conflict (mode: Function Application), ⟦[[cat [inP texas]] gray]⟧ = Type mismatch: '⟦[cat [inP texas]]⟧ = (λ x_e: (Cat_<e,t>(x_e) & In_<(e,e),t>(x_e, Texas_e)))'/<e,t> and '⟦gray⟧ = (λ x_e: Gray_<e,t>(x_e))'/<e,t> conflict (mode: Function Application), ⟦[gray [cat [inP texas]]]⟧ = Type mismatch: '⟦gray⟧ = (λ x_e: Gray_<e,t>(x_e))'/<e,t> and '⟦[cat [inP texas]]⟧ = (λ x_e: (Cat_<e,t>(x_e) & In_<(e,e),t>(x_e, Texas_e)))'/<e,t> conflict (mode: Predicate Abstraction), ⟦[[cat [inP texas]] gray]⟧ = Type mismatch: '⟦[cat [inP texas]]⟧ = (λ x_e: (Cat_<e,t>(x_e) & In_<(e,e),t>(x_e, Texas_e)))'/<e,t> and '⟦gray⟧ = (λ x_e: Gray_<e,t>(x_e))'/<e,t> conflict (mode: Predicate Abstraction), ⟦[gray [[inP texas] cat]]⟧ = Type mismatch: '⟦gray⟧ = (λ x_e: Gray_<e,t>(x_e))'/<e,t> and '⟦[[inP texas] cat]⟧ = (λ x_e: (In_<(e,e),t>(x_e, Texas_e) & Cat_<e,t>(x_e)))'/<e,t> conflict (mode: Function Application), ⟦[[[inP texas] cat] gray]⟧ = Type mismatch: '⟦[[inP texas] cat]⟧ = (λ x_e: (In_<(e,e),t>(x_e, Texas_e) & Cat_<e,t>(x_e)))'/<e,t> and '⟦gray⟧ = (λ x_e: Gray_<e,t>(x_e))'/<e,t> conflict (mode: Function Application), ⟦[gray [[inP texas] cat]]⟧ = Type mismatch: '⟦gray⟧ = (λ x_e: Gray_<e,t>(x_e))'/<e,t> and '⟦[[inP texas] cat]⟧ = (λ x_e: (In_<(e,e),t>(x_e, Texas_e) & Cat_<e,t>(x_e)))'/<e,t> conflict (mode: Predicate Abstraction), ⟦[[[inP texas] cat] gray]⟧ = Type mismatch: '⟦[[inP texas] cat]⟧ = (λ x_e: (In_<(e,e),t>(x_e, Texas_e) & Cat_<e,t>(x_e)))'/<e,t> and '⟦gray⟧ = (λ x_e: Gray_<e,t>(x_e))'/<e,t> conflict (mode: Predicate Abstraction)])"
      ]
     },
     "execution_count": 50,
     "metadata": {},
     "output_type": "execute_result"
    }
   ],
   "source": [
    "gray * (cat * (inP * texas))"
   ]
  },
  {
   "cell_type": "code",
   "execution_count": 51,
   "metadata": {
    "collapsed": false
   },
   "outputs": [
    {
     "data": {
      "text/latex": [
       "4 composition paths. Results:\n",
       "<br />&nbsp;&nbsp;&nbsp;&nbsp;[0]: $[\\![\\mathbf{\\text{[isV [a [[gray cat] [inP texas]]]]}}]\\!]^{}_{\\langle{}e,t\\rangle{}} \\:=\\: $$\\lambda{} x_{e} \\: . \\: (({Gray}({x}_{e}) \\wedge{} {Cat}({x}_{e})) \\wedge{} {In}({x}_{e}, {Texas}_{e}))$\n",
       "<br />&nbsp;&nbsp;&nbsp;&nbsp;[1]: $[\\![\\mathbf{\\text{[isV [a [[inP texas] [gray cat]]]]}}]\\!]^{}_{\\langle{}e,t\\rangle{}} \\:=\\: $$\\lambda{} x_{e} \\: . \\: ({In}({x}_{e}, {Texas}_{e}) \\wedge{} ({Gray}({x}_{e}) \\wedge{} {Cat}({x}_{e})))$\n",
       "<br />&nbsp;&nbsp;&nbsp;&nbsp;[2]: $[\\![\\mathbf{\\text{[isV [a [[cat gray] [inP texas]]]]}}]\\!]^{}_{\\langle{}e,t\\rangle{}} \\:=\\: $$\\lambda{} x_{e} \\: . \\: (({Cat}({x}_{e}) \\wedge{} {Gray}({x}_{e})) \\wedge{} {In}({x}_{e}, {Texas}_{e}))$\n",
       "<br />&nbsp;&nbsp;&nbsp;&nbsp;[3]: $[\\![\\mathbf{\\text{[isV [a [[inP texas] [cat gray]]]]}}]\\!]^{}_{\\langle{}e,t\\rangle{}} \\:=\\: $$\\lambda{} x_{e} \\: . \\: ({In}({x}_{e}, {Texas}_{e}) \\wedge{} ({Cat}({x}_{e}) \\wedge{} {Gray}({x}_{e})))$"
      ],
      "text/plain": [
       "CompositionResult(results=[⟦[isV [a [[gray cat] [inP texas]]]]⟧ = (λ x_e: ((Gray_<e,t>(x_e) & Cat_<e,t>(x_e)) & In_<(e,e),t>(x_e, Texas_e))), ⟦[isV [a [[inP texas] [gray cat]]]]⟧ = (λ x_e: (In_<(e,e),t>(x_e, Texas_e) & (Gray_<e,t>(x_e) & Cat_<e,t>(x_e)))), ⟦[isV [a [[cat gray] [inP texas]]]]⟧ = (λ x_e: ((Cat_<e,t>(x_e) & Gray_<e,t>(x_e)) & In_<(e,e),t>(x_e, Texas_e))), ⟦[isV [a [[inP texas] [cat gray]]]]⟧ = (λ x_e: (In_<(e,e),t>(x_e, Texas_e) & (Cat_<e,t>(x_e) & Gray_<e,t>(x_e))))], failures=[⟦[[a [[gray cat] [inP texas]]] isV]⟧ = Type mismatch: '⟦[a [[gray cat] [inP texas]]]⟧ = (λ x_e: ((Gray_<e,t>(x_e) & Cat_<e,t>(x_e)) & In_<(e,e),t>(x_e, Texas_e)))'/<e,t> and '⟦isV⟧ = (λ p_<e,t>: p_<e,t>)'/<<e,t>,<e,t>> conflict (mode: Function Application), ⟦[isV [a [[gray cat] [inP texas]]]]⟧ = Type mismatch: '⟦isV⟧ = (λ p_<e,t>: p_<e,t>)'/<<e,t>,<e,t>> and '⟦[a [[gray cat] [inP texas]]]⟧ = (λ x_e: ((Gray_<e,t>(x_e) & Cat_<e,t>(x_e)) & In_<(e,e),t>(x_e, Texas_e)))'/<e,t> conflict (mode: Predicate Modification), ⟦[[a [[gray cat] [inP texas]]] isV]⟧ = Type mismatch: '⟦[a [[gray cat] [inP texas]]]⟧ = (λ x_e: ((Gray_<e,t>(x_e) & Cat_<e,t>(x_e)) & In_<(e,e),t>(x_e, Texas_e)))'/<e,t> and '⟦isV⟧ = (λ p_<e,t>: p_<e,t>)'/<<e,t>,<e,t>> conflict (mode: Predicate Modification), ⟦[isV [a [[gray cat] [inP texas]]]]⟧ = Type mismatch: '⟦isV⟧ = (λ p_<e,t>: p_<e,t>)'/<<e,t>,<e,t>> and '⟦[a [[gray cat] [inP texas]]]⟧ = (λ x_e: ((Gray_<e,t>(x_e) & Cat_<e,t>(x_e)) & In_<(e,e),t>(x_e, Texas_e)))'/<e,t> conflict (mode: Predicate Abstraction), ⟦[[a [[gray cat] [inP texas]]] isV]⟧ = Type mismatch: '⟦[a [[gray cat] [inP texas]]]⟧ = (λ x_e: ((Gray_<e,t>(x_e) & Cat_<e,t>(x_e)) & In_<(e,e),t>(x_e, Texas_e)))'/<e,t> and '⟦isV⟧ = (λ p_<e,t>: p_<e,t>)'/<<e,t>,<e,t>> conflict (mode: Predicate Abstraction), ⟦[[a [[inP texas] [gray cat]]] isV]⟧ = Type mismatch: '⟦[a [[inP texas] [gray cat]]]⟧ = (λ x_e: (In_<(e,e),t>(x_e, Texas_e) & (Gray_<e,t>(x_e) & Cat_<e,t>(x_e))))'/<e,t> and '⟦isV⟧ = (λ p_<e,t>: p_<e,t>)'/<<e,t>,<e,t>> conflict (mode: Function Application), ⟦[isV [a [[inP texas] [gray cat]]]]⟧ = Type mismatch: '⟦isV⟧ = (λ p_<e,t>: p_<e,t>)'/<<e,t>,<e,t>> and '⟦[a [[inP texas] [gray cat]]]⟧ = (λ x_e: (In_<(e,e),t>(x_e, Texas_e) & (Gray_<e,t>(x_e) & Cat_<e,t>(x_e))))'/<e,t> conflict (mode: Predicate Modification), ⟦[[a [[inP texas] [gray cat]]] isV]⟧ = Type mismatch: '⟦[a [[inP texas] [gray cat]]]⟧ = (λ x_e: (In_<(e,e),t>(x_e, Texas_e) & (Gray_<e,t>(x_e) & Cat_<e,t>(x_e))))'/<e,t> and '⟦isV⟧ = (λ p_<e,t>: p_<e,t>)'/<<e,t>,<e,t>> conflict (mode: Predicate Modification), ⟦[isV [a [[inP texas] [gray cat]]]]⟧ = Type mismatch: '⟦isV⟧ = (λ p_<e,t>: p_<e,t>)'/<<e,t>,<e,t>> and '⟦[a [[inP texas] [gray cat]]]⟧ = (λ x_e: (In_<(e,e),t>(x_e, Texas_e) & (Gray_<e,t>(x_e) & Cat_<e,t>(x_e))))'/<e,t> conflict (mode: Predicate Abstraction), ⟦[[a [[inP texas] [gray cat]]] isV]⟧ = Type mismatch: '⟦[a [[inP texas] [gray cat]]]⟧ = (λ x_e: (In_<(e,e),t>(x_e, Texas_e) & (Gray_<e,t>(x_e) & Cat_<e,t>(x_e))))'/<e,t> and '⟦isV⟧ = (λ p_<e,t>: p_<e,t>)'/<<e,t>,<e,t>> conflict (mode: Predicate Abstraction), ⟦[[a [[cat gray] [inP texas]]] isV]⟧ = Type mismatch: '⟦[a [[cat gray] [inP texas]]]⟧ = (λ x_e: ((Cat_<e,t>(x_e) & Gray_<e,t>(x_e)) & In_<(e,e),t>(x_e, Texas_e)))'/<e,t> and '⟦isV⟧ = (λ p_<e,t>: p_<e,t>)'/<<e,t>,<e,t>> conflict (mode: Function Application), ⟦[isV [a [[cat gray] [inP texas]]]]⟧ = Type mismatch: '⟦isV⟧ = (λ p_<e,t>: p_<e,t>)'/<<e,t>,<e,t>> and '⟦[a [[cat gray] [inP texas]]]⟧ = (λ x_e: ((Cat_<e,t>(x_e) & Gray_<e,t>(x_e)) & In_<(e,e),t>(x_e, Texas_e)))'/<e,t> conflict (mode: Predicate Modification), ⟦[[a [[cat gray] [inP texas]]] isV]⟧ = Type mismatch: '⟦[a [[cat gray] [inP texas]]]⟧ = (λ x_e: ((Cat_<e,t>(x_e) & Gray_<e,t>(x_e)) & In_<(e,e),t>(x_e, Texas_e)))'/<e,t> and '⟦isV⟧ = (λ p_<e,t>: p_<e,t>)'/<<e,t>,<e,t>> conflict (mode: Predicate Modification), ⟦[isV [a [[cat gray] [inP texas]]]]⟧ = Type mismatch: '⟦isV⟧ = (λ p_<e,t>: p_<e,t>)'/<<e,t>,<e,t>> and '⟦[a [[cat gray] [inP texas]]]⟧ = (λ x_e: ((Cat_<e,t>(x_e) & Gray_<e,t>(x_e)) & In_<(e,e),t>(x_e, Texas_e)))'/<e,t> conflict (mode: Predicate Abstraction), ⟦[[a [[cat gray] [inP texas]]] isV]⟧ = Type mismatch: '⟦[a [[cat gray] [inP texas]]]⟧ = (λ x_e: ((Cat_<e,t>(x_e) & Gray_<e,t>(x_e)) & In_<(e,e),t>(x_e, Texas_e)))'/<e,t> and '⟦isV⟧ = (λ p_<e,t>: p_<e,t>)'/<<e,t>,<e,t>> conflict (mode: Predicate Abstraction), ⟦[[a [[inP texas] [cat gray]]] isV]⟧ = Type mismatch: '⟦[a [[inP texas] [cat gray]]]⟧ = (λ x_e: (In_<(e,e),t>(x_e, Texas_e) & (Cat_<e,t>(x_e) & Gray_<e,t>(x_e))))'/<e,t> and '⟦isV⟧ = (λ p_<e,t>: p_<e,t>)'/<<e,t>,<e,t>> conflict (mode: Function Application), ⟦[isV [a [[inP texas] [cat gray]]]]⟧ = Type mismatch: '⟦isV⟧ = (λ p_<e,t>: p_<e,t>)'/<<e,t>,<e,t>> and '⟦[a [[inP texas] [cat gray]]]⟧ = (λ x_e: (In_<(e,e),t>(x_e, Texas_e) & (Cat_<e,t>(x_e) & Gray_<e,t>(x_e))))'/<e,t> conflict (mode: Predicate Modification), ⟦[[a [[inP texas] [cat gray]]] isV]⟧ = Type mismatch: '⟦[a [[inP texas] [cat gray]]]⟧ = (λ x_e: (In_<(e,e),t>(x_e, Texas_e) & (Cat_<e,t>(x_e) & Gray_<e,t>(x_e))))'/<e,t> and '⟦isV⟧ = (λ p_<e,t>: p_<e,t>)'/<<e,t>,<e,t>> conflict (mode: Predicate Modification), ⟦[isV [a [[inP texas] [cat gray]]]]⟧ = Type mismatch: '⟦isV⟧ = (λ p_<e,t>: p_<e,t>)'/<<e,t>,<e,t>> and '⟦[a [[inP texas] [cat gray]]]⟧ = (λ x_e: (In_<(e,e),t>(x_e, Texas_e) & (Cat_<e,t>(x_e) & Gray_<e,t>(x_e))))'/<e,t> conflict (mode: Predicate Abstraction), ⟦[[a [[inP texas] [cat gray]]] isV]⟧ = Type mismatch: '⟦[a [[inP texas] [cat gray]]]⟧ = (λ x_e: (In_<(e,e),t>(x_e, Texas_e) & (Cat_<e,t>(x_e) & Gray_<e,t>(x_e))))'/<e,t> and '⟦isV⟧ = (λ p_<e,t>: p_<e,t>)'/<<e,t>,<e,t>> conflict (mode: Predicate Abstraction)])"
      ]
     },
     "execution_count": 51,
     "metadata": {},
     "output_type": "execute_result"
    }
   ],
   "source": [
    "a = lang.Item(\"a\", lang.isV.content) # identity function for copula as well\n",
    "isV * (a * (gray * cat * (inP * texas)))"
   ]
  },
  {
   "cell_type": "code",
   "execution_count": 52,
   "metadata": {
    "collapsed": false
   },
   "outputs": [
    {
     "data": {
      "text/latex": [
       "4 composition paths. Results:\n",
       "<br />&nbsp;&nbsp;&nbsp;&nbsp;[0]: $[\\![\\mathbf{\\text{[[isV [a [[gray cat] [inP texas]]]] julius]}}]\\!]^{}_{t} \\:=\\: $$(({Gray}({Julius}_{e}) \\wedge{} {Cat}({Julius}_{e})) \\wedge{} {In}({Julius}_{e}, {Texas}_{e}))$\n",
       "<br />&nbsp;&nbsp;&nbsp;&nbsp;[1]: $[\\![\\mathbf{\\text{[[isV [a [[inP texas] [gray cat]]]] julius]}}]\\!]^{}_{t} \\:=\\: $$({In}({Julius}_{e}, {Texas}_{e}) \\wedge{} ({Gray}({Julius}_{e}) \\wedge{} {Cat}({Julius}_{e})))$\n",
       "<br />&nbsp;&nbsp;&nbsp;&nbsp;[2]: $[\\![\\mathbf{\\text{[[isV [a [[cat gray] [inP texas]]]] julius]}}]\\!]^{}_{t} \\:=\\: $$(({Cat}({Julius}_{e}) \\wedge{} {Gray}({Julius}_{e})) \\wedge{} {In}({Julius}_{e}, {Texas}_{e}))$\n",
       "<br />&nbsp;&nbsp;&nbsp;&nbsp;[3]: $[\\![\\mathbf{\\text{[[isV [a [[inP texas] [cat gray]]]] julius]}}]\\!]^{}_{t} \\:=\\: $$({In}({Julius}_{e}, {Texas}_{e}) \\wedge{} ({Cat}({Julius}_{e}) \\wedge{} {Gray}({Julius}_{e})))$"
      ],
      "text/plain": [
       "CompositionResult(results=[⟦[[isV [a [[gray cat] [inP texas]]]] julius]⟧ = ((Gray_<e,t>(Julius_e) & Cat_<e,t>(Julius_e)) & In_<(e,e),t>(Julius_e, Texas_e)), ⟦[[isV [a [[inP texas] [gray cat]]]] julius]⟧ = (In_<(e,e),t>(Julius_e, Texas_e) & (Gray_<e,t>(Julius_e) & Cat_<e,t>(Julius_e))), ⟦[[isV [a [[cat gray] [inP texas]]]] julius]⟧ = ((Cat_<e,t>(Julius_e) & Gray_<e,t>(Julius_e)) & In_<(e,e),t>(Julius_e, Texas_e)), ⟦[[isV [a [[inP texas] [cat gray]]]] julius]⟧ = (In_<(e,e),t>(Julius_e, Texas_e) & (Cat_<e,t>(Julius_e) & Gray_<e,t>(Julius_e)))], failures=[⟦[julius [isV [a [[gray cat] [inP texas]]]]]⟧ = Type mismatch: '⟦julius⟧ = Julius_e'/e and '⟦[isV [a [[gray cat] [inP texas]]]]⟧ = (λ x_e: ((Gray_<e,t>(x_e) & Cat_<e,t>(x_e)) & In_<(e,e),t>(x_e, Texas_e)))'/<e,t> conflict (mode: Function Application), ⟦[julius [isV [a [[gray cat] [inP texas]]]]]⟧ = Type mismatch: '⟦julius⟧ = Julius_e'/e and '⟦[isV [a [[gray cat] [inP texas]]]]⟧ = (λ x_e: ((Gray_<e,t>(x_e) & Cat_<e,t>(x_e)) & In_<(e,e),t>(x_e, Texas_e)))'/<e,t> conflict (mode: Predicate Modification), ⟦[[isV [a [[gray cat] [inP texas]]]] julius]⟧ = Type mismatch: '⟦[isV [a [[gray cat] [inP texas]]]]⟧ = (λ x_e: ((Gray_<e,t>(x_e) & Cat_<e,t>(x_e)) & In_<(e,e),t>(x_e, Texas_e)))'/<e,t> and '⟦julius⟧ = Julius_e'/e conflict (mode: Predicate Modification), ⟦[julius [isV [a [[gray cat] [inP texas]]]]]⟧ = Type mismatch: '⟦julius⟧ = Julius_e'/e and '⟦[isV [a [[gray cat] [inP texas]]]]⟧ = (λ x_e: ((Gray_<e,t>(x_e) & Cat_<e,t>(x_e)) & In_<(e,e),t>(x_e, Texas_e)))'/<e,t> conflict (mode: Predicate Abstraction), ⟦[[isV [a [[gray cat] [inP texas]]]] julius]⟧ = Type mismatch: '⟦[isV [a [[gray cat] [inP texas]]]]⟧ = (λ x_e: ((Gray_<e,t>(x_e) & Cat_<e,t>(x_e)) & In_<(e,e),t>(x_e, Texas_e)))'/<e,t> and '⟦julius⟧ = Julius_e'/e conflict (mode: Predicate Abstraction), ⟦[julius [isV [a [[inP texas] [gray cat]]]]]⟧ = Type mismatch: '⟦julius⟧ = Julius_e'/e and '⟦[isV [a [[inP texas] [gray cat]]]]⟧ = (λ x_e: (In_<(e,e),t>(x_e, Texas_e) & (Gray_<e,t>(x_e) & Cat_<e,t>(x_e))))'/<e,t> conflict (mode: Function Application), ⟦[julius [isV [a [[inP texas] [gray cat]]]]]⟧ = Type mismatch: '⟦julius⟧ = Julius_e'/e and '⟦[isV [a [[inP texas] [gray cat]]]]⟧ = (λ x_e: (In_<(e,e),t>(x_e, Texas_e) & (Gray_<e,t>(x_e) & Cat_<e,t>(x_e))))'/<e,t> conflict (mode: Predicate Modification), ⟦[[isV [a [[inP texas] [gray cat]]]] julius]⟧ = Type mismatch: '⟦[isV [a [[inP texas] [gray cat]]]]⟧ = (λ x_e: (In_<(e,e),t>(x_e, Texas_e) & (Gray_<e,t>(x_e) & Cat_<e,t>(x_e))))'/<e,t> and '⟦julius⟧ = Julius_e'/e conflict (mode: Predicate Modification), ⟦[julius [isV [a [[inP texas] [gray cat]]]]]⟧ = Type mismatch: '⟦julius⟧ = Julius_e'/e and '⟦[isV [a [[inP texas] [gray cat]]]]⟧ = (λ x_e: (In_<(e,e),t>(x_e, Texas_e) & (Gray_<e,t>(x_e) & Cat_<e,t>(x_e))))'/<e,t> conflict (mode: Predicate Abstraction), ⟦[[isV [a [[inP texas] [gray cat]]]] julius]⟧ = Type mismatch: '⟦[isV [a [[inP texas] [gray cat]]]]⟧ = (λ x_e: (In_<(e,e),t>(x_e, Texas_e) & (Gray_<e,t>(x_e) & Cat_<e,t>(x_e))))'/<e,t> and '⟦julius⟧ = Julius_e'/e conflict (mode: Predicate Abstraction), ⟦[julius [isV [a [[cat gray] [inP texas]]]]]⟧ = Type mismatch: '⟦julius⟧ = Julius_e'/e and '⟦[isV [a [[cat gray] [inP texas]]]]⟧ = (λ x_e: ((Cat_<e,t>(x_e) & Gray_<e,t>(x_e)) & In_<(e,e),t>(x_e, Texas_e)))'/<e,t> conflict (mode: Function Application), ⟦[julius [isV [a [[cat gray] [inP texas]]]]]⟧ = Type mismatch: '⟦julius⟧ = Julius_e'/e and '⟦[isV [a [[cat gray] [inP texas]]]]⟧ = (λ x_e: ((Cat_<e,t>(x_e) & Gray_<e,t>(x_e)) & In_<(e,e),t>(x_e, Texas_e)))'/<e,t> conflict (mode: Predicate Modification), ⟦[[isV [a [[cat gray] [inP texas]]]] julius]⟧ = Type mismatch: '⟦[isV [a [[cat gray] [inP texas]]]]⟧ = (λ x_e: ((Cat_<e,t>(x_e) & Gray_<e,t>(x_e)) & In_<(e,e),t>(x_e, Texas_e)))'/<e,t> and '⟦julius⟧ = Julius_e'/e conflict (mode: Predicate Modification), ⟦[julius [isV [a [[cat gray] [inP texas]]]]]⟧ = Type mismatch: '⟦julius⟧ = Julius_e'/e and '⟦[isV [a [[cat gray] [inP texas]]]]⟧ = (λ x_e: ((Cat_<e,t>(x_e) & Gray_<e,t>(x_e)) & In_<(e,e),t>(x_e, Texas_e)))'/<e,t> conflict (mode: Predicate Abstraction), ⟦[[isV [a [[cat gray] [inP texas]]]] julius]⟧ = Type mismatch: '⟦[isV [a [[cat gray] [inP texas]]]]⟧ = (λ x_e: ((Cat_<e,t>(x_e) & Gray_<e,t>(x_e)) & In_<(e,e),t>(x_e, Texas_e)))'/<e,t> and '⟦julius⟧ = Julius_e'/e conflict (mode: Predicate Abstraction), ⟦[julius [isV [a [[inP texas] [cat gray]]]]]⟧ = Type mismatch: '⟦julius⟧ = Julius_e'/e and '⟦[isV [a [[inP texas] [cat gray]]]]⟧ = (λ x_e: (In_<(e,e),t>(x_e, Texas_e) & (Cat_<e,t>(x_e) & Gray_<e,t>(x_e))))'/<e,t> conflict (mode: Function Application), ⟦[julius [isV [a [[inP texas] [cat gray]]]]]⟧ = Type mismatch: '⟦julius⟧ = Julius_e'/e and '⟦[isV [a [[inP texas] [cat gray]]]]⟧ = (λ x_e: (In_<(e,e),t>(x_e, Texas_e) & (Cat_<e,t>(x_e) & Gray_<e,t>(x_e))))'/<e,t> conflict (mode: Predicate Modification), ⟦[[isV [a [[inP texas] [cat gray]]]] julius]⟧ = Type mismatch: '⟦[isV [a [[inP texas] [cat gray]]]]⟧ = (λ x_e: (In_<(e,e),t>(x_e, Texas_e) & (Cat_<e,t>(x_e) & Gray_<e,t>(x_e))))'/<e,t> and '⟦julius⟧ = Julius_e'/e conflict (mode: Predicate Modification), ⟦[julius [isV [a [[inP texas] [cat gray]]]]]⟧ = Type mismatch: '⟦julius⟧ = Julius_e'/e and '⟦[isV [a [[inP texas] [cat gray]]]]⟧ = (λ x_e: (In_<(e,e),t>(x_e, Texas_e) & (Cat_<e,t>(x_e) & Gray_<e,t>(x_e))))'/<e,t> conflict (mode: Predicate Abstraction), ⟦[[isV [a [[inP texas] [cat gray]]]] julius]⟧ = Type mismatch: '⟦[isV [a [[inP texas] [cat gray]]]]⟧ = (λ x_e: (In_<(e,e),t>(x_e, Texas_e) & (Cat_<e,t>(x_e) & Gray_<e,t>(x_e))))'/<e,t> and '⟦julius⟧ = Julius_e'/e conflict (mode: Predicate Abstraction)])"
      ]
     },
     "execution_count": 52,
     "metadata": {},
     "output_type": "execute_result"
    }
   ],
   "source": [
    "np = ((gray * cat) * (inP * texas))\n",
    "vp = (isV * (a * np))\n",
    "sentence2 = julius * vp\n",
    "sentence2"
   ]
  },
  {
   "cell_type": "code",
   "execution_count": 53,
   "metadata": {
    "collapsed": false
   },
   "outputs": [
    {
     "data": {
      "text/latex": [
       "Composition failed.  Attempts:<br />\n",
       "&nbsp;&nbsp;&nbsp;&nbsp;<span style=\"color:red\">Type mismatch</span>: '$[\\![\\mathbf{\\text{julius}}]\\!]^{}_{e} \\:=\\: $${Julius}_{e}$'/$e$ and '$[\\![\\mathbf{\\text{isV}}]\\!]^{}_{\\langle{}\\langle{}e,t\\rangle{},\\langle{}e,t\\rangle{}\\rangle{}} \\:=\\: $$\\lambda{} p_{\\langle{}e,t\\rangle{}} \\: . \\: {p}_{\\langle{}e,t\\rangle{}}$'/$\\langle{}\\langle{}e,t\\rangle{},\\langle{}e,t\\rangle{}\\rangle{}$ conflict (mode: Function Application)<br />\n",
       "&nbsp;&nbsp;&nbsp;&nbsp;<span style=\"color:red\">Type mismatch</span>: '$[\\![\\mathbf{\\text{isV}}]\\!]^{}_{\\langle{}\\langle{}e,t\\rangle{},\\langle{}e,t\\rangle{}\\rangle{}} \\:=\\: $$\\lambda{} p_{\\langle{}e,t\\rangle{}} \\: . \\: {p}_{\\langle{}e,t\\rangle{}}$'/$\\langle{}\\langle{}e,t\\rangle{},\\langle{}e,t\\rangle{}\\rangle{}$ and '$[\\![\\mathbf{\\text{julius}}]\\!]^{}_{e} \\:=\\: $${Julius}_{e}$'/$e$ conflict (mode: Function Application)<br />\n",
       "&nbsp;&nbsp;&nbsp;&nbsp;<span style=\"color:red\">Type mismatch</span>: '$[\\![\\mathbf{\\text{julius}}]\\!]^{}_{e} \\:=\\: $${Julius}_{e}$'/$e$ and '$[\\![\\mathbf{\\text{isV}}]\\!]^{}_{\\langle{}\\langle{}e,t\\rangle{},\\langle{}e,t\\rangle{}\\rangle{}} \\:=\\: $$\\lambda{} p_{\\langle{}e,t\\rangle{}} \\: . \\: {p}_{\\langle{}e,t\\rangle{}}$'/$\\langle{}\\langle{}e,t\\rangle{},\\langle{}e,t\\rangle{}\\rangle{}$ conflict (mode: Predicate Modification)<br />\n",
       "&nbsp;&nbsp;&nbsp;&nbsp;<span style=\"color:red\">Type mismatch</span>: '$[\\![\\mathbf{\\text{isV}}]\\!]^{}_{\\langle{}\\langle{}e,t\\rangle{},\\langle{}e,t\\rangle{}\\rangle{}} \\:=\\: $$\\lambda{} p_{\\langle{}e,t\\rangle{}} \\: . \\: {p}_{\\langle{}e,t\\rangle{}}$'/$\\langle{}\\langle{}e,t\\rangle{},\\langle{}e,t\\rangle{}\\rangle{}$ and '$[\\![\\mathbf{\\text{julius}}]\\!]^{}_{e} \\:=\\: $${Julius}_{e}$'/$e$ conflict (mode: Predicate Modification)<br />\n",
       "&nbsp;&nbsp;&nbsp;&nbsp;<span style=\"color:red\">Type mismatch</span>: '$[\\![\\mathbf{\\text{julius}}]\\!]^{}_{e} \\:=\\: $${Julius}_{e}$'/$e$ and '$[\\![\\mathbf{\\text{isV}}]\\!]^{}_{\\langle{}\\langle{}e,t\\rangle{},\\langle{}e,t\\rangle{}\\rangle{}} \\:=\\: $$\\lambda{} p_{\\langle{}e,t\\rangle{}} \\: . \\: {p}_{\\langle{}e,t\\rangle{}}$'/$\\langle{}\\langle{}e,t\\rangle{},\\langle{}e,t\\rangle{}\\rangle{}$ conflict (mode: Predicate Abstraction)<br />\n",
       "&nbsp;&nbsp;&nbsp;&nbsp;<span style=\"color:red\">Type mismatch</span>: '$[\\![\\mathbf{\\text{isV}}]\\!]^{}_{\\langle{}\\langle{}e,t\\rangle{},\\langle{}e,t\\rangle{}\\rangle{}} \\:=\\: $$\\lambda{} p_{\\langle{}e,t\\rangle{}} \\: . \\: {p}_{\\langle{}e,t\\rangle{}}$'/$\\langle{}\\langle{}e,t\\rangle{},\\langle{}e,t\\rangle{}\\rangle{}$ and '$[\\![\\mathbf{\\text{julius}}]\\!]^{}_{e} \\:=\\: $${Julius}_{e}$'/$e$ conflict (mode: Predicate Abstraction)<br />\n"
      ],
      "text/plain": [
       "CompositionResult(results=[], failures=[⟦[julius isV]⟧ = Type mismatch: '⟦julius⟧ = Julius_e'/e and '⟦isV⟧ = (λ p_<e,t>: p_<e,t>)'/<<e,t>,<e,t>> conflict (mode: Function Application), ⟦[isV julius]⟧ = Type mismatch: '⟦isV⟧ = (λ p_<e,t>: p_<e,t>)'/<<e,t>,<e,t>> and '⟦julius⟧ = Julius_e'/e conflict (mode: Function Application), ⟦[julius isV]⟧ = Type mismatch: '⟦julius⟧ = Julius_e'/e and '⟦isV⟧ = (λ p_<e,t>: p_<e,t>)'/<<e,t>,<e,t>> conflict (mode: Predicate Modification), ⟦[isV julius]⟧ = Type mismatch: '⟦isV⟧ = (λ p_<e,t>: p_<e,t>)'/<<e,t>,<e,t>> and '⟦julius⟧ = Julius_e'/e conflict (mode: Predicate Modification), ⟦[julius isV]⟧ = Type mismatch: '⟦julius⟧ = Julius_e'/e and '⟦isV⟧ = (λ p_<e,t>: p_<e,t>)'/<<e,t>,<e,t>> conflict (mode: Predicate Abstraction), ⟦[isV julius]⟧ = Type mismatch: '⟦isV⟧ = (λ p_<e,t>: p_<e,t>)'/<<e,t>,<e,t>> and '⟦julius⟧ = Julius_e'/e conflict (mode: Predicate Abstraction)])"
      ]
     },
     "execution_count": 53,
     "metadata": {},
     "output_type": "execute_result"
    }
   ],
   "source": [
    "julius * isV # will fail due to type mismatches"
   ]
  },
  {
   "cell_type": "code",
   "execution_count": 54,
   "metadata": {
    "collapsed": false
   },
   "outputs": [
    {
     "data": {
      "text/latex": [
       "$[\\![\\mathbf{\\text{[[isV [inP texas]] julius]}}]\\!]^{}_{t} \\:=\\: $${In}({Julius}_{e}, {Texas}_{e})$"
      ],
      "text/plain": [
       "⟦[[isV [inP texas]] julius]⟧ = In_<(e,e),t>(Julius_e, Texas_e)"
      ]
     },
     "execution_count": 54,
     "metadata": {},
     "output_type": "execute_result"
    }
   ],
   "source": [
    "sentence1.results[0]"
   ]
  },
  {
   "cell_type": "code",
   "execution_count": 55,
   "metadata": {
    "collapsed": false
   },
   "outputs": [
    {
     "data": {
      "text/latex": [
       "<table><tr style=\"border:1px solid #848482\"><td style=\"vertical-align:bottom;padding:0px 10px\" align=\"center\"><table><tr><td style=\"vertical-align:bottom;padding:5px\"><table><tr style=\"border:1px solid #848482\"><td style=\"vertical-align:bottom;padding:0px 10px\" align=\"center\"><table><tr><td style=\"vertical-align:bottom;padding:5px\"><div style=\"margin-top:10px;border-style:solid;border-color:#848482;border-width:0px\"><div style=\"vertical-align:bottom;text-align:center\">$[\\![\\mathbf{\\text{isV}}]\\!]^{}_{\\langle{}\\langle{}e,t\\rangle{},\\langle{}e,t\\rangle{}\\rangle{}}$</div><div style=\"vertical-align:bottom;text-align:center\">$\\lambda{} p_{\\langle{}e,t\\rangle{}} \\: . \\: {p}_{\\langle{}e,t\\rangle{}}$</div></div></td><td style=\"vertical-align:bottom;padding:10px\">$\\circ$</td><td style=\"vertical-align:bottom;padding:5px\"><table><tr style=\"border:1px solid #848482\"><td style=\"vertical-align:bottom;padding:0px 10px\" align=\"center\"><table><tr><td style=\"vertical-align:bottom;padding:5px\"><div style=\"margin-top:10px;border-style:solid;border-color:#848482;border-width:0px\"><div style=\"vertical-align:bottom;text-align:center\">$[\\![\\mathbf{\\text{inP}}]\\!]^{}_{\\langle{}e,\\langle{}e,t\\rangle{}\\rangle{}}$</div><div style=\"vertical-align:bottom;text-align:center\">$\\lambda{} x_{e} \\: . \\: \\lambda{} y_{e} \\: . \\: {In}({y}_{e}, {x}_{e})$</div></div></td><td style=\"vertical-align:bottom;padding:10px\">$\\circ$</td><td style=\"vertical-align:bottom;padding:5px\"><div style=\"margin-top:10px;border-style:solid;border-color:#848482;border-width:0px\"><div style=\"vertical-align:bottom;text-align:center\">$[\\![\\mathbf{\\text{texas}}]\\!]^{}_{e}$</div><div style=\"vertical-align:bottom;text-align:center\">${Texas}_{e}$</div></div></td></tr></table></td><td style=\"border-left:1px solid #848482;vertical-align:center;padding:10px\"><span style=\"color:blue\"><b>[FA]</b></span></td></tr><tr style=\"border-style:solid;border-color:#848482;border-width:0px 1px 1px 1px\"><td style=\"padding:5px\" align=\"center\"><div style=\"margin-top:10px;border-style:solid;border-color:#848482;border-width:0px\"><div style=\"vertical-align:bottom;text-align:center\">$[\\![\\mathbf{\\text{[inP texas]}}]\\!]^{}_{\\langle{}e,t\\rangle{}}$</div><div style=\"vertical-align:bottom;text-align:center\">$\\lambda{} y_{e} \\: . \\: {In}({y}_{e}, {Texas}_{e})$</div></div></td><td></td></tr></table></td></tr></table></td><td style=\"border-left:1px solid #848482;vertical-align:center;padding:10px\"><span style=\"color:blue\"><b>[FA]</b></span></td></tr><tr style=\"border-style:solid;border-color:#848482;border-width:0px 1px 1px 1px\"><td style=\"padding:5px\" align=\"center\"><div style=\"margin-top:10px;border-style:solid;border-color:#848482;border-width:0px\"><div style=\"vertical-align:bottom;text-align:center\">$[\\![\\mathbf{\\text{[isV [inP texas]]}}]\\!]^{}_{\\langle{}e,t\\rangle{}}$</div><div style=\"vertical-align:bottom;text-align:center\">$\\lambda{} y_{e} \\: . \\: {In}({y}_{e}, {Texas}_{e})$</div></div></td><td></td></tr></table></td><td style=\"vertical-align:bottom;padding:10px\">$\\circ$</td><td style=\"vertical-align:bottom;padding:5px\"><div style=\"margin-top:10px;border-style:solid;border-color:#848482;border-width:0px\"><div style=\"vertical-align:bottom;text-align:center\">$[\\![\\mathbf{\\text{julius}}]\\!]^{}_{e}$</div><div style=\"vertical-align:bottom;text-align:center\">${Julius}_{e}$</div></div></td></tr></table></td><td style=\"border-left:1px solid #848482;vertical-align:center;padding:10px\"><span style=\"color:blue\"><b>[FA]</b></span></td></tr><tr style=\"border-style:solid;border-color:#848482;border-width:0px 1px 1px 1px\"><td style=\"padding:5px\" align=\"center\"><div style=\"margin-top:10px;border-style:solid;border-color:#848482;border-width:0px\"><div style=\"vertical-align:bottom;text-align:center\">$[\\![\\mathbf{\\text{[[isV [inP texas]] julius]}}]\\!]^{}_{t}$</div><div style=\"vertical-align:bottom;text-align:center\">${In}({Julius}_{e}, {Texas}_{e})$</div></div></td><td></td></tr></table>"
      ],
      "text/plain": [
       "<lamb.display.RecursiveDerivationDisplay at 0x104875d90>"
      ]
     },
     "execution_count": 55,
     "metadata": {},
     "output_type": "execute_result"
    }
   ],
   "source": [
    "sentence1.results[0].tree()"
   ]
  },
  {
   "cell_type": "code",
   "execution_count": 56,
   "metadata": {
    "collapsed": false
   },
   "outputs": [
    {
     "data": {
      "text/latex": [
       "<table><tr style=\"border:1px solid #848482\"><td style=\"vertical-align:bottom;padding:0px 10px\" align=\"center\"><table><tr><td style=\"vertical-align:bottom;padding:5px\"><table><tr style=\"border:1px solid #848482\"><td style=\"vertical-align:bottom;padding:0px 10px\" align=\"center\"><table><tr><td style=\"vertical-align:bottom;padding:5px\"><div style=\"margin-top:10px;border-style:solid;border-color:#848482;border-width:0px\"><div style=\"vertical-align:bottom;text-align:center\">$[\\![\\mathbf{\\text{isV}}]\\!]^{}_{\\langle{}\\langle{}e,t\\rangle{},\\langle{}e,t\\rangle{}\\rangle{}}$</div><div style=\"vertical-align:bottom;text-align:center\">$\\lambda{} p_{\\langle{}e,t\\rangle{}} \\: . \\: {p}_{\\langle{}e,t\\rangle{}}$</div></div></td><td style=\"vertical-align:bottom;padding:10px\">$\\circ$</td><td style=\"vertical-align:bottom;padding:5px\"><table><tr style=\"border:1px solid #848482\"><td style=\"vertical-align:bottom;padding:0px 10px\" align=\"center\"><table><tr><td style=\"vertical-align:bottom;padding:5px\"><div style=\"margin-top:10px;border-style:solid;border-color:#848482;border-width:0px\"><div style=\"vertical-align:bottom;text-align:center\">$[\\![\\mathbf{\\text{a}}]\\!]^{}_{\\langle{}\\langle{}e,t\\rangle{},\\langle{}e,t\\rangle{}\\rangle{}}$</div><div style=\"vertical-align:bottom;text-align:center\">$\\lambda{} p_{\\langle{}e,t\\rangle{}} \\: . \\: {p}_{\\langle{}e,t\\rangle{}}$</div></div></td><td style=\"vertical-align:bottom;padding:10px\">$\\circ$</td><td style=\"vertical-align:bottom;padding:5px\"><table><tr style=\"border:1px solid #848482\"><td style=\"vertical-align:bottom;padding:0px 10px\" align=\"center\"><table><tr><td style=\"vertical-align:bottom;padding:5px\"><table><tr style=\"border:1px solid #848482\"><td style=\"vertical-align:bottom;padding:0px 10px\" align=\"center\"><table><tr><td style=\"vertical-align:bottom;padding:5px\"><div style=\"margin-top:10px;border-style:solid;border-color:#848482;border-width:0px\"><div style=\"vertical-align:bottom;text-align:center\">$[\\![\\mathbf{\\text{gray}}]\\!]^{}_{\\langle{}e,t\\rangle{}}$</div><div style=\"vertical-align:bottom;text-align:center\">$\\lambda{} x_{e} \\: . \\: {Gray}({x}_{e})$</div></div></td><td style=\"vertical-align:bottom;padding:10px\">$\\circ$</td><td style=\"vertical-align:bottom;padding:5px\"><div style=\"margin-top:10px;border-style:solid;border-color:#848482;border-width:0px\"><div style=\"vertical-align:bottom;text-align:center\">$[\\![\\mathbf{\\text{cat}}]\\!]^{}_{\\langle{}e,t\\rangle{}}$</div><div style=\"vertical-align:bottom;text-align:center\">$\\lambda{} x_{e} \\: . \\: {Cat}({x}_{e})$</div></div></td></tr></table></td><td style=\"border-left:1px solid #848482;vertical-align:center;padding:10px\"><span style=\"color:blue\"><b>[PM]</b></span></td></tr><tr style=\"border-style:solid;border-color:#848482;border-width:0px 1px 1px 1px\"><td style=\"padding:5px\" align=\"center\"><div style=\"margin-top:10px;border-style:solid;border-color:#848482;border-width:0px\"><div style=\"vertical-align:bottom;text-align:center\">$[\\![\\mathbf{\\text{[gray cat]}}]\\!]^{}_{\\langle{}e,t\\rangle{}}$</div><div style=\"vertical-align:bottom;text-align:center\">$\\lambda{} x_{e} \\: . \\: ({Gray}({x}_{e}) \\wedge{} {Cat}({x}_{e}))$</div></div></td><td></td></tr></table></td><td style=\"vertical-align:bottom;padding:10px\">$\\circ$</td><td style=\"vertical-align:bottom;padding:5px\"><table><tr style=\"border:1px solid #848482\"><td style=\"vertical-align:bottom;padding:0px 10px\" align=\"center\"><table><tr><td style=\"vertical-align:bottom;padding:5px\"><div style=\"margin-top:10px;border-style:solid;border-color:#848482;border-width:0px\"><div style=\"vertical-align:bottom;text-align:center\">$[\\![\\mathbf{\\text{inP}}]\\!]^{}_{\\langle{}e,\\langle{}e,t\\rangle{}\\rangle{}}$</div><div style=\"vertical-align:bottom;text-align:center\">$\\lambda{} x_{e} \\: . \\: \\lambda{} y_{e} \\: . \\: {In}({y}_{e}, {x}_{e})$</div></div></td><td style=\"vertical-align:bottom;padding:10px\">$\\circ$</td><td style=\"vertical-align:bottom;padding:5px\"><div style=\"margin-top:10px;border-style:solid;border-color:#848482;border-width:0px\"><div style=\"vertical-align:bottom;text-align:center\">$[\\![\\mathbf{\\text{texas}}]\\!]^{}_{e}$</div><div style=\"vertical-align:bottom;text-align:center\">${Texas}_{e}$</div></div></td></tr></table></td><td style=\"border-left:1px solid #848482;vertical-align:center;padding:10px\"><span style=\"color:blue\"><b>[FA]</b></span></td></tr><tr style=\"border-style:solid;border-color:#848482;border-width:0px 1px 1px 1px\"><td style=\"padding:5px\" align=\"center\"><div style=\"margin-top:10px;border-style:solid;border-color:#848482;border-width:0px\"><div style=\"vertical-align:bottom;text-align:center\">$[\\![\\mathbf{\\text{[inP texas]}}]\\!]^{}_{\\langle{}e,t\\rangle{}}$</div><div style=\"vertical-align:bottom;text-align:center\">$\\lambda{} y_{e} \\: . \\: {In}({y}_{e}, {Texas}_{e})$</div></div></td><td></td></tr></table></td></tr></table></td><td style=\"border-left:1px solid #848482;vertical-align:center;padding:10px\"><span style=\"color:blue\"><b>[PM]</b></span></td></tr><tr style=\"border-style:solid;border-color:#848482;border-width:0px 1px 1px 1px\"><td style=\"padding:5px\" align=\"center\"><div style=\"margin-top:10px;border-style:solid;border-color:#848482;border-width:0px\"><div style=\"vertical-align:bottom;text-align:center\">$[\\![\\mathbf{\\text{[[gray cat] [inP texas]]}}]\\!]^{}_{\\langle{}e,t\\rangle{}}$</div><div style=\"vertical-align:bottom;text-align:center\">$\\lambda{} x_{e} \\: . \\: (({Gray}({x}_{e}) \\wedge{} {Cat}({x}_{e})) \\wedge{} {In}({x}_{e}, {Texas}_{e}))$</div></div></td><td></td></tr></table></td></tr></table></td><td style=\"border-left:1px solid #848482;vertical-align:center;padding:10px\"><span style=\"color:blue\"><b>[FA]</b></span></td></tr><tr style=\"border-style:solid;border-color:#848482;border-width:0px 1px 1px 1px\"><td style=\"padding:5px\" align=\"center\"><div style=\"margin-top:10px;border-style:solid;border-color:#848482;border-width:0px\"><div style=\"vertical-align:bottom;text-align:center\">$[\\![\\mathbf{\\text{[a [[gray cat] [inP texas]]]}}]\\!]^{}_{\\langle{}e,t\\rangle{}}$</div><div style=\"vertical-align:bottom;text-align:center\">$\\lambda{} x_{e} \\: . \\: (({Gray}({x}_{e}) \\wedge{} {Cat}({x}_{e})) \\wedge{} {In}({x}_{e}, {Texas}_{e}))$</div></div></td><td></td></tr></table></td></tr></table></td><td style=\"border-left:1px solid #848482;vertical-align:center;padding:10px\"><span style=\"color:blue\"><b>[FA]</b></span></td></tr><tr style=\"border-style:solid;border-color:#848482;border-width:0px 1px 1px 1px\"><td style=\"padding:5px\" align=\"center\"><div style=\"margin-top:10px;border-style:solid;border-color:#848482;border-width:0px\"><div style=\"vertical-align:bottom;text-align:center\">$[\\![\\mathbf{\\text{[isV [a [[gray cat] [inP texas]]]]}}]\\!]^{}_{\\langle{}e,t\\rangle{}}$</div><div style=\"vertical-align:bottom;text-align:center\">$\\lambda{} x_{e} \\: . \\: (({Gray}({x}_{e}) \\wedge{} {Cat}({x}_{e})) \\wedge{} {In}({x}_{e}, {Texas}_{e}))$</div></div></td><td></td></tr></table></td><td style=\"vertical-align:bottom;padding:10px\">$\\circ$</td><td style=\"vertical-align:bottom;padding:5px\"><div style=\"margin-top:10px;border-style:solid;border-color:#848482;border-width:0px\"><div style=\"vertical-align:bottom;text-align:center\">$[\\![\\mathbf{\\text{julius}}]\\!]^{}_{e}$</div><div style=\"vertical-align:bottom;text-align:center\">${Julius}_{e}$</div></div></td></tr></table></td><td style=\"border-left:1px solid #848482;vertical-align:center;padding:10px\"><span style=\"color:blue\"><b>[FA]</b></span></td></tr><tr style=\"border-style:solid;border-color:#848482;border-width:0px 1px 1px 1px\"><td style=\"padding:5px\" align=\"center\"><div style=\"margin-top:10px;border-style:solid;border-color:#848482;border-width:0px\"><div style=\"vertical-align:bottom;text-align:center\">$[\\![\\mathbf{\\text{[[isV [a [[gray cat] [inP texas]]]] julius]}}]\\!]^{}_{t}$</div><div style=\"vertical-align:bottom;text-align:center\">$(({Gray}({Julius}_{e}) \\wedge{} {Cat}({Julius}_{e})) \\wedge{} {In}({Julius}_{e}, {Texas}_{e}))$</div></div></td><td></td></tr></table>"
      ],
      "text/plain": [
       "<lamb.display.RecursiveDerivationDisplay at 0x10487b7d0>"
      ]
     },
     "execution_count": 56,
     "metadata": {},
     "output_type": "execute_result"
    }
   ],
   "source": [
    "sentence2.results[0].tree()"
   ]
  },
  {
   "cell_type": "markdown",
   "metadata": {},
   "source": [
    "One of the infamous examples from Heim and Kratzer (names different):\n",
    "\n",
    " * Julius is a gray cat in Texas fond of John.\n",
    " \n",
    "First let's get rid of all the extra readings, to keep this simple."
   ]
  },
  {
   "cell_type": "code",
   "execution_count": 57,
   "metadata": {
    "collapsed": false
   },
   "outputs": [],
   "source": [
    "demo_hk_system.get_rule(\"PM\").commutative = True"
   ]
  },
  {
   "cell_type": "code",
   "execution_count": 58,
   "metadata": {
    "collapsed": false
   },
   "outputs": [
    {
     "name": "stderr",
     "output_type": "stream",
     "text": [
      "INFO (meta): Coerced guessed type t for 'Fond_t' into <e,t>, to match argument 'y_e'\n",
      "INFO (meta): Coerced guessed type t for 'Fond_<e,t>(y_e)' into <e,t>, to match argument 'x_e'\n"
     ]
    },
    {
     "data": {
      "text/latex": [
       "1 composition path.  Result:\n",
       "<br />&nbsp;&nbsp;&nbsp;&nbsp;[0]: $[\\![\\mathbf{\\text{[[isV [a [[[gray cat] [inP texas]] [fond [of john]]]]] julius]}}]\\!]^{}_{t} \\:=\\: $$((({Gray}({Julius}_{e}) \\wedge{} {Cat}({Julius}_{e})) \\wedge{} {In}({Julius}_{e}, {Texas}_{e})) \\wedge{} {Fond}_{\\langle{}e,\\langle{}e,t\\rangle{}\\rangle{}}({Julius}_{e})({John}_{e}))$"
      ],
      "text/plain": [
       "CompositionResult(results=[⟦[[isV [a [[[gray cat] [inP texas]] [fond [of john]]]]] julius]⟧ = (((Gray_<e,t>(Julius_e) & Cat_<e,t>(Julius_e)) & In_<(e,e),t>(Julius_e, Texas_e)) & Fond_<e,<e,t>>(Julius_e)(John_e))], failures=[⟦[julius [isV [a [[[gray cat] [inP texas]] [fond [of john]]]]]]⟧ = Type mismatch: '⟦julius⟧ = Julius_e'/e and '⟦[isV [a [[[gray cat] [inP texas]] [fond [of john]]]]]⟧ = (λ x_e: (((Gray_<e,t>(x_e) & Cat_<e,t>(x_e)) & In_<(e,e),t>(x_e, Texas_e)) & Fond_<e,<e,t>>(x_e)(John_e)))'/<e,t> conflict (mode: Function Application), ⟦[julius [isV [a [[[gray cat] [inP texas]] [fond [of john]]]]]]⟧ = Type mismatch: '⟦julius⟧ = Julius_e'/e and '⟦[isV [a [[[gray cat] [inP texas]] [fond [of john]]]]]⟧ = (λ x_e: (((Gray_<e,t>(x_e) & Cat_<e,t>(x_e)) & In_<(e,e),t>(x_e, Texas_e)) & Fond_<e,<e,t>>(x_e)(John_e)))'/<e,t> conflict (mode: Predicate Modification), ⟦[julius [isV [a [[[gray cat] [inP texas]] [fond [of john]]]]]]⟧ = Type mismatch: '⟦julius⟧ = Julius_e'/e and '⟦[isV [a [[[gray cat] [inP texas]] [fond [of john]]]]]⟧ = (λ x_e: (((Gray_<e,t>(x_e) & Cat_<e,t>(x_e)) & In_<(e,e),t>(x_e, Texas_e)) & Fond_<e,<e,t>>(x_e)(John_e)))'/<e,t> conflict (mode: Predicate Abstraction), ⟦[[isV [a [[[gray cat] [inP texas]] [fond [of john]]]]] julius]⟧ = Type mismatch: '⟦[isV [a [[[gray cat] [inP texas]] [fond [of john]]]]]⟧ = (λ x_e: (((Gray_<e,t>(x_e) & Cat_<e,t>(x_e)) & In_<(e,e),t>(x_e, Texas_e)) & Fond_<e,<e,t>>(x_e)(John_e)))'/<e,t> and '⟦julius⟧ = Julius_e'/e conflict (mode: Predicate Abstraction)])"
      ]
     },
     "execution_count": 58,
     "metadata": {},
     "output_type": "execute_result"
    }
   ],
   "source": [
    "fond = lang.Item(\"fond\", \"L x_e : L y_e : Fond(y)(x)\")\n",
    "ofP = lang.Item(\"of\", \"L x_e : x\")\n",
    "sentence3 = julius * (isV * (a * (((gray * cat) * (inP * texas)) * (fond * (ofP * john)))))\n",
    "sentence3"
   ]
  },
  {
   "cell_type": "code",
   "execution_count": 59,
   "metadata": {
    "collapsed": false
   },
   "outputs": [
    {
     "data": {
      "text/latex": [
       "1 composition path:<br /><table><tr style=\"border:1px solid #848482\"><td style=\"vertical-align:bottom;padding:0px 10px\" align=\"center\"><table><tr><td style=\"vertical-align:bottom;padding:5px\"><table><tr style=\"border:1px solid #848482\"><td style=\"vertical-align:bottom;padding:0px 10px\" align=\"center\"><table><tr><td style=\"vertical-align:bottom;padding:5px\"><div style=\"margin-top:10px;border-style:solid;border-color:#848482;border-width:0px\"><div style=\"vertical-align:bottom;text-align:center\">$[\\![\\mathbf{\\text{isV}}]\\!]^{}_{\\langle{}\\langle{}e,t\\rangle{},\\langle{}e,t\\rangle{}\\rangle{}}$</div><div style=\"vertical-align:bottom;text-align:center\">$\\lambda{} p_{\\langle{}e,t\\rangle{}} \\: . \\: {p}_{\\langle{}e,t\\rangle{}}$</div></div></td><td style=\"vertical-align:bottom;padding:10px\">$\\circ$</td><td style=\"vertical-align:bottom;padding:5px\"><table><tr style=\"border:1px solid #848482\"><td style=\"vertical-align:bottom;padding:0px 10px\" align=\"center\"><table><tr><td style=\"vertical-align:bottom;padding:5px\"><div style=\"margin-top:10px;border-style:solid;border-color:#848482;border-width:0px\"><div style=\"vertical-align:bottom;text-align:center\">$[\\![\\mathbf{\\text{a}}]\\!]^{}_{\\langle{}\\langle{}e,t\\rangle{},\\langle{}e,t\\rangle{}\\rangle{}}$</div><div style=\"vertical-align:bottom;text-align:center\">$\\lambda{} p_{\\langle{}e,t\\rangle{}} \\: . \\: {p}_{\\langle{}e,t\\rangle{}}$</div></div></td><td style=\"vertical-align:bottom;padding:10px\">$\\circ$</td><td style=\"vertical-align:bottom;padding:5px\"><table><tr style=\"border:1px solid #848482\"><td style=\"vertical-align:bottom;padding:0px 10px\" align=\"center\"><table><tr><td style=\"vertical-align:bottom;padding:5px\"><table><tr style=\"border:1px solid #848482\"><td style=\"vertical-align:bottom;padding:0px 10px\" align=\"center\"><table><tr><td style=\"vertical-align:bottom;padding:5px\"><table><tr style=\"border:1px solid #848482\"><td style=\"vertical-align:bottom;padding:0px 10px\" align=\"center\"><table><tr><td style=\"vertical-align:bottom;padding:5px\"><div style=\"margin-top:10px;border-style:solid;border-color:#848482;border-width:0px\"><div style=\"vertical-align:bottom;text-align:center\">$[\\![\\mathbf{\\text{gray}}]\\!]^{}_{\\langle{}e,t\\rangle{}}$</div><div style=\"vertical-align:bottom;text-align:center\">$\\lambda{} x_{e} \\: . \\: {Gray}({x}_{e})$</div></div></td><td style=\"vertical-align:bottom;padding:10px\">$\\circ$</td><td style=\"vertical-align:bottom;padding:5px\"><div style=\"margin-top:10px;border-style:solid;border-color:#848482;border-width:0px\"><div style=\"vertical-align:bottom;text-align:center\">$[\\![\\mathbf{\\text{cat}}]\\!]^{}_{\\langle{}e,t\\rangle{}}$</div><div style=\"vertical-align:bottom;text-align:center\">$\\lambda{} x_{e} \\: . \\: {Cat}({x}_{e})$</div></div></td></tr></table></td><td style=\"border-left:1px solid #848482;vertical-align:center;padding:10px\"><span style=\"color:blue\"><b>[PM]</b></span></td></tr><tr style=\"border-style:solid;border-color:#848482;border-width:0px 1px 1px 1px\"><td style=\"padding:5px\" align=\"center\"><div style=\"margin-top:10px;border-style:solid;border-color:#848482;border-width:0px\"><div style=\"vertical-align:bottom;text-align:center\">$[\\![\\mathbf{\\text{[gray cat]}}]\\!]^{}_{\\langle{}e,t\\rangle{}}$</div><div style=\"vertical-align:bottom;text-align:center\">$\\lambda{} x_{e} \\: . \\: ({Gray}({x}_{e}) \\wedge{} {Cat}({x}_{e}))$</div></div></td><td></td></tr></table></td><td style=\"vertical-align:bottom;padding:10px\">$\\circ$</td><td style=\"vertical-align:bottom;padding:5px\"><table><tr style=\"border:1px solid #848482\"><td style=\"vertical-align:bottom;padding:0px 10px\" align=\"center\"><table><tr><td style=\"vertical-align:bottom;padding:5px\"><div style=\"margin-top:10px;border-style:solid;border-color:#848482;border-width:0px\"><div style=\"vertical-align:bottom;text-align:center\">$[\\![\\mathbf{\\text{inP}}]\\!]^{}_{\\langle{}e,\\langle{}e,t\\rangle{}\\rangle{}}$</div><div style=\"vertical-align:bottom;text-align:center\">$\\lambda{} x_{e} \\: . \\: \\lambda{} y_{e} \\: . \\: {In}({y}_{e}, {x}_{e})$</div></div></td><td style=\"vertical-align:bottom;padding:10px\">$\\circ$</td><td style=\"vertical-align:bottom;padding:5px\"><div style=\"margin-top:10px;border-style:solid;border-color:#848482;border-width:0px\"><div style=\"vertical-align:bottom;text-align:center\">$[\\![\\mathbf{\\text{texas}}]\\!]^{}_{e}$</div><div style=\"vertical-align:bottom;text-align:center\">${Texas}_{e}$</div></div></td></tr></table></td><td style=\"border-left:1px solid #848482;vertical-align:center;padding:10px\"><span style=\"color:blue\"><b>[FA]</b></span></td></tr><tr style=\"border-style:solid;border-color:#848482;border-width:0px 1px 1px 1px\"><td style=\"padding:5px\" align=\"center\"><div style=\"margin-top:10px;border-style:solid;border-color:#848482;border-width:0px\"><div style=\"vertical-align:bottom;text-align:center\">$[\\![\\mathbf{\\text{[inP texas]}}]\\!]^{}_{\\langle{}e,t\\rangle{}}$</div><div style=\"vertical-align:bottom;text-align:center\">$\\lambda{} y_{e} \\: . \\: {In}({y}_{e}, {Texas}_{e})$</div></div></td><td></td></tr></table></td></tr></table></td><td style=\"border-left:1px solid #848482;vertical-align:center;padding:10px\"><span style=\"color:blue\"><b>[PM]</b></span></td></tr><tr style=\"border-style:solid;border-color:#848482;border-width:0px 1px 1px 1px\"><td style=\"padding:5px\" align=\"center\"><div style=\"margin-top:10px;border-style:solid;border-color:#848482;border-width:0px\"><div style=\"vertical-align:bottom;text-align:center\">$[\\![\\mathbf{\\text{[[gray cat] [inP texas]]}}]\\!]^{}_{\\langle{}e,t\\rangle{}}$</div><div style=\"vertical-align:bottom;text-align:center\">$\\lambda{} x_{e} \\: . \\: (({Gray}({x}_{e}) \\wedge{} {Cat}({x}_{e})) \\wedge{} {In}({x}_{e}, {Texas}_{e}))$</div></div></td><td></td></tr></table></td><td style=\"vertical-align:bottom;padding:10px\">$\\circ$</td><td style=\"vertical-align:bottom;padding:5px\"><table><tr style=\"border:1px solid #848482\"><td style=\"vertical-align:bottom;padding:0px 10px\" align=\"center\"><table><tr><td style=\"vertical-align:bottom;padding:5px\"><div style=\"margin-top:10px;border-style:solid;border-color:#848482;border-width:0px\"><div style=\"vertical-align:bottom;text-align:center\">$[\\![\\mathbf{\\text{fond}}]\\!]^{}_{\\langle{}e,\\langle{}e,t\\rangle{}\\rangle{}}$</div><div style=\"vertical-align:bottom;text-align:center\">$\\lambda{} x_{e} \\: . \\: \\lambda{} y_{e} \\: . \\: {Fond}_{\\langle{}e,\\langle{}e,t\\rangle{}\\rangle{}}({y}_{e})({x}_{e})$</div></div></td><td style=\"vertical-align:bottom;padding:10px\">$\\circ$</td><td style=\"vertical-align:bottom;padding:5px\"><table><tr style=\"border:1px solid #848482\"><td style=\"vertical-align:bottom;padding:0px 10px\" align=\"center\"><table><tr><td style=\"vertical-align:bottom;padding:5px\"><div style=\"margin-top:10px;border-style:solid;border-color:#848482;border-width:0px\"><div style=\"vertical-align:bottom;text-align:center\">$[\\![\\mathbf{\\text{of}}]\\!]^{}_{\\langle{}e,e\\rangle{}}$</div><div style=\"vertical-align:bottom;text-align:center\">$\\lambda{} x_{e} \\: . \\: {x}_{e}$</div></div></td><td style=\"vertical-align:bottom;padding:10px\">$\\circ$</td><td style=\"vertical-align:bottom;padding:5px\"><div style=\"margin-top:10px;border-style:solid;border-color:#848482;border-width:0px\"><div style=\"vertical-align:bottom;text-align:center\">$[\\![\\mathbf{\\text{john}}]\\!]^{}_{e}$</div><div style=\"vertical-align:bottom;text-align:center\">${John}_{e}$</div></div></td></tr></table></td><td style=\"border-left:1px solid #848482;vertical-align:center;padding:10px\"><span style=\"color:blue\"><b>[FA]</b></span></td></tr><tr style=\"border-style:solid;border-color:#848482;border-width:0px 1px 1px 1px\"><td style=\"padding:5px\" align=\"center\"><div style=\"margin-top:10px;border-style:solid;border-color:#848482;border-width:0px\"><div style=\"vertical-align:bottom;text-align:center\">$[\\![\\mathbf{\\text{[of john]}}]\\!]^{}_{e}$</div><div style=\"vertical-align:bottom;text-align:center\">${John}_{e}$</div></div></td><td></td></tr></table></td></tr></table></td><td style=\"border-left:1px solid #848482;vertical-align:center;padding:10px\"><span style=\"color:blue\"><b>[FA]</b></span></td></tr><tr style=\"border-style:solid;border-color:#848482;border-width:0px 1px 1px 1px\"><td style=\"padding:5px\" align=\"center\"><div style=\"margin-top:10px;border-style:solid;border-color:#848482;border-width:0px\"><div style=\"vertical-align:bottom;text-align:center\">$[\\![\\mathbf{\\text{[fond [of john]]}}]\\!]^{}_{\\langle{}e,t\\rangle{}}$</div><div style=\"vertical-align:bottom;text-align:center\">$\\lambda{} y_{e} \\: . \\: {Fond}_{\\langle{}e,\\langle{}e,t\\rangle{}\\rangle{}}({y}_{e})({John}_{e})$</div></div></td><td></td></tr></table></td></tr></table></td><td style=\"border-left:1px solid #848482;vertical-align:center;padding:10px\"><span style=\"color:blue\"><b>[PM]</b></span></td></tr><tr style=\"border-style:solid;border-color:#848482;border-width:0px 1px 1px 1px\"><td style=\"padding:5px\" align=\"center\"><div style=\"margin-top:10px;border-style:solid;border-color:#848482;border-width:0px\"><div style=\"vertical-align:bottom;text-align:center\">$[\\![\\mathbf{\\text{[[[gray cat] [inP texas]] [fond [of john]]]}}]\\!]^{}_{\\langle{}e,t\\rangle{}}$</div><div style=\"vertical-align:bottom;text-align:center\">$\\lambda{} x_{e} \\: . \\: ((({Gray}({x}_{e}) \\wedge{} {Cat}({x}_{e})) \\wedge{} {In}({x}_{e}, {Texas}_{e})) \\wedge{} {Fond}_{\\langle{}e,\\langle{}e,t\\rangle{}\\rangle{}}({x}_{e})({John}_{e}))$</div></div></td><td></td></tr></table></td></tr></table></td><td style=\"border-left:1px solid #848482;vertical-align:center;padding:10px\"><span style=\"color:blue\"><b>[FA]</b></span></td></tr><tr style=\"border-style:solid;border-color:#848482;border-width:0px 1px 1px 1px\"><td style=\"padding:5px\" align=\"center\"><div style=\"margin-top:10px;border-style:solid;border-color:#848482;border-width:0px\"><div style=\"vertical-align:bottom;text-align:center\">$[\\![\\mathbf{\\text{[a [[[gray cat] [inP texas]] [fond [of john]]]]}}]\\!]^{}_{\\langle{}e,t\\rangle{}}$</div><div style=\"vertical-align:bottom;text-align:center\">$\\lambda{} x_{e} \\: . \\: ((({Gray}({x}_{e}) \\wedge{} {Cat}({x}_{e})) \\wedge{} {In}({x}_{e}, {Texas}_{e})) \\wedge{} {Fond}_{\\langle{}e,\\langle{}e,t\\rangle{}\\rangle{}}({x}_{e})({John}_{e}))$</div></div></td><td></td></tr></table></td></tr></table></td><td style=\"border-left:1px solid #848482;vertical-align:center;padding:10px\"><span style=\"color:blue\"><b>[FA]</b></span></td></tr><tr style=\"border-style:solid;border-color:#848482;border-width:0px 1px 1px 1px\"><td style=\"padding:5px\" align=\"center\"><div style=\"margin-top:10px;border-style:solid;border-color:#848482;border-width:0px\"><div style=\"vertical-align:bottom;text-align:center\">$[\\![\\mathbf{\\text{[isV [a [[[gray cat] [inP texas]] [fond [of john]]]]]}}]\\!]^{}_{\\langle{}e,t\\rangle{}}$</div><div style=\"vertical-align:bottom;text-align:center\">$\\lambda{} x_{e} \\: . \\: ((({Gray}({x}_{e}) \\wedge{} {Cat}({x}_{e})) \\wedge{} {In}({x}_{e}, {Texas}_{e})) \\wedge{} {Fond}_{\\langle{}e,\\langle{}e,t\\rangle{}\\rangle{}}({x}_{e})({John}_{e}))$</div></div></td><td></td></tr></table></td><td style=\"vertical-align:bottom;padding:10px\">$\\circ$</td><td style=\"vertical-align:bottom;padding:5px\"><div style=\"margin-top:10px;border-style:solid;border-color:#848482;border-width:0px\"><div style=\"vertical-align:bottom;text-align:center\">$[\\![\\mathbf{\\text{julius}}]\\!]^{}_{e}$</div><div style=\"vertical-align:bottom;text-align:center\">${Julius}_{e}$</div></div></td></tr></table></td><td style=\"border-left:1px solid #848482;vertical-align:center;padding:10px\"><span style=\"color:blue\"><b>[FA]</b></span></td></tr><tr style=\"border-style:solid;border-color:#848482;border-width:0px 1px 1px 1px\"><td style=\"padding:5px\" align=\"center\"><div style=\"margin-top:10px;border-style:solid;border-color:#848482;border-width:0px\"><div style=\"vertical-align:bottom;text-align:center\">$[\\![\\mathbf{\\text{[[isV [a [[[gray cat] [inP texas]] [fond [of john]]]]] julius]}}]\\!]^{}_{t}$</div><div style=\"vertical-align:bottom;text-align:center\">$((({Gray}({Julius}_{e}) \\wedge{} {Cat}({Julius}_{e})) \\wedge{} {In}({Julius}_{e}, {Texas}_{e})) \\wedge{} {Fond}_{\\langle{}e,\\langle{}e,t\\rangle{}\\rangle{}}({Julius}_{e})({John}_{e}))$</div></div></td><td></td></tr></table><br /><br />"
      ],
      "text/plain": [
       "1 composition path:<br /><table><tr style=\"border:1px solid #848482\"><td style=\"vertical-align:bottom;padding:0px 10px\" align=\"center\"><table><tr><td style=\"vertical-align:bottom;padding:5px\"><table><tr style=\"border:1px solid #848482\"><td style=\"vertical-align:bottom;padding:0px 10px\" align=\"center\"><table><tr><td style=\"vertical-align:bottom;padding:5px\"><div style=\"margin-top:10px;border-style:solid;border-color:#848482;border-width:0px\"><div style=\"vertical-align:bottom;text-align:center\">$[\\![\\mathbf{\\text{isV}}]\\!]^{}_{\\langle{}\\langle{}e,t\\rangle{},\\langle{}e,t\\rangle{}\\rangle{}}$</div><div style=\"vertical-align:bottom;text-align:center\">$\\lambda{} p_{\\langle{}e,t\\rangle{}} \\: . \\: {p}_{\\langle{}e,t\\rangle{}}$</div></div></td><td style=\"vertical-align:bottom;padding:10px\">$\\circ$</td><td style=\"vertical-align:bottom;padding:5px\"><table><tr style=\"border:1px solid #848482\"><td style=\"vertical-align:bottom;padding:0px 10px\" align=\"center\"><table><tr><td style=\"vertical-align:bottom;padding:5px\"><div style=\"margin-top:10px;border-style:solid;border-color:#848482;border-width:0px\"><div style=\"vertical-align:bottom;text-align:center\">$[\\![\\mathbf{\\text{a}}]\\!]^{}_{\\langle{}\\langle{}e,t\\rangle{},\\langle{}e,t\\rangle{}\\rangle{}}$</div><div style=\"vertical-align:bottom;text-align:center\">$\\lambda{} p_{\\langle{}e,t\\rangle{}} \\: . \\: {p}_{\\langle{}e,t\\rangle{}}$</div></div></td><td style=\"vertical-align:bottom;padding:10px\">$\\circ$</td><td style=\"vertical-align:bottom;padding:5px\"><table><tr style=\"border:1px solid #848482\"><td style=\"vertical-align:bottom;padding:0px 10px\" align=\"center\"><table><tr><td style=\"vertical-align:bottom;padding:5px\"><table><tr style=\"border:1px solid #848482\"><td style=\"vertical-align:bottom;padding:0px 10px\" align=\"center\"><table><tr><td style=\"vertical-align:bottom;padding:5px\"><table><tr style=\"border:1px solid #848482\"><td style=\"vertical-align:bottom;padding:0px 10px\" align=\"center\"><table><tr><td style=\"vertical-align:bottom;padding:5px\"><div style=\"margin-top:10px;border-style:solid;border-color:#848482;border-width:0px\"><div style=\"vertical-align:bottom;text-align:center\">$[\\![\\mathbf{\\text{gray}}]\\!]^{}_{\\langle{}e,t\\rangle{}}$</div><div style=\"vertical-align:bottom;text-align:center\">$\\lambda{} x_{e} \\: . \\: {Gray}({x}_{e})$</div></div></td><td style=\"vertical-align:bottom;padding:10px\">$\\circ$</td><td style=\"vertical-align:bottom;padding:5px\"><div style=\"margin-top:10px;border-style:solid;border-color:#848482;border-width:0px\"><div style=\"vertical-align:bottom;text-align:center\">$[\\![\\mathbf{\\text{cat}}]\\!]^{}_{\\langle{}e,t\\rangle{}}$</div><div style=\"vertical-align:bottom;text-align:center\">$\\lambda{} x_{e} \\: . \\: {Cat}({x}_{e})$</div></div></td></tr></table></td><td style=\"border-left:1px solid #848482;vertical-align:center;padding:10px\"><span style=\"color:blue\"><b>[PM]</b></span></td></tr><tr style=\"border-style:solid;border-color:#848482;border-width:0px 1px 1px 1px\"><td style=\"padding:5px\" align=\"center\"><div style=\"margin-top:10px;border-style:solid;border-color:#848482;border-width:0px\"><div style=\"vertical-align:bottom;text-align:center\">$[\\![\\mathbf{\\text{[gray cat]}}]\\!]^{}_{\\langle{}e,t\\rangle{}}$</div><div style=\"vertical-align:bottom;text-align:center\">$\\lambda{} x_{e} \\: . \\: ({Gray}({x}_{e}) \\wedge{} {Cat}({x}_{e}))$</div></div></td><td></td></tr></table></td><td style=\"vertical-align:bottom;padding:10px\">$\\circ$</td><td style=\"vertical-align:bottom;padding:5px\"><table><tr style=\"border:1px solid #848482\"><td style=\"vertical-align:bottom;padding:0px 10px\" align=\"center\"><table><tr><td style=\"vertical-align:bottom;padding:5px\"><div style=\"margin-top:10px;border-style:solid;border-color:#848482;border-width:0px\"><div style=\"vertical-align:bottom;text-align:center\">$[\\![\\mathbf{\\text{inP}}]\\!]^{}_{\\langle{}e,\\langle{}e,t\\rangle{}\\rangle{}}$</div><div style=\"vertical-align:bottom;text-align:center\">$\\lambda{} x_{e} \\: . \\: \\lambda{} y_{e} \\: . \\: {In}({y}_{e}, {x}_{e})$</div></div></td><td style=\"vertical-align:bottom;padding:10px\">$\\circ$</td><td style=\"vertical-align:bottom;padding:5px\"><div style=\"margin-top:10px;border-style:solid;border-color:#848482;border-width:0px\"><div style=\"vertical-align:bottom;text-align:center\">$[\\![\\mathbf{\\text{texas}}]\\!]^{}_{e}$</div><div style=\"vertical-align:bottom;text-align:center\">${Texas}_{e}$</div></div></td></tr></table></td><td style=\"border-left:1px solid #848482;vertical-align:center;padding:10px\"><span style=\"color:blue\"><b>[FA]</b></span></td></tr><tr style=\"border-style:solid;border-color:#848482;border-width:0px 1px 1px 1px\"><td style=\"padding:5px\" align=\"center\"><div style=\"margin-top:10px;border-style:solid;border-color:#848482;border-width:0px\"><div style=\"vertical-align:bottom;text-align:center\">$[\\![\\mathbf{\\text{[inP texas]}}]\\!]^{}_{\\langle{}e,t\\rangle{}}$</div><div style=\"vertical-align:bottom;text-align:center\">$\\lambda{} y_{e} \\: . \\: {In}({y}_{e}, {Texas}_{e})$</div></div></td><td></td></tr></table></td></tr></table></td><td style=\"border-left:1px solid #848482;vertical-align:center;padding:10px\"><span style=\"color:blue\"><b>[PM]</b></span></td></tr><tr style=\"border-style:solid;border-color:#848482;border-width:0px 1px 1px 1px\"><td style=\"padding:5px\" align=\"center\"><div style=\"margin-top:10px;border-style:solid;border-color:#848482;border-width:0px\"><div style=\"vertical-align:bottom;text-align:center\">$[\\![\\mathbf{\\text{[[gray cat] [inP texas]]}}]\\!]^{}_{\\langle{}e,t\\rangle{}}$</div><div style=\"vertical-align:bottom;text-align:center\">$\\lambda{} x_{e} \\: . \\: (({Gray}({x}_{e}) \\wedge{} {Cat}({x}_{e})) \\wedge{} {In}({x}_{e}, {Texas}_{e}))$</div></div></td><td></td></tr></table></td><td style=\"vertical-align:bottom;padding:10px\">$\\circ$</td><td style=\"vertical-align:bottom;padding:5px\"><table><tr style=\"border:1px solid #848482\"><td style=\"vertical-align:bottom;padding:0px 10px\" align=\"center\"><table><tr><td style=\"vertical-align:bottom;padding:5px\"><div style=\"margin-top:10px;border-style:solid;border-color:#848482;border-width:0px\"><div style=\"vertical-align:bottom;text-align:center\">$[\\![\\mathbf{\\text{fond}}]\\!]^{}_{\\langle{}e,\\langle{}e,t\\rangle{}\\rangle{}}$</div><div style=\"vertical-align:bottom;text-align:center\">$\\lambda{} x_{e} \\: . \\: \\lambda{} y_{e} \\: . \\: {Fond}_{\\langle{}e,\\langle{}e,t\\rangle{}\\rangle{}}({y}_{e})({x}_{e})$</div></div></td><td style=\"vertical-align:bottom;padding:10px\">$\\circ$</td><td style=\"vertical-align:bottom;padding:5px\"><table><tr style=\"border:1px solid #848482\"><td style=\"vertical-align:bottom;padding:0px 10px\" align=\"center\"><table><tr><td style=\"vertical-align:bottom;padding:5px\"><div style=\"margin-top:10px;border-style:solid;border-color:#848482;border-width:0px\"><div style=\"vertical-align:bottom;text-align:center\">$[\\![\\mathbf{\\text{of}}]\\!]^{}_{\\langle{}e,e\\rangle{}}$</div><div style=\"vertical-align:bottom;text-align:center\">$\\lambda{} x_{e} \\: . \\: {x}_{e}$</div></div></td><td style=\"vertical-align:bottom;padding:10px\">$\\circ$</td><td style=\"vertical-align:bottom;padding:5px\"><div style=\"margin-top:10px;border-style:solid;border-color:#848482;border-width:0px\"><div style=\"vertical-align:bottom;text-align:center\">$[\\![\\mathbf{\\text{john}}]\\!]^{}_{e}$</div><div style=\"vertical-align:bottom;text-align:center\">${John}_{e}$</div></div></td></tr></table></td><td style=\"border-left:1px solid #848482;vertical-align:center;padding:10px\"><span style=\"color:blue\"><b>[FA]</b></span></td></tr><tr style=\"border-style:solid;border-color:#848482;border-width:0px 1px 1px 1px\"><td style=\"padding:5px\" align=\"center\"><div style=\"margin-top:10px;border-style:solid;border-color:#848482;border-width:0px\"><div style=\"vertical-align:bottom;text-align:center\">$[\\![\\mathbf{\\text{[of john]}}]\\!]^{}_{e}$</div><div style=\"vertical-align:bottom;text-align:center\">${John}_{e}$</div></div></td><td></td></tr></table></td></tr></table></td><td style=\"border-left:1px solid #848482;vertical-align:center;padding:10px\"><span style=\"color:blue\"><b>[FA]</b></span></td></tr><tr style=\"border-style:solid;border-color:#848482;border-width:0px 1px 1px 1px\"><td style=\"padding:5px\" align=\"center\"><div style=\"margin-top:10px;border-style:solid;border-color:#848482;border-width:0px\"><div style=\"vertical-align:bottom;text-align:center\">$[\\![\\mathbf{\\text{[fond [of john]]}}]\\!]^{}_{\\langle{}e,t\\rangle{}}$</div><div style=\"vertical-align:bottom;text-align:center\">$\\lambda{} y_{e} \\: . \\: {Fond}_{\\langle{}e,\\langle{}e,t\\rangle{}\\rangle{}}({y}_{e})({John}_{e})$</div></div></td><td></td></tr></table></td></tr></table></td><td style=\"border-left:1px solid #848482;vertical-align:center;padding:10px\"><span style=\"color:blue\"><b>[PM]</b></span></td></tr><tr style=\"border-style:solid;border-color:#848482;border-width:0px 1px 1px 1px\"><td style=\"padding:5px\" align=\"center\"><div style=\"margin-top:10px;border-style:solid;border-color:#848482;border-width:0px\"><div style=\"vertical-align:bottom;text-align:center\">$[\\![\\mathbf{\\text{[[[gray cat] [inP texas]] [fond [of john]]]}}]\\!]^{}_{\\langle{}e,t\\rangle{}}$</div><div style=\"vertical-align:bottom;text-align:center\">$\\lambda{} x_{e} \\: . \\: ((({Gray}({x}_{e}) \\wedge{} {Cat}({x}_{e})) \\wedge{} {In}({x}_{e}, {Texas}_{e})) \\wedge{} {Fond}_{\\langle{}e,\\langle{}e,t\\rangle{}\\rangle{}}({x}_{e})({John}_{e}))$</div></div></td><td></td></tr></table></td></tr></table></td><td style=\"border-left:1px solid #848482;vertical-align:center;padding:10px\"><span style=\"color:blue\"><b>[FA]</b></span></td></tr><tr style=\"border-style:solid;border-color:#848482;border-width:0px 1px 1px 1px\"><td style=\"padding:5px\" align=\"center\"><div style=\"margin-top:10px;border-style:solid;border-color:#848482;border-width:0px\"><div style=\"vertical-align:bottom;text-align:center\">$[\\![\\mathbf{\\text{[a [[[gray cat] [inP texas]] [fond [of john]]]]}}]\\!]^{}_{\\langle{}e,t\\rangle{}}$</div><div style=\"vertical-align:bottom;text-align:center\">$\\lambda{} x_{e} \\: . \\: ((({Gray}({x}_{e}) \\wedge{} {Cat}({x}_{e})) \\wedge{} {In}({x}_{e}, {Texas}_{e})) \\wedge{} {Fond}_{\\langle{}e,\\langle{}e,t\\rangle{}\\rangle{}}({x}_{e})({John}_{e}))$</div></div></td><td></td></tr></table></td></tr></table></td><td style=\"border-left:1px solid #848482;vertical-align:center;padding:10px\"><span style=\"color:blue\"><b>[FA]</b></span></td></tr><tr style=\"border-style:solid;border-color:#848482;border-width:0px 1px 1px 1px\"><td style=\"padding:5px\" align=\"center\"><div style=\"margin-top:10px;border-style:solid;border-color:#848482;border-width:0px\"><div style=\"vertical-align:bottom;text-align:center\">$[\\![\\mathbf{\\text{[isV [a [[[gray cat] [inP texas]] [fond [of john]]]]]}}]\\!]^{}_{\\langle{}e,t\\rangle{}}$</div><div style=\"vertical-align:bottom;text-align:center\">$\\lambda{} x_{e} \\: . \\: ((({Gray}({x}_{e}) \\wedge{} {Cat}({x}_{e})) \\wedge{} {In}({x}_{e}, {Texas}_{e})) \\wedge{} {Fond}_{\\langle{}e,\\langle{}e,t\\rangle{}\\rangle{}}({x}_{e})({John}_{e}))$</div></div></td><td></td></tr></table></td><td style=\"vertical-align:bottom;padding:10px\">$\\circ$</td><td style=\"vertical-align:bottom;padding:5px\"><div style=\"margin-top:10px;border-style:solid;border-color:#848482;border-width:0px\"><div style=\"vertical-align:bottom;text-align:center\">$[\\![\\mathbf{\\text{julius}}]\\!]^{}_{e}$</div><div style=\"vertical-align:bottom;text-align:center\">${Julius}_{e}$</div></div></td></tr></table></td><td style=\"border-left:1px solid #848482;vertical-align:center;padding:10px\"><span style=\"color:blue\"><b>[FA]</b></span></td></tr><tr style=\"border-style:solid;border-color:#848482;border-width:0px 1px 1px 1px\"><td style=\"padding:5px\" align=\"center\"><div style=\"margin-top:10px;border-style:solid;border-color:#848482;border-width:0px\"><div style=\"vertical-align:bottom;text-align:center\">$[\\![\\mathbf{\\text{[[isV [a [[[gray cat] [inP texas]] [fond [of john]]]]] julius]}}]\\!]^{}_{t}$</div><div style=\"vertical-align:bottom;text-align:center\">$((({Gray}({Julius}_{e}) \\wedge{} {Cat}({Julius}_{e})) \\wedge{} {In}({Julius}_{e}, {Texas}_{e})) \\wedge{} {Fond}_{\\langle{}e,\\langle{}e,t\\rangle{}\\rangle{}}({Julius}_{e})({John}_{e}))$</div></div></td><td></td></tr></table><br /><br />"
      ]
     },
     "execution_count": 59,
     "metadata": {},
     "output_type": "execute_result"
    }
   ],
   "source": [
    "sentence3.tree()"
   ]
  },
  {
   "cell_type": "markdown",
   "metadata": {},
   "source": [
    "The _Composite_ class subclasses _nltk.Tree_, and so supports the things that class does.  E.g. []-based paths:"
   ]
  },
  {
   "cell_type": "code",
   "execution_count": 60,
   "metadata": {
    "collapsed": false
   },
   "outputs": [
    {
     "data": {
      "text/latex": [
       "<table><tr style=\"border:1px solid #848482\"><td style=\"vertical-align:bottom;padding:0px 10px\" align=\"center\"><table><tr><td style=\"vertical-align:bottom;padding:5px\"><table><tr style=\"border:1px solid #848482\"><td style=\"vertical-align:bottom;padding:0px 10px\" align=\"center\"><table><tr><td style=\"vertical-align:bottom;padding:5px\"><table><tr style=\"border:1px solid #848482\"><td style=\"vertical-align:bottom;padding:0px 10px\" align=\"center\"><table><tr><td style=\"vertical-align:bottom;padding:5px\"><div style=\"margin-top:10px;border-style:solid;border-color:#848482;border-width:0px\"><div style=\"vertical-align:bottom;text-align:center\">$[\\![\\mathbf{\\text{gray}}]\\!]^{}_{\\langle{}e,t\\rangle{}}$</div><div style=\"vertical-align:bottom;text-align:center\">$\\lambda{} x_{e} \\: . \\: {Gray}({x}_{e})$</div></div></td><td style=\"vertical-align:bottom;padding:10px\">$\\circ$</td><td style=\"vertical-align:bottom;padding:5px\"><div style=\"margin-top:10px;border-style:solid;border-color:#848482;border-width:0px\"><div style=\"vertical-align:bottom;text-align:center\">$[\\![\\mathbf{\\text{cat}}]\\!]^{}_{\\langle{}e,t\\rangle{}}$</div><div style=\"vertical-align:bottom;text-align:center\">$\\lambda{} x_{e} \\: . \\: {Cat}({x}_{e})$</div></div></td></tr></table></td><td style=\"border-left:1px solid #848482;vertical-align:center;padding:10px\"><span style=\"color:blue\"><b>[PM]</b></span></td></tr><tr style=\"border-style:solid;border-color:#848482;border-width:0px 1px 1px 1px\"><td style=\"padding:5px\" align=\"center\"><div style=\"margin-top:10px;border-style:solid;border-color:#848482;border-width:0px\"><div style=\"vertical-align:bottom;text-align:center\">$[\\![\\mathbf{\\text{[gray cat]}}]\\!]^{}_{\\langle{}e,t\\rangle{}}$</div><div style=\"vertical-align:bottom;text-align:center\">$\\lambda{} x_{e} \\: . \\: ({Gray}({x}_{e}) \\wedge{} {Cat}({x}_{e}))$</div></div></td><td></td></tr></table></td><td style=\"vertical-align:bottom;padding:10px\">$\\circ$</td><td style=\"vertical-align:bottom;padding:5px\"><table><tr style=\"border:1px solid #848482\"><td style=\"vertical-align:bottom;padding:0px 10px\" align=\"center\"><table><tr><td style=\"vertical-align:bottom;padding:5px\"><div style=\"margin-top:10px;border-style:solid;border-color:#848482;border-width:0px\"><div style=\"vertical-align:bottom;text-align:center\">$[\\![\\mathbf{\\text{inP}}]\\!]^{}_{\\langle{}e,\\langle{}e,t\\rangle{}\\rangle{}}$</div><div style=\"vertical-align:bottom;text-align:center\">$\\lambda{} x_{e} \\: . \\: \\lambda{} y_{e} \\: . \\: {In}({y}_{e}, {x}_{e})$</div></div></td><td style=\"vertical-align:bottom;padding:10px\">$\\circ$</td><td style=\"vertical-align:bottom;padding:5px\"><div style=\"margin-top:10px;border-style:solid;border-color:#848482;border-width:0px\"><div style=\"vertical-align:bottom;text-align:center\">$[\\![\\mathbf{\\text{texas}}]\\!]^{}_{e}$</div><div style=\"vertical-align:bottom;text-align:center\">${Texas}_{e}$</div></div></td></tr></table></td><td style=\"border-left:1px solid #848482;vertical-align:center;padding:10px\"><span style=\"color:blue\"><b>[FA]</b></span></td></tr><tr style=\"border-style:solid;border-color:#848482;border-width:0px 1px 1px 1px\"><td style=\"padding:5px\" align=\"center\"><div style=\"margin-top:10px;border-style:solid;border-color:#848482;border-width:0px\"><div style=\"vertical-align:bottom;text-align:center\">$[\\![\\mathbf{\\text{[inP texas]}}]\\!]^{}_{\\langle{}e,t\\rangle{}}$</div><div style=\"vertical-align:bottom;text-align:center\">$\\lambda{} y_{e} \\: . \\: {In}({y}_{e}, {Texas}_{e})$</div></div></td><td></td></tr></table></td></tr></table></td><td style=\"border-left:1px solid #848482;vertical-align:center;padding:10px\"><span style=\"color:blue\"><b>[PM]</b></span></td></tr><tr style=\"border-style:solid;border-color:#848482;border-width:0px 1px 1px 1px\"><td style=\"padding:5px\" align=\"center\"><div style=\"margin-top:10px;border-style:solid;border-color:#848482;border-width:0px\"><div style=\"vertical-align:bottom;text-align:center\">$[\\![\\mathbf{\\text{[[gray cat] [inP texas]]}}]\\!]^{}_{\\langle{}e,t\\rangle{}}$</div><div style=\"vertical-align:bottom;text-align:center\">$\\lambda{} x_{e} \\: . \\: (({Gray}({x}_{e}) \\wedge{} {Cat}({x}_{e})) \\wedge{} {In}({x}_{e}, {Texas}_{e}))$</div></div></td><td></td></tr></table></td><td style=\"vertical-align:bottom;padding:10px\">$\\circ$</td><td style=\"vertical-align:bottom;padding:5px\"><table><tr style=\"border:1px solid #848482\"><td style=\"vertical-align:bottom;padding:0px 10px\" align=\"center\"><table><tr><td style=\"vertical-align:bottom;padding:5px\"><div style=\"margin-top:10px;border-style:solid;border-color:#848482;border-width:0px\"><div style=\"vertical-align:bottom;text-align:center\">$[\\![\\mathbf{\\text{fond}}]\\!]^{}_{\\langle{}e,\\langle{}e,t\\rangle{}\\rangle{}}$</div><div style=\"vertical-align:bottom;text-align:center\">$\\lambda{} x_{e} \\: . \\: \\lambda{} y_{e} \\: . \\: {Fond}_{\\langle{}e,\\langle{}e,t\\rangle{}\\rangle{}}({y}_{e})({x}_{e})$</div></div></td><td style=\"vertical-align:bottom;padding:10px\">$\\circ$</td><td style=\"vertical-align:bottom;padding:5px\"><table><tr style=\"border:1px solid #848482\"><td style=\"vertical-align:bottom;padding:0px 10px\" align=\"center\"><table><tr><td style=\"vertical-align:bottom;padding:5px\"><div style=\"margin-top:10px;border-style:solid;border-color:#848482;border-width:0px\"><div style=\"vertical-align:bottom;text-align:center\">$[\\![\\mathbf{\\text{of}}]\\!]^{}_{\\langle{}e,e\\rangle{}}$</div><div style=\"vertical-align:bottom;text-align:center\">$\\lambda{} x_{e} \\: . \\: {x}_{e}$</div></div></td><td style=\"vertical-align:bottom;padding:10px\">$\\circ$</td><td style=\"vertical-align:bottom;padding:5px\"><div style=\"margin-top:10px;border-style:solid;border-color:#848482;border-width:0px\"><div style=\"vertical-align:bottom;text-align:center\">$[\\![\\mathbf{\\text{john}}]\\!]^{}_{e}$</div><div style=\"vertical-align:bottom;text-align:center\">${John}_{e}$</div></div></td></tr></table></td><td style=\"border-left:1px solid #848482;vertical-align:center;padding:10px\"><span style=\"color:blue\"><b>[FA]</b></span></td></tr><tr style=\"border-style:solid;border-color:#848482;border-width:0px 1px 1px 1px\"><td style=\"padding:5px\" align=\"center\"><div style=\"margin-top:10px;border-style:solid;border-color:#848482;border-width:0px\"><div style=\"vertical-align:bottom;text-align:center\">$[\\![\\mathbf{\\text{[of john]}}]\\!]^{}_{e}$</div><div style=\"vertical-align:bottom;text-align:center\">${John}_{e}$</div></div></td><td></td></tr></table></td></tr></table></td><td style=\"border-left:1px solid #848482;vertical-align:center;padding:10px\"><span style=\"color:blue\"><b>[FA]</b></span></td></tr><tr style=\"border-style:solid;border-color:#848482;border-width:0px 1px 1px 1px\"><td style=\"padding:5px\" align=\"center\"><div style=\"margin-top:10px;border-style:solid;border-color:#848482;border-width:0px\"><div style=\"vertical-align:bottom;text-align:center\">$[\\![\\mathbf{\\text{[fond [of john]]}}]\\!]^{}_{\\langle{}e,t\\rangle{}}$</div><div style=\"vertical-align:bottom;text-align:center\">$\\lambda{} y_{e} \\: . \\: {Fond}_{\\langle{}e,\\langle{}e,t\\rangle{}\\rangle{}}({y}_{e})({John}_{e})$</div></div></td><td></td></tr></table></td></tr></table></td><td style=\"border-left:1px solid #848482;vertical-align:center;padding:10px\"><span style=\"color:blue\"><b>[PM]</b></span></td></tr><tr style=\"border-style:solid;border-color:#848482;border-width:0px 1px 1px 1px\"><td style=\"padding:5px\" align=\"center\"><div style=\"margin-top:10px;border-style:solid;border-color:#848482;border-width:0px\"><div style=\"vertical-align:bottom;text-align:center\">$[\\![\\mathbf{\\text{[[[gray cat] [inP texas]] [fond [of john]]]}}]\\!]^{}_{\\langle{}e,t\\rangle{}}$</div><div style=\"vertical-align:bottom;text-align:center\">$\\lambda{} x_{e} \\: . \\: ((({Gray}({x}_{e}) \\wedge{} {Cat}({x}_{e})) \\wedge{} {In}({x}_{e}, {Texas}_{e})) \\wedge{} {Fond}_{\\langle{}e,\\langle{}e,t\\rangle{}\\rangle{}}({x}_{e})({John}_{e}))$</div></div></td><td></td></tr></table>"
      ],
      "text/plain": [
       "<lamb.display.RecursiveDerivationDisplay at 0x10489ad50>"
      ]
     },
     "execution_count": 60,
     "metadata": {},
     "output_type": "execute_result"
    }
   ],
   "source": [
    "parse_tree3 = sentence3.results[0]\n",
    "parse_tree3[0][1][1].tree()"
   ]
  },
  {
   "cell_type": "markdown",
   "metadata": {},
   "source": [
    "Some basic support for traces."
   ]
  },
  {
   "cell_type": "code",
   "execution_count": 61,
   "metadata": {
    "collapsed": false
   },
   "outputs": [
    {
     "data": {
      "text/latex": [
       "$[\\![\\mathbf{\\text{t23}}]\\!]^{}_{e} \\:=\\: $${t23}_{e}$<br />$[\\![\\mathbf{\\text{t5}}]\\!]^{}_{e} \\:=\\: $${t5}_{e}$<br />$[\\![\\mathbf{\\text{23}}]\\!]^{}$<br />"
      ],
      "text/plain": [
       "$[\\![\\mathbf{\\text{t23}}]\\!]^{}_{e} \\:=\\: $${t23}_{e}$<br />$[\\![\\mathbf{\\text{t5}}]\\!]^{}_{e} \\:=\\: $${t5}_{e}$<br />$[\\![\\mathbf{\\text{23}}]\\!]^{}$<br />"
      ]
     },
     "execution_count": 61,
     "metadata": {},
     "output_type": "execute_result"
    }
   ],
   "source": [
    "binder = lang.Item(\"23\", None)\n",
    "binder2 = lang.Item(\"5\", None)\n",
    "t = lang.Trace(23, types.type_e)\n",
    "t2 = lang.Trace(5)\n",
    "ltx_print(t, t2, binder)"
   ]
  },
  {
   "cell_type": "code",
   "execution_count": 62,
   "metadata": {
    "collapsed": false
   },
   "outputs": [
    {
     "data": {
      "text/latex": [
       "1 composition path.  Result:\n",
       "<br />&nbsp;&nbsp;&nbsp;&nbsp;[0]: $[\\![\\mathbf{\\text{[gray t23]}}]\\!]^{}_{t} \\:=\\: $${Gray}({t23}_{e})$"
      ],
      "text/plain": [
       "CompositionResult(results=[⟦[gray t23]⟧ = Gray_<e,t>(t23_e)], failures=[⟦[t23 gray]⟧ = Type mismatch: '⟦t23⟧ = t23_e'/e and '⟦gray⟧ = (λ x_e: Gray_<e,t>(x_e))'/<e,t> conflict (mode: Function Application), ⟦[t23 gray]⟧ = Type mismatch: '⟦t23⟧ = t23_e'/e and '⟦gray⟧ = (λ x_e: Gray_<e,t>(x_e))'/<e,t> conflict (mode: Predicate Modification), ⟦[t23 gray]⟧ = Type mismatch: '⟦t23⟧ = t23_e'/e and '⟦gray⟧ = (λ x_e: Gray_<e,t>(x_e))'/<e,t> conflict (mode: Predicate Abstraction), ⟦[gray t23]⟧ = Type mismatch: '⟦gray⟧ = (λ x_e: Gray_<e,t>(x_e))'/<e,t> and '⟦t23⟧ = t23_e'/e conflict (mode: Predicate Abstraction)])"
      ]
     },
     "execution_count": 62,
     "metadata": {},
     "output_type": "execute_result"
    }
   ],
   "source": [
    "((t * gray))"
   ]
  },
  {
   "cell_type": "code",
   "execution_count": 63,
   "metadata": {
    "collapsed": false
   },
   "outputs": [
    {
     "data": {
      "text/latex": [
       "1 composition path.  Result:\n",
       "<br />&nbsp;&nbsp;&nbsp;&nbsp;[0]: $[\\![\\mathbf{\\text{[23 [5 [[in t5] t23]]]}}]\\!]^{}_{\\langle{}e,\\langle{}e,t\\rangle{}\\rangle{}} \\:=\\: $$\\lambda{} x1_{e} \\: . \\: \\lambda{} x_{e} \\: . \\: {In}_{\\langle{}e,\\langle{}e,t\\rangle{}\\rangle{}}({x1}_{e})({x}_{e})$<br />1 composition path.  Result:\n",
       "<br />&nbsp;&nbsp;&nbsp;&nbsp;[0]: $[\\![\\mathbf{\\text{[5 [23 [[in t5] t23]]]}}]\\!]^{}_{\\langle{}e,\\langle{}e,t\\rangle{}\\rangle{}} \\:=\\: $$\\lambda{} x1_{e} \\: . \\: \\lambda{} x_{e} \\: . \\: {In}_{\\langle{}e,\\langle{}e,t\\rangle{}\\rangle{}}({x}_{e})({x1}_{e})$<br />"
      ],
      "text/plain": [
       "1 composition path.  Result:\n",
       "<br />&nbsp;&nbsp;&nbsp;&nbsp;[0]: $[\\![\\mathbf{\\text{[23 [5 [[in t5] t23]]]}}]\\!]^{}_{\\langle{}e,\\langle{}e,t\\rangle{}\\rangle{}} \\:=\\: $$\\lambda{} x1_{e} \\: . \\: \\lambda{} x_{e} \\: . \\: {In}_{\\langle{}e,\\langle{}e,t\\rangle{}\\rangle{}}({x1}_{e})({x}_{e})$<br />1 composition path.  Result:\n",
       "<br />&nbsp;&nbsp;&nbsp;&nbsp;[0]: $[\\![\\mathbf{\\text{[5 [23 [[in t5] t23]]]}}]\\!]^{}_{\\langle{}e,\\langle{}e,t\\rangle{}\\rangle{}} \\:=\\: $$\\lambda{} x1_{e} \\: . \\: \\lambda{} x_{e} \\: . \\: {In}_{\\langle{}e,\\langle{}e,t\\rangle{}\\rangle{}}({x}_{e})({x1}_{e})$<br />"
      ]
     },
     "execution_count": 63,
     "metadata": {},
     "output_type": "execute_result"
    }
   ],
   "source": [
    "b1 = (binder * (binder2 * (t * (lang.inP * t2))))\n",
    "b2 = (binder2 * (binder * (t * (lang.inP * t2))))\n",
    "ltx_print(b1, b2)"
   ]
  },
  {
   "cell_type": "code",
   "execution_count": 64,
   "metadata": {
    "collapsed": false
   },
   "outputs": [
    {
     "data": {
      "text/latex": [
       "Full composition trace.  1 path:<br />\n",
       "&nbsp;&nbsp;&nbsp;&nbsp;Step 1: $[\\![\\mathbf{\\text{23}}]\\!]^{}$<br />\n",
       "&nbsp;&nbsp;&nbsp;&nbsp;Step 2: $[\\![\\mathbf{\\text{5}}]\\!]^{}$<br />\n",
       "&nbsp;&nbsp;&nbsp;&nbsp;Step 3: $[\\![\\mathbf{\\text{in}}]\\!]^{}_{\\langle{}e,\\langle{}e,t\\rangle{}\\rangle{}} \\:=\\: $$\\lambda{} x_{e} \\: . \\: \\lambda{} y_{e} \\: . \\: {In}_{\\langle{}e,\\langle{}e,t\\rangle{}\\rangle{}}({y}_{e})({x}_{e})$<br />\n",
       "&nbsp;&nbsp;&nbsp;&nbsp;Step 4: $[\\![\\mathbf{\\text{t5}}]\\!]^{}_{e} \\:=\\: $${t5}_{e}$<br />\n",
       "&nbsp;&nbsp;&nbsp;&nbsp;Step 5: $[\\![\\mathbf{\\text{in}}]\\!]^{}_{\\langle{}e,\\langle{}e,t\\rangle{}\\rangle{}}$ * $[\\![\\mathbf{\\text{t5}}]\\!]^{}_{e}$ leads to: $[\\![\\mathbf{\\text{[in t5]}}]\\!]^{}_{\\langle{}e,t\\rangle{}} \\:=\\: $$\\lambda{} y_{e} \\: . \\: {In}_{\\langle{}e,\\langle{}e,t\\rangle{}\\rangle{}}({y}_{e})({t5}_{e})$ <b>[by FA]</b><br />\n",
       "&nbsp;&nbsp;&nbsp;&nbsp;Step 6: $[\\![\\mathbf{\\text{t23}}]\\!]^{}_{e} \\:=\\: $${t23}_{e}$<br />\n",
       "&nbsp;&nbsp;&nbsp;&nbsp;Step 7: $[\\![\\mathbf{\\text{[in t5]}}]\\!]^{}_{\\langle{}e,t\\rangle{}}$ * $[\\![\\mathbf{\\text{t23}}]\\!]^{}_{e}$ leads to: $[\\![\\mathbf{\\text{[[in t5] t23]}}]\\!]^{}_{t} \\:=\\: $${In}_{\\langle{}e,\\langle{}e,t\\rangle{}\\rangle{}}({t23}_{e})({t5}_{e})$ <b>[by FA]</b><br />\n",
       "&nbsp;&nbsp;&nbsp;&nbsp;Step 8: $[\\![\\mathbf{\\text{5}}]\\!]^{}$ * $[\\![\\mathbf{\\text{[[in t5] t23]}}]\\!]^{}_{t}$ leads to: $[\\![\\mathbf{\\text{[5 [[in t5] t23]]}}]\\!]^{}_{\\langle{}e,t\\rangle{}} \\:=\\: $$\\lambda{} x_{e} \\: . \\: {In}_{\\langle{}e,\\langle{}e,t\\rangle{}\\rangle{}}({t23}_{e})({x}_{e})$ <b>[by PA]</b><br />\n",
       "&nbsp;&nbsp;&nbsp;&nbsp;Step 9: $[\\![\\mathbf{\\text{23}}]\\!]^{}$ * $[\\![\\mathbf{\\text{[5 [[in t5] t23]]}}]\\!]^{}_{\\langle{}e,t\\rangle{}}$ leads to: $[\\![\\mathbf{\\text{[23 [5 [[in t5] t23]]]}}]\\!]^{}_{\\langle{}e,\\langle{}e,t\\rangle{}\\rangle{}} \\:=\\: $$\\lambda{} x1_{e} \\: . \\: \\lambda{} x_{e} \\: . \\: {In}_{\\langle{}e,\\langle{}e,t\\rangle{}\\rangle{}}({x1}_{e})({x}_{e})$ <b>[by PA]</b><br />\n"
      ],
      "text/plain": [
       "Full composition trace.  1 path:<br />\n",
       "&nbsp;&nbsp;&nbsp;&nbsp;Step 1: $[\\![\\mathbf{\\text{23}}]\\!]^{}$<br />\n",
       "&nbsp;&nbsp;&nbsp;&nbsp;Step 2: $[\\![\\mathbf{\\text{5}}]\\!]^{}$<br />\n",
       "&nbsp;&nbsp;&nbsp;&nbsp;Step 3: $[\\![\\mathbf{\\text{in}}]\\!]^{}_{\\langle{}e,\\langle{}e,t\\rangle{}\\rangle{}} \\:=\\: $$\\lambda{} x_{e} \\: . \\: \\lambda{} y_{e} \\: . \\: {In}_{\\langle{}e,\\langle{}e,t\\rangle{}\\rangle{}}({y}_{e})({x}_{e})$<br />\n",
       "&nbsp;&nbsp;&nbsp;&nbsp;Step 4: $[\\![\\mathbf{\\text{t5}}]\\!]^{}_{e} \\:=\\: $${t5}_{e}$<br />\n",
       "&nbsp;&nbsp;&nbsp;&nbsp;Step 5: $[\\![\\mathbf{\\text{in}}]\\!]^{}_{\\langle{}e,\\langle{}e,t\\rangle{}\\rangle{}}$ * $[\\![\\mathbf{\\text{t5}}]\\!]^{}_{e}$ leads to: $[\\![\\mathbf{\\text{[in t5]}}]\\!]^{}_{\\langle{}e,t\\rangle{}} \\:=\\: $$\\lambda{} y_{e} \\: . \\: {In}_{\\langle{}e,\\langle{}e,t\\rangle{}\\rangle{}}({y}_{e})({t5}_{e})$ <b>[by FA]</b><br />\n",
       "&nbsp;&nbsp;&nbsp;&nbsp;Step 6: $[\\![\\mathbf{\\text{t23}}]\\!]^{}_{e} \\:=\\: $${t23}_{e}$<br />\n",
       "&nbsp;&nbsp;&nbsp;&nbsp;Step 7: $[\\![\\mathbf{\\text{[in t5]}}]\\!]^{}_{\\langle{}e,t\\rangle{}}$ * $[\\![\\mathbf{\\text{t23}}]\\!]^{}_{e}$ leads to: $[\\![\\mathbf{\\text{[[in t5] t23]}}]\\!]^{}_{t} \\:=\\: $${In}_{\\langle{}e,\\langle{}e,t\\rangle{}\\rangle{}}({t23}_{e})({t5}_{e})$ <b>[by FA]</b><br />\n",
       "&nbsp;&nbsp;&nbsp;&nbsp;Step 8: $[\\![\\mathbf{\\text{5}}]\\!]^{}$ * $[\\![\\mathbf{\\text{[[in t5] t23]}}]\\!]^{}_{t}$ leads to: $[\\![\\mathbf{\\text{[5 [[in t5] t23]]}}]\\!]^{}_{\\langle{}e,t\\rangle{}} \\:=\\: $$\\lambda{} x_{e} \\: . \\: {In}_{\\langle{}e,\\langle{}e,t\\rangle{}\\rangle{}}({t23}_{e})({x}_{e})$ <b>[by PA]</b><br />\n",
       "&nbsp;&nbsp;&nbsp;&nbsp;Step 9: $[\\![\\mathbf{\\text{23}}]\\!]^{}$ * $[\\![\\mathbf{\\text{[5 [[in t5] t23]]}}]\\!]^{}_{\\langle{}e,t\\rangle{}}$ leads to: $[\\![\\mathbf{\\text{[23 [5 [[in t5] t23]]]}}]\\!]^{}_{\\langle{}e,\\langle{}e,t\\rangle{}\\rangle{}} \\:=\\: $$\\lambda{} x1_{e} \\: . \\: \\lambda{} x_{e} \\: . \\: {In}_{\\langle{}e,\\langle{}e,t\\rangle{}\\rangle{}}({x1}_{e})({x}_{e})$ <b>[by PA]</b><br />"
      ]
     },
     "execution_count": 64,
     "metadata": {},
     "output_type": "execute_result"
    }
   ],
   "source": [
    "b1.trace()"
   ]
  },
  {
   "cell_type": "code",
   "execution_count": 65,
   "metadata": {
    "collapsed": false
   },
   "outputs": [
    {
     "data": {
      "text/latex": [
       "<table><tr style=\"border:1px solid #848482\"><td style=\"vertical-align:bottom;padding:0px 10px\" align=\"center\"><table><tr><td style=\"vertical-align:bottom;padding:5px\"><div style=\"margin-top:10px;border-style:solid;border-color:#848482;border-width:0px\"><div style=\"vertical-align:bottom;text-align:center\">$[\\![\\mathbf{\\text{23}}]\\!]^{}$</div><div style=\"vertical-align:bottom;text-align:center\">N/A</div></div></td><td style=\"vertical-align:bottom;padding:10px\">$\\circ$</td><td style=\"vertical-align:bottom;padding:5px\"><table><tr style=\"border:1px solid #848482\"><td style=\"vertical-align:bottom;padding:0px 10px\" align=\"center\"><table><tr><td style=\"vertical-align:bottom;padding:5px\"><div style=\"margin-top:10px;border-style:solid;border-color:#848482;border-width:0px\"><div style=\"vertical-align:bottom;text-align:center\">$[\\![\\mathbf{\\text{5}}]\\!]^{}$</div><div style=\"vertical-align:bottom;text-align:center\">N/A</div></div></td><td style=\"vertical-align:bottom;padding:10px\">$\\circ$</td><td style=\"vertical-align:bottom;padding:5px\"><table><tr style=\"border:1px solid #848482\"><td style=\"vertical-align:bottom;padding:0px 10px\" align=\"center\"><table><tr><td style=\"vertical-align:bottom;padding:5px\"><table><tr style=\"border:1px solid #848482\"><td style=\"vertical-align:bottom;padding:0px 10px\" align=\"center\"><table><tr><td style=\"vertical-align:bottom;padding:5px\"><div style=\"margin-top:10px;border-style:solid;border-color:#848482;border-width:0px\"><div style=\"vertical-align:bottom;text-align:center\">$[\\![\\mathbf{\\text{in}}]\\!]^{}_{\\langle{}e,\\langle{}e,t\\rangle{}\\rangle{}}$</div><div style=\"vertical-align:bottom;text-align:center\">$\\lambda{} x_{e} \\: . \\: \\lambda{} y_{e} \\: . \\: {In}_{\\langle{}e,\\langle{}e,t\\rangle{}\\rangle{}}({y}_{e})({x}_{e})$</div></div></td><td style=\"vertical-align:bottom;padding:10px\">$\\circ$</td><td style=\"vertical-align:bottom;padding:5px\"><div style=\"margin-top:10px;border-style:solid;border-color:#848482;border-width:0px\"><div style=\"vertical-align:bottom;text-align:center\">$[\\![\\mathbf{\\text{t5}}]\\!]^{}_{e}$</div><div style=\"vertical-align:bottom;text-align:center\">${t5}_{e}$</div></div></td></tr></table></td><td style=\"border-left:1px solid #848482;vertical-align:center;padding:10px\"><span style=\"color:blue\"><b>[FA]</b></span></td></tr><tr style=\"border-style:solid;border-color:#848482;border-width:0px 1px 1px 1px\"><td style=\"padding:5px\" align=\"center\"><div style=\"margin-top:10px;border-style:solid;border-color:#848482;border-width:0px\"><div style=\"vertical-align:bottom;text-align:center\">$[\\![\\mathbf{\\text{[in t5]}}]\\!]^{}_{\\langle{}e,t\\rangle{}}$</div><div style=\"vertical-align:bottom;text-align:center\">$\\lambda{} y_{e} \\: . \\: {In}_{\\langle{}e,\\langle{}e,t\\rangle{}\\rangle{}}({y}_{e})({t5}_{e})$</div></div></td><td></td></tr></table></td><td style=\"vertical-align:bottom;padding:10px\">$\\circ$</td><td style=\"vertical-align:bottom;padding:5px\"><div style=\"margin-top:10px;border-style:solid;border-color:#848482;border-width:0px\"><div style=\"vertical-align:bottom;text-align:center\">$[\\![\\mathbf{\\text{t23}}]\\!]^{}_{e}$</div><div style=\"vertical-align:bottom;text-align:center\">${t23}_{e}$</div></div></td></tr></table></td><td style=\"border-left:1px solid #848482;vertical-align:center;padding:10px\"><span style=\"color:blue\"><b>[FA]</b></span></td></tr><tr style=\"border-style:solid;border-color:#848482;border-width:0px 1px 1px 1px\"><td style=\"padding:5px\" align=\"center\"><div style=\"margin-top:10px;border-style:solid;border-color:#848482;border-width:0px\"><div style=\"vertical-align:bottom;text-align:center\">$[\\![\\mathbf{\\text{[[in t5] t23]}}]\\!]^{}_{t}$</div><div style=\"vertical-align:bottom;text-align:center\">${In}_{\\langle{}e,\\langle{}e,t\\rangle{}\\rangle{}}({t23}_{e})({t5}_{e})$</div></div></td><td></td></tr></table></td></tr></table></td><td style=\"border-left:1px solid #848482;vertical-align:center;padding:10px\"><span style=\"color:blue\"><b>[PA]</b></span></td></tr><tr style=\"border-style:solid;border-color:#848482;border-width:0px 1px 1px 1px\"><td style=\"padding:5px\" align=\"center\"><div style=\"margin-top:10px;border-style:solid;border-color:#848482;border-width:0px\"><div style=\"vertical-align:bottom;text-align:center\">$[\\![\\mathbf{\\text{[5 [[in t5] t23]]}}]\\!]^{}_{\\langle{}e,t\\rangle{}}$</div><div style=\"vertical-align:bottom;text-align:center\">$\\lambda{} x_{e} \\: . \\: {In}_{\\langle{}e,\\langle{}e,t\\rangle{}\\rangle{}}({t23}_{e})({x}_{e})$</div></div></td><td></td></tr></table></td></tr></table></td><td style=\"border-left:1px solid #848482;vertical-align:center;padding:10px\"><span style=\"color:blue\"><b>[PA]</b></span></td></tr><tr style=\"border-style:solid;border-color:#848482;border-width:0px 1px 1px 1px\"><td style=\"padding:5px\" align=\"center\"><div style=\"margin-top:10px;border-style:solid;border-color:#848482;border-width:0px\"><div style=\"vertical-align:bottom;text-align:center\">$[\\![\\mathbf{\\text{[23 [5 [[in t5] t23]]]}}]\\!]^{}_{\\langle{}e,\\langle{}e,t\\rangle{}\\rangle{}}$</div><div style=\"vertical-align:bottom;text-align:center\">$\\lambda{} x1_{e} \\: . \\: \\lambda{} x_{e} \\: . \\: {In}_{\\langle{}e,\\langle{}e,t\\rangle{}\\rangle{}}({x1}_{e})({x}_{e})$</div></div></td><td></td></tr></table>"
      ],
      "text/plain": [
       "<lamb.display.RecursiveDerivationDisplay at 0x1048aef50>"
      ]
     },
     "execution_count": 65,
     "metadata": {},
     "output_type": "execute_result"
    }
   ],
   "source": [
    "b1.results[0].tree()"
   ]
  },
  {
   "cell_type": "code",
   "execution_count": null,
   "metadata": {
    "collapsed": false
   },
   "outputs": [],
   "source": []
  },
  {
   "cell_type": "markdown",
   "metadata": {},
   "source": [
    "### Composition in tree structures\n",
    "\n",
    "Current work: implementing tree-based computation, and top-down/deferred computation\n",
    "\n",
    "* using nltk Tree objects.\n",
    "* system for deferred / uncertain types -- basic inference over unknown types\n",
    "* arbitrary order of composition expansion.  (Of course, some orders will be far less efficient!)"
   ]
  },
  {
   "cell_type": "code",
   "execution_count": 66,
   "metadata": {
    "collapsed": false
   },
   "outputs": [],
   "source": [
    "lang.set_system(lang.hk3_system)"
   ]
  },
  {
   "cell_type": "code",
   "execution_count": 67,
   "metadata": {
    "collapsed": false
   },
   "outputs": [
    {
     "data": {
      "text/latex": [
       "$[\\![\\mathbf{\\text{gray}}]\\!]^{}_{\\langle{}e,t\\rangle{}} \\:=\\: \\lambda{} x_{e} \\: . \\: {Gray}({x}_{e})$<br />\n",
       "$[\\![\\mathbf{\\text{cat}}]\\!]^{}_{\\langle{}e,t\\rangle{}} \\:=\\: \\lambda{} x_{e} \\: . \\: {Cat}({x}_{e})$"
      ],
      "text/plain": [
       "$[\\![\\mathbf{\\text{gray}}]\\!]^{}_{\\langle{}e,t\\rangle{}} \\:=\\: \\lambda{} x_{e} \\: . \\: {Gray}({x}_{e})$<br />\n",
       "$[\\![\\mathbf{\\text{cat}}]\\!]^{}_{\\langle{}e,t\\rangle{}} \\:=\\: \\lambda{} x_{e} \\: . \\: {Cat}({x}_{e})$"
      ]
     },
     "execution_count": 67,
     "metadata": {},
     "output_type": "execute_result"
    }
   ],
   "source": [
    "%%lamb\n",
    "||gray|| = L x_e : Gray_<e,t>(x)\n",
    "||cat|| = L x_e : Cat_<e,t>(x)"
   ]
  },
  {
   "cell_type": "code",
   "execution_count": 68,
   "metadata": {
    "collapsed": false
   },
   "outputs": [
    {
     "data": {
      "text/latex": [
       "<table><tr><td style=\"vertical-align:bottom;padding:0px 10px\" align=\"center\"><table><tr><td style=\"vertical-align:bottom;padding:5px\"><div style=\"margin-top:3px;border-width:0px;border-style:solid;border-color:#848482;vertical-align:bottom;text-align:center\"><div style=\"margin-top:3px;border-width:0px;border-style:solid;border-color:#848482;vertical-align:bottom;text-align:center\">$[\\![\\mathbf{\\text{NP}}]\\!]^{}_{?}$</div></div></td><td style=\"vertical-align:bottom;padding:10px\">$\\circ$</td><td style=\"vertical-align:bottom;padding:5px\"><div style=\"margin-top:3px;border-width:0px;border-style:solid;border-color:#848482;vertical-align:bottom;text-align:center\"><div style=\"margin-top:3px;border-width:0px;border-style:solid;border-color:#848482;vertical-align:bottom;text-align:center\">$[\\![\\mathbf{\\text{VP}}]\\!]^{}_{?}$</div></div></td></tr></table></td><td></td></tr><tr style=\"border-top: 1px solid #848482\"><td align=\"center\"><div style=\"margin-top:10px;border-style:solid;border-color:#848482;border-width:1px\"><div style=\"vertical-align:bottom;text-align:center\">$[\\![\\mathbf{\\text{[S]}}]\\!]$</div><div style=\"vertical-align:bottom;text-align:center\"><div style=\"margin-top:10px;border-style:solid;border-color:#848482;border-width:0px\"><div style=\"vertical-align:bottom;text-align:center\"><span style=\"color:blue\">[path 0]</span>: &nbsp;$[\\![\\mathbf{\\text{S}}]\\!]^{}_{?} \\:=\\: $$[\\![\\mathbf{\\text{NP}}]\\!]^{}_{\\langle{}?,?\\rangle{}_{?}}([\\![\\mathbf{\\text{VP}}]\\!]^{}_{?})$</div><div style=\"vertical-align:bottom;text-align:center\"><span style=\"color:blue\">[path 1]</span>: &nbsp;$[\\![\\mathbf{\\text{S}}]\\!]^{}_{?} \\:=\\: $$[\\![\\mathbf{\\text{VP}}]\\!]^{}_{\\langle{}?,?\\rangle{}_{?}}([\\![\\mathbf{\\text{NP}}]\\!]^{}_{?})$</div><div style=\"vertical-align:bottom;text-align:center\"><span style=\"color:blue\">[path 2]</span>: &nbsp;$[\\![\\mathbf{\\text{S}}]\\!]^{}_{\\langle{}e,t\\rangle{}} \\:=\\: $$\\lambda{} x_{e} \\: . \\: ([\\![\\mathbf{\\text{NP}}]\\!]^{}_{\\langle{}e,t\\rangle{}_{?}}({x}_{e}) \\wedge{} [\\![\\mathbf{\\text{VP}}]\\!]^{}_{\\langle{}e,t\\rangle{}_{?}}({x}_{e}))$</div></div></div></div></td><td></td></tr></table>\n"
      ],
      "text/plain": [
       "<lamb.display.RecursiveDerivationDisplay at 0x1048b7990>"
      ]
     },
     "execution_count": 68,
     "metadata": {},
     "output_type": "execute_result"
    }
   ],
   "source": [
    "t2 = Tree(\"S\", [\"NP\", \"VP\"])\n",
    "r2 = lang.hk3_system.compose(t2)\n",
    "r2.tree()"
   ]
  },
  {
   "cell_type": "code",
   "execution_count": 69,
   "metadata": {
    "collapsed": false
   },
   "outputs": [
    {
     "data": {
      "text/latex": [
       "<table><tr><td style=\"vertical-align:bottom;padding:0px 10px\" align=\"center\"><table><tr><td style=\"vertical-align:bottom;padding:5px\"><div style=\"margin-top:3px;border-width:0px;border-style:solid;border-color:#848482;vertical-align:bottom;text-align:center\">gray</div></td><td style=\"vertical-align:bottom;padding:10px\">$\\circ$</td><td style=\"vertical-align:bottom;padding:5px\"><table><tr><td style=\"vertical-align:bottom;padding:0px 10px\" align=\"center\"><table><tr><td style=\"vertical-align:bottom;padding:5px\"><div style=\"margin-top:3px;border-width:0px;border-style:solid;border-color:#848482;vertical-align:bottom;text-align:center\">cat</div></td></tr></table></td><td></td></tr><tr style=\"border-top: 1px solid #848482\"><td align=\"center\">N</td><td></td></tr></table>\n",
       "</td></tr></table></td><td></td></tr><tr style=\"border-top: 1px solid #848482\"><td align=\"center\">NP</td><td></td></tr></table>\n"
      ],
      "text/plain": [
       "CompositionTree('NP', ['gray', Tree('N', ['cat'])])"
      ]
     },
     "execution_count": 69,
     "metadata": {},
     "output_type": "execute_result"
    }
   ],
   "source": [
    "from lamb.tree_mini import Tree # hacked package to work with python 3\n",
    "t = Tree(\"NP\", [\"gray\", Tree(\"N\", [\"cat\"])])\n",
    "t2 = lang.CompositionTree.tree_factory(t)\n",
    "t2"
   ]
  },
  {
   "cell_type": "code",
   "execution_count": 70,
   "metadata": {
    "collapsed": false
   },
   "outputs": [
    {
     "data": {
      "text/latex": [
       "3 composition paths. Results:\n",
       "<br />&nbsp;&nbsp;&nbsp;&nbsp;[0]: $[\\![\\mathbf{\\text{NP}}]\\!]^{}_{?} \\:=\\: $$[\\![\\mathbf{\\text{gray}}]\\!]^{}_{\\langle{}?,?\\rangle{}_{?}}([\\![\\mathbf{\\text{N}}]\\!]^{}_{?})$\n",
       "<br />&nbsp;&nbsp;&nbsp;&nbsp;[1]: $[\\![\\mathbf{\\text{NP}}]\\!]^{}_{?} \\:=\\: $$[\\![\\mathbf{\\text{N}}]\\!]^{}_{\\langle{}?,?\\rangle{}_{?}}([\\![\\mathbf{\\text{gray}}]\\!]^{}_{?})$\n",
       "<br />&nbsp;&nbsp;&nbsp;&nbsp;[2]: $[\\![\\mathbf{\\text{NP}}]\\!]^{}_{\\langle{}e,t\\rangle{}} \\:=\\: $$\\lambda{} x_{e} \\: . \\: ([\\![\\mathbf{\\text{gray}}]\\!]^{}_{\\langle{}e,t\\rangle{}_{?}}({x}_{e}) \\wedge{} [\\![\\mathbf{\\text{N}}]\\!]^{}_{\\langle{}e,t\\rangle{}_{?}}({x}_{e}))$"
      ],
      "text/plain": [
       "CompositionTree('NP', [CompositionTree('gray', []), CompositionTree('N', ['cat'])])"
      ]
     },
     "execution_count": 70,
     "metadata": {},
     "output_type": "execute_result"
    }
   ],
   "source": [
    "r = lang.hk3_system.compose(t2)\n",
    "r"
   ]
  },
  {
   "cell_type": "code",
   "execution_count": 71,
   "metadata": {
    "collapsed": false
   },
   "outputs": [
    {
     "data": {
      "text/latex": [
       "3 composition paths:<br />\n",
       "Path [0]:<br />\n",
       "<table><tr style=\"border:1px solid #848482\"><td style=\"vertical-align:bottom;padding:0px 10px\" align=\"center\"><table><tr><td style=\"vertical-align:bottom;padding:5px\"><div style=\"margin-top:3px;border-width:0px;border-style:solid;border-color:#848482;vertical-align:bottom;text-align:center\">$[\\![\\mathbf{\\text{gray}}]\\!]^{}_{?}$</div></td><td style=\"vertical-align:bottom;padding:10px\">$\\circ$</td><td style=\"vertical-align:bottom;padding:5px\"><div style=\"margin-top:3px;border-width:0px;border-style:solid;border-color:#848482;vertical-align:bottom;text-align:center\">$[\\![\\mathbf{\\text{N}}]\\!]^{}_{?}$</div></td></tr></table></td><td style=\"border-left:1px solid #848482;vertical-align:center;padding:10px\"><span style=\"color:blue\"><b>[FA/left]</b></span></td></tr><tr style=\"border-style:solid;border-color:#848482;border-width:0px 1px 1px 1px\"><td style=\"padding:5px\" align=\"center\"><div style=\"margin-top:10px;border-style:solid;border-color:#848482;border-width:0px\"><div style=\"vertical-align:bottom;text-align:center\">$[\\![\\mathbf{\\text{NP}}]\\!]^{}_{?}$</div><div style=\"vertical-align:bottom;text-align:center\">$[\\![\\mathbf{\\text{gray}}]\\!]^{}_{\\langle{}?,?\\rangle{}_{?}}([\\![\\mathbf{\\text{N}}]\\!]^{}_{?})$</div></div></td><td></td></tr></table><br /><br />Path [1]:<br />\n",
       "<table><tr style=\"border:1px solid #848482\"><td style=\"vertical-align:bottom;padding:0px 10px\" align=\"center\"><table><tr><td style=\"vertical-align:bottom;padding:5px\"><div style=\"margin-top:3px;border-width:0px;border-style:solid;border-color:#848482;vertical-align:bottom;text-align:center\">$[\\![\\mathbf{\\text{gray}}]\\!]^{}_{?}$</div></td><td style=\"vertical-align:bottom;padding:10px\">$\\circ$</td><td style=\"vertical-align:bottom;padding:5px\"><div style=\"margin-top:3px;border-width:0px;border-style:solid;border-color:#848482;vertical-align:bottom;text-align:center\">$[\\![\\mathbf{\\text{N}}]\\!]^{}_{?}$</div></td></tr></table></td><td style=\"border-left:1px solid #848482;vertical-align:center;padding:10px\"><span style=\"color:blue\"><b>[FA/right]</b></span></td></tr><tr style=\"border-style:solid;border-color:#848482;border-width:0px 1px 1px 1px\"><td style=\"padding:5px\" align=\"center\"><div style=\"margin-top:10px;border-style:solid;border-color:#848482;border-width:0px\"><div style=\"vertical-align:bottom;text-align:center\">$[\\![\\mathbf{\\text{NP}}]\\!]^{}_{?}$</div><div style=\"vertical-align:bottom;text-align:center\">$[\\![\\mathbf{\\text{N}}]\\!]^{}_{\\langle{}?,?\\rangle{}_{?}}([\\![\\mathbf{\\text{gray}}]\\!]^{}_{?})$</div></div></td><td></td></tr></table><br /><br />Path [2]:<br />\n",
       "<table><tr style=\"border:1px solid #848482\"><td style=\"vertical-align:bottom;padding:0px 10px\" align=\"center\"><table><tr><td style=\"vertical-align:bottom;padding:5px\"><div style=\"margin-top:3px;border-width:0px;border-style:solid;border-color:#848482;vertical-align:bottom;text-align:center\">$[\\![\\mathbf{\\text{gray}}]\\!]^{}_{?}$</div></td><td style=\"vertical-align:bottom;padding:10px\">$\\circ$</td><td style=\"vertical-align:bottom;padding:5px\"><div style=\"margin-top:3px;border-width:0px;border-style:solid;border-color:#848482;vertical-align:bottom;text-align:center\">$[\\![\\mathbf{\\text{N}}]\\!]^{}_{?}$</div></td></tr></table></td><td style=\"border-left:1px solid #848482;vertical-align:center;padding:10px\"><span style=\"color:blue\"><b>[PM]</b></span></td></tr><tr style=\"border-style:solid;border-color:#848482;border-width:0px 1px 1px 1px\"><td style=\"padding:5px\" align=\"center\"><div style=\"margin-top:10px;border-style:solid;border-color:#848482;border-width:0px\"><div style=\"vertical-align:bottom;text-align:center\">$[\\![\\mathbf{\\text{NP}}]\\!]^{}_{\\langle{}e,t\\rangle{}}$</div><div style=\"vertical-align:bottom;text-align:center\">$\\lambda{} x_{e} \\: . \\: ([\\![\\mathbf{\\text{gray}}]\\!]^{}_{\\langle{}e,t\\rangle{}_{?}}({x}_{e}) \\wedge{} [\\![\\mathbf{\\text{N}}]\\!]^{}_{\\langle{}e,t\\rangle{}_{?}}({x}_{e}))$</div></div></td><td></td></tr></table><br /><br />"
      ],
      "text/plain": [
       "3 composition paths:<br />\n",
       "Path [0]:<br />\n",
       "<table><tr style=\"border:1px solid #848482\"><td style=\"vertical-align:bottom;padding:0px 10px\" align=\"center\"><table><tr><td style=\"vertical-align:bottom;padding:5px\"><div style=\"margin-top:3px;border-width:0px;border-style:solid;border-color:#848482;vertical-align:bottom;text-align:center\">$[\\![\\mathbf{\\text{gray}}]\\!]^{}_{?}$</div></td><td style=\"vertical-align:bottom;padding:10px\">$\\circ$</td><td style=\"vertical-align:bottom;padding:5px\"><div style=\"margin-top:3px;border-width:0px;border-style:solid;border-color:#848482;vertical-align:bottom;text-align:center\">$[\\![\\mathbf{\\text{N}}]\\!]^{}_{?}$</div></td></tr></table></td><td style=\"border-left:1px solid #848482;vertical-align:center;padding:10px\"><span style=\"color:blue\"><b>[FA/left]</b></span></td></tr><tr style=\"border-style:solid;border-color:#848482;border-width:0px 1px 1px 1px\"><td style=\"padding:5px\" align=\"center\"><div style=\"margin-top:10px;border-style:solid;border-color:#848482;border-width:0px\"><div style=\"vertical-align:bottom;text-align:center\">$[\\![\\mathbf{\\text{NP}}]\\!]^{}_{?}$</div><div style=\"vertical-align:bottom;text-align:center\">$[\\![\\mathbf{\\text{gray}}]\\!]^{}_{\\langle{}?,?\\rangle{}_{?}}([\\![\\mathbf{\\text{N}}]\\!]^{}_{?})$</div></div></td><td></td></tr></table><br /><br />Path [1]:<br />\n",
       "<table><tr style=\"border:1px solid #848482\"><td style=\"vertical-align:bottom;padding:0px 10px\" align=\"center\"><table><tr><td style=\"vertical-align:bottom;padding:5px\"><div style=\"margin-top:3px;border-width:0px;border-style:solid;border-color:#848482;vertical-align:bottom;text-align:center\">$[\\![\\mathbf{\\text{gray}}]\\!]^{}_{?}$</div></td><td style=\"vertical-align:bottom;padding:10px\">$\\circ$</td><td style=\"vertical-align:bottom;padding:5px\"><div style=\"margin-top:3px;border-width:0px;border-style:solid;border-color:#848482;vertical-align:bottom;text-align:center\">$[\\![\\mathbf{\\text{N}}]\\!]^{}_{?}$</div></td></tr></table></td><td style=\"border-left:1px solid #848482;vertical-align:center;padding:10px\"><span style=\"color:blue\"><b>[FA/right]</b></span></td></tr><tr style=\"border-style:solid;border-color:#848482;border-width:0px 1px 1px 1px\"><td style=\"padding:5px\" align=\"center\"><div style=\"margin-top:10px;border-style:solid;border-color:#848482;border-width:0px\"><div style=\"vertical-align:bottom;text-align:center\">$[\\![\\mathbf{\\text{NP}}]\\!]^{}_{?}$</div><div style=\"vertical-align:bottom;text-align:center\">$[\\![\\mathbf{\\text{N}}]\\!]^{}_{\\langle{}?,?\\rangle{}_{?}}([\\![\\mathbf{\\text{gray}}]\\!]^{}_{?})$</div></div></td><td></td></tr></table><br /><br />Path [2]:<br />\n",
       "<table><tr style=\"border:1px solid #848482\"><td style=\"vertical-align:bottom;padding:0px 10px\" align=\"center\"><table><tr><td style=\"vertical-align:bottom;padding:5px\"><div style=\"margin-top:3px;border-width:0px;border-style:solid;border-color:#848482;vertical-align:bottom;text-align:center\">$[\\![\\mathbf{\\text{gray}}]\\!]^{}_{?}$</div></td><td style=\"vertical-align:bottom;padding:10px\">$\\circ$</td><td style=\"vertical-align:bottom;padding:5px\"><div style=\"margin-top:3px;border-width:0px;border-style:solid;border-color:#848482;vertical-align:bottom;text-align:center\">$[\\![\\mathbf{\\text{N}}]\\!]^{}_{?}$</div></td></tr></table></td><td style=\"border-left:1px solid #848482;vertical-align:center;padding:10px\"><span style=\"color:blue\"><b>[PM]</b></span></td></tr><tr style=\"border-style:solid;border-color:#848482;border-width:0px 1px 1px 1px\"><td style=\"padding:5px\" align=\"center\"><div style=\"margin-top:10px;border-style:solid;border-color:#848482;border-width:0px\"><div style=\"vertical-align:bottom;text-align:center\">$[\\![\\mathbf{\\text{NP}}]\\!]^{}_{\\langle{}e,t\\rangle{}}$</div><div style=\"vertical-align:bottom;text-align:center\">$\\lambda{} x_{e} \\: . \\: ([\\![\\mathbf{\\text{gray}}]\\!]^{}_{\\langle{}e,t\\rangle{}_{?}}({x}_{e}) \\wedge{} [\\![\\mathbf{\\text{N}}]\\!]^{}_{\\langle{}e,t\\rangle{}_{?}}({x}_{e}))$</div></div></td><td></td></tr></table><br /><br />"
      ]
     },
     "execution_count": 71,
     "metadata": {},
     "output_type": "execute_result"
    }
   ],
   "source": [
    "r.paths()"
   ]
  },
  {
   "cell_type": "code",
   "execution_count": 72,
   "metadata": {
    "collapsed": false
   },
   "outputs": [
    {
     "data": {
      "text/latex": [
       "1 composition path.  Result:\n",
       "<br />&nbsp;&nbsp;&nbsp;&nbsp;[0]: $[\\![\\mathbf{\\text{NP}}]\\!]^{}_{\\langle{}e,t\\rangle{}} \\:=\\: $$\\lambda{} x_{e} \\: . \\: ({Gray}({x}_{e}) \\wedge{} {Cat}({x}_{e}))$"
      ],
      "text/plain": [
       "CompositionTree('NP', [CompositionTree('gray', []), CompositionTree('N', [CompositionTree('cat', [])])])"
      ]
     },
     "execution_count": 72,
     "metadata": {},
     "output_type": "execute_result"
    }
   ],
   "source": [
    "r = lang.hk3_system.expand_all(t2)\n",
    "r"
   ]
  },
  {
   "cell_type": "code",
   "execution_count": 73,
   "metadata": {
    "collapsed": false
   },
   "outputs": [
    {
     "data": {
      "text/latex": [
       "<table><tr><td style=\"vertical-align:bottom;padding:0px 10px\" align=\"center\"><table><tr><td style=\"vertical-align:bottom;padding:5px\"><div style=\"margin-top:10px;border-style:solid;border-color:#848482;border-width:1px\"><div style=\"vertical-align:bottom;text-align:center\">$[\\![\\mathbf{\\text{[gray]}}]\\!]$</div><div style=\"vertical-align:bottom;text-align:center\"><div style=\"margin-top:3px;border-width:0px;border-style:solid;border-color:#848482;vertical-align:bottom;text-align:center\">$[\\![\\mathbf{\\text{gray}}]\\!]^{}_{\\langle{}e,t\\rangle{}} \\:=\\: $$\\lambda{} x_{e} \\: . \\: {Gray}({x}_{e})$</div></div></div></td><td style=\"vertical-align:bottom;padding:10px\">$\\circ$</td><td style=\"vertical-align:bottom;padding:5px\"><table><tr><td style=\"vertical-align:bottom;padding:0px 10px\" align=\"center\"><table><tr><td style=\"vertical-align:bottom;padding:5px\"><div style=\"margin-top:10px;border-style:solid;border-color:#848482;border-width:1px\"><div style=\"vertical-align:bottom;text-align:center\">$[\\![\\mathbf{\\text{[cat]}}]\\!]$</div><div style=\"vertical-align:bottom;text-align:center\"><div style=\"margin-top:3px;border-width:0px;border-style:solid;border-color:#848482;vertical-align:bottom;text-align:center\">$[\\![\\mathbf{\\text{cat}}]\\!]^{}_{\\langle{}e,t\\rangle{}} \\:=\\: $$\\lambda{} x_{e} \\: . \\: {Cat}({x}_{e})$</div></div></div></td></tr></table></td><td></td></tr><tr style=\"border-top: 1px solid #848482\"><td align=\"center\"><div style=\"margin-top:10px;border-style:solid;border-color:#848482;border-width:1px\"><div style=\"vertical-align:bottom;text-align:center\">$[\\![\\mathbf{\\text{[N]}}]\\!]$</div><div style=\"vertical-align:bottom;text-align:center\"><div style=\"margin-top:3px;border-width:0px;border-style:solid;border-color:#848482;vertical-align:bottom;text-align:center\">$[\\![\\mathbf{\\text{N}}]\\!]^{}_{\\langle{}e,t\\rangle{}} \\:=\\: $$\\lambda{} x_{e} \\: . \\: {Cat}({x}_{e})$</div></div></div></td><td></td></tr></table>\n",
       "</td></tr></table></td><td></td></tr><tr style=\"border-top: 1px solid #848482\"><td align=\"center\"><div style=\"margin-top:10px;border-style:solid;border-color:#848482;border-width:1px\"><div style=\"vertical-align:bottom;text-align:center\">$[\\![\\mathbf{\\text{[NP]}}]\\!]$</div><div style=\"vertical-align:bottom;text-align:center\"><div style=\"margin-top:3px;border-width:0px;border-style:solid;border-color:#848482;vertical-align:bottom;text-align:center\">$[\\![\\mathbf{\\text{NP}}]\\!]^{}_{\\langle{}e,t\\rangle{}} \\:=\\: $$\\lambda{} x_{e} \\: . \\: ({Gray}({x}_{e}) \\wedge{} {Cat}({x}_{e}))$</div></div></div></td><td></td></tr></table>\n"
      ],
      "text/plain": [
       "<lamb.display.RecursiveDerivationDisplay at 0x1048ccf50>"
      ]
     },
     "execution_count": 73,
     "metadata": {},
     "output_type": "execute_result"
    }
   ],
   "source": [
    "r.tree()"
   ]
  },
  {
   "cell_type": "code",
   "execution_count": 74,
   "metadata": {
    "collapsed": false
   },
   "outputs": [
    {
     "data": {
      "text/latex": [
       "1 composition path:<br /><table><tr style=\"border:1px solid #848482\"><td style=\"vertical-align:bottom;padding:0px 10px\" align=\"center\"><table><tr><td style=\"vertical-align:bottom;padding:5px\"><table><tr style=\"border:1px solid #848482\"><td style=\"vertical-align:bottom;padding:0px 10px\" align=\"center\"><table><tr><td style=\"vertical-align:bottom;padding:5px\"><div style=\"margin-top:3px;border-width:0px;border-style:solid;border-color:#848482;vertical-align:bottom;text-align:center\">$[\\![\\mathbf{\\text{gray}}]\\!]^{}_{\\langle{}e,t\\rangle{}}$</div></td></tr></table></td><td style=\"border-left:1px solid #848482;vertical-align:center;padding:10px\"><span style=\"color:blue\"><b>[Lexicon]</b></span></td></tr><tr style=\"border-style:solid;border-color:#848482;border-width:0px 1px 1px 1px\"><td style=\"padding:5px\" align=\"center\"><div style=\"margin-top:3px;border-width:0px;border-style:solid;border-color:#848482;vertical-align:bottom;text-align:center\">$\\lambda{} x_{e} \\: . \\: {Gray}({x}_{e})$</div></td><td></td></tr></table></td><td style=\"vertical-align:bottom;padding:10px\">$\\circ$</td><td style=\"vertical-align:bottom;padding:5px\"><table><tr style=\"border:1px solid #848482\"><td style=\"vertical-align:bottom;padding:0px 10px\" align=\"center\"><table><tr><td style=\"vertical-align:bottom;padding:5px\"><table><tr style=\"border:1px solid #848482\"><td style=\"vertical-align:bottom;padding:0px 10px\" align=\"center\"><table><tr><td style=\"vertical-align:bottom;padding:5px\"><div style=\"margin-top:3px;border-width:0px;border-style:solid;border-color:#848482;vertical-align:bottom;text-align:center\">$[\\![\\mathbf{\\text{cat}}]\\!]^{}_{\\langle{}e,t\\rangle{}}$</div></td></tr></table></td><td style=\"border-left:1px solid #848482;vertical-align:center;padding:10px\"><span style=\"color:blue\"><b>[Lexicon]</b></span></td></tr><tr style=\"border-style:solid;border-color:#848482;border-width:0px 1px 1px 1px\"><td style=\"padding:5px\" align=\"center\"><div style=\"margin-top:3px;border-width:0px;border-style:solid;border-color:#848482;vertical-align:bottom;text-align:center\">$\\lambda{} x_{e} \\: . \\: {Cat}({x}_{e})$</div></td><td></td></tr></table></td></tr></table></td><td style=\"border-left:1px solid #848482;vertical-align:center;padding:10px\"><span style=\"color:blue\"><b>[NN]</b></span></td></tr><tr style=\"border-style:solid;border-color:#848482;border-width:0px 1px 1px 1px\"><td style=\"padding:5px\" align=\"center\"><div style=\"margin-top:10px;border-style:solid;border-color:#848482;border-width:0px\"><div style=\"vertical-align:bottom;text-align:center\">$[\\![\\mathbf{\\text{N}}]\\!]^{}_{\\langle{}e,t\\rangle{}}$</div><div style=\"vertical-align:bottom;text-align:center\">$\\lambda{} x_{e} \\: . \\: {Cat}({x}_{e})$</div></div></td><td></td></tr></table></td></tr></table></td><td style=\"border-left:1px solid #848482;vertical-align:center;padding:10px\"><span style=\"color:blue\"><b>[PM]</b></span></td></tr><tr style=\"border-style:solid;border-color:#848482;border-width:0px 1px 1px 1px\"><td style=\"padding:5px\" align=\"center\"><div style=\"margin-top:10px;border-style:solid;border-color:#848482;border-width:0px\"><div style=\"vertical-align:bottom;text-align:center\">$[\\![\\mathbf{\\text{NP}}]\\!]^{}_{\\langle{}e,t\\rangle{}}$</div><div style=\"vertical-align:bottom;text-align:center\">$\\lambda{} x_{e} \\: . \\: ({Gray}({x}_{e}) \\wedge{} {Cat}({x}_{e}))$</div></div></td><td></td></tr></table><br /><br />"
      ],
      "text/plain": [
       "1 composition path:<br /><table><tr style=\"border:1px solid #848482\"><td style=\"vertical-align:bottom;padding:0px 10px\" align=\"center\"><table><tr><td style=\"vertical-align:bottom;padding:5px\"><table><tr style=\"border:1px solid #848482\"><td style=\"vertical-align:bottom;padding:0px 10px\" align=\"center\"><table><tr><td style=\"vertical-align:bottom;padding:5px\"><div style=\"margin-top:3px;border-width:0px;border-style:solid;border-color:#848482;vertical-align:bottom;text-align:center\">$[\\![\\mathbf{\\text{gray}}]\\!]^{}_{\\langle{}e,t\\rangle{}}$</div></td></tr></table></td><td style=\"border-left:1px solid #848482;vertical-align:center;padding:10px\"><span style=\"color:blue\"><b>[Lexicon]</b></span></td></tr><tr style=\"border-style:solid;border-color:#848482;border-width:0px 1px 1px 1px\"><td style=\"padding:5px\" align=\"center\"><div style=\"margin-top:3px;border-width:0px;border-style:solid;border-color:#848482;vertical-align:bottom;text-align:center\">$\\lambda{} x_{e} \\: . \\: {Gray}({x}_{e})$</div></td><td></td></tr></table></td><td style=\"vertical-align:bottom;padding:10px\">$\\circ$</td><td style=\"vertical-align:bottom;padding:5px\"><table><tr style=\"border:1px solid #848482\"><td style=\"vertical-align:bottom;padding:0px 10px\" align=\"center\"><table><tr><td style=\"vertical-align:bottom;padding:5px\"><table><tr style=\"border:1px solid #848482\"><td style=\"vertical-align:bottom;padding:0px 10px\" align=\"center\"><table><tr><td style=\"vertical-align:bottom;padding:5px\"><div style=\"margin-top:3px;border-width:0px;border-style:solid;border-color:#848482;vertical-align:bottom;text-align:center\">$[\\![\\mathbf{\\text{cat}}]\\!]^{}_{\\langle{}e,t\\rangle{}}$</div></td></tr></table></td><td style=\"border-left:1px solid #848482;vertical-align:center;padding:10px\"><span style=\"color:blue\"><b>[Lexicon]</b></span></td></tr><tr style=\"border-style:solid;border-color:#848482;border-width:0px 1px 1px 1px\"><td style=\"padding:5px\" align=\"center\"><div style=\"margin-top:3px;border-width:0px;border-style:solid;border-color:#848482;vertical-align:bottom;text-align:center\">$\\lambda{} x_{e} \\: . \\: {Cat}({x}_{e})$</div></td><td></td></tr></table></td></tr></table></td><td style=\"border-left:1px solid #848482;vertical-align:center;padding:10px\"><span style=\"color:blue\"><b>[NN]</b></span></td></tr><tr style=\"border-style:solid;border-color:#848482;border-width:0px 1px 1px 1px\"><td style=\"padding:5px\" align=\"center\"><div style=\"margin-top:10px;border-style:solid;border-color:#848482;border-width:0px\"><div style=\"vertical-align:bottom;text-align:center\">$[\\![\\mathbf{\\text{N}}]\\!]^{}_{\\langle{}e,t\\rangle{}}$</div><div style=\"vertical-align:bottom;text-align:center\">$\\lambda{} x_{e} \\: . \\: {Cat}({x}_{e})$</div></div></td><td></td></tr></table></td></tr></table></td><td style=\"border-left:1px solid #848482;vertical-align:center;padding:10px\"><span style=\"color:blue\"><b>[PM]</b></span></td></tr><tr style=\"border-style:solid;border-color:#848482;border-width:0px 1px 1px 1px\"><td style=\"padding:5px\" align=\"center\"><div style=\"margin-top:10px;border-style:solid;border-color:#848482;border-width:0px\"><div style=\"vertical-align:bottom;text-align:center\">$[\\![\\mathbf{\\text{NP}}]\\!]^{}_{\\langle{}e,t\\rangle{}}$</div><div style=\"vertical-align:bottom;text-align:center\">$\\lambda{} x_{e} \\: . \\: ({Gray}({x}_{e}) \\wedge{} {Cat}({x}_{e}))$</div></div></td><td></td></tr></table><br /><br />"
      ]
     },
     "execution_count": 74,
     "metadata": {},
     "output_type": "execute_result"
    }
   ],
   "source": [
    "r.paths()"
   ]
  },
  {
   "cell_type": "markdown",
   "metadata": {},
   "source": [
    "&nbsp;\n",
    "\n",
    "## Some future projects, non-exhaustive ##\n",
    "\n",
    "* complete fragment of Heim and Kratzer\n",
    "* In general: more fragments!\n",
    "* extend fragment coverage.  Some interesting targets where interactivity would be useful to understanding:\n",
    "  * Compositional hamblin semantics (in progress)\n",
    "  * Compositional DRT\n",
    "  * QR\n",
    "* better inference over types.  (Standard algorithms from type-logical grammar?)\n",
    "* variables over types -- for type-flexible denotations.\n",
    "* underlying model theory.\n",
    "* various improvements to the graphics -- trees (d3? graphviz?), interactive widgets (now doable in IPython 2.0), ...\n",
    "* full latex output (trees in tikz-qtree and so on).\n",
    "* better set theory mechanisms\n",
    "* presuppositions and some form of projection (Starting point, Heim and Kratzer)\n",
    "\n",
    "Longer term:\n",
    "\n",
    "* integration with SymPy (?)\n",
    "* improve app version\n",
    "* deeper integration with nltk (once nltk is compatible with python 3)\n",
    "* parsing that makes less use of python `eval`, and is generally less ad-hoc.\n",
    "  * this is an issue where in principle, a language like Haskell is a better choice than python.  But I think the usability / robustness of python and its libraries has the edge here overall, not to mention ipython notebook...\n",
    "* toy spatial language system\n",
    "* side-by-side comparison of e.g. multiple analyses of presupposition projection"
   ]
  },
  {
   "cell_type": "code",
   "execution_count": null,
   "metadata": {
    "collapsed": false
   },
   "outputs": [],
   "source": []
  }
 ],
 "metadata": {
  "kernelspec": {
   "display_name": "Lambda Notebook (Python 3)",
   "language": "python",
   "name": "lambda-notebook"
  },
  "language_info": {
   "codemirror_mode": {
    "name": "ipython",
    "version": 3
   },
   "file_extension": ".py",
   "mimetype": "text/x-python",
   "name": "python",
   "nbconvert_exporter": "python",
   "pygments_lexer": "ipython3",
   "version": "3.3.4"
  }
 },
 "nbformat": 4,
 "nbformat_minor": 0
}
