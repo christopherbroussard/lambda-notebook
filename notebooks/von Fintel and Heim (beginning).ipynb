{
 "metadata": {
  "name": "",
  "signature": "sha256:d70b8c9ae1dcaa0abe7944be588c1b1ca23ead1b692ce6c32ef2f413a4ee7a56"
 },
 "nbformat": 3,
 "nbformat_minor": 0,
 "worksheets": [
  {
   "cells": [
    {
     "cell_type": "markdown",
     "metadata": {},
     "source": [
      "This notebook implements the very beginning of the von Fintel and Heim lecture notes on intensional semantics.  Lots more to do here!\n",
      "\n",
      "I'm providing it mainly as an example of how to use type s in the lambda notebook and how to add an intensionalization operation, but it really doesn't get past the first example."
     ]
    },
    {
     "cell_type": "code",
     "collapsed": true,
     "input": [
      "reload_lamb()\n",
      "lamb.meta.constants_use_custom(False)"
     ],
     "language": "python",
     "metadata": {},
     "outputs": [],
     "prompt_number": 91
    },
    {
     "cell_type": "code",
     "collapsed": false,
     "input": [],
     "language": "python",
     "metadata": {},
     "outputs": [],
     "prompt_number": 91
    },
    {
     "cell_type": "code",
     "collapsed": false,
     "input": [
      "type_e = types.type_e\n",
      "type_t = types.type_t\n",
      "type_n = types.type_n\n",
      "type_s = types.OntoType(\"s\", types.SimpleInfiniteSet(\"c\"))\n",
      "intensional_types = types.UnderTypeSystem(atomics={type_e, type_t, type_n, type_s, types.undetermined_type}, nonatomics={types.FunType, types.TupleType, types.SetType, types.UndeterminedType})\n",
      "meta.set_type_system(intensional_types)"
     ],
     "language": "python",
     "metadata": {},
     "outputs": [],
     "prompt_number": 92
    },
    {
     "cell_type": "code",
     "collapsed": false,
     "input": [
      "# set up basic composition operations\n",
      "pm = lang.BinaryCompositionOp(\"PM\", lang.pm_fun, commutative=True)\n",
      "fa = lang.BinaryCompositionOp(\"FA\", lang.fa_fun)\n",
      "pa = lang.BinaryCompositionOp(\"PA\", lang.pa_fun, allow_none=True)\n",
      "simple_system = lang.CompositionSystem(rules=[fa, pm, pa], basictypes={type_e, type_t, type_s}, name=\"simple bottom-up composition\")\n",
      "lang.set_system(simple_system)\n",
      "simple_system"
     ],
     "language": "python",
     "metadata": {},
     "outputs": [
      {
       "latex": [
        "Composition system 'simple bottom-up composition'<br />Operations: FA, PM, PA"
       ],
       "metadata": {},
       "output_type": "pyout",
       "prompt_number": 93,
       "text": [
        "Composition system: simple bottom-up composition"
       ]
      }
     ],
     "prompt_number": 93
    },
    {
     "cell_type": "code",
     "collapsed": false,
     "input": [],
     "language": "python",
     "metadata": {},
     "outputs": [],
     "prompt_number": 93
    },
    {
     "cell_type": "code",
     "collapsed": false,
     "input": [
      "%%lamb\n",
      "# some standard extensional entries\n",
      "||cat|| = L x_e: Cat_<e,t>(x)\n",
      "||gray|| = L x_e: Gray_<e,t>(x)\n",
      "||john|| = John_e\n",
      "||julius|| = Julius_e\n",
      "||inP|| = L x_e: L y: In(y, x)\n",
      "||texas|| = Texas_e\n",
      "||isV|| = L f_<e,t> : f\n",
      "||dance|| = L x_e: Dance_<e,t>(x)\n",
      "||see|| = L x_e : L y_e : See(y, x)\n",
      "||Alfonso|| = Alfonso_e"
     ],
     "language": "python",
     "metadata": {},
     "outputs": [
      {
       "output_type": "stream",
       "stream": "stderr",
       "text": [
        "INFO (meta): Coerced guessed type t for 'In_t' into <(e,e),t>, to match argument '(y_e, x_e)'\n"
       ]
      },
      {
       "output_type": "stream",
       "stream": "stderr",
       "text": [
        "INFO (meta): Coerced guessed type t for 'See_t' into <(e,e),t>, to match argument '(y_e, x_e)'\n"
       ]
      },
      {
       "latex": [
        "$||\\mathbf{\\text{cat}}||^{}_{\\langle{}e,t\\rangle{}} \\:=\\: \\lambda{} x_{e} \\: . \\: {Cat}({x}_{e})$<br />\n",
        "$||\\mathbf{\\text{gray}}||^{}_{\\langle{}e,t\\rangle{}} \\:=\\: \\lambda{} x_{e} \\: . \\: {Gray}({x}_{e})$<br />\n",
        "$||\\mathbf{\\text{john}}||^{}_{e} \\:=\\: {John}_{e}$<br />\n",
        "$||\\mathbf{\\text{julius}}||^{}_{e} \\:=\\: {Julius}_{e}$<br />\n",
        "$||\\mathbf{\\text{inP}}||^{}_{\\langle{}e,\\langle{}e,t\\rangle{}\\rangle{}} \\:=\\: \\lambda{} x_{e} \\: . \\: \\lambda{} y_{e} \\: . \\: {In}({y}_{e}, {x}_{e})$<br />\n",
        "$||\\mathbf{\\text{texas}}||^{}_{e} \\:=\\: {Texas}_{e}$<br />\n",
        "$||\\mathbf{\\text{isV}}||^{}_{\\langle{}\\langle{}e,t\\rangle{},\\langle{}e,t\\rangle{}\\rangle{}} \\:=\\: \\lambda{} f_{\\langle{}e,t\\rangle{}} \\: . \\: {f}_{\\langle{}e,t\\rangle{}}$<br />\n",
        "$||\\mathbf{\\text{dance}}||^{}_{\\langle{}e,t\\rangle{}} \\:=\\: \\lambda{} x_{e} \\: . \\: {Dance}({x}_{e})$<br />\n",
        "$||\\mathbf{\\text{see}}||^{}_{\\langle{}e,\\langle{}e,t\\rangle{}\\rangle{}} \\:=\\: \\lambda{} x_{e} \\: . \\: \\lambda{} y_{e} \\: . \\: {See}({y}_{e}, {x}_{e})$<br />\n",
        "$||\\mathbf{\\text{Alfonso}}||^{}_{e} \\:=\\: {Alfonso}_{e}$"
       ],
       "metadata": {},
       "output_type": "pyout",
       "prompt_number": 94,
       "text": [
        "$||\\mathbf{\\text{cat}}||^{}_{\\langle{}e,t\\rangle{}} \\:=\\: \\lambda{} x_{e} \\: . \\: {Cat}({x}_{e})$<br />\n",
        "$||\\mathbf{\\text{gray}}||^{}_{\\langle{}e,t\\rangle{}} \\:=\\: \\lambda{} x_{e} \\: . \\: {Gray}({x}_{e})$<br />\n",
        "$||\\mathbf{\\text{john}}||^{}_{e} \\:=\\: {John}_{e}$<br />\n",
        "$||\\mathbf{\\text{julius}}||^{}_{e} \\:=\\: {Julius}_{e}$<br />\n",
        "$||\\mathbf{\\text{inP}}||^{}_{\\langle{}e,\\langle{}e,t\\rangle{}\\rangle{}} \\:=\\: \\lambda{} x_{e} \\: . \\: \\lambda{} y_{e} \\: . \\: {In}({y}_{e}, {x}_{e})$<br />\n",
        "$||\\mathbf{\\text{texas}}||^{}_{e} \\:=\\: {Texas}_{e}$<br />\n",
        "$||\\mathbf{\\text{isV}}||^{}_{\\langle{}\\langle{}e,t\\rangle{},\\langle{}e,t\\rangle{}\\rangle{}} \\:=\\: \\lambda{} f_{\\langle{}e,t\\rangle{}} \\: . \\: {f}_{\\langle{}e,t\\rangle{}}$<br />\n",
        "$||\\mathbf{\\text{dance}}||^{}_{\\langle{}e,t\\rangle{}} \\:=\\: \\lambda{} x_{e} \\: . \\: {Dance}({x}_{e})$<br />\n",
        "$||\\mathbf{\\text{see}}||^{}_{\\langle{}e,\\langle{}e,t\\rangle{}\\rangle{}} \\:=\\: \\lambda{} x_{e} \\: . \\: \\lambda{} y_{e} \\: . \\: {See}({y}_{e}, {x}_{e})$<br />\n",
        "$||\\mathbf{\\text{Alfonso}}||^{}_{e} \\:=\\: {Alfonso}_{e}$"
       ]
      }
     ],
     "prompt_number": 94
    },
    {
     "cell_type": "code",
     "collapsed": false,
     "input": [
      "(inP * texas) * julius"
     ],
     "language": "python",
     "metadata": {},
     "outputs": [
      {
       "latex": [
        "1 composition path.  Result:\n",
        "<br />&nbsp;&nbsp;&nbsp;&nbsp;[0]: $||\\mathbf{\\text{[[inP texas] julius]}}||^{}_{t} \\:=\\: $${In}({Julius}_{e}, {Texas}_{e})$"
       ],
       "metadata": {},
       "output_type": "pyout",
       "prompt_number": 95,
       "text": [
        "CompositionResult(results=[||[[inP texas] julius]|| = In_<(e,e),t>(Julius_e, Texas_e)], failures=[||[julius [inP texas]]|| = Type mismatch: '||julius|| = Julius_e'/e and '||[inP texas]|| = (\u03bb y_e: In_<(e,e),t>(y_e, Texas_e))'/<e,t> conflict (mode: Function Application), ||[[inP texas] julius]|| = Type mismatch: '||[inP texas]|| = (\u03bb y_e: In_<(e,e),t>(y_e, Texas_e))'/<e,t> and '||julius|| = Julius_e'/e conflict (mode: Predicate Modification), ||[[inP texas] julius]|| = Type mismatch: '||[inP texas]|| = (\u03bb y_e: In_<(e,e),t>(y_e, Texas_e))'/<e,t> and '||julius|| = Julius_e'/e conflict (mode: Predicate Abstraction), ||[julius [inP texas]]|| = Type mismatch: '||julius|| = Julius_e'/e and '||[inP texas]|| = (\u03bb y_e: In_<(e,e),t>(y_e, Texas_e))'/<e,t> conflict (mode: Predicate Abstraction)])"
       ]
      }
     ],
     "prompt_number": 95
    },
    {
     "cell_type": "markdown",
     "metadata": {},
     "source": [
      "How could an item like `must` be accounted for in this sort of extensional system?  Let's see what type inference gets us:"
     ]
    },
    {
     "cell_type": "code",
     "collapsed": false,
     "input": [
      "%%lamb\n",
      "||must|| = L x_? : Must_<?,t>(x)"
     ],
     "language": "python",
     "metadata": {},
     "outputs": [
      {
       "latex": [
        "$||\\mathbf{\\text{must}}||^{}_{\\langle{}?,t_{?}\\rangle{}} \\:=\\: \\lambda{} x_{?} \\: . \\: {Must}_{\\langle{}?,t\\rangle{}}({x}_{?})$"
       ],
       "metadata": {},
       "output_type": "pyout",
       "prompt_number": 96,
       "text": [
        "$||\\mathbf{\\text{must}}||^{}_{\\langle{}?,t_{?}\\rangle{}} \\:=\\: \\lambda{} x_{?} \\: . \\: {Must}_{\\langle{}?,t\\rangle{}}({x}_{?})$"
       ]
      }
     ],
     "prompt_number": 96
    },
    {
     "cell_type": "code",
     "collapsed": false,
     "input": [
      "must_test_result = must * (julius * dance)\n",
      "must_test_result"
     ],
     "language": "python",
     "metadata": {},
     "outputs": [
      {
       "latex": [
        "1 composition path.  Result:\n",
        "<br />&nbsp;&nbsp;&nbsp;&nbsp;[0]: $||\\mathbf{\\text{[must [dance julius]]}}||^{}_{t_{?}} \\:=\\: $${Must}_{\\langle{}t_{?},t\\rangle{}}({Dance}({Julius}_{e}))$"
       ],
       "metadata": {},
       "output_type": "pyout",
       "prompt_number": 97,
       "text": [
        "CompositionResult(results=[||[must [dance julius]]|| = Must_<?t,t>(Dance_<e,t>(Julius_e))], failures=[||[[dance julius] must]|| = Type mismatch: '||[dance julius]|| = Dance_<e,t>(Julius_e)'/t and '||must|| = (\u03bb x_?: Must_<?,t>(x_?))'/<?,?t> conflict (mode: Function Application), ||[must [dance julius]]|| = Type mismatch: '||must|| = (\u03bb x_?: Must_<?,t>(x_?))'/<?,?t> and '||[dance julius]|| = Dance_<e,t>(Julius_e)'/t conflict (mode: Predicate Modification), ||[must [dance julius]]|| = Type mismatch: '||must|| = (\u03bb x_?: Must_<?,t>(x_?))'/<?,?t> and '||[dance julius]|| = Dance_<e,t>(Julius_e)'/t conflict (mode: Predicate Abstraction), ||[[dance julius] must]|| = Type mismatch: '||[dance julius]|| = Dance_<e,t>(Julius_e)'/t and '||must|| = (\u03bb x_?: Must_<?,t>(x_?))'/<?,?t> conflict (mode: Predicate Abstraction)])"
       ]
      }
     ],
     "prompt_number": 97
    },
    {
     "cell_type": "code",
     "collapsed": false,
     "input": [],
     "language": "python",
     "metadata": {},
     "outputs": [],
     "prompt_number": 97
    },
    {
     "cell_type": "code",
     "collapsed": false,
     "input": [
      "must_test_result.latex_step_tree(derivations=True)"
     ],
     "language": "python",
     "metadata": {},
     "outputs": [
      {
       "latex": [
        "1 composition path:<br /><table><tr><td style=\"vertical-align:bottom;padding:0px 10px\" align=\"center\"><table><tr><td style=\"vertical-align:bottom\"><table align=\"center\"><tr><td align=\"center\">$||\\mathbf{\\text{must}}||^{}_{\\langle{}?,t_{?}\\rangle{}}$</td></tr><tr><td align=\"center\">$\\lambda{} x_{?} \\: . \\: {Must}_{\\langle{}?,t\\rangle{}}({x}_{?})$</td></tr></table>\n",
        "</td><td style=\"vertical-align:bottom;padding-bottom:5px\">&nbsp;&nbsp;&nbsp;$\\circ$&nbsp;&nbsp;&nbsp;</td><td style=\"vertical-align:bottom\"><table><tr><td style=\"vertical-align:bottom;padding:0px 10px\" align=\"center\"><table><tr><td style=\"vertical-align:bottom\"><table align=\"center\"><tr><td align=\"center\">$||\\mathbf{\\text{dance}}||^{}_{\\langle{}e,t\\rangle{}}$</td></tr><tr><td align=\"center\">$\\lambda{} x_{e} \\: . \\: {Dance}({x}_{e})$</td></tr></table>\n",
        "</td><td style=\"vertical-align:bottom;padding-bottom:5px\">&nbsp;&nbsp;&nbsp;$\\circ$&nbsp;&nbsp;&nbsp;</td><td style=\"vertical-align:bottom\"><table align=\"center\"><tr><td align=\"center\">$||\\mathbf{\\text{julius}}||^{}_{e}$</td></tr><tr><td align=\"center\">${Julius}_{e}$</td></tr></table>\n",
        "</td></tr></table></td><td style=\"vertical-align:bottom;padding-bottom:5px;padding-left:10px\"><b>[FA]</b></td></tr><tr style=\"border-top: 1px solid #848482\"><td align=\"center\"><table style=\"margin-top:10px\"><tr><td style=\"vertical-align:bottom\" align=\"center\">$||\\mathbf{\\text{[dance julius]}}||^{}_{t}$</td></tr><tr><td style=\"vertical-align:bottom\" align=\"center\"><table><tr><td style=\"padding-right:5px\"> $=$ </td><td style=\"align:center\">$[\\lambda{} x_{e} \\: . \\: {Dance}({x}_{e})]({Julius}_{e})$</td></tr><tr><td style=\"padding-right:5px\"> $=$ </td><td style=\"align:center\">${Dance}({Julius}_{e})$</td></tr></table></td></tr></table>\n",
        "</td><td></td></tr></table>\n",
        "</td></tr></table></td><td style=\"vertical-align:bottom;padding-bottom:5px;padding-left:10px\"><b>[FA]</b></td></tr><tr style=\"border-top: 1px solid #848482\"><td align=\"center\"><table style=\"margin-top:10px\"><tr><td style=\"vertical-align:bottom\" align=\"center\">$||\\mathbf{\\text{[must [dance julius]]}}||^{}_{t_{?}}$</td></tr><tr><td style=\"vertical-align:bottom\" align=\"center\"><table><tr><td style=\"padding-right:5px\"> $=$ </td><td style=\"align:center\">$[\\lambda{} x_{?} \\: . \\: {Must}_{\\langle{}?,t\\rangle{}}({x}_{?})]({Dance}({Julius}_{e}))$</td></tr><tr><td style=\"padding-right:5px\"> $=$ </td><td style=\"align:center\">$[\\lambda{} x_{t_{?}} \\: . \\: {Must}_{\\langle{}t_{?},t\\rangle{}}({x}_{t_{?}})]({Dance}({Julius}_{e}))$</td></tr><tr><td style=\"padding-right:5px\"> $=$ </td><td style=\"align:center\">${Must}_{\\langle{}t_{?},t\\rangle{}}({Dance}({Julius}_{e}))$</td></tr></table></td></tr></table>\n",
        "</td><td></td></tr></table>\n",
        "<br /><br />"
       ],
       "metadata": {},
       "output_type": "pyout",
       "prompt_number": 98,
       "text": [
        "1 composition path:<br /><table><tr><td style=\"vertical-align:bottom;padding:0px 10px\" align=\"center\"><table><tr><td style=\"vertical-align:bottom\"><table align=\"center\"><tr><td align=\"center\">$||\\mathbf{\\text{must}}||^{}_{\\langle{}?,t_{?}\\rangle{}}$</td></tr><tr><td align=\"center\">$\\lambda{} x_{?} \\: . \\: {Must}_{\\langle{}?,t\\rangle{}}({x}_{?})$</td></tr></table>\n",
        "</td><td style=\"vertical-align:bottom;padding-bottom:5px\">&nbsp;&nbsp;&nbsp;$\\circ$&nbsp;&nbsp;&nbsp;</td><td style=\"vertical-align:bottom\"><table><tr><td style=\"vertical-align:bottom;padding:0px 10px\" align=\"center\"><table><tr><td style=\"vertical-align:bottom\"><table align=\"center\"><tr><td align=\"center\">$||\\mathbf{\\text{dance}}||^{}_{\\langle{}e,t\\rangle{}}$</td></tr><tr><td align=\"center\">$\\lambda{} x_{e} \\: . \\: {Dance}({x}_{e})$</td></tr></table>\n",
        "</td><td style=\"vertical-align:bottom;padding-bottom:5px\">&nbsp;&nbsp;&nbsp;$\\circ$&nbsp;&nbsp;&nbsp;</td><td style=\"vertical-align:bottom\"><table align=\"center\"><tr><td align=\"center\">$||\\mathbf{\\text{julius}}||^{}_{e}$</td></tr><tr><td align=\"center\">${Julius}_{e}$</td></tr></table>\n",
        "</td></tr></table></td><td style=\"vertical-align:bottom;padding-bottom:5px;padding-left:10px\"><b>[FA]</b></td></tr><tr style=\"border-top: 1px solid #848482\"><td align=\"center\"><table style=\"margin-top:10px\"><tr><td style=\"vertical-align:bottom\" align=\"center\">$||\\mathbf{\\text{[dance julius]}}||^{}_{t}$</td></tr><tr><td style=\"vertical-align:bottom\" align=\"center\"><table><tr><td style=\"padding-right:5px\"> $=$ </td><td style=\"align:center\">$[\\lambda{} x_{e} \\: . \\: {Dance}({x}_{e})]({Julius}_{e})$</td></tr><tr><td style=\"padding-right:5px\"> $=$ </td><td style=\"align:center\">${Dance}({Julius}_{e})$</td></tr></table></td></tr></table>\n",
        "</td><td></td></tr></table>\n",
        "</td></tr></table></td><td style=\"vertical-align:bottom;padding-bottom:5px;padding-left:10px\"><b>[FA]</b></td></tr><tr style=\"border-top: 1px solid #848482\"><td align=\"center\"><table style=\"margin-top:10px\"><tr><td style=\"vertical-align:bottom\" align=\"center\">$||\\mathbf{\\text{[must [dance julius]]}}||^{}_{t_{?}}$</td></tr><tr><td style=\"vertical-align:bottom\" align=\"center\"><table><tr><td style=\"padding-right:5px\"> $=$ </td><td style=\"align:center\">$[\\lambda{} x_{?} \\: . \\: {Must}_{\\langle{}?,t\\rangle{}}({x}_{?})]({Dance}({Julius}_{e}))$</td></tr><tr><td style=\"padding-right:5px\"> $=$ </td><td style=\"align:center\">$[\\lambda{} x_{t_{?}} \\: . \\: {Must}_{\\langle{}t_{?},t\\rangle{}}({x}_{t_{?}})]({Dance}({Julius}_{e}))$</td></tr><tr><td style=\"padding-right:5px\"> $=$ </td><td style=\"align:center\">${Must}_{\\langle{}t_{?},t\\rangle{}}({Dance}({Julius}_{e}))$</td></tr></table></td></tr></table>\n",
        "</td><td></td></tr></table>\n",
        "<br /><br />"
       ]
      }
     ],
     "prompt_number": 98
    },
    {
     "cell_type": "code",
     "collapsed": false,
     "input": [
      "# Zoom in on what's happening in the final step\n",
      "must_test_result[0].content.derivation"
     ],
     "language": "python",
     "metadata": {},
     "outputs": [
      {
       "latex": [
        "<table><tr><td style=\"padding-right:5px\"> 1. </td><td style=\"padding-right:5px\">$[\\lambda{} x_{?} \\: . \\: {Must}_{\\langle{}?,t\\rangle{}}({x}_{?})]({Dance}({Julius}_{e}))$</td><td style=\"padding-left:10px;border-left:1px solid #848482\"></td></tr><tr><td style=\"padding-right:5px\"> 2. </td><td style=\"padding-right:5px\">$[\\lambda{} x_{t_{?}} \\: . \\: {Must}_{\\langle{}t_{?},t\\rangle{}}({x}_{t_{?}})]({Dance}({Julius}_{e}))$</td><td style=\"padding-left:10px;border-left:1px solid #848482\">Type inference</td></tr><tr><td style=\"padding-right:5px\"> 3. </td><td style=\"padding-right:5px\">${Must}_{\\langle{}t_{?},t\\rangle{}}({Dance}({Julius}_{e}))$</td><td style=\"padding-left:10px;border-left:1px solid #848482\">F-A reduction</td></tr></table>"
       ],
       "metadata": {},
       "output_type": "pyout",
       "prompt_number": 99,
       "text": [
        "<lamb.meta.Derivation at 0x10a2bd950>"
       ]
      }
     ],
     "prompt_number": 99
    },
    {
     "cell_type": "markdown",
     "metadata": {},
     "source": [
      "Type &lt;t,t&gt; is the only inferrable option.  This is not really satisfactory, as &lt;t,t&gt; describes a very small set.  In fact, there are just four functions:\n",
      "\n",
      " * 1 $\\rightarrow$ 1, 0 $\\rightarrow$ 0\n",
      " * 1 $\\rightarrow$ 0, 0 $\\rightarrow$ 1\n",
      " * 1 $\\rightarrow$ 0, 0 $\\rightarrow$ 0\n",
      " * 1 $\\rightarrow$ 1, 0 $\\rightarrow$ 1\n",
      "\n",
      "Hence, some richer (\"intensional\") representation is needed.  Possible worlds are involved in one kind of analysis of intensionality."
     ]
    },
    {
     "cell_type": "code",
     "collapsed": false,
     "input": [
      "intensional_types"
     ],
     "language": "python",
     "metadata": {},
     "outputs": [
      {
       "latex": [
        "Type system with atomic types: $?, n, e, t, s$"
       ],
       "metadata": {},
       "output_type": "pyout",
       "prompt_number": 100,
       "text": [
        "<lamb.types.UnderTypeSystem at 0x10a2abf50>"
       ]
      }
     ],
     "prompt_number": 100
    },
    {
     "cell_type": "code",
     "collapsed": false,
     "input": [],
     "language": "python",
     "metadata": {},
     "outputs": [],
     "prompt_number": 100
    },
    {
     "cell_type": "code",
     "collapsed": false,
     "input": [
      "# set up evaluation world as a parameter to the interpretation function\n",
      "system = lang.get_system().copy()\n",
      "eval_w = lang.te(\"w_s\")\n",
      "system.assign_controller = lang.AssignmentController(specials=[eval_w])\n",
      "lang.set_system(system)"
     ],
     "language": "python",
     "metadata": {},
     "outputs": [],
     "prompt_number": 101
    },
    {
     "cell_type": "code",
     "collapsed": false,
     "input": [
      "%%lamb \n",
      "||dance|| = L x_e: Dance(w, x)\n",
      "||Alfonso|| = Alfonso_e"
     ],
     "language": "python",
     "metadata": {},
     "outputs": [
      {
       "output_type": "stream",
       "stream": "stderr",
       "text": [
        "INFO (meta): Coerced guessed type t for 'Dance_t' into <(s,e),t>, to match argument '(w_s, x_e)'\n"
       ]
      },
      {
       "latex": [
        "$||\\mathbf{\\text{dance}}||^{{w}_{s}, g}_{\\langle{}e,t\\rangle{}} \\:=\\: \\lambda{} x_{e} \\: . \\: {Dance}({w}_{s}, {x}_{e})$<br />\n",
        "$||\\mathbf{\\text{Alfonso}}||^{{w}_{s}, g}_{e} \\:=\\: {Alfonso}_{e}$"
       ],
       "metadata": {},
       "output_type": "pyout",
       "prompt_number": 102,
       "text": [
        "$||\\mathbf{\\text{dance}}||^{{w}_{s}, g}_{\\langle{}e,t\\rangle{}} \\:=\\: \\lambda{} x_{e} \\: . \\: {Dance}({w}_{s}, {x}_{e})$<br />\n",
        "$||\\mathbf{\\text{Alfonso}}||^{{w}_{s}, g}_{e} \\:=\\: {Alfonso}_{e}$"
       ]
      }
     ],
     "prompt_number": 102
    },
    {
     "cell_type": "code",
     "collapsed": false,
     "input": [
      "(Alfonso * dance)"
     ],
     "language": "python",
     "metadata": {},
     "outputs": [
      {
       "latex": [
        "1 composition path.  Result:\n",
        "<br />&nbsp;&nbsp;&nbsp;&nbsp;[0]: $||\\mathbf{\\text{[dance Alfonso]}}||^{{w}_{s}, g}_{t} \\:=\\: $${Dance}({w}_{s}, {Alfonso}_{e})$"
       ],
       "metadata": {},
       "output_type": "pyout",
       "prompt_number": 103,
       "text": [
        "CompositionResult(results=[||[dance Alfonso]||[w_s, type s, g] = Dance_<(s,e),t>(w_s, Alfonso_e)], failures=[||[Alfonso dance]||[w_s, type s, g] = Type mismatch: '||Alfonso||[w_s, type s, g] = Alfonso_e'/e and '||dance||[w_s, type s, g] = (\u03bb x_e: Dance_<(s,e),t>(w_s, x_e))'/<e,t> conflict (mode: Function Application), ||[Alfonso dance]||[w_s, type s, g] = Type mismatch: '||Alfonso||[w_s, type s, g] = Alfonso_e'/e and '||dance||[w_s, type s, g] = (\u03bb x_e: Dance_<(s,e),t>(w_s, x_e))'/<e,t> conflict (mode: Predicate Modification), ||[Alfonso dance]||[w_s, type s, g] = Type mismatch: '||Alfonso||[w_s, type s, g] = Alfonso_e'/e and '||dance||[w_s, type s, g] = (\u03bb x_e: Dance_<(s,e),t>(w_s, x_e))'/<e,t> conflict (mode: Predicate Abstraction), ||[dance Alfonso]||[w_s, type s, g] = Type mismatch: '||dance||[w_s, type s, g] = (\u03bb x_e: Dance_<(s,e),t>(w_s, x_e))'/<e,t> and '||Alfonso||[w_s, type s, g] = Alfonso_e'/e conflict (mode: Predicate Abstraction)])"
       ]
      }
     ],
     "prompt_number": 103
    },
    {
     "cell_type": "code",
     "collapsed": false,
     "input": [
      "(Alfonso * dance).latex_step_tree()"
     ],
     "language": "python",
     "metadata": {},
     "outputs": [
      {
       "latex": [
        "1 composition path:<br /><table><tr><td style=\"vertical-align:bottom;padding:0px 10px\" align=\"center\"><table><tr><td style=\"vertical-align:bottom\"><table align=\"center\"><tr><td align=\"center\">$||\\mathbf{\\text{dance}}||^{{w}_{s}, g}_{\\langle{}e,t\\rangle{}}$</td></tr><tr><td align=\"center\">$\\lambda{} x_{e} \\: . \\: {Dance}({w}_{s}, {x}_{e})$</td></tr></table>\n",
        "</td><td style=\"vertical-align:bottom;padding-bottom:5px\">&nbsp;&nbsp;&nbsp;$\\circ$&nbsp;&nbsp;&nbsp;</td><td style=\"vertical-align:bottom\"><table align=\"center\"><tr><td align=\"center\">$||\\mathbf{\\text{Alfonso}}||^{{w}_{s}, g}_{e}$</td></tr><tr><td align=\"center\">${Alfonso}_{e}$</td></tr></table>\n",
        "</td></tr></table></td><td style=\"vertical-align:bottom;padding-bottom:5px;padding-left:10px\"><b>[FA]</b></td></tr><tr style=\"border-top: 1px solid #848482\"><td align=\"center\"><table style=\"margin-top:10px\"><tr><td style=\"vertical-align:bottom\" align=\"center\">$||\\mathbf{\\text{[dance Alfonso]}}||^{{w}_{s}, g}_{t}$</td></tr><tr><td style=\"vertical-align:bottom\" align=\"center\">$ = {Dance}({w}_{s}, {Alfonso}_{e})$</td></tr></table>\n",
        "</td><td></td></tr></table>\n",
        "<br /><br />"
       ],
       "metadata": {},
       "output_type": "pyout",
       "prompt_number": 104,
       "text": [
        "1 composition path:<br /><table><tr><td style=\"vertical-align:bottom;padding:0px 10px\" align=\"center\"><table><tr><td style=\"vertical-align:bottom\"><table align=\"center\"><tr><td align=\"center\">$||\\mathbf{\\text{dance}}||^{{w}_{s}, g}_{\\langle{}e,t\\rangle{}}$</td></tr><tr><td align=\"center\">$\\lambda{} x_{e} \\: . \\: {Dance}({w}_{s}, {x}_{e})$</td></tr></table>\n",
        "</td><td style=\"vertical-align:bottom;padding-bottom:5px\">&nbsp;&nbsp;&nbsp;$\\circ$&nbsp;&nbsp;&nbsp;</td><td style=\"vertical-align:bottom\"><table align=\"center\"><tr><td align=\"center\">$||\\mathbf{\\text{Alfonso}}||^{{w}_{s}, g}_{e}$</td></tr><tr><td align=\"center\">${Alfonso}_{e}$</td></tr></table>\n",
        "</td></tr></table></td><td style=\"vertical-align:bottom;padding-bottom:5px;padding-left:10px\"><b>[FA]</b></td></tr><tr style=\"border-top: 1px solid #848482\"><td align=\"center\"><table style=\"margin-top:10px\"><tr><td style=\"vertical-align:bottom\" align=\"center\">$||\\mathbf{\\text{[dance Alfonso]}}||^{{w}_{s}, g}_{t}$</td></tr><tr><td style=\"vertical-align:bottom\" align=\"center\">$ = {Dance}({w}_{s}, {Alfonso}_{e})$</td></tr></table>\n",
        "</td><td></td></tr></table>\n",
        "<br /><br />"
       ]
      }
     ],
     "prompt_number": 104
    },
    {
     "cell_type": "code",
     "collapsed": false,
     "input": [],
     "language": "python",
     "metadata": {},
     "outputs": [],
     "prompt_number": 104
    },
    {
     "cell_type": "code",
     "collapsed": false,
     "input": [
      "def intension_fun(f, assignment=None):\n",
      "    new_a = lang.Assignment(assignment)\n",
      "    new_a.update({\"w\": lang.te(\"w_s\")})\n",
      "    result = meta.LFun(\"w_s\", f.content.under_assignment(new_a))\n",
      "    return lang.UnaryComposite(f, result, source=\"INT(%s)\" % (f.name))\n",
      "\n",
      "intension_fun(dance)"
     ],
     "language": "python",
     "metadata": {},
     "outputs": [
      {
       "latex": [
        "$||\\mathbf{\\text{INT(dance)}}||^{{w}_{s}, g}_{\\langle{}s,\\langle{}e,t\\rangle{}\\rangle{}} \\:=\\: $$\\lambda{} w_{s} \\: . \\: \\lambda{} x_{e} \\: . \\: {Dance}({w}_{s}, {x}_{e})$"
       ],
       "metadata": {},
       "output_type": "pyout",
       "prompt_number": 105,
       "text": [
        "||INT(dance)||[w_s, type s, g] = (\u03bb w_s: (\u03bb x_e: Dance_<(s,e),t>(w_s, x_e)))"
       ]
      }
     ],
     "prompt_number": 105
    },
    {
     "cell_type": "code",
     "collapsed": false,
     "input": [
      "intension_fun(julius)"
     ],
     "language": "python",
     "metadata": {},
     "outputs": [
      {
       "latex": [
        "$||\\mathbf{\\text{INT(julius)}}||^{{w}_{s}, g}_{\\langle{}s,e\\rangle{}} \\:=\\: $$\\lambda{} w_{s} \\: . \\: {Julius}_{e}$"
       ],
       "metadata": {},
       "output_type": "pyout",
       "prompt_number": 106,
       "text": [
        "||INT(julius)||[w_s, type s, g] = (\u03bb w_s: Julius_e)"
       ]
      }
     ],
     "prompt_number": 106
    },
    {
     "cell_type": "code",
     "collapsed": false,
     "input": [
      "system.add_rule(lang.UnaryCompositionOp(\"INT\", intension_fun))"
     ],
     "language": "python",
     "metadata": {},
     "outputs": [],
     "prompt_number": 107
    },
    {
     "cell_type": "code",
     "collapsed": false,
     "input": [],
     "language": "python",
     "metadata": {},
     "outputs": [],
     "prompt_number": 107
    },
    {
     "cell_type": "code",
     "collapsed": false,
     "input": [
      "%%lamb\n",
      "||a|| = L f_<e,t> : L g_<e,t> : Exists x_e : f(x) & g(x)"
     ],
     "language": "python",
     "metadata": {},
     "outputs": [
      {
       "latex": [
        "$||\\mathbf{\\text{a}}||^{{w}_{s}, g}_{\\langle{}\\langle{}e,t\\rangle{},\\langle{}\\langle{}e,t\\rangle{},t\\rangle{}\\rangle{}} \\:=\\: \\lambda{} f_{\\langle{}e,t\\rangle{}} \\: . \\: \\lambda{} g_{\\langle{}e,t\\rangle{}} \\: . \\: \\exists{} x_{e} \\: . \\: ({f}_{\\langle{}e,t\\rangle{}}({x}_{e}) \\wedge{} {g}_{\\langle{}e,t\\rangle{}}({x}_{e}))$"
       ],
       "metadata": {},
       "output_type": "pyout",
       "prompt_number": 108,
       "text": [
        "$||\\mathbf{\\text{a}}||^{{w}_{s}, g}_{\\langle{}\\langle{}e,t\\rangle{},\\langle{}\\langle{}e,t\\rangle{},t\\rangle{}\\rangle{}} \\:=\\: \\lambda{} f_{\\langle{}e,t\\rangle{}} \\: . \\: \\lambda{} g_{\\langle{}e,t\\rangle{}} \\: . \\: \\exists{} x_{e} \\: . \\: ({f}_{\\langle{}e,t\\rangle{}}({x}_{e}) \\wedge{} {g}_{\\langle{}e,t\\rangle{}}({x}_{e}))$"
       ]
      }
     ],
     "prompt_number": 108
    },
    {
     "cell_type": "code",
     "collapsed": false,
     "input": [
      "%%lamb\n",
      "||famous|| = L x_e : Famous(w,x)\n",
      "||detective|| = L x_e : Detective(w,x)\n",
      "||bakerst|| = BakerSt221B_e\n",
      "||lives|| = L y_e : L x_e : LivesAt(w,x,y)"
     ],
     "language": "python",
     "metadata": {},
     "outputs": [
      {
       "output_type": "stream",
       "stream": "stderr",
       "text": [
        "INFO (meta): Coerced guessed type t for 'Famous_t' into <(s,e),t>, to match argument '(w_s, x_e)'\n"
       ]
      },
      {
       "output_type": "stream",
       "stream": "stderr",
       "text": [
        "INFO (meta): Coerced guessed type t for 'Detective_t' into <(s,e),t>, to match argument '(w_s, x_e)'\n"
       ]
      },
      {
       "output_type": "stream",
       "stream": "stderr",
       "text": [
        "INFO (meta): Coerced guessed type t for 'LivesAt_t' into <(s,e,e),t>, to match argument '(w_s, x_e, y_e)'\n"
       ]
      },
      {
       "latex": [
        "$||\\mathbf{\\text{famous}}||^{{w}_{s}, g}_{\\langle{}e,t\\rangle{}} \\:=\\: \\lambda{} x_{e} \\: . \\: {Famous}({w}_{s}, {x}_{e})$<br />\n",
        "$||\\mathbf{\\text{detective}}||^{{w}_{s}, g}_{\\langle{}e,t\\rangle{}} \\:=\\: \\lambda{} x_{e} \\: . \\: {Detective}({w}_{s}, {x}_{e})$<br />\n",
        "$||\\mathbf{\\text{bakerst}}||^{{w}_{s}, g}_{e} \\:=\\: {BakerSt221B}_{e}$<br />\n",
        "$||\\mathbf{\\text{lives}}||^{{w}_{s}, g}_{\\langle{}e,\\langle{}e,t\\rangle{}\\rangle{}} \\:=\\: \\lambda{} y_{e} \\: . \\: \\lambda{} x_{e} \\: . \\: {LivesAt}({w}_{s}, {x}_{e}, {y}_{e})$"
       ],
       "metadata": {},
       "output_type": "pyout",
       "prompt_number": 109,
       "text": [
        "$||\\mathbf{\\text{famous}}||^{{w}_{s}, g}_{\\langle{}e,t\\rangle{}} \\:=\\: \\lambda{} x_{e} \\: . \\: {Famous}({w}_{s}, {x}_{e})$<br />\n",
        "$||\\mathbf{\\text{detective}}||^{{w}_{s}, g}_{\\langle{}e,t\\rangle{}} \\:=\\: \\lambda{} x_{e} \\: . \\: {Detective}({w}_{s}, {x}_{e})$<br />\n",
        "$||\\mathbf{\\text{bakerst}}||^{{w}_{s}, g}_{e} \\:=\\: {BakerSt221B}_{e}$<br />\n",
        "$||\\mathbf{\\text{lives}}||^{{w}_{s}, g}_{\\langle{}e,\\langle{}e,t\\rangle{}\\rangle{}} \\:=\\: \\lambda{} y_{e} \\: . \\: \\lambda{} x_{e} \\: . \\: {LivesAt}({w}_{s}, {x}_{e}, {y}_{e})$"
       ]
      }
     ],
     "prompt_number": 109
    },
    {
     "cell_type": "code",
     "collapsed": false,
     "input": [],
     "language": "python",
     "metadata": {},
     "outputs": [],
     "prompt_number": 109
    },
    {
     "cell_type": "code",
     "collapsed": false,
     "input": [
      "simple = (a * detective) * (lives * bakerst)\n",
      "simple"
     ],
     "language": "python",
     "metadata": {},
     "outputs": [
      {
       "latex": [
        "1 composition path.  Result:\n",
        "<br />&nbsp;&nbsp;&nbsp;&nbsp;[0]: $||\\mathbf{\\text{[[a detective] [lives bakerst]]}}||^{{w}_{s}, g}_{t} \\:=\\: $$\\exists{} x_{e} \\: . \\: ([\\lambda{} x_{e} \\: . \\: {Detective}({w}_{s}, {x}_{e})]({x}_{e}) \\wedge{} [\\lambda{} x_{e} \\: . \\: {LivesAt}({w}_{s}, {x}_{e}, {BakerSt221B}_{e})]({x}_{e}))$"
       ],
       "metadata": {},
       "output_type": "pyout",
       "prompt_number": 110,
       "text": [
        "CompositionResult(results=[||[[a detective] [lives bakerst]]||[w_s, type s, g] = (Exists x_e: (((\u03bb x_e: Detective_<(s,e),t>(w_s, x_e)))(x_e) & ((\u03bb x_e: LivesAt_<(s,e,e),t>(w_s, x_e, BakerSt221B_e)))(x_e)))], failures=[||[[lives bakerst] [a detective]]||[w_s, type s, g] = Type mismatch: '||[lives bakerst]||[w_s, type s, g] = (\u03bb x_e: LivesAt_<(s,e,e),t>(w_s, x_e, BakerSt221B_e))'/<e,t> and '||[a detective]||[w_s, type s, g] = (\u03bb g_<e,t>: (Exists x_e: (((\u03bb x_e: Detective_<(s,e),t>(w_s, x_e)))(x_e) & g_<e,t>(x_e))))'/<<e,t>,t> conflict (mode: Function Application), ||[[a detective] [lives bakerst]]||[w_s, type s, g] = Type mismatch: '||[a detective]||[w_s, type s, g] = (\u03bb g_<e,t>: (Exists x_e: (((\u03bb x_e: Detective_<(s,e),t>(w_s, x_e)))(x_e) & g_<e,t>(x_e))))'/<<e,t>,t> and '||[lives bakerst]||[w_s, type s, g] = (\u03bb x_e: LivesAt_<(s,e,e),t>(w_s, x_e, BakerSt221B_e))'/<e,t> conflict (mode: Predicate Modification), ||[[a detective] [lives bakerst]]||[w_s, type s, g] = Type mismatch: '||[a detective]||[w_s, type s, g] = (\u03bb g_<e,t>: (Exists x_e: (((\u03bb x_e: Detective_<(s,e),t>(w_s, x_e)))(x_e) & g_<e,t>(x_e))))'/<<e,t>,t> and '||[lives bakerst]||[w_s, type s, g] = (\u03bb x_e: LivesAt_<(s,e,e),t>(w_s, x_e, BakerSt221B_e))'/<e,t> conflict (mode: Predicate Abstraction), ||[[lives bakerst] [a detective]]||[w_s, type s, g] = Type mismatch: '||[lives bakerst]||[w_s, type s, g] = (\u03bb x_e: LivesAt_<(s,e,e),t>(w_s, x_e, BakerSt221B_e))'/<e,t> and '||[a detective]||[w_s, type s, g] = (\u03bb g_<e,t>: (Exists x_e: (((\u03bb x_e: Detective_<(s,e),t>(w_s, x_e)))(x_e) & g_<e,t>(x_e))))'/<<e,t>,t> conflict (mode: Predicate Abstraction)])"
       ]
      }
     ],
     "prompt_number": 110
    },
    {
     "cell_type": "code",
     "collapsed": false,
     "input": [
      "simple.reduce_all()\n",
      "simple"
     ],
     "language": "python",
     "metadata": {},
     "outputs": [
      {
       "latex": [
        "1 composition path.  Result:\n",
        "<br />&nbsp;&nbsp;&nbsp;&nbsp;[0]: $||\\mathbf{\\text{[[a detective] [lives bakerst]]}}||^{{w}_{s}, g}_{t} \\:=\\: $$\\exists{} x_{e} \\: . \\: ({Detective}({w}_{s}, {x}_{e}) \\wedge{} {LivesAt}({w}_{s}, {x}_{e}, {BakerSt221B}_{e}))$"
       ],
       "metadata": {},
       "output_type": "pyout",
       "prompt_number": 111,
       "text": [
        "CompositionResult(results=[||[[a detective] [lives bakerst]]||[w_s, type s, g] = (Exists x_e: (Detective_<(s,e),t>(w_s, x_e) & LivesAt_<(s,e,e),t>(w_s, x_e, BakerSt221B_e)))], failures=[||[[lives bakerst] [a detective]]||[w_s, type s, g] = Type mismatch: '||[lives bakerst]||[w_s, type s, g] = (\u03bb x_e: LivesAt_<(s,e,e),t>(w_s, x_e, BakerSt221B_e))'/<e,t> and '||[a detective]||[w_s, type s, g] = (\u03bb g_<e,t>: (Exists x_e: (((\u03bb x_e: Detective_<(s,e),t>(w_s, x_e)))(x_e) & g_<e,t>(x_e))))'/<<e,t>,t> conflict (mode: Function Application), ||[[a detective] [lives bakerst]]||[w_s, type s, g] = Type mismatch: '||[a detective]||[w_s, type s, g] = (\u03bb g_<e,t>: (Exists x_e: (((\u03bb x_e: Detective_<(s,e),t>(w_s, x_e)))(x_e) & g_<e,t>(x_e))))'/<<e,t>,t> and '||[lives bakerst]||[w_s, type s, g] = (\u03bb x_e: LivesAt_<(s,e,e),t>(w_s, x_e, BakerSt221B_e))'/<e,t> conflict (mode: Predicate Modification), ||[[a detective] [lives bakerst]]||[w_s, type s, g] = Type mismatch: '||[a detective]||[w_s, type s, g] = (\u03bb g_<e,t>: (Exists x_e: (((\u03bb x_e: Detective_<(s,e),t>(w_s, x_e)))(x_e) & g_<e,t>(x_e))))'/<<e,t>,t> and '||[lives bakerst]||[w_s, type s, g] = (\u03bb x_e: LivesAt_<(s,e,e),t>(w_s, x_e, BakerSt221B_e))'/<e,t> conflict (mode: Predicate Abstraction), ||[[lives bakerst] [a detective]]||[w_s, type s, g] = Type mismatch: '||[lives bakerst]||[w_s, type s, g] = (\u03bb x_e: LivesAt_<(s,e,e),t>(w_s, x_e, BakerSt221B_e))'/<e,t> and '||[a detective]||[w_s, type s, g] = (\u03bb g_<e,t>: (Exists x_e: (((\u03bb x_e: Detective_<(s,e),t>(w_s, x_e)))(x_e) & g_<e,t>(x_e))))'/<<e,t>,t> conflict (mode: Predicate Abstraction)])"
       ]
      }
     ],
     "prompt_number": 111
    },
    {
     "cell_type": "code",
     "collapsed": false,
     "input": [
      "simple.results[0].latex_step_tree(derivations=True)"
     ],
     "language": "python",
     "metadata": {},
     "outputs": [
      {
       "latex": [
        "<table><tr><td style=\"vertical-align:bottom;padding:0px 10px\" align=\"center\"><table><tr><td style=\"vertical-align:bottom\"><table><tr><td style=\"vertical-align:bottom;padding:0px 10px\" align=\"center\"><table><tr><td style=\"vertical-align:bottom\"><table align=\"center\"><tr><td align=\"center\">$||\\mathbf{\\text{a}}||^{{w}_{s}, g}_{\\langle{}\\langle{}e,t\\rangle{},\\langle{}\\langle{}e,t\\rangle{},t\\rangle{}\\rangle{}}$</td></tr><tr><td align=\"center\">$\\lambda{} f_{\\langle{}e,t\\rangle{}} \\: . \\: \\lambda{} g_{\\langle{}e,t\\rangle{}} \\: . \\: \\exists{} x_{e} \\: . \\: ({f}_{\\langle{}e,t\\rangle{}}({x}_{e}) \\wedge{} {g}_{\\langle{}e,t\\rangle{}}({x}_{e}))$</td></tr></table>\n",
        "</td><td style=\"vertical-align:bottom;padding-bottom:5px\">&nbsp;&nbsp;&nbsp;$\\circ$&nbsp;&nbsp;&nbsp;</td><td style=\"vertical-align:bottom\"><table align=\"center\"><tr><td align=\"center\">$||\\mathbf{\\text{detective}}||^{{w}_{s}, g}_{\\langle{}e,t\\rangle{}}$</td></tr><tr><td align=\"center\">$\\lambda{} x_{e} \\: . \\: {Detective}({w}_{s}, {x}_{e})$</td></tr></table>\n",
        "</td></tr></table></td><td style=\"vertical-align:bottom;padding-bottom:5px;padding-left:10px\"><b>[FA]</b></td></tr><tr style=\"border-top: 1px solid #848482\"><td align=\"center\"><table style=\"margin-top:10px\"><tr><td style=\"vertical-align:bottom\" align=\"center\">$||\\mathbf{\\text{[a detective]}}||^{{w}_{s}, g}_{\\langle{}\\langle{}e,t\\rangle{},t\\rangle{}}$</td></tr><tr><td style=\"vertical-align:bottom\" align=\"center\"><table><tr><td style=\"padding-right:5px\"> $=$ </td><td style=\"align:center\">$[\\lambda{} f_{\\langle{}e,t\\rangle{}} \\: . \\: \\lambda{} g_{\\langle{}e,t\\rangle{}} \\: . \\: \\exists{} x_{e} \\: . \\: ({f}_{\\langle{}e,t\\rangle{}}({x}_{e}) \\wedge{} {g}_{\\langle{}e,t\\rangle{}}({x}_{e}))](\\lambda{} x_{e} \\: . \\: {Detective}({w}_{s}, {x}_{e}))$</td></tr><tr><td style=\"padding-right:5px\"> $=$ </td><td style=\"align:center\">$\\lambda{} g_{\\langle{}e,t\\rangle{}} \\: . \\: \\exists{} x_{e} \\: . \\: ([\\lambda{} x_{e} \\: . \\: {Detective}({w}_{s}, {x}_{e})]({x}_{e}) \\wedge{} {g}_{\\langle{}e,t\\rangle{}}({x}_{e}))$</td></tr></table></td></tr></table>\n",
        "</td><td></td></tr></table>\n",
        "</td><td style=\"vertical-align:bottom;padding-bottom:5px\">&nbsp;&nbsp;&nbsp;$\\circ$&nbsp;&nbsp;&nbsp;</td><td style=\"vertical-align:bottom\"><table><tr><td style=\"vertical-align:bottom;padding:0px 10px\" align=\"center\"><table><tr><td style=\"vertical-align:bottom\"><table align=\"center\"><tr><td align=\"center\">$||\\mathbf{\\text{lives}}||^{{w}_{s}, g}_{\\langle{}e,\\langle{}e,t\\rangle{}\\rangle{}}$</td></tr><tr><td align=\"center\">$\\lambda{} y_{e} \\: . \\: \\lambda{} x_{e} \\: . \\: {LivesAt}({w}_{s}, {x}_{e}, {y}_{e})$</td></tr></table>\n",
        "</td><td style=\"vertical-align:bottom;padding-bottom:5px\">&nbsp;&nbsp;&nbsp;$\\circ$&nbsp;&nbsp;&nbsp;</td><td style=\"vertical-align:bottom\"><table align=\"center\"><tr><td align=\"center\">$||\\mathbf{\\text{bakerst}}||^{{w}_{s}, g}_{e}$</td></tr><tr><td align=\"center\">${BakerSt221B}_{e}$</td></tr></table>\n",
        "</td></tr></table></td><td style=\"vertical-align:bottom;padding-bottom:5px;padding-left:10px\"><b>[FA]</b></td></tr><tr style=\"border-top: 1px solid #848482\"><td align=\"center\"><table style=\"margin-top:10px\"><tr><td style=\"vertical-align:bottom\" align=\"center\">$||\\mathbf{\\text{[lives bakerst]}}||^{{w}_{s}, g}_{\\langle{}e,t\\rangle{}}$</td></tr><tr><td style=\"vertical-align:bottom\" align=\"center\"><table><tr><td style=\"padding-right:5px\"> $=$ </td><td style=\"align:center\">$[\\lambda{} y_{e} \\: . \\: \\lambda{} x_{e} \\: . \\: {LivesAt}({w}_{s}, {x}_{e}, {y}_{e})]({BakerSt221B}_{e})$</td></tr><tr><td style=\"padding-right:5px\"> $=$ </td><td style=\"align:center\">$\\lambda{} x_{e} \\: . \\: {LivesAt}({w}_{s}, {x}_{e}, {BakerSt221B}_{e})$</td></tr></table></td></tr></table>\n",
        "</td><td></td></tr></table>\n",
        "</td></tr></table></td><td style=\"vertical-align:bottom;padding-bottom:5px;padding-left:10px\"><b>[FA]</b></td></tr><tr style=\"border-top: 1px solid #848482\"><td align=\"center\"><table style=\"margin-top:10px\"><tr><td style=\"vertical-align:bottom\" align=\"center\">$||\\mathbf{\\text{[[a detective] [lives bakerst]]}}||^{{w}_{s}, g}_{t}$</td></tr><tr><td style=\"vertical-align:bottom\" align=\"center\"><table><tr><td style=\"padding-right:5px\"> $=$ </td><td style=\"align:center\">$[\\lambda{} g_{\\langle{}e,t\\rangle{}} \\: . \\: \\exists{} x_{e} \\: . \\: ([\\lambda{} x_{e} \\: . \\: {Detective}({w}_{s}, {x}_{e})]({x}_{e}) \\wedge{} {g}_{\\langle{}e,t\\rangle{}}({x}_{e}))](\\lambda{} x_{e} \\: . \\: {LivesAt}({w}_{s}, {x}_{e}, {BakerSt221B}_{e}))$</td></tr><tr><td style=\"padding-right:5px\"> $=$ </td><td style=\"align:center\">$\\exists{} x_{e} \\: . \\: ([\\lambda{} x_{e} \\: . \\: {Detective}({w}_{s}, {x}_{e})]({x}_{e}) \\wedge{} [\\lambda{} x_{e} \\: . \\: {LivesAt}({w}_{s}, {x}_{e}, {BakerSt221B}_{e})]({x}_{e}))$</td></tr><tr><td style=\"padding-right:5px\"> $=$ </td><td style=\"align:center\">$\\exists{} x_{e} \\: . \\: ({Detective}({w}_{s}, {x}_{e}) \\wedge{} {LivesAt}({w}_{s}, {x}_{e}, {BakerSt221B}_{e}))$</td></tr></table></td></tr></table>\n",
        "</td><td></td></tr></table>\n"
       ],
       "metadata": {},
       "output_type": "pyout",
       "prompt_number": 112,
       "text": [
        "<table><tr><td style=\"vertical-align:bottom;padding:0px 10px\" align=\"center\"><table><tr><td style=\"vertical-align:bottom\"><table><tr><td style=\"vertical-align:bottom;padding:0px 10px\" align=\"center\"><table><tr><td style=\"vertical-align:bottom\"><table align=\"center\"><tr><td align=\"center\">$||\\mathbf{\\text{a}}||^{{w}_{s}, g}_{\\langle{}\\langle{}e,t\\rangle{},\\langle{}\\langle{}e,t\\rangle{},t\\rangle{}\\rangle{}}$</td></tr><tr><td align=\"center\">$\\lambda{} f_{\\langle{}e,t\\rangle{}} \\: . \\: \\lambda{} g_{\\langle{}e,t\\rangle{}} \\: . \\: \\exists{} x_{e} \\: . \\: ({f}_{\\langle{}e,t\\rangle{}}({x}_{e}) \\wedge{} {g}_{\\langle{}e,t\\rangle{}}({x}_{e}))$</td></tr></table>\n",
        "</td><td style=\"vertical-align:bottom;padding-bottom:5px\">&nbsp;&nbsp;&nbsp;$\\circ$&nbsp;&nbsp;&nbsp;</td><td style=\"vertical-align:bottom\"><table align=\"center\"><tr><td align=\"center\">$||\\mathbf{\\text{detective}}||^{{w}_{s}, g}_{\\langle{}e,t\\rangle{}}$</td></tr><tr><td align=\"center\">$\\lambda{} x_{e} \\: . \\: {Detective}({w}_{s}, {x}_{e})$</td></tr></table>\n",
        "</td></tr></table></td><td style=\"vertical-align:bottom;padding-bottom:5px;padding-left:10px\"><b>[FA]</b></td></tr><tr style=\"border-top: 1px solid #848482\"><td align=\"center\"><table style=\"margin-top:10px\"><tr><td style=\"vertical-align:bottom\" align=\"center\">$||\\mathbf{\\text{[a detective]}}||^{{w}_{s}, g}_{\\langle{}\\langle{}e,t\\rangle{},t\\rangle{}}$</td></tr><tr><td style=\"vertical-align:bottom\" align=\"center\"><table><tr><td style=\"padding-right:5px\"> $=$ </td><td style=\"align:center\">$[\\lambda{} f_{\\langle{}e,t\\rangle{}} \\: . \\: \\lambda{} g_{\\langle{}e,t\\rangle{}} \\: . \\: \\exists{} x_{e} \\: . \\: ({f}_{\\langle{}e,t\\rangle{}}({x}_{e}) \\wedge{} {g}_{\\langle{}e,t\\rangle{}}({x}_{e}))](\\lambda{} x_{e} \\: . \\: {Detective}({w}_{s}, {x}_{e}))$</td></tr><tr><td style=\"padding-right:5px\"> $=$ </td><td style=\"align:center\">$\\lambda{} g_{\\langle{}e,t\\rangle{}} \\: . \\: \\exists{} x_{e} \\: . \\: ([\\lambda{} x_{e} \\: . \\: {Detective}({w}_{s}, {x}_{e})]({x}_{e}) \\wedge{} {g}_{\\langle{}e,t\\rangle{}}({x}_{e}))$</td></tr></table></td></tr></table>\n",
        "</td><td></td></tr></table>\n",
        "</td><td style=\"vertical-align:bottom;padding-bottom:5px\">&nbsp;&nbsp;&nbsp;$\\circ$&nbsp;&nbsp;&nbsp;</td><td style=\"vertical-align:bottom\"><table><tr><td style=\"vertical-align:bottom;padding:0px 10px\" align=\"center\"><table><tr><td style=\"vertical-align:bottom\"><table align=\"center\"><tr><td align=\"center\">$||\\mathbf{\\text{lives}}||^{{w}_{s}, g}_{\\langle{}e,\\langle{}e,t\\rangle{}\\rangle{}}$</td></tr><tr><td align=\"center\">$\\lambda{} y_{e} \\: . \\: \\lambda{} x_{e} \\: . \\: {LivesAt}({w}_{s}, {x}_{e}, {y}_{e})$</td></tr></table>\n",
        "</td><td style=\"vertical-align:bottom;padding-bottom:5px\">&nbsp;&nbsp;&nbsp;$\\circ$&nbsp;&nbsp;&nbsp;</td><td style=\"vertical-align:bottom\"><table align=\"center\"><tr><td align=\"center\">$||\\mathbf{\\text{bakerst}}||^{{w}_{s}, g}_{e}$</td></tr><tr><td align=\"center\">${BakerSt221B}_{e}$</td></tr></table>\n",
        "</td></tr></table></td><td style=\"vertical-align:bottom;padding-bottom:5px;padding-left:10px\"><b>[FA]</b></td></tr><tr style=\"border-top: 1px solid #848482\"><td align=\"center\"><table style=\"margin-top:10px\"><tr><td style=\"vertical-align:bottom\" align=\"center\">$||\\mathbf{\\text{[lives bakerst]}}||^{{w}_{s}, g}_{\\langle{}e,t\\rangle{}}$</td></tr><tr><td style=\"vertical-align:bottom\" align=\"center\"><table><tr><td style=\"padding-right:5px\"> $=$ </td><td style=\"align:center\">$[\\lambda{} y_{e} \\: . \\: \\lambda{} x_{e} \\: . \\: {LivesAt}({w}_{s}, {x}_{e}, {y}_{e})]({BakerSt221B}_{e})$</td></tr><tr><td style=\"padding-right:5px\"> $=$ </td><td style=\"align:center\">$\\lambda{} x_{e} \\: . \\: {LivesAt}({w}_{s}, {x}_{e}, {BakerSt221B}_{e})$</td></tr></table></td></tr></table>\n",
        "</td><td></td></tr></table>\n",
        "</td></tr></table></td><td style=\"vertical-align:bottom;padding-bottom:5px;padding-left:10px\"><b>[FA]</b></td></tr><tr style=\"border-top: 1px solid #848482\"><td align=\"center\"><table style=\"margin-top:10px\"><tr><td style=\"vertical-align:bottom\" align=\"center\">$||\\mathbf{\\text{[[a detective] [lives bakerst]]}}||^{{w}_{s}, g}_{t}$</td></tr><tr><td style=\"vertical-align:bottom\" align=\"center\"><table><tr><td style=\"padding-right:5px\"> $=$ </td><td style=\"align:center\">$[\\lambda{} g_{\\langle{}e,t\\rangle{}} \\: . \\: \\exists{} x_{e} \\: . \\: ([\\lambda{} x_{e} \\: . \\: {Detective}({w}_{s}, {x}_{e})]({x}_{e}) \\wedge{} {g}_{\\langle{}e,t\\rangle{}}({x}_{e}))](\\lambda{} x_{e} \\: . \\: {LivesAt}({w}_{s}, {x}_{e}, {BakerSt221B}_{e}))$</td></tr><tr><td style=\"padding-right:5px\"> $=$ </td><td style=\"align:center\">$\\exists{} x_{e} \\: . \\: ([\\lambda{} x_{e} \\: . \\: {Detective}({w}_{s}, {x}_{e})]({x}_{e}) \\wedge{} [\\lambda{} x_{e} \\: . \\: {LivesAt}({w}_{s}, {x}_{e}, {BakerSt221B}_{e})]({x}_{e}))$</td></tr><tr><td style=\"padding-right:5px\"> $=$ </td><td style=\"align:center\">$\\exists{} x_{e} \\: . \\: ({Detective}({w}_{s}, {x}_{e}) \\wedge{} {LivesAt}({w}_{s}, {x}_{e}, {BakerSt221B}_{e}))$</td></tr></table></td></tr></table>\n",
        "</td><td></td></tr></table>"
       ]
      }
     ],
     "prompt_number": 112
    },
    {
     "cell_type": "code",
     "collapsed": false,
     "input": [
      "simple.compose()"
     ],
     "language": "python",
     "metadata": {},
     "outputs": [
      {
       "latex": [
        "1 composition path.  Result:\n",
        "<br />&nbsp;&nbsp;&nbsp;&nbsp;[0]: $||\\mathbf{\\text{INT([[a detective] [lives bakerst]])}}||^{{w}_{s}, g}_{\\langle{}s,t\\rangle{}} \\:=\\: $$\\lambda{} w_{s} \\: . \\: \\exists{} x_{e} \\: . \\: ({Detective}({w}_{s}, {x}_{e}) \\wedge{} {LivesAt}({w}_{s}, {x}_{e}, {BakerSt221B}_{e}))$"
       ],
       "metadata": {},
       "output_type": "pyout",
       "prompt_number": 113,
       "text": [
        "CompositionResult(results=[||INT([[a detective] [lives bakerst]])||[w_s, type s, g] = (\u03bb w_s: (Exists x_e: (Detective_<(s,e),t>(w_s, x_e) & LivesAt_<(s,e,e),t>(w_s, x_e, BakerSt221B_e))))], failures=[])"
       ]
      }
     ],
     "prompt_number": 113
    },
    {
     "cell_type": "code",
     "collapsed": false,
     "input": [
      "itw = lang.Item(\"In the world of S.H.\", lang.te(\"L p_<s,t> : Forall w2_s : CompatibleWithSHStories(w_s, w2_s) >> p_<s,t>(w2_s)\"))\n",
      "itw"
     ],
     "language": "python",
     "metadata": {},
     "outputs": [
      {
       "output_type": "stream",
       "stream": "stderr",
       "text": [
        "INFO (meta): Coerced guessed type t for 'CompatibleWithSHStories_t' into <(s,s),t>, to match argument '(w_s, w2_s)'\n"
       ]
      },
      {
       "latex": [
        "$||\\mathbf{\\text{In the world of S.H.}}||^{{w}_{s}, g}_{\\langle{}\\langle{}s,t\\rangle{},t\\rangle{}} \\:=\\: $$\\lambda{} p_{\\langle{}s,t\\rangle{}} \\: . \\: \\forall{} w2_{s} \\: . \\: ({CompatibleWithSHStories}({w}_{s}, {w2}_{s}) \\rightarrow{} {p}_{\\langle{}s,t\\rangle{}}({w2}_{s}))$"
       ],
       "metadata": {},
       "output_type": "pyout",
       "prompt_number": 114,
       "text": [
        "||In the world of S.H.||[w_s, type s, g] = (\u03bb p_<s,t>: (Forall w2_s: (CompatibleWithSHStories_<(s,s),t>(w_s, w2_s) >> p_<s,t>(w2_s))))"
       ]
      }
     ],
     "prompt_number": 114
    },
    {
     "cell_type": "code",
     "collapsed": false,
     "input": [],
     "language": "python",
     "metadata": {},
     "outputs": [],
     "prompt_number": 114
    },
    {
     "cell_type": "code",
     "collapsed": false,
     "input": [
      "itw * simple"
     ],
     "language": "python",
     "metadata": {},
     "outputs": [
      {
       "latex": [
        "Composition failed.  Attempts:<br />\n",
        "&nbsp;&nbsp;&nbsp;&nbsp;Type mismatch: '$||\\mathbf{\\text{In the world of S.H.}}||^{{w}_{s}, g}_{\\langle{}\\langle{}s,t\\rangle{},t\\rangle{}} \\:=\\: $$\\lambda{} p_{\\langle{}s,t\\rangle{}} \\: . \\: \\forall{} w2_{s} \\: . \\: ({CompatibleWithSHStories}({w}_{s}, {w2}_{s}) \\rightarrow{} {p}_{\\langle{}s,t\\rangle{}}({w2}_{s}))$'/$\\langle{}\\langle{}s,t\\rangle{},t\\rangle{}$ and '$||\\mathbf{\\text{[[a detective] [lives bakerst]]}}||^{{w}_{s}, g}_{t} \\:=\\: $$\\exists{} x_{e} \\: . \\: ({Detective}({w}_{s}, {x}_{e}) \\wedge{} {LivesAt}({w}_{s}, {x}_{e}, {BakerSt221B}_{e}))$'/$t$ conflict (mode: Function Application)<br />\n",
        "&nbsp;&nbsp;&nbsp;&nbsp;Type mismatch: '$||\\mathbf{\\text{[[a detective] [lives bakerst]]}}||^{{w}_{s}, g}_{t} \\:=\\: $$\\exists{} x_{e} \\: . \\: ({Detective}({w}_{s}, {x}_{e}) \\wedge{} {LivesAt}({w}_{s}, {x}_{e}, {BakerSt221B}_{e}))$'/$t$ and '$||\\mathbf{\\text{In the world of S.H.}}||^{{w}_{s}, g}_{\\langle{}\\langle{}s,t\\rangle{},t\\rangle{}} \\:=\\: $$\\lambda{} p_{\\langle{}s,t\\rangle{}} \\: . \\: \\forall{} w2_{s} \\: . \\: ({CompatibleWithSHStories}({w}_{s}, {w2}_{s}) \\rightarrow{} {p}_{\\langle{}s,t\\rangle{}}({w2}_{s}))$'/$\\langle{}\\langle{}s,t\\rangle{},t\\rangle{}$ conflict (mode: Function Application)<br />\n",
        "&nbsp;&nbsp;&nbsp;&nbsp;Type mismatch: '$||\\mathbf{\\text{In the world of S.H.}}||^{{w}_{s}, g}_{\\langle{}\\langle{}s,t\\rangle{},t\\rangle{}} \\:=\\: $$\\lambda{} p_{\\langle{}s,t\\rangle{}} \\: . \\: \\forall{} w2_{s} \\: . \\: ({CompatibleWithSHStories}({w}_{s}, {w2}_{s}) \\rightarrow{} {p}_{\\langle{}s,t\\rangle{}}({w2}_{s}))$'/$\\langle{}\\langle{}s,t\\rangle{},t\\rangle{}$ and '$||\\mathbf{\\text{[[a detective] [lives bakerst]]}}||^{{w}_{s}, g}_{t} \\:=\\: $$\\exists{} x_{e} \\: . \\: ({Detective}({w}_{s}, {x}_{e}) \\wedge{} {LivesAt}({w}_{s}, {x}_{e}, {BakerSt221B}_{e}))$'/$t$ conflict (mode: Predicate Modification)<br />\n",
        "&nbsp;&nbsp;&nbsp;&nbsp;Type mismatch: '$||\\mathbf{\\text{In the world of S.H.}}||^{{w}_{s}, g}_{\\langle{}\\langle{}s,t\\rangle{},t\\rangle{}} \\:=\\: $$\\lambda{} p_{\\langle{}s,t\\rangle{}} \\: . \\: \\forall{} w2_{s} \\: . \\: ({CompatibleWithSHStories}({w}_{s}, {w2}_{s}) \\rightarrow{} {p}_{\\langle{}s,t\\rangle{}}({w2}_{s}))$'/$\\langle{}\\langle{}s,t\\rangle{},t\\rangle{}$ and '$||\\mathbf{\\text{[[a detective] [lives bakerst]]}}||^{{w}_{s}, g}_{t} \\:=\\: $$\\exists{} x_{e} \\: . \\: ({Detective}({w}_{s}, {x}_{e}) \\wedge{} {LivesAt}({w}_{s}, {x}_{e}, {BakerSt221B}_{e}))$'/$t$ conflict (mode: Predicate Abstraction)<br />\n",
        "&nbsp;&nbsp;&nbsp;&nbsp;Type mismatch: '$||\\mathbf{\\text{[[a detective] [lives bakerst]]}}||^{{w}_{s}, g}_{t} \\:=\\: $$\\exists{} x_{e} \\: . \\: ({Detective}({w}_{s}, {x}_{e}) \\wedge{} {LivesAt}({w}_{s}, {x}_{e}, {BakerSt221B}_{e}))$'/$t$ and '$||\\mathbf{\\text{In the world of S.H.}}||^{{w}_{s}, g}_{\\langle{}\\langle{}s,t\\rangle{},t\\rangle{}} \\:=\\: $$\\lambda{} p_{\\langle{}s,t\\rangle{}} \\: . \\: \\forall{} w2_{s} \\: . \\: ({CompatibleWithSHStories}({w}_{s}, {w2}_{s}) \\rightarrow{} {p}_{\\langle{}s,t\\rangle{}}({w2}_{s}))$'/$\\langle{}\\langle{}s,t\\rangle{},t\\rangle{}$ conflict (mode: Predicate Abstraction)<br />\n"
       ],
       "metadata": {},
       "output_type": "pyout",
       "prompt_number": 115,
       "text": [
        "CompositionResult(results=[], failures=[||[In the world of S.H. [[a detective] [lives bakerst]]]||[w_s, type s, g] = Type mismatch: '||In the world of S.H.||[w_s, type s, g] = (\u03bb p_<s,t>: (Forall w2_s: (CompatibleWithSHStories_<(s,s),t>(w_s, w2_s) >> p_<s,t>(w2_s))))'/<<s,t>,t> and '||[[a detective] [lives bakerst]]||[w_s, type s, g] = (Exists x_e: (Detective_<(s,e),t>(w_s, x_e) & LivesAt_<(s,e,e),t>(w_s, x_e, BakerSt221B_e)))'/t conflict (mode: Function Application), ||[[[a detective] [lives bakerst]] In the world of S.H.]||[w_s, type s, g] = Type mismatch: '||[[a detective] [lives bakerst]]||[w_s, type s, g] = (Exists x_e: (Detective_<(s,e),t>(w_s, x_e) & LivesAt_<(s,e,e),t>(w_s, x_e, BakerSt221B_e)))'/t and '||In the world of S.H.||[w_s, type s, g] = (\u03bb p_<s,t>: (Forall w2_s: (CompatibleWithSHStories_<(s,s),t>(w_s, w2_s) >> p_<s,t>(w2_s))))'/<<s,t>,t> conflict (mode: Function Application), ||[In the world of S.H. [[a detective] [lives bakerst]]]||[w_s, type s, g] = Type mismatch: '||In the world of S.H.||[w_s, type s, g] = (\u03bb p_<s,t>: (Forall w2_s: (CompatibleWithSHStories_<(s,s),t>(w_s, w2_s) >> p_<s,t>(w2_s))))'/<<s,t>,t> and '||[[a detective] [lives bakerst]]||[w_s, type s, g] = (Exists x_e: (Detective_<(s,e),t>(w_s, x_e) & LivesAt_<(s,e,e),t>(w_s, x_e, BakerSt221B_e)))'/t conflict (mode: Predicate Modification), ||[In the world of S.H. [[a detective] [lives bakerst]]]||[w_s, type s, g] = Type mismatch: '||In the world of S.H.||[w_s, type s, g] = (\u03bb p_<s,t>: (Forall w2_s: (CompatibleWithSHStories_<(s,s),t>(w_s, w2_s) >> p_<s,t>(w2_s))))'/<<s,t>,t> and '||[[a detective] [lives bakerst]]||[w_s, type s, g] = (Exists x_e: (Detective_<(s,e),t>(w_s, x_e) & LivesAt_<(s,e,e),t>(w_s, x_e, BakerSt221B_e)))'/t conflict (mode: Predicate Abstraction), ||[[[a detective] [lives bakerst]] In the world of S.H.]||[w_s, type s, g] = Type mismatch: '||[[a detective] [lives bakerst]]||[w_s, type s, g] = (Exists x_e: (Detective_<(s,e),t>(w_s, x_e) & LivesAt_<(s,e,e),t>(w_s, x_e, BakerSt221B_e)))'/t and '||In the world of S.H.||[w_s, type s, g] = (\u03bb p_<s,t>: (Forall w2_s: (CompatibleWithSHStories_<(s,s),t>(w_s, w2_s) >> p_<s,t>(w2_s))))'/<<s,t>,t> conflict (mode: Predicate Abstraction)])"
       ]
      }
     ],
     "prompt_number": 115
    },
    {
     "cell_type": "code",
     "collapsed": false,
     "input": [
      "result = itw * (simple.compose())\n",
      "result.reduce_all()\n",
      "result"
     ],
     "language": "python",
     "metadata": {},
     "outputs": [
      {
       "latex": [
        "1 composition path.  Result:\n",
        "<br />&nbsp;&nbsp;&nbsp;&nbsp;[0]: $||\\mathbf{\\text{[In the world of S.H. INT([[a detective] [lives bakerst]])]}}||^{{w}_{s}, g}_{t} \\:=\\: $$\\forall{} w2_{s} \\: . \\: ({CompatibleWithSHStories}({w}_{s}, {w2}_{s}) \\rightarrow{} \\exists{} x_{e} \\: . \\: ({Detective}({w2}_{s}, {x}_{e}) \\wedge{} {LivesAt}({w2}_{s}, {x}_{e}, {BakerSt221B}_{e})))$"
       ],
       "metadata": {},
       "output_type": "pyout",
       "prompt_number": 116,
       "text": [
        "CompositionResult(results=[||[In the world of S.H. INT([[a detective] [lives bakerst]])]||[w_s, type s, g] = (Forall w2_s: (CompatibleWithSHStories_<(s,s),t>(w_s, w2_s) >> (Exists x_e: (Detective_<(s,e),t>(w2_s, x_e) & LivesAt_<(s,e,e),t>(w2_s, x_e, BakerSt221B_e)))))], failures=[||[INT([[a detective] [lives bakerst]]) In the world of S.H.]||[w_s, type s, g] = Type mismatch: '||INT([[a detective] [lives bakerst]])||[w_s, type s, g] = (\u03bb w_s: (Exists x_e: (Detective_<(s,e),t>(w_s, x_e) & LivesAt_<(s,e,e),t>(w_s, x_e, BakerSt221B_e))))'/<s,t> and '||In the world of S.H.||[w_s, type s, g] = (\u03bb p_<s,t>: (Forall w2_s: (CompatibleWithSHStories_<(s,s),t>(w_s, w2_s) >> p_<s,t>(w2_s))))'/<<s,t>,t> conflict (mode: Function Application), ||[In the world of S.H. INT([[a detective] [lives bakerst]])]||[w_s, type s, g] = Type mismatch: '||In the world of S.H.||[w_s, type s, g] = (\u03bb p_<s,t>: (Forall w2_s: (CompatibleWithSHStories_<(s,s),t>(w_s, w2_s) >> p_<s,t>(w2_s))))'/<<s,t>,t> and '||INT([[a detective] [lives bakerst]])||[w_s, type s, g] = (\u03bb w_s: (Exists x_e: (Detective_<(s,e),t>(w_s, x_e) & LivesAt_<(s,e,e),t>(w_s, x_e, BakerSt221B_e))))'/<s,t> conflict (mode: Predicate Modification), ||[In the world of S.H. INT([[a detective] [lives bakerst]])]||[w_s, type s, g] = Type mismatch: '||In the world of S.H.||[w_s, type s, g] = (\u03bb p_<s,t>: (Forall w2_s: (CompatibleWithSHStories_<(s,s),t>(w_s, w2_s) >> p_<s,t>(w2_s))))'/<<s,t>,t> and '||INT([[a detective] [lives bakerst]])||[w_s, type s, g] = (\u03bb w_s: (Exists x_e: (Detective_<(s,e),t>(w_s, x_e) & LivesAt_<(s,e,e),t>(w_s, x_e, BakerSt221B_e))))'/<s,t> conflict (mode: Predicate Abstraction), ||[INT([[a detective] [lives bakerst]]) In the world of S.H.]||[w_s, type s, g] = Type mismatch: '||INT([[a detective] [lives bakerst]])||[w_s, type s, g] = (\u03bb w_s: (Exists x_e: (Detective_<(s,e),t>(w_s, x_e) & LivesAt_<(s,e,e),t>(w_s, x_e, BakerSt221B_e))))'/<s,t> and '||In the world of S.H.||[w_s, type s, g] = (\u03bb p_<s,t>: (Forall w2_s: (CompatibleWithSHStories_<(s,s),t>(w_s, w2_s) >> p_<s,t>(w2_s))))'/<<s,t>,t> conflict (mode: Predicate Abstraction)])"
       ]
      }
     ],
     "prompt_number": 116
    },
    {
     "cell_type": "code",
     "collapsed": false,
     "input": [
      "result.results[0].latex_step_tree(derivations=True)"
     ],
     "language": "python",
     "metadata": {},
     "outputs": [
      {
       "latex": [
        "<table><tr><td style=\"vertical-align:bottom;padding:0px 10px\" align=\"center\"><table><tr><td style=\"vertical-align:bottom\"><table align=\"center\"><tr><td align=\"center\">$||\\mathbf{\\text{In the world of S.H.}}||^{{w}_{s}, g}_{\\langle{}\\langle{}s,t\\rangle{},t\\rangle{}}$</td></tr><tr><td align=\"center\">$\\lambda{} p_{\\langle{}s,t\\rangle{}} \\: . \\: \\forall{} w2_{s} \\: . \\: ({CompatibleWithSHStories}({w}_{s}, {w2}_{s}) \\rightarrow{} {p}_{\\langle{}s,t\\rangle{}}({w2}_{s}))$</td></tr></table>\n",
        "</td><td style=\"vertical-align:bottom;padding-bottom:5px\">&nbsp;&nbsp;&nbsp;$\\circ$&nbsp;&nbsp;&nbsp;</td><td style=\"vertical-align:bottom\"><table><tr><td style=\"vertical-align:bottom;padding:0px 10px\" align=\"center\"><table><tr><td style=\"vertical-align:bottom\"><table><tr><td style=\"vertical-align:bottom;padding:0px 10px\" align=\"center\"><table><tr><td style=\"vertical-align:bottom\"><table><tr><td style=\"vertical-align:bottom;padding:0px 10px\" align=\"center\"><table><tr><td style=\"vertical-align:bottom\"><table align=\"center\"><tr><td align=\"center\">$||\\mathbf{\\text{a}}||^{{w}_{s}, g}_{\\langle{}\\langle{}e,t\\rangle{},\\langle{}\\langle{}e,t\\rangle{},t\\rangle{}\\rangle{}}$</td></tr><tr><td align=\"center\">$\\lambda{} f_{\\langle{}e,t\\rangle{}} \\: . \\: \\lambda{} g_{\\langle{}e,t\\rangle{}} \\: . \\: \\exists{} x_{e} \\: . \\: ({f}_{\\langle{}e,t\\rangle{}}({x}_{e}) \\wedge{} {g}_{\\langle{}e,t\\rangle{}}({x}_{e}))$</td></tr></table>\n",
        "</td><td style=\"vertical-align:bottom;padding-bottom:5px\">&nbsp;&nbsp;&nbsp;$\\circ$&nbsp;&nbsp;&nbsp;</td><td style=\"vertical-align:bottom\"><table align=\"center\"><tr><td align=\"center\">$||\\mathbf{\\text{detective}}||^{{w}_{s}, g}_{\\langle{}e,t\\rangle{}}$</td></tr><tr><td align=\"center\">$\\lambda{} x_{e} \\: . \\: {Detective}({w}_{s}, {x}_{e})$</td></tr></table>\n",
        "</td></tr></table></td><td style=\"vertical-align:bottom;padding-bottom:5px;padding-left:10px\"><b>[FA]</b></td></tr><tr style=\"border-top: 1px solid #848482\"><td align=\"center\"><table style=\"margin-top:10px\"><tr><td style=\"vertical-align:bottom\" align=\"center\">$||\\mathbf{\\text{[a detective]}}||^{{w}_{s}, g}_{\\langle{}\\langle{}e,t\\rangle{},t\\rangle{}}$</td></tr><tr><td style=\"vertical-align:bottom\" align=\"center\"><table><tr><td style=\"padding-right:5px\"> $=$ </td><td style=\"align:center\">$[\\lambda{} f_{\\langle{}e,t\\rangle{}} \\: . \\: \\lambda{} g_{\\langle{}e,t\\rangle{}} \\: . \\: \\exists{} x_{e} \\: . \\: ({f}_{\\langle{}e,t\\rangle{}}({x}_{e}) \\wedge{} {g}_{\\langle{}e,t\\rangle{}}({x}_{e}))](\\lambda{} x_{e} \\: . \\: {Detective}({w}_{s}, {x}_{e}))$</td></tr><tr><td style=\"padding-right:5px\"> $=$ </td><td style=\"align:center\">$\\lambda{} g_{\\langle{}e,t\\rangle{}} \\: . \\: \\exists{} x_{e} \\: . \\: ([\\lambda{} x_{e} \\: . \\: {Detective}({w}_{s}, {x}_{e})]({x}_{e}) \\wedge{} {g}_{\\langle{}e,t\\rangle{}}({x}_{e}))$</td></tr></table></td></tr></table>\n",
        "</td><td></td></tr></table>\n",
        "</td><td style=\"vertical-align:bottom;padding-bottom:5px\">&nbsp;&nbsp;&nbsp;$\\circ$&nbsp;&nbsp;&nbsp;</td><td style=\"vertical-align:bottom\"><table><tr><td style=\"vertical-align:bottom;padding:0px 10px\" align=\"center\"><table><tr><td style=\"vertical-align:bottom\"><table align=\"center\"><tr><td align=\"center\">$||\\mathbf{\\text{lives}}||^{{w}_{s}, g}_{\\langle{}e,\\langle{}e,t\\rangle{}\\rangle{}}$</td></tr><tr><td align=\"center\">$\\lambda{} y_{e} \\: . \\: \\lambda{} x_{e} \\: . \\: {LivesAt}({w}_{s}, {x}_{e}, {y}_{e})$</td></tr></table>\n",
        "</td><td style=\"vertical-align:bottom;padding-bottom:5px\">&nbsp;&nbsp;&nbsp;$\\circ$&nbsp;&nbsp;&nbsp;</td><td style=\"vertical-align:bottom\"><table align=\"center\"><tr><td align=\"center\">$||\\mathbf{\\text{bakerst}}||^{{w}_{s}, g}_{e}$</td></tr><tr><td align=\"center\">${BakerSt221B}_{e}$</td></tr></table>\n",
        "</td></tr></table></td><td style=\"vertical-align:bottom;padding-bottom:5px;padding-left:10px\"><b>[FA]</b></td></tr><tr style=\"border-top: 1px solid #848482\"><td align=\"center\"><table style=\"margin-top:10px\"><tr><td style=\"vertical-align:bottom\" align=\"center\">$||\\mathbf{\\text{[lives bakerst]}}||^{{w}_{s}, g}_{\\langle{}e,t\\rangle{}}$</td></tr><tr><td style=\"vertical-align:bottom\" align=\"center\"><table><tr><td style=\"padding-right:5px\"> $=$ </td><td style=\"align:center\">$[\\lambda{} y_{e} \\: . \\: \\lambda{} x_{e} \\: . \\: {LivesAt}({w}_{s}, {x}_{e}, {y}_{e})]({BakerSt221B}_{e})$</td></tr><tr><td style=\"padding-right:5px\"> $=$ </td><td style=\"align:center\">$\\lambda{} x_{e} \\: . \\: {LivesAt}({w}_{s}, {x}_{e}, {BakerSt221B}_{e})$</td></tr></table></td></tr></table>\n",
        "</td><td></td></tr></table>\n",
        "</td></tr></table></td><td style=\"vertical-align:bottom;padding-bottom:5px;padding-left:10px\"><b>[FA]</b></td></tr><tr style=\"border-top: 1px solid #848482\"><td align=\"center\"><table style=\"margin-top:10px\"><tr><td style=\"vertical-align:bottom\" align=\"center\">$||\\mathbf{\\text{[[a detective] [lives bakerst]]}}||^{{w}_{s}, g}_{t}$</td></tr><tr><td style=\"vertical-align:bottom\" align=\"center\"><table><tr><td style=\"padding-right:5px\"> $=$ </td><td style=\"align:center\">$[\\lambda{} g_{\\langle{}e,t\\rangle{}} \\: . \\: \\exists{} x_{e} \\: . \\: ([\\lambda{} x_{e} \\: . \\: {Detective}({w}_{s}, {x}_{e})]({x}_{e}) \\wedge{} {g}_{\\langle{}e,t\\rangle{}}({x}_{e}))](\\lambda{} x_{e} \\: . \\: {LivesAt}({w}_{s}, {x}_{e}, {BakerSt221B}_{e}))$</td></tr><tr><td style=\"padding-right:5px\"> $=$ </td><td style=\"align:center\">$\\exists{} x_{e} \\: . \\: ([\\lambda{} x_{e} \\: . \\: {Detective}({w}_{s}, {x}_{e})]({x}_{e}) \\wedge{} [\\lambda{} x_{e} \\: . \\: {LivesAt}({w}_{s}, {x}_{e}, {BakerSt221B}_{e})]({x}_{e}))$</td></tr><tr><td style=\"padding-right:5px\"> $=$ </td><td style=\"align:center\">$\\exists{} x_{e} \\: . \\: ({Detective}({w}_{s}, {x}_{e}) \\wedge{} {LivesAt}({w}_{s}, {x}_{e}, {BakerSt221B}_{e}))$</td></tr></table></td></tr></table>\n",
        "</td><td></td></tr></table>\n",
        "</td></tr></table></td><td style=\"vertical-align:bottom;padding-bottom:5px;padding-left:10px\"><b>[INT]</b></td></tr><tr style=\"border-top: 1px solid #848482\"><td align=\"center\"><table style=\"margin-top:10px\"><tr><td style=\"vertical-align:bottom\" align=\"center\">$||\\mathbf{\\text{INT([[a detective] [lives bakerst]])}}||^{{w}_{s}, g}_{\\langle{}s,t\\rangle{}}$</td></tr><tr><td style=\"vertical-align:bottom\" align=\"center\">$ = \\lambda{} w_{s} \\: . \\: \\exists{} x_{e} \\: . \\: ({Detective}({w}_{s}, {x}_{e}) \\wedge{} {LivesAt}({w}_{s}, {x}_{e}, {BakerSt221B}_{e}))$</td></tr></table>\n",
        "</td><td></td></tr></table>\n",
        "</td></tr></table></td><td style=\"vertical-align:bottom;padding-bottom:5px;padding-left:10px\"><b>[FA]</b></td></tr><tr style=\"border-top: 1px solid #848482\"><td align=\"center\"><table style=\"margin-top:10px\"><tr><td style=\"vertical-align:bottom\" align=\"center\">$||\\mathbf{\\text{[In the world of S.H. INT([[a detective] [lives bakerst]])]}}||^{{w}_{s}, g}_{t}$</td></tr><tr><td style=\"vertical-align:bottom\" align=\"center\"><table><tr><td style=\"padding-right:5px\"> $=$ </td><td style=\"align:center\">$[\\lambda{} p_{\\langle{}s,t\\rangle{}} \\: . \\: \\forall{} w2_{s} \\: . \\: ({CompatibleWithSHStories}({w}_{s}, {w2}_{s}) \\rightarrow{} {p}_{\\langle{}s,t\\rangle{}}({w2}_{s}))](\\lambda{} w_{s} \\: . \\: \\exists{} x_{e} \\: . \\: ({Detective}({w}_{s}, {x}_{e}) \\wedge{} {LivesAt}({w}_{s}, {x}_{e}, {BakerSt221B}_{e})))$</td></tr><tr><td style=\"padding-right:5px\"> $=$ </td><td style=\"align:center\">$\\forall{} w2_{s} \\: . \\: ({CompatibleWithSHStories}({w}_{s}, {w2}_{s}) \\rightarrow{} [\\lambda{} w_{s} \\: . \\: \\exists{} x_{e} \\: . \\: ({Detective}({w}_{s}, {x}_{e}) \\wedge{} {LivesAt}({w}_{s}, {x}_{e}, {BakerSt221B}_{e}))]({w2}_{s}))$</td></tr><tr><td style=\"padding-right:5px\"> $=$ </td><td style=\"align:center\">$\\forall{} w2_{s} \\: . \\: ({CompatibleWithSHStories}({w}_{s}, {w2}_{s}) \\rightarrow{} \\exists{} x_{e} \\: . \\: ({Detective}({w2}_{s}, {x}_{e}) \\wedge{} {LivesAt}({w2}_{s}, {x}_{e}, {BakerSt221B}_{e})))$</td></tr></table></td></tr></table>\n",
        "</td><td></td></tr></table>\n"
       ],
       "metadata": {},
       "output_type": "pyout",
       "prompt_number": 117,
       "text": [
        "<table><tr><td style=\"vertical-align:bottom;padding:0px 10px\" align=\"center\"><table><tr><td style=\"vertical-align:bottom\"><table align=\"center\"><tr><td align=\"center\">$||\\mathbf{\\text{In the world of S.H.}}||^{{w}_{s}, g}_{\\langle{}\\langle{}s,t\\rangle{},t\\rangle{}}$</td></tr><tr><td align=\"center\">$\\lambda{} p_{\\langle{}s,t\\rangle{}} \\: . \\: \\forall{} w2_{s} \\: . \\: ({CompatibleWithSHStories}({w}_{s}, {w2}_{s}) \\rightarrow{} {p}_{\\langle{}s,t\\rangle{}}({w2}_{s}))$</td></tr></table>\n",
        "</td><td style=\"vertical-align:bottom;padding-bottom:5px\">&nbsp;&nbsp;&nbsp;$\\circ$&nbsp;&nbsp;&nbsp;</td><td style=\"vertical-align:bottom\"><table><tr><td style=\"vertical-align:bottom;padding:0px 10px\" align=\"center\"><table><tr><td style=\"vertical-align:bottom\"><table><tr><td style=\"vertical-align:bottom;padding:0px 10px\" align=\"center\"><table><tr><td style=\"vertical-align:bottom\"><table><tr><td style=\"vertical-align:bottom;padding:0px 10px\" align=\"center\"><table><tr><td style=\"vertical-align:bottom\"><table align=\"center\"><tr><td align=\"center\">$||\\mathbf{\\text{a}}||^{{w}_{s}, g}_{\\langle{}\\langle{}e,t\\rangle{},\\langle{}\\langle{}e,t\\rangle{},t\\rangle{}\\rangle{}}$</td></tr><tr><td align=\"center\">$\\lambda{} f_{\\langle{}e,t\\rangle{}} \\: . \\: \\lambda{} g_{\\langle{}e,t\\rangle{}} \\: . \\: \\exists{} x_{e} \\: . \\: ({f}_{\\langle{}e,t\\rangle{}}({x}_{e}) \\wedge{} {g}_{\\langle{}e,t\\rangle{}}({x}_{e}))$</td></tr></table>\n",
        "</td><td style=\"vertical-align:bottom;padding-bottom:5px\">&nbsp;&nbsp;&nbsp;$\\circ$&nbsp;&nbsp;&nbsp;</td><td style=\"vertical-align:bottom\"><table align=\"center\"><tr><td align=\"center\">$||\\mathbf{\\text{detective}}||^{{w}_{s}, g}_{\\langle{}e,t\\rangle{}}$</td></tr><tr><td align=\"center\">$\\lambda{} x_{e} \\: . \\: {Detective}({w}_{s}, {x}_{e})$</td></tr></table>\n",
        "</td></tr></table></td><td style=\"vertical-align:bottom;padding-bottom:5px;padding-left:10px\"><b>[FA]</b></td></tr><tr style=\"border-top: 1px solid #848482\"><td align=\"center\"><table style=\"margin-top:10px\"><tr><td style=\"vertical-align:bottom\" align=\"center\">$||\\mathbf{\\text{[a detective]}}||^{{w}_{s}, g}_{\\langle{}\\langle{}e,t\\rangle{},t\\rangle{}}$</td></tr><tr><td style=\"vertical-align:bottom\" align=\"center\"><table><tr><td style=\"padding-right:5px\"> $=$ </td><td style=\"align:center\">$[\\lambda{} f_{\\langle{}e,t\\rangle{}} \\: . \\: \\lambda{} g_{\\langle{}e,t\\rangle{}} \\: . \\: \\exists{} x_{e} \\: . \\: ({f}_{\\langle{}e,t\\rangle{}}({x}_{e}) \\wedge{} {g}_{\\langle{}e,t\\rangle{}}({x}_{e}))](\\lambda{} x_{e} \\: . \\: {Detective}({w}_{s}, {x}_{e}))$</td></tr><tr><td style=\"padding-right:5px\"> $=$ </td><td style=\"align:center\">$\\lambda{} g_{\\langle{}e,t\\rangle{}} \\: . \\: \\exists{} x_{e} \\: . \\: ([\\lambda{} x_{e} \\: . \\: {Detective}({w}_{s}, {x}_{e})]({x}_{e}) \\wedge{} {g}_{\\langle{}e,t\\rangle{}}({x}_{e}))$</td></tr></table></td></tr></table>\n",
        "</td><td></td></tr></table>\n",
        "</td><td style=\"vertical-align:bottom;padding-bottom:5px\">&nbsp;&nbsp;&nbsp;$\\circ$&nbsp;&nbsp;&nbsp;</td><td style=\"vertical-align:bottom\"><table><tr><td style=\"vertical-align:bottom;padding:0px 10px\" align=\"center\"><table><tr><td style=\"vertical-align:bottom\"><table align=\"center\"><tr><td align=\"center\">$||\\mathbf{\\text{lives}}||^{{w}_{s}, g}_{\\langle{}e,\\langle{}e,t\\rangle{}\\rangle{}}$</td></tr><tr><td align=\"center\">$\\lambda{} y_{e} \\: . \\: \\lambda{} x_{e} \\: . \\: {LivesAt}({w}_{s}, {x}_{e}, {y}_{e})$</td></tr></table>\n",
        "</td><td style=\"vertical-align:bottom;padding-bottom:5px\">&nbsp;&nbsp;&nbsp;$\\circ$&nbsp;&nbsp;&nbsp;</td><td style=\"vertical-align:bottom\"><table align=\"center\"><tr><td align=\"center\">$||\\mathbf{\\text{bakerst}}||^{{w}_{s}, g}_{e}$</td></tr><tr><td align=\"center\">${BakerSt221B}_{e}$</td></tr></table>\n",
        "</td></tr></table></td><td style=\"vertical-align:bottom;padding-bottom:5px;padding-left:10px\"><b>[FA]</b></td></tr><tr style=\"border-top: 1px solid #848482\"><td align=\"center\"><table style=\"margin-top:10px\"><tr><td style=\"vertical-align:bottom\" align=\"center\">$||\\mathbf{\\text{[lives bakerst]}}||^{{w}_{s}, g}_{\\langle{}e,t\\rangle{}}$</td></tr><tr><td style=\"vertical-align:bottom\" align=\"center\"><table><tr><td style=\"padding-right:5px\"> $=$ </td><td style=\"align:center\">$[\\lambda{} y_{e} \\: . \\: \\lambda{} x_{e} \\: . \\: {LivesAt}({w}_{s}, {x}_{e}, {y}_{e})]({BakerSt221B}_{e})$</td></tr><tr><td style=\"padding-right:5px\"> $=$ </td><td style=\"align:center\">$\\lambda{} x_{e} \\: . \\: {LivesAt}({w}_{s}, {x}_{e}, {BakerSt221B}_{e})$</td></tr></table></td></tr></table>\n",
        "</td><td></td></tr></table>\n",
        "</td></tr></table></td><td style=\"vertical-align:bottom;padding-bottom:5px;padding-left:10px\"><b>[FA]</b></td></tr><tr style=\"border-top: 1px solid #848482\"><td align=\"center\"><table style=\"margin-top:10px\"><tr><td style=\"vertical-align:bottom\" align=\"center\">$||\\mathbf{\\text{[[a detective] [lives bakerst]]}}||^{{w}_{s}, g}_{t}$</td></tr><tr><td style=\"vertical-align:bottom\" align=\"center\"><table><tr><td style=\"padding-right:5px\"> $=$ </td><td style=\"align:center\">$[\\lambda{} g_{\\langle{}e,t\\rangle{}} \\: . \\: \\exists{} x_{e} \\: . \\: ([\\lambda{} x_{e} \\: . \\: {Detective}({w}_{s}, {x}_{e})]({x}_{e}) \\wedge{} {g}_{\\langle{}e,t\\rangle{}}({x}_{e}))](\\lambda{} x_{e} \\: . \\: {LivesAt}({w}_{s}, {x}_{e}, {BakerSt221B}_{e}))$</td></tr><tr><td style=\"padding-right:5px\"> $=$ </td><td style=\"align:center\">$\\exists{} x_{e} \\: . \\: ([\\lambda{} x_{e} \\: . \\: {Detective}({w}_{s}, {x}_{e})]({x}_{e}) \\wedge{} [\\lambda{} x_{e} \\: . \\: {LivesAt}({w}_{s}, {x}_{e}, {BakerSt221B}_{e})]({x}_{e}))$</td></tr><tr><td style=\"padding-right:5px\"> $=$ </td><td style=\"align:center\">$\\exists{} x_{e} \\: . \\: ({Detective}({w}_{s}, {x}_{e}) \\wedge{} {LivesAt}({w}_{s}, {x}_{e}, {BakerSt221B}_{e}))$</td></tr></table></td></tr></table>\n",
        "</td><td></td></tr></table>\n",
        "</td></tr></table></td><td style=\"vertical-align:bottom;padding-bottom:5px;padding-left:10px\"><b>[INT]</b></td></tr><tr style=\"border-top: 1px solid #848482\"><td align=\"center\"><table style=\"margin-top:10px\"><tr><td style=\"vertical-align:bottom\" align=\"center\">$||\\mathbf{\\text{INT([[a detective] [lives bakerst]])}}||^{{w}_{s}, g}_{\\langle{}s,t\\rangle{}}$</td></tr><tr><td style=\"vertical-align:bottom\" align=\"center\">$ = \\lambda{} w_{s} \\: . \\: \\exists{} x_{e} \\: . \\: ({Detective}({w}_{s}, {x}_{e}) \\wedge{} {LivesAt}({w}_{s}, {x}_{e}, {BakerSt221B}_{e}))$</td></tr></table>\n",
        "</td><td></td></tr></table>\n",
        "</td></tr></table></td><td style=\"vertical-align:bottom;padding-bottom:5px;padding-left:10px\"><b>[FA]</b></td></tr><tr style=\"border-top: 1px solid #848482\"><td align=\"center\"><table style=\"margin-top:10px\"><tr><td style=\"vertical-align:bottom\" align=\"center\">$||\\mathbf{\\text{[In the world of S.H. INT([[a detective] [lives bakerst]])]}}||^{{w}_{s}, g}_{t}$</td></tr><tr><td style=\"vertical-align:bottom\" align=\"center\"><table><tr><td style=\"padding-right:5px\"> $=$ </td><td style=\"align:center\">$[\\lambda{} p_{\\langle{}s,t\\rangle{}} \\: . \\: \\forall{} w2_{s} \\: . \\: ({CompatibleWithSHStories}({w}_{s}, {w2}_{s}) \\rightarrow{} {p}_{\\langle{}s,t\\rangle{}}({w2}_{s}))](\\lambda{} w_{s} \\: . \\: \\exists{} x_{e} \\: . \\: ({Detective}({w}_{s}, {x}_{e}) \\wedge{} {LivesAt}({w}_{s}, {x}_{e}, {BakerSt221B}_{e})))$</td></tr><tr><td style=\"padding-right:5px\"> $=$ </td><td style=\"align:center\">$\\forall{} w2_{s} \\: . \\: ({CompatibleWithSHStories}({w}_{s}, {w2}_{s}) \\rightarrow{} [\\lambda{} w_{s} \\: . \\: \\exists{} x_{e} \\: . \\: ({Detective}({w}_{s}, {x}_{e}) \\wedge{} {LivesAt}({w}_{s}, {x}_{e}, {BakerSt221B}_{e}))]({w2}_{s}))$</td></tr><tr><td style=\"padding-right:5px\"> $=$ </td><td style=\"align:center\">$\\forall{} w2_{s} \\: . \\: ({CompatibleWithSHStories}({w}_{s}, {w2}_{s}) \\rightarrow{} \\exists{} x_{e} \\: . \\: ({Detective}({w2}_{s}, {x}_{e}) \\wedge{} {LivesAt}({w2}_{s}, {x}_{e}, {BakerSt221B}_{e})))$</td></tr></table></td></tr></table>\n",
        "</td><td></td></tr></table>"
       ]
      }
     ],
     "prompt_number": 117
    },
    {
     "cell_type": "code",
     "collapsed": false,
     "input": [],
     "language": "python",
     "metadata": {},
     "outputs": [],
     "prompt_number": 117
    },
    {
     "cell_type": "markdown",
     "metadata": {},
     "source": [
      "Beginnings of attitude verbs, still needs work:"
     ]
    },
    {
     "cell_type": "code",
     "collapsed": false,
     "input": [
      "%%lamb \n",
      "dox = Dox_<(e,s,s),t>\n",
      "||believe|| = L p_<s,t> : L x_e : Forall w2_s : dox(x, w, w2) >> p(w2)"
     ],
     "language": "python",
     "metadata": {},
     "outputs": [
      {
       "latex": [
        "${dox}_{\\langle{}(e, s, s),t\\rangle{}}\\:=\\:{Dox}$<br />\n",
        "$||\\mathbf{\\text{believe}}||^{{w}_{s}, g}_{\\langle{}\\langle{}s,t\\rangle{},\\langle{}e,t\\rangle{}\\rangle{}} \\:=\\: \\lambda{} p_{\\langle{}s,t\\rangle{}} \\: . \\: \\lambda{} x_{e} \\: . \\: \\forall{} w2_{s} \\: . \\: ({Dox}({x}_{e}, {w}_{s}, {w2}_{s}) \\rightarrow{} {p}_{\\langle{}s,t\\rangle{}}({w2}_{s}))$"
       ],
       "metadata": {},
       "output_type": "pyout",
       "prompt_number": 118,
       "text": [
        "${dox}_{\\langle{}(e, s, s),t\\rangle{}}\\:=\\:{Dox}$<br />\n",
        "$||\\mathbf{\\text{believe}}||^{{w}_{s}, g}_{\\langle{}\\langle{}s,t\\rangle{},\\langle{}e,t\\rangle{}\\rangle{}} \\:=\\: \\lambda{} p_{\\langle{}s,t\\rangle{}} \\: . \\: \\lambda{} x_{e} \\: . \\: \\forall{} w2_{s} \\: . \\: ({Dox}({x}_{e}, {w}_{s}, {w2}_{s}) \\rightarrow{} {p}_{\\langle{}s,t\\rangle{}}({w2}_{s}))$"
       ]
      }
     ],
     "prompt_number": 118
    },
    {
     "cell_type": "code",
     "collapsed": false,
     "input": [
      "lang.tp(\"<(e,s,s),t>\")"
     ],
     "language": "python",
     "metadata": {},
     "outputs": [
      {
       "latex": [
        "$\\langle{}(e, s, s),t\\rangle{}$"
       ],
       "metadata": {},
       "output_type": "pyout",
       "prompt_number": 119,
       "text": [
        "<(e,s,s),t>"
       ]
      }
     ],
     "prompt_number": 119
    },
    {
     "cell_type": "code",
     "collapsed": false,
     "input": [
      "lang.te(\"f_<s,{<s,t>}>\")"
     ],
     "language": "python",
     "metadata": {},
     "outputs": [
      {
       "latex": [
        "${f}_{\\langle{}s,\\{\\langle{}s,t\\rangle{}\\}\\rangle{}}$"
       ],
       "metadata": {},
       "output_type": "pyout",
       "prompt_number": 120,
       "text": [
        "f_<s,{<s,t>}>"
       ]
      }
     ],
     "prompt_number": 120
    },
    {
     "cell_type": "code",
     "collapsed": false,
     "input": [
      "%%lamb\n",
      "dox = Dox_<(e,s),<s,t>>\n",
      "||believe|| = L p_<s,t> : L x_e : Forall w2_s : dox(x, w)(w2) >> p(w2)"
     ],
     "language": "python",
     "metadata": {},
     "outputs": [
      {
       "latex": [
        "${dox}_{\\langle{}(e, s),\\langle{}s,t\\rangle{}\\rangle{}}\\:=\\:{Dox}_{\\langle{}(e, s),\\langle{}s,t\\rangle{}\\rangle{}}$<br />\n",
        "$||\\mathbf{\\text{believe}}||^{{w}_{s}, g}_{\\langle{}\\langle{}s,t\\rangle{},\\langle{}e,t\\rangle{}\\rangle{}} \\:=\\: \\lambda{} p_{\\langle{}s,t\\rangle{}} \\: . \\: \\lambda{} x_{e} \\: . \\: \\forall{} w2_{s} \\: . \\: ({Dox}_{\\langle{}(e, s),\\langle{}s,t\\rangle{}\\rangle{}}({x}_{e}, {w}_{s})({w2}_{s}) \\rightarrow{} {p}_{\\langle{}s,t\\rangle{}}({w2}_{s}))$"
       ],
       "metadata": {},
       "output_type": "pyout",
       "prompt_number": 121,
       "text": [
        "${dox}_{\\langle{}(e, s),\\langle{}s,t\\rangle{}\\rangle{}}\\:=\\:{Dox}_{\\langle{}(e, s),\\langle{}s,t\\rangle{}\\rangle{}}$<br />\n",
        "$||\\mathbf{\\text{believe}}||^{{w}_{s}, g}_{\\langle{}\\langle{}s,t\\rangle{},\\langle{}e,t\\rangle{}\\rangle{}} \\:=\\: \\lambda{} p_{\\langle{}s,t\\rangle{}} \\: . \\: \\lambda{} x_{e} \\: . \\: \\forall{} w2_{s} \\: . \\: ({Dox}_{\\langle{}(e, s),\\langle{}s,t\\rangle{}\\rangle{}}({x}_{e}, {w}_{s})({w2}_{s}) \\rightarrow{} {p}_{\\langle{}s,t\\rangle{}}({w2}_{s}))$"
       ]
      }
     ],
     "prompt_number": 121
    },
    {
     "cell_type": "code",
     "collapsed": false,
     "input": [
      "%%lamb\n",
      "dox = Dox_<(e,s),{<s,t>}>\n",
      "bigcap = L a_{<s,t>} : Set w_s : Forall p_<s,t> : (p << a) & p(w)\n",
      "||believe|| = L p_<s,t> : L x_e : Forall w2_s : w2 << bigcap(dox(x, w_s)) >> p(w2)"
     ],
     "language": "python",
     "metadata": {},
     "outputs": [
      {
       "latex": [
        "${dox}_{\\langle{}(e, s),\\{\\langle{}s,t\\rangle{}\\}\\rangle{}}\\:=\\:{Dox}_{\\langle{}(e, s),\\{\\langle{}s,t\\rangle{}\\}\\rangle{}}$<br />\n",
        "${bigcap}_{\\langle{}\\{\\langle{}s,t\\rangle{}\\},\\{s\\}\\rangle{}}\\:=\\:\\lambda{} a_{\\{\\langle{}s,t\\rangle{}\\}} \\: . \\: \\{w_{s}\\:|\\: \\forall{} p_{\\langle{}s,t\\rangle{}} \\: . \\: (({p}_{\\langle{}s,t\\rangle{}} \\in{} {a}_{\\{\\langle{}s,t\\rangle{}\\}}) \\wedge{} {p}_{\\langle{}s,t\\rangle{}}({w}_{s}))\\}$<br />\n",
        "$||\\mathbf{\\text{believe}}||^{{w}_{s}, g}_{\\langle{}\\langle{}s,t\\rangle{},\\langle{}e,t\\rangle{}\\rangle{}} \\:=\\: \\lambda{} p_{\\langle{}s,t\\rangle{}} \\: . \\: \\lambda{} x_{e} \\: . \\: \\forall{} w2_{s} \\: . \\: (({w2}_{s} \\in{} [\\lambda{} a_{\\{\\langle{}s,t\\rangle{}\\}} \\: . \\: \\{w_{s}\\:|\\: \\forall{} p_{\\langle{}s,t\\rangle{}} \\: . \\: (({p}_{\\langle{}s,t\\rangle{}} \\in{} {a}_{\\{\\langle{}s,t\\rangle{}\\}}) \\wedge{} {p}_{\\langle{}s,t\\rangle{}}({w}_{s}))\\}]({Dox}_{\\langle{}(e, s),\\{\\langle{}s,t\\rangle{}\\}\\rangle{}}({x}_{e}, {w}_{s}))) \\rightarrow{} {p}_{\\langle{}s,t\\rangle{}}({w2}_{s}))$"
       ],
       "metadata": {},
       "output_type": "pyout",
       "prompt_number": 126,
       "text": [
        "${dox}_{\\langle{}(e, s),\\{\\langle{}s,t\\rangle{}\\}\\rangle{}}\\:=\\:{Dox}_{\\langle{}(e, s),\\{\\langle{}s,t\\rangle{}\\}\\rangle{}}$<br />\n",
        "${bigcap}_{\\langle{}\\{\\langle{}s,t\\rangle{}\\},\\{s\\}\\rangle{}}\\:=\\:\\lambda{} a_{\\{\\langle{}s,t\\rangle{}\\}} \\: . \\: \\{w_{s}\\:|\\: \\forall{} p_{\\langle{}s,t\\rangle{}} \\: . \\: (({p}_{\\langle{}s,t\\rangle{}} \\in{} {a}_{\\{\\langle{}s,t\\rangle{}\\}}) \\wedge{} {p}_{\\langle{}s,t\\rangle{}}({w}_{s}))\\}$<br />\n",
        "$||\\mathbf{\\text{believe}}||^{{w}_{s}, g}_{\\langle{}\\langle{}s,t\\rangle{},\\langle{}e,t\\rangle{}\\rangle{}} \\:=\\: \\lambda{} p_{\\langle{}s,t\\rangle{}} \\: . \\: \\lambda{} x_{e} \\: . \\: \\forall{} w2_{s} \\: . \\: (({w2}_{s} \\in{} [\\lambda{} a_{\\{\\langle{}s,t\\rangle{}\\}} \\: . \\: \\{w_{s}\\:|\\: \\forall{} p_{\\langle{}s,t\\rangle{}} \\: . \\: (({p}_{\\langle{}s,t\\rangle{}} \\in{} {a}_{\\{\\langle{}s,t\\rangle{}\\}}) \\wedge{} {p}_{\\langle{}s,t\\rangle{}}({w}_{s}))\\}]({Dox}_{\\langle{}(e, s),\\{\\langle{}s,t\\rangle{}\\}\\rangle{}}({x}_{e}, {w}_{s}))) \\rightarrow{} {p}_{\\langle{}s,t\\rangle{}}({w2}_{s}))$"
       ]
      }
     ],
     "prompt_number": 126
    },
    {
     "cell_type": "code",
     "collapsed": false,
     "input": [
      "believe.reduce_all() # can simplify this one slightly"
     ],
     "language": "python",
     "metadata": {},
     "outputs": [
      {
       "latex": [
        "$||\\mathbf{\\text{believe}}||^{{w}_{s}, g}_{\\langle{}\\langle{}s,t\\rangle{},\\langle{}e,t\\rangle{}\\rangle{}} \\:=\\: $$\\lambda{} p_{\\langle{}s,t\\rangle{}} \\: . \\: \\lambda{} x_{e} \\: . \\: \\forall{} w2_{s} \\: . \\: (\\forall{} p_{\\langle{}s,t\\rangle{}} \\: . \\: (({p}_{\\langle{}s,t\\rangle{}} \\in{} {Dox}_{\\langle{}(e, s),\\{\\langle{}s,t\\rangle{}\\}\\rangle{}}({x}_{e}, {w}_{s})) \\wedge{} {p}_{\\langle{}s,t\\rangle{}}({w2}_{s})) \\rightarrow{} {p}_{\\langle{}s,t\\rangle{}}({w2}_{s}))$"
       ],
       "metadata": {},
       "output_type": "pyout",
       "prompt_number": 127,
       "text": [
        "||believe||[w_s, type s, g] = (\u03bb p_<s,t>: (\u03bb x_e: (Forall w2_s: ((Forall p_<s,t>: ((p_<s,t> \u2208 Dox_<(e,s),{<s,t>}>(x_e, w_s)) & p_<s,t>(w2_s))) >> p_<s,t>(w2_s)))))"
       ]
      }
     ],
     "prompt_number": 127
    },
    {
     "cell_type": "code",
     "collapsed": false,
     "input": [
      "(believe * (simple * None)).reduce_all() # why is reduce_all needed?"
     ],
     "language": "python",
     "metadata": {},
     "outputs": [
      {
       "latex": [
        "1 composition path.  Result:\n",
        "<br />&nbsp;&nbsp;&nbsp;&nbsp;[0]: $||\\mathbf{\\text{[believe INT([[a detective] [lives bakerst]])]}}||^{{w}_{s}, g}_{\\langle{}e,t\\rangle{}} \\:=\\: $$\\lambda{} x_{e} \\: . \\: \\forall{} w2_{s} \\: . \\: (\\forall{} p_{\\langle{}s,t\\rangle{}} \\: . \\: (({p}_{\\langle{}s,t\\rangle{}} \\in{} {Dox}_{\\langle{}(e, s),\\{\\langle{}s,t\\rangle{}\\}\\rangle{}}({x}_{e}, {w}_{s})) \\wedge{} {p}_{\\langle{}s,t\\rangle{}}({w2}_{s})) \\rightarrow{} \\exists{} x_{e} \\: . \\: ({Detective}({w2}_{s}, {x}_{e}) \\wedge{} {LivesAt}({w2}_{s}, {x}_{e}, {BakerSt221B}_{e})))$"
       ],
       "metadata": {},
       "output_type": "pyout",
       "prompt_number": 133,
       "text": [
        "CompositionResult(results=[||[believe INT([[a detective] [lives bakerst]])]||[w_s, type s, g] = (\u03bb x_e: (Forall w2_s: ((Forall p_<s,t>: ((p_<s,t> \u2208 Dox_<(e,s),{<s,t>}>(x_e, w_s)) & p_<s,t>(w2_s))) >> (Exists x_e: (Detective_<(s,e),t>(w2_s, x_e) & LivesAt_<(s,e,e),t>(w2_s, x_e, BakerSt221B_e))))))], failures=[||[INT([[a detective] [lives bakerst]]) believe]||[w_s, type s, g] = Type mismatch: '||INT([[a detective] [lives bakerst]])||[w_s, type s, g] = (\u03bb w_s: (Exists x_e: (Detective_<(s,e),t>(w_s, x_e) & LivesAt_<(s,e,e),t>(w_s, x_e, BakerSt221B_e))))'/<s,t> and '||believe||[w_s, type s, g] = (\u03bb p_<s,t>: (\u03bb x_e: (Forall w2_s: ((Forall p_<s,t>: ((p_<s,t> \u2208 Dox_<(e,s),{<s,t>}>(x_e, w_s)) & p_<s,t>(w2_s))) >> p_<s,t>(w2_s)))))'/<<s,t>,<e,t>> conflict (mode: Function Application), ||[believe INT([[a detective] [lives bakerst]])]||[w_s, type s, g] = Type mismatch: '||believe||[w_s, type s, g] = (\u03bb p_<s,t>: (\u03bb x_e: (Forall w2_s: ((Forall p_<s,t>: ((p_<s,t> \u2208 Dox_<(e,s),{<s,t>}>(x_e, w_s)) & p_<s,t>(w2_s))) >> p_<s,t>(w2_s)))))'/<<s,t>,<e,t>> and '||INT([[a detective] [lives bakerst]])||[w_s, type s, g] = (\u03bb w_s: (Exists x_e: (Detective_<(s,e),t>(w_s, x_e) & LivesAt_<(s,e,e),t>(w_s, x_e, BakerSt221B_e))))'/<s,t> conflict (mode: Predicate Modification), ||[believe INT([[a detective] [lives bakerst]])]||[w_s, type s, g] = Type mismatch: '||believe||[w_s, type s, g] = (\u03bb p_<s,t>: (\u03bb x_e: (Forall w2_s: ((Forall p_<s,t>: ((p_<s,t> \u2208 Dox_<(e,s),{<s,t>}>(x_e, w_s)) & p_<s,t>(w2_s))) >> p_<s,t>(w2_s)))))'/<<s,t>,<e,t>> and '||INT([[a detective] [lives bakerst]])||[w_s, type s, g] = (\u03bb w_s: (Exists x_e: (Detective_<(s,e),t>(w_s, x_e) & LivesAt_<(s,e,e),t>(w_s, x_e, BakerSt221B_e))))'/<s,t> conflict (mode: Predicate Abstraction), ||[INT([[a detective] [lives bakerst]]) believe]||[w_s, type s, g] = Type mismatch: '||INT([[a detective] [lives bakerst]])||[w_s, type s, g] = (\u03bb w_s: (Exists x_e: (Detective_<(s,e),t>(w_s, x_e) & LivesAt_<(s,e,e),t>(w_s, x_e, BakerSt221B_e))))'/<s,t> and '||believe||[w_s, type s, g] = (\u03bb p_<s,t>: (\u03bb x_e: (Forall w2_s: ((Forall p_<s,t>: ((p_<s,t> \u2208 Dox_<(e,s),{<s,t>}>(x_e, w_s)) & p_<s,t>(w2_s))) >> p_<s,t>(w2_s)))))'/<<s,t>,<e,t>> conflict (mode: Predicate Abstraction)])"
       ]
      }
     ],
     "prompt_number": 133
    },
    {
     "cell_type": "code",
     "collapsed": false,
     "input": [],
     "language": "python",
     "metadata": {},
     "outputs": []
    }
   ],
   "metadata": {}
  }
 ]
}