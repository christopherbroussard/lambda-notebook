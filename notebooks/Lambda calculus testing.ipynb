{
 "metadata": {
  "name": ""
 },
 "nbformat": 3,
 "nbformat_minor": 0,
 "worksheets": [
  {
   "cells": [
    {
     "cell_type": "markdown",
     "metadata": {},
     "source": [
      "# Lambda calculus testing\n",
      "## Author: Kyle Rawlins\n",
      "\n",
      "This notebook contains various examples that can be useful for testing that beta reduction is working correctly (among other things).  They also may be helpful for understanding how variable renaming works in the lambda notebook."
     ]
    },
    {
     "cell_type": "code",
     "collapsed": false,
     "input": [
      "lamb.reload_all()"
     ],
     "language": "python",
     "metadata": {},
     "outputs": [],
     "prompt_number": 5
    },
    {
     "cell_type": "code",
     "collapsed": false,
     "input": [
      "x = lang.te(\"x_e\")\n",
      "y = lang.te(\"y_e\")\n",
      "z = lang.te(\"z_e\")"
     ],
     "language": "python",
     "metadata": {},
     "outputs": [],
     "prompt_number": 6
    },
    {
     "cell_type": "code",
     "collapsed": false,
     "input": [
      "test2 = lang.te(\"L y_e : L x_e : y_e\")\n",
      "test2(x)"
     ],
     "language": "python",
     "metadata": {},
     "outputs": [
      {
       "latex": [
        "$[\\lambda{} y_{e} \\: . \\: \\lambda{} x_{e} \\: . \\: {y}_{e}]({x}_{e})$"
       ],
       "metadata": {},
       "output_type": "pyout",
       "prompt_number": 7,
       "text": [
        "[(\u03bb y). (\u03bb x). y](x)"
       ]
      }
     ],
     "prompt_number": 7
    },
    {
     "cell_type": "code",
     "collapsed": false,
     "input": [
      "test2.apply(x)"
     ],
     "language": "python",
     "metadata": {},
     "outputs": [
      {
       "latex": [
        "$\\lambda{} x1_{e} \\: . \\: {x}_{e}$"
       ],
       "metadata": {},
       "output_type": "pyout",
       "prompt_number": 8,
       "text": [
        "(\u03bb x1). x"
       ]
      }
     ],
     "prompt_number": 8
    },
    {
     "cell_type": "code",
     "collapsed": false,
     "input": [
      "meta.alpha_convert_new(test2, {\"y\"})"
     ],
     "language": "python",
     "metadata": {},
     "outputs": [
      {
       "latex": [
        "$\\lambda{} y1_{e} \\: . \\: \\lambda{} x_{e} \\: . \\: {y1}_{e}$"
       ],
       "metadata": {},
       "output_type": "pyout",
       "prompt_number": 10,
       "text": [
        "(\u03bb y1). (\u03bb x). y1"
       ]
      }
     ],
     "prompt_number": 10
    },
    {
     "cell_type": "code",
     "collapsed": false,
     "input": [
      "test3 = lang.te(\"L y_e : L y1_e : P(y_e) & q_t\")\n",
      "test3"
     ],
     "language": "python",
     "metadata": {},
     "outputs": [
      {
       "output_type": "stream",
       "stream": "stderr",
       "text": [
        "INFO (meta): Coerced guessed type t for 'P' into <e,t>, to match argument 'y'\n"
       ]
      },
      {
       "latex": [
        "$\\lambda{} y_{e} \\: . \\: \\lambda{} y1_{e} \\: . \\: ({P}({y}_{e}) \\wedge{} {q}_{t})$"
       ],
       "metadata": {},
       "output_type": "pyout",
       "prompt_number": 11,
       "text": [
        "(\u03bb y). (\u03bb y1). (P(y) & q)"
       ]
      }
     ],
     "prompt_number": 11
    },
    {
     "cell_type": "code",
     "collapsed": false,
     "input": [
      "meta.alpha_convert_new(test3, {\"x\", \"y\", \"q\"})"
     ],
     "language": "python",
     "metadata": {},
     "outputs": [
      {
       "latex": [
        "$\\lambda{} y2_{e} \\: . \\: \\lambda{} y1_{e} \\: . \\: ({P}({y2}_{e}) \\wedge{} {q}_{t})$"
       ],
       "metadata": {},
       "output_type": "pyout",
       "prompt_number": 12,
       "text": [
        "(\u03bb y2). (\u03bb y1). (P(y2) & q)"
       ]
      }
     ],
     "prompt_number": 12
    },
    {
     "cell_type": "code",
     "collapsed": false,
     "input": [
      "meta.pmw_test1"
     ],
     "language": "python",
     "metadata": {},
     "outputs": [
      {
       "latex": [
        "$\\lambda{} p_{t} \\: . \\: \\lambda{} x_{e} \\: . \\: ({P}({x}_{e}) \\wedge{} {p}_{t})$"
       ],
       "metadata": {},
       "output_type": "pyout",
       "prompt_number": 13,
       "text": [
        "(\u03bb p). (\u03bb x). (P(x) & p)"
       ]
      }
     ],
     "prompt_number": 13
    },
    {
     "cell_type": "code",
     "collapsed": false,
     "input": [
      "meta.pmw_test1b"
     ],
     "language": "python",
     "metadata": {},
     "outputs": [
      {
       "latex": [
        "$\\lambda{} x_{e} \\: . \\: ({P}({x}_{e}) \\wedge{} {Q}({x}_{e}))$"
       ],
       "metadata": {},
       "output_type": "pyout",
       "prompt_number": 14,
       "text": [
        "(\u03bb x). (P(x) & Q(x))"
       ]
      }
     ],
     "prompt_number": 14
    },
    {
     "cell_type": "code",
     "collapsed": false,
     "input": [
      "meta.pmw_test1(meta.t2)"
     ],
     "language": "python",
     "metadata": {},
     "outputs": [
      {
       "latex": [
        "$[\\lambda{} p_{t} \\: . \\: \\lambda{} x_{e} \\: . \\: ({P}({x}_{e}) \\wedge{} {p}_{t})]({Q}({x}_{e}))$"
       ],
       "metadata": {},
       "output_type": "pyout",
       "prompt_number": 15,
       "text": [
        "[(\u03bb p). (\u03bb x). (P(x) & p)](Q(x))"
       ]
      }
     ],
     "prompt_number": 15
    },
    {
     "cell_type": "code",
     "collapsed": false,
     "input": [
      "meta.pmw_test1(meta.t2).reduce().derivation"
     ],
     "language": "python",
     "metadata": {},
     "outputs": [
      {
       "latex": [
        "<table><tr><td style=\"padding-right:5px\"> 1. </td><td style=\"padding-right:5px\">$[\\lambda{} p_{t} \\: . \\: \\lambda{} x_{e} \\: . \\: ({P}({x}_{e}) \\wedge{} {p}_{t})]({Q}({x}_{e}))$</td><td style=\"padding-left:10px;border-left:1px solid #848482\"></td></tr><tr><td style=\"padding-right:5px\"> 2. </td><td style=\"padding-right:5px\">$\\lambda{} x1_{e} \\: . \\: ({P}({x1}_{e}) \\wedge{} {Q}({x}_{e}))$</td><td style=\"padding-left:10px;border-left:1px solid #848482\">F-A reduction</td></tr></table>"
       ],
       "metadata": {},
       "output_type": "pyout",
       "prompt_number": 16,
       "text": [
        "<lamb.meta.Derivation at 0x104296050>"
       ]
      }
     ],
     "prompt_number": 16
    },
    {
     "cell_type": "code",
     "collapsed": false,
     "input": [
      "test4 = lang.te(\"L x_e : x\")\n",
      "test4"
     ],
     "language": "python",
     "metadata": {},
     "outputs": [
      {
       "latex": [
        "$\\lambda{} x_{e} \\: . \\: {x}_{e}$"
       ],
       "metadata": {},
       "output_type": "pyout",
       "prompt_number": 17,
       "text": [
        "(\u03bb x). x"
       ]
      }
     ],
     "prompt_number": 17
    },
    {
     "cell_type": "code",
     "collapsed": false,
     "input": [
      "test4(x)"
     ],
     "language": "python",
     "metadata": {},
     "outputs": [
      {
       "latex": [
        "$[\\lambda{} x_{e} \\: . \\: {x}_{e}]({x}_{e})$"
       ],
       "metadata": {},
       "output_type": "pyout",
       "prompt_number": 18,
       "text": [
        "[(\u03bb x). x](x)"
       ]
      }
     ],
     "prompt_number": 18
    },
    {
     "cell_type": "code",
     "collapsed": false,
     "input": [
      "r = meta.pmw_test1(meta.t2).reduce()\n",
      "r.derivation"
     ],
     "language": "python",
     "metadata": {},
     "outputs": [
      {
       "latex": [
        "<table><tr><td style=\"padding-right:5px\"> 1. </td><td style=\"padding-right:5px\">$[\\lambda{} p_{t} \\: . \\: \\lambda{} x_{e} \\: . \\: ({P}({x}_{e}) \\wedge{} {p}_{t})]({Q}({x}_{e}))$</td><td style=\"padding-left:10px;border-left:1px solid #848482\"></td></tr><tr><td style=\"padding-right:5px\"> 2. </td><td style=\"padding-right:5px\">$\\lambda{} x1_{e} \\: . \\: ({P}({x1}_{e}) \\wedge{} {Q}({x}_{e}))$</td><td style=\"padding-left:10px;border-left:1px solid #848482\">F-A reduction</td></tr></table>"
       ],
       "metadata": {},
       "output_type": "pyout",
       "prompt_number": 20,
       "text": [
        "<lamb.meta.Derivation at 0x104298590>"
       ]
      }
     ],
     "prompt_number": 20
    },
    {
     "cell_type": "code",
     "collapsed": false,
     "input": [],
     "language": "python",
     "metadata": {},
     "outputs": [],
     "prompt_number": 20
    },
    {
     "cell_type": "code",
     "collapsed": false,
     "input": [
      "reload_lamb()\n",
      "meta.TypedExpr.try_parse_op_expr(\"lambda x_e:P_<e,t>(x)\")"
     ],
     "language": "python",
     "metadata": {},
     "outputs": [
      {
       "latex": [
        "$\\lambda{} x_{e} \\: . \\: {P}({x}_{e})$"
       ],
       "metadata": {},
       "output_type": "pyout",
       "prompt_number": 21,
       "text": [
        "(\u03bb x). P(x)"
       ]
      }
     ],
     "prompt_number": 21
    },
    {
     "cell_type": "code",
     "collapsed": false,
     "input": [
      "lang.te(\"L y_e : Exists x_e : P(x_e)(y)\")(lang.te(\"x_e\")).reduce().derivation"
     ],
     "language": "python",
     "metadata": {},
     "outputs": [
      {
       "output_type": "stream",
       "stream": "stderr",
       "text": [
        "INFO (meta): Coerced guessed type t for 'P' into <e,t>, to match argument 'x'\n"
       ]
      },
      {
       "output_type": "stream",
       "stream": "stderr",
       "text": [
        "INFO (meta): Coerced guessed type t for 'P(x)' into <e,t>, to match argument 'y'\n"
       ]
      },
      {
       "latex": [
        "<table><tr><td style=\"padding-right:5px\"> 1. </td><td style=\"padding-right:5px\">$[\\lambda{} y_{e} \\: . \\: \\exists{} x_{e} \\: . \\: {P}_{\\langle{}e,\\langle{}e,t\\rangle{}\\rangle{}}({x}_{e})({y}_{e})]({x}_{e})$</td><td style=\"padding-left:10px;border-left:1px solid #848482\"></td></tr><tr><td style=\"padding-right:5px\"> 2. </td><td style=\"padding-right:5px\">$\\exists{} x1_{e} \\: . \\: {P}_{\\langle{}e,\\langle{}e,t\\rangle{}\\rangle{}}({x1}_{e})({x}_{e})$</td><td style=\"padding-left:10px;border-left:1px solid #848482\">F-A reduction</td></tr></table>"
       ],
       "metadata": {},
       "output_type": "pyout",
       "prompt_number": 23,
       "text": [
        "<lamb.meta.Derivation at 0x102df6a90>"
       ]
      }
     ],
     "prompt_number": 23
    },
    {
     "cell_type": "code",
     "collapsed": false,
     "input": [],
     "language": "python",
     "metadata": {},
     "outputs": []
    }
   ],
   "metadata": {}
  }
 ]
}