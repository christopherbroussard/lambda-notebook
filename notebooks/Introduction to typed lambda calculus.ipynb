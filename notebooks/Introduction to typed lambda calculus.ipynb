{
 "metadata": {
  "name": "",
  "signature": "sha256:6181ab47243bc30a28b5d3bb2278af359ab7ae72fb8ad4babb691bb5653e2ccb"
 },
 "nbformat": 3,
 "nbformat_minor": 0,
 "worksheets": [
  {
   "cells": [
    {
     "cell_type": "markdown",
     "metadata": {},
     "source": [
      "# A short introduction to the typed lambda calculus in the IPython Lambda Notebook\n",
      "\n",
      "### Notebook author: Kyle Rawlins\n",
      "\n",
      "This notebook introduces the typed lambda calculus in the context of the IPython Lambda Notebook.  It presupposes some knowledge of how similar formalisms are used in compositional semantics.  It also isn't intended to generally introduce the lambda notebook's metalanguage."
     ]
    },
    {
     "cell_type": "markdown",
     "metadata": {},
     "source": [
      "In formal semantics, compositionality is typically modeled by the interaction of (potentially higher order) functions, and this interaction is guided by syntactic structure.  Functions are typically characterized using a typed lambda calculus.  An untyped lambda calculus uses representations like $\\lambda x \\: \\alpha $ to characterize a function that given some $x$, returns $\\alpha$.  A typed lambda calculus uses a system of types to place constraints on both $x$ and $\\alpha$, effectively describing the domain and range of the function explicitly.  (Often, types are actually defined in terms of sets, but here I will not do that.)\n",
      "\n",
      "The two core types in (extensional) formal semantics are $e$ (for entities), and $t$, for truth-values.  A function is a pair of types.  An inductive definition of types therefore often takes this form:\n",
      "\n",
      " 1. $e$ and $t$ are types.\n",
      " 2. If $\\alpha $ and $\\beta $ are types, then so is $\\langle \\alpha, \\beta \\rangle $.\n",
      " 3. Nothing else is a type.\n",
      " \n",
      "Rule 2 is recursive.  So, the type $\\langle e, t \\rangle$ characterizes functions whose domain is the set of entities, and whose range is the set of truth-values.  $\\langle \\langle e, t \\rangle, t \\rangle$ is the type of a function whose input is a function of type $\\langle e, t \\rangle$, and whose output is type $t$ (the type of a generalized quantifier). In the Lambda Notebook, types are written in a similar way, and $e$ and $t$ are built in.  The following shows how to construct these three types using the built-in `tp` (for type parser) function, which parses strings into Type objects."
     ]
    },
    {
     "cell_type": "code",
     "collapsed": false,
     "input": [
      "ltx_print(tp(\"e\"),\n",
      "          tp(\"<e,t>\"),\n",
      "          tp(\"<<e,t>,t>\"))"
     ],
     "language": "python",
     "metadata": {},
     "outputs": [
      {
       "latex": [
        "$e$<br />$\\langle{}e,t\\rangle{}$<br />$\\langle{}\\langle{}e,t\\rangle{},t\\rangle{}$<br />"
       ],
       "metadata": {},
       "output_type": "pyout",
       "prompt_number": 32,
       "text": [
        "$e$<br />$\\langle{}e,t\\rangle{}$<br />$\\langle{}\\langle{}e,t\\rangle{},t\\rangle{}$<br />"
       ]
      }
     ],
     "prompt_number": 32
    },
    {
     "cell_type": "markdown",
     "metadata": {},
     "source": [
      "All expressions in the Lambda Notebook metalanguage are typed, including variables and constants, and this is written using a `_` followed by the type.  The following simply defines a variable $f$ that has the type of a generalized quantifier."
     ]
    },
    {
     "cell_type": "code",
     "collapsed": false,
     "input": [
      "%%lamb\n",
      "f = f_<<e,t>,t>"
     ],
     "language": "python",
     "metadata": {},
     "outputs": [
      {
       "latex": [
        "${f}_{\\langle{}\\langle{}e,t\\rangle{},t\\rangle{}}\\:=\\:{f}_{\\langle{}\\langle{}e,t\\rangle{},t\\rangle{}}$"
       ],
       "metadata": {},
       "output_type": "pyout",
       "prompt_number": 33,
       "text": [
        "${f}_{\\langle{}\\langle{}e,t\\rangle{},t\\rangle{}}\\:=\\:{f}_{\\langle{}\\langle{}e,t\\rangle{},t\\rangle{}}$"
       ]
      }
     ],
     "prompt_number": 33
    },
    {
     "cell_type": "code",
     "collapsed": false,
     "input": [
      "f.type"
     ],
     "language": "python",
     "metadata": {},
     "outputs": [
      {
       "latex": [
        "$\\langle{}\\langle{}e,t\\rangle{},t\\rangle{}$"
       ],
       "metadata": {},
       "output_type": "pyout",
       "prompt_number": 34,
       "text": [
        "<<e,t>,t>"
       ]
      }
     ],
     "prompt_number": 34
    },
    {
     "cell_type": "markdown",
     "metadata": {},
     "source": [
      "There are various notational systems for a typed lambda calculus, but one common notation (or notational shortcut) often seen in formal semantics is to write expressions such as:\n",
      " * $\\lambda x_e . Cat(x)$\n",
      " \n",
      "In Heim and Kratzer, for example, this is really an abbreviation for something like the following, which is basically a two-place $\\lambda$ expression:\n",
      " * $\\lambda x : x \\in D_e . Cat(x)$\n",
      " \n",
      "Currently the lambda notebook uses _only_ the abbreviated form, not the two-place $\\lambda$ expression.\n",
      " \n",
      "These expressions both describe a function that, given some $x$ of type $e$, returns true just in case $x$ is a cat.  Notice that, implicitly, the thing to the right of the period is a truth-value, and the predicate $Cat$ can be thought of as having a type as well (though this last part isn't typical).\n",
      "\n",
      "In the lambda notebook, this function can be described in text using the form \"`lambda var_type : body`\", where the variable name (lowercase) is separated from the type by an underscore.  Here's an example:\n",
      " * `lambda x_e : Cat(x)`\n",
      " \n",
      "This example is illustrated below in practice.  The second line of the next cell defines a variable `cat` that is a function of type $\\langle e, t \\rangle $.  This variable is exported into the python environment, and is a subclass of `lamb.meta.TypedExpression` (In this case, lamb.meta.LFun, the class for lambda expressions.)"
     ]
    },
    {
     "cell_type": "code",
     "collapsed": false,
     "input": [
      "%%lamb\n",
      "cat = lambda x_e : Cat(x)"
     ],
     "language": "python",
     "metadata": {},
     "outputs": [
      {
       "output_type": "stream",
       "stream": "stderr",
       "text": [
        "INFO (meta): Coerced guessed type t for 'Cat_t' into <e,t>, to match argument 'x_e'\n"
       ]
      },
      {
       "latex": [
        "${cat}_{\\langle{}e,t\\rangle{}}\\:=\\:\\lambda{} x_{e} \\: . \\: {Cat}({x}_{e})$"
       ],
       "metadata": {},
       "output_type": "pyout",
       "prompt_number": 41,
       "text": [
        "${cat}_{\\langle{}e,t\\rangle{}}\\:=\\:\\lambda{} x_{e} \\: . \\: {Cat}({x}_{e})$"
       ]
      }
     ],
     "prompt_number": 41
    },
    {
     "cell_type": "code",
     "collapsed": false,
     "input": [
      "ltx_print(cat, cat.type, \"This object's class is: \" + str(cat.__class__))"
     ],
     "language": "python",
     "metadata": {},
     "outputs": [
      {
       "latex": [
        "$\\lambda{} x_{e} \\: . \\: {Cat}({x}_{e})$<br />$\\langle{}e,t\\rangle{}$<br />This object's class is: &lt;class 'lamb.meta.LFun'&gt;<br />"
       ],
       "metadata": {},
       "output_type": "pyout",
       "prompt_number": 42,
       "text": [
        "$\\lambda{} x_{e} \\: . \\: {Cat}({x}_{e})$<br />$\\langle{}e,t\\rangle{}$<br />This object's class is: &lt;class 'lamb.meta.LFun'&gt;<br />"
       ]
      }
     ],
     "prompt_number": 42
    },
    {
     "cell_type": "markdown",
     "metadata": {},
     "source": [
      "Notice the info message warning us effectively that we didn't specify a type for `Cat`.  There are some built-in heuristics for what type you might mean, and it guesses $t$ for a constant (and $e$ for a variable); it realizes this is wrong and upgrades the type for the constant to be a property type.  We could also explicitly specify all the types for all terms:"
     ]
    },
    {
     "cell_type": "code",
     "collapsed": false,
     "input": [
      "%%lamb\n",
      "cat = lambda x_e : Cat_<e,t>(x_e)"
     ],
     "language": "python",
     "metadata": {},
     "outputs": [
      {
       "latex": [
        "${cat}_{\\langle{}e,t\\rangle{}}\\:=\\:\\lambda{} x_{e} \\: . \\: {Cat}({x}_{e})$"
       ],
       "metadata": {},
       "output_type": "pyout",
       "prompt_number": 4,
       "text": [
        "${cat}_{\\langle{}e,t\\rangle{}}\\:=\\:\\lambda{} x_{e} \\: . \\: {Cat}({x}_{e})$"
       ]
      }
     ],
     "prompt_number": 4
    },
    {
     "cell_type": "markdown",
     "metadata": {},
     "source": [
      "If you do something wrong, a TypeMismatch exception will be raise.  Note that this happens on construction of any TypedExpression, and is not deferred until application.  The following cell demonstrates what this looks like.  (Note that this will block \"run all\" from working on this notebook.)"
     ]
    },
    {
     "cell_type": "code",
     "collapsed": false,
     "input": [
      "%lamb p_t = p_t\n",
      "cat(p)"
     ],
     "language": "python",
     "metadata": {},
     "outputs": [
      {
       "ename": "TypeMismatch",
       "evalue": "Type mismatch: '(\u03bb x_e: Cat_<e,t>(x_e))'/<e,t> and 'p_t'/t conflict (mode: Function argument combination (unification failed))",
       "output_type": "pyerr",
       "traceback": [
        "\u001b[0;31m---------------------------------------------------------------------------\u001b[0m\n\u001b[0;31mTypeMismatch\u001b[0m                              Traceback (most recent call last)",
        "\u001b[0;32m<ipython-input-5-e98857b0fde8>\u001b[0m in \u001b[0;36m<module>\u001b[0;34m()\u001b[0m\n\u001b[1;32m      1\u001b[0m \u001b[0mget_ipython\u001b[0m\u001b[0;34m(\u001b[0m\u001b[0;34m)\u001b[0m\u001b[0;34m.\u001b[0m\u001b[0mmagic\u001b[0m\u001b[0;34m(\u001b[0m\u001b[0;34m'lamb p_t = p_t'\u001b[0m\u001b[0;34m)\u001b[0m\u001b[0;34m\u001b[0m\u001b[0m\n\u001b[0;32m----> 2\u001b[0;31m \u001b[0mcat\u001b[0m\u001b[0;34m(\u001b[0m\u001b[0mp\u001b[0m\u001b[0;34m)\u001b[0m\u001b[0;34m\u001b[0m\u001b[0m\n\u001b[0m",
        "\u001b[0;32m/Users/advil/repos/lambda-notebook/lamb/meta.py\u001b[0m in \u001b[0;36m__call__\u001b[0;34m(self, *args)\u001b[0m\n\u001b[1;32m   2143\u001b[0m \u001b[0;34m\u001b[0m\u001b[0m\n\u001b[1;32m   2144\u001b[0m         call + reduce is equivalent to apply, for an LFun\"\"\"\n\u001b[0;32m-> 2145\u001b[0;31m         \u001b[0;32mreturn\u001b[0m \u001b[0mTypedExpr\u001b[0m\u001b[0;34m.\u001b[0m\u001b[0mfactory\u001b[0m\u001b[0;34m(\u001b[0m\u001b[0mself\u001b[0m\u001b[0;34m,\u001b[0m \u001b[0;34m*\u001b[0m\u001b[0margs\u001b[0m\u001b[0;34m)\u001b[0m\u001b[0;34m\u001b[0m\u001b[0m\n\u001b[0m\u001b[1;32m   2146\u001b[0m \u001b[0;34m\u001b[0m\u001b[0m\n\u001b[1;32m   2147\u001b[0m     \u001b[0;32mdef\u001b[0m \u001b[0mcompose\u001b[0m\u001b[0;34m(\u001b[0m\u001b[0mself\u001b[0m\u001b[0;34m,\u001b[0m \u001b[0mother\u001b[0m\u001b[0;34m)\u001b[0m\u001b[0;34m:\u001b[0m\u001b[0;34m\u001b[0m\u001b[0m\n",
        "\u001b[0;32m/Users/advil/repos/lambda-notebook/lamb/meta.py\u001b[0m in \u001b[0;36mfactory\u001b[0;34m(cls, assignment, *args)\u001b[0m\n\u001b[1;32m    720\u001b[0m                 \u001b[0;32mpass\u001b[0m\u001b[0;34m\u001b[0m\u001b[0m\n\u001b[1;32m    721\u001b[0m             \u001b[0;31m# if we get to this point, args[0] should be the operator, and the rest of the list arguments to the operator.\u001b[0m\u001b[0;34m\u001b[0m\u001b[0;34m\u001b[0m\u001b[0m\n\u001b[0;32m--> 722\u001b[0;31m             \u001b[0;32mreturn\u001b[0m \u001b[0mTypedExpr\u001b[0m\u001b[0;34m(\u001b[0m\u001b[0;34m*\u001b[0m\u001b[0margs\u001b[0m\u001b[0;34m)\u001b[0m\u001b[0;34m\u001b[0m\u001b[0m\n\u001b[0m\u001b[1;32m    723\u001b[0m \u001b[0;34m\u001b[0m\u001b[0m\n\u001b[1;32m    724\u001b[0m     \u001b[0;34m@\u001b[0m\u001b[0mclassmethod\u001b[0m\u001b[0;34m\u001b[0m\u001b[0m\n",
        "\u001b[0;32m/Users/advil/repos/lambda-notebook/lamb/meta.py\u001b[0m in \u001b[0;36m__init__\u001b[0;34m(self, op, defer, *args)\u001b[0m\n\u001b[1;32m    188\u001b[0m                 \u001b[0munify_f\u001b[0m\u001b[0;34m,\u001b[0m \u001b[0munify_a\u001b[0m\u001b[0;34m,\u001b[0m \u001b[0munify_r\u001b[0m \u001b[0;34m=\u001b[0m \u001b[0mtype_sys\u001b[0m\u001b[0;34m.\u001b[0m\u001b[0munify_fa\u001b[0m\u001b[0;34m(\u001b[0m\u001b[0mop\u001b[0m\u001b[0;34m.\u001b[0m\u001b[0mtype\u001b[0m\u001b[0;34m,\u001b[0m \u001b[0marg\u001b[0m\u001b[0;34m.\u001b[0m\u001b[0mtype\u001b[0m\u001b[0;34m)\u001b[0m\u001b[0;34m\u001b[0m\u001b[0m\n\u001b[1;32m    189\u001b[0m                 \u001b[0;32mif\u001b[0m \u001b[0munify_f\u001b[0m \u001b[0;32mis\u001b[0m \u001b[0;32mNone\u001b[0m\u001b[0;34m:\u001b[0m\u001b[0;34m\u001b[0m\u001b[0m\n\u001b[0;32m--> 190\u001b[0;31m                     \u001b[0;32mraise\u001b[0m \u001b[0mTypeMismatch\u001b[0m\u001b[0;34m(\u001b[0m\u001b[0mop\u001b[0m\u001b[0;34m,\u001b[0m \u001b[0marg\u001b[0m\u001b[0;34m,\u001b[0m \u001b[0;34m\"Function argument combination (unification failed)\"\u001b[0m\u001b[0;34m)\u001b[0m\u001b[0;34m\u001b[0m\u001b[0m\n\u001b[0m\u001b[1;32m    191\u001b[0m                 \u001b[0mself\u001b[0m\u001b[0;34m.\u001b[0m\u001b[0mtype\u001b[0m \u001b[0;34m=\u001b[0m \u001b[0munify_r\u001b[0m\u001b[0;34m\u001b[0m\u001b[0m\n\u001b[1;32m    192\u001b[0m                 \u001b[0;32mif\u001b[0m \u001b[0mop\u001b[0m\u001b[0;34m.\u001b[0m\u001b[0mtype\u001b[0m \u001b[0;34m==\u001b[0m \u001b[0munify_f\u001b[0m \u001b[0;32mor\u001b[0m \u001b[0mdefer\u001b[0m\u001b[0;34m:\u001b[0m\u001b[0;34m\u001b[0m\u001b[0m\n",
        "\u001b[0;31mTypeMismatch\u001b[0m: Type mismatch: '(\u03bb x_e: Cat_<e,t>(x_e))'/<e,t> and 'p_t'/t conflict (mode: Function argument combination (unification failed))"
       ]
      }
     ],
     "prompt_number": 5
    },
    {
     "cell_type": "markdown",
     "metadata": {},
     "source": [
      "Lambda expressions can be treated just as any expression in the lambda notebook metalanguage, with parenthesis used for grouping (see other documentation for details).  For example, we can write very complicated expressions made up of functions:"
     ]
    },
    {
     "cell_type": "code",
     "collapsed": false,
     "input": [
      "%%lamb\n",
      "id = ((lambda f_<<e,e>,<e,e>> : lambda g_<e,e> : lambda x_e : (f(g))(x))(lambda h_<e,e> : h))(lambda i_e : i)"
     ],
     "language": "python",
     "metadata": {},
     "outputs": [
      {
       "latex": [
        "${id}_{\\langle{}e,e\\rangle{}}\\:=\\:[\\lambda{} f_{\\langle{}\\langle{}e,e\\rangle{},\\langle{}e,e\\rangle{}\\rangle{}} \\: . \\: \\lambda{} g_{\\langle{}e,e\\rangle{}} \\: . \\: \\lambda{} x_{e} \\: . \\: {f}_{\\langle{}\\langle{}e,e\\rangle{},\\langle{}e,e\\rangle{}\\rangle{}}({g}_{\\langle{}e,e\\rangle{}})({x}_{e})](\\lambda{} h_{\\langle{}e,e\\rangle{}} \\: . \\: {h}_{\\langle{}e,e\\rangle{}})(\\lambda{} i_{e} \\: . \\: {i}_{e})$"
       ],
       "metadata": {},
       "output_type": "pyout",
       "prompt_number": 49,
       "text": [
        "${id}_{\\langle{}e,e\\rangle{}}\\:=\\:[\\lambda{} f_{\\langle{}\\langle{}e,e\\rangle{},\\langle{}e,e\\rangle{}\\rangle{}} \\: . \\: \\lambda{} g_{\\langle{}e,e\\rangle{}} \\: . \\: \\lambda{} x_{e} \\: . \\: {f}_{\\langle{}\\langle{}e,e\\rangle{},\\langle{}e,e\\rangle{}\\rangle{}}({g}_{\\langle{}e,e\\rangle{}})({x}_{e})](\\lambda{} h_{\\langle{}e,e\\rangle{}} \\: . \\: {h}_{\\langle{}e,e\\rangle{}})(\\lambda{} i_{e} \\: . \\: {i}_{e})$"
       ]
      }
     ],
     "prompt_number": 49
    },
    {
     "cell_type": "markdown",
     "metadata": {},
     "source": [
      "The full semantics of lambda expressions (i.e. function argument combination and type checking) are supported.  In some cases (mainly semantic composition) reduction is done automatically but for variable definitions like this you have control.  The easiest way to do the reduction is typically the `reduce_all` function:"
     ]
    },
    {
     "cell_type": "code",
     "collapsed": false,
     "input": [
      "id.reduce_all()"
     ],
     "language": "python",
     "metadata": {},
     "outputs": [
      {
       "latex": [
        "$\\lambda{} x_{e} \\: . \\: {x}_{e}$"
       ],
       "metadata": {},
       "output_type": "pyout",
       "prompt_number": 50,
       "text": [
        "(\u03bb x_e: x_e)"
       ]
      }
     ],
     "prompt_number": 50
    },
    {
     "cell_type": "markdown",
     "metadata": {},
     "source": [
      "Variable renaming of bound variables (alpha conversion) will occur as needed."
     ]
    },
    {
     "cell_type": "code",
     "collapsed": false,
     "input": [
      "%%lamb\n",
      "collision = lambda x_e : (lambda f_<e,t> : lambda x_e : f(x))(lambda y_e : y <=> x)"
     ],
     "language": "python",
     "metadata": {},
     "outputs": [
      {
       "latex": [
        "${collision}_{\\langle{}e,\\langle{}e,t\\rangle{}\\rangle{}}\\:=\\:\\lambda{} x_{e} \\: . \\: [\\lambda{} f_{\\langle{}e,t\\rangle{}} \\: . \\: \\lambda{} x_{e} \\: . \\: {f}_{\\langle{}e,t\\rangle{}}({x}_{e})](\\lambda{} y_{e} \\: . \\: ({y}_{e} = {x}_{e}))$"
       ],
       "metadata": {},
       "output_type": "pyout",
       "prompt_number": 71,
       "text": [
        "${collision}_{\\langle{}e,\\langle{}e,t\\rangle{}\\rangle{}}\\:=\\:\\lambda{} x_{e} \\: . \\: [\\lambda{} f_{\\langle{}e,t\\rangle{}} \\: . \\: \\lambda{} x_{e} \\: . \\: {f}_{\\langle{}e,t\\rangle{}}({x}_{e})](\\lambda{} y_{e} \\: . \\: ({y}_{e} = {x}_{e}))$"
       ]
      }
     ],
     "prompt_number": 71
    },
    {
     "cell_type": "markdown",
     "metadata": {},
     "source": [
      "$x$ is of course bound to the higher lambda term in the argument, and we wouldn't want it to become bound to the lower variable on function application (substitution for $f$ in the scope of the lwoer binder), so one of them has to be renamed:"
     ]
    },
    {
     "cell_type": "code",
     "collapsed": false,
     "input": [
      "collision.reduce_all()"
     ],
     "language": "python",
     "metadata": {},
     "outputs": [
      {
       "latex": [
        "$\\lambda{} x_{e} \\: . \\: \\lambda{} x1_{e} \\: . \\: ({x1}_{e} = {x}_{e})$"
       ],
       "metadata": {},
       "output_type": "pyout",
       "prompt_number": 72,
       "text": [
        "(\u03bb x_e: (\u03bb x1_e: (x1_e <=> x_e)))"
       ]
      }
     ],
     "prompt_number": 72
    },
    {
     "cell_type": "markdown",
     "metadata": {},
     "source": [
      "That's pretty much what there is to the lambda calculus in this context.  To summarize:\n",
      "\n",
      " * Notation for types, using angle brackets and commas.  (Several other types are available by default, including tuples and sets, so the full type grammar is a bit more complicated.)\n",
      " * Notation for lambda expressions, of the form \"`lambda var_type : body`\".  \n",
      " * `%%lamb` environments for defining functions in the metalanguage."
     ]
    },
    {
     "cell_type": "markdown",
     "metadata": {},
     "source": [
      "Finally, if you want to inspect an existing object to see how you would write it, `repr` is guaranteed to produce parsable output with the same result.  (If it doesn't, this is a bug, please report it!)  The form may be slightly normalized relative to how it was constructed."
     ]
    },
    {
     "cell_type": "code",
     "collapsed": false,
     "input": [
      "repr(collision)"
     ],
     "language": "python",
     "metadata": {},
     "outputs": [
      {
       "metadata": {},
       "output_type": "pyout",
       "prompt_number": 73,
       "text": [
        "'(\u03bb x_e: ((\u03bb f_<e,t>: (\u03bb x_e: f_<e,t>(x_e))))((\u03bb y_e: (y_e <=> x_e))))'"
       ]
      }
     ],
     "prompt_number": 73
    },
    {
     "cell_type": "code",
     "collapsed": false,
     "input": [
      "te(repr(collision))"
     ],
     "language": "python",
     "metadata": {},
     "outputs": [
      {
       "latex": [
        "$\\lambda{} x_{e} \\: . \\: [\\lambda{} f_{\\langle{}e,t\\rangle{}} \\: . \\: \\lambda{} x_{e} \\: . \\: {f}_{\\langle{}e,t\\rangle{}}({x}_{e})](\\lambda{} y_{e} \\: . \\: ({y}_{e} = {x}_{e}))$"
       ],
       "metadata": {},
       "output_type": "pyout",
       "prompt_number": 74,
       "text": [
        "(\u03bb x_e: ((\u03bb f_<e,t>: (\u03bb x_e: f_<e,t>(x_e))))((\u03bb y_e: (y_e <=> x_e))))"
       ]
      }
     ],
     "prompt_number": 74
    },
    {
     "cell_type": "code",
     "collapsed": false,
     "input": [
      "repr(te(repr(collision))) == repr(collision) # normalization should be idempotent, too"
     ],
     "language": "python",
     "metadata": {},
     "outputs": [
      {
       "metadata": {},
       "output_type": "pyout",
       "prompt_number": 76,
       "text": [
        "True"
       ]
      }
     ],
     "prompt_number": 76
    },
    {
     "cell_type": "code",
     "collapsed": false,
     "input": [],
     "language": "python",
     "metadata": {},
     "outputs": []
    }
   ],
   "metadata": {}
  }
 ]
}