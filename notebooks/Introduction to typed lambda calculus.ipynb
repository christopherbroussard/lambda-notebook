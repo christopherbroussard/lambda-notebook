{
 "cells": [
  {
   "cell_type": "markdown",
   "metadata": {},
   "source": [
    "# A short introduction to the typed lambda calculus in the IPython Lambda Notebook\n",
    "\n",
    "### Notebook author: Kyle Rawlins\n",
    "\n",
    "This notebook introduces the typed lambda calculus in the context of the IPython Lambda Notebook.  It presupposes some knowledge of how similar formalisms are used in compositional semantics.  It also isn't intended to generally introduce the lambda notebook's metalanguage.\n",
    "\n",
    "_Note_: Run all on this notebook will be blocked by a purposefully generated exception in the middle."
   ]
  },
  {
   "cell_type": "markdown",
   "metadata": {},
   "source": [
    "In formal semantics, compositionality is typically modeled by the interaction of (potentially higher order) functions, and this interaction is guided by syntactic structure.  Functions are typically characterized using a typed lambda calculus.  An untyped lambda calculus uses representations like \"$\\lambda x \\: \\alpha $\" to characterize a function that given some $x$, returns $\\alpha$.  A typed lambda calculus uses a system of types to place constraints on both $x$ and $\\alpha$, effectively describing the domain and range of the function explicitly.  (Often, types are actually defined in terms of sets, but here I will not do that, as the lambda notebook takes them as primitives.)\n",
    "\n",
    "### Types\n",
    "\n",
    "The two core types in (extensional) formal semantics are $e$ (for entities), and $t$, for truth-values.  A functional type is always a pair of types, with the left member specifying the domain, and the right member specifying the range.  An inductive definition of (simple) types therefore often takes this form:\n",
    "\n",
    " 1. **Atomic types:** $e$ and $t$ are types.\n",
    " 2. **Functional types:** If $\\alpha $ and $\\beta $ are types, then so is $\\langle \\alpha, \\beta \\rangle $.\n",
    " 3. **Closure:** Nothing else is a type.\n",
    " \n",
    "Rule 2 is recursive.  So, the type $\\langle e, t \\rangle$ characterizes functions whose domain is the set of entities, and whose range is the set of truth-values.  $\\langle \\langle e, t \\rangle, t \\rangle$ is the type of a function whose input is a (higher order) function of type $\\langle e, t \\rangle$, and whose output is type $t$ (this is of course the type of a generalized quantifier). In the Lambda Notebook, types are written in a similar way, and $e$ and $t$ are built in.  The following shows how to construct these three types using the built-in `tp` (for type parser) function, which parses strings into Type objects."
   ]
  },
  {
   "cell_type": "code",
   "execution_count": 1,
   "metadata": {
    "collapsed": false
   },
   "outputs": [
    {
     "data": {
      "text/latex": [
       "$e$<br />$\\langle{}e,t\\rangle{}$<br />$\\langle{}\\langle{}e,t\\rangle{},t\\rangle{}$<br />"
      ],
      "text/plain": [
       "$e$<br />$\\langle{}e,t\\rangle{}$<br />$\\langle{}\\langle{}e,t\\rangle{},t\\rangle{}$<br />"
      ]
     },
     "execution_count": 1,
     "metadata": {},
     "output_type": "execute_result"
    }
   ],
   "source": [
    "ltx_print(tp(\"e\"),\n",
    "          tp(\"<e,t>\"),\n",
    "          tp(\"<<e,t>,t>\"))"
   ]
  },
  {
   "cell_type": "code",
   "execution_count": 2,
   "metadata": {
    "collapsed": false
   },
   "outputs": [
    {
     "data": {
      "text/latex": [
       "$\\langle{}e,t\\rangle{}$"
      ],
      "text/plain": [
       "<e,t>"
      ]
     },
     "execution_count": 2,
     "metadata": {},
     "output_type": "execute_result"
    }
   ],
   "source": [
    "tp(\"<<e,t>,t>\").left"
   ]
  },
  {
   "cell_type": "markdown",
   "metadata": {},
   "source": [
    "All expressions in the Lambda Notebook metalanguage are typed, including variables and constants, and this is written using a \"`_`\" followed by the type.  The following simply defines a variable over functions $f$ that has the type of a generalized quantifier."
   ]
  },
  {
   "cell_type": "code",
   "execution_count": 3,
   "metadata": {
    "collapsed": false
   },
   "outputs": [
    {
     "data": {
      "text/latex": [
       "${f}_{\\langle{}\\langle{}e,t\\rangle{},t\\rangle{}}\\:=\\:{f}_{\\langle{}\\langle{}e,t\\rangle{},t\\rangle{}}$"
      ],
      "text/plain": [
       "${f}_{\\langle{}\\langle{}e,t\\rangle{},t\\rangle{}}\\:=\\:{f}_{\\langle{}\\langle{}e,t\\rangle{},t\\rangle{}}$"
      ]
     },
     "execution_count": 3,
     "metadata": {},
     "output_type": "execute_result"
    }
   ],
   "source": [
    "%%lamb\n",
    "f = f_<<e,t>,t>"
   ]
  },
  {
   "cell_type": "code",
   "execution_count": 4,
   "metadata": {
    "collapsed": false
   },
   "outputs": [
    {
     "data": {
      "text/latex": [
       "$\\langle{}\\langle{}e,t\\rangle{},t\\rangle{}$"
      ],
      "text/plain": [
       "<<e,t>,t>"
      ]
     },
     "execution_count": 4,
     "metadata": {},
     "output_type": "execute_result"
    }
   ],
   "source": [
    "f.type"
   ]
  },
  {
   "cell_type": "markdown",
   "metadata": {},
   "source": [
    "See the neo-Davidsonian fragment and the intensional semantics fragment for examples of adding further types."
   ]
  },
  {
   "cell_type": "markdown",
   "metadata": {},
   "source": [
    "### Typed lambda expressions\n",
    "\n",
    "There are various notational systems/conventions for a typed lambda calculus, but one common notation (or notational shortcut) often seen in formal semantics is to write expressions such as:\n",
    " * $\\lambda x_e . Cat(x)$\n",
    " \n",
    "In Heim and Kratzer, for example, this is really an abbreviation for something like the following, which is basically a two-place $\\lambda$ expression allowing for rich constraints on $x$:\n",
    " * $\\lambda x : x \\in D_e . Cat(x)$\n",
    " \n",
    "Currently the lambda notebook uses _only_ the abbreviated form, i.e. allows only type-based constraints, not the two-place $\\lambda$ expression.  Therefore, a lambda expression in the notebook consists of a variable, a type constraint, and a body.  These expressions both describe a function that, given some $x$ of type $e$, returns true just in case $x$ is a cat.  Notice that, implicitly, the thing to the right of the period is a truth-value, and the predicate $Cat$ can be thought of as having a type as well (though this last part isn't typical; it is often thought of as being a first-order predicate logic constant).\n",
    "\n",
    "In the lambda notebook, this function can be described in the meta-language using the form \"`lambda var_type : body`\", where the variable name (lowercase) is separated from the type by an underscore.  Here's an example:\n",
    " * `lambda x_e : Cat(x)`\n",
    " \n",
    "This example is illustrated below in practice.  The second line of the next cell defines a variable `cat` that is a function of type $\\langle e, t \\rangle $.  This variable is exported into the python environment, and is a subclass of `lamb.meta.TypedExpression` (In this case, `lamb.meta.LFun`, the class for lambda expressions.)"
   ]
  },
  {
   "cell_type": "code",
   "execution_count": 5,
   "metadata": {
    "collapsed": false
   },
   "outputs": [
    {
     "name": "stderr",
     "output_type": "stream",
     "text": [
      "INFO (meta): Coerced guessed type t for 'Cat_t' into <e,t>, to match argument 'x_e'\n"
     ]
    },
    {
     "data": {
      "text/latex": [
       "${cat}_{\\langle{}e,t\\rangle{}}\\:=\\:\\lambda{} x_{e} \\: . \\: {Cat}({x}_{e})$"
      ],
      "text/plain": [
       "${cat}_{\\langle{}e,t\\rangle{}}\\:=\\:\\lambda{} x_{e} \\: . \\: {Cat}({x}_{e})$"
      ]
     },
     "execution_count": 5,
     "metadata": {},
     "output_type": "execute_result"
    }
   ],
   "source": [
    "%%lamb\n",
    "cat = lambda x_e : Cat(x)"
   ]
  },
  {
   "cell_type": "code",
   "execution_count": 6,
   "metadata": {
    "collapsed": false
   },
   "outputs": [
    {
     "data": {
      "text/latex": [
       "$\\lambda{} x_{e} \\: . \\: {Cat}({x}_{e})$<br />$\\langle{}e,t\\rangle{}$<br />This object's class is: &lt;class 'lamb.meta.LFun'&gt;<br />"
      ],
      "text/plain": [
       "$\\lambda{} x_{e} \\: . \\: {Cat}({x}_{e})$<br />$\\langle{}e,t\\rangle{}$<br />This object's class is: &lt;class 'lamb.meta.LFun'&gt;<br />"
      ]
     },
     "execution_count": 6,
     "metadata": {},
     "output_type": "execute_result"
    }
   ],
   "source": [
    "ltx_print(cat, cat.type, \"This object's class is: \" + str(cat.__class__))"
   ]
  },
  {
   "cell_type": "markdown",
   "metadata": {},
   "source": [
    "Notice the info message warning us effectively that we didn't specify a type for the constant `Cat`.  There are some very simple built-in heuristics for what type you might mean, and it first guesses $t$ for a constant (and $e$ for a variable); it realizes this is wrong and upgrades the type for the constant to be a property type.  We could also explicitly specify all the types for all terms:"
   ]
  },
  {
   "cell_type": "code",
   "execution_count": 7,
   "metadata": {
    "collapsed": false
   },
   "outputs": [
    {
     "data": {
      "text/latex": [
       "${cat}_{\\langle{}e,t\\rangle{}}\\:=\\:\\lambda{} x_{e} \\: . \\: {Cat}({x}_{e})$"
      ],
      "text/plain": [
       "${cat}_{\\langle{}e,t\\rangle{}}\\:=\\:\\lambda{} x_{e} \\: . \\: {Cat}({x}_{e})$"
      ]
     },
     "execution_count": 7,
     "metadata": {},
     "output_type": "execute_result"
    }
   ],
   "source": [
    "%%lamb\n",
    "cat = lambda x_e : Cat_<e,t>(x_e)"
   ]
  },
  {
   "cell_type": "markdown",
   "metadata": {},
   "source": [
    "### Type mismatches\n",
    "\n",
    "If you do something wrong, a `TypeMismatch` (module: `types`) exception will be raised.  Note that type checking happens on construction of any `TypedExpression`, and is not deferred until application.  The following cell demonstrates what this looks like.  (Note that this will block \"run all\" from working on this notebook.)"
   ]
  },
  {
   "cell_type": "code",
   "execution_count": 8,
   "metadata": {
    "collapsed": false
   },
   "outputs": [
    {
     "data": {
      "text/latex": [
       "$[\\lambda{} x_{e} \\: . \\: {Cat}({x}_{e})]({y}_{e})$"
      ],
      "text/plain": [
       "((λ x_e: Cat_<e,t>(x_e)))(y_e)"
      ]
     },
     "execution_count": 8,
     "metadata": {},
     "output_type": "execute_result"
    }
   ],
   "source": [
    "%lamb p_t = p_t\n",
    "%lamb y_e  = y_e\n",
    "cat(y) # this one works, because the types match"
   ]
  },
  {
   "cell_type": "code",
   "execution_count": 9,
   "metadata": {
    "collapsed": false
   },
   "outputs": [
    {
     "data": {
      "text/latex": [
       "${Cat}({y}_{e})$"
      ],
      "text/plain": [
       "Cat_<e,t>(y_e)"
      ]
     },
     "execution_count": 9,
     "metadata": {},
     "output_type": "execute_result"
    }
   ],
   "source": [
    "cat(y).reduce_all() # a handy function"
   ]
  },
  {
   "cell_type": "code",
   "execution_count": 10,
   "metadata": {
    "collapsed": false
   },
   "outputs": [
    {
     "ename": "TypeMismatch",
     "evalue": "Type mismatch: '(λ x_e: Cat_<e,t>(x_e))'/<e,t> and 'p_t'/t conflict (mode: Function argument combination (unification failed))",
     "output_type": "error",
     "traceback": [
      "\u001b[0;31m---------------------------------------------------------------------------\u001b[0m",
      "\u001b[0;31mTypeMismatch\u001b[0m                              Traceback (most recent call last)",
      "\u001b[0;32m<ipython-input-10-44e69702d8b9>\u001b[0m in \u001b[0;36m<module>\u001b[0;34m()\u001b[0m\n\u001b[0;32m----> 1\u001b[0;31m \u001b[0mcat\u001b[0m\u001b[0;34m(\u001b[0m\u001b[0mp\u001b[0m\u001b[0;34m)\u001b[0m \u001b[0;31m# this one doesn't work, though\u001b[0m\u001b[0;34m\u001b[0m\u001b[0m\n\u001b[0m",
      "\u001b[0;32m/Users/advil/repos/lambda-notebook/lamb/meta.py\u001b[0m in \u001b[0;36m__call__\u001b[0;34m(self, *args)\u001b[0m\n\u001b[1;32m   1272\u001b[0m \u001b[0;34m\u001b[0m\u001b[0m\n\u001b[1;32m   1273\u001b[0m         \u001b[0;31m#print(\"globals: \", globals())\u001b[0m\u001b[0;34m\u001b[0m\u001b[0;34m\u001b[0m\u001b[0m\n\u001b[0;32m-> 1274\u001b[0;31m         \u001b[0;32mreturn\u001b[0m \u001b[0mTypedExpr\u001b[0m\u001b[0;34m.\u001b[0m\u001b[0mfactory\u001b[0m\u001b[0;34m(\u001b[0m\u001b[0mself\u001b[0m\u001b[0;34m,\u001b[0m \u001b[0;34m*\u001b[0m\u001b[0margs\u001b[0m\u001b[0;34m)\u001b[0m\u001b[0;34m\u001b[0m\u001b[0m\n\u001b[0m\u001b[1;32m   1275\u001b[0m \u001b[0;34m\u001b[0m\u001b[0m\n\u001b[1;32m   1276\u001b[0m \u001b[0;34m\u001b[0m\u001b[0m\n",
      "\u001b[0;32m/Users/advil/repos/lambda-notebook/lamb/meta.py\u001b[0m in \u001b[0;36mfactory\u001b[0;34m(cls, assignment, *args)\u001b[0m\n\u001b[1;32m    889\u001b[0m             \u001b[0;31m# if arg.let:\u001b[0m\u001b[0;34m\u001b[0m\u001b[0;34m\u001b[0m\u001b[0m\n\u001b[1;32m    890\u001b[0m             \u001b[0;31m#     arg = derived(arg.freshen_type_vars(), arg, \"Let substitution\")\u001b[0m\u001b[0;34m\u001b[0m\u001b[0;34m\u001b[0m\u001b[0m\n\u001b[0;32m--> 891\u001b[0;31m             \u001b[0mresult\u001b[0m \u001b[0;34m=\u001b[0m \u001b[0mApplicationExpr\u001b[0m\u001b[0;34m(\u001b[0m\u001b[0mop\u001b[0m\u001b[0;34m,\u001b[0m \u001b[0marg\u001b[0m\u001b[0;34m,\u001b[0m \u001b[0massignment\u001b[0m\u001b[0;34m=\u001b[0m\u001b[0massignment\u001b[0m\u001b[0;34m)\u001b[0m\u001b[0;34m\u001b[0m\u001b[0m\n\u001b[0m\u001b[1;32m    892\u001b[0m             \u001b[0;32mif\u001b[0m \u001b[0mresult\u001b[0m\u001b[0;34m.\u001b[0m\u001b[0mlet\u001b[0m\u001b[0;34m:\u001b[0m\u001b[0;34m\u001b[0m\u001b[0m\n\u001b[1;32m    893\u001b[0m                 \u001b[0;31m#print(\"add step\")\u001b[0m\u001b[0;34m\u001b[0m\u001b[0;34m\u001b[0m\u001b[0m\n",
      "\u001b[0;32m/Users/advil/repos/lambda-notebook/lamb/meta.py\u001b[0m in \u001b[0;36m__init__\u001b[0;34m(self, fun, arg, defer, assignment, type_check)\u001b[0m\n\u001b[1;32m   1400\u001b[0m             \u001b[0mtc_result\u001b[0m \u001b[0;34m=\u001b[0m \u001b[0mself\u001b[0m\u001b[0;34m.\u001b[0m\u001b[0mfa_type_inference\u001b[0m\u001b[0;34m(\u001b[0m\u001b[0mfun\u001b[0m\u001b[0;34m,\u001b[0m \u001b[0marg\u001b[0m\u001b[0;34m,\u001b[0m \u001b[0massignment\u001b[0m\u001b[0;34m)\u001b[0m\u001b[0;34m\u001b[0m\u001b[0m\n\u001b[1;32m   1401\u001b[0m             \u001b[0;32mif\u001b[0m \u001b[0mtc_result\u001b[0m \u001b[0;32mis\u001b[0m \u001b[0;32mNone\u001b[0m\u001b[0;34m:\u001b[0m\u001b[0;34m\u001b[0m\u001b[0m\n\u001b[0;32m-> 1402\u001b[0;31m                 \u001b[0;32mraise\u001b[0m \u001b[0mTypeMismatch\u001b[0m\u001b[0;34m(\u001b[0m\u001b[0mfun\u001b[0m\u001b[0;34m,\u001b[0m \u001b[0marg\u001b[0m\u001b[0;34m,\u001b[0m \u001b[0;34m\"Function argument combination (unification failed)\"\u001b[0m\u001b[0;34m)\u001b[0m\u001b[0;34m\u001b[0m\u001b[0m\n\u001b[0m\u001b[1;32m   1403\u001b[0m             \u001b[0mfun\u001b[0m\u001b[0;34m,\u001b[0m \u001b[0marg\u001b[0m\u001b[0;34m,\u001b[0m \u001b[0mout_type\u001b[0m\u001b[0;34m,\u001b[0m \u001b[0mhistory\u001b[0m \u001b[0;34m=\u001b[0m \u001b[0mtc_result\u001b[0m\u001b[0;34m\u001b[0m\u001b[0m\n\u001b[1;32m   1404\u001b[0m             \u001b[0mop\u001b[0m \u001b[0;34m=\u001b[0m \u001b[0mfun\u001b[0m\u001b[0;34m\u001b[0m\u001b[0m\n",
      "\u001b[0;31mTypeMismatch\u001b[0m: Type mismatch: '(λ x_e: Cat_<e,t>(x_e))'/<e,t> and 'p_t'/t conflict (mode: Function argument combination (unification failed))"
     ]
    }
   ],
   "source": [
    "cat(p) # this one doesn't work, though"
   ]
  },
  {
   "cell_type": "markdown",
   "metadata": {},
   "source": [
    "It is often convenient to wrap something that might produce a TypeMismatch directly in a `try: ... except: ...` block.  Here is one way of doing this:"
   ]
  },
  {
   "cell_type": "code",
   "execution_count": 11,
   "metadata": {
    "collapsed": false
   },
   "outputs": [
    {
     "data": {
      "text/latex": [
       "<span style=\"color:red\">Type mismatch</span>: '$\\lambda{} x_{e} \\: . \\: {Cat}({x}_{e})$'/$\\langle{}e,t\\rangle{}$ and '${p}_{t}$'/$t$ conflict (mode: Function argument combination (unification failed))"
      ],
      "text/plain": [
       "lamb.types.TypeMismatch((λ x_e: Cat_<e,t>(x_e)),\n",
       "                        p_t,\n",
       "                        'Function argument combination (unification failed)')"
      ]
     },
     "execution_count": 11,
     "metadata": {},
     "output_type": "execute_result"
    }
   ],
   "source": [
    "result = None\n",
    "try:\n",
    "    result = cat(p)\n",
    "except types.TypeMismatch as e:\n",
    "    result = e\n",
    "result"
   ]
  },
  {
   "cell_type": "markdown",
   "metadata": {},
   "source": [
    "### Complex function expressions\n",
    "\n",
    "Lambda expressions can be treated just as any expression in the lambda notebook metalanguage, with parenthesis used for grouping (see other documentation for details).  For example, we can write very complicated expressions made up of functions:"
   ]
  },
  {
   "cell_type": "code",
   "execution_count": 12,
   "metadata": {
    "collapsed": false
   },
   "outputs": [],
   "source": [
    "reload_lamb()"
   ]
  },
  {
   "cell_type": "code",
   "execution_count": 13,
   "metadata": {
    "collapsed": false
   },
   "outputs": [
    {
     "data": {
      "text/latex": [
       "${id}_{\\langle{}e,e\\rangle{}}\\:=\\:[\\lambda{} f_{\\langle{}\\langle{}e,e\\rangle{},\\langle{}e,e\\rangle{}\\rangle{}} \\: . \\: \\lambda{} g_{\\langle{}e,e\\rangle{}} \\: . \\: \\lambda{} x_{e} \\: . \\: {f}_{\\langle{}\\langle{}e,e\\rangle{},\\langle{}e,e\\rangle{}\\rangle{}}({g}_{\\langle{}e,e\\rangle{}})({x}_{e})](\\lambda{} h_{\\langle{}e,e\\rangle{}} \\: . \\: {h}_{\\langle{}e,e\\rangle{}})(\\lambda{} i_{e} \\: . \\: {i}_{e})$"
      ],
      "text/plain": [
       "${id}_{\\langle{}e,e\\rangle{}}\\:=\\:[\\lambda{} f_{\\langle{}\\langle{}e,e\\rangle{},\\langle{}e,e\\rangle{}\\rangle{}} \\: . \\: \\lambda{} g_{\\langle{}e,e\\rangle{}} \\: . \\: \\lambda{} x_{e} \\: . \\: {f}_{\\langle{}\\langle{}e,e\\rangle{},\\langle{}e,e\\rangle{}\\rangle{}}({g}_{\\langle{}e,e\\rangle{}})({x}_{e})](\\lambda{} h_{\\langle{}e,e\\rangle{}} \\: . \\: {h}_{\\langle{}e,e\\rangle{}})(\\lambda{} i_{e} \\: . \\: {i}_{e})$"
      ]
     },
     "execution_count": 13,
     "metadata": {},
     "output_type": "execute_result"
    }
   ],
   "source": [
    "%%lamb\n",
    "id = ((lambda f_<<e,e>,<e,e>> : lambda g_<e,e> : lambda x_e : (f(g))(x))(lambda h_<e,e> : h))(lambda i_e : i)"
   ]
  },
  {
   "cell_type": "markdown",
   "metadata": {},
   "source": [
    "The full semantics of lambda expressions (i.e. function argument combination and type checking) are supported.  In some cases (mainly semantic composition) reduction is done automatically but for variable definitions like this you have control.  The easiest way to do the reduction is typically the `reduce_all` function:"
   ]
  },
  {
   "cell_type": "code",
   "execution_count": 14,
   "metadata": {
    "collapsed": false
   },
   "outputs": [
    {
     "data": {
      "text/latex": [
       "$\\lambda{} x_{e} \\: . \\: {x}_{e}$"
      ],
      "text/plain": [
       "(λ x_e: x_e)"
      ]
     },
     "execution_count": 14,
     "metadata": {},
     "output_type": "execute_result"
    }
   ],
   "source": [
    "id.reduce_all()"
   ]
  },
  {
   "cell_type": "markdown",
   "metadata": {},
   "source": [
    "If you want to see how this happened, you can peek at the derivation with varying levels of detail:"
   ]
  },
  {
   "cell_type": "code",
   "execution_count": 15,
   "metadata": {
    "collapsed": false
   },
   "outputs": [
    {
     "data": {
      "text/latex": [
       "<table><tr><td style=\"border-left:1px solid #848482\"><div><table style=\"padding-bottom:5px\"><tr style=\"border-bottom:1px solid #848482;padding-bottom:5px\"><td style=\"padding-right:5px;vertical-align:bottom\"> 1. </td><td style=\"vertical-align:bottom;padding-right:10px\">$[\\lambda{} f_{\\langle{}\\langle{}e,e\\rangle{},\\langle{}e,e\\rangle{}\\rangle{}} \\: . \\: \\lambda{} g_{\\langle{}e,e\\rangle{}} \\: . \\: \\lambda{} x_{e} \\: . \\: {f}_{\\langle{}\\langle{}e,e\\rangle{},\\langle{}e,e\\rangle{}\\rangle{}}({g}_{\\langle{}e,e\\rangle{}})({x}_{e})](\\lambda{} h_{\\langle{}e,e\\rangle{}} \\: . \\: {h}_{\\langle{}e,e\\rangle{}})(\\lambda{} i_{e} \\: . \\: {i}_{e})$</td></tr><tr style=\"border-bottom:1px solid #848482;padding-bottom:5px\"><td style=\"padding-right:5px;vertical-align:bottom\"> 2. </td><td style=\"vertical-align:bottom;padding-right:10px\">$[\\lambda{} g_{\\langle{}e,e\\rangle{}} \\: . \\: \\lambda{} x_{e} \\: . \\: {g}_{\\langle{}e,e\\rangle{}}({x}_{e})](\\lambda{} i_{e} \\: . \\: {i}_{e})$</td><td style=\"border-left:1px solid #848482\"><span style=\"color:blue\">Recursive reduction of operator</span></td></tr><tr style=\"border-bottom:1px solid #848482;padding-bottom:5px\"><td style=\"padding-right:5px;vertical-align:bottom\"> 3. </td><td style=\"vertical-align:bottom;padding-right:10px\">$\\lambda{} x_{e} \\: . \\: [\\lambda{} i_{e} \\: . \\: {i}_{e}]({x}_{e})$</td><td style=\"border-left:1px solid #848482\"><span style=\"color:blue\">Beta reduction</span></td></tr><tr style=\"padding-bottom:5px\"><td style=\"padding-right:5px;vertical-align:bottom\"> 4. </td><td style=\"vertical-align:bottom;padding-right:10px\">$\\lambda{} x_{e} \\: . \\: {x}_{e}$</td><td style=\"border-left:1px solid #848482\"><span style=\"color:blue\">Recursive reduction of body</span></td></tr></table></div></td></tr></table>"
      ],
      "text/plain": [
       "<lamb.meta.Derivation at 0x105884c50>"
      ]
     },
     "execution_count": 15,
     "metadata": {},
     "output_type": "execute_result"
    }
   ],
   "source": [
    "id.reduce_all().derivation"
   ]
  },
  {
   "cell_type": "code",
   "execution_count": 16,
   "metadata": {
    "collapsed": false
   },
   "outputs": [
    {
     "data": {
      "text/latex": [
       "<table><tr><td style=\"border-left:1px solid #848482\"><div><table style=\"padding-bottom:5px\"><tr style=\"border-bottom:1px solid #848482;padding-bottom:5px\"><td style=\"padding-right:5px;vertical-align:bottom\"> 1. </td><td style=\"vertical-align:bottom;padding-right:10px\">$[\\lambda{} f_{\\langle{}\\langle{}e,e\\rangle{},\\langle{}e,e\\rangle{}\\rangle{}} \\: . \\: \\lambda{} g_{\\langle{}e,e\\rangle{}} \\: . \\: \\lambda{} x_{e} \\: . \\: {f}_{\\langle{}\\langle{}e,e\\rangle{},\\langle{}e,e\\rangle{}\\rangle{}}({g}_{\\langle{}e,e\\rangle{}})({x}_{e})](\\lambda{} h_{\\langle{}e,e\\rangle{}} \\: . \\: {h}_{\\langle{}e,e\\rangle{}})(\\lambda{} i_{e} \\: . \\: {i}_{e})$</td></tr><tr style=\"border-bottom:1px solid #848482;padding-bottom:5px\"><td style=\"padding-right:5px;vertical-align:bottom\"> 2. </td><td style=\"vertical-align:bottom;padding-right:10px\">$[\\lambda{} g_{\\langle{}e,e\\rangle{}} \\: . \\: \\lambda{} x_{e} \\: . \\: {g}_{\\langle{}e,e\\rangle{}}({x}_{e})](\\lambda{} i_{e} \\: . \\: {i}_{e})$</td><td style=\"border-left:1px solid #848482\"><div><span style=\"color:blue\">Recursive reduction of operator</span></div><div><table style=\"padding-bottom:5px\"><tr style=\"border-bottom:1px solid #848482;padding-bottom:5px\"><td style=\"padding-right:5px;vertical-align:bottom\"> 1. </td><td style=\"vertical-align:bottom;padding-right:10px\">$[\\lambda{} f_{\\langle{}\\langle{}e,e\\rangle{},\\langle{}e,e\\rangle{}\\rangle{}} \\: . \\: \\lambda{} g_{\\langle{}e,e\\rangle{}} \\: . \\: \\lambda{} x_{e} \\: . \\: {f}_{\\langle{}\\langle{}e,e\\rangle{},\\langle{}e,e\\rangle{}\\rangle{}}({g}_{\\langle{}e,e\\rangle{}})({x}_{e})](\\lambda{} h_{\\langle{}e,e\\rangle{}} \\: . \\: {h}_{\\langle{}e,e\\rangle{}})$</td></tr><tr style=\"border-bottom:1px solid #848482;padding-bottom:5px\"><td style=\"padding-right:5px;vertical-align:bottom\"> 2. </td><td style=\"vertical-align:bottom;padding-right:10px\">$\\lambda{} g_{\\langle{}e,e\\rangle{}} \\: . \\: \\lambda{} x_{e} \\: . \\: [\\lambda{} h_{\\langle{}e,e\\rangle{}} \\: . \\: {h}_{\\langle{}e,e\\rangle{}}]({g}_{\\langle{}e,e\\rangle{}})({x}_{e})$</td><td style=\"border-left:1px solid #848482\"><span style=\"color:blue\">Beta reduction</span></td></tr><tr style=\"padding-bottom:5px\"><td style=\"padding-right:5px;vertical-align:bottom\"> 3. </td><td style=\"vertical-align:bottom;padding-right:10px\">$\\lambda{} g_{\\langle{}e,e\\rangle{}} \\: . \\: \\lambda{} x_{e} \\: . \\: {g}_{\\langle{}e,e\\rangle{}}({x}_{e})$</td><td style=\"border-left:1px solid #848482\"><div><span style=\"color:blue\">Recursive reduction of body</span></div><div><table style=\"padding-bottom:5px\"><tr style=\"border-bottom:1px solid #848482;padding-bottom:5px\"><td style=\"padding-right:5px;vertical-align:bottom\"> 1. </td><td style=\"vertical-align:bottom;padding-right:10px\">$\\lambda{} x_{e} \\: . \\: [\\lambda{} h_{\\langle{}e,e\\rangle{}} \\: . \\: {h}_{\\langle{}e,e\\rangle{}}]({g}_{\\langle{}e,e\\rangle{}})({x}_{e})$</td></tr><tr style=\"padding-bottom:5px\"><td style=\"padding-right:5px;vertical-align:bottom\"> 2. </td><td style=\"vertical-align:bottom;padding-right:10px\">$\\lambda{} x_{e} \\: . \\: {g}_{\\langle{}e,e\\rangle{}}({x}_{e})$</td><td style=\"border-left:1px solid #848482\"><div><span style=\"color:blue\">Recursive reduction of body</span></div><div><table style=\"padding-bottom:5px\"><tr style=\"border-bottom:1px solid #848482;padding-bottom:5px\"><td style=\"padding-right:5px;vertical-align:bottom\"> 1. </td><td style=\"vertical-align:bottom;padding-right:10px\">$[\\lambda{} h_{\\langle{}e,e\\rangle{}} \\: . \\: {h}_{\\langle{}e,e\\rangle{}}]({g}_{\\langle{}e,e\\rangle{}})({x}_{e})$</td></tr><tr style=\"padding-bottom:5px\"><td style=\"padding-right:5px;vertical-align:bottom\"> 2. </td><td style=\"vertical-align:bottom;padding-right:10px\">${g}_{\\langle{}e,e\\rangle{}}({x}_{e})$</td><td style=\"border-left:1px solid #848482\"><div><span style=\"color:blue\">Recursive reduction of operator</span></div><div><table style=\"padding-bottom:5px\"><tr style=\"border-bottom:1px solid #848482;padding-bottom:5px\"><td style=\"padding-right:5px;vertical-align:bottom\"> 1. </td><td style=\"vertical-align:bottom;padding-right:10px\">$[\\lambda{} h_{\\langle{}e,e\\rangle{}} \\: . \\: {h}_{\\langle{}e,e\\rangle{}}]({g}_{\\langle{}e,e\\rangle{}})$</td></tr><tr style=\"padding-bottom:5px\"><td style=\"padding-right:5px;vertical-align:bottom\"> 2. </td><td style=\"vertical-align:bottom;padding-right:10px\">${g}_{\\langle{}e,e\\rangle{}}$</td><td style=\"border-left:1px solid #848482\"><span style=\"color:blue\">Beta reduction</span></td></tr></table></div></td></tr></table></div></td></tr></table></div></td></tr></table></div></td></tr><tr style=\"border-bottom:1px solid #848482;padding-bottom:5px\"><td style=\"padding-right:5px;vertical-align:bottom\"> 3. </td><td style=\"vertical-align:bottom;padding-right:10px\">$\\lambda{} x_{e} \\: . \\: [\\lambda{} i_{e} \\: . \\: {i}_{e}]({x}_{e})$</td><td style=\"border-left:1px solid #848482\"><span style=\"color:blue\">Beta reduction</span></td></tr><tr style=\"padding-bottom:5px\"><td style=\"padding-right:5px;vertical-align:bottom\"> 4. </td><td style=\"vertical-align:bottom;padding-right:10px\">$\\lambda{} x_{e} \\: . \\: {x}_{e}$</td><td style=\"border-left:1px solid #848482\"><div><span style=\"color:blue\">Recursive reduction of body</span></div><div><table style=\"padding-bottom:5px\"><tr style=\"border-bottom:1px solid #848482;padding-bottom:5px\"><td style=\"padding-right:5px;vertical-align:bottom\"> 1. </td><td style=\"vertical-align:bottom;padding-right:10px\">$[\\lambda{} i_{e} \\: . \\: {i}_{e}]({x}_{e})$</td></tr><tr style=\"padding-bottom:5px\"><td style=\"padding-right:5px;vertical-align:bottom\"> 2. </td><td style=\"vertical-align:bottom;padding-right:10px\">${x}_{e}$</td><td style=\"border-left:1px solid #848482\"><span style=\"color:blue\">Beta reduction</span></td></tr></table></div></td></tr></table></div></td></tr></table>"
      ],
      "text/plain": [
       "<lamb.display.RecursiveDerivationDisplay at 0x105887b70>"
      ]
     },
     "execution_count": 16,
     "metadata": {},
     "output_type": "execute_result"
    }
   ],
   "source": [
    "id.reduce_all().derivation.trace()"
   ]
  },
  {
   "cell_type": "markdown",
   "metadata": {},
   "source": [
    "### Variable collisions and alpha conversion\n",
    "\n",
    "Variable renaming of bound variables (alpha conversion) will occur as needed."
   ]
  },
  {
   "cell_type": "code",
   "execution_count": 17,
   "metadata": {
    "collapsed": false
   },
   "outputs": [
    {
     "data": {
      "text/latex": [
       "${collision}_{\\langle{}e,\\langle{}e,t\\rangle{}\\rangle{}}\\:=\\:\\lambda{} x_{e} \\: . \\: [\\lambda{} f_{\\langle{}e,t\\rangle{}} \\: . \\: \\lambda{} x_{e} \\: . \\: {f}_{\\langle{}e,t\\rangle{}}({x}_{e})](\\lambda{} y_{e} \\: . \\: ({y}_{e} = {x}_{e}))$"
      ],
      "text/plain": [
       "${collision}_{\\langle{}e,\\langle{}e,t\\rangle{}\\rangle{}}\\:=\\:\\lambda{} x_{e} \\: . \\: [\\lambda{} f_{\\langle{}e,t\\rangle{}} \\: . \\: \\lambda{} x_{e} \\: . \\: {f}_{\\langle{}e,t\\rangle{}}({x}_{e})](\\lambda{} y_{e} \\: . \\: ({y}_{e} = {x}_{e}))$"
      ]
     },
     "execution_count": 17,
     "metadata": {},
     "output_type": "execute_result"
    }
   ],
   "source": [
    "%%lamb\n",
    "collision = lambda x_e : (lambda f_<e,t> : lambda x_e : f(x))(lambda y_e : y <=> x) # use '<=>' for equality"
   ]
  },
  {
   "cell_type": "markdown",
   "metadata": {},
   "source": [
    "$x$ is of course bound to the higher lambda term in the argument, and we wouldn't want it to become bound to the lower variable on function application (substitution for $f$ in the scope of the lwoer binder), so one of them has to be renamed:"
   ]
  },
  {
   "cell_type": "code",
   "execution_count": 18,
   "metadata": {
    "collapsed": false
   },
   "outputs": [
    {
     "data": {
      "text/latex": [
       "$\\lambda{} x_{e} \\: . \\: \\lambda{} x1_{e} \\: . \\: ({x1}_{e} = {x}_{e})$"
      ],
      "text/plain": [
       "(λ x_e: (λ x1_e: (x1_e <=> x_e)))"
      ]
     },
     "execution_count": 18,
     "metadata": {},
     "output_type": "execute_result"
    }
   ],
   "source": [
    "collision.reduce_all()"
   ]
  },
  {
   "cell_type": "markdown",
   "metadata": {},
   "source": [
    "That's pretty much what there is to the lambda calculus in this context.  To summarize:\n",
    "\n",
    " * Notation for types, using angle brackets and commas.  (Several other types are available by default, including tuples and sets, so the full type grammar is a bit more complicated.)\n",
    " * Notation for lambda expressions, of the form \"`lambda var_type : body`\".  \n",
    " * `%%lamb` environments for defining functions in the metalanguage."
   ]
  },
  {
   "cell_type": "markdown",
   "metadata": {},
   "source": [
    "### Inspecting meta-language objects\n",
    "\n",
    "Finally, if you want to inspect an existing object to see how you would write it in the meta-language, `repr` is guaranteed to produce parsable output with the same result.  (If it doesn't, this is a bug, please report it!)  The form may be slightly normalized relative to how it was constructed."
   ]
  },
  {
   "cell_type": "code",
   "execution_count": 19,
   "metadata": {
    "collapsed": false
   },
   "outputs": [
    {
     "data": {
      "text/plain": [
       "'(λ x_e: ((λ f_<e,t>: (λ x_e: f_<e,t>(x_e))))((λ y_e: (y_e <=> x_e))))'"
      ]
     },
     "execution_count": 19,
     "metadata": {},
     "output_type": "execute_result"
    }
   ],
   "source": [
    "repr(collision)"
   ]
  },
  {
   "cell_type": "code",
   "execution_count": 20,
   "metadata": {
    "collapsed": false
   },
   "outputs": [
    {
     "data": {
      "text/latex": [
       "$\\lambda{} x_{e} \\: . \\: [\\lambda{} f_{\\langle{}e,t\\rangle{}} \\: . \\: \\lambda{} x_{e} \\: . \\: {f}_{\\langle{}e,t\\rangle{}}({x}_{e})](\\lambda{} y_{e} \\: . \\: ({y}_{e} = {x}_{e}))$"
      ],
      "text/plain": [
       "(λ x_e: ((λ f_<e,t>: (λ x_e: f_<e,t>(x_e))))((λ y_e: (y_e <=> x_e))))"
      ]
     },
     "execution_count": 20,
     "metadata": {},
     "output_type": "execute_result"
    }
   ],
   "source": [
    "te(repr(collision))"
   ]
  },
  {
   "cell_type": "code",
   "execution_count": 21,
   "metadata": {
    "collapsed": false
   },
   "outputs": [
    {
     "data": {
      "text/plain": [
       "True"
      ]
     },
     "execution_count": 21,
     "metadata": {},
     "output_type": "execute_result"
    }
   ],
   "source": [
    "repr(te(repr(collision))) == repr(collision) # normalization should be idempotent, too"
   ]
  },
  {
   "cell_type": "code",
   "execution_count": null,
   "metadata": {
    "collapsed": false
   },
   "outputs": [],
   "source": []
  }
 ],
 "metadata": {
  "kernelspec": {
   "display_name": "Lambda Notebook (Python 3)",
   "language": "python",
   "name": "lambda-notebook"
  },
  "language_info": {
   "codemirror_mode": {
    "name": "ipython",
    "version": 3
   },
   "file_extension": ".py",
   "mimetype": "text/x-python",
   "name": "python",
   "nbconvert_exporter": "python",
   "pygments_lexer": "ipython3",
   "version": "3.4.3"
  }
 },
 "nbformat": 4,
 "nbformat_minor": 0
}
