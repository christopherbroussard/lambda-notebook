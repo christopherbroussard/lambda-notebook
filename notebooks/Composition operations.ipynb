{
 "metadata": {
  "name": ""
 },
 "nbformat": 3,
 "nbformat_minor": 0,
 "worksheets": [
  {
   "cells": [
    {
     "cell_type": "code",
     "collapsed": false,
     "input": [
      "import lamb\n",
      "from lamb import *\n",
      "from lamb.tree_mini import Tree\n",
      "from lamb.utils import *\n",
      "import imp\n",
      "\n",
      "def reload_all():\n",
      "    imp.reload(lamb.utils)\n",
      "    imp.reload(lamb.types)\n",
      "    imp.reload(lamb.meta)\n",
      "    imp.reload(lamb.lang)"
     ],
     "language": "python",
     "metadata": {},
     "outputs": [],
     "prompt_number": 1
    },
    {
     "cell_type": "code",
     "collapsed": false,
     "input": [
      "reload_lamb()"
     ],
     "language": "python",
     "metadata": {},
     "outputs": [],
     "prompt_number": 1
    },
    {
     "cell_type": "markdown",
     "metadata": {},
     "source": [
      "*Existential closure*"
     ]
    },
    {
     "cell_type": "code",
     "collapsed": false,
     "input": [
      "ec_te = meta.LFun(types.type_property, meta.ExistsUnary(types.type_e, lang.te(\"f_<e,t>(x_e)\"), varname=\"x\"), varname=\"f\")\n",
      "ec_te"
     ],
     "language": "python",
     "metadata": {},
     "outputs": [
      {
       "latex": [
        "$\\lambda{} f_{\\langle{}e,t\\rangle{}} \\: . \\: \\exists{} x_{e} \\: . \\: {f}_{\\langle{}e,t\\rangle{}}({x}_{e})$"
       ],
       "metadata": {},
       "output_type": "pyout",
       "prompt_number": 2,
       "text": [
        "(\u03bb f_<e,t>: (Exists x_e: f_<e,t>(x_e)))"
       ]
      }
     ],
     "prompt_number": 2
    },
    {
     "cell_type": "code",
     "collapsed": false,
     "input": [
      "def ec_fun(f, assignment=None):\n",
      "    ts = meta.get_type_system()\n",
      "    if not (ts.eq_check(f.type, types.type_property)):\n",
      "        raise types.TypeMismatch(f, None, \"Existential closure for <et>\")\n",
      "    ec_expr = meta.LFun(types.type_property, meta.ExistsUnary(types.type_e, lang.te(\"f_<e,t>(x_e)\"), varname=\"x\"), varname=\"f\")\n",
      "    # reduce the body as well in case f was itself a lambda expression.\n",
      "    result = ec_expr.apply(f.content).reduce_sub(1)\n",
      "    # this much brute force is not necessary:\n",
      "    #result = ec_expr.apply(f.content).reduce_all()\n",
      "    return lang.UnaryComposite(f, result, source=\"EC(%s)\" % (f.name))\n",
      "\n",
      "ec_fun(lang.cat).content.derivation"
     ],
     "language": "python",
     "metadata": {},
     "outputs": [
      {
       "latex": [
        "<table><tr><td style=\"padding-right:5px\"> 1. </td><td style=\"padding-right:5px\">$\\exists{} x_{e} \\: . \\: [\\lambda{} x_{e} \\: . \\: {Cat}({x}_{e})]({x}_{e})$</td><td style=\"padding-left:10px;border-left:1px solid #848482\"></td></tr><tr><td style=\"padding-right:5px\"> 2. </td><td style=\"padding-right:5px\">$\\exists{} x_{e} \\: . \\: {Cat}({x}_{e})$</td><td style=\"padding-left:10px;border-left:1px solid #848482\">Reduction of body</td></tr></table>"
       ],
       "metadata": {},
       "output_type": "pyout",
       "prompt_number": 3,
       "text": [
        "<lamb.meta.Derivation at 0x103e4d0d0>"
       ]
      }
     ],
     "prompt_number": 3
    },
    {
     "cell_type": "code",
     "collapsed": false,
     "input": [
      "system = lang.td_system.copy()\n",
      "system.add_rule(lang.UnaryCompositionOp(\"EC\", ec_fun))\n",
      "lang.set_system(system)\n",
      "system"
     ],
     "language": "python",
     "metadata": {},
     "outputs": [
      {
       "latex": [
        "Composition system 'H&K simple (copy)'<br />Operations: FA, PM, PA, EC"
       ],
       "metadata": {},
       "output_type": "pyout",
       "prompt_number": 4,
       "text": [
        "Composition system: H&K simple (copy)"
       ]
      }
     ],
     "prompt_number": 4
    },
    {
     "cell_type": "code",
     "collapsed": false,
     "input": [
      "lang.cat * lang.gray"
     ],
     "language": "python",
     "metadata": {},
     "outputs": [
      {
       "latex": [
        "1 composition path.  Result:\n",
        "<br />&nbsp;&nbsp;&nbsp;&nbsp;[0]: $||\\mathbf{\\text{[cat gray]}}||^{}_{\\langle{}e,t\\rangle{}} \\:=\\: $$\\lambda{} x_{e} \\: . \\: ({Cat}({x}_{e}) \\wedge{} {Gray}({x}_{e}))$"
       ],
       "metadata": {},
       "output_type": "pyout",
       "prompt_number": 5,
       "text": [
        "CompositionResult(results=[||[cat gray]|| = (\u03bb x_e: (Cat_<e,t>(x_e) & Gray_<e,t>(x_e)))], failures=[||[cat gray]|| = Type mismatch: '||cat|| = (\u03bb x_e: Cat_<e,t>(x_e))'/<e,t> and '||gray|| = (\u03bb x_e: Gray_<e,t>(x_e))'/<e,t> conflict (mode: Function Application), ||[gray cat]|| = Type mismatch: '||gray|| = (\u03bb x_e: Gray_<e,t>(x_e))'/<e,t> and '||cat|| = (\u03bb x_e: Cat_<e,t>(x_e))'/<e,t> conflict (mode: Function Application), ||[cat gray]|| = Type mismatch: '||cat|| = (\u03bb x_e: Cat_<e,t>(x_e))'/<e,t> and '||gray|| = (\u03bb x_e: Gray_<e,t>(x_e))'/<e,t> conflict (mode: Predicate Abstraction), ||[gray cat]|| = Type mismatch: '||gray|| = (\u03bb x_e: Gray_<e,t>(x_e))'/<e,t> and '||cat|| = (\u03bb x_e: Cat_<e,t>(x_e))'/<e,t> conflict (mode: Predicate Abstraction)])"
       ]
      }
     ],
     "prompt_number": 5
    },
    {
     "cell_type": "code",
     "collapsed": false,
     "input": [
      "ectest = (lang.cat * lang.gray) * None\n",
      "ectest"
     ],
     "language": "python",
     "metadata": {},
     "outputs": [
      {
       "latex": [
        "1 composition path.  Result:\n",
        "<br />&nbsp;&nbsp;&nbsp;&nbsp;[0]: $||\\mathbf{\\text{EC([cat gray])}}||^{}_{t} \\:=\\: $$\\exists{} x_{e} \\: . \\: ({Cat}({x}_{e}) \\wedge{} {Gray}({x}_{e}))$"
       ],
       "metadata": {},
       "output_type": "pyout",
       "prompt_number": 6,
       "text": [
        "CompositionResult(results=[||EC([cat gray])|| = (Exists x_e: (Cat_<e,t>(x_e) & Gray_<e,t>(x_e)))], failures=[])"
       ]
      }
     ],
     "prompt_number": 6
    },
    {
     "cell_type": "code",
     "collapsed": false,
     "input": [
      "ectest.latex_step_tree(derivations=True)"
     ],
     "language": "python",
     "metadata": {},
     "outputs": [
      {
       "latex": [
        "1 composition path:<br /><table><tr><td style=\"vertical-align:bottom;padding:0px 10px\" align=\"center\"><table><tr><td style=\"vertical-align:bottom\"><table><tr><td style=\"vertical-align:bottom;padding:0px 10px\" align=\"center\"><table><tr><td style=\"vertical-align:bottom\"><table align=\"center\"><tr><td align=\"center\">$||\\mathbf{\\text{cat}}||^{}_{\\langle{}e,t\\rangle{}}$</td></tr><tr><td align=\"center\">$\\lambda{} x_{e} \\: . \\: {Cat}({x}_{e})$</td></tr></table>\n",
        "</td><td style=\"vertical-align:bottom;padding-bottom:5px\">&nbsp;&nbsp;&nbsp;$\\circ$&nbsp;&nbsp;&nbsp;</td><td style=\"vertical-align:bottom\"><table align=\"center\"><tr><td align=\"center\">$||\\mathbf{\\text{gray}}||^{}_{\\langle{}e,t\\rangle{}}$</td></tr><tr><td align=\"center\">$\\lambda{} x_{e} \\: . \\: {Gray}({x}_{e})$</td></tr></table>\n",
        "</td></tr></table></td><td style=\"vertical-align:bottom;padding-bottom:5px;padding-left:10px\"><b>[PM]</b></td></tr><tr style=\"border-top: 1px solid #848482\"><td align=\"center\"><table style=\"margin-top:10px\"><tr><td style=\"vertical-align:bottom\" align=\"center\">$||\\mathbf{\\text{[cat gray]}}||^{}_{\\langle{}e,t\\rangle{}}$</td></tr><tr><td style=\"vertical-align:bottom\" align=\"center\"><table><tr><td style=\"padding-right:5px\"> $=$ </td><td style=\"align:center\">$[\\lambda{} f_{\\langle{}e,t\\rangle{}} \\: . \\: \\lambda{} g_{\\langle{}e,t\\rangle{}} \\: . \\: \\lambda{} x_{e} \\: . \\: ({f}_{\\langle{}e,t\\rangle{}}({x}_{e}) \\wedge{} {g}_{\\langle{}e,t\\rangle{}}({x}_{e}))](\\lambda{} x_{e} \\: . \\: {Cat}({x}_{e}))(\\lambda{} x_{e} \\: . \\: {Gray}({x}_{e}))$</td></tr><tr><td style=\"padding-right:5px\"> $=$ </td><td style=\"align:center\">$[\\lambda{} g_{\\langle{}e,t\\rangle{}} \\: . \\: \\lambda{} x_{e} \\: . \\: ({Cat}({x}_{e}) \\wedge{} {g}_{\\langle{}e,t\\rangle{}}({x}_{e}))](\\lambda{} x_{e} \\: . \\: {Gray}({x}_{e}))$</td></tr><tr><td style=\"padding-right:5px\"> $=$ </td><td style=\"align:center\">$\\lambda{} x_{e} \\: . \\: ({Cat}({x}_{e}) \\wedge{} [\\lambda{} x_{e} \\: . \\: {Gray}({x}_{e})]({x}_{e}))$</td></tr><tr><td style=\"padding-right:5px\"> $=$ </td><td style=\"align:center\">$\\lambda{} x_{e} \\: . \\: ({Cat}({x}_{e}) \\wedge{} {Gray}({x}_{e}))$</td></tr></table></td></tr></table>\n",
        "</td><td></td></tr></table>\n",
        "</td></tr></table></td><td style=\"vertical-align:bottom;padding-bottom:5px;padding-left:10px\"><b>[EC]</b></td></tr><tr style=\"border-top: 1px solid #848482\"><td align=\"center\"><table style=\"margin-top:10px\"><tr><td style=\"vertical-align:bottom\" align=\"center\">$||\\mathbf{\\text{EC([cat gray])}}||^{}_{t}$</td></tr><tr><td style=\"vertical-align:bottom\" align=\"center\"><table><tr><td style=\"padding-right:5px\"> $=$ </td><td style=\"align:center\">$\\exists{} x_{e} \\: . \\: [\\lambda{} x_{e} \\: . \\: ({Cat}({x}_{e}) \\wedge{} {Gray}({x}_{e}))]({x}_{e})$</td></tr><tr><td style=\"padding-right:5px\"> $=$ </td><td style=\"align:center\">$\\exists{} x_{e} \\: . \\: ({Cat}({x}_{e}) \\wedge{} {Gray}({x}_{e}))$</td></tr></table></td></tr></table>\n",
        "</td><td></td></tr></table>\n",
        "<br /><br />"
       ],
       "metadata": {},
       "output_type": "pyout",
       "prompt_number": 7,
       "text": [
        "1 composition path:<br /><table><tr><td style=\"vertical-align:bottom;padding:0px 10px\" align=\"center\"><table><tr><td style=\"vertical-align:bottom\"><table><tr><td style=\"vertical-align:bottom;padding:0px 10px\" align=\"center\"><table><tr><td style=\"vertical-align:bottom\"><table align=\"center\"><tr><td align=\"center\">$||\\mathbf{\\text{cat}}||^{}_{\\langle{}e,t\\rangle{}}$</td></tr><tr><td align=\"center\">$\\lambda{} x_{e} \\: . \\: {Cat}({x}_{e})$</td></tr></table>\n",
        "</td><td style=\"vertical-align:bottom;padding-bottom:5px\">&nbsp;&nbsp;&nbsp;$\\circ$&nbsp;&nbsp;&nbsp;</td><td style=\"vertical-align:bottom\"><table align=\"center\"><tr><td align=\"center\">$||\\mathbf{\\text{gray}}||^{}_{\\langle{}e,t\\rangle{}}$</td></tr><tr><td align=\"center\">$\\lambda{} x_{e} \\: . \\: {Gray}({x}_{e})$</td></tr></table>\n",
        "</td></tr></table></td><td style=\"vertical-align:bottom;padding-bottom:5px;padding-left:10px\"><b>[PM]</b></td></tr><tr style=\"border-top: 1px solid #848482\"><td align=\"center\"><table style=\"margin-top:10px\"><tr><td style=\"vertical-align:bottom\" align=\"center\">$||\\mathbf{\\text{[cat gray]}}||^{}_{\\langle{}e,t\\rangle{}}$</td></tr><tr><td style=\"vertical-align:bottom\" align=\"center\"><table><tr><td style=\"padding-right:5px\"> $=$ </td><td style=\"align:center\">$[\\lambda{} f_{\\langle{}e,t\\rangle{}} \\: . \\: \\lambda{} g_{\\langle{}e,t\\rangle{}} \\: . \\: \\lambda{} x_{e} \\: . \\: ({f}_{\\langle{}e,t\\rangle{}}({x}_{e}) \\wedge{} {g}_{\\langle{}e,t\\rangle{}}({x}_{e}))](\\lambda{} x_{e} \\: . \\: {Cat}({x}_{e}))(\\lambda{} x_{e} \\: . \\: {Gray}({x}_{e}))$</td></tr><tr><td style=\"padding-right:5px\"> $=$ </td><td style=\"align:center\">$[\\lambda{} g_{\\langle{}e,t\\rangle{}} \\: . \\: \\lambda{} x_{e} \\: . \\: ({Cat}({x}_{e}) \\wedge{} {g}_{\\langle{}e,t\\rangle{}}({x}_{e}))](\\lambda{} x_{e} \\: . \\: {Gray}({x}_{e}))$</td></tr><tr><td style=\"padding-right:5px\"> $=$ </td><td style=\"align:center\">$\\lambda{} x_{e} \\: . \\: ({Cat}({x}_{e}) \\wedge{} [\\lambda{} x_{e} \\: . \\: {Gray}({x}_{e})]({x}_{e}))$</td></tr><tr><td style=\"padding-right:5px\"> $=$ </td><td style=\"align:center\">$\\lambda{} x_{e} \\: . \\: ({Cat}({x}_{e}) \\wedge{} {Gray}({x}_{e}))$</td></tr></table></td></tr></table>\n",
        "</td><td></td></tr></table>\n",
        "</td></tr></table></td><td style=\"vertical-align:bottom;padding-bottom:5px;padding-left:10px\"><b>[EC]</b></td></tr><tr style=\"border-top: 1px solid #848482\"><td align=\"center\"><table style=\"margin-top:10px\"><tr><td style=\"vertical-align:bottom\" align=\"center\">$||\\mathbf{\\text{EC([cat gray])}}||^{}_{t}$</td></tr><tr><td style=\"vertical-align:bottom\" align=\"center\"><table><tr><td style=\"padding-right:5px\"> $=$ </td><td style=\"align:center\">$\\exists{} x_{e} \\: . \\: [\\lambda{} x_{e} \\: . \\: ({Cat}({x}_{e}) \\wedge{} {Gray}({x}_{e}))]({x}_{e})$</td></tr><tr><td style=\"padding-right:5px\"> $=$ </td><td style=\"align:center\">$\\exists{} x_{e} \\: . \\: ({Cat}({x}_{e}) \\wedge{} {Gray}({x}_{e}))$</td></tr></table></td></tr></table>\n",
        "</td><td></td></tr></table>\n",
        "<br /><br />"
       ]
      }
     ],
     "prompt_number": 7
    },
    {
     "cell_type": "code",
     "collapsed": false,
     "input": [
      "ectest.full_trace_latex()"
     ],
     "language": "python",
     "metadata": {},
     "outputs": [
      {
       "latex": [
        "Full composition trace.  1 path:<br />\n",
        "&nbsp;&nbsp;&nbsp;&nbsp;Step 1: $[\\![\\mathbf{\\text{cat}}]\\!]^{}_{\\langle{}e,t\\rangle{}} \\:=\\: $$\\lambda{} x_{e} \\: . \\: {Cat}({x}_{e})$<br />\n",
        "&nbsp;&nbsp;&nbsp;&nbsp;Step 2: $[\\![\\mathbf{\\text{gray}}]\\!]^{}_{\\langle{}e,t\\rangle{}} \\:=\\: $$\\lambda{} x_{e} \\: . \\: {Gray}({x}_{e})$<br />\n",
        "&nbsp;&nbsp;&nbsp;&nbsp;Step 3: $[\\![\\mathbf{\\text{cat}}]\\!]^{}_{\\langle{}e,t\\rangle{}}$ * $[\\![\\mathbf{\\text{gray}}]\\!]^{}_{\\langle{}e,t\\rangle{}}$ leads to: $[\\![\\mathbf{\\text{[cat gray]}}]\\!]^{}_{\\langle{}e,t\\rangle{}} \\:=\\: $$\\lambda{} x_{e} \\: . \\: ({Cat}({x}_{e}) \\wedge{} {Gray}({x}_{e}))$ <b>[by PM]</b><br />\n",
        "&nbsp;&nbsp;&nbsp;&nbsp;Step 4: $[\\![\\mathbf{\\text{[cat gray]}}]\\!]^{}_{\\langle{}e,t\\rangle{}}$ leads to: $[\\![\\mathbf{\\text{EC([cat gray])}}]\\!]^{}_{t} \\:=\\: $$\\exists{} x_{e} \\: . \\: ({Cat}({x}_{e}) \\wedge{} {Gray}({x}_{e}))$ <b>[by EC]</b><br />\n"
       ],
       "metadata": {},
       "output_type": "pyout",
       "prompt_number": 14,
       "text": [
        "Full composition trace.  1 path:<br />\n",
        "&nbsp;&nbsp;&nbsp;&nbsp;Step 1: $[\\![\\mathbf{\\text{cat}}]\\!]^{}_{\\langle{}e,t\\rangle{}} \\:=\\: $$\\lambda{} x_{e} \\: . \\: {Cat}({x}_{e})$<br />\n",
        "&nbsp;&nbsp;&nbsp;&nbsp;Step 2: $[\\![\\mathbf{\\text{gray}}]\\!]^{}_{\\langle{}e,t\\rangle{}} \\:=\\: $$\\lambda{} x_{e} \\: . \\: {Gray}({x}_{e})$<br />\n",
        "&nbsp;&nbsp;&nbsp;&nbsp;Step 3: $[\\![\\mathbf{\\text{cat}}]\\!]^{}_{\\langle{}e,t\\rangle{}}$ * $[\\![\\mathbf{\\text{gray}}]\\!]^{}_{\\langle{}e,t\\rangle{}}$ leads to: $[\\![\\mathbf{\\text{[cat gray]}}]\\!]^{}_{\\langle{}e,t\\rangle{}} \\:=\\: $$\\lambda{} x_{e} \\: . \\: ({Cat}({x}_{e}) \\wedge{} {Gray}({x}_{e}))$ <b>[by PM]</b><br />\n",
        "&nbsp;&nbsp;&nbsp;&nbsp;Step 4: $[\\![\\mathbf{\\text{[cat gray]}}]\\!]^{}_{\\langle{}e,t\\rangle{}}$ leads to: $[\\![\\mathbf{\\text{EC([cat gray])}}]\\!]^{}_{t} \\:=\\: $$\\exists{} x_{e} \\: . \\: ({Cat}({x}_{e}) \\wedge{} {Gray}({x}_{e}))$ <b>[by EC]</b><br />\n"
       ]
      }
     ],
     "prompt_number": 14
    },
    {
     "cell_type": "code",
     "collapsed": false,
     "input": [],
     "language": "python",
     "metadata": {},
     "outputs": [],
     "prompt_number": 14
    },
    {
     "cell_type": "markdown",
     "metadata": {},
     "source": [
      "*Binding evaluation parameters*"
     ]
    },
    {
     "cell_type": "code",
     "collapsed": false,
     "input": [
      "reload_lamb()"
     ],
     "language": "python",
     "metadata": {},
     "outputs": [],
     "prompt_number": 15
    },
    {
     "cell_type": "code",
     "collapsed": false,
     "input": [
      "system = lang.td_system.copy()\n",
      "speaker = lang.te(\"speaker_e\")\n",
      "system.assign_controller = lang.AssignmentController(specials=[speaker])\n",
      "lang.set_system(system)\n",
      "# note that the predefined examples in lang are defined with a different composition system that has no controller"
     ],
     "language": "python",
     "metadata": {},
     "outputs": [],
     "prompt_number": 16
    },
    {
     "cell_type": "code",
     "collapsed": false,
     "input": [
      "i = lang.Item(\"I\", lang.te(\"speaker_e\"))\n",
      "i"
     ],
     "language": "python",
     "metadata": {},
     "outputs": [
      {
       "latex": [
        "$[\\![\\mathbf{\\text{I}}]\\!]^{{speaker}_{e}, g}_{e} \\:=\\: $${speaker}_{e}$"
       ],
       "metadata": {},
       "output_type": "pyout",
       "prompt_number": 17,
       "text": [
        "||I||[speaker, type e, g] = speaker"
       ]
      }
     ],
     "prompt_number": 17
    },
    {
     "cell_type": "code",
     "collapsed": false,
     "input": [
      "def monster_fun(f, assignment=None):\n",
      "    new_a = lang.Assignment(assignment)\n",
      "    new_a.update({\"speaker\": lang.te(\"x_e\")})\n",
      "    result = meta.LFun(types.type_e, f.content.under_assignment(new_a), varname=\"x\")\n",
      "    return lang.UnaryComposite(f, result, source=\"M(%s)\" % (f.name))\n",
      "\n",
      "monster_fun(i)"
     ],
     "language": "python",
     "metadata": {},
     "outputs": [
      {
       "latex": [
        "$[\\![\\mathbf{\\text{M(I)}}]\\!]^{{speaker}_{e}, g}_{\\langle{}e,e\\rangle{}} \\:=\\: $$\\lambda{} x_{e} \\: . \\: {x}_{e}$"
       ],
       "metadata": {},
       "output_type": "pyout",
       "prompt_number": 18,
       "text": [
        "||M(I)||[speaker, type e, g] = \u03bb x: x"
       ]
      }
     ],
     "prompt_number": 18
    },
    {
     "cell_type": "code",
     "collapsed": false,
     "input": [
      "system.add_rule(lang.UnaryCompositionOp(\"Monster\", monster_fun))"
     ],
     "language": "python",
     "metadata": {},
     "outputs": [],
     "prompt_number": 19
    },
    {
     "cell_type": "code",
     "collapsed": false,
     "input": [
      "m_test = i * None\n",
      "m_test"
     ],
     "language": "python",
     "metadata": {},
     "outputs": [
      {
       "latex": [
        "1 composition path.  Result:\n",
        "<br />&nbsp;&nbsp;&nbsp;&nbsp;$[\\![\\mathbf{\\text{M(I)}}]\\!]^{{speaker}_{e}, g}_{\\langle{}e,e\\rangle{}} \\:=\\: $$\\lambda{} x_{e} \\: . \\: {x}_{e}$"
       ],
       "metadata": {},
       "output_type": "pyout",
       "prompt_number": 20,
       "text": [
        "CompositionResult(results=[||M(I)||[speaker, type e, g] = \u03bb x: x], failures=[])"
       ]
      }
     ],
     "prompt_number": 20
    },
    {
     "cell_type": "code",
     "collapsed": false,
     "input": [
      "(lang.cat * i) * None"
     ],
     "language": "python",
     "metadata": {},
     "outputs": [
      {
       "latex": [
        "1 composition path.  Result:\n",
        "<br />&nbsp;&nbsp;&nbsp;&nbsp;$[\\![\\mathbf{\\text{M([cat I])}}]\\!]^{{speaker}_{e}, g}_{\\langle{}e,t\\rangle{}} \\:=\\: $$\\lambda{} x_{e} \\: . \\: {Cat}({x}_{e})$"
       ],
       "metadata": {},
       "output_type": "pyout",
       "prompt_number": 21,
       "text": [
        "CompositionResult(results=[||M([cat I])||[speaker, type e, g] = \u03bb x: Cat(x)], failures=[])"
       ]
      }
     ],
     "prompt_number": 21
    },
    {
     "cell_type": "code",
     "collapsed": false,
     "input": [
      "lang.cat * None"
     ],
     "language": "python",
     "metadata": {},
     "outputs": [
      {
       "latex": [
        "1 composition path.  Result:\n",
        "<br />&nbsp;&nbsp;&nbsp;&nbsp;$[\\![\\mathbf{\\text{M(cat)}}]\\!]^{{speaker}_{e}, g}_{\\langle{}e,\\langle{}e,t\\rangle{}\\rangle{}} \\:=\\: $$\\lambda{} x_{e} \\: . \\: \\lambda{} x_{e} \\: . \\: {Cat}({x}_{e})$"
       ],
       "metadata": {},
       "output_type": "pyout",
       "prompt_number": 22,
       "text": [
        "CompositionResult(results=[||M(cat)||[speaker, type e, g] = \u03bb x: \u03bb x: Cat(x)], failures=[])"
       ]
      }
     ],
     "prompt_number": 22
    },
    {
     "cell_type": "code",
     "collapsed": false,
     "input": [],
     "language": "python",
     "metadata": {},
     "outputs": []
    },
    {
     "cell_type": "markdown",
     "metadata": {},
     "source": [
      "*Predicate Modification*"
     ]
    },
    {
     "cell_type": "code",
     "collapsed": false,
     "input": [
      "reload_lamb()"
     ],
     "language": "python",
     "metadata": {},
     "outputs": [],
     "prompt_number": 23
    },
    {
     "cell_type": "code",
     "collapsed": false,
     "input": [
      "pm_op = lang.te(\"L f_<e,t> : L g_<e,t> : L x_e : f(x) & g(x)\")\n",
      "pm_op"
     ],
     "language": "python",
     "metadata": {},
     "outputs": [
      {
       "latex": [
        "$\\lambda{} f_{\\langle{}e,t\\rangle{}} \\: . \\: \\lambda{} g_{\\langle{}e,t\\rangle{}} \\: . \\: \\lambda{} x_{e} \\: . \\: ({f}_{\\langle{}e,t\\rangle{}}({x}_{e}) \\wedge{} {g}_{\\langle{}e,t\\rangle{}}({x}_{e}))$"
       ],
       "metadata": {},
       "output_type": "pyout",
       "prompt_number": 24,
       "text": [
        "\u03bb f: \u03bb g: \u03bb x: (f(x) & g(x))"
       ]
      }
     ],
     "prompt_number": 24
    },
    {
     "cell_type": "code",
     "collapsed": false,
     "input": [],
     "language": "python",
     "metadata": {},
     "outputs": [],
     "prompt_number": 32
    },
    {
     "cell_type": "code",
     "collapsed": false,
     "input": [
      "def pm_fun2(fun1, fun2, assignment=None):\n",
      "    \"\"\"H&K predicate modification -- restricted to type <et>.\"\"\"\n",
      "    ts = meta.get_type_system()\n",
      "    if not (ts.eq_check(fun1.type, types.type_property) and \n",
      "            ts.eq_check(fun2.type, types.type_property)):\n",
      "        raise TypeMismatch(fun1, fun2, \"Predicate Modification\")\n",
      "    #if fun1.type != fun2.type or fun1.type != type_property:\n",
      "    #    raise TypeMismatch(fun1, fun2, \"Predicate Modification\")\n",
      "    varname = fun1.content.varname\n",
      "    c1 = fun1.content.under_assignment(assignment)\n",
      "    c2 = fun2.content.under_assignment(assignment)\n",
      "    result = pm_op.apply(c1).apply(c2).reduce_all()\n",
      "    return lang.BinaryComposite(fun1, fun2, result)"
     ],
     "language": "python",
     "metadata": {},
     "outputs": [],
     "prompt_number": 26
    },
    {
     "cell_type": "code",
     "collapsed": false,
     "input": [
      "pm_fun2(lang.cat, lang.gray).content.derivation"
     ],
     "language": "python",
     "metadata": {},
     "outputs": [
      {
       "latex": [
        "<table><tr><td style=\"padding-right:5px\"> 1. </td><td style=\"padding-right:5px\">$\\lambda{} x_{e} \\: . \\: ([\\lambda{} x_{e} \\: . \\: {Cat}({x}_{e})]({x}_{e}) \\wedge{} [\\lambda{} x_{e} \\: . \\: {Gray}({x}_{e})]({x}_{e}))$</td><td style=\"padding-left:10px;border-left:1px solid #848482\"></td></tr><tr><td style=\"padding-right:5px\"> 2. </td><td style=\"padding-right:5px\">$\\lambda{} x_{e} \\: . \\: ({Cat}({x}_{e}) \\wedge{} {Gray}({x}_{e}))$</td><td style=\"padding-left:10px;border-left:1px solid #848482\">Recursive reduction of body</td></tr></table>"
       ],
       "metadata": {},
       "output_type": "pyout",
       "prompt_number": 27,
       "text": [
        "<lamb.meta.Derivation at 0x1040e0710>"
       ]
      }
     ],
     "prompt_number": 27
    },
    {
     "cell_type": "code",
     "collapsed": false,
     "input": [
      "test = lang.Item(\"test\", lang.te(\"L z_e: Cat_<e,t>(z_e) & P_<e,t>(x_e)\"))\n",
      "test"
     ],
     "language": "python",
     "metadata": {},
     "outputs": [
      {
       "latex": [
        "$[\\![\\mathbf{\\text{test}}]\\!]^{}_{\\langle{}e,t\\rangle{}} \\:=\\: $$\\lambda{} z_{e} \\: . \\: ({Cat}({z}_{e}) \\wedge{} {P}({x}_{e}))$"
       ],
       "metadata": {},
       "output_type": "pyout",
       "prompt_number": 28,
       "text": [
        "||test|| = \u03bb z: (Cat(z) & P(x))"
       ]
      }
     ],
     "prompt_number": 28
    },
    {
     "cell_type": "code",
     "collapsed": false,
     "input": [
      "system = lang.td_system.copy()\n",
      "system.remove_rule(\"PM\")\n",
      "system.add_rule(lang.BinaryCompositionOp(\"PM2\", pm_fun2))\n",
      "lang.set_system(system)\n",
      "system"
     ],
     "language": "python",
     "metadata": {},
     "outputs": [
      {
       "latex": [
        "Composition system 'H&K simple (copy)'<br />Operations: FA, PA, PM2"
       ],
       "metadata": {},
       "output_type": "pyout",
       "prompt_number": 38,
       "text": [
        "Composition system: H&K simple (copy)"
       ]
      }
     ],
     "prompt_number": 38
    },
    {
     "cell_type": "code",
     "collapsed": false,
     "input": [
      "(lang.cat * lang.gray).latex_step_tree(derivations=True)"
     ],
     "language": "python",
     "metadata": {},
     "outputs": [
      {
       "latex": [
        "2 composition paths:<br />\n",
        "Path 1:<br />\n",
        "<table><tr><td style=\"vertical-align:bottom;padding:0px 10px\" align=\"center\"><table><tr><td style=\"vertical-align:bottom\"><table align=\"center\"><tr><td align=\"center\">$[\\![\\mathbf{\\text{cat}}]\\!]^{}_{\\langle{}e,t\\rangle{}}$</td></tr><tr><td align=\"center\">$\\lambda{} x_{e} \\: . \\: {Cat}({x}_{e})$</td></tr></table>\n",
        "</td><td style=\"vertical-align:bottom;padding-bottom:5px\">&nbsp;&nbsp;&nbsp;$\\circ$&nbsp;&nbsp;&nbsp;</td><td style=\"vertical-align:bottom\"><table align=\"center\"><tr><td align=\"center\">$[\\![\\mathbf{\\text{gray}}]\\!]^{}_{\\langle{}e,t\\rangle{}}$</td></tr><tr><td align=\"center\">$\\lambda{} x_{e} \\: . \\: {Gray}({x}_{e})$</td></tr></table>\n",
        "</td></tr></table></td><td style=\"vertical-align:bottom;padding-bottom:5px;padding-left:10px\"><b>[PM2]</b></td></tr><tr style=\"border-top: 1px solid #848482\"><td align=\"center\"><table style=\"margin-top:10px\"><tr><td style=\"vertical-align:bottom\" align=\"center\">$[\\![\\mathbf{\\text{[cat gray]}}]\\!]^{}_{\\langle{}e,t\\rangle{}}$</td></tr><tr><td style=\"vertical-align:bottom\" align=\"center\"><table><tr><td style=\"padding-right:5px\"> $=$ </td><td style=\"align:center\">$\\lambda{} x_{e} \\: . \\: ([\\lambda{} x_{e} \\: . \\: {Cat}({x}_{e})]({x}_{e}) \\wedge{} [\\lambda{} x_{e} \\: . \\: {Gray}({x}_{e})]({x}_{e}))$</td></tr><tr><td style=\"padding-right:5px\"> $=$ </td><td style=\"align:center\">$\\lambda{} x_{e} \\: . \\: ({Cat}({x}_{e}) \\wedge{} {Gray}({x}_{e}))$</td></tr></table></td></tr></table>\n",
        "</td><td></td></tr></table>\n",
        "<br /><br />Path 2:<br />\n",
        "<table><tr><td style=\"vertical-align:bottom;padding:0px 10px\" align=\"center\"><table><tr><td style=\"vertical-align:bottom\"><table align=\"center\"><tr><td align=\"center\">$[\\![\\mathbf{\\text{gray}}]\\!]^{}_{\\langle{}e,t\\rangle{}}$</td></tr><tr><td align=\"center\">$\\lambda{} x_{e} \\: . \\: {Gray}({x}_{e})$</td></tr></table>\n",
        "</td><td style=\"vertical-align:bottom;padding-bottom:5px\">&nbsp;&nbsp;&nbsp;$\\circ$&nbsp;&nbsp;&nbsp;</td><td style=\"vertical-align:bottom\"><table align=\"center\"><tr><td align=\"center\">$[\\![\\mathbf{\\text{cat}}]\\!]^{}_{\\langle{}e,t\\rangle{}}$</td></tr><tr><td align=\"center\">$\\lambda{} x_{e} \\: . \\: {Cat}({x}_{e})$</td></tr></table>\n",
        "</td></tr></table></td><td style=\"vertical-align:bottom;padding-bottom:5px;padding-left:10px\"><b>[PM2]</b></td></tr><tr style=\"border-top: 1px solid #848482\"><td align=\"center\"><table style=\"margin-top:10px\"><tr><td style=\"vertical-align:bottom\" align=\"center\">$[\\![\\mathbf{\\text{[gray cat]}}]\\!]^{}_{\\langle{}e,t\\rangle{}}$</td></tr><tr><td style=\"vertical-align:bottom\" align=\"center\"><table><tr><td style=\"padding-right:5px\"> $=$ </td><td style=\"align:center\">$\\lambda{} x_{e} \\: . \\: ([\\lambda{} x_{e} \\: . \\: {Gray}({x}_{e})]({x}_{e}) \\wedge{} [\\lambda{} x_{e} \\: . \\: {Cat}({x}_{e})]({x}_{e}))$</td></tr><tr><td style=\"padding-right:5px\"> $=$ </td><td style=\"align:center\">$\\lambda{} x_{e} \\: . \\: ({Gray}({x}_{e}) \\wedge{} {Cat}({x}_{e}))$</td></tr></table></td></tr></table>\n",
        "</td><td></td></tr></table>\n",
        "<br /><br />"
       ],
       "metadata": {},
       "output_type": "pyout",
       "prompt_number": 39,
       "text": [
        "2 composition paths:<br />\n",
        "Path 1:<br />\n",
        "<table><tr><td style=\"vertical-align:bottom;padding:0px 10px\" align=\"center\"><table><tr><td style=\"vertical-align:bottom\"><table align=\"center\"><tr><td align=\"center\">$[\\![\\mathbf{\\text{cat}}]\\!]^{}_{\\langle{}e,t\\rangle{}}$</td></tr><tr><td align=\"center\">$\\lambda{} x_{e} \\: . \\: {Cat}({x}_{e})$</td></tr></table>\n",
        "</td><td style=\"vertical-align:bottom;padding-bottom:5px\">&nbsp;&nbsp;&nbsp;$\\circ$&nbsp;&nbsp;&nbsp;</td><td style=\"vertical-align:bottom\"><table align=\"center\"><tr><td align=\"center\">$[\\![\\mathbf{\\text{gray}}]\\!]^{}_{\\langle{}e,t\\rangle{}}$</td></tr><tr><td align=\"center\">$\\lambda{} x_{e} \\: . \\: {Gray}({x}_{e})$</td></tr></table>\n",
        "</td></tr></table></td><td style=\"vertical-align:bottom;padding-bottom:5px;padding-left:10px\"><b>[PM2]</b></td></tr><tr style=\"border-top: 1px solid #848482\"><td align=\"center\"><table style=\"margin-top:10px\"><tr><td style=\"vertical-align:bottom\" align=\"center\">$[\\![\\mathbf{\\text{[cat gray]}}]\\!]^{}_{\\langle{}e,t\\rangle{}}$</td></tr><tr><td style=\"vertical-align:bottom\" align=\"center\"><table><tr><td style=\"padding-right:5px\"> $=$ </td><td style=\"align:center\">$\\lambda{} x_{e} \\: . \\: ([\\lambda{} x_{e} \\: . \\: {Cat}({x}_{e})]({x}_{e}) \\wedge{} [\\lambda{} x_{e} \\: . \\: {Gray}({x}_{e})]({x}_{e}))$</td></tr><tr><td style=\"padding-right:5px\"> $=$ </td><td style=\"align:center\">$\\lambda{} x_{e} \\: . \\: ({Cat}({x}_{e}) \\wedge{} {Gray}({x}_{e}))$</td></tr></table></td></tr></table>\n",
        "</td><td></td></tr></table>\n",
        "<br /><br />Path 2:<br />\n",
        "<table><tr><td style=\"vertical-align:bottom;padding:0px 10px\" align=\"center\"><table><tr><td style=\"vertical-align:bottom\"><table align=\"center\"><tr><td align=\"center\">$[\\![\\mathbf{\\text{gray}}]\\!]^{}_{\\langle{}e,t\\rangle{}}$</td></tr><tr><td align=\"center\">$\\lambda{} x_{e} \\: . \\: {Gray}({x}_{e})$</td></tr></table>\n",
        "</td><td style=\"vertical-align:bottom;padding-bottom:5px\">&nbsp;&nbsp;&nbsp;$\\circ$&nbsp;&nbsp;&nbsp;</td><td style=\"vertical-align:bottom\"><table align=\"center\"><tr><td align=\"center\">$[\\![\\mathbf{\\text{cat}}]\\!]^{}_{\\langle{}e,t\\rangle{}}$</td></tr><tr><td align=\"center\">$\\lambda{} x_{e} \\: . \\: {Cat}({x}_{e})$</td></tr></table>\n",
        "</td></tr></table></td><td style=\"vertical-align:bottom;padding-bottom:5px;padding-left:10px\"><b>[PM2]</b></td></tr><tr style=\"border-top: 1px solid #848482\"><td align=\"center\"><table style=\"margin-top:10px\"><tr><td style=\"vertical-align:bottom\" align=\"center\">$[\\![\\mathbf{\\text{[gray cat]}}]\\!]^{}_{\\langle{}e,t\\rangle{}}$</td></tr><tr><td style=\"vertical-align:bottom\" align=\"center\"><table><tr><td style=\"padding-right:5px\"> $=$ </td><td style=\"align:center\">$\\lambda{} x_{e} \\: . \\: ([\\lambda{} x_{e} \\: . \\: {Gray}({x}_{e})]({x}_{e}) \\wedge{} [\\lambda{} x_{e} \\: . \\: {Cat}({x}_{e})]({x}_{e}))$</td></tr><tr><td style=\"padding-right:5px\"> $=$ </td><td style=\"align:center\">$\\lambda{} x_{e} \\: . \\: ({Gray}({x}_{e}) \\wedge{} {Cat}({x}_{e}))$</td></tr></table></td></tr></table>\n",
        "</td><td></td></tr></table>\n",
        "<br /><br />"
       ]
      }
     ],
     "prompt_number": 39
    },
    {
     "cell_type": "code",
     "collapsed": false,
     "input": [],
     "language": "python",
     "metadata": {},
     "outputs": [],
     "prompt_number": 39
    },
    {
     "cell_type": "code",
     "collapsed": false,
     "input": [],
     "language": "python",
     "metadata": {},
     "outputs": []
    }
   ],
   "metadata": {}
  }
 ]
}