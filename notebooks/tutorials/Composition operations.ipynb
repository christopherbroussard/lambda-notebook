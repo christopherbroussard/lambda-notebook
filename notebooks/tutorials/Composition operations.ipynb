{
 "metadata": {
  "name": "",
  "signature": "sha256:71314def9082c195d63285c497edde21acb6c8c54361b9eb263af93f041e114b"
 },
 "nbformat": 3,
 "nbformat_minor": 0,
 "worksheets": [
  {
   "cells": [
    {
     "cell_type": "code",
     "collapsed": false,
     "input": [
      "reload_lamb()"
     ],
     "language": "python",
     "metadata": {},
     "outputs": []
    },
    {
     "cell_type": "markdown",
     "metadata": {},
     "source": [
      "### Existential closure\n",
      "\n",
      "The simplest kind of operation to add is a unary operation, and existential closure is a good example of this.  (See the type shifting notebook for more examples of unary operations.)\n",
      "\n",
      "One way to define a composition operation is to write a python function that performs the operation.  Many details of this function may not be immediately obvious as it needs to interact quite a bit with the `lamb.lang` API."
     ]
    },
    {
     "cell_type": "code",
     "collapsed": false,
     "input": [
      "def ec_fun_direct(f, assignment=None):\n",
      "    ts = meta.get_type_system() # load the current type system\n",
      "    if not (ts.eq_check(f.type, types.type_property)): # is the type a property type?  (<e,t>)\n",
      "        raise types.TypeMismatch(f, None, \"Existential closure for <e,t>\")  # if not, raise an exception.\n",
      "    ec_expr = te(\"lambda f_<e,t> : Exists x_e : f(x)\") # see below for discussion of this.\n",
      "    result = ec_expr.apply(f.content.under_assignment(assignment)).reduce_sub(1) # reduce the body as well in case f was itself a lambda expression.\n",
      "    # this much brute force is not necessary:\n",
      "    #result = ec_expr.apply(f.content).reduce_all()\n",
      "    return lang.UnaryComposite(f, result, source=\"EC(%s)\" % (f.name))\n",
      "\n",
      "ec_fun_direct(lang.cat).content.derivation"
     ],
     "language": "python",
     "metadata": {},
     "outputs": []
    },
    {
     "cell_type": "markdown",
     "metadata": {},
     "source": [
      "Fortunately, there is often a much sumpler way to introduce a unary composition operation.  Notice that the above function relies on a functional version of existential closure defined as `ec_expr`: this is what is sometimes called a combinator (really just a function with no free variables).  All the extra stuff is a wrapping around this.  Even the type checking is present in the combinator definition, so programmatic type checking can be done automatically.  Here is the combinator again:"
     ]
    },
    {
     "cell_type": "code",
     "collapsed": false,
     "input": [
      "ec_combinator = te(\"lambda f_<e,t> : Exists x_e : f(x)\")\n",
      "ec_combinator"
     ],
     "language": "python",
     "metadata": {},
     "outputs": []
    },
    {
     "cell_type": "markdown",
     "metadata": {},
     "source": [
      "Any metalanguage function is also a python function, so you can do stuff like the following directly:"
     ]
    },
    {
     "cell_type": "code",
     "collapsed": false,
     "input": [
      "ec_combinator(lang.cat.content)"
     ],
     "language": "python",
     "metadata": {},
     "outputs": []
    },
    {
     "cell_type": "markdown",
     "metadata": {},
     "source": [
      "Finally, there is a factory function in the `lang` module that constructs a unary composition operation from a combinator.  This can be fed into the compositional system's add_rule function."
     ]
    },
    {
     "cell_type": "code",
     "collapsed": false,
     "input": [
      "ec_rule = lang.unary_factory(ec_combinator, \"EC\", typeshift=False)\n",
      "ec_rule(lang.cat).content.derivation"
     ],
     "language": "python",
     "metadata": {},
     "outputs": []
    },
    {
     "cell_type": "code",
     "collapsed": false,
     "input": [
      "system = lang.td_system.copy()\n",
      "system.add_rule(lang.UnaryCompositionOp(\"EC\", ec_rule))\n",
      "lang.set_system(system)\n",
      "system"
     ],
     "language": "python",
     "metadata": {},
     "outputs": []
    },
    {
     "cell_type": "code",
     "collapsed": false,
     "input": [
      "lang.cat * lang.gray"
     ],
     "language": "python",
     "metadata": {},
     "outputs": []
    },
    {
     "cell_type": "code",
     "collapsed": false,
     "input": [
      "ectest = (lang.cat * lang.gray) * None\n",
      "ectest"
     ],
     "language": "python",
     "metadata": {},
     "outputs": []
    },
    {
     "cell_type": "code",
     "collapsed": false,
     "input": [
      "ectest.tree(derivations=True)"
     ],
     "language": "python",
     "metadata": {},
     "outputs": []
    },
    {
     "cell_type": "code",
     "collapsed": false,
     "input": [
      "ectest.trace()"
     ],
     "language": "python",
     "metadata": {},
     "outputs": []
    },
    {
     "cell_type": "code",
     "collapsed": false,
     "input": [],
     "language": "python",
     "metadata": {},
     "outputs": []
    },
    {
     "cell_type": "markdown",
     "metadata": {},
     "source": [
      "### Binding evaluation parameters\n",
      "\n",
      "A second kind of unary operation involves abstracting over a free variable in the metalanguage expression.  This can be thought of as \"monstrous\" shifting in the sense of Kaplan.  The following code sketches an implementation of this."
     ]
    },
    {
     "cell_type": "code",
     "collapsed": false,
     "input": [
      "reload_lamb()"
     ],
     "language": "python",
     "metadata": {},
     "outputs": []
    },
    {
     "cell_type": "code",
     "collapsed": false,
     "input": [
      "system = lang.td_system.copy()\n",
      "speaker = lang.te(\"speaker_e\")\n",
      "system.assign_controller = lang.AssignmentController(specials=[speaker])\n",
      "lang.set_system(system)\n",
      "# note that the predefined examples in lang are defined with a different composition system that has no controller"
     ],
     "language": "python",
     "metadata": {},
     "outputs": []
    },
    {
     "cell_type": "code",
     "collapsed": false,
     "input": [
      "i = lang.Item(\"I\", lang.te(\"speaker_e\"))\n",
      "i"
     ],
     "language": "python",
     "metadata": {},
     "outputs": []
    },
    {
     "cell_type": "code",
     "collapsed": false,
     "input": [
      "def monster_fun(f, assignment=None):\n",
      "    new_a = lang.Assignment(assignment)\n",
      "    new_a.update({\"speaker\": lang.te(\"x_e\")})\n",
      "    result = meta.LFun(types.type_e, f.content.under_assignment(new_a), varname=\"x\")\n",
      "    return lang.UnaryComposite(f, result, source=\"M(%s)\" % (f.name))\n",
      "\n",
      "monster_fun(i)"
     ],
     "language": "python",
     "metadata": {},
     "outputs": []
    },
    {
     "cell_type": "code",
     "collapsed": false,
     "input": [
      "system.add_rule(lang.UnaryCompositionOp(\"Monster\", monster_fun))"
     ],
     "language": "python",
     "metadata": {},
     "outputs": []
    },
    {
     "cell_type": "code",
     "collapsed": false,
     "input": [
      "m_test = i * None\n",
      "m_test"
     ],
     "language": "python",
     "metadata": {},
     "outputs": []
    },
    {
     "cell_type": "code",
     "collapsed": false,
     "input": [
      "(lang.cat * i) * None"
     ],
     "language": "python",
     "metadata": {},
     "outputs": []
    },
    {
     "cell_type": "code",
     "collapsed": false,
     "input": [
      "lang.cat * None"
     ],
     "language": "python",
     "metadata": {},
     "outputs": []
    },
    {
     "cell_type": "code",
     "collapsed": false,
     "input": [
      "reload_lamb()"
     ],
     "language": "python",
     "metadata": {},
     "outputs": []
    },
    {
     "cell_type": "markdown",
     "metadata": {},
     "source": [
      "### Predicate Modification\n",
      "\n",
      "What about binary composition operations?  Predicate modification comes built in, but it is useful to see how one might construct PM.  Like the built-in version, this is restricted to type `<e,t>`, but please see the neo-Davidsonian notebook for a generalized version of PM.\n",
      "\n",
      "Once again, you could write a python function that does the work.\n",
      "  * Tangent: your instinct may be to construct the result directly by building up the right TypedExpression.  This is certainly possible, but it is surprisingly tricky to get right; I encourage you to find solutions that involve combinators."
     ]
    },
    {
     "cell_type": "code",
     "collapsed": false,
     "input": [
      "pm_op = lang.te(\"L f_<e,t> : L g_<e,t> : L x_e : f(x) & g(x)\")\n",
      "\n",
      "def pm_fun2(fun1, fun2, assignment=None):\n",
      "    \"\"\"H&K predicate modification -- restricted to type <e,t>.\"\"\"\n",
      "    ts = meta.get_type_system()\n",
      "    if not (ts.eq_check(fun1.type, types.type_property) and \n",
      "            ts.eq_check(fun2.type, types.type_property)):\n",
      "        raise TypeMismatch(fun1, fun2, \"Predicate Modification\")\n",
      "    c1 = fun1.content.under_assignment(assignment)\n",
      "    c2 = fun2.content.under_assignment(assignment)\n",
      "    result = pm_op.apply(c1).apply(c2).reduce_all()\n",
      "    return lang.BinaryComposite(fun1, fun2, result)"
     ],
     "language": "python",
     "metadata": {},
     "outputs": []
    },
    {
     "cell_type": "code",
     "collapsed": false,
     "input": [
      "pm_fun2(lang.cat, lang.gray).content.derivation"
     ],
     "language": "python",
     "metadata": {},
     "outputs": []
    },
    {
     "cell_type": "markdown",
     "metadata": {},
     "source": [
      "However, there is once again a combinator at the heart of this, and PM can be constructed directly using this combinator."
     ]
    },
    {
     "cell_type": "code",
     "collapsed": false,
     "input": [
      "pm_op"
     ],
     "language": "python",
     "metadata": {},
     "outputs": []
    },
    {
     "cell_type": "code",
     "collapsed": false,
     "input": [
      "system = lang.td_system.copy()\n",
      "system.remove_rule(\"PM\")\n",
      "#system.add_rule(lang.BinaryCompositionOp(\"PM2\", pm_fun2)) # this would use the function defined directly\n",
      "system.add_rule(lang.binary_factory_curried(pm_op, \"PM2\"))\n",
      "lang.set_system(system)\n",
      "system"
     ],
     "language": "python",
     "metadata": {},
     "outputs": []
    },
    {
     "cell_type": "code",
     "collapsed": false,
     "input": [
      "(lang.cat * lang.gray).tree()"
     ],
     "language": "python",
     "metadata": {},
     "outputs": []
    },
    {
     "cell_type": "code",
     "collapsed": false,
     "input": [],
     "language": "python",
     "metadata": {},
     "outputs": []
    }
   ],
   "metadata": {}
  }
 ]
}