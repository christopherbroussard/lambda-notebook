{
 "metadata": {
  "name": "",
  "signature": "sha256:147113328bae1e71dce2880db189b0d5f410399e116976027802ca6c9cd6fe22"
 },
 "nbformat": 3,
 "nbformat_minor": 0,
 "worksheets": [
  {
   "cells": [
    {
     "cell_type": "markdown",
     "metadata": {},
     "source": [
      "# Neo-davidsonian composition\n",
      "## Author: Kyle Rawlins\n",
      "\n",
      "This notebook demonstrates an implementation of a basic neo-Davidsonian treatment of semantic composition."
     ]
    },
    {
     "cell_type": "code",
     "collapsed": false,
     "input": [
      "#reload_lamb() # may be useful if you edit this notebook"
     ],
     "language": "python",
     "metadata": {},
     "outputs": []
    },
    {
     "cell_type": "markdown",
     "metadata": {},
     "source": [
      "The classic account of verb meaning is that it a verb relates individuals.  A transitive verb is a two-place relation in type e."
     ]
    },
    {
     "cell_type": "code",
     "collapsed": false,
     "input": [
      "type_e = types.type_e\n",
      "type_t = types.type_t\n",
      "type_n = types.type_n"
     ],
     "language": "python",
     "metadata": {},
     "outputs": []
    },
    {
     "cell_type": "code",
     "collapsed": false,
     "input": [
      "%%lamb\n",
      "||smokes|| = L x_e : Smokes(x)\n",
      "||sees|| = L y_e : L x_e : Sees(x, y)\n",
      "||alfonso|| = Alfonso_e\n",
      "||joanna|| = Joanna_e"
     ],
     "language": "python",
     "metadata": {},
     "outputs": []
    },
    {
     "cell_type": "code",
     "collapsed": false,
     "input": [
      "smokes * alfonso"
     ],
     "language": "python",
     "metadata": {},
     "outputs": []
    },
    {
     "cell_type": "code",
     "collapsed": false,
     "input": [
      "alfonso * (sees * joanna)"
     ],
     "language": "python",
     "metadata": {},
     "outputs": []
    },
    {
     "cell_type": "code",
     "collapsed": false,
     "input": [
      "(alfonso * (sees * joanna)).latex_step_tree()"
     ],
     "language": "python",
     "metadata": {},
     "outputs": []
    },
    {
     "cell_type": "markdown",
     "metadata": {},
     "source": [
      "There are many things that are tricky on this classical account.  The best argument is probably from adverbs.  I will not repeat the arguments in detail here, but the most basic one is what is sometimes called the 'diamond' entailment pattern (see e.g. Parsons 1990).  (1) illustrates the basic pattern, and (2)-(5) illustrate the diamond pattern.\n",
      "\n",
      "(1) Alfonso danced slowly $\\leadsto$ Alfonso danced\n",
      "\n",
      "(2) Alfonso danced slowly in the kitchen.\n",
      "\n",
      "(3) $\\leadsto$ Alfonso danced slowly.\n",
      "\n",
      "(4) $\\leadsto$ Alfonso danced in the kitchen.\n",
      "\n",
      "(5) $\\leadsto$ Alfonso danced.\n",
      "\n",
      "In general, core arguments do not show this sort of pattern, and it is not straightforward to handle under the relation account.  The pattern in (2)-(5) in fact resembles what happens with conjunction, which led Davidson to propose a somewhat different logical form for sentences like (2):\n",
      "\n",
      "(6) $\\exists e : Dancing(e, Alfonso) \\wedge Slow(e) \\wedge In(e, kitchen)$\n",
      "\n",
      "$e$ here is an event variable, and on Davidson's original account, verbs denote a relation on events and event participants.  In the neo-Davidsonian account, developed below, even participant combination is separated out.\n",
      "\n",
      "First we add a type for events ($v$):"
     ]
    },
    {
     "cell_type": "code",
     "collapsed": false,
     "input": [
      "type_v = types.OntoType(\"v\")\n",
      "neo_types = types.UnderTypeSystem(atomics={type_e, type_t, type_n, type_v, types.undetermined_type}, nonatomics={types.FunType, types.TupleType, types.SetType, types.UndeterminedType})\n",
      "meta.set_type_system(neo_types)\n",
      "neo_types"
     ],
     "language": "python",
     "metadata": {},
     "outputs": []
    },
    {
     "cell_type": "markdown",
     "metadata": {},
     "source": [
      "On this neo-Davidsonian treatment, VPs denote properties of events.  Predicates such as $Agent$ and $Patient$ in the meta-language relate events with participants.  Composition with a subject is mediated by a Kratzer-inspired little v, and composition with a direct object happens classically (though still mediated by a thematic predicate).\n",
      "\n",
      "To keep things simple, I have done everything here via Function Application."
     ]
    },
    {
     "cell_type": "code",
     "collapsed": false,
     "input": [
      "%%lamb\n",
      "agent = Agent_<(v,e),t> # this is a way of enforcing consistent types for this predicate.\n",
      "patient = Patient_<(v,e),t>\n",
      "||smokes|| = L e_v : Smoking(e)\n",
      "||sees|| = L y_e : L e_v : Seeing(e) & patient(e,y)\n",
      "||v|| = L f_<v,t> : L x_e : L e_v : f(e) & agent(e,x)"
     ],
     "language": "python",
     "metadata": {},
     "outputs": []
    },
    {
     "cell_type": "code",
     "collapsed": false,
     "input": [
      "r = (alfonso * (v * smokes))\n",
      "r.reduce_all()\n",
      "r"
     ],
     "language": "python",
     "metadata": {},
     "outputs": []
    },
    {
     "cell_type": "code",
     "collapsed": false,
     "input": [
      "r2 = (alfonso * (v * (sees * joanna)))\n",
      "r2.reduce_all()\n",
      "r2"
     ],
     "language": "python",
     "metadata": {},
     "outputs": []
    },
    {
     "cell_type": "code",
     "collapsed": false,
     "input": [
      "r2.latex_step_tree()"
     ],
     "language": "python",
     "metadata": {},
     "outputs": []
    },
    {
     "cell_type": "markdown",
     "metadata": {},
     "source": [
      "Despite the complicated sequence of composition, the end result is just a conjunction of event properties (more or less).\n",
      "\n",
      "Now, adverbs have a simple treatment, analogous to adjectives:"
     ]
    },
    {
     "cell_type": "code",
     "collapsed": false,
     "input": [
      "%%lamb\n",
      "||dance|| = L e_v : Dancing(e)\n",
      "||slowly|| = L f_<v,t> : L e_v : f(e) & Slow(e)\n",
      "||inP|| = L x_e : L f_<v,t> : L e_v : f(e) & Loc(e, x)\n",
      "||the|| = L f_<e,t> : Iota x_e : f(x)\n",
      "||kitchen|| = L x_e : Kitchen(x)"
     ],
     "language": "python",
     "metadata": {},
     "outputs": []
    },
    {
     "cell_type": "code",
     "collapsed": false,
     "input": [
      "itk = inP * (the * kitchen)\n",
      "itk.reduce_all()\n",
      "itk"
     ],
     "language": "python",
     "metadata": {},
     "outputs": []
    },
    {
     "cell_type": "code",
     "collapsed": false,
     "input": [
      "dance0 = (alfonso * (v * dance)).reduce_all()\n",
      "dance1 = (alfonso * (v * (dance * slowly))).reduce_all()\n",
      "dance2 = (alfonso * (v * (dance * itk))).reduce_all()\n",
      "dance3 = (alfonso * (v * ((dance * slowly) * itk))).reduce_all()\n",
      "ltx_print(dance0, dance1, dance2, dance3)"
     ],
     "language": "python",
     "metadata": {},
     "outputs": []
    },
    {
     "cell_type": "code",
     "collapsed": false,
     "input": [
      "dance3.latex_step_tree()"
     ],
     "language": "python",
     "metadata": {},
     "outputs": []
    },
    {
     "cell_type": "markdown",
     "metadata": {},
     "source": [
      "The denotations above remain unsaturated.  Part of Davidson's idea is that the truth-conditions of an \"action sentence\" involve existentially quantifying over an event.  There are a number of proposals as to how these existential quantifier is introduced compositionally, but the simplest is to treat it as a type shift (or unary composition operation).\n",
      "\n",
      "We can first do this by defining a function that performs \"existential closure\", and then defining a composition operation using that function."
     ]
    },
    {
     "cell_type": "code",
     "collapsed": false,
     "input": [
      "ec_fun = te(\"L f_<v,t> : Exists e_v : f(e)\")\n",
      "ec_fun"
     ],
     "language": "python",
     "metadata": {},
     "outputs": []
    },
    {
     "cell_type": "code",
     "collapsed": false,
     "input": [
      "(ec_fun(dance3[0].content)).reduce_all()"
     ],
     "language": "python",
     "metadata": {},
     "outputs": []
    },
    {
     "cell_type": "code",
     "collapsed": false,
     "input": [
      "type_event_property = tp(\"<v,t>\")\n",
      "def ec_op(f, assignment=None):\n",
      "    ts = meta.get_type_system()\n",
      "    if not (ts.eq_check(f.type, type_event_property)):\n",
      "        raise types.TypeMismatch(f, None, \"Existential closure for v,t\")\n",
      "    # reduce the body as well in case f was itself a lambda expression.\n",
      "    result = ec_fun.apply(f.content).reduce_sub(1)\n",
      "    # this much brute force is not necessary:\n",
      "    #result = ec_expr.apply(f.content).reduce_all()\n",
      "    return lang.UnaryComposite(f, result, source=\"EC(%s)\" % (f.name))\n",
      "\n",
      "system = lang.get_system().copy()\n",
      "system.add_rule(lang.UnaryCompositionOp(\"EC\", ec_op))\n",
      "lang.set_system(system)\n",
      "system"
     ],
     "language": "python",
     "metadata": {},
     "outputs": []
    },
    {
     "cell_type": "markdown",
     "metadata": {},
     "source": [
      "The way to force unary composition (at the moment) is to compose with None."
     ]
    },
    {
     "cell_type": "code",
     "collapsed": false,
     "input": [
      "dance4 = (dance3 * None)\n",
      "dance4"
     ],
     "language": "python",
     "metadata": {},
     "outputs": []
    },
    {
     "cell_type": "code",
     "collapsed": false,
     "input": [
      "dance4.latex_step_tree()"
     ],
     "language": "python",
     "metadata": {},
     "outputs": []
    },
    {
     "cell_type": "code",
     "collapsed": false,
     "input": [],
     "language": "python",
     "metadata": {},
     "outputs": []
    },
    {
     "cell_type": "markdown",
     "metadata": {},
     "source": [
      "The above treatment uses Function Application for every stage.  The alternative is to use a (generalized) version of Predicate Modification, or some similar operation (e.g. Chung and Ladusaw's Restrict).\n",
      "\n",
      "The version of PM provided by the lambda notebook library is specific to type $\\langle e,t \\rangle$, so we will need to generalize.  The library implemention of PM uses the function shown below as `basic_pm_fun`, and to generalize, one can construct such an operator for arbitrary input types.  The function `construct_gpm_fun` does this, with two example property types shown."
     ]
    },
    {
     "cell_type": "code",
     "collapsed": false,
     "input": [
      "basic_pm_fun = lang.te(\"L f_<e,t> : L g_<e,t> : L x_e : f(x) & g(x)\")\n",
      "basic_pm_fun"
     ],
     "language": "python",
     "metadata": {},
     "outputs": []
    },
    {
     "cell_type": "code",
     "collapsed": false,
     "input": [
      "def is_property(typ, ts):\n",
      "    if not typ.functional():\n",
      "        return False\n",
      "    return ts.eq_check(typ.right, types.type_t)\n",
      "\n",
      "def construct_gpm_fun(prop_type):\n",
      "    body = meta.BinaryAndExpr(meta.term(\"f\", prop_type)(meta.term(\"x\", prop_type.left)), meta.term(\"g\", prop_type)(meta.term(\"x\", prop_type.left)))\n",
      "    gpm_fun = meta.LFun(prop_type, (meta.LFun(prop_type, (meta.LFun(prop_type.left, (body), \"x\")), \"g\")), \"f\")\n",
      "    return gpm_fun\n",
      "\n",
      "ltx_print(construct_gpm_fun(meta.tp(\"<v,t>\")), construct_gpm_fun(meta.tp(\"<<e,(v,e)>,t>\")))"
     ],
     "language": "python",
     "metadata": {},
     "outputs": []
    },
    {
     "cell_type": "code",
     "collapsed": false,
     "input": [
      "def gpm_op(fun1, fun2, assignment=None):\n",
      "    \"\"\"H&K predicate modification -- restricted to type <et>.\"\"\"\n",
      "    ts = meta.get_type_system()\n",
      "    if not (is_property(fun1.type, ts) and is_property(fun2.type, ts) and ts.eq_check(fun1.type.left, fun2.type.left)):\n",
      "        raise types.TypeMismatch(fun1, fun2, \"Generalized Predicate Modification\")\n",
      "    (ptype1, ptype2) = ts.unify(fun1.type, fun2.type)\n",
      "    #gpm_fun = meta.LFun(ptype1, (meta.LFun(ptype1, (meta.LFun(ptype1.left, (lang.te(\"f(x) & g(x)\")), \"x\")), \"g\")), \"f\")\n",
      "    gpm_fun = construct_gpm_fun(ptype1)\n",
      "    c1 = fun1.content.under_assignment(assignment)\n",
      "    c2 = fun2.content.under_assignment(assignment)\n",
      "    result = (gpm_fun(c1)(c2)).reduce_all()\n",
      "    return lang.BinaryComposite(fun1, fun2, result)\n",
      "\n",
      "system = lang.get_system().copy()\n",
      "system.add_rule(lang.BinaryCompositionOp(\"GPM\", gpm_op, commutative=True))\n",
      "lang.set_system(system)\n",
      "system"
     ],
     "language": "python",
     "metadata": {},
     "outputs": []
    },
    {
     "cell_type": "code",
     "collapsed": false,
     "input": [
      "(dance * dance).latex_step_tree()"
     ],
     "language": "python",
     "metadata": {},
     "outputs": []
    },
    {
     "cell_type": "markdown",
     "metadata": {},
     "source": [
      "Note that PM is redundant with GPM, so we may want to remove PM: (and if you re-run this code without a full reset, may need to remove extra GPMs)"
     ]
    },
    {
     "cell_type": "code",
     "collapsed": false,
     "input": [
      "(kitchen * kitchen).latex_step_tree(derivations=True)"
     ],
     "language": "python",
     "metadata": {},
     "outputs": []
    },
    {
     "cell_type": "code",
     "collapsed": false,
     "input": [
      "system.remove_rule(\"PM\")\n",
      "system"
     ],
     "language": "python",
     "metadata": {},
     "outputs": []
    },
    {
     "cell_type": "code",
     "collapsed": false,
     "input": [
      "kitchen * kitchen"
     ],
     "language": "python",
     "metadata": {},
     "outputs": []
    },
    {
     "cell_type": "markdown",
     "metadata": {},
     "source": [
      "Now with those preliminaries out of the way, we are in good shape to reformulate the neo-Davidsonian account using mainly GPM.\n",
      "\n",
      "Just to demonstrate what this could involve, I'll alter the assumption about little-v.  The early implementation assumed that the subject composed in Spec,TP; now we can even assume it is in Spec,vP.  This leads to much simpler entries all around, and is close to Kratzer's original proposal."
     ]
    },
    {
     "cell_type": "code",
     "collapsed": false,
     "input": [
      "%%lamb\n",
      "# redo everything\n",
      "||smokes|| = L e_v : Smoking(e)\n",
      "||sees|| = L y_e : L e_v : Seeing(e) & patient(e,y)\n",
      "||v|| = L x_e : L e_v : agent(e,x)\n",
      "||dance|| = L e_v : Dancing(e)\n",
      "||slowly|| = L e_v : Slow(e)\n",
      "||inP|| = L x_e : L e_v : Loc(e, x)\n",
      "||the|| = L f_<e,t> : Iota x_e : f(x)\n",
      "||kitchen|| = L x_e : Kitchen(x)"
     ],
     "language": "python",
     "metadata": {},
     "outputs": []
    },
    {
     "cell_type": "code",
     "collapsed": false,
     "input": [
      "((alfonso * v) * smokes).latex_step_tree()"
     ],
     "language": "python",
     "metadata": {},
     "outputs": []
    },
    {
     "cell_type": "code",
     "collapsed": false,
     "input": [
      "((alfonso * v) * ((dance * slowly) * (inP * (the * kitchen)))) * None"
     ],
     "language": "python",
     "metadata": {},
     "outputs": []
    },
    {
     "cell_type": "code",
     "collapsed": false,
     "input": [
      "(((alfonso * v) * ((dance * slowly) * (inP * (the * kitchen)))) * None).latex_step_tree()"
     ],
     "language": "python",
     "metadata": {},
     "outputs": []
    },
    {
     "cell_type": "markdown",
     "metadata": {},
     "source": [
      "Of course, this raises many questions that are not answered by the basic compositional architecture.  What is an agent/patient?  What does it mean for an event to be `Slow`?  Etc.  However, the basic desiderata of the diamond entailment now follow, assuming any reasonable treatment of $\\wedge$, so I will leave off here; see Parsons, Landman, and many many others for development of the Davidsonian program."
     ]
    },
    {
     "cell_type": "code",
     "collapsed": false,
     "input": [],
     "language": "python",
     "metadata": {},
     "outputs": []
    },
    {
     "cell_type": "code",
     "collapsed": false,
     "input": [],
     "language": "python",
     "metadata": {},
     "outputs": []
    },
    {
     "cell_type": "code",
     "collapsed": false,
     "input": [],
     "language": "python",
     "metadata": {},
     "outputs": []
    }
   ],
   "metadata": {}
  }
 ]
}