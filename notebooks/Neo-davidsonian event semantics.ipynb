{
 "metadata": {
  "name": "",
  "signature": "sha256:56f72b9a3b3e33758f6765569a17023a795805b3c60dca95d277dc0468c1651a"
 },
 "nbformat": 3,
 "nbformat_minor": 0,
 "worksheets": [
  {
   "cells": [
    {
     "cell_type": "markdown",
     "metadata": {},
     "source": [
      "# Neo-davidsonian composition\n",
      "## Author: Kyle Rawlins\n",
      "\n",
      "This notebook demonstrates an implementation of a basic neo-Davidsonian treatment of semantic composition."
     ]
    },
    {
     "cell_type": "code",
     "collapsed": false,
     "input": [
      "#reload_lamb() # may be useful if you edit this notebook"
     ],
     "language": "python",
     "metadata": {},
     "outputs": [],
     "prompt_number": 1
    },
    {
     "cell_type": "markdown",
     "metadata": {},
     "source": [
      "The classic account of verb meaning is that it a verb relates individuals.  A transitive verb is a two-place relation in type e."
     ]
    },
    {
     "cell_type": "code",
     "collapsed": false,
     "input": [
      "type_e = types.type_e\n",
      "type_t = types.type_t\n",
      "type_n = types.type_n"
     ],
     "language": "python",
     "metadata": {},
     "outputs": [],
     "prompt_number": 2
    },
    {
     "cell_type": "code",
     "collapsed": false,
     "input": [
      "%%lamb\n",
      "||smokes|| = L x_e : Smokes(x)\n",
      "||sees|| = L y_e : L x_e : Sees(x, y)\n",
      "||alfonso|| = Alfonso_e\n",
      "||joanna|| = Joanna_e"
     ],
     "language": "python",
     "metadata": {},
     "outputs": [
      {
       "output_type": "stream",
       "stream": "stderr",
       "text": [
        "INFO (meta): Coerced guessed type t for 'Smokes_t' into <e,t>, to match argument 'x_e'\n"
       ]
      },
      {
       "output_type": "stream",
       "stream": "stderr",
       "text": [
        "INFO (meta): Coerced guessed type t for 'Sees_t' into <(e,e),t>, to match argument '(x_e, y_e)'\n"
       ]
      },
      {
       "latex": [
        "$||\\mathbf{\\text{smokes}}||^{}_{\\langle{}e,t\\rangle{}} \\:=\\: \\lambda{} x_{e} \\: . \\: {Smokes}({x}_{e})$<br />\n",
        "$||\\mathbf{\\text{sees}}||^{}_{\\langle{}e,\\langle{}e,t\\rangle{}\\rangle{}} \\:=\\: \\lambda{} y_{e} \\: . \\: \\lambda{} x_{e} \\: . \\: {Sees}({x}_{e}, {y}_{e})$<br />\n",
        "$||\\mathbf{\\text{alfonso}}||^{}_{e} \\:=\\: {Alfonso}_{e}$<br />\n",
        "$||\\mathbf{\\text{joanna}}||^{}_{e} \\:=\\: {Joanna}_{e}$"
       ],
       "metadata": {},
       "output_type": "pyout",
       "prompt_number": 3,
       "text": [
        "$||\\mathbf{\\text{smokes}}||^{}_{\\langle{}e,t\\rangle{}} \\:=\\: \\lambda{} x_{e} \\: . \\: {Smokes}({x}_{e})$<br />\n",
        "$||\\mathbf{\\text{sees}}||^{}_{\\langle{}e,\\langle{}e,t\\rangle{}\\rangle{}} \\:=\\: \\lambda{} y_{e} \\: . \\: \\lambda{} x_{e} \\: . \\: {Sees}({x}_{e}, {y}_{e})$<br />\n",
        "$||\\mathbf{\\text{alfonso}}||^{}_{e} \\:=\\: {Alfonso}_{e}$<br />\n",
        "$||\\mathbf{\\text{joanna}}||^{}_{e} \\:=\\: {Joanna}_{e}$"
       ]
      }
     ],
     "prompt_number": 3
    },
    {
     "cell_type": "code",
     "collapsed": false,
     "input": [
      "smokes * alfonso"
     ],
     "language": "python",
     "metadata": {},
     "outputs": [
      {
       "latex": [
        "1 composition path.  Result:\n",
        "<br />&nbsp;&nbsp;&nbsp;&nbsp;[0]: $||\\mathbf{\\text{[smokes alfonso]}}||^{}_{t} \\:=\\: $${Smokes}({Alfonso}_{e})$"
       ],
       "metadata": {},
       "output_type": "pyout",
       "prompt_number": 4,
       "text": [
        "CompositionResult(results=[||[smokes alfonso]|| = Smokes_<e,t>(Alfonso_e)], failures=[||[alfonso smokes]|| = Type mismatch: '||alfonso|| = Alfonso_e'/e and '||smokes|| = (\u03bb x_e: Smokes_<e,t>(x_e))'/<e,t> conflict (mode: Function Application), ||[smokes alfonso]|| = Type mismatch: '||smokes|| = (\u03bb x_e: Smokes_<e,t>(x_e))'/<e,t> and '||alfonso|| = Alfonso_e'/e conflict (mode: Predicate Modification), ||[smokes alfonso]|| = Type mismatch: '||smokes|| = (\u03bb x_e: Smokes_<e,t>(x_e))'/<e,t> and '||alfonso|| = Alfonso_e'/e conflict (mode: Predicate Abstraction), ||[alfonso smokes]|| = Type mismatch: '||alfonso|| = Alfonso_e'/e and '||smokes|| = (\u03bb x_e: Smokes_<e,t>(x_e))'/<e,t> conflict (mode: Predicate Abstraction)])"
       ]
      }
     ],
     "prompt_number": 4
    },
    {
     "cell_type": "code",
     "collapsed": false,
     "input": [
      "alfonso * (sees * joanna)"
     ],
     "language": "python",
     "metadata": {},
     "outputs": [
      {
       "latex": [
        "1 composition path.  Result:\n",
        "<br />&nbsp;&nbsp;&nbsp;&nbsp;[0]: $||\\mathbf{\\text{[[sees joanna] alfonso]}}||^{}_{t} \\:=\\: $${Sees}({Alfonso}_{e}, {Joanna}_{e})$"
       ],
       "metadata": {},
       "output_type": "pyout",
       "prompt_number": 5,
       "text": [
        "CompositionResult(results=[||[[sees joanna] alfonso]|| = Sees_<(e,e),t>(Alfonso_e, Joanna_e)], failures=[||[alfonso [sees joanna]]|| = Type mismatch: '||alfonso|| = Alfonso_e'/e and '||[sees joanna]|| = (\u03bb x_e: Sees_<(e,e),t>(x_e, Joanna_e))'/<e,t> conflict (mode: Function Application), ||[alfonso [sees joanna]]|| = Type mismatch: '||alfonso|| = Alfonso_e'/e and '||[sees joanna]|| = (\u03bb x_e: Sees_<(e,e),t>(x_e, Joanna_e))'/<e,t> conflict (mode: Predicate Modification), ||[alfonso [sees joanna]]|| = Type mismatch: '||alfonso|| = Alfonso_e'/e and '||[sees joanna]|| = (\u03bb x_e: Sees_<(e,e),t>(x_e, Joanna_e))'/<e,t> conflict (mode: Predicate Abstraction), ||[[sees joanna] alfonso]|| = Type mismatch: '||[sees joanna]|| = (\u03bb x_e: Sees_<(e,e),t>(x_e, Joanna_e))'/<e,t> and '||alfonso|| = Alfonso_e'/e conflict (mode: Predicate Abstraction)])"
       ]
      }
     ],
     "prompt_number": 5
    },
    {
     "cell_type": "code",
     "collapsed": false,
     "input": [
      "(alfonso * (sees * joanna)).latex_step_tree()"
     ],
     "language": "python",
     "metadata": {},
     "outputs": [
      {
       "latex": [
        "1 composition path:<br /><table><tr><td style=\"vertical-align:bottom;padding:0px 10px\" align=\"center\"><table><tr><td style=\"vertical-align:bottom\"><table><tr><td style=\"vertical-align:bottom;padding:0px 10px\" align=\"center\"><table><tr><td style=\"vertical-align:bottom\"><table align=\"center\"><tr><td align=\"center\">$||\\mathbf{\\text{sees}}||^{}_{\\langle{}e,\\langle{}e,t\\rangle{}\\rangle{}}$</td></tr><tr><td align=\"center\">$\\lambda{} y_{e} \\: . \\: \\lambda{} x_{e} \\: . \\: {Sees}({x}_{e}, {y}_{e})$</td></tr></table>\n",
        "</td><td style=\"vertical-align:bottom;padding-bottom:5px\">&nbsp;&nbsp;&nbsp;$\\circ$&nbsp;&nbsp;&nbsp;</td><td style=\"vertical-align:bottom\"><table align=\"center\"><tr><td align=\"center\">$||\\mathbf{\\text{joanna}}||^{}_{e}$</td></tr><tr><td align=\"center\">${Joanna}_{e}$</td></tr></table>\n",
        "</td></tr></table></td><td style=\"vertical-align:bottom;padding-bottom:5px;padding-left:10px\"><b>[FA]</b></td></tr><tr style=\"border-top: 1px solid #848482\"><td align=\"center\"><table style=\"margin-top:10px\"><tr><td style=\"vertical-align:bottom\" align=\"center\">$||\\mathbf{\\text{[sees joanna]}}||^{}_{\\langle{}e,t\\rangle{}}$</td></tr><tr><td style=\"vertical-align:bottom\" align=\"center\">$ = \\lambda{} x_{e} \\: . \\: {Sees}({x}_{e}, {Joanna}_{e})$</td></tr></table>\n",
        "</td><td></td></tr></table>\n",
        "</td><td style=\"vertical-align:bottom;padding-bottom:5px\">&nbsp;&nbsp;&nbsp;$\\circ$&nbsp;&nbsp;&nbsp;</td><td style=\"vertical-align:bottom\"><table align=\"center\"><tr><td align=\"center\">$||\\mathbf{\\text{alfonso}}||^{}_{e}$</td></tr><tr><td align=\"center\">${Alfonso}_{e}$</td></tr></table>\n",
        "</td></tr></table></td><td style=\"vertical-align:bottom;padding-bottom:5px;padding-left:10px\"><b>[FA]</b></td></tr><tr style=\"border-top: 1px solid #848482\"><td align=\"center\"><table style=\"margin-top:10px\"><tr><td style=\"vertical-align:bottom\" align=\"center\">$||\\mathbf{\\text{[[sees joanna] alfonso]}}||^{}_{t}$</td></tr><tr><td style=\"vertical-align:bottom\" align=\"center\">$ = {Sees}({Alfonso}_{e}, {Joanna}_{e})$</td></tr></table>\n",
        "</td><td></td></tr></table>\n",
        "<br /><br />"
       ],
       "metadata": {},
       "output_type": "pyout",
       "prompt_number": 6,
       "text": [
        "1 composition path:<br /><table><tr><td style=\"vertical-align:bottom;padding:0px 10px\" align=\"center\"><table><tr><td style=\"vertical-align:bottom\"><table><tr><td style=\"vertical-align:bottom;padding:0px 10px\" align=\"center\"><table><tr><td style=\"vertical-align:bottom\"><table align=\"center\"><tr><td align=\"center\">$||\\mathbf{\\text{sees}}||^{}_{\\langle{}e,\\langle{}e,t\\rangle{}\\rangle{}}$</td></tr><tr><td align=\"center\">$\\lambda{} y_{e} \\: . \\: \\lambda{} x_{e} \\: . \\: {Sees}({x}_{e}, {y}_{e})$</td></tr></table>\n",
        "</td><td style=\"vertical-align:bottom;padding-bottom:5px\">&nbsp;&nbsp;&nbsp;$\\circ$&nbsp;&nbsp;&nbsp;</td><td style=\"vertical-align:bottom\"><table align=\"center\"><tr><td align=\"center\">$||\\mathbf{\\text{joanna}}||^{}_{e}$</td></tr><tr><td align=\"center\">${Joanna}_{e}$</td></tr></table>\n",
        "</td></tr></table></td><td style=\"vertical-align:bottom;padding-bottom:5px;padding-left:10px\"><b>[FA]</b></td></tr><tr style=\"border-top: 1px solid #848482\"><td align=\"center\"><table style=\"margin-top:10px\"><tr><td style=\"vertical-align:bottom\" align=\"center\">$||\\mathbf{\\text{[sees joanna]}}||^{}_{\\langle{}e,t\\rangle{}}$</td></tr><tr><td style=\"vertical-align:bottom\" align=\"center\">$ = \\lambda{} x_{e} \\: . \\: {Sees}({x}_{e}, {Joanna}_{e})$</td></tr></table>\n",
        "</td><td></td></tr></table>\n",
        "</td><td style=\"vertical-align:bottom;padding-bottom:5px\">&nbsp;&nbsp;&nbsp;$\\circ$&nbsp;&nbsp;&nbsp;</td><td style=\"vertical-align:bottom\"><table align=\"center\"><tr><td align=\"center\">$||\\mathbf{\\text{alfonso}}||^{}_{e}$</td></tr><tr><td align=\"center\">${Alfonso}_{e}$</td></tr></table>\n",
        "</td></tr></table></td><td style=\"vertical-align:bottom;padding-bottom:5px;padding-left:10px\"><b>[FA]</b></td></tr><tr style=\"border-top: 1px solid #848482\"><td align=\"center\"><table style=\"margin-top:10px\"><tr><td style=\"vertical-align:bottom\" align=\"center\">$||\\mathbf{\\text{[[sees joanna] alfonso]}}||^{}_{t}$</td></tr><tr><td style=\"vertical-align:bottom\" align=\"center\">$ = {Sees}({Alfonso}_{e}, {Joanna}_{e})$</td></tr></table>\n",
        "</td><td></td></tr></table>\n",
        "<br /><br />"
       ]
      }
     ],
     "prompt_number": 6
    },
    {
     "cell_type": "markdown",
     "metadata": {},
     "source": [
      "There are many things that are tricky on this classical account.  The best argument is probably from adverbs.  I will not repeat the arguments in detail here, but the most basic one is what is sometimes called the 'diamond' entailment pattern (see e.g. Parsons 1990).  (1) illustrates the basic pattern, and (2)-(5) illustrate the diamond pattern.\n",
      "\n",
      "(1) Alfonso danced slowly $\\leadsto$ Alfonso danced\n",
      "\n",
      "(2) Alfonso danced slowly in the kitchen.\n",
      "\n",
      "(3) $\\leadsto$ Alfonso danced slowly.\n",
      "\n",
      "(4) $\\leadsto$ Alfonso danced in the kitchen.\n",
      "\n",
      "(5) $\\leadsto$ Alfonso danced.\n",
      "\n",
      "In general, core arguments do not show this sort of pattern, and it is not straightforward to handle under the relation account.  The pattern in (2)-(5) in fact resembles what happens with conjunction, which led Davidson to propose a somewhat different logical form for sentences like (2):\n",
      "\n",
      "(6) $\\exists e : Dancing(e, Alfonso) \\wedge Slow(e) \\wedge In(e, kitchen)$\n",
      "\n",
      "$e$ here is an event variable, and on Davidson's original account, verbs denote a relation on events and event participants.  In the neo-Davidsonian account, developed below, even participant combination is separated out.\n",
      "\n",
      "First we add a type for events ($v$):"
     ]
    },
    {
     "cell_type": "code",
     "collapsed": false,
     "input": [
      "type_v = types.OntoType(\"v\")\n",
      "neo_types = types.UnderTypeSystem(atomics={type_e, type_t, type_n, type_v, types.undetermined_type}, nonatomics={types.FunType, types.TupleType, types.SetType, types.UndeterminedType})\n",
      "meta.set_type_system(neo_types)\n",
      "neo_types"
     ],
     "language": "python",
     "metadata": {},
     "outputs": [
      {
       "latex": [
        "Type system with atomic types: $n, ?, v, e, t$"
       ],
       "metadata": {},
       "output_type": "pyout",
       "prompt_number": 7,
       "text": [
        "<lamb.types.UnderTypeSystem at 0x103f12990>"
       ]
      }
     ],
     "prompt_number": 7
    },
    {
     "cell_type": "markdown",
     "metadata": {},
     "source": [
      "On this neo-Davidsonian treatment, VPs denote properties of events.  Predicates such as $Agent$ and $Patient$ in the meta-language relate events with participants.  Composition with a subject is mediated by a Kratzer-inspired little v, and composition with a direct object happens classically (though still mediated by a thematic predicate).\n",
      "\n",
      "To keep things simple, I have done everything here via Function Application."
     ]
    },
    {
     "cell_type": "code",
     "collapsed": false,
     "input": [
      "%%lamb\n",
      "agent = Agent_<(v,e),t> # this is a way of enforcing consistent types for this predicate.\n",
      "patient = Patient_<(v,e),t>\n",
      "||smokes|| = L e_v : Smoking(e)\n",
      "||sees|| = L y_e : L e_v : Seeing(e) & patient(e,y)\n",
      "||v|| = L f_<v,t> : L x_e : L e_v : f(e) & agent(e,x)"
     ],
     "language": "python",
     "metadata": {},
     "outputs": [
      {
       "output_type": "stream",
       "stream": "stderr",
       "text": [
        "INFO (meta): Coerced guessed type t for 'Smoking_t' into <v,t>, to match argument 'e_v'\n"
       ]
      },
      {
       "output_type": "stream",
       "stream": "stderr",
       "text": [
        "INFO (meta): Coerced guessed type t for 'Seeing_t' into <v,t>, to match argument 'e_v'\n"
       ]
      },
      {
       "latex": [
        "${agent}_{\\langle{}(v, e),t\\rangle{}}\\:=\\:{Agent}$<br />\n",
        "${patient}_{\\langle{}(v, e),t\\rangle{}}\\:=\\:{Patient}$<br />\n",
        "$||\\mathbf{\\text{smokes}}||^{}_{\\langle{}v,t\\rangle{}} \\:=\\: \\lambda{} e_{v} \\: . \\: {Smoking}_{\\langle{}v,t\\rangle{}}({e}_{v})$<br />\n",
        "$||\\mathbf{\\text{sees}}||^{}_{\\langle{}e,\\langle{}v,t\\rangle{}\\rangle{}} \\:=\\: \\lambda{} y_{e} \\: . \\: \\lambda{} e_{v} \\: . \\: ({Seeing}_{\\langle{}v,t\\rangle{}}({e}_{v}) \\wedge{} {Patient}({e}_{v}, {y}_{e}))$<br />\n",
        "$||\\mathbf{\\text{v}}||^{}_{\\langle{}\\langle{}v,t\\rangle{},\\langle{}e,\\langle{}v,t\\rangle{}\\rangle{}\\rangle{}} \\:=\\: \\lambda{} f_{\\langle{}v,t\\rangle{}} \\: . \\: \\lambda{} x_{e} \\: . \\: \\lambda{} e_{v} \\: . \\: ({f}_{\\langle{}v,t\\rangle{}}({e}_{v}) \\wedge{} {Agent}({e}_{v}, {x}_{e}))$"
       ],
       "metadata": {},
       "output_type": "pyout",
       "prompt_number": 8,
       "text": [
        "${agent}_{\\langle{}(v, e),t\\rangle{}}\\:=\\:{Agent}$<br />\n",
        "${patient}_{\\langle{}(v, e),t\\rangle{}}\\:=\\:{Patient}$<br />\n",
        "$||\\mathbf{\\text{smokes}}||^{}_{\\langle{}v,t\\rangle{}} \\:=\\: \\lambda{} e_{v} \\: . \\: {Smoking}_{\\langle{}v,t\\rangle{}}({e}_{v})$<br />\n",
        "$||\\mathbf{\\text{sees}}||^{}_{\\langle{}e,\\langle{}v,t\\rangle{}\\rangle{}} \\:=\\: \\lambda{} y_{e} \\: . \\: \\lambda{} e_{v} \\: . \\: ({Seeing}_{\\langle{}v,t\\rangle{}}({e}_{v}) \\wedge{} {Patient}({e}_{v}, {y}_{e}))$<br />\n",
        "$||\\mathbf{\\text{v}}||^{}_{\\langle{}\\langle{}v,t\\rangle{},\\langle{}e,\\langle{}v,t\\rangle{}\\rangle{}\\rangle{}} \\:=\\: \\lambda{} f_{\\langle{}v,t\\rangle{}} \\: . \\: \\lambda{} x_{e} \\: . \\: \\lambda{} e_{v} \\: . \\: ({f}_{\\langle{}v,t\\rangle{}}({e}_{v}) \\wedge{} {Agent}({e}_{v}, {x}_{e}))$"
       ]
      }
     ],
     "prompt_number": 8
    },
    {
     "cell_type": "code",
     "collapsed": false,
     "input": [
      "r = (alfonso * (v * smokes))\n",
      "r.reduce_all()\n",
      "r"
     ],
     "language": "python",
     "metadata": {},
     "outputs": [
      {
       "latex": [
        "1 composition path.  Result:\n",
        "<br />&nbsp;&nbsp;&nbsp;&nbsp;[0]: $||\\mathbf{\\text{[[v smokes] alfonso]}}||^{}_{\\langle{}v,t\\rangle{}} \\:=\\: $$\\lambda{} e_{v} \\: . \\: ({Smoking}_{\\langle{}v,t\\rangle{}}({e}_{v}) \\wedge{} {Agent}({e}_{v}, {Alfonso}_{e}))$"
       ],
       "metadata": {},
       "output_type": "pyout",
       "prompt_number": 9,
       "text": [
        "CompositionResult(results=[||[[v smokes] alfonso]|| = (\u03bb e_v: (Smoking_<v,t>(e_v) & Agent_<(v,e),t>(e_v, Alfonso_e)))], failures=[||[alfonso [v smokes]]|| = Type mismatch: '||alfonso|| = Alfonso_e'/e and '||[v smokes]|| = (\u03bb x_e: (\u03bb e_v: (Smoking_<v,t>(e_v) & Agent_<(v,e),t>(e_v, x_e))))'/<e,<v,t>> conflict (mode: Function Application), ||[alfonso [v smokes]]|| = Type mismatch: '||alfonso|| = Alfonso_e'/e and '||[v smokes]|| = (\u03bb x_e: (\u03bb e_v: (Smoking_<v,t>(e_v) & Agent_<(v,e),t>(e_v, x_e))))'/<e,<v,t>> conflict (mode: Predicate Modification), ||[alfonso [v smokes]]|| = Type mismatch: '||alfonso|| = Alfonso_e'/e and '||[v smokes]|| = (\u03bb x_e: (\u03bb e_v: (Smoking_<v,t>(e_v) & Agent_<(v,e),t>(e_v, x_e))))'/<e,<v,t>> conflict (mode: Predicate Abstraction), ||[[v smokes] alfonso]|| = Type mismatch: '||[v smokes]|| = (\u03bb x_e: (\u03bb e_v: (Smoking_<v,t>(e_v) & Agent_<(v,e),t>(e_v, x_e))))'/<e,<v,t>> and '||alfonso|| = Alfonso_e'/e conflict (mode: Predicate Abstraction)])"
       ]
      }
     ],
     "prompt_number": 9
    },
    {
     "cell_type": "code",
     "collapsed": false,
     "input": [
      "r2 = (alfonso * (v * (sees * joanna)))\n",
      "r2.reduce_all()\n",
      "r2"
     ],
     "language": "python",
     "metadata": {},
     "outputs": [
      {
       "latex": [
        "1 composition path.  Result:\n",
        "<br />&nbsp;&nbsp;&nbsp;&nbsp;[0]: $||\\mathbf{\\text{[[v [sees joanna]] alfonso]}}||^{}_{\\langle{}v,t\\rangle{}} \\:=\\: $$\\lambda{} e_{v} \\: . \\: (({Seeing}_{\\langle{}v,t\\rangle{}}({e}_{v}) \\wedge{} {Patient}({e}_{v}, {Joanna}_{e})) \\wedge{} {Agent}({e}_{v}, {Alfonso}_{e}))$"
       ],
       "metadata": {},
       "output_type": "pyout",
       "prompt_number": 10,
       "text": [
        "CompositionResult(results=[||[[v [sees joanna]] alfonso]|| = (\u03bb e_v: ((Seeing_<v,t>(e_v) & Patient_<(v,e),t>(e_v, Joanna_e)) & Agent_<(v,e),t>(e_v, Alfonso_e)))], failures=[||[alfonso [v [sees joanna]]]|| = Type mismatch: '||alfonso|| = Alfonso_e'/e and '||[v [sees joanna]]|| = (\u03bb x_e: (\u03bb e_v: ((Seeing_<v,t>(e_v) & Patient_<(v,e),t>(e_v, Joanna_e)) & Agent_<(v,e),t>(e_v, x_e))))'/<e,<v,t>> conflict (mode: Function Application), ||[alfonso [v [sees joanna]]]|| = Type mismatch: '||alfonso|| = Alfonso_e'/e and '||[v [sees joanna]]|| = (\u03bb x_e: (\u03bb e_v: ((Seeing_<v,t>(e_v) & Patient_<(v,e),t>(e_v, Joanna_e)) & Agent_<(v,e),t>(e_v, x_e))))'/<e,<v,t>> conflict (mode: Predicate Modification), ||[alfonso [v [sees joanna]]]|| = Type mismatch: '||alfonso|| = Alfonso_e'/e and '||[v [sees joanna]]|| = (\u03bb x_e: (\u03bb e_v: ((Seeing_<v,t>(e_v) & Patient_<(v,e),t>(e_v, Joanna_e)) & Agent_<(v,e),t>(e_v, x_e))))'/<e,<v,t>> conflict (mode: Predicate Abstraction), ||[[v [sees joanna]] alfonso]|| = Type mismatch: '||[v [sees joanna]]|| = (\u03bb x_e: (\u03bb e_v: ((Seeing_<v,t>(e_v) & Patient_<(v,e),t>(e_v, Joanna_e)) & Agent_<(v,e),t>(e_v, x_e))))'/<e,<v,t>> and '||alfonso|| = Alfonso_e'/e conflict (mode: Predicate Abstraction)])"
       ]
      }
     ],
     "prompt_number": 10
    },
    {
     "cell_type": "code",
     "collapsed": false,
     "input": [
      "r2.latex_step_tree()"
     ],
     "language": "python",
     "metadata": {},
     "outputs": [
      {
       "latex": [
        "1 composition path:<br /><table><tr><td style=\"vertical-align:bottom;padding:0px 10px\" align=\"center\"><table><tr><td style=\"vertical-align:bottom\"><table><tr><td style=\"vertical-align:bottom;padding:0px 10px\" align=\"center\"><table><tr><td style=\"vertical-align:bottom\"><table align=\"center\"><tr><td align=\"center\">$||\\mathbf{\\text{v}}||^{}_{\\langle{}\\langle{}v,t\\rangle{},\\langle{}e,\\langle{}v,t\\rangle{}\\rangle{}\\rangle{}}$</td></tr><tr><td align=\"center\">$\\lambda{} f_{\\langle{}v,t\\rangle{}} \\: . \\: \\lambda{} x_{e} \\: . \\: \\lambda{} e_{v} \\: . \\: ({f}_{\\langle{}v,t\\rangle{}}({e}_{v}) \\wedge{} {Agent}({e}_{v}, {x}_{e}))$</td></tr></table>\n",
        "</td><td style=\"vertical-align:bottom;padding-bottom:5px\">&nbsp;&nbsp;&nbsp;$\\circ$&nbsp;&nbsp;&nbsp;</td><td style=\"vertical-align:bottom\"><table><tr><td style=\"vertical-align:bottom;padding:0px 10px\" align=\"center\"><table><tr><td style=\"vertical-align:bottom\"><table align=\"center\"><tr><td align=\"center\">$||\\mathbf{\\text{sees}}||^{}_{\\langle{}e,\\langle{}v,t\\rangle{}\\rangle{}}$</td></tr><tr><td align=\"center\">$\\lambda{} y_{e} \\: . \\: \\lambda{} e_{v} \\: . \\: ({Seeing}_{\\langle{}v,t\\rangle{}}({e}_{v}) \\wedge{} {Patient}({e}_{v}, {y}_{e}))$</td></tr></table>\n",
        "</td><td style=\"vertical-align:bottom;padding-bottom:5px\">&nbsp;&nbsp;&nbsp;$\\circ$&nbsp;&nbsp;&nbsp;</td><td style=\"vertical-align:bottom\"><table align=\"center\"><tr><td align=\"center\">$||\\mathbf{\\text{joanna}}||^{}_{e}$</td></tr><tr><td align=\"center\">${Joanna}_{e}$</td></tr></table>\n",
        "</td></tr></table></td><td style=\"vertical-align:bottom;padding-bottom:5px;padding-left:10px\"><b>[FA]</b></td></tr><tr style=\"border-top: 1px solid #848482\"><td align=\"center\"><table style=\"margin-top:10px\"><tr><td style=\"vertical-align:bottom\" align=\"center\">$||\\mathbf{\\text{[sees joanna]}}||^{}_{\\langle{}v,t\\rangle{}}$</td></tr><tr><td style=\"vertical-align:bottom\" align=\"center\">$ = \\lambda{} e_{v} \\: . \\: ({Seeing}_{\\langle{}v,t\\rangle{}}({e}_{v}) \\wedge{} {Patient}({e}_{v}, {Joanna}_{e}))$</td></tr></table>\n",
        "</td><td></td></tr></table>\n",
        "</td></tr></table></td><td style=\"vertical-align:bottom;padding-bottom:5px;padding-left:10px\"><b>[FA]</b></td></tr><tr style=\"border-top: 1px solid #848482\"><td align=\"center\"><table style=\"margin-top:10px\"><tr><td style=\"vertical-align:bottom\" align=\"center\">$||\\mathbf{\\text{[v [sees joanna]]}}||^{}_{\\langle{}e,\\langle{}v,t\\rangle{}\\rangle{}}$</td></tr><tr><td style=\"vertical-align:bottom\" align=\"center\">$ = \\lambda{} x_{e} \\: . \\: \\lambda{} e_{v} \\: . \\: (({Seeing}_{\\langle{}v,t\\rangle{}}({e}_{v}) \\wedge{} {Patient}({e}_{v}, {Joanna}_{e})) \\wedge{} {Agent}({e}_{v}, {x}_{e}))$</td></tr></table>\n",
        "</td><td></td></tr></table>\n",
        "</td><td style=\"vertical-align:bottom;padding-bottom:5px\">&nbsp;&nbsp;&nbsp;$\\circ$&nbsp;&nbsp;&nbsp;</td><td style=\"vertical-align:bottom\"><table align=\"center\"><tr><td align=\"center\">$||\\mathbf{\\text{alfonso}}||^{}_{e}$</td></tr><tr><td align=\"center\">${Alfonso}_{e}$</td></tr></table>\n",
        "</td></tr></table></td><td style=\"vertical-align:bottom;padding-bottom:5px;padding-left:10px\"><b>[FA]</b></td></tr><tr style=\"border-top: 1px solid #848482\"><td align=\"center\"><table style=\"margin-top:10px\"><tr><td style=\"vertical-align:bottom\" align=\"center\">$||\\mathbf{\\text{[[v [sees joanna]] alfonso]}}||^{}_{\\langle{}v,t\\rangle{}}$</td></tr><tr><td style=\"vertical-align:bottom\" align=\"center\">$ = \\lambda{} e_{v} \\: . \\: (({Seeing}_{\\langle{}v,t\\rangle{}}({e}_{v}) \\wedge{} {Patient}({e}_{v}, {Joanna}_{e})) \\wedge{} {Agent}({e}_{v}, {Alfonso}_{e}))$</td></tr></table>\n",
        "</td><td></td></tr></table>\n",
        "<br /><br />"
       ],
       "metadata": {},
       "output_type": "pyout",
       "prompt_number": 11,
       "text": [
        "1 composition path:<br /><table><tr><td style=\"vertical-align:bottom;padding:0px 10px\" align=\"center\"><table><tr><td style=\"vertical-align:bottom\"><table><tr><td style=\"vertical-align:bottom;padding:0px 10px\" align=\"center\"><table><tr><td style=\"vertical-align:bottom\"><table align=\"center\"><tr><td align=\"center\">$||\\mathbf{\\text{v}}||^{}_{\\langle{}\\langle{}v,t\\rangle{},\\langle{}e,\\langle{}v,t\\rangle{}\\rangle{}\\rangle{}}$</td></tr><tr><td align=\"center\">$\\lambda{} f_{\\langle{}v,t\\rangle{}} \\: . \\: \\lambda{} x_{e} \\: . \\: \\lambda{} e_{v} \\: . \\: ({f}_{\\langle{}v,t\\rangle{}}({e}_{v}) \\wedge{} {Agent}({e}_{v}, {x}_{e}))$</td></tr></table>\n",
        "</td><td style=\"vertical-align:bottom;padding-bottom:5px\">&nbsp;&nbsp;&nbsp;$\\circ$&nbsp;&nbsp;&nbsp;</td><td style=\"vertical-align:bottom\"><table><tr><td style=\"vertical-align:bottom;padding:0px 10px\" align=\"center\"><table><tr><td style=\"vertical-align:bottom\"><table align=\"center\"><tr><td align=\"center\">$||\\mathbf{\\text{sees}}||^{}_{\\langle{}e,\\langle{}v,t\\rangle{}\\rangle{}}$</td></tr><tr><td align=\"center\">$\\lambda{} y_{e} \\: . \\: \\lambda{} e_{v} \\: . \\: ({Seeing}_{\\langle{}v,t\\rangle{}}({e}_{v}) \\wedge{} {Patient}({e}_{v}, {y}_{e}))$</td></tr></table>\n",
        "</td><td style=\"vertical-align:bottom;padding-bottom:5px\">&nbsp;&nbsp;&nbsp;$\\circ$&nbsp;&nbsp;&nbsp;</td><td style=\"vertical-align:bottom\"><table align=\"center\"><tr><td align=\"center\">$||\\mathbf{\\text{joanna}}||^{}_{e}$</td></tr><tr><td align=\"center\">${Joanna}_{e}$</td></tr></table>\n",
        "</td></tr></table></td><td style=\"vertical-align:bottom;padding-bottom:5px;padding-left:10px\"><b>[FA]</b></td></tr><tr style=\"border-top: 1px solid #848482\"><td align=\"center\"><table style=\"margin-top:10px\"><tr><td style=\"vertical-align:bottom\" align=\"center\">$||\\mathbf{\\text{[sees joanna]}}||^{}_{\\langle{}v,t\\rangle{}}$</td></tr><tr><td style=\"vertical-align:bottom\" align=\"center\">$ = \\lambda{} e_{v} \\: . \\: ({Seeing}_{\\langle{}v,t\\rangle{}}({e}_{v}) \\wedge{} {Patient}({e}_{v}, {Joanna}_{e}))$</td></tr></table>\n",
        "</td><td></td></tr></table>\n",
        "</td></tr></table></td><td style=\"vertical-align:bottom;padding-bottom:5px;padding-left:10px\"><b>[FA]</b></td></tr><tr style=\"border-top: 1px solid #848482\"><td align=\"center\"><table style=\"margin-top:10px\"><tr><td style=\"vertical-align:bottom\" align=\"center\">$||\\mathbf{\\text{[v [sees joanna]]}}||^{}_{\\langle{}e,\\langle{}v,t\\rangle{}\\rangle{}}$</td></tr><tr><td style=\"vertical-align:bottom\" align=\"center\">$ = \\lambda{} x_{e} \\: . \\: \\lambda{} e_{v} \\: . \\: (({Seeing}_{\\langle{}v,t\\rangle{}}({e}_{v}) \\wedge{} {Patient}({e}_{v}, {Joanna}_{e})) \\wedge{} {Agent}({e}_{v}, {x}_{e}))$</td></tr></table>\n",
        "</td><td></td></tr></table>\n",
        "</td><td style=\"vertical-align:bottom;padding-bottom:5px\">&nbsp;&nbsp;&nbsp;$\\circ$&nbsp;&nbsp;&nbsp;</td><td style=\"vertical-align:bottom\"><table align=\"center\"><tr><td align=\"center\">$||\\mathbf{\\text{alfonso}}||^{}_{e}$</td></tr><tr><td align=\"center\">${Alfonso}_{e}$</td></tr></table>\n",
        "</td></tr></table></td><td style=\"vertical-align:bottom;padding-bottom:5px;padding-left:10px\"><b>[FA]</b></td></tr><tr style=\"border-top: 1px solid #848482\"><td align=\"center\"><table style=\"margin-top:10px\"><tr><td style=\"vertical-align:bottom\" align=\"center\">$||\\mathbf{\\text{[[v [sees joanna]] alfonso]}}||^{}_{\\langle{}v,t\\rangle{}}$</td></tr><tr><td style=\"vertical-align:bottom\" align=\"center\">$ = \\lambda{} e_{v} \\: . \\: (({Seeing}_{\\langle{}v,t\\rangle{}}({e}_{v}) \\wedge{} {Patient}({e}_{v}, {Joanna}_{e})) \\wedge{} {Agent}({e}_{v}, {Alfonso}_{e}))$</td></tr></table>\n",
        "</td><td></td></tr></table>\n",
        "<br /><br />"
       ]
      }
     ],
     "prompt_number": 11
    },
    {
     "cell_type": "markdown",
     "metadata": {},
     "source": [
      "Despite the complicated sequence of composition, the end result is just a conjunction of event properties (more or less).\n",
      "\n",
      "Now, adverbs have a simple treatment, analogous to adjectives:"
     ]
    },
    {
     "cell_type": "code",
     "collapsed": false,
     "input": [
      "%%lamb\n",
      "||dance|| = L e_v : Dancing(e)\n",
      "||slowly|| = L f_<v,t> : L e_v : f(e) & Slow(e)\n",
      "||inP|| = L x_e : L f_<v,t> : L e_v : f(e) & Loc(e, x)\n",
      "||the|| = L f_<e,t> : Iota x_e : f(x)\n",
      "||kitchen|| = L x_e : Kitchen(x)"
     ],
     "language": "python",
     "metadata": {},
     "outputs": [
      {
       "output_type": "stream",
       "stream": "stderr",
       "text": [
        "INFO (meta): Coerced guessed type t for 'Dancing_t' into <v,t>, to match argument 'e_v'\n"
       ]
      },
      {
       "output_type": "stream",
       "stream": "stderr",
       "text": [
        "INFO (meta): Coerced guessed type t for 'Slow_t' into <v,t>, to match argument 'e_v'\n"
       ]
      },
      {
       "output_type": "stream",
       "stream": "stderr",
       "text": [
        "INFO (meta): Coerced guessed type t for 'Loc_t' into <(v,e),t>, to match argument '(e_v, x_e)'\n"
       ]
      },
      {
       "output_type": "stream",
       "stream": "stderr",
       "text": [
        "INFO (meta): Coerced guessed type t for 'Kitchen_t' into <e,t>, to match argument 'x_e'\n"
       ]
      },
      {
       "latex": [
        "$||\\mathbf{\\text{dance}}||^{}_{\\langle{}v,t\\rangle{}} \\:=\\: \\lambda{} e_{v} \\: . \\: {Dancing}_{\\langle{}v,t\\rangle{}}({e}_{v})$<br />\n",
        "$||\\mathbf{\\text{slowly}}||^{}_{\\langle{}\\langle{}v,t\\rangle{},\\langle{}v,t\\rangle{}\\rangle{}} \\:=\\: \\lambda{} f_{\\langle{}v,t\\rangle{}} \\: . \\: \\lambda{} e_{v} \\: . \\: ({f}_{\\langle{}v,t\\rangle{}}({e}_{v}) \\wedge{} {Slow}_{\\langle{}v,t\\rangle{}}({e}_{v}))$<br />\n",
        "$||\\mathbf{\\text{inP}}||^{}_{\\langle{}e,\\langle{}\\langle{}v,t\\rangle{},\\langle{}v,t\\rangle{}\\rangle{}\\rangle{}} \\:=\\: \\lambda{} x_{e} \\: . \\: \\lambda{} f_{\\langle{}v,t\\rangle{}} \\: . \\: \\lambda{} e_{v} \\: . \\: ({f}_{\\langle{}v,t\\rangle{}}({e}_{v}) \\wedge{} {Loc}({e}_{v}, {x}_{e}))$<br />\n",
        "$||\\mathbf{\\text{the}}||^{}_{\\langle{}\\langle{}e,t\\rangle{},e\\rangle{}} \\:=\\: \\lambda{} f_{\\langle{}e,t\\rangle{}} \\: . \\: \\iota{} x_{e} \\: . \\: {f}_{\\langle{}e,t\\rangle{}}({x}_{e})$<br />\n",
        "$||\\mathbf{\\text{kitchen}}||^{}_{\\langle{}e,t\\rangle{}} \\:=\\: \\lambda{} x_{e} \\: . \\: {Kitchen}({x}_{e})$"
       ],
       "metadata": {},
       "output_type": "pyout",
       "prompt_number": 12,
       "text": [
        "$||\\mathbf{\\text{dance}}||^{}_{\\langle{}v,t\\rangle{}} \\:=\\: \\lambda{} e_{v} \\: . \\: {Dancing}_{\\langle{}v,t\\rangle{}}({e}_{v})$<br />\n",
        "$||\\mathbf{\\text{slowly}}||^{}_{\\langle{}\\langle{}v,t\\rangle{},\\langle{}v,t\\rangle{}\\rangle{}} \\:=\\: \\lambda{} f_{\\langle{}v,t\\rangle{}} \\: . \\: \\lambda{} e_{v} \\: . \\: ({f}_{\\langle{}v,t\\rangle{}}({e}_{v}) \\wedge{} {Slow}_{\\langle{}v,t\\rangle{}}({e}_{v}))$<br />\n",
        "$||\\mathbf{\\text{inP}}||^{}_{\\langle{}e,\\langle{}\\langle{}v,t\\rangle{},\\langle{}v,t\\rangle{}\\rangle{}\\rangle{}} \\:=\\: \\lambda{} x_{e} \\: . \\: \\lambda{} f_{\\langle{}v,t\\rangle{}} \\: . \\: \\lambda{} e_{v} \\: . \\: ({f}_{\\langle{}v,t\\rangle{}}({e}_{v}) \\wedge{} {Loc}({e}_{v}, {x}_{e}))$<br />\n",
        "$||\\mathbf{\\text{the}}||^{}_{\\langle{}\\langle{}e,t\\rangle{},e\\rangle{}} \\:=\\: \\lambda{} f_{\\langle{}e,t\\rangle{}} \\: . \\: \\iota{} x_{e} \\: . \\: {f}_{\\langle{}e,t\\rangle{}}({x}_{e})$<br />\n",
        "$||\\mathbf{\\text{kitchen}}||^{}_{\\langle{}e,t\\rangle{}} \\:=\\: \\lambda{} x_{e} \\: . \\: {Kitchen}({x}_{e})$"
       ]
      }
     ],
     "prompt_number": 12
    },
    {
     "cell_type": "code",
     "collapsed": false,
     "input": [
      "itk = inP * (the * kitchen)\n",
      "itk.reduce_all()\n",
      "itk"
     ],
     "language": "python",
     "metadata": {},
     "outputs": [
      {
       "latex": [
        "1 composition path.  Result:\n",
        "<br />&nbsp;&nbsp;&nbsp;&nbsp;[0]: $||\\mathbf{\\text{[inP [the kitchen]]}}||^{}_{\\langle{}\\langle{}v,t\\rangle{},\\langle{}v,t\\rangle{}\\rangle{}} \\:=\\: $$\\lambda{} f_{\\langle{}v,t\\rangle{}} \\: . \\: \\lambda{} e_{v} \\: . \\: ({f}_{\\langle{}v,t\\rangle{}}({e}_{v}) \\wedge{} {Loc}({e}_{v}, \\iota{} x_{e} \\: . \\: {Kitchen}({x}_{e})))$"
       ],
       "metadata": {},
       "output_type": "pyout",
       "prompt_number": 13,
       "text": [
        "CompositionResult(results=[||[inP [the kitchen]]|| = (\u03bb f_<v,t>: (\u03bb e_v: (f_<v,t>(e_v) & Loc_<(v,e),t>(e_v, (\u03b9 x_e: Kitchen_<e,t>(x_e))))))], failures=[||[[the kitchen] inP]|| = Type mismatch: '||[the kitchen]|| = (\u03b9 x_e: Kitchen_<e,t>(x_e))'/e and '||inP|| = (\u03bb x_e: (\u03bb f_<v,t>: (\u03bb e_v: (f_<v,t>(e_v) & Loc_<(v,e),t>(e_v, x_e)))))'/<e,<<v,t>,<v,t>>> conflict (mode: Function Application), ||[inP [the kitchen]]|| = Type mismatch: '||inP|| = (\u03bb x_e: (\u03bb f_<v,t>: (\u03bb e_v: (f_<v,t>(e_v) & Loc_<(v,e),t>(e_v, x_e)))))'/<e,<<v,t>,<v,t>>> and '||[the kitchen]|| = (\u03b9 x_e: Kitchen_<e,t>(x_e))'/e conflict (mode: Predicate Modification), ||[inP [the kitchen]]|| = Type mismatch: '||inP|| = (\u03bb x_e: (\u03bb f_<v,t>: (\u03bb e_v: (f_<v,t>(e_v) & Loc_<(v,e),t>(e_v, x_e)))))'/<e,<<v,t>,<v,t>>> and '||[the kitchen]|| = (\u03b9 x_e: Kitchen_<e,t>(x_e))'/e conflict (mode: Predicate Abstraction), ||[[the kitchen] inP]|| = Type mismatch: '||[the kitchen]|| = (\u03b9 x_e: Kitchen_<e,t>(x_e))'/e and '||inP|| = (\u03bb x_e: (\u03bb f_<v,t>: (\u03bb e_v: (f_<v,t>(e_v) & Loc_<(v,e),t>(e_v, x_e)))))'/<e,<<v,t>,<v,t>>> conflict (mode: Predicate Abstraction)])"
       ]
      }
     ],
     "prompt_number": 13
    },
    {
     "cell_type": "code",
     "collapsed": false,
     "input": [
      "dance0 = (alfonso * (v * dance)).reduce_all()\n",
      "dance1 = (alfonso * (v * (dance * slowly))).reduce_all()\n",
      "dance2 = (alfonso * (v * (dance * itk))).reduce_all()\n",
      "dance3 = (alfonso * (v * ((dance * slowly) * itk))).reduce_all()\n",
      "ltx_print(dance0, dance1, dance2, dance3)"
     ],
     "language": "python",
     "metadata": {},
     "outputs": [
      {
       "latex": [
        "1 composition path.  Result:\n",
        "<br />&nbsp;&nbsp;&nbsp;&nbsp;[0]: $||\\mathbf{\\text{[[v dance] alfonso]}}||^{}_{\\langle{}v,t\\rangle{}} \\:=\\: $$\\lambda{} e_{v} \\: . \\: ({Dancing}_{\\langle{}v,t\\rangle{}}({e}_{v}) \\wedge{} {Agent}({e}_{v}, {Alfonso}_{e}))$<br />1 composition path.  Result:\n",
        "<br />&nbsp;&nbsp;&nbsp;&nbsp;[0]: $||\\mathbf{\\text{[[v [slowly dance]] alfonso]}}||^{}_{\\langle{}v,t\\rangle{}} \\:=\\: $$\\lambda{} e_{v} \\: . \\: (({Dancing}_{\\langle{}v,t\\rangle{}}({e}_{v}) \\wedge{} {Slow}_{\\langle{}v,t\\rangle{}}({e}_{v})) \\wedge{} {Agent}({e}_{v}, {Alfonso}_{e}))$<br />1 composition path.  Result:\n",
        "<br />&nbsp;&nbsp;&nbsp;&nbsp;[0]: $||\\mathbf{\\text{[[v [[inP [the kitchen]] dance]] alfonso]}}||^{}_{\\langle{}v,t\\rangle{}} \\:=\\: $$\\lambda{} e_{v} \\: . \\: (({Dancing}_{\\langle{}v,t\\rangle{}}({e}_{v}) \\wedge{} {Loc}({e}_{v}, \\iota{} x_{e} \\: . \\: {Kitchen}({x}_{e}))) \\wedge{} {Agent}({e}_{v}, {Alfonso}_{e}))$<br />1 composition path.  Result:\n",
        "<br />&nbsp;&nbsp;&nbsp;&nbsp;[0]: $||\\mathbf{\\text{[[v [[inP [the kitchen]] [slowly dance]]] alfonso]}}||^{}_{\\langle{}v,t\\rangle{}} \\:=\\: $$\\lambda{} e_{v} \\: . \\: ((({Dancing}_{\\langle{}v,t\\rangle{}}({e}_{v}) \\wedge{} {Slow}_{\\langle{}v,t\\rangle{}}({e}_{v})) \\wedge{} {Loc}({e}_{v}, \\iota{} x_{e} \\: . \\: {Kitchen}({x}_{e}))) \\wedge{} {Agent}({e}_{v}, {Alfonso}_{e}))$<br />"
       ],
       "metadata": {},
       "output_type": "pyout",
       "prompt_number": 14,
       "text": [
        "1 composition path.  Result:\n",
        "<br />&nbsp;&nbsp;&nbsp;&nbsp;[0]: $||\\mathbf{\\text{[[v dance] alfonso]}}||^{}_{\\langle{}v,t\\rangle{}} \\:=\\: $$\\lambda{} e_{v} \\: . \\: ({Dancing}_{\\langle{}v,t\\rangle{}}({e}_{v}) \\wedge{} {Agent}({e}_{v}, {Alfonso}_{e}))$<br />1 composition path.  Result:\n",
        "<br />&nbsp;&nbsp;&nbsp;&nbsp;[0]: $||\\mathbf{\\text{[[v [slowly dance]] alfonso]}}||^{}_{\\langle{}v,t\\rangle{}} \\:=\\: $$\\lambda{} e_{v} \\: . \\: (({Dancing}_{\\langle{}v,t\\rangle{}}({e}_{v}) \\wedge{} {Slow}_{\\langle{}v,t\\rangle{}}({e}_{v})) \\wedge{} {Agent}({e}_{v}, {Alfonso}_{e}))$<br />1 composition path.  Result:\n",
        "<br />&nbsp;&nbsp;&nbsp;&nbsp;[0]: $||\\mathbf{\\text{[[v [[inP [the kitchen]] dance]] alfonso]}}||^{}_{\\langle{}v,t\\rangle{}} \\:=\\: $$\\lambda{} e_{v} \\: . \\: (({Dancing}_{\\langle{}v,t\\rangle{}}({e}_{v}) \\wedge{} {Loc}({e}_{v}, \\iota{} x_{e} \\: . \\: {Kitchen}({x}_{e}))) \\wedge{} {Agent}({e}_{v}, {Alfonso}_{e}))$<br />1 composition path.  Result:\n",
        "<br />&nbsp;&nbsp;&nbsp;&nbsp;[0]: $||\\mathbf{\\text{[[v [[inP [the kitchen]] [slowly dance]]] alfonso]}}||^{}_{\\langle{}v,t\\rangle{}} \\:=\\: $$\\lambda{} e_{v} \\: . \\: ((({Dancing}_{\\langle{}v,t\\rangle{}}({e}_{v}) \\wedge{} {Slow}_{\\langle{}v,t\\rangle{}}({e}_{v})) \\wedge{} {Loc}({e}_{v}, \\iota{} x_{e} \\: . \\: {Kitchen}({x}_{e}))) \\wedge{} {Agent}({e}_{v}, {Alfonso}_{e}))$<br />"
       ]
      }
     ],
     "prompt_number": 14
    },
    {
     "cell_type": "code",
     "collapsed": false,
     "input": [
      "dance3.latex_step_tree()"
     ],
     "language": "python",
     "metadata": {},
     "outputs": [
      {
       "latex": [
        "1 composition path:<br /><table><tr><td style=\"vertical-align:bottom;padding:0px 10px\" align=\"center\"><table><tr><td style=\"vertical-align:bottom\"><table><tr><td style=\"vertical-align:bottom;padding:0px 10px\" align=\"center\"><table><tr><td style=\"vertical-align:bottom\"><table align=\"center\"><tr><td align=\"center\">$||\\mathbf{\\text{v}}||^{}_{\\langle{}\\langle{}v,t\\rangle{},\\langle{}e,\\langle{}v,t\\rangle{}\\rangle{}\\rangle{}}$</td></tr><tr><td align=\"center\">$\\lambda{} f_{\\langle{}v,t\\rangle{}} \\: . \\: \\lambda{} x_{e} \\: . \\: \\lambda{} e_{v} \\: . \\: ({f}_{\\langle{}v,t\\rangle{}}({e}_{v}) \\wedge{} {Agent}({e}_{v}, {x}_{e}))$</td></tr></table>\n",
        "</td><td style=\"vertical-align:bottom;padding-bottom:5px\">&nbsp;&nbsp;&nbsp;$\\circ$&nbsp;&nbsp;&nbsp;</td><td style=\"vertical-align:bottom\"><table><tr><td style=\"vertical-align:bottom;padding:0px 10px\" align=\"center\"><table><tr><td style=\"vertical-align:bottom\"><table><tr><td style=\"vertical-align:bottom;padding:0px 10px\" align=\"center\"><table><tr><td style=\"vertical-align:bottom\"><table align=\"center\"><tr><td align=\"center\">$||\\mathbf{\\text{inP}}||^{}_{\\langle{}e,\\langle{}\\langle{}v,t\\rangle{},\\langle{}v,t\\rangle{}\\rangle{}\\rangle{}}$</td></tr><tr><td align=\"center\">$\\lambda{} x_{e} \\: . \\: \\lambda{} f_{\\langle{}v,t\\rangle{}} \\: . \\: \\lambda{} e_{v} \\: . \\: ({f}_{\\langle{}v,t\\rangle{}}({e}_{v}) \\wedge{} {Loc}({e}_{v}, {x}_{e}))$</td></tr></table>\n",
        "</td><td style=\"vertical-align:bottom;padding-bottom:5px\">&nbsp;&nbsp;&nbsp;$\\circ$&nbsp;&nbsp;&nbsp;</td><td style=\"vertical-align:bottom\"><table><tr><td style=\"vertical-align:bottom;padding:0px 10px\" align=\"center\"><table><tr><td style=\"vertical-align:bottom\"><table align=\"center\"><tr><td align=\"center\">$||\\mathbf{\\text{the}}||^{}_{\\langle{}\\langle{}e,t\\rangle{},e\\rangle{}}$</td></tr><tr><td align=\"center\">$\\lambda{} f_{\\langle{}e,t\\rangle{}} \\: . \\: \\iota{} x_{e} \\: . \\: {f}_{\\langle{}e,t\\rangle{}}({x}_{e})$</td></tr></table>\n",
        "</td><td style=\"vertical-align:bottom;padding-bottom:5px\">&nbsp;&nbsp;&nbsp;$\\circ$&nbsp;&nbsp;&nbsp;</td><td style=\"vertical-align:bottom\"><table align=\"center\"><tr><td align=\"center\">$||\\mathbf{\\text{kitchen}}||^{}_{\\langle{}e,t\\rangle{}}$</td></tr><tr><td align=\"center\">$\\lambda{} x_{e} \\: . \\: {Kitchen}({x}_{e})$</td></tr></table>\n",
        "</td></tr></table></td><td style=\"vertical-align:bottom;padding-bottom:5px;padding-left:10px\"><b>[FA]</b></td></tr><tr style=\"border-top: 1px solid #848482\"><td align=\"center\"><table style=\"margin-top:10px\"><tr><td style=\"vertical-align:bottom\" align=\"center\">$||\\mathbf{\\text{[the kitchen]}}||^{}_{e}$</td></tr><tr><td style=\"vertical-align:bottom\" align=\"center\">$ = \\iota{} x_{e} \\: . \\: {Kitchen}({x}_{e})$</td></tr></table>\n",
        "</td><td></td></tr></table>\n",
        "</td></tr></table></td><td style=\"vertical-align:bottom;padding-bottom:5px;padding-left:10px\"><b>[FA]</b></td></tr><tr style=\"border-top: 1px solid #848482\"><td align=\"center\"><table style=\"margin-top:10px\"><tr><td style=\"vertical-align:bottom\" align=\"center\">$||\\mathbf{\\text{[inP [the kitchen]]}}||^{}_{\\langle{}\\langle{}v,t\\rangle{},\\langle{}v,t\\rangle{}\\rangle{}}$</td></tr><tr><td style=\"vertical-align:bottom\" align=\"center\">$ = \\lambda{} f_{\\langle{}v,t\\rangle{}} \\: . \\: \\lambda{} e_{v} \\: . \\: ({f}_{\\langle{}v,t\\rangle{}}({e}_{v}) \\wedge{} {Loc}({e}_{v}, \\iota{} x_{e} \\: . \\: {Kitchen}({x}_{e})))$</td></tr></table>\n",
        "</td><td></td></tr></table>\n",
        "</td><td style=\"vertical-align:bottom;padding-bottom:5px\">&nbsp;&nbsp;&nbsp;$\\circ$&nbsp;&nbsp;&nbsp;</td><td style=\"vertical-align:bottom\"><table><tr><td style=\"vertical-align:bottom;padding:0px 10px\" align=\"center\"><table><tr><td style=\"vertical-align:bottom\"><table align=\"center\"><tr><td align=\"center\">$||\\mathbf{\\text{slowly}}||^{}_{\\langle{}\\langle{}v,t\\rangle{},\\langle{}v,t\\rangle{}\\rangle{}}$</td></tr><tr><td align=\"center\">$\\lambda{} f_{\\langle{}v,t\\rangle{}} \\: . \\: \\lambda{} e_{v} \\: . \\: ({f}_{\\langle{}v,t\\rangle{}}({e}_{v}) \\wedge{} {Slow}_{\\langle{}v,t\\rangle{}}({e}_{v}))$</td></tr></table>\n",
        "</td><td style=\"vertical-align:bottom;padding-bottom:5px\">&nbsp;&nbsp;&nbsp;$\\circ$&nbsp;&nbsp;&nbsp;</td><td style=\"vertical-align:bottom\"><table align=\"center\"><tr><td align=\"center\">$||\\mathbf{\\text{dance}}||^{}_{\\langle{}v,t\\rangle{}}$</td></tr><tr><td align=\"center\">$\\lambda{} e_{v} \\: . \\: {Dancing}_{\\langle{}v,t\\rangle{}}({e}_{v})$</td></tr></table>\n",
        "</td></tr></table></td><td style=\"vertical-align:bottom;padding-bottom:5px;padding-left:10px\"><b>[FA]</b></td></tr><tr style=\"border-top: 1px solid #848482\"><td align=\"center\"><table style=\"margin-top:10px\"><tr><td style=\"vertical-align:bottom\" align=\"center\">$||\\mathbf{\\text{[slowly dance]}}||^{}_{\\langle{}v,t\\rangle{}}$</td></tr><tr><td style=\"vertical-align:bottom\" align=\"center\">$ = \\lambda{} e_{v} \\: . \\: ({Dancing}_{\\langle{}v,t\\rangle{}}({e}_{v}) \\wedge{} {Slow}_{\\langle{}v,t\\rangle{}}({e}_{v}))$</td></tr></table>\n",
        "</td><td></td></tr></table>\n",
        "</td></tr></table></td><td style=\"vertical-align:bottom;padding-bottom:5px;padding-left:10px\"><b>[FA]</b></td></tr><tr style=\"border-top: 1px solid #848482\"><td align=\"center\"><table style=\"margin-top:10px\"><tr><td style=\"vertical-align:bottom\" align=\"center\">$||\\mathbf{\\text{[[inP [the kitchen]] [slowly dance]]}}||^{}_{\\langle{}v,t\\rangle{}}$</td></tr><tr><td style=\"vertical-align:bottom\" align=\"center\">$ = \\lambda{} e_{v} \\: . \\: (({Dancing}_{\\langle{}v,t\\rangle{}}({e}_{v}) \\wedge{} {Slow}_{\\langle{}v,t\\rangle{}}({e}_{v})) \\wedge{} {Loc}({e}_{v}, \\iota{} x_{e} \\: . \\: {Kitchen}({x}_{e})))$</td></tr></table>\n",
        "</td><td></td></tr></table>\n",
        "</td></tr></table></td><td style=\"vertical-align:bottom;padding-bottom:5px;padding-left:10px\"><b>[FA]</b></td></tr><tr style=\"border-top: 1px solid #848482\"><td align=\"center\"><table style=\"margin-top:10px\"><tr><td style=\"vertical-align:bottom\" align=\"center\">$||\\mathbf{\\text{[v [[inP [the kitchen]] [slowly dance]]]}}||^{}_{\\langle{}e,\\langle{}v,t\\rangle{}\\rangle{}}$</td></tr><tr><td style=\"vertical-align:bottom\" align=\"center\">$ = \\lambda{} x_{e} \\: . \\: \\lambda{} e_{v} \\: . \\: ((({Dancing}_{\\langle{}v,t\\rangle{}}({e}_{v}) \\wedge{} {Slow}_{\\langle{}v,t\\rangle{}}({e}_{v})) \\wedge{} {Loc}({e}_{v}, \\iota{} x_{e} \\: . \\: {Kitchen}({x}_{e}))) \\wedge{} {Agent}({e}_{v}, {x}_{e}))$</td></tr></table>\n",
        "</td><td></td></tr></table>\n",
        "</td><td style=\"vertical-align:bottom;padding-bottom:5px\">&nbsp;&nbsp;&nbsp;$\\circ$&nbsp;&nbsp;&nbsp;</td><td style=\"vertical-align:bottom\"><table align=\"center\"><tr><td align=\"center\">$||\\mathbf{\\text{alfonso}}||^{}_{e}$</td></tr><tr><td align=\"center\">${Alfonso}_{e}$</td></tr></table>\n",
        "</td></tr></table></td><td style=\"vertical-align:bottom;padding-bottom:5px;padding-left:10px\"><b>[FA]</b></td></tr><tr style=\"border-top: 1px solid #848482\"><td align=\"center\"><table style=\"margin-top:10px\"><tr><td style=\"vertical-align:bottom\" align=\"center\">$||\\mathbf{\\text{[[v [[inP [the kitchen]] [slowly dance]]] alfonso]}}||^{}_{\\langle{}v,t\\rangle{}}$</td></tr><tr><td style=\"vertical-align:bottom\" align=\"center\">$ = \\lambda{} e_{v} \\: . \\: ((({Dancing}_{\\langle{}v,t\\rangle{}}({e}_{v}) \\wedge{} {Slow}_{\\langle{}v,t\\rangle{}}({e}_{v})) \\wedge{} {Loc}({e}_{v}, \\iota{} x_{e} \\: . \\: {Kitchen}({x}_{e}))) \\wedge{} {Agent}({e}_{v}, {Alfonso}_{e}))$</td></tr></table>\n",
        "</td><td></td></tr></table>\n",
        "<br /><br />"
       ],
       "metadata": {},
       "output_type": "pyout",
       "prompt_number": 15,
       "text": [
        "1 composition path:<br /><table><tr><td style=\"vertical-align:bottom;padding:0px 10px\" align=\"center\"><table><tr><td style=\"vertical-align:bottom\"><table><tr><td style=\"vertical-align:bottom;padding:0px 10px\" align=\"center\"><table><tr><td style=\"vertical-align:bottom\"><table align=\"center\"><tr><td align=\"center\">$||\\mathbf{\\text{v}}||^{}_{\\langle{}\\langle{}v,t\\rangle{},\\langle{}e,\\langle{}v,t\\rangle{}\\rangle{}\\rangle{}}$</td></tr><tr><td align=\"center\">$\\lambda{} f_{\\langle{}v,t\\rangle{}} \\: . \\: \\lambda{} x_{e} \\: . \\: \\lambda{} e_{v} \\: . \\: ({f}_{\\langle{}v,t\\rangle{}}({e}_{v}) \\wedge{} {Agent}({e}_{v}, {x}_{e}))$</td></tr></table>\n",
        "</td><td style=\"vertical-align:bottom;padding-bottom:5px\">&nbsp;&nbsp;&nbsp;$\\circ$&nbsp;&nbsp;&nbsp;</td><td style=\"vertical-align:bottom\"><table><tr><td style=\"vertical-align:bottom;padding:0px 10px\" align=\"center\"><table><tr><td style=\"vertical-align:bottom\"><table><tr><td style=\"vertical-align:bottom;padding:0px 10px\" align=\"center\"><table><tr><td style=\"vertical-align:bottom\"><table align=\"center\"><tr><td align=\"center\">$||\\mathbf{\\text{inP}}||^{}_{\\langle{}e,\\langle{}\\langle{}v,t\\rangle{},\\langle{}v,t\\rangle{}\\rangle{}\\rangle{}}$</td></tr><tr><td align=\"center\">$\\lambda{} x_{e} \\: . \\: \\lambda{} f_{\\langle{}v,t\\rangle{}} \\: . \\: \\lambda{} e_{v} \\: . \\: ({f}_{\\langle{}v,t\\rangle{}}({e}_{v}) \\wedge{} {Loc}({e}_{v}, {x}_{e}))$</td></tr></table>\n",
        "</td><td style=\"vertical-align:bottom;padding-bottom:5px\">&nbsp;&nbsp;&nbsp;$\\circ$&nbsp;&nbsp;&nbsp;</td><td style=\"vertical-align:bottom\"><table><tr><td style=\"vertical-align:bottom;padding:0px 10px\" align=\"center\"><table><tr><td style=\"vertical-align:bottom\"><table align=\"center\"><tr><td align=\"center\">$||\\mathbf{\\text{the}}||^{}_{\\langle{}\\langle{}e,t\\rangle{},e\\rangle{}}$</td></tr><tr><td align=\"center\">$\\lambda{} f_{\\langle{}e,t\\rangle{}} \\: . \\: \\iota{} x_{e} \\: . \\: {f}_{\\langle{}e,t\\rangle{}}({x}_{e})$</td></tr></table>\n",
        "</td><td style=\"vertical-align:bottom;padding-bottom:5px\">&nbsp;&nbsp;&nbsp;$\\circ$&nbsp;&nbsp;&nbsp;</td><td style=\"vertical-align:bottom\"><table align=\"center\"><tr><td align=\"center\">$||\\mathbf{\\text{kitchen}}||^{}_{\\langle{}e,t\\rangle{}}$</td></tr><tr><td align=\"center\">$\\lambda{} x_{e} \\: . \\: {Kitchen}({x}_{e})$</td></tr></table>\n",
        "</td></tr></table></td><td style=\"vertical-align:bottom;padding-bottom:5px;padding-left:10px\"><b>[FA]</b></td></tr><tr style=\"border-top: 1px solid #848482\"><td align=\"center\"><table style=\"margin-top:10px\"><tr><td style=\"vertical-align:bottom\" align=\"center\">$||\\mathbf{\\text{[the kitchen]}}||^{}_{e}$</td></tr><tr><td style=\"vertical-align:bottom\" align=\"center\">$ = \\iota{} x_{e} \\: . \\: {Kitchen}({x}_{e})$</td></tr></table>\n",
        "</td><td></td></tr></table>\n",
        "</td></tr></table></td><td style=\"vertical-align:bottom;padding-bottom:5px;padding-left:10px\"><b>[FA]</b></td></tr><tr style=\"border-top: 1px solid #848482\"><td align=\"center\"><table style=\"margin-top:10px\"><tr><td style=\"vertical-align:bottom\" align=\"center\">$||\\mathbf{\\text{[inP [the kitchen]]}}||^{}_{\\langle{}\\langle{}v,t\\rangle{},\\langle{}v,t\\rangle{}\\rangle{}}$</td></tr><tr><td style=\"vertical-align:bottom\" align=\"center\">$ = \\lambda{} f_{\\langle{}v,t\\rangle{}} \\: . \\: \\lambda{} e_{v} \\: . \\: ({f}_{\\langle{}v,t\\rangle{}}({e}_{v}) \\wedge{} {Loc}({e}_{v}, \\iota{} x_{e} \\: . \\: {Kitchen}({x}_{e})))$</td></tr></table>\n",
        "</td><td></td></tr></table>\n",
        "</td><td style=\"vertical-align:bottom;padding-bottom:5px\">&nbsp;&nbsp;&nbsp;$\\circ$&nbsp;&nbsp;&nbsp;</td><td style=\"vertical-align:bottom\"><table><tr><td style=\"vertical-align:bottom;padding:0px 10px\" align=\"center\"><table><tr><td style=\"vertical-align:bottom\"><table align=\"center\"><tr><td align=\"center\">$||\\mathbf{\\text{slowly}}||^{}_{\\langle{}\\langle{}v,t\\rangle{},\\langle{}v,t\\rangle{}\\rangle{}}$</td></tr><tr><td align=\"center\">$\\lambda{} f_{\\langle{}v,t\\rangle{}} \\: . \\: \\lambda{} e_{v} \\: . \\: ({f}_{\\langle{}v,t\\rangle{}}({e}_{v}) \\wedge{} {Slow}_{\\langle{}v,t\\rangle{}}({e}_{v}))$</td></tr></table>\n",
        "</td><td style=\"vertical-align:bottom;padding-bottom:5px\">&nbsp;&nbsp;&nbsp;$\\circ$&nbsp;&nbsp;&nbsp;</td><td style=\"vertical-align:bottom\"><table align=\"center\"><tr><td align=\"center\">$||\\mathbf{\\text{dance}}||^{}_{\\langle{}v,t\\rangle{}}$</td></tr><tr><td align=\"center\">$\\lambda{} e_{v} \\: . \\: {Dancing}_{\\langle{}v,t\\rangle{}}({e}_{v})$</td></tr></table>\n",
        "</td></tr></table></td><td style=\"vertical-align:bottom;padding-bottom:5px;padding-left:10px\"><b>[FA]</b></td></tr><tr style=\"border-top: 1px solid #848482\"><td align=\"center\"><table style=\"margin-top:10px\"><tr><td style=\"vertical-align:bottom\" align=\"center\">$||\\mathbf{\\text{[slowly dance]}}||^{}_{\\langle{}v,t\\rangle{}}$</td></tr><tr><td style=\"vertical-align:bottom\" align=\"center\">$ = \\lambda{} e_{v} \\: . \\: ({Dancing}_{\\langle{}v,t\\rangle{}}({e}_{v}) \\wedge{} {Slow}_{\\langle{}v,t\\rangle{}}({e}_{v}))$</td></tr></table>\n",
        "</td><td></td></tr></table>\n",
        "</td></tr></table></td><td style=\"vertical-align:bottom;padding-bottom:5px;padding-left:10px\"><b>[FA]</b></td></tr><tr style=\"border-top: 1px solid #848482\"><td align=\"center\"><table style=\"margin-top:10px\"><tr><td style=\"vertical-align:bottom\" align=\"center\">$||\\mathbf{\\text{[[inP [the kitchen]] [slowly dance]]}}||^{}_{\\langle{}v,t\\rangle{}}$</td></tr><tr><td style=\"vertical-align:bottom\" align=\"center\">$ = \\lambda{} e_{v} \\: . \\: (({Dancing}_{\\langle{}v,t\\rangle{}}({e}_{v}) \\wedge{} {Slow}_{\\langle{}v,t\\rangle{}}({e}_{v})) \\wedge{} {Loc}({e}_{v}, \\iota{} x_{e} \\: . \\: {Kitchen}({x}_{e})))$</td></tr></table>\n",
        "</td><td></td></tr></table>\n",
        "</td></tr></table></td><td style=\"vertical-align:bottom;padding-bottom:5px;padding-left:10px\"><b>[FA]</b></td></tr><tr style=\"border-top: 1px solid #848482\"><td align=\"center\"><table style=\"margin-top:10px\"><tr><td style=\"vertical-align:bottom\" align=\"center\">$||\\mathbf{\\text{[v [[inP [the kitchen]] [slowly dance]]]}}||^{}_{\\langle{}e,\\langle{}v,t\\rangle{}\\rangle{}}$</td></tr><tr><td style=\"vertical-align:bottom\" align=\"center\">$ = \\lambda{} x_{e} \\: . \\: \\lambda{} e_{v} \\: . \\: ((({Dancing}_{\\langle{}v,t\\rangle{}}({e}_{v}) \\wedge{} {Slow}_{\\langle{}v,t\\rangle{}}({e}_{v})) \\wedge{} {Loc}({e}_{v}, \\iota{} x_{e} \\: . \\: {Kitchen}({x}_{e}))) \\wedge{} {Agent}({e}_{v}, {x}_{e}))$</td></tr></table>\n",
        "</td><td></td></tr></table>\n",
        "</td><td style=\"vertical-align:bottom;padding-bottom:5px\">&nbsp;&nbsp;&nbsp;$\\circ$&nbsp;&nbsp;&nbsp;</td><td style=\"vertical-align:bottom\"><table align=\"center\"><tr><td align=\"center\">$||\\mathbf{\\text{alfonso}}||^{}_{e}$</td></tr><tr><td align=\"center\">${Alfonso}_{e}$</td></tr></table>\n",
        "</td></tr></table></td><td style=\"vertical-align:bottom;padding-bottom:5px;padding-left:10px\"><b>[FA]</b></td></tr><tr style=\"border-top: 1px solid #848482\"><td align=\"center\"><table style=\"margin-top:10px\"><tr><td style=\"vertical-align:bottom\" align=\"center\">$||\\mathbf{\\text{[[v [[inP [the kitchen]] [slowly dance]]] alfonso]}}||^{}_{\\langle{}v,t\\rangle{}}$</td></tr><tr><td style=\"vertical-align:bottom\" align=\"center\">$ = \\lambda{} e_{v} \\: . \\: ((({Dancing}_{\\langle{}v,t\\rangle{}}({e}_{v}) \\wedge{} {Slow}_{\\langle{}v,t\\rangle{}}({e}_{v})) \\wedge{} {Loc}({e}_{v}, \\iota{} x_{e} \\: . \\: {Kitchen}({x}_{e}))) \\wedge{} {Agent}({e}_{v}, {Alfonso}_{e}))$</td></tr></table>\n",
        "</td><td></td></tr></table>\n",
        "<br /><br />"
       ]
      }
     ],
     "prompt_number": 15
    },
    {
     "cell_type": "markdown",
     "metadata": {},
     "source": [
      "The denotations above remain unsaturated.  Part of Davidson's idea is that the truth-conditions of an \"action sentence\" involve existentially quantifying over an event.  There are a number of proposals as to how these existential quantifier is introduced compositionally, but the simplest is to treat it as a type shift (or unary composition operation).\n",
      "\n",
      "We can first do this by defining a function that performs \"existential closure\", and then defining a composition operation using that function."
     ]
    },
    {
     "cell_type": "code",
     "collapsed": false,
     "input": [
      "ec_fun = te(\"L f_<v,t> : Exists e_v : f(e)\")\n",
      "ec_fun"
     ],
     "language": "python",
     "metadata": {},
     "outputs": [
      {
       "latex": [
        "$\\lambda{} f_{\\langle{}v,t\\rangle{}} \\: . \\: \\exists{} e_{v} \\: . \\: {f}_{\\langle{}v,t\\rangle{}}({e}_{v})$"
       ],
       "metadata": {},
       "output_type": "pyout",
       "prompt_number": 16,
       "text": [
        "(\u03bb f_<v,t>: (Exists e_v: f_<v,t>(e_v)))"
       ]
      }
     ],
     "prompt_number": 16
    },
    {
     "cell_type": "code",
     "collapsed": false,
     "input": [
      "(ec_fun(dance3[0].content)).reduce_all()"
     ],
     "language": "python",
     "metadata": {},
     "outputs": [
      {
       "latex": [
        "$\\exists{} e_{v} \\: . \\: ((({Dancing}_{\\langle{}v,t\\rangle{}}({e}_{v}) \\wedge{} {Slow}_{\\langle{}v,t\\rangle{}}({e}_{v})) \\wedge{} {Loc}({e}_{v}, \\iota{} x_{e} \\: . \\: {Kitchen}({x}_{e}))) \\wedge{} {Agent}({e}_{v}, {Alfonso}_{e}))$"
       ],
       "metadata": {},
       "output_type": "pyout",
       "prompt_number": 17,
       "text": [
        "(Exists e_v: (((Dancing_<v,t>(e_v) & Slow_<v,t>(e_v)) & Loc_<(v,e),t>(e_v, (\u03b9 x_e: Kitchen_<e,t>(x_e)))) & Agent_<(v,e),t>(e_v, Alfonso_e)))"
       ]
      }
     ],
     "prompt_number": 17
    },
    {
     "cell_type": "code",
     "collapsed": false,
     "input": [
      "type_event_property = tp(\"<v,t>\")\n",
      "def ec_op(f, assignment=None):\n",
      "    ts = meta.get_type_system()\n",
      "    if not (ts.eq_check(f.type, type_event_property)):\n",
      "        raise types.TypeMismatch(f, None, \"Existential closure for v,t\")\n",
      "    # reduce the body as well in case f was itself a lambda expression.\n",
      "    result = ec_fun.apply(f.content).reduce_sub(1)\n",
      "    # this much brute force is not necessary:\n",
      "    #result = ec_expr.apply(f.content).reduce_all()\n",
      "    return lang.UnaryComposite(f, result, source=\"EC(%s)\" % (f.name))\n",
      "\n",
      "system = lang.get_system().copy()\n",
      "system.add_rule(lang.UnaryCompositionOp(\"EC\", ec_op))\n",
      "lang.set_system(system)\n",
      "system"
     ],
     "language": "python",
     "metadata": {},
     "outputs": [
      {
       "latex": [
        "Composition system 'H&K simple (copy)'<br />Operations: FA, PM, PA, EC"
       ],
       "metadata": {},
       "output_type": "pyout",
       "prompt_number": 18,
       "text": [
        "Composition system: H&K simple (copy)"
       ]
      }
     ],
     "prompt_number": 18
    },
    {
     "cell_type": "markdown",
     "metadata": {},
     "source": [
      "The way to force unary composition (at the moment) is to compose with None."
     ]
    },
    {
     "cell_type": "code",
     "collapsed": false,
     "input": [
      "dance4 = (dance3 * None)\n",
      "dance4"
     ],
     "language": "python",
     "metadata": {},
     "outputs": [
      {
       "latex": [
        "1 composition path.  Result:\n",
        "<br />&nbsp;&nbsp;&nbsp;&nbsp;[0]: $||\\mathbf{\\text{EC([[v [[inP [the kitchen]] [slowly dance]]] alfonso])}}||^{}_{t} \\:=\\: $$\\exists{} e_{v} \\: . \\: ((({Dancing}_{\\langle{}v,t\\rangle{}}({e}_{v}) \\wedge{} {Slow}_{\\langle{}v,t\\rangle{}}({e}_{v})) \\wedge{} {Loc}({e}_{v}, \\iota{} x_{e} \\: . \\: {Kitchen}({x}_{e}))) \\wedge{} {Agent}({e}_{v}, {Alfonso}_{e}))$"
       ],
       "metadata": {},
       "output_type": "pyout",
       "prompt_number": 19,
       "text": [
        "CompositionResult(results=[||EC([[v [[inP [the kitchen]] [slowly dance]]] alfonso])|| = (Exists e_v: (((Dancing_<v,t>(e_v) & Slow_<v,t>(e_v)) & Loc_<(v,e),t>(e_v, (\u03b9 x_e: Kitchen_<e,t>(x_e)))) & Agent_<(v,e),t>(e_v, Alfonso_e)))], failures=[])"
       ]
      }
     ],
     "prompt_number": 19
    },
    {
     "cell_type": "code",
     "collapsed": false,
     "input": [
      "dance4.latex_step_tree()"
     ],
     "language": "python",
     "metadata": {},
     "outputs": [
      {
       "latex": [
        "1 composition path:<br /><table><tr><td style=\"vertical-align:bottom;padding:0px 10px\" align=\"center\"><table><tr><td style=\"vertical-align:bottom\"><table><tr><td style=\"vertical-align:bottom;padding:0px 10px\" align=\"center\"><table><tr><td style=\"vertical-align:bottom\"><table><tr><td style=\"vertical-align:bottom;padding:0px 10px\" align=\"center\"><table><tr><td style=\"vertical-align:bottom\"><table align=\"center\"><tr><td align=\"center\">$||\\mathbf{\\text{v}}||^{}_{\\langle{}\\langle{}v,t\\rangle{},\\langle{}e,\\langle{}v,t\\rangle{}\\rangle{}\\rangle{}}$</td></tr><tr><td align=\"center\">$\\lambda{} f_{\\langle{}v,t\\rangle{}} \\: . \\: \\lambda{} x_{e} \\: . \\: \\lambda{} e_{v} \\: . \\: ({f}_{\\langle{}v,t\\rangle{}}({e}_{v}) \\wedge{} {Agent}({e}_{v}, {x}_{e}))$</td></tr></table>\n",
        "</td><td style=\"vertical-align:bottom;padding-bottom:5px\">&nbsp;&nbsp;&nbsp;$\\circ$&nbsp;&nbsp;&nbsp;</td><td style=\"vertical-align:bottom\"><table><tr><td style=\"vertical-align:bottom;padding:0px 10px\" align=\"center\"><table><tr><td style=\"vertical-align:bottom\"><table><tr><td style=\"vertical-align:bottom;padding:0px 10px\" align=\"center\"><table><tr><td style=\"vertical-align:bottom\"><table align=\"center\"><tr><td align=\"center\">$||\\mathbf{\\text{inP}}||^{}_{\\langle{}e,\\langle{}\\langle{}v,t\\rangle{},\\langle{}v,t\\rangle{}\\rangle{}\\rangle{}}$</td></tr><tr><td align=\"center\">$\\lambda{} x_{e} \\: . \\: \\lambda{} f_{\\langle{}v,t\\rangle{}} \\: . \\: \\lambda{} e_{v} \\: . \\: ({f}_{\\langle{}v,t\\rangle{}}({e}_{v}) \\wedge{} {Loc}({e}_{v}, {x}_{e}))$</td></tr></table>\n",
        "</td><td style=\"vertical-align:bottom;padding-bottom:5px\">&nbsp;&nbsp;&nbsp;$\\circ$&nbsp;&nbsp;&nbsp;</td><td style=\"vertical-align:bottom\"><table><tr><td style=\"vertical-align:bottom;padding:0px 10px\" align=\"center\"><table><tr><td style=\"vertical-align:bottom\"><table align=\"center\"><tr><td align=\"center\">$||\\mathbf{\\text{the}}||^{}_{\\langle{}\\langle{}e,t\\rangle{},e\\rangle{}}$</td></tr><tr><td align=\"center\">$\\lambda{} f_{\\langle{}e,t\\rangle{}} \\: . \\: \\iota{} x_{e} \\: . \\: {f}_{\\langle{}e,t\\rangle{}}({x}_{e})$</td></tr></table>\n",
        "</td><td style=\"vertical-align:bottom;padding-bottom:5px\">&nbsp;&nbsp;&nbsp;$\\circ$&nbsp;&nbsp;&nbsp;</td><td style=\"vertical-align:bottom\"><table align=\"center\"><tr><td align=\"center\">$||\\mathbf{\\text{kitchen}}||^{}_{\\langle{}e,t\\rangle{}}$</td></tr><tr><td align=\"center\">$\\lambda{} x_{e} \\: . \\: {Kitchen}({x}_{e})$</td></tr></table>\n",
        "</td></tr></table></td><td style=\"vertical-align:bottom;padding-bottom:5px;padding-left:10px\"><b>[FA]</b></td></tr><tr style=\"border-top: 1px solid #848482\"><td align=\"center\"><table style=\"margin-top:10px\"><tr><td style=\"vertical-align:bottom\" align=\"center\">$||\\mathbf{\\text{[the kitchen]}}||^{}_{e}$</td></tr><tr><td style=\"vertical-align:bottom\" align=\"center\">$ = \\iota{} x_{e} \\: . \\: {Kitchen}({x}_{e})$</td></tr></table>\n",
        "</td><td></td></tr></table>\n",
        "</td></tr></table></td><td style=\"vertical-align:bottom;padding-bottom:5px;padding-left:10px\"><b>[FA]</b></td></tr><tr style=\"border-top: 1px solid #848482\"><td align=\"center\"><table style=\"margin-top:10px\"><tr><td style=\"vertical-align:bottom\" align=\"center\">$||\\mathbf{\\text{[inP [the kitchen]]}}||^{}_{\\langle{}\\langle{}v,t\\rangle{},\\langle{}v,t\\rangle{}\\rangle{}}$</td></tr><tr><td style=\"vertical-align:bottom\" align=\"center\">$ = \\lambda{} f_{\\langle{}v,t\\rangle{}} \\: . \\: \\lambda{} e_{v} \\: . \\: ({f}_{\\langle{}v,t\\rangle{}}({e}_{v}) \\wedge{} {Loc}({e}_{v}, \\iota{} x_{e} \\: . \\: {Kitchen}({x}_{e})))$</td></tr></table>\n",
        "</td><td></td></tr></table>\n",
        "</td><td style=\"vertical-align:bottom;padding-bottom:5px\">&nbsp;&nbsp;&nbsp;$\\circ$&nbsp;&nbsp;&nbsp;</td><td style=\"vertical-align:bottom\"><table><tr><td style=\"vertical-align:bottom;padding:0px 10px\" align=\"center\"><table><tr><td style=\"vertical-align:bottom\"><table align=\"center\"><tr><td align=\"center\">$||\\mathbf{\\text{slowly}}||^{}_{\\langle{}\\langle{}v,t\\rangle{},\\langle{}v,t\\rangle{}\\rangle{}}$</td></tr><tr><td align=\"center\">$\\lambda{} f_{\\langle{}v,t\\rangle{}} \\: . \\: \\lambda{} e_{v} \\: . \\: ({f}_{\\langle{}v,t\\rangle{}}({e}_{v}) \\wedge{} {Slow}_{\\langle{}v,t\\rangle{}}({e}_{v}))$</td></tr></table>\n",
        "</td><td style=\"vertical-align:bottom;padding-bottom:5px\">&nbsp;&nbsp;&nbsp;$\\circ$&nbsp;&nbsp;&nbsp;</td><td style=\"vertical-align:bottom\"><table align=\"center\"><tr><td align=\"center\">$||\\mathbf{\\text{dance}}||^{}_{\\langle{}v,t\\rangle{}}$</td></tr><tr><td align=\"center\">$\\lambda{} e_{v} \\: . \\: {Dancing}_{\\langle{}v,t\\rangle{}}({e}_{v})$</td></tr></table>\n",
        "</td></tr></table></td><td style=\"vertical-align:bottom;padding-bottom:5px;padding-left:10px\"><b>[FA]</b></td></tr><tr style=\"border-top: 1px solid #848482\"><td align=\"center\"><table style=\"margin-top:10px\"><tr><td style=\"vertical-align:bottom\" align=\"center\">$||\\mathbf{\\text{[slowly dance]}}||^{}_{\\langle{}v,t\\rangle{}}$</td></tr><tr><td style=\"vertical-align:bottom\" align=\"center\">$ = \\lambda{} e_{v} \\: . \\: ({Dancing}_{\\langle{}v,t\\rangle{}}({e}_{v}) \\wedge{} {Slow}_{\\langle{}v,t\\rangle{}}({e}_{v}))$</td></tr></table>\n",
        "</td><td></td></tr></table>\n",
        "</td></tr></table></td><td style=\"vertical-align:bottom;padding-bottom:5px;padding-left:10px\"><b>[FA]</b></td></tr><tr style=\"border-top: 1px solid #848482\"><td align=\"center\"><table style=\"margin-top:10px\"><tr><td style=\"vertical-align:bottom\" align=\"center\">$||\\mathbf{\\text{[[inP [the kitchen]] [slowly dance]]}}||^{}_{\\langle{}v,t\\rangle{}}$</td></tr><tr><td style=\"vertical-align:bottom\" align=\"center\">$ = \\lambda{} e_{v} \\: . \\: (({Dancing}_{\\langle{}v,t\\rangle{}}({e}_{v}) \\wedge{} {Slow}_{\\langle{}v,t\\rangle{}}({e}_{v})) \\wedge{} {Loc}({e}_{v}, \\iota{} x_{e} \\: . \\: {Kitchen}({x}_{e})))$</td></tr></table>\n",
        "</td><td></td></tr></table>\n",
        "</td></tr></table></td><td style=\"vertical-align:bottom;padding-bottom:5px;padding-left:10px\"><b>[FA]</b></td></tr><tr style=\"border-top: 1px solid #848482\"><td align=\"center\"><table style=\"margin-top:10px\"><tr><td style=\"vertical-align:bottom\" align=\"center\">$||\\mathbf{\\text{[v [[inP [the kitchen]] [slowly dance]]]}}||^{}_{\\langle{}e,\\langle{}v,t\\rangle{}\\rangle{}}$</td></tr><tr><td style=\"vertical-align:bottom\" align=\"center\">$ = \\lambda{} x_{e} \\: . \\: \\lambda{} e_{v} \\: . \\: ((({Dancing}_{\\langle{}v,t\\rangle{}}({e}_{v}) \\wedge{} {Slow}_{\\langle{}v,t\\rangle{}}({e}_{v})) \\wedge{} {Loc}({e}_{v}, \\iota{} x_{e} \\: . \\: {Kitchen}({x}_{e}))) \\wedge{} {Agent}({e}_{v}, {x}_{e}))$</td></tr></table>\n",
        "</td><td></td></tr></table>\n",
        "</td><td style=\"vertical-align:bottom;padding-bottom:5px\">&nbsp;&nbsp;&nbsp;$\\circ$&nbsp;&nbsp;&nbsp;</td><td style=\"vertical-align:bottom\"><table align=\"center\"><tr><td align=\"center\">$||\\mathbf{\\text{alfonso}}||^{}_{e}$</td></tr><tr><td align=\"center\">${Alfonso}_{e}$</td></tr></table>\n",
        "</td></tr></table></td><td style=\"vertical-align:bottom;padding-bottom:5px;padding-left:10px\"><b>[FA]</b></td></tr><tr style=\"border-top: 1px solid #848482\"><td align=\"center\"><table style=\"margin-top:10px\"><tr><td style=\"vertical-align:bottom\" align=\"center\">$||\\mathbf{\\text{[[v [[inP [the kitchen]] [slowly dance]]] alfonso]}}||^{}_{\\langle{}v,t\\rangle{}}$</td></tr><tr><td style=\"vertical-align:bottom\" align=\"center\">$ = \\lambda{} e_{v} \\: . \\: ((({Dancing}_{\\langle{}v,t\\rangle{}}({e}_{v}) \\wedge{} {Slow}_{\\langle{}v,t\\rangle{}}({e}_{v})) \\wedge{} {Loc}({e}_{v}, \\iota{} x_{e} \\: . \\: {Kitchen}({x}_{e}))) \\wedge{} {Agent}({e}_{v}, {Alfonso}_{e}))$</td></tr></table>\n",
        "</td><td></td></tr></table>\n",
        "</td></tr></table></td><td style=\"vertical-align:bottom;padding-bottom:5px;padding-left:10px\"><b>[EC]</b></td></tr><tr style=\"border-top: 1px solid #848482\"><td align=\"center\"><table style=\"margin-top:10px\"><tr><td style=\"vertical-align:bottom\" align=\"center\">$||\\mathbf{\\text{EC([[v [[inP [the kitchen]] [slowly dance]]] alfonso])}}||^{}_{t}$</td></tr><tr><td style=\"vertical-align:bottom\" align=\"center\">$ = \\exists{} e_{v} \\: . \\: ((({Dancing}_{\\langle{}v,t\\rangle{}}({e}_{v}) \\wedge{} {Slow}_{\\langle{}v,t\\rangle{}}({e}_{v})) \\wedge{} {Loc}({e}_{v}, \\iota{} x_{e} \\: . \\: {Kitchen}({x}_{e}))) \\wedge{} {Agent}({e}_{v}, {Alfonso}_{e}))$</td></tr></table>\n",
        "</td><td></td></tr></table>\n",
        "<br /><br />"
       ],
       "metadata": {},
       "output_type": "pyout",
       "prompt_number": 20,
       "text": [
        "1 composition path:<br /><table><tr><td style=\"vertical-align:bottom;padding:0px 10px\" align=\"center\"><table><tr><td style=\"vertical-align:bottom\"><table><tr><td style=\"vertical-align:bottom;padding:0px 10px\" align=\"center\"><table><tr><td style=\"vertical-align:bottom\"><table><tr><td style=\"vertical-align:bottom;padding:0px 10px\" align=\"center\"><table><tr><td style=\"vertical-align:bottom\"><table align=\"center\"><tr><td align=\"center\">$||\\mathbf{\\text{v}}||^{}_{\\langle{}\\langle{}v,t\\rangle{},\\langle{}e,\\langle{}v,t\\rangle{}\\rangle{}\\rangle{}}$</td></tr><tr><td align=\"center\">$\\lambda{} f_{\\langle{}v,t\\rangle{}} \\: . \\: \\lambda{} x_{e} \\: . \\: \\lambda{} e_{v} \\: . \\: ({f}_{\\langle{}v,t\\rangle{}}({e}_{v}) \\wedge{} {Agent}({e}_{v}, {x}_{e}))$</td></tr></table>\n",
        "</td><td style=\"vertical-align:bottom;padding-bottom:5px\">&nbsp;&nbsp;&nbsp;$\\circ$&nbsp;&nbsp;&nbsp;</td><td style=\"vertical-align:bottom\"><table><tr><td style=\"vertical-align:bottom;padding:0px 10px\" align=\"center\"><table><tr><td style=\"vertical-align:bottom\"><table><tr><td style=\"vertical-align:bottom;padding:0px 10px\" align=\"center\"><table><tr><td style=\"vertical-align:bottom\"><table align=\"center\"><tr><td align=\"center\">$||\\mathbf{\\text{inP}}||^{}_{\\langle{}e,\\langle{}\\langle{}v,t\\rangle{},\\langle{}v,t\\rangle{}\\rangle{}\\rangle{}}$</td></tr><tr><td align=\"center\">$\\lambda{} x_{e} \\: . \\: \\lambda{} f_{\\langle{}v,t\\rangle{}} \\: . \\: \\lambda{} e_{v} \\: . \\: ({f}_{\\langle{}v,t\\rangle{}}({e}_{v}) \\wedge{} {Loc}({e}_{v}, {x}_{e}))$</td></tr></table>\n",
        "</td><td style=\"vertical-align:bottom;padding-bottom:5px\">&nbsp;&nbsp;&nbsp;$\\circ$&nbsp;&nbsp;&nbsp;</td><td style=\"vertical-align:bottom\"><table><tr><td style=\"vertical-align:bottom;padding:0px 10px\" align=\"center\"><table><tr><td style=\"vertical-align:bottom\"><table align=\"center\"><tr><td align=\"center\">$||\\mathbf{\\text{the}}||^{}_{\\langle{}\\langle{}e,t\\rangle{},e\\rangle{}}$</td></tr><tr><td align=\"center\">$\\lambda{} f_{\\langle{}e,t\\rangle{}} \\: . \\: \\iota{} x_{e} \\: . \\: {f}_{\\langle{}e,t\\rangle{}}({x}_{e})$</td></tr></table>\n",
        "</td><td style=\"vertical-align:bottom;padding-bottom:5px\">&nbsp;&nbsp;&nbsp;$\\circ$&nbsp;&nbsp;&nbsp;</td><td style=\"vertical-align:bottom\"><table align=\"center\"><tr><td align=\"center\">$||\\mathbf{\\text{kitchen}}||^{}_{\\langle{}e,t\\rangle{}}$</td></tr><tr><td align=\"center\">$\\lambda{} x_{e} \\: . \\: {Kitchen}({x}_{e})$</td></tr></table>\n",
        "</td></tr></table></td><td style=\"vertical-align:bottom;padding-bottom:5px;padding-left:10px\"><b>[FA]</b></td></tr><tr style=\"border-top: 1px solid #848482\"><td align=\"center\"><table style=\"margin-top:10px\"><tr><td style=\"vertical-align:bottom\" align=\"center\">$||\\mathbf{\\text{[the kitchen]}}||^{}_{e}$</td></tr><tr><td style=\"vertical-align:bottom\" align=\"center\">$ = \\iota{} x_{e} \\: . \\: {Kitchen}({x}_{e})$</td></tr></table>\n",
        "</td><td></td></tr></table>\n",
        "</td></tr></table></td><td style=\"vertical-align:bottom;padding-bottom:5px;padding-left:10px\"><b>[FA]</b></td></tr><tr style=\"border-top: 1px solid #848482\"><td align=\"center\"><table style=\"margin-top:10px\"><tr><td style=\"vertical-align:bottom\" align=\"center\">$||\\mathbf{\\text{[inP [the kitchen]]}}||^{}_{\\langle{}\\langle{}v,t\\rangle{},\\langle{}v,t\\rangle{}\\rangle{}}$</td></tr><tr><td style=\"vertical-align:bottom\" align=\"center\">$ = \\lambda{} f_{\\langle{}v,t\\rangle{}} \\: . \\: \\lambda{} e_{v} \\: . \\: ({f}_{\\langle{}v,t\\rangle{}}({e}_{v}) \\wedge{} {Loc}({e}_{v}, \\iota{} x_{e} \\: . \\: {Kitchen}({x}_{e})))$</td></tr></table>\n",
        "</td><td></td></tr></table>\n",
        "</td><td style=\"vertical-align:bottom;padding-bottom:5px\">&nbsp;&nbsp;&nbsp;$\\circ$&nbsp;&nbsp;&nbsp;</td><td style=\"vertical-align:bottom\"><table><tr><td style=\"vertical-align:bottom;padding:0px 10px\" align=\"center\"><table><tr><td style=\"vertical-align:bottom\"><table align=\"center\"><tr><td align=\"center\">$||\\mathbf{\\text{slowly}}||^{}_{\\langle{}\\langle{}v,t\\rangle{},\\langle{}v,t\\rangle{}\\rangle{}}$</td></tr><tr><td align=\"center\">$\\lambda{} f_{\\langle{}v,t\\rangle{}} \\: . \\: \\lambda{} e_{v} \\: . \\: ({f}_{\\langle{}v,t\\rangle{}}({e}_{v}) \\wedge{} {Slow}_{\\langle{}v,t\\rangle{}}({e}_{v}))$</td></tr></table>\n",
        "</td><td style=\"vertical-align:bottom;padding-bottom:5px\">&nbsp;&nbsp;&nbsp;$\\circ$&nbsp;&nbsp;&nbsp;</td><td style=\"vertical-align:bottom\"><table align=\"center\"><tr><td align=\"center\">$||\\mathbf{\\text{dance}}||^{}_{\\langle{}v,t\\rangle{}}$</td></tr><tr><td align=\"center\">$\\lambda{} e_{v} \\: . \\: {Dancing}_{\\langle{}v,t\\rangle{}}({e}_{v})$</td></tr></table>\n",
        "</td></tr></table></td><td style=\"vertical-align:bottom;padding-bottom:5px;padding-left:10px\"><b>[FA]</b></td></tr><tr style=\"border-top: 1px solid #848482\"><td align=\"center\"><table style=\"margin-top:10px\"><tr><td style=\"vertical-align:bottom\" align=\"center\">$||\\mathbf{\\text{[slowly dance]}}||^{}_{\\langle{}v,t\\rangle{}}$</td></tr><tr><td style=\"vertical-align:bottom\" align=\"center\">$ = \\lambda{} e_{v} \\: . \\: ({Dancing}_{\\langle{}v,t\\rangle{}}({e}_{v}) \\wedge{} {Slow}_{\\langle{}v,t\\rangle{}}({e}_{v}))$</td></tr></table>\n",
        "</td><td></td></tr></table>\n",
        "</td></tr></table></td><td style=\"vertical-align:bottom;padding-bottom:5px;padding-left:10px\"><b>[FA]</b></td></tr><tr style=\"border-top: 1px solid #848482\"><td align=\"center\"><table style=\"margin-top:10px\"><tr><td style=\"vertical-align:bottom\" align=\"center\">$||\\mathbf{\\text{[[inP [the kitchen]] [slowly dance]]}}||^{}_{\\langle{}v,t\\rangle{}}$</td></tr><tr><td style=\"vertical-align:bottom\" align=\"center\">$ = \\lambda{} e_{v} \\: . \\: (({Dancing}_{\\langle{}v,t\\rangle{}}({e}_{v}) \\wedge{} {Slow}_{\\langle{}v,t\\rangle{}}({e}_{v})) \\wedge{} {Loc}({e}_{v}, \\iota{} x_{e} \\: . \\: {Kitchen}({x}_{e})))$</td></tr></table>\n",
        "</td><td></td></tr></table>\n",
        "</td></tr></table></td><td style=\"vertical-align:bottom;padding-bottom:5px;padding-left:10px\"><b>[FA]</b></td></tr><tr style=\"border-top: 1px solid #848482\"><td align=\"center\"><table style=\"margin-top:10px\"><tr><td style=\"vertical-align:bottom\" align=\"center\">$||\\mathbf{\\text{[v [[inP [the kitchen]] [slowly dance]]]}}||^{}_{\\langle{}e,\\langle{}v,t\\rangle{}\\rangle{}}$</td></tr><tr><td style=\"vertical-align:bottom\" align=\"center\">$ = \\lambda{} x_{e} \\: . \\: \\lambda{} e_{v} \\: . \\: ((({Dancing}_{\\langle{}v,t\\rangle{}}({e}_{v}) \\wedge{} {Slow}_{\\langle{}v,t\\rangle{}}({e}_{v})) \\wedge{} {Loc}({e}_{v}, \\iota{} x_{e} \\: . \\: {Kitchen}({x}_{e}))) \\wedge{} {Agent}({e}_{v}, {x}_{e}))$</td></tr></table>\n",
        "</td><td></td></tr></table>\n",
        "</td><td style=\"vertical-align:bottom;padding-bottom:5px\">&nbsp;&nbsp;&nbsp;$\\circ$&nbsp;&nbsp;&nbsp;</td><td style=\"vertical-align:bottom\"><table align=\"center\"><tr><td align=\"center\">$||\\mathbf{\\text{alfonso}}||^{}_{e}$</td></tr><tr><td align=\"center\">${Alfonso}_{e}$</td></tr></table>\n",
        "</td></tr></table></td><td style=\"vertical-align:bottom;padding-bottom:5px;padding-left:10px\"><b>[FA]</b></td></tr><tr style=\"border-top: 1px solid #848482\"><td align=\"center\"><table style=\"margin-top:10px\"><tr><td style=\"vertical-align:bottom\" align=\"center\">$||\\mathbf{\\text{[[v [[inP [the kitchen]] [slowly dance]]] alfonso]}}||^{}_{\\langle{}v,t\\rangle{}}$</td></tr><tr><td style=\"vertical-align:bottom\" align=\"center\">$ = \\lambda{} e_{v} \\: . \\: ((({Dancing}_{\\langle{}v,t\\rangle{}}({e}_{v}) \\wedge{} {Slow}_{\\langle{}v,t\\rangle{}}({e}_{v})) \\wedge{} {Loc}({e}_{v}, \\iota{} x_{e} \\: . \\: {Kitchen}({x}_{e}))) \\wedge{} {Agent}({e}_{v}, {Alfonso}_{e}))$</td></tr></table>\n",
        "</td><td></td></tr></table>\n",
        "</td></tr></table></td><td style=\"vertical-align:bottom;padding-bottom:5px;padding-left:10px\"><b>[EC]</b></td></tr><tr style=\"border-top: 1px solid #848482\"><td align=\"center\"><table style=\"margin-top:10px\"><tr><td style=\"vertical-align:bottom\" align=\"center\">$||\\mathbf{\\text{EC([[v [[inP [the kitchen]] [slowly dance]]] alfonso])}}||^{}_{t}$</td></tr><tr><td style=\"vertical-align:bottom\" align=\"center\">$ = \\exists{} e_{v} \\: . \\: ((({Dancing}_{\\langle{}v,t\\rangle{}}({e}_{v}) \\wedge{} {Slow}_{\\langle{}v,t\\rangle{}}({e}_{v})) \\wedge{} {Loc}({e}_{v}, \\iota{} x_{e} \\: . \\: {Kitchen}({x}_{e}))) \\wedge{} {Agent}({e}_{v}, {Alfonso}_{e}))$</td></tr></table>\n",
        "</td><td></td></tr></table>\n",
        "<br /><br />"
       ]
      }
     ],
     "prompt_number": 20
    },
    {
     "cell_type": "code",
     "collapsed": false,
     "input": [],
     "language": "python",
     "metadata": {},
     "outputs": []
    },
    {
     "cell_type": "markdown",
     "metadata": {},
     "source": [
      "The above treatment uses Function Application for every stage.  The alternative is to use a (generalized) version of Predicate Modification, or some similar operation (e.g. Chung and Ladusaw's Restrict).\n",
      "\n",
      "The version of PM provided by the lambda notebook library is specific to type $\\langle e,t \\rangle$, so we will need to generalize.  The library implemention of PM uses the function shown below as `basic_pm_fun`, and to generalize, one can construct such an operator for arbitrary input types.  The function `construct_gpm_fun` does this, with two example property types shown."
     ]
    },
    {
     "cell_type": "code",
     "collapsed": false,
     "input": [
      "basic_pm_fun = lang.te(\"L f_<e,t> : L g_<e,t> : L x_e : f(x) & g(x)\")\n",
      "basic_pm_fun"
     ],
     "language": "python",
     "metadata": {},
     "outputs": [
      {
       "latex": [
        "$\\lambda{} f_{\\langle{}e,t\\rangle{}} \\: . \\: \\lambda{} g_{\\langle{}e,t\\rangle{}} \\: . \\: \\lambda{} x_{e} \\: . \\: ({f}_{\\langle{}e,t\\rangle{}}({x}_{e}) \\wedge{} {g}_{\\langle{}e,t\\rangle{}}({x}_{e}))$"
       ],
       "metadata": {},
       "output_type": "pyout",
       "prompt_number": 21,
       "text": [
        "(\u03bb f_<e,t>: (\u03bb g_<e,t>: (\u03bb x_e: (f_<e,t>(x_e) & g_<e,t>(x_e)))))"
       ]
      }
     ],
     "prompt_number": 21
    },
    {
     "cell_type": "code",
     "collapsed": false,
     "input": [
      "def is_property(typ, ts):\n",
      "    if not typ.functional():\n",
      "        return False\n",
      "    return ts.eq_check(typ.right, types.type_t)\n",
      "\n",
      "def construct_gpm_fun(prop_type):\n",
      "    body = meta.BinaryAndExpr(meta.term(\"f\", prop_type)(meta.term(\"x\", prop_type.left)), meta.term(\"g\", prop_type)(meta.term(\"x\", prop_type.left)))\n",
      "    gpm_fun = meta.LFun(prop_type, (meta.LFun(prop_type, (meta.LFun(prop_type.left, (body), \"x\")), \"g\")), \"f\")\n",
      "    return gpm_fun\n",
      "\n",
      "ltx_print(construct_gpm_fun(meta.tp(\"<v,t>\")), construct_gpm_fun(meta.tp(\"<<e,(v,e)>,t>\")))"
     ],
     "language": "python",
     "metadata": {},
     "outputs": [
      {
       "latex": [
        "$\\lambda{} f_{\\langle{}v,t\\rangle{}} \\: . \\: \\lambda{} g_{\\langle{}v,t\\rangle{}} \\: . \\: \\lambda{} x_{v} \\: . \\: ({f}_{\\langle{}v,t\\rangle{}}({x}_{v}) \\wedge{} {g}_{\\langle{}v,t\\rangle{}}({x}_{v}))$<br />$\\lambda{} f_{\\langle{}\\langle{}e,(v, e)\\rangle{},t\\rangle{}} \\: . \\: \\lambda{} g_{\\langle{}\\langle{}e,(v, e)\\rangle{},t\\rangle{}} \\: . \\: \\lambda{} x_{\\langle{}e,(v, e)\\rangle{}} \\: . \\: ({f}_{\\langle{}\\langle{}e,(v, e)\\rangle{},t\\rangle{}}({x}_{\\langle{}e,(v, e)\\rangle{}}) \\wedge{} {g}_{\\langle{}\\langle{}e,(v, e)\\rangle{},t\\rangle{}}({x}_{\\langle{}e,(v, e)\\rangle{}}))$<br />"
       ],
       "metadata": {},
       "output_type": "pyout",
       "prompt_number": 22,
       "text": [
        "$\\lambda{} f_{\\langle{}v,t\\rangle{}} \\: . \\: \\lambda{} g_{\\langle{}v,t\\rangle{}} \\: . \\: \\lambda{} x_{v} \\: . \\: ({f}_{\\langle{}v,t\\rangle{}}({x}_{v}) \\wedge{} {g}_{\\langle{}v,t\\rangle{}}({x}_{v}))$<br />$\\lambda{} f_{\\langle{}\\langle{}e,(v, e)\\rangle{},t\\rangle{}} \\: . \\: \\lambda{} g_{\\langle{}\\langle{}e,(v, e)\\rangle{},t\\rangle{}} \\: . \\: \\lambda{} x_{\\langle{}e,(v, e)\\rangle{}} \\: . \\: ({f}_{\\langle{}\\langle{}e,(v, e)\\rangle{},t\\rangle{}}({x}_{\\langle{}e,(v, e)\\rangle{}}) \\wedge{} {g}_{\\langle{}\\langle{}e,(v, e)\\rangle{},t\\rangle{}}({x}_{\\langle{}e,(v, e)\\rangle{}}))$<br />"
       ]
      }
     ],
     "prompt_number": 22
    },
    {
     "cell_type": "code",
     "collapsed": false,
     "input": [
      "def gpm_op(fun1, fun2, assignment=None):\n",
      "    \"\"\"H&K predicate modification -- restricted to type <et>.\"\"\"\n",
      "    ts = meta.get_type_system()\n",
      "    if not (is_property(fun1.type, ts) and is_property(fun2.type, ts) and ts.eq_check(fun1.type.left, fun2.type.left)):\n",
      "        raise types.TypeMismatch(fun1, fun2, \"Generalized Predicate Modification\")\n",
      "    (ptype1, ptype2) = ts.unify(fun1.type, fun2.type)\n",
      "    #gpm_fun = meta.LFun(ptype1, (meta.LFun(ptype1, (meta.LFun(ptype1.left, (lang.te(\"f(x) & g(x)\")), \"x\")), \"g\")), \"f\")\n",
      "    gpm_fun = construct_gpm_fun(ptype1)\n",
      "    c1 = fun1.content.under_assignment(assignment)\n",
      "    c2 = fun2.content.under_assignment(assignment)\n",
      "    result = (gpm_fun(c1)(c2)).reduce_all()\n",
      "    return lang.BinaryComposite(fun1, fun2, result)\n",
      "\n",
      "system = lang.get_system().copy()\n",
      "system.add_rule(lang.BinaryCompositionOp(\"GPM\", gpm_op, commutative=True))\n",
      "lang.set_system(system)\n",
      "system"
     ],
     "language": "python",
     "metadata": {},
     "outputs": [
      {
       "latex": [
        "Composition system 'H&K simple (copy) (copy)'<br />Operations: FA, PM, PA, EC, GPM"
       ],
       "metadata": {},
       "output_type": "pyout",
       "prompt_number": 23,
       "text": [
        "Composition system: H&K simple (copy) (copy)"
       ]
      }
     ],
     "prompt_number": 23
    },
    {
     "cell_type": "code",
     "collapsed": false,
     "input": [
      "(dance * dance).latex_step_tree()"
     ],
     "language": "python",
     "metadata": {},
     "outputs": [
      {
       "latex": [
        "1 composition path:<br /><table><tr><td style=\"vertical-align:bottom;padding:0px 10px\" align=\"center\"><table><tr><td style=\"vertical-align:bottom\"><table align=\"center\"><tr><td align=\"center\">$||\\mathbf{\\text{dance}}||^{}_{\\langle{}v,t\\rangle{}}$</td></tr><tr><td align=\"center\">$\\lambda{} e_{v} \\: . \\: {Dancing}_{\\langle{}v,t\\rangle{}}({e}_{v})$</td></tr></table>\n",
        "</td><td style=\"vertical-align:bottom;padding-bottom:5px\">&nbsp;&nbsp;&nbsp;$\\circ$&nbsp;&nbsp;&nbsp;</td><td style=\"vertical-align:bottom\"><table align=\"center\"><tr><td align=\"center\">$||\\mathbf{\\text{dance}}||^{}_{\\langle{}v,t\\rangle{}}$</td></tr><tr><td align=\"center\">$\\lambda{} e_{v} \\: . \\: {Dancing}_{\\langle{}v,t\\rangle{}}({e}_{v})$</td></tr></table>\n",
        "</td></tr></table></td><td style=\"vertical-align:bottom;padding-bottom:5px;padding-left:10px\"><b>[GPM]</b></td></tr><tr style=\"border-top: 1px solid #848482\"><td align=\"center\"><table style=\"margin-top:10px\"><tr><td style=\"vertical-align:bottom\" align=\"center\">$||\\mathbf{\\text{[dance dance]}}||^{}_{\\langle{}v,t\\rangle{}}$</td></tr><tr><td style=\"vertical-align:bottom\" align=\"center\">$ = \\lambda{} x_{v} \\: . \\: ({Dancing}_{\\langle{}v,t\\rangle{}}({x}_{v}) \\wedge{} {Dancing}_{\\langle{}v,t\\rangle{}}({x}_{v}))$</td></tr></table>\n",
        "</td><td></td></tr></table>\n",
        "<br /><br />"
       ],
       "metadata": {},
       "output_type": "pyout",
       "prompt_number": 24,
       "text": [
        "1 composition path:<br /><table><tr><td style=\"vertical-align:bottom;padding:0px 10px\" align=\"center\"><table><tr><td style=\"vertical-align:bottom\"><table align=\"center\"><tr><td align=\"center\">$||\\mathbf{\\text{dance}}||^{}_{\\langle{}v,t\\rangle{}}$</td></tr><tr><td align=\"center\">$\\lambda{} e_{v} \\: . \\: {Dancing}_{\\langle{}v,t\\rangle{}}({e}_{v})$</td></tr></table>\n",
        "</td><td style=\"vertical-align:bottom;padding-bottom:5px\">&nbsp;&nbsp;&nbsp;$\\circ$&nbsp;&nbsp;&nbsp;</td><td style=\"vertical-align:bottom\"><table align=\"center\"><tr><td align=\"center\">$||\\mathbf{\\text{dance}}||^{}_{\\langle{}v,t\\rangle{}}$</td></tr><tr><td align=\"center\">$\\lambda{} e_{v} \\: . \\: {Dancing}_{\\langle{}v,t\\rangle{}}({e}_{v})$</td></tr></table>\n",
        "</td></tr></table></td><td style=\"vertical-align:bottom;padding-bottom:5px;padding-left:10px\"><b>[GPM]</b></td></tr><tr style=\"border-top: 1px solid #848482\"><td align=\"center\"><table style=\"margin-top:10px\"><tr><td style=\"vertical-align:bottom\" align=\"center\">$||\\mathbf{\\text{[dance dance]}}||^{}_{\\langle{}v,t\\rangle{}}$</td></tr><tr><td style=\"vertical-align:bottom\" align=\"center\">$ = \\lambda{} x_{v} \\: . \\: ({Dancing}_{\\langle{}v,t\\rangle{}}({x}_{v}) \\wedge{} {Dancing}_{\\langle{}v,t\\rangle{}}({x}_{v}))$</td></tr></table>\n",
        "</td><td></td></tr></table>\n",
        "<br /><br />"
       ]
      }
     ],
     "prompt_number": 24
    },
    {
     "cell_type": "markdown",
     "metadata": {},
     "source": [
      "Note that PM is redundant with GPM, so we may want to remove PM: (and if you re-run this code without a full reset, may need to remove extra GPMs)"
     ]
    },
    {
     "cell_type": "code",
     "collapsed": false,
     "input": [
      "(kitchen * kitchen).latex_step_tree(derivations=True)"
     ],
     "language": "python",
     "metadata": {},
     "outputs": [
      {
       "latex": [
        "2 composition paths:<br />\n",
        "Path [0]:<br />\n",
        "<table><tr><td style=\"vertical-align:bottom;padding:0px 10px\" align=\"center\"><table><tr><td style=\"vertical-align:bottom\"><table align=\"center\"><tr><td align=\"center\">$||\\mathbf{\\text{kitchen}}||^{}_{\\langle{}e,t\\rangle{}}$</td></tr><tr><td align=\"center\">$\\lambda{} x_{e} \\: . \\: {Kitchen}({x}_{e})$</td></tr></table>\n",
        "</td><td style=\"vertical-align:bottom;padding-bottom:5px\">&nbsp;&nbsp;&nbsp;$\\circ$&nbsp;&nbsp;&nbsp;</td><td style=\"vertical-align:bottom\"><table align=\"center\"><tr><td align=\"center\">$||\\mathbf{\\text{kitchen}}||^{}_{\\langle{}e,t\\rangle{}}$</td></tr><tr><td align=\"center\">$\\lambda{} x_{e} \\: . \\: {Kitchen}({x}_{e})$</td></tr></table>\n",
        "</td></tr></table></td><td style=\"vertical-align:bottom;padding-bottom:5px;padding-left:10px\"><b>[PM]</b></td></tr><tr style=\"border-top: 1px solid #848482\"><td align=\"center\"><table style=\"margin-top:10px\"><tr><td style=\"vertical-align:bottom\" align=\"center\">$||\\mathbf{\\text{[kitchen kitchen]}}||^{}_{\\langle{}e,t\\rangle{}}$</td></tr><tr><td style=\"vertical-align:bottom\" align=\"center\"><table><tr><td style=\"padding-right:5px\"> $=$ </td><td style=\"align:center\">$[\\lambda{} f_{\\langle{}e,t\\rangle{}} \\: . \\: \\lambda{} g_{\\langle{}e,t\\rangle{}} \\: . \\: \\lambda{} x_{e} \\: . \\: ({f}_{\\langle{}e,t\\rangle{}}({x}_{e}) \\wedge{} {g}_{\\langle{}e,t\\rangle{}}({x}_{e}))](\\lambda{} x_{e} \\: . \\: {Kitchen}({x}_{e}))(\\lambda{} x_{e} \\: . \\: {Kitchen}({x}_{e}))$</td></tr><tr><td style=\"padding-right:5px\"> $=$ </td><td style=\"align:center\">$[\\lambda{} g_{\\langle{}e,t\\rangle{}} \\: . \\: \\lambda{} x_{e} \\: . \\: ({Kitchen}({x}_{e}) \\wedge{} {g}_{\\langle{}e,t\\rangle{}}({x}_{e}))](\\lambda{} x_{e} \\: . \\: {Kitchen}({x}_{e}))$</td></tr><tr><td style=\"padding-right:5px\"> $=$ </td><td style=\"align:center\">$\\lambda{} x_{e} \\: . \\: ({Kitchen}({x}_{e}) \\wedge{} [\\lambda{} x_{e} \\: . \\: {Kitchen}({x}_{e})]({x}_{e}))$</td></tr><tr><td style=\"padding-right:5px\"> $=$ </td><td style=\"align:center\">$\\lambda{} x_{e} \\: . \\: ({Kitchen}({x}_{e}) \\wedge{} {Kitchen}({x}_{e}))$</td></tr></table></td></tr></table>\n",
        "</td><td></td></tr></table>\n",
        "<br /><br />Path [1]:<br />\n",
        "<table><tr><td style=\"vertical-align:bottom;padding:0px 10px\" align=\"center\"><table><tr><td style=\"vertical-align:bottom\"><table align=\"center\"><tr><td align=\"center\">$||\\mathbf{\\text{kitchen}}||^{}_{\\langle{}e,t\\rangle{}}$</td></tr><tr><td align=\"center\">$\\lambda{} x_{e} \\: . \\: {Kitchen}({x}_{e})$</td></tr></table>\n",
        "</td><td style=\"vertical-align:bottom;padding-bottom:5px\">&nbsp;&nbsp;&nbsp;$\\circ$&nbsp;&nbsp;&nbsp;</td><td style=\"vertical-align:bottom\"><table align=\"center\"><tr><td align=\"center\">$||\\mathbf{\\text{kitchen}}||^{}_{\\langle{}e,t\\rangle{}}$</td></tr><tr><td align=\"center\">$\\lambda{} x_{e} \\: . \\: {Kitchen}({x}_{e})$</td></tr></table>\n",
        "</td></tr></table></td><td style=\"vertical-align:bottom;padding-bottom:5px;padding-left:10px\"><b>[GPM]</b></td></tr><tr style=\"border-top: 1px solid #848482\"><td align=\"center\"><table style=\"margin-top:10px\"><tr><td style=\"vertical-align:bottom\" align=\"center\">$||\\mathbf{\\text{[kitchen kitchen]}}||^{}_{\\langle{}e,t\\rangle{}}$</td></tr><tr><td style=\"vertical-align:bottom\" align=\"center\"><table><tr><td style=\"padding-right:5px\"> $=$ </td><td style=\"align:center\">$[\\lambda{} f_{\\langle{}e,t\\rangle{}} \\: . \\: \\lambda{} g_{\\langle{}e,t\\rangle{}} \\: . \\: \\lambda{} x_{e} \\: . \\: ({f}_{\\langle{}e,t\\rangle{}}({x}_{e}) \\wedge{} {g}_{\\langle{}e,t\\rangle{}}({x}_{e}))](\\lambda{} x_{e} \\: . \\: {Kitchen}({x}_{e}))(\\lambda{} x_{e} \\: . \\: {Kitchen}({x}_{e}))$</td></tr><tr><td style=\"padding-right:5px\"> $=$ </td><td style=\"align:center\">$[\\lambda{} g_{\\langle{}e,t\\rangle{}} \\: . \\: \\lambda{} x_{e} \\: . \\: ({Kitchen}({x}_{e}) \\wedge{} {g}_{\\langle{}e,t\\rangle{}}({x}_{e}))](\\lambda{} x_{e} \\: . \\: {Kitchen}({x}_{e}))$</td></tr><tr><td style=\"padding-right:5px\"> $=$ </td><td style=\"align:center\">$\\lambda{} x_{e} \\: . \\: ({Kitchen}({x}_{e}) \\wedge{} [\\lambda{} x_{e} \\: . \\: {Kitchen}({x}_{e})]({x}_{e}))$</td></tr><tr><td style=\"padding-right:5px\"> $=$ </td><td style=\"align:center\">$\\lambda{} x_{e} \\: . \\: ({Kitchen}({x}_{e}) \\wedge{} {Kitchen}({x}_{e}))$</td></tr></table></td></tr></table>\n",
        "</td><td></td></tr></table>\n",
        "<br /><br />"
       ],
       "metadata": {},
       "output_type": "pyout",
       "prompt_number": 25,
       "text": [
        "2 composition paths:<br />\n",
        "Path [0]:<br />\n",
        "<table><tr><td style=\"vertical-align:bottom;padding:0px 10px\" align=\"center\"><table><tr><td style=\"vertical-align:bottom\"><table align=\"center\"><tr><td align=\"center\">$||\\mathbf{\\text{kitchen}}||^{}_{\\langle{}e,t\\rangle{}}$</td></tr><tr><td align=\"center\">$\\lambda{} x_{e} \\: . \\: {Kitchen}({x}_{e})$</td></tr></table>\n",
        "</td><td style=\"vertical-align:bottom;padding-bottom:5px\">&nbsp;&nbsp;&nbsp;$\\circ$&nbsp;&nbsp;&nbsp;</td><td style=\"vertical-align:bottom\"><table align=\"center\"><tr><td align=\"center\">$||\\mathbf{\\text{kitchen}}||^{}_{\\langle{}e,t\\rangle{}}$</td></tr><tr><td align=\"center\">$\\lambda{} x_{e} \\: . \\: {Kitchen}({x}_{e})$</td></tr></table>\n",
        "</td></tr></table></td><td style=\"vertical-align:bottom;padding-bottom:5px;padding-left:10px\"><b>[PM]</b></td></tr><tr style=\"border-top: 1px solid #848482\"><td align=\"center\"><table style=\"margin-top:10px\"><tr><td style=\"vertical-align:bottom\" align=\"center\">$||\\mathbf{\\text{[kitchen kitchen]}}||^{}_{\\langle{}e,t\\rangle{}}$</td></tr><tr><td style=\"vertical-align:bottom\" align=\"center\"><table><tr><td style=\"padding-right:5px\"> $=$ </td><td style=\"align:center\">$[\\lambda{} f_{\\langle{}e,t\\rangle{}} \\: . \\: \\lambda{} g_{\\langle{}e,t\\rangle{}} \\: . \\: \\lambda{} x_{e} \\: . \\: ({f}_{\\langle{}e,t\\rangle{}}({x}_{e}) \\wedge{} {g}_{\\langle{}e,t\\rangle{}}({x}_{e}))](\\lambda{} x_{e} \\: . \\: {Kitchen}({x}_{e}))(\\lambda{} x_{e} \\: . \\: {Kitchen}({x}_{e}))$</td></tr><tr><td style=\"padding-right:5px\"> $=$ </td><td style=\"align:center\">$[\\lambda{} g_{\\langle{}e,t\\rangle{}} \\: . \\: \\lambda{} x_{e} \\: . \\: ({Kitchen}({x}_{e}) \\wedge{} {g}_{\\langle{}e,t\\rangle{}}({x}_{e}))](\\lambda{} x_{e} \\: . \\: {Kitchen}({x}_{e}))$</td></tr><tr><td style=\"padding-right:5px\"> $=$ </td><td style=\"align:center\">$\\lambda{} x_{e} \\: . \\: ({Kitchen}({x}_{e}) \\wedge{} [\\lambda{} x_{e} \\: . \\: {Kitchen}({x}_{e})]({x}_{e}))$</td></tr><tr><td style=\"padding-right:5px\"> $=$ </td><td style=\"align:center\">$\\lambda{} x_{e} \\: . \\: ({Kitchen}({x}_{e}) \\wedge{} {Kitchen}({x}_{e}))$</td></tr></table></td></tr></table>\n",
        "</td><td></td></tr></table>\n",
        "<br /><br />Path [1]:<br />\n",
        "<table><tr><td style=\"vertical-align:bottom;padding:0px 10px\" align=\"center\"><table><tr><td style=\"vertical-align:bottom\"><table align=\"center\"><tr><td align=\"center\">$||\\mathbf{\\text{kitchen}}||^{}_{\\langle{}e,t\\rangle{}}$</td></tr><tr><td align=\"center\">$\\lambda{} x_{e} \\: . \\: {Kitchen}({x}_{e})$</td></tr></table>\n",
        "</td><td style=\"vertical-align:bottom;padding-bottom:5px\">&nbsp;&nbsp;&nbsp;$\\circ$&nbsp;&nbsp;&nbsp;</td><td style=\"vertical-align:bottom\"><table align=\"center\"><tr><td align=\"center\">$||\\mathbf{\\text{kitchen}}||^{}_{\\langle{}e,t\\rangle{}}$</td></tr><tr><td align=\"center\">$\\lambda{} x_{e} \\: . \\: {Kitchen}({x}_{e})$</td></tr></table>\n",
        "</td></tr></table></td><td style=\"vertical-align:bottom;padding-bottom:5px;padding-left:10px\"><b>[GPM]</b></td></tr><tr style=\"border-top: 1px solid #848482\"><td align=\"center\"><table style=\"margin-top:10px\"><tr><td style=\"vertical-align:bottom\" align=\"center\">$||\\mathbf{\\text{[kitchen kitchen]}}||^{}_{\\langle{}e,t\\rangle{}}$</td></tr><tr><td style=\"vertical-align:bottom\" align=\"center\"><table><tr><td style=\"padding-right:5px\"> $=$ </td><td style=\"align:center\">$[\\lambda{} f_{\\langle{}e,t\\rangle{}} \\: . \\: \\lambda{} g_{\\langle{}e,t\\rangle{}} \\: . \\: \\lambda{} x_{e} \\: . \\: ({f}_{\\langle{}e,t\\rangle{}}({x}_{e}) \\wedge{} {g}_{\\langle{}e,t\\rangle{}}({x}_{e}))](\\lambda{} x_{e} \\: . \\: {Kitchen}({x}_{e}))(\\lambda{} x_{e} \\: . \\: {Kitchen}({x}_{e}))$</td></tr><tr><td style=\"padding-right:5px\"> $=$ </td><td style=\"align:center\">$[\\lambda{} g_{\\langle{}e,t\\rangle{}} \\: . \\: \\lambda{} x_{e} \\: . \\: ({Kitchen}({x}_{e}) \\wedge{} {g}_{\\langle{}e,t\\rangle{}}({x}_{e}))](\\lambda{} x_{e} \\: . \\: {Kitchen}({x}_{e}))$</td></tr><tr><td style=\"padding-right:5px\"> $=$ </td><td style=\"align:center\">$\\lambda{} x_{e} \\: . \\: ({Kitchen}({x}_{e}) \\wedge{} [\\lambda{} x_{e} \\: . \\: {Kitchen}({x}_{e})]({x}_{e}))$</td></tr><tr><td style=\"padding-right:5px\"> $=$ </td><td style=\"align:center\">$\\lambda{} x_{e} \\: . \\: ({Kitchen}({x}_{e}) \\wedge{} {Kitchen}({x}_{e}))$</td></tr></table></td></tr></table>\n",
        "</td><td></td></tr></table>\n",
        "<br /><br />"
       ]
      }
     ],
     "prompt_number": 25
    },
    {
     "cell_type": "code",
     "collapsed": false,
     "input": [
      "system.remove_rule(\"PM\")\n",
      "system"
     ],
     "language": "python",
     "metadata": {},
     "outputs": [
      {
       "latex": [
        "Composition system 'H&K simple (copy) (copy)'<br />Operations: FA, PA, EC, GPM"
       ],
       "metadata": {},
       "output_type": "pyout",
       "prompt_number": 26,
       "text": [
        "Composition system: H&K simple (copy) (copy)"
       ]
      }
     ],
     "prompt_number": 26
    },
    {
     "cell_type": "code",
     "collapsed": false,
     "input": [
      "kitchen * kitchen"
     ],
     "language": "python",
     "metadata": {},
     "outputs": [
      {
       "latex": [
        "1 composition path.  Result:\n",
        "<br />&nbsp;&nbsp;&nbsp;&nbsp;[0]: $||\\mathbf{\\text{[kitchen kitchen]}}||^{}_{\\langle{}e,t\\rangle{}} \\:=\\: $$\\lambda{} x_{e} \\: . \\: ({Kitchen}({x}_{e}) \\wedge{} {Kitchen}({x}_{e}))$"
       ],
       "metadata": {},
       "output_type": "pyout",
       "prompt_number": 27,
       "text": [
        "CompositionResult(results=[||[kitchen kitchen]|| = (\u03bb x_e: (Kitchen_<e,t>(x_e) & Kitchen_<e,t>(x_e)))], failures=[||[kitchen kitchen]|| = Type mismatch: '||kitchen|| = (\u03bb x_e: Kitchen_<e,t>(x_e))'/<e,t> and '||kitchen|| = (\u03bb x_e: Kitchen_<e,t>(x_e))'/<e,t> conflict (mode: Function Application), ||[kitchen kitchen]|| = Type mismatch: '||kitchen|| = (\u03bb x_e: Kitchen_<e,t>(x_e))'/<e,t> and '||kitchen|| = (\u03bb x_e: Kitchen_<e,t>(x_e))'/<e,t> conflict (mode: Function Application), ||[kitchen kitchen]|| = Type mismatch: '||kitchen|| = (\u03bb x_e: Kitchen_<e,t>(x_e))'/<e,t> and '||kitchen|| = (\u03bb x_e: Kitchen_<e,t>(x_e))'/<e,t> conflict (mode: Predicate Abstraction), ||[kitchen kitchen]|| = Type mismatch: '||kitchen|| = (\u03bb x_e: Kitchen_<e,t>(x_e))'/<e,t> and '||kitchen|| = (\u03bb x_e: Kitchen_<e,t>(x_e))'/<e,t> conflict (mode: Predicate Abstraction)])"
       ]
      }
     ],
     "prompt_number": 27
    },
    {
     "cell_type": "markdown",
     "metadata": {},
     "source": [
      "Now with those preliminaries out of the way, we are in good shape to reformulate the neo-Davidsonian account using mainly GPM.\n",
      "\n",
      "Just to demonstrate what this could involve, I'll alter the assumption about little-v.  The early implementation assumed that the subject composed in Spec,TP; now we can even assume it is in Spec,vP.  This leads to much simpler entries all around, and is close to Kratzer's original proposal."
     ]
    },
    {
     "cell_type": "code",
     "collapsed": false,
     "input": [
      "%%lamb\n",
      "# redo everything\n",
      "||smokes|| = L e_v : Smoking(e)\n",
      "||sees|| = L y_e : L e_v : Seeing(e) & patient(e,y)\n",
      "||v|| = L x_e : L e_v : agent(e,x)\n",
      "||dance|| = L e_v : Dancing(e)\n",
      "||slowly|| = L e_v : Slow(e)\n",
      "||inP|| = L x_e : L e_v : Loc(e, x)\n",
      "||the|| = L f_<e,t> : Iota x_e : f(x)\n",
      "||kitchen|| = L x_e : Kitchen(x)"
     ],
     "language": "python",
     "metadata": {},
     "outputs": []
    },
    {
     "cell_type": "code",
     "collapsed": false,
     "input": [
      "((alfonso * v) * smokes).latex_step_tree()"
     ],
     "language": "python",
     "metadata": {},
     "outputs": []
    },
    {
     "cell_type": "code",
     "collapsed": false,
     "input": [
      "((alfonso * v) * ((dance * slowly) * (inP * (the * kitchen)))) * None"
     ],
     "language": "python",
     "metadata": {},
     "outputs": []
    },
    {
     "cell_type": "code",
     "collapsed": false,
     "input": [
      "(((alfonso * v) * ((dance * slowly) * (inP * (the * kitchen)))) * None).latex_step_tree()"
     ],
     "language": "python",
     "metadata": {},
     "outputs": []
    },
    {
     "cell_type": "markdown",
     "metadata": {},
     "source": [
      "Of course, this raises many questions that are not answered by the basic compositional architecture.  What is an agent/patient?  What does it mean for an event to be `Slow`?  Etc.  However, the basic desiderata of the diamond entailment now follow, assuming any reasonable treatment of $\\wedge$, so I will leave off here; see Parsons, Landman, and many many others for development of the Davidsonian program."
     ]
    },
    {
     "cell_type": "code",
     "collapsed": false,
     "input": [],
     "language": "python",
     "metadata": {},
     "outputs": []
    },
    {
     "cell_type": "code",
     "collapsed": false,
     "input": [],
     "language": "python",
     "metadata": {},
     "outputs": []
    },
    {
     "cell_type": "code",
     "collapsed": false,
     "input": [],
     "language": "python",
     "metadata": {},
     "outputs": []
    }
   ],
   "metadata": {}
  }
 ]
}