{
 "metadata": {
  "name": ""
 },
 "nbformat": 3,
 "nbformat_minor": 0,
 "worksheets": [
  {
   "cells": [
    {
     "cell_type": "code",
     "collapsed": false,
     "input": [
      "import lamb\n",
      "from lamb import *\n",
      "from lamb.tree_mini import Tree\n",
      "from lamb.utils import *\n",
      "import imp\n",
      "\n",
      "def reload_all():\n",
      "    imp.reload(lamb.utils)\n",
      "    imp.reload(lamb.types)\n",
      "    imp.reload(lamb.meta)\n",
      "    imp.reload(lamb.lang)"
     ],
     "language": "python",
     "metadata": {},
     "outputs": [],
     "prompt_number": 87
    },
    {
     "cell_type": "code",
     "collapsed": false,
     "input": [
      "reload_all()"
     ],
     "language": "python",
     "metadata": {},
     "outputs": [
      {
       "output_type": "stream",
       "stream": "stdout",
       "text": [
        "warning: coerced guessed type t for 'Cat' into <e,t>, to match argument 'x'\n",
        "warning: coerced guessed type t for 'Gray' into <e,t>, to match argument 'x'\n",
        "warning: coerced guessed type t for 'In' into <e,t>, to match argument 'y'\n",
        "warning: coerced guessed type t for 'In(y)' into <e,t>, to match argument 'x'\n"
       ]
      }
     ],
     "prompt_number": 88
    },
    {
     "cell_type": "code",
     "collapsed": false,
     "input": [
      "x = lang.te(\"x_e\")\n",
      "y = lang.te(\"y_e\")\n",
      "z = lang.te(\"z_e\")"
     ],
     "language": "python",
     "metadata": {},
     "outputs": [],
     "prompt_number": 89
    },
    {
     "cell_type": "code",
     "collapsed": false,
     "input": [
      "test2 = lang.te(\"L y_e : L x_e : y_e\")\n",
      "test2(x)"
     ],
     "language": "python",
     "metadata": {},
     "outputs": [
      {
       "latex": [
        "$[\\lambda{} y_{e} \\: . \\: \\lambda{} x_{e} \\: . \\: {y}_{e}]({x}_{e})$"
       ],
       "metadata": {},
       "output_type": "pyout",
       "prompt_number": 90,
       "text": [
        "[(\u03bb y). (\u03bb x). y](x)"
       ]
      }
     ],
     "prompt_number": 90
    },
    {
     "cell_type": "code",
     "collapsed": false,
     "input": [
      "test2.apply(x)"
     ],
     "language": "python",
     "metadata": {},
     "outputs": [
      {
       "latex": [
        "$\\lambda{} x1_{e} \\: . \\: {x}_{e}$"
       ],
       "metadata": {},
       "output_type": "pyout",
       "prompt_number": 91,
       "text": [
        "(\u03bb x1). x"
       ]
      }
     ],
     "prompt_number": 91
    },
    {
     "cell_type": "code",
     "collapsed": false,
     "input": [
      "meta.alpha_convert_new(test2, {\"z\"})"
     ],
     "language": "python",
     "metadata": {},
     "outputs": [
      {
       "latex": [
        "$\\lambda{} y_{e} \\: . \\: \\lambda{} x_{e} \\: . \\: {y}_{e}$"
       ],
       "metadata": {},
       "output_type": "pyout",
       "prompt_number": 92,
       "text": [
        "(\u03bb y). (\u03bb x). y"
       ]
      }
     ],
     "prompt_number": 92
    },
    {
     "cell_type": "code",
     "collapsed": false,
     "input": [
      "test3 = lang.te(\"L y_e : L y1_e : P(y_e) & q_t\")\n",
      "test3"
     ],
     "language": "python",
     "metadata": {},
     "outputs": [
      {
       "output_type": "stream",
       "stream": "stdout",
       "text": [
        "warning: coerced guessed type t for 'P' into <e,t>, to match argument 'y'\n"
       ]
      },
      {
       "latex": [
        "$\\lambda{} y_{e} \\: . \\: \\lambda{} y1_{e} \\: . \\: ({P}({y}_{e}) \\wedge{} {q}_{t})$"
       ],
       "metadata": {},
       "output_type": "pyout",
       "prompt_number": 93,
       "text": [
        "(\u03bb y). (\u03bb y1). (P(y) & q)"
       ]
      }
     ],
     "prompt_number": 93
    },
    {
     "cell_type": "code",
     "collapsed": false,
     "input": [
      "meta.alpha_convert_new(test3, {\"x\", \"y\", \"q\"})"
     ],
     "language": "python",
     "metadata": {},
     "outputs": [
      {
       "latex": [
        "$\\lambda{} y2_{e} \\: . \\: \\lambda{} y1_{e} \\: . \\: ({P}({y2}_{e}) \\wedge{} {q}_{t})$"
       ],
       "metadata": {},
       "output_type": "pyout",
       "prompt_number": 94,
       "text": [
        "(\u03bb y2). (\u03bb y1). (P(y2) & q)"
       ]
      }
     ],
     "prompt_number": 94
    },
    {
     "cell_type": "code",
     "collapsed": false,
     "input": [
      "meta.pmw_test1"
     ],
     "language": "python",
     "metadata": {},
     "outputs": [
      {
       "latex": [
        "$\\lambda{} p_{t} \\: . \\: \\lambda{} x_{e} \\: . \\: ({P}({x}_{e}) \\wedge{} {p}_{t})$"
       ],
       "metadata": {},
       "output_type": "pyout",
       "prompt_number": 95,
       "text": [
        "(\u03bb p). (\u03bb x). (P(x) & p)"
       ]
      }
     ],
     "prompt_number": 95
    },
    {
     "cell_type": "code",
     "collapsed": false,
     "input": [
      "meta.pmw_test1b"
     ],
     "language": "python",
     "metadata": {},
     "outputs": [
      {
       "latex": [
        "$\\lambda{} x_{e} \\: . \\: ({P}({x}_{e}) \\wedge{} {Q}({x}_{e}))$"
       ],
       "metadata": {},
       "output_type": "pyout",
       "prompt_number": 96,
       "text": [
        "(\u03bb x). (P(x) & Q(x))"
       ]
      }
     ],
     "prompt_number": 96
    },
    {
     "cell_type": "code",
     "collapsed": false,
     "input": [
      "meta.pmw_test1(meta.t2)"
     ],
     "language": "python",
     "metadata": {},
     "outputs": [
      {
       "latex": [
        "$[\\lambda{} p_{t} \\: . \\: \\lambda{} x_{e} \\: . \\: ({P}({x}_{e}) \\wedge{} {p}_{t})]({Q}({x}_{e}))$"
       ],
       "metadata": {},
       "output_type": "pyout",
       "prompt_number": 97,
       "text": [
        "[(\u03bb p). (\u03bb x). (P(x) & p)](Q(x))"
       ]
      }
     ],
     "prompt_number": 97
    },
    {
     "cell_type": "code",
     "collapsed": false,
     "input": [
      "print(str(meta.pmw_test1(meta.t2).reduce().derivation))"
     ],
     "language": "python",
     "metadata": {},
     "outputs": [
      {
       "output_type": "stream",
       "stream": "stdout",
       "text": [
        " 1. [(\u03bb p). (\u03bb x). (P(x) & p)](Q(x))\n",
        " 2. (\u03bb x1). (P(x1) & Q(x))    (Function-arg reduction)\n",
        "\n"
       ]
      }
     ],
     "prompt_number": 98
    },
    {
     "cell_type": "code",
     "collapsed": false,
     "input": [
      "test4 = lang.te(\"L x_e : x\")\n",
      "test4"
     ],
     "language": "python",
     "metadata": {},
     "outputs": [
      {
       "latex": [
        "$\\lambda{} x_{e} \\: . \\: {x}_{e}$"
       ],
       "metadata": {},
       "output_type": "pyout",
       "prompt_number": 99,
       "text": [
        "(\u03bb x). x"
       ]
      }
     ],
     "prompt_number": 99
    },
    {
     "cell_type": "code",
     "collapsed": false,
     "input": [
      "test4(x)"
     ],
     "language": "python",
     "metadata": {},
     "outputs": [
      {
       "latex": [
        "$[\\lambda{} x_{e} \\: . \\: {x}_{e}]({x}_{e})$"
       ],
       "metadata": {},
       "output_type": "pyout",
       "prompt_number": 100,
       "text": [
        "[(\u03bb x). x](x)"
       ]
      }
     ],
     "prompt_number": 100
    },
    {
     "cell_type": "code",
     "collapsed": false,
     "input": [
      "r = meta.pmw_test1(meta.t2).reduce()\n",
      "r.derivation.steps[0]"
     ],
     "language": "python",
     "metadata": {},
     "outputs": [
      {
       "metadata": {},
       "output_type": "pyout",
       "prompt_number": 103,
       "text": [
        "<lamb.meta.DerivationStep at 0x102f18c90>"
       ]
      }
     ],
     "prompt_number": 103
    },
    {
     "cell_type": "code",
     "collapsed": false,
     "input": [],
     "language": "python",
     "metadata": {},
     "outputs": [],
     "prompt_number": 103
    },
    {
     "cell_type": "code",
     "collapsed": false,
     "input": [
      "reload_all()\n",
      "meta.TypedExpr.try_parse_op_expr(\"lambda x_e:P_<e,t>(x)\")"
     ],
     "language": "python",
     "metadata": {},
     "outputs": [
      {
       "output_type": "stream",
       "stream": "stdout",
       "text": [
        "warning: coerced guessed type t for 'Cat' into <e,t>, to match argument 'x'\n",
        "warning: coerced guessed type t for 'Gray' into <e,t>, to match argument 'x'\n",
        "warning: coerced guessed type t for 'In' into <e,t>, to match argument 'y'\n",
        "warning: coerced guessed type t for 'In(y)' into <e,t>, to match argument 'x'\n"
       ]
      },
      {
       "latex": [
        "$\\lambda{} x_{e} \\: . \\: {P}({x}_{e})$"
       ],
       "metadata": {},
       "output_type": "pyout",
       "prompt_number": 104,
       "text": [
        "(\u03bb x). P(x)"
       ]
      }
     ],
     "prompt_number": 104
    },
    {
     "cell_type": "code",
     "collapsed": false,
     "input": [
      "lang.te(\"L y_e : Exists x_e : P(x_e)(y)\")(lang.te(\"x_e\")).reduce()"
     ],
     "language": "python",
     "metadata": {},
     "outputs": [
      {
       "output_type": "stream",
       "stream": "stdout",
       "text": [
        "warning: coerced guessed type t for 'P' into <e,t>, to match argument 'x'\n",
        "warning: coerced guessed type t for 'P(x)' into <e,t>, to match argument 'y'\n"
       ]
      },
      {
       "latex": [
        "$\\exists{} x1_{e} \\: . \\: {P}_{\\langle{}e,\\langle{}e,t\\rangle{}\\rangle{}}({x1}_{e})({x}_{e})$"
       ],
       "metadata": {},
       "output_type": "pyout",
       "prompt_number": 105,
       "text": [
        "(\u2203 x1). P(x1)(x)"
       ]
      }
     ],
     "prompt_number": 105
    },
    {
     "cell_type": "code",
     "collapsed": false,
     "input": [],
     "language": "python",
     "metadata": {},
     "outputs": [
      {
       "output_type": "stream",
       "stream": "stdout",
       "text": [
        "warning: coerced guessed type t for 'Cat' into <e,t>, to match argument 'x'\n",
        "warning: coerced guessed type t for 'Gray' into <e,t>, to match argument 'x'\n",
        "warning: coerced guessed type t for 'In' into <e,t>, to match argument 'y'\n",
        "warning: coerced guessed type t for 'In(y)' into <e,t>, to match argument 'x'\n"
       ]
      },
      {
       "latex": [
        "$(({p}_{t} \\vee{} {q}_{t}) \\vee{} {r}_{t})$"
       ],
       "metadata": {},
       "output_type": "pyout",
       "prompt_number": 106,
       "text": [
        "((p | q) | r)"
       ]
      }
     ],
     "prompt_number": 106
    },
    {
     "cell_type": "code",
     "collapsed": false,
     "input": [],
     "language": "python",
     "metadata": {},
     "outputs": []
    }
   ],
   "metadata": {}
  }
 ]
}