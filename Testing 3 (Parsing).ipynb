{
 "metadata": {
  "name": ""
 },
 "nbformat": 3,
 "nbformat_minor": 0,
 "worksheets": [
  {
   "cells": [
    {
     "cell_type": "code",
     "collapsed": false,
     "input": [
      "import lamb\n",
      "from lamb import *\n",
      "from lamb.tree_mini import Tree\n",
      "from lamb.utils import *\n",
      "import imp\n",
      "\n",
      "from IPython.core.magic import (Magics, magics_class, line_magic,\n",
      "                                cell_magic, line_cell_magic)\n",
      "\n",
      "def reload_all():\n",
      "    imp.reload(lamb.utils)\n",
      "    imp.reload(lamb.types)\n",
      "    imp.reload(lamb.meta)\n",
      "    imp.reload(lamb.lang)\n",
      "    imp.reload(lamb.parsing)"
     ],
     "language": "python",
     "metadata": {},
     "outputs": [],
     "prompt_number": 7
    },
    {
     "cell_type": "code",
     "collapsed": false,
     "input": [
      "reload_all()"
     ],
     "language": "python",
     "metadata": {},
     "outputs": [
      {
       "output_type": "stream",
       "stream": "stdout",
       "text": [
        "warning: coerced guessed type t for 'Cat' into <e,t>, to match argument 'x'\n",
        "warning: coerced guessed type t for 'Gray' into <e,t>, to match argument 'x'\n",
        "warning: coerced guessed type t for 'In' into <e,t>, to match argument 'y'\n",
        "warning: coerced guessed type t for 'In(y)' into <e,t>, to match argument 'x'\n"
       ]
      }
     ],
     "prompt_number": 8
    },
    {
     "cell_type": "code",
     "collapsed": false,
     "input": [
      "env = parsing.parse_equality_line(\"||x|| = L y_e : P_<e,t>(y)\")\n",
      "env"
     ],
     "language": "python",
     "metadata": {},
     "outputs": [
      {
       "metadata": {},
       "output_type": "pyout",
       "prompt_number": 3,
       "text": [
        "({'x': ||x|| = (\u03bb y). P(y)}, {'x': ||x|| = (\u03bb y). P(y)})"
       ]
      }
     ],
     "prompt_number": 3
    },
    {
     "cell_type": "code",
     "collapsed": false,
     "input": [
      "%magic"
     ],
     "language": "python",
     "metadata": {},
     "outputs": [],
     "prompt_number": 42
    },
    {
     "cell_type": "code",
     "collapsed": false,
     "input": [],
     "language": "python",
     "metadata": {},
     "outputs": [],
     "prompt_number": 42
    },
    {
     "cell_type": "code",
     "collapsed": false,
     "input": [],
     "language": "python",
     "metadata": {},
     "outputs": [],
     "prompt_number": 42
    },
    {
     "cell_type": "code",
     "collapsed": false,
     "input": [],
     "language": "python",
     "metadata": {},
     "outputs": [],
     "prompt_number": 43
    },
    {
     "cell_type": "code",
     "collapsed": false,
     "input": [
      "@magics_class\n",
      "class LambMagics(Magics):\n",
      "    def __init__(self, shell):\n",
      "        super(LambMagics, self).__init__(shell)\n",
      "        self.env = dict()\n",
      "        self.silent = False\n",
      "        \n",
      "    @line_cell_magic\n",
      "    def lamb(self, line, cell=None):\n",
      "        \"Magic that works both as %lcmagic and as %%lcmagic\"\n",
      "        if cell is None:\n",
      "            #print(\"Called as line magic\")\n",
      "            (accum, env) = parsing.parse(line, self.env)\n",
      "            self.env = env\n",
      "        else:\n",
      "            #print(\"Called as cell magic\")\n",
      "            #return line, cell\n",
      "            if len(line) > 0:\n",
      "                r = self.control(line)\n",
      "                if r is not None:\n",
      "                    return r #TODO fix this up, not right\n",
      "            if line == \"reset\":\n",
      "                self.env = dict()\n",
      "            (accum, env) = parsing.parse(cell, self.env)\n",
      "            self.env = env\n",
      "        self.shell.push(accum)\n",
      "        return parsing.latex_output(accum, self.env)\n",
      "    \n",
      "    def reset(self):\n",
      "        self.env = dict()\n",
      "    \n",
      "    def control(self, line):\n",
      "        if line == \"reset\":\n",
      "            self.reset()\n",
      "            return None\n",
      "        elif line == \"all\":\n",
      "            return parsing.latex_output(self.env, self.env)\n",
      "        elif line == \"asdf\":\n",
      "            self.shell.push({\"asdf\": 123})\n",
      "        else:\n",
      "            print(\"Don't know what to do with '%s'\" % line)\n",
      "            return None\n",
      "\n",
      "    @line_magic\n",
      "    def lambctl(self, line):\n",
      "        return self.control(line)\n",
      "            \n",
      "ip = get_ipython()\n",
      "ip.register_magics(LambMagics)"
     ],
     "language": "python",
     "metadata": {},
     "outputs": [],
     "prompt_number": 7
    },
    {
     "cell_type": "code",
     "collapsed": false,
     "input": [
      "%lambctl asdf"
     ],
     "language": "python",
     "metadata": {},
     "outputs": [],
     "prompt_number": 21
    },
    {
     "cell_type": "code",
     "collapsed": false,
     "input": [
      "reload_all()"
     ],
     "language": "python",
     "metadata": {},
     "outputs": [
      {
       "output_type": "stream",
       "stream": "stdout",
       "text": [
        "warning: coerced guessed type t for 'Cat' into <e,t>, to match argument 'x'\n",
        "warning: coerced guessed type t for 'Gray' into <e,t>, to match argument 'x'\n",
        "warning: coerced guessed type t for 'In' into <e,t>, to match argument 'y'\n",
        "warning: coerced guessed type t for 'In(y)' into <e,t>, to match argument 'x'\n"
       ]
      }
     ],
     "prompt_number": 14
    },
    {
     "cell_type": "code",
     "collapsed": false,
     "input": [
      "%%lamb reset\n",
      "x = L x_e : P(x)\n",
      "||gray|| = L x_e : Gray(x)\n",
      "||cat|| = lambda x_e : Cat(x)\n",
      "gray * cat"
     ],
     "language": "python",
     "metadata": {},
     "outputs": [
      {
       "output_type": "stream",
       "stream": "stdout",
       "text": [
        "warning: coerced guessed type t for 'P' into <e,t>, to match argument 'x'\n",
        "warning: coerced guessed type t for 'Gray' into <e,t>, to match argument 'x'\n",
        "warning: coerced guessed type t for 'Cat' into <e,t>, to match argument 'x'\n"
       ]
      },
      {
       "latex": [
        "$|\\!|\\mathbf{\\text{gray}}|\\!|^{}_{\\langle{}e,t\\rangle{}} \\:=\\: \\lambda{} x_{e} \\: . \\: {Gray}({x}_{e})$<br />\n",
        "${x}_{\\langle{}e,t\\rangle{}}\\:=\\:\\lambda{} x_{e} \\: . \\: {P}({x}_{e})$<br />\n",
        "$|\\!|\\mathbf{\\text{cat}}|\\!|^{}_{\\langle{}e,t\\rangle{}} \\:=\\: \\lambda{} x_{e} \\: . \\: {Cat}({x}_{e})$"
       ],
       "metadata": {},
       "output_type": "pyout",
       "prompt_number": 5,
       "text": [
        "$|\\!|\\mathbf{\\text{gray}}|\\!|^{}_{\\langle{}e,t\\rangle{}} \\:=\\: \\lambda{} x_{e} \\: . \\: {Gray}({x}_{e})$<br />\n",
        "${x}_{\\langle{}e,t\\rangle{}}\\:=\\:\\lambda{} x_{e} \\: . \\: {P}({x}_{e})$<br />\n",
        "$|\\!|\\mathbf{\\text{cat}}|\\!|^{}_{\\langle{}e,t\\rangle{}} \\:=\\: \\lambda{} x_{e} \\: . \\: {Cat}({x}_{e})$"
       ]
      }
     ],
     "prompt_number": 5
    },
    {
     "cell_type": "code",
     "collapsed": false,
     "input": [
      "gray * cat"
     ],
     "language": "python",
     "metadata": {},
     "outputs": [
      {
       "latex": [
        "2 composition paths. Results:\n",
        "<br />&nbsp;&nbsp;&nbsp;&nbsp;$|\\!|\\mathbf{\\text{[gray cat]}}|\\!|^{}_{\\langle{}e,t\\rangle{}} \\:=\\: $$\\lambda{} x_{e} \\: . \\: ({Gray}({x}_{e}) \\wedge{} {Cat}({x}_{e}))$\n",
        "<br />&nbsp;&nbsp;&nbsp;&nbsp;$|\\!|\\mathbf{\\text{[cat gray]}}|\\!|^{}_{\\langle{}e,t\\rangle{}} \\:=\\: $$\\lambda{} x_{e} \\: . \\: ({Cat}({x}_{e}) \\wedge{} {Gray}({x}_{e}))$"
       ],
       "metadata": {},
       "output_type": "pyout",
       "prompt_number": 6,
       "text": [
        "[BinaryComposite((\u03bb x). (Gray(x) & Cat(x)), [||gray|| = (\u03bb x). Gray(x), ||cat|| = (\u03bb x). Cat(x)]), BinaryComposite((\u03bb x). (Cat(x) & Gray(x)), [||cat|| = (\u03bb x). Cat(x), ||gray|| = (\u03bb x). Gray(x)])]"
       ]
      }
     ],
     "prompt_number": 6
    },
    {
     "cell_type": "code",
     "collapsed": false,
     "input": [
      "%lamb y = L x_e : Q(x)"
     ],
     "language": "python",
     "metadata": {},
     "outputs": [
      {
       "ename": "SyntaxError",
       "evalue": "invalid syntax (<string>, line 1)",
       "output_type": "pyerr",
       "traceback": [
        "\u001b[0;36m  File \u001b[0;32m\"<string>\"\u001b[0;36m, line \u001b[0;32m1\u001b[0m\n\u001b[0;31m    y = L x_e : Q(x)\u001b[0m\n\u001b[0m            ^\u001b[0m\n\u001b[0;31mSyntaxError\u001b[0m\u001b[0;31m:\u001b[0m invalid syntax\n"
       ]
      },
      {
       "output_type": "stream",
       "stream": "stdout",
       "text": [
        "warning: coerced guessed type t for 'Q' into <e,t>, to match argument 'x'\n",
        "Do not know how to ensure TypedExpr for '||gray|| = (\u03bb x). Gray(x)'\n"
       ]
      },
      {
       "output_type": "stream",
       "stream": "stderr",
       "text": [
        "Traceback (most recent call last):\n",
        "  File \"./lamb/meta.py\", line 647, in ensure_typed_expr\n",
        "    result = cls.factory(s)\n",
        "  File \"./lamb/meta.py\", line 595, in factory\n",
        "    raise NotImplementedError\n",
        "NotImplementedError\n",
        "\n",
        "During handling of the above exception, another exception occurred:\n",
        "\n",
        "Traceback (most recent call last):\n",
        "  File \"./lamb/parsing.py\", line 102, in parse_line\n",
        "    (accum, env) = parse_equality_line(s, env)\n",
        "  File \"./lamb/parsing.py\", line 65, in parse_equality_line\n",
        "    right_side = right_side.under_assignment(env)\n",
        "  File \"./lamb/meta.py\", line 693, in under_assignment\n",
        "    a2 = {key: self.ensure_typed_expr(assignment[key]) for key in assignment}\n",
        "  File \"./lamb/meta.py\", line 693, in <dictcomp>\n",
        "    a2 = {key: self.ensure_typed_expr(assignment[key]) for key in assignment}\n",
        "  File \"./lamb/meta.py\", line 649, in ensure_typed_expr\n",
        "    raise ValueError(\"Do not know how to ensure TypedExpr for '%s'\" % repr(s))\n",
        "ValueError: Do not know how to ensure TypedExpr for '||gray|| = (\u03bb x). Gray(x)'\n"
       ]
      }
     ],
     "prompt_number": 58
    },
    {
     "cell_type": "code",
     "collapsed": false,
     "input": [
      "%lamb x = y"
     ],
     "language": "python",
     "metadata": {},
     "outputs": [
      {
       "latex": [
        "${x}_{\\langle{}e,t\\rangle{}}\\:=\\:\\lambda{} x_{e} \\: . \\: {Q}({x}_{e})$"
       ],
       "metadata": {},
       "output_type": "pyout",
       "prompt_number": 8,
       "text": [
        "${x}_{\\langle{}e,t\\rangle{}}\\:=\\:\\lambda{} x_{e} \\: . \\: {Q}({x}_{e})$"
       ]
      }
     ],
     "prompt_number": 8
    },
    {
     "cell_type": "code",
     "collapsed": false,
     "input": [
      "%lambctl all"
     ],
     "language": "python",
     "metadata": {},
     "outputs": [
      {
       "output_type": "stream",
       "stream": "stdout",
       "text": [
        "{'line': 'all', 'self': <__main__.LambMagic object at 0x103ed5d50>}\n",
        "<class 'str'> <class 'lamb.meta.LFun'>\n"
       ]
      },
      {
       "latex": [
        "${x}_{\\langle{}e,t\\rangle{}}\\:=\\:\\lambda{} x_{e} \\: . \\: {P}({x}_{e})$"
       ],
       "metadata": {},
       "output_type": "pyout",
       "prompt_number": 154,
       "text": [
        "${x}_{\\langle{}e,t\\rangle{}}\\:=\\:\\lambda{} x_{e} \\: . \\: {P}({x}_{e})$"
       ]
      }
     ],
     "prompt_number": 154
    },
    {
     "cell_type": "code",
     "collapsed": false,
     "input": [
      "%lamb x = A_e"
     ],
     "language": "python",
     "metadata": {},
     "outputs": [
      {
       "output_type": "stream",
       "stream": "stdout",
       "text": [
        "<class 'str'> <class 'lamb.meta.TypedTerm'>\n"
       ]
      },
      {
       "latex": [
        "${x}_{e}\\:=\\:{A}$"
       ],
       "metadata": {},
       "output_type": "pyout",
       "prompt_number": 150,
       "text": [
        "${x}_{e}\\:=\\:{A}$"
       ]
      }
     ],
     "prompt_number": 150
    },
    {
     "cell_type": "code",
     "collapsed": false,
     "input": [
      "%%lamb reset\n",
      "f = L x_e: P(x)\n",
      "y = y_e"
     ],
     "language": "python",
     "metadata": {},
     "outputs": [
      {
       "output_type": "stream",
       "stream": "stdout",
       "text": [
        "warning: coerced guessed type t for 'P' into <e,t>, to match argument 'x'\n"
       ]
      },
      {
       "latex": [
        "${y}_{e}\\:=\\:{y}_{e}$<br />\n",
        "${f}_{\\langle{}e,t\\rangle{}}\\:=\\:\\lambda{} x_{e} \\: . \\: {P}({x}_{e})$"
       ],
       "metadata": {},
       "output_type": "pyout",
       "prompt_number": 17,
       "text": [
        "${y}_{e}\\:=\\:{y}_{e}$<br />\n",
        "${f}_{\\langle{}e,t\\rangle{}}\\:=\\:\\lambda{} x_{e} \\: . \\: {P}({x}_{e})$"
       ]
      }
     ],
     "prompt_number": 17
    },
    {
     "cell_type": "code",
     "collapsed": false,
     "input": [
      "%%lamb\n",
      "z = f(y)"
     ],
     "language": "python",
     "metadata": {},
     "outputs": [
      {
       "latex": [
        "${z}_{t}\\:=\\:[\\lambda{} x_{e} \\: . \\: {P}({x}_{e})]({y}_{e})$"
       ],
       "metadata": {},
       "output_type": "pyout",
       "prompt_number": 18,
       "text": [
        "${z}_{t}\\:=\\:[\\lambda{} x_{e} \\: . \\: {P}({x}_{e})]({y}_{e})$"
       ]
      }
     ],
     "prompt_number": 18
    },
    {
     "cell_type": "code",
     "collapsed": false,
     "input": [
      "%lambctl all"
     ],
     "language": "python",
     "metadata": {},
     "outputs": [
      {
       "latex": [
        "${y}_{e}\\:=\\:{y}_{e}$<br />\n",
        "${z}_{t}\\:=\\:[\\lambda{} x_{e} \\: . \\: {P}({x}_{e})]({y}_{e})$<br />\n",
        "${f}_{\\langle{}e,t\\rangle{}}\\:=\\:\\lambda{} x_{e} \\: . \\: {P}({x}_{e})$"
       ],
       "metadata": {},
       "output_type": "pyout",
       "prompt_number": 19,
       "text": [
        "${y}_{e}\\:=\\:{y}_{e}$<br />\n",
        "${z}_{t}\\:=\\:[\\lambda{} x_{e} \\: . \\: {P}({x}_{e})]({y}_{e})$<br />\n",
        "${f}_{\\langle{}e,t\\rangle{}}\\:=\\:\\lambda{} x_{e} \\: . \\: {P}({x}_{e})$"
       ]
      }
     ],
     "prompt_number": 19
    },
    {
     "cell_type": "code",
     "collapsed": false,
     "input": [
      "%lamb z = z.reduce()"
     ],
     "language": "python",
     "metadata": {},
     "outputs": [
      {
       "latex": [],
       "metadata": {},
       "output_type": "pyout",
       "prompt_number": 20,
       "text": []
      }
     ],
     "prompt_number": 20
    },
    {
     "cell_type": "code",
     "collapsed": false,
     "input": [
      "%lambctl all"
     ],
     "language": "python",
     "metadata": {},
     "outputs": [
      {
       "latex": [
        "${y}_{e}\\:=\\:{y}_{e}$<br />\n",
        "${z}_{t}\\:=\\:{P}({y}_{e})$<br />\n",
        "${f}_{\\langle{}e,t\\rangle{}}\\:=\\:\\lambda{} x_{e} \\: . \\: {P}({x}_{e})$"
       ],
       "metadata": {},
       "output_type": "pyout",
       "prompt_number": 21,
       "text": [
        "${y}_{e}\\:=\\:{y}_{e}$<br />\n",
        "${z}_{t}\\:=\\:{P}({y}_{e})$<br />\n",
        "${f}_{\\langle{}e,t\\rangle{}}\\:=\\:\\lambda{} x_{e} \\: . \\: {P}({x}_{e})$"
       ]
      }
     ],
     "prompt_number": 21
    },
    {
     "cell_type": "code",
     "collapsed": false,
     "input": [
      "l = dict(dict())\n",
      "g = dict(globals())\n",
      "exec(\"asdf = 2\", g, l)"
     ],
     "language": "python",
     "metadata": {},
     "outputs": [],
     "prompt_number": 5
    },
    {
     "cell_type": "code",
     "collapsed": false,
     "input": [
      "l"
     ],
     "language": "python",
     "metadata": {},
     "outputs": [
      {
       "metadata": {},
       "output_type": "pyout",
       "prompt_number": 6,
       "text": [
        "{'asdf': 2}"
       ]
      }
     ],
     "prompt_number": 6
    },
    {
     "cell_type": "code",
     "collapsed": false,
     "input": [],
     "language": "python",
     "metadata": {},
     "outputs": [
      {
       "output_type": "stream",
       "stream": "stdout",
       "text": [
        "test\n"
       ]
      }
     ],
     "prompt_number": 16
    },
    {
     "cell_type": "code",
     "collapsed": false,
     "input": [
      "reload_all()\n",
      "parsing.parse_qtree(\"[.X [.Y asdf la]]\")"
     ],
     "language": "python",
     "metadata": {},
     "outputs": [
      {
       "output_type": "stream",
       "stream": "stdout",
       "text": [
        "warning: coerced guessed type t for 'Cat' into <e,t>, to match argument 'x'\n",
        "warning: coerced guessed type t for 'Gray' into <e,t>, to match argument 'x'\n",
        "warning: coerced guessed type t for 'In' into <e,t>, to match argument 'y'\n",
        "warning: coerced guessed type t for 'In(y)' into <e,t>, to match argument 'x'\n"
       ]
      },
      {
       "metadata": {},
       "output_type": "pyout",
       "prompt_number": 31,
       "text": [
        "Tree('.X ', [Tree('.Y ', ['asdf', 'la'])])"
       ]
      }
     ],
     "prompt_number": 31
    },
    {
     "cell_type": "code",
     "collapsed": false,
     "input": [
      "%lamb is = L f_<e,t> : f"
     ],
     "language": "python",
     "metadata": {},
     "outputs": [
      {
       "latex": [
        "${is}_{\\langle{}\\langle{}e,t\\rangle{},\\langle{}e,t\\rangle{}\\rangle{}}\\:=\\:\\lambda{} f_{\\langle{}e,t\\rangle{}} \\: . \\: {f}_{\\langle{}e,t\\rangle{}}$"
       ],
       "metadata": {},
       "output_type": "pyout",
       "prompt_number": 18,
       "text": [
        "${is}_{\\langle{}\\langle{}e,t\\rangle{},\\langle{}e,t\\rangle{}\\rangle{}}\\:=\\:\\lambda{} f_{\\langle{}e,t\\rangle{}} \\: . \\: {f}_{\\langle{}e,t\\rangle{}}$"
       ]
      }
     ],
     "prompt_number": 18
    },
    {
     "cell_type": "code",
     "collapsed": false,
     "input": [],
     "language": "python",
     "metadata": {},
     "outputs": [
      {
       "latex": [
        "$\\lambda{} f_{\\langle{}e,t\\rangle{}} \\: . \\: {f}_{\\langle{}e,t\\rangle{}}$"
       ],
       "metadata": {},
       "output_type": "pyout",
       "prompt_number": 21,
       "text": [
        "(\u03bb f). f"
       ]
      }
     ],
     "prompt_number": 21
    },
    {
     "cell_type": "code",
     "collapsed": false,
     "input": [
      "reload_all()\n",
      "lang.tp(\"<e,(e,e)>\")"
     ],
     "language": "python",
     "metadata": {},
     "outputs": [
      {
       "output_type": "stream",
       "stream": "stdout",
       "text": [
        "warning: coerced guessed type t for 'Cat' into <e,t>, to match argument 'x'\n",
        "warning: coerced guessed type t for 'Gray' into <e,t>, to match argument 'x'\n",
        "warning: coerced guessed type t for 'In' into <e,t>, to match argument 'y'\n",
        "warning: coerced guessed type t for 'In(y)' into <e,t>, to match argument 'x'\n"
       ]
      },
      {
       "latex": [
        "$\\langle{}e,(e, e)\\rangle{}$"
       ],
       "metadata": {},
       "output_type": "pyout",
       "prompt_number": 20,
       "text": [
        "<e,(e, e)>"
       ]
      }
     ],
     "prompt_number": 20
    },
    {
     "cell_type": "code",
     "collapsed": false,
     "input": [
      "lang.tp(\"(e,t)\")"
     ],
     "language": "python",
     "metadata": {},
     "outputs": [
      {
       "latex": [
        "$(e, t)$"
       ],
       "metadata": {},
       "output_type": "pyout",
       "prompt_number": 16,
       "text": [
        "(e, t)"
       ]
      }
     ],
     "prompt_number": 16
    },
    {
     "cell_type": "code",
     "collapsed": false,
     "input": [
      "x = types.TupleType(lang.type_e, lang.type_t)\n",
      "x"
     ],
     "language": "python",
     "metadata": {},
     "outputs": [
      {
       "latex": [
        "$(e, t)$"
       ],
       "metadata": {},
       "output_type": "pyout",
       "prompt_number": 17,
       "text": [
        "(e, t)"
       ]
      }
     ],
     "prompt_number": 17
    },
    {
     "cell_type": "code",
     "collapsed": false,
     "input": [],
     "language": "python",
     "metadata": {},
     "outputs": [
      {
       "ename": "TypeError",
       "evalue": "sequence item 0: expected str instance, OntoType found",
       "output_type": "pyerr",
       "traceback": [
        "\u001b[0;31m---------------------------------------------------------------------------\u001b[0m\n\u001b[0;31mTypeError\u001b[0m                                 Traceback (most recent call last)",
        "\u001b[0;32m<ipython-input-14-5453ce5895a8>\u001b[0m in \u001b[0;36m<module>\u001b[0;34m()\u001b[0m\n\u001b[0;32m----> 1\u001b[0;31m \u001b[0;34m\", \"\u001b[0m\u001b[0;34m.\u001b[0m\u001b[0mjoin\u001b[0m\u001b[0;34m(\u001b[0m\u001b[0mx\u001b[0m\u001b[0;34m.\u001b[0m\u001b[0msignature\u001b[0m\u001b[0;34m)\u001b[0m\u001b[0;34m\u001b[0m\u001b[0m\n\u001b[0m",
        "\u001b[0;31mTypeError\u001b[0m: sequence item 0: expected str instance, OntoType found"
       ]
      }
     ],
     "prompt_number": 14
    },
    {
     "cell_type": "code",
     "collapsed": false,
     "input": [
      "reload_all()\n",
      "x = lang.tp(\"?(?,?)\")\n",
      "x"
     ],
     "language": "python",
     "metadata": {},
     "outputs": [
      {
       "output_type": "stream",
       "stream": "stdout",
       "text": [
        "warning: coerced guessed type t for 'Cat' into <e,t>, to match argument 'x'\n",
        "warning: coerced guessed type t for 'Gray' into <e,t>, to match argument 'x'\n",
        "warning: coerced guessed type t for 'In' into <e,t>, to match argument 'y'\n",
        "warning: coerced guessed type t for 'In(y)' into <e,t>, to match argument 'x'\n"
       ]
      },
      {
       "latex": [
        "$(?, ?)_{?}$"
       ],
       "metadata": {},
       "output_type": "pyout",
       "prompt_number": 123,
       "text": [
        "?(?, ?)"
       ]
      }
     ],
     "prompt_number": 123
    },
    {
     "cell_type": "code",
     "collapsed": false,
     "input": [
      "ts = meta.get_type_system()\n",
      "ts.unify(lang.tp(\"?\"), lang.tp(\"?<e,t>\"))\n",
      "#lang.tp(\"?<e,t>\").unify(lang.tp(\"<e,t>\"), ts.unify_new)"
     ],
     "language": "python",
     "metadata": {},
     "outputs": [
      {
       "metadata": {},
       "output_type": "pyout",
       "prompt_number": 124,
       "text": [
        "(?<e,t>, ?<e,t>)"
       ]
      }
     ],
     "prompt_number": 124
    },
    {
     "cell_type": "code",
     "collapsed": false,
     "input": [
      "ts.unify(lang.tp(\"<e,t>\"), lang.tp(\"<(e,e,t),t>\"))"
     ],
     "language": "python",
     "metadata": {},
     "outputs": [
      {
       "metadata": {},
       "output_type": "pyout",
       "prompt_number": 138,
       "text": [
        "(None, None)"
       ]
      }
     ],
     "prompt_number": 138
    },
    {
     "cell_type": "code",
     "collapsed": false,
     "input": [
      "ts.unify(lang.tp(\"<?e,t>\"), lang.tp(\"<e,?>\"))"
     ],
     "language": "python",
     "metadata": {},
     "outputs": [
      {
       "metadata": {},
       "output_type": "pyout",
       "prompt_number": 122,
       "text": [
        "(<?e,t>, <e,?t>)"
       ]
      }
     ],
     "prompt_number": 122
    },
    {
     "cell_type": "code",
     "collapsed": false,
     "input": [
      "lang.tp(\"<?,t>\").unify(lang.tp(\"<e,?>\"), ts.unify)"
     ],
     "language": "python",
     "metadata": {},
     "outputs": [
      {
       "metadata": {},
       "output_type": "pyout",
       "prompt_number": 119,
       "text": [
        "(<?e,t>, <e,?t>)"
       ]
      }
     ],
     "prompt_number": 119
    },
    {
     "cell_type": "code",
     "collapsed": false,
     "input": [
      "lang.tp(\"<e,?>\").unify(lang.tp(\"<?,t>\"), ts.unify)"
     ],
     "language": "python",
     "metadata": {},
     "outputs": [
      {
       "metadata": {},
       "output_type": "pyout",
       "prompt_number": 120,
       "text": [
        "(<e,?t>, <?e,t>)"
       ]
      }
     ],
     "prompt_number": 120
    },
    {
     "cell_type": "code",
     "collapsed": false,
     "input": [
      "lang.te(\"x_\")"
     ],
     "language": "python",
     "metadata": {},
     "outputs": [
      {
       "latex": [
        "${x}_{e}$"
       ],
       "metadata": {},
       "output_type": "pyout",
       "prompt_number": 180,
       "text": [
        "x"
       ]
      }
     ],
     "prompt_number": 180
    },
    {
     "cell_type": "code",
     "collapsed": false,
     "input": [],
     "language": "python",
     "metadata": {},
     "outputs": [],
     "prompt_number": 143
    },
    {
     "cell_type": "code",
     "collapsed": false,
     "input": [
      "reload_all()"
     ],
     "language": "python",
     "metadata": {},
     "outputs": [
      {
       "output_type": "stream",
       "stream": "stdout",
       "text": [
        "warning: coerced guessed type t for 'Cat' into <e,t>, to match argument 'x'\n",
        "warning: coerced guessed type t for 'Gray' into <e,t>, to match argument 'x'\n",
        "warning: coerced guessed type t for 'In' into <e,t>, to match argument 'y'\n",
        "warning: coerced guessed type t for 'In(y)' into <e,t>, to match argument 'x'\n"
       ]
      }
     ],
     "prompt_number": 54
    },
    {
     "cell_type": "code",
     "collapsed": false,
     "input": [
      "def parse_term(s, i=0, return_obj=True):\n",
      "    ts = meta.get_type_system()\n",
      "    term_name, next = parsing.consume_pattern(s, i, r'([a-zA-Z0-9]+)(_)?', return_match=True)\n",
      "    if not term_name:\n",
      "        return (None, i)\n",
      "    if term_name.group(2):\n",
      "        # try to parse a type\n",
      "        # if there is a _, will force an attempt\n",
      "        typ, end = ts.type_parser_recursive(s, next)\n",
      "    else:\n",
      "        typ = None\n",
      "        end = next\n",
      "    if return_obj:\n",
      "        # should call a factory function here, need to resolve circularity first.\n",
      "        term = meta.TypedTerm(term_name.group(1), typ=typ)\n",
      "        return (term, end)\n",
      "    else:\n",
      "        return (term_name.group(1), typ, end)\n",
      "    return (typ, end)\n",
      "\n",
      "parse_term(\"asdf_<?,(e,t)>(y)\", return_obj=False)"
     ],
     "language": "python",
     "metadata": {},
     "outputs": [
      {
       "metadata": {},
       "output_type": "pyout",
       "prompt_number": 15,
       "text": [
        "('asdf', <?,(e, t)>, 14)"
       ]
      }
     ],
     "prompt_number": 15
    },
    {
     "cell_type": "code",
     "collapsed": false,
     "input": [
      "lang.te(\"L y_<e,(?,?)> : L x_e : y_?\")(lang.te(\"z_?\"))"
     ],
     "language": "python",
     "metadata": {},
     "outputs": [
      {
       "latex": [
        "$[\\lambda{} y_{\\langle{}e,(?, ?)\\rangle{}} \\: . \\: \\lambda{} x_{e} \\: . \\: {y}_{\\langle{}e,(?, ?)\\rangle{}_{?}}]({z}_{\\langle{}e,(?, ?)\\rangle{}_{?}})$"
       ],
       "metadata": {},
       "output_type": "pyout",
       "prompt_number": 3,
       "text": [
        "[(\u03bb y). (\u03bb x). y](z)"
       ]
      }
     ],
     "prompt_number": 3
    },
    {
     "cell_type": "code",
     "collapsed": false,
     "input": [
      "lang.te(\"y_<e,t>(x)\")"
     ],
     "language": "python",
     "metadata": {},
     "outputs": [
      {
       "latex": [
        "${y}_{\\langle{}e,t\\rangle{}}({x}_{e})$"
       ],
       "metadata": {},
       "output_type": "pyout",
       "prompt_number": 54,
       "text": [
        "y(x)"
       ]
      }
     ],
     "prompt_number": 54
    },
    {
     "cell_type": "code",
     "collapsed": false,
     "input": [
      "repr(lang.tp(\"<e,(?,?<e,t>)>\"))"
     ],
     "language": "python",
     "metadata": {},
     "outputs": [
      {
       "metadata": {},
       "output_type": "pyout",
       "prompt_number": 7,
       "text": [
        "'<e,(?,?<e,t>)>'"
       ]
      }
     ],
     "prompt_number": 7
    },
    {
     "cell_type": "code",
     "collapsed": false,
     "input": [
      "test = lang.te(\"P(x_e) & Q(y_<?e,t>)\")\n",
      "test"
     ],
     "language": "python",
     "metadata": {},
     "outputs": [
      {
       "output_type": "stream",
       "stream": "stdout",
       "text": [
        "warning: coerced guessed type t for 'P' into <e,t>, to match argument 'x'\n",
        "warning: coerced guessed type t for 'Q' into <<?e,t>,t>, to match argument 'y'\n"
       ]
      },
      {
       "latex": [
        "$({P}({x}_{e}) \\wedge{} {Q}({y}_{\\langle{}e_{?},t\\rangle{}}))$"
       ],
       "metadata": {},
       "output_type": "pyout",
       "prompt_number": 22,
       "text": [
        "(P(x) & Q(y))"
       ]
      }
     ],
     "prompt_number": 22
    },
    {
     "cell_type": "code",
     "collapsed": false,
     "input": [
      "reload_all()\n",
      "meta.TypedExpr.expand_terms(\"y_e\")\n",
      "#meta.TypedExpr.find_term_locations(\"P(x_e) & Q(y_<(?e,e,t>)\")"
     ],
     "language": "python",
     "metadata": {},
     "outputs": [
      {
       "output_type": "stream",
       "stream": "stdout",
       "text": [
        "warning: coerced guessed type t for 'Cat' into <e,t>, to match argument 'x'\n",
        "warning: coerced guessed type t for 'Gray' into <e,t>, to match argument 'x'\n",
        "warning: coerced guessed type t for 'In' into <e,t>, to match argument 'y'\n",
        "warning: coerced guessed type t for 'In(y)' into <e,t>, to match argument 'x'\n"
       ]
      },
      {
       "metadata": {},
       "output_type": "pyout",
       "prompt_number": 15,
       "text": [
        "'TypedExpr.term_factory(\"y\", typ=\"e\", assignment=assignment)'"
       ]
      }
     ],
     "prompt_number": 15
    },
    {
     "cell_type": "code",
     "collapsed": false,
     "input": [
      "meta.TypedExpr.term_factory(\"y_e\")"
     ],
     "language": "python",
     "metadata": {},
     "outputs": [
      {
       "latex": [
        "${y}_{e}$"
       ],
       "metadata": {},
       "output_type": "pyout",
       "prompt_number": 16,
       "text": [
        "y"
       ]
      }
     ],
     "prompt_number": 16
    },
    {
     "cell_type": "code",
     "collapsed": false,
     "input": [
      "lang.te(\"L x_e : L y_e : x\")"
     ],
     "language": "python",
     "metadata": {},
     "outputs": [
      {
       "latex": [
        "$\\lambda{} x_{e} \\: . \\: \\lambda{} y_{e} \\: . \\: {x}_{e}$"
       ],
       "metadata": {},
       "output_type": "pyout",
       "prompt_number": 132,
       "text": [
        "(\u03bb x). (\u03bb y). x"
       ]
      }
     ],
     "prompt_number": 132
    },
    {
     "cell_type": "code",
     "collapsed": false,
     "input": [
      "x = meta.Tuple([lang.te(\"x_e\"), lang.te(\"y_e\")])\n",
      "x"
     ],
     "language": "python",
     "metadata": {},
     "outputs": [
      {
       "latex": [
        "$({x}_{e}, {y}_{e})$"
       ],
       "metadata": {},
       "output_type": "pyout",
       "prompt_number": 133,
       "text": [
        "(x, y)"
       ]
      }
     ],
     "prompt_number": 133
    },
    {
     "cell_type": "code",
     "collapsed": false,
     "input": [
      "lang.te(\"P_<(e,e),t>\")(x)"
     ],
     "language": "python",
     "metadata": {},
     "outputs": [
      {
       "latex": [
        "${P}({x}_{e}, {y}_{e})$"
       ],
       "metadata": {},
       "output_type": "pyout",
       "prompt_number": 134,
       "text": [
        "P(x, y)"
       ]
      }
     ],
     "prompt_number": 134
    },
    {
     "cell_type": "code",
     "collapsed": false,
     "input": [
      "y = meta.Tuple([lang.te(\"z_e\"), x])\n",
      "y"
     ],
     "language": "python",
     "metadata": {},
     "outputs": [
      {
       "latex": [
        "$({z}_{e}, ({x}_{e}, {y}_{e}))$"
       ],
       "metadata": {},
       "output_type": "pyout",
       "prompt_number": 135,
       "text": [
        "(z, (x, y))"
       ]
      }
     ],
     "prompt_number": 135
    },
    {
     "cell_type": "code",
     "collapsed": false,
     "input": [
      "lang.te(\"P\")(y)"
     ],
     "language": "python",
     "metadata": {},
     "outputs": [
      {
       "output_type": "stream",
       "stream": "stdout",
       "text": [
        "warning: coerced guessed type t for 'P' into <(e,(e,e)),t>, to match argument '(z, (x, y))'\n"
       ]
      },
      {
       "latex": [
        "${P}({z}_{e}, ({x}_{e}, {y}_{e}))$"
       ],
       "metadata": {},
       "output_type": "pyout",
       "prompt_number": 115,
       "text": [
        "P(z, (x, y))"
       ]
      }
     ],
     "prompt_number": 115
    },
    {
     "cell_type": "code",
     "collapsed": false,
     "input": [
      "asdf = lang.te(\"P(x_e,y_e)\")\n",
      "asdf\n"
     ],
     "language": "python",
     "metadata": {},
     "outputs": [
      {
       "output_type": "stream",
       "stream": "stdout",
       "text": [
        "warning: coerced guessed type t for 'P' into <(e,e),t>, to match argument '(x, y)'\n"
       ]
      },
      {
       "latex": [
        "${P}({x}_{e}, {y}_{e})$"
       ],
       "metadata": {},
       "output_type": "pyout",
       "prompt_number": 119,
       "text": [
        "P(x, y)"
       ]
      }
     ],
     "prompt_number": 119
    },
    {
     "cell_type": "code",
     "collapsed": false,
     "input": [
      "lang.te(\"L x_e : Cat_<e,t>(x)\")"
     ],
     "language": "python",
     "metadata": {},
     "outputs": [
      {
       "latex": [
        "$\\lambda{} x_{e} \\: . \\: {Cat}({x}_{e})$"
       ],
       "metadata": {},
       "output_type": "pyout",
       "prompt_number": 3,
       "text": [
        "(\u03bb x). Cat(x)"
       ]
      }
     ],
     "prompt_number": 3
    },
    {
     "cell_type": "code",
     "collapsed": false,
     "input": [
      "reload_all()\n",
      "asdf = lang.te(\"{x_e, x1_e, r_e}\")\n",
      "asdf.to_condition_set()"
     ],
     "language": "python",
     "metadata": {},
     "outputs": [
      {
       "output_type": "stream",
       "stream": "stdout",
       "text": [
        "warning: coerced guessed type t for 'Cat' into <e,t>, to match argument 'x'\n",
        "warning: coerced guessed type t for 'Gray' into <e,t>, to match argument 'x'\n",
        "warning: coerced guessed type t for 'In' into <e,t>, to match argument 'y'\n",
        "warning: coerced guessed type t for 'In(y)' into <e,t>, to match argument 'x'\n"
       ]
      },
      {
       "latex": [
        "$\\{x2_{e}\\:|\\: ((({x2}_{e} = {x1}_{e}) \\vee{} ({x2}_{e} = {r}_{e})) \\vee{} ({x2}_{e} = {x}_{e}))\\}$"
       ],
       "metadata": {},
       "output_type": "pyout",
       "prompt_number": 40,
       "text": [
        "{x2 | (((x2 == x1) | (x2 == r)) | (x2 == x))}"
       ]
      }
     ],
     "prompt_number": 40
    },
    {
     "cell_type": "code",
     "collapsed": false,
     "input": [
      "reload_all()"
     ],
     "language": "python",
     "metadata": {},
     "outputs": [
      {
       "output_type": "stream",
       "stream": "stdout",
       "text": [
        "warning: coerced guessed type t for 'Cat' into <e,t>, to match argument 'x'\n",
        "warning: coerced guessed type t for 'Gray' into <e,t>, to match argument 'x'\n",
        "warning: coerced guessed type t for 'In' into <e,t>, to match argument 'y'\n",
        "warning: coerced guessed type t for 'In(y)' into <e,t>, to match argument 'x'\n"
       ]
      }
     ],
     "prompt_number": 42
    },
    {
     "cell_type": "code",
     "collapsed": false,
     "input": [
      "lang.te(\"Set x_?: (P(x))\") << lang.te(\"x_e\")"
     ],
     "language": "python",
     "metadata": {},
     "outputs": [
      {
       "output_type": "stream",
       "stream": "stdout",
       "text": [
        "warning: coerced guessed type t for 'P' into <?,t>, to match argument 'x'\n",
        "hi\n"
       ]
      },
      {
       "latex": [
        "$({x}_{e} \\in{} \\{x_{?e}\\:|\\: {P}_{\\langle{}e_{?},t\\rangle{}}({x}_{e_{?}})\\})$"
       ],
       "metadata": {},
       "output_type": "pyout",
       "prompt_number": 44,
       "text": [
        "(x \u2208 {x | P(x)})"
       ]
      }
     ],
     "prompt_number": 44
    },
    {
     "cell_type": "code",
     "collapsed": false,
     "input": [
      "meta.SingletonSet(lang.te(\"cat_e\")).to_condition_set()"
     ],
     "language": "python",
     "metadata": {},
     "outputs": [
      {
       "output_type": "stream",
       "stream": "stdout",
       "text": [
        "new_type e self type e unify_a e unify_target e\n",
        "new_type e self type e unify_a e unify_target e\n",
        "new_type t self type t unify_a t unify_target t\n"
       ]
      },
      {
       "latex": [
        "$\\{x_{{e}}\\:|\\: ({x}_{e} = {cat}_{e})\\}$"
       ],
       "metadata": {},
       "output_type": "pyout",
       "prompt_number": 22,
       "text": [
        "{x | (x == cat)}"
       ]
      }
     ],
     "prompt_number": 22
    },
    {
     "cell_type": "code",
     "collapsed": false,
     "input": [
      "lang.te(\"x.reduce()\")"
     ],
     "language": "python",
     "metadata": {},
     "outputs": [
      {
       "latex": [
        "${x}_{e}$"
       ],
       "metadata": {},
       "output_type": "pyout",
       "prompt_number": 92,
       "text": [
        "x"
       ]
      }
     ],
     "prompt_number": 92
    },
    {
     "cell_type": "code",
     "collapsed": false,
     "input": [
      "lang.te(\"Forall w2_e : CompatibleWithSHStories(w2_e)(w_e) >> p_<e,t>(w2_e)\")"
     ],
     "language": "python",
     "metadata": {},
     "outputs": [
      {
       "output_type": "stream",
       "stream": "stdout",
       "text": [
        "warning: coerced guessed type t for 'CompatibleWithSHStories' into <e,t>, to match argument 'w2'\n",
        "warning: coerced guessed type t for 'CompatibleWithSHStories(w2)' into <e,t>, to match argument 'w'\n"
       ]
      },
      {
       "latex": [
        "$\\forall{} w2_{e} \\: . \\: ({CompatibleWithSHStories}_{\\langle{}e,\\langle{}e,t\\rangle{}\\rangle{}}({w2}_{e})({w}_{e}) \\rightarrow{} {p}_{\\langle{}e,t\\rangle{}}({w2}_{e}))$"
       ],
       "metadata": {},
       "output_type": "pyout",
       "prompt_number": 108,
       "text": [
        "(\u2200 w2). (CompatibleWithSHStories(w2)(w) >> p(w2))"
       ]
      }
     ],
     "prompt_number": 108
    },
    {
     "cell_type": "code",
     "collapsed": false,
     "input": [
      "reload_all()\n",
      "r = lang.te(\"{x_e}\")"
     ],
     "language": "python",
     "metadata": {},
     "outputs": [
      {
       "output_type": "stream",
       "stream": "stdout",
       "text": [
        "warning: coerced guessed type t for 'Cat' into <e,t>, to match argument 'x'\n",
        "warning: coerced guessed type t for 'Gray' into <e,t>, to match argument 'x'\n",
        "warning: coerced guessed type t for 'In' into <e,t>, to match argument 'y'\n",
        "warning: coerced guessed type t for 'In(y)' into <e,t>, to match argument 'x'\n"
       ]
      }
     ],
     "prompt_number": 46
    },
    {
     "cell_type": "code",
     "collapsed": false,
     "input": [
      "r"
     ],
     "language": "python",
     "metadata": {},
     "outputs": [
      {
       "latex": [
        "$\\{{x}_{e}\\}$"
       ],
       "metadata": {},
       "output_type": "pyout",
       "prompt_number": 49,
       "text": [
        "{x}"
       ]
      }
     ],
     "prompt_number": 49
    },
    {
     "cell_type": "code",
     "collapsed": false,
     "input": [
      "reload_all()\n",
      "meta.BinaryOrExpr.join(lang.te(\"p_t\"), lang.te(\"q_t\"), lang.te(\"r_t\"))"
     ],
     "language": "python",
     "metadata": {},
     "outputs": [
      {
       "ename": "NameError",
       "evalue": "name 'reload_all' is not defined",
       "output_type": "pyerr",
       "traceback": [
        "\u001b[0;31m---------------------------------------------------------------------------\u001b[0m\n\u001b[0;31mNameError\u001b[0m                                 Traceback (most recent call last)",
        "\u001b[0;32m<ipython-input-1-c5fcc93d8218>\u001b[0m in \u001b[0;36m<module>\u001b[0;34m()\u001b[0m\n\u001b[0;32m----> 1\u001b[0;31m \u001b[0mreload_all\u001b[0m\u001b[0;34m(\u001b[0m\u001b[0;34m)\u001b[0m\u001b[0;34m\u001b[0m\u001b[0m\n\u001b[0m\u001b[1;32m      2\u001b[0m \u001b[0mmeta\u001b[0m\u001b[0;34m.\u001b[0m\u001b[0mBinaryOrExpr\u001b[0m\u001b[0;34m.\u001b[0m\u001b[0mjoin\u001b[0m\u001b[0;34m(\u001b[0m\u001b[0mlang\u001b[0m\u001b[0;34m.\u001b[0m\u001b[0mte\u001b[0m\u001b[0;34m(\u001b[0m\u001b[0;34m\"p_t\"\u001b[0m\u001b[0;34m)\u001b[0m\u001b[0;34m,\u001b[0m \u001b[0mlang\u001b[0m\u001b[0;34m.\u001b[0m\u001b[0mte\u001b[0m\u001b[0;34m(\u001b[0m\u001b[0;34m\"q_t\"\u001b[0m\u001b[0;34m)\u001b[0m\u001b[0;34m,\u001b[0m \u001b[0mlang\u001b[0m\u001b[0;34m.\u001b[0m\u001b[0mte\u001b[0m\u001b[0;34m(\u001b[0m\u001b[0;34m\"r_t\"\u001b[0m\u001b[0;34m)\u001b[0m\u001b[0;34m)\u001b[0m\u001b[0;34m\u001b[0m\u001b[0m\n",
        "\u001b[0;31mNameError\u001b[0m: name 'reload_all' is not defined"
       ]
      }
     ],
     "prompt_number": 1
    },
    {
     "cell_type": "code",
     "collapsed": false,
     "input": [],
     "language": "python",
     "metadata": {},
     "outputs": []
    }
   ],
   "metadata": {}
  }
 ]
}