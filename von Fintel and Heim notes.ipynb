{
 "metadata": {
  "name": ""
 },
 "nbformat": 3,
 "nbformat_minor": 0,
 "worksheets": [
  {
   "cells": [
    {
     "cell_type": "code",
     "collapsed": true,
     "input": [
      "import lamb\n",
      "from lamb import *\n",
      "from lamb.tree_mini import Tree\n",
      "from lamb.utils import *\n",
      "import imp\n",
      "\n",
      "def reload_all():\n",
      "    imp.reload(lamb.utils)\n",
      "    imp.reload(lamb.types)\n",
      "    imp.reload(lamb.meta)\n",
      "    imp.reload(lamb.lang)\n",
      "    imp.reload(lamb.parsing)\n",
      "reload_all()\n",
      "lamb.meta.constants_use_custom(False)"
     ],
     "language": "python",
     "metadata": {},
     "outputs": [
      {
       "output_type": "stream",
       "stream": "stdout",
       "text": [
        "warning: coerced guessed type t for 'Cat' into <e,t>, to match argument 'x'\n",
        "warning: coerced guessed type t for 'Gray' into <e,t>, to match argument 'x'\n",
        "warning: coerced guessed type t for 'In' into <e,t>, to match argument 'y'\n",
        "warning: coerced guessed type t for 'In(y)' into <e,t>, to match argument 'x'\n"
       ]
      }
     ],
     "prompt_number": 183
    },
    {
     "cell_type": "code",
     "collapsed": false,
     "input": [],
     "language": "python",
     "metadata": {},
     "outputs": [],
     "prompt_number": 183
    },
    {
     "cell_type": "code",
     "collapsed": false,
     "input": [
      "type_e = types.type_e\n",
      "type_t = types.type_t\n",
      "type_n = types.type_n\n",
      "type_s = types.OntoType(\"s\", types.SimpleInfiniteSet(\"c\"))\n",
      "intensional_types = types.UnderTypeSystem(atomics={type_e, type_t, type_n, type_s, types.undetermined_type}, nonatomics={types.FunType, types.TupleType, types.SetType, types.UndeterminedType})\n",
      "meta.set_type_system(intensional_types)"
     ],
     "language": "python",
     "metadata": {},
     "outputs": [],
     "prompt_number": 184
    },
    {
     "cell_type": "code",
     "collapsed": false,
     "input": [
      "# set up basic composition operations\n",
      "pm = lang.BinaryCompositionOp(\"PM\", lang.pm_fun, commutative=True)\n",
      "fa = lang.BinaryCompositionOp(\"FA\", lang.fa_fun)\n",
      "pa = lang.BinaryCompositionOp(\"PA\", lang.pa_fun, allow_none=True)\n",
      "simple_system = lang.CompositionSystem(rules=[fa, pm, pa], basictypes={type_e, type_t, type_s}, name=\"simple bottom-up composition\")\n",
      "lang.set_system(simple_system)\n",
      "simple_system"
     ],
     "language": "python",
     "metadata": {},
     "outputs": [
      {
       "metadata": {},
       "output_type": "pyout",
       "prompt_number": 185,
       "text": [
        "Composition system: simple bottom-up composition"
       ]
      }
     ],
     "prompt_number": 185
    },
    {
     "cell_type": "code",
     "collapsed": false,
     "input": [
      "cat = lang.Item(\"cat\", \"L x_e: Cat_<e,t>(x)\")\n",
      "gray = lang.Item(\"gray\", \"L x_e: Gray_<e,t>(x)\")\n",
      "gray.content.args[0].op.custom = \"is\"\n",
      "john = lang.Item(\"John\", \"John_e\")\n",
      "julius = lang.Item(\"Julius\", \"Julius_e\")\n",
      "inP = lang.Item(\"in\", \"L x: L y: In_<e,<e,t>>(y)(x)\")\n",
      "inP.content.args[0].args[0].op.op.custom = \"is\"\n",
      "texas = lang.Item(\"Texas\", \"Texas_e\")\n",
      "pvar = meta.TypedTerm(\"p\", types.type_property)\n",
      "isV = lang.Item(\"is\", \"L f_<e,t> : f\")\n",
      "dance = lang.Item(\"dance\", \"L x: Dance_<e,t>(x)\")\n",
      "dance.content.args[0].op.verbal = True\n",
      "see = lang.Item(\"see\", \"L x_e : L y_e : See_<e,<e,t>>(y)(x)\")\n",
      "\n",
      "ltx_print(cat,gray, julius, inP, texas, isV, dance, see)"
     ],
     "language": "python",
     "metadata": {},
     "outputs": [
      {
       "latex": [
        "$|\\!|\\mathbf{\\text{cat}}|\\!|^{}_{\\langle{}e,t\\rangle{}} \\:=\\: $$\\lambda{} x_{e} \\: . \\: {Cat}({x}_{e})$<br />$|\\!|\\mathbf{\\text{gray}}|\\!|^{}_{\\langle{}e,t\\rangle{}} \\:=\\: $$\\lambda{} x_{e} \\: . \\: {Gray}({x}_{e})$<br />$|\\!|\\mathbf{\\text{Julius}}|\\!|^{}_{e} \\:=\\: $${Julius}_{e}$<br />$|\\!|\\mathbf{\\text{in}}|\\!|^{}_{\\langle{}e,\\langle{}e,t\\rangle{}\\rangle{}} \\:=\\: $$\\lambda{} x_{e} \\: . \\: \\lambda{} y_{e} \\: . \\: {In}_{\\langle{}e,\\langle{}e,t\\rangle{}\\rangle{}}({y}_{e})({x}_{e})$<br />$|\\!|\\mathbf{\\text{Texas}}|\\!|^{}_{e} \\:=\\: $${Texas}_{e}$<br />$|\\!|\\mathbf{\\text{is}}|\\!|^{}_{\\langle{}\\langle{}e,t\\rangle{},\\langle{}e,t\\rangle{}\\rangle{}} \\:=\\: $$\\lambda{} f_{\\langle{}e,t\\rangle{}} \\: . \\: {f}_{\\langle{}e,t\\rangle{}}$<br />$|\\!|\\mathbf{\\text{dance}}|\\!|^{}_{\\langle{}e,t\\rangle{}} \\:=\\: $$\\lambda{} x_{e} \\: . \\: {Dance}({x}_{e})$<br />$|\\!|\\mathbf{\\text{see}}|\\!|^{}_{\\langle{}e,\\langle{}e,t\\rangle{}\\rangle{}} \\:=\\: $$\\lambda{} x_{e} \\: . \\: \\lambda{} y_{e} \\: . \\: {See}_{\\langle{}e,\\langle{}e,t\\rangle{}\\rangle{}}({y}_{e})({x}_{e})$<br />"
       ],
       "metadata": {},
       "output_type": "pyout",
       "prompt_number": 186,
       "text": [
        "$|\\!|\\mathbf{\\text{cat}}|\\!|^{}_{\\langle{}e,t\\rangle{}} \\:=\\: $$\\lambda{} x_{e} \\: . \\: {Cat}({x}_{e})$<br />$|\\!|\\mathbf{\\text{gray}}|\\!|^{}_{\\langle{}e,t\\rangle{}} \\:=\\: $$\\lambda{} x_{e} \\: . \\: {Gray}({x}_{e})$<br />$|\\!|\\mathbf{\\text{Julius}}|\\!|^{}_{e} \\:=\\: $${Julius}_{e}$<br />$|\\!|\\mathbf{\\text{in}}|\\!|^{}_{\\langle{}e,\\langle{}e,t\\rangle{}\\rangle{}} \\:=\\: $$\\lambda{} x_{e} \\: . \\: \\lambda{} y_{e} \\: . \\: {In}_{\\langle{}e,\\langle{}e,t\\rangle{}\\rangle{}}({y}_{e})({x}_{e})$<br />$|\\!|\\mathbf{\\text{Texas}}|\\!|^{}_{e} \\:=\\: $${Texas}_{e}$<br />$|\\!|\\mathbf{\\text{is}}|\\!|^{}_{\\langle{}\\langle{}e,t\\rangle{},\\langle{}e,t\\rangle{}\\rangle{}} \\:=\\: $$\\lambda{} f_{\\langle{}e,t\\rangle{}} \\: . \\: {f}_{\\langle{}e,t\\rangle{}}$<br />$|\\!|\\mathbf{\\text{dance}}|\\!|^{}_{\\langle{}e,t\\rangle{}} \\:=\\: $$\\lambda{} x_{e} \\: . \\: {Dance}({x}_{e})$<br />$|\\!|\\mathbf{\\text{see}}|\\!|^{}_{\\langle{}e,\\langle{}e,t\\rangle{}\\rangle{}} \\:=\\: $$\\lambda{} x_{e} \\: . \\: \\lambda{} y_{e} \\: . \\: {See}_{\\langle{}e,\\langle{}e,t\\rangle{}\\rangle{}}({y}_{e})({x}_{e})$<br />"
       ]
      }
     ],
     "prompt_number": 186
    },
    {
     "cell_type": "code",
     "collapsed": false,
     "input": [
      "%%lamb\n",
      "# some standard extensional entries\n",
      "||cat|| = L x_e: Cat_<e,t>(x)\n",
      "||gray|| = L x_e: Gray_<e,t>(x)\n",
      "||John|| = John_e\n",
      "||Julius|| = Julius_e\n",
      "||inP|| = L x_e: L y: In(y, x)\n",
      "||texas|| = Texas_e\n",
      "||isV|| = L f_<e,t> : f\n",
      "||dance|| = L x_e: Dance_<e,t>(x)\n",
      "||see|| = L x_e : L y_e : See(y, x)\n",
      "||Alfonso|| = Alfonso_e"
     ],
     "language": "python",
     "metadata": {},
     "outputs": [
      {
       "output_type": "stream",
       "stream": "stdout",
       "text": [
        "warning: coerced guessed type t for 'In' into <(e,e),t>, to match argument '(y, x)'\n",
        "warning: coerced guessed type t for 'See' into <(e,e),t>, to match argument '(y, x)'\n"
       ]
      },
      {
       "latex": [
        "$|\\!|\\mathbf{\\text{cat}}|\\!|^{}_{\\langle{}e,t\\rangle{}} \\:=\\: \\lambda{} x_{e} \\: . \\: {Cat}({x}_{e})$<br />\n",
        "$|\\!|\\mathbf{\\text{gray}}|\\!|^{}_{\\langle{}e,t\\rangle{}} \\:=\\: \\lambda{} x_{e} \\: . \\: {Gray}({x}_{e})$<br />\n",
        "$|\\!|\\mathbf{\\text{John}}|\\!|^{}_{e} \\:=\\: {John}_{e}$<br />\n",
        "$|\\!|\\mathbf{\\text{Julius}}|\\!|^{}_{e} \\:=\\: {Julius}_{e}$<br />\n",
        "$|\\!|\\mathbf{\\text{inP}}|\\!|^{}_{\\langle{}e,\\langle{}e,t\\rangle{}\\rangle{}} \\:=\\: \\lambda{} x_{e} \\: . \\: \\lambda{} y_{e} \\: . \\: {In}({y}_{e}, {x}_{e})$<br />\n",
        "$|\\!|\\mathbf{\\text{texas}}|\\!|^{}_{e} \\:=\\: {Texas}_{e}$<br />\n",
        "$|\\!|\\mathbf{\\text{isV}}|\\!|^{}_{\\langle{}\\langle{}e,t\\rangle{},\\langle{}e,t\\rangle{}\\rangle{}} \\:=\\: \\lambda{} f_{\\langle{}e,t\\rangle{}} \\: . \\: {f}_{\\langle{}e,t\\rangle{}}$<br />\n",
        "$|\\!|\\mathbf{\\text{dance}}|\\!|^{}_{\\langle{}e,t\\rangle{}} \\:=\\: \\lambda{} x_{e} \\: . \\: {Dance}({x}_{e})$<br />\n",
        "$|\\!|\\mathbf{\\text{see}}|\\!|^{}_{\\langle{}e,\\langle{}e,t\\rangle{}\\rangle{}} \\:=\\: \\lambda{} x_{e} \\: . \\: \\lambda{} y_{e} \\: . \\: {See}({y}_{e}, {x}_{e})$<br />\n",
        "$|\\!|\\mathbf{\\text{Alfonso}}|\\!|^{}_{e} \\:=\\: {Alfonso}_{e}$"
       ],
       "metadata": {},
       "output_type": "pyout",
       "prompt_number": 187,
       "text": [
        "$|\\!|\\mathbf{\\text{cat}}|\\!|^{}_{\\langle{}e,t\\rangle{}} \\:=\\: \\lambda{} x_{e} \\: . \\: {Cat}({x}_{e})$<br />\n",
        "$|\\!|\\mathbf{\\text{gray}}|\\!|^{}_{\\langle{}e,t\\rangle{}} \\:=\\: \\lambda{} x_{e} \\: . \\: {Gray}({x}_{e})$<br />\n",
        "$|\\!|\\mathbf{\\text{John}}|\\!|^{}_{e} \\:=\\: {John}_{e}$<br />\n",
        "$|\\!|\\mathbf{\\text{Julius}}|\\!|^{}_{e} \\:=\\: {Julius}_{e}$<br />\n",
        "$|\\!|\\mathbf{\\text{inP}}|\\!|^{}_{\\langle{}e,\\langle{}e,t\\rangle{}\\rangle{}} \\:=\\: \\lambda{} x_{e} \\: . \\: \\lambda{} y_{e} \\: . \\: {In}({y}_{e}, {x}_{e})$<br />\n",
        "$|\\!|\\mathbf{\\text{texas}}|\\!|^{}_{e} \\:=\\: {Texas}_{e}$<br />\n",
        "$|\\!|\\mathbf{\\text{isV}}|\\!|^{}_{\\langle{}\\langle{}e,t\\rangle{},\\langle{}e,t\\rangle{}\\rangle{}} \\:=\\: \\lambda{} f_{\\langle{}e,t\\rangle{}} \\: . \\: {f}_{\\langle{}e,t\\rangle{}}$<br />\n",
        "$|\\!|\\mathbf{\\text{dance}}|\\!|^{}_{\\langle{}e,t\\rangle{}} \\:=\\: \\lambda{} x_{e} \\: . \\: {Dance}({x}_{e})$<br />\n",
        "$|\\!|\\mathbf{\\text{see}}|\\!|^{}_{\\langle{}e,\\langle{}e,t\\rangle{}\\rangle{}} \\:=\\: \\lambda{} x_{e} \\: . \\: \\lambda{} y_{e} \\: . \\: {See}({y}_{e}, {x}_{e})$<br />\n",
        "$|\\!|\\mathbf{\\text{Alfonso}}|\\!|^{}_{e} \\:=\\: {Alfonso}_{e}$"
       ]
      }
     ],
     "prompt_number": 187
    },
    {
     "cell_type": "code",
     "collapsed": false,
     "input": [
      "(inP * texas) * Julius"
     ],
     "language": "python",
     "metadata": {},
     "outputs": [
      {
       "latex": [
        "1 composition path.  Result:\n",
        "<br />&nbsp;&nbsp;&nbsp;&nbsp;$|\\!|\\mathbf{\\text{[[inP texas] Julius]}}|\\!|^{}_{t} \\:=\\: $${In}({Julius}_{e}, {Texas}_{e})$"
       ],
       "metadata": {},
       "output_type": "pyout",
       "prompt_number": 188,
       "text": [
        "[BinaryComposite(In(Julius, Texas), [BinaryComposite((\u03bb y). In(y, Texas), [||inP|| = (\u03bb x). (\u03bb y). In(y, x), ||texas|| = Texas]), ||Julius|| = Julius])]"
       ]
      }
     ],
     "prompt_number": 188
    },
    {
     "cell_type": "markdown",
     "metadata": {},
     "source": [
      "How could an item like `must` be accounted for in this sort of extensional system?  Let's see what type inference gets us:"
     ]
    },
    {
     "cell_type": "code",
     "collapsed": false,
     "input": [
      "%%lamb\n",
      "||must|| = L x_? : Must_<?,t>(x)"
     ],
     "language": "python",
     "metadata": {},
     "outputs": [
      {
       "latex": [
        "$|\\!|\\mathbf{\\text{must}}|\\!|^{}_{\\langle{}?,t_{?}\\rangle{}} \\:=\\: \\lambda{} x_{?} \\: . \\: {Must}_{\\langle{}?,t\\rangle{}}({x}_{?})$"
       ],
       "metadata": {},
       "output_type": "pyout",
       "prompt_number": 189,
       "text": [
        "$|\\!|\\mathbf{\\text{must}}|\\!|^{}_{\\langle{}?,t_{?}\\rangle{}} \\:=\\: \\lambda{} x_{?} \\: . \\: {Must}_{\\langle{}?,t\\rangle{}}({x}_{?})$"
       ]
      }
     ],
     "prompt_number": 189
    },
    {
     "cell_type": "code",
     "collapsed": false,
     "input": [
      "must_test_result = must * (julius * dance)\n",
      "must_test_result"
     ],
     "language": "python",
     "metadata": {},
     "outputs": [
      {
       "latex": [
        "1 composition path.  Result:\n",
        "<br />&nbsp;&nbsp;&nbsp;&nbsp;$|\\!|\\mathbf{\\text{[must [dance Julius]]}}|\\!|^{}_{t_{?}} \\:=\\: $${Must}_{\\langle{}t_{?},t\\rangle{}}({Dance}({Julius}_{e}))$"
       ],
       "metadata": {},
       "output_type": "pyout",
       "prompt_number": 194,
       "text": [
        "[BinaryComposite(Must(Dance(Julius)), [||must|| = (\u03bb x). Must(x), BinaryComposite(Dance(Julius), [||dance|| = (\u03bb x). Dance(x), ||Julius|| = Julius])])]"
       ]
      }
     ],
     "prompt_number": 194
    },
    {
     "cell_type": "code",
     "collapsed": false,
     "input": [],
     "language": "python",
     "metadata": {},
     "outputs": [],
     "prompt_number": 195
    },
    {
     "cell_type": "code",
     "collapsed": false,
     "input": [
      "must_test_result.latex_step_tree(derivations=True)"
     ],
     "language": "python",
     "metadata": {},
     "outputs": [
      {
       "latex": [
        "1 composition path:<br /><table><tr><td style=\"vertical-align:bottom;padding:0px 10px\" align=\"center\"><table><tr><td style=\"vertical-align:bottom\"><table align=\"center\"><tr><td align=\"center\">$|\\!|\\mathbf{\\text{must}}|\\!|^{}_{\\langle{}?,t_{?}\\rangle{}}$</td></tr><tr><td align=\"center\">$\\lambda{} x_{?} \\: . \\: {Must}_{\\langle{}?,t\\rangle{}}({x}_{?})$</td></tr></table>\n",
        "</td><td style=\"vertical-align:bottom;padding-bottom:5px\">&nbsp;&nbsp;&nbsp;$\\circ$&nbsp;&nbsp;&nbsp;</td><td style=\"vertical-align:bottom\"><table><tr><td style=\"vertical-align:bottom;padding:0px 10px\" align=\"center\"><table><tr><td style=\"vertical-align:bottom\"><table align=\"center\"><tr><td align=\"center\">$|\\!|\\mathbf{\\text{dance}}|\\!|^{}_{\\langle{}e,t\\rangle{}}$</td></tr><tr><td align=\"center\">$\\lambda{} x_{e} \\: . \\: {Dance}({x}_{e})$</td></tr></table>\n",
        "</td><td style=\"vertical-align:bottom;padding-bottom:5px\">&nbsp;&nbsp;&nbsp;$\\circ$&nbsp;&nbsp;&nbsp;</td><td style=\"vertical-align:bottom\"><table align=\"center\"><tr><td align=\"center\">$|\\!|\\mathbf{\\text{Julius}}|\\!|^{}_{e}$</td></tr><tr><td align=\"center\">${Julius}_{e}$</td></tr></table>\n",
        "</td></tr></table></td><td style=\"vertical-align:bottom;padding-bottom:5px;padding-left:10px\"><b>[FA]</b></td></tr><tr style=\"border-top: 1px solid #848482\"><td align=\"center\"><table style=\"margin-top:10px\"><tr><td style=\"vertical-align:bottom\" align=\"center\">$|\\!|\\mathbf{\\text{[dance Julius]}}|\\!|^{}_{t}$</td></tr><tr><td style=\"vertical-align:bottom\" align=\"center\"><table><tr><td style=\"padding-right:5px\"> $=$ </td><td style=\"align:center\">$[\\lambda{} x_{e} \\: . \\: {Dance}({x}_{e})]({Julius}_{e})$</td></tr><tr><td style=\"padding-right:5px\"> $=$ </td><td style=\"align:center\">${Dance}({Julius}_{e})$</td></tr></table></td></tr></table>\n",
        "</td><td></td></tr></table>\n",
        "</td></tr></table></td><td style=\"vertical-align:bottom;padding-bottom:5px;padding-left:10px\"><b>[FA]</b></td></tr><tr style=\"border-top: 1px solid #848482\"><td align=\"center\"><table style=\"margin-top:10px\"><tr><td style=\"vertical-align:bottom\" align=\"center\">$|\\!|\\mathbf{\\text{[must [dance Julius]]}}|\\!|^{}_{t_{?}}$</td></tr><tr><td style=\"vertical-align:bottom\" align=\"center\"><table><tr><td style=\"padding-right:5px\"> $=$ </td><td style=\"align:center\">$[\\lambda{} x_{?} \\: . \\: {Must}_{\\langle{}?,t\\rangle{}}({x}_{?})]({Dance}({Julius}_{e}))$</td></tr><tr><td style=\"padding-right:5px\"> $=$ </td><td style=\"align:center\">$[\\lambda{} x_{t_{?}} \\: . \\: {Must}_{\\langle{}t_{?},t\\rangle{}}({x}_{t_{?}})]({Dance}({Julius}_{e}))$</td></tr><tr><td style=\"padding-right:5px\"> $=$ </td><td style=\"align:center\">${Must}_{\\langle{}t_{?},t\\rangle{}}({Dance}({Julius}_{e}))$</td></tr></table></td></tr></table>\n",
        "</td><td></td></tr></table>\n",
        "<br /><br />"
       ],
       "metadata": {},
       "output_type": "pyout",
       "prompt_number": 196,
       "text": [
        "1 composition path:<br /><table><tr><td style=\"vertical-align:bottom;padding:0px 10px\" align=\"center\"><table><tr><td style=\"vertical-align:bottom\"><table align=\"center\"><tr><td align=\"center\">$|\\!|\\mathbf{\\text{must}}|\\!|^{}_{\\langle{}?,t_{?}\\rangle{}}$</td></tr><tr><td align=\"center\">$\\lambda{} x_{?} \\: . \\: {Must}_{\\langle{}?,t\\rangle{}}({x}_{?})$</td></tr></table>\n",
        "</td><td style=\"vertical-align:bottom;padding-bottom:5px\">&nbsp;&nbsp;&nbsp;$\\circ$&nbsp;&nbsp;&nbsp;</td><td style=\"vertical-align:bottom\"><table><tr><td style=\"vertical-align:bottom;padding:0px 10px\" align=\"center\"><table><tr><td style=\"vertical-align:bottom\"><table align=\"center\"><tr><td align=\"center\">$|\\!|\\mathbf{\\text{dance}}|\\!|^{}_{\\langle{}e,t\\rangle{}}$</td></tr><tr><td align=\"center\">$\\lambda{} x_{e} \\: . \\: {Dance}({x}_{e})$</td></tr></table>\n",
        "</td><td style=\"vertical-align:bottom;padding-bottom:5px\">&nbsp;&nbsp;&nbsp;$\\circ$&nbsp;&nbsp;&nbsp;</td><td style=\"vertical-align:bottom\"><table align=\"center\"><tr><td align=\"center\">$|\\!|\\mathbf{\\text{Julius}}|\\!|^{}_{e}$</td></tr><tr><td align=\"center\">${Julius}_{e}$</td></tr></table>\n",
        "</td></tr></table></td><td style=\"vertical-align:bottom;padding-bottom:5px;padding-left:10px\"><b>[FA]</b></td></tr><tr style=\"border-top: 1px solid #848482\"><td align=\"center\"><table style=\"margin-top:10px\"><tr><td style=\"vertical-align:bottom\" align=\"center\">$|\\!|\\mathbf{\\text{[dance Julius]}}|\\!|^{}_{t}$</td></tr><tr><td style=\"vertical-align:bottom\" align=\"center\"><table><tr><td style=\"padding-right:5px\"> $=$ </td><td style=\"align:center\">$[\\lambda{} x_{e} \\: . \\: {Dance}({x}_{e})]({Julius}_{e})$</td></tr><tr><td style=\"padding-right:5px\"> $=$ </td><td style=\"align:center\">${Dance}({Julius}_{e})$</td></tr></table></td></tr></table>\n",
        "</td><td></td></tr></table>\n",
        "</td></tr></table></td><td style=\"vertical-align:bottom;padding-bottom:5px;padding-left:10px\"><b>[FA]</b></td></tr><tr style=\"border-top: 1px solid #848482\"><td align=\"center\"><table style=\"margin-top:10px\"><tr><td style=\"vertical-align:bottom\" align=\"center\">$|\\!|\\mathbf{\\text{[must [dance Julius]]}}|\\!|^{}_{t_{?}}$</td></tr><tr><td style=\"vertical-align:bottom\" align=\"center\"><table><tr><td style=\"padding-right:5px\"> $=$ </td><td style=\"align:center\">$[\\lambda{} x_{?} \\: . \\: {Must}_{\\langle{}?,t\\rangle{}}({x}_{?})]({Dance}({Julius}_{e}))$</td></tr><tr><td style=\"padding-right:5px\"> $=$ </td><td style=\"align:center\">$[\\lambda{} x_{t_{?}} \\: . \\: {Must}_{\\langle{}t_{?},t\\rangle{}}({x}_{t_{?}})]({Dance}({Julius}_{e}))$</td></tr><tr><td style=\"padding-right:5px\"> $=$ </td><td style=\"align:center\">${Must}_{\\langle{}t_{?},t\\rangle{}}({Dance}({Julius}_{e}))$</td></tr></table></td></tr></table>\n",
        "</td><td></td></tr></table>\n",
        "<br /><br />"
       ]
      }
     ],
     "prompt_number": 196
    },
    {
     "cell_type": "code",
     "collapsed": false,
     "input": [
      "# Zoom in on what's happening in the final step\n",
      "must_test_result[0].content.derivation"
     ],
     "language": "python",
     "metadata": {},
     "outputs": [
      {
       "latex": [
        "<table><tr><td style=\"padding-right:5px\"> 1. </td><td style=\"padding-right:5px\">$[\\lambda{} x_{?} \\: . \\: {Must}_{\\langle{}?,t\\rangle{}}({x}_{?})]({Dance}({Julius}_{e}))$</td><td style=\"padding-left:10px;border-left:1px solid #848482\"></td></tr><tr><td style=\"padding-right:5px\"> 2. </td><td style=\"padding-right:5px\">$[\\lambda{} x_{t_{?}} \\: . \\: {Must}_{\\langle{}t_{?},t\\rangle{}}({x}_{t_{?}})]({Dance}({Julius}_{e}))$</td><td style=\"padding-left:10px;border-left:1px solid #848482\">Type inference</td></tr><tr><td style=\"padding-right:5px\"> 3. </td><td style=\"padding-right:5px\">${Must}_{\\langle{}t_{?},t\\rangle{}}({Dance}({Julius}_{e}))$</td><td style=\"padding-left:10px;border-left:1px solid #848482\">F-A reduction</td></tr></table>"
       ],
       "metadata": {},
       "output_type": "pyout",
       "prompt_number": 198,
       "text": [
        "<lamb.meta.Derivation at 0x105974110>"
       ]
      }
     ],
     "prompt_number": 198
    },
    {
     "cell_type": "markdown",
     "metadata": {},
     "source": [
      "Type &lt;t,t&gt; is the only inferrable option.  This is not really satisfactory, as &lt;t,t&gt; describes a very small set.  In fact, there are just four functions:\n",
      "\n",
      " * 1 $\\rightarrow$ 1, 0 $\\rightarrow$ 0\n",
      " * 1 $\\rightarrow$ 0, 0 $\\rightarrow$ 1\n",
      " * 1 $\\rightarrow$ 0, 0 $\\rightarrow$ 0\n",
      " * 1 $\\rightarrow$ 1, 0 $\\rightarrow$ 1\n",
      "\n",
      "Hence, some richer (\"intensional\") representation is needed.  Possible worlds are involved in one kind of analysis of intensionality."
     ]
    },
    {
     "cell_type": "code",
     "collapsed": false,
     "input": [
      "intensional_types"
     ],
     "language": "python",
     "metadata": {},
     "outputs": [
      {
       "latex": [
        "Type system with atomic types: $e, t, ?, n, s$"
       ],
       "metadata": {},
       "output_type": "pyout",
       "prompt_number": 32,
       "text": [
        "<lamb.types.UnderTypeSystem at 0x102f0c150>"
       ]
      }
     ],
     "prompt_number": 32
    },
    {
     "cell_type": "code",
     "collapsed": false,
     "input": [],
     "language": "python",
     "metadata": {},
     "outputs": [],
     "prompt_number": 32
    },
    {
     "cell_type": "code",
     "collapsed": false,
     "input": [
      "# set up evaluation world as a parameter to the interpretation function\n",
      "system = lang.get_system().copy()\n",
      "eval_w = lang.te(\"w_s\")\n",
      "system.assign_controller = lang.AssignmentController(specials=[eval_w])\n",
      "lang.set_system(system)"
     ],
     "language": "python",
     "metadata": {},
     "outputs": [],
     "prompt_number": 33
    },
    {
     "cell_type": "code",
     "collapsed": false,
     "input": [
      "%%lamb \n",
      "||dance|| = L x_e: Dance(w, x)\n",
      "||Alfonso|| = Alfonso_e"
     ],
     "language": "python",
     "metadata": {},
     "outputs": [
      {
       "output_type": "stream",
       "stream": "stdout",
       "text": [
        "warning: coerced guessed type t for 'Dance' into <(s,e),t>, to match argument '(w, x)'\n"
       ]
      },
      {
       "latex": [
        "$|\\!|\\mathbf{\\text{dance}}|\\!|^{{w}_{s}, g}_{\\langle{}e,t\\rangle{}} \\:=\\: \\lambda{} x_{e} \\: . \\: {Dance}({w}_{s}, {x}_{e})$<br />\n",
        "$|\\!|\\mathbf{\\text{Alfonso}}|\\!|^{{w}_{s}, g}_{e} \\:=\\: {Alfonso}_{e}$"
       ],
       "metadata": {},
       "output_type": "pyout",
       "prompt_number": 34,
       "text": [
        "$|\\!|\\mathbf{\\text{dance}}|\\!|^{{w}_{s}, g}_{\\langle{}e,t\\rangle{}} \\:=\\: \\lambda{} x_{e} \\: . \\: {Dance}({w}_{s}, {x}_{e})$<br />\n",
        "$|\\!|\\mathbf{\\text{Alfonso}}|\\!|^{{w}_{s}, g}_{e} \\:=\\: {Alfonso}_{e}$"
       ]
      }
     ],
     "prompt_number": 34
    },
    {
     "cell_type": "code",
     "collapsed": false,
     "input": [
      "(Alfonso * dance)"
     ],
     "language": "python",
     "metadata": {},
     "outputs": [
      {
       "latex": [
        "1 composition path.  Result:\n",
        "<br />&nbsp;&nbsp;&nbsp;&nbsp;$|\\!|\\mathbf{\\text{[dance Alfonso]}}|\\!|^{{w}_{s}, g}_{t} \\:=\\: $${Dance}({w}_{s}, {Alfonso}_{e})$"
       ],
       "metadata": {},
       "output_type": "pyout",
       "prompt_number": 35,
       "text": [
        "[BinaryComposite(Dance(w, Alfonso), [||dance||[w, type s, g] = (\u03bb x). Dance(w, x), ||Alfonso||[w, type s, g] = Alfonso])]"
       ]
      }
     ],
     "prompt_number": 35
    },
    {
     "cell_type": "code",
     "collapsed": false,
     "input": [
      "(Alfonso * dance).latex_step_tree()"
     ],
     "language": "python",
     "metadata": {},
     "outputs": [
      {
       "latex": [
        "1 composition path:<br /><table><tr><td style=\"vertical-align:bottom;padding:0px 10px\" align=\"center\"><table><tr><td style=\"vertical-align:bottom\"><table align=\"center\"><tr><td align=\"center\">$|\\!|\\mathbf{\\text{dance}}|\\!|^{{w}_{s}, g}_{\\langle{}e,t\\rangle{}}$</td></tr><tr><td align=\"center\">$\\lambda{} x_{e} \\: . \\: {Dance}({w}_{s}, {x}_{e})$</td></tr></table>\n",
        "</td><td style=\"vertical-align:bottom;padding-bottom:5px\">&nbsp;&nbsp;&nbsp;$\\circ$&nbsp;&nbsp;&nbsp;</td><td style=\"vertical-align:bottom\"><table align=\"center\"><tr><td align=\"center\">$|\\!|\\mathbf{\\text{Alfonso}}|\\!|^{{w}_{s}, g}_{e}$</td></tr><tr><td align=\"center\">${Alfonso}_{e}$</td></tr></table>\n",
        "</td></tr></table></td><td style=\"vertical-align:bottom;padding-bottom:5px;padding-left:10px\"><b>[FA]</b></td></tr><tr style=\"border-top: 1px solid #848482\"><td align=\"center\"><table style=\"margin-top:10px\"><tr><td style=\"vertical-align:bottom\" align=\"center\">$|\\!|\\mathbf{\\text{[dance Alfonso]}}|\\!|^{{w}_{s}, g}_{t}$</td></tr><tr><td style=\"vertical-align:bottom\" align=\"center\">${Dance}({w}_{s}, {Alfonso}_{e})$</td></tr></table>\n",
        "</td><td></td></tr></table>\n",
        "<br /><br />"
       ],
       "metadata": {},
       "output_type": "pyout",
       "prompt_number": 36,
       "text": [
        "1 composition path:<br /><table><tr><td style=\"vertical-align:bottom;padding:0px 10px\" align=\"center\"><table><tr><td style=\"vertical-align:bottom\"><table align=\"center\"><tr><td align=\"center\">$|\\!|\\mathbf{\\text{dance}}|\\!|^{{w}_{s}, g}_{\\langle{}e,t\\rangle{}}$</td></tr><tr><td align=\"center\">$\\lambda{} x_{e} \\: . \\: {Dance}({w}_{s}, {x}_{e})$</td></tr></table>\n",
        "</td><td style=\"vertical-align:bottom;padding-bottom:5px\">&nbsp;&nbsp;&nbsp;$\\circ$&nbsp;&nbsp;&nbsp;</td><td style=\"vertical-align:bottom\"><table align=\"center\"><tr><td align=\"center\">$|\\!|\\mathbf{\\text{Alfonso}}|\\!|^{{w}_{s}, g}_{e}$</td></tr><tr><td align=\"center\">${Alfonso}_{e}$</td></tr></table>\n",
        "</td></tr></table></td><td style=\"vertical-align:bottom;padding-bottom:5px;padding-left:10px\"><b>[FA]</b></td></tr><tr style=\"border-top: 1px solid #848482\"><td align=\"center\"><table style=\"margin-top:10px\"><tr><td style=\"vertical-align:bottom\" align=\"center\">$|\\!|\\mathbf{\\text{[dance Alfonso]}}|\\!|^{{w}_{s}, g}_{t}$</td></tr><tr><td style=\"vertical-align:bottom\" align=\"center\">${Dance}({w}_{s}, {Alfonso}_{e})$</td></tr></table>\n",
        "</td><td></td></tr></table>\n",
        "<br /><br />"
       ]
      }
     ],
     "prompt_number": 36
    },
    {
     "cell_type": "code",
     "collapsed": false,
     "input": [],
     "language": "python",
     "metadata": {},
     "outputs": [],
     "prompt_number": 36
    },
    {
     "cell_type": "code",
     "collapsed": false,
     "input": [
      "def ifa_fun(f, assignment=None):\n",
      "    new_a = lang.Assignment(assignment)\n",
      "    new_a.update({\"w\": lang.te(\"w_s\")})\n",
      "    result = meta.LFun(type_s, f.content.under_assignment(new_a), var=\"w\")\n",
      "    return lang.UnaryComposite(f, result, source=\"IFA(%s)\" % (f.name))\n",
      "\n",
      "ifa_fun(dance)"
     ],
     "language": "python",
     "metadata": {},
     "outputs": [
      {
       "latex": [
        "$|\\!|\\mathbf{\\text{IFA(dance)}}|\\!|^{{w}_{s}, g}_{\\langle{}s,\\langle{}e,t\\rangle{}\\rangle{}} \\:=\\: $$\\lambda{} w_{s} \\: . \\: \\lambda{} x_{e} \\: . \\: {Dance}({w}_{s}, {x}_{e})$"
       ],
       "metadata": {},
       "output_type": "pyout",
       "prompt_number": 37,
       "text": [
        "UnaryComposite((\u03bb w). (\u03bb x). Dance(w, x), [||dance||[w, type s, g] = (\u03bb x). Dance(w, x)])"
       ]
      }
     ],
     "prompt_number": 37
    },
    {
     "cell_type": "code",
     "collapsed": false,
     "input": [
      "ifa_fun(julius)"
     ],
     "language": "python",
     "metadata": {},
     "outputs": [
      {
       "latex": [
        "$|\\!|\\mathbf{\\text{IFA(Julius)}}|\\!|^{{w}_{s}, g}_{\\langle{}s,e\\rangle{}} \\:=\\: $$\\lambda{} w_{s} \\: . \\: {Julius}_{e}$"
       ],
       "metadata": {},
       "output_type": "pyout",
       "prompt_number": 38,
       "text": [
        "UnaryComposite((\u03bb w). Julius, [||Julius|| = Julius])"
       ]
      }
     ],
     "prompt_number": 38
    },
    {
     "cell_type": "code",
     "collapsed": false,
     "input": [
      "system.add_rule(lang.UnaryCompositionOp(\"IFA\", ifa_fun))"
     ],
     "language": "python",
     "metadata": {},
     "outputs": [],
     "prompt_number": 39
    },
    {
     "cell_type": "code",
     "collapsed": false,
     "input": [],
     "language": "python",
     "metadata": {},
     "outputs": [],
     "prompt_number": 39
    },
    {
     "cell_type": "code",
     "collapsed": false,
     "input": [
      "%%lamb\n",
      "||a|| = L f_<e,t> : L g_<e,t> : Exists x_e : f(x) & g(x)"
     ],
     "language": "python",
     "metadata": {},
     "outputs": [
      {
       "latex": [
        "$|\\!|\\mathbf{\\text{a}}|\\!|^{{w}_{s}, g}_{\\langle{}\\langle{}e,t\\rangle{},\\langle{}\\langle{}e,t\\rangle{},t\\rangle{}\\rangle{}} \\:=\\: \\lambda{} f_{\\langle{}e,t\\rangle{}} \\: . \\: \\lambda{} g_{\\langle{}e,t\\rangle{}} \\: . \\: \\exists{} x_{e} \\: . \\: ({f}_{\\langle{}e,t\\rangle{}}({x}_{e}) \\wedge{} {g}_{\\langle{}e,t\\rangle{}}({x}_{e}))$"
       ],
       "metadata": {},
       "output_type": "pyout",
       "prompt_number": 40,
       "text": [
        "$|\\!|\\mathbf{\\text{a}}|\\!|^{{w}_{s}, g}_{\\langle{}\\langle{}e,t\\rangle{},\\langle{}\\langle{}e,t\\rangle{},t\\rangle{}\\rangle{}} \\:=\\: \\lambda{} f_{\\langle{}e,t\\rangle{}} \\: . \\: \\lambda{} g_{\\langle{}e,t\\rangle{}} \\: . \\: \\exists{} x_{e} \\: . \\: ({f}_{\\langle{}e,t\\rangle{}}({x}_{e}) \\wedge{} {g}_{\\langle{}e,t\\rangle{}}({x}_{e}))$"
       ]
      }
     ],
     "prompt_number": 40
    },
    {
     "cell_type": "code",
     "collapsed": false,
     "input": [
      "%%lamb\n",
      "||famous|| = L x_e : Famous(w,x)\n",
      "||detective|| = L x_e : Detective(w,x)\n",
      "||bakerst|| = BakerSt221B_e\n",
      "||lives|| = L y_e : L x_e : LivesAt(w,x,y)"
     ],
     "language": "python",
     "metadata": {},
     "outputs": [
      {
       "output_type": "stream",
       "stream": "stdout",
       "text": [
        "warning: coerced guessed type t for 'Famous' into <(s,e),t>, to match argument '(w, x)'\n",
        "warning: coerced guessed type t for 'Detective' into <(s,e),t>, to match argument '(w, x)'\n",
        "warning: coerced guessed type t for 'LivesAt' into <(s,e,e),t>, to match argument '(w, x, y)'\n"
       ]
      },
      {
       "latex": [
        "$|\\!|\\mathbf{\\text{famous}}|\\!|^{{w}_{s}, g}_{\\langle{}e,t\\rangle{}} \\:=\\: \\lambda{} x_{e} \\: . \\: {Famous}({w}_{s}, {x}_{e})$<br />\n",
        "$|\\!|\\mathbf{\\text{detective}}|\\!|^{{w}_{s}, g}_{\\langle{}e,t\\rangle{}} \\:=\\: \\lambda{} x_{e} \\: . \\: {Detective}({w}_{s}, {x}_{e})$<br />\n",
        "$|\\!|\\mathbf{\\text{bakerst}}|\\!|^{{w}_{s}, g}_{e} \\:=\\: {BakerSt221B}_{e}$<br />\n",
        "$|\\!|\\mathbf{\\text{lives}}|\\!|^{{w}_{s}, g}_{\\langle{}e,\\langle{}e,t\\rangle{}\\rangle{}} \\:=\\: \\lambda{} y_{e} \\: . \\: \\lambda{} x_{e} \\: . \\: {LivesAt}({w}_{s}, {x}_{e}, {y}_{e})$"
       ],
       "metadata": {},
       "output_type": "pyout",
       "prompt_number": 41,
       "text": [
        "$|\\!|\\mathbf{\\text{famous}}|\\!|^{{w}_{s}, g}_{\\langle{}e,t\\rangle{}} \\:=\\: \\lambda{} x_{e} \\: . \\: {Famous}({w}_{s}, {x}_{e})$<br />\n",
        "$|\\!|\\mathbf{\\text{detective}}|\\!|^{{w}_{s}, g}_{\\langle{}e,t\\rangle{}} \\:=\\: \\lambda{} x_{e} \\: . \\: {Detective}({w}_{s}, {x}_{e})$<br />\n",
        "$|\\!|\\mathbf{\\text{bakerst}}|\\!|^{{w}_{s}, g}_{e} \\:=\\: {BakerSt221B}_{e}$<br />\n",
        "$|\\!|\\mathbf{\\text{lives}}|\\!|^{{w}_{s}, g}_{\\langle{}e,\\langle{}e,t\\rangle{}\\rangle{}} \\:=\\: \\lambda{} y_{e} \\: . \\: \\lambda{} x_{e} \\: . \\: {LivesAt}({w}_{s}, {x}_{e}, {y}_{e})$"
       ]
      }
     ],
     "prompt_number": 41
    },
    {
     "cell_type": "code",
     "collapsed": false,
     "input": [],
     "language": "python",
     "metadata": {},
     "outputs": [],
     "prompt_number": 41
    },
    {
     "cell_type": "code",
     "collapsed": false,
     "input": [
      "simple = (a * detective) * (lives * bakerst)\n",
      "simple"
     ],
     "language": "python",
     "metadata": {},
     "outputs": [
      {
       "latex": [
        "1 composition path.  Result:\n",
        "<br />&nbsp;&nbsp;&nbsp;&nbsp;$|\\!|\\mathbf{\\text{[[a detective] [lives bakerst]]}}|\\!|^{{w}_{s}, g}_{t} \\:=\\: $$\\exists{} x_{e} \\: . \\: ([\\lambda{} x_{e} \\: . \\: {Detective}({w}_{s}, {x}_{e})]({x}_{e}) \\wedge{} [\\lambda{} x_{e} \\: . \\: {LivesAt}({w}_{s}, {x}_{e}, {BakerSt221B}_{e})]({x}_{e}))$"
       ],
       "metadata": {},
       "output_type": "pyout",
       "prompt_number": 42,
       "text": [
        "[BinaryComposite((\u2203 x). ([(\u03bb x). Detective(w, x)](x) & [(\u03bb x). LivesAt(w, x, BakerSt221B)](x)), [BinaryComposite((\u03bb g). (\u2203 x). ([(\u03bb x). Detective(w, x)](x) & g(x)), [||a||[w, type s, g] = (\u03bb f). (\u03bb g). (\u2203 x). (f(x) & g(x)), ||detective||[w, type s, g] = (\u03bb x). Detective(w, x)]), BinaryComposite((\u03bb x). LivesAt(w, x, BakerSt221B), [||lives||[w, type s, g] = (\u03bb y). (\u03bb x). LivesAt(w, x, y), ||bakerst||[w, type s, g] = BakerSt221B])])]"
       ]
      }
     ],
     "prompt_number": 42
    },
    {
     "cell_type": "code",
     "collapsed": false,
     "input": [
      "simple.reduce_all()\n",
      "simple"
     ],
     "language": "python",
     "metadata": {},
     "outputs": [
      {
       "latex": [
        "1 composition path.  Result:\n",
        "<br />&nbsp;&nbsp;&nbsp;&nbsp;$|\\!|\\mathbf{\\text{[[a detective] [lives bakerst]]}}|\\!|^{{w}_{s}, g}_{t} \\:=\\: $$\\exists{} x_{e} \\: . \\: ({Detective}({w}_{s}, {x}_{e}) \\wedge{} {LivesAt}({w}_{s}, {x}_{e}, {BakerSt221B}_{e}))$"
       ],
       "metadata": {},
       "output_type": "pyout",
       "prompt_number": 43,
       "text": [
        "[BinaryComposite((\u2203 x). ([(\u03bb x). Detective(w, x)](x) & [(\u03bb x). LivesAt(w, x, BakerSt221B)](x)), [BinaryComposite((\u03bb g). (\u2203 x). ([(\u03bb x). Detective(w, x)](x) & g(x)), [||a||[w, type s, g] = (\u03bb f). (\u03bb g). (\u2203 x). (f(x) & g(x)), ||detective||[w, type s, g] = (\u03bb x). Detective(w, x)]), BinaryComposite((\u03bb x). LivesAt(w, x, BakerSt221B), [||lives||[w, type s, g] = (\u03bb y). (\u03bb x). LivesAt(w, x, y), ||bakerst||[w, type s, g] = BakerSt221B])])]"
       ]
      }
     ],
     "prompt_number": 43
    },
    {
     "cell_type": "code",
     "collapsed": false,
     "input": [
      "simple.results[0].latex_step_tree(derivations=True)"
     ],
     "language": "python",
     "metadata": {},
     "outputs": [
      {
       "latex": [
        "<table><tr><td style=\"vertical-align:bottom;padding:0px 10px\" align=\"center\"><table><tr><td style=\"vertical-align:bottom\"><table><tr><td style=\"vertical-align:bottom;padding:0px 10px\" align=\"center\"><table><tr><td style=\"vertical-align:bottom\"><table align=\"center\"><tr><td align=\"center\">$|\\!|\\mathbf{\\text{a}}|\\!|^{{w}_{s}, g}_{\\langle{}\\langle{}e,t\\rangle{},\\langle{}\\langle{}e,t\\rangle{},t\\rangle{}\\rangle{}}$</td></tr><tr><td align=\"center\">$\\lambda{} f_{\\langle{}e,t\\rangle{}} \\: . \\: \\lambda{} g_{\\langle{}e,t\\rangle{}} \\: . \\: \\exists{} x_{e} \\: . \\: ({f}_{\\langle{}e,t\\rangle{}}({x}_{e}) \\wedge{} {g}_{\\langle{}e,t\\rangle{}}({x}_{e}))$</td></tr></table>\n",
        "</td><td style=\"vertical-align:bottom;padding-bottom:5px\">&nbsp;&nbsp;&nbsp;$\\circ$&nbsp;&nbsp;&nbsp;</td><td style=\"vertical-align:bottom\"><table align=\"center\"><tr><td align=\"center\">$|\\!|\\mathbf{\\text{detective}}|\\!|^{{w}_{s}, g}_{\\langle{}e,t\\rangle{}}$</td></tr><tr><td align=\"center\">$\\lambda{} x_{e} \\: . \\: {Detective}({w}_{s}, {x}_{e})$</td></tr></table>\n",
        "</td></tr></table></td><td style=\"vertical-align:bottom;padding-bottom:5px;padding-left:10px\"><b>[FA]</b></td></tr><tr style=\"border-top: 1px solid #848482\"><td align=\"center\"><table style=\"margin-top:10px\"><tr><td style=\"vertical-align:bottom\" align=\"center\">$|\\!|\\mathbf{\\text{[a detective]}}|\\!|^{{w}_{s}, g}_{\\langle{}\\langle{}e,t\\rangle{},t\\rangle{}}$</td></tr><tr><td style=\"vertical-align:bottom\" align=\"center\"><table><tr><td style=\"padding-right:5px\"> $=$ </td><td style=\"align:center\">$[\\lambda{} f_{\\langle{}e,t\\rangle{}} \\: . \\: \\lambda{} g_{\\langle{}e,t\\rangle{}} \\: . \\: \\exists{} x_{e} \\: . \\: ({f}_{\\langle{}e,t\\rangle{}}({x}_{e}) \\wedge{} {g}_{\\langle{}e,t\\rangle{}}({x}_{e}))](\\lambda{} x_{e} \\: . \\: {Detective}({w}_{s}, {x}_{e}))$</td></tr><tr><td style=\"padding-right:5px\"> $=$ </td><td style=\"align:center\">$\\lambda{} g_{\\langle{}e,t\\rangle{}} \\: . \\: \\exists{} x_{e} \\: . \\: ([\\lambda{} x_{e} \\: . \\: {Detective}({w}_{s}, {x}_{e})]({x}_{e}) \\wedge{} {g}_{\\langle{}e,t\\rangle{}}({x}_{e}))$</td></tr></table></td></tr></table>\n",
        "</td><td></td></tr></table>\n",
        "</td><td style=\"vertical-align:bottom;padding-bottom:5px\">&nbsp;&nbsp;&nbsp;$\\circ$&nbsp;&nbsp;&nbsp;</td><td style=\"vertical-align:bottom\"><table><tr><td style=\"vertical-align:bottom;padding:0px 10px\" align=\"center\"><table><tr><td style=\"vertical-align:bottom\"><table align=\"center\"><tr><td align=\"center\">$|\\!|\\mathbf{\\text{lives}}|\\!|^{{w}_{s}, g}_{\\langle{}e,\\langle{}e,t\\rangle{}\\rangle{}}$</td></tr><tr><td align=\"center\">$\\lambda{} y_{e} \\: . \\: \\lambda{} x_{e} \\: . \\: {LivesAt}({w}_{s}, {x}_{e}, {y}_{e})$</td></tr></table>\n",
        "</td><td style=\"vertical-align:bottom;padding-bottom:5px\">&nbsp;&nbsp;&nbsp;$\\circ$&nbsp;&nbsp;&nbsp;</td><td style=\"vertical-align:bottom\"><table align=\"center\"><tr><td align=\"center\">$|\\!|\\mathbf{\\text{bakerst}}|\\!|^{{w}_{s}, g}_{e}$</td></tr><tr><td align=\"center\">${BakerSt221B}_{e}$</td></tr></table>\n",
        "</td></tr></table></td><td style=\"vertical-align:bottom;padding-bottom:5px;padding-left:10px\"><b>[FA]</b></td></tr><tr style=\"border-top: 1px solid #848482\"><td align=\"center\"><table style=\"margin-top:10px\"><tr><td style=\"vertical-align:bottom\" align=\"center\">$|\\!|\\mathbf{\\text{[lives bakerst]}}|\\!|^{{w}_{s}, g}_{\\langle{}e,t\\rangle{}}$</td></tr><tr><td style=\"vertical-align:bottom\" align=\"center\"><table><tr><td style=\"padding-right:5px\"> $=$ </td><td style=\"align:center\">$[\\lambda{} y_{e} \\: . \\: \\lambda{} x_{e} \\: . \\: {LivesAt}({w}_{s}, {x}_{e}, {y}_{e})]({BakerSt221B}_{e})$</td></tr><tr><td style=\"padding-right:5px\"> $=$ </td><td style=\"align:center\">$\\lambda{} x_{e} \\: . \\: {LivesAt}({w}_{s}, {x}_{e}, {BakerSt221B}_{e})$</td></tr></table></td></tr></table>\n",
        "</td><td></td></tr></table>\n",
        "</td></tr></table></td><td style=\"vertical-align:bottom;padding-bottom:5px;padding-left:10px\"><b>[FA]</b></td></tr><tr style=\"border-top: 1px solid #848482\"><td align=\"center\"><table style=\"margin-top:10px\"><tr><td style=\"vertical-align:bottom\" align=\"center\">$|\\!|\\mathbf{\\text{[[a detective] [lives bakerst]]}}|\\!|^{{w}_{s}, g}_{t}$</td></tr><tr><td style=\"vertical-align:bottom\" align=\"center\"><table><tr><td style=\"padding-right:5px\"> $=$ </td><td style=\"align:center\">$\\exists{} x_{e} \\: . \\: ([\\lambda{} x_{e} \\: . \\: {Detective}({w}_{s}, {x}_{e})]({x}_{e}) \\wedge{} [\\lambda{} x_{e} \\: . \\: {LivesAt}({w}_{s}, {x}_{e}, {BakerSt221B}_{e})]({x}_{e}))$</td></tr><tr><td style=\"padding-right:5px\"> $=$ </td><td style=\"align:center\">$\\exists{} x_{e} \\: . \\: ({Detective}({w}_{s}, {x}_{e}) \\wedge{} {LivesAt}({w}_{s}, {x}_{e}, {BakerSt221B}_{e}))$</td></tr></table></td></tr></table>\n",
        "</td><td></td></tr></table>\n"
       ],
       "metadata": {},
       "output_type": "pyout",
       "prompt_number": 45,
       "text": [
        "<table><tr><td style=\"vertical-align:bottom;padding:0px 10px\" align=\"center\"><table><tr><td style=\"vertical-align:bottom\"><table><tr><td style=\"vertical-align:bottom;padding:0px 10px\" align=\"center\"><table><tr><td style=\"vertical-align:bottom\"><table align=\"center\"><tr><td align=\"center\">$|\\!|\\mathbf{\\text{a}}|\\!|^{{w}_{s}, g}_{\\langle{}\\langle{}e,t\\rangle{},\\langle{}\\langle{}e,t\\rangle{},t\\rangle{}\\rangle{}}$</td></tr><tr><td align=\"center\">$\\lambda{} f_{\\langle{}e,t\\rangle{}} \\: . \\: \\lambda{} g_{\\langle{}e,t\\rangle{}} \\: . \\: \\exists{} x_{e} \\: . \\: ({f}_{\\langle{}e,t\\rangle{}}({x}_{e}) \\wedge{} {g}_{\\langle{}e,t\\rangle{}}({x}_{e}))$</td></tr></table>\n",
        "</td><td style=\"vertical-align:bottom;padding-bottom:5px\">&nbsp;&nbsp;&nbsp;$\\circ$&nbsp;&nbsp;&nbsp;</td><td style=\"vertical-align:bottom\"><table align=\"center\"><tr><td align=\"center\">$|\\!|\\mathbf{\\text{detective}}|\\!|^{{w}_{s}, g}_{\\langle{}e,t\\rangle{}}$</td></tr><tr><td align=\"center\">$\\lambda{} x_{e} \\: . \\: {Detective}({w}_{s}, {x}_{e})$</td></tr></table>\n",
        "</td></tr></table></td><td style=\"vertical-align:bottom;padding-bottom:5px;padding-left:10px\"><b>[FA]</b></td></tr><tr style=\"border-top: 1px solid #848482\"><td align=\"center\"><table style=\"margin-top:10px\"><tr><td style=\"vertical-align:bottom\" align=\"center\">$|\\!|\\mathbf{\\text{[a detective]}}|\\!|^{{w}_{s}, g}_{\\langle{}\\langle{}e,t\\rangle{},t\\rangle{}}$</td></tr><tr><td style=\"vertical-align:bottom\" align=\"center\"><table><tr><td style=\"padding-right:5px\"> $=$ </td><td style=\"align:center\">$[\\lambda{} f_{\\langle{}e,t\\rangle{}} \\: . \\: \\lambda{} g_{\\langle{}e,t\\rangle{}} \\: . \\: \\exists{} x_{e} \\: . \\: ({f}_{\\langle{}e,t\\rangle{}}({x}_{e}) \\wedge{} {g}_{\\langle{}e,t\\rangle{}}({x}_{e}))](\\lambda{} x_{e} \\: . \\: {Detective}({w}_{s}, {x}_{e}))$</td></tr><tr><td style=\"padding-right:5px\"> $=$ </td><td style=\"align:center\">$\\lambda{} g_{\\langle{}e,t\\rangle{}} \\: . \\: \\exists{} x_{e} \\: . \\: ([\\lambda{} x_{e} \\: . \\: {Detective}({w}_{s}, {x}_{e})]({x}_{e}) \\wedge{} {g}_{\\langle{}e,t\\rangle{}}({x}_{e}))$</td></tr></table></td></tr></table>\n",
        "</td><td></td></tr></table>\n",
        "</td><td style=\"vertical-align:bottom;padding-bottom:5px\">&nbsp;&nbsp;&nbsp;$\\circ$&nbsp;&nbsp;&nbsp;</td><td style=\"vertical-align:bottom\"><table><tr><td style=\"vertical-align:bottom;padding:0px 10px\" align=\"center\"><table><tr><td style=\"vertical-align:bottom\"><table align=\"center\"><tr><td align=\"center\">$|\\!|\\mathbf{\\text{lives}}|\\!|^{{w}_{s}, g}_{\\langle{}e,\\langle{}e,t\\rangle{}\\rangle{}}$</td></tr><tr><td align=\"center\">$\\lambda{} y_{e} \\: . \\: \\lambda{} x_{e} \\: . \\: {LivesAt}({w}_{s}, {x}_{e}, {y}_{e})$</td></tr></table>\n",
        "</td><td style=\"vertical-align:bottom;padding-bottom:5px\">&nbsp;&nbsp;&nbsp;$\\circ$&nbsp;&nbsp;&nbsp;</td><td style=\"vertical-align:bottom\"><table align=\"center\"><tr><td align=\"center\">$|\\!|\\mathbf{\\text{bakerst}}|\\!|^{{w}_{s}, g}_{e}$</td></tr><tr><td align=\"center\">${BakerSt221B}_{e}$</td></tr></table>\n",
        "</td></tr></table></td><td style=\"vertical-align:bottom;padding-bottom:5px;padding-left:10px\"><b>[FA]</b></td></tr><tr style=\"border-top: 1px solid #848482\"><td align=\"center\"><table style=\"margin-top:10px\"><tr><td style=\"vertical-align:bottom\" align=\"center\">$|\\!|\\mathbf{\\text{[lives bakerst]}}|\\!|^{{w}_{s}, g}_{\\langle{}e,t\\rangle{}}$</td></tr><tr><td style=\"vertical-align:bottom\" align=\"center\"><table><tr><td style=\"padding-right:5px\"> $=$ </td><td style=\"align:center\">$[\\lambda{} y_{e} \\: . \\: \\lambda{} x_{e} \\: . \\: {LivesAt}({w}_{s}, {x}_{e}, {y}_{e})]({BakerSt221B}_{e})$</td></tr><tr><td style=\"padding-right:5px\"> $=$ </td><td style=\"align:center\">$\\lambda{} x_{e} \\: . \\: {LivesAt}({w}_{s}, {x}_{e}, {BakerSt221B}_{e})$</td></tr></table></td></tr></table>\n",
        "</td><td></td></tr></table>\n",
        "</td></tr></table></td><td style=\"vertical-align:bottom;padding-bottom:5px;padding-left:10px\"><b>[FA]</b></td></tr><tr style=\"border-top: 1px solid #848482\"><td align=\"center\"><table style=\"margin-top:10px\"><tr><td style=\"vertical-align:bottom\" align=\"center\">$|\\!|\\mathbf{\\text{[[a detective] [lives bakerst]]}}|\\!|^{{w}_{s}, g}_{t}$</td></tr><tr><td style=\"vertical-align:bottom\" align=\"center\"><table><tr><td style=\"padding-right:5px\"> $=$ </td><td style=\"align:center\">$\\exists{} x_{e} \\: . \\: ([\\lambda{} x_{e} \\: . \\: {Detective}({w}_{s}, {x}_{e})]({x}_{e}) \\wedge{} [\\lambda{} x_{e} \\: . \\: {LivesAt}({w}_{s}, {x}_{e}, {BakerSt221B}_{e})]({x}_{e}))$</td></tr><tr><td style=\"padding-right:5px\"> $=$ </td><td style=\"align:center\">$\\exists{} x_{e} \\: . \\: ({Detective}({w}_{s}, {x}_{e}) \\wedge{} {LivesAt}({w}_{s}, {x}_{e}, {BakerSt221B}_{e}))$</td></tr></table></td></tr></table>\n",
        "</td><td></td></tr></table>\n"
       ]
      }
     ],
     "prompt_number": 45
    },
    {
     "cell_type": "code",
     "collapsed": false,
     "input": [
      "simple.compose()"
     ],
     "language": "python",
     "metadata": {},
     "outputs": [
      {
       "latex": [
        "1 composition path.  Result:\n",
        "<br />&nbsp;&nbsp;&nbsp;&nbsp;$|\\!|\\mathbf{\\text{IFA([[a detective] [lives bakerst]])}}|\\!|^{{w}_{s}, g}_{\\langle{}s,t\\rangle{}} \\:=\\: $$\\lambda{} w_{s} \\: . \\: \\exists{} x_{e} \\: . \\: ({Detective}({w}_{s}, {x}_{e}) \\wedge{} {LivesAt}({w}_{s}, {x}_{e}, {BakerSt221B}_{e}))$"
       ],
       "metadata": {},
       "output_type": "pyout",
       "prompt_number": 46,
       "text": [
        "[UnaryComposite((\u03bb w). (\u2203 x). (Detective(w, x) & LivesAt(w, x, BakerSt221B)), [BinaryComposite((\u2203 x). ([(\u03bb x). Detective(w, x)](x) & [(\u03bb x). LivesAt(w, x, BakerSt221B)](x)), [BinaryComposite((\u03bb g). (\u2203 x). ([(\u03bb x). Detective(w, x)](x) & g(x)), [||a||[w, type s, g] = (\u03bb f). (\u03bb g). (\u2203 x). (f(x) & g(x)), ||detective||[w, type s, g] = (\u03bb x). Detective(w, x)]), BinaryComposite((\u03bb x). LivesAt(w, x, BakerSt221B), [||lives||[w, type s, g] = (\u03bb y). (\u03bb x). LivesAt(w, x, y), ||bakerst||[w, type s, g] = BakerSt221B])])])]"
       ]
      }
     ],
     "prompt_number": 46
    },
    {
     "cell_type": "code",
     "collapsed": false,
     "input": [
      "itw = lang.Item(\"In the world of S.H.\", lang.te(\"L p_<s,t> : Forall w2_s : CompatibleWithSHStories(w_s, w2_s) >> p_<s,t>(w2_s)\"))\n",
      "itw"
     ],
     "language": "python",
     "metadata": {},
     "outputs": [
      {
       "output_type": "stream",
       "stream": "stdout",
       "text": [
        "warning: coerced guessed type t for 'CompatibleWithSHStories' into <(s,s),t>, to match argument '(w, w2)'\n"
       ]
      },
      {
       "latex": [
        "$|\\!|\\mathbf{\\text{In the world of S.H.}}|\\!|^{{w}_{s}, g}_{\\langle{}\\langle{}s,t\\rangle{},t\\rangle{}} \\:=\\: $$\\lambda{} p_{\\langle{}s,t\\rangle{}} \\: . \\: \\forall{} w2_{s} \\: . \\: ({CompatibleWithSHStories}({w}_{s}, {w2}_{s}) \\rightarrow{} {p}_{\\langle{}s,t\\rangle{}}({w2}_{s}))$"
       ],
       "metadata": {},
       "output_type": "pyout",
       "prompt_number": 47,
       "text": [
        "||In the world of S.H.||[w, type s, g] = (\u03bb p). (\u2200 w2). (CompatibleWithSHStories(w, w2) >> p(w2))"
       ]
      }
     ],
     "prompt_number": 47
    },
    {
     "cell_type": "code",
     "collapsed": false,
     "input": [],
     "language": "python",
     "metadata": {},
     "outputs": [],
     "prompt_number": 47
    },
    {
     "cell_type": "code",
     "collapsed": false,
     "input": [
      "itw * simple"
     ],
     "language": "python",
     "metadata": {},
     "outputs": [
      {
       "latex": [
        "Composition failed.  Attempts:<br />\n",
        "&nbsp;&nbsp;&nbsp;&nbsp;Type mismatch: '$|\\!|\\mathbf{\\text{In the world of S.H.}}|\\!|^{{w}_{s}, g}_{\\langle{}\\langle{}s,t\\rangle{},t\\rangle{}} \\:=\\: $$\\lambda{} p_{\\langle{}s,t\\rangle{}} \\: . \\: \\forall{} w2_{s} \\: . \\: ({CompatibleWithSHStories}({w}_{s}, {w2}_{s}) \\rightarrow{} {p}_{\\langle{}s,t\\rangle{}}({w2}_{s}))$'/$\\langle{}\\langle{}s,t\\rangle{},t\\rangle{}$ and '$|\\!|\\mathbf{\\text{[[a detective] [lives bakerst]]}}|\\!|^{{w}_{s}, g}_{t} \\:=\\: $$\\exists{} x_{e} \\: . \\: ({Detective}({w}_{s}, {x}_{e}) \\wedge{} {LivesAt}({w}_{s}, {x}_{e}, {BakerSt221B}_{e}))$'/$t$ conflict (mode: Function Application)<br />\n",
        "&nbsp;&nbsp;&nbsp;&nbsp;Type mismatch: '$|\\!|\\mathbf{\\text{[[a detective] [lives bakerst]]}}|\\!|^{{w}_{s}, g}_{t} \\:=\\: $$\\exists{} x_{e} \\: . \\: ({Detective}({w}_{s}, {x}_{e}) \\wedge{} {LivesAt}({w}_{s}, {x}_{e}, {BakerSt221B}_{e}))$'/$t$ and '$|\\!|\\mathbf{\\text{In the world of S.H.}}|\\!|^{{w}_{s}, g}_{\\langle{}\\langle{}s,t\\rangle{},t\\rangle{}} \\:=\\: $$\\lambda{} p_{\\langle{}s,t\\rangle{}} \\: . \\: \\forall{} w2_{s} \\: . \\: ({CompatibleWithSHStories}({w}_{s}, {w2}_{s}) \\rightarrow{} {p}_{\\langle{}s,t\\rangle{}}({w2}_{s}))$'/$\\langle{}\\langle{}s,t\\rangle{},t\\rangle{}$ conflict (mode: Function Application)<br />\n",
        "&nbsp;&nbsp;&nbsp;&nbsp;Type mismatch: '$|\\!|\\mathbf{\\text{In the world of S.H.}}|\\!|^{{w}_{s}, g}_{\\langle{}\\langle{}s,t\\rangle{},t\\rangle{}} \\:=\\: $$\\lambda{} p_{\\langle{}s,t\\rangle{}} \\: . \\: \\forall{} w2_{s} \\: . \\: ({CompatibleWithSHStories}({w}_{s}, {w2}_{s}) \\rightarrow{} {p}_{\\langle{}s,t\\rangle{}}({w2}_{s}))$'/$\\langle{}\\langle{}s,t\\rangle{},t\\rangle{}$ and '$|\\!|\\mathbf{\\text{[[a detective] [lives bakerst]]}}|\\!|^{{w}_{s}, g}_{t} \\:=\\: $$\\exists{} x_{e} \\: . \\: ({Detective}({w}_{s}, {x}_{e}) \\wedge{} {LivesAt}({w}_{s}, {x}_{e}, {BakerSt221B}_{e}))$'/$t$ conflict (mode: Predicate Modification)<br />\n",
        "&nbsp;&nbsp;&nbsp;&nbsp;Type mismatch: '$|\\!|\\mathbf{\\text{In the world of S.H.}}|\\!|^{{w}_{s}, g}_{\\langle{}\\langle{}s,t\\rangle{},t\\rangle{}} \\:=\\: $$\\lambda{} p_{\\langle{}s,t\\rangle{}} \\: . \\: \\forall{} w2_{s} \\: . \\: ({CompatibleWithSHStories}({w}_{s}, {w2}_{s}) \\rightarrow{} {p}_{\\langle{}s,t\\rangle{}}({w2}_{s}))$'/$\\langle{}\\langle{}s,t\\rangle{},t\\rangle{}$ and '$|\\!|\\mathbf{\\text{[[a detective] [lives bakerst]]}}|\\!|^{{w}_{s}, g}_{t} \\:=\\: $$\\exists{} x_{e} \\: . \\: ({Detective}({w}_{s}, {x}_{e}) \\wedge{} {LivesAt}({w}_{s}, {x}_{e}, {BakerSt221B}_{e}))$'/$t$ conflict (mode: Predicate Abstraction)<br />\n",
        "&nbsp;&nbsp;&nbsp;&nbsp;Type mismatch: '$|\\!|\\mathbf{\\text{[[a detective] [lives bakerst]]}}|\\!|^{{w}_{s}, g}_{t} \\:=\\: $$\\exists{} x_{e} \\: . \\: ({Detective}({w}_{s}, {x}_{e}) \\wedge{} {LivesAt}({w}_{s}, {x}_{e}, {BakerSt221B}_{e}))$'/$t$ and '$|\\!|\\mathbf{\\text{In the world of S.H.}}|\\!|^{{w}_{s}, g}_{\\langle{}\\langle{}s,t\\rangle{},t\\rangle{}} \\:=\\: $$\\lambda{} p_{\\langle{}s,t\\rangle{}} \\: . \\: \\forall{} w2_{s} \\: . \\: ({CompatibleWithSHStories}({w}_{s}, {w2}_{s}) \\rightarrow{} {p}_{\\langle{}s,t\\rangle{}}({w2}_{s}))$'/$\\langle{}\\langle{}s,t\\rangle{},t\\rangle{}$ conflict (mode: Predicate Abstraction)<br />\n"
       ],
       "metadata": {},
       "output_type": "pyout",
       "prompt_number": 48,
       "text": [
        "[]"
       ]
      }
     ],
     "prompt_number": 48
    },
    {
     "cell_type": "code",
     "collapsed": false,
     "input": [
      "result = itw * (simple.compose())\n",
      "result.reduce_all()\n",
      "result"
     ],
     "language": "python",
     "metadata": {},
     "outputs": [
      {
       "latex": [
        "1 composition path.  Result:\n",
        "<br />&nbsp;&nbsp;&nbsp;&nbsp;$|\\!|\\mathbf{\\text{[In the world of S.H. IFA([[a detective] [lives bakerst]])]}}|\\!|^{{w}_{s}, g}_{t} \\:=\\: $$\\forall{} w2_{s} \\: . \\: ({CompatibleWithSHStories}({w}_{s}, {w2}_{s}) \\rightarrow{} \\exists{} x_{e} \\: . \\: ({Detective}({w2}_{s}, {x}_{e}) \\wedge{} {LivesAt}({w2}_{s}, {x}_{e}, {BakerSt221B}_{e})))$"
       ],
       "metadata": {},
       "output_type": "pyout",
       "prompt_number": 49,
       "text": [
        "[BinaryComposite((\u2200 w2). (CompatibleWithSHStories(w, w2) >> [(\u03bb w). (\u2203 x). (Detective(w, x) & LivesAt(w, x, BakerSt221B))](w2)), [||In the world of S.H.||[w, type s, g] = (\u03bb p). (\u2200 w2). (CompatibleWithSHStories(w, w2) >> p(w2)), UnaryComposite((\u03bb w). (\u2203 x). (Detective(w, x) & LivesAt(w, x, BakerSt221B)), [BinaryComposite((\u2203 x). ([(\u03bb x). Detective(w, x)](x) & [(\u03bb x). LivesAt(w, x, BakerSt221B)](x)), [BinaryComposite((\u03bb g). (\u2203 x). ([(\u03bb x). Detective(w, x)](x) & g(x)), [||a||[w, type s, g] = (\u03bb f). (\u03bb g). (\u2203 x). (f(x) & g(x)), ||detective||[w, type s, g] = (\u03bb x). Detective(w, x)]), BinaryComposite((\u03bb x). LivesAt(w, x, BakerSt221B), [||lives||[w, type s, g] = (\u03bb y). (\u03bb x). LivesAt(w, x, y), ||bakerst||[w, type s, g] = BakerSt221B])])])])]"
       ]
      }
     ],
     "prompt_number": 49
    },
    {
     "cell_type": "code",
     "collapsed": false,
     "input": [
      "result.results[0].latex_step_tree(derivations=True)"
     ],
     "language": "python",
     "metadata": {},
     "outputs": [
      {
       "latex": [
        "<table><tr><td style=\"vertical-align:bottom;padding:0px 10px\" align=\"center\"><table><tr><td style=\"vertical-align:bottom\"><table align=\"center\"><tr><td align=\"center\">$|\\!|\\mathbf{\\text{In the world of S.H.}}|\\!|^{{w}_{s}, g}_{\\langle{}\\langle{}s,t\\rangle{},t\\rangle{}}$</td></tr><tr><td align=\"center\">$\\lambda{} p_{\\langle{}s,t\\rangle{}} \\: . \\: \\forall{} w2_{s} \\: . \\: ({CompatibleWithSHStories}({w}_{s}, {w2}_{s}) \\rightarrow{} {p}_{\\langle{}s,t\\rangle{}}({w2}_{s}))$</td></tr></table>\n",
        "</td><td style=\"vertical-align:bottom;padding-bottom:5px\">&nbsp;&nbsp;&nbsp;$\\circ$&nbsp;&nbsp;&nbsp;</td><td style=\"vertical-align:bottom\"><table><tr><td style=\"vertical-align:bottom;padding:0px 10px\" align=\"center\"><table><tr><td style=\"vertical-align:bottom\"><table><tr><td style=\"vertical-align:bottom;padding:0px 10px\" align=\"center\"><table><tr><td style=\"vertical-align:bottom\"><table><tr><td style=\"vertical-align:bottom;padding:0px 10px\" align=\"center\"><table><tr><td style=\"vertical-align:bottom\"><table align=\"center\"><tr><td align=\"center\">$|\\!|\\mathbf{\\text{a}}|\\!|^{{w}_{s}, g}_{\\langle{}\\langle{}e,t\\rangle{},\\langle{}\\langle{}e,t\\rangle{},t\\rangle{}\\rangle{}}$</td></tr><tr><td align=\"center\">$\\lambda{} f_{\\langle{}e,t\\rangle{}} \\: . \\: \\lambda{} g_{\\langle{}e,t\\rangle{}} \\: . \\: \\exists{} x_{e} \\: . \\: ({f}_{\\langle{}e,t\\rangle{}}({x}_{e}) \\wedge{} {g}_{\\langle{}e,t\\rangle{}}({x}_{e}))$</td></tr></table>\n",
        "</td><td style=\"vertical-align:bottom;padding-bottom:5px\">&nbsp;&nbsp;&nbsp;$\\circ$&nbsp;&nbsp;&nbsp;</td><td style=\"vertical-align:bottom\"><table align=\"center\"><tr><td align=\"center\">$|\\!|\\mathbf{\\text{detective}}|\\!|^{{w}_{s}, g}_{\\langle{}e,t\\rangle{}}$</td></tr><tr><td align=\"center\">$\\lambda{} x_{e} \\: . \\: {Detective}({w}_{s}, {x}_{e})$</td></tr></table>\n",
        "</td></tr></table></td><td style=\"vertical-align:bottom;padding-bottom:5px;padding-left:10px\"><b>[FA]</b></td></tr><tr style=\"border-top: 1px solid #848482\"><td align=\"center\"><table style=\"margin-top:10px\"><tr><td style=\"vertical-align:bottom\" align=\"center\">$|\\!|\\mathbf{\\text{[a detective]}}|\\!|^{{w}_{s}, g}_{\\langle{}\\langle{}e,t\\rangle{},t\\rangle{}}$</td></tr><tr><td style=\"vertical-align:bottom\" align=\"center\"><table><tr><td style=\"padding-right:5px\"> $=$ </td><td style=\"align:center\">$[\\lambda{} f_{\\langle{}e,t\\rangle{}} \\: . \\: \\lambda{} g_{\\langle{}e,t\\rangle{}} \\: . \\: \\exists{} x_{e} \\: . \\: ({f}_{\\langle{}e,t\\rangle{}}({x}_{e}) \\wedge{} {g}_{\\langle{}e,t\\rangle{}}({x}_{e}))](\\lambda{} x_{e} \\: . \\: {Detective}({w}_{s}, {x}_{e}))$</td></tr><tr><td style=\"padding-right:5px\"> $=$ </td><td style=\"align:center\">$\\lambda{} g_{\\langle{}e,t\\rangle{}} \\: . \\: \\exists{} x_{e} \\: . \\: ([\\lambda{} x_{e} \\: . \\: {Detective}({w}_{s}, {x}_{e})]({x}_{e}) \\wedge{} {g}_{\\langle{}e,t\\rangle{}}({x}_{e}))$</td></tr></table></td></tr></table>\n",
        "</td><td></td></tr></table>\n",
        "</td><td style=\"vertical-align:bottom;padding-bottom:5px\">&nbsp;&nbsp;&nbsp;$\\circ$&nbsp;&nbsp;&nbsp;</td><td style=\"vertical-align:bottom\"><table><tr><td style=\"vertical-align:bottom;padding:0px 10px\" align=\"center\"><table><tr><td style=\"vertical-align:bottom\"><table align=\"center\"><tr><td align=\"center\">$|\\!|\\mathbf{\\text{lives}}|\\!|^{{w}_{s}, g}_{\\langle{}e,\\langle{}e,t\\rangle{}\\rangle{}}$</td></tr><tr><td align=\"center\">$\\lambda{} y_{e} \\: . \\: \\lambda{} x_{e} \\: . \\: {LivesAt}({w}_{s}, {x}_{e}, {y}_{e})$</td></tr></table>\n",
        "</td><td style=\"vertical-align:bottom;padding-bottom:5px\">&nbsp;&nbsp;&nbsp;$\\circ$&nbsp;&nbsp;&nbsp;</td><td style=\"vertical-align:bottom\"><table align=\"center\"><tr><td align=\"center\">$|\\!|\\mathbf{\\text{bakerst}}|\\!|^{{w}_{s}, g}_{e}$</td></tr><tr><td align=\"center\">${BakerSt221B}_{e}$</td></tr></table>\n",
        "</td></tr></table></td><td style=\"vertical-align:bottom;padding-bottom:5px;padding-left:10px\"><b>[FA]</b></td></tr><tr style=\"border-top: 1px solid #848482\"><td align=\"center\"><table style=\"margin-top:10px\"><tr><td style=\"vertical-align:bottom\" align=\"center\">$|\\!|\\mathbf{\\text{[lives bakerst]}}|\\!|^{{w}_{s}, g}_{\\langle{}e,t\\rangle{}}$</td></tr><tr><td style=\"vertical-align:bottom\" align=\"center\"><table><tr><td style=\"padding-right:5px\"> $=$ </td><td style=\"align:center\">$[\\lambda{} y_{e} \\: . \\: \\lambda{} x_{e} \\: . \\: {LivesAt}({w}_{s}, {x}_{e}, {y}_{e})]({BakerSt221B}_{e})$</td></tr><tr><td style=\"padding-right:5px\"> $=$ </td><td style=\"align:center\">$\\lambda{} x_{e} \\: . \\: {LivesAt}({w}_{s}, {x}_{e}, {BakerSt221B}_{e})$</td></tr></table></td></tr></table>\n",
        "</td><td></td></tr></table>\n",
        "</td></tr></table></td><td style=\"vertical-align:bottom;padding-bottom:5px;padding-left:10px\"><b>[FA]</b></td></tr><tr style=\"border-top: 1px solid #848482\"><td align=\"center\"><table style=\"margin-top:10px\"><tr><td style=\"vertical-align:bottom\" align=\"center\">$|\\!|\\mathbf{\\text{[[a detective] [lives bakerst]]}}|\\!|^{{w}_{s}, g}_{t}$</td></tr><tr><td style=\"vertical-align:bottom\" align=\"center\"><table><tr><td style=\"padding-right:5px\"> $=$ </td><td style=\"align:center\">$\\exists{} x_{e} \\: . \\: ([\\lambda{} x_{e} \\: . \\: {Detective}({w}_{s}, {x}_{e})]({x}_{e}) \\wedge{} [\\lambda{} x_{e} \\: . \\: {LivesAt}({w}_{s}, {x}_{e}, {BakerSt221B}_{e})]({x}_{e}))$</td></tr><tr><td style=\"padding-right:5px\"> $=$ </td><td style=\"align:center\">$\\exists{} x_{e} \\: . \\: ({Detective}({w}_{s}, {x}_{e}) \\wedge{} {LivesAt}({w}_{s}, {x}_{e}, {BakerSt221B}_{e}))$</td></tr></table></td></tr></table>\n",
        "</td><td></td></tr></table>\n",
        "</td></tr></table></td><td style=\"vertical-align:bottom;padding-bottom:5px;padding-left:10px\"><b>[IFA]</b></td></tr><tr style=\"border-top: 1px solid #848482\"><td align=\"center\"><table style=\"margin-top:10px\"><tr><td style=\"vertical-align:bottom\" align=\"center\">$|\\!|\\mathbf{\\text{IFA([[a detective] [lives bakerst]])}}|\\!|^{{w}_{s}, g}_{\\langle{}s,t\\rangle{}}$</td></tr><tr><td style=\"vertical-align:bottom\" align=\"center\">$\\lambda{} w_{s} \\: . \\: \\exists{} x_{e} \\: . \\: ({Detective}({w}_{s}, {x}_{e}) \\wedge{} {LivesAt}({w}_{s}, {x}_{e}, {BakerSt221B}_{e}))$</td></tr></table>\n",
        "</td><td></td></tr></table>\n",
        "</td></tr></table></td><td style=\"vertical-align:bottom;padding-bottom:5px;padding-left:10px\"><b>[FA]</b></td></tr><tr style=\"border-top: 1px solid #848482\"><td align=\"center\"><table style=\"margin-top:10px\"><tr><td style=\"vertical-align:bottom\" align=\"center\">$|\\!|\\mathbf{\\text{[In the world of S.H. IFA([[a detective] [lives bakerst]])]}}|\\!|^{{w}_{s}, g}_{t}$</td></tr><tr><td style=\"vertical-align:bottom\" align=\"center\"><table><tr><td style=\"padding-right:5px\"> $=$ </td><td style=\"align:center\">$\\forall{} w2_{s} \\: . \\: ({CompatibleWithSHStories}({w}_{s}, {w2}_{s}) \\rightarrow{} [\\lambda{} w_{s} \\: . \\: \\exists{} x_{e} \\: . \\: ({Detective}({w}_{s}, {x}_{e}) \\wedge{} {LivesAt}({w}_{s}, {x}_{e}, {BakerSt221B}_{e}))]({w2}_{s}))$</td></tr><tr><td style=\"padding-right:5px\"> $=$ </td><td style=\"align:center\">$\\forall{} w2_{s} \\: . \\: ({CompatibleWithSHStories}({w}_{s}, {w2}_{s}) \\rightarrow{} \\exists{} x_{e} \\: . \\: ({Detective}({w2}_{s}, {x}_{e}) \\wedge{} {LivesAt}({w2}_{s}, {x}_{e}, {BakerSt221B}_{e})))$</td></tr></table></td></tr></table>\n",
        "</td><td></td></tr></table>\n"
       ],
       "metadata": {},
       "output_type": "pyout",
       "prompt_number": 51,
       "text": [
        "<table><tr><td style=\"vertical-align:bottom;padding:0px 10px\" align=\"center\"><table><tr><td style=\"vertical-align:bottom\"><table align=\"center\"><tr><td align=\"center\">$|\\!|\\mathbf{\\text{In the world of S.H.}}|\\!|^{{w}_{s}, g}_{\\langle{}\\langle{}s,t\\rangle{},t\\rangle{}}$</td></tr><tr><td align=\"center\">$\\lambda{} p_{\\langle{}s,t\\rangle{}} \\: . \\: \\forall{} w2_{s} \\: . \\: ({CompatibleWithSHStories}({w}_{s}, {w2}_{s}) \\rightarrow{} {p}_{\\langle{}s,t\\rangle{}}({w2}_{s}))$</td></tr></table>\n",
        "</td><td style=\"vertical-align:bottom;padding-bottom:5px\">&nbsp;&nbsp;&nbsp;$\\circ$&nbsp;&nbsp;&nbsp;</td><td style=\"vertical-align:bottom\"><table><tr><td style=\"vertical-align:bottom;padding:0px 10px\" align=\"center\"><table><tr><td style=\"vertical-align:bottom\"><table><tr><td style=\"vertical-align:bottom;padding:0px 10px\" align=\"center\"><table><tr><td style=\"vertical-align:bottom\"><table><tr><td style=\"vertical-align:bottom;padding:0px 10px\" align=\"center\"><table><tr><td style=\"vertical-align:bottom\"><table align=\"center\"><tr><td align=\"center\">$|\\!|\\mathbf{\\text{a}}|\\!|^{{w}_{s}, g}_{\\langle{}\\langle{}e,t\\rangle{},\\langle{}\\langle{}e,t\\rangle{},t\\rangle{}\\rangle{}}$</td></tr><tr><td align=\"center\">$\\lambda{} f_{\\langle{}e,t\\rangle{}} \\: . \\: \\lambda{} g_{\\langle{}e,t\\rangle{}} \\: . \\: \\exists{} x_{e} \\: . \\: ({f}_{\\langle{}e,t\\rangle{}}({x}_{e}) \\wedge{} {g}_{\\langle{}e,t\\rangle{}}({x}_{e}))$</td></tr></table>\n",
        "</td><td style=\"vertical-align:bottom;padding-bottom:5px\">&nbsp;&nbsp;&nbsp;$\\circ$&nbsp;&nbsp;&nbsp;</td><td style=\"vertical-align:bottom\"><table align=\"center\"><tr><td align=\"center\">$|\\!|\\mathbf{\\text{detective}}|\\!|^{{w}_{s}, g}_{\\langle{}e,t\\rangle{}}$</td></tr><tr><td align=\"center\">$\\lambda{} x_{e} \\: . \\: {Detective}({w}_{s}, {x}_{e})$</td></tr></table>\n",
        "</td></tr></table></td><td style=\"vertical-align:bottom;padding-bottom:5px;padding-left:10px\"><b>[FA]</b></td></tr><tr style=\"border-top: 1px solid #848482\"><td align=\"center\"><table style=\"margin-top:10px\"><tr><td style=\"vertical-align:bottom\" align=\"center\">$|\\!|\\mathbf{\\text{[a detective]}}|\\!|^{{w}_{s}, g}_{\\langle{}\\langle{}e,t\\rangle{},t\\rangle{}}$</td></tr><tr><td style=\"vertical-align:bottom\" align=\"center\"><table><tr><td style=\"padding-right:5px\"> $=$ </td><td style=\"align:center\">$[\\lambda{} f_{\\langle{}e,t\\rangle{}} \\: . \\: \\lambda{} g_{\\langle{}e,t\\rangle{}} \\: . \\: \\exists{} x_{e} \\: . \\: ({f}_{\\langle{}e,t\\rangle{}}({x}_{e}) \\wedge{} {g}_{\\langle{}e,t\\rangle{}}({x}_{e}))](\\lambda{} x_{e} \\: . \\: {Detective}({w}_{s}, {x}_{e}))$</td></tr><tr><td style=\"padding-right:5px\"> $=$ </td><td style=\"align:center\">$\\lambda{} g_{\\langle{}e,t\\rangle{}} \\: . \\: \\exists{} x_{e} \\: . \\: ([\\lambda{} x_{e} \\: . \\: {Detective}({w}_{s}, {x}_{e})]({x}_{e}) \\wedge{} {g}_{\\langle{}e,t\\rangle{}}({x}_{e}))$</td></tr></table></td></tr></table>\n",
        "</td><td></td></tr></table>\n",
        "</td><td style=\"vertical-align:bottom;padding-bottom:5px\">&nbsp;&nbsp;&nbsp;$\\circ$&nbsp;&nbsp;&nbsp;</td><td style=\"vertical-align:bottom\"><table><tr><td style=\"vertical-align:bottom;padding:0px 10px\" align=\"center\"><table><tr><td style=\"vertical-align:bottom\"><table align=\"center\"><tr><td align=\"center\">$|\\!|\\mathbf{\\text{lives}}|\\!|^{{w}_{s}, g}_{\\langle{}e,\\langle{}e,t\\rangle{}\\rangle{}}$</td></tr><tr><td align=\"center\">$\\lambda{} y_{e} \\: . \\: \\lambda{} x_{e} \\: . \\: {LivesAt}({w}_{s}, {x}_{e}, {y}_{e})$</td></tr></table>\n",
        "</td><td style=\"vertical-align:bottom;padding-bottom:5px\">&nbsp;&nbsp;&nbsp;$\\circ$&nbsp;&nbsp;&nbsp;</td><td style=\"vertical-align:bottom\"><table align=\"center\"><tr><td align=\"center\">$|\\!|\\mathbf{\\text{bakerst}}|\\!|^{{w}_{s}, g}_{e}$</td></tr><tr><td align=\"center\">${BakerSt221B}_{e}$</td></tr></table>\n",
        "</td></tr></table></td><td style=\"vertical-align:bottom;padding-bottom:5px;padding-left:10px\"><b>[FA]</b></td></tr><tr style=\"border-top: 1px solid #848482\"><td align=\"center\"><table style=\"margin-top:10px\"><tr><td style=\"vertical-align:bottom\" align=\"center\">$|\\!|\\mathbf{\\text{[lives bakerst]}}|\\!|^{{w}_{s}, g}_{\\langle{}e,t\\rangle{}}$</td></tr><tr><td style=\"vertical-align:bottom\" align=\"center\"><table><tr><td style=\"padding-right:5px\"> $=$ </td><td style=\"align:center\">$[\\lambda{} y_{e} \\: . \\: \\lambda{} x_{e} \\: . \\: {LivesAt}({w}_{s}, {x}_{e}, {y}_{e})]({BakerSt221B}_{e})$</td></tr><tr><td style=\"padding-right:5px\"> $=$ </td><td style=\"align:center\">$\\lambda{} x_{e} \\: . \\: {LivesAt}({w}_{s}, {x}_{e}, {BakerSt221B}_{e})$</td></tr></table></td></tr></table>\n",
        "</td><td></td></tr></table>\n",
        "</td></tr></table></td><td style=\"vertical-align:bottom;padding-bottom:5px;padding-left:10px\"><b>[FA]</b></td></tr><tr style=\"border-top: 1px solid #848482\"><td align=\"center\"><table style=\"margin-top:10px\"><tr><td style=\"vertical-align:bottom\" align=\"center\">$|\\!|\\mathbf{\\text{[[a detective] [lives bakerst]]}}|\\!|^{{w}_{s}, g}_{t}$</td></tr><tr><td style=\"vertical-align:bottom\" align=\"center\"><table><tr><td style=\"padding-right:5px\"> $=$ </td><td style=\"align:center\">$\\exists{} x_{e} \\: . \\: ([\\lambda{} x_{e} \\: . \\: {Detective}({w}_{s}, {x}_{e})]({x}_{e}) \\wedge{} [\\lambda{} x_{e} \\: . \\: {LivesAt}({w}_{s}, {x}_{e}, {BakerSt221B}_{e})]({x}_{e}))$</td></tr><tr><td style=\"padding-right:5px\"> $=$ </td><td style=\"align:center\">$\\exists{} x_{e} \\: . \\: ({Detective}({w}_{s}, {x}_{e}) \\wedge{} {LivesAt}({w}_{s}, {x}_{e}, {BakerSt221B}_{e}))$</td></tr></table></td></tr></table>\n",
        "</td><td></td></tr></table>\n",
        "</td></tr></table></td><td style=\"vertical-align:bottom;padding-bottom:5px;padding-left:10px\"><b>[IFA]</b></td></tr><tr style=\"border-top: 1px solid #848482\"><td align=\"center\"><table style=\"margin-top:10px\"><tr><td style=\"vertical-align:bottom\" align=\"center\">$|\\!|\\mathbf{\\text{IFA([[a detective] [lives bakerst]])}}|\\!|^{{w}_{s}, g}_{\\langle{}s,t\\rangle{}}$</td></tr><tr><td style=\"vertical-align:bottom\" align=\"center\">$\\lambda{} w_{s} \\: . \\: \\exists{} x_{e} \\: . \\: ({Detective}({w}_{s}, {x}_{e}) \\wedge{} {LivesAt}({w}_{s}, {x}_{e}, {BakerSt221B}_{e}))$</td></tr></table>\n",
        "</td><td></td></tr></table>\n",
        "</td></tr></table></td><td style=\"vertical-align:bottom;padding-bottom:5px;padding-left:10px\"><b>[FA]</b></td></tr><tr style=\"border-top: 1px solid #848482\"><td align=\"center\"><table style=\"margin-top:10px\"><tr><td style=\"vertical-align:bottom\" align=\"center\">$|\\!|\\mathbf{\\text{[In the world of S.H. IFA([[a detective] [lives bakerst]])]}}|\\!|^{{w}_{s}, g}_{t}$</td></tr><tr><td style=\"vertical-align:bottom\" align=\"center\"><table><tr><td style=\"padding-right:5px\"> $=$ </td><td style=\"align:center\">$\\forall{} w2_{s} \\: . \\: ({CompatibleWithSHStories}({w}_{s}, {w2}_{s}) \\rightarrow{} [\\lambda{} w_{s} \\: . \\: \\exists{} x_{e} \\: . \\: ({Detective}({w}_{s}, {x}_{e}) \\wedge{} {LivesAt}({w}_{s}, {x}_{e}, {BakerSt221B}_{e}))]({w2}_{s}))$</td></tr><tr><td style=\"padding-right:5px\"> $=$ </td><td style=\"align:center\">$\\forall{} w2_{s} \\: . \\: ({CompatibleWithSHStories}({w}_{s}, {w2}_{s}) \\rightarrow{} \\exists{} x_{e} \\: . \\: ({Detective}({w2}_{s}, {x}_{e}) \\wedge{} {LivesAt}({w2}_{s}, {x}_{e}, {BakerSt221B}_{e})))$</td></tr></table></td></tr></table>\n",
        "</td><td></td></tr></table>\n"
       ]
      }
     ],
     "prompt_number": 51
    },
    {
     "cell_type": "code",
     "collapsed": false,
     "input": [],
     "language": "python",
     "metadata": {},
     "outputs": [],
     "prompt_number": 139
    },
    {
     "cell_type": "code",
     "collapsed": false,
     "input": [],
     "language": "python",
     "metadata": {},
     "outputs": [],
     "prompt_number": 139
    },
    {
     "cell_type": "code",
     "collapsed": false,
     "input": [
      "%%lamb \n",
      "dox = Dox_<(e,s,s),t>\n",
      "||believe|| = L p_<s,t> : L x_e : Forall w2_s : dox(x, w, w2) >> p(w2)"
     ],
     "language": "python",
     "metadata": {},
     "outputs": [
      {
       "latex": [
        "${dox}_{\\langle{}(e, s, s),t\\rangle{}}\\:=\\:{Dox}$<br />\n",
        "$|\\!|\\mathbf{\\text{believe}}|\\!|^{{w}_{s}, g}_{\\langle{}\\langle{}s,t\\rangle{},\\langle{}e,t\\rangle{}\\rangle{}} \\:=\\: \\lambda{} p_{\\langle{}s,t\\rangle{}} \\: . \\: \\lambda{} x_{e} \\: . \\: \\forall{} w2_{s} \\: . \\: ({Dox}({x}_{e}, {w}_{s}, {w2}_{s}) \\rightarrow{} {p}_{\\langle{}s,t\\rangle{}}({w2}_{s}))$"
       ],
       "metadata": {},
       "output_type": "pyout",
       "prompt_number": 140,
       "text": [
        "${dox}_{\\langle{}(e, s, s),t\\rangle{}}\\:=\\:{Dox}$<br />\n",
        "$|\\!|\\mathbf{\\text{believe}}|\\!|^{{w}_{s}, g}_{\\langle{}\\langle{}s,t\\rangle{},\\langle{}e,t\\rangle{}\\rangle{}} \\:=\\: \\lambda{} p_{\\langle{}s,t\\rangle{}} \\: . \\: \\lambda{} x_{e} \\: . \\: \\forall{} w2_{s} \\: . \\: ({Dox}({x}_{e}, {w}_{s}, {w2}_{s}) \\rightarrow{} {p}_{\\langle{}s,t\\rangle{}}({w2}_{s}))$"
       ]
      }
     ],
     "prompt_number": 140
    },
    {
     "cell_type": "code",
     "collapsed": false,
     "input": [
      "lang.tp(\"<(e,s,s),t>\")"
     ],
     "language": "python",
     "metadata": {},
     "outputs": [
      {
       "latex": [
        "$\\langle{}(e, s, s),t\\rangle{}$"
       ],
       "metadata": {},
       "output_type": "pyout",
       "prompt_number": 141,
       "text": [
        "<(e,s,s),t>"
       ]
      }
     ],
     "prompt_number": 141
    },
    {
     "cell_type": "code",
     "collapsed": false,
     "input": [
      "lang.te(\"f_<s,{<s,t>}>\")"
     ],
     "language": "python",
     "metadata": {},
     "outputs": [
      {
       "latex": [
        "${f}_{\\langle{}s,\\{\\langle{}s,t\\rangle{}\\}\\rangle{}}$"
       ],
       "metadata": {},
       "output_type": "pyout",
       "prompt_number": 142,
       "text": [
        "f"
       ]
      }
     ],
     "prompt_number": 142
    },
    {
     "cell_type": "code",
     "collapsed": false,
     "input": [
      "%%lamb\n",
      "dox = Dox_<(e,s),<s,t>>\n",
      "||believe|| = L p_<s,t> : L x_e : Forall w2_s : dox(x, w)(w2) >> p(w2)"
     ],
     "language": "python",
     "metadata": {},
     "outputs": [
      {
       "latex": [
        "${dox}_{\\langle{}(e, s),\\langle{}s,t\\rangle{}\\rangle{}}\\:=\\:{Dox}_{\\langle{}(e, s),\\langle{}s,t\\rangle{}\\rangle{}}$<br />\n",
        "$|\\!|\\mathbf{\\text{believe}}|\\!|^{{w}_{s}, g}_{\\langle{}\\langle{}s,t\\rangle{},\\langle{}e,t\\rangle{}\\rangle{}} \\:=\\: \\lambda{} p_{\\langle{}s,t\\rangle{}} \\: . \\: \\lambda{} x_{e} \\: . \\: \\forall{} w2_{s} \\: . \\: ({Dox}_{\\langle{}(e, s),\\langle{}s,t\\rangle{}\\rangle{}}({x}_{e}, {w}_{s})({w2}_{s}) \\rightarrow{} {p}_{\\langle{}s,t\\rangle{}}({w2}_{s}))$"
       ],
       "metadata": {},
       "output_type": "pyout",
       "prompt_number": 143,
       "text": [
        "${dox}_{\\langle{}(e, s),\\langle{}s,t\\rangle{}\\rangle{}}\\:=\\:{Dox}_{\\langle{}(e, s),\\langle{}s,t\\rangle{}\\rangle{}}$<br />\n",
        "$|\\!|\\mathbf{\\text{believe}}|\\!|^{{w}_{s}, g}_{\\langle{}\\langle{}s,t\\rangle{},\\langle{}e,t\\rangle{}\\rangle{}} \\:=\\: \\lambda{} p_{\\langle{}s,t\\rangle{}} \\: . \\: \\lambda{} x_{e} \\: . \\: \\forall{} w2_{s} \\: . \\: ({Dox}_{\\langle{}(e, s),\\langle{}s,t\\rangle{}\\rangle{}}({x}_{e}, {w}_{s})({w2}_{s}) \\rightarrow{} {p}_{\\langle{}s,t\\rangle{}}({w2}_{s}))$"
       ]
      }
     ],
     "prompt_number": 143
    },
    {
     "cell_type": "code",
     "collapsed": false,
     "input": [
      "%%lamb\n",
      "dox = Dox_<(e,s),{<s,t>}>\n",
      "bigcap = L a_{<s,t>} : Set w_s : Forall p_<s,t> : p(w) & (p << a)\n",
      "||believe|| = L p_<s,t> : L x_e : Forall w2_s : w2 << bigcap(dox(x, w_s)) >> p(w2)"
     ],
     "language": "python",
     "metadata": {},
     "outputs": [
      {
       "latex": [
        "${dox}_{\\langle{}(e, s),\\{\\langle{}s,t\\rangle{}\\}\\rangle{}}\\:=\\:{Dox}_{\\langle{}(e, s),\\{\\langle{}s,t\\rangle{}\\}\\rangle{}}$<br />\n",
        "${bigcap}_{\\langle{}\\{\\langle{}s,t\\rangle{}\\},\\{s\\}\\rangle{}}\\:=\\:\\lambda{} a_{\\{\\langle{}s,t\\rangle{}\\}} \\: . \\: \\{w_{s}\\:|\\: \\forall{} p_{\\langle{}s,t\\rangle{}} \\: . \\: ({p}_{\\langle{}s,t\\rangle{}}({w}_{s}) \\wedge{} ({p}_{\\langle{}s,t\\rangle{}} \\in{} {a}_{\\{\\langle{}s,t\\rangle{}\\}}))\\}$<br />\n",
        "$|\\!|\\mathbf{\\text{believe}}|\\!|^{{w}_{s}, g}_{\\langle{}\\langle{}s,t\\rangle{},\\langle{}e,t\\rangle{}\\rangle{}} \\:=\\: \\lambda{} p_{\\langle{}s,t\\rangle{}} \\: . \\: \\lambda{} x_{e} \\: . \\: \\forall{} w2_{s} \\: . \\: (({w2}_{s} \\in{} [\\lambda{} a_{\\{\\langle{}s,t\\rangle{}\\}} \\: . \\: \\{w_{s}\\:|\\: \\forall{} p_{\\langle{}s,t\\rangle{}} \\: . \\: ({p}_{\\langle{}s,t\\rangle{}}({w}_{s}) \\wedge{} ({p}_{\\langle{}s,t\\rangle{}} \\in{} {a}_{\\{\\langle{}s,t\\rangle{}\\}}))\\}]({Dox}_{\\langle{}(e, s),\\{\\langle{}s,t\\rangle{}\\}\\rangle{}}({x}_{e}, {w}_{s}))) \\rightarrow{} {p}_{\\langle{}s,t\\rangle{}}({w2}_{s}))$"
       ],
       "metadata": {},
       "output_type": "pyout",
       "prompt_number": 144,
       "text": [
        "${dox}_{\\langle{}(e, s),\\{\\langle{}s,t\\rangle{}\\}\\rangle{}}\\:=\\:{Dox}_{\\langle{}(e, s),\\{\\langle{}s,t\\rangle{}\\}\\rangle{}}$<br />\n",
        "${bigcap}_{\\langle{}\\{\\langle{}s,t\\rangle{}\\},\\{s\\}\\rangle{}}\\:=\\:\\lambda{} a_{\\{\\langle{}s,t\\rangle{}\\}} \\: . \\: \\{w_{s}\\:|\\: \\forall{} p_{\\langle{}s,t\\rangle{}} \\: . \\: ({p}_{\\langle{}s,t\\rangle{}}({w}_{s}) \\wedge{} ({p}_{\\langle{}s,t\\rangle{}} \\in{} {a}_{\\{\\langle{}s,t\\rangle{}\\}}))\\}$<br />\n",
        "$|\\!|\\mathbf{\\text{believe}}|\\!|^{{w}_{s}, g}_{\\langle{}\\langle{}s,t\\rangle{},\\langle{}e,t\\rangle{}\\rangle{}} \\:=\\: \\lambda{} p_{\\langle{}s,t\\rangle{}} \\: . \\: \\lambda{} x_{e} \\: . \\: \\forall{} w2_{s} \\: . \\: (({w2}_{s} \\in{} [\\lambda{} a_{\\{\\langle{}s,t\\rangle{}\\}} \\: . \\: \\{w_{s}\\:|\\: \\forall{} p_{\\langle{}s,t\\rangle{}} \\: . \\: ({p}_{\\langle{}s,t\\rangle{}}({w}_{s}) \\wedge{} ({p}_{\\langle{}s,t\\rangle{}} \\in{} {a}_{\\{\\langle{}s,t\\rangle{}\\}}))\\}]({Dox}_{\\langle{}(e, s),\\{\\langle{}s,t\\rangle{}\\}\\rangle{}}({x}_{e}, {w}_{s}))) \\rightarrow{} {p}_{\\langle{}s,t\\rangle{}}({w2}_{s}))$"
       ]
      }
     ],
     "prompt_number": 144
    },
    {
     "cell_type": "code",
     "collapsed": false,
     "input": [
      "believe.reduce_all()"
     ],
     "language": "python",
     "metadata": {},
     "outputs": [
      {
       "latex": [
        "$|\\!|\\mathbf{\\text{believe}}|\\!|^{{w}_{s}, g}_{\\langle{}\\langle{}s,t\\rangle{},\\langle{}e,t\\rangle{}\\rangle{}} \\:=\\: $$\\lambda{} p_{\\langle{}s,t\\rangle{}} \\: . \\: \\lambda{} x_{e} \\: . \\: \\forall{} w2_{s} \\: . \\: (({w2}_{s} \\in{} \\{w1_{s}\\:|\\: \\forall{} p_{\\langle{}s,t\\rangle{}} \\: . \\: ({p}_{\\langle{}s,t\\rangle{}}({w1}_{s}) \\wedge{} ({p}_{\\langle{}s,t\\rangle{}} \\in{} {Dox}_{\\langle{}(e, s),\\{\\langle{}s,t\\rangle{}\\}\\rangle{}}({x}_{e}, {w}_{s})))\\}) \\rightarrow{} {p}_{\\langle{}s,t\\rangle{}}({w2}_{s}))$"
       ],
       "metadata": {},
       "output_type": "pyout",
       "prompt_number": 146,
       "text": [
        "||believe||[w, type s, g] = (\u03bb p). (\u03bb x). (\u2200 w2). ((w2 \u2208 {w1 | (\u2200 p). (p(w1) & (p \u2208 Dox(x, w)))}) >> p(w2))"
       ]
      }
     ],
     "prompt_number": 146
    },
    {
     "cell_type": "code",
     "collapsed": false,
     "input": [
      "bigcap"
     ],
     "language": "python",
     "metadata": {},
     "outputs": [
      {
       "latex": [
        "$\\lambda{} a_{\\{\\langle{}s,t\\rangle{}\\}} \\: . \\: \\{w_{s}\\:|\\: \\forall{} p_{\\langle{}s,t\\rangle{}} \\: . \\: ({p}_{\\langle{}s,t\\rangle{}}({w}_{s}) \\wedge{} ({p}_{\\langle{}s,t\\rangle{}} \\in{} {a}_{\\{\\langle{}s,t\\rangle{}\\}}))\\}$"
       ],
       "metadata": {},
       "output_type": "pyout",
       "prompt_number": 147,
       "text": [
        "(\u03bb a). {w | (\u2200 p). (p(w) & (p \u2208 a))}"
       ]
      }
     ],
     "prompt_number": 147
    },
    {
     "cell_type": "code",
     "collapsed": false,
     "input": [],
     "language": "python",
     "metadata": {},
     "outputs": []
    }
   ],
   "metadata": {}
  }
 ]
}