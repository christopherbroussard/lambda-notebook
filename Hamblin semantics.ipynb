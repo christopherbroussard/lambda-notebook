{
 "metadata": {
  "name": ""
 },
 "nbformat": 3,
 "nbformat_minor": 0,
 "worksheets": [
  {
   "cells": [
    {
     "cell_type": "code",
     "collapsed": false,
     "input": [
      "import lamb\n",
      "from lamb import *\n",
      "from lamb.tree_mini import Tree\n",
      "from lamb.utils import *\n",
      "import imp\n",
      "\n",
      "def reload_all():\n",
      "    imp.reload(lamb.utils)\n",
      "    imp.reload(lamb.types)\n",
      "    imp.reload(lamb.meta)\n",
      "    imp.reload(lamb.lang)\n",
      "    imp.reload(lamb.parsing)\n",
      "    imp.reload(lamb.magics)\n",
      "reload_all()\n",
      "lamb.meta.constants_use_custom(False)"
     ],
     "language": "python",
     "metadata": {},
     "outputs": [
      {
       "output_type": "stream",
       "stream": "stdout",
       "text": [
        "warning: coerced guessed type t for 'Cat' into <e,t>, to match argument 'x'\n",
        "warning: coerced guessed type t for 'Gray' into <e,t>, to match argument 'x'\n",
        "warning: coerced guessed type t for 'In' into <e,t>, to match argument 'y'\n",
        "warning: coerced guessed type t for 'In(y)' into <e,t>, to match argument 'x'\n",
        "warning: coerced guessed type t for 'Cat' into <e,t>, to match argument 'x'\n",
        "warning: coerced guessed type t for 'Gray' into <e,t>, to match argument 'x'\n",
        "warning: coerced guessed type t for 'In' into <e,t>, to match argument 'y'\n",
        "warning: coerced guessed type t for 'In(y)' into <e,t>, to match argument 'x'\n"
       ]
      }
     ],
     "prompt_number": 1
    },
    {
     "cell_type": "code",
     "collapsed": false,
     "input": [
      "def hamblinize_item(item):\n",
      "    \"\"\"Hamblinize a single lexical item.  Do so by building a singleton set out of it.\"\"\"\n",
      "    if meta.ts_compatible(item.type, meta.tp(\"{?}\")): #isinstance(item.type, types.SetType):\n",
      "        # assume this item is already hamblinized\n",
      "        return item\n",
      "    elif meta.ts_compatible(item.type, meta.tp(\"<{?},?>\")): #item.type.functional() and isinstance(item.type.left, types.SetType):\n",
      "        # heuristic: if function whose domain is a set of some sort, assume that this is a Hamblin operator.\n",
      "        # may miss cases.  Better to just run this on content items...\n",
      "        return item\n",
      "    new_i = item.copy()\n",
      "    # wrap the content of the lexical item as a singleton set.\n",
      "    new_i.content = meta.SingletonSet(item.content)\n",
      "    return new_i\n",
      "\n",
      "# in the following two magics, variables that are not lexical items are ignored.  To change this, modify the else case above.\n",
      "def h_magic(self, accum):\n",
      "    \"\"\"Hamblinize the accumulated definitions from a single cell, as a post-processing step\"\"\"\n",
      "    new_accum = magics.process_items(hamblinize_item, accum)[0]\n",
      "    for k in new_accum.keys():\n",
      "        self.env[k] = new_accum[k]\n",
      "    return new_accum\n",
      "\n",
      "def h_magic_env(self):\n",
      "    \"\"\"Hamblinize the entire env\"\"\"\n",
      "    self.env = magics.process_items(hamblinize_item, self.env)[0] # hamblinize every variable\n",
      "    self.shell.push(self.env) # export the new variables to the interactive shell\n",
      "    return parsing.latex_output(self.env, self.env)\n",
      "\n",
      "magics.LambMagics.specials_post[\"hamblinize\"] = h_magic\n",
      "magics.LambMagics.specials[\"hamblinize_all\"] = h_magic_env"
     ],
     "language": "python",
     "metadata": {},
     "outputs": [],
     "prompt_number": 2
    },
    {
     "cell_type": "code",
     "collapsed": false,
     "input": [
      "%%lamb hamblinize\n",
      "||cat|| = L x_e : Cat(x)\n",
      "||gray|| = L x_e : Gray(x)\n",
      "||john|| = J_e\n",
      "x = L y_e : y"
     ],
     "language": "python",
     "metadata": {},
     "outputs": [
      {
       "output_type": "stream",
       "stream": "stdout",
       "text": [
        "warning: coerced guessed type t for 'Cat' into <e,t>, to match argument 'x'\n",
        "warning: coerced guessed type t for 'Gray' into <e,t>, to match argument 'x'\n"
       ]
      },
      {
       "latex": [
        "$|\\!|\\mathbf{\\text{cat}}|\\!|^{}_{\\{\\langle{}e,t\\rangle{}\\}} \\:=\\: \\{\\lambda{} x_{e} \\: . \\: {Cat}({x}_{e})\\}$<br />\n",
        "$|\\!|\\mathbf{\\text{gray}}|\\!|^{}_{\\{\\langle{}e,t\\rangle{}\\}} \\:=\\: \\{\\lambda{} x_{e} \\: . \\: {Gray}({x}_{e})\\}$<br />\n",
        "$|\\!|\\mathbf{\\text{john}}|\\!|^{}_{\\{e\\}} \\:=\\: \\{{J}_{e}\\}$<br />\n",
        "${x}_{\\langle{}e,e\\rangle{}}\\:=\\:\\lambda{} y_{e} \\: . \\: {y}_{e}$"
       ],
       "metadata": {},
       "output_type": "pyout",
       "prompt_number": 3,
       "text": [
        "$|\\!|\\mathbf{\\text{cat}}|\\!|^{}_{\\{\\langle{}e,t\\rangle{}\\}} \\:=\\: \\{\\lambda{} x_{e} \\: . \\: {Cat}({x}_{e})\\}$<br />\n",
        "$|\\!|\\mathbf{\\text{gray}}|\\!|^{}_{\\{\\langle{}e,t\\rangle{}\\}} \\:=\\: \\{\\lambda{} x_{e} \\: . \\: {Gray}({x}_{e})\\}$<br />\n",
        "$|\\!|\\mathbf{\\text{john}}|\\!|^{}_{\\{e\\}} \\:=\\: \\{{J}_{e}\\}$<br />\n",
        "${x}_{\\langle{}e,e\\rangle{}}\\:=\\:\\lambda{} y_{e} \\: . \\: {y}_{e}$"
       ]
      }
     ],
     "prompt_number": 3
    },
    {
     "cell_type": "code",
     "collapsed": false,
     "input": [
      "%%lamb\n",
      "||test|| = L x_e : Test(x)"
     ],
     "language": "python",
     "metadata": {},
     "outputs": [
      {
       "output_type": "stream",
       "stream": "stdout",
       "text": [
        "warning: coerced guessed type t for 'Test' into <e,t>, to match argument 'x'\n"
       ]
      },
      {
       "latex": [
        "$|\\!|\\mathbf{\\text{test}}|\\!|^{}_{\\langle{}e,t\\rangle{}} \\:=\\: \\lambda{} x_{e} \\: . \\: {Test}({x}_{e})$"
       ],
       "metadata": {},
       "output_type": "pyout",
       "prompt_number": 4,
       "text": [
        "$|\\!|\\mathbf{\\text{test}}|\\!|^{}_{\\langle{}e,t\\rangle{}} \\:=\\: \\lambda{} x_{e} \\: . \\: {Test}({x}_{e})$"
       ]
      }
     ],
     "prompt_number": 4
    },
    {
     "cell_type": "code",
     "collapsed": false,
     "input": [
      "%lambctl hamblinize_all"
     ],
     "language": "python",
     "metadata": {},
     "outputs": [
      {
       "latex": [
        "$|\\!|\\mathbf{\\text{cat}}|\\!|^{}_{\\{\\langle{}e,t\\rangle{}\\}} \\:=\\: \\{\\lambda{} x_{e} \\: . \\: {Cat}({x}_{e})\\}$<br />\n",
        "$|\\!|\\mathbf{\\text{gray}}|\\!|^{}_{\\{\\langle{}e,t\\rangle{}\\}} \\:=\\: \\{\\lambda{} x_{e} \\: . \\: {Gray}({x}_{e})\\}$<br />\n",
        "$|\\!|\\mathbf{\\text{john}}|\\!|^{}_{\\{e\\}} \\:=\\: \\{{J}_{e}\\}$<br />\n",
        "${x}_{\\langle{}e,e\\rangle{}}\\:=\\:\\lambda{} y_{e} \\: . \\: {y}_{e}$<br />\n",
        "$|\\!|\\mathbf{\\text{test}}|\\!|^{}_{\\{\\langle{}e,t\\rangle{}\\}} \\:=\\: \\{\\lambda{} x_{e} \\: . \\: {Test}({x}_{e})\\}$"
       ],
       "metadata": {},
       "output_type": "pyout",
       "prompt_number": 5,
       "text": [
        "$|\\!|\\mathbf{\\text{cat}}|\\!|^{}_{\\{\\langle{}e,t\\rangle{}\\}} \\:=\\: \\{\\lambda{} x_{e} \\: . \\: {Cat}({x}_{e})\\}$<br />\n",
        "$|\\!|\\mathbf{\\text{gray}}|\\!|^{}_{\\{\\langle{}e,t\\rangle{}\\}} \\:=\\: \\{\\lambda{} x_{e} \\: . \\: {Gray}({x}_{e})\\}$<br />\n",
        "$|\\!|\\mathbf{\\text{john}}|\\!|^{}_{\\{e\\}} \\:=\\: \\{{J}_{e}\\}$<br />\n",
        "${x}_{\\langle{}e,e\\rangle{}}\\:=\\:\\lambda{} y_{e} \\: . \\: {y}_{e}$<br />\n",
        "$|\\!|\\mathbf{\\text{test}}|\\!|^{}_{\\{\\langle{}e,t\\rangle{}\\}} \\:=\\: \\{\\lambda{} x_{e} \\: . \\: {Test}({x}_{e})\\}$"
       ]
      }
     ],
     "prompt_number": 5
    },
    {
     "cell_type": "code",
     "collapsed": false,
     "input": [
      "test"
     ],
     "language": "python",
     "metadata": {},
     "outputs": [
      {
       "latex": [
        "$|\\!|\\mathbf{\\text{test}}|\\!|^{}_{\\{\\langle{}e,t\\rangle{}\\}} \\:=\\: $$\\{\\lambda{} x_{e} \\: . \\: {Test}({x}_{e})\\}$"
       ],
       "metadata": {},
       "output_type": "pyout",
       "prompt_number": 6,
       "text": [
        "||test|| = {(\u03bb x). Test(x)}"
       ]
      }
     ],
     "prompt_number": 6
    },
    {
     "cell_type": "code",
     "collapsed": false,
     "input": [],
     "language": "python",
     "metadata": {},
     "outputs": [
      {
       "latex": [
        "$\\lambda{} y_{e} \\: . \\: {y}_{e}$"
       ],
       "metadata": {},
       "output_type": "pyout",
       "prompt_number": 124,
       "text": [
        "(\u03bb y). y"
       ]
      }
     ],
     "prompt_number": 124
    },
    {
     "cell_type": "code",
     "collapsed": false,
     "input": [],
     "language": "python",
     "metadata": {},
     "outputs": [
      {
       "metadata": {},
       "output_type": "pyout",
       "prompt_number": 156,
       "text": [
        "<IPython.kernel.zmq.zmqshell.ZMQInteractiveShell at 0x10205f8d0>"
       ]
      }
     ],
     "prompt_number": 156
    },
    {
     "cell_type": "code",
     "collapsed": false,
     "input": [],
     "language": "python",
     "metadata": {},
     "outputs": [],
     "prompt_number": 155
    },
    {
     "cell_type": "code",
     "collapsed": false,
     "input": [],
     "language": "python",
     "metadata": {},
     "outputs": []
    }
   ],
   "metadata": {}
  }
 ]
}