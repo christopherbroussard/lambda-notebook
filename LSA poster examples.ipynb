{
 "metadata": {
  "name": ""
 },
 "nbformat": 3,
 "nbformat_minor": 0,
 "worksheets": [
  {
   "cells": [
    {
     "cell_type": "code",
     "collapsed": false,
     "input": [
      "import lamb\n",
      "from lamb import *\n",
      "from lamb.tree_mini import Tree\n",
      "from lamb.utils import *\n",
      "import imp\n",
      "\n",
      "def reload_all():\n",
      "    imp.reload(lamb.utils)\n",
      "    imp.reload(lamb.types)\n",
      "    imp.reload(lamb.meta)\n",
      "    imp.reload(lamb.lang)"
     ],
     "language": "python",
     "metadata": {},
     "outputs": [
      {
       "output_type": "stream",
       "stream": "stdout",
       "text": [
        "warning: coerced guessed type t for 'Cat' into <e,t>, to match argument 'x'\n",
        "warning: coerced guessed type t for 'Gray' into <e,t>, to match argument 'x'\n",
        "warning: coerced guessed type t for 'In' into <e,t>, to match argument 'y'\n",
        "warning: coerced guessed type t for 'In(y)' into <e,t>, to match argument 'x'\n"
       ]
      }
     ],
     "prompt_number": 2
    },
    {
     "cell_type": "code",
     "collapsed": false,
     "input": [
      "reload_all()\n",
      "#lang.set_system(lang.hk3_system)"
     ],
     "language": "python",
     "metadata": {},
     "outputs": [
      {
       "output_type": "stream",
       "stream": "stdout",
       "text": [
        "warning: coerced guessed type t for 'Cat' into <e,t>, to match argument 'x'\n",
        "warning: coerced guessed type t for 'Gray' into <e,t>, to match argument 'x'\n",
        "warning: coerced guessed type t for 'In' into <e,t>, to match argument 'y'\n",
        "warning: coerced guessed type t for 'In(y)' into <e,t>, to match argument 'x'\n"
       ]
      }
     ],
     "prompt_number": 242
    },
    {
     "cell_type": "code",
     "collapsed": false,
     "input": [
      "%%lamb reset\n",
      "||gray|| = lambda x_e : Gray(x)\n",
      "||cat|| = lambda x_e : Cat(x)\n",
      "||joanna|| = Joanna_e\n",
      "||isV|| = lambda f_<e,t> : f # 'is' is a python reserved word\n",
      "||a|| = lambda f_<e,t> : f"
     ],
     "language": "python",
     "metadata": {},
     "outputs": [
      {
       "output_type": "stream",
       "stream": "stdout",
       "text": [
        "warning: coerced guessed type t for 'Gray' into <e,t>, to match argument 'x'\n",
        "warning: coerced guessed type t for 'Cat' into <e,t>, to match argument 'x'\n"
       ]
      },
      {
       "latex": [
        "$|\\!|\\mathbf{\\text{gray}}|\\!|^{}_{\\langle{}e,t\\rangle{}} \\:=\\: \\lambda{} x_{e} \\: . \\: {Gray}({x}_{e})$<br />\n",
        "$|\\!|\\mathbf{\\text{cat}}|\\!|^{}_{\\langle{}e,t\\rangle{}} \\:=\\: \\lambda{} x_{e} \\: . \\: {Cat}({x}_{e})$<br />\n",
        "$|\\!|\\mathbf{\\text{joanna}}|\\!|^{}_{e} \\:=\\: {Joanna}_{e}$<br />\n",
        "$|\\!|\\mathbf{\\text{isV}}|\\!|^{}_{\\langle{}\\langle{}e,t\\rangle{},\\langle{}e,t\\rangle{}\\rangle{}} \\:=\\: \\lambda{} f_{\\langle{}e,t\\rangle{}} \\: . \\: {f}_{\\langle{}e,t\\rangle{}}$<br />\n",
        "$|\\!|\\mathbf{\\text{a}}|\\!|^{}_{\\langle{}\\langle{}e,t\\rangle{},\\langle{}e,t\\rangle{}\\rangle{}} \\:=\\: \\lambda{} f_{\\langle{}e,t\\rangle{}} \\: . \\: {f}_{\\langle{}e,t\\rangle{}}$"
       ],
       "metadata": {},
       "output_type": "pyout",
       "prompt_number": 243,
       "text": [
        "$|\\!|\\mathbf{\\text{gray}}|\\!|^{}_{\\langle{}e,t\\rangle{}} \\:=\\: \\lambda{} x_{e} \\: . \\: {Gray}({x}_{e})$<br />\n",
        "$|\\!|\\mathbf{\\text{cat}}|\\!|^{}_{\\langle{}e,t\\rangle{}} \\:=\\: \\lambda{} x_{e} \\: . \\: {Cat}({x}_{e})$<br />\n",
        "$|\\!|\\mathbf{\\text{joanna}}|\\!|^{}_{e} \\:=\\: {Joanna}_{e}$<br />\n",
        "$|\\!|\\mathbf{\\text{isV}}|\\!|^{}_{\\langle{}\\langle{}e,t\\rangle{},\\langle{}e,t\\rangle{}\\rangle{}} \\:=\\: \\lambda{} f_{\\langle{}e,t\\rangle{}} \\: . \\: {f}_{\\langle{}e,t\\rangle{}}$<br />\n",
        "$|\\!|\\mathbf{\\text{a}}|\\!|^{}_{\\langle{}\\langle{}e,t\\rangle{},\\langle{}e,t\\rangle{}\\rangle{}} \\:=\\: \\lambda{} f_{\\langle{}e,t\\rangle{}} \\: . \\: {f}_{\\langle{}e,t\\rangle{}}$"
       ]
      }
     ],
     "prompt_number": 243
    },
    {
     "cell_type": "code",
     "collapsed": false,
     "input": [],
     "language": "python",
     "metadata": {},
     "outputs": []
    },
    {
     "cell_type": "markdown",
     "metadata": {},
     "source": [
      "Note that the system does not currently know that PM is symmetric."
     ]
    },
    {
     "cell_type": "code",
     "collapsed": false,
     "input": [
      "r = gray * cat\n",
      "r"
     ],
     "language": "python",
     "metadata": {},
     "outputs": [
      {
       "latex": [
        "2 composition paths. Results:\n",
        "<br />&nbsp;&nbsp;&nbsp;&nbsp;$|\\!|\\mathbf{\\text{[gray cat]}}|\\!|^{}_{\\langle{}e,t\\rangle{}} \\:=\\: $$\\lambda{} x_{e} \\: . \\: ({Gray}({x}_{e}) \\wedge{} {Cat}({x}_{e}))$\n",
        "<br />&nbsp;&nbsp;&nbsp;&nbsp;$|\\!|\\mathbf{\\text{[cat gray]}}|\\!|^{}_{\\langle{}e,t\\rangle{}} \\:=\\: $$\\lambda{} x_{e} \\: . \\: ({Cat}({x}_{e}) \\wedge{} {Gray}({x}_{e}))$"
       ],
       "metadata": {},
       "output_type": "pyout",
       "prompt_number": 244,
       "text": [
        "CompositionResult(results=[||[gray cat]|| = (\u03bb x). (Gray(x) & Cat(x)), ||[cat gray]|| = (\u03bb x). (Cat(x) & Gray(x))], failures=[||[gray cat]|| = Type mismatch: '||gray|| = (\u03bb x). Gray(x)'/<e,t> and '||cat|| = (\u03bb x). Cat(x)'/<e,t> conflict (mode: Function Application), ||[cat gray]|| = Type mismatch: '||cat|| = (\u03bb x). Cat(x)'/<e,t> and '||gray|| = (\u03bb x). Gray(x)'/<e,t> conflict (mode: Function Application), ||[gray cat]|| = Type mismatch: '||gray|| = (\u03bb x). Gray(x)'/<e,t> and '||cat|| = (\u03bb x). Cat(x)'/<e,t> conflict (mode: Predicate Abstraction), ||[cat gray]|| = Type mismatch: '||cat|| = (\u03bb x). Cat(x)'/<e,t> and '||gray|| = (\u03bb x). Gray(x)'/<e,t> conflict (mode: Predicate Abstraction)])"
       ]
      }
     ],
     "prompt_number": 244
    },
    {
     "cell_type": "code",
     "collapsed": false,
     "input": [
      "r.latex_step_tree()"
     ],
     "language": "python",
     "metadata": {},
     "outputs": [
      {
       "latex": [
        "2 composition paths:<br />\n",
        "Path 1:<br />\n",
        "<table><tr><td style=\"vertical-align:bottom;padding:0px 10px\" align=\"center\"><table><tr><td style=\"vertical-align:bottom\"><table align=\"center\"><tr><td align=\"center\">$|\\!|\\mathbf{\\text{gray}}|\\!|^{}_{\\langle{}e,t\\rangle{}}$</td></tr><tr><td align=\"center\">$\\lambda{} x_{e} \\: . \\: {Gray}({x}_{e})$</td></tr></table>\n",
        "</td><td style=\"vertical-align:bottom;padding-bottom:5px\">&nbsp;&nbsp;&nbsp;$\\circ$&nbsp;&nbsp;&nbsp;</td><td style=\"vertical-align:bottom\"><table align=\"center\"><tr><td align=\"center\">$|\\!|\\mathbf{\\text{cat}}|\\!|^{}_{\\langle{}e,t\\rangle{}}$</td></tr><tr><td align=\"center\">$\\lambda{} x_{e} \\: . \\: {Cat}({x}_{e})$</td></tr></table>\n",
        "</td></tr></table></td><td style=\"vertical-align:bottom;padding-bottom:5px;padding-left:10px\"><b>[PM]</b></td></tr><tr style=\"border-top: 1px solid #848482\"><td align=\"center\"><table style=\"margin-top:10px\"><tr><td style=\"vertical-align:bottom\" align=\"center\">$|\\!|\\mathbf{\\text{[gray cat]}}|\\!|^{}_{\\langle{}e,t\\rangle{}}$</td></tr><tr><td style=\"vertical-align:bottom\" align=\"center\">$ = \\lambda{} x_{e} \\: . \\: ({Gray}({x}_{e}) \\wedge{} {Cat}({x}_{e}))$</td></tr></table>\n",
        "</td><td></td></tr></table>\n",
        "<br /><br />Path 2:<br />\n",
        "<table><tr><td style=\"vertical-align:bottom;padding:0px 10px\" align=\"center\"><table><tr><td style=\"vertical-align:bottom\"><table align=\"center\"><tr><td align=\"center\">$|\\!|\\mathbf{\\text{cat}}|\\!|^{}_{\\langle{}e,t\\rangle{}}$</td></tr><tr><td align=\"center\">$\\lambda{} x_{e} \\: . \\: {Cat}({x}_{e})$</td></tr></table>\n",
        "</td><td style=\"vertical-align:bottom;padding-bottom:5px\">&nbsp;&nbsp;&nbsp;$\\circ$&nbsp;&nbsp;&nbsp;</td><td style=\"vertical-align:bottom\"><table align=\"center\"><tr><td align=\"center\">$|\\!|\\mathbf{\\text{gray}}|\\!|^{}_{\\langle{}e,t\\rangle{}}$</td></tr><tr><td align=\"center\">$\\lambda{} x_{e} \\: . \\: {Gray}({x}_{e})$</td></tr></table>\n",
        "</td></tr></table></td><td style=\"vertical-align:bottom;padding-bottom:5px;padding-left:10px\"><b>[PM]</b></td></tr><tr style=\"border-top: 1px solid #848482\"><td align=\"center\"><table style=\"margin-top:10px\"><tr><td style=\"vertical-align:bottom\" align=\"center\">$|\\!|\\mathbf{\\text{[cat gray]}}|\\!|^{}_{\\langle{}e,t\\rangle{}}$</td></tr><tr><td style=\"vertical-align:bottom\" align=\"center\">$ = \\lambda{} x_{e} \\: . \\: ({Cat}({x}_{e}) \\wedge{} {Gray}({x}_{e}))$</td></tr></table>\n",
        "</td><td></td></tr></table>\n",
        "<br /><br />"
       ],
       "metadata": {},
       "output_type": "pyout",
       "prompt_number": 245,
       "text": [
        "2 composition paths:<br />\n",
        "Path 1:<br />\n",
        "<table><tr><td style=\"vertical-align:bottom;padding:0px 10px\" align=\"center\"><table><tr><td style=\"vertical-align:bottom\"><table align=\"center\"><tr><td align=\"center\">$|\\!|\\mathbf{\\text{gray}}|\\!|^{}_{\\langle{}e,t\\rangle{}}$</td></tr><tr><td align=\"center\">$\\lambda{} x_{e} \\: . \\: {Gray}({x}_{e})$</td></tr></table>\n",
        "</td><td style=\"vertical-align:bottom;padding-bottom:5px\">&nbsp;&nbsp;&nbsp;$\\circ$&nbsp;&nbsp;&nbsp;</td><td style=\"vertical-align:bottom\"><table align=\"center\"><tr><td align=\"center\">$|\\!|\\mathbf{\\text{cat}}|\\!|^{}_{\\langle{}e,t\\rangle{}}$</td></tr><tr><td align=\"center\">$\\lambda{} x_{e} \\: . \\: {Cat}({x}_{e})$</td></tr></table>\n",
        "</td></tr></table></td><td style=\"vertical-align:bottom;padding-bottom:5px;padding-left:10px\"><b>[PM]</b></td></tr><tr style=\"border-top: 1px solid #848482\"><td align=\"center\"><table style=\"margin-top:10px\"><tr><td style=\"vertical-align:bottom\" align=\"center\">$|\\!|\\mathbf{\\text{[gray cat]}}|\\!|^{}_{\\langle{}e,t\\rangle{}}$</td></tr><tr><td style=\"vertical-align:bottom\" align=\"center\">$ = \\lambda{} x_{e} \\: . \\: ({Gray}({x}_{e}) \\wedge{} {Cat}({x}_{e}))$</td></tr></table>\n",
        "</td><td></td></tr></table>\n",
        "<br /><br />Path 2:<br />\n",
        "<table><tr><td style=\"vertical-align:bottom;padding:0px 10px\" align=\"center\"><table><tr><td style=\"vertical-align:bottom\"><table align=\"center\"><tr><td align=\"center\">$|\\!|\\mathbf{\\text{cat}}|\\!|^{}_{\\langle{}e,t\\rangle{}}$</td></tr><tr><td align=\"center\">$\\lambda{} x_{e} \\: . \\: {Cat}({x}_{e})$</td></tr></table>\n",
        "</td><td style=\"vertical-align:bottom;padding-bottom:5px\">&nbsp;&nbsp;&nbsp;$\\circ$&nbsp;&nbsp;&nbsp;</td><td style=\"vertical-align:bottom\"><table align=\"center\"><tr><td align=\"center\">$|\\!|\\mathbf{\\text{gray}}|\\!|^{}_{\\langle{}e,t\\rangle{}}$</td></tr><tr><td align=\"center\">$\\lambda{} x_{e} \\: . \\: {Gray}({x}_{e})$</td></tr></table>\n",
        "</td></tr></table></td><td style=\"vertical-align:bottom;padding-bottom:5px;padding-left:10px\"><b>[PM]</b></td></tr><tr style=\"border-top: 1px solid #848482\"><td align=\"center\"><table style=\"margin-top:10px\"><tr><td style=\"vertical-align:bottom\" align=\"center\">$|\\!|\\mathbf{\\text{[cat gray]}}|\\!|^{}_{\\langle{}e,t\\rangle{}}$</td></tr><tr><td style=\"vertical-align:bottom\" align=\"center\">$ = \\lambda{} x_{e} \\: . \\: ({Cat}({x}_{e}) \\wedge{} {Gray}({x}_{e}))$</td></tr></table>\n",
        "</td><td></td></tr></table>\n",
        "<br /><br />"
       ]
      }
     ],
     "prompt_number": 245
    },
    {
     "cell_type": "code",
     "collapsed": false,
     "input": [
      "r = joanna * (isV * (a * (gray * cat)))\n",
      "r.latex_step_tree()"
     ],
     "language": "python",
     "metadata": {},
     "outputs": [
      {
       "latex": [
        "2 composition paths:<br />\n",
        "Path 1:<br />\n",
        "<table><tr><td style=\"vertical-align:bottom;padding:0px 10px\" align=\"center\"><table><tr><td style=\"vertical-align:bottom\"><table><tr><td style=\"vertical-align:bottom;padding:0px 10px\" align=\"center\"><table><tr><td style=\"vertical-align:bottom\"><table align=\"center\"><tr><td align=\"center\">$|\\!|\\mathbf{\\text{isV}}|\\!|^{}_{\\langle{}\\langle{}e,t\\rangle{},\\langle{}e,t\\rangle{}\\rangle{}}$</td></tr><tr><td align=\"center\">$\\lambda{} f_{\\langle{}e,t\\rangle{}} \\: . \\: {f}_{\\langle{}e,t\\rangle{}}$</td></tr></table>\n",
        "</td><td style=\"vertical-align:bottom;padding-bottom:5px\">&nbsp;&nbsp;&nbsp;$\\circ$&nbsp;&nbsp;&nbsp;</td><td style=\"vertical-align:bottom\"><table><tr><td style=\"vertical-align:bottom;padding:0px 10px\" align=\"center\"><table><tr><td style=\"vertical-align:bottom\"><table align=\"center\"><tr><td align=\"center\">$|\\!|\\mathbf{\\text{a}}|\\!|^{}_{\\langle{}\\langle{}e,t\\rangle{},\\langle{}e,t\\rangle{}\\rangle{}}$</td></tr><tr><td align=\"center\">$\\lambda{} f_{\\langle{}e,t\\rangle{}} \\: . \\: {f}_{\\langle{}e,t\\rangle{}}$</td></tr></table>\n",
        "</td><td style=\"vertical-align:bottom;padding-bottom:5px\">&nbsp;&nbsp;&nbsp;$\\circ$&nbsp;&nbsp;&nbsp;</td><td style=\"vertical-align:bottom\"><table><tr><td style=\"vertical-align:bottom;padding:0px 10px\" align=\"center\"><table><tr><td style=\"vertical-align:bottom\"><table align=\"center\"><tr><td align=\"center\">$|\\!|\\mathbf{\\text{gray}}|\\!|^{}_{\\langle{}e,t\\rangle{}}$</td></tr><tr><td align=\"center\">$\\lambda{} x_{e} \\: . \\: {Gray}({x}_{e})$</td></tr></table>\n",
        "</td><td style=\"vertical-align:bottom;padding-bottom:5px\">&nbsp;&nbsp;&nbsp;$\\circ$&nbsp;&nbsp;&nbsp;</td><td style=\"vertical-align:bottom\"><table align=\"center\"><tr><td align=\"center\">$|\\!|\\mathbf{\\text{cat}}|\\!|^{}_{\\langle{}e,t\\rangle{}}$</td></tr><tr><td align=\"center\">$\\lambda{} x_{e} \\: . \\: {Cat}({x}_{e})$</td></tr></table>\n",
        "</td></tr></table></td><td style=\"vertical-align:bottom;padding-bottom:5px;padding-left:10px\"><b>[PM]</b></td></tr><tr style=\"border-top: 1px solid #848482\"><td align=\"center\"><table style=\"margin-top:10px\"><tr><td style=\"vertical-align:bottom\" align=\"center\">$|\\!|\\mathbf{\\text{[gray cat]}}|\\!|^{}_{\\langle{}e,t\\rangle{}}$</td></tr><tr><td style=\"vertical-align:bottom\" align=\"center\">$ = \\lambda{} x_{e} \\: . \\: ({Gray}({x}_{e}) \\wedge{} {Cat}({x}_{e}))$</td></tr></table>\n",
        "</td><td></td></tr></table>\n",
        "</td></tr></table></td><td style=\"vertical-align:bottom;padding-bottom:5px;padding-left:10px\"><b>[FA]</b></td></tr><tr style=\"border-top: 1px solid #848482\"><td align=\"center\"><table style=\"margin-top:10px\"><tr><td style=\"vertical-align:bottom\" align=\"center\">$|\\!|\\mathbf{\\text{[a [gray cat]]}}|\\!|^{}_{\\langle{}e,t\\rangle{}}$</td></tr><tr><td style=\"vertical-align:bottom\" align=\"center\">$ = \\lambda{} x_{e} \\: . \\: ({Gray}({x}_{e}) \\wedge{} {Cat}({x}_{e}))$</td></tr></table>\n",
        "</td><td></td></tr></table>\n",
        "</td></tr></table></td><td style=\"vertical-align:bottom;padding-bottom:5px;padding-left:10px\"><b>[FA]</b></td></tr><tr style=\"border-top: 1px solid #848482\"><td align=\"center\"><table style=\"margin-top:10px\"><tr><td style=\"vertical-align:bottom\" align=\"center\">$|\\!|\\mathbf{\\text{[isV [a [gray cat]]]}}|\\!|^{}_{\\langle{}e,t\\rangle{}}$</td></tr><tr><td style=\"vertical-align:bottom\" align=\"center\">$ = \\lambda{} x_{e} \\: . \\: ({Gray}({x}_{e}) \\wedge{} {Cat}({x}_{e}))$</td></tr></table>\n",
        "</td><td></td></tr></table>\n",
        "</td><td style=\"vertical-align:bottom;padding-bottom:5px\">&nbsp;&nbsp;&nbsp;$\\circ$&nbsp;&nbsp;&nbsp;</td><td style=\"vertical-align:bottom\"><table align=\"center\"><tr><td align=\"center\">$|\\!|\\mathbf{\\text{joanna}}|\\!|^{}_{e}$</td></tr><tr><td align=\"center\">${Joanna}_{e}$</td></tr></table>\n",
        "</td></tr></table></td><td style=\"vertical-align:bottom;padding-bottom:5px;padding-left:10px\"><b>[FA]</b></td></tr><tr style=\"border-top: 1px solid #848482\"><td align=\"center\"><table style=\"margin-top:10px\"><tr><td style=\"vertical-align:bottom\" align=\"center\">$|\\!|\\mathbf{\\text{[[isV [a [gray cat]]] joanna]}}|\\!|^{}_{t}$</td></tr><tr><td style=\"vertical-align:bottom\" align=\"center\">$ = ({Gray}({Joanna}_{e}) \\wedge{} {Cat}({Joanna}_{e}))$</td></tr></table>\n",
        "</td><td></td></tr></table>\n",
        "<br /><br />Path 2:<br />\n",
        "<table><tr><td style=\"vertical-align:bottom;padding:0px 10px\" align=\"center\"><table><tr><td style=\"vertical-align:bottom\"><table><tr><td style=\"vertical-align:bottom;padding:0px 10px\" align=\"center\"><table><tr><td style=\"vertical-align:bottom\"><table align=\"center\"><tr><td align=\"center\">$|\\!|\\mathbf{\\text{isV}}|\\!|^{}_{\\langle{}\\langle{}e,t\\rangle{},\\langle{}e,t\\rangle{}\\rangle{}}$</td></tr><tr><td align=\"center\">$\\lambda{} f_{\\langle{}e,t\\rangle{}} \\: . \\: {f}_{\\langle{}e,t\\rangle{}}$</td></tr></table>\n",
        "</td><td style=\"vertical-align:bottom;padding-bottom:5px\">&nbsp;&nbsp;&nbsp;$\\circ$&nbsp;&nbsp;&nbsp;</td><td style=\"vertical-align:bottom\"><table><tr><td style=\"vertical-align:bottom;padding:0px 10px\" align=\"center\"><table><tr><td style=\"vertical-align:bottom\"><table align=\"center\"><tr><td align=\"center\">$|\\!|\\mathbf{\\text{a}}|\\!|^{}_{\\langle{}\\langle{}e,t\\rangle{},\\langle{}e,t\\rangle{}\\rangle{}}$</td></tr><tr><td align=\"center\">$\\lambda{} f_{\\langle{}e,t\\rangle{}} \\: . \\: {f}_{\\langle{}e,t\\rangle{}}$</td></tr></table>\n",
        "</td><td style=\"vertical-align:bottom;padding-bottom:5px\">&nbsp;&nbsp;&nbsp;$\\circ$&nbsp;&nbsp;&nbsp;</td><td style=\"vertical-align:bottom\"><table><tr><td style=\"vertical-align:bottom;padding:0px 10px\" align=\"center\"><table><tr><td style=\"vertical-align:bottom\"><table align=\"center\"><tr><td align=\"center\">$|\\!|\\mathbf{\\text{cat}}|\\!|^{}_{\\langle{}e,t\\rangle{}}$</td></tr><tr><td align=\"center\">$\\lambda{} x_{e} \\: . \\: {Cat}({x}_{e})$</td></tr></table>\n",
        "</td><td style=\"vertical-align:bottom;padding-bottom:5px\">&nbsp;&nbsp;&nbsp;$\\circ$&nbsp;&nbsp;&nbsp;</td><td style=\"vertical-align:bottom\"><table align=\"center\"><tr><td align=\"center\">$|\\!|\\mathbf{\\text{gray}}|\\!|^{}_{\\langle{}e,t\\rangle{}}$</td></tr><tr><td align=\"center\">$\\lambda{} x_{e} \\: . \\: {Gray}({x}_{e})$</td></tr></table>\n",
        "</td></tr></table></td><td style=\"vertical-align:bottom;padding-bottom:5px;padding-left:10px\"><b>[PM]</b></td></tr><tr style=\"border-top: 1px solid #848482\"><td align=\"center\"><table style=\"margin-top:10px\"><tr><td style=\"vertical-align:bottom\" align=\"center\">$|\\!|\\mathbf{\\text{[cat gray]}}|\\!|^{}_{\\langle{}e,t\\rangle{}}$</td></tr><tr><td style=\"vertical-align:bottom\" align=\"center\">$ = \\lambda{} x_{e} \\: . \\: ({Cat}({x}_{e}) \\wedge{} {Gray}({x}_{e}))$</td></tr></table>\n",
        "</td><td></td></tr></table>\n",
        "</td></tr></table></td><td style=\"vertical-align:bottom;padding-bottom:5px;padding-left:10px\"><b>[FA]</b></td></tr><tr style=\"border-top: 1px solid #848482\"><td align=\"center\"><table style=\"margin-top:10px\"><tr><td style=\"vertical-align:bottom\" align=\"center\">$|\\!|\\mathbf{\\text{[a [cat gray]]}}|\\!|^{}_{\\langle{}e,t\\rangle{}}$</td></tr><tr><td style=\"vertical-align:bottom\" align=\"center\">$ = \\lambda{} x_{e} \\: . \\: ({Cat}({x}_{e}) \\wedge{} {Gray}({x}_{e}))$</td></tr></table>\n",
        "</td><td></td></tr></table>\n",
        "</td></tr></table></td><td style=\"vertical-align:bottom;padding-bottom:5px;padding-left:10px\"><b>[FA]</b></td></tr><tr style=\"border-top: 1px solid #848482\"><td align=\"center\"><table style=\"margin-top:10px\"><tr><td style=\"vertical-align:bottom\" align=\"center\">$|\\!|\\mathbf{\\text{[isV [a [cat gray]]]}}|\\!|^{}_{\\langle{}e,t\\rangle{}}$</td></tr><tr><td style=\"vertical-align:bottom\" align=\"center\">$ = \\lambda{} x_{e} \\: . \\: ({Cat}({x}_{e}) \\wedge{} {Gray}({x}_{e}))$</td></tr></table>\n",
        "</td><td></td></tr></table>\n",
        "</td><td style=\"vertical-align:bottom;padding-bottom:5px\">&nbsp;&nbsp;&nbsp;$\\circ$&nbsp;&nbsp;&nbsp;</td><td style=\"vertical-align:bottom\"><table align=\"center\"><tr><td align=\"center\">$|\\!|\\mathbf{\\text{joanna}}|\\!|^{}_{e}$</td></tr><tr><td align=\"center\">${Joanna}_{e}$</td></tr></table>\n",
        "</td></tr></table></td><td style=\"vertical-align:bottom;padding-bottom:5px;padding-left:10px\"><b>[FA]</b></td></tr><tr style=\"border-top: 1px solid #848482\"><td align=\"center\"><table style=\"margin-top:10px\"><tr><td style=\"vertical-align:bottom\" align=\"center\">$|\\!|\\mathbf{\\text{[[isV [a [cat gray]]] joanna]}}|\\!|^{}_{t}$</td></tr><tr><td style=\"vertical-align:bottom\" align=\"center\">$ = ({Cat}({Joanna}_{e}) \\wedge{} {Gray}({Joanna}_{e}))$</td></tr></table>\n",
        "</td><td></td></tr></table>\n",
        "<br /><br />"
       ],
       "metadata": {},
       "output_type": "pyout",
       "prompt_number": 246,
       "text": [
        "2 composition paths:<br />\n",
        "Path 1:<br />\n",
        "<table><tr><td style=\"vertical-align:bottom;padding:0px 10px\" align=\"center\"><table><tr><td style=\"vertical-align:bottom\"><table><tr><td style=\"vertical-align:bottom;padding:0px 10px\" align=\"center\"><table><tr><td style=\"vertical-align:bottom\"><table align=\"center\"><tr><td align=\"center\">$|\\!|\\mathbf{\\text{isV}}|\\!|^{}_{\\langle{}\\langle{}e,t\\rangle{},\\langle{}e,t\\rangle{}\\rangle{}}$</td></tr><tr><td align=\"center\">$\\lambda{} f_{\\langle{}e,t\\rangle{}} \\: . \\: {f}_{\\langle{}e,t\\rangle{}}$</td></tr></table>\n",
        "</td><td style=\"vertical-align:bottom;padding-bottom:5px\">&nbsp;&nbsp;&nbsp;$\\circ$&nbsp;&nbsp;&nbsp;</td><td style=\"vertical-align:bottom\"><table><tr><td style=\"vertical-align:bottom;padding:0px 10px\" align=\"center\"><table><tr><td style=\"vertical-align:bottom\"><table align=\"center\"><tr><td align=\"center\">$|\\!|\\mathbf{\\text{a}}|\\!|^{}_{\\langle{}\\langle{}e,t\\rangle{},\\langle{}e,t\\rangle{}\\rangle{}}$</td></tr><tr><td align=\"center\">$\\lambda{} f_{\\langle{}e,t\\rangle{}} \\: . \\: {f}_{\\langle{}e,t\\rangle{}}$</td></tr></table>\n",
        "</td><td style=\"vertical-align:bottom;padding-bottom:5px\">&nbsp;&nbsp;&nbsp;$\\circ$&nbsp;&nbsp;&nbsp;</td><td style=\"vertical-align:bottom\"><table><tr><td style=\"vertical-align:bottom;padding:0px 10px\" align=\"center\"><table><tr><td style=\"vertical-align:bottom\"><table align=\"center\"><tr><td align=\"center\">$|\\!|\\mathbf{\\text{gray}}|\\!|^{}_{\\langle{}e,t\\rangle{}}$</td></tr><tr><td align=\"center\">$\\lambda{} x_{e} \\: . \\: {Gray}({x}_{e})$</td></tr></table>\n",
        "</td><td style=\"vertical-align:bottom;padding-bottom:5px\">&nbsp;&nbsp;&nbsp;$\\circ$&nbsp;&nbsp;&nbsp;</td><td style=\"vertical-align:bottom\"><table align=\"center\"><tr><td align=\"center\">$|\\!|\\mathbf{\\text{cat}}|\\!|^{}_{\\langle{}e,t\\rangle{}}$</td></tr><tr><td align=\"center\">$\\lambda{} x_{e} \\: . \\: {Cat}({x}_{e})$</td></tr></table>\n",
        "</td></tr></table></td><td style=\"vertical-align:bottom;padding-bottom:5px;padding-left:10px\"><b>[PM]</b></td></tr><tr style=\"border-top: 1px solid #848482\"><td align=\"center\"><table style=\"margin-top:10px\"><tr><td style=\"vertical-align:bottom\" align=\"center\">$|\\!|\\mathbf{\\text{[gray cat]}}|\\!|^{}_{\\langle{}e,t\\rangle{}}$</td></tr><tr><td style=\"vertical-align:bottom\" align=\"center\">$ = \\lambda{} x_{e} \\: . \\: ({Gray}({x}_{e}) \\wedge{} {Cat}({x}_{e}))$</td></tr></table>\n",
        "</td><td></td></tr></table>\n",
        "</td></tr></table></td><td style=\"vertical-align:bottom;padding-bottom:5px;padding-left:10px\"><b>[FA]</b></td></tr><tr style=\"border-top: 1px solid #848482\"><td align=\"center\"><table style=\"margin-top:10px\"><tr><td style=\"vertical-align:bottom\" align=\"center\">$|\\!|\\mathbf{\\text{[a [gray cat]]}}|\\!|^{}_{\\langle{}e,t\\rangle{}}$</td></tr><tr><td style=\"vertical-align:bottom\" align=\"center\">$ = \\lambda{} x_{e} \\: . \\: ({Gray}({x}_{e}) \\wedge{} {Cat}({x}_{e}))$</td></tr></table>\n",
        "</td><td></td></tr></table>\n",
        "</td></tr></table></td><td style=\"vertical-align:bottom;padding-bottom:5px;padding-left:10px\"><b>[FA]</b></td></tr><tr style=\"border-top: 1px solid #848482\"><td align=\"center\"><table style=\"margin-top:10px\"><tr><td style=\"vertical-align:bottom\" align=\"center\">$|\\!|\\mathbf{\\text{[isV [a [gray cat]]]}}|\\!|^{}_{\\langle{}e,t\\rangle{}}$</td></tr><tr><td style=\"vertical-align:bottom\" align=\"center\">$ = \\lambda{} x_{e} \\: . \\: ({Gray}({x}_{e}) \\wedge{} {Cat}({x}_{e}))$</td></tr></table>\n",
        "</td><td></td></tr></table>\n",
        "</td><td style=\"vertical-align:bottom;padding-bottom:5px\">&nbsp;&nbsp;&nbsp;$\\circ$&nbsp;&nbsp;&nbsp;</td><td style=\"vertical-align:bottom\"><table align=\"center\"><tr><td align=\"center\">$|\\!|\\mathbf{\\text{joanna}}|\\!|^{}_{e}$</td></tr><tr><td align=\"center\">${Joanna}_{e}$</td></tr></table>\n",
        "</td></tr></table></td><td style=\"vertical-align:bottom;padding-bottom:5px;padding-left:10px\"><b>[FA]</b></td></tr><tr style=\"border-top: 1px solid #848482\"><td align=\"center\"><table style=\"margin-top:10px\"><tr><td style=\"vertical-align:bottom\" align=\"center\">$|\\!|\\mathbf{\\text{[[isV [a [gray cat]]] joanna]}}|\\!|^{}_{t}$</td></tr><tr><td style=\"vertical-align:bottom\" align=\"center\">$ = ({Gray}({Joanna}_{e}) \\wedge{} {Cat}({Joanna}_{e}))$</td></tr></table>\n",
        "</td><td></td></tr></table>\n",
        "<br /><br />Path 2:<br />\n",
        "<table><tr><td style=\"vertical-align:bottom;padding:0px 10px\" align=\"center\"><table><tr><td style=\"vertical-align:bottom\"><table><tr><td style=\"vertical-align:bottom;padding:0px 10px\" align=\"center\"><table><tr><td style=\"vertical-align:bottom\"><table align=\"center\"><tr><td align=\"center\">$|\\!|\\mathbf{\\text{isV}}|\\!|^{}_{\\langle{}\\langle{}e,t\\rangle{},\\langle{}e,t\\rangle{}\\rangle{}}$</td></tr><tr><td align=\"center\">$\\lambda{} f_{\\langle{}e,t\\rangle{}} \\: . \\: {f}_{\\langle{}e,t\\rangle{}}$</td></tr></table>\n",
        "</td><td style=\"vertical-align:bottom;padding-bottom:5px\">&nbsp;&nbsp;&nbsp;$\\circ$&nbsp;&nbsp;&nbsp;</td><td style=\"vertical-align:bottom\"><table><tr><td style=\"vertical-align:bottom;padding:0px 10px\" align=\"center\"><table><tr><td style=\"vertical-align:bottom\"><table align=\"center\"><tr><td align=\"center\">$|\\!|\\mathbf{\\text{a}}|\\!|^{}_{\\langle{}\\langle{}e,t\\rangle{},\\langle{}e,t\\rangle{}\\rangle{}}$</td></tr><tr><td align=\"center\">$\\lambda{} f_{\\langle{}e,t\\rangle{}} \\: . \\: {f}_{\\langle{}e,t\\rangle{}}$</td></tr></table>\n",
        "</td><td style=\"vertical-align:bottom;padding-bottom:5px\">&nbsp;&nbsp;&nbsp;$\\circ$&nbsp;&nbsp;&nbsp;</td><td style=\"vertical-align:bottom\"><table><tr><td style=\"vertical-align:bottom;padding:0px 10px\" align=\"center\"><table><tr><td style=\"vertical-align:bottom\"><table align=\"center\"><tr><td align=\"center\">$|\\!|\\mathbf{\\text{cat}}|\\!|^{}_{\\langle{}e,t\\rangle{}}$</td></tr><tr><td align=\"center\">$\\lambda{} x_{e} \\: . \\: {Cat}({x}_{e})$</td></tr></table>\n",
        "</td><td style=\"vertical-align:bottom;padding-bottom:5px\">&nbsp;&nbsp;&nbsp;$\\circ$&nbsp;&nbsp;&nbsp;</td><td style=\"vertical-align:bottom\"><table align=\"center\"><tr><td align=\"center\">$|\\!|\\mathbf{\\text{gray}}|\\!|^{}_{\\langle{}e,t\\rangle{}}$</td></tr><tr><td align=\"center\">$\\lambda{} x_{e} \\: . \\: {Gray}({x}_{e})$</td></tr></table>\n",
        "</td></tr></table></td><td style=\"vertical-align:bottom;padding-bottom:5px;padding-left:10px\"><b>[PM]</b></td></tr><tr style=\"border-top: 1px solid #848482\"><td align=\"center\"><table style=\"margin-top:10px\"><tr><td style=\"vertical-align:bottom\" align=\"center\">$|\\!|\\mathbf{\\text{[cat gray]}}|\\!|^{}_{\\langle{}e,t\\rangle{}}$</td></tr><tr><td style=\"vertical-align:bottom\" align=\"center\">$ = \\lambda{} x_{e} \\: . \\: ({Cat}({x}_{e}) \\wedge{} {Gray}({x}_{e}))$</td></tr></table>\n",
        "</td><td></td></tr></table>\n",
        "</td></tr></table></td><td style=\"vertical-align:bottom;padding-bottom:5px;padding-left:10px\"><b>[FA]</b></td></tr><tr style=\"border-top: 1px solid #848482\"><td align=\"center\"><table style=\"margin-top:10px\"><tr><td style=\"vertical-align:bottom\" align=\"center\">$|\\!|\\mathbf{\\text{[a [cat gray]]}}|\\!|^{}_{\\langle{}e,t\\rangle{}}$</td></tr><tr><td style=\"vertical-align:bottom\" align=\"center\">$ = \\lambda{} x_{e} \\: . \\: ({Cat}({x}_{e}) \\wedge{} {Gray}({x}_{e}))$</td></tr></table>\n",
        "</td><td></td></tr></table>\n",
        "</td></tr></table></td><td style=\"vertical-align:bottom;padding-bottom:5px;padding-left:10px\"><b>[FA]</b></td></tr><tr style=\"border-top: 1px solid #848482\"><td align=\"center\"><table style=\"margin-top:10px\"><tr><td style=\"vertical-align:bottom\" align=\"center\">$|\\!|\\mathbf{\\text{[isV [a [cat gray]]]}}|\\!|^{}_{\\langle{}e,t\\rangle{}}$</td></tr><tr><td style=\"vertical-align:bottom\" align=\"center\">$ = \\lambda{} x_{e} \\: . \\: ({Cat}({x}_{e}) \\wedge{} {Gray}({x}_{e}))$</td></tr></table>\n",
        "</td><td></td></tr></table>\n",
        "</td><td style=\"vertical-align:bottom;padding-bottom:5px\">&nbsp;&nbsp;&nbsp;$\\circ$&nbsp;&nbsp;&nbsp;</td><td style=\"vertical-align:bottom\"><table align=\"center\"><tr><td align=\"center\">$|\\!|\\mathbf{\\text{joanna}}|\\!|^{}_{e}$</td></tr><tr><td align=\"center\">${Joanna}_{e}$</td></tr></table>\n",
        "</td></tr></table></td><td style=\"vertical-align:bottom;padding-bottom:5px;padding-left:10px\"><b>[FA]</b></td></tr><tr style=\"border-top: 1px solid #848482\"><td align=\"center\"><table style=\"margin-top:10px\"><tr><td style=\"vertical-align:bottom\" align=\"center\">$|\\!|\\mathbf{\\text{[[isV [a [cat gray]]] joanna]}}|\\!|^{}_{t}$</td></tr><tr><td style=\"vertical-align:bottom\" align=\"center\">$ = ({Cat}({Joanna}_{e}) \\wedge{} {Gray}({Joanna}_{e}))$</td></tr></table>\n",
        "</td><td></td></tr></table>\n",
        "<br /><br />"
       ]
      }
     ],
     "prompt_number": 246
    },
    {
     "cell_type": "code",
     "collapsed": false,
     "input": [
      "%%lamb\n",
      "||inP|| = L x: L y: In(y,x)\n",
      "||fond|| = L x_e : L y_e : Fond(y,x)\n",
      "||of|| = L x_e : x\n",
      "||joe|| = Joe_e\n",
      "||texas|| = Texas_e"
     ],
     "language": "python",
     "metadata": {},
     "outputs": [
      {
       "output_type": "stream",
       "stream": "stdout",
       "text": [
        "warning: coerced guessed type t for 'In' into <(e,e),t>, to match argument '(y, x)'\n",
        "warning: coerced guessed type t for 'Fond' into <(e,e),t>, to match argument '(y, x)'\n"
       ]
      },
      {
       "latex": [
        "$|\\!|\\mathbf{\\text{inP}}|\\!|^{}_{\\langle{}e,\\langle{}e,t\\rangle{}\\rangle{}} \\:=\\: \\lambda{} x_{e} \\: . \\: \\lambda{} y_{e} \\: . \\: {In}({y}_{e}, {x}_{e})$<br />\n",
        "$|\\!|\\mathbf{\\text{fond}}|\\!|^{}_{\\langle{}e,\\langle{}e,t\\rangle{}\\rangle{}} \\:=\\: \\lambda{} x_{e} \\: . \\: \\lambda{} y_{e} \\: . \\: {Fond}({y}_{e}, {x}_{e})$<br />\n",
        "$|\\!|\\mathbf{\\text{of}}|\\!|^{}_{\\langle{}e,e\\rangle{}} \\:=\\: \\lambda{} x_{e} \\: . \\: {x}_{e}$<br />\n",
        "$|\\!|\\mathbf{\\text{joe}}|\\!|^{}_{e} \\:=\\: {Joe}_{e}$<br />\n",
        "$|\\!|\\mathbf{\\text{texas}}|\\!|^{}_{e} \\:=\\: {Texas}_{e}$"
       ],
       "metadata": {},
       "output_type": "pyout",
       "prompt_number": 247,
       "text": [
        "$|\\!|\\mathbf{\\text{inP}}|\\!|^{}_{\\langle{}e,\\langle{}e,t\\rangle{}\\rangle{}} \\:=\\: \\lambda{} x_{e} \\: . \\: \\lambda{} y_{e} \\: . \\: {In}({y}_{e}, {x}_{e})$<br />\n",
        "$|\\!|\\mathbf{\\text{fond}}|\\!|^{}_{\\langle{}e,\\langle{}e,t\\rangle{}\\rangle{}} \\:=\\: \\lambda{} x_{e} \\: . \\: \\lambda{} y_{e} \\: . \\: {Fond}({y}_{e}, {x}_{e})$<br />\n",
        "$|\\!|\\mathbf{\\text{of}}|\\!|^{}_{\\langle{}e,e\\rangle{}} \\:=\\: \\lambda{} x_{e} \\: . \\: {x}_{e}$<br />\n",
        "$|\\!|\\mathbf{\\text{joe}}|\\!|^{}_{e} \\:=\\: {Joe}_{e}$<br />\n",
        "$|\\!|\\mathbf{\\text{texas}}|\\!|^{}_{e} \\:=\\: {Texas}_{e}$"
       ]
      }
     ],
     "prompt_number": 247
    },
    {
     "cell_type": "code",
     "collapsed": false,
     "input": [
      "r = joanna * (isV * (a * ((gray * cat) * (inP * texas))))\n",
      "r"
     ],
     "language": "python",
     "metadata": {},
     "outputs": [
      {
       "latex": [
        "4 composition paths. Results:\n",
        "<br />&nbsp;&nbsp;&nbsp;&nbsp;$|\\!|\\mathbf{\\text{[[isV [a [[gray cat] [inP texas]]]] joanna]}}|\\!|^{}_{t} \\:=\\: $$(({Gray}({Joanna}_{e}) \\wedge{} {Cat}({Joanna}_{e})) \\wedge{} {In}({Joanna}_{e}, {Texas}_{e}))$\n",
        "<br />&nbsp;&nbsp;&nbsp;&nbsp;$|\\!|\\mathbf{\\text{[[isV [a [[inP texas] [gray cat]]]] joanna]}}|\\!|^{}_{t} \\:=\\: $$({In}({Joanna}_{e}, {Texas}_{e}) \\wedge{} ({Gray}({Joanna}_{e}) \\wedge{} {Cat}({Joanna}_{e})))$\n",
        "<br />&nbsp;&nbsp;&nbsp;&nbsp;$|\\!|\\mathbf{\\text{[[isV [a [[cat gray] [inP texas]]]] joanna]}}|\\!|^{}_{t} \\:=\\: $$(({Cat}({Joanna}_{e}) \\wedge{} {Gray}({Joanna}_{e})) \\wedge{} {In}({Joanna}_{e}, {Texas}_{e}))$\n",
        "<br />&nbsp;&nbsp;&nbsp;&nbsp;$|\\!|\\mathbf{\\text{[[isV [a [[inP texas] [cat gray]]]] joanna]}}|\\!|^{}_{t} \\:=\\: $$({In}({Joanna}_{e}, {Texas}_{e}) \\wedge{} ({Cat}({Joanna}_{e}) \\wedge{} {Gray}({Joanna}_{e})))$"
       ],
       "metadata": {},
       "output_type": "pyout",
       "prompt_number": 249,
       "text": [
        "CompositionResult(results=[||[[isV [a [[gray cat] [inP texas]]]] joanna]|| = ((Gray(Joanna) & Cat(Joanna)) & In(Joanna, Texas)), ||[[isV [a [[inP texas] [gray cat]]]] joanna]|| = (In(Joanna, Texas) & (Gray(Joanna) & Cat(Joanna))), ||[[isV [a [[cat gray] [inP texas]]]] joanna]|| = ((Cat(Joanna) & Gray(Joanna)) & In(Joanna, Texas)), ||[[isV [a [[inP texas] [cat gray]]]] joanna]|| = (In(Joanna, Texas) & (Cat(Joanna) & Gray(Joanna)))], failures=[||[joanna [isV [a [[gray cat] [inP texas]]]]]|| = Type mismatch: '||joanna|| = Joanna'/e and '||[isV [a [[gray cat] [inP texas]]]]|| = (\u03bb x). ((Gray(x) & Cat(x)) & In(x, Texas))'/<e,t> conflict (mode: Function Application), ||[joanna [isV [a [[gray cat] [inP texas]]]]]|| = Type mismatch: '||joanna|| = Joanna'/e and '||[isV [a [[gray cat] [inP texas]]]]|| = (\u03bb x). ((Gray(x) & Cat(x)) & In(x, Texas))'/<e,t> conflict (mode: Predicate Modification), ||[[isV [a [[gray cat] [inP texas]]]] joanna]|| = Type mismatch: '||[isV [a [[gray cat] [inP texas]]]]|| = (\u03bb x). ((Gray(x) & Cat(x)) & In(x, Texas))'/<e,t> and '||joanna|| = Joanna'/e conflict (mode: Predicate Modification), ||[joanna [isV [a [[gray cat] [inP texas]]]]]|| = Type mismatch: '||joanna|| = Joanna'/e and '||[isV [a [[gray cat] [inP texas]]]]|| = (\u03bb x). ((Gray(x) & Cat(x)) & In(x, Texas))'/<e,t> conflict (mode: Predicate Abstraction), ||[[isV [a [[gray cat] [inP texas]]]] joanna]|| = Type mismatch: '||[isV [a [[gray cat] [inP texas]]]]|| = (\u03bb x). ((Gray(x) & Cat(x)) & In(x, Texas))'/<e,t> and '||joanna|| = Joanna'/e conflict (mode: Predicate Abstraction), ||[joanna [isV [a [[inP texas] [gray cat]]]]]|| = Type mismatch: '||joanna|| = Joanna'/e and '||[isV [a [[inP texas] [gray cat]]]]|| = (\u03bb x). (In(x, Texas) & (Gray(x) & Cat(x)))'/<e,t> conflict (mode: Function Application), ||[joanna [isV [a [[inP texas] [gray cat]]]]]|| = Type mismatch: '||joanna|| = Joanna'/e and '||[isV [a [[inP texas] [gray cat]]]]|| = (\u03bb x). (In(x, Texas) & (Gray(x) & Cat(x)))'/<e,t> conflict (mode: Predicate Modification), ||[[isV [a [[inP texas] [gray cat]]]] joanna]|| = Type mismatch: '||[isV [a [[inP texas] [gray cat]]]]|| = (\u03bb x). (In(x, Texas) & (Gray(x) & Cat(x)))'/<e,t> and '||joanna|| = Joanna'/e conflict (mode: Predicate Modification), ||[joanna [isV [a [[inP texas] [gray cat]]]]]|| = Type mismatch: '||joanna|| = Joanna'/e and '||[isV [a [[inP texas] [gray cat]]]]|| = (\u03bb x). (In(x, Texas) & (Gray(x) & Cat(x)))'/<e,t> conflict (mode: Predicate Abstraction), ||[[isV [a [[inP texas] [gray cat]]]] joanna]|| = Type mismatch: '||[isV [a [[inP texas] [gray cat]]]]|| = (\u03bb x). (In(x, Texas) & (Gray(x) & Cat(x)))'/<e,t> and '||joanna|| = Joanna'/e conflict (mode: Predicate Abstraction), ||[joanna [isV [a [[cat gray] [inP texas]]]]]|| = Type mismatch: '||joanna|| = Joanna'/e and '||[isV [a [[cat gray] [inP texas]]]]|| = (\u03bb x). ((Cat(x) & Gray(x)) & In(x, Texas))'/<e,t> conflict (mode: Function Application), ||[joanna [isV [a [[cat gray] [inP texas]]]]]|| = Type mismatch: '||joanna|| = Joanna'/e and '||[isV [a [[cat gray] [inP texas]]]]|| = (\u03bb x). ((Cat(x) & Gray(x)) & In(x, Texas))'/<e,t> conflict (mode: Predicate Modification), ||[[isV [a [[cat gray] [inP texas]]]] joanna]|| = Type mismatch: '||[isV [a [[cat gray] [inP texas]]]]|| = (\u03bb x). ((Cat(x) & Gray(x)) & In(x, Texas))'/<e,t> and '||joanna|| = Joanna'/e conflict (mode: Predicate Modification), ||[joanna [isV [a [[cat gray] [inP texas]]]]]|| = Type mismatch: '||joanna|| = Joanna'/e and '||[isV [a [[cat gray] [inP texas]]]]|| = (\u03bb x). ((Cat(x) & Gray(x)) & In(x, Texas))'/<e,t> conflict (mode: Predicate Abstraction), ||[[isV [a [[cat gray] [inP texas]]]] joanna]|| = Type mismatch: '||[isV [a [[cat gray] [inP texas]]]]|| = (\u03bb x). ((Cat(x) & Gray(x)) & In(x, Texas))'/<e,t> and '||joanna|| = Joanna'/e conflict (mode: Predicate Abstraction), ||[joanna [isV [a [[inP texas] [cat gray]]]]]|| = Type mismatch: '||joanna|| = Joanna'/e and '||[isV [a [[inP texas] [cat gray]]]]|| = (\u03bb x). (In(x, Texas) & (Cat(x) & Gray(x)))'/<e,t> conflict (mode: Function Application), ||[joanna [isV [a [[inP texas] [cat gray]]]]]|| = Type mismatch: '||joanna|| = Joanna'/e and '||[isV [a [[inP texas] [cat gray]]]]|| = (\u03bb x). (In(x, Texas) & (Cat(x) & Gray(x)))'/<e,t> conflict (mode: Predicate Modification), ||[[isV [a [[inP texas] [cat gray]]]] joanna]|| = Type mismatch: '||[isV [a [[inP texas] [cat gray]]]]|| = (\u03bb x). (In(x, Texas) & (Cat(x) & Gray(x)))'/<e,t> and '||joanna|| = Joanna'/e conflict (mode: Predicate Modification), ||[joanna [isV [a [[inP texas] [cat gray]]]]]|| = Type mismatch: '||joanna|| = Joanna'/e and '||[isV [a [[inP texas] [cat gray]]]]|| = (\u03bb x). (In(x, Texas) & (Cat(x) & Gray(x)))'/<e,t> conflict (mode: Predicate Abstraction), ||[[isV [a [[inP texas] [cat gray]]]] joanna]|| = Type mismatch: '||[isV [a [[inP texas] [cat gray]]]]|| = (\u03bb x). (In(x, Texas) & (Cat(x) & Gray(x)))'/<e,t> and '||joanna|| = Joanna'/e conflict (mode: Predicate Abstraction)])"
       ]
      }
     ],
     "prompt_number": 249
    },
    {
     "cell_type": "code",
     "collapsed": false,
     "input": [
      "r = joanna * (isV * (a * (((gray * cat) * (inP * texas)) * (fond * (of * joe)))))\n",
      "r"
     ],
     "language": "python",
     "metadata": {},
     "outputs": [
      {
       "latex": [
        "8 composition paths. Results:\n",
        "<br />&nbsp;&nbsp;&nbsp;&nbsp;$|\\!|\\mathbf{\\text{[[isV [a [[[gray cat] [inP texas]] [fond [of joe]]]]] joanna]}}|\\!|^{}_{t} \\:=\\: $$((({Gray}({Joanna}_{e}) \\wedge{} {Cat}({Joanna}_{e})) \\wedge{} {In}({Joanna}_{e}, {Texas}_{e})) \\wedge{} {Fond}({Joanna}_{e}, {Joe}_{e}))$\n",
        "<br />&nbsp;&nbsp;&nbsp;&nbsp;$|\\!|\\mathbf{\\text{[[isV [a [[fond [of joe]] [[gray cat] [inP texas]]]]] joanna]}}|\\!|^{}_{t} \\:=\\: $$({Fond}({Joanna}_{e}, {Joe}_{e}) \\wedge{} (({Gray}({Joanna}_{e}) \\wedge{} {Cat}({Joanna}_{e})) \\wedge{} {In}({Joanna}_{e}, {Texas}_{e})))$\n",
        "<br />&nbsp;&nbsp;&nbsp;&nbsp;$|\\!|\\mathbf{\\text{[[isV [a [[[inP texas] [gray cat]] [fond [of joe]]]]] joanna]}}|\\!|^{}_{t} \\:=\\: $$(({In}({Joanna}_{e}, {Texas}_{e}) \\wedge{} ({Gray}({Joanna}_{e}) \\wedge{} {Cat}({Joanna}_{e}))) \\wedge{} {Fond}({Joanna}_{e}, {Joe}_{e}))$\n",
        "<br />&nbsp;&nbsp;&nbsp;&nbsp;$|\\!|\\mathbf{\\text{[[isV [a [[fond [of joe]] [[inP texas] [gray cat]]]]] joanna]}}|\\!|^{}_{t} \\:=\\: $$({Fond}({Joanna}_{e}, {Joe}_{e}) \\wedge{} ({In}({Joanna}_{e}, {Texas}_{e}) \\wedge{} ({Gray}({Joanna}_{e}) \\wedge{} {Cat}({Joanna}_{e}))))$\n",
        "<br />&nbsp;&nbsp;&nbsp;&nbsp;$|\\!|\\mathbf{\\text{[[isV [a [[[cat gray] [inP texas]] [fond [of joe]]]]] joanna]}}|\\!|^{}_{t} \\:=\\: $$((({Cat}({Joanna}_{e}) \\wedge{} {Gray}({Joanna}_{e})) \\wedge{} {In}({Joanna}_{e}, {Texas}_{e})) \\wedge{} {Fond}({Joanna}_{e}, {Joe}_{e}))$\n",
        "<br />&nbsp;&nbsp;&nbsp;&nbsp;$|\\!|\\mathbf{\\text{[[isV [a [[fond [of joe]] [[cat gray] [inP texas]]]]] joanna]}}|\\!|^{}_{t} \\:=\\: $$({Fond}({Joanna}_{e}, {Joe}_{e}) \\wedge{} (({Cat}({Joanna}_{e}) \\wedge{} {Gray}({Joanna}_{e})) \\wedge{} {In}({Joanna}_{e}, {Texas}_{e})))$\n",
        "<br />&nbsp;&nbsp;&nbsp;&nbsp;$|\\!|\\mathbf{\\text{[[isV [a [[[inP texas] [cat gray]] [fond [of joe]]]]] joanna]}}|\\!|^{}_{t} \\:=\\: $$(({In}({Joanna}_{e}, {Texas}_{e}) \\wedge{} ({Cat}({Joanna}_{e}) \\wedge{} {Gray}({Joanna}_{e}))) \\wedge{} {Fond}({Joanna}_{e}, {Joe}_{e}))$\n",
        "<br />&nbsp;&nbsp;&nbsp;&nbsp;$|\\!|\\mathbf{\\text{[[isV [a [[fond [of joe]] [[inP texas] [cat gray]]]]] joanna]}}|\\!|^{}_{t} \\:=\\: $$({Fond}({Joanna}_{e}, {Joe}_{e}) \\wedge{} ({In}({Joanna}_{e}, {Texas}_{e}) \\wedge{} ({Cat}({Joanna}_{e}) \\wedge{} {Gray}({Joanna}_{e}))))$"
       ],
       "metadata": {},
       "output_type": "pyout",
       "prompt_number": 250,
       "text": [
        "CompositionResult(results=[||[[isV [a [[[gray cat] [inP texas]] [fond [of joe]]]]] joanna]|| = (((Gray(Joanna) & Cat(Joanna)) & In(Joanna, Texas)) & Fond(Joanna, Joe)), ||[[isV [a [[fond [of joe]] [[gray cat] [inP texas]]]]] joanna]|| = (Fond(Joanna, Joe) & ((Gray(Joanna) & Cat(Joanna)) & In(Joanna, Texas))), ||[[isV [a [[[inP texas] [gray cat]] [fond [of joe]]]]] joanna]|| = ((In(Joanna, Texas) & (Gray(Joanna) & Cat(Joanna))) & Fond(Joanna, Joe)), ||[[isV [a [[fond [of joe]] [[inP texas] [gray cat]]]]] joanna]|| = (Fond(Joanna, Joe) & (In(Joanna, Texas) & (Gray(Joanna) & Cat(Joanna)))), ||[[isV [a [[[cat gray] [inP texas]] [fond [of joe]]]]] joanna]|| = (((Cat(Joanna) & Gray(Joanna)) & In(Joanna, Texas)) & Fond(Joanna, Joe)), ||[[isV [a [[fond [of joe]] [[cat gray] [inP texas]]]]] joanna]|| = (Fond(Joanna, Joe) & ((Cat(Joanna) & Gray(Joanna)) & In(Joanna, Texas))), ||[[isV [a [[[inP texas] [cat gray]] [fond [of joe]]]]] joanna]|| = ((In(Joanna, Texas) & (Cat(Joanna) & Gray(Joanna))) & Fond(Joanna, Joe)), ||[[isV [a [[fond [of joe]] [[inP texas] [cat gray]]]]] joanna]|| = (Fond(Joanna, Joe) & (In(Joanna, Texas) & (Cat(Joanna) & Gray(Joanna))))], failures=[||[joanna [isV [a [[[gray cat] [inP texas]] [fond [of joe]]]]]]|| = Type mismatch: '||joanna|| = Joanna'/e and '||[isV [a [[[gray cat] [inP texas]] [fond [of joe]]]]]|| = (\u03bb x). (((Gray(x) & Cat(x)) & In(x, Texas)) & Fond(x, Joe))'/<e,t> conflict (mode: Function Application), ||[joanna [isV [a [[[gray cat] [inP texas]] [fond [of joe]]]]]]|| = Type mismatch: '||joanna|| = Joanna'/e and '||[isV [a [[[gray cat] [inP texas]] [fond [of joe]]]]]|| = (\u03bb x). (((Gray(x) & Cat(x)) & In(x, Texas)) & Fond(x, Joe))'/<e,t> conflict (mode: Predicate Modification), ||[[isV [a [[[gray cat] [inP texas]] [fond [of joe]]]]] joanna]|| = Type mismatch: '||[isV [a [[[gray cat] [inP texas]] [fond [of joe]]]]]|| = (\u03bb x). (((Gray(x) & Cat(x)) & In(x, Texas)) & Fond(x, Joe))'/<e,t> and '||joanna|| = Joanna'/e conflict (mode: Predicate Modification), ||[joanna [isV [a [[[gray cat] [inP texas]] [fond [of joe]]]]]]|| = Type mismatch: '||joanna|| = Joanna'/e and '||[isV [a [[[gray cat] [inP texas]] [fond [of joe]]]]]|| = (\u03bb x). (((Gray(x) & Cat(x)) & In(x, Texas)) & Fond(x, Joe))'/<e,t> conflict (mode: Predicate Abstraction), ||[[isV [a [[[gray cat] [inP texas]] [fond [of joe]]]]] joanna]|| = Type mismatch: '||[isV [a [[[gray cat] [inP texas]] [fond [of joe]]]]]|| = (\u03bb x). (((Gray(x) & Cat(x)) & In(x, Texas)) & Fond(x, Joe))'/<e,t> and '||joanna|| = Joanna'/e conflict (mode: Predicate Abstraction), ||[joanna [isV [a [[fond [of joe]] [[gray cat] [inP texas]]]]]]|| = Type mismatch: '||joanna|| = Joanna'/e and '||[isV [a [[fond [of joe]] [[gray cat] [inP texas]]]]]|| = (\u03bb x). (Fond(x, Joe) & ((Gray(x) & Cat(x)) & In(x, Texas)))'/<e,t> conflict (mode: Function Application), ||[joanna [isV [a [[fond [of joe]] [[gray cat] [inP texas]]]]]]|| = Type mismatch: '||joanna|| = Joanna'/e and '||[isV [a [[fond [of joe]] [[gray cat] [inP texas]]]]]|| = (\u03bb x). (Fond(x, Joe) & ((Gray(x) & Cat(x)) & In(x, Texas)))'/<e,t> conflict (mode: Predicate Modification), ||[[isV [a [[fond [of joe]] [[gray cat] [inP texas]]]]] joanna]|| = Type mismatch: '||[isV [a [[fond [of joe]] [[gray cat] [inP texas]]]]]|| = (\u03bb x). (Fond(x, Joe) & ((Gray(x) & Cat(x)) & In(x, Texas)))'/<e,t> and '||joanna|| = Joanna'/e conflict (mode: Predicate Modification), ||[joanna [isV [a [[fond [of joe]] [[gray cat] [inP texas]]]]]]|| = Type mismatch: '||joanna|| = Joanna'/e and '||[isV [a [[fond [of joe]] [[gray cat] [inP texas]]]]]|| = (\u03bb x). (Fond(x, Joe) & ((Gray(x) & Cat(x)) & In(x, Texas)))'/<e,t> conflict (mode: Predicate Abstraction), ||[[isV [a [[fond [of joe]] [[gray cat] [inP texas]]]]] joanna]|| = Type mismatch: '||[isV [a [[fond [of joe]] [[gray cat] [inP texas]]]]]|| = (\u03bb x). (Fond(x, Joe) & ((Gray(x) & Cat(x)) & In(x, Texas)))'/<e,t> and '||joanna|| = Joanna'/e conflict (mode: Predicate Abstraction), ||[joanna [isV [a [[[inP texas] [gray cat]] [fond [of joe]]]]]]|| = Type mismatch: '||joanna|| = Joanna'/e and '||[isV [a [[[inP texas] [gray cat]] [fond [of joe]]]]]|| = (\u03bb x). ((In(x, Texas) & (Gray(x) & Cat(x))) & Fond(x, Joe))'/<e,t> conflict (mode: Function Application), ||[joanna [isV [a [[[inP texas] [gray cat]] [fond [of joe]]]]]]|| = Type mismatch: '||joanna|| = Joanna'/e and '||[isV [a [[[inP texas] [gray cat]] [fond [of joe]]]]]|| = (\u03bb x). ((In(x, Texas) & (Gray(x) & Cat(x))) & Fond(x, Joe))'/<e,t> conflict (mode: Predicate Modification), ||[[isV [a [[[inP texas] [gray cat]] [fond [of joe]]]]] joanna]|| = Type mismatch: '||[isV [a [[[inP texas] [gray cat]] [fond [of joe]]]]]|| = (\u03bb x). ((In(x, Texas) & (Gray(x) & Cat(x))) & Fond(x, Joe))'/<e,t> and '||joanna|| = Joanna'/e conflict (mode: Predicate Modification), ||[joanna [isV [a [[[inP texas] [gray cat]] [fond [of joe]]]]]]|| = Type mismatch: '||joanna|| = Joanna'/e and '||[isV [a [[[inP texas] [gray cat]] [fond [of joe]]]]]|| = (\u03bb x). ((In(x, Texas) & (Gray(x) & Cat(x))) & Fond(x, Joe))'/<e,t> conflict (mode: Predicate Abstraction), ||[[isV [a [[[inP texas] [gray cat]] [fond [of joe]]]]] joanna]|| = Type mismatch: '||[isV [a [[[inP texas] [gray cat]] [fond [of joe]]]]]|| = (\u03bb x). ((In(x, Texas) & (Gray(x) & Cat(x))) & Fond(x, Joe))'/<e,t> and '||joanna|| = Joanna'/e conflict (mode: Predicate Abstraction), ||[joanna [isV [a [[fond [of joe]] [[inP texas] [gray cat]]]]]]|| = Type mismatch: '||joanna|| = Joanna'/e and '||[isV [a [[fond [of joe]] [[inP texas] [gray cat]]]]]|| = (\u03bb x). (Fond(x, Joe) & (In(x, Texas) & (Gray(x) & Cat(x))))'/<e,t> conflict (mode: Function Application), ||[joanna [isV [a [[fond [of joe]] [[inP texas] [gray cat]]]]]]|| = Type mismatch: '||joanna|| = Joanna'/e and '||[isV [a [[fond [of joe]] [[inP texas] [gray cat]]]]]|| = (\u03bb x). (Fond(x, Joe) & (In(x, Texas) & (Gray(x) & Cat(x))))'/<e,t> conflict (mode: Predicate Modification), ||[[isV [a [[fond [of joe]] [[inP texas] [gray cat]]]]] joanna]|| = Type mismatch: '||[isV [a [[fond [of joe]] [[inP texas] [gray cat]]]]]|| = (\u03bb x). (Fond(x, Joe) & (In(x, Texas) & (Gray(x) & Cat(x))))'/<e,t> and '||joanna|| = Joanna'/e conflict (mode: Predicate Modification), ||[joanna [isV [a [[fond [of joe]] [[inP texas] [gray cat]]]]]]|| = Type mismatch: '||joanna|| = Joanna'/e and '||[isV [a [[fond [of joe]] [[inP texas] [gray cat]]]]]|| = (\u03bb x). (Fond(x, Joe) & (In(x, Texas) & (Gray(x) & Cat(x))))'/<e,t> conflict (mode: Predicate Abstraction), ||[[isV [a [[fond [of joe]] [[inP texas] [gray cat]]]]] joanna]|| = Type mismatch: '||[isV [a [[fond [of joe]] [[inP texas] [gray cat]]]]]|| = (\u03bb x). (Fond(x, Joe) & (In(x, Texas) & (Gray(x) & Cat(x))))'/<e,t> and '||joanna|| = Joanna'/e conflict (mode: Predicate Abstraction), ||[joanna [isV [a [[[cat gray] [inP texas]] [fond [of joe]]]]]]|| = Type mismatch: '||joanna|| = Joanna'/e and '||[isV [a [[[cat gray] [inP texas]] [fond [of joe]]]]]|| = (\u03bb x). (((Cat(x) & Gray(x)) & In(x, Texas)) & Fond(x, Joe))'/<e,t> conflict (mode: Function Application), ||[joanna [isV [a [[[cat gray] [inP texas]] [fond [of joe]]]]]]|| = Type mismatch: '||joanna|| = Joanna'/e and '||[isV [a [[[cat gray] [inP texas]] [fond [of joe]]]]]|| = (\u03bb x). (((Cat(x) & Gray(x)) & In(x, Texas)) & Fond(x, Joe))'/<e,t> conflict (mode: Predicate Modification), ||[[isV [a [[[cat gray] [inP texas]] [fond [of joe]]]]] joanna]|| = Type mismatch: '||[isV [a [[[cat gray] [inP texas]] [fond [of joe]]]]]|| = (\u03bb x). (((Cat(x) & Gray(x)) & In(x, Texas)) & Fond(x, Joe))'/<e,t> and '||joanna|| = Joanna'/e conflict (mode: Predicate Modification), ||[joanna [isV [a [[[cat gray] [inP texas]] [fond [of joe]]]]]]|| = Type mismatch: '||joanna|| = Joanna'/e and '||[isV [a [[[cat gray] [inP texas]] [fond [of joe]]]]]|| = (\u03bb x). (((Cat(x) & Gray(x)) & In(x, Texas)) & Fond(x, Joe))'/<e,t> conflict (mode: Predicate Abstraction), ||[[isV [a [[[cat gray] [inP texas]] [fond [of joe]]]]] joanna]|| = Type mismatch: '||[isV [a [[[cat gray] [inP texas]] [fond [of joe]]]]]|| = (\u03bb x). (((Cat(x) & Gray(x)) & In(x, Texas)) & Fond(x, Joe))'/<e,t> and '||joanna|| = Joanna'/e conflict (mode: Predicate Abstraction), ||[joanna [isV [a [[fond [of joe]] [[cat gray] [inP texas]]]]]]|| = Type mismatch: '||joanna|| = Joanna'/e and '||[isV [a [[fond [of joe]] [[cat gray] [inP texas]]]]]|| = (\u03bb x). (Fond(x, Joe) & ((Cat(x) & Gray(x)) & In(x, Texas)))'/<e,t> conflict (mode: Function Application), ||[joanna [isV [a [[fond [of joe]] [[cat gray] [inP texas]]]]]]|| = Type mismatch: '||joanna|| = Joanna'/e and '||[isV [a [[fond [of joe]] [[cat gray] [inP texas]]]]]|| = (\u03bb x). (Fond(x, Joe) & ((Cat(x) & Gray(x)) & In(x, Texas)))'/<e,t> conflict (mode: Predicate Modification), ||[[isV [a [[fond [of joe]] [[cat gray] [inP texas]]]]] joanna]|| = Type mismatch: '||[isV [a [[fond [of joe]] [[cat gray] [inP texas]]]]]|| = (\u03bb x). (Fond(x, Joe) & ((Cat(x) & Gray(x)) & In(x, Texas)))'/<e,t> and '||joanna|| = Joanna'/e conflict (mode: Predicate Modification), ||[joanna [isV [a [[fond [of joe]] [[cat gray] [inP texas]]]]]]|| = Type mismatch: '||joanna|| = Joanna'/e and '||[isV [a [[fond [of joe]] [[cat gray] [inP texas]]]]]|| = (\u03bb x). (Fond(x, Joe) & ((Cat(x) & Gray(x)) & In(x, Texas)))'/<e,t> conflict (mode: Predicate Abstraction), ||[[isV [a [[fond [of joe]] [[cat gray] [inP texas]]]]] joanna]|| = Type mismatch: '||[isV [a [[fond [of joe]] [[cat gray] [inP texas]]]]]|| = (\u03bb x). (Fond(x, Joe) & ((Cat(x) & Gray(x)) & In(x, Texas)))'/<e,t> and '||joanna|| = Joanna'/e conflict (mode: Predicate Abstraction), ||[joanna [isV [a [[[inP texas] [cat gray]] [fond [of joe]]]]]]|| = Type mismatch: '||joanna|| = Joanna'/e and '||[isV [a [[[inP texas] [cat gray]] [fond [of joe]]]]]|| = (\u03bb x). ((In(x, Texas) & (Cat(x) & Gray(x))) & Fond(x, Joe))'/<e,t> conflict (mode: Function Application), ||[joanna [isV [a [[[inP texas] [cat gray]] [fond [of joe]]]]]]|| = Type mismatch: '||joanna|| = Joanna'/e and '||[isV [a [[[inP texas] [cat gray]] [fond [of joe]]]]]|| = (\u03bb x). ((In(x, Texas) & (Cat(x) & Gray(x))) & Fond(x, Joe))'/<e,t> conflict (mode: Predicate Modification), ||[[isV [a [[[inP texas] [cat gray]] [fond [of joe]]]]] joanna]|| = Type mismatch: '||[isV [a [[[inP texas] [cat gray]] [fond [of joe]]]]]|| = (\u03bb x). ((In(x, Texas) & (Cat(x) & Gray(x))) & Fond(x, Joe))'/<e,t> and '||joanna|| = Joanna'/e conflict (mode: Predicate Modification), ||[joanna [isV [a [[[inP texas] [cat gray]] [fond [of joe]]]]]]|| = Type mismatch: '||joanna|| = Joanna'/e and '||[isV [a [[[inP texas] [cat gray]] [fond [of joe]]]]]|| = (\u03bb x). ((In(x, Texas) & (Cat(x) & Gray(x))) & Fond(x, Joe))'/<e,t> conflict (mode: Predicate Abstraction), ||[[isV [a [[[inP texas] [cat gray]] [fond [of joe]]]]] joanna]|| = Type mismatch: '||[isV [a [[[inP texas] [cat gray]] [fond [of joe]]]]]|| = (\u03bb x). ((In(x, Texas) & (Cat(x) & Gray(x))) & Fond(x, Joe))'/<e,t> and '||joanna|| = Joanna'/e conflict (mode: Predicate Abstraction), ||[joanna [isV [a [[fond [of joe]] [[inP texas] [cat gray]]]]]]|| = Type mismatch: '||joanna|| = Joanna'/e and '||[isV [a [[fond [of joe]] [[inP texas] [cat gray]]]]]|| = (\u03bb x). (Fond(x, Joe) & (In(x, Texas) & (Cat(x) & Gray(x))))'/<e,t> conflict (mode: Function Application), ||[joanna [isV [a [[fond [of joe]] [[inP texas] [cat gray]]]]]]|| = Type mismatch: '||joanna|| = Joanna'/e and '||[isV [a [[fond [of joe]] [[inP texas] [cat gray]]]]]|| = (\u03bb x). (Fond(x, Joe) & (In(x, Texas) & (Cat(x) & Gray(x))))'/<e,t> conflict (mode: Predicate Modification), ||[[isV [a [[fond [of joe]] [[inP texas] [cat gray]]]]] joanna]|| = Type mismatch: '||[isV [a [[fond [of joe]] [[inP texas] [cat gray]]]]]|| = (\u03bb x). (Fond(x, Joe) & (In(x, Texas) & (Cat(x) & Gray(x))))'/<e,t> and '||joanna|| = Joanna'/e conflict (mode: Predicate Modification), ||[joanna [isV [a [[fond [of joe]] [[inP texas] [cat gray]]]]]]|| = Type mismatch: '||joanna|| = Joanna'/e and '||[isV [a [[fond [of joe]] [[inP texas] [cat gray]]]]]|| = (\u03bb x). (Fond(x, Joe) & (In(x, Texas) & (Cat(x) & Gray(x))))'/<e,t> conflict (mode: Predicate Abstraction), ||[[isV [a [[fond [of joe]] [[inP texas] [cat gray]]]]] joanna]|| = Type mismatch: '||[isV [a [[fond [of joe]] [[inP texas] [cat gray]]]]]|| = (\u03bb x). (Fond(x, Joe) & (In(x, Texas) & (Cat(x) & Gray(x))))'/<e,t> and '||joanna|| = Joanna'/e conflict (mode: Predicate Abstraction)])"
       ]
      }
     ],
     "prompt_number": 250
    },
    {
     "cell_type": "code",
     "collapsed": false,
     "input": [
      "# show all the steps of each composition.  PM is currently implemented using function application underlyingly.\n",
      "r[0].latex_step_tree(derivations=True)"
     ],
     "language": "python",
     "metadata": {},
     "outputs": []
    },
    {
     "cell_type": "code",
     "collapsed": false,
     "input": [
      "x = (a * gray)[0]\n",
      "y =  (a * gray)[0]\n",
      "(a.content(gray.content)).reduce()\n",
      "#a.content.derivation"
     ],
     "language": "python",
     "metadata": {},
     "outputs": []
    },
    {
     "cell_type": "code",
     "collapsed": false,
     "input": [
      "gray.content.derivation"
     ],
     "language": "python",
     "metadata": {},
     "outputs": []
    },
    {
     "cell_type": "code",
     "collapsed": false,
     "input": [
      "x = lang.te(\"L f_<e,t> : f\")\n",
      "y = lang.te(\"L x_e : Test(x)\")"
     ],
     "language": "python",
     "metadata": {},
     "outputs": []
    },
    {
     "cell_type": "code",
     "collapsed": false,
     "input": [
      "(x(y))"
     ],
     "language": "python",
     "metadata": {},
     "outputs": []
    },
    {
     "cell_type": "code",
     "collapsed": false,
     "input": [],
     "language": "python",
     "metadata": {},
     "outputs": []
    },
    {
     "cell_type": "code",
     "collapsed": false,
     "input": [
      "z = (x(y)).reduce()\n",
      "z.derivation"
     ],
     "language": "python",
     "metadata": {},
     "outputs": []
    },
    {
     "cell_type": "code",
     "collapsed": false,
     "input": [
      "z.derivation = None\n",
      "y.derivation"
     ],
     "language": "python",
     "metadata": {},
     "outputs": []
    },
    {
     "cell_type": "code",
     "collapsed": false,
     "input": [
      "z = x.apply(y)"
     ],
     "language": "python",
     "metadata": {},
     "outputs": []
    },
    {
     "cell_type": "code",
     "collapsed": false,
     "input": [
      "z.test = \"Asdf\""
     ],
     "language": "python",
     "metadata": {},
     "outputs": []
    },
    {
     "cell_type": "code",
     "collapsed": false,
     "input": [
      "y.test"
     ],
     "language": "python",
     "metadata": {},
     "outputs": []
    },
    {
     "cell_type": "code",
     "collapsed": false,
     "input": [
      "reload_all()\n",
      "lang.set_system(lang.hk3_system)"
     ],
     "language": "python",
     "metadata": {},
     "outputs": [
      {
       "output_type": "stream",
       "stream": "stdout",
       "text": [
        "warning: coerced guessed type t for 'Cat' into <e,t>, to match argument 'x'\n",
        "warning: coerced guessed type t for 'Gray' into <e,t>, to match argument 'x'\n",
        "warning: coerced guessed type t for 'In' into <e,t>, to match argument 'y'\n",
        "warning: coerced guessed type t for 'In(y)' into <e,t>, to match argument 'x'\n"
       ]
      }
     ],
     "prompt_number": 3
    },
    {
     "cell_type": "code",
     "collapsed": false,
     "input": [
      "%%lamb reset\n",
      "||gray|| = L x_e : Gray_<e,t>(x)\n",
      "||cat|| = L x_e : Cat_<e,t>(x)"
     ],
     "language": "python",
     "metadata": {},
     "outputs": [
      {
       "latex": [
        "$|\\!|\\mathbf{\\text{gray}}|\\!|^{}_{\\langle{}e,t\\rangle{}} \\:=\\: \\lambda{} x_{e} \\: . \\: {Gray}({x}_{e})$<br />\n",
        "$|\\!|\\mathbf{\\text{cat}}|\\!|^{}_{\\langle{}e,t\\rangle{}} \\:=\\: \\lambda{} x_{e} \\: . \\: {Cat}({x}_{e})$"
       ],
       "metadata": {},
       "output_type": "pyout",
       "prompt_number": 4,
       "text": [
        "$|\\!|\\mathbf{\\text{gray}}|\\!|^{}_{\\langle{}e,t\\rangle{}} \\:=\\: \\lambda{} x_{e} \\: . \\: {Gray}({x}_{e})$<br />\n",
        "$|\\!|\\mathbf{\\text{cat}}|\\!|^{}_{\\langle{}e,t\\rangle{}} \\:=\\: \\lambda{} x_{e} \\: . \\: {Cat}({x}_{e})$"
       ]
      }
     ],
     "prompt_number": 4
    },
    {
     "cell_type": "code",
     "collapsed": false,
     "input": [
      "t = Tree(\"NP\", [\"gray\", \"cat\"])\n",
      "r = lang.hk3_system.compose(t)\n",
      "#lang.hk3_system.expand_next(r)\n",
      "#lang.hk3_system.expand_all(r)\n",
      "r.latex_step_tree()"
     ],
     "language": "python",
     "metadata": {},
     "outputs": []
    },
    {
     "cell_type": "code",
     "collapsed": false,
     "input": [
      "lang.hk3_system.expand_next(r)\n",
      "r.latex_step_tree()"
     ],
     "language": "python",
     "metadata": {},
     "outputs": []
    },
    {
     "cell_type": "code",
     "collapsed": false,
     "input": [
      "lang.hk3_system.expand_next(r)\n",
      "r.latex_step_tree()"
     ],
     "language": "python",
     "metadata": {},
     "outputs": []
    },
    {
     "cell_type": "code",
     "collapsed": false,
     "input": [],
     "language": "python",
     "metadata": {},
     "outputs": []
    }
   ],
   "metadata": {}
  }
 ]
}